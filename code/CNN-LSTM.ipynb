{
 "cells": [
  {
   "cell_type": "code",
   "execution_count": 1,
   "id": "19bc6f70-92a8-48ce-a43c-c50ef323401e",
   "metadata": {},
   "outputs": [
    {
     "name": "stdout",
     "output_type": "stream",
     "text": [
      "Number of logical CPU cores: 16\n",
      "Number of workers set to: 8\n",
      "GPU available: True\n"
     ]
    },
    {
     "data": {
      "text/plain": [
       "<torch.autograd.anomaly_mode.set_detect_anomaly at 0x1c447e24d70>"
      ]
     },
     "execution_count": 1,
     "metadata": {},
     "output_type": "execute_result"
    }
   ],
   "source": [
    "import os\n",
    "import numpy as np\n",
    "import pandas as pd\n",
    "\n",
    "import torch\n",
    "import torch.nn as nn\n",
    "import torch.optim as optim\n",
    "import torch.nn.functional as F\n",
    "from torch.utils.data import DataLoader, TensorDataset\n",
    "from torch.nn import TransformerEncoder, TransformerEncoderLayer\n",
    "import optuna\n",
    "from sklearn.model_selection import train_test_split\n",
    "from sklearn.metrics import accuracy_score, root_mean_squared_error\n",
    "\n",
    "import json\n",
    "\n",
    "logical_cores = os.cpu_count()\n",
    "print(f\"Number of logical CPU cores: {logical_cores}\")\n",
    "\n",
    "num_workers = max(1, logical_cores // 2)\n",
    "print(f\"Number of workers set to: {num_workers}\")\n",
    "\n",
    "def is_gpu_available():\n",
    "    try:\n",
    "        return torch.cuda.is_available()\n",
    "    except ImportError:\n",
    "        return False\n",
    "\n",
    "gpu_available = is_gpu_available()\n",
    "print(f\"GPU available: {gpu_available}\")\n",
    "\n",
    "torch.autograd.set_detect_anomaly(True)"
   ]
  },
  {
   "cell_type": "code",
   "execution_count": 2,
   "id": "a2fddba8-475e-4ee4-94f2-e23eb2c04840",
   "metadata": {},
   "outputs": [],
   "source": [
    "os.makedirs('../models/hyperparameters-search-models/pytorch/conv1d-classification/', exist_ok=True)\n",
    "os.makedirs('../models/hyperparameters-search-models/pytorch/conv1d-regression/', exist_ok=True)\n",
    "os.makedirs('../models/hyperparameters-search-models/pytorch/lstm-classification/', exist_ok=True)\n",
    "os.makedirs('../models/hyperparameters-search-models/pytorch/lstm-regression/', exist_ok=True)\n",
    "os.makedirs('../models/hyperparameters-search-models/pytorch/transformer-classification/', exist_ok=True)\n",
    "os.makedirs('../models/hyperparameters-search-models/pytorch/transformer-regression/', exist_ok=True)\n",
    "\n",
    "os.makedirs('../models/best-hyperparameters/pytorch/conv1d-classification/', exist_ok=True)\n",
    "os.makedirs('../models/best-hyperparameters/pytorch/conv1d-regression/', exist_ok=True)\n",
    "os.makedirs('../models/best-hyperparameters/pytorch/lstm-classification/', exist_ok=True)\n",
    "os.makedirs('../models/best-hyperparameters/pytorch/lstm-regression/', exist_ok=True)\n",
    "os.makedirs('../models/best-hyperparameters/pytorch/transformer-classification/', exist_ok=True)\n",
    "os.makedirs('../models/best-hyperparameters/pytorch/transformer-regression/', exist_ok=True)\n",
    "\n",
    "os.makedirs('../models/trained-models/pytorch/conv1d-classification/', exist_ok=True)\n",
    "os.makedirs('../models/trained-models/pytorch/conv1d-regression/', exist_ok=True)\n",
    "os.makedirs('../models/trained-models/pytorch/lstm-classification/', exist_ok=True)\n",
    "os.makedirs('../models/trained-models/pytorch/lstm-regression/', exist_ok=True)\n",
    "os.makedirs('../models/trained-models/pytorch/transformer-classification/', exist_ok=True)\n",
    "os.makedirs('../models/trained-models/pytorch/transformer-regression/', exist_ok=True)\n",
    "\n",
    "path = '../data/train'\n",
    "ticker_list = []\n",
    "\n",
    "if os.path.exists(path):\n",
    "    ticker_list = [os.path.splitext(f)[0] for f in os.listdir(path) if f.endswith('.csv')]\n"
   ]
  },
  {
   "cell_type": "code",
   "execution_count": 3,
   "id": "a027b6b3-0729-4ec4-ba7b-5a847eed7984",
   "metadata": {},
   "outputs": [],
   "source": [
    "def load_or_create_ticker_df(csv_file_path):\n",
    "    \"\"\"\n",
    "    Load the existing ticker DataFrame from a CSV file if it exists,\n",
    "    otherwise create a new DataFrame with predefined column types.\n",
    "    Ensure the DataFrame has the specified columns, add any missing columns,\n",
    "    and rearrange the columns in alphabetical order, excluding 'Ticker_Symbol'.\n",
    "\n",
    "    Args:\n",
    "    csv_file_path (str): The path to the CSV file.\n",
    "\n",
    "    Returns:\n",
    "    pd.DataFrame: The loaded or newly created DataFrame.\n",
    "    \"\"\"\n",
    "    # Define the column types\n",
    "    column_types = {\n",
    "        \"Ticker_Symbol\": str,\n",
    "        \"Best_Cov1D_Classification_Accuracy\": float,\n",
    "        \"Best_Cov1D_Classification_Path\": str,\n",
    "        \"Best_Cov1D_Regression_RMSE\": float,\n",
    "        \"Best_Cov1D_Regression_Path\": str,\n",
    "        \"Best_LSTM_Classification_Accuracy\": float,\n",
    "        \"Best_LSTM_Classification_Path\": str,\n",
    "        \"Best_LSTM_Regression_RMSE\": float,\n",
    "        \"Best_LSTM_Regression_Path\": str,\n",
    "        \"Best_Transformer_Classification_Accuracy\": float,\n",
    "        \"Best_Transformer_Classification_Path\": str,\n",
    "        \"Best_Transformer_Regression_RMSE\": float,\n",
    "        \"Best_Transformer_Regression_Path\": str,\n",
    "        \"Best_XGBClassifier_Classification_Accuracy\": float,\n",
    "        \"Best_XGBClassifier_Classification_Path\": str,\n",
    "        \"Best_XGBRegressor_Regression_RMSE\": float,\n",
    "        \"Best_XGBRegressor_Regression_Path\": str\n",
    "    }\n",
    "\n",
    "\n",
    "    if os.path.isfile(csv_file_path):\n",
    "        # Load the existing file into a DataFrame\n",
    "        ticker_df = pd.read_csv(csv_file_path)\n",
    "        \n",
    "        # Ensure all specified columns are present\n",
    "        for column, dtype in column_types.items():\n",
    "            if column not in ticker_df.columns:\n",
    "                ticker_df[column] = pd.Series(dtype=dtype)\n",
    "        \n",
    "    else:\n",
    "        # Create a new DataFrame with the specified column types\n",
    "        ticker_df = pd.DataFrame(columns=column_types.keys()).astype(column_types)\n",
    "    \n",
    "    return ticker_df"
   ]
  },
  {
   "cell_type": "code",
   "execution_count": 4,
   "id": "c3447de8-fd34-4980-9370-37ceb29a13fa",
   "metadata": {},
   "outputs": [],
   "source": [
    "def delete_hyperparameter_search_model(ticker_symbol, model_type):\n",
    "    csv_path = '../models/hyperparameters-search-models/ticker-all-models-best-hyperparameters-list.csv'\n",
    "    conv1d_classification_model_path = f'../models/hyperparameters-search-models/pytorch/{model_type}/{ticker_symbol}.pth'\n",
    "    conv1d_regression_model_path = f'../models/hyperparameters-search-models/pytorch/{model_type}/{ticker_symbol}.pth'\n",
    "    lstm_classification_model_path = f'../models/hyperparameters-search-models/pytorch/{model_type}/{ticker_symbol}.pth'\n",
    "    lstm_regression_model_path = f'../models/hyperparameters-search-models/pytorch/{model_type}/{ticker_symbol}.pth'\n",
    "    \n",
    "    conv1d_classification_params_path = f'../models/best-hyperparameters/pytorch/{model_type}/{ticker_symbol}.json'\n",
    "    conv1d_regression_params_path = f'../models/best-hyperparameters/pytorch/{model_type}/{ticker_symbol}.json'\n",
    "    lstm_classification_params_path = f'../models/best-hyperparameters/pytorch/{model_type}/{ticker_symbol}.json'\n",
    "    lstm_regression_params_path = f'../models/best-hyperparameters/pytorch/{model_type}/{ticker_symbol}.json'\n",
    "\n",
    "    if model_type == \"conv1d-classification\":\n",
    "        if os.path.isfile(conv1d_classification_model_path):\n",
    "            os.remove(conv1d_classification_model_path)\n",
    "            print(f\"Deleted {conv1d_classification_model_path}\")\n",
    "        if os.path.isfile(conv1d_classification_params_path):\n",
    "            os.remove(conv1d_classification_params_path)\n",
    "            print(f\"Deleted {conv1d_classification_params_path}\")\n",
    "    \n",
    "    if model_type == \"conv1d-regression\":\n",
    "        if os.path.isfile(conv1d_regression_model_path):\n",
    "            os.remove(conv1d_regression_model_path)\n",
    "            print(f\"Deleted {conv1d_regression_model_path}\")\n",
    "        if os.path.isfile(conv1d_regression_params_path):\n",
    "            os.remove(conv1d_regression_params_path)\n",
    "            print(f\"Deleted {conv1d_regression_params_path}\")\n",
    "\n",
    "    if model_type == \"lstm-classification\":\n",
    "        if os.path.isfile(lstm_classification_model_path):\n",
    "            os.remove(lstm_classification_model_path)\n",
    "            print(f\"Deleted {lstm_classification_model_path}\")\n",
    "        if os.path.isfile(lstm_classification_params_path):\n",
    "            os.remove(lstm_classification_params_path)\n",
    "            print(f\"Deleted {lstm_classification_params_path}\")\n",
    "    \n",
    "    if model_type == \"lstm-regression\":\n",
    "        if os.path.isfile(lstm_regression_model_path):\n",
    "            os.remove(lstm_regression_model_path)\n",
    "            print(f\"Deleted {lstm_regression_model_path}\")\n",
    "        if os.path.isfile(lstm_regression_params_path):\n",
    "            os.remove(lstm_regression_params_path)\n",
    "            print(f\"Deleted {lstm_regression_params_path}\")\n",
    "\n",
    "    if os.path.isfile(csv_path):\n",
    "        ticker_df = pd.read_csv(csv_path)\n",
    "        if ticker_symbol in ticker_df['Ticker_Symbol'].values:\n",
    "            if model_type == \"conv1d-classification\":\n",
    "                ticker_df.loc[ticker_df['Ticker_Symbol'] == ticker_symbol, ['Best_Cov1D_Classification_Accuracy', 'Best_Cov1D_Classification_Path']] = [pd.NA, pd.NA]\n",
    "            if model_type == \"conv1d-regression\":\n",
    "                ticker_df.loc[ticker_df['Ticker_Symbol'] == ticker_symbol, ['Best_Cov1D_Regression_RMSE', 'Best_Cov1D_Regression_Path']] = [pd.NA, pd.NA]\n",
    "            if model_type == \"lstm-classification\":\n",
    "                ticker_df.loc[ticker_df['Ticker_Symbol'] == ticker_symbol, ['Best_LSTM_Classification_Accuracy', 'Best_LSTM_Classification_Path']] = [pd.NA, pd.NA]\n",
    "            if model_type == \"lstm-regression\":\n",
    "                ticker_df.loc[ticker_df['Ticker_Symbol'] == ticker_symbol, ['Best_LSTM_Regression_RMSE', 'Best_LSTM_Regression_Path']] = [pd.NA, pd.NA]\n",
    "                \n",
    "            ticker_df.to_csv(csv_path, index=False)\n",
    "            print(f\"Deleted {ticker_symbol} from {csv_path}\")\n",
    "        else:\n",
    "            print(f\"{ticker_symbol} not found in {csv_path}\")\n",
    "    else:\n",
    "        print(f\"{csv_path} does not exist\")\n"
   ]
  },
  {
   "cell_type": "code",
   "execution_count": 5,
   "id": "50ea84ad-a104-4fc3-8226-cc50191547b8",
   "metadata": {},
   "outputs": [],
   "source": [
    "def training_preprocess_data(df):\n",
    "    #if df.isna().sum().sum() > 0 or df.isin([float('inf'), float('-inf')]).sum().sum() > 0:\n",
    "     #   df = df.replace([float('inf'), float('-inf')], float('nan')).dropna()\n",
    "\n",
    "    df.drop(df.index[:88], inplace=True)\n",
    "\n",
    "    # Create target variables before dropping columns\n",
    "    y_classifier = (np.sign(df['DAILY_MIDPRICE_CHANGE']) >= 0).astype(int)\n",
    "    y_regressor = df['DAILY_MIDPRICE_CHANGE']\n",
    "\n",
    "    # Drop columns from index 7 to 72\n",
    "    #df = df.drop(df.columns[73:93], axis=1)\n",
    "    #df = df.drop(df.columns[7:73], axis=1)\n",
    "\n",
    "    # Drop specific columns\n",
    "    columns_to_drop = [\n",
    "        'NEXT_DAY_CLOSEPRICE', 'DAILY_CLOSEPRICE_CHANGE', 'DAILY_CLOSEPRICE_CHANGE_PERCENT', 'DAILY_CLOSEPRICE_DIRECTION',\n",
    "        'DAILY_MIDPRICE', 'NEXT_DAY_MIDPRICE', 'DAILY_MIDPRICE_CHANGE', 'DAILY_MIDPRICE_CHANGE_PERCENT', 'DAILY_MIDPRICE_DIRECTION', \n",
    "        'Date', \n",
    "    ]\n",
    "    df = df.drop(columns=columns_to_drop)\n",
    "\n",
    "    X = df\n",
    "\n",
    "    return X, y_classifier, y_regressor"
   ]
  },
  {
   "cell_type": "code",
   "execution_count": 6,
   "id": "def88067-ef68-4213-bcde-cc93c12a32e5",
   "metadata": {},
   "outputs": [],
   "source": [
    "class Conv1ResidualBlock(nn.Module):\n",
    "    def __init__(self, in_channels, out_channels, kernel_size, l2_lambda=0.01, dropout_rate=0.5):\n",
    "        super(Conv1ResidualBlock, self).__init__()\n",
    "        \n",
    "        self.conv1 = nn.Conv1d(in_channels, out_channels, kernel_size, stride=1, padding='same')\n",
    "        self.bn1 = nn.BatchNorm1d(out_channels)\n",
    "        self.conv2 = nn.Conv1d(out_channels, out_channels, kernel_size, stride=1, padding='same')\n",
    "        self.bn2 = nn.BatchNorm1d(out_channels)\n",
    "        self.relu = nn.ReLU(inplace=False)  # Ensure no in-place operation\n",
    "        self.dropout = nn.Dropout(dropout_rate)\n",
    "        \n",
    "        nn.init.kaiming_normal_(self.conv1.weight, nonlinearity='relu')\n",
    "        nn.init.kaiming_normal_(self.conv2.weight, nonlinearity='relu')\n",
    "        nn.init.zeros_(self.conv1.bias)\n",
    "        nn.init.zeros_(self.conv2.bias)\n",
    "        \n",
    "        self.l2_lambda = l2_lambda\n",
    "\n",
    "        if in_channels != out_channels:\n",
    "            self.residual_conv = nn.Conv1d(in_channels, out_channels, kernel_size=1, stride=1)\n",
    "        else:\n",
    "            self.residual_conv = nn.Identity()\n",
    "\n",
    "    def forward(self, x):\n",
    "        residual = self.residual_conv(x)\n",
    "        out = self.conv1(x)\n",
    "        out = self.bn1(out)\n",
    "        out = self.relu(out)\n",
    "        out = self.dropout(out)\n",
    "        out = self.conv2(out)\n",
    "        out = self.bn2(out)\n",
    "        out = out + residual  # Ensure no in-place operation\n",
    "        out = self.relu(out)\n",
    "        \n",
    "        return out\n",
    "\n",
    "class Conv1DModel(nn.Module):\n",
    "    def __init__(self, in_channels, out_channels, kernel_size, num_blocks=1, l2_lambda=0.01, dropout_rate=0.5, classification=True):\n",
    "        super(Conv1DModel, self).__init__()\n",
    "        self.blocks = nn.Sequential(\n",
    "            Conv1ResidualBlock(in_channels, out_channels, kernel_size, l2_lambda=l2_lambda, dropout_rate=dropout_rate),\n",
    "            *[Conv1ResidualBlock(out_channels, out_channels, kernel_size, l2_lambda=l2_lambda, dropout_rate=dropout_rate) for _ in range(num_blocks-1)]\n",
    "        )\n",
    "        self.global_avg_pool = nn.AdaptiveAvgPool1d(1)  # Global average pooling for 1D\n",
    "        self.fc = nn.Linear(out_channels, 2 if classification else 1)\n",
    "        self.classification = classification\n",
    "\n",
    "    def forward(self, x):\n",
    "        out = self.blocks(x)\n",
    "        out = self.global_avg_pool(out)\n",
    "        out = out.view(out.size(0), -1)  # Flatten the tensor\n",
    "        out = self.fc(out)\n",
    "        if self.classification:\n",
    "            out = F.log_softmax(out, dim=1)\n",
    "        return out"
   ]
  },
  {
   "cell_type": "code",
   "execution_count": 7,
   "id": "e7fe8550-9792-424a-9e62-c33145dea378",
   "metadata": {},
   "outputs": [],
   "source": [
    "def conv1d_classification_hyperparameters_search(X, y, gpu_available, ticker_symbol, delete_old_data = False):\n",
    "    if delete_old_data:\n",
    "        delete_hyperparameter_search_model(ticker_symbol, \"conv1d-classification\")\n",
    "\n",
    "    model_path = f'../models/hyperparameters-search-models/pytorch/conv1d-classification/{ticker_symbol}.pth'\n",
    "    csv_path = f'../models/hyperparameters-search-models/ticker-all-models-best-hyperparameters-list.csv'\n",
    "    params_path = f'../models/best-hyperparameters/pytorch/conv1d-classification/{ticker_symbol}.json'\n",
    "    \n",
    "    device = torch.device('cuda' if gpu_available and torch.cuda.is_available() else 'cpu')\n",
    "    \n",
    "    # Convert DataFrame to numpy array\n",
    "    X = X.to_numpy()\n",
    "    y = y.to_numpy()\n",
    "    \n",
    "    # Reshape X for Conv1D\n",
    "    NUM_CHANNELS = 1\n",
    "    X = X.reshape((X.shape[0], NUM_CHANNELS, -1))  # Reshape for Conv1D: (batch_size, num_channels, sequence_length)\n",
    "    \n",
    "    # Split data into training and validation sets\n",
    "    TEST_SIZE = 0.2\n",
    "    RANDOM_STATE = 42\n",
    "    X_train, X_val, y_train, y_val = train_test_split(X, y, test_size=TEST_SIZE, random_state=RANDOM_STATE)\n",
    "    \n",
    "    def conv1d_objective(trial):\n",
    "        in_channels = X_train.shape[1]\n",
    "        out_channels = trial.suggest_int('out_channels', 16, 128)\n",
    "        kernel_size = trial.suggest_int('kernel_size', 3, 7)\n",
    "        num_blocks = trial.suggest_int('num_blocks', 1, 10)\n",
    "        l2_lambda = trial.suggest_float('l2_lambda', 1e-5, 1e-2)\n",
    "        dropout_rate = trial.suggest_float('dropout_rate', 0.1, 0.5)\n",
    "        epochs = 1000\n",
    "        \n",
    "        model = Conv1DModel(in_channels, out_channels, kernel_size, num_blocks, l2_lambda, dropout_rate, classification=True).to(device)\n",
    "        optimizer = optim.Adam(model.parameters(), lr=trial.suggest_float('lr', 1e-5, 1e-2), weight_decay=l2_lambda)\n",
    "        criterion = nn.CrossEntropyLoss()\n",
    "        \n",
    "        patience = 10\n",
    "        best_val_accuracy = -np.inf\n",
    "        epochs_no_improve = 0\n",
    "\n",
    "        input_train = torch.tensor(X_train, dtype=torch.float32).to(device)\n",
    "        target_train = torch.tensor(y_train, dtype=torch.long).to(device)\n",
    "        \n",
    "        input_val = torch.tensor(X_val, dtype=torch.float32).to(device)\n",
    "        target_val = torch.tensor(y_val, dtype=torch.long).to(device)\n",
    "        \n",
    "        for epoch in range(epochs):\n",
    "            model.train()\n",
    "            optimizer.zero_grad()\n",
    "            output = model(input_train)\n",
    "            loss = criterion(output, target_train)\n",
    "            loss.backward()\n",
    "            optimizer.step()\n",
    "            \n",
    "            # Validation\n",
    "            model.eval()\n",
    "            with torch.no_grad():\n",
    "                val_output = model(input_val)\n",
    "                val_pred = val_output.argmax(dim=1)\n",
    "                val_accuracy = accuracy_score(target_val.cpu(), val_pred.cpu())\n",
    "                \n",
    "                if val_accuracy > best_val_accuracy:\n",
    "                    best_val_accuracy = val_accuracy\n",
    "                    epochs_no_improve = 0\n",
    "                else:\n",
    "                    epochs_no_improve += 1\n",
    "                \n",
    "                if epochs_no_improve >= patience:\n",
    "                    print(f\"Early stopping at epoch {epoch}\")\n",
    "                    break\n",
    "        \n",
    "        return best_val_accuracy  \n",
    "    \n",
    "    study = optuna.create_study(direction='maximize')\n",
    "    study.optimize(conv1d_objective, n_trials=100)\n",
    "    \n",
    "    best_model = Conv1DModel(X.shape[1], study.best_params['out_channels'], study.best_params['kernel_size'], study.best_params['num_blocks'], study.best_params['l2_lambda'], study.best_params['dropout_rate'], classification=True).to(device)\n",
    "\n",
    "    ticker_df = load_or_create_ticker_df(csv_path)\n",
    "    \n",
    "    # Update ticker_df and save the best model\n",
    "    metric_col = 'Best_Cov1D_Classification_Accuracy'\n",
    "    path_col = 'Best_Cov1D_Classification_Path'\n",
    "    \n",
    "    if ticker_symbol in ticker_df['Ticker_Symbol'].values:\n",
    "        current_score = ticker_df.loc[ticker_df['Ticker_Symbol'] == ticker_symbol, metric_col].values[0]\n",
    "        if pd.isnull(current_score) or study.best_value > current_score:\n",
    "            ticker_df.loc[ticker_df['Ticker_Symbol'] == ticker_symbol, [metric_col, path_col]] = [study.best_value, model_path]\n",
    "            torch.save(best_model.state_dict(), model_path)\n",
    "            with open(params_path, 'w') as f:\n",
    "                json.dump(study.best_params, f)\n",
    "            print(f\"parameters for {ticker_symbol} saved to {params_path}\")\n",
    "            ticker_df.to_csv(csv_path, index=False)\n",
    "            print(f\"Best model for {ticker_symbol} saved with accuracy: {study.best_value}\")\n",
    "        else:\n",
    "            print(f\"Previous model accuracy: {current_score} is better for {ticker_symbol} than accuracy: {study.best_value}\")\n",
    "    else:\n",
    "        new_row = pd.DataFrame({'Ticker_Symbol': [ticker_symbol], metric_col: [study.best_value], path_col: [model_path]})\n",
    "        ticker_df = pd.concat([ticker_df, new_row], ignore_index=True)\n",
    "        torch.save(best_model.state_dict(), model_path)\n",
    "        with open(params_path, 'w') as f:\n",
    "            json.dump(study.best_params, f)\n",
    "        print(f\"parameters for {ticker_symbol} saved to {params_path}\")\n",
    "        ticker_df.to_csv(csv_path, index=False)\n",
    "        print(f\"Best model for {ticker_symbol} saved with accuracy: {study.best_value}\")\n"
   ]
  },
  {
   "cell_type": "code",
   "execution_count": 8,
   "id": "d39830c3-534d-46dc-ad91-6ee2082177da",
   "metadata": {},
   "outputs": [],
   "source": [
    "def conv1d_regression_hyperparameters_search(X, y, gpu_available, ticker_symbol, delete_old_data = False):\n",
    "    if delete_old_data:\n",
    "        delete_hyperparameter_search_model(ticker_symbol, \"conv1d-regression\")\n",
    "\n",
    "    model_path = f'../models/hyperparameters-search-models/pytorch/conv1d-regression/{ticker_symbol}.pth'\n",
    "    csv_path = f'../models/hyperparameters-search-models/ticker-all-models-best-hyperparameters-list.csv'\n",
    "    params_path = f'../models/best-hyperparameters/pytorch/conv1d-regression/{ticker_symbol}.json'\n",
    "    \n",
    "    device = torch.device('cuda' if gpu_available and torch.cuda.is_available() else 'cpu')\n",
    "    \n",
    "    # Convert DataFrame to numpy array\n",
    "    X = X.to_numpy()\n",
    "    y = y.to_numpy().reshape(-1, 1)\n",
    "    \n",
    "    # Reshape X for Conv1D\n",
    "    NUM_CHANNELS = 1\n",
    "    X = X.reshape((X.shape[0], NUM_CHANNELS, -1))  # Reshape for Conv1D: (batch_size, num_channels, sequence_length)\n",
    "    \n",
    "    # Split data into training and validation sets\n",
    "    TEST_SIZE = 0.2\n",
    "    RANDOM_STATE = 42\n",
    "    X_train, X_val, y_train, y_val = train_test_split(X, y, test_size=TEST_SIZE, random_state=RANDOM_STATE)\n",
    "    \n",
    "    def conv1d_objective(trial):\n",
    "        in_channels = X_train.shape[1]\n",
    "        out_channels = trial.suggest_int('out_channels', 16, 128)\n",
    "        kernel_size = trial.suggest_int('kernel_size', 3, 7)\n",
    "        num_blocks = trial.suggest_int('num_blocks', 1, 5)\n",
    "        l2_lambda = trial.suggest_float('l2_lambda', 1e-5, 1e-2)\n",
    "        dropout_rate = trial.suggest_float('dropout_rate', 0.1, 0.5)\n",
    "        epochs = 1000\n",
    "        \n",
    "        model = Conv1DModel(in_channels, out_channels, kernel_size, num_blocks, l2_lambda, dropout_rate, classification=False).to(device)\n",
    "        optimizer = optim.Adam(model.parameters(), lr=trial.suggest_float('lr', 1e-5, 1e-2), weight_decay=l2_lambda)\n",
    "        criterion = nn.MSELoss()\n",
    "        \n",
    "        patience = 10\n",
    "        best_val_rmse = np.inf\n",
    "        epochs_no_improve = 0\n",
    "\n",
    "        input_train = torch.tensor(X_train, dtype=torch.float32).to(device)\n",
    "        target_train = torch.tensor(y_train, dtype=torch.float32).to(device)\n",
    "        \n",
    "        input_val = torch.tensor(X_val, dtype=torch.float32).to(device)\n",
    "        target_val = torch.tensor(y_val, dtype=torch.float32).to(device)\n",
    "        \n",
    "        for epoch in range(epochs):\n",
    "            model.train() \n",
    "            optimizer.zero_grad()\n",
    "            output = model(input_train)\n",
    "            loss = criterion(output, target_train)\n",
    "            loss.backward()\n",
    "            optimizer.step()\n",
    "        \n",
    "            model.eval()\n",
    "            with torch.no_grad():\n",
    "                val_output = model(input_val)\n",
    "                val_rmse = root_mean_squared_error(target_val.cpu(), val_output.cpu())\n",
    "\n",
    "                if val_rmse < best_val_rmse:\n",
    "                    best_val_rmse = val_rmse\n",
    "                    epochs_no_improve = 0\n",
    "                else:\n",
    "                    epochs_no_improve += 1\n",
    "                \n",
    "                if epochs_no_improve >= patience:\n",
    "                    print(f\"Early stopping at epoch {epoch}\")\n",
    "                    break\n",
    "                \n",
    "        return best_val_rmse\n",
    "    \n",
    "    study = optuna.create_study(direction='minimize')\n",
    "    study.optimize(conv1d_objective, n_trials=100)\n",
    "    \n",
    "    best_model = Conv1DModel(X.shape[1], study.best_params['out_channels'], study.best_params['kernel_size'], study.best_params['num_blocks'], study.best_params['l2_lambda'], study.best_params['dropout_rate'], classification=False).to(device)\n",
    "\n",
    "    ticker_df = load_or_create_ticker_df(csv_path)\n",
    "    \n",
    "    # Update ticker_df and save the best model\n",
    "    metric_col = 'Best_Cov1D_Regression_RMSE'\n",
    "    path_col = 'Best_Cov1D_Regression_Path'\n",
    "    \n",
    "    if ticker_symbol in ticker_df['Ticker_Symbol'].values:\n",
    "        current_score = ticker_df.loc[ticker_df['Ticker_Symbol'] == ticker_symbol, metric_col].values[0]\n",
    "        if pd.isnull(current_score) or study.best_value < current_score:\n",
    "            ticker_df.loc[ticker_df['Ticker_Symbol'] == ticker_symbol, [metric_col, path_col]] = [study.best_value, model_path]\n",
    "            torch.save(best_model.state_dict(), model_path)\n",
    "            with open(params_path, 'w') as f:\n",
    "                json.dump(study.best_params, f)\n",
    "            print(f\"parameters for {ticker_symbol} saved to {params_path}\")\n",
    "            ticker_df.to_csv(csv_path, index=False)\n",
    "            print(f\"Best model for {ticker_symbol} saved with RMSE: {study.best_value}\")\n",
    "        else:\n",
    "            print(f\"Previous model RMSE: {current_score} is better for {ticker_symbol} than RMSE: {study.best_value}\")\n",
    "    else:\n",
    "        new_row = pd.DataFrame({'Ticker_Symbol': [ticker_symbol], metric_col: [study.best_value], path_col: [model_path]})\n",
    "        ticker_df = pd.concat([ticker_df, new_row], ignore_index=True)\n",
    "        torch.save(best_model.state_dict(), model_path)\n",
    "        with open(params_path, 'w') as f:\n",
    "            json.dump(study.best_params, f)\n",
    "        print(f\"parameters for {ticker_symbol} saved to {params_path}\")\n",
    "        ticker_df.to_csv(csv_path, index=False)\n",
    "        print(f\"Best model for {ticker_symbol} saved with RMSE: {study.best_value}\")"
   ]
  },
  {
   "cell_type": "code",
   "execution_count": 9,
   "id": "ee522aad-13c7-46bb-a3bb-5f5e357dde2c",
   "metadata": {},
   "outputs": [],
   "source": [
    "class LSTMResidualBlock(nn.Module):\n",
    "    def __init__(self, input_size, hidden_size, num_layers=1, dropout_rate=0.5):\n",
    "        super(LSTMResidualBlock, self).__init__()\n",
    "        \n",
    "        self.lstm = nn.LSTM(input_size, hidden_size, num_layers=num_layers, batch_first=True, dropout=dropout_rate if num_layers > 1 else 0)\n",
    "        self.dropout = nn.Dropout(dropout_rate)\n",
    "        \n",
    "        if input_size != hidden_size:\n",
    "            self.residual_fc = nn.Linear(input_size, hidden_size)\n",
    "        else:\n",
    "            self.residual_fc = nn.Identity()\n",
    "\n",
    "    def forward(self, x):\n",
    "        residual = self.residual_fc(x)\n",
    "        out, _ = self.lstm(x)\n",
    "        out = self.dropout(out)\n",
    "        out = out + residual  # Ensure no in-place operation\n",
    "        return out\n",
    "\n",
    "class LSTMModel(nn.Module):\n",
    "    def __init__(self, input_size, hidden_size, num_blocks=1, num_layers=1, dropout_rate=0.5, classification=True):\n",
    "        super(LSTMModel, self).__init__()\n",
    "        self.blocks = nn.Sequential(\n",
    "            LSTMResidualBlock(input_size, hidden_size, num_layers=num_layers, dropout_rate=dropout_rate),\n",
    "            *[LSTMResidualBlock(hidden_size, hidden_size, num_layers=num_layers, dropout_rate=dropout_rate) for _ in range(num_blocks-1)]\n",
    "        )\n",
    "        self.global_avg_pool = nn.AdaptiveAvgPool1d(1)  # Global average pooling for 1D\n",
    "        self.fc = nn.Linear(hidden_size, 2 if classification else 1)\n",
    "        self.classification = classification\n",
    "\n",
    "    def forward(self, x):\n",
    "        out = self.blocks(x)\n",
    "        out = out.mean(dim=1)  # Global average pooling\n",
    "        out = self.fc(out)\n",
    "        if self.classification:\n",
    "            out = F.log_softmax(out, dim=1)\n",
    "        return out\n"
   ]
  },
  {
   "cell_type": "code",
   "execution_count": 10,
   "id": "5a250d25-54a4-4bdf-b291-50799ec743f2",
   "metadata": {},
   "outputs": [],
   "source": [
    "def lstm_classification_hyperparameters_search(X, y, gpu_available, ticker_symbol, delete_old_data = False):\n",
    "    if delete_old_data:\n",
    "        delete_hyperparameter_search_model(ticker_symbol, \"lstm-classification\")\n",
    "\n",
    "    model_path = f'../models/hyperparameters-search-models/pytorch/lstm-classification/{ticker_symbol}.pth'\n",
    "    csv_path = f'../models/hyperparameters-search-models/ticker-all-models-best-hyperparameters-list.csv'\n",
    "    params_path = f'../models/best-hyperparameters/pytorch/lstm-classification/{ticker_symbol}.json'\n",
    "    \n",
    "    device = torch.device('cuda' if gpu_available and torch.cuda.is_available() else 'cpu')\n",
    "    \n",
    "    # Convert DataFrame to numpy array\n",
    "    X = X.to_numpy()\n",
    "    y = y.to_numpy()\n",
    "    \n",
    "    def create_sequences(X, y, sequence_length):\n",
    "        sequences_X, sequences_y = [], []\n",
    "        for i in range(len(X) - sequence_length + 1):\n",
    "            sequences_X.append(X[i:i + sequence_length])\n",
    "            sequences_y.append(y[i + sequence_length - 1])\n",
    "        return np.array(sequences_X), np.array(sequences_y)\n",
    "    \n",
    "    def lstm_objective(trial):\n",
    "        sequence_length = trial.suggest_int('sequence_length', 2, 30)\n",
    "        \n",
    "        # Create sequences\n",
    "        X_seq, y_seq = create_sequences(X, y, sequence_length)\n",
    "        \n",
    "        # Split data into training, validation, and test sets\n",
    "        TEST_SIZE = 0.2\n",
    "        VAL_SIZE = 0.1\n",
    "        RANDOM_STATE = 42\n",
    "        \n",
    "        X_train, X_temp, y_train, y_temp = train_test_split(X_seq, y_seq, test_size=TEST_SIZE + VAL_SIZE, random_state=RANDOM_STATE)\n",
    "        X_val, X_test, y_val, y_test = train_test_split(X_temp, y_temp, test_size=TEST_SIZE / (TEST_SIZE + VAL_SIZE), random_state=RANDOM_STATE)\n",
    "        \n",
    "        input_size = X_train.shape[2]  # Number of features\n",
    "        hidden_size = trial.suggest_int('hidden_size', 16, 128)\n",
    "        num_layers = trial.suggest_int('num_layers', 1, 3)\n",
    "        num_blocks = trial.suggest_int('num_blocks', 1, 5)\n",
    "        dropout_rate = trial.suggest_float('dropout_rate', 0.1, 0.5)\n",
    "        epochs = 1000\n",
    "        \n",
    "        model = LSTMModel(input_size, hidden_size, num_blocks, num_layers, dropout_rate, classification=True).to(device)\n",
    "        optimizer = optim.Adam(model.parameters(), lr=trial.suggest_float('lr', 1e-5, 1e-2))\n",
    "        criterion = nn.CrossEntropyLoss()\n",
    "        \n",
    "        patience = 10\n",
    "        best_val_accuracy = -np.inf\n",
    "        epochs_no_improve = 0\n",
    "\n",
    "        input_train = torch.tensor(X_train, dtype=torch.float32).to(device)\n",
    "        target_train = torch.tensor(y_train, dtype=torch.long).to(device)\n",
    "        \n",
    "        input_val = torch.tensor(X_val, dtype=torch.float32).to(device)\n",
    "        target_val = torch.tensor(y_val, dtype=torch.long).to(device)\n",
    "        \n",
    "        for epoch in range(epochs):\n",
    "            model.train()\n",
    "            optimizer.zero_grad()\n",
    "            output = model(input_train)\n",
    "            loss = criterion(output, target_train)\n",
    "            loss.backward()\n",
    "            optimizer.step()\n",
    "            \n",
    "            # Validation\n",
    "            model.eval()\n",
    "            with torch.no_grad():\n",
    "                val_output = model(input_val)\n",
    "                val_pred = val_output.argmax(dim=1)\n",
    "                val_accuracy = accuracy_score(target_val.cpu(), val_pred.cpu())\n",
    "                \n",
    "                if val_accuracy > best_val_accuracy:\n",
    "                    best_val_accuracy = val_accuracy\n",
    "                    epochs_no_improve = 0\n",
    "                else:\n",
    "                    epochs_no_improve += 1\n",
    "                \n",
    "                if epochs_no_improve >= patience:\n",
    "                    print(f\"Early stopping at epoch {epoch}\")\n",
    "                    break\n",
    "        \n",
    "        return best_val_accuracy  \n",
    "    \n",
    "    study = optuna.create_study(direction='maximize')\n",
    "    study.optimize(lstm_objective, n_trials=100)\n",
    "    \n",
    "    # Reshape X to match the best sequence length\n",
    "    best_sequence_length = study.best_params['sequence_length']\n",
    "    X_seq, y_seq = create_sequences(X, y, best_sequence_length)\n",
    "    \n",
    "    best_model = LSTMModel(X_seq.shape[2], study.best_params['hidden_size'], study.best_params['num_blocks'], study.best_params['num_layers'], study.best_params['dropout_rate'], classification=True).to(device)\n",
    "\n",
    "    ticker_df = load_or_create_ticker_df(csv_path)\n",
    "    \n",
    "    # Update ticker_df and save the best model\n",
    "    metric_col = 'Best_LSTM_Classification_Accuracy'\n",
    "    path_col = 'Best_LSTM_Classification_Path'\n",
    "    \n",
    "    if ticker_symbol in ticker_df['Ticker_Symbol'].values:\n",
    "        current_score = ticker_df.loc[ticker_df['Ticker_Symbol'] == ticker_symbol, metric_col].values[0]\n",
    "        if pd.isnull(current_score) or study.best_value > current_score:\n",
    "            ticker_df.loc[ticker_df['Ticker_Symbol'] == ticker_symbol, [metric_col, path_col]] = [study.best_value, model_path]\n",
    "            torch.save(best_model.state_dict(), model_path)\n",
    "            with open(params_path, 'w') as f:\n",
    "                json.dump(study.best_params, f)\n",
    "            print(f\"parameters for {ticker_symbol} saved to {params_path}\")\n",
    "            ticker_df.to_csv(csv_path, index=False)\n",
    "            print(f\"Best model for {ticker_symbol} saved with accuracy: {study.best_value}\")\n",
    "        else:\n",
    "            print(f\"Previous model accuracy: {current_score} is better for {ticker_symbol} than accuracy: {study.best_value}\")\n",
    "    else:\n",
    "        new_row = pd.DataFrame({'Ticker_Symbol': [ticker_symbol], metric_col: [study.best_value], path_col: [model_path]})\n",
    "        ticker_df = pd.concat([ticker_df, new_row], ignore_index=True)\n",
    "        torch.save(best_model.state_dict(), model_path)\n",
    "        with open(params_path, 'w') as f:\n",
    "            json.dump(study.best_params, f)\n",
    "        print(f\"parameters for {ticker_symbol} saved to {params_path}\")\n",
    "        ticker_df.to_csv(csv_path, index=False)\n",
    "        print(f\"Best model for {ticker_symbol} saved with accuracy: {study.best_value}\")"
   ]
  },
  {
   "cell_type": "code",
   "execution_count": 11,
   "id": "8a6fbf21-a1aa-4123-8329-13d5cf07200c",
   "metadata": {},
   "outputs": [],
   "source": [
    "def lstm_regression_hyperparameters_search(X, y, gpu_available, ticker_symbol, delete_old_data = False):\n",
    "    if delete_old_data:\n",
    "        delete_hyperparameter_search_model(ticker_symbol, \"lstm--regression\")\n",
    "        \n",
    "    model_path = f'../models/hyperparameters-search-models/pytorch/lstm-regression/{ticker_symbol}.pth'\n",
    "    csv_path = f'../models/hyperparameters-search-models/ticker-all-models-best-hyperparameters-list.csv'\n",
    "    params_path = f'../models/best-hyperparameters/pytorch/lstm-regression/{ticker_symbol}.json'\n",
    "\n",
    "    device = torch.device('cuda' if gpu_available and torch.cuda.is_available() else 'cpu')\n",
    "    \n",
    "    # Convert DataFrame to numpy array\n",
    "    X = X.to_numpy()\n",
    "    y = y.to_numpy().reshape(-1, 1)\n",
    "    \n",
    "    def create_sequences(X, y, sequence_length):\n",
    "        sequences_X, sequences_y = [], []\n",
    "        for i in range(len(X) - sequence_length + 1):\n",
    "            sequences_X.append(X[i:i + sequence_length])\n",
    "            sequences_y.append(y[i + sequence_length - 1])\n",
    "        return np.array(sequences_X), np.array(sequences_y)\n",
    "    \n",
    "    def lstm_objective(trial):\n",
    "        sequence_length =trial.suggest_int('sequence_length', 2, 30)\n",
    "        \n",
    "        # Create sequences\n",
    "        X_seq, y_seq = create_sequences(X, y, sequence_length)\n",
    "        \n",
    "        # Split data into training, validation, and test sets\n",
    "        TEST_SIZE = 0.2\n",
    "        VAL_SIZE = 0.1\n",
    "        RANDOM_STATE = 42\n",
    "        \n",
    "        X_train, X_temp, y_train, y_temp = train_test_split(X_seq, y_seq, test_size=TEST_SIZE + VAL_SIZE, random_state=RANDOM_STATE)\n",
    "        X_val, X_test, y_val, y_test = train_test_split(X_temp, y_temp, test_size=TEST_SIZE / (TEST_SIZE + VAL_SIZE), random_state=RANDOM_STATE)\n",
    "        \n",
    "        input_size = X_train.shape[2]  # Number of features\n",
    "        hidden_size = trial.suggest_int('hidden_size', 16, 128)\n",
    "        num_layers = trial.suggest_int('num_layers', 1, 3)\n",
    "        num_blocks = trial.suggest_int('num_blocks', 1, 5)\n",
    "        dropout_rate = trial.suggest_float('dropout_rate', 0.1, 0.5)\n",
    "        epochs = 500 # this mostly need continue training\n",
    "        \n",
    "        model = LSTMModel(input_size, hidden_size, num_blocks, num_layers, dropout_rate, classification=False).to(device)\n",
    "        optimizer = optim.Adam(model.parameters(), lr=trial.suggest_float('lr', 1e-5, 1e-2))\n",
    "        criterion = nn.MSELoss()\n",
    "        \n",
    "        patience = 10\n",
    "        best_val_rmse = np.inf\n",
    "        epochs_no_improve = 0\n",
    "\n",
    "        input_train = torch.tensor(X_train, dtype=torch.float32).to(device)\n",
    "        target_train = torch.tensor(y_train, dtype=torch.float32).to(device)\n",
    "        \n",
    "        input_val = torch.tensor(X_val, dtype=torch.float32).to(device)\n",
    "        target_val = torch.tensor(y_val, dtype=torch.float32).to(device)\n",
    "        \n",
    "        for epoch in range(epochs):\n",
    "            model.train() \n",
    "            optimizer.zero_grad()\n",
    "            output = model(input_train)\n",
    "            loss = criterion(output, target_train)\n",
    "            loss.backward()\n",
    "            optimizer.step()\n",
    "        \n",
    "            model.eval()\n",
    "            with torch.no_grad():\n",
    "                val_output = model(input_val)\n",
    "                val_rmse = root_mean_squared_error(target_val.cpu(), val_output.cpu())\n",
    "\n",
    "                if val_rmse < best_val_rmse:\n",
    "                    best_val_rmse = val_rmse\n",
    "                    epochs_no_improve = 0\n",
    "                else:\n",
    "                    epochs_no_improve += 1\n",
    "                \n",
    "                if epochs_no_improve >= patience:\n",
    "                    print(f\"Early stopping at epoch {epoch}\")\n",
    "                    break\n",
    "                \n",
    "        return best_val_rmse\n",
    "    \n",
    "    study = optuna.create_study(direction='minimize')\n",
    "    study.optimize(lstm_objective, n_trials=100)\n",
    "    \n",
    "    # Reshape X to match the best sequence length\n",
    "    best_sequence_length = study.best_params['sequence_length']\n",
    "    X_seq, y_seq = create_sequences(X, y, best_sequence_length)\n",
    "    \n",
    "    best_model = LSTMModel(X_seq.shape[2], study.best_params['hidden_size'], study.best_params['num_blocks'], study.best_params['num_layers'], study.best_params['dropout_rate'], classification=False).to(device)\n",
    "\n",
    "    ticker_df = load_or_create_ticker_df(csv_path)\n",
    "    \n",
    "    # Update ticker_df and save the best model\n",
    "    metric_col = 'Best_LSTM_Regression_RMSE'\n",
    "    path_col = 'Best_LSTM_Regression_Path'\n",
    "    \n",
    "    if ticker_symbol in ticker_df['Ticker_Symbol'].values:\n",
    "        current_score = ticker_df.loc[ticker_df['Ticker_Symbol'] == ticker_symbol, metric_col].values[0]\n",
    "        if pd.isnull(current_score) or study.best_value < current_score:\n",
    "            ticker_df.loc[ticker_df['Ticker_Symbol'] == ticker_symbol, [metric_col, path_col]] = [study.best_value, model_path]\n",
    "            torch.save(best_model.state_dict(), model_path)\n",
    "            with open(params_path, 'w') as f:\n",
    "                json.dump(study.best_params, f)\n",
    "            print(f\"parameters for {ticker_symbol} saved to {params_path}\")\n",
    "            ticker_df.to_csv(csv_path, index=False)\n",
    "            print(f\"Best model for {ticker_symbol} saved with RMSE: {study.best_value}\")\n",
    "        else:\n",
    "            print(f\"Previous model RMSE: {current_score} is better for {ticker_symbol} than RMSE: {study.best_value}\")\n",
    "    else:\n",
    "        new_row = pd.DataFrame({'Ticker_Symbol': [ticker_symbol], metric_col: [study.best_value], path_col: [model_path]})\n",
    "        ticker_df = pd.concat([ticker_df, new_row], ignore_index=True)\n",
    "        torch.save(best_model.state_dict(), model_path)\n",
    "        with open(params_path, 'w') as f:\n",
    "            json.dump(study.best_params, f)\n",
    "        print(f\"parameters for {ticker_symbol} saved to {params_path}\")\n",
    "        ticker_df.to_csv(csv_path, index=False)\n",
    "        print(f\"Best model for {ticker_symbol} saved with RMSE: {study.best_value}\")\n"
   ]
  },
  {
   "cell_type": "code",
   "execution_count": 12,
   "id": "1b9de1e0-a044-47e9-85cf-6b3a1a97808d",
   "metadata": {},
   "outputs": [
    {
     "name": "stderr",
     "output_type": "stream",
     "text": [
      "[I 2024-09-12 20:49:15,563] A new study created in memory with name: no-name-817f2a38-5eb3-4505-983f-0494fb59fd80\n",
      "C:\\Users\\ng_mi\\Anaconda\\Lib\\site-packages\\torch\\nn\\modules\\conv.py:304: UserWarning: Using padding='same' with even kernel lengths and odd dilation may require a zero-padded copy of the input be created (Triggered internally at C:\\cb\\pytorch_1000000000000\\work\\aten\\src\\ATen\\native\\Convolution.cpp:1032.)\n",
      "  return F.conv1d(input, weight, bias, self.stride,\n",
      "[I 2024-09-12 20:49:20,294] Trial 0 finished with value: 0.5163934426229508 and parameters: {'out_channels': 88, 'kernel_size': 6, 'num_blocks': 9, 'l2_lambda': 0.002408948483672927, 'dropout_rate': 0.31487110047810885, 'lr': 0.004197525304770575}. Best is trial 0 with value: 0.5163934426229508.\n"
     ]
    },
    {
     "name": "stdout",
     "output_type": "stream",
     "text": [
      "Early stopping at epoch 11\n"
     ]
    },
    {
     "name": "stderr",
     "output_type": "stream",
     "text": [
      "[I 2024-09-12 20:49:21,433] Trial 1 finished with value: 0.5163934426229508 and parameters: {'out_channels': 101, 'kernel_size': 4, 'num_blocks': 3, 'l2_lambda': 0.003983768815831876, 'dropout_rate': 0.3149788005627783, 'lr': 0.0029368004926238873}. Best is trial 0 with value: 0.5163934426229508.\n"
     ]
    },
    {
     "name": "stdout",
     "output_type": "stream",
     "text": [
      "Early stopping at epoch 11\n"
     ]
    },
    {
     "name": "stderr",
     "output_type": "stream",
     "text": [
      "[I 2024-09-12 20:49:24,061] Trial 2 finished with value: 0.5573770491803278 and parameters: {'out_channels': 101, 'kernel_size': 4, 'num_blocks': 3, 'l2_lambda': 0.008261181312546814, 'dropout_rate': 0.13695821418224266, 'lr': 0.00032366437577329034}. Best is trial 2 with value: 0.5573770491803278.\n"
     ]
    },
    {
     "name": "stdout",
     "output_type": "stream",
     "text": [
      "Early stopping at epoch 29\n"
     ]
    },
    {
     "name": "stderr",
     "output_type": "stream",
     "text": [
      "[I 2024-09-12 20:49:25,500] Trial 3 finished with value: 0.5163934426229508 and parameters: {'out_channels': 72, 'kernel_size': 4, 'num_blocks': 5, 'l2_lambda': 0.004964445106645909, 'dropout_rate': 0.41633096608444087, 'lr': 0.008197507296879122}. Best is trial 2 with value: 0.5573770491803278.\n"
     ]
    },
    {
     "name": "stdout",
     "output_type": "stream",
     "text": [
      "Early stopping at epoch 10\n"
     ]
    },
    {
     "name": "stderr",
     "output_type": "stream",
     "text": [
      "[I 2024-09-12 20:49:27,526] Trial 4 finished with value: 0.5163934426229508 and parameters: {'out_channels': 75, 'kernel_size': 6, 'num_blocks': 7, 'l2_lambda': 0.008326739399025665, 'dropout_rate': 0.44440853981494055, 'lr': 0.0019492702890237506}. Best is trial 2 with value: 0.5573770491803278.\n"
     ]
    },
    {
     "name": "stdout",
     "output_type": "stream",
     "text": [
      "Early stopping at epoch 10\n"
     ]
    },
    {
     "name": "stderr",
     "output_type": "stream",
     "text": [
      "[I 2024-09-12 20:49:29,419] Trial 5 finished with value: 0.5163934426229508 and parameters: {'out_channels': 58, 'kernel_size': 7, 'num_blocks': 4, 'l2_lambda': 0.004164345296906243, 'dropout_rate': 0.13334644862882006, 'lr': 0.000774286682863512}. Best is trial 2 with value: 0.5573770491803278.\n"
     ]
    },
    {
     "name": "stdout",
     "output_type": "stream",
     "text": [
      "Early stopping at epoch 19\n"
     ]
    },
    {
     "name": "stderr",
     "output_type": "stream",
     "text": [
      "[I 2024-09-12 20:49:29,808] Trial 6 finished with value: 0.5163934426229508 and parameters: {'out_channels': 21, 'kernel_size': 7, 'num_blocks': 1, 'l2_lambda': 0.0011982659063617348, 'dropout_rate': 0.20260502505166939, 'lr': 0.008718835609912677}. Best is trial 2 with value: 0.5573770491803278.\n"
     ]
    },
    {
     "name": "stdout",
     "output_type": "stream",
     "text": [
      "Early stopping at epoch 10\n"
     ]
    },
    {
     "name": "stderr",
     "output_type": "stream",
     "text": [
      "[I 2024-09-12 20:49:33,026] Trial 7 finished with value: 0.5409836065573771 and parameters: {'out_channels': 73, 'kernel_size': 6, 'num_blocks': 7, 'l2_lambda': 0.0030653398543240575, 'dropout_rate': 0.30184102279731584, 'lr': 0.006000729850023513}. Best is trial 2 with value: 0.5573770491803278.\n"
     ]
    },
    {
     "name": "stdout",
     "output_type": "stream",
     "text": [
      "Early stopping at epoch 17\n"
     ]
    },
    {
     "name": "stderr",
     "output_type": "stream",
     "text": [
      "[I 2024-09-12 20:49:34,938] Trial 8 finished with value: 0.5163934426229508 and parameters: {'out_channels': 36, 'kernel_size': 7, 'num_blocks': 9, 'l2_lambda': 0.0037164408087812556, 'dropout_rate': 0.37140136057760875, 'lr': 0.0026231519205284462}. Best is trial 2 with value: 0.5573770491803278.\n"
     ]
    },
    {
     "name": "stdout",
     "output_type": "stream",
     "text": [
      "Early stopping at epoch 10\n"
     ]
    },
    {
     "name": "stderr",
     "output_type": "stream",
     "text": [
      "[I 2024-09-12 20:49:37,983] Trial 9 finished with value: 0.5163934426229508 and parameters: {'out_channels': 123, 'kernel_size': 7, 'num_blocks': 10, 'l2_lambda': 0.008164961949689535, 'dropout_rate': 0.3399819564972274, 'lr': 0.004096223913020211}. Best is trial 2 with value: 0.5573770491803278.\n"
     ]
    },
    {
     "name": "stdout",
     "output_type": "stream",
     "text": [
      "Early stopping at epoch 10\n"
     ]
    },
    {
     "name": "stderr",
     "output_type": "stream",
     "text": [
      "[I 2024-09-12 20:49:38,442] Trial 10 finished with value: 0.48360655737704916 and parameters: {'out_channels': 127, 'kernel_size': 3, 'num_blocks': 1, 'l2_lambda': 0.009815442739061996, 'dropout_rate': 0.21421503039503664, 'lr': 0.0004299794033776504}. Best is trial 2 with value: 0.5573770491803278.\n"
     ]
    },
    {
     "name": "stdout",
     "output_type": "stream",
     "text": [
      "Early stopping at epoch 10\n"
     ]
    },
    {
     "name": "stderr",
     "output_type": "stream",
     "text": [
      "[I 2024-09-12 20:49:40,156] Trial 11 finished with value: 0.5163934426229508 and parameters: {'out_channels': 104, 'kernel_size': 5, 'num_blocks': 6, 'l2_lambda': 0.0062864812373015656, 'dropout_rate': 0.23309831505363549, 'lr': 0.006471429348577577}. Best is trial 2 with value: 0.5573770491803278.\n"
     ]
    },
    {
     "name": "stdout",
     "output_type": "stream",
     "text": [
      "Early stopping at epoch 10\n"
     ]
    },
    {
     "name": "stderr",
     "output_type": "stream",
     "text": [
      "[I 2024-09-12 20:49:42,139] Trial 12 finished with value: 0.5163934426229508 and parameters: {'out_channels': 49, 'kernel_size': 5, 'num_blocks': 7, 'l2_lambda': 0.00020639093111775048, 'dropout_rate': 0.10091892437660757, 'lr': 0.006289152419005515}. Best is trial 2 with value: 0.5573770491803278.\n"
     ]
    },
    {
     "name": "stdout",
     "output_type": "stream",
     "text": [
      "Early stopping at epoch 13\n"
     ]
    },
    {
     "name": "stderr",
     "output_type": "stream",
     "text": [
      "[I 2024-09-12 20:49:43,167] Trial 13 finished with value: 0.5163934426229508 and parameters: {'out_channels': 102, 'kernel_size': 4, 'num_blocks': 3, 'l2_lambda': 0.006337732610331978, 'dropout_rate': 0.25628885777316224, 'lr': 0.006328303843297356}. Best is trial 2 with value: 0.5573770491803278.\n"
     ]
    },
    {
     "name": "stdout",
     "output_type": "stream",
     "text": [
      "Early stopping at epoch 10\n"
     ]
    },
    {
     "name": "stderr",
     "output_type": "stream",
     "text": [
      "[I 2024-09-12 20:49:44,248] Trial 14 finished with value: 0.5163934426229508 and parameters: {'out_channels': 82, 'kernel_size': 3, 'num_blocks': 3, 'l2_lambda': 0.0023740688667936915, 'dropout_rate': 0.1519434228403937, 'lr': 0.009817226595831627}. Best is trial 2 with value: 0.5573770491803278.\n"
     ]
    },
    {
     "name": "stdout",
     "output_type": "stream",
     "text": [
      "Early stopping at epoch 13\n"
     ]
    },
    {
     "name": "stderr",
     "output_type": "stream",
     "text": [
      "[I 2024-09-12 20:49:46,892] Trial 15 finished with value: 0.5163934426229508 and parameters: {'out_channels': 113, 'kernel_size': 6, 'num_blocks': 7, 'l2_lambda': 0.006504781789570229, 'dropout_rate': 0.4871049594429836, 'lr': 0.005316891691973589}. Best is trial 2 with value: 0.5573770491803278.\n"
     ]
    },
    {
     "name": "stdout",
     "output_type": "stream",
     "text": [
      "Early stopping at epoch 11\n"
     ]
    },
    {
     "name": "stderr",
     "output_type": "stream",
     "text": [
      "[I 2024-09-12 20:49:48,200] Trial 16 finished with value: 0.5163934426229508 and parameters: {'out_channels': 63, 'kernel_size': 5, 'num_blocks': 5, 'l2_lambda': 0.009825197464303772, 'dropout_rate': 0.2697913745583073, 'lr': 0.0049075886188834515}. Best is trial 2 with value: 0.5573770491803278.\n"
     ]
    },
    {
     "name": "stdout",
     "output_type": "stream",
     "text": [
      "Early stopping at epoch 10\n"
     ]
    },
    {
     "name": "stderr",
     "output_type": "stream",
     "text": [
      "[I 2024-09-12 20:49:48,941] Trial 17 finished with value: 0.5163934426229508 and parameters: {'out_channels': 88, 'kernel_size': 4, 'num_blocks': 2, 'l2_lambda': 0.007414337494148573, 'dropout_rate': 0.1724984899260545, 'lr': 0.007618504860520169}. Best is trial 2 with value: 0.5573770491803278.\n"
     ]
    },
    {
     "name": "stdout",
     "output_type": "stream",
     "text": [
      "Early stopping at epoch 10\n"
     ]
    },
    {
     "name": "stderr",
     "output_type": "stream",
     "text": [
      "[I 2024-09-12 20:49:51,093] Trial 18 finished with value: 0.5163934426229508 and parameters: {'out_channels': 48, 'kernel_size': 6, 'num_blocks': 8, 'l2_lambda': 0.0025127352823034422, 'dropout_rate': 0.37298783085295995, 'lr': 8.049119369592638e-05}. Best is trial 2 with value: 0.5573770491803278.\n"
     ]
    },
    {
     "name": "stdout",
     "output_type": "stream",
     "text": [
      "Early stopping at epoch 10\n"
     ]
    },
    {
     "name": "stderr",
     "output_type": "stream",
     "text": [
      "[I 2024-09-12 20:49:52,425] Trial 19 finished with value: 0.5163934426229508 and parameters: {'out_channels': 95, 'kernel_size': 3, 'num_blocks': 4, 'l2_lambda': 0.005328479300136962, 'dropout_rate': 0.29575536759035775, 'lr': 0.0031571696817948003}. Best is trial 2 with value: 0.5573770491803278.\n"
     ]
    },
    {
     "name": "stdout",
     "output_type": "stream",
     "text": [
      "Early stopping at epoch 11\n"
     ]
    },
    {
     "name": "stderr",
     "output_type": "stream",
     "text": [
      "[I 2024-09-12 20:49:54,344] Trial 20 finished with value: 0.5163934426229508 and parameters: {'out_channels': 113, 'kernel_size': 5, 'num_blocks': 6, 'l2_lambda': 0.008751699223105421, 'dropout_rate': 0.10252814964209017, 'lr': 0.0014365431071287748}. Best is trial 2 with value: 0.5573770491803278.\n"
     ]
    },
    {
     "name": "stdout",
     "output_type": "stream",
     "text": [
      "Early stopping at epoch 11\n"
     ]
    },
    {
     "name": "stderr",
     "output_type": "stream",
     "text": [
      "[I 2024-09-12 20:49:57,946] Trial 21 finished with value: 0.5163934426229508 and parameters: {'out_channels': 85, 'kernel_size': 6, 'num_blocks': 10, 'l2_lambda': 0.0028742685157448003, 'dropout_rate': 0.33335576054311955, 'lr': 0.004155905558127575}. Best is trial 2 with value: 0.5573770491803278.\n"
     ]
    },
    {
     "name": "stdout",
     "output_type": "stream",
     "text": [
      "Early stopping at epoch 12\n"
     ]
    },
    {
     "name": "stderr",
     "output_type": "stream",
     "text": [
      "[I 2024-09-12 20:50:01,425] Trial 22 finished with value: 0.5573770491803278 and parameters: {'out_channels': 93, 'kernel_size': 6, 'num_blocks': 9, 'l2_lambda': 0.0013429899533244957, 'dropout_rate': 0.2815031629922807, 'lr': 0.007177867478017278}. Best is trial 2 with value: 0.5573770491803278.\n"
     ]
    },
    {
     "name": "stdout",
     "output_type": "stream",
     "text": [
      "Early stopping at epoch 13\n"
     ]
    },
    {
     "name": "stderr",
     "output_type": "stream",
     "text": [
      "[I 2024-09-12 20:50:03,400] Trial 23 finished with value: 0.5163934426229508 and parameters: {'out_channels': 64, 'kernel_size': 5, 'num_blocks': 8, 'l2_lambda': 0.0008489340767970107, 'dropout_rate': 0.2703493403946014, 'lr': 0.006766230307656685}. Best is trial 2 with value: 0.5573770491803278.\n"
     ]
    },
    {
     "name": "stdout",
     "output_type": "stream",
     "text": [
      "Early stopping at epoch 11\n"
     ]
    },
    {
     "name": "stderr",
     "output_type": "stream",
     "text": [
      "[I 2024-09-12 20:50:06,105] Trial 24 finished with value: 0.5163934426229508 and parameters: {'out_channels': 114, 'kernel_size': 6, 'num_blocks': 8, 'l2_lambda': 0.0014069404732509304, 'dropout_rate': 0.18476310613693553, 'lr': 0.0053595386725453775}. Best is trial 2 with value: 0.5573770491803278.\n"
     ]
    },
    {
     "name": "stdout",
     "output_type": "stream",
     "text": [
      "Early stopping at epoch 10\n"
     ]
    },
    {
     "name": "stderr",
     "output_type": "stream",
     "text": [
      "[I 2024-09-12 20:50:08,872] Trial 25 finished with value: 0.5163934426229508 and parameters: {'out_channels': 81, 'kernel_size': 5, 'num_blocks': 9, 'l2_lambda': 0.0017916355840146962, 'dropout_rate': 0.36860474239837376, 'lr': 0.00725128817855609}. Best is trial 2 with value: 0.5573770491803278.\n"
     ]
    },
    {
     "name": "stdout",
     "output_type": "stream",
     "text": [
      "Early stopping at epoch 12\n"
     ]
    },
    {
     "name": "stderr",
     "output_type": "stream",
     "text": [
      "[I 2024-09-12 20:50:11,127] Trial 26 finished with value: 0.5163934426229508 and parameters: {'out_channels': 95, 'kernel_size': 4, 'num_blocks': 6, 'l2_lambda': 6.434971721381438e-05, 'dropout_rate': 0.22715132437277977, 'lr': 0.009279746701020603}. Best is trial 2 with value: 0.5573770491803278.\n"
     ]
    },
    {
     "name": "stdout",
     "output_type": "stream",
     "text": [
      "Early stopping at epoch 13\n"
     ]
    },
    {
     "name": "stderr",
     "output_type": "stream",
     "text": [
      "[I 2024-09-12 20:50:13,497] Trial 27 finished with value: 0.5163934426229508 and parameters: {'out_channels': 75, 'kernel_size': 6, 'num_blocks': 8, 'l2_lambda': 0.0033679038780454417, 'dropout_rate': 0.41114747061372003, 'lr': 0.0078109575865156445}. Best is trial 2 with value: 0.5573770491803278.\n"
     ]
    },
    {
     "name": "stdout",
     "output_type": "stream",
     "text": [
      "Early stopping at epoch 10\n"
     ]
    },
    {
     "name": "stderr",
     "output_type": "stream",
     "text": [
      "[I 2024-09-12 20:50:14,391] Trial 28 finished with value: 0.5409836065573771 and parameters: {'out_channels': 93, 'kernel_size': 7, 'num_blocks': 2, 'l2_lambda': 0.005104029701045503, 'dropout_rate': 0.28551894046677434, 'lr': 0.0057768748641664905}. Best is trial 2 with value: 0.5573770491803278.\n"
     ]
    },
    {
     "name": "stdout",
     "output_type": "stream",
     "text": [
      "Early stopping at epoch 13\n"
     ]
    },
    {
     "name": "stderr",
     "output_type": "stream",
     "text": [
      "[I 2024-09-12 20:50:18,254] Trial 29 finished with value: 0.5163934426229508 and parameters: {'out_channels': 110, 'kernel_size': 6, 'num_blocks': 10, 'l2_lambda': 0.0019872651966471055, 'dropout_rate': 0.24504751544348485, 'lr': 0.004558069845946016}. Best is trial 2 with value: 0.5573770491803278.\n"
     ]
    },
    {
     "name": "stdout",
     "output_type": "stream",
     "text": [
      "Early stopping at epoch 12\n"
     ]
    },
    {
     "name": "stderr",
     "output_type": "stream",
     "text": [
      "[I 2024-09-12 20:50:20,765] Trial 30 finished with value: 0.5163934426229508 and parameters: {'out_channels': 68, 'kernel_size': 6, 'num_blocks': 9, 'l2_lambda': 0.003103893109145836, 'dropout_rate': 0.32452137739047393, 'lr': 0.003761648527692802}. Best is trial 2 with value: 0.5573770491803278.\n"
     ]
    },
    {
     "name": "stdout",
     "output_type": "stream",
     "text": [
      "Early stopping at epoch 10\n"
     ]
    },
    {
     "name": "stderr",
     "output_type": "stream",
     "text": [
      "[I 2024-09-12 20:50:22,307] Trial 31 finished with value: 0.5163934426229508 and parameters: {'out_channels': 93, 'kernel_size': 7, 'num_blocks': 4, 'l2_lambda': 0.00495685763337265, 'dropout_rate': 0.3058752601167887, 'lr': 0.005730081575815476}. Best is trial 2 with value: 0.5573770491803278.\n"
     ]
    },
    {
     "name": "stdout",
     "output_type": "stream",
     "text": [
      "Early stopping at epoch 13\n"
     ]
    },
    {
     "name": "stderr",
     "output_type": "stream",
     "text": [
      "[I 2024-09-12 20:50:23,065] Trial 32 finished with value: 0.5163934426229508 and parameters: {'out_channels': 90, 'kernel_size': 7, 'num_blocks': 2, 'l2_lambda': 0.0073327506518270965, 'dropout_rate': 0.2902314712759042, 'lr': 0.005893340016639654}. Best is trial 2 with value: 0.5573770491803278.\n"
     ]
    },
    {
     "name": "stdout",
     "output_type": "stream",
     "text": [
      "Early stopping at epoch 10\n"
     ]
    },
    {
     "name": "stderr",
     "output_type": "stream",
     "text": [
      "[I 2024-09-12 20:50:23,818] Trial 33 finished with value: 0.5163934426229508 and parameters: {'out_channels': 100, 'kernel_size': 7, 'num_blocks': 2, 'l2_lambda': 0.004402662218060497, 'dropout_rate': 0.3502216064693242, 'lr': 0.00688933734652755}. Best is trial 2 with value: 0.5573770491803278.\n"
     ]
    },
    {
     "name": "stdout",
     "output_type": "stream",
     "text": [
      "Early stopping at epoch 11\n"
     ]
    },
    {
     "name": "stderr",
     "output_type": "stream",
     "text": [
      "[I 2024-09-12 20:50:24,502] Trial 34 finished with value: 0.5245901639344263 and parameters: {'out_channels': 81, 'kernel_size': 4, 'num_blocks': 1, 'l2_lambda': 0.005420169335813147, 'dropout_rate': 0.2623890237824064, 'lr': 0.00726609367321889}. Best is trial 2 with value: 0.5573770491803278.\n"
     ]
    },
    {
     "name": "stdout",
     "output_type": "stream",
     "text": [
      "Early stopping at epoch 15\n"
     ]
    },
    {
     "name": "stderr",
     "output_type": "stream",
     "text": [
      "[I 2024-09-12 20:50:26,238] Trial 35 finished with value: 0.5163934426229508 and parameters: {'out_channels': 105, 'kernel_size': 6, 'num_blocks': 5, 'l2_lambda': 0.0005070269828685798, 'dropout_rate': 0.28486910970528445, 'lr': 0.008428049066533277}. Best is trial 2 with value: 0.5573770491803278.\n"
     ]
    },
    {
     "name": "stdout",
     "output_type": "stream",
     "text": [
      "Early stopping at epoch 10\n"
     ]
    },
    {
     "name": "stderr",
     "output_type": "stream",
     "text": [
      "[I 2024-09-12 20:50:27,441] Trial 36 finished with value: 0.5163934426229508 and parameters: {'out_channels': 119, 'kernel_size': 7, 'num_blocks': 3, 'l2_lambda': 0.00424139916937688, 'dropout_rate': 0.41997199540217134, 'lr': 0.0032839847616373576}. Best is trial 2 with value: 0.5573770491803278.\n"
     ]
    },
    {
     "name": "stdout",
     "output_type": "stream",
     "text": [
      "Early stopping at epoch 12\n"
     ]
    },
    {
     "name": "stderr",
     "output_type": "stream",
     "text": [
      "[I 2024-09-12 20:50:29,495] Trial 37 finished with value: 0.5163934426229508 and parameters: {'out_channels': 77, 'kernel_size': 6, 'num_blocks': 7, 'l2_lambda': 0.0014340325118533971, 'dropout_rate': 0.1326064097882428, 'lr': 0.00478067696201989}. Best is trial 2 with value: 0.5573770491803278.\n"
     ]
    },
    {
     "name": "stdout",
     "output_type": "stream",
     "text": [
      "Early stopping at epoch 10\n"
     ]
    },
    {
     "name": "stderr",
     "output_type": "stream",
     "text": [
      "[I 2024-09-12 20:50:30,526] Trial 38 finished with value: 0.5163934426229508 and parameters: {'out_channels': 54, 'kernel_size': 5, 'num_blocks': 4, 'l2_lambda': 0.009040312301542707, 'dropout_rate': 0.1996846020284096, 'lr': 0.0022598198057064297}. Best is trial 2 with value: 0.5573770491803278.\n"
     ]
    },
    {
     "name": "stdout",
     "output_type": "stream",
     "text": [
      "Early stopping at epoch 10\n"
     ]
    },
    {
     "name": "stderr",
     "output_type": "stream",
     "text": [
      "[I 2024-09-12 20:50:31,308] Trial 39 finished with value: 0.5163934426229508 and parameters: {'out_channels': 99, 'kernel_size': 7, 'num_blocks': 2, 'l2_lambda': 0.007298557917158772, 'dropout_rate': 0.31559219603040417, 'lr': 0.005716628446073762}. Best is trial 2 with value: 0.5573770491803278.\n"
     ]
    },
    {
     "name": "stdout",
     "output_type": "stream",
     "text": [
      "Early stopping at epoch 11\n"
     ]
    },
    {
     "name": "stderr",
     "output_type": "stream",
     "text": [
      "[I 2024-09-12 20:50:31,750] Trial 40 finished with value: 0.48360655737704916 and parameters: {'out_channels': 71, 'kernel_size': 7, 'num_blocks': 1, 'l2_lambda': 0.003639773120392732, 'dropout_rate': 0.39028646191791894, 'lr': 0.00105523714786812}. Best is trial 2 with value: 0.5573770491803278.\n"
     ]
    },
    {
     "name": "stdout",
     "output_type": "stream",
     "text": [
      "Early stopping at epoch 10\n"
     ]
    },
    {
     "name": "stderr",
     "output_type": "stream",
     "text": [
      "[I 2024-09-12 20:50:32,233] Trial 41 finished with value: 0.5163934426229508 and parameters: {'out_channels': 79, 'kernel_size': 4, 'num_blocks': 1, 'l2_lambda': 0.005400079906989373, 'dropout_rate': 0.27142906526188826, 'lr': 0.008060044536191902}. Best is trial 2 with value: 0.5573770491803278.\n"
     ]
    },
    {
     "name": "stdout",
     "output_type": "stream",
     "text": [
      "Early stopping at epoch 10\n"
     ]
    },
    {
     "name": "stderr",
     "output_type": "stream",
     "text": [
      "[I 2024-09-12 20:50:32,963] Trial 42 finished with value: 0.5163934426229508 and parameters: {'out_channels': 87, 'kernel_size': 4, 'num_blocks': 2, 'l2_lambda': 0.0059830707118648544, 'dropout_rate': 0.2510104276754874, 'lr': 0.007235638209039513}. Best is trial 2 with value: 0.5573770491803278.\n"
     ]
    },
    {
     "name": "stdout",
     "output_type": "stream",
     "text": [
      "Early stopping at epoch 10\n"
     ]
    },
    {
     "name": "stderr",
     "output_type": "stream",
     "text": [
      "[I 2024-09-12 20:50:33,877] Trial 43 finished with value: 0.5163934426229508 and parameters: {'out_channels': 92, 'kernel_size': 4, 'num_blocks': 2, 'l2_lambda': 0.004744844877480054, 'dropout_rate': 0.22008543477141596, 'lr': 0.008901736299596258}. Best is trial 2 with value: 0.5573770491803278.\n"
     ]
    },
    {
     "name": "stdout",
     "output_type": "stream",
     "text": [
      "Early stopping at epoch 13\n"
     ]
    },
    {
     "name": "stderr",
     "output_type": "stream",
     "text": [
      "[I 2024-09-12 20:50:34,812] Trial 44 finished with value: 0.5163934426229508 and parameters: {'out_channels': 84, 'kernel_size': 3, 'num_blocks': 3, 'l2_lambda': 0.005822399348552274, 'dropout_rate': 0.3491585819490268, 'lr': 0.00742351311948942}. Best is trial 2 with value: 0.5573770491803278.\n"
     ]
    },
    {
     "name": "stdout",
     "output_type": "stream",
     "text": [
      "Early stopping at epoch 10\n"
     ]
    },
    {
     "name": "stderr",
     "output_type": "stream",
     "text": [
      "[I 2024-09-12 20:50:35,302] Trial 45 finished with value: 0.5163934426229508 and parameters: {'out_channels': 70, 'kernel_size': 5, 'num_blocks': 1, 'l2_lambda': 0.00687280647066878, 'dropout_rate': 0.30198612083353027, 'lr': 0.006094356950895327}. Best is trial 2 with value: 0.5573770491803278.\n"
     ]
    },
    {
     "name": "stdout",
     "output_type": "stream",
     "text": [
      "Early stopping at epoch 11\n"
     ]
    },
    {
     "name": "stderr",
     "output_type": "stream",
     "text": [
      "[I 2024-09-12 20:50:35,735] Trial 46 finished with value: 0.5163934426229508 and parameters: {'out_channels': 30, 'kernel_size': 4, 'num_blocks': 1, 'l2_lambda': 0.0038345423068395085, 'dropout_rate': 0.2809395588808909, 'lr': 0.006651906334706721}. Best is trial 2 with value: 0.5573770491803278.\n"
     ]
    },
    {
     "name": "stdout",
     "output_type": "stream",
     "text": [
      "Early stopping at epoch 10\n"
     ]
    },
    {
     "name": "stderr",
     "output_type": "stream",
     "text": [
      "[I 2024-09-12 20:50:36,800] Trial 47 finished with value: 0.5163934426229508 and parameters: {'out_channels': 106, 'kernel_size': 3, 'num_blocks': 3, 'l2_lambda': 0.007973287714184336, 'dropout_rate': 0.24038529104786516, 'lr': 0.006975729145445608}. Best is trial 2 with value: 0.5573770491803278.\n"
     ]
    },
    {
     "name": "stdout",
     "output_type": "stream",
     "text": [
      "Early stopping at epoch 11\n"
     ]
    },
    {
     "name": "stderr",
     "output_type": "stream",
     "text": [
      "[I 2024-09-12 20:50:39,454] Trial 48 finished with value: 0.5163934426229508 and parameters: {'out_channels': 96, 'kernel_size': 4, 'num_blocks': 7, 'l2_lambda': 0.004557379982054902, 'dropout_rate': 0.16494641741466637, 'lr': 0.005226275687916691}. Best is trial 2 with value: 0.5573770491803278.\n"
     ]
    },
    {
     "name": "stdout",
     "output_type": "stream",
     "text": [
      "Early stopping at epoch 13\n"
     ]
    },
    {
     "name": "stderr",
     "output_type": "stream",
     "text": [
      "[I 2024-09-12 20:50:40,896] Trial 49 finished with value: 0.5163934426229508 and parameters: {'out_channels': 58, 'kernel_size': 5, 'num_blocks': 6, 'l2_lambda': 0.0053213720230713794, 'dropout_rate': 0.49563773309055925, 'lr': 0.0063914282872128995}. Best is trial 2 with value: 0.5573770491803278.\n"
     ]
    },
    {
     "name": "stdout",
     "output_type": "stream",
     "text": [
      "Early stopping at epoch 10\n"
     ]
    },
    {
     "name": "stderr",
     "output_type": "stream",
     "text": [
      "[I 2024-09-12 20:50:42,226] Trial 50 finished with value: 0.5163934426229508 and parameters: {'out_channels': 75, 'kernel_size': 7, 'num_blocks': 4, 'l2_lambda': 0.002579337434016522, 'dropout_rate': 0.4687667418469855, 'lr': 0.008416544406226915}. Best is trial 2 with value: 0.5573770491803278.\n"
     ]
    },
    {
     "name": "stdout",
     "output_type": "stream",
     "text": [
      "Early stopping at epoch 12\n"
     ]
    },
    {
     "name": "stderr",
     "output_type": "stream",
     "text": [
      "[I 2024-09-12 20:50:44,849] Trial 51 finished with value: 0.5163934426229508 and parameters: {'out_channels': 88, 'kernel_size': 6, 'num_blocks': 9, 'l2_lambda': 0.0020110781734129194, 'dropout_rate': 0.3130698192984518, 'lr': 0.0018631514275672528}. Best is trial 2 with value: 0.5573770491803278.\n"
     ]
    },
    {
     "name": "stdout",
     "output_type": "stream",
     "text": [
      "Early stopping at epoch 10\n"
     ]
    },
    {
     "name": "stderr",
     "output_type": "stream",
     "text": [
      "[I 2024-09-12 20:50:47,701] Trial 52 finished with value: 0.5163934426229508 and parameters: {'out_channels': 99, 'kernel_size': 6, 'num_blocks': 9, 'l2_lambda': 0.0008654131354326044, 'dropout_rate': 0.2656790466546553, 'lr': 0.007865703208557052}. Best is trial 2 with value: 0.5573770491803278.\n"
     ]
    },
    {
     "name": "stdout",
     "output_type": "stream",
     "text": [
      "Early stopping at epoch 10\n"
     ]
    },
    {
     "name": "stderr",
     "output_type": "stream",
     "text": [
      "[I 2024-09-12 20:50:51,011] Trial 53 finished with value: 0.5163934426229508 and parameters: {'out_channels': 108, 'kernel_size': 5, 'num_blocks': 10, 'l2_lambda': 0.009305265480520922, 'dropout_rate': 0.19832992685189801, 'lr': 0.005568232634567741}. Best is trial 2 with value: 0.5573770491803278.\n"
     ]
    },
    {
     "name": "stdout",
     "output_type": "stream",
     "text": [
      "Early stopping at epoch 13\n"
     ]
    },
    {
     "name": "stderr",
     "output_type": "stream",
     "text": [
      "[I 2024-09-12 20:50:54,734] Trial 54 finished with value: 0.5163934426229508 and parameters: {'out_channels': 83, 'kernel_size': 6, 'num_blocks': 10, 'l2_lambda': 0.002799229592107981, 'dropout_rate': 0.33212706351665255, 'lr': 0.00445511178359817}. Best is trial 2 with value: 0.5573770491803278.\n"
     ]
    },
    {
     "name": "stdout",
     "output_type": "stream",
     "text": [
      "Early stopping at epoch 13\n"
     ]
    },
    {
     "name": "stderr",
     "output_type": "stream",
     "text": [
      "[I 2024-09-12 20:50:57,040] Trial 55 finished with value: 0.5163934426229508 and parameters: {'out_channels': 79, 'kernel_size': 4, 'num_blocks': 8, 'l2_lambda': 0.0022106261222834254, 'dropout_rate': 0.13198752590385254, 'lr': 0.0025224956923276813}. Best is trial 2 with value: 0.5573770491803278.\n"
     ]
    },
    {
     "name": "stdout",
     "output_type": "stream",
     "text": [
      "Early stopping at epoch 10\n"
     ]
    },
    {
     "name": "stderr",
     "output_type": "stream",
     "text": [
      "[I 2024-09-12 20:50:59,586] Trial 56 finished with value: 0.5573770491803278 and parameters: {'out_channels': 90, 'kernel_size': 5, 'num_blocks': 5, 'l2_lambda': 0.001636559373115683, 'dropout_rate': 0.25743379572989394, 'lr': 0.006152722710350095}. Best is trial 2 with value: 0.5573770491803278.\n"
     ]
    },
    {
     "name": "stdout",
     "output_type": "stream",
     "text": [
      "Early stopping at epoch 19\n"
     ]
    },
    {
     "name": "stderr",
     "output_type": "stream",
     "text": [
      "[I 2024-09-12 20:51:02,536] Trial 57 finished with value: 0.5573770491803278 and parameters: {'out_channels': 65, 'kernel_size': 5, 'num_blocks': 5, 'l2_lambda': 0.0016983169635355424, 'dropout_rate': 0.2572426197571249, 'lr': 0.006040074582256868}. Best is trial 2 with value: 0.5573770491803278.\n"
     ]
    },
    {
     "name": "stdout",
     "output_type": "stream",
     "text": [
      "Early stopping at epoch 25\n"
     ]
    },
    {
     "name": "stderr",
     "output_type": "stream",
     "text": [
      "[I 2024-09-12 20:51:03,843] Trial 58 finished with value: 0.5163934426229508 and parameters: {'out_channels': 42, 'kernel_size': 5, 'num_blocks': 5, 'l2_lambda': 0.0016310898630060007, 'dropout_rate': 0.21290347212106014, 'lr': 0.006081971826931198}. Best is trial 2 with value: 0.5573770491803278.\n"
     ]
    },
    {
     "name": "stdout",
     "output_type": "stream",
     "text": [
      "Early stopping at epoch 11\n"
     ]
    },
    {
     "name": "stderr",
     "output_type": "stream",
     "text": [
      "[I 2024-09-12 20:51:06,630] Trial 59 finished with value: 0.5491803278688525 and parameters: {'out_channels': 66, 'kernel_size': 5, 'num_blocks': 5, 'l2_lambda': 0.0010591068770937245, 'dropout_rate': 0.24025170232567153, 'lr': 0.00505504871547845}. Best is trial 2 with value: 0.5573770491803278.\n"
     ]
    },
    {
     "name": "stdout",
     "output_type": "stream",
     "text": [
      "Early stopping at epoch 23\n"
     ]
    },
    {
     "name": "stderr",
     "output_type": "stream",
     "text": [
      "[I 2024-09-12 20:51:08,114] Trial 60 finished with value: 0.5163934426229508 and parameters: {'out_channels': 64, 'kernel_size': 5, 'num_blocks': 5, 'l2_lambda': 0.001084661113304398, 'dropout_rate': 0.2340715299015933, 'lr': 0.0037984212639288265}. Best is trial 2 with value: 0.5573770491803278.\n"
     ]
    },
    {
     "name": "stdout",
     "output_type": "stream",
     "text": [
      "Early stopping at epoch 12\n"
     ]
    },
    {
     "name": "stderr",
     "output_type": "stream",
     "text": [
      "[I 2024-09-12 20:51:10,298] Trial 61 finished with value: 0.5163934426229508 and parameters: {'out_channels': 61, 'kernel_size': 5, 'num_blocks': 6, 'l2_lambda': 0.000608654409571984, 'dropout_rate': 0.2545061690038121, 'lr': 0.004890152601292761}. Best is trial 2 with value: 0.5573770491803278.\n"
     ]
    },
    {
     "name": "stdout",
     "output_type": "stream",
     "text": [
      "Early stopping at epoch 14\n"
     ]
    },
    {
     "name": "stderr",
     "output_type": "stream",
     "text": [
      "[I 2024-09-12 20:51:12,874] Trial 62 finished with value: 0.5245901639344263 and parameters: {'out_channels': 54, 'kernel_size': 5, 'num_blocks': 5, 'l2_lambda': 0.001233798853897896, 'dropout_rate': 0.2810399444236776, 'lr': 0.005255632342854743}. Best is trial 2 with value: 0.5573770491803278.\n"
     ]
    },
    {
     "name": "stdout",
     "output_type": "stream",
     "text": [
      "Early stopping at epoch 22\n"
     ]
    },
    {
     "name": "stderr",
     "output_type": "stream",
     "text": [
      "[I 2024-09-12 20:51:14,240] Trial 63 finished with value: 0.5573770491803278 and parameters: {'out_channels': 68, 'kernel_size': 5, 'num_blocks': 4, 'l2_lambda': 0.0005106644063820524, 'dropout_rate': 0.11472322924052342, 'lr': 0.006164255498158204}. Best is trial 2 with value: 0.5573770491803278.\n"
     ]
    },
    {
     "name": "stdout",
     "output_type": "stream",
     "text": [
      "Early stopping at epoch 12\n"
     ]
    },
    {
     "name": "stderr",
     "output_type": "stream",
     "text": [
      "[I 2024-09-12 20:51:15,396] Trial 64 finished with value: 0.5163934426229508 and parameters: {'out_channels': 69, 'kernel_size': 5, 'num_blocks': 4, 'l2_lambda': 0.00040522085525964064, 'dropout_rate': 0.16160015528271313, 'lr': 0.006438623143053879}. Best is trial 2 with value: 0.5573770491803278.\n"
     ]
    },
    {
     "name": "stdout",
     "output_type": "stream",
     "text": [
      "Early stopping at epoch 10\n"
     ]
    },
    {
     "name": "stderr",
     "output_type": "stream",
     "text": [
      "[I 2024-09-12 20:51:16,800] Trial 65 finished with value: 0.5163934426229508 and parameters: {'out_channels': 67, 'kernel_size': 5, 'num_blocks': 5, 'l2_lambda': 0.0009207583607359318, 'dropout_rate': 0.1080899684946588, 'lr': 0.006119261797787836}. Best is trial 2 with value: 0.5573770491803278.\n"
     ]
    },
    {
     "name": "stdout",
     "output_type": "stream",
     "text": [
      "Early stopping at epoch 10\n"
     ]
    },
    {
     "name": "stderr",
     "output_type": "stream",
     "text": [
      "[I 2024-09-12 20:51:17,926] Trial 66 finished with value: 0.5163934426229508 and parameters: {'out_channels': 74, 'kernel_size': 5, 'num_blocks': 4, 'l2_lambda': 0.0015450306488366886, 'dropout_rate': 0.11884348611470652, 'lr': 0.0067716555521679005}. Best is trial 2 with value: 0.5573770491803278.\n"
     ]
    },
    {
     "name": "stdout",
     "output_type": "stream",
     "text": [
      "Early stopping at epoch 10\n"
     ]
    },
    {
     "name": "stderr",
     "output_type": "stream",
     "text": [
      "[I 2024-09-12 20:51:19,158] Trial 67 finished with value: 0.5163934426229508 and parameters: {'out_channels': 50, 'kernel_size': 5, 'num_blocks': 5, 'l2_lambda': 7.874276778254118e-05, 'dropout_rate': 0.18131867748337174, 'lr': 0.005571422184278655}. Best is trial 2 with value: 0.5573770491803278.\n"
     ]
    },
    {
     "name": "stdout",
     "output_type": "stream",
     "text": [
      "Early stopping at epoch 10\n"
     ]
    },
    {
     "name": "stderr",
     "output_type": "stream",
     "text": [
      "[I 2024-09-12 20:51:21,254] Trial 68 finished with value: 0.5163934426229508 and parameters: {'out_channels': 59, 'kernel_size': 6, 'num_blocks': 6, 'l2_lambda': 0.0017589812696449062, 'dropout_rate': 0.20968839669180184, 'lr': 0.00455466026100872}. Best is trial 2 with value: 0.5573770491803278.\n"
     ]
    },
    {
     "name": "stdout",
     "output_type": "stream",
     "text": [
      "Early stopping at epoch 13\n"
     ]
    },
    {
     "name": "stderr",
     "output_type": "stream",
     "text": [
      "[I 2024-09-12 20:51:22,280] Trial 69 finished with value: 0.5163934426229508 and parameters: {'out_channels': 53, 'kernel_size': 5, 'num_blocks': 4, 'l2_lambda': 0.0006068756203865694, 'dropout_rate': 0.14396498237660954, 'lr': 0.005035857052317996}. Best is trial 2 with value: 0.5573770491803278.\n"
     ]
    },
    {
     "name": "stdout",
     "output_type": "stream",
     "text": [
      "Early stopping at epoch 10\n"
     ]
    },
    {
     "name": "stderr",
     "output_type": "stream",
     "text": [
      "[I 2024-09-12 20:51:24,191] Trial 70 finished with value: 0.5163934426229508 and parameters: {'out_channels': 66, 'kernel_size': 6, 'num_blocks': 6, 'l2_lambda': 0.0022160813480886247, 'dropout_rate': 0.14573348345327686, 'lr': 0.0065874327226695655}. Best is trial 2 with value: 0.5573770491803278.\n"
     ]
    },
    {
     "name": "stdout",
     "output_type": "stream",
     "text": [
      "Early stopping at epoch 11\n"
     ]
    },
    {
     "name": "stderr",
     "output_type": "stream",
     "text": [
      "[I 2024-09-12 20:51:25,202] Trial 71 finished with value: 0.5163934426229508 and parameters: {'out_channels': 97, 'kernel_size': 5, 'num_blocks': 3, 'l2_lambda': 0.0013659485719617265, 'dropout_rate': 0.29616324599431154, 'lr': 0.005780619292168548}. Best is trial 2 with value: 0.5573770491803278.\n"
     ]
    },
    {
     "name": "stdout",
     "output_type": "stream",
     "text": [
      "Early stopping at epoch 10\n"
     ]
    },
    {
     "name": "stderr",
     "output_type": "stream",
     "text": [
      "[I 2024-09-12 20:51:27,746] Trial 72 finished with value: 0.5163934426229508 and parameters: {'out_channels': 103, 'kernel_size': 5, 'num_blocks': 7, 'l2_lambda': 0.0010284822235083159, 'dropout_rate': 0.11907622686238896, 'lr': 0.007029088197902177}. Best is trial 2 with value: 0.5573770491803278.\n"
     ]
    },
    {
     "name": "stdout",
     "output_type": "stream",
     "text": [
      "Early stopping at epoch 13\n"
     ]
    },
    {
     "name": "stderr",
     "output_type": "stream",
     "text": [
      "[I 2024-09-12 20:51:29,322] Trial 73 finished with value: 0.5163934426229508 and parameters: {'out_channels': 90, 'kernel_size': 5, 'num_blocks': 4, 'l2_lambda': 0.001979161094872939, 'dropout_rate': 0.27913445423485983, 'lr': 0.005999809965466411}. Best is trial 2 with value: 0.5573770491803278.\n"
     ]
    },
    {
     "name": "stdout",
     "output_type": "stream",
     "text": [
      "Early stopping at epoch 14\n"
     ]
    },
    {
     "name": "stderr",
     "output_type": "stream",
     "text": [
      "[I 2024-09-12 20:51:30,293] Trial 74 finished with value: 0.5163934426229508 and parameters: {'out_channels': 73, 'kernel_size': 6, 'num_blocks': 3, 'l2_lambda': 0.003189242400042346, 'dropout_rate': 0.3212068816280359, 'lr': 0.005470362294654093}. Best is trial 2 with value: 0.5573770491803278.\n"
     ]
    },
    {
     "name": "stdout",
     "output_type": "stream",
     "text": [
      "Early stopping at epoch 10\n"
     ]
    },
    {
     "name": "stderr",
     "output_type": "stream",
     "text": [
      "[I 2024-09-12 20:51:31,922] Trial 75 finished with value: 0.5163934426229508 and parameters: {'out_channels': 118, 'kernel_size': 7, 'num_blocks': 5, 'l2_lambda': 0.002665552201007227, 'dropout_rate': 0.24637730333801322, 'lr': 0.005057487436479078}. Best is trial 2 with value: 0.5573770491803278.\n"
     ]
    },
    {
     "name": "stdout",
     "output_type": "stream",
     "text": [
      "Early stopping at epoch 10\n"
     ]
    },
    {
     "name": "stderr",
     "output_type": "stream",
     "text": [
      "[I 2024-09-12 20:51:34,865] Trial 76 finished with value: 0.5655737704918032 and parameters: {'out_channels': 92, 'kernel_size': 4, 'num_blocks': 5, 'l2_lambda': 0.0007117004461019494, 'dropout_rate': 0.22915153309624667, 'lr': 0.0063229984724443}. Best is trial 76 with value: 0.5655737704918032.\n"
     ]
    },
    {
     "name": "stdout",
     "output_type": "stream",
     "text": [
      "Early stopping at epoch 21\n"
     ]
    },
    {
     "name": "stderr",
     "output_type": "stream",
     "text": [
      "[I 2024-09-12 20:51:36,629] Trial 77 finished with value: 0.5409836065573771 and parameters: {'out_channels': 60, 'kernel_size': 4, 'num_blocks': 5, 'l2_lambda': 0.0006662283470749586, 'dropout_rate': 0.25941219956357825, 'lr': 0.006273234876115975}. Best is trial 76 with value: 0.5655737704918032.\n"
     ]
    },
    {
     "name": "stdout",
     "output_type": "stream",
     "text": [
      "Early stopping at epoch 13\n"
     ]
    },
    {
     "name": "stderr",
     "output_type": "stream",
     "text": [
      "[I 2024-09-12 20:51:38,860] Trial 78 finished with value: 0.5163934426229508 and parameters: {'out_channels': 85, 'kernel_size': 4, 'num_blocks': 5, 'l2_lambda': 0.0012334596651924008, 'dropout_rate': 0.22215987858747854, 'lr': 0.0071619341598495225}. Best is trial 76 with value: 0.5655737704918032.\n"
     ]
    },
    {
     "name": "stdout",
     "output_type": "stream",
     "text": [
      "Early stopping at epoch 14\n"
     ]
    },
    {
     "name": "stderr",
     "output_type": "stream",
     "text": [
      "[I 2024-09-12 20:51:40,974] Trial 79 finished with value: 0.5163934426229508 and parameters: {'out_channels': 78, 'kernel_size': 4, 'num_blocks': 6, 'l2_lambda': 0.0003027911361609229, 'dropout_rate': 0.2326541171228687, 'lr': 0.007706929623684725}. Best is trial 76 with value: 0.5655737704918032.\n"
     ]
    },
    {
     "name": "stdout",
     "output_type": "stream",
     "text": [
      "Early stopping at epoch 11\n"
     ]
    },
    {
     "name": "stderr",
     "output_type": "stream",
     "text": [
      "[I 2024-09-12 20:51:42,182] Trial 80 finished with value: 0.5163934426229508 and parameters: {'out_channels': 92, 'kernel_size': 3, 'num_blocks': 4, 'l2_lambda': 0.0019009507454382868, 'dropout_rate': 0.18744012237078783, 'lr': 0.0038229815882671976}. Best is trial 76 with value: 0.5655737704918032.\n"
     ]
    },
    {
     "name": "stdout",
     "output_type": "stream",
     "text": [
      "Early stopping at epoch 10\n"
     ]
    },
    {
     "name": "stderr",
     "output_type": "stream",
     "text": [
      "[I 2024-09-12 20:51:43,454] Trial 81 finished with value: 0.5163934426229508 and parameters: {'out_channels': 101, 'kernel_size': 5, 'num_blocks': 4, 'l2_lambda': 0.0008048575171326895, 'dropout_rate': 0.29154795525602967, 'lr': 0.005881342192471487}. Best is trial 76 with value: 0.5655737704918032.\n"
     ]
    },
    {
     "name": "stdout",
     "output_type": "stream",
     "text": [
      "Early stopping at epoch 10\n"
     ]
    },
    {
     "name": "stderr",
     "output_type": "stream",
     "text": [
      "[I 2024-09-12 20:51:44,999] Trial 82 finished with value: 0.5163934426229508 and parameters: {'out_channels': 93, 'kernel_size': 4, 'num_blocks': 5, 'l2_lambda': 1.6889277291365617e-05, 'dropout_rate': 0.31174212188870043, 'lr': 0.006273629946298289}. Best is trial 76 with value: 0.5655737704918032.\n"
     ]
    },
    {
     "name": "stdout",
     "output_type": "stream",
     "text": [
      "Early stopping at epoch 10\n"
     ]
    },
    {
     "name": "stderr",
     "output_type": "stream",
     "text": [
      "[I 2024-09-12 20:51:46,174] Trial 83 finished with value: 0.5163934426229508 and parameters: {'out_channels': 86, 'kernel_size': 5, 'num_blocks': 3, 'l2_lambda': 0.0023232365961153288, 'dropout_rate': 0.27540030773031227, 'lr': 0.0075270657513236226}. Best is trial 76 with value: 0.5655737704918032.\n"
     ]
    },
    {
     "name": "stdout",
     "output_type": "stream",
     "text": [
      "Early stopping at epoch 13\n"
     ]
    },
    {
     "name": "stderr",
     "output_type": "stream",
     "text": [
      "[I 2024-09-12 20:51:47,651] Trial 84 finished with value: 0.5163934426229508 and parameters: {'out_channels': 19, 'kernel_size': 7, 'num_blocks': 6, 'l2_lambda': 0.00035872202336942555, 'dropout_rate': 0.3026412537083297, 'lr': 0.006651676589074742}. Best is trial 76 with value: 0.5655737704918032.\n"
     ]
    },
    {
     "name": "stdout",
     "output_type": "stream",
     "text": [
      "Early stopping at epoch 11\n"
     ]
    },
    {
     "name": "stderr",
     "output_type": "stream",
     "text": [
      "[I 2024-09-12 20:51:49,274] Trial 85 finished with value: 0.5163934426229508 and parameters: {'out_channels': 97, 'kernel_size': 4, 'num_blocks': 5, 'l2_lambda': 0.0034616211553337006, 'dropout_rate': 0.24271316174987623, 'lr': 0.004298908419248501}. Best is trial 76 with value: 0.5655737704918032.\n"
     ]
    },
    {
     "name": "stdout",
     "output_type": "stream",
     "text": [
      "Early stopping at epoch 10\n"
     ]
    },
    {
     "name": "stderr",
     "output_type": "stream",
     "text": [
      "[I 2024-09-12 20:51:50,767] Trial 86 finished with value: 0.5163934426229508 and parameters: {'out_channels': 63, 'kernel_size': 6, 'num_blocks': 4, 'l2_lambda': 0.008452311317751456, 'dropout_rate': 0.26088585929888153, 'lr': 0.005363570340047671}. Best is trial 76 with value: 0.5655737704918032.\n"
     ]
    },
    {
     "name": "stdout",
     "output_type": "stream",
     "text": [
      "Early stopping at epoch 12\n"
     ]
    },
    {
     "name": "stderr",
     "output_type": "stream",
     "text": [
      "[I 2024-09-12 20:51:53,360] Trial 87 finished with value: 0.5163934426229508 and parameters: {'out_channels': 110, 'kernel_size': 5, 'num_blocks': 7, 'l2_lambda': 0.007679152424055182, 'dropout_rate': 0.28673797714073124, 'lr': 0.00691442896826167}. Best is trial 76 with value: 0.5655737704918032.\n"
     ]
    },
    {
     "name": "stdout",
     "output_type": "stream",
     "text": [
      "Early stopping at epoch 13\n"
     ]
    },
    {
     "name": "stderr",
     "output_type": "stream",
     "text": [
      "[I 2024-09-12 20:51:54,111] Trial 88 finished with value: 0.5163934426229508 and parameters: {'out_channels': 89, 'kernel_size': 4, 'num_blocks': 2, 'l2_lambda': 0.0040215023425596635, 'dropout_rate': 0.27030475583835334, 'lr': 0.005818545788539145}. Best is trial 76 with value: 0.5655737704918032.\n"
     ]
    },
    {
     "name": "stdout",
     "output_type": "stream",
     "text": [
      "Early stopping at epoch 10\n"
     ]
    },
    {
     "name": "stderr",
     "output_type": "stream",
     "text": [
      "[I 2024-09-12 20:51:55,862] Trial 89 finished with value: 0.48360655737704916 and parameters: {'out_channels': 76, 'kernel_size': 6, 'num_blocks': 6, 'l2_lambda': 0.00163539992465457, 'dropout_rate': 0.25242289406043295, 'lr': 0.0002375359399619379}. Best is trial 76 with value: 0.5655737704918032.\n"
     ]
    },
    {
     "name": "stdout",
     "output_type": "stream",
     "text": [
      "Early stopping at epoch 10\n"
     ]
    },
    {
     "name": "stderr",
     "output_type": "stream",
     "text": [
      "[I 2024-09-12 20:51:57,136] Trial 90 finished with value: 0.5163934426229508 and parameters: {'out_channels': 81, 'kernel_size': 7, 'num_blocks': 3, 'l2_lambda': 0.0030332197517414622, 'dropout_rate': 0.12181515413026295, 'lr': 0.0055725957106900975}. Best is trial 76 with value: 0.5655737704918032.\n"
     ]
    },
    {
     "name": "stdout",
     "output_type": "stream",
     "text": [
      "Early stopping at epoch 14\n"
     ]
    },
    {
     "name": "stderr",
     "output_type": "stream",
     "text": [
      "[I 2024-09-12 20:51:58,548] Trial 91 finished with value: 0.5163934426229508 and parameters: {'out_channels': 57, 'kernel_size': 4, 'num_blocks': 5, 'l2_lambda': 0.0007790487603299115, 'dropout_rate': 0.2591670230540932, 'lr': 0.00634334823872946}. Best is trial 76 with value: 0.5655737704918032.\n"
     ]
    },
    {
     "name": "stdout",
     "output_type": "stream",
     "text": [
      "Early stopping at epoch 10\n"
     ]
    },
    {
     "name": "stderr",
     "output_type": "stream",
     "text": [
      "[I 2024-09-12 20:52:01,002] Trial 92 finished with value: 0.5245901639344263 and parameters: {'out_channels': 60, 'kernel_size': 4, 'num_blocks': 5, 'l2_lambda': 0.000633966688518188, 'dropout_rate': 0.23005932431184872, 'lr': 0.00623208100834931}. Best is trial 76 with value: 0.5655737704918032.\n"
     ]
    },
    {
     "name": "stdout",
     "output_type": "stream",
     "text": [
      "Early stopping at epoch 19\n"
     ]
    },
    {
     "name": "stderr",
     "output_type": "stream",
     "text": [
      "[I 2024-09-12 20:52:02,350] Trial 93 finished with value: 0.5163934426229508 and parameters: {'out_channels': 64, 'kernel_size': 3, 'num_blocks': 5, 'l2_lambda': 0.0011091960495841716, 'dropout_rate': 0.2395524434023071, 'lr': 0.0064815741386220925}. Best is trial 76 with value: 0.5655737704918032.\n"
     ]
    },
    {
     "name": "stdout",
     "output_type": "stream",
     "text": [
      "Early stopping at epoch 10\n"
     ]
    },
    {
     "name": "stderr",
     "output_type": "stream",
     "text": [
      "[I 2024-09-12 20:52:03,688] Trial 94 finished with value: 0.5163934426229508 and parameters: {'out_channels': 71, 'kernel_size': 4, 'num_blocks': 4, 'l2_lambda': 0.009969738153021195, 'dropout_rate': 0.26473581305172794, 'lr': 0.004808748902625881}. Best is trial 76 with value: 0.5655737704918032.\n"
     ]
    },
    {
     "name": "stdout",
     "output_type": "stream",
     "text": [
      "Early stopping at epoch 10\n"
     ]
    },
    {
     "name": "stderr",
     "output_type": "stream",
     "text": [
      "[I 2024-09-12 20:52:07,990] Trial 95 finished with value: 0.5245901639344263 and parameters: {'out_channels': 94, 'kernel_size': 5, 'num_blocks': 6, 'l2_lambda': 0.0014516644132311143, 'dropout_rate': 0.2963717954901587, 'lr': 0.0008838278105393121}. Best is trial 76 with value: 0.5655737704918032.\n"
     ]
    },
    {
     "name": "stdout",
     "output_type": "stream",
     "text": [
      "Early stopping at epoch 28\n"
     ]
    },
    {
     "name": "stderr",
     "output_type": "stream",
     "text": [
      "[I 2024-09-12 20:52:09,523] Trial 96 finished with value: 0.5163934426229508 and parameters: {'out_channels': 66, 'kernel_size': 4, 'num_blocks': 5, 'l2_lambda': 0.00023917070449993878, 'dropout_rate': 0.32997695138723787, 'lr': 0.006110912930974877}. Best is trial 76 with value: 0.5655737704918032.\n"
     ]
    },
    {
     "name": "stdout",
     "output_type": "stream",
     "text": [
      "Early stopping at epoch 10\n"
     ]
    },
    {
     "name": "stderr",
     "output_type": "stream",
     "text": [
      "[I 2024-09-12 20:52:10,701] Trial 97 finished with value: 0.5163934426229508 and parameters: {'out_channels': 56, 'kernel_size': 4, 'num_blocks': 4, 'l2_lambda': 0.006825169465112567, 'dropout_rate': 0.34474947206957984, 'lr': 0.006740420455382945}. Best is trial 76 with value: 0.5655737704918032.\n"
     ]
    },
    {
     "name": "stdout",
     "output_type": "stream",
     "text": [
      "Early stopping at epoch 10\n"
     ]
    },
    {
     "name": "stderr",
     "output_type": "stream",
     "text": [
      "[I 2024-09-12 20:52:12,894] Trial 98 finished with value: 0.5163934426229508 and parameters: {'out_channels': 45, 'kernel_size': 5, 'num_blocks': 8, 'l2_lambda': 0.0012631999065755928, 'dropout_rate': 0.22172809384830386, 'lr': 0.0056699316329093825}. Best is trial 76 with value: 0.5655737704918032.\n"
     ]
    },
    {
     "name": "stdout",
     "output_type": "stream",
     "text": [
      "Early stopping at epoch 12\n"
     ]
    },
    {
     "name": "stderr",
     "output_type": "stream",
     "text": [
      "[I 2024-09-12 20:52:14,621] Trial 99 finished with value: 0.5163934426229508 and parameters: {'out_channels': 99, 'kernel_size': 5, 'num_blocks': 5, 'l2_lambda': 0.0005280479276720224, 'dropout_rate': 0.2500740150101734, 'lr': 0.005991765785677615}. Best is trial 76 with value: 0.5655737704918032.\n",
      "[I 2024-09-12 20:52:14,652] A new study created in memory with name: no-name-f845df45-8f51-4494-b9a8-2d77b4af4e54\n"
     ]
    },
    {
     "name": "stdout",
     "output_type": "stream",
     "text": [
      "Early stopping at epoch 12\n",
      "Previous model accuracy: 0.5655737704918032 is better for CL=F than accuracy: 0.5655737704918032\n"
     ]
    },
    {
     "name": "stderr",
     "output_type": "stream",
     "text": [
      "[I 2024-09-12 20:52:15,965] Trial 0 finished with value: 47.52676773071289 and parameters: {'out_channels': 95, 'kernel_size': 7, 'num_blocks': 2, 'l2_lambda': 0.00897866225408211, 'dropout_rate': 0.16874056009496907, 'lr': 0.003932469439276334}. Best is trial 0 with value: 47.52676773071289.\n"
     ]
    },
    {
     "name": "stdout",
     "output_type": "stream",
     "text": [
      "Early stopping at epoch 22\n"
     ]
    },
    {
     "name": "stderr",
     "output_type": "stream",
     "text": [
      "[I 2024-09-12 20:52:18,450] Trial 1 finished with value: 1755.200927734375 and parameters: {'out_channels': 118, 'kernel_size': 5, 'num_blocks': 4, 'l2_lambda': 0.007640729701341921, 'dropout_rate': 0.46828510276836965, 'lr': 0.002656737208277382}. Best is trial 0 with value: 47.52676773071289.\n"
     ]
    },
    {
     "name": "stdout",
     "output_type": "stream",
     "text": [
      "Early stopping at epoch 22\n"
     ]
    },
    {
     "name": "stderr",
     "output_type": "stream",
     "text": [
      "[I 2024-09-12 20:52:20,827] Trial 2 finished with value: 159.2291259765625 and parameters: {'out_channels': 125, 'kernel_size': 5, 'num_blocks': 4, 'l2_lambda': 0.008386333437247888, 'dropout_rate': 0.45872969986855516, 'lr': 0.00436838123665531}. Best is trial 0 with value: 47.52676773071289.\n"
     ]
    },
    {
     "name": "stdout",
     "output_type": "stream",
     "text": [
      "Early stopping at epoch 20\n"
     ]
    },
    {
     "name": "stderr",
     "output_type": "stream",
     "text": [
      "[I 2024-09-12 20:52:22,969] Trial 3 finished with value: 1315.5919189453125 and parameters: {'out_channels': 126, 'kernel_size': 7, 'num_blocks': 4, 'l2_lambda': 0.00988839482366699, 'dropout_rate': 0.33702822082403394, 'lr': 0.005606680160028391}. Best is trial 0 with value: 47.52676773071289.\n"
     ]
    },
    {
     "name": "stdout",
     "output_type": "stream",
     "text": [
      "Early stopping at epoch 18\n"
     ]
    },
    {
     "name": "stderr",
     "output_type": "stream",
     "text": [
      "[I 2024-09-12 20:52:27,023] Trial 4 finished with value: 122.05786895751953 and parameters: {'out_channels': 120, 'kernel_size': 3, 'num_blocks': 4, 'l2_lambda': 0.0007778260647340445, 'dropout_rate': 0.3784438064979677, 'lr': 0.0042278001495826435}. Best is trial 0 with value: 47.52676773071289.\n"
     ]
    },
    {
     "name": "stdout",
     "output_type": "stream",
     "text": [
      "Early stopping at epoch 41\n"
     ]
    },
    {
     "name": "stderr",
     "output_type": "stream",
     "text": [
      "[I 2024-09-12 20:52:28,433] Trial 5 finished with value: 258.2551574707031 and parameters: {'out_channels': 102, 'kernel_size': 6, 'num_blocks': 2, 'l2_lambda': 0.009474799679087528, 'dropout_rate': 0.3199438082718191, 'lr': 0.009792265005265394}. Best is trial 0 with value: 47.52676773071289.\n"
     ]
    },
    {
     "name": "stdout",
     "output_type": "stream",
     "text": [
      "Early stopping at epoch 21\n"
     ]
    },
    {
     "name": "stderr",
     "output_type": "stream",
     "text": [
      "[I 2024-09-12 20:53:39,486] Trial 6 finished with value: 68.69078826904297 and parameters: {'out_channels': 35, 'kernel_size': 5, 'num_blocks': 3, 'l2_lambda': 0.0030405627478562805, 'dropout_rate': 0.24507566902353128, 'lr': 0.0005007885544878859}. Best is trial 0 with value: 47.52676773071289.\n",
      "[I 2024-09-12 20:53:41,238] Trial 7 finished with value: 575.4312744140625 and parameters: {'out_channels': 121, 'kernel_size': 3, 'num_blocks': 3, 'l2_lambda': 0.0031660520927206007, 'dropout_rate': 0.24004542678662522, 'lr': 0.006421784483468669}. Best is trial 0 with value: 47.52676773071289.\n"
     ]
    },
    {
     "name": "stdout",
     "output_type": "stream",
     "text": [
      "Early stopping at epoch 20\n"
     ]
    },
    {
     "name": "stderr",
     "output_type": "stream",
     "text": [
      "[I 2024-09-12 20:53:43,262] Trial 8 finished with value: 100.07290649414062 and parameters: {'out_channels': 41, 'kernel_size': 6, 'num_blocks': 2, 'l2_lambda': 0.006514136566117687, 'dropout_rate': 0.23034951393374598, 'lr': 0.0017038766025922558}. Best is trial 0 with value: 47.52676773071289.\n"
     ]
    },
    {
     "name": "stdout",
     "output_type": "stream",
     "text": [
      "Early stopping at epoch 38\n"
     ]
    },
    {
     "name": "stderr",
     "output_type": "stream",
     "text": [
      "[I 2024-09-12 20:53:50,043] Trial 9 finished with value: 147.72979736328125 and parameters: {'out_channels': 112, 'kernel_size': 6, 'num_blocks': 5, 'l2_lambda': 0.0070110324053850575, 'dropout_rate': 0.35332909503660426, 'lr': 0.0023165052797118556}. Best is trial 0 with value: 47.52676773071289.\n"
     ]
    },
    {
     "name": "stdout",
     "output_type": "stream",
     "text": [
      "Early stopping at epoch 46\n"
     ]
    },
    {
     "name": "stderr",
     "output_type": "stream",
     "text": [
      "[I 2024-09-12 20:53:50,583] Trial 10 finished with value: 256.5879211425781 and parameters: {'out_channels': 78, 'kernel_size': 7, 'num_blocks': 1, 'l2_lambda': 0.0051606142747055075, 'dropout_rate': 0.10112934873078977, 'lr': 0.008025984370193067}. Best is trial 0 with value: 47.52676773071289.\n"
     ]
    },
    {
     "name": "stdout",
     "output_type": "stream",
     "text": [
      "Early stopping at epoch 13\n"
     ]
    },
    {
     "name": "stderr",
     "output_type": "stream",
     "text": [
      "[I 2024-09-12 20:53:55,710] Trial 11 finished with value: 6.177867412567139 and parameters: {'out_channels': 20, 'kernel_size': 4, 'num_blocks': 2, 'l2_lambda': 0.0028886426487067293, 'dropout_rate': 0.14205551070643818, 'lr': 0.0005108198440341398}. Best is trial 11 with value: 6.177867412567139.\n"
     ]
    },
    {
     "name": "stdout",
     "output_type": "stream",
     "text": [
      "Early stopping at epoch 96\n"
     ]
    },
    {
     "name": "stderr",
     "output_type": "stream",
     "text": [
      "[I 2024-09-12 20:54:30,903] Trial 12 finished with value: 100.7070541381836 and parameters: {'out_channels': 19, 'kernel_size': 4, 'num_blocks': 1, 'l2_lambda': 0.0026290684181629552, 'dropout_rate': 0.11166384645283714, 'lr': 0.00016163242194358867}. Best is trial 11 with value: 6.177867412567139.\n",
      "[I 2024-09-12 20:54:32,002] Trial 13 finished with value: 1649.64208984375 and parameters: {'out_channels': 84, 'kernel_size': 4, 'num_blocks': 2, 'l2_lambda': 0.0045404551123229275, 'dropout_rate': 0.16727082992677667, 'lr': 0.003295307796222777}. Best is trial 11 with value: 6.177867412567139.\n"
     ]
    },
    {
     "name": "stdout",
     "output_type": "stream",
     "text": [
      "Early stopping at epoch 13\n"
     ]
    },
    {
     "name": "stderr",
     "output_type": "stream",
     "text": [
      "[I 2024-09-12 20:54:32,892] Trial 14 finished with value: 1740.61474609375 and parameters: {'out_channels': 56, 'kernel_size': 4, 'num_blocks': 2, 'l2_lambda': 0.00014045652554099848, 'dropout_rate': 0.16789707312711263, 'lr': 0.007087109017603363}. Best is trial 11 with value: 6.177867412567139.\n"
     ]
    },
    {
     "name": "stdout",
     "output_type": "stream",
     "text": [
      "Early stopping at epoch 14\n"
     ]
    },
    {
     "name": "stderr",
     "output_type": "stream",
     "text": [
      "[I 2024-09-12 20:54:33,660] Trial 15 finished with value: 147.9056854248047 and parameters: {'out_channels': 95, 'kernel_size': 7, 'num_blocks': 1, 'l2_lambda': 0.005340172969051312, 'dropout_rate': 0.16513983949592143, 'lr': 0.0012608558990008546}. Best is trial 11 with value: 6.177867412567139.\n"
     ]
    },
    {
     "name": "stdout",
     "output_type": "stream",
     "text": [
      "Early stopping at epoch 17\n"
     ]
    },
    {
     "name": "stderr",
     "output_type": "stream",
     "text": [
      "[I 2024-09-12 20:54:35,470] Trial 16 finished with value: 45.949913024902344 and parameters: {'out_channels': 65, 'kernel_size': 4, 'num_blocks': 3, 'l2_lambda': 0.00159588192688913, 'dropout_rate': 0.203199074383427, 'lr': 0.003471014117252206}. Best is trial 11 with value: 6.177867412567139.\n"
     ]
    },
    {
     "name": "stdout",
     "output_type": "stream",
     "text": [
      "Early stopping at epoch 20\n"
     ]
    },
    {
     "name": "stderr",
     "output_type": "stream",
     "text": [
      "[I 2024-09-12 20:54:36,961] Trial 17 finished with value: 257.3799743652344 and parameters: {'out_channels': 54, 'kernel_size': 4, 'num_blocks': 3, 'l2_lambda': 0.0015267688303944836, 'dropout_rate': 0.27590232847806484, 'lr': 0.0013540611908663606}. Best is trial 11 with value: 6.177867412567139.\n"
     ]
    },
    {
     "name": "stdout",
     "output_type": "stream",
     "text": [
      "Early stopping at epoch 18\n"
     ]
    },
    {
     "name": "stderr",
     "output_type": "stream",
     "text": [
      "[I 2024-09-12 20:54:40,165] Trial 18 finished with value: 119.56771850585938 and parameters: {'out_channels': 16, 'kernel_size': 3, 'num_blocks': 5, 'l2_lambda': 0.00176474844178111, 'dropout_rate': 0.20412018746143795, 'lr': 0.005261152241852266}. Best is trial 11 with value: 6.177867412567139.\n"
     ]
    },
    {
     "name": "stdout",
     "output_type": "stream",
     "text": [
      "Early stopping at epoch 32\n"
     ]
    },
    {
     "name": "stderr",
     "output_type": "stream",
     "text": [
      "[I 2024-09-12 20:54:41,577] Trial 19 finished with value: 638.4296875 and parameters: {'out_channels': 62, 'kernel_size': 4, 'num_blocks': 3, 'l2_lambda': 0.003985052504285505, 'dropout_rate': 0.1334954928746671, 'lr': 0.0028493532415471085}. Best is trial 11 with value: 6.177867412567139.\n"
     ]
    },
    {
     "name": "stdout",
     "output_type": "stream",
     "text": [
      "Early stopping at epoch 14\n"
     ]
    },
    {
     "name": "stderr",
     "output_type": "stream",
     "text": [
      "[I 2024-09-12 20:55:53,245] Trial 20 finished with value: 2571.629638671875 and parameters: {'out_channels': 35, 'kernel_size': 3, 'num_blocks': 3, 'l2_lambda': 0.0018871826475372797, 'dropout_rate': 0.2746618964380052, 'lr': 2.6858964946489187e-05}. Best is trial 11 with value: 6.177867412567139.\n",
      "[I 2024-09-12 20:55:54,894] Trial 21 finished with value: 107.95857238769531 and parameters: {'out_channels': 90, 'kernel_size': 5, 'num_blocks': 2, 'l2_lambda': 0.0036714263888171167, 'dropout_rate': 0.2041992547504826, 'lr': 0.004011635914704148}. Best is trial 11 with value: 6.177867412567139.\n"
     ]
    },
    {
     "name": "stdout",
     "output_type": "stream",
     "text": [
      "Early stopping at epoch 26\n"
     ]
    },
    {
     "name": "stderr",
     "output_type": "stream",
     "text": [
      "[I 2024-09-12 20:55:55,794] Trial 22 finished with value: 1656.93310546875 and parameters: {'out_channels': 65, 'kernel_size': 4, 'num_blocks': 2, 'l2_lambda': 0.006330457386751568, 'dropout_rate': 0.14479472295676674, 'lr': 0.003339409303872277}. Best is trial 11 with value: 6.177867412567139.\n"
     ]
    },
    {
     "name": "stdout",
     "output_type": "stream",
     "text": [
      "Early stopping at epoch 14\n"
     ]
    },
    {
     "name": "stderr",
     "output_type": "stream",
     "text": [
      "[I 2024-09-12 20:55:56,630] Trial 23 finished with value: 339.69696044921875 and parameters: {'out_channels': 102, 'kernel_size': 6, 'num_blocks': 1, 'l2_lambda': 0.0023737438372289604, 'dropout_rate': 0.19969046964646514, 'lr': 0.005984829474731272}. Best is trial 11 with value: 6.177867412567139.\n"
     ]
    },
    {
     "name": "stdout",
     "output_type": "stream",
     "text": [
      "Early stopping at epoch 21\n"
     ]
    },
    {
     "name": "stderr",
     "output_type": "stream",
     "text": [
      "[I 2024-09-12 20:55:58,254] Trial 24 finished with value: 487.2839660644531 and parameters: {'out_channels': 75, 'kernel_size': 4, 'num_blocks': 3, 'l2_lambda': 0.0005626762637487295, 'dropout_rate': 0.13221554901892518, 'lr': 0.004787893018373398}. Best is trial 11 with value: 6.177867412567139.\n"
     ]
    },
    {
     "name": "stdout",
     "output_type": "stream",
     "text": [
      "Early stopping at epoch 18\n"
     ]
    },
    {
     "name": "stderr",
     "output_type": "stream",
     "text": [
      "[I 2024-09-12 20:55:59,208] Trial 25 finished with value: 786.197998046875 and parameters: {'out_channels': 42, 'kernel_size': 5, 'num_blocks': 2, 'l2_lambda': 0.00872650983899811, 'dropout_rate': 0.17963719207118709, 'lr': 0.001992842626041228}. Best is trial 11 with value: 6.177867412567139.\n"
     ]
    },
    {
     "name": "stdout",
     "output_type": "stream",
     "text": [
      "Early stopping at epoch 18\n"
     ]
    },
    {
     "name": "stderr",
     "output_type": "stream",
     "text": [
      "[I 2024-09-12 20:55:59,827] Trial 26 finished with value: 422.11151123046875 and parameters: {'out_channels': 28, 'kernel_size': 3, 'num_blocks': 2, 'l2_lambda': 0.001074938371748783, 'dropout_rate': 0.27863463921504295, 'lr': 0.0075006351006575}. Best is trial 11 with value: 6.177867412567139.\n"
     ]
    },
    {
     "name": "stdout",
     "output_type": "stream",
     "text": [
      "Early stopping at epoch 11\n"
     ]
    },
    {
     "name": "stderr",
     "output_type": "stream",
     "text": [
      "[I 2024-09-12 20:56:01,076] Trial 27 finished with value: 656.7215576171875 and parameters: {'out_channels': 51, 'kernel_size': 4, 'num_blocks': 3, 'l2_lambda': 0.005621373793389761, 'dropout_rate': 0.23278490309405558, 'lr': 0.003588981769346401}. Best is trial 11 with value: 6.177867412567139.\n"
     ]
    },
    {
     "name": "stdout",
     "output_type": "stream",
     "text": [
      "Early stopping at epoch 13\n"
     ]
    },
    {
     "name": "stderr",
     "output_type": "stream",
     "text": [
      "[I 2024-09-12 20:56:01,719] Trial 28 finished with value: 262.1376647949219 and parameters: {'out_channels': 66, 'kernel_size': 6, 'num_blocks': 1, 'l2_lambda': 0.004459511639090989, 'dropout_rate': 0.14369565779923296, 'lr': 0.0008696887603268917}. Best is trial 11 with value: 6.177867412567139.\n"
     ]
    },
    {
     "name": "stdout",
     "output_type": "stream",
     "text": [
      "Early stopping at epoch 15\n"
     ]
    },
    {
     "name": "stderr",
     "output_type": "stream",
     "text": [
      "[I 2024-09-12 20:56:02,971] Trial 29 finished with value: 3169.049072265625 and parameters: {'out_channels': 113, 'kernel_size': 5, 'num_blocks': 3, 'l2_lambda': 0.007259430139164469, 'dropout_rate': 0.4826774820469838, 'lr': 0.002704190727310318}. Best is trial 11 with value: 6.177867412567139.\n"
     ]
    },
    {
     "name": "stdout",
     "output_type": "stream",
     "text": [
      "Early stopping at epoch 13\n"
     ]
    },
    {
     "name": "stderr",
     "output_type": "stream",
     "text": [
      "[I 2024-09-12 20:56:04,495] Trial 30 finished with value: 1125.870849609375 and parameters: {'out_channels': 83, 'kernel_size': 7, 'num_blocks': 4, 'l2_lambda': 0.007827935075588974, 'dropout_rate': 0.19124033165074672, 'lr': 0.00506530479582299}. Best is trial 11 with value: 6.177867412567139.\n"
     ]
    },
    {
     "name": "stdout",
     "output_type": "stream",
     "text": [
      "Early stopping at epoch 14\n"
     ]
    },
    {
     "name": "stderr",
     "output_type": "stream",
     "text": [
      "[I 2024-09-12 20:56:06,434] Trial 31 finished with value: 220.5756378173828 and parameters: {'out_channels': 27, 'kernel_size': 5, 'num_blocks': 3, 'l2_lambda': 0.0030127644806834143, 'dropout_rate': 0.25167373136377125, 'lr': 0.0006694577085613711}. Best is trial 11 with value: 6.177867412567139.\n"
     ]
    },
    {
     "name": "stdout",
     "output_type": "stream",
     "text": [
      "Early stopping at epoch 28\n"
     ]
    },
    {
     "name": "stderr",
     "output_type": "stream",
     "text": [
      "[I 2024-09-12 20:56:10,798] Trial 32 finished with value: 106.58098602294922 and parameters: {'out_channels': 25, 'kernel_size': 5, 'num_blocks': 4, 'l2_lambda': 0.003368181361356407, 'dropout_rate': 0.2593646500639485, 'lr': 0.0019205382335336892}. Best is trial 11 with value: 6.177867412567139.\n"
     ]
    },
    {
     "name": "stdout",
     "output_type": "stream",
     "text": [
      "Early stopping at epoch 50\n"
     ]
    },
    {
     "name": "stderr",
     "output_type": "stream",
     "text": [
      "[I 2024-09-12 20:56:20,596] Trial 33 finished with value: 256.450927734375 and parameters: {'out_channels': 35, 'kernel_size': 5, 'num_blocks': 4, 'l2_lambda': 0.002716086891224224, 'dropout_rate': 0.21853961655771428, 'lr': 0.0006790206605557817}. Best is trial 11 with value: 6.177867412567139.\n"
     ]
    },
    {
     "name": "stdout",
     "output_type": "stream",
     "text": [
      "Early stopping at epoch 108\n"
     ]
    },
    {
     "name": "stderr",
     "output_type": "stream",
     "text": [
      "[I 2024-09-12 20:56:21,568] Trial 34 finished with value: 1240.097900390625 and parameters: {'out_channels': 46, 'kernel_size': 4, 'num_blocks': 2, 'l2_lambda': 0.002131832870911932, 'dropout_rate': 0.4428740003678012, 'lr': 0.0025378262213980284}. Best is trial 11 with value: 6.177867412567139.\n"
     ]
    },
    {
     "name": "stdout",
     "output_type": "stream",
     "text": [
      "Early stopping at epoch 14\n"
     ]
    },
    {
     "name": "stderr",
     "output_type": "stream",
     "text": [
      "[I 2024-09-12 20:56:22,752] Trial 35 finished with value: 863.607177734375 and parameters: {'out_channels': 32, 'kernel_size': 6, 'num_blocks': 3, 'l2_lambda': 0.003973908909752428, 'dropout_rate': 0.31311647738489035, 'lr': 0.0045441904472143715}. Best is trial 11 with value: 6.177867412567139.\n"
     ]
    },
    {
     "name": "stdout",
     "output_type": "stream",
     "text": [
      "Early stopping at epoch 13\n"
     ]
    },
    {
     "name": "stderr",
     "output_type": "stream",
     "text": [
      "[I 2024-09-12 20:56:24,578] Trial 36 finished with value: 218.5208282470703 and parameters: {'out_channels': 22, 'kernel_size': 5, 'num_blocks': 2, 'l2_lambda': 0.001191280707162062, 'dropout_rate': 0.11969210341629495, 'lr': 0.0035370893610123053}. Best is trial 11 with value: 6.177867412567139.\n"
     ]
    },
    {
     "name": "stdout",
     "output_type": "stream",
     "text": [
      "Early stopping at epoch 34\n"
     ]
    },
    {
     "name": "stderr",
     "output_type": "stream",
     "text": [
      "[I 2024-09-12 20:56:29,416] Trial 37 finished with value: 147.1459503173828 and parameters: {'out_channels': 70, 'kernel_size': 3, 'num_blocks': 3, 'l2_lambda': 0.009133899366038756, 'dropout_rate': 0.1552987395046473, 'lr': 0.00944585563373854}. Best is trial 11 with value: 6.177867412567139.\n"
     ]
    },
    {
     "name": "stdout",
     "output_type": "stream",
     "text": [
      "Early stopping at epoch 65\n"
     ]
    },
    {
     "name": "stderr",
     "output_type": "stream",
     "text": [
      "[I 2024-09-12 20:56:32,026] Trial 38 finished with value: 151.2872772216797 and parameters: {'out_channels': 105, 'kernel_size': 6, 'num_blocks': 4, 'l2_lambda': 0.004479311241285666, 'dropout_rate': 0.39190522624044494, 'lr': 0.004153731919988427}. Best is trial 11 with value: 6.177867412567139.\n"
     ]
    },
    {
     "name": "stdout",
     "output_type": "stream",
     "text": [
      "Early stopping at epoch 20\n"
     ]
    },
    {
     "name": "stderr",
     "output_type": "stream",
     "text": [
      "[I 2024-09-12 20:56:32,766] Trial 39 finished with value: 391.1632385253906 and parameters: {'out_channels': 92, 'kernel_size': 7, 'num_blocks': 2, 'l2_lambda': 0.009937928919383967, 'dropout_rate': 0.21837822751264213, 'lr': 0.0014715519236344508}. Best is trial 11 with value: 6.177867412567139.\n"
     ]
    },
    {
     "name": "stdout",
     "output_type": "stream",
     "text": [
      "Early stopping at epoch 11\n"
     ]
    },
    {
     "name": "stderr",
     "output_type": "stream",
     "text": [
      "[I 2024-09-12 20:56:36,484] Trial 40 finished with value: 193.78863525390625 and parameters: {'out_channels': 40, 'kernel_size': 4, 'num_blocks': 3, 'l2_lambda': 0.006119266973032941, 'dropout_rate': 0.1850590726409203, 'lr': 0.0004089701032507691}. Best is trial 11 with value: 6.177867412567139.\n"
     ]
    },
    {
     "name": "stdout",
     "output_type": "stream",
     "text": [
      "Early stopping at epoch 52\n"
     ]
    },
    {
     "name": "stderr",
     "output_type": "stream",
     "text": [
      "[I 2024-09-12 20:56:37,688] Trial 41 finished with value: 281.9978942871094 and parameters: {'out_channels': 47, 'kernel_size': 6, 'num_blocks': 2, 'l2_lambda': 0.008043865995737708, 'dropout_rate': 0.2964099135126468, 'lr': 0.0017593431920358837}. Best is trial 11 with value: 6.177867412567139.\n"
     ]
    },
    {
     "name": "stdout",
     "output_type": "stream",
     "text": [
      "Early stopping at epoch 19\n"
     ]
    },
    {
     "name": "stderr",
     "output_type": "stream",
     "text": [
      "[I 2024-09-12 20:56:38,616] Trial 42 finished with value: 388.5078125 and parameters: {'out_channels': 58, 'kernel_size': 7, 'num_blocks': 2, 'l2_lambda': 0.007282419464333234, 'dropout_rate': 0.23429424702478582, 'lr': 0.002244118142207794}. Best is trial 11 with value: 6.177867412567139.\n"
     ]
    },
    {
     "name": "stdout",
     "output_type": "stream",
     "text": [
      "Early stopping at epoch 15\n"
     ]
    },
    {
     "name": "stderr",
     "output_type": "stream",
     "text": [
      "[I 2024-09-12 20:56:41,123] Trial 43 finished with value: 94.47175598144531 and parameters: {'out_channels': 38, 'kernel_size': 6, 'num_blocks': 1, 'l2_lambda': 0.006413355937002941, 'dropout_rate': 0.22320199656874226, 'lr': 0.0010631060126908838}. Best is trial 11 with value: 6.177867412567139.\n"
     ]
    },
    {
     "name": "stdout",
     "output_type": "stream",
     "text": [
      "Early stopping at epoch 72\n"
     ]
    },
    {
     "name": "stderr",
     "output_type": "stream",
     "text": [
      "[I 2024-09-12 20:56:41,922] Trial 44 finished with value: 365.0928955078125 and parameters: {'out_channels': 30, 'kernel_size': 7, 'num_blocks': 1, 'l2_lambda': 0.005806729355773025, 'dropout_rate': 0.2542633804074727, 'lr': 0.0010223361167913448}. Best is trial 11 with value: 6.177867412567139.\n"
     ]
    },
    {
     "name": "stdout",
     "output_type": "stream",
     "text": [
      "Early stopping at epoch 23\n"
     ]
    },
    {
     "name": "stderr",
     "output_type": "stream",
     "text": [
      "[I 2024-09-12 20:57:16,469] Trial 45 finished with value: 288.5689392089844 and parameters: {'out_channels': 20, 'kernel_size': 6, 'num_blocks': 1, 'l2_lambda': 0.00687617962788709, 'dropout_rate': 0.21852973845442822, 'lr': 0.000434934676102355}. Best is trial 11 with value: 6.177867412567139.\n",
      "[I 2024-09-12 20:57:17,219] Trial 46 finished with value: 493.3848571777344 and parameters: {'out_channels': 38, 'kernel_size': 5, 'num_blocks': 1, 'l2_lambda': 0.009314971894072379, 'dropout_rate': 0.17906633151853818, 'lr': 0.0030899452380473806}. Best is trial 11 with value: 6.177867412567139.\n"
     ]
    },
    {
     "name": "stdout",
     "output_type": "stream",
     "text": [
      "Early stopping at epoch 17\n"
     ]
    },
    {
     "name": "stderr",
     "output_type": "stream",
     "text": [
      "[I 2024-09-12 20:57:20,612] Trial 47 finished with value: 52.12106704711914 and parameters: {'out_channels': 47, 'kernel_size': 7, 'num_blocks': 5, 'l2_lambda': 0.0048430912482797, 'dropout_rate': 0.10057528454279988, 'lr': 0.0057657378570439765}. Best is trial 11 with value: 6.177867412567139.\n"
     ]
    },
    {
     "name": "stdout",
     "output_type": "stream",
     "text": [
      "Early stopping at epoch 27\n"
     ]
    },
    {
     "name": "stderr",
     "output_type": "stream",
     "text": [
      "[I 2024-09-12 20:57:23,157] Trial 48 finished with value: 126.79622650146484 and parameters: {'out_channels': 48, 'kernel_size': 7, 'num_blocks': 5, 'l2_lambda': 0.002949126722502779, 'dropout_rate': 0.11101206734684384, 'lr': 0.0065274632683411365}. Best is trial 11 with value: 6.177867412567139.\n"
     ]
    },
    {
     "name": "stdout",
     "output_type": "stream",
     "text": [
      "Early stopping at epoch 22\n"
     ]
    },
    {
     "name": "stderr",
     "output_type": "stream",
     "text": [
      "[I 2024-09-12 20:57:26,425] Trial 49 finished with value: 104.9559326171875 and parameters: {'out_channels': 83, 'kernel_size': 7, 'num_blocks': 5, 'l2_lambda': 0.0023188142578598595, 'dropout_rate': 0.10147874880840446, 'lr': 0.0056727994863560146}. Best is trial 11 with value: 6.177867412567139.\n"
     ]
    },
    {
     "name": "stdout",
     "output_type": "stream",
     "text": [
      "Early stopping at epoch 25\n"
     ]
    },
    {
     "name": "stderr",
     "output_type": "stream",
     "text": [
      "[I 2024-09-12 20:57:28,970] Trial 50 finished with value: 95.20629119873047 and parameters: {'out_channels': 59, 'kernel_size': 4, 'num_blocks': 3, 'l2_lambda': 0.0035276715959843986, 'dropout_rate': 0.1266474082068624, 'lr': 0.006408146963145064}. Best is trial 11 with value: 6.177867412567139.\n"
     ]
    },
    {
     "name": "stdout",
     "output_type": "stream",
     "text": [
      "Early stopping at epoch 32\n"
     ]
    },
    {
     "name": "stderr",
     "output_type": "stream",
     "text": [
      "[I 2024-09-12 20:57:30,643] Trial 51 finished with value: 236.6022186279297 and parameters: {'out_channels': 126, 'kernel_size': 7, 'num_blocks': 4, 'l2_lambda': 0.004942192363833704, 'dropout_rate': 0.14910052174353683, 'lr': 5.547871716356516e-05}. Best is trial 11 with value: 6.177867412567139.\n"
     ]
    },
    {
     "name": "stdout",
     "output_type": "stream",
     "text": [
      "Early stopping at epoch 13\n"
     ]
    },
    {
     "name": "stderr",
     "output_type": "stream",
     "text": [
      "[I 2024-09-12 20:57:31,551] Trial 52 finished with value: 100.88895416259766 and parameters: {'out_channels': 43, 'kernel_size': 7, 'num_blocks': 1, 'l2_lambda': 0.004978938398449005, 'dropout_rate': 0.16604867380629676, 'lr': 0.0011851412546242976}. Best is trial 11 with value: 6.177867412567139.\n"
     ]
    },
    {
     "name": "stdout",
     "output_type": "stream",
     "text": [
      "Early stopping at epoch 28\n"
     ]
    },
    {
     "name": "stderr",
     "output_type": "stream",
     "text": [
      "[I 2024-09-12 20:57:33,094] Trial 53 finished with value: 126.0892562866211 and parameters: {'out_channels': 53, 'kernel_size': 6, 'num_blocks': 2, 'l2_lambda': 0.008368785652108543, 'dropout_rate': 0.2001915586215469, 'lr': 0.004089303592880134}. Best is trial 11 with value: 6.177867412567139.\n"
     ]
    },
    {
     "name": "stdout",
     "output_type": "stream",
     "text": [
      "Early stopping at epoch 26\n"
     ]
    },
    {
     "name": "stderr",
     "output_type": "stream",
     "text": [
      "[I 2024-09-12 20:57:35,340] Trial 54 finished with value: 65.54166412353516 and parameters: {'out_channels': 16, 'kernel_size': 6, 'num_blocks': 5, 'l2_lambda': 0.004016500021522557, 'dropout_rate': 0.15839354344665443, 'lr': 0.005499409759876113}. Best is trial 11 with value: 6.177867412567139.\n"
     ]
    },
    {
     "name": "stdout",
     "output_type": "stream",
     "text": [
      "Early stopping at epoch 19\n"
     ]
    },
    {
     "name": "stderr",
     "output_type": "stream",
     "text": [
      "[I 2024-09-12 20:57:37,299] Trial 55 finished with value: 247.7157745361328 and parameters: {'out_channels': 23, 'kernel_size': 7, 'num_blocks': 5, 'l2_lambda': 0.004345070274311677, 'dropout_rate': 0.1573946180304493, 'lr': 0.0054328645274002415}. Best is trial 11 with value: 6.177867412567139.\n"
     ]
    },
    {
     "name": "stdout",
     "output_type": "stream",
     "text": [
      "Early stopping at epoch 17\n"
     ]
    },
    {
     "name": "stderr",
     "output_type": "stream",
     "text": [
      "[I 2024-09-12 20:57:38,721] Trial 56 finished with value: 234.3053436279297 and parameters: {'out_channels': 16, 'kernel_size': 3, 'num_blocks': 5, 'l2_lambda': 0.003857811485645077, 'dropout_rate': 0.13509389766099672, 'lr': 0.005892718169462444}. Best is trial 11 with value: 6.177867412567139.\n"
     ]
    },
    {
     "name": "stdout",
     "output_type": "stream",
     "text": [
      "Early stopping at epoch 13\n"
     ]
    },
    {
     "name": "stderr",
     "output_type": "stream",
     "text": [
      "[I 2024-09-12 20:57:42,452] Trial 57 finished with value: 152.68836975097656 and parameters: {'out_channels': 34, 'kernel_size': 6, 'num_blocks': 5, 'l2_lambda': 0.001785280934252475, 'dropout_rate': 0.17561136997863594, 'lr': 0.006835791216318036}. Best is trial 11 with value: 6.177867412567139.\n"
     ]
    },
    {
     "name": "stdout",
     "output_type": "stream",
     "text": [
      "Early stopping at epoch 27\n"
     ]
    },
    {
     "name": "stderr",
     "output_type": "stream",
     "text": [
      "[I 2024-09-12 20:57:44,177] Trial 58 finished with value: 609.4767456054688 and parameters: {'out_channels': 17, 'kernel_size': 4, 'num_blocks': 4, 'l2_lambda': 0.003253336743089868, 'dropout_rate': 0.14721096064797815, 'lr': 0.004835786066915719}. Best is trial 11 with value: 6.177867412567139.\n"
     ]
    },
    {
     "name": "stdout",
     "output_type": "stream",
     "text": [
      "Early stopping at epoch 16\n"
     ]
    },
    {
     "name": "stderr",
     "output_type": "stream",
     "text": [
      "[I 2024-09-12 20:57:46,707] Trial 59 finished with value: 192.67677307128906 and parameters: {'out_channels': 78, 'kernel_size': 5, 'num_blocks': 4, 'l2_lambda': 0.0026117534420614158, 'dropout_rate': 0.11841806429626578, 'lr': 0.00388161989245184}. Best is trial 11 with value: 6.177867412567139.\n"
     ]
    },
    {
     "name": "stdout",
     "output_type": "stream",
     "text": [
      "Early stopping at epoch 23\n"
     ]
    },
    {
     "name": "stderr",
     "output_type": "stream",
     "text": [
      "[I 2024-09-12 20:57:48,737] Trial 60 finished with value: 186.96717834472656 and parameters: {'out_channels': 26, 'kernel_size': 7, 'num_blocks': 5, 'l2_lambda': 0.0005926275400988668, 'dropout_rate': 0.10049502215685593, 'lr': 0.008270079066892335}. Best is trial 11 with value: 6.177867412567139.\n"
     ]
    },
    {
     "name": "stdout",
     "output_type": "stream",
     "text": [
      "Early stopping at epoch 20\n"
     ]
    },
    {
     "name": "stderr",
     "output_type": "stream",
     "text": [
      "[I 2024-09-12 20:57:49,750] Trial 61 finished with value: 203.28207397460938 and parameters: {'out_channels': 36, 'kernel_size': 6, 'num_blocks': 3, 'l2_lambda': 0.005455711969760201, 'dropout_rate': 0.19389291109511053, 'lr': 0.0052028156079141925}. Best is trial 11 with value: 6.177867412567139.\n"
     ]
    },
    {
     "name": "stdout",
     "output_type": "stream",
     "text": [
      "Early stopping at epoch 11\n"
     ]
    },
    {
     "name": "stderr",
     "output_type": "stream",
     "text": [
      "[I 2024-09-12 20:57:50,715] Trial 62 finished with value: 1349.1669921875 and parameters: {'out_channels': 30, 'kernel_size': 6, 'num_blocks': 2, 'l2_lambda': 0.004809449787114426, 'dropout_rate': 0.20934076813884533, 'lr': 0.004412657776288483}. Best is trial 11 with value: 6.177867412567139.\n"
     ]
    },
    {
     "name": "stdout",
     "output_type": "stream",
     "text": [
      "Early stopping at epoch 15\n"
     ]
    },
    {
     "name": "stderr",
     "output_type": "stream",
     "text": [
      "[I 2024-09-12 20:57:51,818] Trial 63 finished with value: 151.80088806152344 and parameters: {'out_channels': 20, 'kernel_size': 4, 'num_blocks': 1, 'l2_lambda': 0.004324577513838734, 'dropout_rate': 0.1679645342082996, 'lr': 0.0014637692240975807}. Best is trial 11 with value: 6.177867412567139.\n"
     ]
    },
    {
     "name": "stdout",
     "output_type": "stream",
     "text": [
      "Early stopping at epoch 31\n"
     ]
    },
    {
     "name": "stderr",
     "output_type": "stream",
     "text": [
      "[I 2024-09-12 20:58:15,595] Trial 64 finished with value: 1.7192505598068237 and parameters: {'out_channels': 70, 'kernel_size': 5, 'num_blocks': 3, 'l2_lambda': 0.0015075145636260934, 'dropout_rate': 0.13545072709176068, 'lr': 0.006007367023833025}. Best is trial 64 with value: 1.7192505598068237.\n"
     ]
    },
    {
     "name": "stdout",
     "output_type": "stream",
     "text": [
      "Early stopping at epoch 317\n"
     ]
    },
    {
     "name": "stderr",
     "output_type": "stream",
     "text": [
      "[I 2024-09-12 20:58:17,246] Trial 65 finished with value: 340.289794921875 and parameters: {'out_channels': 66, 'kernel_size': 5, 'num_blocks': 3, 'l2_lambda': 0.0014211036312066635, 'dropout_rate': 0.13841129140432232, 'lr': 0.00605609903770021}. Best is trial 64 with value: 1.7192505598068237.\n"
     ]
    },
    {
     "name": "stdout",
     "output_type": "stream",
     "text": [
      "Early stopping at epoch 20\n"
     ]
    },
    {
     "name": "stderr",
     "output_type": "stream",
     "text": [
      "[I 2024-09-12 20:58:18,994] Trial 66 finished with value: 206.4844970703125 and parameters: {'out_channels': 72, 'kernel_size': 5, 'num_blocks': 3, 'l2_lambda': 0.0008354599757939454, 'dropout_rate': 0.1262401763322466, 'lr': 0.00710350044473436}. Best is trial 64 with value: 1.7192505598068237.\n"
     ]
    },
    {
     "name": "stdout",
     "output_type": "stream",
     "text": [
      "Early stopping at epoch 20\n"
     ]
    },
    {
     "name": "stderr",
     "output_type": "stream",
     "text": [
      "[I 2024-09-12 20:58:20,116] Trial 67 finished with value: 456.44244384765625 and parameters: {'out_channels': 87, 'kernel_size': 4, 'num_blocks': 3, 'l2_lambda': 0.0021000562684225506, 'dropout_rate': 0.15771221053557113, 'lr': 0.004802814945412045}. Best is trial 64 with value: 1.7192505598068237.\n"
     ]
    },
    {
     "name": "stdout",
     "output_type": "stream",
     "text": [
      "Early stopping at epoch 11\n"
     ]
    },
    {
     "name": "stderr",
     "output_type": "stream",
     "text": [
      "[I 2024-09-12 20:58:21,582] Trial 68 finished with value: 29.050113677978516 and parameters: {'out_channels': 62, 'kernel_size': 5, 'num_blocks': 3, 'l2_lambda': 0.000291623446324522, 'dropout_rate': 0.1164245512751823, 'lr': 0.005721641076412714}. Best is trial 64 with value: 1.7192505598068237.\n"
     ]
    },
    {
     "name": "stdout",
     "output_type": "stream",
     "text": [
      "Early stopping at epoch 18\n"
     ]
    },
    {
     "name": "stderr",
     "output_type": "stream",
     "text": [
      "[I 2024-09-12 20:58:25,129] Trial 69 finished with value: 199.5984649658203 and parameters: {'out_channels': 63, 'kernel_size': 4, 'num_blocks': 5, 'l2_lambda': 0.00029925122830435887, 'dropout_rate': 0.11135045717902171, 'lr': 0.0056201511803524755}. Best is trial 64 with value: 1.7192505598068237.\n"
     ]
    },
    {
     "name": "stdout",
     "output_type": "stream",
     "text": [
      "Early stopping at epoch 26\n"
     ]
    },
    {
     "name": "stderr",
     "output_type": "stream",
     "text": [
      "[I 2024-09-12 20:58:28,175] Trial 70 finished with value: 294.5803527832031 and parameters: {'out_channels': 77, 'kernel_size': 5, 'num_blocks': 4, 'l2_lambda': 0.0011278255411782036, 'dropout_rate': 0.13938716850534566, 'lr': 0.006186307863776677}. Best is trial 64 with value: 1.7192505598068237.\n"
     ]
    },
    {
     "name": "stdout",
     "output_type": "stream",
     "text": [
      "Early stopping at epoch 30\n"
     ]
    },
    {
     "name": "stderr",
     "output_type": "stream",
     "text": [
      "[I 2024-09-12 20:58:29,228] Trial 71 finished with value: 1059.9195556640625 and parameters: {'out_channels': 70, 'kernel_size': 5, 'num_blocks': 3, 'l2_lambda': 0.00012261336539191428, 'dropout_rate': 0.12264443655005149, 'lr': 0.005195471239933946}. Best is trial 64 with value: 1.7192505598068237.\n"
     ]
    },
    {
     "name": "stdout",
     "output_type": "stream",
     "text": [
      "Early stopping at epoch 11\n"
     ]
    },
    {
     "name": "stderr",
     "output_type": "stream",
     "text": [
      "[I 2024-09-12 20:58:30,207] Trial 72 finished with value: 1516.383544921875 and parameters: {'out_channels': 59, 'kernel_size': 5, 'num_blocks': 3, 'l2_lambda': 0.0014389828178176809, 'dropout_rate': 0.1737393719711074, 'lr': 0.006865074649468774}. Best is trial 64 with value: 1.7192505598068237.\n"
     ]
    },
    {
     "name": "stdout",
     "output_type": "stream",
     "text": [
      "Early stopping at epoch 12\n"
     ]
    },
    {
     "name": "stderr",
     "output_type": "stream",
     "text": [
      "[I 2024-09-12 20:58:33,071] Trial 73 finished with value: 85.86288452148438 and parameters: {'out_channels': 98, 'kernel_size': 5, 'num_blocks': 3, 'l2_lambda': 0.0037651517192463435, 'dropout_rate': 0.1546146477093593, 'lr': 0.00575709450559226}. Best is trial 64 with value: 1.7192505598068237.\n"
     ]
    },
    {
     "name": "stdout",
     "output_type": "stream",
     "text": [
      "Early stopping at epoch 35\n"
     ]
    },
    {
     "name": "stderr",
     "output_type": "stream",
     "text": [
      "[I 2024-09-12 20:58:34,295] Trial 74 finished with value: 1179.795166015625 and parameters: {'out_channels': 54, 'kernel_size': 5, 'num_blocks': 2, 'l2_lambda': 0.0026423658902842567, 'dropout_rate': 0.19012696224631775, 'lr': 0.007814925796325157}. Best is trial 64 with value: 1.7192505598068237.\n"
     ]
    },
    {
     "name": "stdout",
     "output_type": "stream",
     "text": [
      "Early stopping at epoch 22\n"
     ]
    },
    {
     "name": "stderr",
     "output_type": "stream",
     "text": [
      "[I 2024-09-12 20:58:35,697] Trial 75 finished with value: 5003.76318359375 and parameters: {'out_channels': 69, 'kernel_size': 4, 'num_blocks': 3, 'l2_lambda': 0.002981446484327594, 'dropout_rate': 0.24253766540576593, 'lr': 0.00459832005733364}. Best is trial 64 with value: 1.7192505598068237.\n"
     ]
    },
    {
     "name": "stdout",
     "output_type": "stream",
     "text": [
      "Early stopping at epoch 15\n"
     ]
    },
    {
     "name": "stderr",
     "output_type": "stream",
     "text": [
      "[I 2024-09-12 20:58:37,081] Trial 76 finished with value: 155.69602966308594 and parameters: {'out_channels': 73, 'kernel_size': 5, 'num_blocks': 4, 'l2_lambda': 0.004156172477401471, 'dropout_rate': 0.11094796042414061, 'lr': 0.006368887483111377}. Best is trial 64 with value: 1.7192505598068237.\n"
     ]
    },
    {
     "name": "stdout",
     "output_type": "stream",
     "text": [
      "Early stopping at epoch 12\n"
     ]
    },
    {
     "name": "stderr",
     "output_type": "stream",
     "text": [
      "[I 2024-09-12 20:58:38,332] Trial 77 finished with value: 124.00663757324219 and parameters: {'out_channels': 51, 'kernel_size': 5, 'num_blocks': 2, 'l2_lambda': 0.0047653089323687736, 'dropout_rate': 0.13235051862400704, 'lr': 0.003602685488599615}. Best is trial 64 with value: 1.7192505598068237.\n"
     ]
    },
    {
     "name": "stdout",
     "output_type": "stream",
     "text": [
      "Early stopping at epoch 21\n"
     ]
    },
    {
     "name": "stderr",
     "output_type": "stream",
     "text": [
      "[I 2024-09-12 20:58:39,385] Trial 78 finished with value: 613.73974609375 and parameters: {'out_channels': 63, 'kernel_size': 4, 'num_blocks': 3, 'l2_lambda': 0.003522238106321039, 'dropout_rate': 0.26873169396308116, 'lr': 0.005509093982984656}. Best is trial 64 with value: 1.7192505598068237.\n"
     ]
    },
    {
     "name": "stdout",
     "output_type": "stream",
     "text": [
      "Early stopping at epoch 11\n"
     ]
    },
    {
     "name": "stderr",
     "output_type": "stream",
     "text": [
      "[I 2024-09-12 20:58:41,728] Trial 79 finished with value: 2196.00537109375 and parameters: {'out_channels': 115, 'kernel_size': 6, 'num_blocks': 3, 'l2_lambda': 0.0019770022705189153, 'dropout_rate': 0.1470356551783947, 'lr': 0.003094483538262068}. Best is trial 64 with value: 1.7192505598068237.\n"
     ]
    },
    {
     "name": "stdout",
     "output_type": "stream",
     "text": [
      "Early stopping at epoch 22\n"
     ]
    },
    {
     "name": "stderr",
     "output_type": "stream",
     "text": [
      "[I 2024-09-12 20:58:43,215] Trial 80 finished with value: 479.4020080566406 and parameters: {'out_channels': 105, 'kernel_size': 7, 'num_blocks': 3, 'l2_lambda': 0.0008979120520076396, 'dropout_rate': 0.21099426827197715, 'lr': 0.004945557902307456}. Best is trial 64 with value: 1.7192505598068237.\n"
     ]
    },
    {
     "name": "stdout",
     "output_type": "stream",
     "text": [
      "Early stopping at epoch 16\n"
     ]
    },
    {
     "name": "stderr",
     "output_type": "stream",
     "text": [
      "[I 2024-09-12 20:58:45,111] Trial 81 finished with value: 262.48785400390625 and parameters: {'out_channels': 101, 'kernel_size': 5, 'num_blocks': 3, 'l2_lambda': 0.003745761926684593, 'dropout_rate': 0.15660019708183887, 'lr': 0.005830144368129503}. Best is trial 64 with value: 1.7192505598068237.\n"
     ]
    },
    {
     "name": "stdout",
     "output_type": "stream",
     "text": [
      "Early stopping at epoch 23\n"
     ]
    },
    {
     "name": "stderr",
     "output_type": "stream",
     "text": [
      "[I 2024-09-12 20:58:46,942] Trial 82 finished with value: 1037.7752685546875 and parameters: {'out_channels': 97, 'kernel_size': 5, 'num_blocks': 3, 'l2_lambda': 0.0016627740119820257, 'dropout_rate': 0.18237896041043367, 'lr': 0.006648910437033927}. Best is trial 64 with value: 1.7192505598068237.\n"
     ]
    },
    {
     "name": "stdout",
     "output_type": "stream",
     "text": [
      "Early stopping at epoch 22\n"
     ]
    },
    {
     "name": "stderr",
     "output_type": "stream",
     "text": [
      "[I 2024-09-12 20:58:48,385] Trial 83 finished with value: 707.654052734375 and parameters: {'out_channels': 108, 'kernel_size': 5, 'num_blocks': 3, 'l2_lambda': 0.0023567114800436195, 'dropout_rate': 0.11804528072187419, 'lr': 0.006184667113770935}. Best is trial 64 with value: 1.7192505598068237.\n"
     ]
    },
    {
     "name": "stdout",
     "output_type": "stream",
     "text": [
      "Early stopping at epoch 17\n"
     ]
    },
    {
     "name": "stderr",
     "output_type": "stream",
     "text": [
      "[I 2024-09-12 20:58:51,365] Trial 84 finished with value: 46.77851104736328 and parameters: {'out_channels': 95, 'kernel_size': 5, 'num_blocks': 2, 'l2_lambda': 0.004113998131718165, 'dropout_rate': 0.16312859623016268, 'lr': 0.005325107470137123}. Best is trial 64 with value: 1.7192505598068237.\n"
     ]
    },
    {
     "name": "stdout",
     "output_type": "stream",
     "text": [
      "Early stopping at epoch 52\n"
     ]
    },
    {
     "name": "stderr",
     "output_type": "stream",
     "text": [
      "[I 2024-09-12 20:58:52,957] Trial 85 finished with value: 341.142578125 and parameters: {'out_channels': 93, 'kernel_size': 5, 'num_blocks': 2, 'l2_lambda': 0.005199375258194082, 'dropout_rate': 0.33177904045523243, 'lr': 0.005376572638915956}. Best is trial 64 with value: 1.7192505598068237.\n"
     ]
    },
    {
     "name": "stdout",
     "output_type": "stream",
     "text": [
      "Early stopping at epoch 27\n"
     ]
    },
    {
     "name": "stderr",
     "output_type": "stream",
     "text": [
      "[I 2024-09-12 20:58:59,409] Trial 86 finished with value: 342.8721923828125 and parameters: {'out_channels': 86, 'kernel_size': 6, 'num_blocks': 2, 'l2_lambda': 0.004109641926069197, 'dropout_rate': 0.16650044147029167, 'lr': 0.0003739066054650117}. Best is trial 64 with value: 1.7192505598068237.\n"
     ]
    },
    {
     "name": "stdout",
     "output_type": "stream",
     "text": [
      "Early stopping at epoch 105\n"
     ]
    },
    {
     "name": "stderr",
     "output_type": "stream",
     "text": [
      "[I 2024-09-12 20:59:00,956] Trial 87 finished with value: 235.86122131347656 and parameters: {'out_channels': 44, 'kernel_size': 3, 'num_blocks': 2, 'l2_lambda': 0.00038800523773065555, 'dropout_rate': 0.28631782512612536, 'lr': 0.002332804607092919}. Best is trial 64 with value: 1.7192505598068237.\n"
     ]
    },
    {
     "name": "stdout",
     "output_type": "stream",
     "text": [
      "Early stopping at epoch 32\n"
     ]
    },
    {
     "name": "stderr",
     "output_type": "stream",
     "text": [
      "[I 2024-09-12 20:59:03,196] Trial 88 finished with value: 385.49224853515625 and parameters: {'out_channels': 81, 'kernel_size': 4, 'num_blocks': 2, 'l2_lambda': 0.005830033849644194, 'dropout_rate': 0.10008855209170395, 'lr': 0.005079748982341535}. Best is trial 64 with value: 1.7192505598068237.\n"
     ]
    },
    {
     "name": "stdout",
     "output_type": "stream",
     "text": [
      "Early stopping at epoch 36\n"
     ]
    },
    {
     "name": "stderr",
     "output_type": "stream",
     "text": [
      "[I 2024-09-12 20:59:05,336] Trial 89 finished with value: 1333.11572265625 and parameters: {'out_channels': 68, 'kernel_size': 7, 'num_blocks': 5, 'l2_lambda': 0.004690956099600386, 'dropout_rate': 0.1389445755382193, 'lr': 0.00430236665729316}. Best is trial 64 with value: 1.7192505598068237.\n"
     ]
    },
    {
     "name": "stdout",
     "output_type": "stream",
     "text": [
      "Early stopping at epoch 18\n"
     ]
    },
    {
     "name": "stderr",
     "output_type": "stream",
     "text": [
      "[I 2024-09-12 20:59:06,318] Trial 90 finished with value: 1912.8385009765625 and parameters: {'out_channels': 24, 'kernel_size': 4, 'num_blocks': 2, 'l2_lambda': 0.003187240172000497, 'dropout_rate': 0.1292423399542631, 'lr': 0.007230976849278713}. Best is trial 64 with value: 1.7192505598068237.\n"
     ]
    },
    {
     "name": "stdout",
     "output_type": "stream",
     "text": [
      "Early stopping at epoch 18\n"
     ]
    },
    {
     "name": "stderr",
     "output_type": "stream",
     "text": [
      "[I 2024-09-12 20:59:07,657] Trial 91 finished with value: 654.454833984375 and parameters: {'out_channels': 96, 'kernel_size': 5, 'num_blocks': 3, 'l2_lambda': 0.002817726951573974, 'dropout_rate': 0.1738853037941294, 'lr': 0.00577019621539283}. Best is trial 64 with value: 1.7192505598068237.\n"
     ]
    },
    {
     "name": "stdout",
     "output_type": "stream",
     "text": [
      "Early stopping at epoch 16\n"
     ]
    },
    {
     "name": "stderr",
     "output_type": "stream",
     "text": [
      "[I 2024-09-12 20:59:09,440] Trial 92 finished with value: 291.79913330078125 and parameters: {'out_channels': 101, 'kernel_size': 5, 'num_blocks': 3, 'l2_lambda': 0.0035269066559813268, 'dropout_rate': 0.15217717981019122, 'lr': 0.0055681033247774415}. Best is trial 64 with value: 1.7192505598068237.\n"
     ]
    },
    {
     "name": "stdout",
     "output_type": "stream",
     "text": [
      "Early stopping at epoch 21\n"
     ]
    },
    {
     "name": "stderr",
     "output_type": "stream",
     "text": [
      "[I 2024-09-12 20:59:11,606] Trial 93 finished with value: 283.656005859375 and parameters: {'out_channels': 98, 'kernel_size': 5, 'num_blocks': 3, 'l2_lambda': 0.003840201361613454, 'dropout_rate': 0.18584489670976895, 'lr': 0.004628637625592474}. Best is trial 64 with value: 1.7192505598068237.\n"
     ]
    },
    {
     "name": "stdout",
     "output_type": "stream",
     "text": [
      "Early stopping at epoch 26\n"
     ]
    },
    {
     "name": "stderr",
     "output_type": "stream",
     "text": [
      "[I 2024-09-12 20:59:12,864] Trial 94 finished with value: 94.18721771240234 and parameters: {'out_channels': 119, 'kernel_size': 5, 'num_blocks': 2, 'l2_lambda': 0.004076310183324558, 'dropout_rate': 0.16140010335781493, 'lr': 0.006140238581404087}. Best is trial 64 with value: 1.7192505598068237.\n"
     ]
    },
    {
     "name": "stdout",
     "output_type": "stream",
     "text": [
      "Early stopping at epoch 20\n"
     ]
    },
    {
     "name": "stderr",
     "output_type": "stream",
     "text": [
      "[I 2024-09-12 20:59:14,243] Trial 95 finished with value: 264.1817626953125 and parameters: {'out_channels': 91, 'kernel_size': 5, 'num_blocks': 3, 'l2_lambda': 0.0034088928388253366, 'dropout_rate': 0.14693995041754093, 'lr': 0.005335464540806022}. Best is trial 64 with value: 1.7192505598068237.\n"
     ]
    },
    {
     "name": "stdout",
     "output_type": "stream",
     "text": [
      "Early stopping at epoch 16\n"
     ]
    },
    {
     "name": "stderr",
     "output_type": "stream",
     "text": [
      "[I 2024-09-12 20:59:15,772] Trial 96 finished with value: 236.1356964111328 and parameters: {'out_channels': 57, 'kernel_size': 5, 'num_blocks': 4, 'l2_lambda': 0.002413846054955051, 'dropout_rate': 0.11065013752991751, 'lr': 0.0059234423829452}. Best is trial 64 with value: 1.7192505598068237.\n"
     ]
    },
    {
     "name": "stdout",
     "output_type": "stream",
     "text": [
      "Early stopping at epoch 16\n"
     ]
    },
    {
     "name": "stderr",
     "output_type": "stream",
     "text": [
      "[I 2024-09-12 20:59:18,870] Trial 97 finished with value: 289.2391357421875 and parameters: {'out_channels': 88, 'kernel_size': 6, 'num_blocks': 3, 'l2_lambda': 0.0030815535078264553, 'dropout_rate': 0.1973873734229677, 'lr': 0.0007456211867112729}. Best is trial 64 with value: 1.7192505598068237.\n"
     ]
    },
    {
     "name": "stdout",
     "output_type": "stream",
     "text": [
      "Early stopping at epoch 36\n"
     ]
    },
    {
     "name": "stderr",
     "output_type": "stream",
     "text": [
      "[I 2024-09-12 20:59:20,729] Trial 98 finished with value: 178.2620849609375 and parameters: {'out_channels': 18, 'kernel_size': 7, 'num_blocks': 2, 'l2_lambda': 0.004547870103553104, 'dropout_rate': 0.12297713181979607, 'lr': 0.006351967573928116}. Best is trial 64 with value: 1.7192505598068237.\n"
     ]
    },
    {
     "name": "stdout",
     "output_type": "stream",
     "text": [
      "Early stopping at epoch 41\n"
     ]
    },
    {
     "name": "stderr",
     "output_type": "stream",
     "text": [
      "[I 2024-09-12 20:59:21,521] Trial 99 finished with value: 1291.2437744140625 and parameters: {'out_channels': 29, 'kernel_size': 4, 'num_blocks': 2, 'l2_lambda': 0.004267773919041268, 'dropout_rate': 0.14074708457758162, 'lr': 0.0050365707496727394}. Best is trial 64 with value: 1.7192505598068237.\n",
      "[I 2024-09-12 20:59:21,536] A new study created in memory with name: no-name-ebd71e8e-6f38-4f15-be18-06182bacedbf\n"
     ]
    },
    {
     "name": "stdout",
     "output_type": "stream",
     "text": [
      "Early stopping at epoch 13\n",
      "Previous model RMSE: 1.7083706855773926 is better for CL=F than RMSE: 1.7192505598068237\n"
     ]
    },
    {
     "name": "stderr",
     "output_type": "stream",
     "text": [
      "[I 2024-09-12 20:59:22,300] Trial 0 finished with value: 0.5 and parameters: {'sequence_length': 25, 'hidden_size': 97, 'num_layers': 3, 'num_blocks': 3, 'dropout_rate': 0.324977937668505, 'lr': 0.008608849112246275}. Best is trial 0 with value: 0.5.\n"
     ]
    },
    {
     "name": "stdout",
     "output_type": "stream",
     "text": [
      "Early stopping at epoch 10\n"
     ]
    },
    {
     "name": "stderr",
     "output_type": "stream",
     "text": [
      "[I 2024-09-12 20:59:23,250] Trial 1 finished with value: 0.5172413793103449 and parameters: {'sequence_length': 22, 'hidden_size': 128, 'num_layers': 3, 'num_blocks': 4, 'dropout_rate': 0.4239802304069632, 'lr': 0.002071285094486271}. Best is trial 1 with value: 0.5172413793103449.\n"
     ]
    },
    {
     "name": "stdout",
     "output_type": "stream",
     "text": [
      "Early stopping at epoch 13\n"
     ]
    },
    {
     "name": "stderr",
     "output_type": "stream",
     "text": [
      "[I 2024-09-12 20:59:23,603] Trial 2 finished with value: 0.5172413793103449 and parameters: {'sequence_length': 22, 'hidden_size': 46, 'num_layers': 2, 'num_blocks': 1, 'dropout_rate': 0.20975659443437134, 'lr': 0.005634960717880501}. Best is trial 1 with value: 0.5172413793103449.\n"
     ]
    },
    {
     "name": "stdout",
     "output_type": "stream",
     "text": [
      "Early stopping at epoch 12\n"
     ]
    },
    {
     "name": "stderr",
     "output_type": "stream",
     "text": [
      "[I 2024-09-12 20:59:24,305] Trial 3 finished with value: 0.6206896551724138 and parameters: {'sequence_length': 28, 'hidden_size': 21, 'num_layers': 2, 'num_blocks': 5, 'dropout_rate': 0.18067348637021313, 'lr': 0.008062032767715248}. Best is trial 3 with value: 0.6206896551724138.\n"
     ]
    },
    {
     "name": "stdout",
     "output_type": "stream",
     "text": [
      "Early stopping at epoch 10\n"
     ]
    },
    {
     "name": "stderr",
     "output_type": "stream",
     "text": [
      "[I 2024-09-12 20:59:25,134] Trial 4 finished with value: 0.5423728813559322 and parameters: {'sequence_length': 15, 'hidden_size': 103, 'num_layers': 3, 'num_blocks': 5, 'dropout_rate': 0.26748659958359405, 'lr': 0.0028764090159207017}. Best is trial 3 with value: 0.6206896551724138.\n"
     ]
    },
    {
     "name": "stdout",
     "output_type": "stream",
     "text": [
      "Early stopping at epoch 10\n"
     ]
    },
    {
     "name": "stderr",
     "output_type": "stream",
     "text": [
      "[I 2024-09-12 20:59:25,564] Trial 5 finished with value: 0.5084745762711864 and parameters: {'sequence_length': 16, 'hidden_size': 119, 'num_layers': 2, 'num_blocks': 2, 'dropout_rate': 0.24491610246896933, 'lr': 0.003908840145564565}. Best is trial 3 with value: 0.6206896551724138.\n"
     ]
    },
    {
     "name": "stdout",
     "output_type": "stream",
     "text": [
      "Early stopping at epoch 10\n"
     ]
    },
    {
     "name": "stderr",
     "output_type": "stream",
     "text": [
      "[I 2024-09-12 20:59:26,332] Trial 6 finished with value: 0.6206896551724138 and parameters: {'sequence_length': 28, 'hidden_size': 82, 'num_layers': 2, 'num_blocks': 4, 'dropout_rate': 0.25587100570917076, 'lr': 0.008100704084119958}. Best is trial 3 with value: 0.6206896551724138.\n"
     ]
    },
    {
     "name": "stdout",
     "output_type": "stream",
     "text": [
      "Early stopping at epoch 13\n"
     ]
    },
    {
     "name": "stderr",
     "output_type": "stream",
     "text": [
      "[I 2024-09-12 20:59:26,644] Trial 7 finished with value: 0.5517241379310345 and parameters: {'sequence_length': 29, 'hidden_size': 122, 'num_layers': 1, 'num_blocks': 1, 'dropout_rate': 0.13371645317991174, 'lr': 0.005530624754088571}. Best is trial 3 with value: 0.6206896551724138.\n"
     ]
    },
    {
     "name": "stdout",
     "output_type": "stream",
     "text": [
      "Early stopping at epoch 10\n"
     ]
    },
    {
     "name": "stderr",
     "output_type": "stream",
     "text": [
      "[I 2024-09-12 20:59:27,507] Trial 8 finished with value: 0.6333333333333333 and parameters: {'sequence_length': 8, 'hidden_size': 116, 'num_layers': 3, 'num_blocks': 4, 'dropout_rate': 0.19861666613210788, 'lr': 0.003332163997000043}. Best is trial 8 with value: 0.6333333333333333.\n"
     ]
    },
    {
     "name": "stdout",
     "output_type": "stream",
     "text": [
      "Early stopping at epoch 13\n"
     ]
    },
    {
     "name": "stderr",
     "output_type": "stream",
     "text": [
      "[I 2024-09-12 20:59:27,889] Trial 9 finished with value: 0.5172413793103449 and parameters: {'sequence_length': 22, 'hidden_size': 123, 'num_layers': 1, 'num_blocks': 2, 'dropout_rate': 0.35529389349637286, 'lr': 0.00021348983762084964}. Best is trial 8 with value: 0.6333333333333333.\n"
     ]
    },
    {
     "name": "stdout",
     "output_type": "stream",
     "text": [
      "Early stopping at epoch 10\n"
     ]
    },
    {
     "name": "stderr",
     "output_type": "stream",
     "text": [
      "[I 2024-09-12 20:59:28,677] Trial 10 finished with value: 0.55 and parameters: {'sequence_length': 4, 'hidden_size': 64, 'num_layers': 3, 'num_blocks': 4, 'dropout_rate': 0.11901059849077894, 'lr': 0.0004940487667930682}. Best is trial 8 with value: 0.6333333333333333.\n"
     ]
    },
    {
     "name": "stdout",
     "output_type": "stream",
     "text": [
      "Early stopping at epoch 12\n"
     ]
    },
    {
     "name": "stderr",
     "output_type": "stream",
     "text": [
      "[I 2024-09-12 20:59:29,366] Trial 11 finished with value: 0.6333333333333333 and parameters: {'sequence_length': 8, 'hidden_size': 20, 'num_layers': 2, 'num_blocks': 5, 'dropout_rate': 0.1779870400234885, 'lr': 0.007161734642330203}. Best is trial 8 with value: 0.6333333333333333.\n"
     ]
    },
    {
     "name": "stdout",
     "output_type": "stream",
     "text": [
      "Early stopping at epoch 10\n"
     ]
    },
    {
     "name": "stderr",
     "output_type": "stream",
     "text": [
      "[I 2024-09-12 20:59:30,049] Trial 12 finished with value: 0.5 and parameters: {'sequence_length': 7, 'hidden_size': 17, 'num_layers': 1, 'num_blocks': 5, 'dropout_rate': 0.17540676611369838, 'lr': 0.00684113650081238}. Best is trial 8 with value: 0.6333333333333333.\n"
     ]
    },
    {
     "name": "stdout",
     "output_type": "stream",
     "text": [
      "Early stopping at epoch 11\n"
     ]
    },
    {
     "name": "stderr",
     "output_type": "stream",
     "text": [
      "[I 2024-09-12 20:59:31,763] Trial 13 finished with value: 0.6333333333333333 and parameters: {'sequence_length': 8, 'hidden_size': 45, 'num_layers': 2, 'num_blocks': 4, 'dropout_rate': 0.10824439239585965, 'lr': 0.009871487202809066}. Best is trial 8 with value: 0.6333333333333333.\n"
     ]
    },
    {
     "name": "stdout",
     "output_type": "stream",
     "text": [
      "Early stopping at epoch 30\n"
     ]
    },
    {
     "name": "stderr",
     "output_type": "stream",
     "text": [
      "[I 2024-09-12 20:59:32,740] Trial 14 finished with value: 0.6101694915254238 and parameters: {'sequence_length': 11, 'hidden_size': 72, 'num_layers': 3, 'num_blocks': 3, 'dropout_rate': 0.19361244902523495, 'lr': 0.003974673266118319}. Best is trial 8 with value: 0.6333333333333333.\n"
     ]
    },
    {
     "name": "stdout",
     "output_type": "stream",
     "text": [
      "Early stopping at epoch 16\n"
     ]
    },
    {
     "name": "stderr",
     "output_type": "stream",
     "text": [
      "[I 2024-09-12 20:59:33,520] Trial 15 finished with value: 0.559322033898305 and parameters: {'sequence_length': 12, 'hidden_size': 39, 'num_layers': 2, 'num_blocks': 5, 'dropout_rate': 0.4742530332043536, 'lr': 0.006447384719871222}. Best is trial 8 with value: 0.6333333333333333.\n"
     ]
    },
    {
     "name": "stdout",
     "output_type": "stream",
     "text": [
      "Early stopping at epoch 11\n"
     ]
    },
    {
     "name": "stderr",
     "output_type": "stream",
     "text": [
      "[I 2024-09-12 20:59:34,206] Trial 16 finished with value: 0.5 and parameters: {'sequence_length': 2, 'hidden_size': 96, 'num_layers': 3, 'num_blocks': 4, 'dropout_rate': 0.3053981052954481, 'lr': 0.004020748752747026}. Best is trial 8 with value: 0.6333333333333333.\n"
     ]
    },
    {
     "name": "stdout",
     "output_type": "stream",
     "text": [
      "Early stopping at epoch 10\n"
     ]
    },
    {
     "name": "stderr",
     "output_type": "stream",
     "text": [
      "[I 2024-09-12 20:59:34,917] Trial 17 finished with value: 0.5 and parameters: {'sequence_length': 7, 'hidden_size': 60, 'num_layers': 1, 'num_blocks': 5, 'dropout_rate': 0.1501339241949369, 'lr': 0.0018776586060628689}. Best is trial 8 with value: 0.6333333333333333.\n"
     ]
    },
    {
     "name": "stdout",
     "output_type": "stream",
     "text": [
      "Early stopping at epoch 10\n"
     ]
    },
    {
     "name": "stderr",
     "output_type": "stream",
     "text": [
      "[I 2024-09-12 20:59:36,034] Trial 18 finished with value: 0.5254237288135594 and parameters: {'sequence_length': 16, 'hidden_size': 31, 'num_layers': 2, 'num_blocks': 3, 'dropout_rate': 0.37374432255154966, 'lr': 0.006886123621901178}. Best is trial 8 with value: 0.6333333333333333.\n"
     ]
    },
    {
     "name": "stdout",
     "output_type": "stream",
     "text": [
      "Early stopping at epoch 20\n"
     ]
    },
    {
     "name": "stderr",
     "output_type": "stream",
     "text": [
      "[I 2024-09-12 20:59:36,975] Trial 19 finished with value: 0.5423728813559322 and parameters: {'sequence_length': 11, 'hidden_size': 109, 'num_layers': 2, 'num_blocks': 4, 'dropout_rate': 0.22071554141324995, 'lr': 0.0045984202422883445}. Best is trial 8 with value: 0.6333333333333333.\n"
     ]
    },
    {
     "name": "stdout",
     "output_type": "stream",
     "text": [
      "Early stopping at epoch 13\n"
     ]
    },
    {
     "name": "stderr",
     "output_type": "stream",
     "text": [
      "[I 2024-09-12 20:59:37,552] Trial 20 finished with value: 0.55 and parameters: {'sequence_length': 4, 'hidden_size': 87, 'num_layers': 3, 'num_blocks': 2, 'dropout_rate': 0.2824734896063898, 'lr': 0.009277283354021799}. Best is trial 8 with value: 0.6333333333333333.\n"
     ]
    },
    {
     "name": "stdout",
     "output_type": "stream",
     "text": [
      "Early stopping at epoch 13\n"
     ]
    },
    {
     "name": "stderr",
     "output_type": "stream",
     "text": [
      "[I 2024-09-12 20:59:38,300] Trial 21 finished with value: 0.6333333333333333 and parameters: {'sequence_length': 8, 'hidden_size': 53, 'num_layers': 2, 'num_blocks': 4, 'dropout_rate': 0.1051224571889229, 'lr': 0.009044313134675465}. Best is trial 8 with value: 0.6333333333333333.\n"
     ]
    },
    {
     "name": "stdout",
     "output_type": "stream",
     "text": [
      "Early stopping at epoch 13\n"
     ]
    },
    {
     "name": "stderr",
     "output_type": "stream",
     "text": [
      "[I 2024-09-12 20:59:39,452] Trial 22 finished with value: 0.6166666666666667 and parameters: {'sequence_length': 9, 'hidden_size': 33, 'num_layers': 2, 'num_blocks': 4, 'dropout_rate': 0.1490253840090084, 'lr': 0.00958950834825421}. Best is trial 8 with value: 0.6333333333333333.\n"
     ]
    },
    {
     "name": "stdout",
     "output_type": "stream",
     "text": [
      "Early stopping at epoch 21\n"
     ]
    },
    {
     "name": "stderr",
     "output_type": "stream",
     "text": [
      "[I 2024-09-12 20:59:40,284] Trial 23 finished with value: 0.5423728813559322 and parameters: {'sequence_length': 13, 'hidden_size': 26, 'num_layers': 2, 'num_blocks': 5, 'dropout_rate': 0.16813929212973577, 'lr': 0.00783608740281177}. Best is trial 8 with value: 0.6333333333333333.\n"
     ]
    },
    {
     "name": "stdout",
     "output_type": "stream",
     "text": [
      "Early stopping at epoch 10\n"
     ]
    },
    {
     "name": "stderr",
     "output_type": "stream",
     "text": [
      "[I 2024-09-12 20:59:40,865] Trial 24 finished with value: 0.6166666666666667 and parameters: {'sequence_length': 5, 'hidden_size': 45, 'num_layers': 2, 'num_blocks': 3, 'dropout_rate': 0.10214447652807654, 'lr': 0.002954509136168448}. Best is trial 8 with value: 0.6333333333333333.\n"
     ]
    },
    {
     "name": "stdout",
     "output_type": "stream",
     "text": [
      "Early stopping at epoch 11\n"
     ]
    },
    {
     "name": "stderr",
     "output_type": "stream",
     "text": [
      "[I 2024-09-12 20:59:41,544] Trial 25 finished with value: 0.576271186440678 and parameters: {'sequence_length': 19, 'hidden_size': 74, 'num_layers': 1, 'num_blocks': 4, 'dropout_rate': 0.23275944857047176, 'lr': 0.009903283870089298}. Best is trial 8 with value: 0.6333333333333333.\n"
     ]
    },
    {
     "name": "stdout",
     "output_type": "stream",
     "text": [
      "Early stopping at epoch 10\n"
     ]
    },
    {
     "name": "stderr",
     "output_type": "stream",
     "text": [
      "[I 2024-09-12 20:59:42,304] Trial 26 finished with value: 0.55 and parameters: {'sequence_length': 9, 'hidden_size': 39, 'num_layers': 2, 'num_blocks': 5, 'dropout_rate': 0.141510857026131, 'lr': 0.007310438777083855}. Best is trial 8 with value: 0.6333333333333333.\n"
     ]
    },
    {
     "name": "stdout",
     "output_type": "stream",
     "text": [
      "Early stopping at epoch 10\n"
     ]
    },
    {
     "name": "stderr",
     "output_type": "stream",
     "text": [
      "[I 2024-09-12 20:59:43,185] Trial 27 finished with value: 0.5166666666666667 and parameters: {'sequence_length': 6, 'hidden_size': 57, 'num_layers': 3, 'num_blocks': 4, 'dropout_rate': 0.20115177600635092, 'lr': 0.005882013101100846}. Best is trial 8 with value: 0.6333333333333333.\n"
     ]
    },
    {
     "name": "stdout",
     "output_type": "stream",
     "text": [
      "Early stopping at epoch 13\n"
     ]
    },
    {
     "name": "stderr",
     "output_type": "stream",
     "text": [
      "[I 2024-09-12 20:59:43,952] Trial 28 finished with value: 0.5166666666666667 and parameters: {'sequence_length': 2, 'hidden_size': 16, 'num_layers': 2, 'num_blocks': 5, 'dropout_rate': 0.16201435647271797, 'lr': 0.005134135719484463}. Best is trial 8 with value: 0.6333333333333333.\n"
     ]
    },
    {
     "name": "stdout",
     "output_type": "stream",
     "text": [
      "Early stopping at epoch 11\n"
     ]
    },
    {
     "name": "stderr",
     "output_type": "stream",
     "text": [
      "[I 2024-09-12 20:59:44,972] Trial 29 finished with value: 0.6440677966101694 and parameters: {'sequence_length': 14, 'hidden_size': 49, 'num_layers': 3, 'num_blocks': 3, 'dropout_rate': 0.32907788348257705, 'lr': 0.008598295409338609}. Best is trial 29 with value: 0.6440677966101694.\n"
     ]
    },
    {
     "name": "stdout",
     "output_type": "stream",
     "text": [
      "Early stopping at epoch 14\n"
     ]
    },
    {
     "name": "stderr",
     "output_type": "stream",
     "text": [
      "[I 2024-09-12 20:59:45,683] Trial 30 finished with value: 0.6440677966101694 and parameters: {'sequence_length': 14, 'hidden_size': 94, 'num_layers': 3, 'num_blocks': 3, 'dropout_rate': 0.3385182164618986, 'lr': 0.008766792934581139}. Best is trial 29 with value: 0.6440677966101694.\n"
     ]
    },
    {
     "name": "stdout",
     "output_type": "stream",
     "text": [
      "Early stopping at epoch 10\n"
     ]
    },
    {
     "name": "stderr",
     "output_type": "stream",
     "text": [
      "[I 2024-09-12 20:59:46,438] Trial 31 finished with value: 0.576271186440678 and parameters: {'sequence_length': 19, 'hidden_size': 111, 'num_layers': 3, 'num_blocks': 3, 'dropout_rate': 0.3345448589721792, 'lr': 0.008857343137885349}. Best is trial 29 with value: 0.6440677966101694.\n"
     ]
    },
    {
     "name": "stdout",
     "output_type": "stream",
     "text": [
      "Early stopping at epoch 10\n"
     ]
    },
    {
     "name": "stderr",
     "output_type": "stream",
     "text": [
      "[I 2024-09-12 20:59:47,051] Trial 32 finished with value: 0.6440677966101694 and parameters: {'sequence_length': 14, 'hidden_size': 92, 'num_layers': 3, 'num_blocks': 2, 'dropout_rate': 0.3982148223134839, 'lr': 0.008367610012770489}. Best is trial 29 with value: 0.6440677966101694.\n"
     ]
    },
    {
     "name": "stdout",
     "output_type": "stream",
     "text": [
      "Early stopping at epoch 13\n"
     ]
    },
    {
     "name": "stderr",
     "output_type": "stream",
     "text": [
      "[I 2024-09-12 20:59:47,660] Trial 33 finished with value: 0.6440677966101694 and parameters: {'sequence_length': 14, 'hidden_size': 92, 'num_layers': 3, 'num_blocks': 2, 'dropout_rate': 0.4008713031649236, 'lr': 0.008486034445082561}. Best is trial 29 with value: 0.6440677966101694.\n"
     ]
    },
    {
     "name": "stdout",
     "output_type": "stream",
     "text": [
      "Early stopping at epoch 13\n"
     ]
    },
    {
     "name": "stderr",
     "output_type": "stream",
     "text": [
      "[I 2024-09-12 20:59:48,108] Trial 34 finished with value: 0.6440677966101694 and parameters: {'sequence_length': 14, 'hidden_size': 93, 'num_layers': 3, 'num_blocks': 2, 'dropout_rate': 0.4057844523388703, 'lr': 0.008422344543557255}. Best is trial 29 with value: 0.6440677966101694.\n"
     ]
    },
    {
     "name": "stdout",
     "output_type": "stream",
     "text": [
      "Early stopping at epoch 10\n"
     ]
    },
    {
     "name": "stderr",
     "output_type": "stream",
     "text": [
      "[I 2024-09-12 20:59:48,492] Trial 35 finished with value: 0.576271186440678 and parameters: {'sequence_length': 18, 'hidden_size': 80, 'num_layers': 3, 'num_blocks': 1, 'dropout_rate': 0.4406281175552143, 'lr': 0.00778608421188045}. Best is trial 29 with value: 0.6440677966101694.\n"
     ]
    },
    {
     "name": "stdout",
     "output_type": "stream",
     "text": [
      "Early stopping at epoch 10\n"
     ]
    },
    {
     "name": "stderr",
     "output_type": "stream",
     "text": [
      "[I 2024-09-12 20:59:49,074] Trial 36 finished with value: 0.5254237288135594 and parameters: {'sequence_length': 17, 'hidden_size': 103, 'num_layers': 3, 'num_blocks': 2, 'dropout_rate': 0.39112693819936817, 'lr': 0.00848715683082288}. Best is trial 29 with value: 0.6440677966101694.\n"
     ]
    },
    {
     "name": "stdout",
     "output_type": "stream",
     "text": [
      "Early stopping at epoch 10\n"
     ]
    },
    {
     "name": "stderr",
     "output_type": "stream",
     "text": [
      "[I 2024-09-12 20:59:49,574] Trial 37 finished with value: 0.5172413793103449 and parameters: {'sequence_length': 21, 'hidden_size': 89, 'num_layers': 3, 'num_blocks': 2, 'dropout_rate': 0.4394009176534633, 'lr': 0.007509100444895023}. Best is trial 29 with value: 0.6440677966101694.\n"
     ]
    },
    {
     "name": "stdout",
     "output_type": "stream",
     "text": [
      "Early stopping at epoch 10\n"
     ]
    },
    {
     "name": "stderr",
     "output_type": "stream",
     "text": [
      "[I 2024-09-12 20:59:50,053] Trial 38 finished with value: 0.5423728813559322 and parameters: {'sequence_length': 15, 'hidden_size': 102, 'num_layers': 3, 'num_blocks': 1, 'dropout_rate': 0.33813145984945947, 'lr': 0.006305282061509612}. Best is trial 29 with value: 0.6440677966101694.\n"
     ]
    },
    {
     "name": "stdout",
     "output_type": "stream",
     "text": [
      "Early stopping at epoch 13\n"
     ]
    },
    {
     "name": "stderr",
     "output_type": "stream",
     "text": [
      "[I 2024-09-12 20:59:50,760] Trial 39 finished with value: 0.5423728813559322 and parameters: {'sequence_length': 13, 'hidden_size': 80, 'num_layers': 3, 'num_blocks': 3, 'dropout_rate': 0.31296647013489276, 'lr': 0.008515874492819157}. Best is trial 29 with value: 0.6440677966101694.\n"
     ]
    },
    {
     "name": "stdout",
     "output_type": "stream",
     "text": [
      "Early stopping at epoch 13\n"
     ]
    },
    {
     "name": "stderr",
     "output_type": "stream",
     "text": [
      "[I 2024-09-12 20:59:51,242] Trial 40 finished with value: 0.5254237288135594 and parameters: {'sequence_length': 11, 'hidden_size': 67, 'num_layers': 3, 'num_blocks': 2, 'dropout_rate': 0.36283446944419, 'lr': 0.009163996846959281}. Best is trial 29 with value: 0.6440677966101694.\n"
     ]
    },
    {
     "name": "stdout",
     "output_type": "stream",
     "text": [
      "Early stopping at epoch 10\n"
     ]
    },
    {
     "name": "stderr",
     "output_type": "stream",
     "text": [
      "[I 2024-09-12 20:59:51,789] Trial 41 finished with value: 0.6440677966101694 and parameters: {'sequence_length': 14, 'hidden_size': 94, 'num_layers': 3, 'num_blocks': 2, 'dropout_rate': 0.40248238895289834, 'lr': 0.008236894257458714}. Best is trial 29 with value: 0.6440677966101694.\n"
     ]
    },
    {
     "name": "stdout",
     "output_type": "stream",
     "text": [
      "Early stopping at epoch 10\n"
     ]
    },
    {
     "name": "stderr",
     "output_type": "stream",
     "text": [
      "[I 2024-09-12 20:59:52,419] Trial 42 finished with value: 0.5423728813559322 and parameters: {'sequence_length': 15, 'hidden_size': 90, 'num_layers': 3, 'num_blocks': 2, 'dropout_rate': 0.4139510602814794, 'lr': 0.008599942616753814}. Best is trial 29 with value: 0.6440677966101694.\n"
     ]
    },
    {
     "name": "stdout",
     "output_type": "stream",
     "text": [
      "Early stopping at epoch 13\n"
     ]
    },
    {
     "name": "stderr",
     "output_type": "stream",
     "text": [
      "[I 2024-09-12 20:59:53,491] Trial 43 finished with value: 0.6610169491525424 and parameters: {'sequence_length': 14, 'hidden_size': 99, 'num_layers': 3, 'num_blocks': 3, 'dropout_rate': 0.48079292474908797, 'lr': 0.008119919082376382}. Best is trial 43 with value: 0.6610169491525424.\n"
     ]
    },
    {
     "name": "stdout",
     "output_type": "stream",
     "text": [
      "Early stopping at epoch 18\n"
     ]
    },
    {
     "name": "stderr",
     "output_type": "stream",
     "text": [
      "[I 2024-09-12 20:59:54,467] Trial 44 finished with value: 0.5932203389830508 and parameters: {'sequence_length': 18, 'hidden_size': 109, 'num_layers': 3, 'num_blocks': 3, 'dropout_rate': 0.4758175001360193, 'lr': 0.007989542449258213}. Best is trial 43 with value: 0.6610169491525424.\n"
     ]
    },
    {
     "name": "stdout",
     "output_type": "stream",
     "text": [
      "Early stopping at epoch 16\n"
     ]
    },
    {
     "name": "stderr",
     "output_type": "stream",
     "text": [
      "[I 2024-09-12 20:59:55,111] Trial 45 finished with value: 0.5423728813559322 and parameters: {'sequence_length': 13, 'hidden_size': 103, 'num_layers': 3, 'num_blocks': 3, 'dropout_rate': 0.49717039260637724, 'lr': 0.009507042322909226}. Best is trial 43 with value: 0.6610169491525424.\n"
     ]
    },
    {
     "name": "stdout",
     "output_type": "stream",
     "text": [
      "Early stopping at epoch 10\n"
     ]
    },
    {
     "name": "stderr",
     "output_type": "stream",
     "text": [
      "[I 2024-09-12 20:59:55,710] Trial 46 finished with value: 0.5254237288135594 and parameters: {'sequence_length': 17, 'hidden_size': 85, 'num_layers': 3, 'num_blocks': 3, 'dropout_rate': 0.28677276488842274, 'lr': 0.00750228899406245}. Best is trial 43 with value: 0.6610169491525424.\n"
     ]
    },
    {
     "name": "stdout",
     "output_type": "stream",
     "text": [
      "Early stopping at epoch 10\n"
     ]
    },
    {
     "name": "stderr",
     "output_type": "stream",
     "text": [
      "[I 2024-09-12 20:59:56,399] Trial 47 finished with value: 0.5344827586206896 and parameters: {'sequence_length': 26, 'hidden_size': 100, 'num_layers': 3, 'num_blocks': 3, 'dropout_rate': 0.3842266132104886, 'lr': 0.008884538601758413}. Best is trial 43 with value: 0.6610169491525424.\n"
     ]
    },
    {
     "name": "stdout",
     "output_type": "stream",
     "text": [
      "Early stopping at epoch 10\n"
     ]
    },
    {
     "name": "stderr",
     "output_type": "stream",
     "text": [
      "[I 2024-09-12 20:59:57,098] Trial 48 finished with value: 0.5166666666666667 and parameters: {'sequence_length': 10, 'hidden_size': 76, 'num_layers': 3, 'num_blocks': 3, 'dropout_rate': 0.35273320688145765, 'lr': 0.0067461089617707574}. Best is trial 43 with value: 0.6610169491525424.\n"
     ]
    },
    {
     "name": "stdout",
     "output_type": "stream",
     "text": [
      "Early stopping at epoch 13\n"
     ]
    },
    {
     "name": "stderr",
     "output_type": "stream",
     "text": [
      "[I 2024-09-12 20:59:57,687] Trial 49 finished with value: 0.5423728813559322 and parameters: {'sequence_length': 15, 'hidden_size': 67, 'num_layers': 3, 'num_blocks': 2, 'dropout_rate': 0.4412286448313371, 'lr': 0.008074813878241282}. Best is trial 43 with value: 0.6610169491525424.\n"
     ]
    },
    {
     "name": "stdout",
     "output_type": "stream",
     "text": [
      "Early stopping at epoch 13\n"
     ]
    },
    {
     "name": "stderr",
     "output_type": "stream",
     "text": [
      "[I 2024-09-12 20:59:58,154] Trial 50 finished with value: 0.5172413793103449 and parameters: {'sequence_length': 21, 'hidden_size': 117, 'num_layers': 3, 'num_blocks': 1, 'dropout_rate': 0.3207902267972357, 'lr': 0.00997227933969236}. Best is trial 43 with value: 0.6610169491525424.\n"
     ]
    },
    {
     "name": "stdout",
     "output_type": "stream",
     "text": [
      "Early stopping at epoch 13\n"
     ]
    },
    {
     "name": "stderr",
     "output_type": "stream",
     "text": [
      "[I 2024-09-12 20:59:58,783] Trial 51 finished with value: 0.6440677966101694 and parameters: {'sequence_length': 14, 'hidden_size': 93, 'num_layers': 3, 'num_blocks': 2, 'dropout_rate': 0.4232630548065691, 'lr': 0.008383924979944392}. Best is trial 43 with value: 0.6610169491525424.\n"
     ]
    },
    {
     "name": "stdout",
     "output_type": "stream",
     "text": [
      "Early stopping at epoch 13\n"
     ]
    },
    {
     "name": "stderr",
     "output_type": "stream",
     "text": [
      "[I 2024-09-12 20:59:59,449] Trial 52 finished with value: 0.6779661016949152 and parameters: {'sequence_length': 12, 'hidden_size': 128, 'num_layers': 3, 'num_blocks': 2, 'dropout_rate': 0.4632377785362551, 'lr': 0.008791642042732152}. Best is trial 52 with value: 0.6779661016949152.\n"
     ]
    },
    {
     "name": "stdout",
     "output_type": "stream",
     "text": [
      "Early stopping at epoch 13\n"
     ]
    },
    {
     "name": "stderr",
     "output_type": "stream",
     "text": [
      "[I 2024-09-12 20:59:59,945] Trial 53 finished with value: 0.559322033898305 and parameters: {'sequence_length': 12, 'hidden_size': 112, 'num_layers': 3, 'num_blocks': 2, 'dropout_rate': 0.4638161753634511, 'lr': 0.009237688710428555}. Best is trial 52 with value: 0.6779661016949152.\n"
     ]
    },
    {
     "name": "stdout",
     "output_type": "stream",
     "text": [
      "Early stopping at epoch 10\n"
     ]
    },
    {
     "name": "stderr",
     "output_type": "stream",
     "text": [
      "[I 2024-09-12 21:00:00,448] Trial 54 finished with value: 0.559322033898305 and parameters: {'sequence_length': 12, 'hidden_size': 123, 'num_layers': 3, 'num_blocks': 2, 'dropout_rate': 0.4944321618415295, 'lr': 0.008800139948242417}. Best is trial 52 with value: 0.6779661016949152.\n"
     ]
    },
    {
     "name": "stdout",
     "output_type": "stream",
     "text": [
      "Early stopping at epoch 10\n"
     ]
    },
    {
     "name": "stderr",
     "output_type": "stream",
     "text": [
      "[I 2024-09-12 21:00:00,920] Trial 55 finished with value: 0.5084745762711864 and parameters: {'sequence_length': 16, 'hidden_size': 98, 'num_layers': 3, 'num_blocks': 1, 'dropout_rate': 0.47232055083416485, 'lr': 0.007674861228609724}. Best is trial 52 with value: 0.6779661016949152.\n"
     ]
    },
    {
     "name": "stdout",
     "output_type": "stream",
     "text": [
      "Early stopping at epoch 13\n"
     ]
    },
    {
     "name": "stderr",
     "output_type": "stream",
     "text": [
      "[I 2024-09-12 21:00:01,574] Trial 56 finished with value: 0.5166666666666667 and parameters: {'sequence_length': 10, 'hidden_size': 128, 'num_layers': 3, 'num_blocks': 3, 'dropout_rate': 0.448294823693156, 'lr': 0.007046977026343111}. Best is trial 52 with value: 0.6779661016949152.\n"
     ]
    },
    {
     "name": "stdout",
     "output_type": "stream",
     "text": [
      "Early stopping at epoch 10\n"
     ]
    },
    {
     "name": "stderr",
     "output_type": "stream",
     "text": [
      "[I 2024-09-12 21:00:02,350] Trial 57 finished with value: 0.5254237288135594 and parameters: {'sequence_length': 17, 'hidden_size': 107, 'num_layers': 3, 'num_blocks': 3, 'dropout_rate': 0.3753313073392006, 'lr': 0.009563735375844692}. Best is trial 52 with value: 0.6779661016949152.\n"
     ]
    },
    {
     "name": "stdout",
     "output_type": "stream",
     "text": [
      "Early stopping at epoch 13\n"
     ]
    },
    {
     "name": "stderr",
     "output_type": "stream",
     "text": [
      "[I 2024-09-12 21:00:02,868] Trial 58 finished with value: 0.5423728813559322 and parameters: {'sequence_length': 13, 'hidden_size': 85, 'num_layers': 3, 'num_blocks': 2, 'dropout_rate': 0.45430868835746, 'lr': 0.009405409024715488}. Best is trial 52 with value: 0.6779661016949152.\n"
     ]
    },
    {
     "name": "stdout",
     "output_type": "stream",
     "text": [
      "Early stopping at epoch 12\n"
     ]
    },
    {
     "name": "stderr",
     "output_type": "stream",
     "text": [
      "[I 2024-09-12 21:00:03,515] Trial 59 finished with value: 0.5423728813559322 and parameters: {'sequence_length': 15, 'hidden_size': 114, 'num_layers': 3, 'num_blocks': 3, 'dropout_rate': 0.42554463393167197, 'lr': 0.006282158709509699}. Best is trial 52 with value: 0.6779661016949152.\n"
     ]
    },
    {
     "name": "stdout",
     "output_type": "stream",
     "text": [
      "Early stopping at epoch 10\n"
     ]
    },
    {
     "name": "stderr",
     "output_type": "stream",
     "text": [
      "[I 2024-09-12 21:00:03,872] Trial 60 finished with value: 0.5254237288135594 and parameters: {'sequence_length': 11, 'hidden_size': 119, 'num_layers': 3, 'num_blocks': 1, 'dropout_rate': 0.26909933690725013, 'lr': 0.0018109100515118558}. Best is trial 52 with value: 0.6779661016949152.\n"
     ]
    },
    {
     "name": "stdout",
     "output_type": "stream",
     "text": [
      "Early stopping at epoch 10\n"
     ]
    },
    {
     "name": "stderr",
     "output_type": "stream",
     "text": [
      "[I 2024-09-12 21:00:04,334] Trial 61 finished with value: 0.5423728813559322 and parameters: {'sequence_length': 13, 'hidden_size': 93, 'num_layers': 3, 'num_blocks': 2, 'dropout_rate': 0.4032891028188849, 'lr': 0.008711485626894668}. Best is trial 52 with value: 0.6779661016949152.\n"
     ]
    },
    {
     "name": "stdout",
     "output_type": "stream",
     "text": [
      "Early stopping at epoch 10\n"
     ]
    },
    {
     "name": "stderr",
     "output_type": "stream",
     "text": [
      "[I 2024-09-12 21:00:05,208] Trial 62 finished with value: 0.6610169491525424 and parameters: {'sequence_length': 14, 'hidden_size': 82, 'num_layers': 3, 'num_blocks': 2, 'dropout_rate': 0.3583556245944396, 'lr': 0.008353776685313629}. Best is trial 52 with value: 0.6779661016949152.\n"
     ]
    },
    {
     "name": "stdout",
     "output_type": "stream",
     "text": [
      "Early stopping at epoch 20\n"
     ]
    },
    {
     "name": "stderr",
     "output_type": "stream",
     "text": [
      "[I 2024-09-12 21:00:05,801] Trial 63 finished with value: 0.5084745762711864 and parameters: {'sequence_length': 16, 'hidden_size': 81, 'num_layers': 3, 'num_blocks': 2, 'dropout_rate': 0.34291853493292673, 'lr': 0.007994357694764868}. Best is trial 52 with value: 0.6779661016949152.\n"
     ]
    },
    {
     "name": "stdout",
     "output_type": "stream",
     "text": [
      "Early stopping at epoch 13\n"
     ]
    },
    {
     "name": "stderr",
     "output_type": "stream",
     "text": [
      "[I 2024-09-12 21:00:06,591] Trial 64 finished with value: 0.6440677966101694 and parameters: {'sequence_length': 14, 'hidden_size': 76, 'num_layers': 3, 'num_blocks': 3, 'dropout_rate': 0.36521837611326335, 'lr': 0.007251188909103432}. Best is trial 52 with value: 0.6779661016949152.\n"
     ]
    },
    {
     "name": "stdout",
     "output_type": "stream",
     "text": [
      "Early stopping at epoch 13\n"
     ]
    },
    {
     "name": "stderr",
     "output_type": "stream",
     "text": [
      "[I 2024-09-12 21:00:07,248] Trial 65 finished with value: 0.559322033898305 and parameters: {'sequence_length': 12, 'hidden_size': 97, 'num_layers': 3, 'num_blocks': 2, 'dropout_rate': 0.33027931593410503, 'lr': 0.009028719511223462}. Best is trial 52 with value: 0.6779661016949152.\n"
     ]
    },
    {
     "name": "stdout",
     "output_type": "stream",
     "text": [
      "Early stopping at epoch 13\n"
     ]
    },
    {
     "name": "stderr",
     "output_type": "stream",
     "text": [
      "[I 2024-09-12 21:00:07,873] Trial 66 finished with value: 0.5166666666666667 and parameters: {'sequence_length': 10, 'hidden_size': 106, 'num_layers': 3, 'num_blocks': 2, 'dropout_rate': 0.3538854114431879, 'lr': 0.008188171101917911}. Best is trial 52 with value: 0.6779661016949152.\n"
     ]
    },
    {
     "name": "stdout",
     "output_type": "stream",
     "text": [
      "Early stopping at epoch 13\n"
     ]
    },
    {
     "name": "stderr",
     "output_type": "stream",
     "text": [
      "[I 2024-09-12 21:00:08,644] Trial 67 finished with value: 0.6440677966101694 and parameters: {'sequence_length': 14, 'hidden_size': 52, 'num_layers': 3, 'num_blocks': 3, 'dropout_rate': 0.3851538024472909, 'lr': 0.009617731524041728}. Best is trial 52 with value: 0.6779661016949152.\n"
     ]
    },
    {
     "name": "stdout",
     "output_type": "stream",
     "text": [
      "Early stopping at epoch 13\n"
     ]
    },
    {
     "name": "stderr",
     "output_type": "stream",
     "text": [
      "[I 2024-09-12 21:00:09,270] Trial 68 finished with value: 0.559322033898305 and parameters: {'sequence_length': 12, 'hidden_size': 87, 'num_layers': 3, 'num_blocks': 2, 'dropout_rate': 0.347516315421959, 'lr': 0.007610359758724618}. Best is trial 52 with value: 0.6779661016949152.\n"
     ]
    },
    {
     "name": "stdout",
     "output_type": "stream",
     "text": [
      "Early stopping at epoch 13\n"
     ]
    },
    {
     "name": "stderr",
     "output_type": "stream",
     "text": [
      "[I 2024-09-12 21:00:09,930] Trial 69 finished with value: 0.576271186440678 and parameters: {'sequence_length': 18, 'hidden_size': 91, 'num_layers': 3, 'num_blocks': 2, 'dropout_rate': 0.3017539231696226, 'lr': 0.00877155219220537}. Best is trial 52 with value: 0.6779661016949152.\n"
     ]
    },
    {
     "name": "stdout",
     "output_type": "stream",
     "text": [
      "Early stopping at epoch 13\n"
     ]
    },
    {
     "name": "stderr",
     "output_type": "stream",
     "text": [
      "[I 2024-09-12 21:00:10,318] Trial 70 finished with value: 0.5084745762711864 and parameters: {'sequence_length': 16, 'hidden_size': 69, 'num_layers': 3, 'num_blocks': 1, 'dropout_rate': 0.4247888651763384, 'lr': 0.006702464916540639}. Best is trial 52 with value: 0.6779661016949152.\n"
     ]
    },
    {
     "name": "stdout",
     "output_type": "stream",
     "text": [
      "Early stopping at epoch 10\n"
     ]
    },
    {
     "name": "stderr",
     "output_type": "stream",
     "text": [
      "[I 2024-09-12 21:00:10,925] Trial 71 finished with value: 0.5423728813559322 and parameters: {'sequence_length': 15, 'hidden_size': 84, 'num_layers': 3, 'num_blocks': 2, 'dropout_rate': 0.4021039715062018, 'lr': 0.00833566451929967}. Best is trial 52 with value: 0.6779661016949152.\n"
     ]
    },
    {
     "name": "stdout",
     "output_type": "stream",
     "text": [
      "Early stopping at epoch 13\n"
     ]
    },
    {
     "name": "stderr",
     "output_type": "stream",
     "text": [
      "[I 2024-09-12 21:00:11,463] Trial 72 finished with value: 0.6440677966101694 and parameters: {'sequence_length': 14, 'hidden_size': 78, 'num_layers': 3, 'num_blocks': 2, 'dropout_rate': 0.48437256855236405, 'lr': 0.008523422794259841}. Best is trial 52 with value: 0.6779661016949152.\n"
     ]
    },
    {
     "name": "stdout",
     "output_type": "stream",
     "text": [
      "Early stopping at epoch 10\n"
     ]
    },
    {
     "name": "stderr",
     "output_type": "stream",
     "text": [
      "[I 2024-09-12 21:00:12,249] Trial 73 finished with value: 0.5254237288135594 and parameters: {'sequence_length': 11, 'hidden_size': 96, 'num_layers': 3, 'num_blocks': 3, 'dropout_rate': 0.36735909266621614, 'lr': 0.009095067358276225}. Best is trial 52 with value: 0.6779661016949152.\n"
     ]
    },
    {
     "name": "stdout",
     "output_type": "stream",
     "text": [
      "Early stopping at epoch 13\n"
     ]
    },
    {
     "name": "stderr",
     "output_type": "stream",
     "text": [
      "[I 2024-09-12 21:00:12,854] Trial 74 finished with value: 0.5423728813559322 and parameters: {'sequence_length': 13, 'hidden_size': 88, 'num_layers': 3, 'num_blocks': 2, 'dropout_rate': 0.3232721093039602, 'lr': 0.00789821684193569}. Best is trial 52 with value: 0.6779661016949152.\n"
     ]
    },
    {
     "name": "stdout",
     "output_type": "stream",
     "text": [
      "Early stopping at epoch 13\n"
     ]
    },
    {
     "name": "stderr",
     "output_type": "stream",
     "text": [
      "[I 2024-09-12 21:00:13,328] Trial 75 finished with value: 0.6440677966101694 and parameters: {'sequence_length': 14, 'hidden_size': 61, 'num_layers': 1, 'num_blocks': 2, 'dropout_rate': 0.39439606088112955, 'lr': 0.008298083824710579}. Best is trial 52 with value: 0.6779661016949152.\n"
     ]
    },
    {
     "name": "stdout",
     "output_type": "stream",
     "text": [
      "Early stopping at epoch 12\n"
     ]
    },
    {
     "name": "stderr",
     "output_type": "stream",
     "text": [
      "[I 2024-09-12 21:00:13,846] Trial 76 finished with value: 0.55 and parameters: {'sequence_length': 9, 'hidden_size': 72, 'num_layers': 3, 'num_blocks': 2, 'dropout_rate': 0.41043544457805614, 'lr': 0.009741559323396787}. Best is trial 52 with value: 0.6779661016949152.\n"
     ]
    },
    {
     "name": "stdout",
     "output_type": "stream",
     "text": [
      "Early stopping at epoch 10\n"
     ]
    },
    {
     "name": "stderr",
     "output_type": "stream",
     "text": [
      "[I 2024-09-12 21:00:15,183] Trial 77 finished with value: 0.5254237288135594 and parameters: {'sequence_length': 16, 'hidden_size': 101, 'num_layers': 3, 'num_blocks': 3, 'dropout_rate': 0.376854814595643, 'lr': 0.00937071113806165}. Best is trial 52 with value: 0.6779661016949152.\n"
     ]
    },
    {
     "name": "stdout",
     "output_type": "stream",
     "text": [
      "Early stopping at epoch 22\n"
     ]
    },
    {
     "name": "stderr",
     "output_type": "stream",
     "text": [
      "[I 2024-09-12 21:00:15,904] Trial 78 finished with value: 0.5254237288135594 and parameters: {'sequence_length': 17, 'hidden_size': 83, 'num_layers': 3, 'num_blocks': 3, 'dropout_rate': 0.4611856789381315, 'lr': 0.007268114851609468}. Best is trial 52 with value: 0.6779661016949152.\n"
     ]
    },
    {
     "name": "stdout",
     "output_type": "stream",
     "text": [
      "Early stopping at epoch 13\n"
     ]
    },
    {
     "name": "stderr",
     "output_type": "stream",
     "text": [
      "[I 2024-09-12 21:00:16,668] Trial 79 finished with value: 0.576271186440678 and parameters: {'sequence_length': 19, 'hidden_size': 91, 'num_layers': 3, 'num_blocks': 3, 'dropout_rate': 0.29222026727561157, 'lr': 0.008572031004074155}. Best is trial 52 with value: 0.6779661016949152.\n"
     ]
    },
    {
     "name": "stdout",
     "output_type": "stream",
     "text": [
      "Early stopping at epoch 14\n"
     ]
    },
    {
     "name": "stderr",
     "output_type": "stream",
     "text": [
      "[I 2024-09-12 21:00:17,342] Trial 80 finished with value: 0.5423728813559322 and parameters: {'sequence_length': 15, 'hidden_size': 95, 'num_layers': 3, 'num_blocks': 2, 'dropout_rate': 0.43337509313234746, 'lr': 0.009020427185843465}. Best is trial 52 with value: 0.6779661016949152.\n"
     ]
    },
    {
     "name": "stdout",
     "output_type": "stream",
     "text": [
      "Early stopping at epoch 13\n"
     ]
    },
    {
     "name": "stderr",
     "output_type": "stream",
     "text": [
      "[I 2024-09-12 21:00:17,883] Trial 81 finished with value: 0.6440677966101694 and parameters: {'sequence_length': 14, 'hidden_size': 94, 'num_layers': 3, 'num_blocks': 2, 'dropout_rate': 0.4154297948798068, 'lr': 0.00802701720511441}. Best is trial 52 with value: 0.6779661016949152.\n"
     ]
    },
    {
     "name": "stdout",
     "output_type": "stream",
     "text": [
      "Early stopping at epoch 12\n"
     ]
    },
    {
     "name": "stderr",
     "output_type": "stream",
     "text": [
      "[I 2024-09-12 21:00:18,504] Trial 82 finished with value: 0.559322033898305 and parameters: {'sequence_length': 12, 'hidden_size': 99, 'num_layers': 3, 'num_blocks': 2, 'dropout_rate': 0.31150664393341293, 'lr': 0.008248218320925104}. Best is trial 52 with value: 0.6779661016949152.\n"
     ]
    },
    {
     "name": "stdout",
     "output_type": "stream",
     "text": [
      "Early stopping at epoch 13\n"
     ]
    },
    {
     "name": "stderr",
     "output_type": "stream",
     "text": [
      "[I 2024-09-12 21:00:18,888] Trial 83 finished with value: 0.5423728813559322 and parameters: {'sequence_length': 13, 'hidden_size': 104, 'num_layers': 3, 'num_blocks': 1, 'dropout_rate': 0.39782281363175065, 'lr': 0.007712469719788894}. Best is trial 52 with value: 0.6779661016949152.\n"
     ]
    },
    {
     "name": "stdout",
     "output_type": "stream",
     "text": [
      "Early stopping at epoch 10\n"
     ]
    },
    {
     "name": "stderr",
     "output_type": "stream",
     "text": [
      "[I 2024-09-12 21:00:19,440] Trial 84 finished with value: 0.6440677966101694 and parameters: {'sequence_length': 14, 'hidden_size': 91, 'num_layers': 3, 'num_blocks': 2, 'dropout_rate': 0.384736406294619, 'lr': 0.008702846255522124}. Best is trial 52 with value: 0.6779661016949152.\n"
     ]
    },
    {
     "name": "stdout",
     "output_type": "stream",
     "text": [
      "Early stopping at epoch 10\n"
     ]
    },
    {
     "name": "stderr",
     "output_type": "stream",
     "text": [
      "[I 2024-09-12 21:00:20,166] Trial 85 finished with value: 0.576271186440678 and parameters: {'sequence_length': 15, 'hidden_size': 85, 'num_layers': 3, 'num_blocks': 2, 'dropout_rate': 0.3614430835074651, 'lr': 0.007497218273551184}. Best is trial 52 with value: 0.6779661016949152.\n"
     ]
    },
    {
     "name": "stdout",
     "output_type": "stream",
     "text": [
      "Early stopping at epoch 16\n"
     ]
    },
    {
     "name": "stderr",
     "output_type": "stream",
     "text": [
      "[I 2024-09-12 21:00:20,766] Trial 86 finished with value: 0.5423728813559322 and parameters: {'sequence_length': 13, 'hidden_size': 88, 'num_layers': 3, 'num_blocks': 2, 'dropout_rate': 0.40612040246103936, 'lr': 0.00821857153436465}. Best is trial 52 with value: 0.6779661016949152.\n"
     ]
    },
    {
     "name": "stdout",
     "output_type": "stream",
     "text": [
      "Early stopping at epoch 13\n"
     ]
    },
    {
     "name": "stderr",
     "output_type": "stream",
     "text": [
      "[I 2024-09-12 21:00:21,389] Trial 87 finished with value: 0.5084745762711864 and parameters: {'sequence_length': 16, 'hidden_size': 78, 'num_layers': 3, 'num_blocks': 3, 'dropout_rate': 0.4875916620056409, 'lr': 0.004346229401944776}. Best is trial 52 with value: 0.6779661016949152.\n"
     ]
    },
    {
     "name": "stdout",
     "output_type": "stream",
     "text": [
      "Early stopping at epoch 10\n"
     ]
    },
    {
     "name": "stderr",
     "output_type": "stream",
     "text": [
      "[I 2024-09-12 21:00:22,225] Trial 88 finished with value: 0.5254237288135594 and parameters: {'sequence_length': 11, 'hidden_size': 128, 'num_layers': 3, 'num_blocks': 4, 'dropout_rate': 0.33747700463370467, 'lr': 0.00888320335363126}. Best is trial 52 with value: 0.6779661016949152.\n"
     ]
    },
    {
     "name": "stdout",
     "output_type": "stream",
     "text": [
      "Early stopping at epoch 10\n"
     ]
    },
    {
     "name": "stderr",
     "output_type": "stream",
     "text": [
      "[I 2024-09-12 21:00:22,948] Trial 89 finished with value: 0.559322033898305 and parameters: {'sequence_length': 12, 'hidden_size': 99, 'num_layers': 3, 'num_blocks': 3, 'dropout_rate': 0.4544116428937789, 'lr': 0.009208974863617245}. Best is trial 52 with value: 0.6779661016949152.\n"
     ]
    },
    {
     "name": "stdout",
     "output_type": "stream",
     "text": [
      "Early stopping at epoch 13\n"
     ]
    },
    {
     "name": "stderr",
     "output_type": "stream",
     "text": [
      "[I 2024-09-12 21:00:23,395] Trial 90 finished with value: 0.5166666666666667 and parameters: {'sequence_length': 10, 'hidden_size': 92, 'num_layers': 2, 'num_blocks': 2, 'dropout_rate': 0.432445325434404, 'lr': 0.007030610696889842}. Best is trial 52 with value: 0.6779661016949152.\n"
     ]
    },
    {
     "name": "stdout",
     "output_type": "stream",
     "text": [
      "Early stopping at epoch 10\n"
     ]
    },
    {
     "name": "stderr",
     "output_type": "stream",
     "text": [
      "[I 2024-09-12 21:00:23,875] Trial 91 finished with value: 0.6440677966101694 and parameters: {'sequence_length': 14, 'hidden_size': 94, 'num_layers': 3, 'num_blocks': 2, 'dropout_rate': 0.41955657902823257, 'lr': 0.008344833684825366}. Best is trial 52 with value: 0.6779661016949152.\n"
     ]
    },
    {
     "name": "stdout",
     "output_type": "stream",
     "text": [
      "Early stopping at epoch 10\n"
     ]
    },
    {
     "name": "stderr",
     "output_type": "stream",
     "text": [
      "[I 2024-09-12 21:00:24,549] Trial 92 finished with value: 0.6440677966101694 and parameters: {'sequence_length': 14, 'hidden_size': 97, 'num_layers': 3, 'num_blocks': 2, 'dropout_rate': 0.47266407070848643, 'lr': 0.008487699337983151}. Best is trial 52 with value: 0.6779661016949152.\n"
     ]
    },
    {
     "name": "stdout",
     "output_type": "stream",
     "text": [
      "Early stopping at epoch 13\n"
     ]
    },
    {
     "name": "stderr",
     "output_type": "stream",
     "text": [
      "[I 2024-09-12 21:00:25,053] Trial 93 finished with value: 0.5423728813559322 and parameters: {'sequence_length': 15, 'hidden_size': 87, 'num_layers': 3, 'num_blocks': 2, 'dropout_rate': 0.3878063148662088, 'lr': 0.007875902393289192}. Best is trial 52 with value: 0.6779661016949152.\n"
     ]
    },
    {
     "name": "stdout",
     "output_type": "stream",
     "text": [
      "Early stopping at epoch 10\n"
     ]
    },
    {
     "name": "stderr",
     "output_type": "stream",
     "text": [
      "[I 2024-09-12 21:00:25,563] Trial 94 finished with value: 0.5423728813559322 and parameters: {'sequence_length': 13, 'hidden_size': 82, 'num_layers': 3, 'num_blocks': 2, 'dropout_rate': 0.44693151941559633, 'lr': 0.008959920421969872}. Best is trial 52 with value: 0.6779661016949152.\n"
     ]
    },
    {
     "name": "stdout",
     "output_type": "stream",
     "text": [
      "Early stopping at epoch 10\n"
     ]
    },
    {
     "name": "stderr",
     "output_type": "stream",
     "text": [
      "[I 2024-09-12 21:00:26,230] Trial 95 finished with value: 0.5084745762711864 and parameters: {'sequence_length': 16, 'hidden_size': 106, 'num_layers': 3, 'num_blocks': 2, 'dropout_rate': 0.3778748952306804, 'lr': 0.007429303627430768}. Best is trial 52 with value: 0.6779661016949152.\n"
     ]
    },
    {
     "name": "stdout",
     "output_type": "stream",
     "text": [
      "Early stopping at epoch 13\n"
     ]
    },
    {
     "name": "stderr",
     "output_type": "stream",
     "text": [
      "[I 2024-09-12 21:00:26,886] Trial 96 finished with value: 0.5254237288135594 and parameters: {'sequence_length': 17, 'hidden_size': 123, 'num_layers': 3, 'num_blocks': 2, 'dropout_rate': 0.43193307779069123, 'lr': 0.008433560860255873}. Best is trial 52 with value: 0.6779661016949152.\n"
     ]
    },
    {
     "name": "stdout",
     "output_type": "stream",
     "text": [
      "Early stopping at epoch 13\n"
     ]
    },
    {
     "name": "stderr",
     "output_type": "stream",
     "text": [
      "[I 2024-09-12 21:00:27,730] Trial 97 finished with value: 0.5932203389830508 and parameters: {'sequence_length': 12, 'hidden_size': 24, 'num_layers': 3, 'num_blocks': 3, 'dropout_rate': 0.46189886829772125, 'lr': 0.008153425396119905}. Best is trial 52 with value: 0.6779661016949152.\n"
     ]
    },
    {
     "name": "stdout",
     "output_type": "stream",
     "text": [
      "Early stopping at epoch 17\n"
     ]
    },
    {
     "name": "stderr",
     "output_type": "stream",
     "text": [
      "[I 2024-09-12 21:00:28,195] Trial 98 finished with value: 0.6271186440677966 and parameters: {'sequence_length': 15, 'hidden_size': 89, 'num_layers': 3, 'num_blocks': 1, 'dropout_rate': 0.4102668264591277, 'lr': 0.0012130128306318466}. Best is trial 52 with value: 0.6779661016949152.\n"
     ]
    },
    {
     "name": "stdout",
     "output_type": "stream",
     "text": [
      "Early stopping at epoch 15\n"
     ]
    },
    {
     "name": "stderr",
     "output_type": "stream",
     "text": [
      "[I 2024-09-12 21:00:28,683] Trial 99 finished with value: 0.5254237288135594 and parameters: {'sequence_length': 11, 'hidden_size': 43, 'num_layers': 3, 'num_blocks': 2, 'dropout_rate': 0.36877867562898753, 'lr': 0.00778314734249929}. Best is trial 52 with value: 0.6779661016949152.\n",
      "[I 2024-09-12 21:00:28,730] A new study created in memory with name: no-name-ad6f3999-10cb-4061-a876-6fdc2ea2de16\n"
     ]
    },
    {
     "name": "stdout",
     "output_type": "stream",
     "text": [
      "Early stopping at epoch 10\n",
      "parameters for CL=F saved to ../models/best-hyperparameters/pytorch/lstm-classification/CL=F.json\n",
      "Best model for CL=F saved with accuracy: 0.6779661016949152\n"
     ]
    },
    {
     "name": "stderr",
     "output_type": "stream",
     "text": [
      "[I 2024-09-12 21:01:00,854] Trial 0 finished with value: 106.54286193847656 and parameters: {'sequence_length': 24, 'hidden_size': 66, 'num_layers': 3, 'num_blocks': 5, 'dropout_rate': 0.47532188831575417, 'lr': 0.004039942147790098}. Best is trial 0 with value: 106.54286193847656.\n",
      "[I 2024-09-12 21:01:01,815] Trial 1 finished with value: 35351.5390625 and parameters: {'sequence_length': 11, 'hidden_size': 90, 'num_layers': 2, 'num_blocks': 4, 'dropout_rate': 0.14504784604138876, 'lr': 0.006477998766202501}. Best is trial 0 with value: 106.54286193847656.\n"
     ]
    },
    {
     "name": "stdout",
     "output_type": "stream",
     "text": [
      "Early stopping at epoch 19\n"
     ]
    },
    {
     "name": "stderr",
     "output_type": "stream",
     "text": [
      "[I 2024-09-12 21:01:03,263] Trial 2 finished with value: 9696.4482421875 and parameters: {'sequence_length': 30, 'hidden_size': 78, 'num_layers': 1, 'num_blocks': 5, 'dropout_rate': 0.20453668401930247, 'lr': 0.003106006307243646}. Best is trial 0 with value: 106.54286193847656.\n"
     ]
    },
    {
     "name": "stdout",
     "output_type": "stream",
     "text": [
      "Early stopping at epoch 25\n"
     ]
    },
    {
     "name": "stderr",
     "output_type": "stream",
     "text": [
      "[I 2024-09-12 21:01:04,251] Trial 3 finished with value: 30093.404296875 and parameters: {'sequence_length': 29, 'hidden_size': 25, 'num_layers': 3, 'num_blocks': 4, 'dropout_rate': 0.12111684637787419, 'lr': 0.009720571740471912}. Best is trial 0 with value: 106.54286193847656.\n"
     ]
    },
    {
     "name": "stdout",
     "output_type": "stream",
     "text": [
      "Early stopping at epoch 14\n"
     ]
    },
    {
     "name": "stderr",
     "output_type": "stream",
     "text": [
      "[I 2024-09-12 21:01:05,207] Trial 4 finished with value: 5620.69384765625 and parameters: {'sequence_length': 8, 'hidden_size': 39, 'num_layers': 3, 'num_blocks': 2, 'dropout_rate': 0.3180517582993501, 'lr': 0.004177035652832794}. Best is trial 0 with value: 106.54286193847656.\n"
     ]
    },
    {
     "name": "stdout",
     "output_type": "stream",
     "text": [
      "Early stopping at epoch 27\n"
     ]
    },
    {
     "name": "stderr",
     "output_type": "stream",
     "text": [
      "[I 2024-09-12 21:01:05,665] Trial 5 finished with value: 49443.875 and parameters: {'sequence_length': 15, 'hidden_size': 62, 'num_layers': 3, 'num_blocks': 1, 'dropout_rate': 0.2997545508372714, 'lr': 0.00484133604684022}. Best is trial 0 with value: 106.54286193847656.\n"
     ]
    },
    {
     "name": "stdout",
     "output_type": "stream",
     "text": [
      "Early stopping at epoch 16\n"
     ]
    },
    {
     "name": "stderr",
     "output_type": "stream",
     "text": [
      "[I 2024-09-12 21:01:06,572] Trial 6 finished with value: 39493.27734375 and parameters: {'sequence_length': 13, 'hidden_size': 68, 'num_layers': 1, 'num_blocks': 5, 'dropout_rate': 0.4690669155549386, 'lr': 0.0047230626530454555}. Best is trial 0 with value: 106.54286193847656.\n"
     ]
    },
    {
     "name": "stdout",
     "output_type": "stream",
     "text": [
      "Early stopping at epoch 16\n"
     ]
    },
    {
     "name": "stderr",
     "output_type": "stream",
     "text": [
      "[I 2024-09-12 21:01:07,338] Trial 7 finished with value: 9758.361328125 and parameters: {'sequence_length': 7, 'hidden_size': 40, 'num_layers': 2, 'num_blocks': 2, 'dropout_rate': 0.48805992725795666, 'lr': 0.0063191125531874065}. Best is trial 0 with value: 106.54286193847656.\n"
     ]
    },
    {
     "name": "stdout",
     "output_type": "stream",
     "text": [
      "Early stopping at epoch 22\n"
     ]
    },
    {
     "name": "stderr",
     "output_type": "stream",
     "text": [
      "[I 2024-09-12 21:01:08,105] Trial 8 finished with value: 12753.15625 and parameters: {'sequence_length': 10, 'hidden_size': 63, 'num_layers': 2, 'num_blocks': 3, 'dropout_rate': 0.47269327987161913, 'lr': 0.0017286983510447613}. Best is trial 0 with value: 106.54286193847656.\n"
     ]
    },
    {
     "name": "stdout",
     "output_type": "stream",
     "text": [
      "Early stopping at epoch 15\n"
     ]
    },
    {
     "name": "stderr",
     "output_type": "stream",
     "text": [
      "[I 2024-09-12 21:01:09,689] Trial 9 finished with value: 13286.751953125 and parameters: {'sequence_length': 19, 'hidden_size': 74, 'num_layers': 1, 'num_blocks': 5, 'dropout_rate': 0.3090279388736882, 'lr': 0.009045942528060989}. Best is trial 0 with value: 106.54286193847656.\n"
     ]
    },
    {
     "name": "stdout",
     "output_type": "stream",
     "text": [
      "Early stopping at epoch 29\n"
     ]
    },
    {
     "name": "stderr",
     "output_type": "stream",
     "text": [
      "[I 2024-09-12 21:01:10,684] Trial 10 finished with value: 16181.4384765625 and parameters: {'sequence_length': 22, 'hidden_size': 121, 'num_layers': 3, 'num_blocks': 4, 'dropout_rate': 0.39676270740702446, 'lr': 0.0012377351845099466}. Best is trial 0 with value: 106.54286193847656.\n"
     ]
    },
    {
     "name": "stdout",
     "output_type": "stream",
     "text": [
      "Early stopping at epoch 13\n"
     ]
    },
    {
     "name": "stderr",
     "output_type": "stream",
     "text": [
      "[I 2024-09-12 21:01:11,145] Trial 11 finished with value: 25185.45703125 and parameters: {'sequence_length': 2, 'hidden_size': 41, 'num_layers': 3, 'num_blocks': 2, 'dropout_rate': 0.36307762516418907, 'lr': 0.003347325246651288}. Best is trial 0 with value: 106.54286193847656.\n"
     ]
    },
    {
     "name": "stdout",
     "output_type": "stream",
     "text": [
      "Early stopping at epoch 10\n"
     ]
    },
    {
     "name": "stderr",
     "output_type": "stream",
     "text": [
      "[I 2024-09-12 21:01:22,687] Trial 12 finished with value: 22708.37890625 and parameters: {'sequence_length': 23, 'hidden_size': 17, 'num_layers': 3, 'num_blocks': 2, 'dropout_rate': 0.24839083552547336, 'lr': 5.952438219003833e-05}. Best is trial 0 with value: 106.54286193847656.\n"
     ]
    },
    {
     "name": "stdout",
     "output_type": "stream",
     "text": [
      "Early stopping at epoch 327\n"
     ]
    },
    {
     "name": "stderr",
     "output_type": "stream",
     "text": [
      "[I 2024-09-12 21:01:23,376] Trial 13 finished with value: 24616.662109375 and parameters: {'sequence_length': 4, 'hidden_size': 47, 'num_layers': 3, 'num_blocks': 1, 'dropout_rate': 0.4051706235301948, 'lr': 0.006694683690366558}. Best is trial 0 with value: 106.54286193847656.\n"
     ]
    },
    {
     "name": "stdout",
     "output_type": "stream",
     "text": [
      "Early stopping at epoch 27\n"
     ]
    },
    {
     "name": "stderr",
     "output_type": "stream",
     "text": [
      "[I 2024-09-12 21:01:26,331] Trial 14 finished with value: 5019.734375 and parameters: {'sequence_length': 25, 'hidden_size': 96, 'num_layers': 2, 'num_blocks': 3, 'dropout_rate': 0.343991859642374, 'lr': 0.0034515534794244116}. Best is trial 0 with value: 106.54286193847656.\n"
     ]
    },
    {
     "name": "stdout",
     "output_type": "stream",
     "text": [
      "Early stopping at epoch 72\n"
     ]
    },
    {
     "name": "stderr",
     "output_type": "stream",
     "text": [
      "[I 2024-09-12 21:01:27,716] Trial 15 finished with value: 17141.537109375 and parameters: {'sequence_length': 25, 'hidden_size': 104, 'num_layers': 2, 'num_blocks': 3, 'dropout_rate': 0.42746416956114647, 'lr': 0.0024195490969797133}. Best is trial 0 with value: 106.54286193847656.\n"
     ]
    },
    {
     "name": "stdout",
     "output_type": "stream",
     "text": [
      "Early stopping at epoch 31\n"
     ]
    },
    {
     "name": "stderr",
     "output_type": "stream",
     "text": [
      "[I 2024-09-12 21:01:28,660] Trial 16 finished with value: 14272.458984375 and parameters: {'sequence_length': 26, 'hidden_size': 99, 'num_layers': 2, 'num_blocks': 4, 'dropout_rate': 0.3527363946692016, 'lr': 0.007891487185040028}. Best is trial 0 with value: 106.54286193847656.\n"
     ]
    },
    {
     "name": "stdout",
     "output_type": "stream",
     "text": [
      "Early stopping at epoch 16\n"
     ]
    },
    {
     "name": "stderr",
     "output_type": "stream",
     "text": [
      "[I 2024-09-12 21:01:29,556] Trial 17 finished with value: 44756.9375 and parameters: {'sequence_length': 18, 'hidden_size': 112, 'num_layers': 2, 'num_blocks': 3, 'dropout_rate': 0.21473159766314065, 'lr': 0.0037455295783447185}. Best is trial 0 with value: 106.54286193847656.\n"
     ]
    },
    {
     "name": "stdout",
     "output_type": "stream",
     "text": [
      "Early stopping at epoch 20\n"
     ]
    },
    {
     "name": "stderr",
     "output_type": "stream",
     "text": [
      "[I 2024-09-12 21:01:30,299] Trial 18 finished with value: 75900.0703125 and parameters: {'sequence_length': 20, 'hidden_size': 84, 'num_layers': 1, 'num_blocks': 4, 'dropout_rate': 0.4405028077252784, 'lr': 0.005638562303144268}. Best is trial 0 with value: 106.54286193847656.\n"
     ]
    },
    {
     "name": "stdout",
     "output_type": "stream",
     "text": [
      "Early stopping at epoch 16\n"
     ]
    },
    {
     "name": "stderr",
     "output_type": "stream",
     "text": [
      "[I 2024-09-12 21:01:31,048] Trial 19 finished with value: 28773.732421875 and parameters: {'sequence_length': 27, 'hidden_size': 128, 'num_layers': 2, 'num_blocks': 3, 'dropout_rate': 0.2631495296352825, 'lr': 0.0005823819674546692}. Best is trial 0 with value: 106.54286193847656.\n"
     ]
    },
    {
     "name": "stdout",
     "output_type": "stream",
     "text": [
      "Early stopping at epoch 14\n"
     ]
    },
    {
     "name": "stderr",
     "output_type": "stream",
     "text": [
      "[I 2024-09-12 21:01:31,871] Trial 20 finished with value: 3182.56396484375 and parameters: {'sequence_length': 23, 'hidden_size': 93, 'num_layers': 2, 'num_blocks': 5, 'dropout_rate': 0.3651852783179763, 'lr': 0.002486089146556867}. Best is trial 0 with value: 106.54286193847656.\n"
     ]
    },
    {
     "name": "stdout",
     "output_type": "stream",
     "text": [
      "Early stopping at epoch 13\n"
     ]
    },
    {
     "name": "stderr",
     "output_type": "stream",
     "text": [
      "[I 2024-09-12 21:02:01,580] Trial 21 finished with value: 457.29144287109375 and parameters: {'sequence_length': 23, 'hidden_size': 93, 'num_layers': 2, 'num_blocks': 5, 'dropout_rate': 0.36390341615186034, 'lr': 0.002419269297224992}. Best is trial 0 with value: 106.54286193847656.\n",
      "[I 2024-09-12 21:02:03,882] Trial 22 finished with value: 11512.7724609375 and parameters: {'sequence_length': 22, 'hidden_size': 87, 'num_layers': 2, 'num_blocks': 5, 'dropout_rate': 0.38976535877138485, 'lr': 0.0022424141132086715}. Best is trial 0 with value: 106.54286193847656.\n"
     ]
    },
    {
     "name": "stdout",
     "output_type": "stream",
     "text": [
      "Early stopping at epoch 35\n"
     ]
    },
    {
     "name": "stderr",
     "output_type": "stream",
     "text": [
      "[I 2024-09-12 21:02:05,311] Trial 23 finished with value: 19595.97265625 and parameters: {'sequence_length': 16, 'hidden_size': 57, 'num_layers': 2, 'num_blocks': 5, 'dropout_rate': 0.43485219743781894, 'lr': 0.0027853938449880745}. Best is trial 0 with value: 106.54286193847656.\n"
     ]
    },
    {
     "name": "stdout",
     "output_type": "stream",
     "text": [
      "Early stopping at epoch 21\n"
     ]
    },
    {
     "name": "stderr",
     "output_type": "stream",
     "text": [
      "[I 2024-09-12 21:02:06,556] Trial 24 finished with value: 6007.83984375 and parameters: {'sequence_length': 23, 'hidden_size': 111, 'num_layers': 2, 'num_blocks': 5, 'dropout_rate': 0.37043311932549905, 'lr': 0.0013577832041890153}. Best is trial 0 with value: 106.54286193847656.\n"
     ]
    },
    {
     "name": "stdout",
     "output_type": "stream",
     "text": [
      "Early stopping at epoch 16\n"
     ]
    },
    {
     "name": "stderr",
     "output_type": "stream",
     "text": [
      "[I 2024-09-12 21:02:07,929] Trial 25 finished with value: 31346.544921875 and parameters: {'sequence_length': 28, 'hidden_size': 80, 'num_layers': 1, 'num_blocks': 5, 'dropout_rate': 0.28164187990627937, 'lr': 0.004299562542218542}. Best is trial 0 with value: 106.54286193847656.\n"
     ]
    },
    {
     "name": "stdout",
     "output_type": "stream",
     "text": [
      "Early stopping at epoch 25\n"
     ]
    },
    {
     "name": "stderr",
     "output_type": "stream",
     "text": [
      "[I 2024-09-12 21:02:09,227] Trial 26 finished with value: 15382.4794921875 and parameters: {'sequence_length': 21, 'hidden_size': 53, 'num_layers': 2, 'num_blocks': 4, 'dropout_rate': 0.4984572759970731, 'lr': 0.0020904435987389256}. Best is trial 0 with value: 106.54286193847656.\n"
     ]
    },
    {
     "name": "stdout",
     "output_type": "stream",
     "text": [
      "Early stopping at epoch 24\n"
     ]
    },
    {
     "name": "stderr",
     "output_type": "stream",
     "text": [
      "[I 2024-09-12 21:02:11,216] Trial 27 finished with value: 19369.572265625 and parameters: {'sequence_length': 18, 'hidden_size': 93, 'num_layers': 3, 'num_blocks': 5, 'dropout_rate': 0.33039185919316805, 'lr': 0.005291383968622483}. Best is trial 0 with value: 106.54286193847656.\n"
     ]
    },
    {
     "name": "stdout",
     "output_type": "stream",
     "text": [
      "Early stopping at epoch 26\n"
     ]
    },
    {
     "name": "stderr",
     "output_type": "stream",
     "text": [
      "[I 2024-09-12 21:02:12,770] Trial 28 finished with value: 2487.222900390625 and parameters: {'sequence_length': 24, 'hidden_size': 105, 'num_layers': 2, 'num_blocks': 4, 'dropout_rate': 0.44708598536467375, 'lr': 0.001094458775604516}. Best is trial 0 with value: 106.54286193847656.\n"
     ]
    },
    {
     "name": "stdout",
     "output_type": "stream",
     "text": [
      "Early stopping at epoch 27\n"
     ]
    },
    {
     "name": "stderr",
     "output_type": "stream",
     "text": [
      "[I 2024-09-12 21:02:14,070] Trial 29 finished with value: 5935.19287109375 and parameters: {'sequence_length': 25, 'hidden_size': 104, 'num_layers': 1, 'num_blocks': 4, 'dropout_rate': 0.4524999329157258, 'lr': 0.0010110579854276098}. Best is trial 0 with value: 106.54286193847656.\n"
     ]
    },
    {
     "name": "stdout",
     "output_type": "stream",
     "text": [
      "Early stopping at epoch 26\n"
     ]
    },
    {
     "name": "stderr",
     "output_type": "stream",
     "text": [
      "[I 2024-09-12 21:02:16,184] Trial 30 finished with value: 13772.25 and parameters: {'sequence_length': 28, 'hidden_size': 117, 'num_layers': 3, 'num_blocks': 4, 'dropout_rate': 0.4144344561043237, 'lr': 0.0002589662005586614}. Best is trial 0 with value: 106.54286193847656.\n"
     ]
    },
    {
     "name": "stdout",
     "output_type": "stream",
     "text": [
      "Early stopping at epoch 30\n"
     ]
    },
    {
     "name": "stderr",
     "output_type": "stream",
     "text": [
      "[I 2024-09-12 21:02:17,319] Trial 31 finished with value: 9428.48046875 and parameters: {'sequence_length': 24, 'hidden_size': 90, 'num_layers': 2, 'num_blocks': 5, 'dropout_rate': 0.3754631074866699, 'lr': 0.0017115714538398772}. Best is trial 0 with value: 106.54286193847656.\n"
     ]
    },
    {
     "name": "stdout",
     "output_type": "stream",
     "text": [
      "Early stopping at epoch 17\n"
     ]
    },
    {
     "name": "stderr",
     "output_type": "stream",
     "text": [
      "[I 2024-09-12 21:02:18,993] Trial 32 finished with value: 28645.07421875 and parameters: {'sequence_length': 30, 'hidden_size': 75, 'num_layers': 2, 'num_blocks': 5, 'dropout_rate': 0.460854732632297, 'lr': 0.0027857934326263297}. Best is trial 0 with value: 106.54286193847656.\n"
     ]
    },
    {
     "name": "stdout",
     "output_type": "stream",
     "text": [
      "Early stopping at epoch 27\n"
     ]
    },
    {
     "name": "stderr",
     "output_type": "stream",
     "text": [
      "[I 2024-09-12 21:02:20,981] Trial 33 finished with value: 27919.236328125 and parameters: {'sequence_length': 21, 'hidden_size': 103, 'num_layers': 2, 'num_blocks': 5, 'dropout_rate': 0.41977848324396266, 'lr': 0.0008332099796351268}. Best is trial 0 with value: 106.54286193847656.\n"
     ]
    },
    {
     "name": "stdout",
     "output_type": "stream",
     "text": [
      "Early stopping at epoch 28\n"
     ]
    },
    {
     "name": "stderr",
     "output_type": "stream",
     "text": [
      "[I 2024-09-12 21:02:22,560] Trial 34 finished with value: 3379.4287109375 and parameters: {'sequence_length': 27, 'hidden_size': 84, 'num_layers': 2, 'num_blocks': 4, 'dropout_rate': 0.39008027133269096, 'lr': 0.003967981930261471}. Best is trial 0 with value: 106.54286193847656.\n"
     ]
    },
    {
     "name": "stdout",
     "output_type": "stream",
     "text": [
      "Early stopping at epoch 32\n"
     ]
    },
    {
     "name": "stderr",
     "output_type": "stream",
     "text": [
      "[I 2024-09-12 21:02:23,638] Trial 35 finished with value: 24614.41015625 and parameters: {'sequence_length': 19, 'hidden_size': 68, 'num_layers': 3, 'num_blocks': 4, 'dropout_rate': 0.3308684534655713, 'lr': 0.0029283837877992136}. Best is trial 0 with value: 106.54286193847656.\n"
     ]
    },
    {
     "name": "stdout",
     "output_type": "stream",
     "text": [
      "Early stopping at epoch 17\n"
     ]
    },
    {
     "name": "stderr",
     "output_type": "stream",
     "text": [
      "[I 2024-09-12 21:02:24,527] Trial 36 finished with value: 12369.6845703125 and parameters: {'sequence_length': 15, 'hidden_size': 112, 'num_layers': 1, 'num_blocks': 5, 'dropout_rate': 0.4457168598909202, 'lr': 0.0017771842631240887}. Best is trial 0 with value: 106.54286193847656.\n"
     ]
    },
    {
     "name": "stdout",
     "output_type": "stream",
     "text": [
      "Early stopping at epoch 14\n"
     ]
    },
    {
     "name": "stderr",
     "output_type": "stream",
     "text": [
      "[I 2024-09-12 21:02:26,134] Trial 37 finished with value: 22624.5 and parameters: {'sequence_length': 30, 'hidden_size': 80, 'num_layers': 2, 'num_blocks': 5, 'dropout_rate': 0.1896463423247779, 'lr': 0.0025338617679598425}. Best is trial 0 with value: 106.54286193847656.\n"
     ]
    },
    {
     "name": "stdout",
     "output_type": "stream",
     "text": [
      "Early stopping at epoch 25\n"
     ]
    },
    {
     "name": "stderr",
     "output_type": "stream",
     "text": [
      "[I 2024-09-12 21:02:28,274] Trial 38 finished with value: 4172.62890625 and parameters: {'sequence_length': 23, 'hidden_size': 99, 'num_layers': 2, 'num_blocks': 4, 'dropout_rate': 0.10392415678776296, 'lr': 0.00426351266858878}. Best is trial 0 with value: 106.54286193847656.\n"
     ]
    },
    {
     "name": "stdout",
     "output_type": "stream",
     "text": [
      "Early stopping at epoch 37\n"
     ]
    },
    {
     "name": "stderr",
     "output_type": "stream",
     "text": [
      "[I 2024-09-12 21:02:29,540] Trial 39 finished with value: 12136.330078125 and parameters: {'sequence_length': 13, 'hidden_size': 69, 'num_layers': 2, 'num_blocks': 5, 'dropout_rate': 0.47925690593980086, 'lr': 0.0033358008690746238}. Best is trial 0 with value: 106.54286193847656.\n"
     ]
    },
    {
     "name": "stdout",
     "output_type": "stream",
     "text": [
      "Early stopping at epoch 19\n"
     ]
    },
    {
     "name": "stderr",
     "output_type": "stream",
     "text": [
      "[I 2024-09-12 21:02:31,353] Trial 40 finished with value: 5325.9453125 and parameters: {'sequence_length': 26, 'hidden_size': 91, 'num_layers': 3, 'num_blocks': 4, 'dropout_rate': 0.14710430358236445, 'lr': 0.004654965822983607}. Best is trial 0 with value: 106.54286193847656.\n"
     ]
    },
    {
     "name": "stdout",
     "output_type": "stream",
     "text": [
      "Early stopping at epoch 26\n"
     ]
    },
    {
     "name": "stderr",
     "output_type": "stream",
     "text": [
      "[I 2024-09-12 21:02:32,807] Trial 41 finished with value: 22090.654296875 and parameters: {'sequence_length': 28, 'hidden_size': 84, 'num_layers': 2, 'num_blocks': 4, 'dropout_rate': 0.37643918542091204, 'lr': 0.005674791440624952}. Best is trial 0 with value: 106.54286193847656.\n"
     ]
    },
    {
     "name": "stdout",
     "output_type": "stream",
     "text": [
      "Early stopping at epoch 27\n"
     ]
    },
    {
     "name": "stderr",
     "output_type": "stream",
     "text": [
      "[I 2024-09-12 21:02:34,009] Trial 42 finished with value: 13122.541015625 and parameters: {'sequence_length': 27, 'hidden_size': 60, 'num_layers': 2, 'num_blocks': 5, 'dropout_rate': 0.3913386500058074, 'lr': 0.003815568549657132}. Best is trial 0 with value: 106.54286193847656.\n"
     ]
    },
    {
     "name": "stdout",
     "output_type": "stream",
     "text": [
      "Early stopping at epoch 18\n"
     ]
    },
    {
     "name": "stderr",
     "output_type": "stream",
     "text": [
      "[I 2024-09-12 21:02:35,199] Trial 43 finished with value: 5753.888671875 and parameters: {'sequence_length': 24, 'hidden_size': 77, 'num_layers': 2, 'num_blocks': 4, 'dropout_rate': 0.46925767162981435, 'lr': 0.0016071347655987394}. Best is trial 0 with value: 106.54286193847656.\n"
     ]
    },
    {
     "name": "stdout",
     "output_type": "stream",
     "text": [
      "Early stopping at epoch 20\n"
     ]
    },
    {
     "name": "stderr",
     "output_type": "stream",
     "text": [
      "[I 2024-09-12 21:02:36,362] Trial 44 finished with value: 23456.142578125 and parameters: {'sequence_length': 21, 'hidden_size': 86, 'num_layers': 2, 'num_blocks': 5, 'dropout_rate': 0.4061922783298989, 'lr': 0.0037228260640258166}. Best is trial 0 with value: 106.54286193847656.\n"
     ]
    },
    {
     "name": "stdout",
     "output_type": "stream",
     "text": [
      "Early stopping at epoch 14\n"
     ]
    },
    {
     "name": "stderr",
     "output_type": "stream",
     "text": [
      "[I 2024-09-12 21:02:37,700] Trial 45 finished with value: 11332.1533203125 and parameters: {'sequence_length': 26, 'hidden_size': 95, 'num_layers': 2, 'num_blocks': 4, 'dropout_rate': 0.2942606025606518, 'lr': 0.002076181360616034}. Best is trial 0 with value: 106.54286193847656.\n"
     ]
    },
    {
     "name": "stdout",
     "output_type": "stream",
     "text": [
      "Early stopping at epoch 21\n"
     ]
    },
    {
     "name": "stderr",
     "output_type": "stream",
     "text": [
      "[I 2024-09-12 21:03:07,683] Trial 46 finished with value: 50.51274490356445 and parameters: {'sequence_length': 24, 'hidden_size': 28, 'num_layers': 2, 'num_blocks': 5, 'dropout_rate': 0.34493230097749383, 'lr': 0.003147777416275566}. Best is trial 46 with value: 50.51274490356445.\n",
      "[I 2024-09-12 21:03:09,414] Trial 47 finished with value: 39657.125 and parameters: {'sequence_length': 24, 'hidden_size': 25, 'num_layers': 3, 'num_blocks': 5, 'dropout_rate': 0.3256676829262695, 'lr': 0.0032444326153547726}. Best is trial 46 with value: 50.51274490356445.\n"
     ]
    },
    {
     "name": "stdout",
     "output_type": "stream",
     "text": [
      "Early stopping at epoch 22\n"
     ]
    },
    {
     "name": "stderr",
     "output_type": "stream",
     "text": [
      "[I 2024-09-12 21:03:10,875] Trial 48 finished with value: 23153.55078125 and parameters: {'sequence_length': 22, 'hidden_size': 28, 'num_layers': 2, 'num_blocks': 5, 'dropout_rate': 0.3509625473951287, 'lr': 0.0026070473319484565}. Best is trial 46 with value: 50.51274490356445.\n"
     ]
    },
    {
     "name": "stdout",
     "output_type": "stream",
     "text": [
      "Early stopping at epoch 22\n"
     ]
    },
    {
     "name": "stderr",
     "output_type": "stream",
     "text": [
      "[I 2024-09-12 21:03:13,416] Trial 49 finished with value: 3851.490966796875 and parameters: {'sequence_length': 19, 'hidden_size': 32, 'num_layers': 1, 'num_blocks': 5, 'dropout_rate': 0.3162146234733662, 'lr': 0.0012909211641644889}. Best is trial 46 with value: 50.51274490356445.\n"
     ]
    },
    {
     "name": "stdout",
     "output_type": "stream",
     "text": [
      "Early stopping at epoch 46\n"
     ]
    },
    {
     "name": "stderr",
     "output_type": "stream",
     "text": [
      "[I 2024-09-12 21:03:14,661] Trial 50 finished with value: 42826.359375 and parameters: {'sequence_length': 20, 'hidden_size': 107, 'num_layers': 2, 'num_blocks': 5, 'dropout_rate': 0.498598685289017, 'lr': 0.0006062179067405212}. Best is trial 46 with value: 50.51274490356445.\n"
     ]
    },
    {
     "name": "stdout",
     "output_type": "stream",
     "text": [
      "Early stopping at epoch 17\n"
     ]
    },
    {
     "name": "stderr",
     "output_type": "stream",
     "text": [
      "[I 2024-09-12 21:03:16,027] Trial 51 finished with value: 2521.78857421875 and parameters: {'sequence_length': 25, 'hidden_size': 16, 'num_layers': 2, 'num_blocks': 3, 'dropout_rate': 0.34082102620318305, 'lr': 0.004007013382638513}. Best is trial 46 with value: 50.51274490356445.\n"
     ]
    },
    {
     "name": "stdout",
     "output_type": "stream",
     "text": [
      "Early stopping at epoch 35\n"
     ]
    },
    {
     "name": "stderr",
     "output_type": "stream",
     "text": [
      "[I 2024-09-12 21:03:37,342] Trial 52 finished with value: 351.39080810546875 and parameters: {'sequence_length': 23, 'hidden_size': 17, 'num_layers': 2, 'num_blocks': 3, 'dropout_rate': 0.344874502935595, 'lr': 0.004749094585802182}. Best is trial 46 with value: 50.51274490356445.\n",
      "[I 2024-09-12 21:03:59,540] Trial 53 finished with value: 32.578895568847656 and parameters: {'sequence_length': 25, 'hidden_size': 18, 'num_layers': 2, 'num_blocks': 3, 'dropout_rate': 0.29752516820105185, 'lr': 0.005042473269184032}. Best is trial 53 with value: 32.578895568847656.\n",
      "[I 2024-09-12 21:04:00,359] Trial 54 finished with value: 9518.47265625 and parameters: {'sequence_length': 24, 'hidden_size': 19, 'num_layers': 2, 'num_blocks': 3, 'dropout_rate': 0.26168944070733136, 'lr': 0.006807776186101252}. Best is trial 53 with value: 32.578895568847656.\n"
     ]
    },
    {
     "name": "stdout",
     "output_type": "stream",
     "text": [
      "Early stopping at epoch 14\n"
     ]
    },
    {
     "name": "stderr",
     "output_type": "stream",
     "text": [
      "[I 2024-09-12 21:04:02,438] Trial 55 finished with value: 1212.893798828125 and parameters: {'sequence_length': 29, 'hidden_size': 22, 'num_layers': 2, 'num_blocks': 2, 'dropout_rate': 0.2902214685977292, 'lr': 0.00504817216823433}. Best is trial 53 with value: 32.578895568847656.\n"
     ]
    },
    {
     "name": "stdout",
     "output_type": "stream",
     "text": [
      "Early stopping at epoch 55\n"
     ]
    },
    {
     "name": "stderr",
     "output_type": "stream",
     "text": [
      "[I 2024-09-12 21:04:03,732] Trial 56 finished with value: 1956.32763671875 and parameters: {'sequence_length': 29, 'hidden_size': 35, 'num_layers': 2, 'num_blocks': 2, 'dropout_rate': 0.28751723388926353, 'lr': 0.005007907025965177}. Best is trial 53 with value: 32.578895568847656.\n"
     ]
    },
    {
     "name": "stdout",
     "output_type": "stream",
     "text": [
      "Early stopping at epoch 33\n"
     ]
    },
    {
     "name": "stderr",
     "output_type": "stream",
     "text": [
      "[I 2024-09-12 21:04:04,464] Trial 57 finished with value: 2608.356689453125 and parameters: {'sequence_length': 26, 'hidden_size': 23, 'num_layers': 3, 'num_blocks': 1, 'dropout_rate': 0.30471723652499666, 'lr': 0.006005602356940379}. Best is trial 53 with value: 32.578895568847656.\n"
     ]
    },
    {
     "name": "stdout",
     "output_type": "stream",
     "text": [
      "Early stopping at epoch 27\n"
     ]
    },
    {
     "name": "stderr",
     "output_type": "stream",
     "text": [
      "[I 2024-09-12 21:04:05,040] Trial 58 finished with value: 12617.76171875 and parameters: {'sequence_length': 8, 'hidden_size': 21, 'num_layers': 2, 'num_blocks': 2, 'dropout_rate': 0.234395340614718, 'lr': 0.00463546916302304}. Best is trial 53 with value: 32.578895568847656.\n"
     ]
    },
    {
     "name": "stdout",
     "output_type": "stream",
     "text": [
      "Early stopping at epoch 15\n"
     ]
    },
    {
     "name": "stderr",
     "output_type": "stream",
     "text": [
      "[I 2024-09-12 21:04:06,067] Trial 59 finished with value: 8569.4404296875 and parameters: {'sequence_length': 29, 'hidden_size': 28, 'num_layers': 2, 'num_blocks': 2, 'dropout_rate': 0.27079507316451934, 'lr': 0.00698373054592601}. Best is trial 53 with value: 32.578895568847656.\n"
     ]
    },
    {
     "name": "stdout",
     "output_type": "stream",
     "text": [
      "Early stopping at epoch 26\n"
     ]
    },
    {
     "name": "stderr",
     "output_type": "stream",
     "text": [
      "[I 2024-09-12 21:04:07,140] Trial 60 finished with value: 24210.22265625 and parameters: {'sequence_length': 22, 'hidden_size': 45, 'num_layers': 2, 'num_blocks': 2, 'dropout_rate': 0.31288095588366566, 'lr': 0.005286214587690497}. Best is trial 53 with value: 32.578895568847656.\n"
     ]
    },
    {
     "name": "stdout",
     "output_type": "stream",
     "text": [
      "Early stopping at epoch 27\n"
     ]
    },
    {
     "name": "stderr",
     "output_type": "stream",
     "text": [
      "[I 2024-09-12 21:04:07,890] Trial 61 finished with value: 4529.48681640625 and parameters: {'sequence_length': 29, 'hidden_size': 35, 'num_layers': 2, 'num_blocks': 2, 'dropout_rate': 0.287861015426142, 'lr': 0.005039546990281651}. Best is trial 53 with value: 32.578895568847656.\n"
     ]
    },
    {
     "name": "stdout",
     "output_type": "stream",
     "text": [
      "Early stopping at epoch 17\n"
     ]
    },
    {
     "name": "stderr",
     "output_type": "stream",
     "text": [
      "[I 2024-09-12 21:04:08,732] Trial 62 finished with value: 9062.9453125 and parameters: {'sequence_length': 28, 'hidden_size': 34, 'num_layers': 2, 'num_blocks': 3, 'dropout_rate': 0.246560793903354, 'lr': 0.006255329205648854}. Best is trial 53 with value: 32.578895568847656.\n"
     ]
    },
    {
     "name": "stdout",
     "output_type": "stream",
     "text": [
      "Early stopping at epoch 15\n"
     ]
    },
    {
     "name": "stderr",
     "output_type": "stream",
     "text": [
      "[I 2024-09-12 21:04:09,451] Trial 63 finished with value: 8696.9150390625 and parameters: {'sequence_length': 27, 'hidden_size': 28, 'num_layers': 2, 'num_blocks': 1, 'dropout_rate': 0.2841055101677942, 'lr': 0.004859674995609603}. Best is trial 53 with value: 32.578895568847656.\n"
     ]
    },
    {
     "name": "stdout",
     "output_type": "stream",
     "text": [
      "Early stopping at epoch 24\n"
     ]
    },
    {
     "name": "stderr",
     "output_type": "stream",
     "text": [
      "[I 2024-09-12 21:04:31,328] Trial 64 finished with value: 560.1306762695312 and parameters: {'sequence_length': 29, 'hidden_size': 41, 'num_layers': 2, 'num_blocks': 3, 'dropout_rate': 0.3033488114276509, 'lr': 0.004420418050824966}. Best is trial 53 with value: 32.578895568847656.\n",
      "[I 2024-09-12 21:04:53,276] Trial 65 finished with value: 283.3432922363281 and parameters: {'sequence_length': 30, 'hidden_size': 39, 'num_layers': 2, 'num_blocks': 3, 'dropout_rate': 0.34151716429456813, 'lr': 0.004413942922549662}. Best is trial 53 with value: 32.578895568847656.\n",
      "[I 2024-09-12 21:04:54,342] Trial 66 finished with value: 3060.9853515625 and parameters: {'sequence_length': 26, 'hidden_size': 51, 'num_layers': 2, 'num_blocks': 3, 'dropout_rate': 0.3364582032932825, 'lr': 0.004443970683085789}. Best is trial 53 with value: 32.578895568847656.\n"
     ]
    },
    {
     "name": "stdout",
     "output_type": "stream",
     "text": [
      "Early stopping at epoch 22\n"
     ]
    },
    {
     "name": "stderr",
     "output_type": "stream",
     "text": [
      "[I 2024-09-12 21:04:54,949] Trial 67 finished with value: 23159.1796875 and parameters: {'sequence_length': 22, 'hidden_size': 42, 'num_layers': 2, 'num_blocks': 3, 'dropout_rate': 0.35715871689690953, 'lr': 0.0035905346775020534}. Best is trial 53 with value: 32.578895568847656.\n"
     ]
    },
    {
     "name": "stdout",
     "output_type": "stream",
     "text": [
      "Early stopping at epoch 11\n"
     ]
    },
    {
     "name": "stderr",
     "output_type": "stream",
     "text": [
      "[I 2024-09-12 21:04:56,390] Trial 68 finished with value: 5755.82958984375 and parameters: {'sequence_length': 17, 'hidden_size': 49, 'num_layers': 2, 'num_blocks': 3, 'dropout_rate': 0.3064956451627768, 'lr': 0.005659776306813348}. Best is trial 53 with value: 32.578895568847656.\n"
     ]
    },
    {
     "name": "stdout",
     "output_type": "stream",
     "text": [
      "Early stopping at epoch 32\n"
     ]
    },
    {
     "name": "stderr",
     "output_type": "stream",
     "text": [
      "[I 2024-09-12 21:04:57,567] Trial 69 finished with value: 18742.759765625 and parameters: {'sequence_length': 25, 'hidden_size': 39, 'num_layers': 2, 'num_blocks': 3, 'dropout_rate': 0.34935885771965275, 'lr': 0.0030757620439081433}. Best is trial 53 with value: 32.578895568847656.\n"
     ]
    },
    {
     "name": "stdout",
     "output_type": "stream",
     "text": [
      "Early stopping at epoch 24\n"
     ]
    },
    {
     "name": "stderr",
     "output_type": "stream",
     "text": [
      "[I 2024-09-12 21:04:58,735] Trial 70 finished with value: 13799.4404296875 and parameters: {'sequence_length': 30, 'hidden_size': 19, 'num_layers': 3, 'num_blocks': 3, 'dropout_rate': 0.3770293947699398, 'lr': 0.004320003142046826}. Best is trial 53 with value: 32.578895568847656.\n"
     ]
    },
    {
     "name": "stdout",
     "output_type": "stream",
     "text": [
      "Early stopping at epoch 20\n"
     ]
    },
    {
     "name": "stderr",
     "output_type": "stream",
     "text": [
      "[I 2024-09-12 21:05:00,132] Trial 71 finished with value: 5085.01611328125 and parameters: {'sequence_length': 29, 'hidden_size': 23, 'num_layers': 2, 'num_blocks': 3, 'dropout_rate': 0.31994831147105, 'lr': 0.005335553995814879}. Best is trial 53 with value: 32.578895568847656.\n"
     ]
    },
    {
     "name": "stdout",
     "output_type": "stream",
     "text": [
      "Early stopping at epoch 30\n"
     ]
    },
    {
     "name": "stderr",
     "output_type": "stream",
     "text": [
      "[I 2024-09-12 21:05:00,757] Trial 72 finished with value: 20634.89453125 and parameters: {'sequence_length': 28, 'hidden_size': 16, 'num_layers': 2, 'num_blocks': 3, 'dropout_rate': 0.2995280077189738, 'lr': 0.0041311054368560335}. Best is trial 53 with value: 32.578895568847656.\n"
     ]
    },
    {
     "name": "stdout",
     "output_type": "stream",
     "text": [
      "Early stopping at epoch 13\n"
     ]
    },
    {
     "name": "stderr",
     "output_type": "stream",
     "text": [
      "[I 2024-09-12 21:05:21,800] Trial 73 finished with value: 523.197021484375 and parameters: {'sequence_length': 23, 'hidden_size': 31, 'num_layers': 2, 'num_blocks': 3, 'dropout_rate': 0.26969280454130196, 'lr': 0.0035353708334806937}. Best is trial 53 with value: 32.578895568847656.\n",
      "[I 2024-09-12 21:05:23,347] Trial 74 finished with value: 18140.478515625 and parameters: {'sequence_length': 23, 'hidden_size': 32, 'num_layers': 2, 'num_blocks': 3, 'dropout_rate': 0.273674262287089, 'lr': 0.0031238139420541452}. Best is trial 53 with value: 32.578895568847656.\n"
     ]
    },
    {
     "name": "stdout",
     "output_type": "stream",
     "text": [
      "Early stopping at epoch 32\n"
     ]
    },
    {
     "name": "stderr",
     "output_type": "stream",
     "text": [
      "[I 2024-09-12 21:05:24,981] Trial 75 finished with value: 22037.9609375 and parameters: {'sequence_length': 20, 'hidden_size': 44, 'num_layers': 2, 'num_blocks': 3, 'dropout_rate': 0.23610847422760334, 'lr': 0.009330791414005231}. Best is trial 53 with value: 32.578895568847656.\n"
     ]
    },
    {
     "name": "stdout",
     "output_type": "stream",
     "text": [
      "Early stopping at epoch 38\n"
     ]
    },
    {
     "name": "stderr",
     "output_type": "stream",
     "text": [
      "[I 2024-09-12 21:05:27,211] Trial 76 finished with value: 4808.84716796875 and parameters: {'sequence_length': 25, 'hidden_size': 39, 'num_layers': 2, 'num_blocks': 3, 'dropout_rate': 0.20328639020789596, 'lr': 0.004042100000281134}. Best is trial 53 with value: 32.578895568847656.\n"
     ]
    },
    {
     "name": "stdout",
     "output_type": "stream",
     "text": [
      "Early stopping at epoch 50\n"
     ]
    },
    {
     "name": "stderr",
     "output_type": "stream",
     "text": [
      "[I 2024-09-12 21:05:29,190] Trial 77 finished with value: 2551.293701171875 and parameters: {'sequence_length': 21, 'hidden_size': 56, 'num_layers': 2, 'num_blocks': 3, 'dropout_rate': 0.36056468106950157, 'lr': 0.0034169368096750134}. Best is trial 53 with value: 32.578895568847656.\n"
     ]
    },
    {
     "name": "stdout",
     "output_type": "stream",
     "text": [
      "Early stopping at epoch 45\n"
     ]
    },
    {
     "name": "stderr",
     "output_type": "stream",
     "text": [
      "[I 2024-09-12 21:05:30,117] Trial 78 finished with value: 23263.38671875 and parameters: {'sequence_length': 23, 'hidden_size': 26, 'num_layers': 2, 'num_blocks': 3, 'dropout_rate': 0.34220468215942446, 'lr': 0.004709504744083792}. Best is trial 53 with value: 32.578895568847656.\n"
     ]
    },
    {
     "name": "stdout",
     "output_type": "stream",
     "text": [
      "Early stopping at epoch 18\n"
     ]
    },
    {
     "name": "stderr",
     "output_type": "stream",
     "text": [
      "[I 2024-09-12 21:05:31,946] Trial 79 finished with value: 3747.5830078125 and parameters: {'sequence_length': 5, 'hidden_size': 30, 'num_layers': 1, 'num_blocks': 3, 'dropout_rate': 0.32833935290992394, 'lr': 0.0045172393257238595}. Best is trial 53 with value: 32.578895568847656.\n"
     ]
    },
    {
     "name": "stdout",
     "output_type": "stream",
     "text": [
      "Early stopping at epoch 49\n"
     ]
    },
    {
     "name": "stderr",
     "output_type": "stream",
     "text": [
      "[I 2024-09-12 21:05:53,754] Trial 80 finished with value: 1507.0003662109375 and parameters: {'sequence_length': 27, 'hidden_size': 20, 'num_layers': 2, 'num_blocks': 3, 'dropout_rate': 0.251841030495435, 'lr': 0.0035528914768593167}. Best is trial 53 with value: 32.578895568847656.\n",
      "[I 2024-09-12 21:05:54,780] Trial 81 finished with value: 23728.59765625 and parameters: {'sequence_length': 30, 'hidden_size': 37, 'num_layers': 2, 'num_blocks': 2, 'dropout_rate': 0.2960218529552767, 'lr': 0.0053706110911470855}. Best is trial 53 with value: 32.578895568847656.\n"
     ]
    },
    {
     "name": "stdout",
     "output_type": "stream",
     "text": [
      "Early stopping at epoch 26\n"
     ]
    },
    {
     "name": "stderr",
     "output_type": "stream",
     "text": [
      "[I 2024-09-12 21:05:56,359] Trial 82 finished with value: 8417.7822265625 and parameters: {'sequence_length': 26, 'hidden_size': 23, 'num_layers': 2, 'num_blocks': 2, 'dropout_rate': 0.2737551998546395, 'lr': 0.005007650774584505}. Best is trial 53 with value: 32.578895568847656.\n"
     ]
    },
    {
     "name": "stdout",
     "output_type": "stream",
     "text": [
      "Early stopping at epoch 51\n"
     ]
    },
    {
     "name": "stderr",
     "output_type": "stream",
     "text": [
      "[I 2024-09-12 21:05:57,151] Trial 83 finished with value: 8510.8544921875 and parameters: {'sequence_length': 11, 'hidden_size': 64, 'num_layers': 2, 'num_blocks': 1, 'dropout_rate': 0.31612890586202314, 'lr': 0.0037473793439369817}. Best is trial 53 with value: 32.578895568847656.\n"
     ]
    },
    {
     "name": "stdout",
     "output_type": "stream",
     "text": [
      "Early stopping at epoch 30\n"
     ]
    },
    {
     "name": "stderr",
     "output_type": "stream",
     "text": [
      "[I 2024-09-12 21:05:57,978] Trial 84 finished with value: 18306.7890625 and parameters: {'sequence_length': 24, 'hidden_size': 30, 'num_layers': 2, 'num_blocks': 3, 'dropout_rate': 0.25891400548594407, 'lr': 0.00597427237052343}. Best is trial 53 with value: 32.578895568847656.\n"
     ]
    },
    {
     "name": "stdout",
     "output_type": "stream",
     "text": [
      "Early stopping at epoch 14\n"
     ]
    },
    {
     "name": "stderr",
     "output_type": "stream",
     "text": [
      "[I 2024-09-12 21:06:19,725] Trial 85 finished with value: 144.889892578125 and parameters: {'sequence_length': 23, 'hidden_size': 25, 'num_layers': 2, 'num_blocks': 3, 'dropout_rate': 0.33019994291917, 'lr': 0.004301692890729345}. Best is trial 53 with value: 32.578895568847656.\n",
      "[I 2024-09-12 21:06:20,353] Trial 86 finished with value: 27967.080078125 and parameters: {'sequence_length': 23, 'hidden_size': 32, 'num_layers': 2, 'num_blocks': 3, 'dropout_rate': 0.3718688093743031, 'lr': 0.0029347467447629573}. Best is trial 53 with value: 32.578895568847656.\n"
     ]
    },
    {
     "name": "stdout",
     "output_type": "stream",
     "text": [
      "Early stopping at epoch 11\n"
     ]
    },
    {
     "name": "stderr",
     "output_type": "stream",
     "text": [
      "[I 2024-09-12 21:06:21,145] Trial 87 finished with value: 31598.744140625 and parameters: {'sequence_length': 20, 'hidden_size': 25, 'num_layers': 2, 'num_blocks': 3, 'dropout_rate': 0.38303651286919627, 'lr': 0.004378683111189165}. Best is trial 53 with value: 32.578895568847656.\n"
     ]
    },
    {
     "name": "stdout",
     "output_type": "stream",
     "text": [
      "Early stopping at epoch 16\n"
     ]
    },
    {
     "name": "stderr",
     "output_type": "stream",
     "text": [
      "[I 2024-09-12 21:06:23,139] Trial 88 finished with value: 7408.6689453125 and parameters: {'sequence_length': 22, 'hidden_size': 37, 'num_layers': 2, 'num_blocks': 3, 'dropout_rate': 0.40343928812270685, 'lr': 0.002269051658237042}. Best is trial 53 with value: 32.578895568847656.\n"
     ]
    },
    {
     "name": "stdout",
     "output_type": "stream",
     "text": [
      "Early stopping at epoch 46\n"
     ]
    },
    {
     "name": "stderr",
     "output_type": "stream",
     "text": [
      "[I 2024-09-12 21:06:24,332] Trial 89 finished with value: 11732.142578125 and parameters: {'sequence_length': 25, 'hidden_size': 18, 'num_layers': 2, 'num_blocks': 3, 'dropout_rate': 0.33711485171673333, 'lr': 0.0038599471381592816}. Best is trial 53 with value: 32.578895568847656.\n"
     ]
    },
    {
     "name": "stdout",
     "output_type": "stream",
     "text": [
      "Early stopping at epoch 26\n"
     ]
    },
    {
     "name": "stderr",
     "output_type": "stream",
     "text": [
      "[I 2024-09-12 21:06:25,103] Trial 90 finished with value: 29234.314453125 and parameters: {'sequence_length': 24, 'hidden_size': 71, 'num_layers': 2, 'num_blocks': 3, 'dropout_rate': 0.32381145087857366, 'lr': 0.004084717127570581}. Best is trial 53 with value: 32.578895568847656.\n"
     ]
    },
    {
     "name": "stdout",
     "output_type": "stream",
     "text": [
      "Early stopping at epoch 13\n"
     ]
    },
    {
     "name": "stderr",
     "output_type": "stream",
     "text": [
      "[I 2024-09-12 21:06:25,681] Trial 91 finished with value: 13530.4716796875 and parameters: {'sequence_length': 27, 'hidden_size': 22, 'num_layers': 2, 'num_blocks': 2, 'dropout_rate': 0.30883345642805127, 'lr': 0.0051553395809714984}. Best is trial 53 with value: 32.578895568847656.\n"
     ]
    },
    {
     "name": "stdout",
     "output_type": "stream",
     "text": [
      "Early stopping at epoch 15\n"
     ]
    },
    {
     "name": "stderr",
     "output_type": "stream",
     "text": [
      "[I 2024-09-12 21:06:27,153] Trial 92 finished with value: 7578.58984375 and parameters: {'sequence_length': 28, 'hidden_size': 25, 'num_layers': 2, 'num_blocks': 5, 'dropout_rate': 0.2927951045648985, 'lr': 0.004773068770156164}. Best is trial 53 with value: 32.578895568847656.\n"
     ]
    },
    {
     "name": "stdout",
     "output_type": "stream",
     "text": [
      "Early stopping at epoch 21\n"
     ]
    },
    {
     "name": "stderr",
     "output_type": "stream",
     "text": [
      "[I 2024-09-12 21:06:28,340] Trial 93 finished with value: 22771.177734375 and parameters: {'sequence_length': 21, 'hidden_size': 29, 'num_layers': 2, 'num_blocks': 4, 'dropout_rate': 0.3457075077527216, 'lr': 0.002687572355559101}. Best is trial 53 with value: 32.578895568847656.\n"
     ]
    },
    {
     "name": "stdout",
     "output_type": "stream",
     "text": [
      "Early stopping at epoch 19\n"
     ]
    },
    {
     "name": "stderr",
     "output_type": "stream",
     "text": [
      "[I 2024-09-12 21:06:50,144] Trial 94 finished with value: 177.9258575439453 and parameters: {'sequence_length': 29, 'hidden_size': 16, 'num_layers': 2, 'num_blocks': 3, 'dropout_rate': 0.36078415707544237, 'lr': 0.004215422584426918}. Best is trial 53 with value: 32.578895568847656.\n",
      "[I 2024-09-12 21:06:51,232] Trial 95 finished with value: 1797.51806640625 and parameters: {'sequence_length': 30, 'hidden_size': 16, 'num_layers': 2, 'num_blocks': 3, 'dropout_rate': 0.36609147185954394, 'lr': 0.0035762281789760834}. Best is trial 53 with value: 32.578895568847656.\n"
     ]
    },
    {
     "name": "stdout",
     "output_type": "stream",
     "text": [
      "Early stopping at epoch 20\n"
     ]
    },
    {
     "name": "stderr",
     "output_type": "stream",
     "text": [
      "[I 2024-09-12 21:06:53,444] Trial 96 finished with value: 20465.171875 and parameters: {'sequence_length': 23, 'hidden_size': 26, 'num_layers': 2, 'num_blocks': 3, 'dropout_rate': 0.42895189625213975, 'lr': 0.004215696845143908}. Best is trial 53 with value: 32.578895568847656.\n"
     ]
    },
    {
     "name": "stdout",
     "output_type": "stream",
     "text": [
      "Early stopping at epoch 47\n"
     ]
    },
    {
     "name": "stderr",
     "output_type": "stream",
     "text": [
      "[I 2024-09-12 21:06:55,024] Trial 97 finished with value: 8702.9814453125 and parameters: {'sequence_length': 22, 'hidden_size': 42, 'num_layers': 2, 'num_blocks': 3, 'dropout_rate': 0.33142594834684397, 'lr': 0.0032668297510525524}. Best is trial 53 with value: 32.578895568847656.\n"
     ]
    },
    {
     "name": "stdout",
     "output_type": "stream",
     "text": [
      "Early stopping at epoch 33\n"
     ]
    },
    {
     "name": "stderr",
     "output_type": "stream",
     "text": [
      "[I 2024-09-12 21:07:17,541] Trial 98 finished with value: 192.34225463867188 and parameters: {'sequence_length': 26, 'hidden_size': 19, 'num_layers': 2, 'num_blocks': 3, 'dropout_rate': 0.35761372303498284, 'lr': 0.004566487383467811}. Best is trial 53 with value: 32.578895568847656.\n",
      "[I 2024-09-12 21:07:18,234] Trial 99 finished with value: 27036.29296875 and parameters: {'sequence_length': 26, 'hidden_size': 20, 'num_layers': 2, 'num_blocks': 3, 'dropout_rate': 0.38244646712463864, 'lr': 0.004618945557311418}. Best is trial 53 with value: 32.578895568847656.\n",
      "[I 2024-09-12 21:07:18,297] A new study created in memory with name: no-name-23087ab0-b366-4e7a-8b63-9865aef994e4\n"
     ]
    },
    {
     "name": "stdout",
     "output_type": "stream",
     "text": [
      "Early stopping at epoch 11\n",
      "parameters for CL=F saved to ../models/best-hyperparameters/pytorch/lstm-regression/CL=F.json\n",
      "Best model for CL=F saved with RMSE: 32.578895568847656\n"
     ]
    },
    {
     "name": "stderr",
     "output_type": "stream",
     "text": [
      "[I 2024-09-12 21:07:23,665] Trial 0 finished with value: 0.6528925619834711 and parameters: {'out_channels': 118, 'kernel_size': 7, 'num_blocks': 10, 'l2_lambda': 0.005814998595075304, 'dropout_rate': 0.10596412947301351, 'lr': 0.004565660231657549}. Best is trial 0 with value: 0.6528925619834711.\n"
     ]
    },
    {
     "name": "stdout",
     "output_type": "stream",
     "text": [
      "Early stopping at epoch 19\n"
     ]
    },
    {
     "name": "stderr",
     "output_type": "stream",
     "text": [
      "[I 2024-09-12 21:07:24,043] Trial 1 finished with value: 0.6446280991735537 and parameters: {'out_channels': 27, 'kernel_size': 5, 'num_blocks': 1, 'l2_lambda': 0.008750565670510956, 'dropout_rate': 0.24992297444875372, 'lr': 0.002714267820913599}. Best is trial 0 with value: 0.6528925619834711.\n"
     ]
    },
    {
     "name": "stdout",
     "output_type": "stream",
     "text": [
      "Early stopping at epoch 10\n"
     ]
    },
    {
     "name": "stderr",
     "output_type": "stream",
     "text": [
      "[I 2024-09-12 21:07:26,170] Trial 2 finished with value: 0.6363636363636364 and parameters: {'out_channels': 57, 'kernel_size': 7, 'num_blocks': 6, 'l2_lambda': 0.004955937565827993, 'dropout_rate': 0.2721894349875807, 'lr': 0.009791742723225853}. Best is trial 0 with value: 0.6528925619834711.\n"
     ]
    },
    {
     "name": "stdout",
     "output_type": "stream",
     "text": [
      "Early stopping at epoch 15\n"
     ]
    },
    {
     "name": "stderr",
     "output_type": "stream",
     "text": [
      "[I 2024-09-12 21:07:26,730] Trial 3 finished with value: 0.6363636363636364 and parameters: {'out_channels': 28, 'kernel_size': 7, 'num_blocks': 1, 'l2_lambda': 0.006639525767681655, 'dropout_rate': 0.1824889214851235, 'lr': 0.003712186183104109}. Best is trial 0 with value: 0.6528925619834711.\n"
     ]
    },
    {
     "name": "stdout",
     "output_type": "stream",
     "text": [
      "Early stopping at epoch 16\n"
     ]
    },
    {
     "name": "stderr",
     "output_type": "stream",
     "text": [
      "[I 2024-09-12 21:07:30,222] Trial 4 finished with value: 0.6528925619834711 and parameters: {'out_channels': 51, 'kernel_size': 5, 'num_blocks': 9, 'l2_lambda': 0.0076519068413050334, 'dropout_rate': 0.4067860539052893, 'lr': 0.006175686449689216}. Best is trial 0 with value: 0.6528925619834711.\n"
     ]
    },
    {
     "name": "stdout",
     "output_type": "stream",
     "text": [
      "Early stopping at epoch 18\n"
     ]
    },
    {
     "name": "stderr",
     "output_type": "stream",
     "text": [
      "[I 2024-09-12 21:07:32,541] Trial 5 finished with value: 0.6363636363636364 and parameters: {'out_channels': 16, 'kernel_size': 6, 'num_blocks': 7, 'l2_lambda': 0.0003464679537577264, 'dropout_rate': 0.49304835630689603, 'lr': 0.007885134962482677}. Best is trial 0 with value: 0.6528925619834711.\n"
     ]
    },
    {
     "name": "stdout",
     "output_type": "stream",
     "text": [
      "Early stopping at epoch 14\n"
     ]
    },
    {
     "name": "stderr",
     "output_type": "stream",
     "text": [
      "[I 2024-09-12 21:07:33,578] Trial 6 finished with value: 0.6446280991735537 and parameters: {'out_channels': 20, 'kernel_size': 7, 'num_blocks': 3, 'l2_lambda': 0.00894527361728018, 'dropout_rate': 0.24998160608370135, 'lr': 0.009118647384475353}. Best is trial 0 with value: 0.6528925619834711.\n"
     ]
    },
    {
     "name": "stdout",
     "output_type": "stream",
     "text": [
      "Early stopping at epoch 13\n"
     ]
    },
    {
     "name": "stderr",
     "output_type": "stream",
     "text": [
      "[I 2024-09-12 21:07:34,933] Trial 7 finished with value: 0.6528925619834711 and parameters: {'out_channels': 77, 'kernel_size': 3, 'num_blocks': 2, 'l2_lambda': 0.004702938097029058, 'dropout_rate': 0.21826120543307304, 'lr': 0.007881332964325558}. Best is trial 0 with value: 0.6528925619834711.\n"
     ]
    },
    {
     "name": "stdout",
     "output_type": "stream",
     "text": [
      "Early stopping at epoch 20\n"
     ]
    },
    {
     "name": "stderr",
     "output_type": "stream",
     "text": [
      "[I 2024-09-12 21:07:37,654] Trial 8 finished with value: 0.6363636363636364 and parameters: {'out_channels': 41, 'kernel_size': 7, 'num_blocks': 9, 'l2_lambda': 0.002376451732261667, 'dropout_rate': 0.15691092275085242, 'lr': 0.0012250972069076315}. Best is trial 0 with value: 0.6528925619834711.\n"
     ]
    },
    {
     "name": "stdout",
     "output_type": "stream",
     "text": [
      "Early stopping at epoch 13\n"
     ]
    },
    {
     "name": "stderr",
     "output_type": "stream",
     "text": [
      "[I 2024-09-12 21:07:40,292] Trial 9 finished with value: 0.6446280991735537 and parameters: {'out_channels': 75, 'kernel_size': 7, 'num_blocks': 10, 'l2_lambda': 0.0012758382167591634, 'dropout_rate': 0.3362205878169611, 'lr': 0.00241195506917951}. Best is trial 0 with value: 0.6528925619834711.\n"
     ]
    },
    {
     "name": "stdout",
     "output_type": "stream",
     "text": [
      "Early stopping at epoch 10\n"
     ]
    },
    {
     "name": "stderr",
     "output_type": "stream",
     "text": [
      "[I 2024-09-12 21:07:42,113] Trial 10 finished with value: 0.6446280991735537 and parameters: {'out_channels': 127, 'kernel_size': 3, 'num_blocks': 4, 'l2_lambda': 0.003332189827218772, 'dropout_rate': 0.107860256205221, 'lr': 0.005216943059438811}. Best is trial 0 with value: 0.6528925619834711.\n"
     ]
    },
    {
     "name": "stdout",
     "output_type": "stream",
     "text": [
      "Early stopping at epoch 15\n"
     ]
    },
    {
     "name": "stderr",
     "output_type": "stream",
     "text": [
      "[I 2024-09-12 21:07:47,119] Trial 11 finished with value: 0.6446280991735537 and parameters: {'out_channels': 109, 'kernel_size': 5, 'num_blocks': 8, 'l2_lambda': 0.00732414791954626, 'dropout_rate': 0.391549661379115, 'lr': 0.005191113912255534}. Best is trial 0 with value: 0.6528925619834711.\n"
     ]
    },
    {
     "name": "stdout",
     "output_type": "stream",
     "text": [
      "Early stopping at epoch 24\n"
     ]
    },
    {
     "name": "stderr",
     "output_type": "stream",
     "text": [
      "[I 2024-09-12 21:07:51,274] Trial 12 finished with value: 0.6363636363636364 and parameters: {'out_channels': 96, 'kernel_size': 4, 'num_blocks': 10, 'l2_lambda': 0.006770990569446973, 'dropout_rate': 0.4364328952873846, 'lr': 0.006387730394920082}. Best is trial 0 with value: 0.6528925619834711.\n"
     ]
    },
    {
     "name": "stdout",
     "output_type": "stream",
     "text": [
      "Early stopping at epoch 15\n"
     ]
    },
    {
     "name": "stderr",
     "output_type": "stream",
     "text": [
      "[I 2024-09-12 21:07:54,157] Trial 13 finished with value: 0.6446280991735537 and parameters: {'out_channels': 53, 'kernel_size': 6, 'num_blocks': 8, 'l2_lambda': 0.007802329813876017, 'dropout_rate': 0.3594425672420606, 'lr': 0.0061805266946598734}. Best is trial 0 with value: 0.6528925619834711.\n"
     ]
    },
    {
     "name": "stdout",
     "output_type": "stream",
     "text": [
      "Early stopping at epoch 14\n"
     ]
    },
    {
     "name": "stderr",
     "output_type": "stream",
     "text": [
      "[I 2024-09-12 21:07:56,198] Trial 14 finished with value: 0.6363636363636364 and parameters: {'out_channels': 93, 'kernel_size': 4, 'num_blocks': 5, 'l2_lambda': 0.005852640341303509, 'dropout_rate': 0.43489570316151077, 'lr': 0.003751150966940974}. Best is trial 0 with value: 0.6528925619834711.\n"
     ]
    },
    {
     "name": "stdout",
     "output_type": "stream",
     "text": [
      "Early stopping at epoch 13\n"
     ]
    },
    {
     "name": "stderr",
     "output_type": "stream",
     "text": [
      "[I 2024-09-12 21:07:58,669] Trial 15 finished with value: 0.36363636363636365 and parameters: {'out_channels': 59, 'kernel_size': 6, 'num_blocks': 9, 'l2_lambda': 0.00978144807907625, 'dropout_rate': 0.33632930873760836, 'lr': 0.0003443929263594811}. Best is trial 0 with value: 0.6528925619834711.\n"
     ]
    },
    {
     "name": "stdout",
     "output_type": "stream",
     "text": [
      "Early stopping at epoch 10\n"
     ]
    },
    {
     "name": "stderr",
     "output_type": "stream",
     "text": [
      "[I 2024-09-12 21:08:01,047] Trial 16 finished with value: 0.5867768595041323 and parameters: {'out_channels': 125, 'kernel_size': 4, 'num_blocks': 7, 'l2_lambda': 0.0038454579728380094, 'dropout_rate': 0.4825571088876198, 'lr': 0.006460288978398248}. Best is trial 0 with value: 0.6528925619834711.\n"
     ]
    },
    {
     "name": "stdout",
     "output_type": "stream",
     "text": [
      "Early stopping at epoch 10\n"
     ]
    },
    {
     "name": "stderr",
     "output_type": "stream",
     "text": [
      "[I 2024-09-12 21:08:05,347] Trial 17 finished with value: 0.6446280991735537 and parameters: {'out_channels': 85, 'kernel_size': 5, 'num_blocks': 10, 'l2_lambda': 0.006022082342186868, 'dropout_rate': 0.30541979184743184, 'lr': 0.004170950665531494}. Best is trial 0 with value: 0.6528925619834711.\n"
     ]
    },
    {
     "name": "stdout",
     "output_type": "stream",
     "text": [
      "Early stopping at epoch 18\n"
     ]
    },
    {
     "name": "stderr",
     "output_type": "stream",
     "text": [
      "[I 2024-09-12 21:08:08,239] Trial 18 finished with value: 0.5867768595041323 and parameters: {'out_channels': 111, 'kernel_size': 6, 'num_blocks': 8, 'l2_lambda': 0.008072871057463307, 'dropout_rate': 0.11286886038461544, 'lr': 0.007322206372374398}. Best is trial 0 with value: 0.6528925619834711.\n"
     ]
    },
    {
     "name": "stdout",
     "output_type": "stream",
     "text": [
      "Early stopping at epoch 11\n"
     ]
    },
    {
     "name": "stderr",
     "output_type": "stream",
     "text": [
      "[I 2024-09-12 21:08:11,559] Trial 19 finished with value: 0.5867768595041323 and parameters: {'out_channels': 63, 'kernel_size': 4, 'num_blocks': 9, 'l2_lambda': 0.009999908362480206, 'dropout_rate': 0.40242678892026995, 'lr': 0.0025727872146791893}. Best is trial 0 with value: 0.6528925619834711.\n"
     ]
    },
    {
     "name": "stdout",
     "output_type": "stream",
     "text": [
      "Early stopping at epoch 14\n"
     ]
    },
    {
     "name": "stderr",
     "output_type": "stream",
     "text": [
      "[I 2024-09-12 21:08:13,354] Trial 20 finished with value: 0.6446280991735537 and parameters: {'out_channels': 36, 'kernel_size': 6, 'num_blocks': 5, 'l2_lambda': 0.005505427192502115, 'dropout_rate': 0.16616616800766215, 'lr': 0.004695914545684113}. Best is trial 0 with value: 0.6528925619834711.\n"
     ]
    },
    {
     "name": "stdout",
     "output_type": "stream",
     "text": [
      "Early stopping at epoch 14\n"
     ]
    },
    {
     "name": "stderr",
     "output_type": "stream",
     "text": [
      "[I 2024-09-12 21:08:15,317] Trial 21 finished with value: 0.6528925619834711 and parameters: {'out_channels': 73, 'kernel_size': 3, 'num_blocks': 3, 'l2_lambda': 0.003928345575940923, 'dropout_rate': 0.20053778808828057, 'lr': 0.008336621123843093}. Best is trial 0 with value: 0.6528925619834711.\n"
     ]
    },
    {
     "name": "stdout",
     "output_type": "stream",
     "text": [
      "Early stopping at epoch 24\n"
     ]
    },
    {
     "name": "stderr",
     "output_type": "stream",
     "text": [
      "[I 2024-09-12 21:08:16,198] Trial 22 finished with value: 0.6446280991735537 and parameters: {'out_channels': 47, 'kernel_size': 3, 'num_blocks': 2, 'l2_lambda': 0.004625581064663971, 'dropout_rate': 0.21647995895126326, 'lr': 0.007226540601359099}. Best is trial 0 with value: 0.6528925619834711.\n"
     ]
    },
    {
     "name": "stdout",
     "output_type": "stream",
     "text": [
      "Early stopping at epoch 15\n"
     ]
    },
    {
     "name": "stderr",
     "output_type": "stream",
     "text": [
      "[I 2024-09-12 21:08:18,091] Trial 23 finished with value: 0.6446280991735537 and parameters: {'out_channels': 81, 'kernel_size': 5, 'num_blocks': 6, 'l2_lambda': 0.0027017525882164595, 'dropout_rate': 0.1296086055156186, 'lr': 0.008552110707671902}. Best is trial 0 with value: 0.6528925619834711.\n"
     ]
    },
    {
     "name": "stdout",
     "output_type": "stream",
     "text": [
      "Early stopping at epoch 11\n"
     ]
    },
    {
     "name": "stderr",
     "output_type": "stream",
     "text": [
      "[I 2024-09-12 21:08:19,264] Trial 24 finished with value: 0.5867768595041323 and parameters: {'out_channels': 108, 'kernel_size': 3, 'num_blocks': 4, 'l2_lambda': 0.006816645773202191, 'dropout_rate': 0.2987752384200522, 'lr': 0.005746524444814067}. Best is trial 0 with value: 0.6528925619834711.\n"
     ]
    },
    {
     "name": "stdout",
     "output_type": "stream",
     "text": [
      "Early stopping at epoch 10\n"
     ]
    },
    {
     "name": "stderr",
     "output_type": "stream",
     "text": [
      "[I 2024-09-12 21:08:26,056] Trial 25 finished with value: 0.6528925619834711 and parameters: {'out_channels': 98, 'kernel_size': 4, 'num_blocks': 7, 'l2_lambda': 0.0045088042404623566, 'dropout_rate': 0.22897312507170947, 'lr': 0.00713579431076297}. Best is trial 0 with value: 0.6528925619834711.\n"
     ]
    },
    {
     "name": "stdout",
     "output_type": "stream",
     "text": [
      "Early stopping at epoch 35\n"
     ]
    },
    {
     "name": "stderr",
     "output_type": "stream",
     "text": [
      "[I 2024-09-12 21:08:29,921] Trial 26 finished with value: 0.6528925619834711 and parameters: {'out_channels': 68, 'kernel_size': 5, 'num_blocks': 9, 'l2_lambda': 0.005529124118408371, 'dropout_rate': 0.13599628330925442, 'lr': 0.005705212953458459}. Best is trial 0 with value: 0.6528925619834711.\n"
     ]
    },
    {
     "name": "stdout",
     "output_type": "stream",
     "text": [
      "Early stopping at epoch 19\n"
     ]
    },
    {
     "name": "stderr",
     "output_type": "stream",
     "text": [
      "[I 2024-09-12 21:08:30,643] Trial 27 finished with value: 0.6363636363636364 and parameters: {'out_channels': 118, 'kernel_size': 5, 'num_blocks': 2, 'l2_lambda': 0.006349028536700348, 'dropout_rate': 0.28464409329566154, 'lr': 0.004458569034028963}. Best is trial 0 with value: 0.6528925619834711.\n"
     ]
    },
    {
     "name": "stdout",
     "output_type": "stream",
     "text": [
      "Early stopping at epoch 10\n"
     ]
    },
    {
     "name": "stderr",
     "output_type": "stream",
     "text": [
      "[I 2024-09-12 21:08:34,275] Trial 28 finished with value: 0.6363636363636364 and parameters: {'out_channels': 50, 'kernel_size': 4, 'num_blocks': 10, 'l2_lambda': 0.007657696808362421, 'dropout_rate': 0.1572702110210883, 'lr': 0.009532593729862697}. Best is trial 0 with value: 0.6528925619834711.\n"
     ]
    },
    {
     "name": "stdout",
     "output_type": "stream",
     "text": [
      "Early stopping at epoch 15\n"
     ]
    },
    {
     "name": "stderr",
     "output_type": "stream",
     "text": [
      "[I 2024-09-12 21:08:37,241] Trial 29 finished with value: 0.6446280991735537 and parameters: {'out_channels': 38, 'kernel_size': 6, 'num_blocks': 8, 'l2_lambda': 0.008690958532645765, 'dropout_rate': 0.24534287843348046, 'lr': 0.007898635380464935}. Best is trial 0 with value: 0.6528925619834711.\n"
     ]
    },
    {
     "name": "stdout",
     "output_type": "stream",
     "text": [
      "Early stopping at epoch 15\n"
     ]
    },
    {
     "name": "stderr",
     "output_type": "stream",
     "text": [
      "[I 2024-09-12 21:08:38,020] Trial 30 finished with value: 0.6528925619834711 and parameters: {'out_channels': 86, 'kernel_size': 3, 'num_blocks': 1, 'l2_lambda': 0.00882157789865298, 'dropout_rate': 0.20180202123897642, 'lr': 0.0031573017310416373}. Best is trial 0 with value: 0.6528925619834711.\n"
     ]
    },
    {
     "name": "stdout",
     "output_type": "stream",
     "text": [
      "Early stopping at epoch 18\n"
     ]
    },
    {
     "name": "stderr",
     "output_type": "stream",
     "text": [
      "[I 2024-09-12 21:08:39,117] Trial 31 finished with value: 0.6363636363636364 and parameters: {'out_channels': 74, 'kernel_size': 3, 'num_blocks': 3, 'l2_lambda': 0.004168712639601429, 'dropout_rate': 0.20599575772999734, 'lr': 0.008724191505148646}. Best is trial 0 with value: 0.6528925619834711.\n"
     ]
    },
    {
     "name": "stdout",
     "output_type": "stream",
     "text": [
      "Early stopping at epoch 12\n"
     ]
    },
    {
     "name": "stderr",
     "output_type": "stream",
     "text": [
      "[I 2024-09-12 21:08:39,779] Trial 32 finished with value: 0.6363636363636364 and parameters: {'out_channels': 64, 'kernel_size': 3, 'num_blocks': 2, 'l2_lambda': 0.005165330956208798, 'dropout_rate': 0.18735595106723896, 'lr': 0.007953387598973703}. Best is trial 0 with value: 0.6528925619834711.\n"
     ]
    },
    {
     "name": "stdout",
     "output_type": "stream",
     "text": [
      "Early stopping at epoch 10\n"
     ]
    },
    {
     "name": "stderr",
     "output_type": "stream",
     "text": [
      "[I 2024-09-12 21:08:41,119] Trial 33 finished with value: 0.6528925619834711 and parameters: {'out_channels': 79, 'kernel_size': 3, 'num_blocks': 3, 'l2_lambda': 0.003213446494474409, 'dropout_rate': 0.24056388180027613, 'lr': 0.009897196390628173}. Best is trial 0 with value: 0.6528925619834711.\n"
     ]
    },
    {
     "name": "stdout",
     "output_type": "stream",
     "text": [
      "Early stopping at epoch 15\n"
     ]
    },
    {
     "name": "stderr",
     "output_type": "stream",
     "text": [
      "[I 2024-09-12 21:08:41,802] Trial 34 finished with value: 0.6528925619834711 and parameters: {'out_channels': 27, 'kernel_size': 4, 'num_blocks': 1, 'l2_lambda': 0.001981256218752608, 'dropout_rate': 0.26607660580079084, 'lr': 0.006869022376125308}. Best is trial 0 with value: 0.6528925619834711.\n"
     ]
    },
    {
     "name": "stdout",
     "output_type": "stream",
     "text": [
      "Early stopping at epoch 16\n"
     ]
    },
    {
     "name": "stderr",
     "output_type": "stream",
     "text": [
      "[I 2024-09-12 21:08:44,103] Trial 35 finished with value: 0.6363636363636364 and parameters: {'out_channels': 90, 'kernel_size': 7, 'num_blocks': 4, 'l2_lambda': 0.00495110307269908, 'dropout_rate': 0.17613857114140005, 'lr': 0.008507925234462166}. Best is trial 0 with value: 0.6528925619834711.\n"
     ]
    },
    {
     "name": "stdout",
     "output_type": "stream",
     "text": [
      "Early stopping at epoch 20\n"
     ]
    },
    {
     "name": "stderr",
     "output_type": "stream",
     "text": [
      "[I 2024-09-12 21:08:44,952] Trial 36 finished with value: 0.6363636363636364 and parameters: {'out_channels': 100, 'kernel_size': 3, 'num_blocks': 2, 'l2_lambda': 0.0035797823300245295, 'dropout_rate': 0.26411266985660814, 'lr': 0.009167034468648923}. Best is trial 0 with value: 0.6528925619834711.\n"
     ]
    },
    {
     "name": "stdout",
     "output_type": "stream",
     "text": [
      "Early stopping at epoch 13\n"
     ]
    },
    {
     "name": "stderr",
     "output_type": "stream",
     "text": [
      "[I 2024-09-12 21:08:46,358] Trial 37 finished with value: 0.6363636363636364 and parameters: {'out_channels': 69, 'kernel_size': 7, 'num_blocks': 3, 'l2_lambda': 0.004206236820585392, 'dropout_rate': 0.13935724050109005, 'lr': 0.007920664546460156}. Best is trial 0 with value: 0.6528925619834711.\n"
     ]
    },
    {
     "name": "stdout",
     "output_type": "stream",
     "text": [
      "Early stopping at epoch 16\n"
     ]
    },
    {
     "name": "stderr",
     "output_type": "stream",
     "text": [
      "[I 2024-09-12 21:08:48,496] Trial 38 finished with value: 0.6446280991735537 and parameters: {'out_channels': 44, 'kernel_size': 5, 'num_blocks': 6, 'l2_lambda': 0.00017827270779947543, 'dropout_rate': 0.1015432757173399, 'lr': 0.005696231462169064}. Best is trial 0 with value: 0.6528925619834711.\n"
     ]
    },
    {
     "name": "stdout",
     "output_type": "stream",
     "text": [
      "Early stopping at epoch 16\n"
     ]
    },
    {
     "name": "stderr",
     "output_type": "stream",
     "text": [
      "[I 2024-09-12 21:08:49,391] Trial 39 finished with value: 0.6446280991735537 and parameters: {'out_channels': 35, 'kernel_size': 4, 'num_blocks': 1, 'l2_lambda': 0.007158948870712251, 'dropout_rate': 0.3255986967357272, 'lr': 0.007577675899903085}. Best is trial 0 with value: 0.6528925619834711.\n"
     ]
    },
    {
     "name": "stdout",
     "output_type": "stream",
     "text": [
      "Early stopping at epoch 22\n"
     ]
    },
    {
     "name": "stderr",
     "output_type": "stream",
     "text": [
      "[I 2024-09-12 21:08:52,322] Trial 40 finished with value: 0.6363636363636364 and parameters: {'out_channels': 55, 'kernel_size': 7, 'num_blocks': 5, 'l2_lambda': 0.0010685797036673146, 'dropout_rate': 0.3693421186860172, 'lr': 0.0018542847605881726}. Best is trial 0 with value: 0.6528925619834711.\n"
     ]
    },
    {
     "name": "stdout",
     "output_type": "stream",
     "text": [
      "Early stopping at epoch 24\n"
     ]
    },
    {
     "name": "stderr",
     "output_type": "stream",
     "text": [
      "[I 2024-09-12 21:08:55,296] Trial 41 finished with value: 0.628099173553719 and parameters: {'out_channels': 102, 'kernel_size': 4, 'num_blocks': 7, 'l2_lambda': 0.004600160485520069, 'dropout_rate': 0.2275852288293149, 'lr': 0.006845216642695456}. Best is trial 0 with value: 0.6528925619834711.\n"
     ]
    },
    {
     "name": "stdout",
     "output_type": "stream",
     "text": [
      "Early stopping at epoch 14\n"
     ]
    },
    {
     "name": "stderr",
     "output_type": "stream",
     "text": [
      "[I 2024-09-12 21:08:58,122] Trial 42 finished with value: 0.5867768595041323 and parameters: {'out_channels': 113, 'kernel_size': 3, 'num_blocks': 9, 'l2_lambda': 0.004444269763564998, 'dropout_rate': 0.19048353993726563, 'lr': 0.006924947682155451}. Best is trial 0 with value: 0.6528925619834711.\n"
     ]
    },
    {
     "name": "stdout",
     "output_type": "stream",
     "text": [
      "Early stopping at epoch 12\n"
     ]
    },
    {
     "name": "stderr",
     "output_type": "stream",
     "text": [
      "[I 2024-09-12 21:09:01,132] Trial 43 finished with value: 0.6446280991735537 and parameters: {'out_channels': 121, 'kernel_size': 4, 'num_blocks': 7, 'l2_lambda': 0.002859166941859877, 'dropout_rate': 0.221497553526745, 'lr': 0.0062213079926445695}. Best is trial 0 with value: 0.6528925619834711.\n"
     ]
    },
    {
     "name": "stdout",
     "output_type": "stream",
     "text": [
      "Early stopping at epoch 13\n"
     ]
    },
    {
     "name": "stderr",
     "output_type": "stream",
     "text": [
      "[I 2024-09-12 21:09:05,369] Trial 44 finished with value: 0.6446280991735537 and parameters: {'out_channels': 105, 'kernel_size': 5, 'num_blocks': 10, 'l2_lambda': 0.004957860824563455, 'dropout_rate': 0.46056317698217286, 'lr': 0.005073355678486295}. Best is trial 0 with value: 0.6528925619834711.\n"
     ]
    },
    {
     "name": "stdout",
     "output_type": "stream",
     "text": [
      "Early stopping at epoch 16\n"
     ]
    },
    {
     "name": "stderr",
     "output_type": "stream",
     "text": [
      "[I 2024-09-12 21:09:07,027] Trial 45 finished with value: 0.628099173553719 and parameters: {'out_channels': 98, 'kernel_size': 3, 'num_blocks': 6, 'l2_lambda': 0.003899493910581888, 'dropout_rate': 0.2850715866836871, 'lr': 0.00831443560782537}. Best is trial 0 with value: 0.6528925619834711.\n"
     ]
    },
    {
     "name": "stdout",
     "output_type": "stream",
     "text": [
      "Early stopping at epoch 10\n"
     ]
    },
    {
     "name": "stderr",
     "output_type": "stream",
     "text": [
      "[I 2024-09-12 21:09:09,886] Trial 46 finished with value: 0.6198347107438017 and parameters: {'out_channels': 79, 'kernel_size': 4, 'num_blocks': 8, 'l2_lambda': 0.006088549806194013, 'dropout_rate': 0.238614181819918, 'lr': 0.009108522196037618}. Best is trial 0 with value: 0.6528925619834711.\n"
     ]
    },
    {
     "name": "stdout",
     "output_type": "stream",
     "text": [
      "Early stopping at epoch 13\n"
     ]
    },
    {
     "name": "stderr",
     "output_type": "stream",
     "text": [
      "[I 2024-09-12 21:09:12,143] Trial 47 finished with value: 0.6198347107438017 and parameters: {'out_channels': 92, 'kernel_size': 3, 'num_blocks': 9, 'l2_lambda': 0.005671022378174443, 'dropout_rate': 0.25976515426966396, 'lr': 0.003350603132250729}. Best is trial 0 with value: 0.6528925619834711.\n"
     ]
    },
    {
     "name": "stdout",
     "output_type": "stream",
     "text": [
      "Early stopping at epoch 10\n"
     ]
    },
    {
     "name": "stderr",
     "output_type": "stream",
     "text": [
      "[I 2024-09-12 21:09:15,692] Trial 48 finished with value: 0.628099173553719 and parameters: {'out_channels': 20, 'kernel_size': 6, 'num_blocks': 10, 'l2_lambda': 0.006461498092341528, 'dropout_rate': 0.14977456615925608, 'lr': 0.007511336420512913}. Best is trial 0 with value: 0.6528925619834711.\n"
     ]
    },
    {
     "name": "stdout",
     "output_type": "stream",
     "text": [
      "Early stopping at epoch 16\n"
     ]
    },
    {
     "name": "stderr",
     "output_type": "stream",
     "text": [
      "[I 2024-09-12 21:09:17,977] Trial 49 finished with value: 0.5867768595041323 and parameters: {'out_channels': 60, 'kernel_size': 5, 'num_blocks': 9, 'l2_lambda': 0.003473810591392534, 'dropout_rate': 0.417026925869483, 'lr': 0.005411908194579743}. Best is trial 0 with value: 0.6528925619834711.\n"
     ]
    },
    {
     "name": "stdout",
     "output_type": "stream",
     "text": [
      "Early stopping at epoch 10\n"
     ]
    },
    {
     "name": "stderr",
     "output_type": "stream",
     "text": [
      "[I 2024-09-12 21:09:21,223] Trial 50 finished with value: 0.6363636363636364 and parameters: {'out_channels': 71, 'kernel_size': 4, 'num_blocks': 4, 'l2_lambda': 0.008223076352514909, 'dropout_rate': 0.370368304802837, 'lr': 0.006540134615196574}. Best is trial 0 with value: 0.6528925619834711.\n"
     ]
    },
    {
     "name": "stdout",
     "output_type": "stream",
     "text": [
      "Early stopping at epoch 28\n"
     ]
    },
    {
     "name": "stderr",
     "output_type": "stream",
     "text": [
      "[I 2024-09-12 21:09:23,826] Trial 51 finished with value: 0.6363636363636364 and parameters: {'out_channels': 68, 'kernel_size': 5, 'num_blocks': 9, 'l2_lambda': 0.005504382350283898, 'dropout_rate': 0.13201985982773068, 'lr': 0.005753131606569358}. Best is trial 0 with value: 0.6528925619834711.\n"
     ]
    },
    {
     "name": "stdout",
     "output_type": "stream",
     "text": [
      "Early stopping at epoch 12\n"
     ]
    },
    {
     "name": "stderr",
     "output_type": "stream",
     "text": [
      "[I 2024-09-12 21:09:27,253] Trial 52 finished with value: 0.6363636363636364 and parameters: {'out_channels': 87, 'kernel_size': 5, 'num_blocks': 8, 'l2_lambda': 0.00526363432062142, 'dropout_rate': 0.11620174792002746, 'lr': 0.004712001247771065}. Best is trial 0 with value: 0.6528925619834711.\n"
     ]
    },
    {
     "name": "stdout",
     "output_type": "stream",
     "text": [
      "Early stopping at epoch 17\n"
     ]
    },
    {
     "name": "stderr",
     "output_type": "stream",
     "text": [
      "[I 2024-09-12 21:09:29,733] Trial 53 finished with value: 0.6363636363636364 and parameters: {'out_channels': 64, 'kernel_size': 5, 'num_blocks': 10, 'l2_lambda': 0.004904578032473088, 'dropout_rate': 0.17252745579701806, 'lr': 0.005913131880493966}. Best is trial 0 with value: 0.6528925619834711.\n"
     ]
    },
    {
     "name": "stdout",
     "output_type": "stream",
     "text": [
      "Early stopping at epoch 11\n"
     ]
    },
    {
     "name": "stderr",
     "output_type": "stream",
     "text": [
      "[I 2024-09-12 21:09:34,522] Trial 54 finished with value: 0.6528925619834711 and parameters: {'out_channels': 76, 'kernel_size': 5, 'num_blocks': 8, 'l2_lambda': 0.007033834899915749, 'dropout_rate': 0.12400620848962836, 'lr': 0.004242840394465337}. Best is trial 0 with value: 0.6528925619834711.\n"
     ]
    },
    {
     "name": "stdout",
     "output_type": "stream",
     "text": [
      "Early stopping at epoch 27\n"
     ]
    },
    {
     "name": "stderr",
     "output_type": "stream",
     "text": [
      "[I 2024-09-12 21:09:36,932] Trial 55 finished with value: 0.6198347107438017 and parameters: {'out_channels': 54, 'kernel_size': 6, 'num_blocks': 9, 'l2_lambda': 0.009500424122254627, 'dropout_rate': 0.15361947140139465, 'lr': 0.007027777631699934}. Best is trial 0 with value: 0.6528925619834711.\n"
     ]
    },
    {
     "name": "stdout",
     "output_type": "stream",
     "text": [
      "Early stopping at epoch 10\n"
     ]
    },
    {
     "name": "stderr",
     "output_type": "stream",
     "text": [
      "[I 2024-09-12 21:09:39,329] Trial 56 finished with value: 0.6446280991735537 and parameters: {'out_channels': 82, 'kernel_size': 4, 'num_blocks': 7, 'l2_lambda': 0.006190478234967346, 'dropout_rate': 0.20413694062530255, 'lr': 0.008217217192351717}. Best is trial 0 with value: 0.6528925619834711.\n"
     ]
    },
    {
     "name": "stdout",
     "output_type": "stream",
     "text": [
      "Early stopping at epoch 12\n"
     ]
    },
    {
     "name": "stderr",
     "output_type": "stream",
     "text": [
      "[I 2024-09-12 21:09:43,271] Trial 57 finished with value: 0.628099173553719 and parameters: {'out_channels': 115, 'kernel_size': 5, 'num_blocks': 10, 'l2_lambda': 0.0038452706423540563, 'dropout_rate': 0.14191222193914443, 'lr': 0.0054489934541741905}. Best is trial 0 with value: 0.6528925619834711.\n"
     ]
    },
    {
     "name": "stdout",
     "output_type": "stream",
     "text": [
      "Early stopping at epoch 14\n"
     ]
    },
    {
     "name": "stderr",
     "output_type": "stream",
     "text": [
      "[I 2024-09-12 21:09:44,533] Trial 58 finished with value: 0.6446280991735537 and parameters: {'out_channels': 127, 'kernel_size': 6, 'num_blocks': 2, 'l2_lambda': 0.002141694796220464, 'dropout_rate': 0.19490679027338698, 'lr': 0.006554422813816647}. Best is trial 0 with value: 0.6528925619834711.\n"
     ]
    },
    {
     "name": "stdout",
     "output_type": "stream",
     "text": [
      "Early stopping at epoch 16\n"
     ]
    },
    {
     "name": "stderr",
     "output_type": "stream",
     "text": [
      "[I 2024-09-12 21:09:47,562] Trial 59 finished with value: 0.6198347107438017 and parameters: {'out_channels': 94, 'kernel_size': 4, 'num_blocks': 9, 'l2_lambda': 0.0044120384428807625, 'dropout_rate': 0.31572364871062975, 'lr': 0.003809385680502691}. Best is trial 0 with value: 0.6528925619834711.\n"
     ]
    },
    {
     "name": "stdout",
     "output_type": "stream",
     "text": [
      "Early stopping at epoch 12\n"
     ]
    },
    {
     "name": "stderr",
     "output_type": "stream",
     "text": [
      "[I 2024-09-12 21:09:49,750] Trial 60 finished with value: 0.628099173553719 and parameters: {'out_channels': 68, 'kernel_size': 3, 'num_blocks': 5, 'l2_lambda': 0.0030247179594634563, 'dropout_rate': 0.166235172530889, 'lr': 0.0060231888491735115}. Best is trial 0 with value: 0.6528925619834711.\n"
     ]
    },
    {
     "name": "stdout",
     "output_type": "stream",
     "text": [
      "Early stopping at epoch 18\n"
     ]
    },
    {
     "name": "stderr",
     "output_type": "stream",
     "text": [
      "[I 2024-09-12 21:09:50,568] Trial 61 finished with value: 0.6446280991735537 and parameters: {'out_channels': 85, 'kernel_size': 3, 'num_blocks': 1, 'l2_lambda': 0.00873785257230732, 'dropout_rate': 0.2013564781261926, 'lr': 0.002196968838376395}. Best is trial 0 with value: 0.6528925619834711.\n"
     ]
    },
    {
     "name": "stdout",
     "output_type": "stream",
     "text": [
      "Early stopping at epoch 19\n"
     ]
    },
    {
     "name": "stderr",
     "output_type": "stream",
     "text": [
      "[I 2024-09-12 21:09:51,047] Trial 62 finished with value: 0.6446280991735537 and parameters: {'out_channels': 76, 'kernel_size': 3, 'num_blocks': 1, 'l2_lambda': 0.009336345159863688, 'dropout_rate': 0.21499474001154328, 'lr': 0.0030093841158054524}. Best is trial 0 with value: 0.6528925619834711.\n"
     ]
    },
    {
     "name": "stdout",
     "output_type": "stream",
     "text": [
      "Early stopping at epoch 11\n"
     ]
    },
    {
     "name": "stderr",
     "output_type": "stream",
     "text": [
      "[I 2024-09-12 21:09:53,082] Trial 63 finished with value: 0.6363636363636364 and parameters: {'out_channels': 88, 'kernel_size': 3, 'num_blocks': 3, 'l2_lambda': 0.008424207178417738, 'dropout_rate': 0.18175557682100557, 'lr': 0.0010153617628791065}. Best is trial 0 with value: 0.6528925619834711.\n"
     ]
    },
    {
     "name": "stdout",
     "output_type": "stream",
     "text": [
      "Early stopping at epoch 24\n"
     ]
    },
    {
     "name": "stderr",
     "output_type": "stream",
     "text": [
      "[I 2024-09-12 21:09:54,235] Trial 64 finished with value: 0.6363636363636364 and parameters: {'out_channels': 84, 'kernel_size': 3, 'num_blocks': 2, 'l2_lambda': 0.005768866684660501, 'dropout_rate': 0.22946694964108094, 'lr': 0.004730138135363714}. Best is trial 0 with value: 0.6528925619834711.\n"
     ]
    },
    {
     "name": "stdout",
     "output_type": "stream",
     "text": [
      "Early stopping at epoch 18\n"
     ]
    },
    {
     "name": "stderr",
     "output_type": "stream",
     "text": [
      "[I 2024-09-12 21:09:54,737] Trial 65 finished with value: 0.6363636363636364 and parameters: {'out_channels': 60, 'kernel_size': 3, 'num_blocks': 1, 'l2_lambda': 0.009075106259997663, 'dropout_rate': 0.27810119987766746, 'lr': 0.007577920014790673}. Best is trial 0 with value: 0.6528925619834711.\n"
     ]
    },
    {
     "name": "stdout",
     "output_type": "stream",
     "text": [
      "Early stopping at epoch 11\n"
     ]
    },
    {
     "name": "stderr",
     "output_type": "stream",
     "text": [
      "[I 2024-09-12 21:09:56,076] Trial 66 finished with value: 0.6446280991735537 and parameters: {'out_channels': 50, 'kernel_size': 4, 'num_blocks': 2, 'l2_lambda': 0.00777886833501592, 'dropout_rate': 0.2519663287871627, 'lr': 0.0038860138677048435}. Best is trial 0 with value: 0.6528925619834711.\n"
     ]
    },
    {
     "name": "stdout",
     "output_type": "stream",
     "text": [
      "Early stopping at epoch 21\n"
     ]
    },
    {
     "name": "stderr",
     "output_type": "stream",
     "text": [
      "[I 2024-09-12 21:09:59,655] Trial 67 finished with value: 0.6446280991735537 and parameters: {'out_channels': 106, 'kernel_size': 3, 'num_blocks': 6, 'l2_lambda': 0.007461750409025616, 'dropout_rate': 0.11021348158558301, 'lr': 0.007177528563634992}. Best is trial 0 with value: 0.6528925619834711.\n"
     ]
    },
    {
     "name": "stdout",
     "output_type": "stream",
     "text": [
      "Early stopping at epoch 23\n"
     ]
    },
    {
     "name": "stderr",
     "output_type": "stream",
     "text": [
      "[I 2024-09-12 21:10:03,125] Trial 68 finished with value: 0.6363636363636364 and parameters: {'out_channels': 72, 'kernel_size': 5, 'num_blocks': 8, 'l2_lambda': 0.006671093991935427, 'dropout_rate': 0.16044098977656812, 'lr': 0.006674608115794023}. Best is trial 0 with value: 0.6528925619834711.\n"
     ]
    },
    {
     "name": "stdout",
     "output_type": "stream",
     "text": [
      "Early stopping at epoch 19\n"
     ]
    },
    {
     "name": "stderr",
     "output_type": "stream",
     "text": [
      "[I 2024-09-12 21:10:03,883] Trial 69 finished with value: 0.6446280991735537 and parameters: {'out_channels': 32, 'kernel_size': 3, 'num_blocks': 1, 'l2_lambda': 0.004744322275430975, 'dropout_rate': 0.3481178816034748, 'lr': 0.00329976651099362}. Best is trial 0 with value: 0.6528925619834711.\n"
     ]
    },
    {
     "name": "stdout",
     "output_type": "stream",
     "text": [
      "Early stopping at epoch 22\n"
     ]
    },
    {
     "name": "stderr",
     "output_type": "stream",
     "text": [
      "[I 2024-09-12 21:10:07,839] Trial 70 finished with value: 0.6446280991735537 and parameters: {'out_channels': 79, 'kernel_size': 6, 'num_blocks': 10, 'l2_lambda': 0.005274659789143373, 'dropout_rate': 0.2083001097618507, 'lr': 0.006206178747389489}. Best is trial 0 with value: 0.6528925619834711.\n"
     ]
    },
    {
     "name": "stdout",
     "output_type": "stream",
     "text": [
      "Early stopping at epoch 14\n"
     ]
    },
    {
     "name": "stderr",
     "output_type": "stream",
     "text": [
      "[I 2024-09-12 21:10:10,100] Trial 71 finished with value: 0.6528925619834711 and parameters: {'out_channels': 79, 'kernel_size': 3, 'num_blocks': 3, 'l2_lambda': 0.0031361943403366054, 'dropout_rate': 0.23731547029415434, 'lr': 0.00992665828599164}. Best is trial 0 with value: 0.6528925619834711.\n"
     ]
    },
    {
     "name": "stdout",
     "output_type": "stream",
     "text": [
      "Early stopping at epoch 30\n"
     ]
    },
    {
     "name": "stderr",
     "output_type": "stream",
     "text": [
      "[I 2024-09-12 21:10:11,075] Trial 72 finished with value: 0.6363636363636364 and parameters: {'out_channels': 96, 'kernel_size': 3, 'num_blocks': 2, 'l2_lambda': 0.0026051983449768526, 'dropout_rate': 0.25123113810540554, 'lr': 0.008124016176462742}. Best is trial 0 with value: 0.6528925619834711.\n"
     ]
    },
    {
     "name": "stdout",
     "output_type": "stream",
     "text": [
      "Early stopping at epoch 15\n"
     ]
    },
    {
     "name": "stderr",
     "output_type": "stream",
     "text": [
      "[I 2024-09-12 21:10:12,542] Trial 73 finished with value: 0.6363636363636364 and parameters: {'out_channels': 75, 'kernel_size': 3, 'num_blocks': 3, 'l2_lambda': 0.004094794501769843, 'dropout_rate': 0.21795179346831614, 'lr': 0.009565334686837913}. Best is trial 0 with value: 0.6528925619834711.\n"
     ]
    },
    {
     "name": "stdout",
     "output_type": "stream",
     "text": [
      "Early stopping at epoch 18\n"
     ]
    },
    {
     "name": "stderr",
     "output_type": "stream",
     "text": [
      "[I 2024-09-12 21:10:13,780] Trial 74 finished with value: 0.6446280991735537 and parameters: {'out_channels': 123, 'kernel_size': 3, 'num_blocks': 4, 'l2_lambda': 0.0032921963239624327, 'dropout_rate': 0.300752760138686, 'lr': 0.009546586512371074}. Best is trial 0 with value: 0.6528925619834711.\n"
     ]
    },
    {
     "name": "stdout",
     "output_type": "stream",
     "text": [
      "Early stopping at epoch 10\n"
     ]
    },
    {
     "name": "stderr",
     "output_type": "stream",
     "text": [
      "[I 2024-09-12 21:10:15,384] Trial 75 finished with value: 0.6363636363636364 and parameters: {'out_channels': 66, 'kernel_size': 7, 'num_blocks': 4, 'l2_lambda': 0.0035835884691246675, 'dropout_rate': 0.23461900999681334, 'lr': 0.007695003287630632}. Best is trial 0 with value: 0.6528925619834711.\n"
     ]
    },
    {
     "name": "stdout",
     "output_type": "stream",
     "text": [
      "Early stopping at epoch 15\n"
     ]
    },
    {
     "name": "stderr",
     "output_type": "stream",
     "text": [
      "[I 2024-09-12 21:10:17,311] Trial 76 finished with value: 0.6363636363636364 and parameters: {'out_channels': 89, 'kernel_size': 4, 'num_blocks': 3, 'l2_lambda': 0.00438287259043442, 'dropout_rate': 0.18084474856034824, 'lr': 0.008690984117580276}. Best is trial 0 with value: 0.6528925619834711.\n"
     ]
    },
    {
     "name": "stdout",
     "output_type": "stream",
     "text": [
      "Early stopping at epoch 21\n"
     ]
    },
    {
     "name": "stderr",
     "output_type": "stream",
     "text": [
      "[I 2024-09-12 21:10:20,678] Trial 77 finished with value: 0.6528925619834711 and parameters: {'out_channels': 102, 'kernel_size': 3, 'num_blocks': 7, 'l2_lambda': 0.0018626736354085194, 'dropout_rate': 0.47288826684987695, 'lr': 0.00906201362019786}. Best is trial 0 with value: 0.6528925619834711.\n"
     ]
    },
    {
     "name": "stdout",
     "output_type": "stream",
     "text": [
      "Early stopping at epoch 20\n"
     ]
    },
    {
     "name": "stderr",
     "output_type": "stream",
     "text": [
      "[I 2024-09-12 21:10:21,728] Trial 78 finished with value: 0.6446280991735537 and parameters: {'out_channels': 82, 'kernel_size': 4, 'num_blocks': 2, 'l2_lambda': 0.0038104705663717406, 'dropout_rate': 0.12440741556120469, 'lr': 0.007286644074991197}. Best is trial 0 with value: 0.6528925619834711.\n"
     ]
    },
    {
     "name": "stdout",
     "output_type": "stream",
     "text": [
      "Early stopping at epoch 15\n"
     ]
    },
    {
     "name": "stderr",
     "output_type": "stream",
     "text": [
      "[I 2024-09-12 21:10:24,676] Trial 79 finished with value: 0.6446280991735537 and parameters: {'out_channels': 71, 'kernel_size': 3, 'num_blocks': 9, 'l2_lambda': 0.007978505987738181, 'dropout_rate': 0.19078018869588317, 'lr': 0.0050606029663779195}. Best is trial 0 with value: 0.6528925619834711.\n"
     ]
    },
    {
     "name": "stdout",
     "output_type": "stream",
     "text": [
      "Early stopping at epoch 15\n"
     ]
    },
    {
     "name": "stderr",
     "output_type": "stream",
     "text": [
      "[I 2024-09-12 21:10:25,371] Trial 80 finished with value: 0.6446280991735537 and parameters: {'out_channels': 92, 'kernel_size': 5, 'num_blocks': 1, 'l2_lambda': 0.005483566283958327, 'dropout_rate': 0.442312450077447, 'lr': 0.008923108727340317}. Best is trial 0 with value: 0.6528925619834711.\n"
     ]
    },
    {
     "name": "stdout",
     "output_type": "stream",
     "text": [
      "Early stopping at epoch 17\n"
     ]
    },
    {
     "name": "stderr",
     "output_type": "stream",
     "text": [
      "[I 2024-09-12 21:10:26,051] Trial 81 finished with value: 0.6446280991735537 and parameters: {'out_channels': 29, 'kernel_size': 4, 'num_blocks': 1, 'l2_lambda': 0.0015638253997190673, 'dropout_rate': 0.2673375000996627, 'lr': 0.005399450114042955}. Best is trial 0 with value: 0.6528925619834711.\n"
     ]
    },
    {
     "name": "stdout",
     "output_type": "stream",
     "text": [
      "Early stopping at epoch 16\n"
     ]
    },
    {
     "name": "stderr",
     "output_type": "stream",
     "text": [
      "[I 2024-09-12 21:10:26,747] Trial 82 finished with value: 0.6198347107438017 and parameters: {'out_channels': 16, 'kernel_size': 5, 'num_blocks': 2, 'l2_lambda': 0.0024287886886172555, 'dropout_rate': 0.2863609665994685, 'lr': 0.006743449414941718}. Best is trial 0 with value: 0.6528925619834711.\n"
     ]
    },
    {
     "name": "stdout",
     "output_type": "stream",
     "text": [
      "Early stopping at epoch 12\n"
     ]
    },
    {
     "name": "stderr",
     "output_type": "stream",
     "text": [
      "[I 2024-09-12 21:10:27,346] Trial 83 finished with value: 0.6446280991735537 and parameters: {'out_channels': 44, 'kernel_size': 3, 'num_blocks': 1, 'l2_lambda': 0.004781528223602404, 'dropout_rate': 0.25392999355572193, 'lr': 0.008440616298124553}. Best is trial 0 with value: 0.6528925619834711.\n"
     ]
    },
    {
     "name": "stdout",
     "output_type": "stream",
     "text": [
      "Early stopping at epoch 15\n"
     ]
    },
    {
     "name": "stderr",
     "output_type": "stream",
     "text": [
      "[I 2024-09-12 21:10:28,892] Trial 84 finished with value: 0.628099173553719 and parameters: {'out_channels': 24, 'kernel_size': 4, 'num_blocks': 3, 'l2_lambda': 0.004063226971526275, 'dropout_rate': 0.2242923260014119, 'lr': 0.006226477647548646}. Best is trial 0 with value: 0.6528925619834711.\n"
     ]
    },
    {
     "name": "stdout",
     "output_type": "stream",
     "text": [
      "Early stopping at epoch 18\n"
     ]
    },
    {
     "name": "stderr",
     "output_type": "stream",
     "text": [
      "[I 2024-09-12 21:10:29,703] Trial 85 finished with value: 0.6528925619834711 and parameters: {'out_channels': 77, 'kernel_size': 5, 'num_blocks': 1, 'l2_lambda': 0.0011474290044647278, 'dropout_rate': 0.2407679475437616, 'lr': 0.007764627839715403}. Best is trial 0 with value: 0.6528925619834711.\n"
     ]
    },
    {
     "name": "stdout",
     "output_type": "stream",
     "text": [
      "Early stopping at epoch 17\n"
     ]
    },
    {
     "name": "stderr",
     "output_type": "stream",
     "text": [
      "[I 2024-09-12 21:10:33,767] Trial 86 finished with value: 0.6363636363636364 and parameters: {'out_channels': 73, 'kernel_size': 3, 'num_blocks': 10, 'l2_lambda': 0.0006715164202777647, 'dropout_rate': 0.27064118782223046, 'lr': 0.006926867514130472}. Best is trial 0 with value: 0.6528925619834711.\n"
     ]
    },
    {
     "name": "stdout",
     "output_type": "stream",
     "text": [
      "Early stopping at epoch 18\n"
     ]
    },
    {
     "name": "stderr",
     "output_type": "stream",
     "text": [
      "[I 2024-09-12 21:10:34,467] Trial 87 finished with value: 0.6363636363636364 and parameters: {'out_channels': 38, 'kernel_size': 4, 'num_blocks': 2, 'l2_lambda': 0.008450122625704472, 'dropout_rate': 0.29275236598525145, 'lr': 0.007379074081480598}. Best is trial 0 with value: 0.6528925619834711.\n"
     ]
    },
    {
     "name": "stdout",
     "output_type": "stream",
     "text": [
      "Early stopping at epoch 11\n"
     ]
    },
    {
     "name": "stderr",
     "output_type": "stream",
     "text": [
      "[I 2024-09-12 21:10:38,034] Trial 88 finished with value: 0.6528925619834711 and parameters: {'out_channels': 63, 'kernel_size': 7, 'num_blocks': 9, 'l2_lambda': 0.0021631512065818223, 'dropout_rate': 0.39053905762104824, 'lr': 0.0064000760994135}. Best is trial 0 with value: 0.6528925619834711.\n"
     ]
    },
    {
     "name": "stdout",
     "output_type": "stream",
     "text": [
      "Early stopping at epoch 17\n"
     ]
    },
    {
     "name": "stderr",
     "output_type": "stream",
     "text": [
      "[I 2024-09-12 21:10:40,126] Trial 89 finished with value: 0.628099173553719 and parameters: {'out_channels': 56, 'kernel_size': 5, 'num_blocks': 5, 'l2_lambda': 0.005060663438750506, 'dropout_rate': 0.13975431280499914, 'lr': 0.00560538944926815}. Best is trial 0 with value: 0.6528925619834711.\n"
     ]
    },
    {
     "name": "stdout",
     "output_type": "stream",
     "text": [
      "Early stopping at epoch 17\n"
     ]
    },
    {
     "name": "stderr",
     "output_type": "stream",
     "text": [
      "[I 2024-09-12 21:10:41,972] Trial 90 finished with value: 0.6115702479338843 and parameters: {'out_channels': 84, 'kernel_size': 4, 'num_blocks': 3, 'l2_lambda': 0.006972364986775943, 'dropout_rate': 0.2004200194376311, 'lr': 0.006018832285616694}. Best is trial 0 with value: 0.6528925619834711.\n"
     ]
    },
    {
     "name": "stdout",
     "output_type": "stream",
     "text": [
      "Early stopping at epoch 20\n"
     ]
    },
    {
     "name": "stderr",
     "output_type": "stream",
     "text": [
      "[I 2024-09-12 21:10:44,776] Trial 91 finished with value: 0.6363636363636364 and parameters: {'out_channels': 79, 'kernel_size': 5, 'num_blocks': 8, 'l2_lambda': 0.007299545824533159, 'dropout_rate': 0.11860247909254408, 'lr': 0.004142604022421261}. Best is trial 0 with value: 0.6528925619834711.\n"
     ]
    },
    {
     "name": "stdout",
     "output_type": "stream",
     "text": [
      "Early stopping at epoch 14\n"
     ]
    },
    {
     "name": "stderr",
     "output_type": "stream",
     "text": [
      "[I 2024-09-12 21:10:48,270] Trial 92 finished with value: 0.6446280991735537 and parameters: {'out_channels': 117, 'kernel_size': 5, 'num_blocks': 8, 'l2_lambda': 0.006037932388271897, 'dropout_rate': 0.10342107770977091, 'lr': 0.0041130778756204}. Best is trial 0 with value: 0.6528925619834711.\n"
     ]
    },
    {
     "name": "stdout",
     "output_type": "stream",
     "text": [
      "Early stopping at epoch 16\n"
     ]
    },
    {
     "name": "stderr",
     "output_type": "stream",
     "text": [
      "[I 2024-09-12 21:10:50,424] Trial 93 finished with value: 0.6363636363636364 and parameters: {'out_channels': 70, 'kernel_size': 5, 'num_blocks': 8, 'l2_lambda': 0.006374394733228733, 'dropout_rate': 0.12706195158837708, 'lr': 0.004380328963212932}. Best is trial 0 with value: 0.6528925619834711.\n"
     ]
    },
    {
     "name": "stdout",
     "output_type": "stream",
     "text": [
      "Early stopping at epoch 11\n"
     ]
    },
    {
     "name": "stderr",
     "output_type": "stream",
     "text": [
      "[I 2024-09-12 21:10:53,545] Trial 94 finished with value: 0.6363636363636364 and parameters: {'out_channels': 77, 'kernel_size': 5, 'num_blocks': 7, 'l2_lambda': 0.005836672824595124, 'dropout_rate': 0.17120677579257718, 'lr': 0.0032587306444023345}. Best is trial 0 with value: 0.6528925619834711.\n"
     ]
    },
    {
     "name": "stdout",
     "output_type": "stream",
     "text": [
      "Early stopping at epoch 18\n"
     ]
    },
    {
     "name": "stderr",
     "output_type": "stream",
     "text": [
      "[I 2024-09-12 21:10:57,030] Trial 95 finished with value: 0.6363636363636364 and parameters: {'out_channels': 86, 'kernel_size': 3, 'num_blocks': 9, 'l2_lambda': 0.0075675383964056864, 'dropout_rate': 0.49719114706081924, 'lr': 0.0028225956983346655}. Best is trial 0 with value: 0.6528925619834711.\n"
     ]
    },
    {
     "name": "stdout",
     "output_type": "stream",
     "text": [
      "Early stopping at epoch 16\n"
     ]
    },
    {
     "name": "stderr",
     "output_type": "stream",
     "text": [
      "[I 2024-09-12 21:10:59,685] Trial 96 finished with value: 0.6363636363636364 and parameters: {'out_channels': 81, 'kernel_size': 6, 'num_blocks': 8, 'l2_lambda': 0.006863667144021262, 'dropout_rate': 0.20980731316927193, 'lr': 0.0045440412575293515}. Best is trial 0 with value: 0.6528925619834711.\n"
     ]
    },
    {
     "name": "stdout",
     "output_type": "stream",
     "text": [
      "Early stopping at epoch 11\n"
     ]
    },
    {
     "name": "stderr",
     "output_type": "stream",
     "text": [
      "[I 2024-09-12 21:11:03,068] Trial 97 finished with value: 0.6363636363636364 and parameters: {'out_channels': 67, 'kernel_size': 5, 'num_blocks': 10, 'l2_lambda': 0.004590626359694414, 'dropout_rate': 0.24542068012201682, 'lr': 0.007074384728075235}. Best is trial 0 with value: 0.6528925619834711.\n"
     ]
    },
    {
     "name": "stdout",
     "output_type": "stream",
     "text": [
      "Early stopping at epoch 14\n"
     ]
    },
    {
     "name": "stderr",
     "output_type": "stream",
     "text": [
      "[I 2024-09-12 21:11:04,877] Trial 98 finished with value: 0.6363636363636364 and parameters: {'out_channels': 51, 'kernel_size': 3, 'num_blocks': 6, 'l2_lambda': 0.007096915016640253, 'dropout_rate': 0.14832930711147774, 'lr': 0.004960147939706576}. Best is trial 0 with value: 0.6528925619834711.\n"
     ]
    },
    {
     "name": "stdout",
     "output_type": "stream",
     "text": [
      "Early stopping at epoch 13\n"
     ]
    },
    {
     "name": "stderr",
     "output_type": "stream",
     "text": [
      "[I 2024-09-12 21:11:09,368] Trial 99 finished with value: 0.6363636363636364 and parameters: {'out_channels': 74, 'kernel_size': 6, 'num_blocks': 9, 'l2_lambda': 0.005360805762741236, 'dropout_rate': 0.2622681559282607, 'lr': 0.008065401217007355}. Best is trial 0 with value: 0.6528925619834711.\n",
      "[I 2024-09-12 21:11:09,467] A new study created in memory with name: no-name-052ad051-dc84-4380-ad14-5b6f527b64ec\n"
     ]
    },
    {
     "name": "stdout",
     "output_type": "stream",
     "text": [
      "Early stopping at epoch 18\n",
      "parameters for NVDA saved to ../models/best-hyperparameters/pytorch/conv1d-classification/NVDA.json\n",
      "Best model for NVDA saved with accuracy: 0.6528925619834711\n"
     ]
    },
    {
     "name": "stderr",
     "output_type": "stream",
     "text": [
      "[I 2024-09-12 21:11:13,989] Trial 0 finished with value: 90578.15625 and parameters: {'out_channels': 74, 'kernel_size': 3, 'num_blocks': 2, 'l2_lambda': 0.007758335441370912, 'dropout_rate': 0.4061743572912774, 'lr': 0.005613536472547058}. Best is trial 0 with value: 90578.15625.\n"
     ]
    },
    {
     "name": "stdout",
     "output_type": "stream",
     "text": [
      "Early stopping at epoch 90\n"
     ]
    },
    {
     "name": "stderr",
     "output_type": "stream",
     "text": [
      "[I 2024-09-12 21:11:16,477] Trial 1 finished with value: 247774.0 and parameters: {'out_channels': 76, 'kernel_size': 7, 'num_blocks': 2, 'l2_lambda': 0.009953186434547727, 'dropout_rate': 0.47536617137392356, 'lr': 0.0065497260868423255}. Best is trial 0 with value: 90578.15625.\n"
     ]
    },
    {
     "name": "stdout",
     "output_type": "stream",
     "text": [
      "Early stopping at epoch 43\n"
     ]
    },
    {
     "name": "stderr",
     "output_type": "stream",
     "text": [
      "[I 2024-09-12 21:11:18,724] Trial 2 finished with value: 775681.125 and parameters: {'out_channels': 116, 'kernel_size': 3, 'num_blocks': 5, 'l2_lambda': 0.0029699575108487453, 'dropout_rate': 0.20882015289836708, 'lr': 0.009205287686027006}. Best is trial 0 with value: 90578.15625.\n"
     ]
    },
    {
     "name": "stdout",
     "output_type": "stream",
     "text": [
      "Early stopping at epoch 18\n"
     ]
    },
    {
     "name": "stderr",
     "output_type": "stream",
     "text": [
      "[I 2024-09-12 21:11:21,106] Trial 3 finished with value: 981358.125 and parameters: {'out_channels': 101, 'kernel_size': 3, 'num_blocks': 5, 'l2_lambda': 0.004649391482368739, 'dropout_rate': 0.3221555758282191, 'lr': 0.006921997368192916}. Best is trial 0 with value: 90578.15625.\n"
     ]
    },
    {
     "name": "stdout",
     "output_type": "stream",
     "text": [
      "Early stopping at epoch 19\n"
     ]
    },
    {
     "name": "stderr",
     "output_type": "stream",
     "text": [
      "[I 2024-09-12 21:11:25,093] Trial 4 finished with value: 131821.890625 and parameters: {'out_channels': 104, 'kernel_size': 5, 'num_blocks': 5, 'l2_lambda': 0.008243689185012294, 'dropout_rate': 0.4748063145664979, 'lr': 0.0038874046906970704}. Best is trial 0 with value: 90578.15625.\n"
     ]
    },
    {
     "name": "stdout",
     "output_type": "stream",
     "text": [
      "Early stopping at epoch 32\n"
     ]
    },
    {
     "name": "stderr",
     "output_type": "stream",
     "text": [
      "[I 2024-09-12 21:11:26,352] Trial 5 finished with value: 2171095.0 and parameters: {'out_channels': 86, 'kernel_size': 4, 'num_blocks': 2, 'l2_lambda': 0.0035832544801865833, 'dropout_rate': 0.35161456368598454, 'lr': 0.006373541572281279}. Best is trial 0 with value: 90578.15625.\n"
     ]
    },
    {
     "name": "stdout",
     "output_type": "stream",
     "text": [
      "Early stopping at epoch 20\n"
     ]
    },
    {
     "name": "stderr",
     "output_type": "stream",
     "text": [
      "[I 2024-09-12 21:11:27,696] Trial 6 finished with value: 1581482.5 and parameters: {'out_channels': 97, 'kernel_size': 4, 'num_blocks': 2, 'l2_lambda': 0.006494249842504789, 'dropout_rate': 0.46337014243820596, 'lr': 0.006561136635079583}. Best is trial 0 with value: 90578.15625.\n"
     ]
    },
    {
     "name": "stdout",
     "output_type": "stream",
     "text": [
      "Early stopping at epoch 20\n"
     ]
    },
    {
     "name": "stderr",
     "output_type": "stream",
     "text": [
      "[I 2024-09-12 21:11:28,284] Trial 7 finished with value: 2854505.0 and parameters: {'out_channels': 108, 'kernel_size': 3, 'num_blocks': 1, 'l2_lambda': 0.0026259815978362726, 'dropout_rate': 0.19823336851316273, 'lr': 0.009823974326258863}. Best is trial 0 with value: 90578.15625.\n"
     ]
    },
    {
     "name": "stdout",
     "output_type": "stream",
     "text": [
      "Early stopping at epoch 16\n"
     ]
    },
    {
     "name": "stderr",
     "output_type": "stream",
     "text": [
      "[I 2024-09-12 21:11:28,775] Trial 8 finished with value: 1156602.875 and parameters: {'out_channels': 59, 'kernel_size': 3, 'num_blocks': 1, 'l2_lambda': 0.005451678471775639, 'dropout_rate': 0.10756226638957106, 'lr': 0.008828541808252028}. Best is trial 0 with value: 90578.15625.\n"
     ]
    },
    {
     "name": "stdout",
     "output_type": "stream",
     "text": [
      "Early stopping at epoch 14\n"
     ]
    },
    {
     "name": "stderr",
     "output_type": "stream",
     "text": [
      "[I 2024-09-12 21:11:30,528] Trial 9 finished with value: 1712466.625 and parameters: {'out_channels': 89, 'kernel_size': 7, 'num_blocks': 1, 'l2_lambda': 0.005422577320885232, 'dropout_rate': 0.1325166205816808, 'lr': 0.0004937763034631985}. Best is trial 0 with value: 90578.15625.\n"
     ]
    },
    {
     "name": "stdout",
     "output_type": "stream",
     "text": [
      "Early stopping at epoch 48\n"
     ]
    },
    {
     "name": "stderr",
     "output_type": "stream",
     "text": [
      "[I 2024-09-12 21:11:33,382] Trial 10 finished with value: 2520470.75 and parameters: {'out_channels': 20, 'kernel_size': 6, 'num_blocks': 3, 'l2_lambda': 0.0003012050086167173, 'dropout_rate': 0.409890423141209, 'lr': 0.003120357724272119}. Best is trial 0 with value: 90578.15625.\n"
     ]
    },
    {
     "name": "stdout",
     "output_type": "stream",
     "text": [
      "Early stopping at epoch 39\n"
     ]
    },
    {
     "name": "stderr",
     "output_type": "stream",
     "text": [
      "[I 2024-09-12 21:11:36,487] Trial 11 finished with value: 176997.28125 and parameters: {'out_channels': 57, 'kernel_size': 5, 'num_blocks': 4, 'l2_lambda': 0.008614604799665882, 'dropout_rate': 0.38674664642157786, 'lr': 0.0037299560647943465}. Best is trial 0 with value: 90578.15625.\n"
     ]
    },
    {
     "name": "stdout",
     "output_type": "stream",
     "text": [
      "Early stopping at epoch 32\n"
     ]
    },
    {
     "name": "stderr",
     "output_type": "stream",
     "text": [
      "[I 2024-09-12 21:11:38,499] Trial 12 finished with value: 1717241.625 and parameters: {'out_channels': 128, 'kernel_size': 5, 'num_blocks': 4, 'l2_lambda': 0.007747553174424308, 'dropout_rate': 0.499430391846571, 'lr': 0.004145801664871328}. Best is trial 0 with value: 90578.15625.\n"
     ]
    },
    {
     "name": "stdout",
     "output_type": "stream",
     "text": [
      "Early stopping at epoch 16\n"
     ]
    },
    {
     "name": "stderr",
     "output_type": "stream",
     "text": [
      "[I 2024-09-12 21:11:39,894] Trial 13 finished with value: 2383281.25 and parameters: {'out_channels': 48, 'kernel_size': 6, 'num_blocks': 3, 'l2_lambda': 0.007473700270602848, 'dropout_rate': 0.42103984589308785, 'lr': 0.0021151498747469773}. Best is trial 0 with value: 90578.15625.\n"
     ]
    },
    {
     "name": "stdout",
     "output_type": "stream",
     "text": [
      "Early stopping at epoch 16\n"
     ]
    },
    {
     "name": "stderr",
     "output_type": "stream",
     "text": [
      "[I 2024-09-12 21:11:41,550] Trial 14 finished with value: 928221.625 and parameters: {'out_channels': 31, 'kernel_size': 4, 'num_blocks': 4, 'l2_lambda': 0.009981197299531137, 'dropout_rate': 0.25009512785944515, 'lr': 0.0051858241168894915}. Best is trial 0 with value: 90578.15625.\n"
     ]
    },
    {
     "name": "stdout",
     "output_type": "stream",
     "text": [
      "Early stopping at epoch 16\n"
     ]
    },
    {
     "name": "stderr",
     "output_type": "stream",
     "text": [
      "[I 2024-09-12 21:11:43,888] Trial 15 finished with value: 1011083.25 and parameters: {'out_channels': 77, 'kernel_size': 6, 'num_blocks': 3, 'l2_lambda': 0.008630756986563423, 'dropout_rate': 0.4446240391350375, 'lr': 0.0016007275554958521}. Best is trial 0 with value: 90578.15625.\n"
     ]
    },
    {
     "name": "stdout",
     "output_type": "stream",
     "text": [
      "Early stopping at epoch 26\n"
     ]
    },
    {
     "name": "stderr",
     "output_type": "stream",
     "text": [
      "[I 2024-09-12 21:11:45,937] Trial 16 finished with value: 5795186.0 and parameters: {'out_channels': 67, 'kernel_size': 4, 'num_blocks': 5, 'l2_lambda': 0.006973259927922247, 'dropout_rate': 0.36432715650321523, 'lr': 0.0050220595128325895}. Best is trial 0 with value: 90578.15625.\n"
     ]
    },
    {
     "name": "stdout",
     "output_type": "stream",
     "text": [
      "Early stopping at epoch 14\n"
     ]
    },
    {
     "name": "stderr",
     "output_type": "stream",
     "text": [
      "[I 2024-09-12 21:11:48,115] Trial 17 finished with value: 533104.25 and parameters: {'out_channels': 125, 'kernel_size': 5, 'num_blocks': 2, 'l2_lambda': 0.008543822961170197, 'dropout_rate': 0.2889552597224425, 'lr': 0.008084114277737064}. Best is trial 0 with value: 90578.15625.\n"
     ]
    },
    {
     "name": "stdout",
     "output_type": "stream",
     "text": [
      "Early stopping at epoch 34\n"
     ]
    },
    {
     "name": "stderr",
     "output_type": "stream",
     "text": [
      "[I 2024-09-12 21:11:49,914] Trial 18 finished with value: 2220980.25 and parameters: {'out_channels': 42, 'kernel_size': 6, 'num_blocks': 4, 'l2_lambda': 0.006252920267953093, 'dropout_rate': 0.4268548749351324, 'lr': 0.00522647054125785}. Best is trial 0 with value: 90578.15625.\n"
     ]
    },
    {
     "name": "stdout",
     "output_type": "stream",
     "text": [
      "Early stopping at epoch 17\n"
     ]
    },
    {
     "name": "stderr",
     "output_type": "stream",
     "text": [
      "[I 2024-09-12 21:11:51,016] Trial 19 finished with value: 1204498.0 and parameters: {'out_channels': 88, 'kernel_size': 4, 'num_blocks': 2, 'l2_lambda': 0.009001279454499096, 'dropout_rate': 0.4957043661545968, 'lr': 0.0023347071334099386}. Best is trial 0 with value: 90578.15625.\n"
     ]
    },
    {
     "name": "stdout",
     "output_type": "stream",
     "text": [
      "Early stopping at epoch 17\n"
     ]
    },
    {
     "name": "stderr",
     "output_type": "stream",
     "text": [
      "[I 2024-09-12 21:11:53,947] Trial 20 finished with value: 220333.15625 and parameters: {'out_channels': 112, 'kernel_size': 5, 'num_blocks': 3, 'l2_lambda': 0.0008448651816974516, 'dropout_rate': 0.3016714434520839, 'lr': 0.003950615619270355}. Best is trial 0 with value: 90578.15625.\n"
     ]
    },
    {
     "name": "stdout",
     "output_type": "stream",
     "text": [
      "Early stopping at epoch 35\n"
     ]
    },
    {
     "name": "stderr",
     "output_type": "stream",
     "text": [
      "[I 2024-09-12 21:11:55,509] Trial 21 finished with value: 4534185.5 and parameters: {'out_channels': 58, 'kernel_size': 5, 'num_blocks': 4, 'l2_lambda': 0.008265637194867835, 'dropout_rate': 0.36755081243849047, 'lr': 0.003795942796745049}. Best is trial 0 with value: 90578.15625.\n"
     ]
    },
    {
     "name": "stdout",
     "output_type": "stream",
     "text": [
      "Early stopping at epoch 15\n"
     ]
    },
    {
     "name": "stderr",
     "output_type": "stream",
     "text": [
      "[I 2024-09-12 21:11:57,197] Trial 22 finished with value: 625310.5 and parameters: {'out_channels': 65, 'kernel_size': 5, 'num_blocks': 5, 'l2_lambda': 0.00914275172627219, 'dropout_rate': 0.3910766232464451, 'lr': 0.0030298475140833644}. Best is trial 0 with value: 90578.15625.\n"
     ]
    },
    {
     "name": "stdout",
     "output_type": "stream",
     "text": [
      "Early stopping at epoch 12\n"
     ]
    },
    {
     "name": "stderr",
     "output_type": "stream",
     "text": [
      "[I 2024-09-12 21:12:00,337] Trial 23 finished with value: 255260.390625 and parameters: {'out_channels': 50, 'kernel_size': 6, 'num_blocks': 4, 'l2_lambda': 0.007367348206910723, 'dropout_rate': 0.38614290868394, 'lr': 0.005727365428178259}. Best is trial 0 with value: 90578.15625.\n"
     ]
    },
    {
     "name": "stdout",
     "output_type": "stream",
     "text": [
      "Early stopping at epoch 30\n"
     ]
    },
    {
     "name": "stderr",
     "output_type": "stream",
     "text": [
      "[I 2024-09-12 21:12:03,059] Trial 24 finished with value: 1728090.625 and parameters: {'out_channels': 36, 'kernel_size': 4, 'num_blocks': 5, 'l2_lambda': 0.006212874110456672, 'dropout_rate': 0.4526654679492025, 'lr': 0.007651909748741652}. Best is trial 0 with value: 90578.15625.\n"
     ]
    },
    {
     "name": "stdout",
     "output_type": "stream",
     "text": [
      "Early stopping at epoch 22\n"
     ]
    },
    {
     "name": "stderr",
     "output_type": "stream",
     "text": [
      "[I 2024-09-12 21:12:06,217] Trial 25 finished with value: 501805.1875 and parameters: {'out_channels': 79, 'kernel_size': 5, 'num_blocks': 4, 'l2_lambda': 0.008044476499927448, 'dropout_rate': 0.4149882942445562, 'lr': 0.004112956492566974}. Best is trial 0 with value: 90578.15625.\n"
     ]
    },
    {
     "name": "stdout",
     "output_type": "stream",
     "text": [
      "Early stopping at epoch 30\n"
     ]
    },
    {
     "name": "stderr",
     "output_type": "stream",
     "text": [
      "[I 2024-09-12 21:12:08,362] Trial 26 finished with value: 601505.6875 and parameters: {'out_channels': 98, 'kernel_size': 7, 'num_blocks': 3, 'l2_lambda': 0.009461782935638877, 'dropout_rate': 0.3422530354398573, 'lr': 0.0009489678058713386}. Best is trial 0 with value: 90578.15625.\n"
     ]
    },
    {
     "name": "stdout",
     "output_type": "stream",
     "text": [
      "Early stopping at epoch 23\n"
     ]
    },
    {
     "name": "stderr",
     "output_type": "stream",
     "text": [
      "[I 2024-09-12 21:12:09,926] Trial 27 finished with value: 1542333.25 and parameters: {'out_channels': 57, 'kernel_size': 5, 'num_blocks': 5, 'l2_lambda': 0.006743492437302025, 'dropout_rate': 0.4420933331326197, 'lr': 0.0032695428624727116}. Best is trial 0 with value: 90578.15625.\n"
     ]
    },
    {
     "name": "stdout",
     "output_type": "stream",
     "text": [
      "Early stopping at epoch 13\n"
     ]
    },
    {
     "name": "stderr",
     "output_type": "stream",
     "text": [
      "[I 2024-09-12 21:12:11,221] Trial 28 finished with value: 1795231.0 and parameters: {'out_channels': 23, 'kernel_size': 3, 'num_blocks': 4, 'l2_lambda': 0.004890785115617406, 'dropout_rate': 0.386282118025422, 'lr': 0.0048266456108903046}. Best is trial 0 with value: 90578.15625.\n"
     ]
    },
    {
     "name": "stdout",
     "output_type": "stream",
     "text": [
      "Early stopping at epoch 16\n"
     ]
    },
    {
     "name": "stderr",
     "output_type": "stream",
     "text": [
      "[I 2024-09-12 21:12:12,294] Trial 29 finished with value: 697385.5 and parameters: {'out_channels': 73, 'kernel_size': 7, 'num_blocks': 3, 'l2_lambda': 0.009524327272100655, 'dropout_rate': 0.48304853595326375, 'lr': 0.005891456758942612}. Best is trial 0 with value: 90578.15625.\n"
     ]
    },
    {
     "name": "stdout",
     "output_type": "stream",
     "text": [
      "Early stopping at epoch 12\n"
     ]
    },
    {
     "name": "stderr",
     "output_type": "stream",
     "text": [
      "[I 2024-09-12 21:12:16,061] Trial 30 finished with value: 269225.375 and parameters: {'out_channels': 67, 'kernel_size': 4, 'num_blocks': 5, 'l2_lambda': 0.007890654458164009, 'dropout_rate': 0.47262783278641257, 'lr': 0.0025917184115773276}. Best is trial 0 with value: 90578.15625.\n"
     ]
    },
    {
     "name": "stdout",
     "output_type": "stream",
     "text": [
      "Early stopping at epoch 27\n"
     ]
    },
    {
     "name": "stderr",
     "output_type": "stream",
     "text": [
      "[I 2024-09-12 21:12:17,856] Trial 31 finished with value: 1579612.75 and parameters: {'out_channels': 115, 'kernel_size': 5, 'num_blocks': 3, 'l2_lambda': 0.003783135940684728, 'dropout_rate': 0.31140208773368633, 'lr': 0.004309803295774257}. Best is trial 0 with value: 90578.15625.\n"
     ]
    },
    {
     "name": "stdout",
     "output_type": "stream",
     "text": [
      "Early stopping at epoch 20\n"
     ]
    },
    {
     "name": "stderr",
     "output_type": "stream",
     "text": [
      "[I 2024-09-12 21:12:18,663] Trial 32 finished with value: 4061410.5 and parameters: {'out_channels': 118, 'kernel_size': 5, 'num_blocks': 2, 'l2_lambda': 0.0006223067113348025, 'dropout_rate': 0.26029363850234233, 'lr': 0.0035195046204892946}. Best is trial 0 with value: 90578.15625.\n"
     ]
    },
    {
     "name": "stdout",
     "output_type": "stream",
     "text": [
      "Early stopping at epoch 11\n"
     ]
    },
    {
     "name": "stderr",
     "output_type": "stream",
     "text": [
      "[I 2024-09-12 21:12:20,702] Trial 33 finished with value: 637551.0 and parameters: {'out_channels': 106, 'kernel_size': 6, 'num_blocks': 3, 'l2_lambda': 0.0010904090449738463, 'dropout_rate': 0.3312089080680782, 'lr': 0.004365888917472993}. Best is trial 0 with value: 90578.15625.\n"
     ]
    },
    {
     "name": "stdout",
     "output_type": "stream",
     "text": [
      "Early stopping at epoch 20\n"
     ]
    },
    {
     "name": "stderr",
     "output_type": "stream",
     "text": [
      "[I 2024-09-12 21:12:23,482] Trial 34 finished with value: 538997.3125 and parameters: {'out_channels': 111, 'kernel_size': 3, 'num_blocks': 4, 'l2_lambda': 0.001774872934333661, 'dropout_rate': 0.28992891838941126, 'lr': 0.00559834950185111}. Best is trial 0 with value: 90578.15625.\n"
     ]
    },
    {
     "name": "stdout",
     "output_type": "stream",
     "text": [
      "Early stopping at epoch 26\n"
     ]
    },
    {
     "name": "stderr",
     "output_type": "stream",
     "text": [
      "[I 2024-09-12 21:12:24,729] Trial 35 finished with value: 1286209.75 and parameters: {'out_channels': 84, 'kernel_size': 5, 'num_blocks': 2, 'l2_lambda': 0.0042881903466341405, 'dropout_rate': 0.20565439656018403, 'lr': 0.006825746596556482}. Best is trial 0 with value: 90578.15625.\n"
     ]
    },
    {
     "name": "stdout",
     "output_type": "stream",
     "text": [
      "Early stopping at epoch 21\n"
     ]
    },
    {
     "name": "stderr",
     "output_type": "stream",
     "text": [
      "[I 2024-09-12 21:12:25,540] Trial 36 finished with value: 139970.484375 and parameters: {'out_channels': 93, 'kernel_size': 4, 'num_blocks': 1, 'l2_lambda': 0.0028981973627569303, 'dropout_rate': 0.24752050590587124, 'lr': 0.004643693221718615}. Best is trial 0 with value: 90578.15625.\n"
     ]
    },
    {
     "name": "stdout",
     "output_type": "stream",
     "text": [
      "Early stopping at epoch 20\n"
     ]
    },
    {
     "name": "stderr",
     "output_type": "stream",
     "text": [
      "[I 2024-09-12 21:12:26,396] Trial 37 finished with value: 2695712.0 and parameters: {'out_channels': 95, 'kernel_size': 3, 'num_blocks': 1, 'l2_lambda': 0.0026166119769758995, 'dropout_rate': 0.2393342621465637, 'lr': 0.006318603424302861}. Best is trial 0 with value: 90578.15625.\n"
     ]
    },
    {
     "name": "stdout",
     "output_type": "stream",
     "text": [
      "Early stopping at epoch 22\n"
     ]
    },
    {
     "name": "stderr",
     "output_type": "stream",
     "text": [
      "[I 2024-09-12 21:12:27,138] Trial 38 finished with value: 558793.875 and parameters: {'out_channels': 103, 'kernel_size': 4, 'num_blocks': 1, 'l2_lambda': 0.0019189655720054375, 'dropout_rate': 0.169609553626472, 'lr': 0.0046789203141672136}. Best is trial 0 with value: 90578.15625.\n"
     ]
    },
    {
     "name": "stdout",
     "output_type": "stream",
     "text": [
      "Early stopping at epoch 17\n"
     ]
    },
    {
     "name": "stderr",
     "output_type": "stream",
     "text": [
      "[I 2024-09-12 21:12:27,878] Trial 39 finished with value: 3168236.75 and parameters: {'out_channels': 91, 'kernel_size': 3, 'num_blocks': 1, 'l2_lambda': 0.005777442200275301, 'dropout_rate': 0.2746002368347927, 'lr': 0.0016009270949736685}. Best is trial 0 with value: 90578.15625.\n"
     ]
    },
    {
     "name": "stdout",
     "output_type": "stream",
     "text": [
      "Early stopping at epoch 18\n"
     ]
    },
    {
     "name": "stderr",
     "output_type": "stream",
     "text": [
      "[I 2024-09-12 21:12:28,579] Trial 40 finished with value: 2233668.5 and parameters: {'out_channels': 84, 'kernel_size': 4, 'num_blocks': 1, 'l2_lambda': 0.003577753037743539, 'dropout_rate': 0.22063498426951766, 'lr': 0.007231550987431708}. Best is trial 0 with value: 90578.15625.\n"
     ]
    },
    {
     "name": "stdout",
     "output_type": "stream",
     "text": [
      "Early stopping at epoch 16\n"
     ]
    },
    {
     "name": "stderr",
     "output_type": "stream",
     "text": [
      "[I 2024-09-12 21:12:32,221] Trial 41 finished with value: 44975.3671875 and parameters: {'out_channels': 121, 'kernel_size': 5, 'num_blocks': 2, 'l2_lambda': 0.001832928454001335, 'dropout_rate': 0.31561420906037774, 'lr': 0.0037456299622847184}. Best is trial 41 with value: 44975.3671875.\n"
     ]
    },
    {
     "name": "stdout",
     "output_type": "stream",
     "text": [
      "Early stopping at epoch 59\n"
     ]
    },
    {
     "name": "stderr",
     "output_type": "stream",
     "text": [
      "[I 2024-09-12 21:12:33,922] Trial 42 finished with value: 595072.9375 and parameters: {'out_channels': 121, 'kernel_size': 4, 'num_blocks': 2, 'l2_lambda': 0.0019610623068975095, 'dropout_rate': 0.3546879219967245, 'lr': 0.0028704889233159532}. Best is trial 41 with value: 44975.3671875.\n"
     ]
    },
    {
     "name": "stdout",
     "output_type": "stream",
     "text": [
      "Early stopping at epoch 25\n"
     ]
    },
    {
     "name": "stderr",
     "output_type": "stream",
     "text": [
      "[I 2024-09-12 21:12:37,631] Trial 43 finished with value: 104390.515625 and parameters: {'out_channels': 102, 'kernel_size': 5, 'num_blocks': 2, 'l2_lambda': 0.0029979600759650286, 'dropout_rate': 0.3200059918478116, 'lr': 0.004552358342423003}. Best is trial 41 with value: 44975.3671875.\n"
     ]
    },
    {
     "name": "stdout",
     "output_type": "stream",
     "text": [
      "Early stopping at epoch 62\n"
     ]
    },
    {
     "name": "stderr",
     "output_type": "stream",
     "text": [
      "[I 2024-09-12 21:12:40,085] Trial 44 finished with value: 432496.0 and parameters: {'out_channels': 101, 'kernel_size': 3, 'num_blocks': 2, 'l2_lambda': 0.0029428041087762907, 'dropout_rate': 0.17971132813877436, 'lr': 0.006025126861471768}. Best is trial 41 with value: 44975.3671875.\n"
     ]
    },
    {
     "name": "stdout",
     "output_type": "stream",
     "text": [
      "Early stopping at epoch 43\n"
     ]
    },
    {
     "name": "stderr",
     "output_type": "stream",
     "text": [
      "[I 2024-09-12 21:12:42,149] Trial 45 finished with value: 413523.375 and parameters: {'out_channels': 93, 'kernel_size': 4, 'num_blocks': 2, 'l2_lambda': 0.001585063825961489, 'dropout_rate': 0.3199146773956287, 'lr': 0.004635326220671756}. Best is trial 41 with value: 44975.3671875.\n"
     ]
    },
    {
     "name": "stdout",
     "output_type": "stream",
     "text": [
      "Early stopping at epoch 31\n"
     ]
    },
    {
     "name": "stderr",
     "output_type": "stream",
     "text": [
      "[I 2024-09-12 21:12:44,024] Trial 46 finished with value: 144396.484375 and parameters: {'out_channels': 105, 'kernel_size': 5, 'num_blocks': 1, 'l2_lambda': 0.0024600941628894206, 'dropout_rate': 0.27561430908867224, 'lr': 0.005470185081854688}. Best is trial 41 with value: 44975.3671875.\n"
     ]
    },
    {
     "name": "stdout",
     "output_type": "stream",
     "text": [
      "Early stopping at epoch 52\n"
     ]
    },
    {
     "name": "stderr",
     "output_type": "stream",
     "text": [
      "[I 2024-09-12 21:12:46,060] Trial 47 finished with value: 76360.7578125 and parameters: {'out_channels': 122, 'kernel_size': 6, 'num_blocks': 2, 'l2_lambda': 0.004137170902801902, 'dropout_rate': 0.23699249926179372, 'lr': 0.003445136566922791}. Best is trial 41 with value: 44975.3671875.\n"
     ]
    },
    {
     "name": "stdout",
     "output_type": "stream",
     "text": [
      "Early stopping at epoch 27\n"
     ]
    },
    {
     "name": "stderr",
     "output_type": "stream",
     "text": [
      "[I 2024-09-12 21:12:46,991] Trial 48 finished with value: 2587413.75 and parameters: {'out_channels': 122, 'kernel_size': 6, 'num_blocks': 2, 'l2_lambda': 0.0043228361767439025, 'dropout_rate': 0.3406690294097589, 'lr': 0.0033989902249184486}. Best is trial 41 with value: 44975.3671875.\n"
     ]
    },
    {
     "name": "stdout",
     "output_type": "stream",
     "text": [
      "Early stopping at epoch 12\n"
     ]
    },
    {
     "name": "stderr",
     "output_type": "stream",
     "text": [
      "[I 2024-09-12 21:12:50,091] Trial 49 finished with value: 65550.234375 and parameters: {'out_channels': 127, 'kernel_size': 6, 'num_blocks': 2, 'l2_lambda': 0.003582388669409, 'dropout_rate': 0.16424228179561798, 'lr': 0.0018672355266247296}. Best is trial 41 with value: 44975.3671875.\n"
     ]
    },
    {
     "name": "stdout",
     "output_type": "stream",
     "text": [
      "Early stopping at epoch 43\n"
     ]
    },
    {
     "name": "stderr",
     "output_type": "stream",
     "text": [
      "[I 2024-09-12 21:12:51,935] Trial 50 finished with value: 185260.703125 and parameters: {'out_channels': 123, 'kernel_size': 7, 'num_blocks': 2, 'l2_lambda': 0.0034818586301155518, 'dropout_rate': 0.11510826049111167, 'lr': 0.0018917431813229898}. Best is trial 41 with value: 44975.3671875.\n"
     ]
    },
    {
     "name": "stdout",
     "output_type": "stream",
     "text": [
      "Early stopping at epoch 27\n"
     ]
    },
    {
     "name": "stderr",
     "output_type": "stream",
     "text": [
      "[I 2024-09-12 21:12:55,012] Trial 51 finished with value: 421407.5625 and parameters: {'out_channels': 128, 'kernel_size': 6, 'num_blocks': 2, 'l2_lambda': 0.003952697397773135, 'dropout_rate': 0.13498459082950895, 'lr': 0.002640752448689757}. Best is trial 41 with value: 44975.3671875.\n"
     ]
    },
    {
     "name": "stdout",
     "output_type": "stream",
     "text": [
      "Early stopping at epoch 43\n"
     ]
    },
    {
     "name": "stderr",
     "output_type": "stream",
     "text": [
      "[I 2024-09-12 21:13:57,178] Trial 52 finished with value: 13.06243896484375 and parameters: {'out_channels': 116, 'kernel_size': 6, 'num_blocks': 2, 'l2_lambda': 0.005216322074437263, 'dropout_rate': 0.16032662754808505, 'lr': 5.088346603490711e-05}. Best is trial 52 with value: 13.06243896484375.\n",
      "[I 2024-09-12 21:13:58,236] Trial 53 finished with value: 2572020.75 and parameters: {'out_channels': 116, 'kernel_size': 6, 'num_blocks': 2, 'l2_lambda': 0.005318729715896703, 'dropout_rate': 0.1543101519043016, 'lr': 0.0007248875429762332}. Best is trial 52 with value: 13.06243896484375.\n"
     ]
    },
    {
     "name": "stdout",
     "output_type": "stream",
     "text": [
      "Early stopping at epoch 16\n"
     ]
    },
    {
     "name": "stderr",
     "output_type": "stream",
     "text": [
      "[I 2024-09-12 21:14:03,954] Trial 54 finished with value: 212746.734375 and parameters: {'out_channels': 110, 'kernel_size': 6, 'num_blocks': 2, 'l2_lambda': 0.0033124421689493845, 'dropout_rate': 0.1848068790733818, 'lr': 0.00012541225427309497}. Best is trial 52 with value: 13.06243896484375.\n"
     ]
    },
    {
     "name": "stdout",
     "output_type": "stream",
     "text": [
      "Early stopping at epoch 93\n"
     ]
    },
    {
     "name": "stderr",
     "output_type": "stream",
     "text": [
      "[I 2024-09-12 21:14:07,127] Trial 55 finished with value: 308654.46875 and parameters: {'out_channels': 119, 'kernel_size': 7, 'num_blocks': 2, 'l2_lambda': 0.004383908662621991, 'dropout_rate': 0.22072093747099614, 'lr': 0.0013619300786147457}. Best is trial 52 with value: 13.06243896484375.\n"
     ]
    },
    {
     "name": "stdout",
     "output_type": "stream",
     "text": [
      "Early stopping at epoch 52\n"
     ]
    },
    {
     "name": "stderr",
     "output_type": "stream",
     "text": [
      "[I 2024-09-12 21:14:08,525] Trial 56 finished with value: 639024.5625 and parameters: {'out_channels': 125, 'kernel_size': 6, 'num_blocks': 2, 'l2_lambda': 0.00507112287425186, 'dropout_rate': 0.14993198945687913, 'lr': 0.0011754179914721216}. Best is trial 52 with value: 13.06243896484375.\n"
     ]
    },
    {
     "name": "stdout",
     "output_type": "stream",
     "text": [
      "Early stopping at epoch 20\n"
     ]
    },
    {
     "name": "stderr",
     "output_type": "stream",
     "text": [
      "[I 2024-09-12 21:14:11,833] Trial 57 finished with value: 534089.875 and parameters: {'out_channels': 115, 'kernel_size': 6, 'num_blocks': 2, 'l2_lambda': 0.002431326164889982, 'dropout_rate': 0.190205821232537, 'lr': 0.00013373938778178714}. Best is trial 52 with value: 13.06243896484375.\n"
     ]
    },
    {
     "name": "stdout",
     "output_type": "stream",
     "text": [
      "Early stopping at epoch 52\n"
     ]
    },
    {
     "name": "stderr",
     "output_type": "stream",
     "text": [
      "[I 2024-09-12 21:14:13,232] Trial 58 finished with value: 3577665.75 and parameters: {'out_channels': 128, 'kernel_size': 6, 'num_blocks': 3, 'l2_lambda': 0.004007829197317956, 'dropout_rate': 0.22963791415033363, 'lr': 0.002136718881325009}. Best is trial 52 with value: 13.06243896484375.\n"
     ]
    },
    {
     "name": "stdout",
     "output_type": "stream",
     "text": [
      "Early stopping at epoch 14\n"
     ]
    },
    {
     "name": "stderr",
     "output_type": "stream",
     "text": [
      "[I 2024-09-12 21:14:14,984] Trial 59 finished with value: 375144.90625 and parameters: {'out_channels': 112, 'kernel_size': 7, 'num_blocks': 2, 'l2_lambda': 0.0031299055087498718, 'dropout_rate': 0.16403922431634896, 'lr': 0.003859161388778817}. Best is trial 52 with value: 13.06243896484375.\n"
     ]
    },
    {
     "name": "stdout",
     "output_type": "stream",
     "text": [
      "Early stopping at epoch 29\n"
     ]
    },
    {
     "name": "stderr",
     "output_type": "stream",
     "text": [
      "[I 2024-09-12 21:14:17,468] Trial 60 finished with value: 889521.4375 and parameters: {'out_channels': 119, 'kernel_size': 6, 'num_blocks': 3, 'l2_lambda': 0.0012893461175375294, 'dropout_rate': 0.13117373371973381, 'lr': 0.005155057581634816}. Best is trial 52 with value: 13.06243896484375.\n"
     ]
    },
    {
     "name": "stdout",
     "output_type": "stream",
     "text": [
      "Early stopping at epoch 26\n"
     ]
    },
    {
     "name": "stderr",
     "output_type": "stream",
     "text": [
      "[I 2024-09-12 21:14:19,266] Trial 61 finished with value: 482472.875 and parameters: {'out_channels': 108, 'kernel_size': 5, 'num_blocks': 2, 'l2_lambda': 0.004718533784300026, 'dropout_rate': 0.43870461220156026, 'lr': 0.0034555786108544173}. Best is trial 52 with value: 13.06243896484375.\n"
     ]
    },
    {
     "name": "stdout",
     "output_type": "stream",
     "text": [
      "Early stopping at epoch 32\n"
     ]
    },
    {
     "name": "stderr",
     "output_type": "stream",
     "text": [
      "[I 2024-09-12 21:14:21,432] Trial 62 finished with value: 331626.28125 and parameters: {'out_channels': 123, 'kernel_size': 5, 'num_blocks': 2, 'l2_lambda': 3.124976323795451e-05, 'dropout_rate': 0.3024355514485231, 'lr': 0.0025647448357660483}. Best is trial 52 with value: 13.06243896484375.\n"
     ]
    },
    {
     "name": "stdout",
     "output_type": "stream",
     "text": [
      "Early stopping at epoch 37\n"
     ]
    },
    {
     "name": "stderr",
     "output_type": "stream",
     "text": [
      "[I 2024-09-12 21:14:22,364] Trial 63 finished with value: 1993202.75 and parameters: {'out_channels': 99, 'kernel_size': 6, 'num_blocks': 2, 'l2_lambda': 0.002140890905921981, 'dropout_rate': 0.4038026465427831, 'lr': 0.0029839451746327744}. Best is trial 52 with value: 13.06243896484375.\n"
     ]
    },
    {
     "name": "stdout",
     "output_type": "stream",
     "text": [
      "Early stopping at epoch 13\n"
     ]
    },
    {
     "name": "stderr",
     "output_type": "stream",
     "text": [
      "[I 2024-09-12 21:14:25,042] Trial 64 finished with value: 834319.75 and parameters: {'out_channels': 113, 'kernel_size': 5, 'num_blocks': 3, 'l2_lambda': 0.007320117948757946, 'dropout_rate': 0.4596424765841282, 'lr': 0.004350397651792416}. Best is trial 52 with value: 13.06243896484375.\n"
     ]
    },
    {
     "name": "stdout",
     "output_type": "stream",
     "text": [
      "Early stopping at epoch 32\n"
     ]
    },
    {
     "name": "stderr",
     "output_type": "stream",
     "text": [
      "[I 2024-09-12 21:14:26,215] Trial 65 finished with value: 1529535.625 and parameters: {'out_channels': 107, 'kernel_size': 5, 'num_blocks': 2, 'l2_lambda': 0.007055205047225178, 'dropout_rate': 0.3629982744982666, 'lr': 0.0005787887088201041}. Best is trial 52 with value: 13.06243896484375.\n"
     ]
    },
    {
     "name": "stdout",
     "output_type": "stream",
     "text": [
      "Early stopping at epoch 19\n"
     ]
    },
    {
     "name": "stderr",
     "output_type": "stream",
     "text": [
      "[I 2024-09-12 21:14:27,489] Trial 66 finished with value: 1530713.25 and parameters: {'out_channels': 117, 'kernel_size': 6, 'num_blocks': 2, 'l2_lambda': 0.008323149668025399, 'dropout_rate': 0.3742427067186862, 'lr': 0.003690794778170202}. Best is trial 52 with value: 13.06243896484375.\n"
     ]
    },
    {
     "name": "stdout",
     "output_type": "stream",
     "text": [
      "Early stopping at epoch 19\n"
     ]
    },
    {
     "name": "stderr",
     "output_type": "stream",
     "text": [
      "[I 2024-09-12 21:14:28,330] Trial 67 finished with value: 574443.3125 and parameters: {'out_channels': 125, 'kernel_size': 5, 'num_blocks': 1, 'l2_lambda': 0.005918145121790526, 'dropout_rate': 0.20336893807354203, 'lr': 0.005395992242894124}. Best is trial 52 with value: 13.06243896484375.\n"
     ]
    },
    {
     "name": "stdout",
     "output_type": "stream",
     "text": [
      "Early stopping at epoch 23\n"
     ]
    },
    {
     "name": "stderr",
     "output_type": "stream",
     "text": [
      "[I 2024-09-12 21:14:32,117] Trial 68 finished with value: 427023.53125 and parameters: {'out_channels': 101, 'kernel_size': 5, 'num_blocks': 3, 'l2_lambda': 0.009028809317874786, 'dropout_rate': 0.10491340332888449, 'lr': 0.009620196128114938}. Best is trial 52 with value: 13.06243896484375.\n"
     ]
    },
    {
     "name": "stdout",
     "output_type": "stream",
     "text": [
      "Early stopping at epoch 48\n"
     ]
    },
    {
     "name": "stderr",
     "output_type": "stream",
     "text": [
      "[I 2024-09-12 21:14:35,593] Trial 69 finished with value: 510896.65625 and parameters: {'out_channels': 110, 'kernel_size': 7, 'num_blocks': 2, 'l2_lambda': 0.00656280086708479, 'dropout_rate': 0.42854847126826445, 'lr': 0.003924835871010755}. Best is trial 52 with value: 13.06243896484375.\n"
     ]
    },
    {
     "name": "stdout",
     "output_type": "stream",
     "text": [
      "Early stopping at epoch 60\n"
     ]
    },
    {
     "name": "stderr",
     "output_type": "stream",
     "text": [
      "[I 2024-09-12 21:14:37,663] Trial 70 finished with value: 3041885.5 and parameters: {'out_channels': 52, 'kernel_size': 6, 'num_blocks': 2, 'l2_lambda': 0.0032611624415573017, 'dropout_rate': 0.40298499352968975, 'lr': 0.001986496795403787}. Best is trial 52 with value: 13.06243896484375.\n"
     ]
    },
    {
     "name": "stdout",
     "output_type": "stream",
     "text": [
      "Early stopping at epoch 38\n"
     ]
    },
    {
     "name": "stderr",
     "output_type": "stream",
     "text": [
      "[I 2024-09-12 21:14:38,116] Trial 71 finished with value: 670309.0 and parameters: {'out_channels': 88, 'kernel_size': 4, 'num_blocks': 1, 'l2_lambda': 0.0029218077981487613, 'dropout_rate': 0.25117881499430916, 'lr': 0.004841230141729847}. Best is trial 52 with value: 13.06243896484375.\n"
     ]
    },
    {
     "name": "stdout",
     "output_type": "stream",
     "text": [
      "Early stopping at epoch 10\n"
     ]
    },
    {
     "name": "stderr",
     "output_type": "stream",
     "text": [
      "[I 2024-09-12 21:14:38,730] Trial 72 finished with value: 7462537.5 and parameters: {'out_channels': 79, 'kernel_size': 3, 'num_blocks': 1, 'l2_lambda': 0.0028979122401178036, 'dropout_rate': 0.28262883779163356, 'lr': 0.004536658899097581}. Best is trial 52 with value: 13.06243896484375.\n"
     ]
    },
    {
     "name": "stdout",
     "output_type": "stream",
     "text": [
      "Early stopping at epoch 16\n"
     ]
    },
    {
     "name": "stderr",
     "output_type": "stream",
     "text": [
      "[I 2024-09-12 21:14:39,542] Trial 73 finished with value: 566527.0625 and parameters: {'out_channels': 96, 'kernel_size': 4, 'num_blocks': 1, 'l2_lambda': 0.002321759669693767, 'dropout_rate': 0.2646009563409135, 'lr': 0.004152682152502922}. Best is trial 52 with value: 13.06243896484375.\n"
     ]
    },
    {
     "name": "stdout",
     "output_type": "stream",
     "text": [
      "Early stopping at epoch 20\n"
     ]
    },
    {
     "name": "stderr",
     "output_type": "stream",
     "text": [
      "[I 2024-09-12 21:14:41,409] Trial 74 finished with value: 826739.0 and parameters: {'out_channels': 121, 'kernel_size': 5, 'num_blocks': 3, 'l2_lambda': 0.007710132223544636, 'dropout_rate': 0.48256716289683327, 'lr': 0.005031286054255893}. Best is trial 52 with value: 13.06243896484375.\n"
     ]
    },
    {
     "name": "stdout",
     "output_type": "stream",
     "text": [
      "Early stopping at epoch 21\n"
     ]
    },
    {
     "name": "stderr",
     "output_type": "stream",
     "text": [
      "[I 2024-09-12 21:14:43,477] Trial 75 finished with value: 49223.3828125 and parameters: {'out_channels': 74, 'kernel_size': 5, 'num_blocks': 1, 'l2_lambda': 0.0040114180754348165, 'dropout_rate': 0.3041896844997627, 'lr': 0.0030882154376331832}. Best is trial 52 with value: 13.06243896484375.\n"
     ]
    },
    {
     "name": "stdout",
     "output_type": "stream",
     "text": [
      "Early stopping at epoch 64\n"
     ]
    },
    {
     "name": "stderr",
     "output_type": "stream",
     "text": [
      "[I 2024-09-12 21:14:44,375] Trial 76 finished with value: 1842816.5 and parameters: {'out_channels': 63, 'kernel_size': 5, 'num_blocks': 2, 'l2_lambda': 0.0038600136375082595, 'dropout_rate': 0.3263718077432797, 'lr': 0.002387786681245976}. Best is trial 52 with value: 13.06243896484375.\n"
     ]
    },
    {
     "name": "stdout",
     "output_type": "stream",
     "text": [
      "Early stopping at epoch 16\n"
     ]
    },
    {
     "name": "stderr",
     "output_type": "stream",
     "text": [
      "[I 2024-09-12 21:14:45,770] Trial 77 finished with value: 82180.3359375 and parameters: {'out_channels': 82, 'kernel_size': 5, 'num_blocks': 2, 'l2_lambda': 0.004731181588554441, 'dropout_rate': 0.31309478975836597, 'lr': 0.0031725466366922003}. Best is trial 52 with value: 13.06243896484375.\n"
     ]
    },
    {
     "name": "stdout",
     "output_type": "stream",
     "text": [
      "Early stopping at epoch 24\n"
     ]
    },
    {
     "name": "stderr",
     "output_type": "stream",
     "text": [
      "[I 2024-09-12 21:14:46,684] Trial 78 finished with value: 700818.625 and parameters: {'out_channels': 69, 'kernel_size': 5, 'num_blocks': 2, 'l2_lambda': 0.0044955904951223214, 'dropout_rate': 0.34099511204263894, 'lr': 0.003144946555763806}. Best is trial 52 with value: 13.06243896484375.\n"
     ]
    },
    {
     "name": "stdout",
     "output_type": "stream",
     "text": [
      "Early stopping at epoch 16\n"
     ]
    },
    {
     "name": "stderr",
     "output_type": "stream",
     "text": [
      "[I 2024-09-12 21:14:47,810] Trial 79 finished with value: 331529.65625 and parameters: {'out_channels': 74, 'kernel_size': 5, 'num_blocks': 2, 'l2_lambda': 0.005195014419768643, 'dropout_rate': 0.31844935733530266, 'lr': 0.0027663589193338586}. Best is trial 52 with value: 13.06243896484375.\n"
     ]
    },
    {
     "name": "stdout",
     "output_type": "stream",
     "text": [
      "Early stopping at epoch 20\n"
     ]
    },
    {
     "name": "stderr",
     "output_type": "stream",
     "text": [
      "[I 2024-09-12 21:14:48,377] Trial 80 finished with value: 920407.3125 and parameters: {'out_channels': 81, 'kernel_size': 6, 'num_blocks': 1, 'l2_lambda': 0.005631336333489535, 'dropout_rate': 0.3054576650476254, 'lr': 0.0015739992268851534}. Best is trial 52 with value: 13.06243896484375.\n"
     ]
    },
    {
     "name": "stdout",
     "output_type": "stream",
     "text": [
      "Early stopping at epoch 14\n"
     ]
    },
    {
     "name": "stderr",
     "output_type": "stream",
     "text": [
      "[I 2024-09-12 21:14:49,178] Trial 81 finished with value: 1260213.125 and parameters: {'out_channels': 62, 'kernel_size': 5, 'num_blocks': 2, 'l2_lambda': 0.004801446639130254, 'dropout_rate': 0.2873790557548789, 'lr': 0.003570013292268698}. Best is trial 52 with value: 13.06243896484375.\n"
     ]
    },
    {
     "name": "stdout",
     "output_type": "stream",
     "text": [
      "Early stopping at epoch 14\n"
     ]
    },
    {
     "name": "stderr",
     "output_type": "stream",
     "text": [
      "[I 2024-09-12 21:14:50,308] Trial 82 finished with value: 396289.3125 and parameters: {'out_channels': 70, 'kernel_size': 5, 'num_blocks': 2, 'l2_lambda': 0.004129256438915359, 'dropout_rate': 0.2955808234265152, 'lr': 0.003159948365020981}. Best is trial 52 with value: 13.06243896484375.\n"
     ]
    },
    {
     "name": "stdout",
     "output_type": "stream",
     "text": [
      "Early stopping at epoch 20\n"
     ]
    },
    {
     "name": "stderr",
     "output_type": "stream",
     "text": [
      "[I 2024-09-12 21:14:51,473] Trial 83 finished with value: 1009197.4375 and parameters: {'out_channels': 84, 'kernel_size': 5, 'num_blocks': 3, 'l2_lambda': 0.0037986083912713276, 'dropout_rate': 0.3136299157931705, 'lr': 0.003988307802169813}. Best is trial 52 with value: 13.06243896484375.\n"
     ]
    },
    {
     "name": "stdout",
     "output_type": "stream",
     "text": [
      "Early stopping at epoch 14\n"
     ]
    },
    {
     "name": "stderr",
     "output_type": "stream",
     "text": [
      "[I 2024-09-12 21:14:53,218] Trial 84 finished with value: 288795.0 and parameters: {'out_channels': 75, 'kernel_size': 5, 'num_blocks': 2, 'l2_lambda': 0.0045513345399493905, 'dropout_rate': 0.2669322934334681, 'lr': 0.003384712574998486}. Best is trial 52 with value: 13.06243896484375.\n"
     ]
    },
    {
     "name": "stdout",
     "output_type": "stream",
     "text": [
      "Early stopping at epoch 33\n"
     ]
    },
    {
     "name": "stderr",
     "output_type": "stream",
     "text": [
      "[I 2024-09-12 21:14:54,623] Trial 85 finished with value: 701276.1875 and parameters: {'out_channels': 125, 'kernel_size': 6, 'num_blocks': 2, 'l2_lambda': 0.004157230088118909, 'dropout_rate': 0.352437911763247, 'lr': 0.006053810419426767}. Best is trial 52 with value: 13.06243896484375.\n"
     ]
    },
    {
     "name": "stdout",
     "output_type": "stream",
     "text": [
      "Early stopping at epoch 20\n"
     ]
    },
    {
     "name": "stderr",
     "output_type": "stream",
     "text": [
      "[I 2024-09-12 21:14:57,223] Trial 86 finished with value: 355360.25 and parameters: {'out_channels': 120, 'kernel_size': 5, 'num_blocks': 5, 'l2_lambda': 0.0035020276368878398, 'dropout_rate': 0.3331435745908531, 'lr': 0.002305065130684112}. Best is trial 52 with value: 13.06243896484375.\n"
     ]
    },
    {
     "name": "stdout",
     "output_type": "stream",
     "text": [
      "Early stopping at epoch 20\n"
     ]
    },
    {
     "name": "stderr",
     "output_type": "stream",
     "text": [
      "[I 2024-09-12 21:14:58,002] Trial 87 finished with value: 786578.5 and parameters: {'out_channels': 71, 'kernel_size': 5, 'num_blocks': 1, 'l2_lambda': 0.009666916587835474, 'dropout_rate': 0.12099517554728036, 'lr': 0.008543585512320446}. Best is trial 52 with value: 13.06243896484375.\n"
     ]
    },
    {
     "name": "stdout",
     "output_type": "stream",
     "text": [
      "Early stopping at epoch 23\n"
     ]
    },
    {
     "name": "stderr",
     "output_type": "stream",
     "text": [
      "[I 2024-09-12 21:14:59,930] Trial 88 finished with value: 479735.40625 and parameters: {'out_channels': 115, 'kernel_size': 6, 'num_blocks': 2, 'l2_lambda': 0.008674854124686654, 'dropout_rate': 0.1507594447459901, 'lr': 0.004180775126047236}. Best is trial 52 with value: 13.06243896484375.\n"
     ]
    },
    {
     "name": "stdout",
     "output_type": "stream",
     "text": [
      "Early stopping at epoch 29\n"
     ]
    },
    {
     "name": "stderr",
     "output_type": "stream",
     "text": [
      "[I 2024-09-12 21:15:01,949] Trial 89 finished with value: 115620.7421875 and parameters: {'out_channels': 78, 'kernel_size': 6, 'num_blocks': 2, 'l2_lambda': 0.004946561539496198, 'dropout_rate': 0.3774714243449545, 'lr': 0.0036993327601238576}. Best is trial 52 with value: 13.06243896484375.\n"
     ]
    },
    {
     "name": "stdout",
     "output_type": "stream",
     "text": [
      "Early stopping at epoch 34\n"
     ]
    },
    {
     "name": "stderr",
     "output_type": "stream",
     "text": [
      "[I 2024-09-12 21:15:03,014] Trial 90 finished with value: 895034.625 and parameters: {'out_channels': 78, 'kernel_size': 6, 'num_blocks': 2, 'l2_lambda': 0.004986984442563613, 'dropout_rate': 0.3089868591074722, 'lr': 0.0036947607484211025}. Best is trial 52 with value: 13.06243896484375.\n"
     ]
    },
    {
     "name": "stdout",
     "output_type": "stream",
     "text": [
      "Early stopping at epoch 16\n"
     ]
    },
    {
     "name": "stderr",
     "output_type": "stream",
     "text": [
      "[I 2024-09-12 21:15:05,561] Trial 91 finished with value: 126842.484375 and parameters: {'out_channels': 82, 'kernel_size': 6, 'num_blocks': 2, 'l2_lambda': 0.005353787014185257, 'dropout_rate': 0.37305197639667725, 'lr': 0.0028703073083564358}. Best is trial 52 with value: 13.06243896484375.\n"
     ]
    },
    {
     "name": "stdout",
     "output_type": "stream",
     "text": [
      "Early stopping at epoch 44\n"
     ]
    },
    {
     "name": "stderr",
     "output_type": "stream",
     "text": [
      "[I 2024-09-12 21:15:06,482] Trial 92 finished with value: 480780.3125 and parameters: {'out_channels': 82, 'kernel_size': 6, 'num_blocks': 2, 'l2_lambda': 0.005997597521654274, 'dropout_rate': 0.3441488117463246, 'lr': 0.002928403137773393}. Best is trial 52 with value: 13.06243896484375.\n"
     ]
    },
    {
     "name": "stdout",
     "output_type": "stream",
     "text": [
      "Early stopping at epoch 14\n"
     ]
    },
    {
     "name": "stderr",
     "output_type": "stream",
     "text": [
      "[I 2024-09-12 21:15:07,275] Trial 93 finished with value: 2222229.0 and parameters: {'out_channels': 90, 'kernel_size': 6, 'num_blocks': 2, 'l2_lambda': 0.0053641161642492465, 'dropout_rate': 0.37842871686769, 'lr': 0.003325302725716246}. Best is trial 52 with value: 13.06243896484375.\n"
     ]
    },
    {
     "name": "stdout",
     "output_type": "stream",
     "text": [
      "Early stopping at epoch 11\n"
     ]
    },
    {
     "name": "stderr",
     "output_type": "stream",
     "text": [
      "[I 2024-09-12 21:15:08,294] Trial 94 finished with value: 1514517.625 and parameters: {'out_channels': 86, 'kernel_size': 6, 'num_blocks': 2, 'l2_lambda': 0.004601197299988474, 'dropout_rate': 0.3915371795235288, 'lr': 0.0026975304319848624}. Best is trial 52 with value: 13.06243896484375.\n"
     ]
    },
    {
     "name": "stdout",
     "output_type": "stream",
     "text": [
      "Early stopping at epoch 16\n"
     ]
    },
    {
     "name": "stderr",
     "output_type": "stream",
     "text": [
      "[I 2024-09-12 21:15:09,940] Trial 95 finished with value: 3663458.5 and parameters: {'out_channels': 67, 'kernel_size': 7, 'num_blocks': 2, 'l2_lambda': 0.004766682349671209, 'dropout_rate': 0.4178020823522119, 'lr': 0.0018103263263541656}. Best is trial 52 with value: 13.06243896484375.\n"
     ]
    },
    {
     "name": "stdout",
     "output_type": "stream",
     "text": [
      "Early stopping at epoch 29\n"
     ]
    },
    {
     "name": "stderr",
     "output_type": "stream",
     "text": [
      "[I 2024-09-12 21:15:12,431] Trial 96 finished with value: 407197.78125 and parameters: {'out_channels': 75, 'kernel_size': 6, 'num_blocks': 2, 'l2_lambda': 0.005645542504567467, 'dropout_rate': 0.36170792802955604, 'lr': 0.004479050035529476}. Best is trial 52 with value: 13.06243896484375.\n"
     ]
    },
    {
     "name": "stdout",
     "output_type": "stream",
     "text": [
      "Early stopping at epoch 44\n"
     ]
    },
    {
     "name": "stderr",
     "output_type": "stream",
     "text": [
      "[I 2024-09-12 21:15:13,316] Trial 97 finished with value: 3868767.5 and parameters: {'out_channels': 81, 'kernel_size': 6, 'num_blocks': 2, 'l2_lambda': 0.006300433408974365, 'dropout_rate': 0.3320750834773828, 'lr': 0.0023949548874496714}. Best is trial 52 with value: 13.06243896484375.\n"
     ]
    },
    {
     "name": "stdout",
     "output_type": "stream",
     "text": [
      "Early stopping at epoch 13\n"
     ]
    },
    {
     "name": "stderr",
     "output_type": "stream",
     "text": [
      "[I 2024-09-12 21:15:15,460] Trial 98 finished with value: 2644730.75 and parameters: {'out_channels': 77, 'kernel_size': 6, 'num_blocks': 2, 'l2_lambda': 0.003690247044167693, 'dropout_rate': 0.2953615218128819, 'lr': 0.0009617748509046318}. Best is trial 52 with value: 13.06243896484375.\n"
     ]
    },
    {
     "name": "stdout",
     "output_type": "stream",
     "text": [
      "Early stopping at epoch 36\n"
     ]
    },
    {
     "name": "stderr",
     "output_type": "stream",
     "text": [
      "[I 2024-09-12 21:15:16,264] Trial 99 finished with value: 373462.28125 and parameters: {'out_channels': 73, 'kernel_size': 6, 'num_blocks': 1, 'l2_lambda': 0.005133717885784031, 'dropout_rate': 0.3726149890742453, 'lr': 0.003612434645696761}. Best is trial 52 with value: 13.06243896484375.\n",
      "[I 2024-09-12 21:15:16,295] A new study created in memory with name: no-name-535c5fc1-f261-470a-ade0-9a1270da315b\n"
     ]
    },
    {
     "name": "stdout",
     "output_type": "stream",
     "text": [
      "Early stopping at epoch 22\n",
      "parameters for NVDA saved to ../models/best-hyperparameters/pytorch/conv1d-regression/NVDA.json\n",
      "Best model for NVDA saved with RMSE: 13.06243896484375\n"
     ]
    },
    {
     "name": "stderr",
     "output_type": "stream",
     "text": [
      "[I 2024-09-12 21:15:16,746] Trial 0 finished with value: 0.603448275862069 and parameters: {'sequence_length': 26, 'hidden_size': 26, 'num_layers': 1, 'num_blocks': 2, 'dropout_rate': 0.446073791129289, 'lr': 0.006721803561790077}. Best is trial 0 with value: 0.603448275862069.\n"
     ]
    },
    {
     "name": "stdout",
     "output_type": "stream",
     "text": [
      "Early stopping at epoch 12\n"
     ]
    },
    {
     "name": "stderr",
     "output_type": "stream",
     "text": [
      "[I 2024-09-12 21:15:17,282] Trial 1 finished with value: 0.7288135593220338 and parameters: {'sequence_length': 16, 'hidden_size': 37, 'num_layers': 1, 'num_blocks': 4, 'dropout_rate': 0.10362910497746745, 'lr': 0.00636722026629738}. Best is trial 1 with value: 0.7288135593220338.\n"
     ]
    },
    {
     "name": "stdout",
     "output_type": "stream",
     "text": [
      "Early stopping at epoch 12\n"
     ]
    },
    {
     "name": "stderr",
     "output_type": "stream",
     "text": [
      "[I 2024-09-12 21:15:18,595] Trial 2 finished with value: 0.5964912280701754 and parameters: {'sequence_length': 30, 'hidden_size': 17, 'num_layers': 3, 'num_blocks': 5, 'dropout_rate': 0.10418956882850848, 'lr': 0.004654445393889863}. Best is trial 1 with value: 0.7288135593220338.\n"
     ]
    },
    {
     "name": "stdout",
     "output_type": "stream",
     "text": [
      "Early stopping at epoch 17\n"
     ]
    },
    {
     "name": "stderr",
     "output_type": "stream",
     "text": [
      "[I 2024-09-12 21:15:19,480] Trial 3 finished with value: 0.6206896551724138 and parameters: {'sequence_length': 26, 'hidden_size': 112, 'num_layers': 3, 'num_blocks': 3, 'dropout_rate': 0.1026359178307179, 'lr': 0.0010152470618213065}. Best is trial 1 with value: 0.7288135593220338.\n"
     ]
    },
    {
     "name": "stdout",
     "output_type": "stream",
     "text": [
      "Early stopping at epoch 14\n"
     ]
    },
    {
     "name": "stderr",
     "output_type": "stream",
     "text": [
      "[I 2024-09-12 21:15:20,099] Trial 4 finished with value: 0.5344827586206896 and parameters: {'sequence_length': 21, 'hidden_size': 18, 'num_layers': 1, 'num_blocks': 3, 'dropout_rate': 0.2730806961175367, 'lr': 0.0071827166032039395}. Best is trial 1 with value: 0.7288135593220338.\n"
     ]
    },
    {
     "name": "stdout",
     "output_type": "stream",
     "text": [
      "Early stopping at epoch 17\n"
     ]
    },
    {
     "name": "stderr",
     "output_type": "stream",
     "text": [
      "[I 2024-09-12 21:15:20,585] Trial 5 finished with value: 0.6 and parameters: {'sequence_length': 2, 'hidden_size': 33, 'num_layers': 1, 'num_blocks': 4, 'dropout_rate': 0.19823354196448567, 'lr': 0.004377346357479298}. Best is trial 1 with value: 0.7288135593220338.\n"
     ]
    },
    {
     "name": "stdout",
     "output_type": "stream",
     "text": [
      "Early stopping at epoch 10\n"
     ]
    },
    {
     "name": "stderr",
     "output_type": "stream",
     "text": [
      "[I 2024-09-12 21:15:20,930] Trial 6 finished with value: 0.6379310344827587 and parameters: {'sequence_length': 19, 'hidden_size': 26, 'num_layers': 3, 'num_blocks': 1, 'dropout_rate': 0.1363507512125508, 'lr': 0.007036348503861809}. Best is trial 1 with value: 0.7288135593220338.\n"
     ]
    },
    {
     "name": "stdout",
     "output_type": "stream",
     "text": [
      "Early stopping at epoch 12\n"
     ]
    },
    {
     "name": "stderr",
     "output_type": "stream",
     "text": [
      "[I 2024-09-12 21:15:21,496] Trial 7 finished with value: 0.6666666666666666 and parameters: {'sequence_length': 3, 'hidden_size': 64, 'num_layers': 1, 'num_blocks': 5, 'dropout_rate': 0.30191283146814396, 'lr': 0.002067826625654481}. Best is trial 1 with value: 0.7288135593220338.\n"
     ]
    },
    {
     "name": "stdout",
     "output_type": "stream",
     "text": [
      "Early stopping at epoch 10\n"
     ]
    },
    {
     "name": "stderr",
     "output_type": "stream",
     "text": [
      "[I 2024-09-12 21:15:22,389] Trial 8 finished with value: 0.5833333333333334 and parameters: {'sequence_length': 7, 'hidden_size': 37, 'num_layers': 2, 'num_blocks': 3, 'dropout_rate': 0.33383356163015065, 'lr': 0.003473809203264661}. Best is trial 1 with value: 0.7288135593220338.\n"
     ]
    },
    {
     "name": "stdout",
     "output_type": "stream",
     "text": [
      "Early stopping at epoch 21\n"
     ]
    },
    {
     "name": "stderr",
     "output_type": "stream",
     "text": [
      "[I 2024-09-12 21:15:23,167] Trial 9 finished with value: 0.5689655172413793 and parameters: {'sequence_length': 23, 'hidden_size': 55, 'num_layers': 2, 'num_blocks': 5, 'dropout_rate': 0.26445032037354776, 'lr': 0.0033228563745028297}. Best is trial 1 with value: 0.7288135593220338.\n"
     ]
    },
    {
     "name": "stdout",
     "output_type": "stream",
     "text": [
      "Early stopping at epoch 11\n"
     ]
    },
    {
     "name": "stderr",
     "output_type": "stream",
     "text": [
      "[I 2024-09-12 21:15:23,873] Trial 10 finished with value: 0.6101694915254238 and parameters: {'sequence_length': 12, 'hidden_size': 88, 'num_layers': 2, 'num_blocks': 4, 'dropout_rate': 0.4963220306867495, 'lr': 0.009957512457541185}. Best is trial 1 with value: 0.7288135593220338.\n"
     ]
    },
    {
     "name": "stdout",
     "output_type": "stream",
     "text": [
      "Early stopping at epoch 10\n"
     ]
    },
    {
     "name": "stderr",
     "output_type": "stream",
     "text": [
      "[I 2024-09-12 21:15:24,415] Trial 11 finished with value: 0.5932203389830508 and parameters: {'sequence_length': 13, 'hidden_size': 66, 'num_layers': 1, 'num_blocks': 4, 'dropout_rate': 0.3625434003928911, 'lr': 0.0001463334952142637}. Best is trial 1 with value: 0.7288135593220338.\n"
     ]
    },
    {
     "name": "stdout",
     "output_type": "stream",
     "text": [
      "Early stopping at epoch 10\n"
     ]
    },
    {
     "name": "stderr",
     "output_type": "stream",
     "text": [
      "[I 2024-09-12 21:15:25,475] Trial 12 finished with value: 0.6666666666666666 and parameters: {'sequence_length': 5, 'hidden_size': 53, 'num_layers': 1, 'num_blocks': 5, 'dropout_rate': 0.20880085651667532, 'lr': 0.002033267209673813}. Best is trial 1 with value: 0.7288135593220338.\n"
     ]
    },
    {
     "name": "stdout",
     "output_type": "stream",
     "text": [
      "Early stopping at epoch 19\n"
     ]
    },
    {
     "name": "stderr",
     "output_type": "stream",
     "text": [
      "[I 2024-09-12 21:15:26,194] Trial 13 finished with value: 0.559322033898305 and parameters: {'sequence_length': 10, 'hidden_size': 85, 'num_layers': 1, 'num_blocks': 4, 'dropout_rate': 0.40686516376296356, 'lr': 0.005827999347109342}. Best is trial 1 with value: 0.7288135593220338.\n"
     ]
    },
    {
     "name": "stdout",
     "output_type": "stream",
     "text": [
      "Early stopping at epoch 13\n"
     ]
    },
    {
     "name": "stderr",
     "output_type": "stream",
     "text": [
      "[I 2024-09-12 21:15:27,114] Trial 14 finished with value: 0.6610169491525424 and parameters: {'sequence_length': 16, 'hidden_size': 47, 'num_layers': 2, 'num_blocks': 5, 'dropout_rate': 0.21246138176001295, 'lr': 0.008766222562780056}. Best is trial 1 with value: 0.7288135593220338.\n"
     ]
    },
    {
     "name": "stdout",
     "output_type": "stream",
     "text": [
      "Early stopping at epoch 11\n"
     ]
    },
    {
     "name": "stderr",
     "output_type": "stream",
     "text": [
      "[I 2024-09-12 21:15:27,659] Trial 15 finished with value: 0.6333333333333333 and parameters: {'sequence_length': 2, 'hidden_size': 83, 'num_layers': 1, 'num_blocks': 4, 'dropout_rate': 0.3102627084921635, 'lr': 0.002556800502380549}. Best is trial 1 with value: 0.7288135593220338.\n"
     ]
    },
    {
     "name": "stdout",
     "output_type": "stream",
     "text": [
      "Early stopping at epoch 11\n"
     ]
    },
    {
     "name": "stderr",
     "output_type": "stream",
     "text": [
      "[I 2024-09-12 21:15:28,413] Trial 16 finished with value: 0.6440677966101694 and parameters: {'sequence_length': 17, 'hidden_size': 68, 'num_layers': 2, 'num_blocks': 2, 'dropout_rate': 0.16702079537744563, 'lr': 0.005536719901378721}. Best is trial 1 with value: 0.7288135593220338.\n"
     ]
    },
    {
     "name": "stdout",
     "output_type": "stream",
     "text": [
      "Early stopping at epoch 19\n"
     ]
    },
    {
     "name": "stderr",
     "output_type": "stream",
     "text": [
      "[I 2024-09-12 21:15:29,444] Trial 17 finished with value: 0.5666666666666667 and parameters: {'sequence_length': 8, 'hidden_size': 109, 'num_layers': 1, 'num_blocks': 5, 'dropout_rate': 0.27023702886177914, 'lr': 0.008452085029376232}. Best is trial 1 with value: 0.7288135593220338.\n"
     ]
    },
    {
     "name": "stdout",
     "output_type": "stream",
     "text": [
      "Early stopping at epoch 18\n"
     ]
    },
    {
     "name": "stderr",
     "output_type": "stream",
     "text": [
      "[I 2024-09-12 21:15:30,008] Trial 18 finished with value: 0.5254237288135594 and parameters: {'sequence_length': 14, 'hidden_size': 44, 'num_layers': 1, 'num_blocks': 3, 'dropout_rate': 0.375335605845141, 'lr': 0.0016123318638600536}. Best is trial 1 with value: 0.7288135593220338.\n"
     ]
    },
    {
     "name": "stdout",
     "output_type": "stream",
     "text": [
      "Early stopping at epoch 13\n"
     ]
    },
    {
     "name": "stderr",
     "output_type": "stream",
     "text": [
      "[I 2024-09-12 21:15:30,880] Trial 19 finished with value: 0.6666666666666666 and parameters: {'sequence_length': 5, 'hidden_size': 60, 'num_layers': 2, 'num_blocks': 4, 'dropout_rate': 0.24698112129389918, 'lr': 0.003452132165969714}. Best is trial 1 with value: 0.7288135593220338.\n"
     ]
    },
    {
     "name": "stdout",
     "output_type": "stream",
     "text": [
      "Early stopping at epoch 16\n"
     ]
    },
    {
     "name": "stderr",
     "output_type": "stream",
     "text": [
      "[I 2024-09-12 21:15:31,726] Trial 20 finished with value: 0.559322033898305 and parameters: {'sequence_length': 10, 'hidden_size': 125, 'num_layers': 1, 'num_blocks': 5, 'dropout_rate': 0.31802608406374167, 'lr': 0.006142836382542417}. Best is trial 1 with value: 0.7288135593220338.\n"
     ]
    },
    {
     "name": "stdout",
     "output_type": "stream",
     "text": [
      "Early stopping at epoch 12\n"
     ]
    },
    {
     "name": "stderr",
     "output_type": "stream",
     "text": [
      "[I 2024-09-12 21:15:32,561] Trial 21 finished with value: 0.65 and parameters: {'sequence_length': 5, 'hidden_size': 51, 'num_layers': 1, 'num_blocks': 5, 'dropout_rate': 0.20656714941167237, 'lr': 0.0021570107407039955}. Best is trial 1 with value: 0.7288135593220338.\n"
     ]
    },
    {
     "name": "stdout",
     "output_type": "stream",
     "text": [
      "Early stopping at epoch 15\n"
     ]
    },
    {
     "name": "stderr",
     "output_type": "stream",
     "text": [
      "[I 2024-09-12 21:15:33,468] Trial 22 finished with value: 0.6 and parameters: {'sequence_length': 5, 'hidden_size': 76, 'num_layers': 1, 'num_blocks': 5, 'dropout_rate': 0.157955841259088, 'lr': 0.00010925490129842699}. Best is trial 1 with value: 0.7288135593220338.\n"
     ]
    },
    {
     "name": "stdout",
     "output_type": "stream",
     "text": [
      "Early stopping at epoch 16\n"
     ]
    },
    {
     "name": "stderr",
     "output_type": "stream",
     "text": [
      "[I 2024-09-12 21:15:34,194] Trial 23 finished with value: 0.6166666666666667 and parameters: {'sequence_length': 2, 'hidden_size': 37, 'num_layers': 1, 'num_blocks': 4, 'dropout_rate': 0.2343611403791554, 'lr': 0.004183586270601677}. Best is trial 1 with value: 0.7288135593220338.\n"
     ]
    },
    {
     "name": "stdout",
     "output_type": "stream",
     "text": [
      "Early stopping at epoch 14\n"
     ]
    },
    {
     "name": "stderr",
     "output_type": "stream",
     "text": [
      "[I 2024-09-12 21:15:34,802] Trial 24 finished with value: 0.55 and parameters: {'sequence_length': 8, 'hidden_size': 60, 'num_layers': 1, 'num_blocks': 5, 'dropout_rate': 0.17466516044595493, 'lr': 0.0014023567937399288}. Best is trial 1 with value: 0.7288135593220338.\n"
     ]
    },
    {
     "name": "stdout",
     "output_type": "stream",
     "text": [
      "Early stopping at epoch 10\n"
     ]
    },
    {
     "name": "stderr",
     "output_type": "stream",
     "text": [
      "[I 2024-09-12 21:15:35,929] Trial 25 finished with value: 0.6833333333333333 and parameters: {'sequence_length': 5, 'hidden_size': 74, 'num_layers': 2, 'num_blocks': 4, 'dropout_rate': 0.13604405011852228, 'lr': 0.0025833189679554665}. Best is trial 1 with value: 0.7288135593220338.\n"
     ]
    },
    {
     "name": "stdout",
     "output_type": "stream",
     "text": [
      "Early stopping at epoch 19\n"
     ]
    },
    {
     "name": "stderr",
     "output_type": "stream",
     "text": [
      "[I 2024-09-12 21:15:36,854] Trial 26 finished with value: 0.6440677966101694 and parameters: {'sequence_length': 11, 'hidden_size': 94, 'num_layers': 3, 'num_blocks': 4, 'dropout_rate': 0.13857151365241344, 'lr': 0.0028282791025885734}. Best is trial 1 with value: 0.7288135593220338.\n"
     ]
    },
    {
     "name": "stdout",
     "output_type": "stream",
     "text": [
      "Early stopping at epoch 13\n"
     ]
    },
    {
     "name": "stderr",
     "output_type": "stream",
     "text": [
      "[I 2024-09-12 21:15:37,477] Trial 27 finished with value: 0.6779661016949152 and parameters: {'sequence_length': 15, 'hidden_size': 75, 'num_layers': 2, 'num_blocks': 3, 'dropout_rate': 0.12806834003009698, 'lr': 0.005311038363756999}. Best is trial 1 with value: 0.7288135593220338.\n"
     ]
    },
    {
     "name": "stdout",
     "output_type": "stream",
     "text": [
      "Early stopping at epoch 13\n"
     ]
    },
    {
     "name": "stderr",
     "output_type": "stream",
     "text": [
      "[I 2024-09-12 21:15:37,920] Trial 28 finished with value: 0.5423728813559322 and parameters: {'sequence_length': 18, 'hidden_size': 79, 'num_layers': 2, 'num_blocks': 2, 'dropout_rate': 0.11877491029147808, 'lr': 0.005659697939959862}. Best is trial 1 with value: 0.7288135593220338.\n"
     ]
    },
    {
     "name": "stdout",
     "output_type": "stream",
     "text": [
      "Early stopping at epoch 10\n"
     ]
    },
    {
     "name": "stderr",
     "output_type": "stream",
     "text": [
      "[I 2024-09-12 21:15:38,618] Trial 29 finished with value: 0.6779661016949152 and parameters: {'sequence_length': 15, 'hidden_size': 98, 'num_layers': 2, 'num_blocks': 3, 'dropout_rate': 0.13822865143439622, 'lr': 0.007823579471807066}. Best is trial 1 with value: 0.7288135593220338.\n"
     ]
    },
    {
     "name": "stdout",
     "output_type": "stream",
     "text": [
      "Early stopping at epoch 13\n"
     ]
    },
    {
     "name": "stderr",
     "output_type": "stream",
     "text": [
      "[I 2024-09-12 21:15:39,001] Trial 30 finished with value: 0.5517241379310345 and parameters: {'sequence_length': 22, 'hidden_size': 73, 'num_layers': 3, 'num_blocks': 1, 'dropout_rate': 0.17284679546310375, 'lr': 0.006458596762392919}. Best is trial 1 with value: 0.7288135593220338.\n"
     ]
    },
    {
     "name": "stdout",
     "output_type": "stream",
     "text": [
      "Early stopping at epoch 11\n"
     ]
    },
    {
     "name": "stderr",
     "output_type": "stream",
     "text": [
      "[I 2024-09-12 21:15:40,177] Trial 31 finished with value: 0.6610169491525424 and parameters: {'sequence_length': 15, 'hidden_size': 99, 'num_layers': 2, 'num_blocks': 3, 'dropout_rate': 0.1362745303524146, 'lr': 0.0077798370017276445}. Best is trial 1 with value: 0.7288135593220338.\n"
     ]
    },
    {
     "name": "stdout",
     "output_type": "stream",
     "text": [
      "Early stopping at epoch 24\n"
     ]
    },
    {
     "name": "stderr",
     "output_type": "stream",
     "text": [
      "[I 2024-09-12 21:15:40,830] Trial 32 finished with value: 0.6896551724137931 and parameters: {'sequence_length': 20, 'hidden_size': 100, 'num_layers': 2, 'num_blocks': 3, 'dropout_rate': 0.10429017370215385, 'lr': 0.005126292926988685}. Best is trial 1 with value: 0.7288135593220338.\n"
     ]
    },
    {
     "name": "stdout",
     "output_type": "stream",
     "text": [
      "Early stopping at epoch 12\n"
     ]
    },
    {
     "name": "stderr",
     "output_type": "stream",
     "text": [
      "[I 2024-09-12 21:15:41,569] Trial 33 finished with value: 0.5172413793103449 and parameters: {'sequence_length': 25, 'hidden_size': 107, 'num_layers': 2, 'num_blocks': 2, 'dropout_rate': 0.10416937641788612, 'lr': 0.004942947761326175}. Best is trial 1 with value: 0.7288135593220338.\n"
     ]
    },
    {
     "name": "stdout",
     "output_type": "stream",
     "text": [
      "Early stopping at epoch 18\n"
     ]
    },
    {
     "name": "stderr",
     "output_type": "stream",
     "text": [
      "[I 2024-09-12 21:15:42,286] Trial 34 finished with value: 0.5689655172413793 and parameters: {'sequence_length': 28, 'hidden_size': 128, 'num_layers': 3, 'num_blocks': 3, 'dropout_rate': 0.10547323749045817, 'lr': 0.005337012684974048}. Best is trial 1 with value: 0.7288135593220338.\n"
     ]
    },
    {
     "name": "stdout",
     "output_type": "stream",
     "text": [
      "Early stopping at epoch 10\n"
     ]
    },
    {
     "name": "stderr",
     "output_type": "stream",
     "text": [
      "[I 2024-09-12 21:15:42,935] Trial 35 finished with value: 0.6724137931034483 and parameters: {'sequence_length': 20, 'hidden_size': 117, 'num_layers': 2, 'num_blocks': 3, 'dropout_rate': 0.12459808547340434, 'lr': 0.00455004133208096}. Best is trial 1 with value: 0.7288135593220338.\n"
     ]
    },
    {
     "name": "stdout",
     "output_type": "stream",
     "text": [
      "Early stopping at epoch 12\n"
     ]
    },
    {
     "name": "stderr",
     "output_type": "stream",
     "text": [
      "[I 2024-09-12 21:15:43,428] Trial 36 finished with value: 0.603448275862069 and parameters: {'sequence_length': 24, 'hidden_size': 91, 'num_layers': 2, 'num_blocks': 3, 'dropout_rate': 0.15554224645684106, 'lr': 0.004187208649722291}. Best is trial 1 with value: 0.7288135593220338.\n"
     ]
    },
    {
     "name": "stdout",
     "output_type": "stream",
     "text": [
      "Early stopping at epoch 10\n"
     ]
    },
    {
     "name": "stderr",
     "output_type": "stream",
     "text": [
      "[I 2024-09-12 21:15:43,976] Trial 37 finished with value: 0.6724137931034483 and parameters: {'sequence_length': 20, 'hidden_size': 80, 'num_layers': 2, 'num_blocks': 2, 'dropout_rate': 0.1872249432470743, 'lr': 0.006626272637667482}. Best is trial 1 with value: 0.7288135593220338.\n"
     ]
    },
    {
     "name": "stdout",
     "output_type": "stream",
     "text": [
      "Early stopping at epoch 15\n"
     ]
    },
    {
     "name": "stderr",
     "output_type": "stream",
     "text": [
      "[I 2024-09-12 21:15:44,925] Trial 38 finished with value: 0.576271186440678 and parameters: {'sequence_length': 18, 'hidden_size': 16, 'num_layers': 3, 'num_blocks': 4, 'dropout_rate': 0.10061316362983545, 'lr': 0.005037427060025609}. Best is trial 1 with value: 0.7288135593220338.\n"
     ]
    },
    {
     "name": "stdout",
     "output_type": "stream",
     "text": [
      "Early stopping at epoch 17\n"
     ]
    },
    {
     "name": "stderr",
     "output_type": "stream",
     "text": [
      "[I 2024-09-12 21:15:45,626] Trial 39 finished with value: 0.5344827586206896 and parameters: {'sequence_length': 27, 'hidden_size': 102, 'num_layers': 2, 'num_blocks': 3, 'dropout_rate': 0.15023354668193495, 'lr': 0.007061821284064549}. Best is trial 1 with value: 0.7288135593220338.\n"
     ]
    },
    {
     "name": "stdout",
     "output_type": "stream",
     "text": [
      "Early stopping at epoch 12\n"
     ]
    },
    {
     "name": "stderr",
     "output_type": "stream",
     "text": [
      "[I 2024-09-12 21:15:46,318] Trial 40 finished with value: 0.5517241379310345 and parameters: {'sequence_length': 22, 'hidden_size': 23, 'num_layers': 3, 'num_blocks': 3, 'dropout_rate': 0.12017816264543699, 'lr': 0.006085784027996509}. Best is trial 1 with value: 0.7288135593220338.\n"
     ]
    },
    {
     "name": "stdout",
     "output_type": "stream",
     "text": [
      "Early stopping at epoch 13\n"
     ]
    },
    {
     "name": "stderr",
     "output_type": "stream",
     "text": [
      "[I 2024-09-12 21:15:46,922] Trial 41 finished with value: 0.5932203389830508 and parameters: {'sequence_length': 15, 'hidden_size': 94, 'num_layers': 2, 'num_blocks': 3, 'dropout_rate': 0.1399827395169898, 'lr': 0.007741952249169171}. Best is trial 1 with value: 0.7288135593220338.\n"
     ]
    },
    {
     "name": "stdout",
     "output_type": "stream",
     "text": [
      "Early stopping at epoch 13\n"
     ]
    },
    {
     "name": "stderr",
     "output_type": "stream",
     "text": [
      "[I 2024-09-12 21:15:47,465] Trial 42 finished with value: 0.559322033898305 and parameters: {'sequence_length': 13, 'hidden_size': 119, 'num_layers': 2, 'num_blocks': 3, 'dropout_rate': 0.18602497385814878, 'lr': 0.003891941249008569}. Best is trial 1 with value: 0.7288135593220338.\n"
     ]
    },
    {
     "name": "stdout",
     "output_type": "stream",
     "text": [
      "Early stopping at epoch 10\n"
     ]
    },
    {
     "name": "stderr",
     "output_type": "stream",
     "text": [
      "[I 2024-09-12 21:15:48,232] Trial 43 finished with value: 0.6440677966101694 and parameters: {'sequence_length': 17, 'hidden_size': 103, 'num_layers': 2, 'num_blocks': 4, 'dropout_rate': 0.12715609694409782, 'lr': 0.007638779143581899}. Best is trial 1 with value: 0.7288135593220338.\n"
     ]
    },
    {
     "name": "stdout",
     "output_type": "stream",
     "text": [
      "Early stopping at epoch 12\n"
     ]
    },
    {
     "name": "stderr",
     "output_type": "stream",
     "text": [
      "[I 2024-09-12 21:15:49,238] Trial 44 finished with value: 0.6379310344827587 and parameters: {'sequence_length': 20, 'hidden_size': 72, 'num_layers': 2, 'num_blocks': 3, 'dropout_rate': 0.11723488713366736, 'lr': 0.009572962098736908}. Best is trial 1 with value: 0.7288135593220338.\n"
     ]
    },
    {
     "name": "stdout",
     "output_type": "stream",
     "text": [
      "Early stopping at epoch 22\n"
     ]
    },
    {
     "name": "stderr",
     "output_type": "stream",
     "text": [
      "[I 2024-09-12 21:15:49,658] Trial 45 finished with value: 0.6101694915254238 and parameters: {'sequence_length': 12, 'hidden_size': 87, 'num_layers': 2, 'num_blocks': 2, 'dropout_rate': 0.23108223159213961, 'lr': 0.008747878156996148}. Best is trial 1 with value: 0.7288135593220338.\n"
     ]
    },
    {
     "name": "stdout",
     "output_type": "stream",
     "text": [
      "Early stopping at epoch 10\n"
     ]
    },
    {
     "name": "stderr",
     "output_type": "stream",
     "text": [
      "[I 2024-09-12 21:15:50,691] Trial 46 finished with value: 0.7288135593220338 and parameters: {'sequence_length': 16, 'hidden_size': 99, 'num_layers': 2, 'num_blocks': 4, 'dropout_rate': 0.150506922926851, 'lr': 0.004986940897916948}. Best is trial 1 with value: 0.7288135593220338.\n"
     ]
    },
    {
     "name": "stdout",
     "output_type": "stream",
     "text": [
      "Early stopping at epoch 18\n"
     ]
    },
    {
     "name": "stderr",
     "output_type": "stream",
     "text": [
      "[I 2024-09-12 21:15:51,800] Trial 47 finished with value: 0.559322033898305 and parameters: {'sequence_length': 18, 'hidden_size': 116, 'num_layers': 2, 'num_blocks': 4, 'dropout_rate': 0.15687067626714735, 'lr': 0.004877676006315462}. Best is trial 1 with value: 0.7288135593220338.\n"
     ]
    },
    {
     "name": "stdout",
     "output_type": "stream",
     "text": [
      "Early stopping at epoch 19\n"
     ]
    },
    {
     "name": "stderr",
     "output_type": "stream",
     "text": [
      "[I 2024-09-12 21:15:52,712] Trial 48 finished with value: 0.6779661016949152 and parameters: {'sequence_length': 16, 'hidden_size': 61, 'num_layers': 2, 'num_blocks': 4, 'dropout_rate': 0.19181888907987202, 'lr': 0.005195123439068618}. Best is trial 1 with value: 0.7288135593220338.\n"
     ]
    },
    {
     "name": "stdout",
     "output_type": "stream",
     "text": [
      "Early stopping at epoch 17\n"
     ]
    },
    {
     "name": "stderr",
     "output_type": "stream",
     "text": [
      "[I 2024-09-12 21:15:53,295] Trial 49 finished with value: 0.43859649122807015 and parameters: {'sequence_length': 30, 'hidden_size': 29, 'num_layers': 2, 'num_blocks': 4, 'dropout_rate': 0.46978025544316326, 'lr': 0.0006322204505249444}. Best is trial 1 with value: 0.7288135593220338.\n"
     ]
    },
    {
     "name": "stdout",
     "output_type": "stream",
     "text": [
      "Early stopping at epoch 10\n"
     ]
    },
    {
     "name": "stderr",
     "output_type": "stream",
     "text": [
      "[I 2024-09-12 21:15:54,277] Trial 50 finished with value: 0.5517241379310345 and parameters: {'sequence_length': 22, 'hidden_size': 67, 'num_layers': 3, 'num_blocks': 4, 'dropout_rate': 0.11061282937570013, 'lr': 0.003781456785864343}. Best is trial 1 with value: 0.7288135593220338.\n"
     ]
    },
    {
     "name": "stdout",
     "output_type": "stream",
     "text": [
      "Early stopping at epoch 15\n"
     ]
    },
    {
     "name": "stderr",
     "output_type": "stream",
     "text": [
      "[I 2024-09-12 21:15:55,124] Trial 51 finished with value: 0.576271186440678 and parameters: {'sequence_length': 14, 'hidden_size': 96, 'num_layers': 2, 'num_blocks': 3, 'dropout_rate': 0.1301808480704038, 'lr': 0.007324644690846866}. Best is trial 1 with value: 0.7288135593220338.\n"
     ]
    },
    {
     "name": "stdout",
     "output_type": "stream",
     "text": [
      "Early stopping at epoch 19\n"
     ]
    },
    {
     "name": "stderr",
     "output_type": "stream",
     "text": [
      "[I 2024-09-12 21:15:55,893] Trial 52 finished with value: 0.7288135593220338 and parameters: {'sequence_length': 16, 'hidden_size': 105, 'num_layers': 2, 'num_blocks': 3, 'dropout_rate': 0.14550045386655883, 'lr': 0.008209243561803832}. Best is trial 1 with value: 0.7288135593220338.\n"
     ]
    },
    {
     "name": "stdout",
     "output_type": "stream",
     "text": [
      "Early stopping at epoch 15\n"
     ]
    },
    {
     "name": "stderr",
     "output_type": "stream",
     "text": [
      "[I 2024-09-12 21:15:56,659] Trial 53 finished with value: 0.6551724137931034 and parameters: {'sequence_length': 19, 'hidden_size': 107, 'num_layers': 2, 'num_blocks': 4, 'dropout_rate': 0.14790244458547908, 'lr': 0.00312430026312665}. Best is trial 1 with value: 0.7288135593220338.\n"
     ]
    },
    {
     "name": "stdout",
     "output_type": "stream",
     "text": [
      "Early stopping at epoch 12\n"
     ]
    },
    {
     "name": "stderr",
     "output_type": "stream",
     "text": [
      "[I 2024-09-12 21:15:57,356] Trial 54 finished with value: 0.6779661016949152 and parameters: {'sequence_length': 16, 'hidden_size': 89, 'num_layers': 2, 'num_blocks': 3, 'dropout_rate': 0.17123424248467545, 'lr': 0.009383985218091102}. Best is trial 1 with value: 0.7288135593220338.\n"
     ]
    },
    {
     "name": "stdout",
     "output_type": "stream",
     "text": [
      "Early stopping at epoch 13\n"
     ]
    },
    {
     "name": "stderr",
     "output_type": "stream",
     "text": [
      "[I 2024-09-12 21:15:58,510] Trial 55 finished with value: 0.6610169491525424 and parameters: {'sequence_length': 17, 'hidden_size': 82, 'num_layers': 2, 'num_blocks': 3, 'dropout_rate': 0.10219132039917807, 'lr': 0.00816569464594408}. Best is trial 1 with value: 0.7288135593220338.\n"
     ]
    },
    {
     "name": "stdout",
     "output_type": "stream",
     "text": [
      "Early stopping at epoch 26\n"
     ]
    },
    {
     "name": "stderr",
     "output_type": "stream",
     "text": [
      "[I 2024-09-12 21:15:59,631] Trial 56 finished with value: 0.576271186440678 and parameters: {'sequence_length': 13, 'hidden_size': 112, 'num_layers': 2, 'num_blocks': 4, 'dropout_rate': 0.2821400759730495, 'lr': 0.006309307708001732}. Best is trial 1 with value: 0.7288135593220338.\n"
     ]
    },
    {
     "name": "stdout",
     "output_type": "stream",
     "text": [
      "Early stopping at epoch 20\n"
     ]
    },
    {
     "name": "stderr",
     "output_type": "stream",
     "text": [
      "[I 2024-09-12 21:16:00,279] Trial 57 finished with value: 0.559322033898305 and parameters: {'sequence_length': 10, 'hidden_size': 46, 'num_layers': 1, 'num_blocks': 2, 'dropout_rate': 0.21753974546425095, 'lr': 0.006806362995603993}. Best is trial 1 with value: 0.7288135593220338.\n"
     ]
    },
    {
     "name": "stdout",
     "output_type": "stream",
     "text": [
      "Early stopping at epoch 20\n"
     ]
    },
    {
     "name": "stderr",
     "output_type": "stream",
     "text": [
      "[I 2024-09-12 21:16:01,113] Trial 58 finished with value: 0.6551724137931034 and parameters: {'sequence_length': 19, 'hidden_size': 40, 'num_layers': 2, 'num_blocks': 4, 'dropout_rate': 0.16466518954895773, 'lr': 0.005739169911499362}. Best is trial 1 with value: 0.7288135593220338.\n"
     ]
    },
    {
     "name": "stdout",
     "output_type": "stream",
     "text": [
      "Early stopping at epoch 15\n"
     ]
    },
    {
     "name": "stderr",
     "output_type": "stream",
     "text": [
      "[I 2024-09-12 21:16:02,050] Trial 59 finished with value: 0.6 and parameters: {'sequence_length': 7, 'hidden_size': 103, 'num_layers': 2, 'num_blocks': 4, 'dropout_rate': 0.35863915642061034, 'lr': 0.004540928428811662}. Best is trial 1 with value: 0.7288135593220338.\n"
     ]
    },
    {
     "name": "stdout",
     "output_type": "stream",
     "text": [
      "Early stopping at epoch 15\n"
     ]
    },
    {
     "name": "stderr",
     "output_type": "stream",
     "text": [
      "[I 2024-09-12 21:16:02,578] Trial 60 finished with value: 0.576271186440678 and parameters: {'sequence_length': 14, 'hidden_size': 55, 'num_layers': 2, 'num_blocks': 3, 'dropout_rate': 0.14544948194770593, 'lr': 0.005933719140957631}. Best is trial 1 with value: 0.7288135593220338.\n"
     ]
    },
    {
     "name": "stdout",
     "output_type": "stream",
     "text": [
      "Early stopping at epoch 11\n"
     ]
    },
    {
     "name": "stderr",
     "output_type": "stream",
     "text": [
      "[I 2024-09-12 21:16:03,137] Trial 61 finished with value: 0.5932203389830508 and parameters: {'sequence_length': 15, 'hidden_size': 91, 'num_layers': 2, 'num_blocks': 3, 'dropout_rate': 0.13155574262438857, 'lr': 0.008177744613050705}. Best is trial 1 with value: 0.7288135593220338.\n"
     ]
    },
    {
     "name": "stdout",
     "output_type": "stream",
     "text": [
      "Early stopping at epoch 10\n"
     ]
    },
    {
     "name": "stderr",
     "output_type": "stream",
     "text": [
      "[I 2024-09-12 21:16:04,143] Trial 62 finished with value: 0.6101694915254238 and parameters: {'sequence_length': 12, 'hidden_size': 99, 'num_layers': 2, 'num_blocks': 3, 'dropout_rate': 0.17980396937836005, 'lr': 0.009119539742823216}. Best is trial 1 with value: 0.7288135593220338.\n"
     ]
    },
    {
     "name": "stdout",
     "output_type": "stream",
     "text": [
      "Early stopping at epoch 21\n"
     ]
    },
    {
     "name": "stderr",
     "output_type": "stream",
     "text": [
      "[I 2024-09-12 21:16:04,835] Trial 63 finished with value: 0.6440677966101694 and parameters: {'sequence_length': 17, 'hidden_size': 74, 'num_layers': 2, 'num_blocks': 3, 'dropout_rate': 0.12333713330113144, 'lr': 0.005452606477538599}. Best is trial 1 with value: 0.7288135593220338.\n"
     ]
    },
    {
     "name": "stdout",
     "output_type": "stream",
     "text": [
      "Early stopping at epoch 15\n"
     ]
    },
    {
     "name": "stderr",
     "output_type": "stream",
     "text": [
      "[I 2024-09-12 21:16:05,475] Trial 64 finished with value: 0.7288135593220338 and parameters: {'sequence_length': 16, 'hidden_size': 111, 'num_layers': 2, 'num_blocks': 3, 'dropout_rate': 0.19998390037460187, 'lr': 0.007463744591516415}. Best is trial 1 with value: 0.7288135593220338.\n"
     ]
    },
    {
     "name": "stdout",
     "output_type": "stream",
     "text": [
      "Early stopping at epoch 12\n"
     ]
    },
    {
     "name": "stderr",
     "output_type": "stream",
     "text": [
      "[I 2024-09-12 21:16:06,136] Trial 65 finished with value: 0.5344827586206896 and parameters: {'sequence_length': 21, 'hidden_size': 122, 'num_layers': 2, 'num_blocks': 2, 'dropout_rate': 0.11442687282401273, 'lr': 0.0067876417009723414}. Best is trial 1 with value: 0.7288135593220338.\n"
     ]
    },
    {
     "name": "stdout",
     "output_type": "stream",
     "text": [
      "Early stopping at epoch 16\n"
     ]
    },
    {
     "name": "stderr",
     "output_type": "stream",
     "text": [
      "[I 2024-09-12 21:16:06,831] Trial 66 finished with value: 0.7 and parameters: {'sequence_length': 4, 'hidden_size': 112, 'num_layers': 2, 'num_blocks': 4, 'dropout_rate': 0.19646266712392563, 'lr': 0.007321766835158256}. Best is trial 1 with value: 0.7288135593220338.\n"
     ]
    },
    {
     "name": "stdout",
     "output_type": "stream",
     "text": [
      "Early stopping at epoch 11\n"
     ]
    },
    {
     "name": "stderr",
     "output_type": "stream",
     "text": [
      "[I 2024-09-12 21:16:07,370] Trial 67 finished with value: 0.75 and parameters: {'sequence_length': 3, 'hidden_size': 113, 'num_layers': 1, 'num_blocks': 4, 'dropout_rate': 0.202309434447423, 'lr': 0.007259284669051593}. Best is trial 67 with value: 0.75.\n"
     ]
    },
    {
     "name": "stdout",
     "output_type": "stream",
     "text": [
      "Early stopping at epoch 10\n"
     ]
    },
    {
     "name": "stderr",
     "output_type": "stream",
     "text": [
      "[I 2024-09-12 21:16:08,129] Trial 68 finished with value: 0.75 and parameters: {'sequence_length': 3, 'hidden_size': 112, 'num_layers': 1, 'num_blocks': 5, 'dropout_rate': 0.2506940472540855, 'lr': 0.008207244250087535}. Best is trial 67 with value: 0.75.\n"
     ]
    },
    {
     "name": "stdout",
     "output_type": "stream",
     "text": [
      "Early stopping at epoch 13\n"
     ]
    },
    {
     "name": "stderr",
     "output_type": "stream",
     "text": [
      "[I 2024-09-12 21:16:08,902] Trial 69 finished with value: 0.75 and parameters: {'sequence_length': 3, 'hidden_size': 111, 'num_layers': 1, 'num_blocks': 5, 'dropout_rate': 0.2559220278961182, 'lr': 0.008238496959885874}. Best is trial 67 with value: 0.75.\n"
     ]
    },
    {
     "name": "stdout",
     "output_type": "stream",
     "text": [
      "Early stopping at epoch 12\n"
     ]
    },
    {
     "name": "stderr",
     "output_type": "stream",
     "text": [
      "[I 2024-09-12 21:16:09,645] Trial 70 finished with value: 0.7333333333333333 and parameters: {'sequence_length': 3, 'hidden_size': 112, 'num_layers': 1, 'num_blocks': 5, 'dropout_rate': 0.23749982200815895, 'lr': 0.008614231709011318}. Best is trial 67 with value: 0.75.\n"
     ]
    },
    {
     "name": "stdout",
     "output_type": "stream",
     "text": [
      "Early stopping at epoch 13\n"
     ]
    },
    {
     "name": "stderr",
     "output_type": "stream",
     "text": [
      "[I 2024-09-12 21:16:10,548] Trial 71 finished with value: 0.7333333333333333 and parameters: {'sequence_length': 3, 'hidden_size': 112, 'num_layers': 1, 'num_blocks': 5, 'dropout_rate': 0.2456042705721435, 'lr': 0.008607104625504918}. Best is trial 67 with value: 0.75.\n"
     ]
    },
    {
     "name": "stdout",
     "output_type": "stream",
     "text": [
      "Early stopping at epoch 16\n"
     ]
    },
    {
     "name": "stderr",
     "output_type": "stream",
     "text": [
      "[I 2024-09-12 21:16:11,865] Trial 72 finished with value: 0.75 and parameters: {'sequence_length': 3, 'hidden_size': 121, 'num_layers': 1, 'num_blocks': 5, 'dropout_rate': 0.2853788740311362, 'lr': 0.008621152784385222}. Best is trial 67 with value: 0.75.\n"
     ]
    },
    {
     "name": "stdout",
     "output_type": "stream",
     "text": [
      "Early stopping at epoch 23\n"
     ]
    },
    {
     "name": "stderr",
     "output_type": "stream",
     "text": [
      "[I 2024-09-12 21:16:12,524] Trial 73 finished with value: 0.75 and parameters: {'sequence_length': 3, 'hidden_size': 122, 'num_layers': 1, 'num_blocks': 5, 'dropout_rate': 0.259113951588697, 'lr': 0.008673607537728866}. Best is trial 67 with value: 0.75.\n"
     ]
    },
    {
     "name": "stdout",
     "output_type": "stream",
     "text": [
      "Early stopping at epoch 10\n"
     ]
    },
    {
     "name": "stderr",
     "output_type": "stream",
     "text": [
      "[I 2024-09-12 21:16:13,528] Trial 74 finished with value: 0.75 and parameters: {'sequence_length': 3, 'hidden_size': 123, 'num_layers': 1, 'num_blocks': 5, 'dropout_rate': 0.25666315244326965, 'lr': 0.008726188730279867}. Best is trial 67 with value: 0.75.\n"
     ]
    },
    {
     "name": "stdout",
     "output_type": "stream",
     "text": [
      "Early stopping at epoch 16\n"
     ]
    },
    {
     "name": "stderr",
     "output_type": "stream",
     "text": [
      "[I 2024-09-12 21:16:14,205] Trial 75 finished with value: 0.75 and parameters: {'sequence_length': 3, 'hidden_size': 126, 'num_layers': 1, 'num_blocks': 5, 'dropout_rate': 0.25648121670491286, 'lr': 0.00880422026532436}. Best is trial 67 with value: 0.75.\n"
     ]
    },
    {
     "name": "stdout",
     "output_type": "stream",
     "text": [
      "Early stopping at epoch 10\n"
     ]
    },
    {
     "name": "stderr",
     "output_type": "stream",
     "text": [
      "[I 2024-09-12 21:16:15,063] Trial 76 finished with value: 0.75 and parameters: {'sequence_length': 3, 'hidden_size': 128, 'num_layers': 1, 'num_blocks': 5, 'dropout_rate': 0.28477449016627926, 'lr': 0.009015961697685284}. Best is trial 67 with value: 0.75.\n"
     ]
    },
    {
     "name": "stdout",
     "output_type": "stream",
     "text": [
      "Early stopping at epoch 15\n"
     ]
    },
    {
     "name": "stderr",
     "output_type": "stream",
     "text": [
      "[I 2024-09-12 21:16:15,656] Trial 77 finished with value: 0.7 and parameters: {'sequence_length': 4, 'hidden_size': 128, 'num_layers': 1, 'num_blocks': 5, 'dropout_rate': 0.28810152502990544, 'lr': 0.009095238569603448}. Best is trial 67 with value: 0.75.\n"
     ]
    },
    {
     "name": "stdout",
     "output_type": "stream",
     "text": [
      "Early stopping at epoch 10\n"
     ]
    },
    {
     "name": "stderr",
     "output_type": "stream",
     "text": [
      "[I 2024-09-12 21:16:16,463] Trial 78 finished with value: 0.6166666666666667 and parameters: {'sequence_length': 6, 'hidden_size': 124, 'num_layers': 1, 'num_blocks': 5, 'dropout_rate': 0.2599803280199713, 'lr': 0.009769469761622896}. Best is trial 67 with value: 0.75.\n"
     ]
    },
    {
     "name": "stdout",
     "output_type": "stream",
     "text": [
      "Early stopping at epoch 13\n"
     ]
    },
    {
     "name": "stderr",
     "output_type": "stream",
     "text": [
      "[I 2024-09-12 21:16:17,306] Trial 79 finished with value: 0.6333333333333333 and parameters: {'sequence_length': 2, 'hidden_size': 120, 'num_layers': 1, 'num_blocks': 5, 'dropout_rate': 0.2580948777822941, 'lr': 0.009138710384343416}. Best is trial 67 with value: 0.75.\n"
     ]
    },
    {
     "name": "stdout",
     "output_type": "stream",
     "text": [
      "Early stopping at epoch 15\n"
     ]
    },
    {
     "name": "stderr",
     "output_type": "stream",
     "text": [
      "[I 2024-09-12 21:16:17,887] Trial 80 finished with value: 0.7333333333333333 and parameters: {'sequence_length': 3, 'hidden_size': 117, 'num_layers': 1, 'num_blocks': 5, 'dropout_rate': 0.3206997414392218, 'lr': 0.008923027948249103}. Best is trial 67 with value: 0.75.\n"
     ]
    },
    {
     "name": "stdout",
     "output_type": "stream",
     "text": [
      "Early stopping at epoch 10\n"
     ]
    },
    {
     "name": "stderr",
     "output_type": "stream",
     "text": [
      "[I 2024-09-12 21:16:18,541] Trial 81 finished with value: 0.7 and parameters: {'sequence_length': 4, 'hidden_size': 125, 'num_layers': 1, 'num_blocks': 5, 'dropout_rate': 0.293128314959509, 'lr': 0.008414525973547634}. Best is trial 67 with value: 0.75.\n"
     ]
    },
    {
     "name": "stdout",
     "output_type": "stream",
     "text": [
      "Early stopping at epoch 11\n"
     ]
    },
    {
     "name": "stderr",
     "output_type": "stream",
     "text": [
      "[I 2024-09-12 21:16:19,398] Trial 82 finished with value: 0.75 and parameters: {'sequence_length': 3, 'hidden_size': 115, 'num_layers': 1, 'num_blocks': 5, 'dropout_rate': 0.2709525309177592, 'lr': 0.008008955090859117}. Best is trial 67 with value: 0.75.\n"
     ]
    },
    {
     "name": "stdout",
     "output_type": "stream",
     "text": [
      "Early stopping at epoch 14\n"
     ]
    },
    {
     "name": "stderr",
     "output_type": "stream",
     "text": [
      "[I 2024-09-12 21:16:20,379] Trial 83 finished with value: 0.5833333333333334 and parameters: {'sequence_length': 6, 'hidden_size': 122, 'num_layers': 1, 'num_blocks': 5, 'dropout_rate': 0.27409008585758143, 'lr': 0.007973131033193226}. Best is trial 67 with value: 0.75.\n"
     ]
    },
    {
     "name": "stdout",
     "output_type": "stream",
     "text": [
      "Early stopping at epoch 17\n"
     ]
    },
    {
     "name": "stderr",
     "output_type": "stream",
     "text": [
      "[I 2024-09-12 21:16:21,383] Trial 84 finished with value: 0.6333333333333333 and parameters: {'sequence_length': 2, 'hidden_size': 126, 'num_layers': 1, 'num_blocks': 5, 'dropout_rate': 0.30449185800066436, 'lr': 0.009983219941982983}. Best is trial 67 with value: 0.75.\n"
     ]
    },
    {
     "name": "stdout",
     "output_type": "stream",
     "text": [
      "Early stopping at epoch 17\n"
     ]
    },
    {
     "name": "stderr",
     "output_type": "stream",
     "text": [
      "[I 2024-09-12 21:16:22,050] Trial 85 finished with value: 0.75 and parameters: {'sequence_length': 3, 'hidden_size': 115, 'num_layers': 1, 'num_blocks': 5, 'dropout_rate': 0.22086179382487073, 'lr': 0.009336371296015084}. Best is trial 67 with value: 0.75.\n"
     ]
    },
    {
     "name": "stdout",
     "output_type": "stream",
     "text": [
      "Early stopping at epoch 10\n"
     ]
    },
    {
     "name": "stderr",
     "output_type": "stream",
     "text": [
      "[I 2024-09-12 21:16:23,168] Trial 86 finished with value: 0.6166666666666667 and parameters: {'sequence_length': 6, 'hidden_size': 121, 'num_layers': 1, 'num_blocks': 5, 'dropout_rate': 0.25181159127107766, 'lr': 0.008335212238052309}. Best is trial 67 with value: 0.75.\n"
     ]
    },
    {
     "name": "stdout",
     "output_type": "stream",
     "text": [
      "Early stopping at epoch 17\n"
     ]
    },
    {
     "name": "stderr",
     "output_type": "stream",
     "text": [
      "[I 2024-09-12 21:16:24,035] Trial 87 finished with value: 0.7166666666666667 and parameters: {'sequence_length': 4, 'hidden_size': 115, 'num_layers': 1, 'num_blocks': 5, 'dropout_rate': 0.2735288576549416, 'lr': 0.007932523851765525}. Best is trial 67 with value: 0.75.\n"
     ]
    },
    {
     "name": "stdout",
     "output_type": "stream",
     "text": [
      "Early stopping at epoch 15\n"
     ]
    },
    {
     "name": "stderr",
     "output_type": "stream",
     "text": [
      "[I 2024-09-12 21:16:25,819] Trial 88 finished with value: 0.6333333333333333 and parameters: {'sequence_length': 2, 'hidden_size': 118, 'num_layers': 1, 'num_blocks': 5, 'dropout_rate': 0.3335526874165129, 'lr': 0.008799780226826592}. Best is trial 67 with value: 0.75.\n"
     ]
    },
    {
     "name": "stdout",
     "output_type": "stream",
     "text": [
      "Early stopping at epoch 31\n"
     ]
    },
    {
     "name": "stderr",
     "output_type": "stream",
     "text": [
      "[I 2024-09-12 21:16:26,589] Trial 89 finished with value: 0.7 and parameters: {'sequence_length': 5, 'hidden_size': 128, 'num_layers': 1, 'num_blocks': 5, 'dropout_rate': 0.22494084343665605, 'lr': 0.009516967130784922}. Best is trial 67 with value: 0.75.\n"
     ]
    },
    {
     "name": "stdout",
     "output_type": "stream",
     "text": [
      "Early stopping at epoch 12\n"
     ]
    },
    {
     "name": "stderr",
     "output_type": "stream",
     "text": [
      "[I 2024-09-12 21:16:28,105] Trial 90 finished with value: 0.6 and parameters: {'sequence_length': 7, 'hidden_size': 123, 'num_layers': 1, 'num_blocks': 5, 'dropout_rate': 0.265844454904532, 'lr': 0.008545090437931864}. Best is trial 67 with value: 0.75.\n"
     ]
    },
    {
     "name": "stdout",
     "output_type": "stream",
     "text": [
      "Early stopping at epoch 25\n"
     ]
    },
    {
     "name": "stderr",
     "output_type": "stream",
     "text": [
      "[I 2024-09-12 21:16:28,994] Trial 91 finished with value: 0.7333333333333333 and parameters: {'sequence_length': 3, 'hidden_size': 115, 'num_layers': 1, 'num_blocks': 5, 'dropout_rate': 0.22069581134546415, 'lr': 0.009368656644345214}. Best is trial 67 with value: 0.75.\n"
     ]
    },
    {
     "name": "stdout",
     "output_type": "stream",
     "text": [
      "Early stopping at epoch 15\n"
     ]
    },
    {
     "name": "stderr",
     "output_type": "stream",
     "text": [
      "[I 2024-09-12 21:16:30,041] Trial 92 finished with value: 0.7166666666666667 and parameters: {'sequence_length': 4, 'hidden_size': 108, 'num_layers': 1, 'num_blocks': 5, 'dropout_rate': 0.24678513657806733, 'lr': 0.008883404636806124}. Best is trial 67 with value: 0.75.\n"
     ]
    },
    {
     "name": "stdout",
     "output_type": "stream",
     "text": [
      "Early stopping at epoch 17\n"
     ]
    },
    {
     "name": "stderr",
     "output_type": "stream",
     "text": [
      "[I 2024-09-12 21:16:30,719] Trial 93 finished with value: 0.75 and parameters: {'sequence_length': 3, 'hidden_size': 119, 'num_layers': 1, 'num_blocks': 5, 'dropout_rate': 0.2812801708258816, 'lr': 0.009163756388399032}. Best is trial 67 with value: 0.75.\n"
     ]
    },
    {
     "name": "stdout",
     "output_type": "stream",
     "text": [
      "Early stopping at epoch 11\n"
     ]
    },
    {
     "name": "stderr",
     "output_type": "stream",
     "text": [
      "[I 2024-09-12 21:16:32,037] Trial 94 finished with value: 0.6 and parameters: {'sequence_length': 2, 'hidden_size': 115, 'num_layers': 1, 'num_blocks': 5, 'dropout_rate': 0.23458286260680913, 'lr': 0.007561283108209428}. Best is trial 67 with value: 0.75.\n"
     ]
    },
    {
     "name": "stdout",
     "output_type": "stream",
     "text": [
      "Early stopping at epoch 24\n"
     ]
    },
    {
     "name": "stderr",
     "output_type": "stream",
     "text": [
      "[I 2024-09-12 21:16:32,869] Trial 95 finished with value: 0.7166666666666667 and parameters: {'sequence_length': 4, 'hidden_size': 125, 'num_layers': 1, 'num_blocks': 5, 'dropout_rate': 0.20995445208230232, 'lr': 0.008263613231750924}. Best is trial 67 with value: 0.75.\n"
     ]
    },
    {
     "name": "stdout",
     "output_type": "stream",
     "text": [
      "Early stopping at epoch 12\n"
     ]
    },
    {
     "name": "stderr",
     "output_type": "stream",
     "text": [
      "[I 2024-09-12 21:16:33,808] Trial 96 finished with value: 0.65 and parameters: {'sequence_length': 5, 'hidden_size': 120, 'num_layers': 1, 'num_blocks': 5, 'dropout_rate': 0.2981885813011744, 'lr': 0.009677514866596692}. Best is trial 67 with value: 0.75.\n"
     ]
    },
    {
     "name": "stdout",
     "output_type": "stream",
     "text": [
      "Early stopping at epoch 16\n"
     ]
    },
    {
     "name": "stderr",
     "output_type": "stream",
     "text": [
      "[I 2024-09-12 21:16:34,595] Trial 97 finished with value: 0.5666666666666667 and parameters: {'sequence_length': 8, 'hidden_size': 110, 'num_layers': 1, 'num_blocks': 5, 'dropout_rate': 0.25419126960305016, 'lr': 0.008067524865306208}. Best is trial 67 with value: 0.75.\n"
     ]
    },
    {
     "name": "stdout",
     "output_type": "stream",
     "text": [
      "Early stopping at epoch 13\n"
     ]
    },
    {
     "name": "stderr",
     "output_type": "stream",
     "text": [
      "[I 2024-09-12 21:16:35,248] Trial 98 finished with value: 0.75 and parameters: {'sequence_length': 3, 'hidden_size': 115, 'num_layers': 1, 'num_blocks': 5, 'dropout_rate': 0.24089377871101308, 'lr': 0.009351755611920993}. Best is trial 67 with value: 0.75.\n"
     ]
    },
    {
     "name": "stdout",
     "output_type": "stream",
     "text": [
      "Early stopping at epoch 10\n"
     ]
    },
    {
     "name": "stderr",
     "output_type": "stream",
     "text": [
      "[I 2024-09-12 21:16:36,281] Trial 99 finished with value: 0.6 and parameters: {'sequence_length': 2, 'hidden_size': 126, 'num_layers': 1, 'num_blocks': 5, 'dropout_rate': 0.31344268628978816, 'lr': 0.009005343445491072}. Best is trial 67 with value: 0.75.\n",
      "[I 2024-09-12 21:16:36,330] A new study created in memory with name: no-name-33649136-c288-4814-8195-3f0351e61058\n"
     ]
    },
    {
     "name": "stdout",
     "output_type": "stream",
     "text": [
      "Early stopping at epoch 17\n",
      "parameters for NVDA saved to ../models/best-hyperparameters/pytorch/lstm-classification/NVDA.json\n",
      "Best model for NVDA saved with accuracy: 0.75\n"
     ]
    },
    {
     "name": "stderr",
     "output_type": "stream",
     "text": [
      "[I 2024-09-12 21:16:37,788] Trial 0 finished with value: 27689136.0 and parameters: {'sequence_length': 20, 'hidden_size': 42, 'num_layers': 2, 'num_blocks': 5, 'dropout_rate': 0.31730072710316526, 'lr': 0.0017428418546606129}. Best is trial 0 with value: 27689136.0.\n"
     ]
    },
    {
     "name": "stdout",
     "output_type": "stream",
     "text": [
      "Early stopping at epoch 23\n"
     ]
    },
    {
     "name": "stderr",
     "output_type": "stream",
     "text": [
      "[I 2024-09-12 21:16:38,825] Trial 1 finished with value: 2828386.25 and parameters: {'sequence_length': 9, 'hidden_size': 34, 'num_layers': 1, 'num_blocks': 2, 'dropout_rate': 0.17095286338648674, 'lr': 0.005820358481239325}. Best is trial 1 with value: 2828386.25.\n"
     ]
    },
    {
     "name": "stdout",
     "output_type": "stream",
     "text": [
      "Early stopping at epoch 36\n"
     ]
    },
    {
     "name": "stderr",
     "output_type": "stream",
     "text": [
      "[I 2024-09-12 21:16:39,347] Trial 2 finished with value: 13658972.0 and parameters: {'sequence_length': 4, 'hidden_size': 86, 'num_layers': 1, 'num_blocks': 2, 'dropout_rate': 0.22396555584347877, 'lr': 0.0048521042130216215}. Best is trial 1 with value: 2828386.25.\n"
     ]
    },
    {
     "name": "stdout",
     "output_type": "stream",
     "text": [
      "Early stopping at epoch 18\n"
     ]
    },
    {
     "name": "stderr",
     "output_type": "stream",
     "text": [
      "[I 2024-09-12 21:16:40,300] Trial 3 finished with value: 7151986.0 and parameters: {'sequence_length': 3, 'hidden_size': 35, 'num_layers': 2, 'num_blocks': 4, 'dropout_rate': 0.23651319004203, 'lr': 0.002044956130939289}. Best is trial 1 with value: 2828386.25.\n"
     ]
    },
    {
     "name": "stdout",
     "output_type": "stream",
     "text": [
      "Early stopping at epoch 20\n"
     ]
    },
    {
     "name": "stderr",
     "output_type": "stream",
     "text": [
      "[I 2024-09-12 21:16:41,212] Trial 4 finished with value: 20756088.0 and parameters: {'sequence_length': 25, 'hidden_size': 108, 'num_layers': 1, 'num_blocks': 4, 'dropout_rate': 0.13785110957535185, 'lr': 0.004548532709998013}. Best is trial 1 with value: 2828386.25.\n"
     ]
    },
    {
     "name": "stdout",
     "output_type": "stream",
     "text": [
      "Early stopping at epoch 16\n"
     ]
    },
    {
     "name": "stderr",
     "output_type": "stream",
     "text": [
      "[I 2024-09-12 21:16:41,861] Trial 5 finished with value: 39793420.0 and parameters: {'sequence_length': 28, 'hidden_size': 102, 'num_layers': 2, 'num_blocks': 2, 'dropout_rate': 0.3215337996201124, 'lr': 0.008537193908936423}. Best is trial 1 with value: 2828386.25.\n"
     ]
    },
    {
     "name": "stdout",
     "output_type": "stream",
     "text": [
      "Early stopping at epoch 16\n"
     ]
    },
    {
     "name": "stderr",
     "output_type": "stream",
     "text": [
      "[I 2024-09-12 21:16:43,783] Trial 6 finished with value: 8786578.0 and parameters: {'sequence_length': 30, 'hidden_size': 21, 'num_layers': 3, 'num_blocks': 5, 'dropout_rate': 0.17789935557442527, 'lr': 0.00656131101498356}. Best is trial 1 with value: 2828386.25.\n"
     ]
    },
    {
     "name": "stdout",
     "output_type": "stream",
     "text": [
      "Early stopping at epoch 30\n"
     ]
    },
    {
     "name": "stderr",
     "output_type": "stream",
     "text": [
      "[I 2024-09-12 21:16:45,112] Trial 7 finished with value: 14535118.0 and parameters: {'sequence_length': 24, 'hidden_size': 111, 'num_layers': 3, 'num_blocks': 3, 'dropout_rate': 0.33619883345107837, 'lr': 0.004745616313652569}. Best is trial 1 with value: 2828386.25.\n"
     ]
    },
    {
     "name": "stdout",
     "output_type": "stream",
     "text": [
      "Early stopping at epoch 26\n"
     ]
    },
    {
     "name": "stderr",
     "output_type": "stream",
     "text": [
      "[I 2024-09-12 21:16:45,710] Trial 8 finished with value: 67326144.0 and parameters: {'sequence_length': 9, 'hidden_size': 21, 'num_layers': 1, 'num_blocks': 4, 'dropout_rate': 0.2616714346370884, 'lr': 0.004417620049277375}. Best is trial 1 with value: 2828386.25.\n"
     ]
    },
    {
     "name": "stdout",
     "output_type": "stream",
     "text": [
      "Early stopping at epoch 13\n"
     ]
    },
    {
     "name": "stderr",
     "output_type": "stream",
     "text": [
      "[I 2024-09-12 21:16:46,998] Trial 9 finished with value: 9488610.0 and parameters: {'sequence_length': 4, 'hidden_size': 57, 'num_layers': 2, 'num_blocks': 2, 'dropout_rate': 0.3314262574313023, 'lr': 0.003367545059225258}. Best is trial 1 with value: 2828386.25.\n"
     ]
    },
    {
     "name": "stdout",
     "output_type": "stream",
     "text": [
      "Early stopping at epoch 47\n"
     ]
    },
    {
     "name": "stderr",
     "output_type": "stream",
     "text": [
      "[I 2024-09-12 21:16:47,529] Trial 10 finished with value: 27238248.0 and parameters: {'sequence_length': 12, 'hidden_size': 74, 'num_layers': 1, 'num_blocks': 1, 'dropout_rate': 0.4651192251398852, 'lr': 0.009496905775302694}. Best is trial 1 with value: 2828386.25.\n"
     ]
    },
    {
     "name": "stdout",
     "output_type": "stream",
     "text": [
      "Early stopping at epoch 23\n"
     ]
    },
    {
     "name": "stderr",
     "output_type": "stream",
     "text": [
      "[I 2024-09-12 21:16:48,922] Trial 11 finished with value: 15734337.0 and parameters: {'sequence_length': 10, 'hidden_size': 44, 'num_layers': 2, 'num_blocks': 3, 'dropout_rate': 0.1376870677699903, 'lr': 0.00011698980853515556}. Best is trial 1 with value: 2828386.25.\n"
     ]
    },
    {
     "name": "stdout",
     "output_type": "stream",
     "text": [
      "Early stopping at epoch 34\n"
     ]
    },
    {
     "name": "stderr",
     "output_type": "stream",
     "text": [
      "[I 2024-09-12 21:16:50,359] Trial 12 finished with value: 32588454.0 and parameters: {'sequence_length': 2, 'hidden_size': 38, 'num_layers': 3, 'num_blocks': 4, 'dropout_rate': 0.21229674449609226, 'lr': 0.007020229424497376}. Best is trial 1 with value: 2828386.25.\n"
     ]
    },
    {
     "name": "stdout",
     "output_type": "stream",
     "text": [
      "Early stopping at epoch 26\n"
     ]
    },
    {
     "name": "stderr",
     "output_type": "stream",
     "text": [
      "[I 2024-09-12 21:16:51,113] Trial 13 finished with value: 8157199.5 and parameters: {'sequence_length': 15, 'hidden_size': 60, 'num_layers': 1, 'num_blocks': 1, 'dropout_rate': 0.4366124521147282, 'lr': 0.002495155011458774}. Best is trial 1 with value: 2828386.25.\n"
     ]
    },
    {
     "name": "stdout",
     "output_type": "stream",
     "text": [
      "Early stopping at epoch 33\n"
     ]
    },
    {
     "name": "stderr",
     "output_type": "stream",
     "text": [
      "[I 2024-09-12 21:16:53,367] Trial 14 finished with value: 4219718.0 and parameters: {'sequence_length': 7, 'hidden_size': 17, 'num_layers': 2, 'num_blocks': 3, 'dropout_rate': 0.10705231993479848, 'lr': 0.006684987235345862}. Best is trial 1 with value: 2828386.25.\n"
     ]
    },
    {
     "name": "stdout",
     "output_type": "stream",
     "text": [
      "Early stopping at epoch 57\n"
     ]
    },
    {
     "name": "stderr",
     "output_type": "stream",
     "text": [
      "[I 2024-09-12 21:17:06,947] Trial 15 finished with value: 112641.546875 and parameters: {'sequence_length': 8, 'hidden_size': 18, 'num_layers': 1, 'num_blocks': 2, 'dropout_rate': 0.10760339487085108, 'lr': 0.006591511827046353}. Best is trial 15 with value: 112641.546875.\n",
      "[I 2024-09-12 21:17:07,843] Trial 16 finished with value: 23702718.0 and parameters: {'sequence_length': 15, 'hidden_size': 29, 'num_layers': 1, 'num_blocks': 2, 'dropout_rate': 0.10094676234137004, 'lr': 0.00742755504168533}. Best is trial 15 with value: 112641.546875.\n"
     ]
    },
    {
     "name": "stdout",
     "output_type": "stream",
     "text": [
      "Early stopping at epoch 26\n"
     ]
    },
    {
     "name": "stderr",
     "output_type": "stream",
     "text": [
      "[I 2024-09-12 21:17:08,444] Trial 17 finished with value: 5099124.5 and parameters: {'sequence_length': 18, 'hidden_size': 126, 'num_layers': 1, 'num_blocks': 1, 'dropout_rate': 0.16657689355040015, 'lr': 0.00578906776623922}. Best is trial 15 with value: 112641.546875.\n"
     ]
    },
    {
     "name": "stdout",
     "output_type": "stream",
     "text": [
      "Early stopping at epoch 21\n"
     ]
    },
    {
     "name": "stderr",
     "output_type": "stream",
     "text": [
      "[I 2024-09-12 21:17:09,068] Trial 18 finished with value: 28595014.0 and parameters: {'sequence_length': 7, 'hidden_size': 54, 'num_layers': 1, 'num_blocks': 2, 'dropout_rate': 0.3937657512120643, 'lr': 0.008480552723347681}. Best is trial 15 with value: 112641.546875.\n"
     ]
    },
    {
     "name": "stdout",
     "output_type": "stream",
     "text": [
      "Early stopping at epoch 21\n"
     ]
    },
    {
     "name": "stderr",
     "output_type": "stream",
     "text": [
      "[I 2024-09-12 21:17:10,170] Trial 19 finished with value: 8754666.0 and parameters: {'sequence_length': 12, 'hidden_size': 75, 'num_layers': 1, 'num_blocks': 3, 'dropout_rate': 0.27413776833567, 'lr': 0.005549815080253851}. Best is trial 15 with value: 112641.546875.\n"
     ]
    },
    {
     "name": "stdout",
     "output_type": "stream",
     "text": [
      "Early stopping at epoch 31\n"
     ]
    },
    {
     "name": "stderr",
     "output_type": "stream",
     "text": [
      "[I 2024-09-12 21:17:10,990] Trial 20 finished with value: 6002094.0 and parameters: {'sequence_length': 7, 'hidden_size': 28, 'num_layers': 1, 'num_blocks': 1, 'dropout_rate': 0.1833875681389016, 'lr': 0.008022140440211165}. Best is trial 15 with value: 112641.546875.\n"
     ]
    },
    {
     "name": "stdout",
     "output_type": "stream",
     "text": [
      "Early stopping at epoch 39\n"
     ]
    },
    {
     "name": "stderr",
     "output_type": "stream",
     "text": [
      "[I 2024-09-12 21:17:11,896] Trial 21 finished with value: 13810175.0 and parameters: {'sequence_length': 7, 'hidden_size': 17, 'num_layers': 2, 'num_blocks': 3, 'dropout_rate': 0.10183630698030267, 'lr': 0.006383396207777821}. Best is trial 15 with value: 112641.546875.\n"
     ]
    },
    {
     "name": "stdout",
     "output_type": "stream",
     "text": [
      "Early stopping at epoch 23\n"
     ]
    },
    {
     "name": "stderr",
     "output_type": "stream",
     "text": [
      "[I 2024-09-12 21:17:13,336] Trial 22 finished with value: 8207925.0 and parameters: {'sequence_length': 12, 'hidden_size': 16, 'num_layers': 3, 'num_blocks': 3, 'dropout_rate': 0.1404874147674902, 'lr': 0.005753585695520003}. Best is trial 15 with value: 112641.546875.\n"
     ]
    },
    {
     "name": "stdout",
     "output_type": "stream",
     "text": [
      "Early stopping at epoch 27\n"
     ]
    },
    {
     "name": "stderr",
     "output_type": "stream",
     "text": [
      "[I 2024-09-12 21:17:14,444] Trial 23 finished with value: 5376052.0 and parameters: {'sequence_length': 9, 'hidden_size': 29, 'num_layers': 2, 'num_blocks': 2, 'dropout_rate': 0.10179362071537096, 'lr': 0.009931932946999603}. Best is trial 15 with value: 112641.546875.\n"
     ]
    },
    {
     "name": "stdout",
     "output_type": "stream",
     "text": [
      "Early stopping at epoch 32\n"
     ]
    },
    {
     "name": "stderr",
     "output_type": "stream",
     "text": [
      "[I 2024-09-12 21:17:16,545] Trial 24 finished with value: 3653518.5 and parameters: {'sequence_length': 5, 'hidden_size': 48, 'num_layers': 1, 'num_blocks': 3, 'dropout_rate': 0.14991564178139236, 'lr': 0.007015906487419437}. Best is trial 15 with value: 112641.546875.\n"
     ]
    },
    {
     "name": "stdout",
     "output_type": "stream",
     "text": [
      "Early stopping at epoch 59\n"
     ]
    },
    {
     "name": "stderr",
     "output_type": "stream",
     "text": [
      "[I 2024-09-12 21:17:17,298] Trial 25 finished with value: 17859324.0 and parameters: {'sequence_length': 5, 'hidden_size': 45, 'num_layers': 1, 'num_blocks': 2, 'dropout_rate': 0.18491360187150302, 'lr': 0.007683302299411124}. Best is trial 15 with value: 112641.546875.\n"
     ]
    },
    {
     "name": "stdout",
     "output_type": "stream",
     "text": [
      "Early stopping at epoch 22\n"
     ]
    },
    {
     "name": "stderr",
     "output_type": "stream",
     "text": [
      "[I 2024-09-12 21:17:18,254] Trial 26 finished with value: 22196398.0 and parameters: {'sequence_length': 11, 'hidden_size': 50, 'num_layers': 1, 'num_blocks': 2, 'dropout_rate': 0.15687315603359522, 'lr': 0.0036896029901669946}. Best is trial 15 with value: 112641.546875.\n"
     ]
    },
    {
     "name": "stdout",
     "output_type": "stream",
     "text": [
      "Early stopping at epoch 27\n"
     ]
    },
    {
     "name": "stderr",
     "output_type": "stream",
     "text": [
      "[I 2024-09-12 21:17:19,288] Trial 27 finished with value: 9947522.0 and parameters: {'sequence_length': 5, 'hidden_size': 62, 'num_layers': 1, 'num_blocks': 3, 'dropout_rate': 0.2106317586257535, 'lr': 0.008918415232602688}. Best is trial 15 with value: 112641.546875.\n"
     ]
    },
    {
     "name": "stdout",
     "output_type": "stream",
     "text": [
      "Early stopping at epoch 27\n"
     ]
    },
    {
     "name": "stderr",
     "output_type": "stream",
     "text": [
      "[I 2024-09-12 21:17:20,019] Trial 28 finished with value: 8886921.0 and parameters: {'sequence_length': 14, 'hidden_size': 34, 'num_layers': 1, 'num_blocks': 1, 'dropout_rate': 0.2589181432575665, 'lr': 0.005657184496566553}. Best is trial 15 with value: 112641.546875.\n"
     ]
    },
    {
     "name": "stdout",
     "output_type": "stream",
     "text": [
      "Early stopping at epoch 30\n"
     ]
    },
    {
     "name": "stderr",
     "output_type": "stream",
     "text": [
      "[I 2024-09-12 21:17:21,355] Trial 29 finished with value: 11155838.0 and parameters: {'sequence_length': 18, 'hidden_size': 68, 'num_layers': 1, 'num_blocks': 5, 'dropout_rate': 0.13436120622017933, 'lr': 0.007052841475948554}. Best is trial 15 with value: 112641.546875.\n"
     ]
    },
    {
     "name": "stdout",
     "output_type": "stream",
     "text": [
      "Early stopping at epoch 24\n"
     ]
    },
    {
     "name": "stderr",
     "output_type": "stream",
     "text": [
      "[I 2024-09-12 21:17:22,259] Trial 30 finished with value: 7795071.5 and parameters: {'sequence_length': 2, 'hidden_size': 46, 'num_layers': 1, 'num_blocks': 2, 'dropout_rate': 0.2953644321575539, 'lr': 0.0037722368360165346}. Best is trial 15 with value: 112641.546875.\n"
     ]
    },
    {
     "name": "stdout",
     "output_type": "stream",
     "text": [
      "Early stopping at epoch 33\n"
     ]
    },
    {
     "name": "stderr",
     "output_type": "stream",
     "text": [
      "[I 2024-09-12 21:17:23,301] Trial 31 finished with value: 18512724.0 and parameters: {'sequence_length': 7, 'hidden_size': 25, 'num_layers': 2, 'num_blocks': 3, 'dropout_rate': 0.12102315920143178, 'lr': 0.006485746913201631}. Best is trial 15 with value: 112641.546875.\n"
     ]
    },
    {
     "name": "stdout",
     "output_type": "stream",
     "text": [
      "Early stopping at epoch 26\n"
     ]
    },
    {
     "name": "stderr",
     "output_type": "stream",
     "text": [
      "[I 2024-09-12 21:17:24,139] Trial 32 finished with value: 31894880.0 and parameters: {'sequence_length': 6, 'hidden_size': 34, 'num_layers': 2, 'num_blocks': 3, 'dropout_rate': 0.15676348226344639, 'lr': 0.006716130293416679}. Best is trial 15 with value: 112641.546875.\n"
     ]
    },
    {
     "name": "stdout",
     "output_type": "stream",
     "text": [
      "Early stopping at epoch 19\n"
     ]
    },
    {
     "name": "stderr",
     "output_type": "stream",
     "text": [
      "[I 2024-09-12 21:17:25,410] Trial 33 finished with value: 21404038.0 and parameters: {'sequence_length': 9, 'hidden_size': 41, 'num_layers': 2, 'num_blocks': 4, 'dropout_rate': 0.19809160017185015, 'lr': 0.005337236941420043}. Best is trial 15 with value: 112641.546875.\n"
     ]
    },
    {
     "name": "stdout",
     "output_type": "stream",
     "text": [
      "Early stopping at epoch 21\n"
     ]
    },
    {
     "name": "stderr",
     "output_type": "stream",
     "text": [
      "[I 2024-09-12 21:17:26,756] Trial 34 finished with value: 12924248.0 and parameters: {'sequence_length': 4, 'hidden_size': 25, 'num_layers': 1, 'num_blocks': 3, 'dropout_rate': 0.23759504191406985, 'lr': 0.0061388610418792785}. Best is trial 15 with value: 112641.546875.\n"
     ]
    },
    {
     "name": "stdout",
     "output_type": "stream",
     "text": [
      "Early stopping at epoch 38\n"
     ]
    },
    {
     "name": "stderr",
     "output_type": "stream",
     "text": [
      "[I 2024-09-12 21:17:27,587] Trial 35 finished with value: 24209304.0 and parameters: {'sequence_length': 8, 'hidden_size': 86, 'num_layers': 1, 'num_blocks': 4, 'dropout_rate': 0.12187691361146566, 'lr': 0.007666655608469347}. Best is trial 15 with value: 112641.546875.\n"
     ]
    },
    {
     "name": "stdout",
     "output_type": "stream",
     "text": [
      "Early stopping at epoch 16\n"
     ]
    },
    {
     "name": "stderr",
     "output_type": "stream",
     "text": [
      "[I 2024-09-12 21:17:28,227] Trial 36 finished with value: 16510663.0 and parameters: {'sequence_length': 5, 'hidden_size': 35, 'num_layers': 2, 'num_blocks': 2, 'dropout_rate': 0.15244595837364797, 'lr': 0.004992000946200129}. Best is trial 15 with value: 112641.546875.\n"
     ]
    },
    {
     "name": "stdout",
     "output_type": "stream",
     "text": [
      "Early stopping at epoch 16\n"
     ]
    },
    {
     "name": "stderr",
     "output_type": "stream",
     "text": [
      "[I 2024-09-12 21:17:28,911] Trial 37 finished with value: 27867254.0 and parameters: {'sequence_length': 10, 'hidden_size': 22, 'num_layers': 3, 'num_blocks': 2, 'dropout_rate': 0.3665632916412421, 'lr': 0.008248430646938771}. Best is trial 15 with value: 112641.546875.\n"
     ]
    },
    {
     "name": "stdout",
     "output_type": "stream",
     "text": [
      "Early stopping at epoch 14\n"
     ]
    },
    {
     "name": "stderr",
     "output_type": "stream",
     "text": [
      "[I 2024-09-12 21:17:29,577] Trial 38 finished with value: 22329904.0 and parameters: {'sequence_length': 13, 'hidden_size': 31, 'num_layers': 1, 'num_blocks': 3, 'dropout_rate': 0.18502723653681785, 'lr': 0.007212134854941597}. Best is trial 15 with value: 112641.546875.\n"
     ]
    },
    {
     "name": "stdout",
     "output_type": "stream",
     "text": [
      "Early stopping at epoch 16\n"
     ]
    },
    {
     "name": "stderr",
     "output_type": "stream",
     "text": [
      "[I 2024-09-12 21:17:30,314] Trial 39 finished with value: 24732948.0 and parameters: {'sequence_length': 21, 'hidden_size': 17, 'num_layers': 2, 'num_blocks': 2, 'dropout_rate': 0.12202360644098517, 'lr': 0.00610614034026066}. Best is trial 15 with value: 112641.546875.\n"
     ]
    },
    {
     "name": "stdout",
     "output_type": "stream",
     "text": [
      "Early stopping at epoch 21\n"
     ]
    },
    {
     "name": "stderr",
     "output_type": "stream",
     "text": [
      "[I 2024-09-12 21:17:45,558] Trial 40 finished with value: 45.360801696777344 and parameters: {'sequence_length': 3, 'hidden_size': 39, 'num_layers': 3, 'num_blocks': 4, 'dropout_rate': 0.16494038562805713, 'lr': 0.0044554902780541035}. Best is trial 40 with value: 45.360801696777344.\n"
     ]
    },
    {
     "name": "stdout",
     "output_type": "stream",
     "text": [
      "Early stopping at epoch 306\n"
     ]
    },
    {
     "name": "stderr",
     "output_type": "stream",
     "text": [
      "[I 2024-09-12 21:17:47,109] Trial 41 finished with value: 14206960.0 and parameters: {'sequence_length': 2, 'hidden_size': 51, 'num_layers': 3, 'num_blocks': 5, 'dropout_rate': 0.16620390189235312, 'lr': 0.004274460933596234}. Best is trial 40 with value: 45.360801696777344.\n"
     ]
    },
    {
     "name": "stdout",
     "output_type": "stream",
     "text": [
      "Early stopping at epoch 22\n"
     ]
    },
    {
     "name": "stderr",
     "output_type": "stream",
     "text": [
      "[I 2024-09-12 21:17:48,652] Trial 42 finished with value: 17311680.0 and parameters: {'sequence_length': 4, 'hidden_size': 40, 'num_layers': 3, 'num_blocks': 4, 'dropout_rate': 0.24181902351567539, 'lr': 0.005108047087733214}. Best is trial 40 with value: 45.360801696777344.\n"
     ]
    },
    {
     "name": "stdout",
     "output_type": "stream",
     "text": [
      "Early stopping at epoch 26\n"
     ]
    },
    {
     "name": "stderr",
     "output_type": "stream",
     "text": [
      "[I 2024-09-12 21:17:50,018] Trial 43 finished with value: 9739287.0 and parameters: {'sequence_length': 3, 'hidden_size': 21, 'num_layers': 2, 'num_blocks': 4, 'dropout_rate': 0.1223725280172048, 'lr': 0.003134621774790154}. Best is trial 40 with value: 45.360801696777344.\n"
     ]
    },
    {
     "name": "stdout",
     "output_type": "stream",
     "text": [
      "Early stopping at epoch 28\n"
     ]
    },
    {
     "name": "stderr",
     "output_type": "stream",
     "text": [
      "[I 2024-09-12 21:17:51,096] Trial 44 finished with value: 10232499.0 and parameters: {'sequence_length': 6, 'hidden_size': 25, 'num_layers': 3, 'num_blocks': 4, 'dropout_rate': 0.20845364564444704, 'lr': 0.006753865888902995}. Best is trial 40 with value: 45.360801696777344.\n"
     ]
    },
    {
     "name": "stdout",
     "output_type": "stream",
     "text": [
      "Early stopping at epoch 16\n"
     ]
    },
    {
     "name": "stderr",
     "output_type": "stream",
     "text": [
      "[I 2024-09-12 21:18:12,167] Trial 45 finished with value: 46304.44921875 and parameters: {'sequence_length': 8, 'hidden_size': 38, 'num_layers': 3, 'num_blocks': 3, 'dropout_rate': 0.14255350774832903, 'lr': 0.004421379625796596}. Best is trial 40 with value: 45.360801696777344.\n",
      "[I 2024-09-12 21:18:13,843] Trial 46 finished with value: 12057916.0 and parameters: {'sequence_length': 10, 'hidden_size': 47, 'num_layers': 3, 'num_blocks': 4, 'dropout_rate': 0.14965502674592798, 'lr': 0.004347347514119051}. Best is trial 40 with value: 45.360801696777344.\n"
     ]
    },
    {
     "name": "stdout",
     "output_type": "stream",
     "text": [
      "Early stopping at epoch 30\n"
     ]
    },
    {
     "name": "stderr",
     "output_type": "stream",
     "text": [
      "[I 2024-09-12 21:18:15,856] Trial 47 finished with value: 16442838.0 and parameters: {'sequence_length': 8, 'hidden_size': 37, 'num_layers': 3, 'num_blocks': 5, 'dropout_rate': 0.2267602319644182, 'lr': 0.0017575482849646771}. Best is trial 40 with value: 45.360801696777344.\n"
     ]
    },
    {
     "name": "stdout",
     "output_type": "stream",
     "text": [
      "Early stopping at epoch 29\n"
     ]
    },
    {
     "name": "stderr",
     "output_type": "stream",
     "text": [
      "[I 2024-09-12 21:18:17,571] Trial 48 finished with value: 10492977.0 and parameters: {'sequence_length': 3, 'hidden_size': 84, 'num_layers': 3, 'num_blocks': 3, 'dropout_rate': 0.16952556106303893, 'lr': 0.0026862519704501124}. Best is trial 40 with value: 45.360801696777344.\n"
     ]
    },
    {
     "name": "stdout",
     "output_type": "stream",
     "text": [
      "Early stopping at epoch 38\n"
     ]
    },
    {
     "name": "stderr",
     "output_type": "stream",
     "text": [
      "[I 2024-09-12 21:18:18,970] Trial 49 finished with value: 5495330.5 and parameters: {'sequence_length': 5, 'hidden_size': 63, 'num_layers': 3, 'num_blocks': 3, 'dropout_rate': 0.20029618737143345, 'lr': 0.004022721898715261}. Best is trial 40 with value: 45.360801696777344.\n"
     ]
    },
    {
     "name": "stdout",
     "output_type": "stream",
     "text": [
      "Early stopping at epoch 31\n"
     ]
    },
    {
     "name": "stderr",
     "output_type": "stream",
     "text": [
      "[I 2024-09-12 21:18:19,558] Trial 50 finished with value: 15673933.0 and parameters: {'sequence_length': 25, 'hidden_size': 99, 'num_layers': 1, 'num_blocks': 1, 'dropout_rate': 0.1371090331773236, 'lr': 0.004695509365010447}. Best is trial 40 with value: 45.360801696777344.\n"
     ]
    },
    {
     "name": "stdout",
     "output_type": "stream",
     "text": [
      "Early stopping at epoch 23\n"
     ]
    },
    {
     "name": "stderr",
     "output_type": "stream",
     "text": [
      "[I 2024-09-12 21:18:20,460] Trial 51 finished with value: 103314272.0 and parameters: {'sequence_length': 8, 'hidden_size': 41, 'num_layers': 3, 'num_blocks': 3, 'dropout_rate': 0.1129842110013343, 'lr': 0.0006325974290176273}. Best is trial 40 with value: 45.360801696777344.\n"
     ]
    },
    {
     "name": "stdout",
     "output_type": "stream",
     "text": [
      "Early stopping at epoch 17\n"
     ]
    },
    {
     "name": "stderr",
     "output_type": "stream",
     "text": [
      "[I 2024-09-12 21:18:21,545] Trial 52 finished with value: 9994151.0 and parameters: {'sequence_length': 6, 'hidden_size': 55, 'num_layers': 2, 'num_blocks': 3, 'dropout_rate': 0.13694273058170717, 'lr': 0.00629427852585571}. Best is trial 40 with value: 45.360801696777344.\n"
     ]
    },
    {
     "name": "stdout",
     "output_type": "stream",
     "text": [
      "Early stopping at epoch 26\n"
     ]
    },
    {
     "name": "stderr",
     "output_type": "stream",
     "text": [
      "[I 2024-09-12 21:18:22,028] Trial 53 finished with value: 18676274.0 and parameters: {'sequence_length': 11, 'hidden_size': 31, 'num_layers': 1, 'num_blocks': 2, 'dropout_rate': 0.17309685610738484, 'lr': 0.005278917928123405}. Best is trial 40 with value: 45.360801696777344.\n"
     ]
    },
    {
     "name": "stdout",
     "output_type": "stream",
     "text": [
      "Early stopping at epoch 13\n"
     ]
    },
    {
     "name": "stderr",
     "output_type": "stream",
     "text": [
      "[I 2024-09-12 21:18:22,754] Trial 54 finished with value: 24707938.0 and parameters: {'sequence_length': 9, 'hidden_size': 20, 'num_layers': 1, 'num_blocks': 2, 'dropout_rate': 0.1018635517581407, 'lr': 0.005851963438926593}. Best is trial 40 with value: 45.360801696777344.\n"
     ]
    },
    {
     "name": "stdout",
     "output_type": "stream",
     "text": [
      "Early stopping at epoch 24\n"
     ]
    },
    {
     "name": "stderr",
     "output_type": "stream",
     "text": [
      "[I 2024-09-12 21:18:24,378] Trial 55 finished with value: 10667283.0 and parameters: {'sequence_length': 3, 'hidden_size': 27, 'num_layers': 3, 'num_blocks': 3, 'dropout_rate': 0.1486017453647006, 'lr': 0.004806733323595187}. Best is trial 40 with value: 45.360801696777344.\n"
     ]
    },
    {
     "name": "stdout",
     "output_type": "stream",
     "text": [
      "Early stopping at epoch 37\n"
     ]
    },
    {
     "name": "stderr",
     "output_type": "stream",
     "text": [
      "[I 2024-09-12 21:18:26,307] Trial 56 finished with value: 7535307.5 and parameters: {'sequence_length': 30, 'hidden_size': 50, 'num_layers': 2, 'num_blocks': 3, 'dropout_rate': 0.4920347371430349, 'lr': 0.007448299283059498}. Best is trial 40 with value: 45.360801696777344.\n"
     ]
    },
    {
     "name": "stdout",
     "output_type": "stream",
     "text": [
      "Early stopping at epoch 48\n"
     ]
    },
    {
     "name": "stderr",
     "output_type": "stream",
     "text": [
      "[I 2024-09-12 21:18:27,088] Trial 57 finished with value: 18101300.0 and parameters: {'sequence_length': 6, 'hidden_size': 33, 'num_layers': 1, 'num_blocks': 4, 'dropout_rate': 0.12919488751241145, 'lr': 0.007139706461415174}. Best is trial 40 with value: 45.360801696777344.\n"
     ]
    },
    {
     "name": "stdout",
     "output_type": "stream",
     "text": [
      "Early stopping at epoch 17\n"
     ]
    },
    {
     "name": "stderr",
     "output_type": "stream",
     "text": [
      "[I 2024-09-12 21:18:27,672] Trial 58 finished with value: 19836498.0 and parameters: {'sequence_length': 11, 'hidden_size': 37, 'num_layers': 3, 'num_blocks': 2, 'dropout_rate': 0.19039857107151986, 'lr': 0.003293328081700202}. Best is trial 40 with value: 45.360801696777344.\n"
     ]
    },
    {
     "name": "stdout",
     "output_type": "stream",
     "text": [
      "Early stopping at epoch 15\n"
     ]
    },
    {
     "name": "stderr",
     "output_type": "stream",
     "text": [
      "[I 2024-09-12 21:18:28,319] Trial 59 finished with value: 19301734.0 and parameters: {'sequence_length': 17, 'hidden_size': 44, 'num_layers': 1, 'num_blocks': 3, 'dropout_rate': 0.11158028381445351, 'lr': 0.00792638081188244}. Best is trial 40 with value: 45.360801696777344.\n"
     ]
    },
    {
     "name": "stdout",
     "output_type": "stream",
     "text": [
      "Early stopping at epoch 16\n"
     ]
    },
    {
     "name": "stderr",
     "output_type": "stream",
     "text": [
      "[I 2024-09-12 21:18:28,745] Trial 60 finished with value: 6683983.5 and parameters: {'sequence_length': 22, 'hidden_size': 20, 'num_layers': 2, 'num_blocks': 1, 'dropout_rate': 0.1447135370541445, 'lr': 0.009031690953892422}. Best is trial 40 with value: 45.360801696777344.\n"
     ]
    },
    {
     "name": "stdout",
     "output_type": "stream",
     "text": [
      "Early stopping at epoch 16\n"
     ]
    },
    {
     "name": "stderr",
     "output_type": "stream",
     "text": [
      "[I 2024-09-12 21:18:29,304] Trial 61 finished with value: 27939436.0 and parameters: {'sequence_length': 19, 'hidden_size': 104, 'num_layers': 1, 'num_blocks': 1, 'dropout_rate': 0.1707182772419661, 'lr': 0.005870661035902347}. Best is trial 40 with value: 45.360801696777344.\n"
     ]
    },
    {
     "name": "stdout",
     "output_type": "stream",
     "text": [
      "Early stopping at epoch 21\n"
     ]
    },
    {
     "name": "stderr",
     "output_type": "stream",
     "text": [
      "[I 2024-09-12 21:18:29,883] Trial 62 finished with value: 38083512.0 and parameters: {'sequence_length': 16, 'hidden_size': 114, 'num_layers': 1, 'num_blocks': 1, 'dropout_rate': 0.1539950678722093, 'lr': 0.005496012014194359}. Best is trial 40 with value: 45.360801696777344.\n"
     ]
    },
    {
     "name": "stdout",
     "output_type": "stream",
     "text": [
      "Early stopping at epoch 23\n"
     ]
    },
    {
     "name": "stderr",
     "output_type": "stream",
     "text": [
      "[I 2024-09-12 21:18:30,382] Trial 63 finished with value: 18879276.0 and parameters: {'sequence_length': 7, 'hidden_size': 81, 'num_layers': 1, 'num_blocks': 1, 'dropout_rate': 0.1627983748546902, 'lr': 0.006775353903227631}. Best is trial 40 with value: 45.360801696777344.\n"
     ]
    },
    {
     "name": "stdout",
     "output_type": "stream",
     "text": [
      "Early stopping at epoch 21\n"
     ]
    },
    {
     "name": "stderr",
     "output_type": "stream",
     "text": [
      "[I 2024-09-12 21:18:31,059] Trial 64 finished with value: 21598370.0 and parameters: {'sequence_length': 14, 'hidden_size': 30, 'num_layers': 1, 'num_blocks': 3, 'dropout_rate': 0.11045798791619227, 'lr': 0.005957049419671615}. Best is trial 40 with value: 45.360801696777344.\n"
     ]
    },
    {
     "name": "stdout",
     "output_type": "stream",
     "text": [
      "Early stopping at epoch 18\n"
     ]
    },
    {
     "name": "stderr",
     "output_type": "stream",
     "text": [
      "[I 2024-09-12 21:18:31,772] Trial 65 finished with value: 37416608.0 and parameters: {'sequence_length': 4, 'hidden_size': 128, 'num_layers': 1, 'num_blocks': 2, 'dropout_rate': 0.17798465743064187, 'lr': 0.006560217528319072}. Best is trial 40 with value: 45.360801696777344.\n"
     ]
    },
    {
     "name": "stdout",
     "output_type": "stream",
     "text": [
      "Early stopping at epoch 21\n"
     ]
    },
    {
     "name": "stderr",
     "output_type": "stream",
     "text": [
      "[I 2024-09-12 21:18:32,962] Trial 66 finished with value: 5117297.0 and parameters: {'sequence_length': 18, 'hidden_size': 122, 'num_layers': 1, 'num_blocks': 1, 'dropout_rate': 0.40724034327905745, 'lr': 0.004498006548127875}. Best is trial 40 with value: 45.360801696777344.\n"
     ]
    },
    {
     "name": "stdout",
     "output_type": "stream",
     "text": [
      "Early stopping at epoch 50\n"
     ]
    },
    {
     "name": "stderr",
     "output_type": "stream",
     "text": [
      "[I 2024-09-12 21:18:33,675] Trial 67 finished with value: 20071876.0 and parameters: {'sequence_length': 8, 'hidden_size': 66, 'num_layers': 1, 'num_blocks': 3, 'dropout_rate': 0.22206192844030936, 'lr': 0.0051077523403275735}. Best is trial 40 with value: 45.360801696777344.\n"
     ]
    },
    {
     "name": "stdout",
     "output_type": "stream",
     "text": [
      "Early stopping at epoch 20\n"
     ]
    },
    {
     "name": "stderr",
     "output_type": "stream",
     "text": [
      "[I 2024-09-12 21:18:34,439] Trial 68 finished with value: 18404018.0 and parameters: {'sequence_length': 5, 'hidden_size': 58, 'num_layers': 1, 'num_blocks': 2, 'dropout_rate': 0.12961438832746072, 'lr': 0.003920158689928701}. Best is trial 40 with value: 45.360801696777344.\n"
     ]
    },
    {
     "name": "stdout",
     "output_type": "stream",
     "text": [
      "Early stopping at epoch 27\n"
     ]
    },
    {
     "name": "stderr",
     "output_type": "stream",
     "text": [
      "[I 2024-09-12 21:18:35,285] Trial 69 finished with value: 15745411.0 and parameters: {'sequence_length': 20, 'hidden_size': 91, 'num_layers': 1, 'num_blocks': 2, 'dropout_rate': 0.2929277923615704, 'lr': 0.006276149918080238}. Best is trial 40 with value: 45.360801696777344.\n"
     ]
    },
    {
     "name": "stdout",
     "output_type": "stream",
     "text": [
      "Early stopping at epoch 26\n"
     ]
    },
    {
     "name": "stderr",
     "output_type": "stream",
     "text": [
      "[I 2024-09-12 21:18:36,551] Trial 70 finished with value: 22065264.0 and parameters: {'sequence_length': 10, 'hidden_size': 16, 'num_layers': 2, 'num_blocks': 4, 'dropout_rate': 0.14387317784982695, 'lr': 0.0068385460476604}. Best is trial 40 with value: 45.360801696777344.\n"
     ]
    },
    {
     "name": "stdout",
     "output_type": "stream",
     "text": [
      "Early stopping at epoch 25\n"
     ]
    },
    {
     "name": "stderr",
     "output_type": "stream",
     "text": [
      "[I 2024-09-12 21:18:37,309] Trial 71 finished with value: 7781998.0 and parameters: {'sequence_length': 18, 'hidden_size': 125, 'num_layers': 1, 'num_blocks': 1, 'dropout_rate': 0.41703224014925844, 'lr': 0.004213272378258754}. Best is trial 40 with value: 45.360801696777344.\n"
     ]
    },
    {
     "name": "stdout",
     "output_type": "stream",
     "text": [
      "Early stopping at epoch 26\n"
     ]
    },
    {
     "name": "stderr",
     "output_type": "stream",
     "text": [
      "[I 2024-09-12 21:18:37,878] Trial 72 finished with value: 16251534.0 and parameters: {'sequence_length': 16, 'hidden_size': 120, 'num_layers': 1, 'num_blocks': 1, 'dropout_rate': 0.3661007309277004, 'lr': 0.00466612134945224}. Best is trial 40 with value: 45.360801696777344.\n"
     ]
    },
    {
     "name": "stdout",
     "output_type": "stream",
     "text": [
      "Early stopping at epoch 21\n"
     ]
    },
    {
     "name": "stderr",
     "output_type": "stream",
     "text": [
      "[I 2024-09-12 21:18:38,619] Trial 73 finished with value: 30378722.0 and parameters: {'sequence_length': 22, 'hidden_size': 114, 'num_layers': 1, 'num_blocks': 1, 'dropout_rate': 0.19378484876851232, 'lr': 0.0035091752725624195}. Best is trial 40 with value: 45.360801696777344.\n"
     ]
    },
    {
     "name": "stdout",
     "output_type": "stream",
     "text": [
      "Early stopping at epoch 30\n"
     ]
    },
    {
     "name": "stderr",
     "output_type": "stream",
     "text": [
      "[I 2024-09-12 21:18:39,500] Trial 74 finished with value: 12815438.0 and parameters: {'sequence_length': 18, 'hidden_size': 119, 'num_layers': 1, 'num_blocks': 1, 'dropout_rate': 0.45829928063973524, 'lr': 0.004502999863270138}. Best is trial 40 with value: 45.360801696777344.\n"
     ]
    },
    {
     "name": "stdout",
     "output_type": "stream",
     "text": [
      "Early stopping at epoch 37\n"
     ]
    },
    {
     "name": "stderr",
     "output_type": "stream",
     "text": [
      "[I 2024-09-12 21:18:40,134] Trial 75 finished with value: 10424732.0 and parameters: {'sequence_length': 15, 'hidden_size': 122, 'num_layers': 1, 'num_blocks': 3, 'dropout_rate': 0.31041836717071136, 'lr': 0.005314542520974049}. Best is trial 40 with value: 45.360801696777344.\n"
     ]
    },
    {
     "name": "stdout",
     "output_type": "stream",
     "text": [
      "Early stopping at epoch 13\n"
     ]
    },
    {
     "name": "stderr",
     "output_type": "stream",
     "text": [
      "[I 2024-09-12 21:18:41,107] Trial 76 finished with value: 9364944.0 and parameters: {'sequence_length': 17, 'hidden_size': 24, 'num_layers': 1, 'num_blocks': 1, 'dropout_rate': 0.3367581520281543, 'lr': 0.005636088206636416}. Best is trial 40 with value: 45.360801696777344.\n"
     ]
    },
    {
     "name": "stdout",
     "output_type": "stream",
     "text": [
      "Early stopping at epoch 47\n"
     ]
    },
    {
     "name": "stderr",
     "output_type": "stream",
     "text": [
      "[I 2024-09-12 21:18:41,981] Trial 77 finished with value: 28685796.0 and parameters: {'sequence_length': 9, 'hidden_size': 38, 'num_layers': 3, 'num_blocks': 3, 'dropout_rate': 0.3998093923172339, 'lr': 0.007441108055204516}. Best is trial 40 with value: 45.360801696777344.\n"
     ]
    },
    {
     "name": "stdout",
     "output_type": "stream",
     "text": [
      "Early stopping at epoch 18\n"
     ]
    },
    {
     "name": "stderr",
     "output_type": "stream",
     "text": [
      "[I 2024-09-12 21:18:42,589] Trial 78 finished with value: 15111685.0 and parameters: {'sequence_length': 19, 'hidden_size': 47, 'num_layers': 2, 'num_blocks': 2, 'dropout_rate': 0.15830584006370005, 'lr': 0.006445343464365913}. Best is trial 40 with value: 45.360801696777344.\n"
     ]
    },
    {
     "name": "stdout",
     "output_type": "stream",
     "text": [
      "Early stopping at epoch 17\n"
     ]
    },
    {
     "name": "stderr",
     "output_type": "stream",
     "text": [
      "[I 2024-09-12 21:18:43,679] Trial 79 finished with value: 10603151.0 and parameters: {'sequence_length': 7, 'hidden_size': 72, 'num_layers': 1, 'num_blocks': 3, 'dropout_rate': 0.11657084341119323, 'lr': 0.004980962282741966}. Best is trial 40 with value: 45.360801696777344.\n"
     ]
    },
    {
     "name": "stdout",
     "output_type": "stream",
     "text": [
      "Early stopping at epoch 31\n"
     ]
    },
    {
     "name": "stderr",
     "output_type": "stream",
     "text": [
      "[I 2024-09-12 21:18:45,682] Trial 80 finished with value: 7600490.5 and parameters: {'sequence_length': 2, 'hidden_size': 43, 'num_layers': 3, 'num_blocks': 4, 'dropout_rate': 0.25204304342756445, 'lr': 0.006019428863351331}. Best is trial 40 with value: 45.360801696777344.\n"
     ]
    },
    {
     "name": "stdout",
     "output_type": "stream",
     "text": [
      "Early stopping at epoch 37\n"
     ]
    },
    {
     "name": "stderr",
     "output_type": "stream",
     "text": [
      "[I 2024-09-12 21:18:48,015] Trial 81 finished with value: 1843336.625 and parameters: {'sequence_length': 8, 'hidden_size': 27, 'num_layers': 2, 'num_blocks': 2, 'dropout_rate': 0.12805316769919092, 'lr': 0.009086114233681426}. Best is trial 40 with value: 45.360801696777344.\n"
     ]
    },
    {
     "name": "stdout",
     "output_type": "stream",
     "text": [
      "Early stopping at epoch 71\n"
     ]
    },
    {
     "name": "stderr",
     "output_type": "stream",
     "text": [
      "[I 2024-09-12 21:18:48,586] Trial 82 finished with value: 44127552.0 and parameters: {'sequence_length': 6, 'hidden_size': 23, 'num_layers': 2, 'num_blocks': 2, 'dropout_rate': 0.10032253945587938, 'lr': 0.008757449681622629}. Best is trial 40 with value: 45.360801696777344.\n"
     ]
    },
    {
     "name": "stdout",
     "output_type": "stream",
     "text": [
      "Early stopping at epoch 16\n"
     ]
    },
    {
     "name": "stderr",
     "output_type": "stream",
     "text": [
      "[I 2024-09-12 21:18:50,319] Trial 83 finished with value: 2478257.75 and parameters: {'sequence_length': 9, 'hidden_size': 27, 'num_layers': 2, 'num_blocks': 2, 'dropout_rate': 0.13531920273320228, 'lr': 0.009711580461687182}. Best is trial 40 with value: 45.360801696777344.\n"
     ]
    },
    {
     "name": "stdout",
     "output_type": "stream",
     "text": [
      "Early stopping at epoch 52\n"
     ]
    },
    {
     "name": "stderr",
     "output_type": "stream",
     "text": [
      "[I 2024-09-12 21:18:50,908] Trial 84 finished with value: 32939710.0 and parameters: {'sequence_length': 8, 'hidden_size': 28, 'num_layers': 2, 'num_blocks': 2, 'dropout_rate': 0.13960456984879416, 'lr': 0.009920881410581535}. Best is trial 40 with value: 45.360801696777344.\n"
     ]
    },
    {
     "name": "stdout",
     "output_type": "stream",
     "text": [
      "Early stopping at epoch 16\n"
     ]
    },
    {
     "name": "stderr",
     "output_type": "stream",
     "text": [
      "[I 2024-09-12 21:18:52,853] Trial 85 finished with value: 4887255.0 and parameters: {'sequence_length': 11, 'hidden_size': 33, 'num_layers': 2, 'num_blocks': 2, 'dropout_rate': 0.1255698319248649, 'lr': 0.009778609806810544}. Best is trial 40 with value: 45.360801696777344.\n"
     ]
    },
    {
     "name": "stdout",
     "output_type": "stream",
     "text": [
      "Early stopping at epoch 59\n"
     ]
    },
    {
     "name": "stderr",
     "output_type": "stream",
     "text": [
      "[I 2024-09-12 21:18:53,614] Trial 86 finished with value: 26411356.0 and parameters: {'sequence_length': 12, 'hidden_size': 33, 'num_layers': 2, 'num_blocks': 2, 'dropout_rate': 0.12836074491078647, 'lr': 0.009678705323823632}. Best is trial 40 with value: 45.360801696777344.\n"
     ]
    },
    {
     "name": "stdout",
     "output_type": "stream",
     "text": [
      "Early stopping at epoch 21\n"
     ]
    },
    {
     "name": "stderr",
     "output_type": "stream",
     "text": [
      "[I 2024-09-12 21:18:54,258] Trial 87 finished with value: 14964688.0 and parameters: {'sequence_length': 10, 'hidden_size': 27, 'num_layers': 2, 'num_blocks': 2, 'dropout_rate': 0.11703016317334478, 'lr': 0.009332370682201387}. Best is trial 40 with value: 45.360801696777344.\n"
     ]
    },
    {
     "name": "stdout",
     "output_type": "stream",
     "text": [
      "Early stopping at epoch 17\n"
     ]
    },
    {
     "name": "stderr",
     "output_type": "stream",
     "text": [
      "[I 2024-09-12 21:18:54,818] Trial 88 finished with value: 8922579.0 and parameters: {'sequence_length': 7, 'hidden_size': 19, 'num_layers': 2, 'num_blocks': 2, 'dropout_rate': 0.12228719381083426, 'lr': 0.009439275895483256}. Best is trial 40 with value: 45.360801696777344.\n"
     ]
    },
    {
     "name": "stdout",
     "output_type": "stream",
     "text": [
      "Early stopping at epoch 16\n"
     ]
    },
    {
     "name": "stderr",
     "output_type": "stream",
     "text": [
      "[I 2024-09-12 21:18:55,238] Trial 89 finished with value: 47829052.0 and parameters: {'sequence_length': 9, 'hidden_size': 40, 'num_layers': 2, 'num_blocks': 2, 'dropout_rate': 0.10770451228126844, 'lr': 0.009188650931630864}. Best is trial 40 with value: 45.360801696777344.\n"
     ]
    },
    {
     "name": "stdout",
     "output_type": "stream",
     "text": [
      "Early stopping at epoch 10\n"
     ]
    },
    {
     "name": "stderr",
     "output_type": "stream",
     "text": [
      "[I 2024-09-12 21:18:56,027] Trial 90 finished with value: 7840627.0 and parameters: {'sequence_length': 11, 'hidden_size': 32, 'num_layers': 2, 'num_blocks': 2, 'dropout_rate': 0.13175125086956183, 'lr': 0.009896407960880354}. Best is trial 40 with value: 45.360801696777344.\n"
     ]
    },
    {
     "name": "stdout",
     "output_type": "stream",
     "text": [
      "Early stopping at epoch 21\n"
     ]
    },
    {
     "name": "stderr",
     "output_type": "stream",
     "text": [
      "[I 2024-09-12 21:18:57,068] Trial 91 finished with value: 9880857.0 and parameters: {'sequence_length': 5, 'hidden_size': 35, 'num_layers': 2, 'num_blocks': 2, 'dropout_rate': 0.16234772659324043, 'lr': 0.008334619155318235}. Best is trial 40 with value: 45.360801696777344.\n"
     ]
    },
    {
     "name": "stdout",
     "output_type": "stream",
     "text": [
      "Early stopping at epoch 32\n"
     ]
    },
    {
     "name": "stderr",
     "output_type": "stream",
     "text": [
      "[I 2024-09-12 21:18:58,145] Trial 92 finished with value: 21746824.0 and parameters: {'sequence_length': 8, 'hidden_size': 27, 'num_layers': 2, 'num_blocks': 5, 'dropout_rate': 0.18000922098401387, 'lr': 0.008604142184056503}. Best is trial 40 with value: 45.360801696777344.\n"
     ]
    },
    {
     "name": "stdout",
     "output_type": "stream",
     "text": [
      "Early stopping at epoch 17\n"
     ]
    },
    {
     "name": "stderr",
     "output_type": "stream",
     "text": [
      "[I 2024-09-12 21:18:59,382] Trial 93 finished with value: 23269236.0 and parameters: {'sequence_length': 7, 'hidden_size': 18, 'num_layers': 2, 'num_blocks': 3, 'dropout_rate': 0.14489484598859792, 'lr': 0.007933048770026712}. Best is trial 40 with value: 45.360801696777344.\n"
     ]
    },
    {
     "name": "stdout",
     "output_type": "stream",
     "text": [
      "Early stopping at epoch 28\n"
     ]
    },
    {
     "name": "stderr",
     "output_type": "stream",
     "text": [
      "[I 2024-09-12 21:19:00,656] Trial 94 finished with value: 3234878.0 and parameters: {'sequence_length': 9, 'hidden_size': 37, 'num_layers': 2, 'num_blocks': 2, 'dropout_rate': 0.15419857612163507, 'lr': 0.009585048987823407}. Best is trial 40 with value: 45.360801696777344.\n"
     ]
    },
    {
     "name": "stdout",
     "output_type": "stream",
     "text": [
      "Early stopping at epoch 39\n"
     ]
    },
    {
     "name": "stderr",
     "output_type": "stream",
     "text": [
      "[I 2024-09-12 21:19:02,574] Trial 95 finished with value: 10680975.0 and parameters: {'sequence_length': 9, 'hidden_size': 36, 'num_layers': 2, 'num_blocks': 2, 'dropout_rate': 0.15558212399568486, 'lr': 0.009611961588476842}. Best is trial 40 with value: 45.360801696777344.\n"
     ]
    },
    {
     "name": "stdout",
     "output_type": "stream",
     "text": [
      "Early stopping at epoch 56\n"
     ]
    },
    {
     "name": "stderr",
     "output_type": "stream",
     "text": [
      "[I 2024-09-12 21:19:03,711] Trial 96 finished with value: 15197534.0 and parameters: {'sequence_length': 12, 'hidden_size': 23, 'num_layers': 2, 'num_blocks': 2, 'dropout_rate': 0.12564564799192193, 'lr': 0.009080411280643765}. Best is trial 40 with value: 45.360801696777344.\n"
     ]
    },
    {
     "name": "stdout",
     "output_type": "stream",
     "text": [
      "Early stopping at epoch 39\n"
     ]
    },
    {
     "name": "stderr",
     "output_type": "stream",
     "text": [
      "[I 2024-09-12 21:19:04,238] Trial 97 finished with value: 15983952.0 and parameters: {'sequence_length': 6, 'hidden_size': 38, 'num_layers': 2, 'num_blocks': 2, 'dropout_rate': 0.13794597549156323, 'lr': 0.009339589786809481}. Best is trial 40 with value: 45.360801696777344.\n"
     ]
    },
    {
     "name": "stdout",
     "output_type": "stream",
     "text": [
      "Early stopping at epoch 16\n"
     ]
    },
    {
     "name": "stderr",
     "output_type": "stream",
     "text": [
      "[I 2024-09-12 21:19:05,110] Trial 98 finished with value: 14623868.0 and parameters: {'sequence_length': 10, 'hidden_size': 30, 'num_layers': 2, 'num_blocks': 2, 'dropout_rate': 0.14915681216658466, 'lr': 0.008109047516289833}. Best is trial 40 with value: 45.360801696777344.\n"
     ]
    },
    {
     "name": "stdout",
     "output_type": "stream",
     "text": [
      "Early stopping at epoch 28\n"
     ]
    },
    {
     "name": "stderr",
     "output_type": "stream",
     "text": [
      "[I 2024-09-12 21:19:05,767] Trial 99 finished with value: 34903480.0 and parameters: {'sequence_length': 4, 'hidden_size': 42, 'num_layers': 2, 'num_blocks': 2, 'dropout_rate': 0.11070960625172835, 'lr': 0.008804801466549203}. Best is trial 40 with value: 45.360801696777344.\n",
      "[I 2024-09-12 21:19:05,854] A new study created in memory with name: no-name-74fe5c65-0d4d-4f05-b2df-bac3312bc176\n"
     ]
    },
    {
     "name": "stdout",
     "output_type": "stream",
     "text": [
      "Early stopping at epoch 21\n",
      "parameters for NVDA saved to ../models/best-hyperparameters/pytorch/lstm-regression/NVDA.json\n",
      "Best model for NVDA saved with RMSE: 45.360801696777344\n"
     ]
    },
    {
     "name": "stderr",
     "output_type": "stream",
     "text": [
      "[I 2024-09-12 21:19:07,570] Trial 0 finished with value: 0.5118110236220472 and parameters: {'out_channels': 19, 'kernel_size': 6, 'num_blocks': 7, 'l2_lambda': 0.00331370592178763, 'dropout_rate': 0.40560164340237137, 'lr': 0.0009048543388588533}. Best is trial 0 with value: 0.5118110236220472.\n"
     ]
    },
    {
     "name": "stdout",
     "output_type": "stream",
     "text": [
      "Early stopping at epoch 10\n"
     ]
    },
    {
     "name": "stderr",
     "output_type": "stream",
     "text": [
      "[I 2024-09-12 21:19:10,147] Trial 1 finished with value: 0.5196850393700787 and parameters: {'out_channels': 120, 'kernel_size': 3, 'num_blocks': 10, 'l2_lambda': 0.0001357677740521143, 'dropout_rate': 0.4711069744535735, 'lr': 0.0063212292502215035}. Best is trial 1 with value: 0.5196850393700787.\n"
     ]
    },
    {
     "name": "stdout",
     "output_type": "stream",
     "text": [
      "Early stopping at epoch 10\n"
     ]
    },
    {
     "name": "stderr",
     "output_type": "stream",
     "text": [
      "[I 2024-09-12 21:19:10,790] Trial 2 finished with value: 0.49606299212598426 and parameters: {'out_channels': 32, 'kernel_size': 4, 'num_blocks': 2, 'l2_lambda': 0.0016218304887138824, 'dropout_rate': 0.20661530570602402, 'lr': 0.0013104598091859454}. Best is trial 1 with value: 0.5196850393700787.\n"
     ]
    },
    {
     "name": "stdout",
     "output_type": "stream",
     "text": [
      "Early stopping at epoch 11\n"
     ]
    },
    {
     "name": "stderr",
     "output_type": "stream",
     "text": [
      "[I 2024-09-12 21:19:11,514] Trial 3 finished with value: 0.5196850393700787 and parameters: {'out_channels': 118, 'kernel_size': 4, 'num_blocks': 2, 'l2_lambda': 0.007777207459563863, 'dropout_rate': 0.19046160812298135, 'lr': 0.007984319062931483}. Best is trial 1 with value: 0.5196850393700787.\n"
     ]
    },
    {
     "name": "stdout",
     "output_type": "stream",
     "text": [
      "Early stopping at epoch 10\n"
     ]
    },
    {
     "name": "stderr",
     "output_type": "stream",
     "text": [
      "[I 2024-09-12 21:19:15,078] Trial 4 finished with value: 0.5511811023622047 and parameters: {'out_channels': 96, 'kernel_size': 7, 'num_blocks': 5, 'l2_lambda': 0.006250094357430686, 'dropout_rate': 0.2916847403715599, 'lr': 0.008303550625343029}. Best is trial 4 with value: 0.5511811023622047.\n"
     ]
    },
    {
     "name": "stdout",
     "output_type": "stream",
     "text": [
      "Early stopping at epoch 27\n"
     ]
    },
    {
     "name": "stderr",
     "output_type": "stream",
     "text": [
      "[I 2024-09-12 21:19:17,994] Trial 5 finished with value: 0.5196850393700787 and parameters: {'out_channels': 94, 'kernel_size': 6, 'num_blocks': 8, 'l2_lambda': 0.001156764907527208, 'dropout_rate': 0.1410957853357976, 'lr': 0.008229049443911025}. Best is trial 4 with value: 0.5511811023622047.\n"
     ]
    },
    {
     "name": "stdout",
     "output_type": "stream",
     "text": [
      "Early stopping at epoch 12\n"
     ]
    },
    {
     "name": "stderr",
     "output_type": "stream",
     "text": [
      "[I 2024-09-12 21:19:20,238] Trial 6 finished with value: 0.5196850393700787 and parameters: {'out_channels': 74, 'kernel_size': 7, 'num_blocks': 8, 'l2_lambda': 0.006828760161178988, 'dropout_rate': 0.25082542135832264, 'lr': 0.00535616199638368}. Best is trial 4 with value: 0.5511811023622047.\n"
     ]
    },
    {
     "name": "stdout",
     "output_type": "stream",
     "text": [
      "Early stopping at epoch 11\n"
     ]
    },
    {
     "name": "stderr",
     "output_type": "stream",
     "text": [
      "[I 2024-09-12 21:19:21,263] Trial 7 finished with value: 0.48031496062992124 and parameters: {'out_channels': 41, 'kernel_size': 4, 'num_blocks': 4, 'l2_lambda': 0.0009453135214911295, 'dropout_rate': 0.1024502665454353, 'lr': 0.0025754767924877383}. Best is trial 4 with value: 0.5511811023622047.\n"
     ]
    },
    {
     "name": "stdout",
     "output_type": "stream",
     "text": [
      "Early stopping at epoch 10\n"
     ]
    },
    {
     "name": "stderr",
     "output_type": "stream",
     "text": [
      "[I 2024-09-12 21:19:23,680] Trial 8 finished with value: 0.5196850393700787 and parameters: {'out_channels': 95, 'kernel_size': 6, 'num_blocks': 7, 'l2_lambda': 0.007606267317534779, 'dropout_rate': 0.21352519419501037, 'lr': 0.0018196584707514465}. Best is trial 4 with value: 0.5511811023622047.\n"
     ]
    },
    {
     "name": "stdout",
     "output_type": "stream",
     "text": [
      "Early stopping at epoch 11\n"
     ]
    },
    {
     "name": "stderr",
     "output_type": "stream",
     "text": [
      "[I 2024-09-12 21:19:24,526] Trial 9 finished with value: 0.5196850393700787 and parameters: {'out_channels': 96, 'kernel_size': 3, 'num_blocks': 3, 'l2_lambda': 0.009872512300890732, 'dropout_rate': 0.3382056226135431, 'lr': 0.006938906515150801}. Best is trial 4 with value: 0.5511811023622047.\n"
     ]
    },
    {
     "name": "stdout",
     "output_type": "stream",
     "text": [
      "Early stopping at epoch 10\n"
     ]
    },
    {
     "name": "stderr",
     "output_type": "stream",
     "text": [
      "[I 2024-09-12 21:19:25,920] Trial 10 finished with value: 0.5196850393700787 and parameters: {'out_channels': 58, 'kernel_size': 7, 'num_blocks': 5, 'l2_lambda': 0.0047944881578752385, 'dropout_rate': 0.31622127184695586, 'lr': 0.009827249195620101}. Best is trial 4 with value: 0.5511811023622047.\n"
     ]
    },
    {
     "name": "stdout",
     "output_type": "stream",
     "text": [
      "Early stopping at epoch 11\n"
     ]
    },
    {
     "name": "stderr",
     "output_type": "stream",
     "text": [
      "[I 2024-09-12 21:19:29,082] Trial 11 finished with value: 0.5196850393700787 and parameters: {'out_channels': 123, 'kernel_size': 3, 'num_blocks': 10, 'l2_lambda': 0.00470948113268634, 'dropout_rate': 0.4695871920316911, 'lr': 0.005032371085200605}. Best is trial 4 with value: 0.5511811023622047.\n"
     ]
    },
    {
     "name": "stdout",
     "output_type": "stream",
     "text": [
      "Early stopping at epoch 12\n"
     ]
    },
    {
     "name": "stderr",
     "output_type": "stream",
     "text": [
      "[I 2024-09-12 21:19:31,715] Trial 12 finished with value: 0.5196850393700787 and parameters: {'out_channels': 112, 'kernel_size': 5, 'num_blocks': 10, 'l2_lambda': 0.002946178126027774, 'dropout_rate': 0.4026922495646871, 'lr': 0.00657613732414101}. Best is trial 4 with value: 0.5511811023622047.\n"
     ]
    },
    {
     "name": "stdout",
     "output_type": "stream",
     "text": [
      "Early stopping at epoch 10\n"
     ]
    },
    {
     "name": "stderr",
     "output_type": "stream",
     "text": [
      "[I 2024-09-12 21:19:33,255] Trial 13 finished with value: 0.5196850393700787 and parameters: {'out_channels': 80, 'kernel_size': 5, 'num_blocks': 5, 'l2_lambda': 0.006253379915458676, 'dropout_rate': 0.3731933030153208, 'lr': 0.003652123166028042}. Best is trial 4 with value: 0.5511811023622047.\n"
     ]
    },
    {
     "name": "stdout",
     "output_type": "stream",
     "text": [
      "Early stopping at epoch 12\n"
     ]
    },
    {
     "name": "stderr",
     "output_type": "stream",
     "text": [
      "[I 2024-09-12 21:19:35,657] Trial 14 finished with value: 0.5275590551181102 and parameters: {'out_channels': 128, 'kernel_size': 3, 'num_blocks': 6, 'l2_lambda': 0.003129051723590154, 'dropout_rate': 0.4778668664234985, 'lr': 0.009890717896638089}. Best is trial 4 with value: 0.5511811023622047.\n"
     ]
    },
    {
     "name": "stdout",
     "output_type": "stream",
     "text": [
      "Early stopping at epoch 15\n"
     ]
    },
    {
     "name": "stderr",
     "output_type": "stream",
     "text": [
      "[I 2024-09-12 21:19:37,612] Trial 15 finished with value: 0.5196850393700787 and parameters: {'out_channels': 105, 'kernel_size': 7, 'num_blocks': 6, 'l2_lambda': 0.00329827428523799, 'dropout_rate': 0.2766531609425358, 'lr': 0.009933777263529238}. Best is trial 4 with value: 0.5511811023622047.\n"
     ]
    },
    {
     "name": "stdout",
     "output_type": "stream",
     "text": [
      "Early stopping at epoch 11\n"
     ]
    },
    {
     "name": "stderr",
     "output_type": "stream",
     "text": [
      "[I 2024-09-12 21:19:38,914] Trial 16 finished with value: 0.5196850393700787 and parameters: {'out_channels': 126, 'kernel_size': 5, 'num_blocks': 4, 'l2_lambda': 0.0057799545436537465, 'dropout_rate': 0.4944945392484894, 'lr': 0.00852425498284755}. Best is trial 4 with value: 0.5511811023622047.\n"
     ]
    },
    {
     "name": "stdout",
     "output_type": "stream",
     "text": [
      "Early stopping at epoch 10\n"
     ]
    },
    {
     "name": "stderr",
     "output_type": "stream",
     "text": [
      "[I 2024-09-12 21:19:39,361] Trial 17 finished with value: 0.5196850393700787 and parameters: {'out_channels': 57, 'kernel_size': 4, 'num_blocks': 1, 'l2_lambda': 0.008648185499985472, 'dropout_rate': 0.3516734294943221, 'lr': 0.009123186833434282}. Best is trial 4 with value: 0.5511811023622047.\n"
     ]
    },
    {
     "name": "stdout",
     "output_type": "stream",
     "text": [
      "Early stopping at epoch 10\n"
     ]
    },
    {
     "name": "stderr",
     "output_type": "stream",
     "text": [
      "[I 2024-09-12 21:19:41,349] Trial 18 finished with value: 0.5196850393700787 and parameters: {'out_channels': 85, 'kernel_size': 6, 'num_blocks': 6, 'l2_lambda': 0.004081643171320802, 'dropout_rate': 0.4249074776570583, 'lr': 0.007377841207110748}. Best is trial 4 with value: 0.5511811023622047.\n"
     ]
    },
    {
     "name": "stdout",
     "output_type": "stream",
     "text": [
      "Early stopping at epoch 11\n"
     ]
    },
    {
     "name": "stderr",
     "output_type": "stream",
     "text": [
      "[I 2024-09-12 21:19:42,646] Trial 19 finished with value: 0.5196850393700787 and parameters: {'out_channels': 104, 'kernel_size': 3, 'num_blocks': 4, 'l2_lambda': 0.0022999002651455267, 'dropout_rate': 0.27982637174233393, 'lr': 0.00908366392937372}. Best is trial 4 with value: 0.5511811023622047.\n"
     ]
    },
    {
     "name": "stdout",
     "output_type": "stream",
     "text": [
      "Early stopping at epoch 12\n"
     ]
    },
    {
     "name": "stderr",
     "output_type": "stream",
     "text": [
      "[I 2024-09-12 21:19:46,744] Trial 20 finished with value: 0.5590551181102362 and parameters: {'out_channels': 68, 'kernel_size': 7, 'num_blocks': 8, 'l2_lambda': 0.005831645926261, 'dropout_rate': 0.23581687167556195, 'lr': 0.003776226838965875}. Best is trial 20 with value: 0.5590551181102362.\n"
     ]
    },
    {
     "name": "stdout",
     "output_type": "stream",
     "text": [
      "Early stopping at epoch 22\n"
     ]
    },
    {
     "name": "stderr",
     "output_type": "stream",
     "text": [
      "[I 2024-09-12 21:19:48,620] Trial 21 finished with value: 0.5196850393700787 and parameters: {'out_channels': 63, 'kernel_size': 7, 'num_blocks': 8, 'l2_lambda': 0.00549150745009713, 'dropout_rate': 0.23819028937846742, 'lr': 0.0039578234816692245}. Best is trial 20 with value: 0.5590551181102362.\n"
     ]
    },
    {
     "name": "stdout",
     "output_type": "stream",
     "text": [
      "Early stopping at epoch 10\n"
     ]
    },
    {
     "name": "stderr",
     "output_type": "stream",
     "text": [
      "[I 2024-09-12 21:19:50,381] Trial 22 finished with value: 0.5196850393700787 and parameters: {'out_channels': 68, 'kernel_size': 7, 'num_blocks': 7, 'l2_lambda': 0.006896011281005944, 'dropout_rate': 0.16879306838580121, 'lr': 0.003518922454100386}. Best is trial 20 with value: 0.5590551181102362.\n"
     ]
    },
    {
     "name": "stdout",
     "output_type": "stream",
     "text": [
      "Early stopping at epoch 10\n"
     ]
    },
    {
     "name": "stderr",
     "output_type": "stream",
     "text": [
      "[I 2024-09-12 21:19:53,283] Trial 23 finished with value: 0.5196850393700787 and parameters: {'out_channels': 48, 'kernel_size': 6, 'num_blocks': 9, 'l2_lambda': 0.004643796358488016, 'dropout_rate': 0.30854089147527924, 'lr': 0.005603997680795464}. Best is trial 20 with value: 0.5590551181102362.\n"
     ]
    },
    {
     "name": "stdout",
     "output_type": "stream",
     "text": [
      "Early stopping at epoch 14\n"
     ]
    },
    {
     "name": "stderr",
     "output_type": "stream",
     "text": [
      "[I 2024-09-12 21:19:54,975] Trial 24 finished with value: 0.5196850393700787 and parameters: {'out_channels': 82, 'kernel_size': 7, 'num_blocks': 6, 'l2_lambda': 0.004017407923822874, 'dropout_rate': 0.2453787559777496, 'lr': 0.004024471405627018}. Best is trial 20 with value: 0.5590551181102362.\n"
     ]
    },
    {
     "name": "stdout",
     "output_type": "stream",
     "text": [
      "Early stopping at epoch 10\n"
     ]
    },
    {
     "name": "stderr",
     "output_type": "stream",
     "text": [
      "[I 2024-09-12 21:19:56,577] Trial 25 finished with value: 0.5196850393700787 and parameters: {'out_channels': 104, 'kernel_size': 6, 'num_blocks': 5, 'l2_lambda': 0.0064858527023563895, 'dropout_rate': 0.2801737955607329, 'lr': 0.007703122533296114}. Best is trial 20 with value: 0.5590551181102362.\n"
     ]
    },
    {
     "name": "stdout",
     "output_type": "stream",
     "text": [
      "Early stopping at epoch 10\n"
     ]
    },
    {
     "name": "stderr",
     "output_type": "stream",
     "text": [
      "[I 2024-09-12 21:20:01,897] Trial 26 finished with value: 0.5748031496062992 and parameters: {'out_channels': 87, 'kernel_size': 5, 'num_blocks': 9, 'l2_lambda': 0.005458741693960774, 'dropout_rate': 0.3443480466636802, 'lr': 0.0003132376214195552}. Best is trial 26 with value: 0.5748031496062992.\n"
     ]
    },
    {
     "name": "stdout",
     "output_type": "stream",
     "text": [
      "Early stopping at epoch 25\n"
     ]
    },
    {
     "name": "stderr",
     "output_type": "stream",
     "text": [
      "[I 2024-09-12 21:20:04,246] Trial 27 finished with value: 0.5196850393700787 and parameters: {'out_channels': 89, 'kernel_size': 5, 'num_blocks': 9, 'l2_lambda': 0.007624173568963682, 'dropout_rate': 0.33194945730135017, 'lr': 0.002585257605945691}. Best is trial 26 with value: 0.5748031496062992.\n"
     ]
    },
    {
     "name": "stdout",
     "output_type": "stream",
     "text": [
      "Early stopping at epoch 10\n"
     ]
    },
    {
     "name": "stderr",
     "output_type": "stream",
     "text": [
      "[I 2024-09-12 21:20:07,733] Trial 28 finished with value: 0.5826771653543307 and parameters: {'out_channels': 73, 'kernel_size': 5, 'num_blocks': 9, 'l2_lambda': 0.005541567388219951, 'dropout_rate': 0.36010761239760175, 'lr': 0.0025334023732325826}. Best is trial 28 with value: 0.5826771653543307.\n"
     ]
    },
    {
     "name": "stdout",
     "output_type": "stream",
     "text": [
      "Early stopping at epoch 17\n"
     ]
    },
    {
     "name": "stderr",
     "output_type": "stream",
     "text": [
      "[I 2024-09-12 21:20:09,472] Trial 29 finished with value: 0.5196850393700787 and parameters: {'out_channels': 17, 'kernel_size': 5, 'num_blocks': 9, 'l2_lambda': 0.0054337948817905065, 'dropout_rate': 0.3850439019566623, 'lr': 2.7624922741499548e-05}. Best is trial 28 with value: 0.5826771653543307.\n"
     ]
    },
    {
     "name": "stdout",
     "output_type": "stream",
     "text": [
      "Early stopping at epoch 10\n"
     ]
    },
    {
     "name": "stderr",
     "output_type": "stream",
     "text": [
      "[I 2024-09-12 21:20:11,645] Trial 30 finished with value: 0.5196850393700787 and parameters: {'out_channels': 72, 'kernel_size': 5, 'num_blocks': 9, 'l2_lambda': 0.003933784492569645, 'dropout_rate': 0.43411225970947737, 'lr': 0.00011884940358534442}. Best is trial 28 with value: 0.5826771653543307.\n"
     ]
    },
    {
     "name": "stdout",
     "output_type": "stream",
     "text": [
      "Early stopping at epoch 10\n"
     ]
    },
    {
     "name": "stderr",
     "output_type": "stream",
     "text": [
      "[I 2024-09-12 21:20:13,643] Trial 31 finished with value: 0.5196850393700787 and parameters: {'out_channels': 76, 'kernel_size': 6, 'num_blocks': 7, 'l2_lambda': 0.005952461586182352, 'dropout_rate': 0.37597261402514964, 'lr': 0.0023565409815643566}. Best is trial 28 with value: 0.5826771653543307.\n"
     ]
    },
    {
     "name": "stdout",
     "output_type": "stream",
     "text": [
      "Early stopping at epoch 10\n"
     ]
    },
    {
     "name": "stderr",
     "output_type": "stream",
     "text": [
      "[I 2024-09-12 21:20:16,106] Trial 32 finished with value: 0.5196850393700787 and parameters: {'out_channels': 88, 'kernel_size': 6, 'num_blocks': 8, 'l2_lambda': 0.005112717815701158, 'dropout_rate': 0.3499134066402078, 'lr': 0.0007994193376180793}. Best is trial 28 with value: 0.5826771653543307.\n"
     ]
    },
    {
     "name": "stdout",
     "output_type": "stream",
     "text": [
      "Early stopping at epoch 10\n"
     ]
    },
    {
     "name": "stderr",
     "output_type": "stream",
     "text": [
      "[I 2024-09-12 21:20:19,182] Trial 33 finished with value: 0.5196850393700787 and parameters: {'out_channels': 66, 'kernel_size': 5, 'num_blocks': 10, 'l2_lambda': 0.007117207406290748, 'dropout_rate': 0.30122974128686303, 'lr': 0.004324107972771572}. Best is trial 28 with value: 0.5826771653543307.\n"
     ]
    },
    {
     "name": "stdout",
     "output_type": "stream",
     "text": [
      "Early stopping at epoch 13\n"
     ]
    },
    {
     "name": "stderr",
     "output_type": "stream",
     "text": [
      "[I 2024-09-12 21:20:21,817] Trial 34 finished with value: 0.5669291338582677 and parameters: {'out_channels': 49, 'kernel_size': 4, 'num_blocks': 9, 'l2_lambda': 0.008378876942531675, 'dropout_rate': 0.27302467157124843, 'lr': 0.0012242978650266168}. Best is trial 28 with value: 0.5826771653543307.\n"
     ]
    },
    {
     "name": "stdout",
     "output_type": "stream",
     "text": [
      "Early stopping at epoch 12\n"
     ]
    },
    {
     "name": "stderr",
     "output_type": "stream",
     "text": [
      "[I 2024-09-12 21:20:24,506] Trial 35 finished with value: 0.5433070866141733 and parameters: {'out_channels': 35, 'kernel_size': 4, 'num_blocks': 9, 'l2_lambda': 0.008267530751656588, 'dropout_rate': 0.218222186063906, 'lr': 0.0010909604484938304}. Best is trial 28 with value: 0.5826771653543307.\n"
     ]
    },
    {
     "name": "stdout",
     "output_type": "stream",
     "text": [
      "Early stopping at epoch 13\n"
     ]
    },
    {
     "name": "stderr",
     "output_type": "stream",
     "text": [
      "[I 2024-09-12 21:20:26,592] Trial 36 finished with value: 0.5196850393700787 and parameters: {'out_channels': 52, 'kernel_size': 4, 'num_blocks': 8, 'l2_lambda': 0.009544449607096134, 'dropout_rate': 0.26909436775294876, 'lr': 0.0016741703444325406}. Best is trial 28 with value: 0.5826771653543307.\n"
     ]
    },
    {
     "name": "stdout",
     "output_type": "stream",
     "text": [
      "Early stopping at epoch 10\n"
     ]
    },
    {
     "name": "stderr",
     "output_type": "stream",
     "text": [
      "[I 2024-09-12 21:20:29,384] Trial 37 finished with value: 0.5196850393700787 and parameters: {'out_channels': 24, 'kernel_size': 4, 'num_blocks': 9, 'l2_lambda': 0.008418621761628982, 'dropout_rate': 0.17619640576411189, 'lr': 0.003081739090572484}. Best is trial 28 with value: 0.5826771653543307.\n"
     ]
    },
    {
     "name": "stdout",
     "output_type": "stream",
     "text": [
      "Early stopping at epoch 14\n"
     ]
    },
    {
     "name": "stderr",
     "output_type": "stream",
     "text": [
      "[I 2024-09-12 21:20:33,952] Trial 38 finished with value: 0.5275590551181102 and parameters: {'out_channels': 49, 'kernel_size': 4, 'num_blocks': 10, 'l2_lambda': 0.007256339118999192, 'dropout_rate': 0.3262471302011733, 'lr': 0.000708861913196298}. Best is trial 28 with value: 0.5826771653543307.\n"
     ]
    },
    {
     "name": "stdout",
     "output_type": "stream",
     "text": [
      "Early stopping at epoch 19\n"
     ]
    },
    {
     "name": "stderr",
     "output_type": "stream",
     "text": [
      "[I 2024-09-12 21:20:35,589] Trial 39 finished with value: 0.5196850393700787 and parameters: {'out_channels': 62, 'kernel_size': 5, 'num_blocks': 7, 'l2_lambda': 0.009312142723275048, 'dropout_rate': 0.3605844250967224, 'lr': 0.001833203526751533}. Best is trial 28 with value: 0.5826771653543307.\n"
     ]
    },
    {
     "name": "stdout",
     "output_type": "stream",
     "text": [
      "Early stopping at epoch 10\n"
     ]
    },
    {
     "name": "stderr",
     "output_type": "stream",
     "text": [
      "[I 2024-09-12 21:20:37,258] Trial 40 finished with value: 0.5196850393700787 and parameters: {'out_channels': 43, 'kernel_size': 5, 'num_blocks': 8, 'l2_lambda': 0.008950583124700704, 'dropout_rate': 0.25165937777438946, 'lr': 0.0030993483629499228}. Best is trial 28 with value: 0.5826771653543307.\n"
     ]
    },
    {
     "name": "stdout",
     "output_type": "stream",
     "text": [
      "Early stopping at epoch 10\n"
     ]
    },
    {
     "name": "stderr",
     "output_type": "stream",
     "text": [
      "[I 2024-09-12 21:20:39,844] Trial 41 finished with value: 0.5196850393700787 and parameters: {'out_channels': 77, 'kernel_size': 7, 'num_blocks': 10, 'l2_lambda': 0.006246357502206503, 'dropout_rate': 0.2901416683613307, 'lr': 0.0021609212986735864}. Best is trial 28 with value: 0.5826771653543307.\n"
     ]
    },
    {
     "name": "stdout",
     "output_type": "stream",
     "text": [
      "Early stopping at epoch 10\n"
     ]
    },
    {
     "name": "stderr",
     "output_type": "stream",
     "text": [
      "[I 2024-09-12 21:20:45,955] Trial 42 finished with value: 0.5669291338582677 and parameters: {'out_channels': 92, 'kernel_size': 6, 'num_blocks': 8, 'l2_lambda': 0.008027601528209707, 'dropout_rate': 0.22639784282176864, 'lr': 0.0015298509673028877}. Best is trial 28 with value: 0.5826771653543307.\n"
     ]
    },
    {
     "name": "stdout",
     "output_type": "stream",
     "text": [
      "Early stopping at epoch 28\n"
     ]
    },
    {
     "name": "stderr",
     "output_type": "stream",
     "text": [
      "[I 2024-09-12 21:20:49,188] Trial 43 finished with value: 0.5275590551181102 and parameters: {'out_channels': 91, 'kernel_size': 6, 'num_blocks': 8, 'l2_lambda': 0.00817563649262302, 'dropout_rate': 0.19842998224400865, 'lr': 0.001245976726921823}. Best is trial 28 with value: 0.5826771653543307.\n"
     ]
    },
    {
     "name": "stdout",
     "output_type": "stream",
     "text": [
      "Early stopping at epoch 14\n"
     ]
    },
    {
     "name": "stderr",
     "output_type": "stream",
     "text": [
      "[I 2024-09-12 21:20:52,502] Trial 44 finished with value: 0.5354330708661418 and parameters: {'out_channels': 72, 'kernel_size': 6, 'num_blocks': 9, 'l2_lambda': 0.007898605674905372, 'dropout_rate': 0.2339492696871012, 'lr': 0.00046419725371047663}. Best is trial 28 with value: 0.5826771653543307.\n"
     ]
    },
    {
     "name": "stdout",
     "output_type": "stream",
     "text": [
      "Early stopping at epoch 14\n"
     ]
    },
    {
     "name": "stderr",
     "output_type": "stream",
     "text": [
      "[I 2024-09-12 21:20:55,036] Trial 45 finished with value: 0.5196850393700787 and parameters: {'out_channels': 97, 'kernel_size': 6, 'num_blocks': 8, 'l2_lambda': 0.006613935278416214, 'dropout_rate': 0.13297310042508328, 'lr': 0.0015270778569032052}. Best is trial 28 with value: 0.5826771653543307.\n"
     ]
    },
    {
     "name": "stdout",
     "output_type": "stream",
     "text": [
      "Early stopping at epoch 10\n"
     ]
    },
    {
     "name": "stderr",
     "output_type": "stream",
     "text": [
      "[I 2024-09-12 21:20:58,857] Trial 46 finished with value: 0.5433070866141733 and parameters: {'out_channels': 82, 'kernel_size': 4, 'num_blocks': 7, 'l2_lambda': 0.004418670269051912, 'dropout_rate': 0.25395403711429854, 'lr': 0.0028040252068637435}. Best is trial 28 with value: 0.5826771653543307.\n"
     ]
    },
    {
     "name": "stdout",
     "output_type": "stream",
     "text": [
      "Early stopping at epoch 20\n"
     ]
    },
    {
     "name": "stderr",
     "output_type": "stream",
     "text": [
      "[I 2024-09-12 21:21:01,024] Trial 47 finished with value: 0.5196850393700787 and parameters: {'out_channels': 56, 'kernel_size': 5, 'num_blocks': 10, 'l2_lambda': 0.005151362241985732, 'dropout_rate': 0.21568932982562364, 'lr': 0.0020517082290210297}. Best is trial 28 with value: 0.5826771653543307.\n"
     ]
    },
    {
     "name": "stdout",
     "output_type": "stream",
     "text": [
      "Early stopping at epoch 10\n"
     ]
    },
    {
     "name": "stderr",
     "output_type": "stream",
     "text": [
      "[I 2024-09-12 21:21:04,332] Trial 48 finished with value: 0.5196850393700787 and parameters: {'out_channels': 115, 'kernel_size': 5, 'num_blocks': 9, 'l2_lambda': 0.0072912950027928915, 'dropout_rate': 0.18027128069957926, 'lr': 0.0011941640784728239}. Best is trial 28 with value: 0.5826771653543307.\n"
     ]
    },
    {
     "name": "stdout",
     "output_type": "stream",
     "text": [
      "Early stopping at epoch 13\n"
     ]
    },
    {
     "name": "stderr",
     "output_type": "stream",
     "text": [
      "[I 2024-09-12 21:21:06,765] Trial 49 finished with value: 0.5196850393700787 and parameters: {'out_channels': 98, 'kernel_size': 4, 'num_blocks': 8, 'l2_lambda': 0.008877591511059999, 'dropout_rate': 0.152069683899884, 'lr': 0.0005034959990050916}. Best is trial 28 with value: 0.5826771653543307.\n"
     ]
    },
    {
     "name": "stdout",
     "output_type": "stream",
     "text": [
      "Early stopping at epoch 10\n"
     ]
    },
    {
     "name": "stderr",
     "output_type": "stream",
     "text": [
      "[I 2024-09-12 21:21:08,992] Trial 50 finished with value: 0.5196850393700787 and parameters: {'out_channels': 69, 'kernel_size': 3, 'num_blocks': 10, 'l2_lambda': 0.00573337626960037, 'dropout_rate': 0.26700498068842465, 'lr': 0.00486340059586271}. Best is trial 28 with value: 0.5826771653543307.\n"
     ]
    },
    {
     "name": "stdout",
     "output_type": "stream",
     "text": [
      "Early stopping at epoch 10\n"
     ]
    },
    {
     "name": "stderr",
     "output_type": "stream",
     "text": [
      "[I 2024-09-12 21:21:10,120] Trial 51 finished with value: 0.5196850393700787 and parameters: {'out_channels': 109, 'kernel_size': 7, 'num_blocks': 3, 'l2_lambda': 0.005845731507138965, 'dropout_rate': 0.3140637952408043, 'lr': 0.0033443101848062056}. Best is trial 28 with value: 0.5826771653543307.\n"
     ]
    },
    {
     "name": "stdout",
     "output_type": "stream",
     "text": [
      "Early stopping at epoch 11\n"
     ]
    },
    {
     "name": "stderr",
     "output_type": "stream",
     "text": [
      "[I 2024-09-12 21:21:11,659] Trial 52 finished with value: 0.5433070866141733 and parameters: {'out_channels': 92, 'kernel_size': 7, 'num_blocks': 5, 'l2_lambda': 0.00015807442634795197, 'dropout_rate': 0.22529747591008856, 'lr': 0.006233905382616675}. Best is trial 28 with value: 0.5826771653543307.\n"
     ]
    },
    {
     "name": "stdout",
     "output_type": "stream",
     "text": [
      "Early stopping at epoch 11\n"
     ]
    },
    {
     "name": "stderr",
     "output_type": "stream",
     "text": [
      "[I 2024-09-12 21:21:13,955] Trial 53 finished with value: 0.5511811023622047 and parameters: {'out_channels': 85, 'kernel_size': 7, 'num_blocks': 4, 'l2_lambda': 0.00620712708731154, 'dropout_rate': 0.2896917104349724, 'lr': 0.004505647590388525}. Best is trial 28 with value: 0.5826771653543307.\n"
     ]
    },
    {
     "name": "stdout",
     "output_type": "stream",
     "text": [
      "Early stopping at epoch 22\n"
     ]
    },
    {
     "name": "stderr",
     "output_type": "stream",
     "text": [
      "[I 2024-09-12 21:21:18,794] Trial 54 finished with value: 0.5433070866141733 and parameters: {'out_channels': 101, 'kernel_size': 7, 'num_blocks': 7, 'l2_lambda': 0.006618594981222943, 'dropout_rate': 0.4091813965444248, 'lr': 0.0015079466491717184}. Best is trial 28 with value: 0.5826771653543307.\n"
     ]
    },
    {
     "name": "stdout",
     "output_type": "stream",
     "text": [
      "Early stopping at epoch 26\n"
     ]
    },
    {
     "name": "stderr",
     "output_type": "stream",
     "text": [
      "[I 2024-09-12 21:21:25,008] Trial 55 finished with value: 0.5511811023622047 and parameters: {'out_channels': 79, 'kernel_size': 6, 'num_blocks': 9, 'l2_lambda': 0.005380415752803278, 'dropout_rate': 0.33198498183898034, 'lr': 0.0023066815760044643}. Best is trial 28 with value: 0.5826771653543307.\n"
     ]
    },
    {
     "name": "stdout",
     "output_type": "stream",
     "text": [
      "Early stopping at epoch 26\n"
     ]
    },
    {
     "name": "stderr",
     "output_type": "stream",
     "text": [
      "[I 2024-09-12 21:21:27,099] Trial 56 finished with value: 0.5196850393700787 and parameters: {'out_channels': 86, 'kernel_size': 7, 'num_blocks': 6, 'l2_lambda': 0.007949974003337952, 'dropout_rate': 0.39396423650639995, 'lr': 0.0027433566573033057}. Best is trial 28 with value: 0.5826771653543307.\n"
     ]
    },
    {
     "name": "stdout",
     "output_type": "stream",
     "text": [
      "Early stopping at epoch 12\n"
     ]
    },
    {
     "name": "stderr",
     "output_type": "stream",
     "text": [
      "[I 2024-09-12 21:21:29,296] Trial 57 finished with value: 0.5196850393700787 and parameters: {'out_channels': 61, 'kernel_size': 6, 'num_blocks': 8, 'l2_lambda': 0.007513017370664428, 'dropout_rate': 0.20276362674863463, 'lr': 0.005755250940207072}. Best is trial 28 with value: 0.5826771653543307.\n"
     ]
    },
    {
     "name": "stdout",
     "output_type": "stream",
     "text": [
      "Early stopping at epoch 10\n"
     ]
    },
    {
     "name": "stderr",
     "output_type": "stream",
     "text": [
      "[I 2024-09-12 21:21:30,062] Trial 58 finished with value: 0.48031496062992124 and parameters: {'out_channels': 35, 'kernel_size': 7, 'num_blocks': 3, 'l2_lambda': 0.009918081487960792, 'dropout_rate': 0.345160863790129, 'lr': 0.0003442241030521004}. Best is trial 28 with value: 0.5826771653543307.\n"
     ]
    },
    {
     "name": "stdout",
     "output_type": "stream",
     "text": [
      "Early stopping at epoch 10\n"
     ]
    },
    {
     "name": "stderr",
     "output_type": "stream",
     "text": [
      "[I 2024-09-12 21:21:32,173] Trial 59 finished with value: 0.5196850393700787 and parameters: {'out_channels': 94, 'kernel_size': 5, 'num_blocks': 5, 'l2_lambda': 0.004341838680282775, 'dropout_rate': 0.2609888435069717, 'lr': 0.0010231232552299317}. Best is trial 28 with value: 0.5826771653543307.\n"
     ]
    },
    {
     "name": "stdout",
     "output_type": "stream",
     "text": [
      "Early stopping at epoch 16\n"
     ]
    },
    {
     "name": "stderr",
     "output_type": "stream",
     "text": [
      "[I 2024-09-12 21:21:34,508] Trial 60 finished with value: 0.5196850393700787 and parameters: {'out_channels': 25, 'kernel_size': 6, 'num_blocks': 9, 'l2_lambda': 0.0035116417945618796, 'dropout_rate': 0.3620582375695016, 'lr': 0.0019943334906942813}. Best is trial 28 with value: 0.5826771653543307.\n"
     ]
    },
    {
     "name": "stdout",
     "output_type": "stream",
     "text": [
      "Early stopping at epoch 10\n"
     ]
    },
    {
     "name": "stderr",
     "output_type": "stream",
     "text": [
      "[I 2024-09-12 21:21:35,704] Trial 61 finished with value: 0.5196850393700787 and parameters: {'out_channels': 81, 'kernel_size': 7, 'num_blocks': 4, 'l2_lambda': 0.006181972814058357, 'dropout_rate': 0.28971382485991154, 'lr': 0.0048838676512607485}. Best is trial 28 with value: 0.5826771653543307.\n"
     ]
    },
    {
     "name": "stdout",
     "output_type": "stream",
     "text": [
      "Early stopping at epoch 10\n"
     ]
    },
    {
     "name": "stderr",
     "output_type": "stream",
     "text": [
      "[I 2024-09-12 21:21:36,882] Trial 62 finished with value: 0.5196850393700787 and parameters: {'out_channels': 84, 'kernel_size': 7, 'num_blocks': 4, 'l2_lambda': 0.0048896136878076694, 'dropout_rate': 0.2951354471616043, 'lr': 0.004049969194551529}. Best is trial 28 with value: 0.5826771653543307.\n"
     ]
    },
    {
     "name": "stdout",
     "output_type": "stream",
     "text": [
      "Early stopping at epoch 10\n"
     ]
    },
    {
     "name": "stderr",
     "output_type": "stream",
     "text": [
      "[I 2024-09-12 21:21:37,889] Trial 63 finished with value: 0.5196850393700787 and parameters: {'out_channels': 75, 'kernel_size': 7, 'num_blocks': 3, 'l2_lambda': 0.006100931081406964, 'dropout_rate': 0.3224740648075042, 'lr': 0.004614675552035703}. Best is trial 28 with value: 0.5826771653543307.\n"
     ]
    },
    {
     "name": "stdout",
     "output_type": "stream",
     "text": [
      "Early stopping at epoch 10\n"
     ]
    },
    {
     "name": "stderr",
     "output_type": "stream",
     "text": [
      "[I 2024-09-12 21:21:39,286] Trial 64 finished with value: 0.5196850393700787 and parameters: {'out_channels': 108, 'kernel_size': 7, 'num_blocks': 4, 'l2_lambda': 0.006786999210843452, 'dropout_rate': 0.30839271987424915, 'lr': 0.0037369600641795047}. Best is trial 28 with value: 0.5826771653543307.\n"
     ]
    },
    {
     "name": "stdout",
     "output_type": "stream",
     "text": [
      "Early stopping at epoch 11\n"
     ]
    },
    {
     "name": "stderr",
     "output_type": "stream",
     "text": [
      "[I 2024-09-12 21:21:41,832] Trial 65 finished with value: 0.5354330708661418 and parameters: {'out_channels': 88, 'kernel_size': 7, 'num_blocks': 5, 'l2_lambda': 0.005366506667651716, 'dropout_rate': 0.277069042600309, 'lr': 0.004468187490155101}. Best is trial 28 with value: 0.5826771653543307.\n"
     ]
    },
    {
     "name": "stdout",
     "output_type": "stream",
     "text": [
      "Early stopping at epoch 19\n"
     ]
    },
    {
     "name": "stderr",
     "output_type": "stream",
     "text": [
      "[I 2024-09-12 21:21:42,644] Trial 66 finished with value: 0.5196850393700787 and parameters: {'out_channels': 100, 'kernel_size': 6, 'num_blocks': 2, 'l2_lambda': 0.0056484616507369596, 'dropout_rate': 0.2359036411179808, 'lr': 0.0052693175163510625}. Best is trial 28 with value: 0.5826771653543307.\n"
     ]
    },
    {
     "name": "stdout",
     "output_type": "stream",
     "text": [
      "Early stopping at epoch 10\n"
     ]
    },
    {
     "name": "stderr",
     "output_type": "stream",
     "text": [
      "[I 2024-09-12 21:21:45,221] Trial 67 finished with value: 0.5196850393700787 and parameters: {'out_channels': 66, 'kernel_size': 5, 'num_blocks': 9, 'l2_lambda': 0.006969797069639365, 'dropout_rate': 0.3036211870817348, 'lr': 0.0094568807735621}. Best is trial 28 with value: 0.5826771653543307.\n"
     ]
    },
    {
     "name": "stdout",
     "output_type": "stream",
     "text": [
      "Early stopping at epoch 11\n"
     ]
    },
    {
     "name": "stderr",
     "output_type": "stream",
     "text": [
      "[I 2024-09-12 21:21:47,353] Trial 68 finished with value: 0.5196850393700787 and parameters: {'out_channels': 93, 'kernel_size': 7, 'num_blocks': 6, 'l2_lambda': 0.004998553486869876, 'dropout_rate': 0.2602963102795165, 'lr': 0.008412663028326686}. Best is trial 28 with value: 0.5826771653543307.\n"
     ]
    },
    {
     "name": "stdout",
     "output_type": "stream",
     "text": [
      "Early stopping at epoch 10\n"
     ]
    },
    {
     "name": "stderr",
     "output_type": "stream",
     "text": [
      "[I 2024-09-12 21:21:49,597] Trial 69 finished with value: 0.5196850393700787 and parameters: {'out_channels': 72, 'kernel_size': 3, 'num_blocks': 8, 'l2_lambda': 0.006550080439187058, 'dropout_rate': 0.338318889102598, 'lr': 0.007049652604505834}. Best is trial 28 with value: 0.5826771653543307.\n"
     ]
    },
    {
     "name": "stdout",
     "output_type": "stream",
     "text": [
      "Early stopping at epoch 10\n"
     ]
    },
    {
     "name": "stderr",
     "output_type": "stream",
     "text": [
      "[I 2024-09-12 21:21:52,371] Trial 70 finished with value: 0.5196850393700787 and parameters: {'out_channels': 43, 'kernel_size': 5, 'num_blocks': 10, 'l2_lambda': 0.0023133206124204978, 'dropout_rate': 0.2432231324566147, 'lr': 0.003109294188078853}. Best is trial 28 with value: 0.5826771653543307.\n"
     ]
    },
    {
     "name": "stdout",
     "output_type": "stream",
     "text": [
      "Early stopping at epoch 10\n"
     ]
    },
    {
     "name": "stderr",
     "output_type": "stream",
     "text": [
      "[I 2024-09-12 21:21:55,865] Trial 71 finished with value: 0.5196850393700787 and parameters: {'out_channels': 78, 'kernel_size': 6, 'num_blocks': 9, 'l2_lambda': 0.005486705421476676, 'dropout_rate': 0.3646111490798541, 'lr': 0.002265225770668679}. Best is trial 28 with value: 0.5826771653543307.\n"
     ]
    },
    {
     "name": "stdout",
     "output_type": "stream",
     "text": [
      "Early stopping at epoch 11\n"
     ]
    },
    {
     "name": "stderr",
     "output_type": "stream",
     "text": [
      "[I 2024-09-12 21:21:58,952] Trial 72 finished with value: 0.5196850393700787 and parameters: {'out_channels': 79, 'kernel_size': 6, 'num_blocks': 9, 'l2_lambda': 0.0045379234828613405, 'dropout_rate': 0.32776097062558385, 'lr': 0.0007801388992042652}. Best is trial 28 with value: 0.5826771653543307.\n"
     ]
    },
    {
     "name": "stdout",
     "output_type": "stream",
     "text": [
      "Early stopping at epoch 10\n"
     ]
    },
    {
     "name": "stderr",
     "output_type": "stream",
     "text": [
      "[I 2024-09-12 21:22:03,070] Trial 73 finished with value: 0.5275590551181102 and parameters: {'out_channels': 85, 'kernel_size': 5, 'num_blocks': 8, 'l2_lambda': 0.005350711354622593, 'dropout_rate': 0.2844357864765769, 'lr': 0.0014051857039537475}. Best is trial 28 with value: 0.5826771653543307.\n"
     ]
    },
    {
     "name": "stdout",
     "output_type": "stream",
     "text": [
      "Early stopping at epoch 18\n"
     ]
    },
    {
     "name": "stderr",
     "output_type": "stream",
     "text": [
      "[I 2024-09-12 21:22:05,929] Trial 74 finished with value: 0.5196850393700787 and parameters: {'out_channels': 91, 'kernel_size': 7, 'num_blocks': 9, 'l2_lambda': 0.005999709121799782, 'dropout_rate': 0.3412107781740682, 'lr': 0.002627975596475698}. Best is trial 28 with value: 0.5826771653543307.\n"
     ]
    },
    {
     "name": "stdout",
     "output_type": "stream",
     "text": [
      "Early stopping at epoch 10\n"
     ]
    },
    {
     "name": "stderr",
     "output_type": "stream",
     "text": [
      "[I 2024-09-12 21:22:10,980] Trial 75 finished with value: 0.5275590551181102 and parameters: {'out_channels': 88, 'kernel_size': 4, 'num_blocks': 10, 'l2_lambda': 0.006232327000145613, 'dropout_rate': 0.37571214134074477, 'lr': 0.0023514139084085074}. Best is trial 28 with value: 0.5826771653543307.\n"
     ]
    },
    {
     "name": "stdout",
     "output_type": "stream",
     "text": [
      "Early stopping at epoch 17\n"
     ]
    },
    {
     "name": "stderr",
     "output_type": "stream",
     "text": [
      "[I 2024-09-12 21:22:13,524] Trial 76 finished with value: 0.5196850393700787 and parameters: {'out_channels': 70, 'kernel_size': 6, 'num_blocks': 7, 'l2_lambda': 0.004787494303237849, 'dropout_rate': 0.31391790607800774, 'lr': 0.0018014602024873057}. Best is trial 28 with value: 0.5826771653543307.\n"
     ]
    },
    {
     "name": "stdout",
     "output_type": "stream",
     "text": [
      "Early stopping at epoch 11\n"
     ]
    },
    {
     "name": "stderr",
     "output_type": "stream",
     "text": [
      "[I 2024-09-12 21:22:17,404] Trial 77 finished with value: 0.5275590551181102 and parameters: {'out_channels': 75, 'kernel_size': 6, 'num_blocks': 8, 'l2_lambda': 0.009376575684115962, 'dropout_rate': 0.2271520470976556, 'lr': 0.003412317099031273}. Best is trial 28 with value: 0.5826771653543307.\n"
     ]
    },
    {
     "name": "stdout",
     "output_type": "stream",
     "text": [
      "Early stopping at epoch 14\n"
     ]
    },
    {
     "name": "stderr",
     "output_type": "stream",
     "text": [
      "[I 2024-09-12 21:22:20,455] Trial 78 finished with value: 0.5196850393700787 and parameters: {'out_channels': 83, 'kernel_size': 7, 'num_blocks': 9, 'l2_lambda': 0.005181027658250338, 'dropout_rate': 0.27093195690166555, 'lr': 0.003762246521859014}. Best is trial 28 with value: 0.5826771653543307.\n"
     ]
    },
    {
     "name": "stdout",
     "output_type": "stream",
     "text": [
      "Early stopping at epoch 10\n"
     ]
    },
    {
     "name": "stderr",
     "output_type": "stream",
     "text": [
      "[I 2024-09-12 21:22:22,678] Trial 79 finished with value: 0.5275590551181102 and parameters: {'out_channels': 54, 'kernel_size': 5, 'num_blocks': 4, 'l2_lambda': 0.006397802713721579, 'dropout_rate': 0.2949695491162606, 'lr': 0.0002722309620784918}. Best is trial 28 with value: 0.5826771653543307.\n"
     ]
    },
    {
     "name": "stdout",
     "output_type": "stream",
     "text": [
      "Early stopping at epoch 20\n"
     ]
    },
    {
     "name": "stderr",
     "output_type": "stream",
     "text": [
      "[I 2024-09-12 21:22:26,935] Trial 80 finished with value: 0.5275590551181102 and parameters: {'out_channels': 60, 'kernel_size': 5, 'num_blocks': 9, 'l2_lambda': 0.008642407850907495, 'dropout_rate': 0.19191794965144096, 'lr': 0.004116560199473073}. Best is trial 28 with value: 0.5826771653543307.\n"
     ]
    },
    {
     "name": "stdout",
     "output_type": "stream",
     "text": [
      "Early stopping at epoch 20\n"
     ]
    },
    {
     "name": "stderr",
     "output_type": "stream",
     "text": [
      "[I 2024-09-12 21:22:30,418] Trial 81 finished with value: 0.5196850393700787 and parameters: {'out_channels': 34, 'kernel_size': 4, 'num_blocks': 9, 'l2_lambda': 0.0075617714127224605, 'dropout_rate': 0.250742033471677, 'lr': 0.0007442401978491765}. Best is trial 28 with value: 0.5826771653543307.\n"
     ]
    },
    {
     "name": "stdout",
     "output_type": "stream",
     "text": [
      "Early stopping at epoch 14\n"
     ]
    },
    {
     "name": "stderr",
     "output_type": "stream",
     "text": [
      "[I 2024-09-12 21:22:33,417] Trial 82 finished with value: 0.48031496062992124 and parameters: {'out_channels': 48, 'kernel_size': 4, 'num_blocks': 10, 'l2_lambda': 0.008466527494349004, 'dropout_rate': 0.2151387954499912, 'lr': 0.0010519719389562206}. Best is trial 28 with value: 0.5826771653543307.\n"
     ]
    },
    {
     "name": "stdout",
     "output_type": "stream",
     "text": [
      "Early stopping at epoch 10\n"
     ]
    },
    {
     "name": "stderr",
     "output_type": "stream",
     "text": [
      "[I 2024-09-12 21:22:37,677] Trial 83 finished with value: 0.5196850393700787 and parameters: {'out_channels': 23, 'kernel_size': 4, 'num_blocks': 9, 'l2_lambda': 0.008212984452232747, 'dropout_rate': 0.3524791615652656, 'lr': 0.0016684583492193057}. Best is trial 28 with value: 0.5826771653543307.\n"
     ]
    },
    {
     "name": "stdout",
     "output_type": "stream",
     "text": [
      "Early stopping at epoch 18\n"
     ]
    },
    {
     "name": "stderr",
     "output_type": "stream",
     "text": [
      "[I 2024-09-12 21:22:40,951] Trial 84 finished with value: 0.5275590551181102 and parameters: {'out_channels': 37, 'kernel_size': 4, 'num_blocks': 10, 'l2_lambda': 0.008928831973082288, 'dropout_rate': 0.22405714927470502, 'lr': 0.0012306229960319473}. Best is trial 28 with value: 0.5826771653543307.\n"
     ]
    },
    {
     "name": "stdout",
     "output_type": "stream",
     "text": [
      "Early stopping at epoch 11\n"
     ]
    },
    {
     "name": "stderr",
     "output_type": "stream",
     "text": [
      "[I 2024-09-12 21:22:47,300] Trial 85 finished with value: 0.5433070866141733 and parameters: {'out_channels': 66, 'kernel_size': 4, 'num_blocks': 8, 'l2_lambda': 0.008047779187426026, 'dropout_rate': 0.3304766045356924, 'lr': 0.0028908196050866698}. Best is trial 28 with value: 0.5826771653543307.\n"
     ]
    },
    {
     "name": "stdout",
     "output_type": "stream",
     "text": [
      "Early stopping at epoch 28\n"
     ]
    },
    {
     "name": "stderr",
     "output_type": "stream",
     "text": [
      "[I 2024-09-12 21:22:49,870] Trial 86 finished with value: 0.5196850393700787 and parameters: {'out_channels': 96, 'kernel_size': 5, 'num_blocks': 9, 'l2_lambda': 0.005716345318498846, 'dropout_rate': 0.3207816760245261, 'lr': 0.0019266565182055324}. Best is trial 28 with value: 0.5826771653543307.\n"
     ]
    },
    {
     "name": "stdout",
     "output_type": "stream",
     "text": [
      "Early stopping at epoch 10\n"
     ]
    },
    {
     "name": "stderr",
     "output_type": "stream",
     "text": [
      "[I 2024-09-12 21:22:51,679] Trial 87 finished with value: 0.5275590551181102 and parameters: {'out_channels': 30, 'kernel_size': 3, 'num_blocks': 8, 'l2_lambda': 0.007238941647934712, 'dropout_rate': 0.2628945312013863, 'lr': 0.0006041295119990045}. Best is trial 28 with value: 0.5826771653543307.\n"
     ]
    },
    {
     "name": "stdout",
     "output_type": "stream",
     "text": [
      "Early stopping at epoch 10\n"
     ]
    },
    {
     "name": "stderr",
     "output_type": "stream",
     "text": [
      "[I 2024-09-12 21:22:54,906] Trial 88 finished with value: 0.5354330708661418 and parameters: {'out_channels': 100, 'kernel_size': 7, 'num_blocks': 5, 'l2_lambda': 0.006887054970332323, 'dropout_rate': 0.21071290299922174, 'lr': 0.0024457448071214193}. Best is trial 28 with value: 0.5826771653543307.\n"
     ]
    },
    {
     "name": "stdout",
     "output_type": "stream",
     "text": [
      "Early stopping at epoch 21\n"
     ]
    },
    {
     "name": "stderr",
     "output_type": "stream",
     "text": [
      "[I 2024-09-12 21:22:59,000] Trial 89 finished with value: 0.5748031496062992 and parameters: {'out_channels': 80, 'kernel_size': 5, 'num_blocks': 9, 'l2_lambda': 0.005965451770603829, 'dropout_rate': 0.24312505937943898, 'lr': 0.00568774842458252}. Best is trial 28 with value: 0.5826771653543307.\n"
     ]
    },
    {
     "name": "stdout",
     "output_type": "stream",
     "text": [
      "Early stopping at epoch 18\n"
     ]
    },
    {
     "name": "stderr",
     "output_type": "stream",
     "text": [
      "[I 2024-09-12 21:23:02,006] Trial 90 finished with value: 0.5196850393700787 and parameters: {'out_channels': 80, 'kernel_size': 5, 'num_blocks': 10, 'l2_lambda': 0.005985486036926714, 'dropout_rate': 0.2754340251600124, 'lr': 0.008018492433151453}. Best is trial 28 with value: 0.5826771653543307.\n"
     ]
    },
    {
     "name": "stdout",
     "output_type": "stream",
     "text": [
      "Early stopping at epoch 11\n"
     ]
    },
    {
     "name": "stderr",
     "output_type": "stream",
     "text": [
      "[I 2024-09-12 21:23:05,631] Trial 91 finished with value: 0.5275590551181102 and parameters: {'out_channels': 86, 'kernel_size': 5, 'num_blocks': 9, 'l2_lambda': 0.005660659155336938, 'dropout_rate': 0.24239130004522555, 'lr': 0.006330962515134005}. Best is trial 28 with value: 0.5826771653543307.\n"
     ]
    },
    {
     "name": "stdout",
     "output_type": "stream",
     "text": [
      "Early stopping at epoch 15\n"
     ]
    },
    {
     "name": "stderr",
     "output_type": "stream",
     "text": [
      "[I 2024-09-12 21:23:08,244] Trial 92 finished with value: 0.5196850393700787 and parameters: {'out_channels': 90, 'kernel_size': 5, 'num_blocks': 9, 'l2_lambda': 0.00771854517388663, 'dropout_rate': 0.23167484502009209, 'lr': 0.005603207590795335}. Best is trial 28 with value: 0.5826771653543307.\n"
     ]
    },
    {
     "name": "stdout",
     "output_type": "stream",
     "text": [
      "Early stopping at epoch 10\n"
     ]
    },
    {
     "name": "stderr",
     "output_type": "stream",
     "text": [
      "[I 2024-09-12 21:23:10,704] Trial 93 finished with value: 0.48031496062992124 and parameters: {'out_channels': 74, 'kernel_size': 4, 'num_blocks': 8, 'l2_lambda': 0.005215213200589395, 'dropout_rate': 0.38778907560193404, 'lr': 8.056549464194448e-05}. Best is trial 28 with value: 0.5826771653543307.\n"
     ]
    },
    {
     "name": "stdout",
     "output_type": "stream",
     "text": [
      "Early stopping at epoch 10\n"
     ]
    },
    {
     "name": "stderr",
     "output_type": "stream",
     "text": [
      "[I 2024-09-12 21:23:14,581] Trial 94 finished with value: 0.5039370078740157 and parameters: {'out_channels': 77, 'kernel_size': 6, 'num_blocks': 9, 'l2_lambda': 0.004935983050591944, 'dropout_rate': 0.21901555914812967, 'lr': 0.0010095807523921858}. Best is trial 28 with value: 0.5826771653543307.\n"
     ]
    },
    {
     "name": "stdout",
     "output_type": "stream",
     "text": [
      "Early stopping at epoch 14\n"
     ]
    },
    {
     "name": "stderr",
     "output_type": "stream",
     "text": [
      "[I 2024-09-12 21:23:16,682] Trial 95 finished with value: 0.5196850393700787 and parameters: {'out_channels': 82, 'kernel_size': 5, 'num_blocks': 7, 'l2_lambda': 0.004242418764915259, 'dropout_rate': 0.2544763559668142, 'lr': 0.007541237291989137}. Best is trial 28 with value: 0.5826771653543307.\n"
     ]
    },
    {
     "name": "stdout",
     "output_type": "stream",
     "text": [
      "Early stopping at epoch 10\n"
     ]
    },
    {
     "name": "stderr",
     "output_type": "stream",
     "text": [
      "[I 2024-09-12 21:23:17,166] Trial 96 finished with value: 0.5354330708661418 and parameters: {'out_channels': 30, 'kernel_size': 7, 'num_blocks': 1, 'l2_lambda': 0.006380303232992129, 'dropout_rate': 0.19675945642944023, 'lr': 0.0014360134073793185}. Best is trial 28 with value: 0.5826771653543307.\n"
     ]
    },
    {
     "name": "stdout",
     "output_type": "stream",
     "text": [
      "Early stopping at epoch 11\n"
     ]
    },
    {
     "name": "stderr",
     "output_type": "stream",
     "text": [
      "[I 2024-09-12 21:23:22,993] Trial 97 finished with value: 0.5196850393700787 and parameters: {'out_channels': 40, 'kernel_size': 4, 'num_blocks': 10, 'l2_lambda': 0.003828636653808396, 'dropout_rate': 0.1798208947352783, 'lr': 0.008981513199453547}. Best is trial 28 with value: 0.5826771653543307.\n"
     ]
    },
    {
     "name": "stdout",
     "output_type": "stream",
     "text": [
      "Early stopping at epoch 23\n"
     ]
    },
    {
     "name": "stderr",
     "output_type": "stream",
     "text": [
      "[I 2024-09-12 21:23:27,502] Trial 98 finished with value: 0.5275590551181102 and parameters: {'out_channels': 94, 'kernel_size': 5, 'num_blocks': 8, 'l2_lambda': 0.005831475783939583, 'dropout_rate': 0.28645594088332926, 'lr': 0.005138950133921039}. Best is trial 28 with value: 0.5826771653543307.\n"
     ]
    },
    {
     "name": "stdout",
     "output_type": "stream",
     "text": [
      "Early stopping at epoch 20\n"
     ]
    },
    {
     "name": "stderr",
     "output_type": "stream",
     "text": [
      "[I 2024-09-12 21:23:30,225] Trial 99 finished with value: 0.5196850393700787 and parameters: {'out_channels': 87, 'kernel_size': 7, 'num_blocks': 9, 'l2_lambda': 0.006740171972215068, 'dropout_rate': 0.3002951694254676, 'lr': 0.0046134807386998085}. Best is trial 28 with value: 0.5826771653543307.\n",
      "[I 2024-09-12 21:23:30,295] A new study created in memory with name: no-name-0b859470-7db8-4466-93a1-dac59b744b3d\n"
     ]
    },
    {
     "name": "stdout",
     "output_type": "stream",
     "text": [
      "Early stopping at epoch 10\n",
      "parameters for SGDUSD=X saved to ../models/best-hyperparameters/pytorch/conv1d-classification/SGDUSD=X.json\n",
      "Best model for SGDUSD=X saved with accuracy: 0.5826771653543307\n"
     ]
    },
    {
     "name": "stderr",
     "output_type": "stream",
     "text": [
      "[I 2024-09-12 21:23:31,403] Trial 0 finished with value: 0.02260938659310341 and parameters: {'out_channels': 18, 'kernel_size': 5, 'num_blocks': 1, 'l2_lambda': 0.00748156577459531, 'dropout_rate': 0.23560494223731065, 'lr': 0.004439537436869077}. Best is trial 0 with value: 0.02260938659310341.\n"
     ]
    },
    {
     "name": "stdout",
     "output_type": "stream",
     "text": [
      "Early stopping at epoch 34\n"
     ]
    },
    {
     "name": "stderr",
     "output_type": "stream",
     "text": [
      "[I 2024-09-12 21:23:35,198] Trial 1 finished with value: 0.025895623490214348 and parameters: {'out_channels': 96, 'kernel_size': 5, 'num_blocks': 4, 'l2_lambda': 0.009680869189313926, 'dropout_rate': 0.2942374266446959, 'lr': 0.0060276331353304735}. Best is trial 0 with value: 0.02260938659310341.\n"
     ]
    },
    {
     "name": "stdout",
     "output_type": "stream",
     "text": [
      "Early stopping at epoch 37\n"
     ]
    },
    {
     "name": "stderr",
     "output_type": "stream",
     "text": [
      "[I 2024-09-12 21:23:37,647] Trial 2 finished with value: 0.036563578993082047 and parameters: {'out_channels': 40, 'kernel_size': 4, 'num_blocks': 4, 'l2_lambda': 0.006537330838064301, 'dropout_rate': 0.12336522835658426, 'lr': 0.0059623677751646925}. Best is trial 0 with value: 0.02260938659310341.\n"
     ]
    },
    {
     "name": "stdout",
     "output_type": "stream",
     "text": [
      "Early stopping at epoch 24\n"
     ]
    },
    {
     "name": "stderr",
     "output_type": "stream",
     "text": [
      "[I 2024-09-12 21:23:42,186] Trial 3 finished with value: 0.07027153670787811 and parameters: {'out_channels': 107, 'kernel_size': 4, 'num_blocks': 5, 'l2_lambda': 0.007345180299125802, 'dropout_rate': 0.32827778175016015, 'lr': 0.009390211780236109}. Best is trial 0 with value: 0.02260938659310341.\n"
     ]
    },
    {
     "name": "stdout",
     "output_type": "stream",
     "text": [
      "Early stopping at epoch 30\n"
     ]
    },
    {
     "name": "stderr",
     "output_type": "stream",
     "text": [
      "[I 2024-09-12 21:23:46,879] Trial 4 finished with value: 0.03000914864242077 and parameters: {'out_channels': 105, 'kernel_size': 5, 'num_blocks': 4, 'l2_lambda': 0.005374323372043718, 'dropout_rate': 0.15034329087278234, 'lr': 0.007795459058781683}. Best is trial 0 with value: 0.02260938659310341.\n"
     ]
    },
    {
     "name": "stdout",
     "output_type": "stream",
     "text": [
      "Early stopping at epoch 41\n"
     ]
    },
    {
     "name": "stderr",
     "output_type": "stream",
     "text": [
      "[I 2024-09-12 21:23:51,181] Trial 5 finished with value: 0.03130008280277252 and parameters: {'out_channels': 42, 'kernel_size': 5, 'num_blocks': 5, 'l2_lambda': 0.004272090530194812, 'dropout_rate': 0.14525330769947195, 'lr': 0.006956863258649202}. Best is trial 0 with value: 0.02260938659310341.\n"
     ]
    },
    {
     "name": "stdout",
     "output_type": "stream",
     "text": [
      "Early stopping at epoch 39\n"
     ]
    },
    {
     "name": "stderr",
     "output_type": "stream",
     "text": [
      "[I 2024-09-12 21:23:53,955] Trial 6 finished with value: 0.04664888605475426 and parameters: {'out_channels': 28, 'kernel_size': 6, 'num_blocks': 4, 'l2_lambda': 0.004313008433375625, 'dropout_rate': 0.10466180027553551, 'lr': 0.007057308697963677}. Best is trial 0 with value: 0.02260938659310341.\n"
     ]
    },
    {
     "name": "stdout",
     "output_type": "stream",
     "text": [
      "Early stopping at epoch 25\n"
     ]
    },
    {
     "name": "stderr",
     "output_type": "stream",
     "text": [
      "[I 2024-09-12 21:23:54,783] Trial 7 finished with value: 0.3967899978160858 and parameters: {'out_channels': 48, 'kernel_size': 6, 'num_blocks': 2, 'l2_lambda': 0.009152223794021443, 'dropout_rate': 0.2655461820955337, 'lr': 0.004306370250390872}. Best is trial 0 with value: 0.02260938659310341.\n"
     ]
    },
    {
     "name": "stdout",
     "output_type": "stream",
     "text": [
      "Early stopping at epoch 12\n"
     ]
    },
    {
     "name": "stderr",
     "output_type": "stream",
     "text": [
      "[I 2024-09-12 21:23:57,906] Trial 8 finished with value: 0.0656503289937973 and parameters: {'out_channels': 58, 'kernel_size': 6, 'num_blocks': 5, 'l2_lambda': 0.0032342955984052263, 'dropout_rate': 0.3762428967509944, 'lr': 0.00413943771057016}. Best is trial 0 with value: 0.02260938659310341.\n"
     ]
    },
    {
     "name": "stdout",
     "output_type": "stream",
     "text": [
      "Early stopping at epoch 21\n"
     ]
    },
    {
     "name": "stderr",
     "output_type": "stream",
     "text": [
      "[I 2024-09-12 21:24:02,395] Trial 9 finished with value: 0.026424309238791466 and parameters: {'out_channels': 70, 'kernel_size': 6, 'num_blocks': 5, 'l2_lambda': 0.008489410910387556, 'dropout_rate': 0.160874825418684, 'lr': 0.0008571279103535915}. Best is trial 0 with value: 0.02260938659310341.\n"
     ]
    },
    {
     "name": "stdout",
     "output_type": "stream",
     "text": [
      "Early stopping at epoch 31\n"
     ]
    },
    {
     "name": "stderr",
     "output_type": "stream",
     "text": [
      "[I 2024-09-12 21:24:03,178] Trial 10 finished with value: 0.01535301934927702 and parameters: {'out_channels': 22, 'kernel_size': 3, 'num_blocks': 1, 'l2_lambda': 0.001132271603626092, 'dropout_rate': 0.4891645797817115, 'lr': 0.0016569402503324808}. Best is trial 10 with value: 0.01535301934927702.\n"
     ]
    },
    {
     "name": "stdout",
     "output_type": "stream",
     "text": [
      "Early stopping at epoch 24\n"
     ]
    },
    {
     "name": "stderr",
     "output_type": "stream",
     "text": [
      "[I 2024-09-12 21:24:04,099] Trial 11 finished with value: 0.12432527542114258 and parameters: {'out_channels': 18, 'kernel_size': 3, 'num_blocks': 1, 'l2_lambda': 0.00046841926571003067, 'dropout_rate': 0.48665934361797586, 'lr': 0.0013387086880867686}. Best is trial 10 with value: 0.01535301934927702.\n"
     ]
    },
    {
     "name": "stdout",
     "output_type": "stream",
     "text": [
      "Early stopping at epoch 27\n"
     ]
    },
    {
     "name": "stderr",
     "output_type": "stream",
     "text": [
      "[I 2024-09-12 21:24:04,948] Trial 12 finished with value: 0.07370146363973618 and parameters: {'out_channels': 16, 'kernel_size': 3, 'num_blocks': 1, 'l2_lambda': 0.0002461711372788785, 'dropout_rate': 0.4503412399001846, 'lr': 0.00269123178688571}. Best is trial 10 with value: 0.01535301934927702.\n"
     ]
    },
    {
     "name": "stdout",
     "output_type": "stream",
     "text": [
      "Early stopping at epoch 24\n"
     ]
    },
    {
     "name": "stderr",
     "output_type": "stream",
     "text": [
      "[I 2024-09-12 21:24:07,375] Trial 13 finished with value: 0.023877058178186417 and parameters: {'out_channels': 75, 'kernel_size': 7, 'num_blocks': 2, 'l2_lambda': 0.002189078202175141, 'dropout_rate': 0.21540605168498547, 'lr': 0.0026490131098404084}. Best is trial 10 with value: 0.01535301934927702.\n"
     ]
    },
    {
     "name": "stdout",
     "output_type": "stream",
     "text": [
      "Early stopping at epoch 37\n"
     ]
    },
    {
     "name": "stderr",
     "output_type": "stream",
     "text": [
      "[I 2024-09-12 21:24:09,279] Trial 14 finished with value: 0.03390582278370857 and parameters: {'out_channels': 30, 'kernel_size': 4, 'num_blocks': 2, 'l2_lambda': 0.006598823095088961, 'dropout_rate': 0.4046776899664828, 'lr': 0.00282576237247221}. Best is trial 10 with value: 0.01535301934927702.\n"
     ]
    },
    {
     "name": "stdout",
     "output_type": "stream",
     "text": [
      "Early stopping at epoch 32\n"
     ]
    },
    {
     "name": "stderr",
     "output_type": "stream",
     "text": [
      "[I 2024-09-12 21:24:12,375] Trial 15 finished with value: 0.015438811853528023 and parameters: {'out_channels': 87, 'kernel_size': 3, 'num_blocks': 1, 'l2_lambda': 0.007976322649419096, 'dropout_rate': 0.23349226758484104, 'lr': 0.00016797297810812028}. Best is trial 10 with value: 0.01535301934927702.\n"
     ]
    },
    {
     "name": "stdout",
     "output_type": "stream",
     "text": [
      "Early stopping at epoch 81\n"
     ]
    },
    {
     "name": "stderr",
     "output_type": "stream",
     "text": [
      "[I 2024-09-12 21:24:13,831] Trial 16 finished with value: 0.1158517450094223 and parameters: {'out_channels': 121, 'kernel_size': 3, 'num_blocks': 3, 'l2_lambda': 0.0017067359826806808, 'dropout_rate': 0.3404778188092576, 'lr': 0.00018537555310287144}. Best is trial 10 with value: 0.01535301934927702.\n"
     ]
    },
    {
     "name": "stdout",
     "output_type": "stream",
     "text": [
      "Early stopping at epoch 15\n"
     ]
    },
    {
     "name": "stderr",
     "output_type": "stream",
     "text": [
      "[I 2024-09-12 21:24:16,067] Trial 17 finished with value: 0.020693989470601082 and parameters: {'out_channels': 84, 'kernel_size': 3, 'num_blocks': 2, 'l2_lambda': 0.005555680210938885, 'dropout_rate': 0.2095854331532009, 'lr': 0.0015909636110095961}. Best is trial 10 with value: 0.01535301934927702.\n"
     ]
    },
    {
     "name": "stdout",
     "output_type": "stream",
     "text": [
      "Early stopping at epoch 39\n"
     ]
    },
    {
     "name": "stderr",
     "output_type": "stream",
     "text": [
      "[I 2024-09-12 21:24:39,004] Trial 18 finished with value: 0.020553430542349815 and parameters: {'out_channels': 62, 'kernel_size': 4, 'num_blocks': 1, 'l2_lambda': 0.002921515151531888, 'dropout_rate': 0.41510817996140936, 'lr': 0.00029166407967898115}. Best is trial 10 with value: 0.01535301934927702.\n"
     ]
    },
    {
     "name": "stdout",
     "output_type": "stream",
     "text": [
      "Early stopping at epoch 602\n"
     ]
    },
    {
     "name": "stderr",
     "output_type": "stream",
     "text": [
      "[I 2024-09-12 21:24:40,187] Trial 19 finished with value: 0.06520450860261917 and parameters: {'out_channels': 89, 'kernel_size': 3, 'num_blocks': 3, 'l2_lambda': 0.008360771757830732, 'dropout_rate': 0.48683446710314165, 'lr': 0.0020606269348006105}. Best is trial 10 with value: 0.01535301934927702.\n"
     ]
    },
    {
     "name": "stdout",
     "output_type": "stream",
     "text": [
      "Early stopping at epoch 11\n"
     ]
    },
    {
     "name": "stderr",
     "output_type": "stream",
     "text": [
      "[I 2024-09-12 21:24:44,252] Trial 20 finished with value: 0.025763222947716713 and parameters: {'out_channels': 115, 'kernel_size': 4, 'num_blocks': 3, 'l2_lambda': 0.001538153117848497, 'dropout_rate': 0.287326893625407, 'lr': 0.0034655450875074856}. Best is trial 10 with value: 0.01535301934927702.\n"
     ]
    },
    {
     "name": "stdout",
     "output_type": "stream",
     "text": [
      "Early stopping at epoch 42\n"
     ]
    },
    {
     "name": "stderr",
     "output_type": "stream",
     "text": [
      "[I 2024-09-12 21:25:22,420] Trial 21 finished with value: 0.46414023637771606 and parameters: {'out_channels': 60, 'kernel_size': 4, 'num_blocks': 1, 'l2_lambda': 0.002795163566961286, 'dropout_rate': 0.4285531249344883, 'lr': 5.4718973335849406e-05}. Best is trial 10 with value: 0.01535301934927702.\n",
      "[I 2024-09-12 21:25:24,364] Trial 22 finished with value: 0.024979518726468086 and parameters: {'out_channels': 77, 'kernel_size': 3, 'num_blocks': 1, 'l2_lambda': 0.003292801254787577, 'dropout_rate': 0.45699677406371364, 'lr': 0.0007872857915754061}. Best is trial 10 with value: 0.01535301934927702.\n"
     ]
    },
    {
     "name": "stdout",
     "output_type": "stream",
     "text": [
      "Early stopping at epoch 47\n"
     ]
    },
    {
     "name": "stderr",
     "output_type": "stream",
     "text": [
      "[I 2024-09-12 21:25:25,250] Trial 23 finished with value: 0.13731978833675385 and parameters: {'out_channels': 61, 'kernel_size': 4, 'num_blocks': 2, 'l2_lambda': 0.0010113239145115149, 'dropout_rate': 0.38117587507098066, 'lr': 0.0008360673436392029}. Best is trial 10 with value: 0.01535301934927702.\n"
     ]
    },
    {
     "name": "stdout",
     "output_type": "stream",
     "text": [
      "Early stopping at epoch 12\n"
     ]
    },
    {
     "name": "stderr",
     "output_type": "stream",
     "text": [
      "[I 2024-09-12 21:25:27,130] Trial 24 finished with value: 0.011485240422189236 and parameters: {'out_channels': 93, 'kernel_size': 3, 'num_blocks': 1, 'l2_lambda': 0.0024607798259349465, 'dropout_rate': 0.4984982457519663, 'lr': 0.0018788603232972778}. Best is trial 24 with value: 0.011485240422189236.\n"
     ]
    },
    {
     "name": "stdout",
     "output_type": "stream",
     "text": [
      "Early stopping at epoch 47\n"
     ]
    },
    {
     "name": "stderr",
     "output_type": "stream",
     "text": [
      "[I 2024-09-12 21:25:28,358] Trial 25 finished with value: 0.027338571846485138 and parameters: {'out_channels': 98, 'kernel_size': 3, 'num_blocks': 1, 'l2_lambda': 0.004315033657788083, 'dropout_rate': 0.4636156530766788, 'lr': 0.0019437820336808342}. Best is trial 24 with value: 0.011485240422189236.\n"
     ]
    },
    {
     "name": "stdout",
     "output_type": "stream",
     "text": [
      "Early stopping at epoch 29\n"
     ]
    },
    {
     "name": "stderr",
     "output_type": "stream",
     "text": [
      "[I 2024-09-12 21:25:29,651] Trial 26 finished with value: 0.03102295845746994 and parameters: {'out_channels': 86, 'kernel_size': 3, 'num_blocks': 2, 'l2_lambda': 1.7522037081135755e-05, 'dropout_rate': 0.4945500826860869, 'lr': 0.003211760220402804}. Best is trial 24 with value: 0.011485240422189236.\n"
     ]
    },
    {
     "name": "stdout",
     "output_type": "stream",
     "text": [
      "Early stopping at epoch 21\n"
     ]
    },
    {
     "name": "stderr",
     "output_type": "stream",
     "text": [
      "[I 2024-09-12 21:25:30,921] Trial 27 finished with value: 0.0228548813611269 and parameters: {'out_channels': 128, 'kernel_size': 3, 'num_blocks': 1, 'l2_lambda': 0.002075175922165382, 'dropout_rate': 0.18276127401220876, 'lr': 0.001956190086125462}. Best is trial 24 with value: 0.011485240422189236.\n"
     ]
    },
    {
     "name": "stdout",
     "output_type": "stream",
     "text": [
      "Early stopping at epoch 30\n"
     ]
    },
    {
     "name": "stderr",
     "output_type": "stream",
     "text": [
      "[I 2024-09-12 21:25:31,779] Trial 28 finished with value: 0.17668768763542175 and parameters: {'out_channels': 91, 'kernel_size': 3, 'num_blocks': 2, 'l2_lambda': 0.0011096877161731076, 'dropout_rate': 0.3315512686749027, 'lr': 0.0012022680181706842}. Best is trial 24 with value: 0.011485240422189236.\n"
     ]
    },
    {
     "name": "stdout",
     "output_type": "stream",
     "text": [
      "Early stopping at epoch 12\n"
     ]
    },
    {
     "name": "stderr",
     "output_type": "stream",
     "text": [
      "[I 2024-09-12 21:25:33,184] Trial 29 finished with value: 0.02082887850701809 and parameters: {'out_channels': 69, 'kernel_size': 7, 'num_blocks': 1, 'l2_lambda': 0.0061184941293838625, 'dropout_rate': 0.24277367694560933, 'lr': 0.0048469440833206565}. Best is trial 24 with value: 0.011485240422189236.\n"
     ]
    },
    {
     "name": "stdout",
     "output_type": "stream",
     "text": [
      "Early stopping at epoch 36\n"
     ]
    },
    {
     "name": "stderr",
     "output_type": "stream",
     "text": [
      "[I 2024-09-12 21:25:34,786] Trial 30 finished with value: 0.014732697047293186 and parameters: {'out_channels': 103, 'kernel_size': 4, 'num_blocks': 1, 'l2_lambda': 0.0039174478807868784, 'dropout_rate': 0.36949178050588516, 'lr': 0.0023997691626490214}. Best is trial 24 with value: 0.011485240422189236.\n"
     ]
    },
    {
     "name": "stdout",
     "output_type": "stream",
     "text": [
      "Early stopping at epoch 38\n"
     ]
    },
    {
     "name": "stderr",
     "output_type": "stream",
     "text": [
      "[I 2024-09-12 21:25:36,502] Trial 31 finished with value: 0.017520539462566376 and parameters: {'out_channels': 108, 'kernel_size': 4, 'num_blocks': 1, 'l2_lambda': 0.003989011684531292, 'dropout_rate': 0.3618489656969516, 'lr': 0.0038060215168132273}. Best is trial 24 with value: 0.011485240422189236.\n"
     ]
    },
    {
     "name": "stdout",
     "output_type": "stream",
     "text": [
      "Early stopping at epoch 42\n"
     ]
    },
    {
     "name": "stderr",
     "output_type": "stream",
     "text": [
      "[I 2024-09-12 21:25:37,258] Trial 32 finished with value: 0.05897585302591324 and parameters: {'out_channels': 99, 'kernel_size': 3, 'num_blocks': 1, 'l2_lambda': 0.002105335966651555, 'dropout_rate': 0.43716636408783566, 'lr': 0.0017603433423806854}. Best is trial 24 with value: 0.011485240422189236.\n"
     ]
    },
    {
     "name": "stdout",
     "output_type": "stream",
     "text": [
      "Early stopping at epoch 16\n"
     ]
    },
    {
     "name": "stderr",
     "output_type": "stream",
     "text": [
      "[I 2024-09-12 21:25:38,355] Trial 33 finished with value: 0.05764780566096306 and parameters: {'out_channels': 81, 'kernel_size': 4, 'num_blocks': 1, 'l2_lambda': 0.0036570572191272697, 'dropout_rate': 0.26260952847679864, 'lr': 0.002418553651305574}. Best is trial 24 with value: 0.011485240422189236.\n"
     ]
    },
    {
     "name": "stdout",
     "output_type": "stream",
     "text": [
      "Early stopping at epoch 26\n"
     ]
    },
    {
     "name": "stderr",
     "output_type": "stream",
     "text": [
      "[I 2024-09-12 21:25:41,611] Trial 34 finished with value: 0.015933260321617126 and parameters: {'out_channels': 102, 'kernel_size': 4, 'num_blocks': 2, 'l2_lambda': 0.0025273365036378812, 'dropout_rate': 0.3098347768110783, 'lr': 0.005408251392212648}. Best is trial 24 with value: 0.011485240422189236.\n"
     ]
    },
    {
     "name": "stdout",
     "output_type": "stream",
     "text": [
      "Early stopping at epoch 49\n"
     ]
    },
    {
     "name": "stderr",
     "output_type": "stream",
     "text": [
      "[I 2024-09-12 21:25:42,400] Trial 35 finished with value: 0.44284313917160034 and parameters: {'out_channels': 93, 'kernel_size': 3, 'num_blocks': 1, 'l2_lambda': 0.004946357368440804, 'dropout_rate': 0.466799419791183, 'lr': 0.0006500906232985687}. Best is trial 24 with value: 0.011485240422189236.\n"
     ]
    },
    {
     "name": "stdout",
     "output_type": "stream",
     "text": [
      "Early stopping at epoch 19\n"
     ]
    },
    {
     "name": "stderr",
     "output_type": "stream",
     "text": [
      "[I 2024-09-12 21:25:45,049] Trial 36 finished with value: 0.041236016899347305 and parameters: {'out_channels': 112, 'kernel_size': 5, 'num_blocks': 1, 'l2_lambda': 0.007262078989377954, 'dropout_rate': 0.49730358470212627, 'lr': 0.003259391916662294}. Best is trial 24 with value: 0.011485240422189236.\n"
     ]
    },
    {
     "name": "stdout",
     "output_type": "stream",
     "text": [
      "Early stopping at epoch 71\n"
     ]
    },
    {
     "name": "stderr",
     "output_type": "stream",
     "text": [
      "[I 2024-09-12 21:25:45,915] Trial 37 finished with value: 0.26974955201148987 and parameters: {'out_channels': 95, 'kernel_size': 4, 'num_blocks': 2, 'l2_lambda': 0.009997119348242118, 'dropout_rate': 0.40355390284880277, 'lr': 0.0013559935248052542}. Best is trial 24 with value: 0.011485240422189236.\n"
     ]
    },
    {
     "name": "stdout",
     "output_type": "stream",
     "text": [
      "Early stopping at epoch 11\n"
     ]
    },
    {
     "name": "stderr",
     "output_type": "stream",
     "text": [
      "[I 2024-09-12 21:25:46,708] Trial 38 finished with value: 0.10965995490550995 and parameters: {'out_channels': 52, 'kernel_size': 5, 'num_blocks': 1, 'l2_lambda': 0.005036982133105841, 'dropout_rate': 0.3012936283621132, 'lr': 0.0022651002836775796}. Best is trial 24 with value: 0.011485240422189236.\n"
     ]
    },
    {
     "name": "stdout",
     "output_type": "stream",
     "text": [
      "Early stopping at epoch 20\n"
     ]
    },
    {
     "name": "stderr",
     "output_type": "stream",
     "text": [
      "[I 2024-09-12 21:25:47,489] Trial 39 finished with value: 0.5145977139472961 and parameters: {'out_channels': 81, 'kernel_size': 3, 'num_blocks': 2, 'l2_lambda': 0.0009062979138795268, 'dropout_rate': 0.2718948070908144, 'lr': 0.00843044257665262}. Best is trial 24 with value: 0.011485240422189236.\n"
     ]
    },
    {
     "name": "stdout",
     "output_type": "stream",
     "text": [
      "Early stopping at epoch 11\n"
     ]
    },
    {
     "name": "stderr",
     "output_type": "stream",
     "text": [
      "[I 2024-09-12 21:25:53,272] Trial 40 finished with value: 0.015134585089981556 and parameters: {'out_channels': 116, 'kernel_size': 4, 'num_blocks': 4, 'l2_lambda': 0.009057328207616355, 'dropout_rate': 0.2313324490900764, 'lr': 0.0055935652051852915}. Best is trial 24 with value: 0.011485240422189236.\n"
     ]
    },
    {
     "name": "stdout",
     "output_type": "stream",
     "text": [
      "Early stopping at epoch 47\n"
     ]
    },
    {
     "name": "stderr",
     "output_type": "stream",
     "text": [
      "[I 2024-09-12 21:25:57,834] Trial 41 finished with value: 0.10953576117753983 and parameters: {'out_channels': 118, 'kernel_size': 5, 'num_blocks': 4, 'l2_lambda': 0.008726820030495259, 'dropout_rate': 0.23513777047152132, 'lr': 0.0062611152858329504}. Best is trial 24 with value: 0.011485240422189236.\n"
     ]
    },
    {
     "name": "stdout",
     "output_type": "stream",
     "text": [
      "Early stopping at epoch 38\n"
     ]
    },
    {
     "name": "stderr",
     "output_type": "stream",
     "text": [
      "[I 2024-09-12 21:26:01,545] Trial 42 finished with value: 0.06720449030399323 and parameters: {'out_channels': 110, 'kernel_size': 4, 'num_blocks': 4, 'l2_lambda': 0.007901737963109662, 'dropout_rate': 0.18531119940508894, 'lr': 0.005682566084445414}. Best is trial 24 with value: 0.011485240422189236.\n"
     ]
    },
    {
     "name": "stdout",
     "output_type": "stream",
     "text": [
      "Early stopping at epoch 29\n"
     ]
    },
    {
     "name": "stderr",
     "output_type": "stream",
     "text": [
      "[I 2024-09-12 21:26:04,708] Trial 43 finished with value: 0.048186201602220535 and parameters: {'out_channels': 101, 'kernel_size': 3, 'num_blocks': 4, 'l2_lambda': 0.006992125876855618, 'dropout_rate': 0.24369857922293664, 'lr': 0.004803111854086193}. Best is trial 24 with value: 0.011485240422189236.\n"
     ]
    },
    {
     "name": "stdout",
     "output_type": "stream",
     "text": [
      "Early stopping at epoch 30\n"
     ]
    },
    {
     "name": "stderr",
     "output_type": "stream",
     "text": [
      "[I 2024-09-12 21:26:06,041] Trial 44 finished with value: 0.2343359738588333 and parameters: {'out_channels': 104, 'kernel_size': 4, 'num_blocks': 3, 'l2_lambda': 0.009332777913050021, 'dropout_rate': 0.22409188275435674, 'lr': 0.006551633412932224}. Best is trial 24 with value: 0.011485240422189236.\n"
     ]
    },
    {
     "name": "stdout",
     "output_type": "stream",
     "text": [
      "Early stopping at epoch 12\n"
     ]
    },
    {
     "name": "stderr",
     "output_type": "stream",
     "text": [
      "[I 2024-09-12 21:26:10,946] Trial 45 finished with value: 0.04513860493898392 and parameters: {'out_channels': 126, 'kernel_size': 5, 'num_blocks': 5, 'l2_lambda': 0.00808480973731789, 'dropout_rate': 0.20165905502837816, 'lr': 0.0076225334333003564}. Best is trial 24 with value: 0.011485240422189236.\n"
     ]
    },
    {
     "name": "stdout",
     "output_type": "stream",
     "text": [
      "Early stopping at epoch 34\n"
     ]
    },
    {
     "name": "stderr",
     "output_type": "stream",
     "text": [
      "[I 2024-09-12 21:26:12,499] Trial 46 finished with value: 0.07863938063383102 and parameters: {'out_channels': 27, 'kernel_size': 3, 'num_blocks': 3, 'l2_lambda': 0.009034192369018566, 'dropout_rate': 0.4720205579254259, 'lr': 0.009976729442932077}. Best is trial 24 with value: 0.011485240422189236.\n"
     ]
    },
    {
     "name": "stdout",
     "output_type": "stream",
     "text": [
      "Early stopping at epoch 24\n"
     ]
    },
    {
     "name": "stderr",
     "output_type": "stream",
     "text": [
      "[I 2024-09-12 21:26:14,229] Trial 47 finished with value: 0.04118288680911064 and parameters: {'out_channels': 122, 'kernel_size': 4, 'num_blocks': 1, 'l2_lambda': 0.007704606111189108, 'dropout_rate': 0.11110616652401781, 'lr': 0.005283126071025763}. Best is trial 24 with value: 0.011485240422189236.\n"
     ]
    },
    {
     "name": "stdout",
     "output_type": "stream",
     "text": [
      "Early stopping at epoch 40\n"
     ]
    },
    {
     "name": "stderr",
     "output_type": "stream",
     "text": [
      "[I 2024-09-12 21:26:15,223] Trial 48 finished with value: 0.12532176077365875 and parameters: {'out_channels': 43, 'kernel_size': 3, 'num_blocks': 1, 'l2_lambda': 0.0014993767253623706, 'dropout_rate': 0.35329207919421096, 'lr': 0.004351279435974306}. Best is trial 24 with value: 0.011485240422189236.\n"
     ]
    },
    {
     "name": "stdout",
     "output_type": "stream",
     "text": [
      "Early stopping at epoch 28\n"
     ]
    },
    {
     "name": "stderr",
     "output_type": "stream",
     "text": [
      "[I 2024-09-12 21:26:19,983] Trial 49 finished with value: 0.017384415492415428 and parameters: {'out_channels': 113, 'kernel_size': 3, 'num_blocks': 5, 'l2_lambda': 0.009572550714549415, 'dropout_rate': 0.13807258853131968, 'lr': 0.0029499858578241117}. Best is trial 24 with value: 0.011485240422189236.\n"
     ]
    },
    {
     "name": "stdout",
     "output_type": "stream",
     "text": [
      "Early stopping at epoch 35\n"
     ]
    },
    {
     "name": "stderr",
     "output_type": "stream",
     "text": [
      "[I 2024-09-12 21:26:22,116] Trial 50 finished with value: 0.10598275810480118 and parameters: {'out_channels': 106, 'kernel_size': 4, 'num_blocks': 3, 'l2_lambda': 0.003473271518229384, 'dropout_rate': 0.43322924995275125, 'lr': 0.0004517196262194117}. Best is trial 24 with value: 0.011485240422189236.\n"
     ]
    },
    {
     "name": "stdout",
     "output_type": "stream",
     "text": [
      "Early stopping at epoch 21\n"
     ]
    },
    {
     "name": "stderr",
     "output_type": "stream",
     "text": [
      "[I 2024-09-12 21:26:24,391] Trial 51 finished with value: 0.01371750421822071 and parameters: {'out_channels': 104, 'kernel_size': 4, 'num_blocks': 2, 'l2_lambda': 0.002738153777993006, 'dropout_rate': 0.3114066785303963, 'lr': 0.005749301391641549}. Best is trial 24 with value: 0.011485240422189236.\n"
     ]
    },
    {
     "name": "stdout",
     "output_type": "stream",
     "text": [
      "Early stopping at epoch 33\n"
     ]
    },
    {
     "name": "stderr",
     "output_type": "stream",
     "text": [
      "[I 2024-09-12 21:26:25,567] Trial 52 finished with value: 0.030740000307559967 and parameters: {'out_channels': 96, 'kernel_size': 5, 'num_blocks': 1, 'l2_lambda': 0.002564093144015709, 'dropout_rate': 0.25905618163064253, 'lr': 0.006029748361725536}. Best is trial 24 with value: 0.011485240422189236.\n"
     ]
    },
    {
     "name": "stdout",
     "output_type": "stream",
     "text": [
      "Early stopping at epoch 31\n"
     ]
    },
    {
     "name": "stderr",
     "output_type": "stream",
     "text": [
      "[I 2024-09-12 21:26:27,120] Trial 53 finished with value: 0.06802786886692047 and parameters: {'out_channels': 89, 'kernel_size': 4, 'num_blocks': 2, 'l2_lambda': 0.0039042362846827107, 'dropout_rate': 0.28535021572726493, 'lr': 0.001076456023864821}. Best is trial 24 with value: 0.011485240422189236.\n"
     ]
    },
    {
     "name": "stdout",
     "output_type": "stream",
     "text": [
      "Early stopping at epoch 22\n"
     ]
    },
    {
     "name": "stderr",
     "output_type": "stream",
     "text": [
      "[I 2024-09-12 21:26:28,179] Trial 54 finished with value: 0.1360408067703247 and parameters: {'out_channels': 118, 'kernel_size': 3, 'num_blocks': 2, 'l2_lambda': 0.004626458300991532, 'dropout_rate': 0.31645523624292926, 'lr': 0.003790675549487675}. Best is trial 24 with value: 0.011485240422189236.\n"
     ]
    },
    {
     "name": "stdout",
     "output_type": "stream",
     "text": [
      "Early stopping at epoch 15\n"
     ]
    },
    {
     "name": "stderr",
     "output_type": "stream",
     "text": [
      "[I 2024-09-12 21:26:29,508] Trial 55 finished with value: 0.031982798129320145 and parameters: {'out_channels': 72, 'kernel_size': 4, 'num_blocks': 1, 'l2_lambda': 0.0031486868711334925, 'dropout_rate': 0.39184773904406117, 'lr': 0.007287114167747735}. Best is trial 24 with value: 0.011485240422189236.\n"
     ]
    },
    {
     "name": "stdout",
     "output_type": "stream",
     "text": [
      "Early stopping at epoch 33\n"
     ]
    },
    {
     "name": "stderr",
     "output_type": "stream",
     "text": [
      "[I 2024-09-12 21:26:30,457] Trial 56 finished with value: 0.03572772070765495 and parameters: {'out_channels': 106, 'kernel_size': 3, 'num_blocks': 1, 'l2_lambda': 0.0005466599289328566, 'dropout_rate': 0.48168485794087307, 'lr': 0.006752746201029023}. Best is trial 24 with value: 0.011485240422189236.\n"
     ]
    },
    {
     "name": "stdout",
     "output_type": "stream",
     "text": [
      "Early stopping at epoch 21\n"
     ]
    },
    {
     "name": "stderr",
     "output_type": "stream",
     "text": [
      "[I 2024-09-12 21:26:35,951] Trial 57 finished with value: 0.015650905668735504 and parameters: {'out_channels': 85, 'kernel_size': 6, 'num_blocks': 4, 'l2_lambda': 0.005946540860230675, 'dropout_rate': 0.16724238666013302, 'lr': 0.0014183438825040085}. Best is trial 24 with value: 0.011485240422189236.\n"
     ]
    },
    {
     "name": "stdout",
     "output_type": "stream",
     "text": [
      "Early stopping at epoch 44\n"
     ]
    },
    {
     "name": "stderr",
     "output_type": "stream",
     "text": [
      "[I 2024-09-12 21:26:38,787] Trial 58 finished with value: 0.024728361517190933 and parameters: {'out_channels': 93, 'kernel_size': 5, 'num_blocks': 2, 'l2_lambda': 0.0018176041844542258, 'dropout_rate': 0.2779231563251989, 'lr': 0.003909829308820235}. Best is trial 24 with value: 0.011485240422189236.\n"
     ]
    },
    {
     "name": "stdout",
     "output_type": "stream",
     "text": [
      "Early stopping at epoch 45\n"
     ]
    },
    {
     "name": "stderr",
     "output_type": "stream",
     "text": [
      "[I 2024-09-12 21:26:39,460] Trial 59 finished with value: 0.16853760182857513 and parameters: {'out_channels': 22, 'kernel_size': 4, 'num_blocks': 1, 'l2_lambda': 0.0028214751294711026, 'dropout_rate': 0.3508238032298875, 'lr': 0.005131532012158317}. Best is trial 24 with value: 0.011485240422189236.\n"
     ]
    },
    {
     "name": "stdout",
     "output_type": "stream",
     "text": [
      "Early stopping at epoch 18\n"
     ]
    },
    {
     "name": "stderr",
     "output_type": "stream",
     "text": [
      "[I 2024-09-12 21:26:40,080] Trial 60 finished with value: 0.027461033314466476 and parameters: {'out_channels': 66, 'kernel_size': 3, 'num_blocks': 1, 'l2_lambda': 0.0013422754459403651, 'dropout_rate': 0.4472091524006834, 'lr': 0.0024236997851309733}. Best is trial 24 with value: 0.011485240422189236.\n"
     ]
    },
    {
     "name": "stdout",
     "output_type": "stream",
     "text": [
      "Early stopping at epoch 14\n"
     ]
    },
    {
     "name": "stderr",
     "output_type": "stream",
     "text": [
      "[I 2024-09-12 21:26:43,896] Trial 61 finished with value: 0.015087075531482697 and parameters: {'out_channels': 87, 'kernel_size': 7, 'num_blocks': 4, 'l2_lambda': 0.0066818383857868095, 'dropout_rate': 0.19254784254642912, 'lr': 0.0015256353803288852}. Best is trial 24 with value: 0.011485240422189236.\n"
     ]
    },
    {
     "name": "stdout",
     "output_type": "stream",
     "text": [
      "Early stopping at epoch 34\n"
     ]
    },
    {
     "name": "stderr",
     "output_type": "stream",
     "text": [
      "[I 2024-09-12 21:26:45,447] Trial 62 finished with value: 1.3857717514038086 and parameters: {'out_channels': 33, 'kernel_size': 7, 'num_blocks': 4, 'l2_lambda': 0.00862362234803995, 'dropout_rate': 0.189084017049023, 'lr': 1.4636714598218652e-05}. Best is trial 24 with value: 0.011485240422189236.\n"
     ]
    },
    {
     "name": "stdout",
     "output_type": "stream",
     "text": [
      "Early stopping at epoch 17\n"
     ]
    },
    {
     "name": "stderr",
     "output_type": "stream",
     "text": [
      "[I 2024-09-12 21:26:48,417] Trial 63 finished with value: 0.05049248784780502 and parameters: {'out_channels': 79, 'kernel_size': 6, 'num_blocks': 4, 'l2_lambda': 0.0068772204419307705, 'dropout_rate': 0.22142111968145262, 'lr': 0.001617771496605093}. Best is trial 24 with value: 0.011485240422189236.\n"
     ]
    },
    {
     "name": "stdout",
     "output_type": "stream",
     "text": [
      "Early stopping at epoch 24\n"
     ]
    },
    {
     "name": "stderr",
     "output_type": "stream",
     "text": [
      "[I 2024-09-12 21:26:52,150] Trial 64 finished with value: 0.033266253769397736 and parameters: {'out_channels': 98, 'kernel_size': 5, 'num_blocks': 4, 'l2_lambda': 0.002398528238960717, 'dropout_rate': 0.16013548952703086, 'lr': 0.0010208213753953748}. Best is trial 24 with value: 0.011485240422189236.\n"
     ]
    },
    {
     "name": "stdout",
     "output_type": "stream",
     "text": [
      "Early stopping at epoch 33\n"
     ]
    },
    {
     "name": "stderr",
     "output_type": "stream",
     "text": [
      "[I 2024-09-12 21:26:53,378] Trial 65 finished with value: 0.2200368046760559 and parameters: {'out_channels': 86, 'kernel_size': 7, 'num_blocks': 3, 'l2_lambda': 0.006312787556135425, 'dropout_rate': 0.25742808575018505, 'lr': 0.0005435190656492537}. Best is trial 24 with value: 0.011485240422189236.\n"
     ]
    },
    {
     "name": "stdout",
     "output_type": "stream",
     "text": [
      "Early stopping at epoch 13\n"
     ]
    },
    {
     "name": "stderr",
     "output_type": "stream",
     "text": [
      "[I 2024-09-12 21:26:54,061] Trial 66 finished with value: 0.07053745537996292 and parameters: {'out_channels': 89, 'kernel_size': 3, 'num_blocks': 1, 'l2_lambda': 0.005640494766646034, 'dropout_rate': 0.20249245895448884, 'lr': 0.004671875368755902}. Best is trial 24 with value: 0.011485240422189236.\n"
     ]
    },
    {
     "name": "stdout",
     "output_type": "stream",
     "text": [
      "Early stopping at epoch 16\n"
     ]
    },
    {
     "name": "stderr",
     "output_type": "stream",
     "text": [
      "[I 2024-09-12 21:26:58,682] Trial 67 finished with value: 0.056266531348228455 and parameters: {'out_channels': 74, 'kernel_size': 6, 'num_blocks': 5, 'l2_lambda': 0.008259667949256574, 'dropout_rate': 0.417853330907953, 'lr': 0.005509101499430257}. Best is trial 24 with value: 0.011485240422189236.\n"
     ]
    },
    {
     "name": "stdout",
     "output_type": "stream",
     "text": [
      "Early stopping at epoch 32\n"
     ]
    },
    {
     "name": "stderr",
     "output_type": "stream",
     "text": [
      "[I 2024-09-12 21:27:00,469] Trial 68 finished with value: 0.018849443644285202 and parameters: {'out_channels': 102, 'kernel_size': 4, 'num_blocks': 1, 'l2_lambda': 0.0018644128181601644, 'dropout_rate': 0.3238082090115548, 'lr': 0.002144375078610274}. Best is trial 24 with value: 0.011485240422189236.\n"
     ]
    },
    {
     "name": "stdout",
     "output_type": "stream",
     "text": [
      "Early stopping at epoch 46\n"
     ]
    },
    {
     "name": "stderr",
     "output_type": "stream",
     "text": [
      "[I 2024-09-12 21:27:03,098] Trial 69 finished with value: 0.029177142307162285 and parameters: {'out_channels': 109, 'kernel_size': 4, 'num_blocks': 2, 'l2_lambda': 0.007566637039590681, 'dropout_rate': 0.36787989807836907, 'lr': 0.0028025910467508407}. Best is trial 24 with value: 0.011485240422189236.\n"
     ]
    },
    {
     "name": "stdout",
     "output_type": "stream",
     "text": [
      "Early stopping at epoch 39\n"
     ]
    },
    {
     "name": "stderr",
     "output_type": "stream",
     "text": [
      "[I 2024-09-12 21:27:04,973] Trial 70 finished with value: 0.17722289264202118 and parameters: {'out_channels': 55, 'kernel_size': 3, 'num_blocks': 4, 'l2_lambda': 0.004174368409478833, 'dropout_rate': 0.23299599339411683, 'lr': 0.0017211497029791187}. Best is trial 24 with value: 0.011485240422189236.\n"
     ]
    },
    {
     "name": "stdout",
     "output_type": "stream",
     "text": [
      "Early stopping at epoch 18\n"
     ]
    },
    {
     "name": "stderr",
     "output_type": "stream",
     "text": [
      "[I 2024-09-12 21:27:08,371] Trial 71 finished with value: 0.03854643926024437 and parameters: {'out_channels': 84, 'kernel_size': 6, 'num_blocks': 4, 'l2_lambda': 0.005940216376135983, 'dropout_rate': 0.16802554685953386, 'lr': 0.0014527175678070428}. Best is trial 24 with value: 0.011485240422189236.\n"
     ]
    },
    {
     "name": "stdout",
     "output_type": "stream",
     "text": [
      "Early stopping at epoch 29\n"
     ]
    },
    {
     "name": "stderr",
     "output_type": "stream",
     "text": [
      "[I 2024-09-12 21:27:10,835] Trial 72 finished with value: 0.07051766663789749 and parameters: {'out_channels': 94, 'kernel_size': 7, 'num_blocks': 4, 'l2_lambda': 0.006479134620005568, 'dropout_rate': 0.13464025471665153, 'lr': 0.0008951303946808784}. Best is trial 24 with value: 0.011485240422189236.\n"
     ]
    },
    {
     "name": "stdout",
     "output_type": "stream",
     "text": [
      "Early stopping at epoch 20\n"
     ]
    },
    {
     "name": "stderr",
     "output_type": "stream",
     "text": [
      "[I 2024-09-12 21:27:15,720] Trial 73 finished with value: 0.029347185045480728 and parameters: {'out_channels': 87, 'kernel_size': 7, 'num_blocks': 3, 'l2_lambda': 0.005353899182928702, 'dropout_rate': 0.16907604786523053, 'lr': 0.0019141503630631706}. Best is trial 24 with value: 0.011485240422189236.\n"
     ]
    },
    {
     "name": "stdout",
     "output_type": "stream",
     "text": [
      "Early stopping at epoch 54\n"
     ]
    },
    {
     "name": "stderr",
     "output_type": "stream",
     "text": [
      "[I 2024-09-12 21:27:19,833] Trial 74 finished with value: 0.034552719444036484 and parameters: {'out_channels': 77, 'kernel_size': 6, 'num_blocks': 4, 'l2_lambda': 0.0058705149918522005, 'dropout_rate': 0.1523128358042413, 'lr': 0.0012750945770026141}. Best is trial 24 with value: 0.011485240422189236.\n"
     ]
    },
    {
     "name": "stdout",
     "output_type": "stream",
     "text": [
      "Early stopping at epoch 33\n"
     ]
    },
    {
     "name": "stderr",
     "output_type": "stream",
     "text": [
      "[I 2024-09-12 21:27:27,015] Trial 75 finished with value: 0.025498079136013985 and parameters: {'out_channels': 83, 'kernel_size': 7, 'num_blocks': 5, 'l2_lambda': 0.0045605943996169926, 'dropout_rate': 0.19294816893583944, 'lr': 0.0024149334117768207}. Best is trial 24 with value: 0.011485240422189236.\n"
     ]
    },
    {
     "name": "stdout",
     "output_type": "stream",
     "text": [
      "Early stopping at epoch 52\n"
     ]
    },
    {
     "name": "stderr",
     "output_type": "stream",
     "text": [
      "[I 2024-09-12 21:27:28,413] Trial 76 finished with value: 0.3507413864135742 and parameters: {'out_channels': 91, 'kernel_size': 5, 'num_blocks': 4, 'l2_lambda': 0.007085980945432209, 'dropout_rate': 0.21134232308832657, 'lr': 0.0006718639095931371}. Best is trial 24 with value: 0.011485240422189236.\n"
     ]
    },
    {
     "name": "stdout",
     "output_type": "stream",
     "text": [
      "Early stopping at epoch 12\n"
     ]
    },
    {
     "name": "stderr",
     "output_type": "stream",
     "text": [
      "[I 2024-09-12 21:27:29,672] Trial 77 finished with value: 0.10819144546985626 and parameters: {'out_channels': 99, 'kernel_size': 6, 'num_blocks': 1, 'l2_lambda': 0.009064521702404207, 'dropout_rate': 0.244651168204156, 'lr': 0.0002692741485700978}. Best is trial 24 with value: 0.011485240422189236.\n"
     ]
    },
    {
     "name": "stdout",
     "output_type": "stream",
     "text": [
      "Early stopping at epoch 31\n"
     ]
    },
    {
     "name": "stderr",
     "output_type": "stream",
     "text": [
      "[I 2024-09-12 21:27:30,230] Trial 78 finished with value: 0.23344522714614868 and parameters: {'out_channels': 111, 'kernel_size': 3, 'num_blocks': 1, 'l2_lambda': 0.006703456753096477, 'dropout_rate': 0.3016029928460338, 'lr': 0.0014627363911730595}. Best is trial 24 with value: 0.011485240422189236.\n"
     ]
    },
    {
     "name": "stdout",
     "output_type": "stream",
     "text": [
      "Early stopping at epoch 12\n"
     ]
    },
    {
     "name": "stderr",
     "output_type": "stream",
     "text": [
      "[I 2024-09-12 21:27:36,337] Trial 79 finished with value: 0.01799098215997219 and parameters: {'out_channels': 115, 'kernel_size': 6, 'num_blocks': 4, 'l2_lambda': 0.0031230807257026007, 'dropout_rate': 0.17702546889899215, 'lr': 0.003446797190159092}. Best is trial 24 with value: 0.011485240422189236.\n"
     ]
    },
    {
     "name": "stdout",
     "output_type": "stream",
     "text": [
      "Early stopping at epoch 47\n"
     ]
    },
    {
     "name": "stderr",
     "output_type": "stream",
     "text": [
      "[I 2024-09-12 21:27:40,112] Trial 80 finished with value: 0.020086316391825676 and parameters: {'out_channels': 96, 'kernel_size': 3, 'num_blocks': 3, 'l2_lambda': 0.0037782563027505787, 'dropout_rate': 0.4876928684753611, 'lr': 0.005744717958179556}. Best is trial 24 with value: 0.011485240422189236.\n"
     ]
    },
    {
     "name": "stdout",
     "output_type": "stream",
     "text": [
      "Early stopping at epoch 47\n"
     ]
    },
    {
     "name": "stderr",
     "output_type": "stream",
     "text": [
      "[I 2024-09-12 21:27:41,197] Trial 81 finished with value: 0.03365335240960121 and parameters: {'out_channels': 103, 'kernel_size': 4, 'num_blocks': 2, 'l2_lambda': 0.002558244642714613, 'dropout_rate': 0.30755909925627334, 'lr': 0.006062319029794666}. Best is trial 24 with value: 0.011485240422189236.\n"
     ]
    },
    {
     "name": "stdout",
     "output_type": "stream",
     "text": [
      "Early stopping at epoch 15\n"
     ]
    },
    {
     "name": "stderr",
     "output_type": "stream",
     "text": [
      "[I 2024-09-12 21:27:43,012] Trial 82 finished with value: 0.026396339759230614 and parameters: {'out_channels': 101, 'kernel_size': 4, 'num_blocks': 2, 'l2_lambda': 0.0022257952440205087, 'dropout_rate': 0.2903459761111277, 'lr': 0.00645071252870005}. Best is trial 24 with value: 0.011485240422189236.\n"
     ]
    },
    {
     "name": "stdout",
     "output_type": "stream",
     "text": [
      "Early stopping at epoch 25\n"
     ]
    },
    {
     "name": "stderr",
     "output_type": "stream",
     "text": [
      "[I 2024-09-12 21:27:43,797] Trial 83 finished with value: 0.1129102110862732 and parameters: {'out_channels': 92, 'kernel_size': 4, 'num_blocks': 1, 'l2_lambda': 0.0035222173319304937, 'dropout_rate': 0.3420908601495761, 'lr': 0.00543820187784206}. Best is trial 24 with value: 0.011485240422189236.\n"
     ]
    },
    {
     "name": "stdout",
     "output_type": "stream",
     "text": [
      "Early stopping at epoch 18\n"
     ]
    },
    {
     "name": "stderr",
     "output_type": "stream",
     "text": [
      "[I 2024-09-12 21:27:47,260] Trial 84 finished with value: 0.07581128180027008 and parameters: {'out_channels': 106, 'kernel_size': 4, 'num_blocks': 3, 'l2_lambda': 0.004963378560441856, 'dropout_rate': 0.47755089632253933, 'lr': 0.005056363945837339}. Best is trial 24 with value: 0.011485240422189236.\n"
     ]
    },
    {
     "name": "stdout",
     "output_type": "stream",
     "text": [
      "Early stopping at epoch 36\n"
     ]
    },
    {
     "name": "stderr",
     "output_type": "stream",
     "text": [
      "[I 2024-09-12 21:27:48,043] Trial 85 finished with value: 0.07740741968154907 and parameters: {'out_channels': 81, 'kernel_size': 3, 'num_blocks': 1, 'l2_lambda': 0.0026356850649881204, 'dropout_rate': 0.4520999778565802, 'lr': 0.0045478677246662364}. Best is trial 24 with value: 0.011485240422189236.\n"
     ]
    },
    {
     "name": "stdout",
     "output_type": "stream",
     "text": [
      "Early stopping at epoch 21\n"
     ]
    },
    {
     "name": "stderr",
     "output_type": "stream",
     "text": [
      "[I 2024-09-12 21:27:51,134] Trial 86 finished with value: 0.035428158938884735 and parameters: {'out_channels': 116, 'kernel_size': 4, 'num_blocks': 2, 'l2_lambda': 0.0007100237108817341, 'dropout_rate': 0.3135949075067387, 'lr': 0.005684578266963714}. Best is trial 24 with value: 0.011485240422189236.\n"
     ]
    },
    {
     "name": "stdout",
     "output_type": "stream",
     "text": [
      "Early stopping at epoch 45\n"
     ]
    },
    {
     "name": "stderr",
     "output_type": "stream",
     "text": [
      "[I 2024-09-12 21:27:51,763] Trial 87 finished with value: 0.047812320291996 and parameters: {'out_channels': 67, 'kernel_size': 5, 'num_blocks': 1, 'l2_lambda': 0.0012214029321153928, 'dropout_rate': 0.4990897679908605, 'lr': 0.0011517571456048604}. Best is trial 24 with value: 0.011485240422189236.\n"
     ]
    },
    {
     "name": "stdout",
     "output_type": "stream",
     "text": [
      "Early stopping at epoch 16\n"
     ]
    },
    {
     "name": "stderr",
     "output_type": "stream",
     "text": [
      "[I 2024-09-12 21:27:55,488] Trial 88 finished with value: 0.036235760897397995 and parameters: {'out_channels': 120, 'kernel_size': 3, 'num_blocks': 4, 'l2_lambda': 0.0052466738382133515, 'dropout_rate': 0.33287445597341614, 'lr': 0.0030136690886056433}. Best is trial 24 with value: 0.011485240422189236.\n"
     ]
    },
    {
     "name": "stdout",
     "output_type": "stream",
     "text": [
      "Early stopping at epoch 34\n"
     ]
    },
    {
     "name": "stderr",
     "output_type": "stream",
     "text": [
      "[I 2024-09-12 21:27:57,161] Trial 89 finished with value: 0.03651763126254082 and parameters: {'out_channels': 89, 'kernel_size': 4, 'num_blocks': 1, 'l2_lambda': 0.008857278963942079, 'dropout_rate': 0.2706069821457896, 'lr': 0.0041449543560841}. Best is trial 24 with value: 0.011485240422189236.\n"
     ]
    },
    {
     "name": "stdout",
     "output_type": "stream",
     "text": [
      "Early stopping at epoch 40\n"
     ]
    },
    {
     "name": "stderr",
     "output_type": "stream",
     "text": [
      "[I 2024-09-12 21:27:58,132] Trial 90 finished with value: 0.0755203515291214 and parameters: {'out_channels': 98, 'kernel_size': 3, 'num_blocks': 2, 'l2_lambda': 0.002957941158410246, 'dropout_rate': 0.24884616895867884, 'lr': 0.0018861563698836068}. Best is trial 24 with value: 0.011485240422189236.\n"
     ]
    },
    {
     "name": "stdout",
     "output_type": "stream",
     "text": [
      "Early stopping at epoch 15\n"
     ]
    },
    {
     "name": "stderr",
     "output_type": "stream",
     "text": [
      "[I 2024-09-12 21:28:01,691] Trial 91 finished with value: 0.04243801161646843 and parameters: {'out_channels': 112, 'kernel_size': 3, 'num_blocks': 5, 'l2_lambda': 0.009417851667680062, 'dropout_rate': 0.13413504083282543, 'lr': 0.0025480403806349026}. Best is trial 24 with value: 0.011485240422189236.\n"
     ]
    },
    {
     "name": "stdout",
     "output_type": "stream",
     "text": [
      "Early stopping at epoch 27\n"
     ]
    },
    {
     "name": "stderr",
     "output_type": "stream",
     "text": [
      "[I 2024-09-12 21:28:06,807] Trial 92 finished with value: 0.024395892396569252 and parameters: {'out_channels': 114, 'kernel_size': 3, 'num_blocks': 5, 'l2_lambda': 0.00997505295919151, 'dropout_rate': 0.15050383060097275, 'lr': 0.002185355013159909}. Best is trial 24 with value: 0.011485240422189236.\n"
     ]
    },
    {
     "name": "stdout",
     "output_type": "stream",
     "text": [
      "Early stopping at epoch 37\n"
     ]
    },
    {
     "name": "stderr",
     "output_type": "stream",
     "text": [
      "[I 2024-09-12 21:28:10,473] Trial 93 finished with value: 0.04127585515379906 and parameters: {'out_channels': 124, 'kernel_size': 3, 'num_blocks': 5, 'l2_lambda': 0.009731324543410483, 'dropout_rate': 0.13413921423294706, 'lr': 0.0016624148068898137}. Best is trial 24 with value: 0.011485240422189236.\n"
     ]
    },
    {
     "name": "stdout",
     "output_type": "stream",
     "text": [
      "Early stopping at epoch 26\n"
     ]
    },
    {
     "name": "stderr",
     "output_type": "stream",
     "text": [
      "[I 2024-09-12 21:28:12,820] Trial 94 finished with value: 0.051533445715904236 and parameters: {'out_channels': 107, 'kernel_size': 3, 'num_blocks': 5, 'l2_lambda': 0.009422678749934622, 'dropout_rate': 0.1227491768204669, 'lr': 0.0029289608333006325}. Best is trial 24 with value: 0.011485240422189236.\n"
     ]
    },
    {
     "name": "stdout",
     "output_type": "stream",
     "text": [
      "Early stopping at epoch 17\n"
     ]
    },
    {
     "name": "stderr",
     "output_type": "stream",
     "text": [
      "[I 2024-09-12 21:28:15,508] Trial 95 finished with value: 0.04294063150882721 and parameters: {'out_channels': 109, 'kernel_size': 5, 'num_blocks': 3, 'l2_lambda': 0.00821691407014476, 'dropout_rate': 0.28212620344370226, 'lr': 0.005912810989830361}. Best is trial 24 with value: 0.011485240422189236.\n"
     ]
    },
    {
     "name": "stdout",
     "output_type": "stream",
     "text": [
      "Early stopping at epoch 29\n"
     ]
    },
    {
     "name": "stderr",
     "output_type": "stream",
     "text": [
      "[I 2024-09-12 21:28:16,605] Trial 96 finished with value: 0.022962061688303947 and parameters: {'out_channels': 104, 'kernel_size': 4, 'num_blocks': 1, 'l2_lambda': 0.007291830153179421, 'dropout_rate': 0.1984493550850185, 'lr': 0.006222199371277966}. Best is trial 24 with value: 0.011485240422189236.\n"
     ]
    },
    {
     "name": "stdout",
     "output_type": "stream",
     "text": [
      "Early stopping at epoch 27\n"
     ]
    },
    {
     "name": "stderr",
     "output_type": "stream",
     "text": [
      "[I 2024-09-12 21:28:17,654] Trial 97 finished with value: 0.14692948758602142 and parameters: {'out_channels': 96, 'kernel_size': 3, 'num_blocks': 3, 'l2_lambda': 0.0015794445051874233, 'dropout_rate': 0.2963239557445478, 'lr': 0.0009386065907030857}. Best is trial 24 with value: 0.011485240422189236.\n"
     ]
    },
    {
     "name": "stdout",
     "output_type": "stream",
     "text": [
      "Early stopping at epoch 11\n"
     ]
    },
    {
     "name": "stderr",
     "output_type": "stream",
     "text": [
      "[I 2024-09-12 21:28:18,839] Trial 98 finished with value: 0.1581169217824936 and parameters: {'out_channels': 100, 'kernel_size': 3, 'num_blocks': 1, 'l2_lambda': 0.008556643305978816, 'dropout_rate': 0.2218724623206402, 'lr': 0.0022251968907347464}. Best is trial 24 with value: 0.011485240422189236.\n"
     ]
    },
    {
     "name": "stdout",
     "output_type": "stream",
     "text": [
      "Early stopping at epoch 31\n"
     ]
    },
    {
     "name": "stderr",
     "output_type": "stream",
     "text": [
      "[I 2024-09-12 21:28:25,300] Trial 99 finished with value: 0.02184319496154785 and parameters: {'out_channels': 112, 'kernel_size': 4, 'num_blocks': 5, 'l2_lambda': 0.00774712621693631, 'dropout_rate': 0.11092454657152653, 'lr': 0.002671805111847708}. Best is trial 24 with value: 0.011485240422189236.\n",
      "[I 2024-09-12 21:28:25,337] A new study created in memory with name: no-name-d8924dd0-23a0-496c-978c-9c3a7074cd43\n"
     ]
    },
    {
     "name": "stdout",
     "output_type": "stream",
     "text": [
      "Early stopping at epoch 42\n",
      "parameters for SGDUSD=X saved to ../models/best-hyperparameters/pytorch/conv1d-regression/SGDUSD=X.json\n",
      "Best model for SGDUSD=X saved with RMSE: 0.011485240422189236\n"
     ]
    },
    {
     "name": "stderr",
     "output_type": "stream",
     "text": [
      "[I 2024-09-12 21:28:27,078] Trial 0 finished with value: 0.5901639344262295 and parameters: {'sequence_length': 17, 'hidden_size': 113, 'num_layers': 3, 'num_blocks': 5, 'dropout_rate': 0.2345588887877267, 'lr': 0.0022457630885641725}. Best is trial 0 with value: 0.5901639344262295.\n"
     ]
    },
    {
     "name": "stdout",
     "output_type": "stream",
     "text": [
      "Early stopping at epoch 21\n"
     ]
    },
    {
     "name": "stderr",
     "output_type": "stream",
     "text": [
      "[I 2024-09-12 21:28:27,887] Trial 1 finished with value: 0.5714285714285714 and parameters: {'sequence_length': 5, 'hidden_size': 117, 'num_layers': 3, 'num_blocks': 3, 'dropout_rate': 0.3999937423147536, 'lr': 0.009618920050565683}. Best is trial 0 with value: 0.5901639344262295.\n"
     ]
    },
    {
     "name": "stdout",
     "output_type": "stream",
     "text": [
      "Early stopping at epoch 15\n"
     ]
    },
    {
     "name": "stderr",
     "output_type": "stream",
     "text": [
      "[I 2024-09-12 21:28:28,810] Trial 2 finished with value: 0.6065573770491803 and parameters: {'sequence_length': 22, 'hidden_size': 30, 'num_layers': 2, 'num_blocks': 4, 'dropout_rate': 0.1628818691542427, 'lr': 0.0008537711280286399}. Best is trial 2 with value: 0.6065573770491803.\n"
     ]
    },
    {
     "name": "stdout",
     "output_type": "stream",
     "text": [
      "Early stopping at epoch 15\n"
     ]
    },
    {
     "name": "stderr",
     "output_type": "stream",
     "text": [
      "[I 2024-09-12 21:28:29,223] Trial 3 finished with value: 0.5737704918032787 and parameters: {'sequence_length': 25, 'hidden_size': 100, 'num_layers': 3, 'num_blocks': 1, 'dropout_rate': 0.49396615582937087, 'lr': 0.005517213442235014}. Best is trial 2 with value: 0.6065573770491803.\n"
     ]
    },
    {
     "name": "stdout",
     "output_type": "stream",
     "text": [
      "Early stopping at epoch 10\n"
     ]
    },
    {
     "name": "stderr",
     "output_type": "stream",
     "text": [
      "[I 2024-09-12 21:28:30,483] Trial 4 finished with value: 0.6229508196721312 and parameters: {'sequence_length': 17, 'hidden_size': 99, 'num_layers': 3, 'num_blocks': 3, 'dropout_rate': 0.20202383578342076, 'lr': 0.003188492359234765}. Best is trial 4 with value: 0.6229508196721312.\n"
     ]
    },
    {
     "name": "stdout",
     "output_type": "stream",
     "text": [
      "Early stopping at epoch 21\n"
     ]
    },
    {
     "name": "stderr",
     "output_type": "stream",
     "text": [
      "[I 2024-09-12 21:28:31,129] Trial 5 finished with value: 0.6190476190476191 and parameters: {'sequence_length': 3, 'hidden_size': 114, 'num_layers': 2, 'num_blocks': 3, 'dropout_rate': 0.3771690968957603, 'lr': 0.0017179810151492776}. Best is trial 4 with value: 0.6229508196721312.\n"
     ]
    },
    {
     "name": "stdout",
     "output_type": "stream",
     "text": [
      "Early stopping at epoch 11\n"
     ]
    },
    {
     "name": "stderr",
     "output_type": "stream",
     "text": [
      "[I 2024-09-12 21:28:31,998] Trial 6 finished with value: 0.5079365079365079 and parameters: {'sequence_length': 5, 'hidden_size': 20, 'num_layers': 3, 'num_blocks': 5, 'dropout_rate': 0.41070830405373737, 'lr': 0.005757109417868956}. Best is trial 4 with value: 0.6229508196721312.\n"
     ]
    },
    {
     "name": "stdout",
     "output_type": "stream",
     "text": [
      "Early stopping at epoch 10\n"
     ]
    },
    {
     "name": "stderr",
     "output_type": "stream",
     "text": [
      "[I 2024-09-12 21:28:33,222] Trial 7 finished with value: 0.6031746031746031 and parameters: {'sequence_length': 2, 'hidden_size': 43, 'num_layers': 2, 'num_blocks': 3, 'dropout_rate': 0.4392951395922974, 'lr': 0.00855062987097781}. Best is trial 4 with value: 0.6229508196721312.\n"
     ]
    },
    {
     "name": "stdout",
     "output_type": "stream",
     "text": [
      "Early stopping at epoch 24\n"
     ]
    },
    {
     "name": "stderr",
     "output_type": "stream",
     "text": [
      "[I 2024-09-12 21:28:33,559] Trial 8 finished with value: 0.5645161290322581 and parameters: {'sequence_length': 9, 'hidden_size': 16, 'num_layers': 1, 'num_blocks': 1, 'dropout_rate': 0.39674523870775935, 'lr': 0.002403135071110802}. Best is trial 4 with value: 0.6229508196721312.\n"
     ]
    },
    {
     "name": "stdout",
     "output_type": "stream",
     "text": [
      "Early stopping at epoch 12\n"
     ]
    },
    {
     "name": "stderr",
     "output_type": "stream",
     "text": [
      "[I 2024-09-12 21:28:34,032] Trial 9 finished with value: 0.5737704918032787 and parameters: {'sequence_length': 23, 'hidden_size': 55, 'num_layers': 1, 'num_blocks': 2, 'dropout_rate': 0.35885854489901925, 'lr': 0.007261028389013289}. Best is trial 4 with value: 0.6229508196721312.\n"
     ]
    },
    {
     "name": "stdout",
     "output_type": "stream",
     "text": [
      "Early stopping at epoch 11\n"
     ]
    },
    {
     "name": "stderr",
     "output_type": "stream",
     "text": [
      "[I 2024-09-12 21:28:34,902] Trial 10 finished with value: 0.5166666666666667 and parameters: {'sequence_length': 30, 'hidden_size': 85, 'num_layers': 3, 'num_blocks': 2, 'dropout_rate': 0.1069717435696288, 'lr': 0.003626804998453908}. Best is trial 4 with value: 0.6229508196721312.\n"
     ]
    },
    {
     "name": "stdout",
     "output_type": "stream",
     "text": [
      "Early stopping at epoch 15\n"
     ]
    },
    {
     "name": "stderr",
     "output_type": "stream",
     "text": [
      "[I 2024-09-12 21:28:35,530] Trial 11 finished with value: 0.5161290322580645 and parameters: {'sequence_length': 13, 'hidden_size': 84, 'num_layers': 2, 'num_blocks': 4, 'dropout_rate': 0.2837972199521756, 'lr': 0.0036450526714831392}. Best is trial 4 with value: 0.6229508196721312.\n"
     ]
    },
    {
     "name": "stdout",
     "output_type": "stream",
     "text": [
      "Early stopping at epoch 10\n"
     ]
    },
    {
     "name": "stderr",
     "output_type": "stream",
     "text": [
      "[I 2024-09-12 21:28:37,620] Trial 12 finished with value: 0.5901639344262295 and parameters: {'sequence_length': 16, 'hidden_size': 122, 'num_layers': 2, 'num_blocks': 4, 'dropout_rate': 0.24242254180401362, 'lr': 0.0009358079880759198}. Best is trial 4 with value: 0.6229508196721312.\n"
     ]
    },
    {
     "name": "stdout",
     "output_type": "stream",
     "text": [
      "Early stopping at epoch 32\n"
     ]
    },
    {
     "name": "stderr",
     "output_type": "stream",
     "text": [
      "[I 2024-09-12 21:28:39,064] Trial 13 finished with value: 0.5161290322580645 and parameters: {'sequence_length': 12, 'hidden_size': 99, 'num_layers': 1, 'num_blocks': 2, 'dropout_rate': 0.3256486168161421, 'lr': 5.287408550597606e-05}. Best is trial 4 with value: 0.6229508196721312.\n"
     ]
    },
    {
     "name": "stdout",
     "output_type": "stream",
     "text": [
      "Early stopping at epoch 39\n"
     ]
    },
    {
     "name": "stderr",
     "output_type": "stream",
     "text": [
      "[I 2024-09-12 21:28:39,788] Trial 14 finished with value: 0.5081967213114754 and parameters: {'sequence_length': 19, 'hidden_size': 71, 'num_layers': 2, 'num_blocks': 3, 'dropout_rate': 0.1874072879403314, 'lr': 0.00358494021983802}. Best is trial 4 with value: 0.6229508196721312.\n"
     ]
    },
    {
     "name": "stdout",
     "output_type": "stream",
     "text": [
      "Early stopping at epoch 12\n"
     ]
    },
    {
     "name": "stderr",
     "output_type": "stream",
     "text": [
      "[I 2024-09-12 21:28:40,436] Trial 15 finished with value: 0.5967741935483871 and parameters: {'sequence_length': 9, 'hidden_size': 103, 'num_layers': 2, 'num_blocks': 2, 'dropout_rate': 0.28971027828901513, 'lr': 0.0022648137137795763}. Best is trial 4 with value: 0.6229508196721312.\n"
     ]
    },
    {
     "name": "stdout",
     "output_type": "stream",
     "text": [
      "Early stopping at epoch 13\n"
     ]
    },
    {
     "name": "stderr",
     "output_type": "stream",
     "text": [
      "[I 2024-09-12 21:28:42,050] Trial 16 finished with value: 0.5645161290322581 and parameters: {'sequence_length': 13, 'hidden_size': 126, 'num_layers': 3, 'num_blocks': 4, 'dropout_rate': 0.18517810524607473, 'lr': 0.0045545084497482565}. Best is trial 4 with value: 0.6229508196721312.\n"
     ]
    },
    {
     "name": "stdout",
     "output_type": "stream",
     "text": [
      "Early stopping at epoch 22\n"
     ]
    },
    {
     "name": "stderr",
     "output_type": "stream",
     "text": [
      "[I 2024-09-12 21:28:42,551] Trial 17 finished with value: 0.5081967213114754 and parameters: {'sequence_length': 19, 'hidden_size': 83, 'num_layers': 1, 'num_blocks': 3, 'dropout_rate': 0.1086858866070364, 'lr': 0.006575774873899599}. Best is trial 4 with value: 0.6229508196721312.\n"
     ]
    },
    {
     "name": "stdout",
     "output_type": "stream",
     "text": [
      "Early stopping at epoch 10\n"
     ]
    },
    {
     "name": "stderr",
     "output_type": "stream",
     "text": [
      "[I 2024-09-12 21:28:43,636] Trial 18 finished with value: 0.6166666666666667 and parameters: {'sequence_length': 28, 'hidden_size': 67, 'num_layers': 2, 'num_blocks': 3, 'dropout_rate': 0.2432593806762116, 'lr': 0.001495196062879695}. Best is trial 4 with value: 0.6229508196721312.\n"
     ]
    },
    {
     "name": "stdout",
     "output_type": "stream",
     "text": [
      "Early stopping at epoch 20\n"
     ]
    },
    {
     "name": "stderr",
     "output_type": "stream",
     "text": [
      "[I 2024-09-12 21:28:44,361] Trial 19 finished with value: 0.5806451612903226 and parameters: {'sequence_length': 10, 'hidden_size': 107, 'num_layers': 3, 'num_blocks': 2, 'dropout_rate': 0.33044912226816014, 'lr': 0.004441038604924044}. Best is trial 4 with value: 0.6229508196721312.\n"
     ]
    },
    {
     "name": "stdout",
     "output_type": "stream",
     "text": [
      "Early stopping at epoch 15\n"
     ]
    },
    {
     "name": "stderr",
     "output_type": "stream",
     "text": [
      "[I 2024-09-12 21:28:45,020] Trial 20 finished with value: 0.5396825396825397 and parameters: {'sequence_length': 2, 'hidden_size': 92, 'num_layers': 2, 'num_blocks': 4, 'dropout_rate': 0.4912151302978596, 'lr': 0.0028512470712471873}. Best is trial 4 with value: 0.6229508196721312.\n"
     ]
    },
    {
     "name": "stdout",
     "output_type": "stream",
     "text": [
      "Early stopping at epoch 10\n"
     ]
    },
    {
     "name": "stderr",
     "output_type": "stream",
     "text": [
      "[I 2024-09-12 21:28:45,789] Trial 21 finished with value: 0.6 and parameters: {'sequence_length': 28, 'hidden_size': 68, 'num_layers': 2, 'num_blocks': 3, 'dropout_rate': 0.2339823403458566, 'lr': 0.0013994950544723881}. Best is trial 4 with value: 0.6229508196721312.\n"
     ]
    },
    {
     "name": "stdout",
     "output_type": "stream",
     "text": [
      "Early stopping at epoch 13\n"
     ]
    },
    {
     "name": "stderr",
     "output_type": "stream",
     "text": [
      "[I 2024-09-12 21:28:46,611] Trial 22 finished with value: 0.55 and parameters: {'sequence_length': 26, 'hidden_size': 60, 'num_layers': 2, 'num_blocks': 3, 'dropout_rate': 0.15797020313378893, 'lr': 0.0013852871420297263}. Best is trial 4 with value: 0.6229508196721312.\n"
     ]
    },
    {
     "name": "stdout",
     "output_type": "stream",
     "text": [
      "Early stopping at epoch 14\n"
     ]
    },
    {
     "name": "stderr",
     "output_type": "stream",
     "text": [
      "[I 2024-09-12 21:28:47,726] Trial 23 finished with value: 0.5901639344262295 and parameters: {'sequence_length': 21, 'hidden_size': 49, 'num_layers': 2, 'num_blocks': 3, 'dropout_rate': 0.26110646320253256, 'lr': 0.003085443307545152}. Best is trial 4 with value: 0.6229508196721312.\n"
     ]
    },
    {
     "name": "stdout",
     "output_type": "stream",
     "text": [
      "Early stopping at epoch 20\n"
     ]
    },
    {
     "name": "stderr",
     "output_type": "stream",
     "text": [
      "[I 2024-09-12 21:28:48,962] Trial 24 finished with value: 0.6065573770491803 and parameters: {'sequence_length': 16, 'hidden_size': 77, 'num_layers': 2, 'num_blocks': 2, 'dropout_rate': 0.2084288692954901, 'lr': 0.0015410612148705897}. Best is trial 4 with value: 0.6229508196721312.\n"
     ]
    },
    {
     "name": "stdout",
     "output_type": "stream",
     "text": [
      "Early stopping at epoch 30\n"
     ]
    },
    {
     "name": "stderr",
     "output_type": "stream",
     "text": [
      "[I 2024-09-12 21:28:49,696] Trial 25 finished with value: 0.6129032258064516 and parameters: {'sequence_length': 6, 'hidden_size': 91, 'num_layers': 1, 'num_blocks': 3, 'dropout_rate': 0.34993863124041164, 'lr': 0.00012344923120540842}. Best is trial 4 with value: 0.6229508196721312.\n"
     ]
    },
    {
     "name": "stdout",
     "output_type": "stream",
     "text": [
      "Early stopping at epoch 16\n"
     ]
    },
    {
     "name": "stderr",
     "output_type": "stream",
     "text": [
      "[I 2024-09-12 21:28:50,882] Trial 26 finished with value: 0.5901639344262295 and parameters: {'sequence_length': 25, 'hidden_size': 115, 'num_layers': 2, 'num_blocks': 4, 'dropout_rate': 0.31178684695252645, 'lr': 0.0021662897194317686}. Best is trial 4 with value: 0.6229508196721312.\n"
     ]
    },
    {
     "name": "stdout",
     "output_type": "stream",
     "text": [
      "Early stopping at epoch 16\n"
     ]
    },
    {
     "name": "stderr",
     "output_type": "stream",
     "text": [
      "[I 2024-09-12 21:28:51,819] Trial 27 finished with value: 0.5666666666666667 and parameters: {'sequence_length': 30, 'hidden_size': 62, 'num_layers': 3, 'num_blocks': 3, 'dropout_rate': 0.14400315942940584, 'lr': 0.0006757075678891864}. Best is trial 4 with value: 0.6229508196721312.\n"
     ]
    },
    {
     "name": "stdout",
     "output_type": "stream",
     "text": [
      "Early stopping at epoch 16\n"
     ]
    },
    {
     "name": "stderr",
     "output_type": "stream",
     "text": [
      "[I 2024-09-12 21:28:52,653] Trial 28 finished with value: 0.5737704918032787 and parameters: {'sequence_length': 20, 'hidden_size': 109, 'num_layers': 2, 'num_blocks': 4, 'dropout_rate': 0.2741613205488148, 'lr': 0.004675937468363773}. Best is trial 4 with value: 0.6229508196721312.\n"
     ]
    },
    {
     "name": "stdout",
     "output_type": "stream",
     "text": [
      "Early stopping at epoch 12\n"
     ]
    },
    {
     "name": "stderr",
     "output_type": "stream",
     "text": [
      "[I 2024-09-12 21:28:53,582] Trial 29 finished with value: 0.5573770491803278 and parameters: {'sequence_length': 17, 'hidden_size': 94, 'num_layers': 3, 'num_blocks': 5, 'dropout_rate': 0.2234744256838357, 'lr': 0.0017682416728953543}. Best is trial 4 with value: 0.6229508196721312.\n"
     ]
    },
    {
     "name": "stdout",
     "output_type": "stream",
     "text": [
      "Early stopping at epoch 10\n"
     ]
    },
    {
     "name": "stderr",
     "output_type": "stream",
     "text": [
      "[I 2024-09-12 21:28:54,231] Trial 30 finished with value: 0.6290322580645161 and parameters: {'sequence_length': 15, 'hidden_size': 76, 'num_layers': 3, 'num_blocks': 1, 'dropout_rate': 0.3693876038617534, 'lr': 0.0029248584529502457}. Best is trial 30 with value: 0.6290322580645161.\n"
     ]
    },
    {
     "name": "stdout",
     "output_type": "stream",
     "text": [
      "Early stopping at epoch 20\n"
     ]
    },
    {
     "name": "stderr",
     "output_type": "stream",
     "text": [
      "[I 2024-09-12 21:28:54,766] Trial 31 finished with value: 0.6129032258064516 and parameters: {'sequence_length': 15, 'hidden_size': 74, 'num_layers': 3, 'num_blocks': 1, 'dropout_rate': 0.36520352904432923, 'lr': 0.003142257078489582}. Best is trial 30 with value: 0.6290322580645161.\n"
     ]
    },
    {
     "name": "stdout",
     "output_type": "stream",
     "text": [
      "Early stopping at epoch 17\n"
     ]
    },
    {
     "name": "stderr",
     "output_type": "stream",
     "text": [
      "[I 2024-09-12 21:28:55,211] Trial 32 finished with value: 0.6612903225806451 and parameters: {'sequence_length': 8, 'hidden_size': 116, 'num_layers': 3, 'num_blocks': 1, 'dropout_rate': 0.4409936184750176, 'lr': 0.0026400860174627862}. Best is trial 32 with value: 0.6612903225806451.\n"
     ]
    },
    {
     "name": "stdout",
     "output_type": "stream",
     "text": [
      "Early stopping at epoch 13\n"
     ]
    },
    {
     "name": "stderr",
     "output_type": "stream",
     "text": [
      "[I 2024-09-12 21:28:55,704] Trial 33 finished with value: 0.5967741935483871 and parameters: {'sequence_length': 6, 'hidden_size': 119, 'num_layers': 3, 'num_blocks': 1, 'dropout_rate': 0.4491393404986058, 'lr': 0.003954969765405802}. Best is trial 32 with value: 0.6612903225806451.\n"
     ]
    },
    {
     "name": "stdout",
     "output_type": "stream",
     "text": [
      "Early stopping at epoch 12\n"
     ]
    },
    {
     "name": "stderr",
     "output_type": "stream",
     "text": [
      "[I 2024-09-12 21:28:56,258] Trial 34 finished with value: 0.6031746031746031 and parameters: {'sequence_length': 4, 'hidden_size': 128, 'num_layers': 3, 'num_blocks': 1, 'dropout_rate': 0.3857698511248725, 'lr': 0.0027859327329950454}. Best is trial 32 with value: 0.6612903225806451.\n"
     ]
    },
    {
     "name": "stdout",
     "output_type": "stream",
     "text": [
      "Early stopping at epoch 16\n"
     ]
    },
    {
     "name": "stderr",
     "output_type": "stream",
     "text": [
      "[I 2024-09-12 21:28:56,710] Trial 35 finished with value: 0.6290322580645161 and parameters: {'sequence_length': 8, 'hidden_size': 111, 'num_layers': 3, 'num_blocks': 1, 'dropout_rate': 0.42570274189332297, 'lr': 0.0023621429929525373}. Best is trial 32 with value: 0.6612903225806451.\n"
     ]
    },
    {
     "name": "stdout",
     "output_type": "stream",
     "text": [
      "Early stopping at epoch 11\n"
     ]
    },
    {
     "name": "stderr",
     "output_type": "stream",
     "text": [
      "[I 2024-09-12 21:28:57,181] Trial 36 finished with value: 0.6129032258064516 and parameters: {'sequence_length': 8, 'hidden_size': 112, 'num_layers': 3, 'num_blocks': 1, 'dropout_rate': 0.4228403087802075, 'lr': 0.005212174553187427}. Best is trial 32 with value: 0.6612903225806451.\n"
     ]
    },
    {
     "name": "stdout",
     "output_type": "stream",
     "text": [
      "Early stopping at epoch 13\n"
     ]
    },
    {
     "name": "stderr",
     "output_type": "stream",
     "text": [
      "[I 2024-09-12 21:28:57,624] Trial 37 finished with value: 0.5483870967741935 and parameters: {'sequence_length': 11, 'hidden_size': 100, 'num_layers': 3, 'num_blocks': 1, 'dropout_rate': 0.46552128553280947, 'lr': 0.004183056726165765}. Best is trial 32 with value: 0.6612903225806451.\n"
     ]
    },
    {
     "name": "stdout",
     "output_type": "stream",
     "text": [
      "Early stopping at epoch 12\n"
     ]
    },
    {
     "name": "stderr",
     "output_type": "stream",
     "text": [
      "[I 2024-09-12 21:28:58,317] Trial 38 finished with value: 0.5967741935483871 and parameters: {'sequence_length': 14, 'hidden_size': 37, 'num_layers': 3, 'num_blocks': 1, 'dropout_rate': 0.41936740082465285, 'lr': 0.006017066257152794}. Best is trial 32 with value: 0.6612903225806451.\n"
     ]
    },
    {
     "name": "stdout",
     "output_type": "stream",
     "text": [
      "Early stopping at epoch 20\n"
     ]
    },
    {
     "name": "stderr",
     "output_type": "stream",
     "text": [
      "[I 2024-09-12 21:28:58,843] Trial 39 finished with value: 0.6129032258064516 and parameters: {'sequence_length': 8, 'hidden_size': 107, 'num_layers': 3, 'num_blocks': 1, 'dropout_rate': 0.4446382493692206, 'lr': 0.002509658403768197}. Best is trial 32 with value: 0.6612903225806451.\n"
     ]
    },
    {
     "name": "stdout",
     "output_type": "stream",
     "text": [
      "Early stopping at epoch 13\n"
     ]
    },
    {
     "name": "stderr",
     "output_type": "stream",
     "text": [
      "[I 2024-09-12 21:28:59,479] Trial 40 finished with value: 0.5081967213114754 and parameters: {'sequence_length': 18, 'hidden_size': 121, 'num_layers': 3, 'num_blocks': 2, 'dropout_rate': 0.4707637813049729, 'lr': 0.003228592989144254}. Best is trial 32 with value: 0.6612903225806451.\n"
     ]
    },
    {
     "name": "stdout",
     "output_type": "stream",
     "text": [
      "Early stopping at epoch 10\n"
     ]
    },
    {
     "name": "stderr",
     "output_type": "stream",
     "text": [
      "[I 2024-09-12 21:28:59,946] Trial 41 finished with value: 0.6825396825396826 and parameters: {'sequence_length': 4, 'hidden_size': 117, 'num_layers': 3, 'num_blocks': 1, 'dropout_rate': 0.40968288800183317, 'lr': 0.00201600131689391}. Best is trial 41 with value: 0.6825396825396826.\n"
     ]
    },
    {
     "name": "stdout",
     "output_type": "stream",
     "text": [
      "Early stopping at epoch 13\n"
     ]
    },
    {
     "name": "stderr",
     "output_type": "stream",
     "text": [
      "[I 2024-09-12 21:29:00,339] Trial 42 finished with value: 0.5806451612903226 and parameters: {'sequence_length': 7, 'hidden_size': 116, 'num_layers': 3, 'num_blocks': 1, 'dropout_rate': 0.39780707558318, 'lr': 0.002249787173817229}. Best is trial 41 with value: 0.6825396825396826.\n"
     ]
    },
    {
     "name": "stdout",
     "output_type": "stream",
     "text": [
      "Early stopping at epoch 11\n"
     ]
    },
    {
     "name": "stderr",
     "output_type": "stream",
     "text": [
      "[I 2024-09-12 21:29:00,784] Trial 43 finished with value: 0.5396825396825397 and parameters: {'sequence_length': 5, 'hidden_size': 105, 'num_layers': 3, 'num_blocks': 1, 'dropout_rate': 0.42874536531085927, 'lr': 0.009522432540888165}. Best is trial 41 with value: 0.6825396825396826.\n"
     ]
    },
    {
     "name": "stdout",
     "output_type": "stream",
     "text": [
      "Early stopping at epoch 12\n"
     ]
    },
    {
     "name": "stderr",
     "output_type": "stream",
     "text": [
      "[I 2024-09-12 21:29:01,603] Trial 44 finished with value: 0.5873015873015873 and parameters: {'sequence_length': 3, 'hidden_size': 97, 'num_layers': 3, 'num_blocks': 2, 'dropout_rate': 0.37749842650298226, 'lr': 0.0019457440804062098}. Best is trial 41 with value: 0.6825396825396826.\n"
     ]
    },
    {
     "name": "stdout",
     "output_type": "stream",
     "text": [
      "Early stopping at epoch 17\n"
     ]
    },
    {
     "name": "stderr",
     "output_type": "stream",
     "text": [
      "[I 2024-09-12 21:29:02,126] Trial 45 finished with value: 0.6129032258064516 and parameters: {'sequence_length': 12, 'hidden_size': 111, 'num_layers': 3, 'num_blocks': 1, 'dropout_rate': 0.40724096677684835, 'lr': 0.0008660370495202892}. Best is trial 41 with value: 0.6825396825396826.\n"
     ]
    },
    {
     "name": "stdout",
     "output_type": "stream",
     "text": [
      "Early stopping at epoch 13\n"
     ]
    },
    {
     "name": "stderr",
     "output_type": "stream",
     "text": [
      "[I 2024-09-12 21:29:02,779] Trial 46 finished with value: 0.5806451612903226 and parameters: {'sequence_length': 10, 'hidden_size': 88, 'num_layers': 3, 'num_blocks': 1, 'dropout_rate': 0.33992499884875926, 'lr': 0.0024377125178036583}. Best is trial 41 with value: 0.6825396825396826.\n"
     ]
    },
    {
     "name": "stdout",
     "output_type": "stream",
     "text": [
      "Early stopping at epoch 18\n"
     ]
    },
    {
     "name": "stderr",
     "output_type": "stream",
     "text": [
      "[I 2024-09-12 21:29:03,592] Trial 47 finished with value: 0.6129032258064516 and parameters: {'sequence_length': 7, 'hidden_size': 122, 'num_layers': 3, 'num_blocks': 2, 'dropout_rate': 0.4669514161524473, 'lr': 0.003545216108703085}. Best is trial 41 with value: 0.6825396825396826.\n"
     ]
    },
    {
     "name": "stdout",
     "output_type": "stream",
     "text": [
      "Early stopping at epoch 17\n"
     ]
    },
    {
     "name": "stderr",
     "output_type": "stream",
     "text": [
      "[I 2024-09-12 21:29:04,240] Trial 48 finished with value: 0.5967741935483871 and parameters: {'sequence_length': 15, 'hidden_size': 80, 'num_layers': 3, 'num_blocks': 1, 'dropout_rate': 0.4872946618905887, 'lr': 0.002742518026753717}. Best is trial 41 with value: 0.6825396825396826.\n"
     ]
    },
    {
     "name": "stdout",
     "output_type": "stream",
     "text": [
      "Early stopping at epoch 19\n"
     ]
    },
    {
     "name": "stderr",
     "output_type": "stream",
     "text": [
      "[I 2024-09-12 21:29:04,735] Trial 49 finished with value: 0.5873015873015873 and parameters: {'sequence_length': 4, 'hidden_size': 102, 'num_layers': 3, 'num_blocks': 2, 'dropout_rate': 0.3880923507310192, 'lr': 0.0040855923797231365}. Best is trial 41 with value: 0.6825396825396826.\n"
     ]
    },
    {
     "name": "stdout",
     "output_type": "stream",
     "text": [
      "Early stopping at epoch 10\n"
     ]
    },
    {
     "name": "stderr",
     "output_type": "stream",
     "text": [
      "[I 2024-09-12 21:29:05,457] Trial 50 finished with value: 0.6290322580645161 and parameters: {'sequence_length': 10, 'hidden_size': 114, 'num_layers': 3, 'num_blocks': 1, 'dropout_rate': 0.3674066157841794, 'lr': 0.0010650475066828946}. Best is trial 41 with value: 0.6825396825396826.\n"
     ]
    },
    {
     "name": "stdout",
     "output_type": "stream",
     "text": [
      "Early stopping at epoch 19\n"
     ]
    },
    {
     "name": "stderr",
     "output_type": "stream",
     "text": [
      "[I 2024-09-12 21:29:05,891] Trial 51 finished with value: 0.5645161290322581 and parameters: {'sequence_length': 9, 'hidden_size': 125, 'num_layers': 3, 'num_blocks': 1, 'dropout_rate': 0.3547337279221962, 'lr': 0.0004802717741195317}. Best is trial 41 with value: 0.6825396825396826.\n"
     ]
    },
    {
     "name": "stdout",
     "output_type": "stream",
     "text": [
      "Early stopping at epoch 10\n"
     ]
    },
    {
     "name": "stderr",
     "output_type": "stream",
     "text": [
      "[I 2024-09-12 21:29:06,311] Trial 52 finished with value: 0.5967741935483871 and parameters: {'sequence_length': 12, 'hidden_size': 117, 'num_layers': 3, 'num_blocks': 1, 'dropout_rate': 0.4332144289696516, 'lr': 0.001939863806712383}. Best is trial 41 with value: 0.6825396825396826.\n"
     ]
    },
    {
     "name": "stdout",
     "output_type": "stream",
     "text": [
      "Early stopping at epoch 11\n"
     ]
    },
    {
     "name": "stderr",
     "output_type": "stream",
     "text": [
      "[I 2024-09-12 21:29:06,903] Trial 53 finished with value: 0.5483870967741935 and parameters: {'sequence_length': 10, 'hidden_size': 113, 'num_layers': 3, 'num_blocks': 1, 'dropout_rate': 0.3696125436017197, 'lr': 0.0010242504385776655}. Best is trial 41 with value: 0.6825396825396826.\n"
     ]
    },
    {
     "name": "stdout",
     "output_type": "stream",
     "text": [
      "Early stopping at epoch 17\n"
     ]
    },
    {
     "name": "stderr",
     "output_type": "stream",
     "text": [
      "[I 2024-09-12 21:29:07,329] Trial 54 finished with value: 0.5806451612903226 and parameters: {'sequence_length': 14, 'hidden_size': 97, 'num_layers': 3, 'num_blocks': 1, 'dropout_rate': 0.3029752573636244, 'lr': 0.0011871924226531786}. Best is trial 41 with value: 0.6825396825396826.\n"
     ]
    },
    {
     "name": "stdout",
     "output_type": "stream",
     "text": [
      "Early stopping at epoch 10\n"
     ]
    },
    {
     "name": "stderr",
     "output_type": "stream",
     "text": [
      "[I 2024-09-12 21:29:07,861] Trial 55 finished with value: 0.5645161290322581 and parameters: {'sequence_length': 7, 'hidden_size': 105, 'num_layers': 3, 'num_blocks': 2, 'dropout_rate': 0.40893191690395436, 'lr': 0.003304190009899192}. Best is trial 41 with value: 0.6825396825396826.\n"
     ]
    },
    {
     "name": "stdout",
     "output_type": "stream",
     "text": [
      "Early stopping at epoch 10\n"
     ]
    },
    {
     "name": "stderr",
     "output_type": "stream",
     "text": [
      "[I 2024-09-12 21:29:08,373] Trial 56 finished with value: 0.6065573770491803 and parameters: {'sequence_length': 23, 'hidden_size': 110, 'num_layers': 3, 'num_blocks': 1, 'dropout_rate': 0.4577356211649775, 'lr': 0.007922119702729729}. Best is trial 41 with value: 0.6825396825396826.\n"
     ]
    },
    {
     "name": "stdout",
     "output_type": "stream",
     "text": [
      "Early stopping at epoch 11\n"
     ]
    },
    {
     "name": "stderr",
     "output_type": "stream",
     "text": [
      "[I 2024-09-12 21:29:09,370] Trial 57 finished with value: 0.532258064516129 and parameters: {'sequence_length': 11, 'hidden_size': 124, 'num_layers': 3, 'num_blocks': 5, 'dropout_rate': 0.3279889823106129, 'lr': 0.001789655894263787}. Best is trial 41 with value: 0.6825396825396826.\n"
     ]
    },
    {
     "name": "stdout",
     "output_type": "stream",
     "text": [
      "Early stopping at epoch 10\n"
     ]
    },
    {
     "name": "stderr",
     "output_type": "stream",
     "text": [
      "[I 2024-09-12 21:29:10,115] Trial 58 finished with value: 0.5873015873015873 and parameters: {'sequence_length': 2, 'hidden_size': 116, 'num_layers': 3, 'num_blocks': 2, 'dropout_rate': 0.39329493399568916, 'lr': 0.002717559472437214}. Best is trial 41 with value: 0.6825396825396826.\n"
     ]
    },
    {
     "name": "stdout",
     "output_type": "stream",
     "text": [
      "Early stopping at epoch 16\n"
     ]
    },
    {
     "name": "stderr",
     "output_type": "stream",
     "text": [
      "[I 2024-09-12 21:29:10,547] Trial 59 finished with value: 0.5396825396825397 and parameters: {'sequence_length': 5, 'hidden_size': 119, 'num_layers': 3, 'num_blocks': 1, 'dropout_rate': 0.12555447606531206, 'lr': 0.003740057639420643}. Best is trial 41 with value: 0.6825396825396826.\n"
     ]
    },
    {
     "name": "stdout",
     "output_type": "stream",
     "text": [
      "Early stopping at epoch 12\n"
     ]
    },
    {
     "name": "stderr",
     "output_type": "stream",
     "text": [
      "[I 2024-09-12 21:29:11,148] Trial 60 finished with value: 0.5901639344262295 and parameters: {'sequence_length': 17, 'hidden_size': 102, 'num_layers': 3, 'num_blocks': 2, 'dropout_rate': 0.41608473330715345, 'lr': 0.00046328221679132597}. Best is trial 41 with value: 0.6825396825396826.\n"
     ]
    },
    {
     "name": "stdout",
     "output_type": "stream",
     "text": [
      "Early stopping at epoch 11\n"
     ]
    },
    {
     "name": "stderr",
     "output_type": "stream",
     "text": [
      "[I 2024-09-12 21:29:11,931] Trial 61 finished with value: 0.6190476190476191 and parameters: {'sequence_length': 3, 'hidden_size': 113, 'num_layers': 2, 'num_blocks': 3, 'dropout_rate': 0.37883788851780525, 'lr': 0.0012676129216938141}. Best is trial 41 with value: 0.6825396825396826.\n"
     ]
    },
    {
     "name": "stdout",
     "output_type": "stream",
     "text": [
      "Early stopping at epoch 14\n"
     ]
    },
    {
     "name": "stderr",
     "output_type": "stream",
     "text": [
      "[I 2024-09-12 21:29:12,980] Trial 62 finished with value: 0.5714285714285714 and parameters: {'sequence_length': 4, 'hidden_size': 24, 'num_layers': 2, 'num_blocks': 4, 'dropout_rate': 0.35098052067962215, 'lr': 0.0016614234561554055}. Best is trial 41 with value: 0.6825396825396826.\n"
     ]
    },
    {
     "name": "stdout",
     "output_type": "stream",
     "text": [
      "Early stopping at epoch 17\n"
     ]
    },
    {
     "name": "stderr",
     "output_type": "stream",
     "text": [
      "[I 2024-09-12 21:29:13,833] Trial 63 finished with value: 0.5967741935483871 and parameters: {'sequence_length': 6, 'hidden_size': 128, 'num_layers': 1, 'num_blocks': 3, 'dropout_rate': 0.443982128657136, 'lr': 0.0020926219520027603}. Best is trial 41 with value: 0.6825396825396826.\n"
     ]
    },
    {
     "name": "stdout",
     "output_type": "stream",
     "text": [
      "Early stopping at epoch 18\n"
     ]
    },
    {
     "name": "stderr",
     "output_type": "stream",
     "text": [
      "[I 2024-09-12 21:29:14,342] Trial 64 finished with value: 0.6290322580645161 and parameters: {'sequence_length': 8, 'hidden_size': 120, 'num_layers': 2, 'num_blocks': 1, 'dropout_rate': 0.3109322901167355, 'lr': 0.0024472068582640383}. Best is trial 41 with value: 0.6825396825396826.\n"
     ]
    },
    {
     "name": "stdout",
     "output_type": "stream",
     "text": [
      "Early stopping at epoch 14\n"
     ]
    },
    {
     "name": "stderr",
     "output_type": "stream",
     "text": [
      "[I 2024-09-12 21:29:14,838] Trial 65 finished with value: 0.6129032258064516 and parameters: {'sequence_length': 8, 'hidden_size': 108, 'num_layers': 2, 'num_blocks': 1, 'dropout_rate': 0.30561758449718235, 'lr': 0.002946540847972435}. Best is trial 41 with value: 0.6825396825396826.\n"
     ]
    },
    {
     "name": "stdout",
     "output_type": "stream",
     "text": [
      "Early stopping at epoch 13\n"
     ]
    },
    {
     "name": "stderr",
     "output_type": "stream",
     "text": [
      "[I 2024-09-12 21:29:15,335] Trial 66 finished with value: 0.5806451612903226 and parameters: {'sequence_length': 9, 'hidden_size': 120, 'num_layers': 3, 'num_blocks': 1, 'dropout_rate': 0.318474386930035, 'lr': 0.002517628351914897}. Best is trial 41 with value: 0.6825396825396826.\n"
     ]
    },
    {
     "name": "stdout",
     "output_type": "stream",
     "text": [
      "Early stopping at epoch 11\n"
     ]
    },
    {
     "name": "stderr",
     "output_type": "stream",
     "text": [
      "[I 2024-09-12 21:29:15,778] Trial 67 finished with value: 0.5967741935483871 and parameters: {'sequence_length': 13, 'hidden_size': 88, 'num_layers': 3, 'num_blocks': 1, 'dropout_rate': 0.2812597317969503, 'lr': 0.003570367484364155}. Best is trial 41 with value: 0.6825396825396826.\n"
     ]
    },
    {
     "name": "stdout",
     "output_type": "stream",
     "text": [
      "Early stopping at epoch 12\n"
     ]
    },
    {
     "name": "stderr",
     "output_type": "stream",
     "text": [
      "[I 2024-09-12 21:29:16,584] Trial 68 finished with value: 0.5645161290322581 and parameters: {'sequence_length': 11, 'hidden_size': 55, 'num_layers': 2, 'num_blocks': 1, 'dropout_rate': 0.25898927533098237, 'lr': 0.0024511592107737744}. Best is trial 41 with value: 0.6825396825396826.\n"
     ]
    },
    {
     "name": "stdout",
     "output_type": "stream",
     "text": [
      "Early stopping at epoch 27\n"
     ]
    },
    {
     "name": "stderr",
     "output_type": "stream",
     "text": [
      "[I 2024-09-12 21:29:17,338] Trial 69 finished with value: 0.5573770491803278 and parameters: {'sequence_length': 19, 'hidden_size': 123, 'num_layers': 3, 'num_blocks': 1, 'dropout_rate': 0.3399586671732707, 'lr': 0.001524740708432982}. Best is trial 41 with value: 0.6825396825396826.\n"
     ]
    },
    {
     "name": "stdout",
     "output_type": "stream",
     "text": [
      "Early stopping at epoch 19\n"
     ]
    },
    {
     "name": "stderr",
     "output_type": "stream",
     "text": [
      "[I 2024-09-12 21:29:18,053] Trial 70 finished with value: 0.5161290322580645 and parameters: {'sequence_length': 10, 'hidden_size': 114, 'num_layers': 3, 'num_blocks': 2, 'dropout_rate': 0.19523465622162323, 'lr': 0.005004927540423846}. Best is trial 41 with value: 0.6825396825396826.\n"
     ]
    },
    {
     "name": "stdout",
     "output_type": "stream",
     "text": [
      "Early stopping at epoch 13\n"
     ]
    },
    {
     "name": "stderr",
     "output_type": "stream",
     "text": [
      "[I 2024-09-12 21:29:18,560] Trial 71 finished with value: 0.6129032258064516 and parameters: {'sequence_length': 6, 'hidden_size': 119, 'num_layers': 2, 'num_blocks': 1, 'dropout_rate': 0.3671260302744678, 'lr': 0.0021494942735234817}. Best is trial 41 with value: 0.6825396825396826.\n"
     ]
    },
    {
     "name": "stdout",
     "output_type": "stream",
     "text": [
      "Early stopping at epoch 16\n"
     ]
    },
    {
     "name": "stderr",
     "output_type": "stream",
     "text": [
      "[I 2024-09-12 21:29:19,128] Trial 72 finished with value: 0.5555555555555556 and parameters: {'sequence_length': 3, 'hidden_size': 106, 'num_layers': 2, 'num_blocks': 3, 'dropout_rate': 0.403821896995393, 'lr': 0.003348478209917561}. Best is trial 41 with value: 0.6825396825396826.\n"
     ]
    },
    {
     "name": "stdout",
     "output_type": "stream",
     "text": [
      "Early stopping at epoch 10\n"
     ]
    },
    {
     "name": "stderr",
     "output_type": "stream",
     "text": [
      "[I 2024-09-12 21:29:20,623] Trial 73 finished with value: 0.6290322580645161 and parameters: {'sequence_length': 7, 'hidden_size': 110, 'num_layers': 2, 'num_blocks': 5, 'dropout_rate': 0.43221890979615046, 'lr': 0.001136833245590259}. Best is trial 41 with value: 0.6825396825396826.\n"
     ]
    },
    {
     "name": "stdout",
     "output_type": "stream",
     "text": [
      "Early stopping at epoch 20\n"
     ]
    },
    {
     "name": "stderr",
     "output_type": "stream",
     "text": [
      "[I 2024-09-12 21:29:21,480] Trial 74 finished with value: 0.5645161290322581 and parameters: {'sequence_length': 7, 'hidden_size': 110, 'num_layers': 2, 'num_blocks': 5, 'dropout_rate': 0.4375617757678546, 'lr': 0.0012846768774836149}. Best is trial 41 with value: 0.6825396825396826.\n"
     ]
    },
    {
     "name": "stdout",
     "output_type": "stream",
     "text": [
      "Early stopping at epoch 10\n"
     ]
    },
    {
     "name": "stderr",
     "output_type": "stream",
     "text": [
      "[I 2024-09-12 21:29:22,591] Trial 75 finished with value: 0.6290322580645161 and parameters: {'sequence_length': 9, 'hidden_size': 117, 'num_layers': 2, 'num_blocks': 5, 'dropout_rate': 0.42181129505385406, 'lr': 0.0006356393194976177}. Best is trial 41 with value: 0.6825396825396826.\n"
     ]
    },
    {
     "name": "stdout",
     "output_type": "stream",
     "text": [
      "Early stopping at epoch 13\n"
     ]
    },
    {
     "name": "stderr",
     "output_type": "stream",
     "text": [
      "[I 2024-09-12 21:29:24,072] Trial 76 finished with value: 0.5967741935483871 and parameters: {'sequence_length': 9, 'hidden_size': 126, 'num_layers': 2, 'num_blocks': 5, 'dropout_rate': 0.48229312186243745, 'lr': 0.0005584792649598186}. Best is trial 41 with value: 0.6825396825396826.\n"
     ]
    },
    {
     "name": "stdout",
     "output_type": "stream",
     "text": [
      "Early stopping at epoch 19\n"
     ]
    },
    {
     "name": "stderr",
     "output_type": "stream",
     "text": [
      "[I 2024-09-12 21:29:26,282] Trial 77 finished with value: 0.5806451612903226 and parameters: {'sequence_length': 8, 'hidden_size': 117, 'num_layers': 2, 'num_blocks': 5, 'dropout_rate': 0.42668161436080393, 'lr': 0.000219040472839326}. Best is trial 41 with value: 0.6825396825396826.\n"
     ]
    },
    {
     "name": "stdout",
     "output_type": "stream",
     "text": [
      "Early stopping at epoch 33\n"
     ]
    },
    {
     "name": "stderr",
     "output_type": "stream",
     "text": [
      "[I 2024-09-12 21:29:28,195] Trial 78 finished with value: 0.5714285714285714 and parameters: {'sequence_length': 5, 'hidden_size': 112, 'num_layers': 2, 'num_blocks': 5, 'dropout_rate': 0.4526087068456905, 'lr': 0.0008007752232137668}. Best is trial 41 with value: 0.6825396825396826.\n"
     ]
    },
    {
     "name": "stdout",
     "output_type": "stream",
     "text": [
      "Early stopping at epoch 28\n"
     ]
    },
    {
     "name": "stderr",
     "output_type": "stream",
     "text": [
      "[I 2024-09-12 21:29:29,286] Trial 79 finished with value: 0.6129032258064516 and parameters: {'sequence_length': 8, 'hidden_size': 95, 'num_layers': 2, 'num_blocks': 5, 'dropout_rate': 0.4178608683216738, 'lr': 0.001080695806864951}. Best is trial 41 with value: 0.6825396825396826.\n"
     ]
    },
    {
     "name": "stdout",
     "output_type": "stream",
     "text": [
      "Early stopping at epoch 15\n"
     ]
    },
    {
     "name": "stderr",
     "output_type": "stream",
     "text": [
      "[I 2024-09-12 21:29:30,117] Trial 80 finished with value: 0.5806451612903226 and parameters: {'sequence_length': 7, 'hidden_size': 44, 'num_layers': 2, 'num_blocks': 4, 'dropout_rate': 0.3929445104884682, 'lr': 0.001853926083695272}. Best is trial 41 with value: 0.6825396825396826.\n"
     ]
    },
    {
     "name": "stdout",
     "output_type": "stream",
     "text": [
      "Early stopping at epoch 11\n"
     ]
    },
    {
     "name": "stderr",
     "output_type": "stream",
     "text": [
      "[I 2024-09-12 21:29:31,270] Trial 81 finished with value: 0.6065573770491803 and parameters: {'sequence_length': 16, 'hidden_size': 116, 'num_layers': 2, 'num_blocks': 5, 'dropout_rate': 0.432131226318165, 'lr': 0.0029681507007356064}. Best is trial 41 with value: 0.6825396825396826.\n"
     ]
    },
    {
     "name": "stdout",
     "output_type": "stream",
     "text": [
      "Early stopping at epoch 12\n"
     ]
    },
    {
     "name": "stderr",
     "output_type": "stream",
     "text": [
      "[I 2024-09-12 21:29:31,766] Trial 82 finished with value: 0.5081967213114754 and parameters: {'sequence_length': 18, 'hidden_size': 109, 'num_layers': 3, 'num_blocks': 1, 'dropout_rate': 0.4585314520515423, 'lr': 0.0015658805412235883}. Best is trial 41 with value: 0.6825396825396826.\n"
     ]
    },
    {
     "name": "stdout",
     "output_type": "stream",
     "text": [
      "Early stopping at epoch 12\n"
     ]
    },
    {
     "name": "stderr",
     "output_type": "stream",
     "text": [
      "[I 2024-09-12 21:29:32,550] Trial 83 finished with value: 0.5 and parameters: {'sequence_length': 9, 'hidden_size': 100, 'num_layers': 3, 'num_blocks': 4, 'dropout_rate': 0.47636654180412685, 'lr': 0.0003265315638924951}. Best is trial 41 with value: 0.6825396825396826.\n"
     ]
    },
    {
     "name": "stdout",
     "output_type": "stream",
     "text": [
      "Early stopping at epoch 10\n"
     ]
    },
    {
     "name": "stderr",
     "output_type": "stream",
     "text": [
      "[I 2024-09-12 21:29:33,288] Trial 84 finished with value: 0.5645161290322581 and parameters: {'sequence_length': 12, 'hidden_size': 122, 'num_layers': 2, 'num_blocks': 1, 'dropout_rate': 0.406288112497052, 'lr': 0.002237311011339829}. Best is trial 41 with value: 0.6825396825396826.\n"
     ]
    },
    {
     "name": "stdout",
     "output_type": "stream",
     "text": [
      "Early stopping at epoch 21\n"
     ]
    },
    {
     "name": "stderr",
     "output_type": "stream",
     "text": [
      "[I 2024-09-12 21:29:33,795] Trial 85 finished with value: 0.5967741935483871 and parameters: {'sequence_length': 6, 'hidden_size': 105, 'num_layers': 3, 'num_blocks': 1, 'dropout_rate': 0.4215276020418, 'lr': 0.0025940410081596805}. Best is trial 41 with value: 0.6825396825396826.\n"
     ]
    },
    {
     "name": "stdout",
     "output_type": "stream",
     "text": [
      "Early stopping at epoch 12\n"
     ]
    },
    {
     "name": "stderr",
     "output_type": "stream",
     "text": [
      "[I 2024-09-12 21:29:34,480] Trial 86 finished with value: 0.5806451612903226 and parameters: {'sequence_length': 11, 'hidden_size': 118, 'num_layers': 3, 'num_blocks': 1, 'dropout_rate': 0.3831126717080041, 'lr': 0.000666421559624378}. Best is trial 41 with value: 0.6825396825396826.\n"
     ]
    },
    {
     "name": "stdout",
     "output_type": "stream",
     "text": [
      "Early stopping at epoch 17\n"
     ]
    },
    {
     "name": "stderr",
     "output_type": "stream",
     "text": [
      "[I 2024-09-12 21:29:34,973] Trial 87 finished with value: 0.5483870967741935 and parameters: {'sequence_length': 10, 'hidden_size': 103, 'num_layers': 2, 'num_blocks': 1, 'dropout_rate': 0.2898113788112011, 'lr': 0.0019804027268262112}. Best is trial 41 with value: 0.6825396825396826.\n"
     ]
    },
    {
     "name": "stdout",
     "output_type": "stream",
     "text": [
      "Early stopping at epoch 12\n"
     ]
    },
    {
     "name": "stderr",
     "output_type": "stream",
     "text": [
      "[I 2024-09-12 21:29:35,922] Trial 88 finished with value: 0.5967741935483871 and parameters: {'sequence_length': 14, 'hidden_size': 68, 'num_layers': 3, 'num_blocks': 5, 'dropout_rate': 0.2195518096354735, 'lr': 0.0009413775763531178}. Best is trial 41 with value: 0.6825396825396826.\n"
     ]
    },
    {
     "name": "stdout",
     "output_type": "stream",
     "text": [
      "Early stopping at epoch 10\n"
     ]
    },
    {
     "name": "stderr",
     "output_type": "stream",
     "text": [
      "[I 2024-09-12 21:29:37,012] Trial 89 finished with value: 0.5396825396825397 and parameters: {'sequence_length': 5, 'hidden_size': 114, 'num_layers': 2, 'num_blocks': 4, 'dropout_rate': 0.3400821702992539, 'lr': 0.001326618197364505}. Best is trial 41 with value: 0.6825396825396826.\n"
     ]
    },
    {
     "name": "stdout",
     "output_type": "stream",
     "text": [
      "Early stopping at epoch 18\n"
     ]
    },
    {
     "name": "stderr",
     "output_type": "stream",
     "text": [
      "[I 2024-09-12 21:29:37,333] Trial 90 finished with value: 0.47540983606557374 and parameters: {'sequence_length': 21, 'hidden_size': 63, 'num_layers': 1, 'num_blocks': 1, 'dropout_rate': 0.44248520964407184, 'lr': 5.5752289782469346e-05}. Best is trial 41 with value: 0.6825396825396826.\n"
     ]
    },
    {
     "name": "stdout",
     "output_type": "stream",
     "text": [
      "Early stopping at epoch 10\n"
     ]
    },
    {
     "name": "stderr",
     "output_type": "stream",
     "text": [
      "[I 2024-09-12 21:29:37,954] Trial 91 finished with value: 0.5873015873015873 and parameters: {'sequence_length': 4, 'hidden_size': 120, 'num_layers': 2, 'num_blocks': 3, 'dropout_rate': 0.365494208797649, 'lr': 0.0023409496565472785}. Best is trial 41 with value: 0.6825396825396826.\n"
     ]
    },
    {
     "name": "stdout",
     "output_type": "stream",
     "text": [
      "Early stopping at epoch 10\n"
     ]
    },
    {
     "name": "stderr",
     "output_type": "stream",
     "text": [
      "[I 2024-09-12 21:29:39,125] Trial 92 finished with value: 0.6031746031746031 and parameters: {'sequence_length': 2, 'hidden_size': 125, 'num_layers': 2, 'num_blocks': 3, 'dropout_rate': 0.41265761569054943, 'lr': 0.0027613455143401322}. Best is trial 41 with value: 0.6825396825396826.\n"
     ]
    },
    {
     "name": "stdout",
     "output_type": "stream",
     "text": [
      "Early stopping at epoch 21\n"
     ]
    },
    {
     "name": "stderr",
     "output_type": "stream",
     "text": [
      "[I 2024-09-12 21:29:39,870] Trial 93 finished with value: 0.6129032258064516 and parameters: {'sequence_length': 8, 'hidden_size': 111, 'num_layers': 2, 'num_blocks': 3, 'dropout_rate': 0.37282536424218254, 'lr': 0.0031519863067198143}. Best is trial 41 with value: 0.6825396825396826.\n"
     ]
    },
    {
     "name": "stdout",
     "output_type": "stream",
     "text": [
      "Early stopping at epoch 13\n"
     ]
    },
    {
     "name": "stderr",
     "output_type": "stream",
     "text": [
      "[I 2024-09-12 21:29:40,569] Trial 94 finished with value: 0.6290322580645161 and parameters: {'sequence_length': 6, 'hidden_size': 107, 'num_layers': 2, 'num_blocks': 1, 'dropout_rate': 0.16286868147503547, 'lr': 0.0017530316226420256}. Best is trial 41 with value: 0.6825396825396826.\n"
     ]
    },
    {
     "name": "stdout",
     "output_type": "stream",
     "text": [
      "Early stopping at epoch 22\n"
     ]
    },
    {
     "name": "stderr",
     "output_type": "stream",
     "text": [
      "[I 2024-09-12 21:29:40,959] Trial 95 finished with value: 0.5645161290322581 and parameters: {'sequence_length': 7, 'hidden_size': 107, 'num_layers': 2, 'num_blocks': 1, 'dropout_rate': 0.16542510440661043, 'lr': 0.0016741062792348213}. Best is trial 41 with value: 0.6825396825396826.\n"
     ]
    },
    {
     "name": "stdout",
     "output_type": "stream",
     "text": [
      "Early stopping at epoch 11\n"
     ]
    },
    {
     "name": "stderr",
     "output_type": "stream",
     "text": [
      "[I 2024-09-12 21:29:41,683] Trial 96 finished with value: 0.5967741935483871 and parameters: {'sequence_length': 6, 'hidden_size': 75, 'num_layers': 3, 'num_blocks': 1, 'dropout_rate': 0.11130979408620703, 'lr': 0.006298030378506722}. Best is trial 41 with value: 0.6825396825396826.\n"
     ]
    },
    {
     "name": "stdout",
     "output_type": "stream",
     "text": [
      "Early stopping at epoch 22\n"
     ]
    },
    {
     "name": "stderr",
     "output_type": "stream",
     "text": [
      "[I 2024-09-12 21:29:42,216] Trial 97 finished with value: 0.7096774193548387 and parameters: {'sequence_length': 9, 'hidden_size': 115, 'num_layers': 3, 'num_blocks': 1, 'dropout_rate': 0.13224096960835274, 'lr': 0.0011113956741934086}. Best is trial 97 with value: 0.7096774193548387.\n"
     ]
    },
    {
     "name": "stdout",
     "output_type": "stream",
     "text": [
      "Early stopping at epoch 11\n"
     ]
    },
    {
     "name": "stderr",
     "output_type": "stream",
     "text": [
      "[I 2024-09-12 21:29:42,732] Trial 98 finished with value: 0.6290322580645161 and parameters: {'sequence_length': 9, 'hidden_size': 115, 'num_layers': 3, 'num_blocks': 1, 'dropout_rate': 0.498503509180701, 'lr': 0.0010759000423942134}. Best is trial 97 with value: 0.7096774193548387.\n"
     ]
    },
    {
     "name": "stdout",
     "output_type": "stream",
     "text": [
      "Early stopping at epoch 13\n"
     ]
    },
    {
     "name": "stderr",
     "output_type": "stream",
     "text": [
      "[I 2024-09-12 21:29:43,199] Trial 99 finished with value: 0.6290322580645161 and parameters: {'sequence_length': 8, 'hidden_size': 121, 'num_layers': 2, 'num_blocks': 1, 'dropout_rate': 0.1403550954198834, 'lr': 0.0007397823197057014}. Best is trial 97 with value: 0.7096774193548387.\n",
      "[I 2024-09-12 21:29:43,235] A new study created in memory with name: no-name-fe65bf34-cf7b-431b-9e83-fc0f3dbd1dec\n"
     ]
    },
    {
     "name": "stdout",
     "output_type": "stream",
     "text": [
      "Early stopping at epoch 12\n",
      "parameters for SGDUSD=X saved to ../models/best-hyperparameters/pytorch/lstm-classification/SGDUSD=X.json\n",
      "Best model for SGDUSD=X saved with accuracy: 0.7096774193548387\n"
     ]
    },
    {
     "name": "stderr",
     "output_type": "stream",
     "text": [
      "[I 2024-09-12 21:29:55,135] Trial 0 finished with value: 0.04239868372678757 and parameters: {'sequence_length': 29, 'hidden_size': 37, 'num_layers': 1, 'num_blocks': 1, 'dropout_rate': 0.20232507318914547, 'lr': 0.007590054459917082}. Best is trial 0 with value: 0.04239868372678757.\n",
      "[I 2024-09-12 21:29:55,626] Trial 1 finished with value: 1.0937501192092896 and parameters: {'sequence_length': 27, 'hidden_size': 45, 'num_layers': 2, 'num_blocks': 1, 'dropout_rate': 0.1616194977976333, 'lr': 0.008471501938138455}. Best is trial 0 with value: 0.04239868372678757.\n"
     ]
    },
    {
     "name": "stdout",
     "output_type": "stream",
     "text": [
      "Early stopping at epoch 16\n"
     ]
    },
    {
     "name": "stderr",
     "output_type": "stream",
     "text": [
      "[I 2024-09-12 21:29:56,548] Trial 2 finished with value: 0.9637653231620789 and parameters: {'sequence_length': 7, 'hidden_size': 32, 'num_layers': 3, 'num_blocks': 2, 'dropout_rate': 0.31224290114839226, 'lr': 0.008327931940961937}. Best is trial 0 with value: 0.04239868372678757.\n"
     ]
    },
    {
     "name": "stdout",
     "output_type": "stream",
     "text": [
      "Early stopping at epoch 22\n"
     ]
    },
    {
     "name": "stderr",
     "output_type": "stream",
     "text": [
      "[I 2024-09-12 21:29:57,919] Trial 3 finished with value: 1.2534135580062866 and parameters: {'sequence_length': 6, 'hidden_size': 92, 'num_layers': 1, 'num_blocks': 5, 'dropout_rate': 0.360026278598392, 'lr': 0.0065024660553642385}. Best is trial 0 with value: 0.04239868372678757.\n"
     ]
    },
    {
     "name": "stdout",
     "output_type": "stream",
     "text": [
      "Early stopping at epoch 23\n"
     ]
    },
    {
     "name": "stderr",
     "output_type": "stream",
     "text": [
      "[I 2024-09-12 21:30:00,554] Trial 4 finished with value: 0.6023520231246948 and parameters: {'sequence_length': 30, 'hidden_size': 63, 'num_layers': 1, 'num_blocks': 5, 'dropout_rate': 0.3938404392219703, 'lr': 0.00765428281988095}. Best is trial 0 with value: 0.04239868372678757.\n"
     ]
    },
    {
     "name": "stdout",
     "output_type": "stream",
     "text": [
      "Early stopping at epoch 44\n"
     ]
    },
    {
     "name": "stderr",
     "output_type": "stream",
     "text": [
      "[I 2024-09-12 21:30:01,440] Trial 5 finished with value: 1.2415645122528076 and parameters: {'sequence_length': 18, 'hidden_size': 45, 'num_layers': 3, 'num_blocks': 3, 'dropout_rate': 0.4851723658621425, 'lr': 0.0056960326353899336}. Best is trial 0 with value: 0.04239868372678757.\n"
     ]
    },
    {
     "name": "stdout",
     "output_type": "stream",
     "text": [
      "Early stopping at epoch 16\n"
     ]
    },
    {
     "name": "stderr",
     "output_type": "stream",
     "text": [
      "[I 2024-09-12 21:30:15,537] Trial 6 finished with value: 0.05012596398591995 and parameters: {'sequence_length': 9, 'hidden_size': 127, 'num_layers': 1, 'num_blocks': 4, 'dropout_rate': 0.1498015093300849, 'lr': 0.001088807205566282}. Best is trial 0 with value: 0.04239868372678757.\n"
     ]
    },
    {
     "name": "stdout",
     "output_type": "stream",
     "text": [
      "Early stopping at epoch 301\n"
     ]
    },
    {
     "name": "stderr",
     "output_type": "stream",
     "text": [
      "[I 2024-09-12 21:30:18,743] Trial 7 finished with value: 0.3174683153629303 and parameters: {'sequence_length': 30, 'hidden_size': 46, 'num_layers': 3, 'num_blocks': 5, 'dropout_rate': 0.1641177370735253, 'lr': 0.009636211325619969}. Best is trial 0 with value: 0.04239868372678757.\n"
     ]
    },
    {
     "name": "stdout",
     "output_type": "stream",
     "text": [
      "Early stopping at epoch 41\n"
     ]
    },
    {
     "name": "stderr",
     "output_type": "stream",
     "text": [
      "[I 2024-09-12 21:30:19,271] Trial 8 finished with value: 1.2209086418151855 and parameters: {'sequence_length': 30, 'hidden_size': 110, 'num_layers': 1, 'num_blocks': 1, 'dropout_rate': 0.2534760822515064, 'lr': 0.006893131183511885}. Best is trial 0 with value: 0.04239868372678757.\n"
     ]
    },
    {
     "name": "stdout",
     "output_type": "stream",
     "text": [
      "Early stopping at epoch 21\n"
     ]
    },
    {
     "name": "stderr",
     "output_type": "stream",
     "text": [
      "[I 2024-09-12 21:30:30,768] Trial 9 finished with value: 0.051484979689121246 and parameters: {'sequence_length': 18, 'hidden_size': 29, 'num_layers': 1, 'num_blocks': 3, 'dropout_rate': 0.41619114780512634, 'lr': 0.008893390753079216}. Best is trial 0 with value: 0.04239868372678757.\n"
     ]
    },
    {
     "name": "stdout",
     "output_type": "stream",
     "text": [
      "Early stopping at epoch 295\n"
     ]
    },
    {
     "name": "stderr",
     "output_type": "stream",
     "text": [
      "[I 2024-09-12 21:30:33,137] Trial 10 finished with value: 0.19553081691265106 and parameters: {'sequence_length': 22, 'hidden_size': 16, 'num_layers': 2, 'num_blocks': 2, 'dropout_rate': 0.23676246684718727, 'lr': 0.003837438790095253}. Best is trial 0 with value: 0.04239868372678757.\n"
     ]
    },
    {
     "name": "stdout",
     "output_type": "stream",
     "text": [
      "Early stopping at epoch 63\n"
     ]
    },
    {
     "name": "stderr",
     "output_type": "stream",
     "text": [
      "[I 2024-09-12 21:30:45,809] Trial 11 finished with value: 0.05276520922780037 and parameters: {'sequence_length': 11, 'hidden_size': 127, 'num_layers': 2, 'num_blocks': 4, 'dropout_rate': 0.10799457632981666, 'lr': 0.00029712574216114534}. Best is trial 0 with value: 0.04239868372678757.\n"
     ]
    },
    {
     "name": "stdout",
     "output_type": "stream",
     "text": [
      "Early stopping at epoch 239\n"
     ]
    },
    {
     "name": "stderr",
     "output_type": "stream",
     "text": [
      "[I 2024-09-12 21:30:47,031] Trial 12 finished with value: 1.1148009300231934 and parameters: {'sequence_length': 2, 'hidden_size': 74, 'num_layers': 1, 'num_blocks': 4, 'dropout_rate': 0.20883192908394627, 'lr': 0.0036175655307545402}. Best is trial 0 with value: 0.04239868372678757.\n"
     ]
    },
    {
     "name": "stdout",
     "output_type": "stream",
     "text": [
      "Early stopping at epoch 26\n"
     ]
    },
    {
     "name": "stderr",
     "output_type": "stream",
     "text": [
      "[I 2024-09-12 21:30:47,779] Trial 13 finished with value: 1.194000005722046 and parameters: {'sequence_length': 13, 'hidden_size': 84, 'num_layers': 1, 'num_blocks': 4, 'dropout_rate': 0.13352266254188716, 'lr': 0.0003659960342310088}. Best is trial 0 with value: 0.04239868372678757.\n"
     ]
    },
    {
     "name": "stdout",
     "output_type": "stream",
     "text": [
      "Early stopping at epoch 14\n"
     ]
    },
    {
     "name": "stderr",
     "output_type": "stream",
     "text": [
      "[I 2024-09-12 21:31:04,687] Trial 14 finished with value: 0.04552515223622322 and parameters: {'sequence_length': 23, 'hidden_size': 99, 'num_layers': 2, 'num_blocks': 2, 'dropout_rate': 0.19810270051250828, 'lr': 0.0018042419206641962}. Best is trial 0 with value: 0.04239868372678757.\n"
     ]
    },
    {
     "name": "stdout",
     "output_type": "stream",
     "text": [
      "Early stopping at epoch 478\n"
     ]
    },
    {
     "name": "stderr",
     "output_type": "stream",
     "text": [
      "[I 2024-09-12 21:31:05,254] Trial 15 finished with value: 1.843384861946106 and parameters: {'sequence_length': 24, 'hidden_size': 102, 'num_layers': 2, 'num_blocks': 2, 'dropout_rate': 0.2924699803127286, 'lr': 0.0030149271981287796}. Best is trial 0 with value: 0.04239868372678757.\n"
     ]
    },
    {
     "name": "stdout",
     "output_type": "stream",
     "text": [
      "Early stopping at epoch 12\n"
     ]
    },
    {
     "name": "stderr",
     "output_type": "stream",
     "text": [
      "[I 2024-09-12 21:31:05,966] Trial 16 finished with value: 0.40233945846557617 and parameters: {'sequence_length': 22, 'hidden_size': 71, 'num_layers': 2, 'num_blocks': 1, 'dropout_rate': 0.20701534209443342, 'lr': 0.002019569533956881}. Best is trial 0 with value: 0.04239868372678757.\n"
     ]
    },
    {
     "name": "stdout",
     "output_type": "stream",
     "text": [
      "Early stopping at epoch 27\n"
     ]
    },
    {
     "name": "stderr",
     "output_type": "stream",
     "text": [
      "[I 2024-09-12 21:31:06,836] Trial 17 finished with value: 1.0101641416549683 and parameters: {'sequence_length': 25, 'hidden_size': 107, 'num_layers': 3, 'num_blocks': 2, 'dropout_rate': 0.2758973613885254, 'lr': 0.004799555035617619}. Best is trial 0 with value: 0.04239868372678757.\n"
     ]
    },
    {
     "name": "stdout",
     "output_type": "stream",
     "text": [
      "Early stopping at epoch 16\n"
     ]
    },
    {
     "name": "stderr",
     "output_type": "stream",
     "text": [
      "[I 2024-09-12 21:31:07,383] Trial 18 finished with value: 0.9430204629898071 and parameters: {'sequence_length': 20, 'hidden_size': 92, 'num_layers': 2, 'num_blocks': 1, 'dropout_rate': 0.19969381422756366, 'lr': 0.00538890288214502}. Best is trial 0 with value: 0.04239868372678757.\n"
     ]
    },
    {
     "name": "stdout",
     "output_type": "stream",
     "text": [
      "Early stopping at epoch 21\n"
     ]
    },
    {
     "name": "stderr",
     "output_type": "stream",
     "text": [
      "[I 2024-09-12 21:31:08,135] Trial 19 finished with value: 0.7751156687736511 and parameters: {'sequence_length': 26, 'hidden_size': 61, 'num_layers': 2, 'num_blocks': 2, 'dropout_rate': 0.34667267785955747, 'lr': 0.0023254200047967423}. Best is trial 0 with value: 0.04239868372678757.\n"
     ]
    },
    {
     "name": "stdout",
     "output_type": "stream",
     "text": [
      "Early stopping at epoch 18\n"
     ]
    },
    {
     "name": "stderr",
     "output_type": "stream",
     "text": [
      "[I 2024-09-12 21:31:10,576] Trial 20 finished with value: 0.25892582535743713 and parameters: {'sequence_length': 27, 'hidden_size': 54, 'num_layers': 3, 'num_blocks': 1, 'dropout_rate': 0.10412553729747925, 'lr': 0.0065688347977405775}. Best is trial 0 with value: 0.04239868372678757.\n"
     ]
    },
    {
     "name": "stdout",
     "output_type": "stream",
     "text": [
      "Early stopping at epoch 88\n"
     ]
    },
    {
     "name": "stderr",
     "output_type": "stream",
     "text": [
      "[I 2024-09-12 21:31:24,462] Trial 21 finished with value: 0.05748812481760979 and parameters: {'sequence_length': 15, 'hidden_size': 128, 'num_layers': 1, 'num_blocks': 3, 'dropout_rate': 0.17351975565869474, 'lr': 0.0013173005033275576}. Best is trial 0 with value: 0.04239868372678757.\n"
     ]
    },
    {
     "name": "stdout",
     "output_type": "stream",
     "text": [
      "Early stopping at epoch 362\n"
     ]
    },
    {
     "name": "stderr",
     "output_type": "stream",
     "text": [
      "[I 2024-09-12 21:31:42,422] Trial 22 finished with value: 0.07702834159135818 and parameters: {'sequence_length': 10, 'hidden_size': 117, 'num_layers': 1, 'num_blocks': 4, 'dropout_rate': 0.1381389721707408, 'lr': 0.0011782832969546024}. Best is trial 0 with value: 0.04239868372678757.\n"
     ]
    },
    {
     "name": "stdout",
     "output_type": "stream",
     "text": [
      "Early stopping at epoch 378\n"
     ]
    },
    {
     "name": "stderr",
     "output_type": "stream",
     "text": [
      "[I 2024-09-12 21:31:42,980] Trial 23 finished with value: 1.7413954734802246 and parameters: {'sequence_length': 2, 'hidden_size': 116, 'num_layers': 1, 'num_blocks': 3, 'dropout_rate': 0.2255530093693921, 'lr': 0.001999090587550103}. Best is trial 0 with value: 0.04239868372678757.\n"
     ]
    },
    {
     "name": "stdout",
     "output_type": "stream",
     "text": [
      "Early stopping at epoch 11\n"
     ]
    },
    {
     "name": "stderr",
     "output_type": "stream",
     "text": [
      "[I 2024-09-12 21:31:43,600] Trial 24 finished with value: 1.9801589250564575 and parameters: {'sequence_length': 15, 'hidden_size': 94, 'num_layers': 1, 'num_blocks': 2, 'dropout_rate': 0.17823153681135434, 'lr': 0.003991418528240344}. Best is trial 0 with value: 0.04239868372678757.\n"
     ]
    },
    {
     "name": "stdout",
     "output_type": "stream",
     "text": [
      "Early stopping at epoch 16\n"
     ]
    },
    {
     "name": "stderr",
     "output_type": "stream",
     "text": [
      "[I 2024-09-12 21:31:44,721] Trial 25 finished with value: 0.568572998046875 and parameters: {'sequence_length': 7, 'hidden_size': 119, 'num_layers': 1, 'num_blocks': 3, 'dropout_rate': 0.2685909575585923, 'lr': 0.0012186594727669213}. Best is trial 0 with value: 0.04239868372678757.\n"
     ]
    },
    {
     "name": "stdout",
     "output_type": "stream",
     "text": [
      "Early stopping at epoch 27\n"
     ]
    },
    {
     "name": "stderr",
     "output_type": "stream",
     "text": [
      "[I 2024-09-12 21:31:53,478] Trial 26 finished with value: 0.04564911872148514 and parameters: {'sequence_length': 23, 'hidden_size': 83, 'num_layers': 2, 'num_blocks': 1, 'dropout_rate': 0.14025962387567137, 'lr': 0.002543612210830224}. Best is trial 0 with value: 0.04239868372678757.\n"
     ]
    },
    {
     "name": "stdout",
     "output_type": "stream",
     "text": [
      "Early stopping at epoch 335\n"
     ]
    },
    {
     "name": "stderr",
     "output_type": "stream",
     "text": [
      "[I 2024-09-12 21:31:54,464] Trial 27 finished with value: 0.36098337173461914 and parameters: {'sequence_length': 23, 'hidden_size': 79, 'num_layers': 2, 'num_blocks': 1, 'dropout_rate': 0.19173811675126434, 'lr': 0.0030876307549997954}. Best is trial 0 with value: 0.04239868372678757.\n"
     ]
    },
    {
     "name": "stdout",
     "output_type": "stream",
     "text": [
      "Early stopping at epoch 33\n"
     ]
    },
    {
     "name": "stderr",
     "output_type": "stream",
     "text": [
      "[I 2024-09-12 21:31:55,130] Trial 28 finished with value: 1.403916358947754 and parameters: {'sequence_length': 20, 'hidden_size': 86, 'num_layers': 2, 'num_blocks': 1, 'dropout_rate': 0.12670167098382987, 'lr': 0.004461793747064607}. Best is trial 0 with value: 0.04239868372678757.\n"
     ]
    },
    {
     "name": "stdout",
     "output_type": "stream",
     "text": [
      "Early stopping at epoch 22\n"
     ]
    },
    {
     "name": "stderr",
     "output_type": "stream",
     "text": [
      "[I 2024-09-12 21:31:56,214] Trial 29 finished with value: 0.4954995810985565 and parameters: {'sequence_length': 28, 'hidden_size': 100, 'num_layers': 2, 'num_blocks': 1, 'dropout_rate': 0.23557794163864898, 'lr': 0.00277430137856907}. Best is trial 0 with value: 0.04239868372678757.\n"
     ]
    },
    {
     "name": "stdout",
     "output_type": "stream",
     "text": [
      "Early stopping at epoch 38\n"
     ]
    },
    {
     "name": "stderr",
     "output_type": "stream",
     "text": [
      "[I 2024-09-12 21:31:58,287] Trial 30 finished with value: 0.1975049078464508 and parameters: {'sequence_length': 28, 'hidden_size': 35, 'num_layers': 3, 'num_blocks': 2, 'dropout_rate': 0.15921553571696692, 'lr': 0.009912384369691742}. Best is trial 0 with value: 0.04239868372678757.\n"
     ]
    },
    {
     "name": "stdout",
     "output_type": "stream",
     "text": [
      "Early stopping at epoch 54\n"
     ]
    },
    {
     "name": "stderr",
     "output_type": "stream",
     "text": [
      "[I 2024-09-12 21:32:05,183] Trial 31 finished with value: 0.047746442258358 and parameters: {'sequence_length': 20, 'hidden_size': 69, 'num_layers': 2, 'num_blocks': 1, 'dropout_rate': 0.14979058807660967, 'lr': 0.000615639978826575}. Best is trial 0 with value: 0.04239868372678757.\n"
     ]
    },
    {
     "name": "stdout",
     "output_type": "stream",
     "text": [
      "Early stopping at epoch 270\n"
     ]
    },
    {
     "name": "stderr",
     "output_type": "stream",
     "text": [
      "[I 2024-09-12 21:32:17,967] Trial 32 finished with value: 0.19030417501926422 and parameters: {'sequence_length': 20, 'hidden_size': 68, 'num_layers': 2, 'num_blocks': 1, 'dropout_rate': 0.12821147167401165, 'lr': 4.2700073947233436e-05}. Best is trial 0 with value: 0.04239868372678757.\n",
      "[I 2024-09-12 21:32:18,600] Trial 33 finished with value: 0.7587465643882751 and parameters: {'sequence_length': 25, 'hidden_size': 53, 'num_layers': 2, 'num_blocks': 1, 'dropout_rate': 0.18206046136667708, 'lr': 0.001895247624880567}. Best is trial 0 with value: 0.04239868372678757.\n"
     ]
    },
    {
     "name": "stdout",
     "output_type": "stream",
     "text": [
      "Early stopping at epoch 20\n"
     ]
    },
    {
     "name": "stderr",
     "output_type": "stream",
     "text": [
      "[I 2024-09-12 21:32:19,701] Trial 34 finished with value: 0.4644232988357544 and parameters: {'sequence_length': 18, 'hidden_size': 18, 'num_layers': 2, 'num_blocks': 2, 'dropout_rate': 0.3051129108220131, 'lr': 0.0077096862258779}. Best is trial 0 with value: 0.04239868372678757.\n"
     ]
    },
    {
     "name": "stdout",
     "output_type": "stream",
     "text": [
      "Early stopping at epoch 29\n"
     ]
    },
    {
     "name": "stderr",
     "output_type": "stream",
     "text": [
      "[I 2024-09-12 21:32:29,335] Trial 35 finished with value: 0.044349607080221176 and parameters: {'sequence_length': 22, 'hidden_size': 80, 'num_layers': 2, 'num_blocks': 1, 'dropout_rate': 0.21632591091558295, 'lr': 0.0005747928887143486}. Best is trial 0 with value: 0.04239868372678757.\n"
     ]
    },
    {
     "name": "stdout",
     "output_type": "stream",
     "text": [
      "Early stopping at epoch 370\n"
     ]
    },
    {
     "name": "stderr",
     "output_type": "stream",
     "text": [
      "[I 2024-09-12 21:32:30,202] Trial 36 finished with value: 0.6825039386749268 and parameters: {'sequence_length': 22, 'hidden_size': 83, 'num_layers': 3, 'num_blocks': 1, 'dropout_rate': 0.215407575181014, 'lr': 0.0024960842452563152}. Best is trial 0 with value: 0.04239868372678757.\n"
     ]
    },
    {
     "name": "stdout",
     "output_type": "stream",
     "text": [
      "Early stopping at epoch 26\n"
     ]
    },
    {
     "name": "stderr",
     "output_type": "stream",
     "text": [
      "[I 2024-09-12 21:32:33,167] Trial 37 finished with value: 0.12040134519338608 and parameters: {'sequence_length': 28, 'hidden_size': 77, 'num_layers': 2, 'num_blocks': 2, 'dropout_rate': 0.33547266515542895, 'lr': 0.005880013305330777}. Best is trial 0 with value: 0.04239868372678757.\n"
     ]
    },
    {
     "name": "stdout",
     "output_type": "stream",
     "text": [
      "Early stopping at epoch 78\n"
     ]
    },
    {
     "name": "stderr",
     "output_type": "stream",
     "text": [
      "[I 2024-09-12 21:32:40,488] Trial 38 finished with value: 0.043049272149801254 and parameters: {'sequence_length': 24, 'hidden_size': 92, 'num_layers': 3, 'num_blocks': 2, 'dropout_rate': 0.24355342123652549, 'lr': 0.001601442684530361}. Best is trial 0 with value: 0.04239868372678757.\n"
     ]
    },
    {
     "name": "stdout",
     "output_type": "stream",
     "text": [
      "Early stopping at epoch 196\n"
     ]
    },
    {
     "name": "stderr",
     "output_type": "stream",
     "text": [
      "[I 2024-09-12 21:32:41,536] Trial 39 finished with value: 0.5976565480232239 and parameters: {'sequence_length': 26, 'hidden_size': 93, 'num_layers': 3, 'num_blocks': 2, 'dropout_rate': 0.24176873294610707, 'lr': 0.0007608078560832749}. Best is trial 0 with value: 0.04239868372678757.\n"
     ]
    },
    {
     "name": "stdout",
     "output_type": "stream",
     "text": [
      "Early stopping at epoch 24\n"
     ]
    },
    {
     "name": "stderr",
     "output_type": "stream",
     "text": [
      "[I 2024-09-12 21:32:54,503] Trial 40 finished with value: 0.028518356382846832 and parameters: {'sequence_length': 29, 'hidden_size': 98, 'num_layers': 3, 'num_blocks': 3, 'dropout_rate': 0.2635171811892361, 'lr': 0.0017394870424036193}. Best is trial 40 with value: 0.028518356382846832.\n"
     ]
    },
    {
     "name": "stdout",
     "output_type": "stream",
     "text": [
      "Early stopping at epoch 246\n"
     ]
    },
    {
     "name": "stderr",
     "output_type": "stream",
     "text": [
      "[I 2024-09-12 21:33:16,730] Trial 41 finished with value: 0.037697069346904755 and parameters: {'sequence_length': 30, 'hidden_size': 97, 'num_layers': 3, 'num_blocks': 3, 'dropout_rate': 0.2612767910898453, 'lr': 0.0015825494610805133}. Best is trial 40 with value: 0.028518356382846832.\n"
     ]
    },
    {
     "name": "stdout",
     "output_type": "stream",
     "text": [
      "Early stopping at epoch 426\n"
     ]
    },
    {
     "name": "stderr",
     "output_type": "stream",
     "text": [
      "[I 2024-09-12 21:33:17,757] Trial 42 finished with value: 0.9960266351699829 and parameters: {'sequence_length': 30, 'hidden_size': 108, 'num_layers': 3, 'num_blocks': 3, 'dropout_rate': 0.27930988311894017, 'lr': 0.001634293088022}. Best is trial 40 with value: 0.028518356382846832.\n"
     ]
    },
    {
     "name": "stdout",
     "output_type": "stream",
     "text": [
      "Early stopping at epoch 16\n"
     ]
    },
    {
     "name": "stderr",
     "output_type": "stream",
     "text": [
      "[I 2024-09-12 21:33:18,722] Trial 43 finished with value: 1.0056136846542358 and parameters: {'sequence_length': 29, 'hidden_size': 87, 'num_layers': 3, 'num_blocks': 3, 'dropout_rate': 0.25608597296739427, 'lr': 0.009073610251124666}. Best is trial 40 with value: 0.028518356382846832.\n"
     ]
    },
    {
     "name": "stdout",
     "output_type": "stream",
     "text": [
      "Early stopping at epoch 16\n"
     ]
    },
    {
     "name": "stderr",
     "output_type": "stream",
     "text": [
      "[I 2024-09-12 21:33:19,740] Trial 44 finished with value: 1.1492204666137695 and parameters: {'sequence_length': 27, 'hidden_size': 99, 'num_layers': 3, 'num_blocks': 3, 'dropout_rate': 0.3958263058481035, 'lr': 0.007419562238982651}. Best is trial 40 with value: 0.028518356382846832.\n"
     ]
    },
    {
     "name": "stdout",
     "output_type": "stream",
     "text": [
      "Early stopping at epoch 16\n"
     ]
    },
    {
     "name": "stderr",
     "output_type": "stream",
     "text": [
      "[I 2024-09-12 21:33:20,797] Trial 45 finished with value: 0.552717387676239 and parameters: {'sequence_length': 29, 'hidden_size': 90, 'num_layers': 3, 'num_blocks': 5, 'dropout_rate': 0.25829704920961716, 'lr': 0.000770362817623947}. Best is trial 40 with value: 0.028518356382846832.\n"
     ]
    },
    {
     "name": "stdout",
     "output_type": "stream",
     "text": [
      "Early stopping at epoch 11\n"
     ]
    },
    {
     "name": "stderr",
     "output_type": "stream",
     "text": [
      "[I 2024-09-12 21:33:22,201] Trial 46 finished with value: 1.2650712728500366 and parameters: {'sequence_length': 30, 'hidden_size': 104, 'num_layers': 3, 'num_blocks': 4, 'dropout_rate': 0.48673440562037307, 'lr': 0.003169061706763972}. Best is trial 40 with value: 0.028518356382846832.\n"
     ]
    },
    {
     "name": "stdout",
     "output_type": "stream",
     "text": [
      "Early stopping at epoch 19\n"
     ]
    },
    {
     "name": "stderr",
     "output_type": "stream",
     "text": [
      "[I 2024-09-12 21:33:22,905] Trial 47 finished with value: 4.029748439788818 and parameters: {'sequence_length': 25, 'hidden_size': 112, 'num_layers': 3, 'num_blocks': 3, 'dropout_rate': 0.31107707211526897, 'lr': 0.008376578203853687}. Best is trial 40 with value: 0.028518356382846832.\n"
     ]
    },
    {
     "name": "stdout",
     "output_type": "stream",
     "text": [
      "Early stopping at epoch 11\n"
     ]
    },
    {
     "name": "stderr",
     "output_type": "stream",
     "text": [
      "[I 2024-09-12 21:33:46,984] Trial 48 finished with value: 0.033570386469364166 and parameters: {'sequence_length': 29, 'hidden_size': 37, 'num_layers': 3, 'num_blocks': 3, 'dropout_rate': 0.3254387027703734, 'lr': 0.0013906461847225829}. Best is trial 40 with value: 0.028518356382846832.\n",
      "[I 2024-09-12 21:33:48,087] Trial 49 finished with value: 0.9347076416015625 and parameters: {'sequence_length': 29, 'hidden_size': 32, 'num_layers': 3, 'num_blocks': 4, 'dropout_rate': 0.3299812297839773, 'lr': 0.003477156404500463}. Best is trial 40 with value: 0.028518356382846832.\n"
     ]
    },
    {
     "name": "stdout",
     "output_type": "stream",
     "text": [
      "Early stopping at epoch 16\n"
     ]
    },
    {
     "name": "stderr",
     "output_type": "stream",
     "text": [
      "[I 2024-09-12 21:33:48,994] Trial 50 finished with value: 0.9794886112213135 and parameters: {'sequence_length': 27, 'hidden_size': 41, 'num_layers': 3, 'num_blocks': 3, 'dropout_rate': 0.35963998396809704, 'lr': 0.0015814388840287266}. Best is trial 40 with value: 0.028518356382846832.\n"
     ]
    },
    {
     "name": "stdout",
     "output_type": "stream",
     "text": [
      "Early stopping at epoch 15\n"
     ]
    },
    {
     "name": "stderr",
     "output_type": "stream",
     "text": [
      "[I 2024-09-12 21:34:07,545] Trial 51 finished with value: 0.03682687133550644 and parameters: {'sequence_length': 26, 'hidden_size': 21, 'num_layers': 3, 'num_blocks': 3, 'dropout_rate': 0.28595087231960536, 'lr': 0.000852517285065281}. Best is trial 40 with value: 0.028518356382846832.\n"
     ]
    },
    {
     "name": "stdout",
     "output_type": "stream",
     "text": [
      "Early stopping at epoch 377\n"
     ]
    },
    {
     "name": "stderr",
     "output_type": "stream",
     "text": [
      "[I 2024-09-12 21:34:09,269] Trial 52 finished with value: 0.4195229113101959 and parameters: {'sequence_length': 26, 'hidden_size': 24, 'num_layers': 3, 'num_blocks': 3, 'dropout_rate': 0.29395304603588485, 'lr': 0.0022212629008148124}. Best is trial 40 with value: 0.028518356382846832.\n"
     ]
    },
    {
     "name": "stdout",
     "output_type": "stream",
     "text": [
      "Early stopping at epoch 32\n"
     ]
    },
    {
     "name": "stderr",
     "output_type": "stream",
     "text": [
      "[I 2024-09-12 21:34:10,872] Trial 53 finished with value: 0.3268885910511017 and parameters: {'sequence_length': 29, 'hidden_size': 24, 'num_layers': 3, 'num_blocks': 3, 'dropout_rate': 0.31874374812162837, 'lr': 0.0014966587556064011}. Best is trial 40 with value: 0.028518356382846832.\n"
     ]
    },
    {
     "name": "stdout",
     "output_type": "stream",
     "text": [
      "Early stopping at epoch 30\n"
     ]
    },
    {
     "name": "stderr",
     "output_type": "stream",
     "text": [
      "[I 2024-09-12 21:34:13,150] Trial 54 finished with value: 0.3362131118774414 and parameters: {'sequence_length': 28, 'hidden_size': 39, 'num_layers': 3, 'num_blocks': 3, 'dropout_rate': 0.45847854914490815, 'lr': 0.0009192334797490536}. Best is trial 40 with value: 0.028518356382846832.\n"
     ]
    },
    {
     "name": "stdout",
     "output_type": "stream",
     "text": [
      "Early stopping at epoch 39\n"
     ]
    },
    {
     "name": "stderr",
     "output_type": "stream",
     "text": [
      "[I 2024-09-12 21:34:24,037] Trial 55 finished with value: 0.03919201344251633 and parameters: {'sequence_length': 30, 'hidden_size': 52, 'num_layers': 3, 'num_blocks': 3, 'dropout_rate': 0.28576473727219937, 'lr': 0.00030111800285466156}. Best is trial 40 with value: 0.028518356382846832.\n"
     ]
    },
    {
     "name": "stdout",
     "output_type": "stream",
     "text": [
      "Early stopping at epoch 225\n"
     ]
    },
    {
     "name": "stderr",
     "output_type": "stream",
     "text": [
      "[I 2024-09-12 21:34:52,813] Trial 56 finished with value: 0.3494817912578583 and parameters: {'sequence_length': 30, 'hidden_size': 53, 'num_layers': 3, 'num_blocks': 4, 'dropout_rate': 0.28638805567197456, 'lr': 2.625010832128246e-05}. Best is trial 40 with value: 0.028518356382846832.\n",
      "[I 2024-09-12 21:34:53,486] Trial 57 finished with value: 0.6671751141548157 and parameters: {'sequence_length': 29, 'hidden_size': 47, 'num_layers': 3, 'num_blocks': 3, 'dropout_rate': 0.26841782289619953, 'lr': 0.0010591530888878604}. Best is trial 40 with value: 0.028518356382846832.\n"
     ]
    },
    {
     "name": "stdout",
     "output_type": "stream",
     "text": [
      "Early stopping at epoch 10\n"
     ]
    },
    {
     "name": "stderr",
     "output_type": "stream",
     "text": [
      "[I 2024-09-12 21:35:11,045] Trial 58 finished with value: 0.17804932594299316 and parameters: {'sequence_length': 30, 'hidden_size': 26, 'num_layers': 3, 'num_blocks': 4, 'dropout_rate': 0.3770096204068102, 'lr': 0.00039223563805492584}. Best is trial 40 with value: 0.028518356382846832.\n"
     ]
    },
    {
     "name": "stdout",
     "output_type": "stream",
     "text": [
      "Early stopping at epoch 298\n"
     ]
    },
    {
     "name": "stderr",
     "output_type": "stream",
     "text": [
      "[I 2024-09-12 21:35:11,980] Trial 59 finished with value: 0.7894033193588257 and parameters: {'sequence_length': 27, 'hidden_size': 59, 'num_layers': 3, 'num_blocks': 3, 'dropout_rate': 0.322046364251985, 'lr': 0.005837504310109809}. Best is trial 40 with value: 0.028518356382846832.\n"
     ]
    },
    {
     "name": "stdout",
     "output_type": "stream",
     "text": [
      "Early stopping at epoch 16\n"
     ]
    },
    {
     "name": "stderr",
     "output_type": "stream",
     "text": [
      "[I 2024-09-12 21:35:12,993] Trial 60 finished with value: 0.8657056093215942 and parameters: {'sequence_length': 4, 'hidden_size': 41, 'num_layers': 3, 'num_blocks': 3, 'dropout_rate': 0.2988196165821355, 'lr': 0.00022100455423669074}. Best is trial 40 with value: 0.028518356382846832.\n"
     ]
    },
    {
     "name": "stdout",
     "output_type": "stream",
     "text": [
      "Early stopping at epoch 20\n"
     ]
    },
    {
     "name": "stderr",
     "output_type": "stream",
     "text": [
      "[I 2024-09-12 21:35:14,350] Trial 61 finished with value: 0.6147693991661072 and parameters: {'sequence_length': 26, 'hidden_size': 46, 'num_layers': 3, 'num_blocks': 3, 'dropout_rate': 0.24976571958628324, 'lr': 0.0012765087738938088}. Best is trial 40 with value: 0.028518356382846832.\n"
     ]
    },
    {
     "name": "stdout",
     "output_type": "stream",
     "text": [
      "Early stopping at epoch 24\n"
     ]
    },
    {
     "name": "stderr",
     "output_type": "stream",
     "text": [
      "[I 2024-09-12 21:35:15,565] Trial 62 finished with value: 0.5618213415145874 and parameters: {'sequence_length': 24, 'hidden_size': 35, 'num_layers': 3, 'num_blocks': 2, 'dropout_rate': 0.22983961665960356, 'lr': 0.002150602496055044}. Best is trial 40 with value: 0.028518356382846832.\n"
     ]
    },
    {
     "name": "stdout",
     "output_type": "stream",
     "text": [
      "Early stopping at epoch 30\n"
     ]
    },
    {
     "name": "stderr",
     "output_type": "stream",
     "text": [
      "[I 2024-09-12 21:35:28,518] Trial 63 finished with value: 0.05428975820541382 and parameters: {'sequence_length': 28, 'hidden_size': 18, 'num_layers': 3, 'num_blocks': 3, 'dropout_rate': 0.26750555988920277, 'lr': 0.0018009264677538437}. Best is trial 40 with value: 0.028518356382846832.\n"
     ]
    },
    {
     "name": "stdout",
     "output_type": "stream",
     "text": [
      "Early stopping at epoch 258\n"
     ]
    },
    {
     "name": "stderr",
     "output_type": "stream",
     "text": [
      "[I 2024-09-12 21:35:30,083] Trial 64 finished with value: 0.5452141761779785 and parameters: {'sequence_length': 27, 'hidden_size': 97, 'num_layers': 3, 'num_blocks': 2, 'dropout_rate': 0.28407550858584013, 'lr': 0.0027712709413361594}. Best is trial 40 with value: 0.028518356382846832.\n"
     ]
    },
    {
     "name": "stdout",
     "output_type": "stream",
     "text": [
      "Early stopping at epoch 33\n"
     ]
    },
    {
     "name": "stderr",
     "output_type": "stream",
     "text": [
      "[I 2024-09-12 21:35:31,005] Trial 65 finished with value: 0.6826899647712708 and parameters: {'sequence_length': 24, 'hidden_size': 29, 'num_layers': 3, 'num_blocks': 3, 'dropout_rate': 0.24479531747263122, 'lr': 0.001046958348240377}. Best is trial 40 with value: 0.028518356382846832.\n"
     ]
    },
    {
     "name": "stdout",
     "output_type": "stream",
     "text": [
      "Early stopping at epoch 17\n"
     ]
    },
    {
     "name": "stderr",
     "output_type": "stream",
     "text": [
      "[I 2024-09-12 21:35:33,048] Trial 66 finished with value: 0.44529956579208374 and parameters: {'sequence_length': 30, 'hidden_size': 57, 'num_layers': 3, 'num_blocks': 3, 'dropout_rate': 0.3448235692107387, 'lr': 0.0014611621491690285}. Best is trial 40 with value: 0.028518356382846832.\n"
     ]
    },
    {
     "name": "stdout",
     "output_type": "stream",
     "text": [
      "Early stopping at epoch 42\n"
     ]
    },
    {
     "name": "stderr",
     "output_type": "stream",
     "text": [
      "[I 2024-09-12 21:35:43,536] Trial 67 finished with value: 0.07062175869941711 and parameters: {'sequence_length': 28, 'hidden_size': 49, 'num_layers': 3, 'num_blocks': 4, 'dropout_rate': 0.22627362357439967, 'lr': 0.0005442631947037925}. Best is trial 40 with value: 0.028518356382846832.\n"
     ]
    },
    {
     "name": "stdout",
     "output_type": "stream",
     "text": [
      "Early stopping at epoch 177\n"
     ]
    },
    {
     "name": "stderr",
     "output_type": "stream",
     "text": [
      "[I 2024-09-12 21:35:44,981] Trial 68 finished with value: 0.3348047435283661 and parameters: {'sequence_length': 25, 'hidden_size': 63, 'num_layers': 3, 'num_blocks': 2, 'dropout_rate': 0.26300573132817323, 'lr': 0.004415296318918412}. Best is trial 40 with value: 0.028518356382846832.\n"
     ]
    },
    {
     "name": "stdout",
     "output_type": "stream",
     "text": [
      "Early stopping at epoch 35\n"
     ]
    },
    {
     "name": "stderr",
     "output_type": "stream",
     "text": [
      "[I 2024-09-12 21:35:46,233] Trial 69 finished with value: 0.7734395265579224 and parameters: {'sequence_length': 29, 'hidden_size': 38, 'num_layers': 3, 'num_blocks': 4, 'dropout_rate': 0.27647718333557925, 'lr': 0.006918476124560962}. Best is trial 40 with value: 0.028518356382846832.\n"
     ]
    },
    {
     "name": "stdout",
     "output_type": "stream",
     "text": [
      "Early stopping at epoch 16\n"
     ]
    },
    {
     "name": "stderr",
     "output_type": "stream",
     "text": [
      "[I 2024-09-12 21:35:56,314] Trial 70 finished with value: 0.0691707506775856 and parameters: {'sequence_length': 27, 'hidden_size': 21, 'num_layers': 1, 'num_blocks': 2, 'dropout_rate': 0.30383627104818534, 'lr': 0.0018168433576222299}. Best is trial 40 with value: 0.028518356382846832.\n"
     ]
    },
    {
     "name": "stdout",
     "output_type": "stream",
     "text": [
      "Early stopping at epoch 316\n"
     ]
    },
    {
     "name": "stderr",
     "output_type": "stream",
     "text": [
      "[I 2024-09-12 21:35:57,058] Trial 71 finished with value: 1.0727827548980713 and parameters: {'sequence_length': 21, 'hidden_size': 77, 'num_layers': 1, 'num_blocks': 1, 'dropout_rate': 0.21600394532566677, 'lr': 0.0005555580306910808}. Best is trial 40 with value: 0.028518356382846832.\n"
     ]
    },
    {
     "name": "stdout",
     "output_type": "stream",
     "text": [
      "Early stopping at epoch 25\n"
     ]
    },
    {
     "name": "stderr",
     "output_type": "stream",
     "text": [
      "[I 2024-09-12 21:35:58,358] Trial 72 finished with value: 0.6884409785270691 and parameters: {'sequence_length': 26, 'hidden_size': 89, 'num_layers': 3, 'num_blocks': 3, 'dropout_rate': 0.1897267660048261, 'lr': 0.0008638342079422994}. Best is trial 40 with value: 0.028518356382846832.\n"
     ]
    },
    {
     "name": "stdout",
     "output_type": "stream",
     "text": [
      "Early stopping at epoch 21\n"
     ]
    },
    {
     "name": "stderr",
     "output_type": "stream",
     "text": [
      "[I 2024-09-12 21:36:00,232] Trial 73 finished with value: 0.3668869435787201 and parameters: {'sequence_length': 17, 'hidden_size': 104, 'num_layers': 3, 'num_blocks': 2, 'dropout_rate': 0.211872861836019, 'lr': 0.00032870732760790816}. Best is trial 40 with value: 0.028518356382846832.\n"
     ]
    },
    {
     "name": "stdout",
     "output_type": "stream",
     "text": [
      "Early stopping at epoch 45\n"
     ]
    },
    {
     "name": "stderr",
     "output_type": "stream",
     "text": [
      "[I 2024-09-12 21:36:05,019] Trial 74 finished with value: 0.06596706807613373 and parameters: {'sequence_length': 23, 'hidden_size': 81, 'num_layers': 3, 'num_blocks': 1, 'dropout_rate': 0.2359352720544093, 'lr': 0.00131401567964633}. Best is trial 40 with value: 0.028518356382846832.\n"
     ]
    },
    {
     "name": "stdout",
     "output_type": "stream",
     "text": [
      "Early stopping at epoch 179\n"
     ]
    },
    {
     "name": "stderr",
     "output_type": "stream",
     "text": [
      "[I 2024-09-12 21:36:06,547] Trial 75 finished with value: 0.6913678646087646 and parameters: {'sequence_length': 25, 'hidden_size': 95, 'num_layers': 2, 'num_blocks': 3, 'dropout_rate': 0.2015207301300638, 'lr': 0.008735026210104191}. Best is trial 40 with value: 0.028518356382846832.\n"
     ]
    },
    {
     "name": "stdout",
     "output_type": "stream",
     "text": [
      "Early stopping at epoch 31\n"
     ]
    },
    {
     "name": "stderr",
     "output_type": "stream",
     "text": [
      "[I 2024-09-12 21:36:24,709] Trial 76 finished with value: 0.030943311750888824 and parameters: {'sequence_length': 28, 'hidden_size': 72, 'num_layers': 1, 'num_blocks': 3, 'dropout_rate': 0.24653858060707945, 'lr': 0.006220329892767347}. Best is trial 40 with value: 0.028518356382846832.\n"
     ]
    },
    {
     "name": "stdout",
     "output_type": "stream",
     "text": [
      "Early stopping at epoch 453\n"
     ]
    },
    {
     "name": "stderr",
     "output_type": "stream",
     "text": [
      "[I 2024-09-12 21:36:26,011] Trial 77 finished with value: 0.9032847881317139 and parameters: {'sequence_length': 13, 'hidden_size': 66, 'num_layers': 1, 'num_blocks': 3, 'dropout_rate': 0.24653643587749455, 'lr': 0.007885013869181421}. Best is trial 40 with value: 0.028518356382846832.\n"
     ]
    },
    {
     "name": "stdout",
     "output_type": "stream",
     "text": [
      "Early stopping at epoch 33\n"
     ]
    },
    {
     "name": "stderr",
     "output_type": "stream",
     "text": [
      "[I 2024-09-12 21:36:27,588] Trial 78 finished with value: 0.35012590885162354 and parameters: {'sequence_length': 28, 'hidden_size': 51, 'num_layers': 1, 'num_blocks': 3, 'dropout_rate': 0.2762097277266761, 'lr': 0.005372516836692606}. Best is trial 40 with value: 0.028518356382846832.\n"
     ]
    },
    {
     "name": "stdout",
     "output_type": "stream",
     "text": [
      "Early stopping at epoch 37\n"
     ]
    },
    {
     "name": "stderr",
     "output_type": "stream",
     "text": [
      "[I 2024-09-12 21:36:28,438] Trial 79 finished with value: 0.7020764946937561 and parameters: {'sequence_length': 30, 'hidden_size': 73, 'num_layers': 1, 'num_blocks': 3, 'dropout_rate': 0.2545620081647366, 'lr': 0.006423042671671794}. Best is trial 40 with value: 0.028518356382846832.\n"
     ]
    },
    {
     "name": "stdout",
     "output_type": "stream",
     "text": [
      "Early stopping at epoch 16\n"
     ]
    },
    {
     "name": "stderr",
     "output_type": "stream",
     "text": [
      "[I 2024-09-12 21:36:29,169] Trial 80 finished with value: 0.4928848147392273 and parameters: {'sequence_length': 29, 'hidden_size': 30, 'num_layers': 1, 'num_blocks': 3, 'dropout_rate': 0.31837961095466644, 'lr': 0.007305240350472447}. Best is trial 40 with value: 0.028518356382846832.\n"
     ]
    },
    {
     "name": "stdout",
     "output_type": "stream",
     "text": [
      "Early stopping at epoch 16\n"
     ]
    },
    {
     "name": "stderr",
     "output_type": "stream",
     "text": [
      "[I 2024-09-12 21:36:29,925] Trial 81 finished with value: 0.8618440628051758 and parameters: {'sequence_length': 28, 'hidden_size': 96, 'num_layers': 1, 'num_blocks': 1, 'dropout_rate': 0.2904190967998142, 'lr': 0.002452155849747036}. Best is trial 40 with value: 0.028518356382846832.\n"
     ]
    },
    {
     "name": "stdout",
     "output_type": "stream",
     "text": [
      "Early stopping at epoch 26\n"
     ]
    },
    {
     "name": "stderr",
     "output_type": "stream",
     "text": [
      "[I 2024-09-12 21:36:50,261] Trial 82 finished with value: 0.026149513199925423 and parameters: {'sequence_length': 26, 'hidden_size': 91, 'num_layers': 1, 'num_blocks': 3, 'dropout_rate': 0.22129412866162929, 'lr': 0.006435930976823181}. Best is trial 82 with value: 0.026149513199925423.\n",
      "[I 2024-09-12 21:36:53,277] Trial 83 finished with value: 0.12456187605857849 and parameters: {'sequence_length': 26, 'hidden_size': 87, 'num_layers': 1, 'num_blocks': 3, 'dropout_rate': 0.2257494166668965, 'lr': 0.00611118751767612}. Best is trial 82 with value: 0.026149513199925423.\n"
     ]
    },
    {
     "name": "stdout",
     "output_type": "stream",
     "text": [
      "Early stopping at epoch 74\n"
     ]
    },
    {
     "name": "stderr",
     "output_type": "stream",
     "text": [
      "[I 2024-09-12 21:36:53,848] Trial 84 finished with value: 0.8715895414352417 and parameters: {'sequence_length': 29, 'hidden_size': 43, 'num_layers': 1, 'num_blocks': 3, 'dropout_rate': 0.2611430759511235, 'lr': 0.006943966740215422}. Best is trial 82 with value: 0.026149513199925423.\n"
     ]
    },
    {
     "name": "stdout",
     "output_type": "stream",
     "text": [
      "Early stopping at epoch 12\n"
     ]
    },
    {
     "name": "stderr",
     "output_type": "stream",
     "text": [
      "[I 2024-09-12 21:36:55,621] Trial 85 finished with value: 0.5239472985267639 and parameters: {'sequence_length': 27, 'hidden_size': 102, 'num_layers': 1, 'num_blocks': 3, 'dropout_rate': 0.16661940510683795, 'lr': 0.008141405739522467}. Best is trial 82 with value: 0.026149513199925423.\n"
     ]
    },
    {
     "name": "stdout",
     "output_type": "stream",
     "text": [
      "Early stopping at epoch 40\n"
     ]
    },
    {
     "name": "stderr",
     "output_type": "stream",
     "text": [
      "[I 2024-09-12 21:36:56,364] Trial 86 finished with value: 2.829709053039551 and parameters: {'sequence_length': 30, 'hidden_size': 91, 'num_layers': 1, 'num_blocks': 3, 'dropout_rate': 0.2401485468778522, 'lr': 0.00522842974978793}. Best is trial 82 with value: 0.026149513199925423.\n"
     ]
    },
    {
     "name": "stdout",
     "output_type": "stream",
     "text": [
      "Early stopping at epoch 16\n"
     ]
    },
    {
     "name": "stderr",
     "output_type": "stream",
     "text": [
      "[I 2024-09-12 21:36:57,391] Trial 87 finished with value: 0.9121963381767273 and parameters: {'sequence_length': 28, 'hidden_size': 113, 'num_layers': 3, 'num_blocks': 3, 'dropout_rate': 0.30998289347765856, 'lr': 0.006199412041220501}. Best is trial 82 with value: 0.026149513199925423.\n"
     ]
    },
    {
     "name": "stdout",
     "output_type": "stream",
     "text": [
      "Early stopping at epoch 16\n"
     ]
    },
    {
     "name": "stderr",
     "output_type": "stream",
     "text": [
      "[I 2024-09-12 21:36:58,803] Trial 88 finished with value: 0.5100978016853333 and parameters: {'sequence_length': 26, 'hidden_size': 35, 'num_layers': 1, 'num_blocks': 4, 'dropout_rate': 0.20318373865571565, 'lr': 0.006592916565687932}. Best is trial 82 with value: 0.026149513199925423.\n"
     ]
    },
    {
     "name": "stdout",
     "output_type": "stream",
     "text": [
      "Early stopping at epoch 31\n"
     ]
    },
    {
     "name": "stderr",
     "output_type": "stream",
     "text": [
      "[I 2024-09-12 21:37:07,794] Trial 89 finished with value: 0.07073785364627838 and parameters: {'sequence_length': 29, 'hidden_size': 56, 'num_layers': 3, 'num_blocks': 3, 'dropout_rate': 0.1869161258745672, 'lr': 0.00203828643119109}. Best is trial 82 with value: 0.026149513199925423.\n"
     ]
    },
    {
     "name": "stdout",
     "output_type": "stream",
     "text": [
      "Early stopping at epoch 177\n"
     ]
    },
    {
     "name": "stderr",
     "output_type": "stream",
     "text": [
      "[I 2024-09-12 21:37:27,528] Trial 90 finished with value: 0.025842322036623955 and parameters: {'sequence_length': 24, 'hidden_size': 106, 'num_layers': 3, 'num_blocks': 2, 'dropout_rate': 0.2922463314016112, 'lr': 0.007204419328296113}. Best is trial 90 with value: 0.025842322036623955.\n",
      "[I 2024-09-12 21:37:31,466] Trial 91 finished with value: 0.12257584929466248 and parameters: {'sequence_length': 24, 'hidden_size': 122, 'num_layers': 3, 'num_blocks': 2, 'dropout_rate': 0.29879224572659946, 'lr': 0.006817761534747193}. Best is trial 90 with value: 0.025842322036623955.\n"
     ]
    },
    {
     "name": "stdout",
     "output_type": "stream",
     "text": [
      "Early stopping at epoch 96\n"
     ]
    },
    {
     "name": "stderr",
     "output_type": "stream",
     "text": [
      "[I 2024-09-12 21:37:32,474] Trial 92 finished with value: 0.9706727862358093 and parameters: {'sequence_length': 27, 'hidden_size': 104, 'num_layers': 3, 'num_blocks': 3, 'dropout_rate': 0.27166824884445073, 'lr': 0.007267073240742102}. Best is trial 90 with value: 0.025842322036623955.\n"
     ]
    },
    {
     "name": "stdout",
     "output_type": "stream",
     "text": [
      "Early stopping at epoch 16\n"
     ]
    },
    {
     "name": "stderr",
     "output_type": "stream",
     "text": [
      "[I 2024-09-12 21:37:33,268] Trial 93 finished with value: 1.817055106163025 and parameters: {'sequence_length': 25, 'hidden_size': 99, 'num_layers': 3, 'num_blocks': 2, 'dropout_rate': 0.289273469067692, 'lr': 0.007668490489727078}. Best is trial 90 with value: 0.025842322036623955.\n"
     ]
    },
    {
     "name": "stdout",
     "output_type": "stream",
     "text": [
      "Early stopping at epoch 16\n"
     ]
    },
    {
     "name": "stderr",
     "output_type": "stream",
     "text": [
      "[I 2024-09-12 21:37:34,760] Trial 94 finished with value: 2.832338809967041 and parameters: {'sequence_length': 29, 'hidden_size': 109, 'num_layers': 3, 'num_blocks': 5, 'dropout_rate': 0.25211424631531176, 'lr': 0.008010792049087967}. Best is trial 90 with value: 0.025842322036623955.\n"
     ]
    },
    {
     "name": "stdout",
     "output_type": "stream",
     "text": [
      "Early stopping at epoch 16\n"
     ]
    },
    {
     "name": "stderr",
     "output_type": "stream",
     "text": [
      "[I 2024-09-12 21:37:36,738] Trial 95 finished with value: 0.4017694592475891 and parameters: {'sequence_length': 24, 'hidden_size': 101, 'num_layers': 3, 'num_blocks': 3, 'dropout_rate': 0.28225977802195723, 'lr': 0.004916191824406317}. Best is trial 90 with value: 0.025842322036623955.\n"
     ]
    },
    {
     "name": "stdout",
     "output_type": "stream",
     "text": [
      "Early stopping at epoch 35\n"
     ]
    },
    {
     "name": "stderr",
     "output_type": "stream",
     "text": [
      "[I 2024-09-12 21:37:50,099] Trial 96 finished with value: 0.03728574141860008 and parameters: {'sequence_length': 30, 'hidden_size': 105, 'num_layers': 3, 'num_blocks': 3, 'dropout_rate': 0.33794848043433773, 'lr': 0.001640331203427577}. Best is trial 90 with value: 0.025842322036623955.\n"
     ]
    },
    {
     "name": "stdout",
     "output_type": "stream",
     "text": [
      "Early stopping at epoch 247\n"
     ]
    },
    {
     "name": "stderr",
     "output_type": "stream",
     "text": [
      "[I 2024-09-12 21:38:16,026] Trial 97 finished with value: 0.030169308185577393 and parameters: {'sequence_length': 30, 'hidden_size': 108, 'num_layers': 3, 'num_blocks': 3, 'dropout_rate': 0.33055604401403393, 'lr': 0.0071393531476804245}. Best is trial 90 with value: 0.025842322036623955.\n"
     ]
    },
    {
     "name": "stdout",
     "output_type": "stream",
     "text": [
      "Early stopping at epoch 491\n"
     ]
    },
    {
     "name": "stderr",
     "output_type": "stream",
     "text": [
      "[I 2024-09-12 21:38:17,200] Trial 98 finished with value: 1.9536651372909546 and parameters: {'sequence_length': 30, 'hidden_size': 107, 'num_layers': 3, 'num_blocks': 3, 'dropout_rate': 0.33346442948761296, 'lr': 0.00566011062034225}. Best is trial 90 with value: 0.025842322036623955.\n"
     ]
    },
    {
     "name": "stdout",
     "output_type": "stream",
     "text": [
      "Early stopping at epoch 19\n"
     ]
    },
    {
     "name": "stderr",
     "output_type": "stream",
     "text": [
      "[I 2024-09-12 21:38:19,395] Trial 99 finished with value: 0.21359553933143616 and parameters: {'sequence_length': 30, 'hidden_size': 112, 'num_layers': 3, 'num_blocks': 3, 'dropout_rate': 0.33933427291467605, 'lr': 0.007481875931731837}. Best is trial 90 with value: 0.025842322036623955.\n",
      "[I 2024-09-12 21:38:19,492] A new study created in memory with name: no-name-19442f54-ad01-4303-901a-f09c2b27ebdd\n"
     ]
    },
    {
     "name": "stdout",
     "output_type": "stream",
     "text": [
      "Early stopping at epoch 39\n",
      "parameters for SGDUSD=X saved to ../models/best-hyperparameters/pytorch/lstm-regression/SGDUSD=X.json\n",
      "Best model for SGDUSD=X saved with RMSE: 0.025842322036623955\n"
     ]
    },
    {
     "name": "stderr",
     "output_type": "stream",
     "text": [
      "[I 2024-09-12 21:38:21,021] Trial 0 finished with value: 0.5433070866141733 and parameters: {'out_channels': 90, 'kernel_size': 6, 'num_blocks': 3, 'l2_lambda': 0.009395023989865272, 'dropout_rate': 0.38607264405274255, 'lr': 0.0032364195319569476}. Best is trial 0 with value: 0.5433070866141733.\n"
     ]
    },
    {
     "name": "stdout",
     "output_type": "stream",
     "text": [
      "Early stopping at epoch 15\n"
     ]
    },
    {
     "name": "stderr",
     "output_type": "stream",
     "text": [
      "[I 2024-09-12 21:38:21,740] Trial 1 finished with value: 0.5275590551181102 and parameters: {'out_channels': 88, 'kernel_size': 3, 'num_blocks': 1, 'l2_lambda': 1.068370642053274e-05, 'dropout_rate': 0.15286469449166296, 'lr': 0.0008870412539618674}. Best is trial 0 with value: 0.5433070866141733.\n"
     ]
    },
    {
     "name": "stdout",
     "output_type": "stream",
     "text": [
      "Early stopping at epoch 18\n"
     ]
    },
    {
     "name": "stderr",
     "output_type": "stream",
     "text": [
      "[I 2024-09-12 21:38:22,331] Trial 2 finished with value: 0.5196850393700787 and parameters: {'out_channels': 70, 'kernel_size': 3, 'num_blocks': 1, 'l2_lambda': 0.0014887175640838663, 'dropout_rate': 0.3211793062306445, 'lr': 0.00855313946104729}. Best is trial 0 with value: 0.5433070866141733.\n"
     ]
    },
    {
     "name": "stdout",
     "output_type": "stream",
     "text": [
      "Early stopping at epoch 14\n"
     ]
    },
    {
     "name": "stderr",
     "output_type": "stream",
     "text": [
      "[I 2024-09-12 21:38:27,262] Trial 3 finished with value: 0.5275590551181102 and parameters: {'out_channels': 107, 'kernel_size': 6, 'num_blocks': 8, 'l2_lambda': 0.004694552752716892, 'dropout_rate': 0.4152973210367512, 'lr': 0.002783149279927888}. Best is trial 0 with value: 0.5433070866141733.\n"
     ]
    },
    {
     "name": "stdout",
     "output_type": "stream",
     "text": [
      "Early stopping at epoch 19\n"
     ]
    },
    {
     "name": "stderr",
     "output_type": "stream",
     "text": [
      "[I 2024-09-12 21:38:32,305] Trial 4 finished with value: 0.5433070866141733 and parameters: {'out_channels': 104, 'kernel_size': 7, 'num_blocks': 8, 'l2_lambda': 0.0017921856187383051, 'dropout_rate': 0.47566080173530323, 'lr': 0.0027225686024611065}. Best is trial 0 with value: 0.5433070866141733.\n"
     ]
    },
    {
     "name": "stdout",
     "output_type": "stream",
     "text": [
      "Early stopping at epoch 23\n"
     ]
    },
    {
     "name": "stderr",
     "output_type": "stream",
     "text": [
      "[I 2024-09-12 21:38:35,503] Trial 5 finished with value: 0.5275590551181102 and parameters: {'out_channels': 47, 'kernel_size': 6, 'num_blocks': 7, 'l2_lambda': 0.006945364575899271, 'dropout_rate': 0.3146389013865488, 'lr': 0.007689657963711838}. Best is trial 0 with value: 0.5433070866141733.\n"
     ]
    },
    {
     "name": "stdout",
     "output_type": "stream",
     "text": [
      "Early stopping at epoch 18\n"
     ]
    },
    {
     "name": "stderr",
     "output_type": "stream",
     "text": [
      "[I 2024-09-12 21:38:36,859] Trial 6 finished with value: 0.5196850393700787 and parameters: {'out_channels': 70, 'kernel_size': 6, 'num_blocks': 4, 'l2_lambda': 0.0026926278800625627, 'dropout_rate': 0.14576752064827275, 'lr': 0.006286352685660908}. Best is trial 0 with value: 0.5433070866141733.\n"
     ]
    },
    {
     "name": "stdout",
     "output_type": "stream",
     "text": [
      "Early stopping at epoch 10\n"
     ]
    },
    {
     "name": "stderr",
     "output_type": "stream",
     "text": [
      "[I 2024-09-12 21:38:39,888] Trial 7 finished with value: 0.5905511811023622 and parameters: {'out_channels': 72, 'kernel_size': 6, 'num_blocks': 5, 'l2_lambda': 0.004907158255140812, 'dropout_rate': 0.14837455644436656, 'lr': 0.006504070840172863}. Best is trial 7 with value: 0.5905511811023622.\n"
     ]
    },
    {
     "name": "stdout",
     "output_type": "stream",
     "text": [
      "Early stopping at epoch 21\n"
     ]
    },
    {
     "name": "stderr",
     "output_type": "stream",
     "text": [
      "[I 2024-09-12 21:38:41,313] Trial 8 finished with value: 0.5354330708661418 and parameters: {'out_channels': 38, 'kernel_size': 7, 'num_blocks': 6, 'l2_lambda': 4.3405581344010917e-05, 'dropout_rate': 0.3369428293837363, 'lr': 0.0028431194958825298}. Best is trial 7 with value: 0.5905511811023622.\n"
     ]
    },
    {
     "name": "stdout",
     "output_type": "stream",
     "text": [
      "Early stopping at epoch 10\n"
     ]
    },
    {
     "name": "stderr",
     "output_type": "stream",
     "text": [
      "[I 2024-09-12 21:38:43,319] Trial 9 finished with value: 0.5275590551181102 and parameters: {'out_channels': 20, 'kernel_size': 5, 'num_blocks': 5, 'l2_lambda': 0.008263428364201226, 'dropout_rate': 0.14019110111585117, 'lr': 0.008311019940075331}. Best is trial 7 with value: 0.5905511811023622.\n"
     ]
    },
    {
     "name": "stdout",
     "output_type": "stream",
     "text": [
      "Early stopping at epoch 17\n"
     ]
    },
    {
     "name": "stderr",
     "output_type": "stream",
     "text": [
      "[I 2024-09-12 21:38:51,763] Trial 10 finished with value: 0.5433070866141733 and parameters: {'out_channels': 126, 'kernel_size': 4, 'num_blocks': 10, 'l2_lambda': 0.005375129634259677, 'dropout_rate': 0.21167098355958236, 'lr': 0.005816407018379665}. Best is trial 7 with value: 0.5905511811023622.\n"
     ]
    },
    {
     "name": "stdout",
     "output_type": "stream",
     "text": [
      "Early stopping at epoch 26\n"
     ]
    },
    {
     "name": "stderr",
     "output_type": "stream",
     "text": [
      "[I 2024-09-12 21:38:52,848] Trial 11 finished with value: 0.5196850393700787 and parameters: {'out_channels': 89, 'kernel_size': 5, 'num_blocks': 3, 'l2_lambda': 0.009960040985177615, 'dropout_rate': 0.23819308778098147, 'lr': 0.00416178873802445}. Best is trial 7 with value: 0.5905511811023622.\n"
     ]
    },
    {
     "name": "stdout",
     "output_type": "stream",
     "text": [
      "Early stopping at epoch 11\n"
     ]
    },
    {
     "name": "stderr",
     "output_type": "stream",
     "text": [
      "[I 2024-09-12 21:38:54,084] Trial 12 finished with value: 0.5275590551181102 and parameters: {'out_channels': 55, 'kernel_size': 6, 'num_blocks': 3, 'l2_lambda': 0.005126712711938747, 'dropout_rate': 0.3963411703826502, 'lr': 0.004593641466213441}. Best is trial 7 with value: 0.5905511811023622.\n"
     ]
    },
    {
     "name": "stdout",
     "output_type": "stream",
     "text": [
      "Early stopping at epoch 13\n"
     ]
    },
    {
     "name": "stderr",
     "output_type": "stream",
     "text": [
      "[I 2024-09-12 21:38:55,095] Trial 13 finished with value: 0.5196850393700787 and parameters: {'out_channels': 85, 'kernel_size': 7, 'num_blocks': 3, 'l2_lambda': 0.007106917676502443, 'dropout_rate': 0.2429253947176435, 'lr': 3.273062453658122e-05}. Best is trial 7 with value: 0.5905511811023622.\n"
     ]
    },
    {
     "name": "stdout",
     "output_type": "stream",
     "text": [
      "Early stopping at epoch 10\n"
     ]
    },
    {
     "name": "stderr",
     "output_type": "stream",
     "text": [
      "[I 2024-09-12 21:38:58,105] Trial 14 finished with value: 0.5275590551181102 and parameters: {'out_channels': 108, 'kernel_size': 5, 'num_blocks': 5, 'l2_lambda': 0.00379780485546052, 'dropout_rate': 0.3765743361846572, 'lr': 0.007092471179233004}. Best is trial 7 with value: 0.5905511811023622.\n"
     ]
    },
    {
     "name": "stdout",
     "output_type": "stream",
     "text": [
      "Early stopping at epoch 20\n"
     ]
    },
    {
     "name": "stderr",
     "output_type": "stream",
     "text": [
      "[I 2024-09-12 21:38:58,931] Trial 15 finished with value: 0.5196850393700787 and parameters: {'out_channels': 76, 'kernel_size': 4, 'num_blocks': 2, 'l2_lambda': 0.009912946770917204, 'dropout_rate': 0.4955376405015823, 'lr': 0.009447243579782823}. Best is trial 7 with value: 0.5905511811023622.\n"
     ]
    },
    {
     "name": "stdout",
     "output_type": "stream",
     "text": [
      "Early stopping at epoch 10\n"
     ]
    },
    {
     "name": "stderr",
     "output_type": "stream",
     "text": [
      "[I 2024-09-12 21:39:00,206] Trial 16 finished with value: 0.5275590551181102 and parameters: {'out_channels': 60, 'kernel_size': 6, 'num_blocks': 4, 'l2_lambda': 0.006756146438164225, 'dropout_rate': 0.27470010989269406, 'lr': 0.0037523109980509535}. Best is trial 7 with value: 0.5905511811023622.\n"
     ]
    },
    {
     "name": "stdout",
     "output_type": "stream",
     "text": [
      "Early stopping at epoch 10\n"
     ]
    },
    {
     "name": "stderr",
     "output_type": "stream",
     "text": [
      "[I 2024-09-12 21:39:02,317] Trial 17 finished with value: 0.5196850393700787 and parameters: {'out_channels': 122, 'kernel_size': 4, 'num_blocks': 6, 'l2_lambda': 0.008445202586400592, 'dropout_rate': 0.10422931510831203, 'lr': 0.0055669938415793775}. Best is trial 7 with value: 0.5905511811023622.\n"
     ]
    },
    {
     "name": "stdout",
     "output_type": "stream",
     "text": [
      "Early stopping at epoch 10\n"
     ]
    },
    {
     "name": "stderr",
     "output_type": "stream",
     "text": [
      "[I 2024-09-12 21:39:03,818] Trial 18 finished with value: 0.5196850393700787 and parameters: {'out_channels': 95, 'kernel_size': 7, 'num_blocks': 4, 'l2_lambda': 0.003605812936765985, 'dropout_rate': 0.43567158719273, 'lr': 0.0015665349994103263}. Best is trial 7 with value: 0.5905511811023622.\n"
     ]
    },
    {
     "name": "stdout",
     "output_type": "stream",
     "text": [
      "Early stopping at epoch 11\n"
     ]
    },
    {
     "name": "stderr",
     "output_type": "stream",
     "text": [
      "[I 2024-09-12 21:39:06,288] Trial 19 finished with value: 0.48031496062992124 and parameters: {'out_channels': 27, 'kernel_size': 6, 'num_blocks': 10, 'l2_lambda': 0.008497694636920431, 'dropout_rate': 0.3622984845288818, 'lr': 0.006783030376826883}. Best is trial 7 with value: 0.5905511811023622.\n"
     ]
    },
    {
     "name": "stdout",
     "output_type": "stream",
     "text": [
      "Early stopping at epoch 10\n"
     ]
    },
    {
     "name": "stderr",
     "output_type": "stream",
     "text": [
      "[I 2024-09-12 21:39:07,043] Trial 20 finished with value: 0.5196850393700787 and parameters: {'out_channels': 60, 'kernel_size': 5, 'num_blocks': 2, 'l2_lambda': 0.006190892022184589, 'dropout_rate': 0.19277718296707105, 'lr': 0.005322232171231583}. Best is trial 7 with value: 0.5905511811023622.\n"
     ]
    },
    {
     "name": "stdout",
     "output_type": "stream",
     "text": [
      "Early stopping at epoch 10\n"
     ]
    },
    {
     "name": "stderr",
     "output_type": "stream",
     "text": [
      "[I 2024-09-12 21:39:09,671] Trial 21 finished with value: 0.5196850393700787 and parameters: {'out_channels': 106, 'kernel_size': 7, 'num_blocks': 8, 'l2_lambda': 0.001503917924905004, 'dropout_rate': 0.4693273546289612, 'lr': 0.002760102865301463}. Best is trial 7 with value: 0.5905511811023622.\n"
     ]
    },
    {
     "name": "stdout",
     "output_type": "stream",
     "text": [
      "Early stopping at epoch 10\n"
     ]
    },
    {
     "name": "stderr",
     "output_type": "stream",
     "text": [
      "[I 2024-09-12 21:39:13,646] Trial 22 finished with value: 0.5275590551181102 and parameters: {'out_channels': 100, 'kernel_size': 7, 'num_blocks': 7, 'l2_lambda': 0.001616542983118864, 'dropout_rate': 0.4440291554569192, 'lr': 0.0018237553640104835}. Best is trial 7 with value: 0.5905511811023622.\n"
     ]
    },
    {
     "name": "stdout",
     "output_type": "stream",
     "text": [
      "Early stopping at epoch 19\n"
     ]
    },
    {
     "name": "stderr",
     "output_type": "stream",
     "text": [
      "[I 2024-09-12 21:39:16,147] Trial 23 finished with value: 0.5196850393700787 and parameters: {'out_channels': 79, 'kernel_size': 7, 'num_blocks': 9, 'l2_lambda': 0.002927308565061697, 'dropout_rate': 0.4882906780194836, 'lr': 0.003559140687998462}. Best is trial 7 with value: 0.5905511811023622.\n"
     ]
    },
    {
     "name": "stdout",
     "output_type": "stream",
     "text": [
      "Early stopping at epoch 10\n"
     ]
    },
    {
     "name": "stderr",
     "output_type": "stream",
     "text": [
      "[I 2024-09-12 21:39:19,516] Trial 24 finished with value: 0.5196850393700787 and parameters: {'out_channels': 115, 'kernel_size': 6, 'num_blocks': 7, 'l2_lambda': 0.005822958144271981, 'dropout_rate': 0.2810477941861515, 'lr': 0.00487733142733679}. Best is trial 7 with value: 0.5905511811023622.\n"
     ]
    },
    {
     "name": "stdout",
     "output_type": "stream",
     "text": [
      "Early stopping at epoch 13\n"
     ]
    },
    {
     "name": "stderr",
     "output_type": "stream",
     "text": [
      "[I 2024-09-12 21:39:22,514] Trial 25 finished with value: 0.5275590551181102 and parameters: {'out_channels': 95, 'kernel_size': 6, 'num_blocks': 5, 'l2_lambda': 0.004295950638332249, 'dropout_rate': 0.4586210489054894, 'lr': 0.0021320313556334493}. Best is trial 7 with value: 0.5905511811023622.\n"
     ]
    },
    {
     "name": "stdout",
     "output_type": "stream",
     "text": [
      "Early stopping at epoch 16\n"
     ]
    },
    {
     "name": "stderr",
     "output_type": "stream",
     "text": [
      "[I 2024-09-12 21:39:25,495] Trial 26 finished with value: 0.5196850393700787 and parameters: {'out_channels': 117, 'kernel_size': 7, 'num_blocks': 8, 'l2_lambda': 0.0025967972132358496, 'dropout_rate': 0.3551825549020131, 'lr': 0.003486745939320915}. Best is trial 7 with value: 0.5905511811023622.\n"
     ]
    },
    {
     "name": "stdout",
     "output_type": "stream",
     "text": [
      "Early stopping at epoch 10\n"
     ]
    },
    {
     "name": "stderr",
     "output_type": "stream",
     "text": [
      "[I 2024-09-12 21:39:28,025] Trial 27 finished with value: 0.5196850393700787 and parameters: {'out_channels': 81, 'kernel_size': 6, 'num_blocks': 6, 'l2_lambda': 0.007863237760128079, 'dropout_rate': 0.40815163432288915, 'lr': 0.0008751487329842786}. Best is trial 7 with value: 0.5905511811023622.\n"
     ]
    },
    {
     "name": "stdout",
     "output_type": "stream",
     "text": [
      "Early stopping at epoch 11\n"
     ]
    },
    {
     "name": "stderr",
     "output_type": "stream",
     "text": [
      "[I 2024-09-12 21:39:31,151] Trial 28 finished with value: 0.5196850393700787 and parameters: {'out_channels': 68, 'kernel_size': 7, 'num_blocks': 9, 'l2_lambda': 0.009099713841435226, 'dropout_rate': 0.4214580737110045, 'lr': 0.0043691251950357755}. Best is trial 7 with value: 0.5905511811023622.\n"
     ]
    },
    {
     "name": "stdout",
     "output_type": "stream",
     "text": [
      "Early stopping at epoch 12\n"
     ]
    },
    {
     "name": "stderr",
     "output_type": "stream",
     "text": [
      "[I 2024-09-12 21:39:31,955] Trial 29 finished with value: 0.5196850393700787 and parameters: {'out_channels': 90, 'kernel_size': 5, 'num_blocks': 2, 'l2_lambda': 0.001066045947479695, 'dropout_rate': 0.38949067074538296, 'lr': 0.006465072835473537}. Best is trial 7 with value: 0.5905511811023622.\n"
     ]
    },
    {
     "name": "stdout",
     "output_type": "stream",
     "text": [
      "Early stopping at epoch 10\n"
     ]
    },
    {
     "name": "stderr",
     "output_type": "stream",
     "text": [
      "[I 2024-09-12 21:39:32,634] Trial 30 finished with value: 0.5354330708661418 and parameters: {'out_channels': 100, 'kernel_size': 5, 'num_blocks': 1, 'l2_lambda': 9.042387052666905e-05, 'dropout_rate': 0.17202568283471623, 'lr': 0.0012142984624150996}. Best is trial 7 with value: 0.5905511811023622.\n"
     ]
    },
    {
     "name": "stdout",
     "output_type": "stream",
     "text": [
      "Early stopping at epoch 14\n"
     ]
    },
    {
     "name": "stderr",
     "output_type": "stream",
     "text": [
      "[I 2024-09-12 21:39:35,795] Trial 31 finished with value: 0.5196850393700787 and parameters: {'out_channels': 124, 'kernel_size': 4, 'num_blocks': 10, 'l2_lambda': 0.005389693770804436, 'dropout_rate': 0.22075450094932608, 'lr': 0.0056137393263620255}. Best is trial 7 with value: 0.5905511811023622.\n"
     ]
    },
    {
     "name": "stdout",
     "output_type": "stream",
     "text": [
      "Early stopping at epoch 10\n"
     ]
    },
    {
     "name": "stderr",
     "output_type": "stream",
     "text": [
      "[I 2024-09-12 21:39:38,403] Trial 32 finished with value: 0.5196850393700787 and parameters: {'out_channels': 115, 'kernel_size': 3, 'num_blocks': 9, 'l2_lambda': 0.0063269797974678564, 'dropout_rate': 0.10473947897846109, 'lr': 0.005910491254925562}. Best is trial 7 with value: 0.5905511811023622.\n"
     ]
    },
    {
     "name": "stdout",
     "output_type": "stream",
     "text": [
      "Early stopping at epoch 11\n"
     ]
    },
    {
     "name": "stderr",
     "output_type": "stream",
     "text": [
      "[I 2024-09-12 21:39:41,178] Trial 33 finished with value: 0.5275590551181102 and parameters: {'out_channels': 105, 'kernel_size': 3, 'num_blocks': 10, 'l2_lambda': 0.004465398010580966, 'dropout_rate': 0.19508953938128706, 'lr': 0.0023726217247053765}. Best is trial 7 with value: 0.5905511811023622.\n"
     ]
    },
    {
     "name": "stdout",
     "output_type": "stream",
     "text": [
      "Early stopping at epoch 11\n"
     ]
    },
    {
     "name": "stderr",
     "output_type": "stream",
     "text": [
      "[I 2024-09-12 21:39:44,175] Trial 34 finished with value: 0.5196850393700787 and parameters: {'out_channels': 113, 'kernel_size': 6, 'num_blocks': 9, 'l2_lambda': 0.007406081224830472, 'dropout_rate': 0.13384104004108952, 'lr': 0.007280941119764597}. Best is trial 7 with value: 0.5905511811023622.\n"
     ]
    },
    {
     "name": "stdout",
     "output_type": "stream",
     "text": [
      "Early stopping at epoch 10\n"
     ]
    },
    {
     "name": "stderr",
     "output_type": "stream",
     "text": [
      "[I 2024-09-12 21:39:46,910] Trial 35 finished with value: 0.5196850393700787 and parameters: {'out_channels': 124, 'kernel_size': 4, 'num_blocks': 8, 'l2_lambda': 0.0032612554195327317, 'dropout_rate': 0.1702917340153103, 'lr': 0.007915166092321535}. Best is trial 7 with value: 0.5905511811023622.\n"
     ]
    },
    {
     "name": "stdout",
     "output_type": "stream",
     "text": [
      "Early stopping at epoch 11\n"
     ]
    },
    {
     "name": "stderr",
     "output_type": "stream",
     "text": [
      "[I 2024-09-12 21:39:49,332] Trial 36 finished with value: 0.5196850393700787 and parameters: {'out_channels': 128, 'kernel_size': 4, 'num_blocks': 7, 'l2_lambda': 0.0007683508693304532, 'dropout_rate': 0.2905267906213733, 'lr': 0.005076872287881885}. Best is trial 7 with value: 0.5905511811023622.\n"
     ]
    },
    {
     "name": "stdout",
     "output_type": "stream",
     "text": [
      "Early stopping at epoch 11\n"
     ]
    },
    {
     "name": "stderr",
     "output_type": "stream",
     "text": [
      "[I 2024-09-12 21:39:51,185] Trial 37 finished with value: 0.5275590551181102 and parameters: {'out_channels': 72, 'kernel_size': 5, 'num_blocks': 4, 'l2_lambda': 0.0024110402141680107, 'dropout_rate': 0.31591319895485903, 'lr': 0.009222820778766492}. Best is trial 7 with value: 0.5905511811023622.\n"
     ]
    },
    {
     "name": "stdout",
     "output_type": "stream",
     "text": [
      "Early stopping at epoch 20\n"
     ]
    },
    {
     "name": "stderr",
     "output_type": "stream",
     "text": [
      "[I 2024-09-12 21:39:51,625] Trial 38 finished with value: 0.5196850393700787 and parameters: {'out_channels': 85, 'kernel_size': 3, 'num_blocks': 1, 'l2_lambda': 0.00192925533969653, 'dropout_rate': 0.20560306952393498, 'lr': 0.003065198929170869}. Best is trial 7 with value: 0.5905511811023622.\n"
     ]
    },
    {
     "name": "stdout",
     "output_type": "stream",
     "text": [
      "Early stopping at epoch 10\n"
     ]
    },
    {
     "name": "stderr",
     "output_type": "stream",
     "text": [
      "[I 2024-09-12 21:39:53,320] Trial 39 finished with value: 0.5196850393700787 and parameters: {'out_channels': 47, 'kernel_size': 6, 'num_blocks': 6, 'l2_lambda': 0.0048268386026781435, 'dropout_rate': 0.2424080097330673, 'lr': 0.005995223269873607}. Best is trial 7 with value: 0.5905511811023622.\n"
     ]
    },
    {
     "name": "stdout",
     "output_type": "stream",
     "text": [
      "Early stopping at epoch 11\n"
     ]
    },
    {
     "name": "stderr",
     "output_type": "stream",
     "text": [
      "[I 2024-09-12 21:39:54,801] Trial 40 finished with value: 0.5196850393700787 and parameters: {'out_channels': 94, 'kernel_size': 7, 'num_blocks': 5, 'l2_lambda': 0.009159759235933344, 'dropout_rate': 0.27010260535888586, 'lr': 0.004161193617440956}. Best is trial 7 with value: 0.5905511811023622.\n"
     ]
    },
    {
     "name": "stdout",
     "output_type": "stream",
     "text": [
      "Early stopping at epoch 10\n"
     ]
    },
    {
     "name": "stderr",
     "output_type": "stream",
     "text": [
      "[I 2024-09-12 21:39:56,336] Trial 41 finished with value: 0.5196850393700787 and parameters: {'out_channels': 35, 'kernel_size': 7, 'num_blocks': 7, 'l2_lambda': 0.0005581858035715425, 'dropout_rate': 0.33867399640014295, 'lr': 0.00297411774610932}. Best is trial 7 with value: 0.5905511811023622.\n"
     ]
    },
    {
     "name": "stdout",
     "output_type": "stream",
     "text": [
      "Early stopping at epoch 11\n"
     ]
    },
    {
     "name": "stderr",
     "output_type": "stream",
     "text": [
      "[I 2024-09-12 21:39:57,366] Trial 42 finished with value: 0.5433070866141733 and parameters: {'out_channels': 42, 'kernel_size': 7, 'num_blocks': 3, 'l2_lambda': 0.0011500564957561102, 'dropout_rate': 0.3079884238513411, 'lr': 0.002462507147852025}. Best is trial 7 with value: 0.5905511811023622.\n"
     ]
    },
    {
     "name": "stdout",
     "output_type": "stream",
     "text": [
      "Early stopping at epoch 14\n"
     ]
    },
    {
     "name": "stderr",
     "output_type": "stream",
     "text": [
      "[I 2024-09-12 21:39:58,213] Trial 43 finished with value: 0.5196850393700787 and parameters: {'out_channels': 17, 'kernel_size': 6, 'num_blocks': 3, 'l2_lambda': 0.003807569659207031, 'dropout_rate': 0.3082882481416318, 'lr': 0.0009535295654148528}. Best is trial 7 with value: 0.5905511811023622.\n"
     ]
    },
    {
     "name": "stdout",
     "output_type": "stream",
     "text": [
      "Early stopping at epoch 10\n"
     ]
    },
    {
     "name": "stderr",
     "output_type": "stream",
     "text": [
      "[I 2024-09-12 21:39:59,386] Trial 44 finished with value: 0.5354330708661418 and parameters: {'out_channels': 49, 'kernel_size': 7, 'num_blocks': 3, 'l2_lambda': 0.0020442817442298702, 'dropout_rate': 0.25672509217861905, 'lr': 0.0023968428196711185}. Best is trial 7 with value: 0.5905511811023622.\n"
     ]
    },
    {
     "name": "stdout",
     "output_type": "stream",
     "text": [
      "Early stopping at epoch 15\n"
     ]
    },
    {
     "name": "stderr",
     "output_type": "stream",
     "text": [
      "[I 2024-09-12 21:40:00,606] Trial 45 finished with value: 0.5354330708661418 and parameters: {'out_channels': 67, 'kernel_size': 6, 'num_blocks': 2, 'l2_lambda': 0.0010286896108245031, 'dropout_rate': 0.12741966565822538, 'lr': 0.003900071899017791}. Best is trial 7 with value: 0.5905511811023622.\n"
     ]
    },
    {
     "name": "stdout",
     "output_type": "stream",
     "text": [
      "Early stopping at epoch 18\n"
     ]
    },
    {
     "name": "stderr",
     "output_type": "stream",
     "text": [
      "[I 2024-09-12 21:40:01,608] Trial 46 finished with value: 0.5196850393700787 and parameters: {'out_channels': 34, 'kernel_size': 7, 'num_blocks': 4, 'l2_lambda': 0.004165833206066224, 'dropout_rate': 0.16741952918576872, 'lr': 0.004682077266320823}. Best is trial 7 with value: 0.5905511811023622.\n"
     ]
    },
    {
     "name": "stdout",
     "output_type": "stream",
     "text": [
      "Early stopping at epoch 10\n"
     ]
    },
    {
     "name": "stderr",
     "output_type": "stream",
     "text": [
      "[I 2024-09-12 21:40:03,132] Trial 47 finished with value: 0.5433070866141733 and parameters: {'out_channels': 102, 'kernel_size': 5, 'num_blocks': 5, 'l2_lambda': 0.005635213723537193, 'dropout_rate': 0.3319018153454002, 'lr': 0.00028882426850546485}. Best is trial 7 with value: 0.5905511811023622.\n"
     ]
    },
    {
     "name": "stdout",
     "output_type": "stream",
     "text": [
      "Early stopping at epoch 10\n"
     ]
    },
    {
     "name": "stderr",
     "output_type": "stream",
     "text": [
      "[I 2024-09-12 21:40:04,635] Trial 48 finished with value: 0.5196850393700787 and parameters: {'out_channels': 111, 'kernel_size': 6, 'num_blocks': 4, 'l2_lambda': 0.003077656406984222, 'dropout_rate': 0.22077484505145345, 'lr': 0.006459474752683022}. Best is trial 7 with value: 0.5905511811023622.\n"
     ]
    },
    {
     "name": "stdout",
     "output_type": "stream",
     "text": [
      "Early stopping at epoch 11\n"
     ]
    },
    {
     "name": "stderr",
     "output_type": "stream",
     "text": [
      "[I 2024-09-12 21:40:05,743] Trial 49 finished with value: 0.5196850393700787 and parameters: {'out_channels': 120, 'kernel_size': 7, 'num_blocks': 3, 'l2_lambda': 0.0076446176507892535, 'dropout_rate': 0.3666426687376097, 'lr': 0.0032549693492475314}. Best is trial 7 with value: 0.5905511811023622.\n"
     ]
    },
    {
     "name": "stdout",
     "output_type": "stream",
     "text": [
      "Early stopping at epoch 11\n"
     ]
    },
    {
     "name": "stderr",
     "output_type": "stream",
     "text": [
      "[I 2024-09-12 21:40:07,613] Trial 50 finished with value: 0.5196850393700787 and parameters: {'out_channels': 42, 'kernel_size': 4, 'num_blocks': 8, 'l2_lambda': 0.006788810248567739, 'dropout_rate': 0.38673757119714086, 'lr': 0.007390513598297186}. Best is trial 7 with value: 0.5905511811023622.\n"
     ]
    },
    {
     "name": "stdout",
     "output_type": "stream",
     "text": [
      "Early stopping at epoch 10\n"
     ]
    },
    {
     "name": "stderr",
     "output_type": "stream",
     "text": [
      "[I 2024-09-12 21:40:09,287] Trial 51 finished with value: 0.5196850393700787 and parameters: {'out_channels': 98, 'kernel_size': 5, 'num_blocks': 6, 'l2_lambda': 0.005021001971400718, 'dropout_rate': 0.3435708313108172, 'lr': 0.0001470673172047887}. Best is trial 7 with value: 0.5905511811023622.\n"
     ]
    },
    {
     "name": "stdout",
     "output_type": "stream",
     "text": [
      "Early stopping at epoch 10\n"
     ]
    },
    {
     "name": "stderr",
     "output_type": "stream",
     "text": [
      "[I 2024-09-12 21:40:10,759] Trial 52 finished with value: 0.5196850393700787 and parameters: {'out_channels': 107, 'kernel_size': 5, 'num_blocks': 5, 'l2_lambda': 0.005671601310056162, 'dropout_rate': 0.2956185769414663, 'lr': 0.0014619562911185064}. Best is trial 7 with value: 0.5905511811023622.\n"
     ]
    },
    {
     "name": "stdout",
     "output_type": "stream",
     "text": [
      "Early stopping at epoch 10\n"
     ]
    },
    {
     "name": "stderr",
     "output_type": "stream",
     "text": [
      "[I 2024-09-12 21:40:12,102] Trial 53 finished with value: 0.5196850393700787 and parameters: {'out_channels': 90, 'kernel_size': 5, 'num_blocks': 5, 'l2_lambda': 0.006236378631610181, 'dropout_rate': 0.3173827858522442, 'lr': 0.00039299135151569056}. Best is trial 7 with value: 0.5905511811023622.\n"
     ]
    },
    {
     "name": "stdout",
     "output_type": "stream",
     "text": [
      "Early stopping at epoch 10\n"
     ]
    },
    {
     "name": "stderr",
     "output_type": "stream",
     "text": [
      "[I 2024-09-12 21:40:13,646] Trial 54 finished with value: 0.5354330708661418 and parameters: {'out_channels': 26, 'kernel_size': 4, 'num_blocks': 4, 'l2_lambda': 0.002214476709748698, 'dropout_rate': 0.3297575527073504, 'lr': 0.0021411665899475044}. Best is trial 7 with value: 0.5905511811023622.\n"
     ]
    },
    {
     "name": "stdout",
     "output_type": "stream",
     "text": [
      "Early stopping at epoch 16\n"
     ]
    },
    {
     "name": "stderr",
     "output_type": "stream",
     "text": [
      "[I 2024-09-12 21:40:15,280] Trial 55 finished with value: 0.5354330708661418 and parameters: {'out_channels': 56, 'kernel_size': 6, 'num_blocks': 3, 'l2_lambda': 0.005489431282073781, 'dropout_rate': 0.47800216044867627, 'lr': 0.0017957823463561372}. Best is trial 7 with value: 0.5905511811023622.\n"
     ]
    },
    {
     "name": "stdout",
     "output_type": "stream",
     "text": [
      "Early stopping at epoch 19\n"
     ]
    },
    {
     "name": "stderr",
     "output_type": "stream",
     "text": [
      "[I 2024-09-12 21:40:16,366] Trial 56 finished with value: 0.5511811023622047 and parameters: {'out_channels': 103, 'kernel_size': 6, 'num_blocks': 2, 'l2_lambda': 0.009588286833711516, 'dropout_rate': 0.40600039083637196, 'lr': 0.006810751975778013}. Best is trial 7 with value: 0.5905511811023622.\n"
     ]
    },
    {
     "name": "stdout",
     "output_type": "stream",
     "text": [
      "Early stopping at epoch 15\n"
     ]
    },
    {
     "name": "stderr",
     "output_type": "stream",
     "text": [
      "[I 2024-09-12 21:40:17,085] Trial 57 finished with value: 0.5196850393700787 and parameters: {'out_channels': 75, 'kernel_size': 7, 'num_blocks': 2, 'l2_lambda': 0.009463961950048798, 'dropout_rate': 0.4421154244494096, 'lr': 0.008569542452649384}. Best is trial 7 with value: 0.5905511811023622.\n"
     ]
    },
    {
     "name": "stdout",
     "output_type": "stream",
     "text": [
      "Early stopping at epoch 11\n"
     ]
    },
    {
     "name": "stderr",
     "output_type": "stream",
     "text": [
      "[I 2024-09-12 21:40:17,782] Trial 58 finished with value: 0.5196850393700787 and parameters: {'out_channels': 63, 'kernel_size': 6, 'num_blocks': 2, 'l2_lambda': 0.008175041475100068, 'dropout_rate': 0.4251680566853099, 'lr': 0.007028971226329641}. Best is trial 7 with value: 0.5905511811023622.\n"
     ]
    },
    {
     "name": "stdout",
     "output_type": "stream",
     "text": [
      "Early stopping at epoch 10\n"
     ]
    },
    {
     "name": "stderr",
     "output_type": "stream",
     "text": [
      "[I 2024-09-12 21:40:18,431] Trial 59 finished with value: 0.5196850393700787 and parameters: {'out_channels': 83, 'kernel_size': 6, 'num_blocks': 1, 'l2_lambda': 0.009934471032020538, 'dropout_rate': 0.40613111451953665, 'lr': 0.006739091039211245}. Best is trial 7 with value: 0.5905511811023622.\n"
     ]
    },
    {
     "name": "stdout",
     "output_type": "stream",
     "text": [
      "Early stopping at epoch 15\n"
     ]
    },
    {
     "name": "stderr",
     "output_type": "stream",
     "text": [
      "[I 2024-09-12 21:40:19,446] Trial 60 finished with value: 0.5196850393700787 and parameters: {'out_channels': 110, 'kernel_size': 7, 'num_blocks': 3, 'l2_lambda': 0.00952741209995255, 'dropout_rate': 0.4555355034437584, 'lr': 0.006162061222988648}. Best is trial 7 with value: 0.5905511811023622.\n"
     ]
    },
    {
     "name": "stdout",
     "output_type": "stream",
     "text": [
      "Early stopping at epoch 10\n"
     ]
    },
    {
     "name": "stderr",
     "output_type": "stream",
     "text": [
      "[I 2024-09-12 21:40:21,296] Trial 61 finished with value: 0.5196850393700787 and parameters: {'out_channels': 103, 'kernel_size': 5, 'num_blocks': 6, 'l2_lambda': 0.008773545654216855, 'dropout_rate': 0.35306235518127305, 'lr': 0.005400751609163051}. Best is trial 7 with value: 0.5905511811023622.\n"
     ]
    },
    {
     "name": "stdout",
     "output_type": "stream",
     "text": [
      "Early stopping at epoch 11\n"
     ]
    },
    {
     "name": "stderr",
     "output_type": "stream",
     "text": [
      "[I 2024-09-12 21:40:22,798] Trial 62 finished with value: 0.5275590551181102 and parameters: {'out_channels': 102, 'kernel_size': 6, 'num_blocks': 2, 'l2_lambda': 0.007161721797842673, 'dropout_rate': 0.37646637164603225, 'lr': 0.0026462377754718526}. Best is trial 7 with value: 0.5905511811023622.\n"
     ]
    },
    {
     "name": "stdout",
     "output_type": "stream",
     "text": [
      "Early stopping at epoch 22\n"
     ]
    },
    {
     "name": "stderr",
     "output_type": "stream",
     "text": [
      "[I 2024-09-12 21:40:24,083] Trial 63 finished with value: 0.5196850393700787 and parameters: {'out_channels': 94, 'kernel_size': 5, 'num_blocks': 4, 'l2_lambda': 0.001222818495280414, 'dropout_rate': 0.39690446292485204, 'lr': 0.0076661344548904125}. Best is trial 7 with value: 0.5905511811023622.\n"
     ]
    },
    {
     "name": "stdout",
     "output_type": "stream",
     "text": [
      "Early stopping at epoch 11\n"
     ]
    },
    {
     "name": "stderr",
     "output_type": "stream",
     "text": [
      "[I 2024-09-12 21:40:27,389] Trial 64 finished with value: 0.5196850393700787 and parameters: {'out_channels': 98, 'kernel_size': 6, 'num_blocks': 10, 'l2_lambda': 0.006461063960763571, 'dropout_rate': 0.2596909250550263, 'lr': 0.005086322245618328}. Best is trial 7 with value: 0.5905511811023622.\n"
     ]
    },
    {
     "name": "stdout",
     "output_type": "stream",
     "text": [
      "Early stopping at epoch 11\n"
     ]
    },
    {
     "name": "stderr",
     "output_type": "stream",
     "text": [
      "[I 2024-09-12 21:40:28,861] Trial 65 finished with value: 0.5433070866141733 and parameters: {'out_channels': 90, 'kernel_size': 7, 'num_blocks': 5, 'l2_lambda': 0.00024571679117145365, 'dropout_rate': 0.43195470301613126, 'lr': 0.00046504736967338913}. Best is trial 7 with value: 0.5905511811023622.\n"
     ]
    },
    {
     "name": "stdout",
     "output_type": "stream",
     "text": [
      "Early stopping at epoch 10\n"
     ]
    },
    {
     "name": "stderr",
     "output_type": "stream",
     "text": [
      "[I 2024-09-12 21:40:29,552] Trial 66 finished with value: 0.5196850393700787 and parameters: {'out_channels': 77, 'kernel_size': 4, 'num_blocks': 2, 'l2_lambda': 0.005894018388288095, 'dropout_rate': 0.14764579401026434, 'lr': 0.005753256517794831}. Best is trial 7 with value: 0.5905511811023622.\n"
     ]
    },
    {
     "name": "stdout",
     "output_type": "stream",
     "text": [
      "Early stopping at epoch 10\n"
     ]
    },
    {
     "name": "stderr",
     "output_type": "stream",
     "text": [
      "[I 2024-09-12 21:40:31,940] Trial 67 finished with value: 0.48031496062992124 and parameters: {'out_channels': 87, 'kernel_size': 6, 'num_blocks': 7, 'l2_lambda': 0.0016906433518372225, 'dropout_rate': 0.37177270336797247, 'lr': 0.006786229173044325}. Best is trial 7 with value: 0.5905511811023622.\n"
     ]
    },
    {
     "name": "stdout",
     "output_type": "stream",
     "text": [
      "Early stopping at epoch 11\n"
     ]
    },
    {
     "name": "stderr",
     "output_type": "stream",
     "text": [
      "[I 2024-09-12 21:40:34,609] Trial 68 finished with value: 0.5196850393700787 and parameters: {'out_channels': 128, 'kernel_size': 7, 'num_blocks': 9, 'l2_lambda': 0.008818010400912079, 'dropout_rate': 0.11800872575900724, 'lr': 0.003329864493847291}. Best is trial 7 with value: 0.5905511811023622.\n"
     ]
    },
    {
     "name": "stdout",
     "output_type": "stream",
     "text": [
      "Early stopping at epoch 10\n"
     ]
    },
    {
     "name": "stderr",
     "output_type": "stream",
     "text": [
      "[I 2024-09-12 21:40:36,152] Trial 69 finished with value: 0.5196850393700787 and parameters: {'out_channels': 116, 'kernel_size': 5, 'num_blocks': 4, 'l2_lambda': 0.0035642572588756036, 'dropout_rate': 0.49665920567331157, 'lr': 0.00405904282090858}. Best is trial 7 with value: 0.5905511811023622.\n"
     ]
    },
    {
     "name": "stdout",
     "output_type": "stream",
     "text": [
      "Early stopping at epoch 12\n"
     ]
    },
    {
     "name": "stderr",
     "output_type": "stream",
     "text": [
      "[I 2024-09-12 21:40:37,235] Trial 70 finished with value: 0.5196850393700787 and parameters: {'out_channels': 110, 'kernel_size': 3, 'num_blocks': 3, 'l2_lambda': 0.005298788998062855, 'dropout_rate': 0.3321177665934922, 'lr': 0.003630922315250955}. Best is trial 7 with value: 0.5905511811023622.\n"
     ]
    },
    {
     "name": "stdout",
     "output_type": "stream",
     "text": [
      "Early stopping at epoch 12\n"
     ]
    },
    {
     "name": "stderr",
     "output_type": "stream",
     "text": [
      "[I 2024-09-12 21:40:38,625] Trial 71 finished with value: 0.5196850393700787 and parameters: {'out_channels': 92, 'kernel_size': 7, 'num_blocks': 5, 'l2_lambda': 0.0002247224708672417, 'dropout_rate': 0.46491747159708346, 'lr': 0.0004919342794420606}. Best is trial 7 with value: 0.5905511811023622.\n"
     ]
    },
    {
     "name": "stdout",
     "output_type": "stream",
     "text": [
      "Early stopping at epoch 10\n"
     ]
    },
    {
     "name": "stderr",
     "output_type": "stream",
     "text": [
      "[I 2024-09-12 21:40:40,863] Trial 72 finished with value: 0.5275590551181102 and parameters: {'out_channels': 97, 'kernel_size': 7, 'num_blocks': 5, 'l2_lambda': 0.0006867948954235878, 'dropout_rate': 0.4327800152283559, 'lr': 0.0008716413084407742}. Best is trial 7 with value: 0.5905511811023622.\n"
     ]
    },
    {
     "name": "stdout",
     "output_type": "stream",
     "text": [
      "Early stopping at epoch 16\n"
     ]
    },
    {
     "name": "stderr",
     "output_type": "stream",
     "text": [
      "[I 2024-09-12 21:40:42,620] Trial 73 finished with value: 0.5196850393700787 and parameters: {'out_channels': 105, 'kernel_size': 7, 'num_blocks': 6, 'l2_lambda': 0.00024760150967983096, 'dropout_rate': 0.4522531304289473, 'lr': 0.001339686479966382}. Best is trial 7 with value: 0.5905511811023622.\n"
     ]
    },
    {
     "name": "stdout",
     "output_type": "stream",
     "text": [
      "Early stopping at epoch 10\n"
     ]
    },
    {
     "name": "stderr",
     "output_type": "stream",
     "text": [
      "[I 2024-09-12 21:40:45,844] Trial 74 finished with value: 0.5275590551181102 and parameters: {'out_channels': 120, 'kernel_size': 7, 'num_blocks': 5, 'l2_lambda': 0.009595981608915912, 'dropout_rate': 0.4762835687265298, 'lr': 0.001767257297573494}. Best is trial 7 with value: 0.5905511811023622.\n"
     ]
    },
    {
     "name": "stdout",
     "output_type": "stream",
     "text": [
      "Early stopping at epoch 23\n"
     ]
    },
    {
     "name": "stderr",
     "output_type": "stream",
     "text": [
      "[I 2024-09-12 21:40:47,247] Trial 75 finished with value: 0.5354330708661418 and parameters: {'out_channels': 87, 'kernel_size': 7, 'num_blocks': 5, 'l2_lambda': 0.0014088289167912393, 'dropout_rate': 0.4161551174128516, 'lr': 0.000678830225369736}. Best is trial 7 with value: 0.5905511811023622.\n"
     ]
    },
    {
     "name": "stdout",
     "output_type": "stream",
     "text": [
      "Early stopping at epoch 10\n"
     ]
    },
    {
     "name": "stderr",
     "output_type": "stream",
     "text": [
      "[I 2024-09-12 21:40:49,118] Trial 76 finished with value: 0.5196850393700787 and parameters: {'out_channels': 82, 'kernel_size': 6, 'num_blocks': 6, 'l2_lambda': 0.0004989539625758222, 'dropout_rate': 0.3854220657464166, 'lr': 0.0011163289530350662}. Best is trial 7 with value: 0.5905511811023622.\n"
     ]
    },
    {
     "name": "stdout",
     "output_type": "stream",
     "text": [
      "Early stopping at epoch 10\n"
     ]
    },
    {
     "name": "stderr",
     "output_type": "stream",
     "text": [
      "[I 2024-09-12 21:40:51,117] Trial 77 finished with value: 0.5196850393700787 and parameters: {'out_channels': 72, 'kernel_size': 7, 'num_blocks': 8, 'l2_lambda': 0.0009026313944532007, 'dropout_rate': 0.15898317663648295, 'lr': 0.00019886462564471622}. Best is trial 7 with value: 0.5905511811023622.\n"
     ]
    },
    {
     "name": "stdout",
     "output_type": "stream",
     "text": [
      "Early stopping at epoch 10\n"
     ]
    },
    {
     "name": "stderr",
     "output_type": "stream",
     "text": [
      "[I 2024-09-12 21:40:51,813] Trial 78 finished with value: 0.5433070866141733 and parameters: {'out_channels': 102, 'kernel_size': 6, 'num_blocks': 1, 'l2_lambda': 0.004647602159017348, 'dropout_rate': 0.4077340527604367, 'lr': 0.006282537116432589}. Best is trial 7 with value: 0.5905511811023622.\n"
     ]
    },
    {
     "name": "stdout",
     "output_type": "stream",
     "text": [
      "Early stopping at epoch 16\n"
     ]
    },
    {
     "name": "stderr",
     "output_type": "stream",
     "text": [
      "[I 2024-09-12 21:40:52,696] Trial 79 finished with value: 0.5196850393700787 and parameters: {'out_channels': 79, 'kernel_size': 7, 'num_blocks': 3, 'l2_lambda': 0.0082542294057856, 'dropout_rate': 0.3049847230790423, 'lr': 0.0024901370516960614}. Best is trial 7 with value: 0.5905511811023622.\n"
     ]
    },
    {
     "name": "stdout",
     "output_type": "stream",
     "text": [
      "Early stopping at epoch 10\n"
     ]
    },
    {
     "name": "stderr",
     "output_type": "stream",
     "text": [
      "[I 2024-09-12 21:40:55,713] Trial 80 finished with value: 0.5196850393700787 and parameters: {'out_channels': 91, 'kernel_size': 4, 'num_blocks': 10, 'l2_lambda': 1.2138306538245821e-05, 'dropout_rate': 0.2832719295911232, 'lr': 0.004419324453743836}. Best is trial 7 with value: 0.5905511811023622.\n"
     ]
    },
    {
     "name": "stdout",
     "output_type": "stream",
     "text": [
      "Early stopping at epoch 11\n"
     ]
    },
    {
     "name": "stderr",
     "output_type": "stream",
     "text": [
      "[I 2024-09-12 21:40:56,502] Trial 81 finished with value: 0.5275590551181102 and parameters: {'out_channels': 101, 'kernel_size': 6, 'num_blocks': 1, 'l2_lambda': 0.004509757950229771, 'dropout_rate': 0.40441869120516444, 'lr': 0.006319107184882895}. Best is trial 7 with value: 0.5905511811023622.\n"
     ]
    },
    {
     "name": "stdout",
     "output_type": "stream",
     "text": [
      "Early stopping at epoch 19\n"
     ]
    },
    {
     "name": "stderr",
     "output_type": "stream",
     "text": [
      "[I 2024-09-12 21:40:56,990] Trial 82 finished with value: 0.5196850393700787 and parameters: {'out_channels': 104, 'kernel_size': 6, 'num_blocks': 1, 'l2_lambda': 0.004981122227040273, 'dropout_rate': 0.4318131997652673, 'lr': 0.006597223049669538}. Best is trial 7 with value: 0.5905511811023622.\n"
     ]
    },
    {
     "name": "stdout",
     "output_type": "stream",
     "text": [
      "Early stopping at epoch 10\n"
     ]
    },
    {
     "name": "stderr",
     "output_type": "stream",
     "text": [
      "[I 2024-09-12 21:40:57,538] Trial 83 finished with value: 0.5196850393700787 and parameters: {'out_channels': 113, 'kernel_size': 6, 'num_blocks': 1, 'l2_lambda': 0.004152857697872163, 'dropout_rate': 0.44597522837522957, 'lr': 0.006049541975445145}. Best is trial 7 with value: 0.5905511811023622.\n"
     ]
    },
    {
     "name": "stdout",
     "output_type": "stream",
     "text": [
      "Early stopping at epoch 12\n"
     ]
    },
    {
     "name": "stderr",
     "output_type": "stream",
     "text": [
      "[I 2024-09-12 21:40:58,699] Trial 84 finished with value: 0.5196850393700787 and parameters: {'out_channels': 108, 'kernel_size': 6, 'num_blocks': 2, 'l2_lambda': 0.004838709594831573, 'dropout_rate': 0.3496594095905672, 'lr': 0.002105930904971325}. Best is trial 7 with value: 0.5905511811023622.\n"
     ]
    },
    {
     "name": "stdout",
     "output_type": "stream",
     "text": [
      "Early stopping at epoch 16\n"
     ]
    },
    {
     "name": "stderr",
     "output_type": "stream",
     "text": [
      "[I 2024-09-12 21:40:59,915] Trial 85 finished with value: 0.5275590551181102 and parameters: {'out_channels': 96, 'kernel_size': 5, 'num_blocks': 4, 'l2_lambda': 0.006032268658550734, 'dropout_rate': 0.4161550305653103, 'lr': 0.007051222660101396}. Best is trial 7 with value: 0.5905511811023622.\n"
     ]
    },
    {
     "name": "stdout",
     "output_type": "stream",
     "text": [
      "Early stopping at epoch 11\n"
     ]
    },
    {
     "name": "stderr",
     "output_type": "stream",
     "text": [
      "[I 2024-09-12 21:41:00,461] Trial 86 finished with value: 0.5196850393700787 and parameters: {'out_channels': 54, 'kernel_size': 6, 'num_blocks': 1, 'l2_lambda': 0.001759217877231893, 'dropout_rate': 0.39731953873894715, 'lr': 0.005694326958737935}. Best is trial 7 with value: 0.5905511811023622.\n"
     ]
    },
    {
     "name": "stdout",
     "output_type": "stream",
     "text": [
      "Early stopping at epoch 13\n"
     ]
    },
    {
     "name": "stderr",
     "output_type": "stream",
     "text": [
      "[I 2024-09-12 21:41:01,283] Trial 87 finished with value: 0.5196850393700787 and parameters: {'out_channels': 99, 'kernel_size': 7, 'num_blocks': 2, 'l2_lambda': 0.0065800857389057546, 'dropout_rate': 0.18917358385538066, 'lr': 0.0054244756836185504}. Best is trial 7 with value: 0.5905511811023622.\n"
     ]
    },
    {
     "name": "stdout",
     "output_type": "stream",
     "text": [
      "Early stopping at epoch 12\n"
     ]
    },
    {
     "name": "stderr",
     "output_type": "stream",
     "text": [
      "[I 2024-09-12 21:41:03,507] Trial 88 finished with value: 0.5196850393700787 and parameters: {'out_channels': 118, 'kernel_size': 6, 'num_blocks': 6, 'l2_lambda': 0.0028555185933291385, 'dropout_rate': 0.36057483751916114, 'lr': 0.00739161020463476}. Best is trial 7 with value: 0.5905511811023622.\n"
     ]
    },
    {
     "name": "stdout",
     "output_type": "stream",
     "text": [
      "Early stopping at epoch 11\n"
     ]
    },
    {
     "name": "stderr",
     "output_type": "stream",
     "text": [
      "[I 2024-09-12 21:41:08,060] Trial 89 finished with value: 0.5590551181102362 and parameters: {'out_channels': 93, 'kernel_size': 7, 'num_blocks': 9, 'l2_lambda': 0.0052472943280920895, 'dropout_rate': 0.48542567150672555, 'lr': 0.00815869376598342}. Best is trial 7 with value: 0.5905511811023622.\n"
     ]
    },
    {
     "name": "stdout",
     "output_type": "stream",
     "text": [
      "Early stopping at epoch 20\n"
     ]
    },
    {
     "name": "stderr",
     "output_type": "stream",
     "text": [
      "[I 2024-09-12 21:41:10,477] Trial 90 finished with value: 0.5196850393700787 and parameters: {'out_channels': 84, 'kernel_size': 7, 'num_blocks': 9, 'l2_lambda': 0.0052193872590359505, 'dropout_rate': 0.49038758260754056, 'lr': 0.008163280483364767}. Best is trial 7 with value: 0.5905511811023622.\n"
     ]
    },
    {
     "name": "stdout",
     "output_type": "stream",
     "text": [
      "Early stopping at epoch 10\n"
     ]
    },
    {
     "name": "stderr",
     "output_type": "stream",
     "text": [
      "[I 2024-09-12 21:41:13,166] Trial 91 finished with value: 0.5196850393700787 and parameters: {'out_channels': 93, 'kernel_size': 7, 'num_blocks': 10, 'l2_lambda': 0.005561397677431849, 'dropout_rate': 0.48237996666270005, 'lr': 0.006294757694013623}. Best is trial 7 with value: 0.5905511811023622.\n"
     ]
    },
    {
     "name": "stdout",
     "output_type": "stream",
     "text": [
      "Early stopping at epoch 10\n"
     ]
    },
    {
     "name": "stderr",
     "output_type": "stream",
     "text": [
      "[I 2024-09-12 21:41:15,793] Trial 92 finished with value: 0.5196850393700787 and parameters: {'out_channels': 87, 'kernel_size': 7, 'num_blocks': 9, 'l2_lambda': 0.003947529770218729, 'dropout_rate': 0.32420251410339007, 'lr': 0.0090535359696687}. Best is trial 7 with value: 0.5905511811023622.\n"
     ]
    },
    {
     "name": "stdout",
     "output_type": "stream",
     "text": [
      "Early stopping at epoch 11\n"
     ]
    },
    {
     "name": "stderr",
     "output_type": "stream",
     "text": [
      "[I 2024-09-12 21:41:18,714] Trial 93 finished with value: 0.5196850393700787 and parameters: {'out_channels': 102, 'kernel_size': 7, 'num_blocks': 10, 'l2_lambda': 0.004566421172195495, 'dropout_rate': 0.46617646462160867, 'lr': 0.00884006423839479}. Best is trial 7 with value: 0.5905511811023622.\n"
     ]
    },
    {
     "name": "stdout",
     "output_type": "stream",
     "text": [
      "Early stopping at epoch 10\n"
     ]
    },
    {
     "name": "stderr",
     "output_type": "stream",
     "text": [
      "[I 2024-09-12 21:41:21,677] Trial 94 finished with value: 0.5196850393700787 and parameters: {'out_channels': 107, 'kernel_size': 6, 'num_blocks': 9, 'l2_lambda': 0.0034600035802958757, 'dropout_rate': 0.2237672487774917, 'lr': 0.0029775922599064673}. Best is trial 7 with value: 0.5905511811023622.\n"
     ]
    },
    {
     "name": "stdout",
     "output_type": "stream",
     "text": [
      "Early stopping at epoch 10\n"
     ]
    },
    {
     "name": "stderr",
     "output_type": "stream",
     "text": [
      "[I 2024-09-12 21:41:22,782] Trial 95 finished with value: 0.48031496062992124 and parameters: {'out_channels': 26, 'kernel_size': 7, 'num_blocks': 5, 'l2_lambda': 0.005767009542242507, 'dropout_rate': 0.4264185385491767, 'lr': 1.6325052102550766e-05}. Best is trial 7 with value: 0.5905511811023622.\n"
     ]
    },
    {
     "name": "stdout",
     "output_type": "stream",
     "text": [
      "Early stopping at epoch 10\n"
     ]
    },
    {
     "name": "stderr",
     "output_type": "stream",
     "text": [
      "[I 2024-09-12 21:41:24,058] Trial 96 finished with value: 0.5196850393700787 and parameters: {'out_channels': 95, 'kernel_size': 7, 'num_blocks': 4, 'l2_lambda': 0.0013629836753666054, 'dropout_rate': 0.4394389413582272, 'lr': 0.007624211287776045}. Best is trial 7 with value: 0.5905511811023622.\n"
     ]
    },
    {
     "name": "stdout",
     "output_type": "stream",
     "text": [
      "Early stopping at epoch 10\n"
     ]
    },
    {
     "name": "stderr",
     "output_type": "stream",
     "text": [
      "[I 2024-09-12 21:41:26,209] Trial 97 finished with value: 0.5196850393700787 and parameters: {'out_channels': 90, 'kernel_size': 5, 'num_blocks': 8, 'l2_lambda': 0.004678713024085969, 'dropout_rate': 0.3877385187029688, 'lr': 0.00948028878706601}. Best is trial 7 with value: 0.5905511811023622.\n"
     ]
    },
    {
     "name": "stdout",
     "output_type": "stream",
     "text": [
      "Early stopping at epoch 10\n"
     ]
    },
    {
     "name": "stderr",
     "output_type": "stream",
     "text": [
      "[I 2024-09-12 21:41:27,020] Trial 98 finished with value: 0.5196850393700787 and parameters: {'out_channels': 64, 'kernel_size': 6, 'num_blocks': 2, 'l2_lambda': 0.007868566637382439, 'dropout_rate': 0.4467411685848687, 'lr': 0.00486740849452834}. Best is trial 7 with value: 0.5905511811023622.\n"
     ]
    },
    {
     "name": "stdout",
     "output_type": "stream",
     "text": [
      "Early stopping at epoch 10\n"
     ]
    },
    {
     "name": "stderr",
     "output_type": "stream",
     "text": [
      "[I 2024-09-12 21:41:29,962] Trial 99 finished with value: 0.5196850393700787 and parameters: {'out_channels': 75, 'kernel_size': 4, 'num_blocks': 10, 'l2_lambda': 0.009151889138123185, 'dropout_rate': 0.4119362465048698, 'lr': 0.008040211771823484}. Best is trial 7 with value: 0.5905511811023622.\n",
      "[I 2024-09-12 21:41:30,015] A new study created in memory with name: no-name-a2c5ab2d-672f-485b-ac1a-382389b70af9\n"
     ]
    },
    {
     "name": "stdout",
     "output_type": "stream",
     "text": [
      "Early stopping at epoch 11\n",
      "parameters for USDSGD=X saved to ../models/best-hyperparameters/pytorch/conv1d-classification/USDSGD=X.json\n",
      "Best model for USDSGD=X saved with accuracy: 0.5905511811023622\n"
     ]
    },
    {
     "name": "stderr",
     "output_type": "stream",
     "text": [
      "[I 2024-09-12 21:41:31,665] Trial 0 finished with value: 0.028585121035575867 and parameters: {'out_channels': 124, 'kernel_size': 6, 'num_blocks': 1, 'l2_lambda': 0.005995187055566242, 'dropout_rate': 0.34234713211886847, 'lr': 0.003290684816522517}. Best is trial 0 with value: 0.028585121035575867.\n"
     ]
    },
    {
     "name": "stdout",
     "output_type": "stream",
     "text": [
      "Early stopping at epoch 45\n"
     ]
    },
    {
     "name": "stderr",
     "output_type": "stream",
     "text": [
      "[I 2024-09-12 21:41:33,023] Trial 1 finished with value: 0.13308365643024445 and parameters: {'out_channels': 50, 'kernel_size': 7, 'num_blocks': 4, 'l2_lambda': 0.007392123317367362, 'dropout_rate': 0.31577331682391996, 'lr': 0.00788238603019632}. Best is trial 0 with value: 0.028585121035575867.\n"
     ]
    },
    {
     "name": "stdout",
     "output_type": "stream",
     "text": [
      "Early stopping at epoch 15\n"
     ]
    },
    {
     "name": "stderr",
     "output_type": "stream",
     "text": [
      "[I 2024-09-12 21:41:36,190] Trial 2 finished with value: 0.08702671527862549 and parameters: {'out_channels': 108, 'kernel_size': 6, 'num_blocks': 4, 'l2_lambda': 0.008889412446123044, 'dropout_rate': 0.3583143414113069, 'lr': 0.006220550333923438}. Best is trial 0 with value: 0.028585121035575867.\n"
     ]
    },
    {
     "name": "stdout",
     "output_type": "stream",
     "text": [
      "Early stopping at epoch 27\n"
     ]
    },
    {
     "name": "stderr",
     "output_type": "stream",
     "text": [
      "[I 2024-09-12 21:41:37,222] Trial 3 finished with value: 0.19416110217571259 and parameters: {'out_channels': 20, 'kernel_size': 6, 'num_blocks': 3, 'l2_lambda': 0.0010611680718902007, 'dropout_rate': 0.47483654582941015, 'lr': 0.007161258640114728}. Best is trial 0 with value: 0.028585121035575867.\n"
     ]
    },
    {
     "name": "stdout",
     "output_type": "stream",
     "text": [
      "Early stopping at epoch 14\n"
     ]
    },
    {
     "name": "stderr",
     "output_type": "stream",
     "text": [
      "[I 2024-09-12 21:41:37,887] Trial 4 finished with value: 0.17492668330669403 and parameters: {'out_channels': 55, 'kernel_size': 4, 'num_blocks': 1, 'l2_lambda': 0.005688250011044721, 'dropout_rate': 0.3790343641832826, 'lr': 0.007346801098610866}. Best is trial 0 with value: 0.028585121035575867.\n"
     ]
    },
    {
     "name": "stdout",
     "output_type": "stream",
     "text": [
      "Early stopping at epoch 20\n"
     ]
    },
    {
     "name": "stderr",
     "output_type": "stream",
     "text": [
      "[I 2024-09-12 21:42:09,528] Trial 5 finished with value: 0.01777126081287861 and parameters: {'out_channels': 30, 'kernel_size': 7, 'num_blocks': 1, 'l2_lambda': 0.0015491638438931868, 'dropout_rate': 0.4808105251894841, 'lr': 2.9469583342888763e-05}. Best is trial 5 with value: 0.01777126081287861.\n",
      "[I 2024-09-12 21:42:13,246] Trial 6 finished with value: 0.044340167194604874 and parameters: {'out_channels': 32, 'kernel_size': 6, 'num_blocks': 5, 'l2_lambda': 0.0026826364827905597, 'dropout_rate': 0.2784560794163225, 'lr': 0.006964987678735099}. Best is trial 5 with value: 0.01777126081287861.\n"
     ]
    },
    {
     "name": "stdout",
     "output_type": "stream",
     "text": [
      "Early stopping at epoch 30\n"
     ]
    },
    {
     "name": "stderr",
     "output_type": "stream",
     "text": [
      "[I 2024-09-12 21:42:14,173] Trial 7 finished with value: 0.029091522097587585 and parameters: {'out_channels': 87, 'kernel_size': 6, 'num_blocks': 1, 'l2_lambda': 0.0025332254455218968, 'dropout_rate': 0.29738124737326443, 'lr': 0.001076598454008002}. Best is trial 5 with value: 0.01777126081287861.\n"
     ]
    },
    {
     "name": "stdout",
     "output_type": "stream",
     "text": [
      "Early stopping at epoch 22\n"
     ]
    },
    {
     "name": "stderr",
     "output_type": "stream",
     "text": [
      "[I 2024-09-12 21:42:14,718] Trial 8 finished with value: 0.02990836091339588 and parameters: {'out_channels': 44, 'kernel_size': 5, 'num_blocks': 1, 'l2_lambda': 0.007863367442583548, 'dropout_rate': 0.12203021197792051, 'lr': 0.0009902274610081101}. Best is trial 5 with value: 0.01777126081287861.\n"
     ]
    },
    {
     "name": "stdout",
     "output_type": "stream",
     "text": [
      "Early stopping at epoch 17\n"
     ]
    },
    {
     "name": "stderr",
     "output_type": "stream",
     "text": [
      "[I 2024-09-12 21:42:37,952] Trial 9 finished with value: 0.017605189234018326 and parameters: {'out_channels': 56, 'kernel_size': 4, 'num_blocks': 1, 'l2_lambda': 0.006239825782723201, 'dropout_rate': 0.4392097482480185, 'lr': 0.00045078657191841546}. Best is trial 9 with value: 0.017605189234018326.\n"
     ]
    },
    {
     "name": "stdout",
     "output_type": "stream",
     "text": [
      "Early stopping at epoch 695\n"
     ]
    },
    {
     "name": "stderr",
     "output_type": "stream",
     "text": [
      "[I 2024-09-12 21:42:39,556] Trial 10 finished with value: 0.07338953763246536 and parameters: {'out_channels': 81, 'kernel_size': 3, 'num_blocks': 2, 'l2_lambda': 0.009867245698942883, 'dropout_rate': 0.17064094740155508, 'lr': 0.00969692675527513}. Best is trial 9 with value: 0.017605189234018326.\n"
     ]
    },
    {
     "name": "stdout",
     "output_type": "stream",
     "text": [
      "Early stopping at epoch 28\n"
     ]
    },
    {
     "name": "stderr",
     "output_type": "stream",
     "text": [
      "[I 2024-09-12 21:42:52,411] Trial 11 finished with value: 0.03606700152158737 and parameters: {'out_channels': 68, 'kernel_size': 4, 'num_blocks': 2, 'l2_lambda': 0.003701736532073805, 'dropout_rate': 0.49065244208800035, 'lr': 0.0001369368514743786}. Best is trial 9 with value: 0.017605189234018326.\n"
     ]
    },
    {
     "name": "stdout",
     "output_type": "stream",
     "text": [
      "Early stopping at epoch 237\n"
     ]
    },
    {
     "name": "stderr",
     "output_type": "stream",
     "text": [
      "[I 2024-09-12 21:42:53,185] Trial 12 finished with value: 0.1861177235841751 and parameters: {'out_channels': 17, 'kernel_size': 4, 'num_blocks': 2, 'l2_lambda': 7.683461343399567e-05, 'dropout_rate': 0.42275574928258647, 'lr': 0.003200204091537201}. Best is trial 9 with value: 0.017605189234018326.\n"
     ]
    },
    {
     "name": "stdout",
     "output_type": "stream",
     "text": [
      "Early stopping at epoch 13\n"
     ]
    },
    {
     "name": "stderr",
     "output_type": "stream",
     "text": [
      "[I 2024-09-12 21:42:53,825] Trial 13 finished with value: 0.14098696410655975 and parameters: {'out_channels': 39, 'kernel_size': 3, 'num_blocks': 2, 'l2_lambda': 0.004392855899188988, 'dropout_rate': 0.4302002693905382, 'lr': 0.002751009971032112}. Best is trial 9 with value: 0.017605189234018326.\n"
     ]
    },
    {
     "name": "stdout",
     "output_type": "stream",
     "text": [
      "Early stopping at epoch 11\n"
     ]
    },
    {
     "name": "stderr",
     "output_type": "stream",
     "text": [
      "[I 2024-09-12 21:42:56,654] Trial 14 finished with value: 0.03731067478656769 and parameters: {'out_channels': 64, 'kernel_size': 7, 'num_blocks': 3, 'l2_lambda': 0.006530812672173099, 'dropout_rate': 0.2378292504791592, 'lr': 0.0017845013703261373}. Best is trial 9 with value: 0.017605189234018326.\n"
     ]
    },
    {
     "name": "stdout",
     "output_type": "stream",
     "text": [
      "Early stopping at epoch 40\n"
     ]
    },
    {
     "name": "stderr",
     "output_type": "stream",
     "text": [
      "[I 2024-09-12 21:42:57,117] Trial 15 finished with value: 0.03753914311528206 and parameters: {'out_channels': 33, 'kernel_size': 5, 'num_blocks': 1, 'l2_lambda': 0.0020711596904823687, 'dropout_rate': 0.42792346478397325, 'lr': 0.005394969955258206}. Best is trial 9 with value: 0.017605189234018326.\n"
     ]
    },
    {
     "name": "stdout",
     "output_type": "stream",
     "text": [
      "Early stopping at epoch 12\n"
     ]
    },
    {
     "name": "stderr",
     "output_type": "stream",
     "text": [
      "[I 2024-09-12 21:43:01,277] Trial 16 finished with value: 0.00789302121847868 and parameters: {'out_channels': 97, 'kernel_size': 4, 'num_blocks': 2, 'l2_lambda': 0.00440278984244401, 'dropout_rate': 0.4896913600778217, 'lr': 0.004600075598743242}. Best is trial 16 with value: 0.00789302121847868.\n"
     ]
    },
    {
     "name": "stdout",
     "output_type": "stream",
     "text": [
      "Early stopping at epoch 71\n"
     ]
    },
    {
     "name": "stderr",
     "output_type": "stream",
     "text": [
      "[I 2024-09-12 21:43:02,955] Trial 17 finished with value: 0.06319902092218399 and parameters: {'out_channels': 93, 'kernel_size': 4, 'num_blocks': 2, 'l2_lambda': 0.004671896118413238, 'dropout_rate': 0.40384283648912167, 'lr': 0.00424265474671518}. Best is trial 16 with value: 0.00789302121847868.\n"
     ]
    },
    {
     "name": "stdout",
     "output_type": "stream",
     "text": [
      "Early stopping at epoch 28\n"
     ]
    },
    {
     "name": "stderr",
     "output_type": "stream",
     "text": [
      "[I 2024-09-12 21:43:04,227] Trial 18 finished with value: 0.07680953294038773 and parameters: {'out_channels': 109, 'kernel_size': 3, 'num_blocks': 3, 'l2_lambda': 0.003389505292692451, 'dropout_rate': 0.4575205022769128, 'lr': 0.004663745576065356}. Best is trial 16 with value: 0.00789302121847868.\n"
     ]
    },
    {
     "name": "stdout",
     "output_type": "stream",
     "text": [
      "Early stopping at epoch 15\n"
     ]
    },
    {
     "name": "stderr",
     "output_type": "stream",
     "text": [
      "[I 2024-09-12 21:43:06,551] Trial 19 finished with value: 0.026333995163440704 and parameters: {'out_channels': 102, 'kernel_size': 5, 'num_blocks': 2, 'l2_lambda': 0.006788512640216652, 'dropout_rate': 0.22681833497364803, 'lr': 0.008513529436398918}. Best is trial 16 with value: 0.00789302121847868.\n"
     ]
    },
    {
     "name": "stdout",
     "output_type": "stream",
     "text": [
      "Early stopping at epoch 41\n"
     ]
    },
    {
     "name": "stderr",
     "output_type": "stream",
     "text": [
      "[I 2024-09-12 21:43:10,363] Trial 20 finished with value: 0.02436501532793045 and parameters: {'out_channels': 76, 'kernel_size': 4, 'num_blocks': 4, 'l2_lambda': 0.004799582801766471, 'dropout_rate': 0.3909104569919509, 'lr': 0.002284722147524876}. Best is trial 16 with value: 0.00789302121847868.\n"
     ]
    },
    {
     "name": "stdout",
     "output_type": "stream",
     "text": [
      "Early stopping at epoch 37\n"
     ]
    },
    {
     "name": "stderr",
     "output_type": "stream",
     "text": [
      "[I 2024-09-12 21:43:42,272] Trial 21 finished with value: 0.017359137535095215 and parameters: {'out_channels': 57, 'kernel_size': 5, 'num_blocks': 1, 'l2_lambda': 0.0005334641024485678, 'dropout_rate': 0.4928157345891317, 'lr': 0.00022135963506723623}. Best is trial 16 with value: 0.00789302121847868.\n",
      "[I 2024-09-12 21:43:43,364] Trial 22 finished with value: 0.013758951798081398 and parameters: {'out_channels': 59, 'kernel_size': 5, 'num_blocks': 1, 'l2_lambda': 0.0003316496023545704, 'dropout_rate': 0.457689136415989, 'lr': 0.001391286070682733}. Best is trial 16 with value: 0.00789302121847868.\n"
     ]
    },
    {
     "name": "stdout",
     "output_type": "stream",
     "text": [
      "Early stopping at epoch 30\n"
     ]
    },
    {
     "name": "stderr",
     "output_type": "stream",
     "text": [
      "[I 2024-09-12 21:43:44,669] Trial 23 finished with value: 0.10738931596279144 and parameters: {'out_channels': 70, 'kernel_size': 5, 'num_blocks': 2, 'l2_lambda': 0.0005731876878988362, 'dropout_rate': 0.48609888009778734, 'lr': 0.0015373840486880524}. Best is trial 16 with value: 0.00789302121847868.\n"
     ]
    },
    {
     "name": "stdout",
     "output_type": "stream",
     "text": [
      "Early stopping at epoch 22\n"
     ]
    },
    {
     "name": "stderr",
     "output_type": "stream",
     "text": [
      "[I 2024-09-12 21:43:45,472] Trial 24 finished with value: 0.06585053354501724 and parameters: {'out_channels': 124, 'kernel_size': 5, 'num_blocks': 1, 'l2_lambda': 9.417416731208637e-05, 'dropout_rate': 0.4978760545238006, 'lr': 0.005755408466452661}. Best is trial 16 with value: 0.00789302121847868.\n"
     ]
    },
    {
     "name": "stdout",
     "output_type": "stream",
     "text": [
      "Early stopping at epoch 21\n"
     ]
    },
    {
     "name": "stderr",
     "output_type": "stream",
     "text": [
      "[I 2024-09-12 21:43:46,582] Trial 25 finished with value: 0.0614466518163681 and parameters: {'out_channels': 61, 'kernel_size': 5, 'num_blocks': 2, 'l2_lambda': 0.0014550369140602102, 'dropout_rate': 0.4502172638002944, 'lr': 0.004161764706955645}. Best is trial 16 with value: 0.00789302121847868.\n"
     ]
    },
    {
     "name": "stdout",
     "output_type": "stream",
     "text": [
      "Early stopping at epoch 19\n"
     ]
    },
    {
     "name": "stderr",
     "output_type": "stream",
     "text": [
      "[I 2024-09-12 21:43:47,205] Trial 26 finished with value: 0.07828988879919052 and parameters: {'out_channels': 94, 'kernel_size': 5, 'num_blocks': 1, 'l2_lambda': 0.0034700451102080134, 'dropout_rate': 0.464258080455595, 'lr': 0.00217599961582749}. Best is trial 16 with value: 0.00789302121847868.\n"
     ]
    },
    {
     "name": "stdout",
     "output_type": "stream",
     "text": [
      "Early stopping at epoch 17\n"
     ]
    },
    {
     "name": "stderr",
     "output_type": "stream",
     "text": [
      "[I 2024-09-12 21:43:49,417] Trial 27 finished with value: 0.010629173368215561 and parameters: {'out_channels': 80, 'kernel_size': 4, 'num_blocks': 2, 'l2_lambda': 0.0022001128814182766, 'dropout_rate': 0.37293755396242745, 'lr': 0.0035998933740460717}. Best is trial 16 with value: 0.00789302121847868.\n"
     ]
    },
    {
     "name": "stdout",
     "output_type": "stream",
     "text": [
      "Early stopping at epoch 37\n"
     ]
    },
    {
     "name": "stderr",
     "output_type": "stream",
     "text": [
      "[I 2024-09-12 21:43:52,100] Trial 28 finished with value: 0.032283514738082886 and parameters: {'out_channels': 80, 'kernel_size': 3, 'num_blocks': 3, 'l2_lambda': 0.002174107191647753, 'dropout_rate': 0.3586373803149834, 'lr': 0.003586086323441119}. Best is trial 16 with value: 0.00789302121847868.\n"
     ]
    },
    {
     "name": "stdout",
     "output_type": "stream",
     "text": [
      "Early stopping at epoch 38\n"
     ]
    },
    {
     "name": "stderr",
     "output_type": "stream",
     "text": [
      "[I 2024-09-12 21:43:53,231] Trial 29 finished with value: 0.04711300879716873 and parameters: {'out_channels': 123, 'kernel_size': 4, 'num_blocks': 2, 'l2_lambda': 0.003987365353113115, 'dropout_rate': 0.331076929293019, 'lr': 0.003529518534270758}. Best is trial 16 with value: 0.00789302121847868.\n"
     ]
    },
    {
     "name": "stdout",
     "output_type": "stream",
     "text": [
      "Early stopping at epoch 16\n"
     ]
    },
    {
     "name": "stderr",
     "output_type": "stream",
     "text": [
      "[I 2024-09-12 21:43:54,294] Trial 30 finished with value: 0.5109188556671143 and parameters: {'out_channels': 98, 'kernel_size': 4, 'num_blocks': 3, 'l2_lambda': 0.005394274412113052, 'dropout_rate': 0.4086023330067595, 'lr': 0.002749383752830012}. Best is trial 16 with value: 0.00789302121847868.\n"
     ]
    },
    {
     "name": "stdout",
     "output_type": "stream",
     "text": [
      "Early stopping at epoch 11\n"
     ]
    },
    {
     "name": "stderr",
     "output_type": "stream",
     "text": [
      "[I 2024-09-12 21:43:55,038] Trial 31 finished with value: 0.05093839764595032 and parameters: {'out_channels': 87, 'kernel_size': 5, 'num_blocks': 1, 'l2_lambda': 0.0007787466054422431, 'dropout_rate': 0.45439085863667716, 'lr': 0.0012632290529662733}. Best is trial 16 with value: 0.00789302121847868.\n"
     ]
    },
    {
     "name": "stdout",
     "output_type": "stream",
     "text": [
      "Early stopping at epoch 20\n"
     ]
    },
    {
     "name": "stderr",
     "output_type": "stream",
     "text": [
      "[I 2024-09-12 21:43:56,065] Trial 32 finished with value: 0.04704025760293007 and parameters: {'out_channels': 73, 'kernel_size': 4, 'num_blocks': 1, 'l2_lambda': 0.0029823786686725166, 'dropout_rate': 0.49276481662717814, 'lr': 0.004924331676580826}. Best is trial 16 with value: 0.00789302121847868.\n"
     ]
    },
    {
     "name": "stdout",
     "output_type": "stream",
     "text": [
      "Early stopping at epoch 29\n"
     ]
    },
    {
     "name": "stderr",
     "output_type": "stream",
     "text": [
      "[I 2024-09-12 21:43:57,268] Trial 33 finished with value: 0.0515299029648304 and parameters: {'out_channels': 52, 'kernel_size': 5, 'num_blocks': 2, 'l2_lambda': 0.0017065521369143593, 'dropout_rate': 0.37587125754324496, 'lr': 0.0008272494123654041}. Best is trial 16 with value: 0.00789302121847868.\n"
     ]
    },
    {
     "name": "stdout",
     "output_type": "stream",
     "text": [
      "Early stopping at epoch 22\n"
     ]
    },
    {
     "name": "stderr",
     "output_type": "stream",
     "text": [
      "[I 2024-09-12 21:43:58,631] Trial 34 finished with value: 0.017006386071443558 and parameters: {'out_channels': 48, 'kernel_size': 6, 'num_blocks': 1, 'l2_lambda': 0.0010567729291764193, 'dropout_rate': 0.34579007967921016, 'lr': 0.00599979802789846}. Best is trial 16 with value: 0.00789302121847868.\n"
     ]
    },
    {
     "name": "stdout",
     "output_type": "stream",
     "text": [
      "Early stopping at epoch 40\n"
     ]
    },
    {
     "name": "stderr",
     "output_type": "stream",
     "text": [
      "[I 2024-09-12 21:44:01,740] Trial 35 finished with value: 0.07936335355043411 and parameters: {'out_channels': 115, 'kernel_size': 6, 'num_blocks': 3, 'l2_lambda': 0.001121733361297087, 'dropout_rate': 0.34590931307074346, 'lr': 0.00639084533092862}. Best is trial 16 with value: 0.00789302121847868.\n"
     ]
    },
    {
     "name": "stdout",
     "output_type": "stream",
     "text": [
      "Early stopping at epoch 32\n"
     ]
    },
    {
     "name": "stderr",
     "output_type": "stream",
     "text": [
      "[I 2024-09-12 21:44:04,449] Trial 36 finished with value: 0.07578262686729431 and parameters: {'out_channels': 44, 'kernel_size': 7, 'num_blocks': 5, 'l2_lambda': 0.001741015981165713, 'dropout_rate': 0.2916028186046648, 'lr': 0.006047750175479049}. Best is trial 16 with value: 0.00789302121847868.\n"
     ]
    },
    {
     "name": "stdout",
     "output_type": "stream",
     "text": [
      "Early stopping at epoch 27\n"
     ]
    },
    {
     "name": "stderr",
     "output_type": "stream",
     "text": [
      "[I 2024-09-12 21:44:09,220] Trial 37 finished with value: 0.01945129595696926 and parameters: {'out_channels': 86, 'kernel_size': 6, 'num_blocks': 4, 'l2_lambda': 0.001148692432588332, 'dropout_rate': 0.3161565664262256, 'lr': 0.0041128729049347175}. Best is trial 16 with value: 0.00789302121847868.\n"
     ]
    },
    {
     "name": "stdout",
     "output_type": "stream",
     "text": [
      "Early stopping at epoch 43\n"
     ]
    },
    {
     "name": "stderr",
     "output_type": "stream",
     "text": [
      "[I 2024-09-12 21:44:10,520] Trial 38 finished with value: 0.015667518600821495 and parameters: {'out_channels': 47, 'kernel_size': 6, 'num_blocks': 1, 'l2_lambda': 0.0028442359261725836, 'dropout_rate': 0.3736208411813717, 'lr': 0.006595045107742002}. Best is trial 16 with value: 0.00789302121847868.\n"
     ]
    },
    {
     "name": "stdout",
     "output_type": "stream",
     "text": [
      "Early stopping at epoch 40\n"
     ]
    },
    {
     "name": "stderr",
     "output_type": "stream",
     "text": [
      "[I 2024-09-12 21:44:11,075] Trial 39 finished with value: 0.3881801664829254 and parameters: {'out_channels': 23, 'kernel_size': 7, 'num_blocks': 2, 'l2_lambda': 0.00307159901475738, 'dropout_rate': 0.25900453208930424, 'lr': 0.007818079270741561}. Best is trial 16 with value: 0.00789302121847868.\n"
     ]
    },
    {
     "name": "stdout",
     "output_type": "stream",
     "text": [
      "Early stopping at epoch 10\n"
     ]
    },
    {
     "name": "stderr",
     "output_type": "stream",
     "text": [
      "[I 2024-09-12 21:44:11,747] Trial 40 finished with value: 0.13387782871723175 and parameters: {'out_channels': 61, 'kernel_size': 3, 'num_blocks': 1, 'l2_lambda': 0.004146238087308329, 'dropout_rate': 0.3690873254157914, 'lr': 0.0067411529793004864}. Best is trial 16 with value: 0.00789302121847868.\n"
     ]
    },
    {
     "name": "stdout",
     "output_type": "stream",
     "text": [
      "Early stopping at epoch 19\n"
     ]
    },
    {
     "name": "stderr",
     "output_type": "stream",
     "text": [
      "[I 2024-09-12 21:44:12,861] Trial 41 finished with value: 0.027123596519231796 and parameters: {'out_channels': 43, 'kernel_size': 6, 'num_blocks': 1, 'l2_lambda': 0.002460558562619897, 'dropout_rate': 0.33283566804142944, 'lr': 0.005503525610305579}. Best is trial 16 with value: 0.00789302121847868.\n"
     ]
    },
    {
     "name": "stdout",
     "output_type": "stream",
     "text": [
      "Early stopping at epoch 33\n"
     ]
    },
    {
     "name": "stderr",
     "output_type": "stream",
     "text": [
      "[I 2024-09-12 21:44:13,777] Trial 42 finished with value: 0.032305434346199036 and parameters: {'out_channels': 51, 'kernel_size': 6, 'num_blocks': 1, 'l2_lambda': 0.001956295042923301, 'dropout_rate': 0.4016323860878021, 'lr': 0.007455444040809596}. Best is trial 16 with value: 0.00789302121847868.\n"
     ]
    },
    {
     "name": "stdout",
     "output_type": "stream",
     "text": [
      "Early stopping at epoch 24\n"
     ]
    },
    {
     "name": "stderr",
     "output_type": "stream",
     "text": [
      "[I 2024-09-12 21:44:15,113] Trial 43 finished with value: 0.0225796140730381 and parameters: {'out_channels': 38, 'kernel_size': 6, 'num_blocks': 1, 'l2_lambda': 0.0029870713179042073, 'dropout_rate': 0.3158310194043715, 'lr': 0.008442372303412944}. Best is trial 16 with value: 0.00789302121847868.\n"
     ]
    },
    {
     "name": "stdout",
     "output_type": "stream",
     "text": [
      "Early stopping at epoch 39\n"
     ]
    },
    {
     "name": "stderr",
     "output_type": "stream",
     "text": [
      "[I 2024-09-12 21:44:15,641] Trial 44 finished with value: 0.48354965448379517 and parameters: {'out_channels': 47, 'kernel_size': 6, 'num_blocks': 1, 'l2_lambda': 0.002426257700429175, 'dropout_rate': 0.3872567315853709, 'lr': 0.00658744943763664}. Best is trial 16 with value: 0.00789302121847868.\n"
     ]
    },
    {
     "name": "stdout",
     "output_type": "stream",
     "text": [
      "Early stopping at epoch 13\n"
     ]
    },
    {
     "name": "stderr",
     "output_type": "stream",
     "text": [
      "[I 2024-09-12 21:44:17,658] Trial 45 finished with value: 0.018978126347064972 and parameters: {'out_channels': 66, 'kernel_size': 7, 'num_blocks': 2, 'l2_lambda': 0.001218094173793678, 'dropout_rate': 0.3584387016581654, 'lr': 0.004716407505755077}. Best is trial 16 with value: 0.00789302121847868.\n"
     ]
    },
    {
     "name": "stdout",
     "output_type": "stream",
     "text": [
      "Early stopping at epoch 36\n"
     ]
    },
    {
     "name": "stderr",
     "output_type": "stream",
     "text": [
      "[I 2024-09-12 21:44:18,179] Trial 46 finished with value: 0.10598805546760559 and parameters: {'out_channels': 59, 'kernel_size': 4, 'num_blocks': 1, 'l2_lambda': 0.0052184562286269305, 'dropout_rate': 0.4718436492098403, 'lr': 0.005294888070810055}. Best is trial 16 with value: 0.00789302121847868.\n"
     ]
    },
    {
     "name": "stdout",
     "output_type": "stream",
     "text": [
      "Early stopping at epoch 14\n"
     ]
    },
    {
     "name": "stderr",
     "output_type": "stream",
     "text": [
      "[I 2024-09-12 21:44:18,659] Trial 47 finished with value: 0.2521437406539917 and parameters: {'out_channels': 27, 'kernel_size': 6, 'num_blocks': 1, 'l2_lambda': 0.00040017434550066757, 'dropout_rate': 0.42044554810795265, 'lr': 0.006079751788725756}. Best is trial 16 with value: 0.00789302121847868.\n"
     ]
    },
    {
     "name": "stdout",
     "output_type": "stream",
     "text": [
      "Early stopping at epoch 14\n"
     ]
    },
    {
     "name": "stderr",
     "output_type": "stream",
     "text": [
      "[I 2024-09-12 21:44:21,216] Trial 48 finished with value: 0.00887230783700943 and parameters: {'out_channels': 35, 'kernel_size': 4, 'num_blocks': 2, 'l2_lambda': 0.00829457344763284, 'dropout_rate': 0.2740613514555315, 'lr': 0.002934386842296207}. Best is trial 16 with value: 0.00789302121847868.\n"
     ]
    },
    {
     "name": "stdout",
     "output_type": "stream",
     "text": [
      "Early stopping at epoch 48\n"
     ]
    },
    {
     "name": "stderr",
     "output_type": "stream",
     "text": [
      "[I 2024-09-12 21:44:23,824] Trial 49 finished with value: 0.012108508497476578 and parameters: {'out_channels': 39, 'kernel_size': 4, 'num_blocks': 3, 'l2_lambda': 0.008299084737983804, 'dropout_rate': 0.1927821097865168, 'lr': 0.003093201860475965}. Best is trial 16 with value: 0.00789302121847868.\n"
     ]
    },
    {
     "name": "stdout",
     "output_type": "stream",
     "text": [
      "Early stopping at epoch 33\n"
     ]
    },
    {
     "name": "stderr",
     "output_type": "stream",
     "text": [
      "[I 2024-09-12 21:44:27,367] Trial 50 finished with value: 0.013472718186676502 and parameters: {'out_channels': 32, 'kernel_size': 4, 'num_blocks': 4, 'l2_lambda': 0.008230783521288768, 'dropout_rate': 0.1884434004845874, 'lr': 0.0030080887061106135}. Best is trial 16 with value: 0.00789302121847868.\n"
     ]
    },
    {
     "name": "stdout",
     "output_type": "stream",
     "text": [
      "Early stopping at epoch 38\n"
     ]
    },
    {
     "name": "stderr",
     "output_type": "stream",
     "text": [
      "[I 2024-09-12 21:44:28,647] Trial 51 finished with value: 0.2815071642398834 and parameters: {'out_channels': 33, 'kernel_size': 4, 'num_blocks': 4, 'l2_lambda': 0.008308057883075747, 'dropout_rate': 0.1854255813408416, 'lr': 0.0030127674814532266}. Best is trial 16 with value: 0.00789302121847868.\n"
     ]
    },
    {
     "name": "stdout",
     "output_type": "stream",
     "text": [
      "Early stopping at epoch 12\n"
     ]
    },
    {
     "name": "stderr",
     "output_type": "stream",
     "text": [
      "[I 2024-09-12 21:44:29,819] Trial 52 finished with value: 0.25564277172088623 and parameters: {'out_channels': 38, 'kernel_size': 4, 'num_blocks': 3, 'l2_lambda': 0.00918300149128512, 'dropout_rate': 0.17696255424125154, 'lr': 0.003796808818075876}. Best is trial 16 with value: 0.00789302121847868.\n"
     ]
    },
    {
     "name": "stdout",
     "output_type": "stream",
     "text": [
      "Early stopping at epoch 13\n"
     ]
    },
    {
     "name": "stderr",
     "output_type": "stream",
     "text": [
      "[I 2024-09-12 21:44:31,288] Trial 53 finished with value: 0.20427726209163666 and parameters: {'out_channels': 25, 'kernel_size': 3, 'num_blocks': 4, 'l2_lambda': 0.0072937087098798314, 'dropout_rate': 0.13877742851037114, 'lr': 0.0020605568433853575}. Best is trial 16 with value: 0.00789302121847868.\n"
     ]
    },
    {
     "name": "stdout",
     "output_type": "stream",
     "text": [
      "Early stopping at epoch 17\n"
     ]
    },
    {
     "name": "stderr",
     "output_type": "stream",
     "text": [
      "[I 2024-09-12 21:44:32,976] Trial 54 finished with value: 0.21957305073738098 and parameters: {'out_channels': 17, 'kernel_size': 4, 'num_blocks': 5, 'l2_lambda': 0.008149548554682784, 'dropout_rate': 0.2209968604574558, 'lr': 0.002470076399824786}. Best is trial 16 with value: 0.00789302121847868.\n"
     ]
    },
    {
     "name": "stdout",
     "output_type": "stream",
     "text": [
      "Early stopping at epoch 13\n"
     ]
    },
    {
     "name": "stderr",
     "output_type": "stream",
     "text": [
      "[I 2024-09-12 21:44:34,240] Trial 55 finished with value: 0.1673300862312317 and parameters: {'out_channels': 28, 'kernel_size': 4, 'num_blocks': 4, 'l2_lambda': 0.009230015060597986, 'dropout_rate': 0.20041516396461584, 'lr': 0.0031149364669433312}. Best is trial 16 with value: 0.00789302121847868.\n"
     ]
    },
    {
     "name": "stdout",
     "output_type": "stream",
     "text": [
      "Early stopping at epoch 11\n"
     ]
    },
    {
     "name": "stderr",
     "output_type": "stream",
     "text": [
      "[I 2024-09-12 21:44:35,364] Trial 56 finished with value: 0.08811606466770172 and parameters: {'out_channels': 35, 'kernel_size': 4, 'num_blocks': 3, 'l2_lambda': 0.007226051533848086, 'dropout_rate': 0.14930182815058252, 'lr': 0.0027038549706588392}. Best is trial 16 with value: 0.00789302121847868.\n"
     ]
    },
    {
     "name": "stdout",
     "output_type": "stream",
     "text": [
      "Early stopping at epoch 13\n"
     ]
    },
    {
     "name": "stderr",
     "output_type": "stream",
     "text": [
      "[I 2024-09-12 21:44:37,654] Trial 57 finished with value: 0.2849404811859131 and parameters: {'out_channels': 22, 'kernel_size': 4, 'num_blocks': 3, 'l2_lambda': 0.009933813749523021, 'dropout_rate': 0.10456168053878827, 'lr': 0.0017598691990345617}. Best is trial 16 with value: 0.00789302121847868.\n"
     ]
    },
    {
     "name": "stdout",
     "output_type": "stream",
     "text": [
      "Early stopping at epoch 30\n"
     ]
    },
    {
     "name": "stderr",
     "output_type": "stream",
     "text": [
      "[I 2024-09-12 21:44:39,119] Trial 58 finished with value: 0.033253345638513565 and parameters: {'out_channels': 105, 'kernel_size': 3, 'num_blocks': 2, 'l2_lambda': 0.00767857445603109, 'dropout_rate': 0.25564538984426094, 'lr': 0.004429420378870201}. Best is trial 16 with value: 0.00789302121847868.\n"
     ]
    },
    {
     "name": "stdout",
     "output_type": "stream",
     "text": [
      "Early stopping at epoch 23\n"
     ]
    },
    {
     "name": "stderr",
     "output_type": "stream",
     "text": [
      "[I 2024-09-12 21:44:40,759] Trial 59 finished with value: 0.07935978472232819 and parameters: {'out_channels': 78, 'kernel_size': 4, 'num_blocks': 2, 'l2_lambda': 0.005924272994339299, 'dropout_rate': 0.2105362197589693, 'lr': 0.003934305258682712}. Best is trial 16 with value: 0.00789302121847868.\n"
     ]
    },
    {
     "name": "stdout",
     "output_type": "stream",
     "text": [
      "Early stopping at epoch 28\n"
     ]
    },
    {
     "name": "stderr",
     "output_type": "stream",
     "text": [
      "[I 2024-09-12 21:44:41,497] Trial 60 finished with value: 0.2553628385066986 and parameters: {'out_channels': 42, 'kernel_size': 5, 'num_blocks': 3, 'l2_lambda': 0.006805252061057901, 'dropout_rate': 0.27826730019381946, 'lr': 0.0034107387168283484}. Best is trial 16 with value: 0.00789302121847868.\n"
     ]
    },
    {
     "name": "stdout",
     "output_type": "stream",
     "text": [
      "Early stopping at epoch 10\n"
     ]
    },
    {
     "name": "stderr",
     "output_type": "stream",
     "text": [
      "[I 2024-09-12 21:44:43,352] Trial 61 finished with value: 0.026845408603549004 and parameters: {'out_channels': 30, 'kernel_size': 4, 'num_blocks': 2, 'l2_lambda': 0.009468449794848056, 'dropout_rate': 0.24219409673932876, 'lr': 0.0029980000943146496}. Best is trial 16 with value: 0.00789302121847868.\n"
     ]
    },
    {
     "name": "stdout",
     "output_type": "stream",
     "text": [
      "Early stopping at epoch 38\n"
     ]
    },
    {
     "name": "stderr",
     "output_type": "stream",
     "text": [
      "[I 2024-09-12 21:44:44,511] Trial 62 finished with value: 0.04144278168678284 and parameters: {'out_channels': 53, 'kernel_size': 4, 'num_blocks': 2, 'l2_lambda': 0.008592057901169627, 'dropout_rate': 0.19544716653047084, 'lr': 0.004531692503202766}. Best is trial 16 with value: 0.00789302121847868.\n"
     ]
    },
    {
     "name": "stdout",
     "output_type": "stream",
     "text": [
      "Early stopping at epoch 20\n"
     ]
    },
    {
     "name": "stderr",
     "output_type": "stream",
     "text": [
      "[I 2024-09-12 21:44:45,657] Trial 63 finished with value: 0.48871099948883057 and parameters: {'out_channels': 35, 'kernel_size': 5, 'num_blocks': 5, 'l2_lambda': 0.008768336283283273, 'dropout_rate': 0.15812482959419263, 'lr': 0.0005789055019962769}. Best is trial 16 with value: 0.00789302121847868.\n"
     ]
    },
    {
     "name": "stdout",
     "output_type": "stream",
     "text": [
      "Early stopping at epoch 10\n"
     ]
    },
    {
     "name": "stderr",
     "output_type": "stream",
     "text": [
      "[I 2024-09-12 21:44:47,200] Trial 64 finished with value: 0.09843271225690842 and parameters: {'out_channels': 84, 'kernel_size': 4, 'num_blocks': 2, 'l2_lambda': 0.007742136098657723, 'dropout_rate': 0.47382103992283076, 'lr': 0.0014113265633725757}. Best is trial 16 with value: 0.00789302121847868.\n"
     ]
    },
    {
     "name": "stdout",
     "output_type": "stream",
     "text": [
      "Early stopping at epoch 24\n"
     ]
    },
    {
     "name": "stderr",
     "output_type": "stream",
     "text": [
      "[I 2024-09-12 21:44:49,612] Trial 65 finished with value: 0.03923168405890465 and parameters: {'out_channels': 91, 'kernel_size': 4, 'num_blocks': 3, 'l2_lambda': 0.003758824773813379, 'dropout_rate': 0.4387157478179223, 'lr': 0.003830376098179489}. Best is trial 16 with value: 0.00789302121847868.\n"
     ]
    },
    {
     "name": "stdout",
     "output_type": "stream",
     "text": [
      "Early stopping at epoch 29\n"
     ]
    },
    {
     "name": "stderr",
     "output_type": "stream",
     "text": [
      "[I 2024-09-12 21:44:50,575] Trial 66 finished with value: 0.020696116611361504 and parameters: {'out_channels': 46, 'kernel_size': 5, 'num_blocks': 2, 'l2_lambda': 0.004755725130143509, 'dropout_rate': 0.44363032030674976, 'lr': 0.002502106734755164}. Best is trial 16 with value: 0.00789302121847868.\n"
     ]
    },
    {
     "name": "stdout",
     "output_type": "stream",
     "text": [
      "Early stopping at epoch 19\n"
     ]
    },
    {
     "name": "stderr",
     "output_type": "stream",
     "text": [
      "[I 2024-09-12 21:44:52,469] Trial 67 finished with value: 0.012521248310804367 and parameters: {'out_channels': 40, 'kernel_size': 3, 'num_blocks': 3, 'l2_lambda': 0.008154737976357133, 'dropout_rate': 0.4128167185078965, 'lr': 0.00497249241696077}. Best is trial 16 with value: 0.00789302121847868.\n"
     ]
    },
    {
     "name": "stdout",
     "output_type": "stream",
     "text": [
      "Early stopping at epoch 31\n"
     ]
    },
    {
     "name": "stderr",
     "output_type": "stream",
     "text": [
      "[I 2024-09-12 21:44:54,285] Trial 68 finished with value: 0.0357622466981411 and parameters: {'out_channels': 72, 'kernel_size': 3, 'num_blocks': 3, 'l2_lambda': 0.008156233813706983, 'dropout_rate': 0.41126487066094236, 'lr': 0.005005921714375239}. Best is trial 16 with value: 0.00789302121847868.\n"
     ]
    },
    {
     "name": "stdout",
     "output_type": "stream",
     "text": [
      "Early stopping at epoch 25\n"
     ]
    },
    {
     "name": "stderr",
     "output_type": "stream",
     "text": [
      "[I 2024-09-12 21:44:56,935] Trial 69 finished with value: 0.0726163387298584 and parameters: {'out_channels': 41, 'kernel_size': 3, 'num_blocks': 4, 'l2_lambda': 0.006815665186325781, 'dropout_rate': 0.4605418037538215, 'lr': 0.0033927436517900084}. Best is trial 16 with value: 0.00789302121847868.\n"
     ]
    },
    {
     "name": "stdout",
     "output_type": "stream",
     "text": [
      "Early stopping at epoch 34\n"
     ]
    },
    {
     "name": "stderr",
     "output_type": "stream",
     "text": [
      "[I 2024-09-12 21:44:57,987] Trial 70 finished with value: 0.4389911890029907 and parameters: {'out_channels': 96, 'kernel_size': 3, 'num_blocks': 3, 'l2_lambda': 0.008495991545134477, 'dropout_rate': 0.434328685217015, 'lr': 0.0018239810633241713}. Best is trial 16 with value: 0.00789302121847868.\n"
     ]
    },
    {
     "name": "stdout",
     "output_type": "stream",
     "text": [
      "Early stopping at epoch 12\n"
     ]
    },
    {
     "name": "stderr",
     "output_type": "stream",
     "text": [
      "[I 2024-09-12 21:44:58,781] Trial 71 finished with value: 0.13782264292240143 and parameters: {'out_channels': 37, 'kernel_size': 4, 'num_blocks': 3, 'l2_lambda': 0.009024601940406808, 'dropout_rate': 0.3951605052982606, 'lr': 0.005100927236913412}. Best is trial 16 with value: 0.00789302121847868.\n"
     ]
    },
    {
     "name": "stdout",
     "output_type": "stream",
     "text": [
      "Early stopping at epoch 10\n"
     ]
    },
    {
     "name": "stderr",
     "output_type": "stream",
     "text": [
      "[I 2024-09-12 21:44:59,904] Trial 72 finished with value: 0.04203394427895546 and parameters: {'out_channels': 56, 'kernel_size': 3, 'num_blocks': 2, 'l2_lambda': 0.006362158823851119, 'dropout_rate': 0.41831705455074525, 'lr': 0.005697952274772151}. Best is trial 16 with value: 0.00789302121847868.\n"
     ]
    },
    {
     "name": "stdout",
     "output_type": "stream",
     "text": [
      "Early stopping at epoch 21\n"
     ]
    },
    {
     "name": "stderr",
     "output_type": "stream",
     "text": [
      "[I 2024-09-12 21:45:00,526] Trial 73 finished with value: 0.24163001775741577 and parameters: {'out_channels': 31, 'kernel_size': 5, 'num_blocks': 2, 'l2_lambda': 0.0075087841429590935, 'dropout_rate': 0.48422211889394334, 'lr': 0.004229843272253032}. Best is trial 16 with value: 0.00789302121847868.\n"
     ]
    },
    {
     "name": "stdout",
     "output_type": "stream",
     "text": [
      "Early stopping at epoch 10\n"
     ]
    },
    {
     "name": "stderr",
     "output_type": "stream",
     "text": [
      "[I 2024-09-12 21:45:04,680] Trial 74 finished with value: 0.01665746606886387 and parameters: {'out_channels': 48, 'kernel_size': 4, 'num_blocks': 4, 'l2_lambda': 0.007939148226135817, 'dropout_rate': 0.2912686357978154, 'lr': 0.004808968080458454}. Best is trial 16 with value: 0.00789302121847868.\n"
     ]
    },
    {
     "name": "stdout",
     "output_type": "stream",
     "text": [
      "Early stopping at epoch 43\n"
     ]
    },
    {
     "name": "stderr",
     "output_type": "stream",
     "text": [
      "[I 2024-09-12 21:45:05,800] Trial 75 finished with value: 0.4309822916984558 and parameters: {'out_channels': 64, 'kernel_size': 4, 'num_blocks': 3, 'l2_lambda': 0.009440331580878106, 'dropout_rate': 0.37633565237839417, 'lr': 0.003571977667464346}. Best is trial 16 with value: 0.00789302121847868.\n"
     ]
    },
    {
     "name": "stdout",
     "output_type": "stream",
     "text": [
      "Early stopping at epoch 13\n"
     ]
    },
    {
     "name": "stderr",
     "output_type": "stream",
     "text": [
      "[I 2024-09-12 21:45:07,540] Trial 76 finished with value: 0.012393675744533539 and parameters: {'out_channels': 115, 'kernel_size': 5, 'num_blocks': 1, 'l2_lambda': 0.004466530697954383, 'dropout_rate': 0.3304689227263026, 'lr': 0.0044002353574142065}. Best is trial 16 with value: 0.00789302121847868.\n"
     ]
    },
    {
     "name": "stdout",
     "output_type": "stream",
     "text": [
      "Early stopping at epoch 49\n"
     ]
    },
    {
     "name": "stderr",
     "output_type": "stream",
     "text": [
      "[I 2024-09-12 21:45:09,520] Trial 77 finished with value: 0.11688661575317383 and parameters: {'out_channels': 128, 'kernel_size': 5, 'num_blocks': 4, 'l2_lambda': 0.005099827861644108, 'dropout_rate': 0.3311524669985051, 'lr': 0.004414467683414702}. Best is trial 16 with value: 0.00789302121847868.\n"
     ]
    },
    {
     "name": "stdout",
     "output_type": "stream",
     "text": [
      "Early stopping at epoch 17\n"
     ]
    },
    {
     "name": "stderr",
     "output_type": "stream",
     "text": [
      "[I 2024-09-12 21:45:12,287] Trial 78 finished with value: 0.03969898819923401 and parameters: {'out_channels': 107, 'kernel_size': 5, 'num_blocks': 3, 'l2_lambda': 0.005672658392235781, 'dropout_rate': 0.30654647456531414, 'lr': 0.003982218859530185}. Best is trial 16 with value: 0.00789302121847868.\n"
     ]
    },
    {
     "name": "stdout",
     "output_type": "stream",
     "text": [
      "Early stopping at epoch 35\n"
     ]
    },
    {
     "name": "stderr",
     "output_type": "stream",
     "text": [
      "[I 2024-09-12 21:45:13,947] Trial 79 finished with value: 0.030159512534737587 and parameters: {'out_channels': 114, 'kernel_size': 3, 'num_blocks': 2, 'l2_lambda': 0.004246185091874045, 'dropout_rate': 0.49888329893502464, 'lr': 0.0032174929245836785}. Best is trial 16 with value: 0.00789302121847868.\n"
     ]
    },
    {
     "name": "stdout",
     "output_type": "stream",
     "text": [
      "Early stopping at epoch 30\n"
     ]
    },
    {
     "name": "stderr",
     "output_type": "stream",
     "text": [
      "[I 2024-09-12 21:45:14,840] Trial 80 finished with value: 0.060847215354442596 and parameters: {'out_channels': 116, 'kernel_size': 5, 'num_blocks': 1, 'l2_lambda': 0.0034569231890584215, 'dropout_rate': 0.2713040152048326, 'lr': 0.0028597887519635694}. Best is trial 16 with value: 0.00789302121847868.\n"
     ]
    },
    {
     "name": "stdout",
     "output_type": "stream",
     "text": [
      "Early stopping at epoch 25\n"
     ]
    },
    {
     "name": "stderr",
     "output_type": "stream",
     "text": [
      "[I 2024-09-12 21:45:15,364] Trial 81 finished with value: 0.13939450681209564 and parameters: {'out_channels': 41, 'kernel_size': 5, 'num_blocks': 1, 'l2_lambda': 0.002731800047334041, 'dropout_rate': 0.3496164284357546, 'lr': 0.005261431116899532}. Best is trial 16 with value: 0.00789302121847868.\n"
     ]
    },
    {
     "name": "stdout",
     "output_type": "stream",
     "text": [
      "Early stopping at epoch 16\n"
     ]
    },
    {
     "name": "stderr",
     "output_type": "stream",
     "text": [
      "[I 2024-09-12 21:45:16,562] Trial 82 finished with value: 0.04194284602999687 and parameters: {'out_channels': 100, 'kernel_size': 4, 'num_blocks': 1, 'l2_lambda': 0.0038440999402115034, 'dropout_rate': 0.3674376303102713, 'lr': 0.0036936760814937123}. Best is trial 16 with value: 0.00789302121847868.\n"
     ]
    },
    {
     "name": "stdout",
     "output_type": "stream",
     "text": [
      "Early stopping at epoch 34\n"
     ]
    },
    {
     "name": "stderr",
     "output_type": "stream",
     "text": [
      "[I 2024-09-12 21:45:17,065] Trial 83 finished with value: 0.1458209902048111 and parameters: {'out_channels': 118, 'kernel_size': 4, 'num_blocks': 1, 'l2_lambda': 0.003255190073675322, 'dropout_rate': 0.3906962024394482, 'lr': 0.0024182756769820573}. Best is trial 16 with value: 0.00789302121847868.\n"
     ]
    },
    {
     "name": "stdout",
     "output_type": "stream",
     "text": [
      "Early stopping at epoch 11\n"
     ]
    },
    {
     "name": "stderr",
     "output_type": "stream",
     "text": [
      "[I 2024-09-12 21:45:18,287] Trial 84 finished with value: 0.009679977782070637 and parameters: {'out_channels': 50, 'kernel_size': 5, 'num_blocks': 1, 'l2_lambda': 0.00437421832090406, 'dropout_rate': 0.16533765536891704, 'lr': 0.002102972134827747}. Best is trial 16 with value: 0.00789302121847868.\n"
     ]
    },
    {
     "name": "stdout",
     "output_type": "stream",
     "text": [
      "Early stopping at epoch 38\n"
     ]
    },
    {
     "name": "stderr",
     "output_type": "stream",
     "text": [
      "[I 2024-09-12 21:45:19,300] Trial 85 finished with value: 0.02439132146537304 and parameters: {'out_channels': 92, 'kernel_size': 5, 'num_blocks': 1, 'l2_lambda': 0.004480483118347521, 'dropout_rate': 0.17161441614431014, 'lr': 0.0010981853769012951}. Best is trial 16 with value: 0.00789302121847868.\n"
     ]
    },
    {
     "name": "stdout",
     "output_type": "stream",
     "text": [
      "Early stopping at epoch 28\n"
     ]
    },
    {
     "name": "stderr",
     "output_type": "stream",
     "text": [
      "[I 2024-09-12 21:45:21,408] Trial 86 finished with value: 0.01392282359302044 and parameters: {'out_channels': 53, 'kernel_size': 5, 'num_blocks': 2, 'l2_lambda': 0.0049285189133489735, 'dropout_rate': 0.15234123514397704, 'lr': 0.0020817465778368194}. Best is trial 16 with value: 0.00789302121847868.\n"
     ]
    },
    {
     "name": "stdout",
     "output_type": "stream",
     "text": [
      "Early stopping at epoch 41\n"
     ]
    },
    {
     "name": "stderr",
     "output_type": "stream",
     "text": [
      "[I 2024-09-12 21:45:22,292] Trial 87 finished with value: 0.01761229895055294 and parameters: {'out_channels': 45, 'kernel_size': 5, 'num_blocks': 1, 'l2_lambda': 0.00438761432565084, 'dropout_rate': 0.13227602601643385, 'lr': 0.002698872303241078}. Best is trial 16 with value: 0.00789302121847868.\n"
     ]
    },
    {
     "name": "stdout",
     "output_type": "stream",
     "text": [
      "Early stopping at epoch 27\n"
     ]
    },
    {
     "name": "stderr",
     "output_type": "stream",
     "text": [
      "[I 2024-09-12 21:45:24,817] Trial 88 finished with value: 0.016209669411182404 and parameters: {'out_channels': 68, 'kernel_size': 4, 'num_blocks': 3, 'l2_lambda': 0.008822465681897079, 'dropout_rate': 0.1847498382036032, 'lr': 0.001637407219614025}. Best is trial 16 with value: 0.00789302121847868.\n"
     ]
    },
    {
     "name": "stdout",
     "output_type": "stream",
     "text": [
      "Early stopping at epoch 31\n"
     ]
    },
    {
     "name": "stderr",
     "output_type": "stream",
     "text": [
      "[I 2024-09-12 21:45:26,087] Trial 89 finished with value: 0.05465651676058769 and parameters: {'out_channels': 111, 'kernel_size': 5, 'num_blocks': 1, 'l2_lambda': 0.00459585571305229, 'dropout_rate': 0.16149593961250755, 'lr': 0.0032990160315474605}. Best is trial 16 with value: 0.00789302121847868.\n"
     ]
    },
    {
     "name": "stdout",
     "output_type": "stream",
     "text": [
      "Early stopping at epoch 36\n"
     ]
    },
    {
     "name": "stderr",
     "output_type": "stream",
     "text": [
      "[I 2024-09-12 21:45:27,157] Trial 90 finished with value: 0.16013193130493164 and parameters: {'out_channels': 35, 'kernel_size': 4, 'num_blocks': 2, 'l2_lambda': 0.0053565430693601436, 'dropout_rate': 0.22783408419192924, 'lr': 0.00213286877585202}. Best is trial 16 with value: 0.00789302121847868.\n"
     ]
    },
    {
     "name": "stdout",
     "output_type": "stream",
     "text": [
      "Early stopping at epoch 20\n"
     ]
    },
    {
     "name": "stderr",
     "output_type": "stream",
     "text": [
      "[I 2024-09-12 21:45:28,290] Trial 91 finished with value: 0.038114581257104874 and parameters: {'out_channels': 50, 'kernel_size': 5, 'num_blocks': 2, 'l2_lambda': 0.005061859668457665, 'dropout_rate': 0.11281109190559821, 'lr': 0.001971960688019617}. Best is trial 16 with value: 0.00789302121847868.\n"
     ]
    },
    {
     "name": "stdout",
     "output_type": "stream",
     "text": [
      "Early stopping at epoch 22\n"
     ]
    },
    {
     "name": "stderr",
     "output_type": "stream",
     "text": [
      "[I 2024-09-12 21:45:28,896] Trial 92 finished with value: 0.2687135934829712 and parameters: {'out_channels': 55, 'kernel_size': 5, 'num_blocks': 2, 'l2_lambda': 0.004926200960023602, 'dropout_rate': 0.14276463390576544, 'lr': 0.0022806215084335965}. Best is trial 16 with value: 0.00789302121847868.\n"
     ]
    },
    {
     "name": "stdout",
     "output_type": "stream",
     "text": [
      "Early stopping at epoch 10\n"
     ]
    },
    {
     "name": "stderr",
     "output_type": "stream",
     "text": [
      "[I 2024-09-12 21:45:29,880] Trial 93 finished with value: 0.1047811359167099 and parameters: {'out_channels': 40, 'kernel_size': 5, 'num_blocks': 2, 'l2_lambda': 0.005576427875089054, 'dropout_rate': 0.13085663107613463, 'lr': 0.0014118323991329858}. Best is trial 16 with value: 0.00789302121847868.\n"
     ]
    },
    {
     "name": "stdout",
     "output_type": "stream",
     "text": [
      "Early stopping at epoch 19\n"
     ]
    },
    {
     "name": "stderr",
     "output_type": "stream",
     "text": [
      "[I 2024-09-12 21:45:31,692] Trial 94 finished with value: 0.03272431343793869 and parameters: {'out_channels': 60, 'kernel_size': 4, 'num_blocks': 2, 'l2_lambda': 0.00844864386717489, 'dropout_rate': 0.1513358138488431, 'lr': 0.0026259647801386136}. Best is trial 16 with value: 0.00789302121847868.\n"
     ]
    },
    {
     "name": "stdout",
     "output_type": "stream",
     "text": [
      "Early stopping at epoch 32\n"
     ]
    },
    {
     "name": "stderr",
     "output_type": "stream",
     "text": [
      "[I 2024-09-12 21:45:32,220] Trial 95 finished with value: 0.06465242803096771 and parameters: {'out_channels': 103, 'kernel_size': 5, 'num_blocks': 1, 'l2_lambda': 0.006029299724481786, 'dropout_rate': 0.20244042387026345, 'lr': 0.002954437608286578}. Best is trial 16 with value: 0.00789302121847868.\n"
     ]
    },
    {
     "name": "stdout",
     "output_type": "stream",
     "text": [
      "Early stopping at epoch 11\n"
     ]
    },
    {
     "name": "stderr",
     "output_type": "stream",
     "text": [
      "[I 2024-09-12 21:45:33,288] Trial 96 finished with value: 0.06093297153711319 and parameters: {'out_channels': 75, 'kernel_size': 5, 'num_blocks': 2, 'l2_lambda': 5.135300219786046e-05, 'dropout_rate': 0.19122538863978641, 'lr': 0.0007821754965460799}. Best is trial 16 with value: 0.00789302121847868.\n"
     ]
    },
    {
     "name": "stdout",
     "output_type": "stream",
     "text": [
      "Early stopping at epoch 17\n"
     ]
    },
    {
     "name": "stderr",
     "output_type": "stream",
     "text": [
      "[I 2024-09-12 21:45:35,868] Trial 97 finished with value: 0.011567973531782627 and parameters: {'out_channels': 58, 'kernel_size': 4, 'num_blocks': 3, 'l2_lambda': 0.0070782073612085435, 'dropout_rate': 0.46764059829802873, 'lr': 0.004096063358987263}. Best is trial 16 with value: 0.00789302121847868.\n"
     ]
    },
    {
     "name": "stdout",
     "output_type": "stream",
     "text": [
      "Early stopping at epoch 34\n"
     ]
    },
    {
     "name": "stderr",
     "output_type": "stream",
     "text": [
      "[I 2024-09-12 21:45:38,384] Trial 98 finished with value: 0.013199061155319214 and parameters: {'out_channels': 28, 'kernel_size': 4, 'num_blocks': 3, 'l2_lambda': 0.00706179217695654, 'dropout_rate': 0.46567066131213225, 'lr': 0.004141147388932493}. Best is trial 16 with value: 0.00789302121847868.\n"
     ]
    },
    {
     "name": "stdout",
     "output_type": "stream",
     "text": [
      "Early stopping at epoch 36\n"
     ]
    },
    {
     "name": "stderr",
     "output_type": "stream",
     "text": [
      "[I 2024-09-12 21:45:39,897] Trial 99 finished with value: 0.1245860606431961 and parameters: {'out_channels': 19, 'kernel_size': 4, 'num_blocks': 3, 'l2_lambda': 0.0070150415460055, 'dropout_rate': 0.4692582910916094, 'lr': 0.00427911155649207}. Best is trial 16 with value: 0.00789302121847868.\n",
      "[I 2024-09-12 21:45:39,936] A new study created in memory with name: no-name-e875ff3e-f92a-4eca-a1bd-c9dfd92e891f\n"
     ]
    },
    {
     "name": "stdout",
     "output_type": "stream",
     "text": [
      "Early stopping at epoch 20\n",
      "parameters for USDSGD=X saved to ../models/best-hyperparameters/pytorch/conv1d-regression/USDSGD=X.json\n",
      "Best model for USDSGD=X saved with RMSE: 0.00789302121847868\n"
     ]
    },
    {
     "name": "stderr",
     "output_type": "stream",
     "text": [
      "[I 2024-09-12 21:45:40,495] Trial 0 finished with value: 0.5081967213114754 and parameters: {'sequence_length': 18, 'hidden_size': 37, 'num_layers': 3, 'num_blocks': 2, 'dropout_rate': 0.2375506150956122, 'lr': 0.004723468953235271}. Best is trial 0 with value: 0.5081967213114754.\n"
     ]
    },
    {
     "name": "stdout",
     "output_type": "stream",
     "text": [
      "Early stopping at epoch 13\n"
     ]
    },
    {
     "name": "stderr",
     "output_type": "stream",
     "text": [
      "[I 2024-09-12 21:45:41,144] Trial 1 finished with value: 0.5573770491803278 and parameters: {'sequence_length': 17, 'hidden_size': 123, 'num_layers': 3, 'num_blocks': 2, 'dropout_rate': 0.32077582430063023, 'lr': 0.007528653763438604}. Best is trial 1 with value: 0.5573770491803278.\n"
     ]
    },
    {
     "name": "stdout",
     "output_type": "stream",
     "text": [
      "Early stopping at epoch 13\n"
     ]
    },
    {
     "name": "stderr",
     "output_type": "stream",
     "text": [
      "[I 2024-09-12 21:45:41,682] Trial 2 finished with value: 0.6065573770491803 and parameters: {'sequence_length': 24, 'hidden_size': 49, 'num_layers': 1, 'num_blocks': 4, 'dropout_rate': 0.23621895097056678, 'lr': 0.0027073276432546577}. Best is trial 2 with value: 0.6065573770491803.\n"
     ]
    },
    {
     "name": "stdout",
     "output_type": "stream",
     "text": [
      "Early stopping at epoch 11\n"
     ]
    },
    {
     "name": "stderr",
     "output_type": "stream",
     "text": [
      "[I 2024-09-12 21:45:42,825] Trial 3 finished with value: 0.5901639344262295 and parameters: {'sequence_length': 25, 'hidden_size': 47, 'num_layers': 1, 'num_blocks': 5, 'dropout_rate': 0.1282352620050496, 'lr': 0.008185034980224982}. Best is trial 2 with value: 0.6065573770491803.\n"
     ]
    },
    {
     "name": "stdout",
     "output_type": "stream",
     "text": [
      "Early stopping at epoch 23\n"
     ]
    },
    {
     "name": "stderr",
     "output_type": "stream",
     "text": [
      "[I 2024-09-12 21:45:43,628] Trial 4 finished with value: 0.5555555555555556 and parameters: {'sequence_length': 3, 'hidden_size': 90, 'num_layers': 2, 'num_blocks': 5, 'dropout_rate': 0.4512229720967793, 'lr': 0.008413063974506526}. Best is trial 2 with value: 0.6065573770491803.\n"
     ]
    },
    {
     "name": "stdout",
     "output_type": "stream",
     "text": [
      "Early stopping at epoch 12\n"
     ]
    },
    {
     "name": "stderr",
     "output_type": "stream",
     "text": [
      "[I 2024-09-12 21:45:44,744] Trial 5 finished with value: 0.55 and parameters: {'sequence_length': 29, 'hidden_size': 113, 'num_layers': 3, 'num_blocks': 4, 'dropout_rate': 0.3592113975767842, 'lr': 0.001413443124443622}. Best is trial 2 with value: 0.6065573770491803.\n"
     ]
    },
    {
     "name": "stdout",
     "output_type": "stream",
     "text": [
      "Early stopping at epoch 13\n"
     ]
    },
    {
     "name": "stderr",
     "output_type": "stream",
     "text": [
      "[I 2024-09-12 21:45:45,150] Trial 6 finished with value: 0.5645161290322581 and parameters: {'sequence_length': 8, 'hidden_size': 17, 'num_layers': 1, 'num_blocks': 1, 'dropout_rate': 0.10650118226319064, 'lr': 0.0003744519970376315}. Best is trial 2 with value: 0.6065573770491803.\n"
     ]
    },
    {
     "name": "stdout",
     "output_type": "stream",
     "text": [
      "Early stopping at epoch 17\n"
     ]
    },
    {
     "name": "stderr",
     "output_type": "stream",
     "text": [
      "[I 2024-09-12 21:45:45,600] Trial 7 finished with value: 0.6612903225806451 and parameters: {'sequence_length': 9, 'hidden_size': 118, 'num_layers': 1, 'num_blocks': 1, 'dropout_rate': 0.294664920066968, 'lr': 0.009311514674245819}. Best is trial 7 with value: 0.6612903225806451.\n"
     ]
    },
    {
     "name": "stdout",
     "output_type": "stream",
     "text": [
      "Early stopping at epoch 19\n"
     ]
    },
    {
     "name": "stderr",
     "output_type": "stream",
     "text": [
      "[I 2024-09-12 21:45:46,271] Trial 8 finished with value: 0.55 and parameters: {'sequence_length': 29, 'hidden_size': 103, 'num_layers': 3, 'num_blocks': 3, 'dropout_rate': 0.3485763211310763, 'lr': 0.0048714541156860075}. Best is trial 7 with value: 0.6612903225806451.\n"
     ]
    },
    {
     "name": "stdout",
     "output_type": "stream",
     "text": [
      "Early stopping at epoch 10\n"
     ]
    },
    {
     "name": "stderr",
     "output_type": "stream",
     "text": [
      "[I 2024-09-12 21:45:47,416] Trial 9 finished with value: 0.5166666666666667 and parameters: {'sequence_length': 30, 'hidden_size': 120, 'num_layers': 3, 'num_blocks': 5, 'dropout_rate': 0.17097066564162045, 'lr': 0.009116990460222109}. Best is trial 7 with value: 0.6612903225806451.\n"
     ]
    },
    {
     "name": "stdout",
     "output_type": "stream",
     "text": [
      "Early stopping at epoch 12\n"
     ]
    },
    {
     "name": "stderr",
     "output_type": "stream",
     "text": [
      "[I 2024-09-12 21:45:47,919] Trial 10 finished with value: 0.5806451612903226 and parameters: {'sequence_length': 10, 'hidden_size': 78, 'num_layers': 2, 'num_blocks': 1, 'dropout_rate': 0.4765200274501945, 'lr': 0.006500015934372185}. Best is trial 7 with value: 0.6612903225806451.\n"
     ]
    },
    {
     "name": "stdout",
     "output_type": "stream",
     "text": [
      "Early stopping at epoch 19\n"
     ]
    },
    {
     "name": "stderr",
     "output_type": "stream",
     "text": [
      "[I 2024-09-12 21:45:48,636] Trial 11 finished with value: 0.5573770491803278 and parameters: {'sequence_length': 22, 'hidden_size': 57, 'num_layers': 1, 'num_blocks': 3, 'dropout_rate': 0.24605903662352874, 'lr': 0.002853869990560426}. Best is trial 7 with value: 0.6612903225806451.\n"
     ]
    },
    {
     "name": "stdout",
     "output_type": "stream",
     "text": [
      "Early stopping at epoch 18\n"
     ]
    },
    {
     "name": "stderr",
     "output_type": "stream",
     "text": [
      "[I 2024-09-12 21:45:49,443] Trial 12 finished with value: 0.5645161290322581 and parameters: {'sequence_length': 12, 'hidden_size': 67, 'num_layers': 1, 'num_blocks': 4, 'dropout_rate': 0.24404769450037836, 'lr': 0.003322229652478627}. Best is trial 7 with value: 0.6612903225806451.\n"
     ]
    },
    {
     "name": "stdout",
     "output_type": "stream",
     "text": [
      "Early stopping at epoch 17\n"
     ]
    },
    {
     "name": "stderr",
     "output_type": "stream",
     "text": [
      "[I 2024-09-12 21:45:50,540] Trial 13 finished with value: 0.6190476190476191 and parameters: {'sequence_length': 4, 'hidden_size': 30, 'num_layers': 2, 'num_blocks': 4, 'dropout_rate': 0.40737339960040525, 'lr': 0.009942972386456795}. Best is trial 7 with value: 0.6612903225806451.\n"
     ]
    },
    {
     "name": "stdout",
     "output_type": "stream",
     "text": [
      "Early stopping at epoch 20\n"
     ]
    },
    {
     "name": "stderr",
     "output_type": "stream",
     "text": [
      "[I 2024-09-12 21:45:50,978] Trial 14 finished with value: 0.5555555555555556 and parameters: {'sequence_length': 2, 'hidden_size': 23, 'num_layers': 2, 'num_blocks': 2, 'dropout_rate': 0.41064170468393, 'lr': 0.009626391399354867}. Best is trial 7 with value: 0.6612903225806451.\n"
     ]
    },
    {
     "name": "stdout",
     "output_type": "stream",
     "text": [
      "Early stopping at epoch 11\n"
     ]
    },
    {
     "name": "stderr",
     "output_type": "stream",
     "text": [
      "[I 2024-09-12 21:45:51,958] Trial 15 finished with value: 0.6129032258064516 and parameters: {'sequence_length': 6, 'hidden_size': 81, 'num_layers': 2, 'num_blocks': 3, 'dropout_rate': 0.4071424212714424, 'lr': 0.006375544452681756}. Best is trial 7 with value: 0.6612903225806451.\n"
     ]
    },
    {
     "name": "stdout",
     "output_type": "stream",
     "text": [
      "Early stopping at epoch 20\n"
     ]
    },
    {
     "name": "stderr",
     "output_type": "stream",
     "text": [
      "[I 2024-09-12 21:45:52,373] Trial 16 finished with value: 0.532258064516129 and parameters: {'sequence_length': 13, 'hidden_size': 97, 'num_layers': 2, 'num_blocks': 1, 'dropout_rate': 0.302606729884094, 'lr': 0.009957327888634775}. Best is trial 7 with value: 0.6612903225806451.\n"
     ]
    },
    {
     "name": "stdout",
     "output_type": "stream",
     "text": [
      "Early stopping at epoch 11\n"
     ]
    },
    {
     "name": "stderr",
     "output_type": "stream",
     "text": [
      "[I 2024-09-12 21:45:53,250] Trial 17 finished with value: 0.6290322580645161 and parameters: {'sequence_length': 6, 'hidden_size': 32, 'num_layers': 1, 'num_blocks': 4, 'dropout_rate': 0.3891037060466688, 'lr': 0.006848749691385307}. Best is trial 7 with value: 0.6612903225806451.\n"
     ]
    },
    {
     "name": "stdout",
     "output_type": "stream",
     "text": [
      "Early stopping at epoch 19\n"
     ]
    },
    {
     "name": "stderr",
     "output_type": "stream",
     "text": [
      "[I 2024-09-12 21:45:53,724] Trial 18 finished with value: 0.6129032258064516 and parameters: {'sequence_length': 8, 'hidden_size': 58, 'num_layers': 1, 'num_blocks': 3, 'dropout_rate': 0.37456468108843394, 'lr': 0.00668641092574499}. Best is trial 7 with value: 0.6612903225806451.\n"
     ]
    },
    {
     "name": "stdout",
     "output_type": "stream",
     "text": [
      "Early stopping at epoch 10\n"
     ]
    },
    {
     "name": "stderr",
     "output_type": "stream",
     "text": [
      "[I 2024-09-12 21:45:54,513] Trial 19 finished with value: 0.6129032258064516 and parameters: {'sequence_length': 14, 'hidden_size': 108, 'num_layers': 1, 'num_blocks': 2, 'dropout_rate': 0.17807248350917793, 'lr': 0.007520572679240663}. Best is trial 7 with value: 0.6612903225806451.\n"
     ]
    },
    {
     "name": "stdout",
     "output_type": "stream",
     "text": [
      "Early stopping at epoch 22\n"
     ]
    },
    {
     "name": "stderr",
     "output_type": "stream",
     "text": [
      "[I 2024-09-12 21:45:55,158] Trial 20 finished with value: 0.6290322580645161 and parameters: {'sequence_length': 6, 'hidden_size': 127, 'num_layers': 1, 'num_blocks': 4, 'dropout_rate': 0.2928034843233638, 'lr': 0.0056512871657292876}. Best is trial 7 with value: 0.6612903225806451.\n"
     ]
    },
    {
     "name": "stdout",
     "output_type": "stream",
     "text": [
      "Early stopping at epoch 12\n"
     ]
    },
    {
     "name": "stderr",
     "output_type": "stream",
     "text": [
      "[I 2024-09-12 21:45:55,967] Trial 21 finished with value: 0.5967741935483871 and parameters: {'sequence_length': 6, 'hidden_size': 121, 'num_layers': 1, 'num_blocks': 4, 'dropout_rate': 0.2794660235325425, 'lr': 0.005459540278007482}. Best is trial 7 with value: 0.6612903225806451.\n"
     ]
    },
    {
     "name": "stdout",
     "output_type": "stream",
     "text": [
      "Early stopping at epoch 16\n"
     ]
    },
    {
     "name": "stderr",
     "output_type": "stream",
     "text": [
      "[I 2024-09-12 21:45:56,640] Trial 22 finished with value: 0.532258064516129 and parameters: {'sequence_length': 10, 'hidden_size': 127, 'num_layers': 1, 'num_blocks': 4, 'dropout_rate': 0.2768641521041357, 'lr': 0.005606809032026788}. Best is trial 7 with value: 0.6612903225806451.\n"
     ]
    },
    {
     "name": "stdout",
     "output_type": "stream",
     "text": [
      "Early stopping at epoch 12\n"
     ]
    },
    {
     "name": "stderr",
     "output_type": "stream",
     "text": [
      "[I 2024-09-12 21:45:57,861] Trial 23 finished with value: 0.6129032258064516 and parameters: {'sequence_length': 6, 'hidden_size': 91, 'num_layers': 1, 'num_blocks': 5, 'dropout_rate': 0.32787366595569595, 'lr': 0.003748381047397155}. Best is trial 7 with value: 0.6612903225806451.\n"
     ]
    },
    {
     "name": "stdout",
     "output_type": "stream",
     "text": [
      "Early stopping at epoch 23\n"
     ]
    },
    {
     "name": "stderr",
     "output_type": "stream",
     "text": [
      "[I 2024-09-12 21:45:58,557] Trial 24 finished with value: 0.5483870967741935 and parameters: {'sequence_length': 10, 'hidden_size': 113, 'num_layers': 1, 'num_blocks': 4, 'dropout_rate': 0.19698292491239106, 'lr': 0.007481487922527242}. Best is trial 7 with value: 0.6612903225806451.\n"
     ]
    },
    {
     "name": "stdout",
     "output_type": "stream",
     "text": [
      "Early stopping at epoch 13\n"
     ]
    },
    {
     "name": "stderr",
     "output_type": "stream",
     "text": [
      "[I 2024-09-12 21:45:59,246] Trial 25 finished with value: 0.5555555555555556 and parameters: {'sequence_length': 5, 'hidden_size': 69, 'num_layers': 1, 'num_blocks': 3, 'dropout_rate': 0.3810329538661495, 'lr': 0.00848635633116415}. Best is trial 7 with value: 0.6612903225806451.\n"
     ]
    },
    {
     "name": "stdout",
     "output_type": "stream",
     "text": [
      "Early stopping at epoch 17\n"
     ]
    },
    {
     "name": "stderr",
     "output_type": "stream",
     "text": [
      "[I 2024-09-12 21:45:59,934] Trial 26 finished with value: 0.6129032258064516 and parameters: {'sequence_length': 8, 'hidden_size': 100, 'num_layers': 2, 'num_blocks': 3, 'dropout_rate': 0.2889168760984595, 'lr': 0.005880715835372479}. Best is trial 7 with value: 0.6612903225806451.\n"
     ]
    },
    {
     "name": "stdout",
     "output_type": "stream",
     "text": [
      "Early stopping at epoch 13\n"
     ]
    },
    {
     "name": "stderr",
     "output_type": "stream",
     "text": [
      "[I 2024-09-12 21:46:01,251] Trial 27 finished with value: 0.6031746031746031 and parameters: {'sequence_length': 2, 'hidden_size': 39, 'num_layers': 1, 'num_blocks': 5, 'dropout_rate': 0.45239263108504857, 'lr': 0.004199487698694836}. Best is trial 7 with value: 0.6612903225806451.\n"
     ]
    },
    {
     "name": "stdout",
     "output_type": "stream",
     "text": [
      "Early stopping at epoch 25\n"
     ]
    },
    {
     "name": "stderr",
     "output_type": "stream",
     "text": [
      "[I 2024-09-12 21:46:02,472] Trial 28 finished with value: 0.6451612903225806 and parameters: {'sequence_length': 15, 'hidden_size': 84, 'num_layers': 1, 'num_blocks': 4, 'dropout_rate': 0.3371076510456041, 'lr': 0.007169275060596083}. Best is trial 7 with value: 0.6612903225806451.\n"
     ]
    },
    {
     "name": "stdout",
     "output_type": "stream",
     "text": [
      "Early stopping at epoch 25\n"
     ]
    },
    {
     "name": "stderr",
     "output_type": "stream",
     "text": [
      "[I 2024-09-12 21:46:03,161] Trial 29 finished with value: 0.5737704918032787 and parameters: {'sequence_length': 20, 'hidden_size': 82, 'num_layers': 2, 'num_blocks': 2, 'dropout_rate': 0.33368463154124656, 'lr': 0.009079263261880771}. Best is trial 7 with value: 0.6612903225806451.\n"
     ]
    },
    {
     "name": "stdout",
     "output_type": "stream",
     "text": [
      "Early stopping at epoch 16\n"
     ]
    },
    {
     "name": "stderr",
     "output_type": "stream",
     "text": [
      "[I 2024-09-12 21:46:03,508] Trial 30 finished with value: 0.6290322580645161 and parameters: {'sequence_length': 15, 'hidden_size': 36, 'num_layers': 1, 'num_blocks': 1, 'dropout_rate': 0.4392271205063229, 'lr': 0.0068966410280348125}. Best is trial 7 with value: 0.6612903225806451.\n"
     ]
    },
    {
     "name": "stdout",
     "output_type": "stream",
     "text": [
      "Early stopping at epoch 12\n"
     ]
    },
    {
     "name": "stderr",
     "output_type": "stream",
     "text": [
      "[I 2024-09-12 21:46:04,135] Trial 31 finished with value: 0.5081967213114754 and parameters: {'sequence_length': 19, 'hidden_size': 113, 'num_layers': 1, 'num_blocks': 4, 'dropout_rate': 0.3099455980377359, 'lr': 0.004649849246190511}. Best is trial 7 with value: 0.6612903225806451.\n"
     ]
    },
    {
     "name": "stdout",
     "output_type": "stream",
     "text": [
      "Early stopping at epoch 10\n"
     ]
    },
    {
     "name": "stderr",
     "output_type": "stream",
     "text": [
      "[I 2024-09-12 21:46:04,896] Trial 32 finished with value: 0.5573770491803278 and parameters: {'sequence_length': 16, 'hidden_size': 127, 'num_layers': 1, 'num_blocks': 4, 'dropout_rate': 0.3821323986161289, 'lr': 0.007369710986838132}. Best is trial 7 with value: 0.6612903225806451.\n"
     ]
    },
    {
     "name": "stdout",
     "output_type": "stream",
     "text": [
      "Early stopping at epoch 14\n"
     ]
    },
    {
     "name": "stderr",
     "output_type": "stream",
     "text": [
      "[I 2024-09-12 21:46:05,354] Trial 33 finished with value: 0.5 and parameters: {'sequence_length': 12, 'hidden_size': 90, 'num_layers': 1, 'num_blocks': 3, 'dropout_rate': 0.2624544109383138, 'lr': 0.00789638135017758}. Best is trial 7 with value: 0.6612903225806451.\n"
     ]
    },
    {
     "name": "stdout",
     "output_type": "stream",
     "text": [
      "Early stopping at epoch 10\n"
     ]
    },
    {
     "name": "stderr",
     "output_type": "stream",
     "text": [
      "[I 2024-09-12 21:46:06,635] Trial 34 finished with value: 0.5901639344262295 and parameters: {'sequence_length': 17, 'hidden_size': 61, 'num_layers': 1, 'num_blocks': 4, 'dropout_rate': 0.2258887991579166, 'lr': 0.0059078848402943284}. Best is trial 7 with value: 0.6612903225806451.\n"
     ]
    },
    {
     "name": "stdout",
     "output_type": "stream",
     "text": [
      "Early stopping at epoch 28\n"
     ]
    },
    {
     "name": "stderr",
     "output_type": "stream",
     "text": [
      "[I 2024-09-12 21:46:07,252] Trial 35 finished with value: 0.6129032258064516 and parameters: {'sequence_length': 8, 'hidden_size': 48, 'num_layers': 1, 'num_blocks': 5, 'dropout_rate': 0.3472660833037795, 'lr': 0.00887161396453745}. Best is trial 7 with value: 0.6612903225806451.\n"
     ]
    },
    {
     "name": "stdout",
     "output_type": "stream",
     "text": [
      "Early stopping at epoch 10\n"
     ]
    },
    {
     "name": "stderr",
     "output_type": "stream",
     "text": [
      "[I 2024-09-12 21:46:08,134] Trial 36 finished with value: 0.6190476190476191 and parameters: {'sequence_length': 4, 'hidden_size': 117, 'num_layers': 1, 'num_blocks': 4, 'dropout_rate': 0.31184353784892405, 'lr': 0.007086004903094459}. Best is trial 7 with value: 0.6612903225806451.\n"
     ]
    },
    {
     "name": "stdout",
     "output_type": "stream",
     "text": [
      "Early stopping at epoch 17\n"
     ]
    },
    {
     "name": "stderr",
     "output_type": "stream",
     "text": [
      "[I 2024-09-12 21:46:09,273] Trial 37 finished with value: 0.532258064516129 and parameters: {'sequence_length': 11, 'hidden_size': 106, 'num_layers': 1, 'num_blocks': 5, 'dropout_rate': 0.3636542632115051, 'lr': 0.0052134930226954935}. Best is trial 7 with value: 0.6612903225806451.\n"
     ]
    },
    {
     "name": "stdout",
     "output_type": "stream",
     "text": [
      "Early stopping at epoch 18\n"
     ]
    },
    {
     "name": "stderr",
     "output_type": "stream",
     "text": [
      "[I 2024-09-12 21:46:09,954] Trial 38 finished with value: 0.5645161290322581 and parameters: {'sequence_length': 9, 'hidden_size': 128, 'num_layers': 2, 'num_blocks': 4, 'dropout_rate': 0.33912270159717645, 'lr': 0.008039474179162072}. Best is trial 7 with value: 0.6612903225806451.\n"
     ]
    },
    {
     "name": "stdout",
     "output_type": "stream",
     "text": [
      "Early stopping at epoch 10\n"
     ]
    },
    {
     "name": "stderr",
     "output_type": "stream",
     "text": [
      "[I 2024-09-12 21:46:11,019] Trial 39 finished with value: 0.6290322580645161 and parameters: {'sequence_length': 7, 'hidden_size': 76, 'num_layers': 1, 'num_blocks': 5, 'dropout_rate': 0.223066339282811, 'lr': 0.00457574172075469}. Best is trial 7 with value: 0.6612903225806451.\n"
     ]
    },
    {
     "name": "stdout",
     "output_type": "stream",
     "text": [
      "Early stopping at epoch 21\n"
     ]
    },
    {
     "name": "stderr",
     "output_type": "stream",
     "text": [
      "[I 2024-09-12 21:46:11,589] Trial 40 finished with value: 0.5873015873015873 and parameters: {'sequence_length': 4, 'hidden_size': 96, 'num_layers': 1, 'num_blocks': 2, 'dropout_rate': 0.2627980150856271, 'lr': 0.006183601918845999}. Best is trial 7 with value: 0.6612903225806451.\n"
     ]
    },
    {
     "name": "stdout",
     "output_type": "stream",
     "text": [
      "Early stopping at epoch 18\n"
     ]
    },
    {
     "name": "stderr",
     "output_type": "stream",
     "text": [
      "[I 2024-09-12 21:46:11,893] Trial 41 finished with value: 0.5806451612903226 and parameters: {'sequence_length': 14, 'hidden_size': 40, 'num_layers': 1, 'num_blocks': 1, 'dropout_rate': 0.43619955950770584, 'lr': 0.0069525471413801835}. Best is trial 7 with value: 0.6612903225806451.\n"
     ]
    },
    {
     "name": "stdout",
     "output_type": "stream",
     "text": [
      "Early stopping at epoch 10\n"
     ]
    },
    {
     "name": "stderr",
     "output_type": "stream",
     "text": [
      "[I 2024-09-12 21:46:12,230] Trial 42 finished with value: 0.6290322580645161 and parameters: {'sequence_length': 15, 'hidden_size': 34, 'num_layers': 1, 'num_blocks': 1, 'dropout_rate': 0.496572085863105, 'lr': 0.006847269249997761}. Best is trial 7 with value: 0.6612903225806451.\n"
     ]
    },
    {
     "name": "stdout",
     "output_type": "stream",
     "text": [
      "Early stopping at epoch 11\n"
     ]
    },
    {
     "name": "stderr",
     "output_type": "stream",
     "text": [
      "[I 2024-09-12 21:46:12,552] Trial 43 finished with value: 0.5666666666666667 and parameters: {'sequence_length': 26, 'hidden_size': 26, 'num_layers': 1, 'num_blocks': 1, 'dropout_rate': 0.4350045258769273, 'lr': 0.008409225143368716}. Best is trial 7 with value: 0.6612903225806451.\n"
     ]
    },
    {
     "name": "stdout",
     "output_type": "stream",
     "text": [
      "Early stopping at epoch 10\n"
     ]
    },
    {
     "name": "stderr",
     "output_type": "stream",
     "text": [
      "[I 2024-09-12 21:46:12,984] Trial 44 finished with value: 0.5573770491803278 and parameters: {'sequence_length': 18, 'hidden_size': 43, 'num_layers': 1, 'num_blocks': 1, 'dropout_rate': 0.4683177124622652, 'lr': 0.007919455690858654}. Best is trial 7 with value: 0.6612903225806451.\n"
     ]
    },
    {
     "name": "stdout",
     "output_type": "stream",
     "text": [
      "Early stopping at epoch 15\n"
     ]
    },
    {
     "name": "stderr",
     "output_type": "stream",
     "text": [
      "[I 2024-09-12 21:46:13,388] Trial 45 finished with value: 0.5081967213114754 and parameters: {'sequence_length': 22, 'hidden_size': 20, 'num_layers': 1, 'num_blocks': 2, 'dropout_rate': 0.4217060530706181, 'lr': 0.006252080485316532}. Best is trial 7 with value: 0.6612903225806451.\n"
     ]
    },
    {
     "name": "stdout",
     "output_type": "stream",
     "text": [
      "Early stopping at epoch 10\n"
     ]
    },
    {
     "name": "stderr",
     "output_type": "stream",
     "text": [
      "[I 2024-09-12 21:46:14,866] Trial 46 finished with value: 0.6229508196721312 and parameters: {'sequence_length': 16, 'hidden_size': 33, 'num_layers': 3, 'num_blocks': 3, 'dropout_rate': 0.3173730410298562, 'lr': 0.001849285014058909}. Best is trial 7 with value: 0.6612903225806451.\n"
     ]
    },
    {
     "name": "stdout",
     "output_type": "stream",
     "text": [
      "Early stopping at epoch 29\n"
     ]
    },
    {
     "name": "stderr",
     "output_type": "stream",
     "text": [
      "[I 2024-09-12 21:46:15,226] Trial 47 finished with value: 0.5483870967741935 and parameters: {'sequence_length': 12, 'hidden_size': 53, 'num_layers': 1, 'num_blocks': 1, 'dropout_rate': 0.40072478475736933, 'lr': 0.0050112866880424}. Best is trial 7 with value: 0.6612903225806451.\n"
     ]
    },
    {
     "name": "stdout",
     "output_type": "stream",
     "text": [
      "Early stopping at epoch 12\n"
     ]
    },
    {
     "name": "stderr",
     "output_type": "stream",
     "text": [
      "[I 2024-09-12 21:46:16,328] Trial 48 finished with value: 0.5409836065573771 and parameters: {'sequence_length': 21, 'hidden_size': 65, 'num_layers': 2, 'num_blocks': 4, 'dropout_rate': 0.3654978821463225, 'lr': 0.009349808859323797}. Best is trial 7 with value: 0.6612903225806451.\n"
     ]
    },
    {
     "name": "stdout",
     "output_type": "stream",
     "text": [
      "Early stopping at epoch 18\n"
     ]
    },
    {
     "name": "stderr",
     "output_type": "stream",
     "text": [
      "[I 2024-09-12 21:46:16,866] Trial 49 finished with value: 0.6451612903225806 and parameters: {'sequence_length': 9, 'hidden_size': 17, 'num_layers': 1, 'num_blocks': 2, 'dropout_rate': 0.38788441170077875, 'lr': 0.00869416932643159}. Best is trial 7 with value: 0.6612903225806451.\n"
     ]
    },
    {
     "name": "stdout",
     "output_type": "stream",
     "text": [
      "Early stopping at epoch 16\n"
     ]
    },
    {
     "name": "stderr",
     "output_type": "stream",
     "text": [
      "[I 2024-09-12 21:46:17,577] Trial 50 finished with value: 0.6129032258064516 and parameters: {'sequence_length': 7, 'hidden_size': 16, 'num_layers': 2, 'num_blocks': 2, 'dropout_rate': 0.2918078511299082, 'lr': 0.008584435018426076}. Best is trial 7 with value: 0.6612903225806451.\n"
     ]
    },
    {
     "name": "stdout",
     "output_type": "stream",
     "text": [
      "Early stopping at epoch 19\n"
     ]
    },
    {
     "name": "stderr",
     "output_type": "stream",
     "text": [
      "[I 2024-09-12 21:46:17,899] Trial 51 finished with value: 0.4838709677419355 and parameters: {'sequence_length': 10, 'hidden_size': 27, 'num_layers': 1, 'num_blocks': 1, 'dropout_rate': 0.39142702260458623, 'lr': 5.862506434884795e-05}. Best is trial 7 with value: 0.6612903225806451.\n"
     ]
    },
    {
     "name": "stdout",
     "output_type": "stream",
     "text": [
      "Early stopping at epoch 10\n"
     ]
    },
    {
     "name": "stderr",
     "output_type": "stream",
     "text": [
      "[I 2024-09-12 21:46:18,486] Trial 52 finished with value: 0.5967741935483871 and parameters: {'sequence_length': 13, 'hidden_size': 22, 'num_layers': 1, 'num_blocks': 2, 'dropout_rate': 0.354748087099671, 'lr': 0.009403657841491192}. Best is trial 7 with value: 0.6612903225806451.\n"
     ]
    },
    {
     "name": "stdout",
     "output_type": "stream",
     "text": [
      "Early stopping at epoch 17\n"
     ]
    },
    {
     "name": "stderr",
     "output_type": "stream",
     "text": [
      "[I 2024-09-12 21:46:18,911] Trial 53 finished with value: 0.6190476190476191 and parameters: {'sequence_length': 3, 'hidden_size': 44, 'num_layers': 1, 'num_blocks': 1, 'dropout_rate': 0.4435120889802822, 'lr': 0.006589670726183788}. Best is trial 7 with value: 0.6612903225806451.\n"
     ]
    },
    {
     "name": "stdout",
     "output_type": "stream",
     "text": [
      "Early stopping at epoch 15\n"
     ]
    },
    {
     "name": "stderr",
     "output_type": "stream",
     "text": [
      "[I 2024-09-12 21:46:19,374] Trial 54 finished with value: 0.5079365079365079 and parameters: {'sequence_length': 5, 'hidden_size': 29, 'num_layers': 1, 'num_blocks': 3, 'dropout_rate': 0.41697590520003336, 'lr': 0.007244055231377452}. Best is trial 7 with value: 0.6612903225806451.\n"
     ]
    },
    {
     "name": "stdout",
     "output_type": "stream",
     "text": [
      "Early stopping at epoch 10\n"
     ]
    },
    {
     "name": "stderr",
     "output_type": "stream",
     "text": [
      "[I 2024-09-12 21:46:19,728] Trial 55 finished with value: 0.5645161290322581 and parameters: {'sequence_length': 9, 'hidden_size': 118, 'num_layers': 1, 'num_blocks': 1, 'dropout_rate': 0.3931689362213902, 'lr': 0.00774830678034406}. Best is trial 7 with value: 0.6612903225806451.\n"
     ]
    },
    {
     "name": "stdout",
     "output_type": "stream",
     "text": [
      "Early stopping at epoch 10\n"
     ]
    },
    {
     "name": "stderr",
     "output_type": "stream",
     "text": [
      "[I 2024-09-12 21:46:20,153] Trial 56 finished with value: 0.5 and parameters: {'sequence_length': 11, 'hidden_size': 53, 'num_layers': 1, 'num_blocks': 2, 'dropout_rate': 0.3214638172249673, 'lr': 0.008749720981833667}. Best is trial 7 with value: 0.6612903225806451.\n"
     ]
    },
    {
     "name": "stdout",
     "output_type": "stream",
     "text": [
      "Early stopping at epoch 10\n"
     ]
    },
    {
     "name": "stderr",
     "output_type": "stream",
     "text": [
      "[I 2024-09-12 21:46:21,016] Trial 57 finished with value: 0.5967741935483871 and parameters: {'sequence_length': 7, 'hidden_size': 108, 'num_layers': 1, 'num_blocks': 4, 'dropout_rate': 0.46051534698188473, 'lr': 0.009605680953415551}. Best is trial 7 with value: 0.6612903225806451.\n"
     ]
    },
    {
     "name": "stdout",
     "output_type": "stream",
     "text": [
      "Early stopping at epoch 15\n"
     ]
    },
    {
     "name": "stderr",
     "output_type": "stream",
     "text": [
      "[I 2024-09-12 21:46:21,492] Trial 58 finished with value: 0.5806451612903226 and parameters: {'sequence_length': 14, 'hidden_size': 34, 'num_layers': 1, 'num_blocks': 2, 'dropout_rate': 0.4249497467728398, 'lr': 0.005873098799148956}. Best is trial 7 with value: 0.6612903225806451.\n"
     ]
    },
    {
     "name": "stdout",
     "output_type": "stream",
     "text": [
      "Early stopping at epoch 13\n"
     ]
    },
    {
     "name": "stderr",
     "output_type": "stream",
     "text": [
      "[I 2024-09-12 21:46:22,111] Trial 59 finished with value: 0.5079365079365079 and parameters: {'sequence_length': 5, 'hidden_size': 124, 'num_layers': 1, 'num_blocks': 3, 'dropout_rate': 0.13330905197126525, 'lr': 0.008214476943418297}. Best is trial 7 with value: 0.6612903225806451.\n"
     ]
    },
    {
     "name": "stdout",
     "output_type": "stream",
     "text": [
      "Early stopping at epoch 13\n"
     ]
    },
    {
     "name": "stderr",
     "output_type": "stream",
     "text": [
      "[I 2024-09-12 21:46:22,611] Trial 60 finished with value: 0.5901639344262295 and parameters: {'sequence_length': 17, 'hidden_size': 25, 'num_layers': 1, 'num_blocks': 1, 'dropout_rate': 0.48814148330904705, 'lr': 0.006546091384311703}. Best is trial 7 with value: 0.6612903225806451.\n"
     ]
    },
    {
     "name": "stdout",
     "output_type": "stream",
     "text": [
      "Early stopping at epoch 17\n"
     ]
    },
    {
     "name": "stderr",
     "output_type": "stream",
     "text": [
      "[I 2024-09-12 21:46:23,226] Trial 61 finished with value: 0.5645161290322581 and parameters: {'sequence_length': 7, 'hidden_size': 75, 'num_layers': 1, 'num_blocks': 5, 'dropout_rate': 0.19426266015011076, 'lr': 0.004485744028187667}. Best is trial 7 with value: 0.6612903225806451.\n"
     ]
    },
    {
     "name": "stdout",
     "output_type": "stream",
     "text": [
      "Early stopping at epoch 10\n"
     ]
    },
    {
     "name": "stderr",
     "output_type": "stream",
     "text": [
      "[I 2024-09-12 21:46:24,113] Trial 62 finished with value: 0.5806451612903226 and parameters: {'sequence_length': 9, 'hidden_size': 83, 'num_layers': 1, 'num_blocks': 5, 'dropout_rate': 0.2228758843309662, 'lr': 0.0038619751935253317}. Best is trial 7 with value: 0.6612903225806451.\n"
     ]
    },
    {
     "name": "stdout",
     "output_type": "stream",
     "text": [
      "Early stopping at epoch 15\n"
     ]
    },
    {
     "name": "stderr",
     "output_type": "stream",
     "text": [
      "[I 2024-09-12 21:46:25,203] Trial 63 finished with value: 0.5806451612903226 and parameters: {'sequence_length': 6, 'hidden_size': 72, 'num_layers': 1, 'num_blocks': 5, 'dropout_rate': 0.1521306495068636, 'lr': 0.005399171944263058}. Best is trial 7 with value: 0.6612903225806451.\n"
     ]
    },
    {
     "name": "stdout",
     "output_type": "stream",
     "text": [
      "Early stopping at epoch 20\n"
     ]
    },
    {
     "name": "stderr",
     "output_type": "stream",
     "text": [
      "[I 2024-09-12 21:46:26,107] Trial 64 finished with value: 0.5873015873015873 and parameters: {'sequence_length': 3, 'hidden_size': 85, 'num_layers': 1, 'num_blocks': 4, 'dropout_rate': 0.2681990886783884, 'lr': 0.005653234084162242}. Best is trial 7 with value: 0.6612903225806451.\n"
     ]
    },
    {
     "name": "stdout",
     "output_type": "stream",
     "text": [
      "Early stopping at epoch 17\n"
     ]
    },
    {
     "name": "stderr",
     "output_type": "stream",
     "text": [
      "[I 2024-09-12 21:46:26,892] Trial 65 finished with value: 0.5806451612903226 and parameters: {'sequence_length': 11, 'hidden_size': 123, 'num_layers': 1, 'num_blocks': 3, 'dropout_rate': 0.3718918969807696, 'lr': 0.0032416636784534233}. Best is trial 7 with value: 0.6612903225806451.\n"
     ]
    },
    {
     "name": "stdout",
     "output_type": "stream",
     "text": [
      "Early stopping at epoch 15\n"
     ]
    },
    {
     "name": "stderr",
     "output_type": "stream",
     "text": [
      "[I 2024-09-12 21:46:27,901] Trial 66 finished with value: 0.5645161290322581 and parameters: {'sequence_length': 7, 'hidden_size': 77, 'num_layers': 3, 'num_blocks': 5, 'dropout_rate': 0.29880216307126567, 'lr': 0.007641671988466149}. Best is trial 7 with value: 0.6612903225806451.\n"
     ]
    },
    {
     "name": "stdout",
     "output_type": "stream",
     "text": [
      "Early stopping at epoch 13\n"
     ]
    },
    {
     "name": "stderr",
     "output_type": "stream",
     "text": [
      "[I 2024-09-12 21:46:28,756] Trial 67 finished with value: 0.6290322580645161 and parameters: {'sequence_length': 8, 'hidden_size': 19, 'num_layers': 1, 'num_blocks': 4, 'dropout_rate': 0.24787312653389101, 'lr': 0.004939934528335342}. Best is trial 7 with value: 0.6612903225806451.\n"
     ]
    },
    {
     "name": "stdout",
     "output_type": "stream",
     "text": [
      "Early stopping at epoch 18\n"
     ]
    },
    {
     "name": "stderr",
     "output_type": "stream",
     "text": [
      "[I 2024-09-12 21:46:29,421] Trial 68 finished with value: 0.6612903225806451 and parameters: {'sequence_length': 15, 'hidden_size': 62, 'num_layers': 1, 'num_blocks': 4, 'dropout_rate': 0.33828586563327157, 'lr': 0.006157235534315389}. Best is trial 7 with value: 0.6612903225806451.\n"
     ]
    },
    {
     "name": "stdout",
     "output_type": "stream",
     "text": [
      "Early stopping at epoch 11\n"
     ]
    },
    {
     "name": "stderr",
     "output_type": "stream",
     "text": [
      "[I 2024-09-12 21:46:30,709] Trial 69 finished with value: 0.6774193548387096 and parameters: {'sequence_length': 15, 'hidden_size': 53, 'num_layers': 1, 'num_blocks': 4, 'dropout_rate': 0.34102044450970886, 'lr': 0.006863512271887355}. Best is trial 69 with value: 0.6774193548387096.\n"
     ]
    },
    {
     "name": "stdout",
     "output_type": "stream",
     "text": [
      "Early stopping at epoch 26\n"
     ]
    },
    {
     "name": "stderr",
     "output_type": "stream",
     "text": [
      "[I 2024-09-12 21:46:31,427] Trial 70 finished with value: 0.5737704918032787 and parameters: {'sequence_length': 18, 'hidden_size': 61, 'num_layers': 1, 'num_blocks': 4, 'dropout_rate': 0.3493116648797515, 'lr': 0.006024609903343568}. Best is trial 69 with value: 0.6774193548387096.\n"
     ]
    },
    {
     "name": "stdout",
     "output_type": "stream",
     "text": [
      "Early stopping at epoch 12\n"
     ]
    },
    {
     "name": "stderr",
     "output_type": "stream",
     "text": [
      "[I 2024-09-12 21:46:32,118] Trial 71 finished with value: 0.6129032258064516 and parameters: {'sequence_length': 15, 'hidden_size': 53, 'num_layers': 1, 'num_blocks': 4, 'dropout_rate': 0.34565514564842525, 'lr': 0.00714210447156373}. Best is trial 69 with value: 0.6774193548387096.\n"
     ]
    },
    {
     "name": "stdout",
     "output_type": "stream",
     "text": [
      "Early stopping at epoch 12\n"
     ]
    },
    {
     "name": "stderr",
     "output_type": "stream",
     "text": [
      "[I 2024-09-12 21:46:32,947] Trial 72 finished with value: 0.6774193548387096 and parameters: {'sequence_length': 15, 'hidden_size': 44, 'num_layers': 1, 'num_blocks': 4, 'dropout_rate': 0.33292047855175577, 'lr': 0.006406523257712153}. Best is trial 69 with value: 0.6774193548387096.\n"
     ]
    },
    {
     "name": "stdout",
     "output_type": "stream",
     "text": [
      "Early stopping at epoch 16\n"
     ]
    },
    {
     "name": "stderr",
     "output_type": "stream",
     "text": [
      "[I 2024-09-12 21:46:34,187] Trial 73 finished with value: 0.5806451612903226 and parameters: {'sequence_length': 13, 'hidden_size': 57, 'num_layers': 1, 'num_blocks': 4, 'dropout_rate': 0.33576144720545686, 'lr': 0.0064303290226842245}. Best is trial 69 with value: 0.6774193548387096.\n"
     ]
    },
    {
     "name": "stdout",
     "output_type": "stream",
     "text": [
      "Early stopping at epoch 25\n"
     ]
    },
    {
     "name": "stderr",
     "output_type": "stream",
     "text": [
      "[I 2024-09-12 21:46:34,919] Trial 74 finished with value: 0.5806451612903226 and parameters: {'sequence_length': 14, 'hidden_size': 50, 'num_layers': 1, 'num_blocks': 4, 'dropout_rate': 0.30320622049785917, 'lr': 0.006827466221358782}. Best is trial 69 with value: 0.6774193548387096.\n"
     ]
    },
    {
     "name": "stdout",
     "output_type": "stream",
     "text": [
      "Early stopping at epoch 13\n"
     ]
    },
    {
     "name": "stderr",
     "output_type": "stream",
     "text": [
      "[I 2024-09-12 21:46:35,688] Trial 75 finished with value: 0.5081967213114754 and parameters: {'sequence_length': 18, 'hidden_size': 62, 'num_layers': 1, 'num_blocks': 4, 'dropout_rate': 0.3275966922706262, 'lr': 0.0074060180386206695}. Best is trial 69 with value: 0.6774193548387096.\n"
     ]
    },
    {
     "name": "stdout",
     "output_type": "stream",
     "text": [
      "Early stopping at epoch 13\n"
     ]
    },
    {
     "name": "stderr",
     "output_type": "stream",
     "text": [
      "[I 2024-09-12 21:46:36,748] Trial 76 finished with value: 0.5901639344262295 and parameters: {'sequence_length': 16, 'hidden_size': 40, 'num_layers': 1, 'num_blocks': 4, 'dropout_rate': 0.28219325403681444, 'lr': 0.005629409111153717}. Best is trial 69 with value: 0.6774193548387096.\n"
     ]
    },
    {
     "name": "stdout",
     "output_type": "stream",
     "text": [
      "Early stopping at epoch 22\n"
     ]
    },
    {
     "name": "stderr",
     "output_type": "stream",
     "text": [
      "[I 2024-09-12 21:46:37,541] Trial 77 finished with value: 0.6612903225806451 and parameters: {'sequence_length': 15, 'hidden_size': 46, 'num_layers': 1, 'num_blocks': 4, 'dropout_rate': 0.3851117887632254, 'lr': 0.00898907368047484}. Best is trial 69 with value: 0.6774193548387096.\n"
     ]
    },
    {
     "name": "stdout",
     "output_type": "stream",
     "text": [
      "Early stopping at epoch 15\n"
     ]
    },
    {
     "name": "stderr",
     "output_type": "stream",
     "text": [
      "[I 2024-09-12 21:46:38,422] Trial 78 finished with value: 0.6451612903225806 and parameters: {'sequence_length': 15, 'hidden_size': 46, 'num_layers': 1, 'num_blocks': 4, 'dropout_rate': 0.37905325983549665, 'lr': 0.009214114724064896}. Best is trial 69 with value: 0.6774193548387096.\n"
     ]
    },
    {
     "name": "stdout",
     "output_type": "stream",
     "text": [
      "Early stopping at epoch 17\n"
     ]
    },
    {
     "name": "stderr",
     "output_type": "stream",
     "text": [
      "[I 2024-09-12 21:46:39,296] Trial 79 finished with value: 0.6290322580645161 and parameters: {'sequence_length': 15, 'hidden_size': 45, 'num_layers': 1, 'num_blocks': 4, 'dropout_rate': 0.37889176162265314, 'lr': 0.009940321562187817}. Best is trial 69 with value: 0.6774193548387096.\n"
     ]
    },
    {
     "name": "stdout",
     "output_type": "stream",
     "text": [
      "Early stopping at epoch 16\n"
     ]
    },
    {
     "name": "stderr",
     "output_type": "stream",
     "text": [
      "[I 2024-09-12 21:46:40,133] Trial 80 finished with value: 0.6065573770491803 and parameters: {'sequence_length': 16, 'hidden_size': 50, 'num_layers': 1, 'num_blocks': 4, 'dropout_rate': 0.3578181526581308, 'lr': 0.008207359203846258}. Best is trial 69 with value: 0.6774193548387096.\n"
     ]
    },
    {
     "name": "stdout",
     "output_type": "stream",
     "text": [
      "Early stopping at epoch 16\n"
     ]
    },
    {
     "name": "stderr",
     "output_type": "stream",
     "text": [
      "[I 2024-09-12 21:46:41,165] Trial 81 finished with value: 0.5806451612903226 and parameters: {'sequence_length': 13, 'hidden_size': 47, 'num_layers': 1, 'num_blocks': 4, 'dropout_rate': 0.38717631657515705, 'lr': 0.00918364942532753}. Best is trial 69 with value: 0.6774193548387096.\n"
     ]
    },
    {
     "name": "stdout",
     "output_type": "stream",
     "text": [
      "Early stopping at epoch 21\n"
     ]
    },
    {
     "name": "stderr",
     "output_type": "stream",
     "text": [
      "[I 2024-09-12 21:46:42,041] Trial 82 finished with value: 0.5409836065573771 and parameters: {'sequence_length': 19, 'hidden_size': 56, 'num_layers': 1, 'num_blocks': 4, 'dropout_rate': 0.37254477099584415, 'lr': 0.009001745324396453}. Best is trial 69 with value: 0.6774193548387096.\n"
     ]
    },
    {
     "name": "stdout",
     "output_type": "stream",
     "text": [
      "Early stopping at epoch 16\n"
     ]
    },
    {
     "name": "stderr",
     "output_type": "stream",
     "text": [
      "[I 2024-09-12 21:46:43,041] Trial 83 finished with value: 0.5483870967741935 and parameters: {'sequence_length': 12, 'hidden_size': 37, 'num_layers': 1, 'num_blocks': 4, 'dropout_rate': 0.4063137060558617, 'lr': 0.008722354210390065}. Best is trial 69 with value: 0.6774193548387096.\n"
     ]
    },
    {
     "name": "stdout",
     "output_type": "stream",
     "text": [
      "Early stopping at epoch 20\n"
     ]
    },
    {
     "name": "stderr",
     "output_type": "stream",
     "text": [
      "[I 2024-09-12 21:46:43,611] Trial 84 finished with value: 0.5573770491803278 and parameters: {'sequence_length': 17, 'hidden_size': 42, 'num_layers': 1, 'num_blocks': 4, 'dropout_rate': 0.36464096683201563, 'lr': 0.009541093236677841}. Best is trial 69 with value: 0.6774193548387096.\n"
     ]
    },
    {
     "name": "stdout",
     "output_type": "stream",
     "text": [
      "Early stopping at epoch 10\n"
     ]
    },
    {
     "name": "stderr",
     "output_type": "stream",
     "text": [
      "[I 2024-09-12 21:46:44,240] Trial 85 finished with value: 0.5806451612903226 and parameters: {'sequence_length': 14, 'hidden_size': 65, 'num_layers': 1, 'num_blocks': 4, 'dropout_rate': 0.3978249090332739, 'lr': 0.009828503278885153}. Best is trial 69 with value: 0.6774193548387096.\n"
     ]
    },
    {
     "name": "stdout",
     "output_type": "stream",
     "text": [
      "Early stopping at epoch 10\n"
     ]
    },
    {
     "name": "stderr",
     "output_type": "stream",
     "text": [
      "[I 2024-09-12 21:46:44,869] Trial 86 finished with value: 0.6065573770491803 and parameters: {'sequence_length': 24, 'hidden_size': 70, 'num_layers': 1, 'num_blocks': 3, 'dropout_rate': 0.3283318070757092, 'lr': 0.008404462684524253}. Best is trial 69 with value: 0.6774193548387096.\n"
     ]
    },
    {
     "name": "stdout",
     "output_type": "stream",
     "text": [
      "Early stopping at epoch 13\n"
     ]
    },
    {
     "name": "stderr",
     "output_type": "stream",
     "text": [
      "[I 2024-09-12 21:46:45,443] Trial 87 finished with value: 0.6612903225806451 and parameters: {'sequence_length': 15, 'hidden_size': 59, 'num_layers': 1, 'num_blocks': 4, 'dropout_rate': 0.33690646577356026, 'lr': 0.009082753291388414}. Best is trial 69 with value: 0.6774193548387096.\n"
     ]
    },
    {
     "name": "stdout",
     "output_type": "stream",
     "text": [
      "Early stopping at epoch 11\n"
     ]
    },
    {
     "name": "stderr",
     "output_type": "stream",
     "text": [
      "[I 2024-09-12 21:46:46,143] Trial 88 finished with value: 0.5645161290322581 and parameters: {'sequence_length': 15, 'hidden_size': 64, 'num_layers': 1, 'num_blocks': 4, 'dropout_rate': 0.3411768886386527, 'lr': 0.00914518005738163}. Best is trial 69 with value: 0.6774193548387096.\n"
     ]
    },
    {
     "name": "stdout",
     "output_type": "stream",
     "text": [
      "Early stopping at epoch 15\n"
     ]
    },
    {
     "name": "stderr",
     "output_type": "stream",
     "text": [
      "[I 2024-09-12 21:46:46,930] Trial 89 finished with value: 0.5573770491803278 and parameters: {'sequence_length': 16, 'hidden_size': 55, 'num_layers': 1, 'num_blocks': 4, 'dropout_rate': 0.31102423624990444, 'lr': 0.008906428288849993}. Best is trial 69 with value: 0.6774193548387096.\n"
     ]
    },
    {
     "name": "stdout",
     "output_type": "stream",
     "text": [
      "Early stopping at epoch 16\n"
     ]
    },
    {
     "name": "stderr",
     "output_type": "stream",
     "text": [
      "[I 2024-09-12 21:46:47,594] Trial 90 finished with value: 0.532258064516129 and parameters: {'sequence_length': 13, 'hidden_size': 51, 'num_layers': 1, 'num_blocks': 3, 'dropout_rate': 0.35413063601827377, 'lr': 0.009355403303326624}. Best is trial 69 with value: 0.6774193548387096.\n"
     ]
    },
    {
     "name": "stdout",
     "output_type": "stream",
     "text": [
      "Early stopping at epoch 16\n"
     ]
    },
    {
     "name": "stderr",
     "output_type": "stream",
     "text": [
      "[I 2024-09-12 21:46:49,258] Trial 91 finished with value: 0.6774193548387096 and parameters: {'sequence_length': 15, 'hidden_size': 59, 'num_layers': 1, 'num_blocks': 4, 'dropout_rate': 0.33367530954796093, 'lr': 0.009713316975052084}. Best is trial 69 with value: 0.6774193548387096.\n"
     ]
    },
    {
     "name": "stdout",
     "output_type": "stream",
     "text": [
      "Early stopping at epoch 34\n"
     ]
    },
    {
     "name": "stderr",
     "output_type": "stream",
     "text": [
      "[I 2024-09-12 21:46:49,929] Trial 92 finished with value: 0.6451612903225806 and parameters: {'sequence_length': 15, 'hidden_size': 59, 'num_layers': 1, 'num_blocks': 4, 'dropout_rate': 0.3193252015635807, 'lr': 0.009746707170094397}. Best is trial 69 with value: 0.6774193548387096.\n"
     ]
    },
    {
     "name": "stdout",
     "output_type": "stream",
     "text": [
      "Early stopping at epoch 12\n"
     ]
    },
    {
     "name": "stderr",
     "output_type": "stream",
     "text": [
      "[I 2024-09-12 21:46:50,653] Trial 93 finished with value: 0.5573770491803278 and parameters: {'sequence_length': 17, 'hidden_size': 59, 'num_layers': 1, 'num_blocks': 4, 'dropout_rate': 0.3322530547113761, 'lr': 0.008606511489810714}. Best is trial 69 with value: 0.6774193548387096.\n"
     ]
    },
    {
     "name": "stdout",
     "output_type": "stream",
     "text": [
      "Early stopping at epoch 13\n"
     ]
    },
    {
     "name": "stderr",
     "output_type": "stream",
     "text": [
      "[I 2024-09-12 21:46:51,379] Trial 94 finished with value: 0.5806451612903226 and parameters: {'sequence_length': 14, 'hidden_size': 45, 'num_layers': 1, 'num_blocks': 4, 'dropout_rate': 0.3665353112382569, 'lr': 0.00925752508679935}. Best is trial 69 with value: 0.6774193548387096.\n"
     ]
    },
    {
     "name": "stdout",
     "output_type": "stream",
     "text": [
      "Early stopping at epoch 13\n"
     ]
    },
    {
     "name": "stderr",
     "output_type": "stream",
     "text": [
      "[I 2024-09-12 21:46:52,173] Trial 95 finished with value: 0.5245901639344263 and parameters: {'sequence_length': 19, 'hidden_size': 73, 'num_layers': 1, 'num_blocks': 4, 'dropout_rate': 0.3033345243676263, 'lr': 0.009451646578996024}. Best is trial 69 with value: 0.6774193548387096.\n"
     ]
    },
    {
     "name": "stdout",
     "output_type": "stream",
     "text": [
      "Early stopping at epoch 15\n"
     ]
    },
    {
     "name": "stderr",
     "output_type": "stream",
     "text": [
      "[I 2024-09-12 21:46:53,203] Trial 96 finished with value: 0.6229508196721312 and parameters: {'sequence_length': 17, 'hidden_size': 67, 'num_layers': 1, 'num_blocks': 4, 'dropout_rate': 0.34889175838555864, 'lr': 0.008904161961654838}. Best is trial 69 with value: 0.6774193548387096.\n"
     ]
    },
    {
     "name": "stdout",
     "output_type": "stream",
     "text": [
      "Early stopping at epoch 22\n"
     ]
    },
    {
     "name": "stderr",
     "output_type": "stream",
     "text": [
      "[I 2024-09-12 21:46:53,800] Trial 97 finished with value: 0.6129032258064516 and parameters: {'sequence_length': 12, 'hidden_size': 47, 'num_layers': 1, 'num_blocks': 4, 'dropout_rate': 0.3209995038980494, 'lr': 0.007853164897476488}. Best is trial 69 with value: 0.6774193548387096.\n"
     ]
    },
    {
     "name": "stdout",
     "output_type": "stream",
     "text": [
      "Early stopping at epoch 11\n"
     ]
    },
    {
     "name": "stderr",
     "output_type": "stream",
     "text": [
      "[I 2024-09-12 21:46:54,793] Trial 98 finished with value: 0.5737704918032787 and parameters: {'sequence_length': 16, 'hidden_size': 54, 'num_layers': 2, 'num_blocks': 4, 'dropout_rate': 0.34098253151419033, 'lr': 0.006207032907517806}. Best is trial 69 with value: 0.6774193548387096.\n"
     ]
    },
    {
     "name": "stdout",
     "output_type": "stream",
     "text": [
      "Early stopping at epoch 16\n"
     ]
    },
    {
     "name": "stderr",
     "output_type": "stream",
     "text": [
      "[I 2024-09-12 21:46:55,625] Trial 99 finished with value: 0.5483870967741935 and parameters: {'sequence_length': 11, 'hidden_size': 62, 'num_layers': 1, 'num_blocks': 3, 'dropout_rate': 0.37921497896670675, 'lr': 0.008389150393324059}. Best is trial 69 with value: 0.6774193548387096.\n",
      "[I 2024-09-12 21:46:55,657] A new study created in memory with name: no-name-4e755392-9a67-4f30-bb20-315e64747c68\n"
     ]
    },
    {
     "name": "stdout",
     "output_type": "stream",
     "text": [
      "Early stopping at epoch 21\n",
      "parameters for USDSGD=X saved to ../models/best-hyperparameters/pytorch/lstm-classification/USDSGD=X.json\n",
      "Best model for USDSGD=X saved with accuracy: 0.6774193548387096\n"
     ]
    },
    {
     "name": "stderr",
     "output_type": "stream",
     "text": [
      "[I 2024-09-12 21:46:56,559] Trial 0 finished with value: 0.7651759386062622 and parameters: {'sequence_length': 24, 'hidden_size': 19, 'num_layers': 3, 'num_blocks': 3, 'dropout_rate': 0.14111769895144788, 'lr': 0.005149737612164613}. Best is trial 0 with value: 0.7651759386062622.\n"
     ]
    },
    {
     "name": "stdout",
     "output_type": "stream",
     "text": [
      "Early stopping at epoch 16\n"
     ]
    },
    {
     "name": "stderr",
     "output_type": "stream",
     "text": [
      "[I 2024-09-12 21:47:05,981] Trial 1 finished with value: 0.08735048025846481 and parameters: {'sequence_length': 2, 'hidden_size': 91, 'num_layers': 1, 'num_blocks': 4, 'dropout_rate': 0.24251427454085836, 'lr': 0.006076475629610634}. Best is trial 1 with value: 0.08735048025846481.\n"
     ]
    },
    {
     "name": "stdout",
     "output_type": "stream",
     "text": [
      "Early stopping at epoch 241\n"
     ]
    },
    {
     "name": "stderr",
     "output_type": "stream",
     "text": [
      "[I 2024-09-12 21:47:14,784] Trial 2 finished with value: 0.05845310539007187 and parameters: {'sequence_length': 20, 'hidden_size': 73, 'num_layers': 2, 'num_blocks': 3, 'dropout_rate': 0.4517714992368509, 'lr': 0.002204404640046174}. Best is trial 2 with value: 0.05845310539007187.\n"
     ]
    },
    {
     "name": "stdout",
     "output_type": "stream",
     "text": [
      "Early stopping at epoch 221\n"
     ]
    },
    {
     "name": "stderr",
     "output_type": "stream",
     "text": [
      "[I 2024-09-12 21:47:18,157] Trial 3 finished with value: 0.32121214270591736 and parameters: {'sequence_length': 24, 'hidden_size': 124, 'num_layers': 2, 'num_blocks': 5, 'dropout_rate': 0.494998966797615, 'lr': 0.006803343027617079}. Best is trial 2 with value: 0.05845310539007187.\n"
     ]
    },
    {
     "name": "stdout",
     "output_type": "stream",
     "text": [
      "Early stopping at epoch 57\n"
     ]
    },
    {
     "name": "stderr",
     "output_type": "stream",
     "text": [
      "[I 2024-09-12 21:47:18,623] Trial 4 finished with value: 1.0228304862976074 and parameters: {'sequence_length': 2, 'hidden_size': 27, 'num_layers': 3, 'num_blocks': 1, 'dropout_rate': 0.10697744722130653, 'lr': 0.009953040232824197}. Best is trial 2 with value: 0.05845310539007187.\n"
     ]
    },
    {
     "name": "stdout",
     "output_type": "stream",
     "text": [
      "Early stopping at epoch 21\n"
     ]
    },
    {
     "name": "stderr",
     "output_type": "stream",
     "text": [
      "[I 2024-09-12 21:47:19,612] Trial 5 finished with value: 0.5468215346336365 and parameters: {'sequence_length': 27, 'hidden_size': 17, 'num_layers': 2, 'num_blocks': 4, 'dropout_rate': 0.355518766212112, 'lr': 0.00626765240322209}. Best is trial 2 with value: 0.05845310539007187.\n"
     ]
    },
    {
     "name": "stdout",
     "output_type": "stream",
     "text": [
      "Early stopping at epoch 22\n"
     ]
    },
    {
     "name": "stderr",
     "output_type": "stream",
     "text": [
      "[I 2024-09-12 21:47:23,079] Trial 6 finished with value: 0.3436873257160187 and parameters: {'sequence_length': 25, 'hidden_size': 84, 'num_layers': 3, 'num_blocks': 4, 'dropout_rate': 0.4049578844458098, 'lr': 0.00338805113976892}. Best is trial 2 with value: 0.05845310539007187.\n"
     ]
    },
    {
     "name": "stdout",
     "output_type": "stream",
     "text": [
      "Early stopping at epoch 64\n"
     ]
    },
    {
     "name": "stderr",
     "output_type": "stream",
     "text": [
      "[I 2024-09-12 21:47:23,753] Trial 7 finished with value: 0.6586275100708008 and parameters: {'sequence_length': 11, 'hidden_size': 71, 'num_layers': 3, 'num_blocks': 1, 'dropout_rate': 0.13594731552645956, 'lr': 0.0025202347468501318}. Best is trial 2 with value: 0.05845310539007187.\n"
     ]
    },
    {
     "name": "stdout",
     "output_type": "stream",
     "text": [
      "Early stopping at epoch 30\n"
     ]
    },
    {
     "name": "stderr",
     "output_type": "stream",
     "text": [
      "[I 2024-09-12 21:47:24,658] Trial 8 finished with value: 0.6038639545440674 and parameters: {'sequence_length': 27, 'hidden_size': 16, 'num_layers': 3, 'num_blocks': 3, 'dropout_rate': 0.1641321373957217, 'lr': 0.0077524392417309355}. Best is trial 2 with value: 0.05845310539007187.\n"
     ]
    },
    {
     "name": "stdout",
     "output_type": "stream",
     "text": [
      "Early stopping at epoch 21\n"
     ]
    },
    {
     "name": "stderr",
     "output_type": "stream",
     "text": [
      "[I 2024-09-12 21:47:30,913] Trial 9 finished with value: 0.0722382664680481 and parameters: {'sequence_length': 25, 'hidden_size': 62, 'num_layers': 1, 'num_blocks': 2, 'dropout_rate': 0.4942095202013197, 'lr': 0.0005750120309420243}. Best is trial 2 with value: 0.05845310539007187.\n"
     ]
    },
    {
     "name": "stdout",
     "output_type": "stream",
     "text": [
      "Early stopping at epoch 236\n"
     ]
    },
    {
     "name": "stderr",
     "output_type": "stream",
     "text": [
      "[I 2024-09-12 21:47:31,563] Trial 10 finished with value: 0.758521556854248 and parameters: {'sequence_length': 16, 'hidden_size': 51, 'num_layers': 2, 'num_blocks': 2, 'dropout_rate': 0.3963813364011561, 'lr': 0.0003430321739143153}. Best is trial 2 with value: 0.05845310539007187.\n"
     ]
    },
    {
     "name": "stdout",
     "output_type": "stream",
     "text": [
      "Early stopping at epoch 17\n"
     ]
    },
    {
     "name": "stderr",
     "output_type": "stream",
     "text": [
      "[I 2024-09-12 21:47:40,635] Trial 11 finished with value: 0.06054038554430008 and parameters: {'sequence_length': 20, 'hidden_size': 59, 'num_layers': 1, 'num_blocks': 2, 'dropout_rate': 0.49853071144102706, 'lr': 0.00047352302870021354}. Best is trial 2 with value: 0.05845310539007187.\n"
     ]
    },
    {
     "name": "stdout",
     "output_type": "stream",
     "text": [
      "Early stopping at epoch 324\n"
     ]
    },
    {
     "name": "stderr",
     "output_type": "stream",
     "text": [
      "[I 2024-09-12 21:47:41,453] Trial 12 finished with value: 0.5078802108764648 and parameters: {'sequence_length': 18, 'hidden_size': 46, 'num_layers': 1, 'num_blocks': 2, 'dropout_rate': 0.43547287090272024, 'lr': 0.002309592322485961}. Best is trial 2 with value: 0.05845310539007187.\n"
     ]
    },
    {
     "name": "stdout",
     "output_type": "stream",
     "text": [
      "Early stopping at epoch 25\n"
     ]
    },
    {
     "name": "stderr",
     "output_type": "stream",
     "text": [
      "[I 2024-09-12 21:47:42,548] Trial 13 finished with value: 0.3223221004009247 and parameters: {'sequence_length': 18, 'hidden_size': 110, 'num_layers': 1, 'num_blocks': 2, 'dropout_rate': 0.3007656442029496, 'lr': 0.0019101453230364075}. Best is trial 2 with value: 0.05845310539007187.\n"
     ]
    },
    {
     "name": "stdout",
     "output_type": "stream",
     "text": [
      "Early stopping at epoch 31\n"
     ]
    },
    {
     "name": "stderr",
     "output_type": "stream",
     "text": [
      "[I 2024-09-12 21:47:43,916] Trial 14 finished with value: 0.8506512641906738 and parameters: {'sequence_length': 12, 'hidden_size': 88, 'num_layers': 2, 'num_blocks': 3, 'dropout_rate': 0.45657922256055516, 'lr': 0.0038878236513789264}. Best is trial 2 with value: 0.05845310539007187.\n"
     ]
    },
    {
     "name": "stdout",
     "output_type": "stream",
     "text": [
      "Early stopping at epoch 32\n"
     ]
    },
    {
     "name": "stderr",
     "output_type": "stream",
     "text": [
      "[I 2024-09-12 21:47:52,529] Trial 15 finished with value: 0.05319793149828911 and parameters: {'sequence_length': 20, 'hidden_size': 47, 'num_layers': 1, 'num_blocks': 1, 'dropout_rate': 0.33973589824543493, 'lr': 0.0010974293335100618}. Best is trial 15 with value: 0.05319793149828911.\n"
     ]
    },
    {
     "name": "stdout",
     "output_type": "stream",
     "text": [
      "Early stopping at epoch 416\n"
     ]
    },
    {
     "name": "stderr",
     "output_type": "stream",
     "text": [
      "[I 2024-09-12 21:47:53,366] Trial 16 finished with value: 1.0766208171844482 and parameters: {'sequence_length': 12, 'hidden_size': 37, 'num_layers': 2, 'num_blocks': 5, 'dropout_rate': 0.32091671706219405, 'lr': 0.0014020518082578622}. Best is trial 15 with value: 0.05319793149828911.\n"
     ]
    },
    {
     "name": "stdout",
     "output_type": "stream",
     "text": [
      "Early stopping at epoch 11\n"
     ]
    },
    {
     "name": "stderr",
     "output_type": "stream",
     "text": [
      "[I 2024-09-12 21:47:53,969] Trial 17 finished with value: 0.4254912734031677 and parameters: {'sequence_length': 30, 'hidden_size': 76, 'num_layers': 1, 'num_blocks': 1, 'dropout_rate': 0.23996558889341052, 'lr': 0.00386509694065531}. Best is trial 15 with value: 0.05319793149828911.\n"
     ]
    },
    {
     "name": "stdout",
     "output_type": "stream",
     "text": [
      "Early stopping at epoch 22\n"
     ]
    },
    {
     "name": "stderr",
     "output_type": "stream",
     "text": [
      "[I 2024-09-12 21:47:54,555] Trial 18 finished with value: 1.3950923681259155 and parameters: {'sequence_length': 8, 'hidden_size': 105, 'num_layers': 2, 'num_blocks': 1, 'dropout_rate': 0.2514156065444685, 'lr': 0.0014270167764409872}. Best is trial 15 with value: 0.05319793149828911.\n"
     ]
    },
    {
     "name": "stdout",
     "output_type": "stream",
     "text": [
      "Early stopping at epoch 25\n"
     ]
    },
    {
     "name": "stderr",
     "output_type": "stream",
     "text": [
      "[I 2024-09-12 21:47:55,617] Trial 19 finished with value: 0.6842470765113831 and parameters: {'sequence_length': 21, 'hidden_size': 39, 'num_layers': 2, 'num_blocks': 4, 'dropout_rate': 0.36317759622514467, 'lr': 0.0027310986036713104}. Best is trial 15 with value: 0.05319793149828911.\n"
     ]
    },
    {
     "name": "stdout",
     "output_type": "stream",
     "text": [
      "Early stopping at epoch 21\n"
     ]
    },
    {
     "name": "stderr",
     "output_type": "stream",
     "text": [
      "[I 2024-09-12 21:47:56,510] Trial 20 finished with value: 0.556121289730072 and parameters: {'sequence_length': 16, 'hidden_size': 68, 'num_layers': 1, 'num_blocks': 3, 'dropout_rate': 0.3465077998119746, 'lr': 0.004842192339561839}. Best is trial 15 with value: 0.05319793149828911.\n"
     ]
    },
    {
     "name": "stdout",
     "output_type": "stream",
     "text": [
      "Early stopping at epoch 23\n"
     ]
    },
    {
     "name": "stderr",
     "output_type": "stream",
     "text": [
      "[I 2024-09-12 21:48:10,517] Trial 21 finished with value: 0.6606407761573792 and parameters: {'sequence_length': 21, 'hidden_size': 60, 'num_layers': 1, 'num_blocks': 2, 'dropout_rate': 0.46208319043659385, 'lr': 1.0353012133607054e-05}. Best is trial 15 with value: 0.05319793149828911.\n",
      "[I 2024-09-12 21:48:11,426] Trial 22 finished with value: 0.5477567315101624 and parameters: {'sequence_length': 20, 'hidden_size': 54, 'num_layers': 1, 'num_blocks': 2, 'dropout_rate': 0.41727829074288364, 'lr': 0.0009873645734898794}. Best is trial 15 with value: 0.05319793149828911.\n"
     ]
    },
    {
     "name": "stdout",
     "output_type": "stream",
     "text": [
      "Early stopping at epoch 28\n"
     ]
    },
    {
     "name": "stderr",
     "output_type": "stream",
     "text": [
      "[I 2024-09-12 21:48:17,416] Trial 23 finished with value: 0.08249006420373917 and parameters: {'sequence_length': 21, 'hidden_size': 41, 'num_layers': 1, 'num_blocks': 1, 'dropout_rate': 0.46064800187534366, 'lr': 0.001164709250826811}. Best is trial 15 with value: 0.05319793149828911.\n"
     ]
    },
    {
     "name": "stdout",
     "output_type": "stream",
     "text": [
      "Early stopping at epoch 250\n"
     ]
    },
    {
     "name": "stderr",
     "output_type": "stream",
     "text": [
      "[I 2024-09-12 21:48:18,174] Trial 24 finished with value: 1.1487715244293213 and parameters: {'sequence_length': 14, 'hidden_size': 77, 'num_layers': 1, 'num_blocks': 2, 'dropout_rate': 0.4999542586049578, 'lr': 0.0031900318831103976}. Best is trial 15 with value: 0.05319793149828911.\n"
     ]
    },
    {
     "name": "stdout",
     "output_type": "stream",
     "text": [
      "Early stopping at epoch 21\n"
     ]
    },
    {
     "name": "stderr",
     "output_type": "stream",
     "text": [
      "[I 2024-09-12 21:48:24,838] Trial 25 finished with value: 0.05824485421180725 and parameters: {'sequence_length': 19, 'hidden_size': 60, 'num_layers': 2, 'num_blocks': 1, 'dropout_rate': 0.387338578455119, 'lr': 0.0018024509133094595}. Best is trial 15 with value: 0.05319793149828911.\n"
     ]
    },
    {
     "name": "stdout",
     "output_type": "stream",
     "text": [
      "Early stopping at epoch 298\n"
     ]
    },
    {
     "name": "stderr",
     "output_type": "stream",
     "text": [
      "[I 2024-09-12 21:48:25,523] Trial 26 finished with value: 0.540422797203064 and parameters: {'sequence_length': 18, 'hidden_size': 30, 'num_layers': 2, 'num_blocks': 1, 'dropout_rate': 0.37881546992707993, 'lr': 0.0018633443426921178}. Best is trial 15 with value: 0.05319793149828911.\n"
     ]
    },
    {
     "name": "stdout",
     "output_type": "stream",
     "text": [
      "Early stopping at epoch 26\n"
     ]
    },
    {
     "name": "stderr",
     "output_type": "stream",
     "text": [
      "[I 2024-09-12 21:48:26,129] Trial 27 finished with value: 1.3815646171569824 and parameters: {'sequence_length': 7, 'hidden_size': 97, 'num_layers': 2, 'num_blocks': 1, 'dropout_rate': 0.338564059760501, 'lr': 0.0044564644868586595}. Best is trial 15 with value: 0.05319793149828911.\n"
     ]
    },
    {
     "name": "stdout",
     "output_type": "stream",
     "text": [
      "Early stopping at epoch 22\n"
     ]
    },
    {
     "name": "stderr",
     "output_type": "stream",
     "text": [
      "[I 2024-09-12 21:48:26,858] Trial 28 finished with value: 0.5321210622787476 and parameters: {'sequence_length': 23, 'hidden_size': 66, 'num_layers': 2, 'num_blocks': 1, 'dropout_rate': 0.2932582502558442, 'lr': 0.0027683891014396384}. Best is trial 15 with value: 0.05319793149828911.\n"
     ]
    },
    {
     "name": "stdout",
     "output_type": "stream",
     "text": [
      "Early stopping at epoch 26\n"
     ]
    },
    {
     "name": "stderr",
     "output_type": "stream",
     "text": [
      "[I 2024-09-12 21:48:29,246] Trial 29 finished with value: 0.42337945103645325 and parameters: {'sequence_length': 15, 'hidden_size': 79, 'num_layers': 3, 'num_blocks': 5, 'dropout_rate': 0.27257988566030295, 'lr': 0.0018566482380200948}. Best is trial 15 with value: 0.05319793149828911.\n"
     ]
    },
    {
     "name": "stdout",
     "output_type": "stream",
     "text": [
      "Early stopping at epoch 35\n"
     ]
    },
    {
     "name": "stderr",
     "output_type": "stream",
     "text": [
      "[I 2024-09-12 21:48:30,625] Trial 30 finished with value: 0.27735635638237 and parameters: {'sequence_length': 22, 'hidden_size': 54, 'num_layers': 2, 'num_blocks': 3, 'dropout_rate': 0.4284678458856706, 'lr': 0.004003335186893489}. Best is trial 15 with value: 0.05319793149828911.\n"
     ]
    },
    {
     "name": "stdout",
     "output_type": "stream",
     "text": [
      "Early stopping at epoch 34\n"
     ]
    },
    {
     "name": "stderr",
     "output_type": "stream",
     "text": [
      "[I 2024-09-12 21:48:37,245] Trial 31 finished with value: 0.07299703359603882 and parameters: {'sequence_length': 19, 'hidden_size': 60, 'num_layers': 1, 'num_blocks': 2, 'dropout_rate': 0.3845446274593371, 'lr': 0.0007668917371974121}. Best is trial 15 with value: 0.05319793149828911.\n"
     ]
    },
    {
     "name": "stdout",
     "output_type": "stream",
     "text": [
      "Early stopping at epoch 229\n"
     ]
    },
    {
     "name": "stderr",
     "output_type": "stream",
     "text": [
      "[I 2024-09-12 21:48:38,192] Trial 32 finished with value: 0.6446569561958313 and parameters: {'sequence_length': 17, 'hidden_size': 48, 'num_layers': 1, 'num_blocks': 3, 'dropout_rate': 0.4451573864253325, 'lr': 0.00015348926180530853}. Best is trial 15 with value: 0.05319793149828911.\n"
     ]
    },
    {
     "name": "stdout",
     "output_type": "stream",
     "text": [
      "Early stopping at epoch 23\n"
     ]
    },
    {
     "name": "stderr",
     "output_type": "stream",
     "text": [
      "[I 2024-09-12 21:48:39,415] Trial 33 finished with value: 0.20372045040130615 and parameters: {'sequence_length': 23, 'hidden_size': 61, 'num_layers': 2, 'num_blocks': 1, 'dropout_rate': 0.468024788548453, 'lr': 0.0014567853720262557}. Best is trial 15 with value: 0.05319793149828911.\n"
     ]
    },
    {
     "name": "stdout",
     "output_type": "stream",
     "text": [
      "Early stopping at epoch 44\n"
     ]
    },
    {
     "name": "stderr",
     "output_type": "stream",
     "text": [
      "[I 2024-09-12 21:48:40,177] Trial 34 finished with value: 1.1489043235778809 and parameters: {'sequence_length': 20, 'hidden_size': 29, 'num_layers': 2, 'num_blocks': 2, 'dropout_rate': 0.4740509304053352, 'lr': 0.0007287826318365966}. Best is trial 15 with value: 0.05319793149828911.\n"
     ]
    },
    {
     "name": "stdout",
     "output_type": "stream",
     "text": [
      "Early stopping at epoch 18\n"
     ]
    },
    {
     "name": "stderr",
     "output_type": "stream",
     "text": [
      "[I 2024-09-12 21:48:40,695] Trial 35 finished with value: 1.2252541780471802 and parameters: {'sequence_length': 14, 'hidden_size': 45, 'num_layers': 1, 'num_blocks': 1, 'dropout_rate': 0.4179675831238061, 'lr': 0.009215807068210902}. Best is trial 15 with value: 0.05319793149828911.\n"
     ]
    },
    {
     "name": "stdout",
     "output_type": "stream",
     "text": [
      "Early stopping at epoch 22\n"
     ]
    },
    {
     "name": "stderr",
     "output_type": "stream",
     "text": [
      "[I 2024-09-12 21:48:42,262] Trial 36 finished with value: 0.2712010443210602 and parameters: {'sequence_length': 27, 'hidden_size': 94, 'num_layers': 3, 'num_blocks': 3, 'dropout_rate': 0.48517242789169457, 'lr': 0.005709167429694207}. Best is trial 15 with value: 0.05319793149828911.\n"
     ]
    },
    {
     "name": "stdout",
     "output_type": "stream",
     "text": [
      "Early stopping at epoch 29\n"
     ]
    },
    {
     "name": "stderr",
     "output_type": "stream",
     "text": [
      "[I 2024-09-12 21:48:44,917] Trial 37 finished with value: 0.13092820346355438 and parameters: {'sequence_length': 24, 'hidden_size': 56, 'num_layers': 1, 'num_blocks': 4, 'dropout_rate': 0.37587169136382353, 'lr': 0.002140661215417671}. Best is trial 15 with value: 0.05319793149828911.\n"
     ]
    },
    {
     "name": "stdout",
     "output_type": "stream",
     "text": [
      "Early stopping at epoch 65\n"
     ]
    },
    {
     "name": "stderr",
     "output_type": "stream",
     "text": [
      "[I 2024-09-12 21:48:45,762] Trial 38 finished with value: 0.5756734609603882 and parameters: {'sequence_length': 19, 'hidden_size': 68, 'num_layers': 2, 'num_blocks': 1, 'dropout_rate': 0.4028250037909381, 'lr': 0.0030736045889746965}. Best is trial 15 with value: 0.05319793149828911.\n"
     ]
    },
    {
     "name": "stdout",
     "output_type": "stream",
     "text": [
      "Early stopping at epoch 30\n"
     ]
    },
    {
     "name": "stderr",
     "output_type": "stream",
     "text": [
      "[I 2024-09-12 21:48:46,512] Trial 39 finished with value: 1.0723615884780884 and parameters: {'sequence_length': 26, 'hidden_size': 83, 'num_layers': 3, 'num_blocks': 2, 'dropout_rate': 0.3169037401833178, 'lr': 0.0010295593013802413}. Best is trial 15 with value: 0.05319793149828911.\n"
     ]
    },
    {
     "name": "stdout",
     "output_type": "stream",
     "text": [
      "Early stopping at epoch 15\n"
     ]
    },
    {
     "name": "stderr",
     "output_type": "stream",
     "text": [
      "[I 2024-09-12 21:48:47,172] Trial 40 finished with value: 1.0808041095733643 and parameters: {'sequence_length': 23, 'hidden_size': 127, 'num_layers': 1, 'num_blocks': 1, 'dropout_rate': 0.20393203999723952, 'lr': 0.007298796780460614}. Best is trial 15 with value: 0.05319793149828911.\n"
     ]
    },
    {
     "name": "stdout",
     "output_type": "stream",
     "text": [
      "Early stopping at epoch 29\n"
     ]
    },
    {
     "name": "stderr",
     "output_type": "stream",
     "text": [
      "[I 2024-09-12 21:48:53,699] Trial 41 finished with value: 0.08100227266550064 and parameters: {'sequence_length': 25, 'hidden_size': 64, 'num_layers': 1, 'num_blocks': 2, 'dropout_rate': 0.49795328167994124, 'lr': 0.0005444685818033945}. Best is trial 15 with value: 0.05319793149828911.\n"
     ]
    },
    {
     "name": "stdout",
     "output_type": "stream",
     "text": [
      "Early stopping at epoch 221\n"
     ]
    },
    {
     "name": "stderr",
     "output_type": "stream",
     "text": [
      "[I 2024-09-12 21:48:54,485] Trial 42 finished with value: 1.0749239921569824 and parameters: {'sequence_length': 20, 'hidden_size': 73, 'num_layers': 1, 'num_blocks': 2, 'dropout_rate': 0.4395865827830416, 'lr': 0.00028436279057655976}. Best is trial 15 with value: 0.05319793149828911.\n"
     ]
    },
    {
     "name": "stdout",
     "output_type": "stream",
     "text": [
      "Early stopping at epoch 20\n"
     ]
    },
    {
     "name": "stderr",
     "output_type": "stream",
     "text": [
      "[I 2024-09-12 21:49:05,502] Trial 43 finished with value: 0.051578179001808167 and parameters: {'sequence_length': 29, 'hidden_size': 57, 'num_layers': 1, 'num_blocks': 3, 'dropout_rate': 0.4802728874193851, 'lr': 0.001566767373230004}. Best is trial 43 with value: 0.051578179001808167.\n"
     ]
    },
    {
     "name": "stdout",
     "output_type": "stream",
     "text": [
      "Early stopping at epoch 249\n"
     ]
    },
    {
     "name": "stderr",
     "output_type": "stream",
     "text": [
      "[I 2024-09-12 21:49:17,930] Trial 44 finished with value: 0.10249271988868713 and parameters: {'sequence_length': 30, 'hidden_size': 22, 'num_layers': 2, 'num_blocks': 3, 'dropout_rate': 0.4792313927818505, 'lr': 0.0017252886722853738}. Best is trial 43 with value: 0.051578179001808167.\n"
     ]
    },
    {
     "name": "stdout",
     "output_type": "stream",
     "text": [
      "Early stopping at epoch 292\n"
     ]
    },
    {
     "name": "stderr",
     "output_type": "stream",
     "text": [
      "[I 2024-09-12 21:49:18,866] Trial 45 finished with value: 0.622687041759491 and parameters: {'sequence_length': 29, 'hidden_size': 49, 'num_layers': 1, 'num_blocks': 3, 'dropout_rate': 0.45113263477394155, 'lr': 0.0023561695900582904}. Best is trial 43 with value: 0.051578179001808167.\n"
     ]
    },
    {
     "name": "stdout",
     "output_type": "stream",
     "text": [
      "Early stopping at epoch 23\n"
     ]
    },
    {
     "name": "stderr",
     "output_type": "stream",
     "text": [
      "[I 2024-09-12 21:49:32,383] Trial 46 finished with value: 0.04671354964375496 and parameters: {'sequence_length': 17, 'hidden_size': 34, 'num_layers': 1, 'num_blocks': 4, 'dropout_rate': 0.41853943668142973, 'lr': 0.0025350801753647543}. Best is trial 46 with value: 0.04671354964375496.\n"
     ]
    },
    {
     "name": "stdout",
     "output_type": "stream",
     "text": [
      "Early stopping at epoch 318\n"
     ]
    },
    {
     "name": "stderr",
     "output_type": "stream",
     "text": [
      "[I 2024-09-12 21:49:33,908] Trial 47 finished with value: 0.42708820104599 and parameters: {'sequence_length': 16, 'hidden_size': 35, 'num_layers': 1, 'num_blocks': 4, 'dropout_rate': 0.41491890889653554, 'lr': 0.003596412082733331}. Best is trial 46 with value: 0.04671354964375496.\n"
     ]
    },
    {
     "name": "stdout",
     "output_type": "stream",
     "text": [
      "Early stopping at epoch 32\n"
     ]
    },
    {
     "name": "stderr",
     "output_type": "stream",
     "text": [
      "[I 2024-09-12 21:49:50,591] Trial 48 finished with value: 0.06517617404460907 and parameters: {'sequence_length': 4, 'hidden_size': 43, 'num_layers': 2, 'num_blocks': 5, 'dropout_rate': 0.3614847381671438, 'lr': 0.0028283165825527617}. Best is trial 46 with value: 0.04671354964375496.\n"
     ]
    },
    {
     "name": "stdout",
     "output_type": "stream",
     "text": [
      "Early stopping at epoch 307\n"
     ]
    },
    {
     "name": "stderr",
     "output_type": "stream",
     "text": [
      "[I 2024-09-12 21:49:59,133] Trial 49 finished with value: 0.1069411188364029 and parameters: {'sequence_length': 10, 'hidden_size': 22, 'num_layers': 1, 'num_blocks': 4, 'dropout_rate': 0.3876590429797435, 'lr': 0.0024599383815316856}. Best is trial 46 with value: 0.04671354964375496.\n"
     ]
    },
    {
     "name": "stdout",
     "output_type": "stream",
     "text": [
      "Early stopping at epoch 204\n"
     ]
    },
    {
     "name": "stderr",
     "output_type": "stream",
     "text": [
      "[I 2024-09-12 21:50:09,945] Trial 50 finished with value: 0.06709226220846176 and parameters: {'sequence_length': 13, 'hidden_size': 34, 'num_layers': 3, 'num_blocks': 4, 'dropout_rate': 0.33655115662522805, 'lr': 0.0015558890520283445}. Best is trial 46 with value: 0.04671354964375496.\n"
     ]
    },
    {
     "name": "stdout",
     "output_type": "stream",
     "text": [
      "Early stopping at epoch 204\n"
     ]
    },
    {
     "name": "stderr",
     "output_type": "stream",
     "text": [
      "[I 2024-09-12 21:50:11,023] Trial 51 finished with value: 0.3617275059223175 and parameters: {'sequence_length': 17, 'hidden_size': 55, 'num_layers': 1, 'num_blocks': 3, 'dropout_rate': 0.4278388689168656, 'lr': 0.0010820742815462895}. Best is trial 46 with value: 0.04671354964375496.\n"
     ]
    },
    {
     "name": "stdout",
     "output_type": "stream",
     "text": [
      "Early stopping at epoch 28\n"
     ]
    },
    {
     "name": "stderr",
     "output_type": "stream",
     "text": [
      "[I 2024-09-12 21:50:12,610] Trial 52 finished with value: 0.42937690019607544 and parameters: {'sequence_length': 19, 'hidden_size': 70, 'num_layers': 1, 'num_blocks': 3, 'dropout_rate': 0.47923378315808574, 'lr': 0.0021308088071562343}. Best is trial 46 with value: 0.04671354964375496.\n"
     ]
    },
    {
     "name": "stdout",
     "output_type": "stream",
     "text": [
      "Early stopping at epoch 41\n"
     ]
    },
    {
     "name": "stderr",
     "output_type": "stream",
     "text": [
      "[I 2024-09-12 21:50:13,594] Trial 53 finished with value: 0.46954619884490967 and parameters: {'sequence_length': 17, 'hidden_size': 51, 'num_layers': 1, 'num_blocks': 3, 'dropout_rate': 0.40311615682848323, 'lr': 0.0012457405776455232}. Best is trial 46 with value: 0.04671354964375496.\n"
     ]
    },
    {
     "name": "stdout",
     "output_type": "stream",
     "text": [
      "Early stopping at epoch 26\n"
     ]
    },
    {
     "name": "stderr",
     "output_type": "stream",
     "text": [
      "[I 2024-09-12 21:50:28,635] Trial 54 finished with value: 0.084339939057827 and parameters: {'sequence_length': 28, 'hidden_size': 74, 'num_layers': 1, 'num_blocks': 4, 'dropout_rate': 0.4470031268499902, 'lr': 0.0006311516888106864}. Best is trial 46 with value: 0.04671354964375496.\n"
     ]
    },
    {
     "name": "stdout",
     "output_type": "stream",
     "text": [
      "Early stopping at epoch 356\n"
     ]
    },
    {
     "name": "stderr",
     "output_type": "stream",
     "text": [
      "[I 2024-09-12 21:50:30,492] Trial 55 finished with value: 0.17024599015712738 and parameters: {'sequence_length': 22, 'hidden_size': 58, 'num_layers': 2, 'num_blocks': 2, 'dropout_rate': 0.46602014504331407, 'lr': 0.0034402245061717616}. Best is trial 46 with value: 0.04671354964375496.\n"
     ]
    },
    {
     "name": "stdout",
     "output_type": "stream",
     "text": [
      "Early stopping at epoch 56\n"
     ]
    },
    {
     "name": "stderr",
     "output_type": "stream",
     "text": [
      "[I 2024-09-12 21:50:31,318] Trial 56 finished with value: 0.7393447756767273 and parameters: {'sequence_length': 15, 'hidden_size': 64, 'num_layers': 1, 'num_blocks': 4, 'dropout_rate': 0.43122728810662925, 'lr': 0.0020496138100593742}. Best is trial 46 with value: 0.04671354964375496.\n"
     ]
    },
    {
     "name": "stdout",
     "output_type": "stream",
     "text": [
      "Early stopping at epoch 19\n"
     ]
    },
    {
     "name": "stderr",
     "output_type": "stream",
     "text": [
      "[I 2024-09-12 21:50:31,920] Trial 57 finished with value: 0.6271694302558899 and parameters: {'sequence_length': 22, 'hidden_size': 40, 'num_layers': 1, 'num_blocks': 3, 'dropout_rate': 0.3668835045531455, 'lr': 0.0015868000830599645}. Best is trial 46 with value: 0.04671354964375496.\n"
     ]
    },
    {
     "name": "stdout",
     "output_type": "stream",
     "text": [
      "Early stopping at epoch 14\n"
     ]
    },
    {
     "name": "stderr",
     "output_type": "stream",
     "text": [
      "[I 2024-09-12 21:50:42,197] Trial 58 finished with value: 0.052442729473114014 and parameters: {'sequence_length': 18, 'hidden_size': 81, 'num_layers': 1, 'num_blocks': 1, 'dropout_rate': 0.4872795865705196, 'lr': 0.0025636629473666617}. Best is trial 46 with value: 0.04671354964375496.\n"
     ]
    },
    {
     "name": "stdout",
     "output_type": "stream",
     "text": [
      "Early stopping at epoch 493\n"
     ]
    },
    {
     "name": "stderr",
     "output_type": "stream",
     "text": [
      "[I 2024-09-12 21:50:42,675] Trial 59 finished with value: 1.155645728111267 and parameters: {'sequence_length': 10, 'hidden_size': 85, 'num_layers': 2, 'num_blocks': 1, 'dropout_rate': 0.3922971405183924, 'lr': 0.004274569804545082}. Best is trial 46 with value: 0.04671354964375496.\n"
     ]
    },
    {
     "name": "stdout",
     "output_type": "stream",
     "text": [
      "Early stopping at epoch 17\n"
     ]
    },
    {
     "name": "stderr",
     "output_type": "stream",
     "text": [
      "[I 2024-09-12 21:50:43,644] Trial 60 finished with value: 0.5795673727989197 and parameters: {'sequence_length': 18, 'hidden_size': 82, 'num_layers': 1, 'num_blocks': 5, 'dropout_rate': 0.4859725210557186, 'lr': 0.003112922330751584}. Best is trial 46 with value: 0.04671354964375496.\n"
     ]
    },
    {
     "name": "stdout",
     "output_type": "stream",
     "text": [
      "Early stopping at epoch 16\n"
     ]
    },
    {
     "name": "stderr",
     "output_type": "stream",
     "text": [
      "[I 2024-09-12 21:50:44,371] Trial 61 finished with value: 0.8259788751602173 and parameters: {'sequence_length': 20, 'hidden_size': 89, 'num_layers': 1, 'num_blocks': 1, 'dropout_rate': 0.45224613785722334, 'lr': 0.0027099977373462817}. Best is trial 46 with value: 0.04671354964375496.\n"
     ]
    },
    {
     "name": "stdout",
     "output_type": "stream",
     "text": [
      "Early stopping at epoch 31\n"
     ]
    },
    {
     "name": "stderr",
     "output_type": "stream",
     "text": [
      "[I 2024-09-12 21:50:51,766] Trial 62 finished with value: 0.04670966416597366 and parameters: {'sequence_length': 18, 'hidden_size': 52, 'num_layers': 1, 'num_blocks': 1, 'dropout_rate': 0.4978102556500573, 'lr': 0.00237850147690762}. Best is trial 62 with value: 0.04670966416597366.\n"
     ]
    },
    {
     "name": "stdout",
     "output_type": "stream",
     "text": [
      "Early stopping at epoch 348\n"
     ]
    },
    {
     "name": "stderr",
     "output_type": "stream",
     "text": [
      "[I 2024-09-12 21:50:52,246] Trial 63 finished with value: 0.7291006445884705 and parameters: {'sequence_length': 15, 'hidden_size': 46, 'num_layers': 1, 'num_blocks': 1, 'dropout_rate': 0.4877296103506302, 'lr': 0.0024411188992819475}. Best is trial 62 with value: 0.04670966416597366.\n"
     ]
    },
    {
     "name": "stdout",
     "output_type": "stream",
     "text": [
      "Early stopping at epoch 18\n"
     ]
    },
    {
     "name": "stderr",
     "output_type": "stream",
     "text": [
      "[I 2024-09-12 21:50:52,781] Trial 64 finished with value: 0.7909980416297913 and parameters: {'sequence_length': 18, 'hidden_size': 52, 'num_layers': 1, 'num_blocks': 1, 'dropout_rate': 0.46780465042163777, 'lr': 0.0018875646712726594}. Best is trial 62 with value: 0.04670966416597366.\n"
     ]
    },
    {
     "name": "stdout",
     "output_type": "stream",
     "text": [
      "Early stopping at epoch 19\n"
     ]
    },
    {
     "name": "stderr",
     "output_type": "stream",
     "text": [
      "[I 2024-09-12 21:51:03,422] Trial 65 finished with value: 0.058050427585840225 and parameters: {'sequence_length': 17, 'hidden_size': 116, 'num_layers': 1, 'num_blocks': 1, 'dropout_rate': 0.10851294562430097, 'lr': 0.002971877965971609}. Best is trial 62 with value: 0.04670966416597366.\n",
      "[I 2024-09-12 21:51:03,935] Trial 66 finished with value: 1.6679208278656006 and parameters: {'sequence_length': 16, 'hidden_size': 112, 'num_layers': 1, 'num_blocks': 1, 'dropout_rate': 0.14527375938064774, 'lr': 0.0036854035183382546}. Best is trial 62 with value: 0.04670966416597366.\n"
     ]
    },
    {
     "name": "stdout",
     "output_type": "stream",
     "text": [
      "Early stopping at epoch 20\n"
     ]
    },
    {
     "name": "stderr",
     "output_type": "stream",
     "text": [
      "[I 2024-09-12 21:51:04,486] Trial 67 finished with value: 1.5086339712142944 and parameters: {'sequence_length': 17, 'hidden_size': 116, 'num_layers': 1, 'num_blocks': 1, 'dropout_rate': 0.22629898616957872, 'lr': 0.005341236605460063}. Best is trial 62 with value: 0.04670966416597366.\n"
     ]
    },
    {
     "name": "stdout",
     "output_type": "stream",
     "text": [
      "Early stopping at epoch 22\n"
     ]
    },
    {
     "name": "stderr",
     "output_type": "stream",
     "text": [
      "[I 2024-09-12 21:51:04,938] Trial 68 finished with value: 2.2690446376800537 and parameters: {'sequence_length': 19, 'hidden_size': 122, 'num_layers': 1, 'num_blocks': 1, 'dropout_rate': 0.32165488050372865, 'lr': 0.0029533010265936736}. Best is trial 62 with value: 0.04670966416597366.\n"
     ]
    },
    {
     "name": "stdout",
     "output_type": "stream",
     "text": [
      "Early stopping at epoch 16\n"
     ]
    },
    {
     "name": "stderr",
     "output_type": "stream",
     "text": [
      "[I 2024-09-12 21:51:14,713] Trial 69 finished with value: 0.06005135923624039 and parameters: {'sequence_length': 14, 'hidden_size': 34, 'num_layers': 1, 'num_blocks': 1, 'dropout_rate': 0.28621798503653967, 'lr': 0.0026447072614020173}. Best is trial 62 with value: 0.04670966416597366.\n",
      "[I 2024-09-12 21:51:15,301] Trial 70 finished with value: 0.8782086372375488 and parameters: {'sequence_length': 13, 'hidden_size': 38, 'num_layers': 1, 'num_blocks': 1, 'dropout_rate': 0.10706959085260791, 'lr': 0.003243987223146385}. Best is trial 62 with value: 0.04670966416597366.\n"
     ]
    },
    {
     "name": "stdout",
     "output_type": "stream",
     "text": [
      "Early stopping at epoch 26\n"
     ]
    },
    {
     "name": "stderr",
     "output_type": "stream",
     "text": [
      "[I 2024-09-12 21:51:21,876] Trial 71 finished with value: 0.04679498076438904 and parameters: {'sequence_length': 21, 'hidden_size': 58, 'num_layers': 1, 'num_blocks': 1, 'dropout_rate': 0.4212991538851092, 'lr': 0.002190119774747514}. Best is trial 62 with value: 0.04670966416597366.\n"
     ]
    },
    {
     "name": "stdout",
     "output_type": "stream",
     "text": [
      "Early stopping at epoch 320\n"
     ]
    },
    {
     "name": "stderr",
     "output_type": "stream",
     "text": [
      "[I 2024-09-12 21:51:32,839] Trial 72 finished with value: 0.04705137014389038 and parameters: {'sequence_length': 21, 'hidden_size': 102, 'num_layers': 1, 'num_blocks': 1, 'dropout_rate': 0.19100198193310008, 'lr': 0.002121886239732313}. Best is trial 62 with value: 0.04670966416597366.\n",
      "[I 2024-09-12 21:51:33,273] Trial 73 finished with value: 1.112764596939087 and parameters: {'sequence_length': 21, 'hidden_size': 101, 'num_layers': 1, 'num_blocks': 1, 'dropout_rate': 0.1966597452870007, 'lr': 0.0023706607120996654}. Best is trial 62 with value: 0.04670966416597366.\n"
     ]
    },
    {
     "name": "stdout",
     "output_type": "stream",
     "text": [
      "Early stopping at epoch 16\n"
     ]
    },
    {
     "name": "stderr",
     "output_type": "stream",
     "text": [
      "[I 2024-09-12 21:51:34,187] Trial 74 finished with value: 0.5372724533081055 and parameters: {'sequence_length': 18, 'hidden_size': 108, 'num_layers': 1, 'num_blocks': 1, 'dropout_rate': 0.16138666317373013, 'lr': 0.0021343064427637006}. Best is trial 62 with value: 0.04670966416597366.\n"
     ]
    },
    {
     "name": "stdout",
     "output_type": "stream",
     "text": [
      "Early stopping at epoch 38\n"
     ]
    },
    {
     "name": "stderr",
     "output_type": "stream",
     "text": [
      "[I 2024-09-12 21:51:34,889] Trial 75 finished with value: 0.5007420778274536 and parameters: {'sequence_length': 17, 'hidden_size': 118, 'num_layers': 1, 'num_blocks': 1, 'dropout_rate': 0.10012238116529022, 'lr': 0.0013468751698406242}. Best is trial 62 with value: 0.04670966416597366.\n"
     ]
    },
    {
     "name": "stdout",
     "output_type": "stream",
     "text": [
      "Early stopping at epoch 29\n"
     ]
    },
    {
     "name": "stderr",
     "output_type": "stream",
     "text": [
      "[I 2024-09-12 21:51:35,387] Trial 76 finished with value: 0.49102094769477844 and parameters: {'sequence_length': 21, 'hidden_size': 95, 'num_layers': 1, 'num_blocks': 1, 'dropout_rate': 0.11936281217386158, 'lr': 0.004735617286993618}. Best is trial 62 with value: 0.04670966416597366.\n"
     ]
    },
    {
     "name": "stdout",
     "output_type": "stream",
     "text": [
      "Early stopping at epoch 20\n"
     ]
    },
    {
     "name": "stderr",
     "output_type": "stream",
     "text": [
      "[I 2024-09-12 21:51:35,968] Trial 77 finished with value: 0.5926079154014587 and parameters: {'sequence_length': 24, 'hidden_size': 102, 'num_layers': 1, 'num_blocks': 1, 'dropout_rate': 0.125387950808236, 'lr': 0.001716840492278213}. Best is trial 62 with value: 0.04670966416597366.\n"
     ]
    },
    {
     "name": "stdout",
     "output_type": "stream",
     "text": [
      "Early stopping at epoch 22\n"
     ]
    },
    {
     "name": "stderr",
     "output_type": "stream",
     "text": [
      "[I 2024-09-12 21:51:49,863] Trial 78 finished with value: 0.05403519794344902 and parameters: {'sequence_length': 16, 'hidden_size': 44, 'num_layers': 1, 'num_blocks': 2, 'dropout_rate': 0.2727026038239482, 'lr': 0.0008456196320112382}. Best is trial 62 with value: 0.04670966416597366.\n",
      "[I 2024-09-12 21:51:50,981] Trial 79 finished with value: 0.6364243626594543 and parameters: {'sequence_length': 26, 'hidden_size': 42, 'num_layers': 1, 'num_blocks': 2, 'dropout_rate': 0.25530429332081866, 'lr': 0.0007819654266168813}. Best is trial 62 with value: 0.04670966416597366.\n"
     ]
    },
    {
     "name": "stdout",
     "output_type": "stream",
     "text": [
      "Early stopping at epoch 37\n"
     ]
    },
    {
     "name": "stderr",
     "output_type": "stream",
     "text": [
      "[I 2024-09-12 21:51:57,405] Trial 80 finished with value: 0.07066872715950012 and parameters: {'sequence_length': 16, 'hidden_size': 48, 'num_layers': 1, 'num_blocks': 2, 'dropout_rate': 0.26194392239690056, 'lr': 0.0010921668413197737}. Best is trial 62 with value: 0.04670966416597366.\n"
     ]
    },
    {
     "name": "stdout",
     "output_type": "stream",
     "text": [
      "Early stopping at epoch 225\n"
     ]
    },
    {
     "name": "stderr",
     "output_type": "stream",
     "text": [
      "[I 2024-09-12 21:52:07,627] Trial 81 finished with value: 0.03871270269155502 and parameters: {'sequence_length': 20, 'hidden_size': 44, 'num_layers': 1, 'num_blocks': 1, 'dropout_rate': 0.16653477069747818, 'lr': 0.0015051677874095852}. Best is trial 81 with value: 0.03871270269155502.\n"
     ]
    },
    {
     "name": "stdout",
     "output_type": "stream",
     "text": [
      "Early stopping at epoch 413\n"
     ]
    },
    {
     "name": "stderr",
     "output_type": "stream",
     "text": [
      "[I 2024-09-12 21:52:08,227] Trial 82 finished with value: 2.9149420261383057 and parameters: {'sequence_length': 20, 'hidden_size': 44, 'num_layers': 1, 'num_blocks': 1, 'dropout_rate': 0.17820275389548912, 'lr': 0.00037114428021879826}. Best is trial 81 with value: 0.03871270269155502.\n"
     ]
    },
    {
     "name": "stdout",
     "output_type": "stream",
     "text": [
      "Early stopping at epoch 21\n"
     ]
    },
    {
     "name": "stderr",
     "output_type": "stream",
     "text": [
      "[I 2024-09-12 21:52:08,876] Trial 83 finished with value: 1.1440266370773315 and parameters: {'sequence_length': 22, 'hidden_size': 52, 'num_layers': 1, 'num_blocks': 1, 'dropout_rate': 0.22700986905940398, 'lr': 0.0008389964050377144}. Best is trial 81 with value: 0.03871270269155502.\n"
     ]
    },
    {
     "name": "stdout",
     "output_type": "stream",
     "text": [
      "Early stopping at epoch 22\n"
     ]
    },
    {
     "name": "stderr",
     "output_type": "stream",
     "text": [
      "[I 2024-09-12 21:52:20,348] Trial 84 finished with value: 0.07593178004026413 and parameters: {'sequence_length': 15, 'hidden_size': 31, 'num_layers': 1, 'num_blocks': 1, 'dropout_rate': 0.17854111212134682, 'lr': 0.0013941341289767906}. Best is trial 81 with value: 0.03871270269155502.\n"
     ]
    },
    {
     "name": "stdout",
     "output_type": "stream",
     "text": [
      "Early stopping at epoch 462\n"
     ]
    },
    {
     "name": "stderr",
     "output_type": "stream",
     "text": [
      "[I 2024-09-12 21:52:20,901] Trial 85 finished with value: 0.8191910982131958 and parameters: {'sequence_length': 19, 'hidden_size': 58, 'num_layers': 1, 'num_blocks': 2, 'dropout_rate': 0.1504679510256377, 'lr': 0.002004923102901538}. Best is trial 81 with value: 0.03871270269155502.\n"
     ]
    },
    {
     "name": "stdout",
     "output_type": "stream",
     "text": [
      "Early stopping at epoch 11\n"
     ]
    },
    {
     "name": "stderr",
     "output_type": "stream",
     "text": [
      "[I 2024-09-12 21:52:21,892] Trial 86 finished with value: 0.46125078201293945 and parameters: {'sequence_length': 23, 'hidden_size': 47, 'num_layers': 1, 'num_blocks': 1, 'dropout_rate': 0.30436424148395735, 'lr': 0.001533965888324636}. Best is trial 81 with value: 0.03871270269155502.\n"
     ]
    },
    {
     "name": "stdout",
     "output_type": "stream",
     "text": [
      "Early stopping at epoch 34\n"
     ]
    },
    {
     "name": "stderr",
     "output_type": "stream",
     "text": [
      "[I 2024-09-12 21:52:34,406] Trial 87 finished with value: 0.04724355414509773 and parameters: {'sequence_length': 20, 'hidden_size': 27, 'num_layers': 1, 'num_blocks': 1, 'dropout_rate': 0.2107192036199133, 'lr': 0.002267215586855209}. Best is trial 81 with value: 0.03871270269155502.\n",
      "[I 2024-09-12 21:52:36,208] Trial 88 finished with value: 0.44014933705329895 and parameters: {'sequence_length': 21, 'hidden_size': 26, 'num_layers': 1, 'num_blocks': 5, 'dropout_rate': 0.1933343879841059, 'lr': 0.00887359637554603}. Best is trial 81 with value: 0.03871270269155502.\n"
     ]
    },
    {
     "name": "stdout",
     "output_type": "stream",
     "text": [
      "Early stopping at epoch 31\n"
     ]
    },
    {
     "name": "stderr",
     "output_type": "stream",
     "text": [
      "[I 2024-09-12 21:52:48,642] Trial 89 finished with value: 0.04094482213258743 and parameters: {'sequence_length': 19, 'hidden_size': 19, 'num_layers': 1, 'num_blocks': 1, 'dropout_rate': 0.17443076056598528, 'lr': 0.0023659566590168196}. Best is trial 81 with value: 0.03871270269155502.\n",
      "[I 2024-09-12 21:52:49,709] Trial 90 finished with value: 0.7355411052703857 and parameters: {'sequence_length': 19, 'hidden_size': 16, 'num_layers': 1, 'num_blocks': 1, 'dropout_rate': 0.1682082962628636, 'lr': 0.002632708390376364}. Best is trial 81 with value: 0.03871270269155502.\n"
     ]
    },
    {
     "name": "stdout",
     "output_type": "stream",
     "text": [
      "Early stopping at epoch 38\n"
     ]
    },
    {
     "name": "stderr",
     "output_type": "stream",
     "text": [
      "[I 2024-09-12 21:53:02,265] Trial 91 finished with value: 0.06274843961000443 and parameters: {'sequence_length': 20, 'hidden_size': 24, 'num_layers': 1, 'num_blocks': 1, 'dropout_rate': 0.18560262632302804, 'lr': 0.0023002920000372786}. Best is trial 81 with value: 0.03871270269155502.\n",
      "[I 2024-09-12 21:53:10,889] Trial 92 finished with value: 0.08534462004899979 and parameters: {'sequence_length': 18, 'hidden_size': 18, 'num_layers': 1, 'num_blocks': 1, 'dropout_rate': 0.2129296946624759, 'lr': 0.0018110630660466143}. Best is trial 81 with value: 0.03871270269155502.\n"
     ]
    },
    {
     "name": "stdout",
     "output_type": "stream",
     "text": [
      "Early stopping at epoch 362\n"
     ]
    },
    {
     "name": "stderr",
     "output_type": "stream",
     "text": [
      "[I 2024-09-12 21:53:12,110] Trial 93 finished with value: 0.3472493290901184 and parameters: {'sequence_length': 22, 'hidden_size': 21, 'num_layers': 1, 'num_blocks': 1, 'dropout_rate': 0.1545970299148975, 'lr': 0.0033955001228499694}. Best is trial 81 with value: 0.03871270269155502.\n"
     ]
    },
    {
     "name": "stdout",
     "output_type": "stream",
     "text": [
      "Early stopping at epoch 45\n"
     ]
    },
    {
     "name": "stderr",
     "output_type": "stream",
     "text": [
      "[I 2024-09-12 21:53:21,434] Trial 94 finished with value: 0.06143126264214516 and parameters: {'sequence_length': 21, 'hidden_size': 32, 'num_layers': 1, 'num_blocks': 1, 'dropout_rate': 0.4897735785245001, 'lr': 0.002229748266459141}. Best is trial 81 with value: 0.03871270269155502.\n"
     ]
    },
    {
     "name": "stdout",
     "output_type": "stream",
     "text": [
      "Early stopping at epoch 385\n"
     ]
    },
    {
     "name": "stderr",
     "output_type": "stream",
     "text": [
      "[I 2024-09-12 21:53:21,775] Trial 95 finished with value: 1.0118581056594849 and parameters: {'sequence_length': 19, 'hidden_size': 28, 'num_layers': 1, 'num_blocks': 1, 'dropout_rate': 0.2129281726349066, 'lr': 0.002546161470362781}. Best is trial 81 with value: 0.03871270269155502.\n"
     ]
    },
    {
     "name": "stdout",
     "output_type": "stream",
     "text": [
      "Early stopping at epoch 11\n"
     ]
    },
    {
     "name": "stderr",
     "output_type": "stream",
     "text": [
      "[I 2024-09-12 21:53:22,547] Trial 96 finished with value: 0.788066029548645 and parameters: {'sequence_length': 20, 'hidden_size': 36, 'num_layers': 1, 'num_blocks': 1, 'dropout_rate': 0.4739294882984999, 'lr': 0.0016716599609111031}. Best is trial 81 with value: 0.03871270269155502.\n"
     ]
    },
    {
     "name": "stdout",
     "output_type": "stream",
     "text": [
      "Early stopping at epoch 31\n"
     ]
    },
    {
     "name": "stderr",
     "output_type": "stream",
     "text": [
      "[I 2024-09-12 21:53:23,250] Trial 97 finished with value: 0.6173565983772278 and parameters: {'sequence_length': 21, 'hidden_size': 25, 'num_layers': 1, 'num_blocks': 1, 'dropout_rate': 0.13352123219256545, 'lr': 0.002854256646043738}. Best is trial 81 with value: 0.03871270269155502.\n"
     ]
    },
    {
     "name": "stdout",
     "output_type": "stream",
     "text": [
      "Early stopping at epoch 25\n"
     ]
    },
    {
     "name": "stderr",
     "output_type": "stream",
     "text": [
      "[I 2024-09-12 21:53:23,887] Trial 98 finished with value: 0.37747177481651306 and parameters: {'sequence_length': 18, 'hidden_size': 56, 'num_layers': 1, 'num_blocks': 1, 'dropout_rate': 0.45789455166797555, 'lr': 0.0019615989007257533}. Best is trial 81 with value: 0.03871270269155502.\n"
     ]
    },
    {
     "name": "stdout",
     "output_type": "stream",
     "text": [
      "Early stopping at epoch 21\n"
     ]
    },
    {
     "name": "stderr",
     "output_type": "stream",
     "text": [
      "[I 2024-09-12 21:53:36,871] Trial 99 finished with value: 0.03205721825361252 and parameters: {'sequence_length': 25, 'hidden_size': 50, 'num_layers': 1, 'num_blocks': 1, 'dropout_rate': 0.17044017998086916, 'lr': 0.006423205612109871}. Best is trial 99 with value: 0.03205721825361252.\n"
     ]
    },
    {
     "name": "stdout",
     "output_type": "stream",
     "text": [
      "parameters for USDSGD=X saved to ../models/best-hyperparameters/pytorch/lstm-regression/USDSGD=X.json\n",
      "Best model for USDSGD=X saved with RMSE: 0.03205721825361252\n"
     ]
    }
   ],
   "source": [
    "for ticker_symbol in ticker_list:\n",
    "    dataframe = pd.read_csv(f\"../data/train/{ticker_symbol}.csv\")\n",
    "    X, y_classifier, y_regressor = training_preprocess_data(dataframe)\n",
    "    ticker_df = conv1d_classification_hyperparameters_search(X, y_classifier, gpu_available, ticker_symbol, False)\n",
    "    ticker_df = conv1d_regression_hyperparameters_search(X, y_regressor, gpu_available,ticker_symbol, False)\n",
    "    ticker_df = lstm_classification_hyperparameters_search(X, y_classifier, gpu_available, ticker_symbol, False)\n",
    "    ticker_df = lstm_regression_hyperparameters_search(X, y_regressor, gpu_available, ticker_symbol, False)\n",
    "    #break\n",
    "   "
   ]
  },
  {
   "cell_type": "code",
   "execution_count": null,
   "id": "0cf355ec-470c-41b8-a691-ec8ab9b6f12a",
   "metadata": {},
   "outputs": [],
   "source": []
  },
  {
   "cell_type": "code",
   "execution_count": null,
   "id": "ce4965a0-4648-407d-baa9-732b5aff53c0",
   "metadata": {},
   "outputs": [],
   "source": []
  },
  {
   "cell_type": "code",
   "execution_count": null,
   "id": "98279f90-f630-4d16-931f-e243deff7512",
   "metadata": {},
   "outputs": [],
   "source": []
  }
 ],
 "metadata": {
  "kernelspec": {
   "display_name": "Python 3 (ipykernel)",
   "language": "python",
   "name": "python3"
  },
  "language_info": {
   "codemirror_mode": {
    "name": "ipython",
    "version": 3
   },
   "file_extension": ".py",
   "mimetype": "text/x-python",
   "name": "python",
   "nbconvert_exporter": "python",
   "pygments_lexer": "ipython3",
   "version": "3.12.3"
  }
 },
 "nbformat": 4,
 "nbformat_minor": 5
}
