{
 "cells": [
  {
   "cell_type": "code",
   "execution_count": 1,
   "id": "19bc6f70-92a8-48ce-a43c-c50ef323401e",
   "metadata": {},
   "outputs": [
    {
     "name": "stdout",
     "output_type": "stream",
     "text": [
      "Number of logical CPU cores: 16\n",
      "Number of workers set to: 8\n",
      "GPU available: True\n"
     ]
    },
    {
     "data": {
      "text/plain": [
       "<torch.autograd.anomaly_mode.set_detect_anomaly at 0x1589f843590>"
      ]
     },
     "execution_count": 1,
     "metadata": {},
     "output_type": "execute_result"
    }
   ],
   "source": [
    "import os\n",
    "import numpy as np\n",
    "import pandas as pd\n",
    "\n",
    "import torch\n",
    "import torch.nn as nn\n",
    "import torch.optim as optim\n",
    "import torch.nn.functional as F\n",
    "from torch.utils.data import DataLoader, TensorDataset\n",
    "from torch.nn import TransformerEncoder, TransformerEncoderLayer\n",
    "import optuna\n",
    "from sklearn.model_selection import train_test_split\n",
    "from sklearn.metrics import accuracy_score, root_mean_squared_error\n",
    "\n",
    "import json\n",
    "\n",
    "logical_cores = os.cpu_count()\n",
    "print(f\"Number of logical CPU cores: {logical_cores}\")\n",
    "\n",
    "num_workers = max(1, logical_cores // 2)\n",
    "print(f\"Number of workers set to: {num_workers}\")\n",
    "\n",
    "def is_gpu_available():\n",
    "    try:\n",
    "        return torch.cuda.is_available()\n",
    "    except ImportError:\n",
    "        return False\n",
    "\n",
    "gpu_available = is_gpu_available()\n",
    "print(f\"GPU available: {gpu_available}\")\n",
    "\n",
    "torch.autograd.set_detect_anomaly(True)"
   ]
  },
  {
   "cell_type": "code",
   "execution_count": 2,
   "id": "a2fddba8-475e-4ee4-94f2-e23eb2c04840",
   "metadata": {},
   "outputs": [],
   "source": [
    "os.makedirs('../models/hyperparameters-search-models/pytorch/conv1d-classification/', exist_ok=True)\n",
    "os.makedirs('../models/hyperparameters-search-models/pytorch/conv1d-regression/', exist_ok=True)\n",
    "os.makedirs('../models/hyperparameters-search-models/pytorch/lstm-classification/', exist_ok=True)\n",
    "os.makedirs('../models/hyperparameters-search-models/pytorch/lstm-regression/', exist_ok=True)\n",
    "os.makedirs('../models/hyperparameters-search-models/pytorch/transformer-classification/', exist_ok=True)\n",
    "os.makedirs('../models/hyperparameters-search-models/pytorch/transformer-regression/', exist_ok=True)\n",
    "\n",
    "os.makedirs('../models/best-hyperparameters/pytorch/conv1d-classification/', exist_ok=True)\n",
    "os.makedirs('../models/best-hyperparameters/pytorch/conv1d-regression/', exist_ok=True)\n",
    "os.makedirs('../models/best-hyperparameters/pytorch/lstm-classification/', exist_ok=True)\n",
    "os.makedirs('../models/best-hyperparameters/pytorch/lstm-regression/', exist_ok=True)\n",
    "os.makedirs('../models/best-hyperparameters/pytorch/transformer-classification/', exist_ok=True)\n",
    "os.makedirs('../models/best-hyperparameters/pytorch/transformer-regression/', exist_ok=True)\n",
    "\n",
    "os.makedirs('../models/trained-models/pytorch/conv1d-classification/', exist_ok=True)\n",
    "os.makedirs('../models/trained-models/pytorch/conv1d-regression/', exist_ok=True)\n",
    "os.makedirs('../models/trained-models/pytorch/lstm-classification/', exist_ok=True)\n",
    "os.makedirs('../models/trained-models/pytorch/lstm-regression/', exist_ok=True)\n",
    "os.makedirs('../models/trained-models/pytorch/transformer-classification/', exist_ok=True)\n",
    "os.makedirs('../models/trained-models/pytorch/transformer-regression/', exist_ok=True)\n",
    "\n",
    "path = '../data/train'\n",
    "ticker_list = []\n",
    "\n",
    "if os.path.exists(path):\n",
    "    ticker_list = [os.path.splitext(f)[0] for f in os.listdir(path) if f.endswith('.csv')]\n"
   ]
  },
  {
   "cell_type": "code",
   "execution_count": 3,
   "id": "a027b6b3-0729-4ec4-ba7b-5a847eed7984",
   "metadata": {},
   "outputs": [],
   "source": [
    "def load_or_create_ticker_df(csv_file_path):\n",
    "    \"\"\"\n",
    "    Load the existing ticker DataFrame from a CSV file if it exists,\n",
    "    otherwise create a new DataFrame with predefined column types.\n",
    "    Ensure the DataFrame has the specified columns, add any missing columns,\n",
    "    and rearrange the columns in alphabetical order, excluding 'Ticker_Symbol'.\n",
    "\n",
    "    Args:\n",
    "    csv_file_path (str): The path to the CSV file.\n",
    "\n",
    "    Returns:\n",
    "    pd.DataFrame: The loaded or newly created DataFrame.\n",
    "    \"\"\"\n",
    "    # Define the column types\n",
    "    column_types = {\n",
    "        \"Ticker_Symbol\": str,\n",
    "        \"Best_Cov1D_Classification_Accuracy\": float,\n",
    "        \"Best_Cov1D_Classification_Path\": str,\n",
    "        \"Best_Cov1D_Regression_RMSE\": float,\n",
    "        \"Best_Cov1D_Regression_Path\": str,\n",
    "        \"Best_LSTM_Classification_Accuracy\": float,\n",
    "        \"Best_LSTM_Classification_Path\": str,\n",
    "        \"Best_LSTM_Regression_RMSE\": float,\n",
    "        \"Best_LSTM_Regression_Path\": str,\n",
    "        \"Best_Transformer_Classification_Accuracy\": float,\n",
    "        \"Best_Transformer_Classification_Path\": str,\n",
    "        \"Best_Transformer_Regression_RMSE\": float,\n",
    "        \"Best_Transformer_Regression_Path\": str,\n",
    "        \"Best_XGBClassifier_Classification_Accuracy\": float,\n",
    "        \"Best_XGBClassifier_Classification_Path\": str,\n",
    "        \"Best_XGBRegressor_Regression_RMSE\": float,\n",
    "        \"Best_XGBRegressor_Regression_Path\": str\n",
    "    }\n",
    "\n",
    "\n",
    "    if os.path.isfile(csv_file_path):\n",
    "        # Load the existing file into a DataFrame\n",
    "        ticker_df = pd.read_csv(csv_file_path)\n",
    "        \n",
    "        # Ensure all specified columns are present\n",
    "        for column, dtype in column_types.items():\n",
    "            if column not in ticker_df.columns:\n",
    "                ticker_df[column] = pd.Series(dtype=dtype)\n",
    "        \n",
    "        # Reorder columns alphabetically, excluding 'Ticker_Symbol'\n",
    "        columns = [\"Ticker_Symbol\"] + sorted([col for col in ticker_df.columns if col != \"Ticker_Symbol\"])\n",
    "        ticker_df = ticker_df[columns]\n",
    "    else:\n",
    "        # Create a new DataFrame with the specified column types\n",
    "        ticker_df = pd.DataFrame(columns=column_types.keys()).astype(column_types)\n",
    "    \n",
    "    return ticker_df"
   ]
  },
  {
   "cell_type": "code",
   "execution_count": 4,
   "id": "c3447de8-fd34-4980-9370-37ceb29a13fa",
   "metadata": {},
   "outputs": [],
   "source": [
    "def delete_hyperparameter_search_model(ticker_symbol, model_type):\n",
    "    csv_path = '../models/hyperparameters-search-models/ticker-all-models-best-hyperparameters-list.csv'\n",
    "    conv1d_classification_model_path = f'../models/hyperparameters-search-models/pytorch/{model_type}/{ticker_symbol}.pth'\n",
    "    conv1d_regression_model_path = f'../models/hyperparameters-search-models/pytorch/{model_type}/{ticker_symbol}.pth'\n",
    "    lstm_classification_model_path = f'../models/hyperparameters-search-models/pytorch/{model_type}/{ticker_symbol}.pth'\n",
    "    lstm_regression_model_path = f'../models/hyperparameters-search-models/pytorch/{model_type}/{ticker_symbol}.pth'\n",
    "    \n",
    "    conv1d_classification_params_path = f'../models/best-hyperparameters/pytorch/{model_type}/{ticker_symbol}.json'\n",
    "    conv1d_regression_params_path = f'../models/best-hyperparameters/pytorch/{model_type}/{ticker_symbol}.json'\n",
    "    lstm_classification_params_path = f'../models/best-hyperparameters/pytorch/{model_type}/{ticker_symbol}.json'\n",
    "    lstm_regression_params_path = f'../models/best-hyperparameters/pytorch/{model_type}/{ticker_symbol}.json'\n",
    "\n",
    "    if model_type == \"conv1d-classification\":\n",
    "        if os.path.isfile(conv1d_classification_model_path):\n",
    "            os.remove(conv1d_classification_model_path)\n",
    "            print(f\"Deleted {conv1d_classification_model_path}\")\n",
    "        if os.path.isfile(conv1d_classification_params_path):\n",
    "            os.remove(conv1d_classification_params_path)\n",
    "            print(f\"Deleted {conv1d_classification_params_path}\")\n",
    "    \n",
    "    if model_type == \"conv1d-regression\":\n",
    "        if os.path.isfile(conv1d_regression_model_path):\n",
    "            os.remove(conv1d_regression_model_path)\n",
    "            print(f\"Deleted {conv1d_regression_model_path}\")\n",
    "        if os.path.isfile(conv1d_regression_params_path):\n",
    "            os.remove(conv1d_regression_params_path)\n",
    "            print(f\"Deleted {conv1d_regression_params_path}\")\n",
    "\n",
    "    if model_type == \"lstm-classification\":\n",
    "        if os.path.isfile(lstm_classification_model_path):\n",
    "            os.remove(lstm_classification_model_path)\n",
    "            print(f\"Deleted {lstm_classification_model_path}\")\n",
    "        if os.path.isfile(lstm_classification_params_path):\n",
    "            os.remove(lstm_classification_params_path)\n",
    "            print(f\"Deleted {lstm_classification_params_path}\")\n",
    "    \n",
    "    if model_type == \"lstm-regression\":\n",
    "        if os.path.isfile(lstm_regression_model_path):\n",
    "            os.remove(lstm_regression_model_path)\n",
    "            print(f\"Deleted {lstm_regression_model_path}\")\n",
    "        if os.path.isfile(lstm_regression_params_path):\n",
    "            os.remove(lstm_regression_params_path)\n",
    "            print(f\"Deleted {lstm_regression_params_path}\")\n",
    "\n",
    "    if os.path.isfile(csv_path):\n",
    "        ticker_df = pd.read_csv(csv_path)\n",
    "        if ticker_symbol in ticker_df['Ticker_Symbol'].values:\n",
    "            if model_type == \"conv1d-classification\":\n",
    "                ticker_df.loc[ticker_df['Ticker_Symbol'] == ticker_symbol, ['Best_Cov1D_Classification_Accuracy', 'Best_Cov1D_Classification_Path']] = [pd.NA, pd.NA]\n",
    "            if model_type == \"conv1d-regression\":\n",
    "                ticker_df.loc[ticker_df['Ticker_Symbol'] == ticker_symbol, ['Best_CoviD_Regression_RMSE', 'Best_Cov1D_Regression_Path']] = [pd.NA, pd.NA]\n",
    "            if model_type == \"lstm-classification\":\n",
    "                ticker_df.loc[ticker_df['Ticker_Symbol'] == ticker_symbol, ['Best_LSTM_Classification_Accuracy', 'Best_LSTM_Classification_Path']] = [pd.NA, pd.NA]\n",
    "            if model_type == \"lstm-regression\":\n",
    "                ticker_df.loc[ticker_df['Ticker_Symbol'] == ticker_symbol, ['Best_LSTM_Regression_RMSE', 'Best_LSTM_Regression_Path']] = [pd.NA, pd.NA]\n",
    "                \n",
    "            ticker_df.to_csv(csv_path, index=False)\n",
    "            print(f\"Deleted {ticker_symbol} from {csv_path}\")\n",
    "        else:\n",
    "            print(f\"{ticker_symbol} not found in {csv_path}\")\n",
    "    else:\n",
    "        print(f\"{csv_path} does not exist\")\n"
   ]
  },
  {
   "cell_type": "code",
   "execution_count": 5,
   "id": "50ea84ad-a104-4fc3-8226-cc50191547b8",
   "metadata": {},
   "outputs": [],
   "source": [
    "def training_preprocess_data(df):\n",
    "    #if df.isna().sum().sum() > 0 or df.isin([float('inf'), float('-inf')]).sum().sum() > 0:\n",
    "     #   df = df.replace([float('inf'), float('-inf')], float('nan')).dropna()\n",
    "\n",
    "    df.drop(df.index[:88], inplace=True)\n",
    "\n",
    "    # Create target variables before dropping columns\n",
    "    y_classifier = (np.sign(df['DAILY_MIDPRICE_CHANGE']) >= 0).astype(int)\n",
    "    y_regressor = df['DAILY_MIDPRICE_CHANGE']\n",
    "\n",
    "    # Drop columns from index 7 to 72\n",
    "    #df = df.drop(df.columns[73:93], axis=1)\n",
    "    #df = df.drop(df.columns[7:73], axis=1)\n",
    "\n",
    "    # Drop specific columns\n",
    "    columns_to_drop = [\n",
    "        'NEXT_DAY_CLOSEPRICE', 'DAILY_CLOSEPRICE_CHANGE', 'DAILY_CLOSEPRICE_CHANGE_PERCENT', 'DAILY_CLOSEPRICE_DIRECTION',\n",
    "        'DAILY_MIDPRICE', 'NEXT_DAY_MIDPRICE', 'DAILY_MIDPRICE_CHANGE', 'DAILY_MIDPRICE_CHANGE_PERCENT', 'DAILY_MIDPRICE_DIRECTION', \n",
    "        'Date', \n",
    "    ]\n",
    "    df = df.drop(columns=columns_to_drop)\n",
    "\n",
    "    X = df\n",
    "\n",
    "    return X, y_classifier, y_regressor"
   ]
  },
  {
   "cell_type": "code",
   "execution_count": 6,
   "id": "def88067-ef68-4213-bcde-cc93c12a32e5",
   "metadata": {},
   "outputs": [],
   "source": [
    "class Conv1ResidualBlock(nn.Module):\n",
    "    def __init__(self, in_channels, out_channels, kernel_size, l2_lambda=0.01, dropout_rate=0.5):\n",
    "        super(Conv1ResidualBlock, self).__init__()\n",
    "        \n",
    "        self.conv1 = nn.Conv1d(in_channels, out_channels, kernel_size, stride=1, padding='same')\n",
    "        self.bn1 = nn.BatchNorm1d(out_channels)\n",
    "        self.conv2 = nn.Conv1d(out_channels, out_channels, kernel_size, stride=1, padding='same')\n",
    "        self.bn2 = nn.BatchNorm1d(out_channels)\n",
    "        self.relu = nn.ReLU(inplace=False)  # Ensure no in-place operation\n",
    "        self.dropout = nn.Dropout(dropout_rate)\n",
    "        \n",
    "        nn.init.kaiming_normal_(self.conv1.weight, nonlinearity='relu')\n",
    "        nn.init.kaiming_normal_(self.conv2.weight, nonlinearity='relu')\n",
    "        nn.init.zeros_(self.conv1.bias)\n",
    "        nn.init.zeros_(self.conv2.bias)\n",
    "        \n",
    "        self.l2_lambda = l2_lambda\n",
    "\n",
    "        if in_channels != out_channels:\n",
    "            self.residual_conv = nn.Conv1d(in_channels, out_channels, kernel_size=1, stride=1)\n",
    "        else:\n",
    "            self.residual_conv = nn.Identity()\n",
    "\n",
    "    def forward(self, x):\n",
    "        residual = self.residual_conv(x)\n",
    "        out = self.conv1(x)\n",
    "        out = self.bn1(out)\n",
    "        out = self.relu(out)\n",
    "        out = self.dropout(out)\n",
    "        out = self.conv2(out)\n",
    "        out = self.bn2(out)\n",
    "        out = out + residual  # Ensure no in-place operation\n",
    "        out = self.relu(out)\n",
    "        \n",
    "        return out\n",
    "\n",
    "class Conv1DModel(nn.Module):\n",
    "    def __init__(self, in_channels, out_channels, kernel_size, num_blocks=1, l2_lambda=0.01, dropout_rate=0.5, classification=True):\n",
    "        super(Conv1DModel, self).__init__()\n",
    "        self.blocks = nn.Sequential(\n",
    "            Conv1ResidualBlock(in_channels, out_channels, kernel_size, l2_lambda=l2_lambda, dropout_rate=dropout_rate),\n",
    "            *[Conv1ResidualBlock(out_channels, out_channels, kernel_size, l2_lambda=l2_lambda, dropout_rate=dropout_rate) for _ in range(num_blocks-1)]\n",
    "        )\n",
    "        self.global_avg_pool = nn.AdaptiveAvgPool1d(1)  # Global average pooling for 1D\n",
    "        self.fc = nn.Linear(out_channels, 2 if classification else 1)\n",
    "        self.classification = classification\n",
    "\n",
    "    def forward(self, x):\n",
    "        out = self.blocks(x)\n",
    "        out = self.global_avg_pool(out)\n",
    "        out = out.view(out.size(0), -1)  # Flatten the tensor\n",
    "        out = self.fc(out)\n",
    "        if self.classification:\n",
    "            out = F.log_softmax(out, dim=1)\n",
    "        return out"
   ]
  },
  {
   "cell_type": "code",
   "execution_count": 7,
   "id": "e7fe8550-9792-424a-9e62-c33145dea378",
   "metadata": {},
   "outputs": [],
   "source": [
    "def conv1d_classification_hyperparameters_search(X, y, gpu_available, ticker_symbol, delete_old_data = False):\n",
    "    if delete_old_data:\n",
    "        delete_hyperparameter_search_model(ticker_symbol, \"conv1d-classification\")\n",
    "\n",
    "    model_path = f'../models/hyperparameters-search-models/pytorch/conv1d-classification/{ticker_symbol}.pth'\n",
    "    csv_path = f'../models/hyperparameters-search-models/ticker-all-models-best-hyperparameters-list.csv'\n",
    "    params_path = f'../models/best-hyperparameters/pytorch/conv1d-classification/{ticker_symbol}.json'\n",
    "    \n",
    "    device = torch.device('cuda' if gpu_available and torch.cuda.is_available() else 'cpu')\n",
    "    \n",
    "    # Convert DataFrame to numpy array\n",
    "    X = X.to_numpy()\n",
    "    y = y.to_numpy()\n",
    "    \n",
    "    # Reshape X for Conv1D\n",
    "    NUM_CHANNELS = 1\n",
    "    X = X.reshape((X.shape[0], NUM_CHANNELS, -1))  # Reshape for Conv1D: (batch_size, num_channels, sequence_length)\n",
    "    \n",
    "    # Split data into training and validation sets\n",
    "    TEST_SIZE = 0.2\n",
    "    RANDOM_STATE = 42\n",
    "    X_train, X_val, y_train, y_val = train_test_split(X, y, test_size=TEST_SIZE, random_state=RANDOM_STATE)\n",
    "    \n",
    "    def conv1d_objective(trial):\n",
    "        in_channels = X_train.shape[1]\n",
    "        out_channels = trial.suggest_int('out_channels', 16, 128)\n",
    "        kernel_size = trial.suggest_int('kernel_size', 3, 7)\n",
    "        num_blocks = trial.suggest_int('num_blocks', 1, 5)\n",
    "        l2_lambda = trial.suggest_float('l2_lambda', 1e-5, 1e-2)\n",
    "        dropout_rate = trial.suggest_float('dropout_rate', 0.1, 0.5)\n",
    "        epochs = trial.suggest_int('epochs', 100, 1000)\n",
    "        \n",
    "        model = Conv1DModel(in_channels, out_channels, kernel_size, num_blocks, l2_lambda, dropout_rate, classification=True).to(device)\n",
    "        optimizer = optim.Adam(model.parameters(), lr=trial.suggest_float('lr', 1e-5, 1e-2), weight_decay=l2_lambda)\n",
    "        criterion = nn.CrossEntropyLoss()\n",
    "        \n",
    "        patience = 10\n",
    "        best_val_accuracy = -np.inf\n",
    "        epochs_no_improve = 0\n",
    "\n",
    "        input_train = torch.tensor(X_train, dtype=torch.float32).to(device)\n",
    "        target_train = torch.tensor(y_train, dtype=torch.long).to(device)\n",
    "        \n",
    "        input_val = torch.tensor(X_val, dtype=torch.float32).to(device)\n",
    "        target_val = torch.tensor(y_val, dtype=torch.long).to(device)\n",
    "        \n",
    "        for epoch in range(epochs):\n",
    "            model.train()\n",
    "            optimizer.zero_grad()\n",
    "            output = model(input_train)\n",
    "            loss = criterion(output, target_train)\n",
    "            loss.backward()\n",
    "            optimizer.step()\n",
    "            \n",
    "            # Validation\n",
    "            model.eval()\n",
    "            with torch.no_grad():\n",
    "                val_output = model(input_val)\n",
    "                val_pred = val_output.argmax(dim=1)\n",
    "                val_accuracy = accuracy_score(target_val.cpu(), val_pred.cpu())\n",
    "                \n",
    "                if val_accuracy > best_val_accuracy:\n",
    "                    best_val_accuracy = val_accuracy\n",
    "                    epochs_no_improve = 0\n",
    "                else:\n",
    "                    epochs_no_improve += 1\n",
    "                \n",
    "                if epochs_no_improve >= patience:\n",
    "                    print(f\"Early stopping at epoch {epoch}\")\n",
    "                    break\n",
    "        \n",
    "        return best_val_accuracy  \n",
    "    \n",
    "    study = optuna.create_study(direction='maximize')\n",
    "    study.optimize(conv1d_objective, n_trials=100)\n",
    "    \n",
    "    best_model = Conv1DModel(X.shape[1], study.best_params['out_channels'], study.best_params['kernel_size'], study.best_params['num_blocks'], study.best_params['l2_lambda'], study.best_params['dropout_rate'], classification=True).to(device)\n",
    "\n",
    "    ticker_df = load_or_create_ticker_df(csv_path)\n",
    "    \n",
    "    # Update ticker_df and save the best model\n",
    "    metric_col = 'Best_Cov1D_Classification_Accuracy'\n",
    "    path_col = 'Best_Cov1D_Classification_Path'\n",
    "    \n",
    "    if ticker_symbol in ticker_df['Ticker_Symbol'].values:\n",
    "        current_score = ticker_df.loc[ticker_df['Ticker_Symbol'] == ticker_symbol, metric_col].values[0]\n",
    "        if pd.isnull(current_score) or study.best_value > current_score:\n",
    "            ticker_df.loc[ticker_df['Ticker_Symbol'] == ticker_symbol, [metric_col, path_col]] = [study.best_value, model_path]\n",
    "            torch.save(best_model.state_dict(), model_path)\n",
    "            with open(params_path, 'w') as f:\n",
    "                json.dump(study.best_params, f)\n",
    "            print(f\"parameters for {ticker_symbol} saved to {params_path}\")\n",
    "            ticker_df.to_csv(csv_path, index=False)\n",
    "            print(f\"Best model for {ticker_symbol} saved with accuracy: {study.best_value}\")\n",
    "        else:\n",
    "            print(f\"Previous model accuracy: {current_score} is better for {ticker_symbol} than accuracy: {study.best_value}\")\n",
    "    else:\n",
    "        new_row = pd.DataFrame({'Ticker_Symbol': [ticker_symbol], metric_col: [study.best_value], path_col: [model_path]})\n",
    "        ticker_df = pd.concat([ticker_df, new_row], ignore_index=True)\n",
    "        torch.save(best_model.state_dict(), model_path)\n",
    "        with open(params_path, 'w') as f:\n",
    "            json.dump(study.best_params, f)\n",
    "        print(f\"parameters for {ticker_symbol} saved to {params_path}\")\n",
    "        ticker_df.to_csv(csv_path, index=False)\n",
    "        print(f\"Best model for {ticker_symbol} saved with accuracy: {study.best_value}\")\n"
   ]
  },
  {
   "cell_type": "code",
   "execution_count": 8,
   "id": "d39830c3-534d-46dc-ad91-6ee2082177da",
   "metadata": {},
   "outputs": [],
   "source": [
    "def conv1d_regression_hyperparameters_search(X, y, gpu_available, ticker_symbol, delete_old_data = False):\n",
    "    if delete_old_data:\n",
    "        delete_hyperparameter_search_model(ticker_symbol, \"conv1d-regression\")\n",
    "\n",
    "    model_path = f'../models/hyperparameters-search-models/pytorch/conv1d-regression/{ticker_symbol}.pth'\n",
    "    csv_path = f'../models/hyperparameters-search-models/ticker-all-models-best-hyperparameters-list.csv'\n",
    "    params_path = f'../models/best-hyperparameters/pytorch/conv1d-regression/{ticker_symbol}.json'\n",
    "    \n",
    "    device = torch.device('cuda' if gpu_available and torch.cuda.is_available() else 'cpu')\n",
    "    \n",
    "    # Convert DataFrame to numpy array\n",
    "    X = X.to_numpy()\n",
    "    y = y.to_numpy().reshape(-1, 1)\n",
    "    \n",
    "    # Reshape X for Conv1D\n",
    "    NUM_CHANNELS = 1\n",
    "    X = X.reshape((X.shape[0], NUM_CHANNELS, -1))  # Reshape for Conv1D: (batch_size, num_channels, sequence_length)\n",
    "    \n",
    "    # Split data into training and validation sets\n",
    "    TEST_SIZE = 0.2\n",
    "    RANDOM_STATE = 42\n",
    "    X_train, X_val, y_train, y_val = train_test_split(X, y, test_size=TEST_SIZE, random_state=RANDOM_STATE)\n",
    "    \n",
    "    def conv1d_objective(trial):\n",
    "        in_channels = X_train.shape[1]\n",
    "        out_channels = trial.suggest_int('out_channels', 16, 128)\n",
    "        kernel_size = trial.suggest_int('kernel_size', 3, 7)\n",
    "        num_blocks = trial.suggest_int('num_blocks', 1, 5)\n",
    "        l2_lambda = trial.suggest_float('l2_lambda', 1e-5, 1e-2)\n",
    "        dropout_rate = trial.suggest_float('dropout_rate', 0.1, 0.5)\n",
    "        epochs = trial.suggest_int('epochs', 10, 100)\n",
    "        \n",
    "        model = Conv1DModel(in_channels, out_channels, kernel_size, num_blocks, l2_lambda, dropout_rate, classification=False).to(device)\n",
    "        optimizer = optim.Adam(model.parameters(), lr=trial.suggest_float('lr', 1e-5, 1e-2), weight_decay=l2_lambda)\n",
    "        criterion = nn.MSELoss()\n",
    "        \n",
    "        patience = 10\n",
    "        best_val_rmse = np.inf\n",
    "        epochs_no_improve = 0\n",
    "\n",
    "        input_train = torch.tensor(X_train, dtype=torch.float32).to(device)\n",
    "        target_train = torch.tensor(y_train, dtype=torch.float32).to(device)\n",
    "        \n",
    "        input_val = torch.tensor(X_val, dtype=torch.float32).to(device)\n",
    "        target_val = torch.tensor(y_val, dtype=torch.float32).to(device)\n",
    "        \n",
    "        for epoch in range(epochs):\n",
    "            model.train() \n",
    "            optimizer.zero_grad()\n",
    "            output = model(input_train)\n",
    "            loss = criterion(output, target_train)\n",
    "            loss.backward()\n",
    "            optimizer.step()\n",
    "        \n",
    "            model.eval()\n",
    "            with torch.no_grad():\n",
    "                val_output = model(input_val)\n",
    "                val_rmse = root_mean_squared_error(target_val.cpu(), val_output.cpu())\n",
    "\n",
    "                if val_rmse < best_val_rmse:\n",
    "                    best_val_rmse = val_rmse\n",
    "                    epochs_no_improve = 0\n",
    "                else:\n",
    "                    epochs_no_improve += 1\n",
    "                \n",
    "                if epochs_no_improve >= patience:\n",
    "                    print(f\"Early stopping at epoch {epoch}\")\n",
    "                    break\n",
    "                \n",
    "        return best_val_rmse\n",
    "    \n",
    "    study = optuna.create_study(direction='minimize')\n",
    "    study.optimize(conv1d_objective, n_trials=100)\n",
    "    \n",
    "    best_model = Conv1DModel(X.shape[1], study.best_params['out_channels'], study.best_params['kernel_size'], study.best_params['num_blocks'], study.best_params['l2_lambda'], study.best_params['dropout_rate'], classification=False).to(device)\n",
    "\n",
    "    ticker_df = load_or_create_ticker_df(csv_path)\n",
    "    \n",
    "    # Update ticker_df and save the best model\n",
    "    metric_col = 'Best_Cov1D_Regression_RMSE'\n",
    "    path_col = 'Best_Cov1D_Regression_Path'\n",
    "    \n",
    "    if ticker_symbol in ticker_df['Ticker_Symbol'].values:\n",
    "        current_score = ticker_df.loc[ticker_df['Ticker_Symbol'] == ticker_symbol, metric_col].values[0]\n",
    "        if pd.isnull(current_score) or study.best_value < current_score:\n",
    "            ticker_df.loc[ticker_df['Ticker_Symbol'] == ticker_symbol, [metric_col, path_col]] = [study.best_value, model_path]\n",
    "            torch.save(best_model.state_dict(), model_path)\n",
    "            with open(params_path, 'w') as f:\n",
    "                json.dump(study.best_params, f)\n",
    "            print(f\"parameters for {ticker_symbol} saved to {params_path}\")\n",
    "            ticker_df.to_csv(csv_path, index=False)\n",
    "            print(f\"Best model for {ticker_symbol} saved with RMSE: {study.best_value}\")\n",
    "        else:\n",
    "            print(f\"Previous model RMSE: {current_score} is better for {ticker_symbol} than RMSE: {study.best_value}\")\n",
    "    else:\n",
    "        new_row = pd.DataFrame({'Ticker_Symbol': [ticker_symbol], metric_col: [study.best_value], path_col: [model_path]})\n",
    "        ticker_df = pd.concat([ticker_df, new_row], ignore_index=True)\n",
    "        torch.save(best_model.state_dict(), model_path)\n",
    "        with open(params_path, 'w') as f:\n",
    "            json.dump(study.best_params, f)\n",
    "        print(f\"parameters for {ticker_symbol} saved to {params_path}\")\n",
    "        ticker_df.to_csv(csv_path, index=False)\n",
    "        print(f\"Best model for {ticker_symbol} saved with RMSE: {study.best_value}\")"
   ]
  },
  {
   "cell_type": "code",
   "execution_count": 9,
   "id": "ee522aad-13c7-46bb-a3bb-5f5e357dde2c",
   "metadata": {},
   "outputs": [],
   "source": [
    "class LSTMResidualBlock(nn.Module):\n",
    "    def __init__(self, input_size, hidden_size, num_layers=1, dropout_rate=0.5):\n",
    "        super(LSTMResidualBlock, self).__init__()\n",
    "        \n",
    "        self.lstm = nn.LSTM(input_size, hidden_size, num_layers=num_layers, batch_first=True, dropout=dropout_rate if num_layers > 1 else 0)\n",
    "        self.dropout = nn.Dropout(dropout_rate)\n",
    "        \n",
    "        if input_size != hidden_size:\n",
    "            self.residual_fc = nn.Linear(input_size, hidden_size)\n",
    "        else:\n",
    "            self.residual_fc = nn.Identity()\n",
    "\n",
    "    def forward(self, x):\n",
    "        residual = self.residual_fc(x)\n",
    "        out, _ = self.lstm(x)\n",
    "        out = self.dropout(out)\n",
    "        out = out + residual  # Ensure no in-place operation\n",
    "        return out\n",
    "\n",
    "class LSTMModel(nn.Module):\n",
    "    def __init__(self, input_size, hidden_size, num_blocks=1, num_layers=1, dropout_rate=0.5, classification=True):\n",
    "        super(LSTMModel, self).__init__()\n",
    "        self.blocks = nn.Sequential(\n",
    "            LSTMResidualBlock(input_size, hidden_size, num_layers=num_layers, dropout_rate=dropout_rate),\n",
    "            *[LSTMResidualBlock(hidden_size, hidden_size, num_layers=num_layers, dropout_rate=dropout_rate) for _ in range(num_blocks-1)]\n",
    "        )\n",
    "        self.global_avg_pool = nn.AdaptiveAvgPool1d(1)  # Global average pooling for 1D\n",
    "        self.fc = nn.Linear(hidden_size, 2 if classification else 1)\n",
    "        self.classification = classification\n",
    "\n",
    "    def forward(self, x):\n",
    "        out = self.blocks(x)\n",
    "        out = out.mean(dim=1)  # Global average pooling\n",
    "        out = self.fc(out)\n",
    "        if self.classification:\n",
    "            out = F.log_softmax(out, dim=1)\n",
    "        return out\n"
   ]
  },
  {
   "cell_type": "code",
   "execution_count": 10,
   "id": "5a250d25-54a4-4bdf-b291-50799ec743f2",
   "metadata": {},
   "outputs": [],
   "source": [
    "def lstm_classification_hyperparameters_search(X, y, gpu_available, ticker_symbol, delete_old_data = False):\n",
    "    if delete_old_data:\n",
    "        delete_hyperparameter_search_model(ticker_symbol, \"lstm-classification\")\n",
    "\n",
    "    model_path = f'../models/hyperparameters-search-models/pytorch/lstm-classification/{ticker_symbol}.pth'\n",
    "    csv_path = f'../models/hyperparameters-search-models/ticker-all-models-best-hyperparameters-list.csv'\n",
    "    params_path = f'../models/best-hyperparameters/pytorch/lstm-classification/{ticker_symbol}.json'\n",
    "    \n",
    "    device = torch.device('cuda' if gpu_available and torch.cuda.is_available() else 'cpu')\n",
    "    \n",
    "    # Convert DataFrame to numpy array\n",
    "    X = X.to_numpy()\n",
    "    y = y.to_numpy()\n",
    "    \n",
    "    def create_sequences(X, y, sequence_length):\n",
    "        sequences_X, sequences_y = [], []\n",
    "        for i in range(len(X) - sequence_length + 1):\n",
    "            sequences_X.append(X[i:i + sequence_length])\n",
    "            sequences_y.append(y[i + sequence_length - 1])\n",
    "        return np.array(sequences_X), np.array(sequences_y)\n",
    "    \n",
    "    def lstm_objective(trial):\n",
    "        sequence_length = trial.suggest_categorical('sequence_length', [5, 7, 14, 20, 30])\n",
    "        \n",
    "        # Create sequences\n",
    "        X_seq, y_seq = create_sequences(X, y, sequence_length)\n",
    "        \n",
    "        # Split data into training, validation, and test sets\n",
    "        TEST_SIZE = 0.2\n",
    "        VAL_SIZE = 0.1\n",
    "        RANDOM_STATE = 42\n",
    "        \n",
    "        X_train, X_temp, y_train, y_temp = train_test_split(X_seq, y_seq, test_size=TEST_SIZE + VAL_SIZE, random_state=RANDOM_STATE)\n",
    "        X_val, X_test, y_val, y_test = train_test_split(X_temp, y_temp, test_size=TEST_SIZE / (TEST_SIZE + VAL_SIZE), random_state=RANDOM_STATE)\n",
    "        \n",
    "        input_size = X_train.shape[2]  # Number of features\n",
    "        hidden_size = trial.suggest_int('hidden_size', 16, 128)\n",
    "        num_layers = trial.suggest_int('num_layers', 1, 3)\n",
    "        num_blocks = trial.suggest_int('num_blocks', 1, 5)\n",
    "        dropout_rate = trial.suggest_float('dropout_rate', 0.1, 0.5)\n",
    "        epochs = trial.suggest_int('epochs', 100, 1000)\n",
    "        \n",
    "        model = LSTMModel(input_size, hidden_size, num_blocks, num_layers, dropout_rate, classification=True).to(device)\n",
    "        optimizer = optim.Adam(model.parameters(), lr=trial.suggest_float('lr', 1e-5, 1e-2))\n",
    "        criterion = nn.CrossEntropyLoss()\n",
    "        \n",
    "        patience = 10\n",
    "        best_val_accuracy = -np.inf\n",
    "        epochs_no_improve = 0\n",
    "\n",
    "        input_train = torch.tensor(X_train, dtype=torch.float32).to(device)\n",
    "        target_train = torch.tensor(y_train, dtype=torch.long).to(device)\n",
    "        \n",
    "        input_val = torch.tensor(X_val, dtype=torch.float32).to(device)\n",
    "        target_val = torch.tensor(y_val, dtype=torch.long).to(device)\n",
    "        \n",
    "        for epoch in range(epochs):\n",
    "            model.train()\n",
    "            optimizer.zero_grad()\n",
    "            output = model(input_train)\n",
    "            loss = criterion(output, target_train)\n",
    "            loss.backward()\n",
    "            optimizer.step()\n",
    "            \n",
    "            # Validation\n",
    "            model.eval()\n",
    "            with torch.no_grad():\n",
    "                val_output = model(input_val)\n",
    "                val_pred = val_output.argmax(dim=1)\n",
    "                val_accuracy = accuracy_score(target_val.cpu(), val_pred.cpu())\n",
    "                \n",
    "                if val_accuracy > best_val_accuracy:\n",
    "                    best_val_accuracy = val_accuracy\n",
    "                    epochs_no_improve = 0\n",
    "                else:\n",
    "                    epochs_no_improve += 1\n",
    "                \n",
    "                if epochs_no_improve >= patience:\n",
    "                    print(f\"Early stopping at epoch {epoch}\")\n",
    "                    break\n",
    "        \n",
    "        return best_val_accuracy  \n",
    "    \n",
    "    study = optuna.create_study(direction='maximize')\n",
    "    study.optimize(lstm_objective, n_trials=100)\n",
    "    \n",
    "    # Reshape X to match the best sequence length\n",
    "    best_sequence_length = study.best_params['sequence_length']\n",
    "    X_seq, y_seq = create_sequences(X, y, best_sequence_length)\n",
    "    \n",
    "    best_model = LSTMModel(X_seq.shape[2], study.best_params['hidden_size'], study.best_params['num_blocks'], study.best_params['num_layers'], study.best_params['dropout_rate'], classification=True).to(device)\n",
    "\n",
    "    ticker_df = load_or_create_ticker_df(csv_path)\n",
    "    \n",
    "    # Update ticker_df and save the best model\n",
    "    metric_col = 'Best_LSTM_Classification_Accuracy'\n",
    "    path_col = 'Best_LSTM_Classification_Path'\n",
    "    \n",
    "    if ticker_symbol in ticker_df['Ticker_Symbol'].values:\n",
    "        current_score = ticker_df.loc[ticker_df['Ticker_Symbol'] == ticker_symbol, metric_col].values[0]\n",
    "        if pd.isnull(current_score) or study.best_value > current_score:\n",
    "            ticker_df.loc[ticker_df['Ticker_Symbol'] == ticker_symbol, [metric_col, path_col]] = [study.best_value, model_path]\n",
    "            torch.save(best_model.state_dict(), model_path)\n",
    "            with open(params_path, 'w') as f:\n",
    "                json.dump(study.best_params, f)\n",
    "            print(f\"parameters for {ticker_symbol} saved to {params_path}\")\n",
    "            ticker_df.to_csv(csv_path, index=False)\n",
    "            print(f\"Best model for {ticker_symbol} saved with accuracy: {study.best_value}\")\n",
    "        else:\n",
    "            print(f\"Previous model accuracy: {current_score} is better for {ticker_symbol} than accuracy: {study.best_value}\")\n",
    "    else:\n",
    "        new_row = pd.DataFrame({'Ticker_Symbol': [ticker_symbol], metric_col: [study.best_value], path_col: [model_path]})\n",
    "        ticker_df = pd.concat([ticker_df, new_row], ignore_index=True)\n",
    "        torch.save(best_model.state_dict(), model_path)\n",
    "        with open(params_path, 'w') as f:\n",
    "            json.dump(study.best_params, f)\n",
    "        print(f\"parameters for {ticker_symbol} saved to {params_path}\")\n",
    "        ticker_df.to_csv(csv_path, index=False)\n",
    "        print(f\"Best model for {ticker_symbol} saved with accuracy: {study.best_value}\")"
   ]
  },
  {
   "cell_type": "code",
   "execution_count": 11,
   "id": "8a6fbf21-a1aa-4123-8329-13d5cf07200c",
   "metadata": {},
   "outputs": [],
   "source": [
    "def lstm_regression_hyperparameters_search(X, y, gpu_available, ticker_symbol, delete_old_data = False):\n",
    "    if delete_old_data:\n",
    "        delete_hyperparameter_search_model(ticker_symbol, \"lstm--regression\")\n",
    "        \n",
    "    model_path = f'../models/hyperparameters-search-models/pytorch/lstm-regression/{ticker_symbol}.pth'\n",
    "    csv_path = f'../models/hyperparameters-search-models/ticker-all-models-best-hyperparameters-list.csv'\n",
    "    params_path = f'../models/best-hyperparameters/pytorch/lstm-regression/{ticker_symbol}.json'\n",
    "\n",
    "    device = torch.device('cuda' if gpu_available and torch.cuda.is_available() else 'cpu')\n",
    "    \n",
    "    # Convert DataFrame to numpy array\n",
    "    X = X.to_numpy()\n",
    "    y = y.to_numpy().reshape(-1, 1)\n",
    "    \n",
    "    def create_sequences(X, y, sequence_length):\n",
    "        sequences_X, sequences_y = [], []\n",
    "        for i in range(len(X) - sequence_length + 1):\n",
    "            sequences_X.append(X[i:i + sequence_length])\n",
    "            sequences_y.append(y[i + sequence_length - 1])\n",
    "        return np.array(sequences_X), np.array(sequences_y)\n",
    "    \n",
    "    def lstm_objective(trial):\n",
    "        sequence_length = trial.suggest_categorical('sequence_length', [5, 7, 14, 20, 30])\n",
    "        \n",
    "        # Create sequences\n",
    "        X_seq, y_seq = create_sequences(X, y, sequence_length)\n",
    "        \n",
    "        # Split data into training, validation, and test sets\n",
    "        TEST_SIZE = 0.2\n",
    "        VAL_SIZE = 0.1\n",
    "        RANDOM_STATE = 42\n",
    "        \n",
    "        X_train, X_temp, y_train, y_temp = train_test_split(X_seq, y_seq, test_size=TEST_SIZE + VAL_SIZE, random_state=RANDOM_STATE)\n",
    "        X_val, X_test, y_val, y_test = train_test_split(X_temp, y_temp, test_size=TEST_SIZE / (TEST_SIZE + VAL_SIZE), random_state=RANDOM_STATE)\n",
    "        \n",
    "        input_size = X_train.shape[2]  # Number of features\n",
    "        hidden_size = trial.suggest_int('hidden_size', 16, 128)\n",
    "        num_layers = trial.suggest_int('num_layers', 1, 3)\n",
    "        num_blocks = trial.suggest_int('num_blocks', 1, 5)\n",
    "        dropout_rate = trial.suggest_float('dropout_rate', 0.1, 0.5)\n",
    "        epochs = trial.suggest_int('epochs', 10, 100)\n",
    "        \n",
    "        model = LSTMModel(input_size, hidden_size, num_blocks, num_layers, dropout_rate, classification=False).to(device)\n",
    "        optimizer = optim.Adam(model.parameters(), lr=trial.suggest_float('lr', 1e-5, 1e-2))\n",
    "        criterion = nn.MSELoss()\n",
    "        \n",
    "        patience = 10\n",
    "        best_val_rmse = np.inf\n",
    "        epochs_no_improve = 0\n",
    "\n",
    "        input_train = torch.tensor(X_train, dtype=torch.float32).to(device)\n",
    "        target_train = torch.tensor(y_train, dtype=torch.float32).to(device)\n",
    "        \n",
    "        input_val = torch.tensor(X_val, dtype=torch.float32).to(device)\n",
    "        target_val = torch.tensor(y_val, dtype=torch.float32).to(device)\n",
    "        \n",
    "        for epoch in range(epochs):\n",
    "            model.train() \n",
    "            optimizer.zero_grad()\n",
    "            output = model(input_train)\n",
    "            loss = criterion(output, target_train)\n",
    "            loss.backward()\n",
    "            optimizer.step()\n",
    "        \n",
    "            model.eval()\n",
    "            with torch.no_grad():\n",
    "                val_output = model(input_val)\n",
    "                val_rmse = root_mean_squared_error(target_val.cpu(), val_output.cpu())\n",
    "\n",
    "                if val_rmse < best_val_rmse:\n",
    "                    best_val_rmse = val_rmse\n",
    "                    epochs_no_improve = 0\n",
    "                else:\n",
    "                    epochs_no_improve += 1\n",
    "                \n",
    "                if epochs_no_improve >= patience:\n",
    "                    print(f\"Early stopping at epoch {epoch}\")\n",
    "                    break\n",
    "                \n",
    "        return best_val_rmse\n",
    "    \n",
    "    study = optuna.create_study(direction='minimize')\n",
    "    study.optimize(lstm_objective, n_trials=100)\n",
    "    \n",
    "    # Reshape X to match the best sequence length\n",
    "    best_sequence_length = study.best_params['sequence_length']\n",
    "    X_seq, y_seq = create_sequences(X, y, best_sequence_length)\n",
    "    \n",
    "    best_model = LSTMModel(X_seq.shape[2], study.best_params['hidden_size'], study.best_params['num_blocks'], study.best_params['num_layers'], study.best_params['dropout_rate'], classification=False).to(device)\n",
    "\n",
    "    ticker_df = load_or_create_ticker_df(csv_path)\n",
    "    \n",
    "    # Update ticker_df and save the best model\n",
    "    metric_col = 'Best_LSTM_Regression_RMSE'\n",
    "    path_col = 'Best_LSTM_Regression_Path'\n",
    "    \n",
    "    if ticker_symbol in ticker_df['Ticker_Symbol'].values:\n",
    "        current_score = ticker_df.loc[ticker_df['Ticker_Symbol'] == ticker_symbol, metric_col].values[0]\n",
    "        if pd.isnull(current_score) or study.best_value < current_score:\n",
    "            ticker_df.loc[ticker_df['Ticker_Symbol'] == ticker_symbol, [metric_col, path_col]] = [study.best_value, model_path]\n",
    "            torch.save(best_model.state_dict(), model_path)\n",
    "            with open(params_path, 'w') as f:\n",
    "                json.dump(study.best_params, f)\n",
    "            print(f\"parameters for {ticker_symbol} saved to {params_path}\")\n",
    "            ticker_df.to_csv(csv_path, index=False)\n",
    "            print(f\"Best model for {ticker_symbol} saved with RMSE: {study.best_value}\")\n",
    "        else:\n",
    "            print(f\"Previous model RMSE: {current_score} is better for {ticker_symbol} than RMSE: {study.best_value}\")\n",
    "    else:\n",
    "        new_row = pd.DataFrame({'Ticker_Symbol': [ticker_symbol], metric_col: [study.best_value], path_col: [model_path]})\n",
    "        ticker_df = pd.concat([ticker_df, new_row], ignore_index=True)\n",
    "        torch.save(best_model.state_dict(), model_path)\n",
    "        with open(params_path, 'w') as f:\n",
    "            json.dump(study.best_params, f)\n",
    "        print(f\"parameters for {ticker_symbol} saved to {params_path}\")\n",
    "        ticker_df.to_csv(csv_path, index=False)\n",
    "        print(f\"Best model for {ticker_symbol} saved with RMSE: {study.best_value}\")\n"
   ]
  },
  {
   "cell_type": "code",
   "execution_count": 12,
   "id": "1b9de1e0-a044-47e9-85cf-6b3a1a97808d",
   "metadata": {},
   "outputs": [
    {
     "name": "stderr",
     "output_type": "stream",
     "text": [
      "[I 2024-09-12 09:53:07,549] A new study created in memory with name: no-name-fbc0f97f-06d8-4daf-997b-cefeace86e56\n"
     ]
    },
    {
     "name": "stdout",
     "output_type": "stream",
     "text": [
      "Deleted ../models/hyperparameters-search-models/pytorch/conv1d-classification/CL=F.pth\n",
      "Deleted ../models/best-hyperparameters/pytorch/conv1d-classification/CL=F.json\n",
      "Deleted CL=F from ../models/hyperparameters-search-models/ticker-all-models-best-hyperparameters-list.csv\n"
     ]
    },
    {
     "name": "stderr",
     "output_type": "stream",
     "text": [
      "C:\\Users\\ng_mi\\Anaconda\\envs\\pytorch-gpu\\Lib\\site-packages\\torch\\nn\\modules\\conv.py:304: UserWarning: Using padding='same' with even kernel lengths and odd dilation may require a zero-padded copy of the input be created (Triggered internally at C:\\cb\\pytorch_1000000000000\\work\\aten\\src\\ATen\\native\\Convolution.cpp:1032.)\n",
      "  return F.conv1d(input, weight, bias, self.stride,\n",
      "[I 2024-09-12 09:53:09,481] Trial 0 finished with value: 0.512396694214876 and parameters: {'out_channels': 109, 'kernel_size': 6, 'num_blocks': 2, 'l2_lambda': 0.002357420665151709, 'dropout_rate': 0.4602281695297873, 'epochs': 410, 'lr': 0.0019425637987949625}. Best is trial 0 with value: 0.512396694214876.\n"
     ]
    },
    {
     "name": "stdout",
     "output_type": "stream",
     "text": [
      "Early stopping at epoch 13\n"
     ]
    },
    {
     "name": "stderr",
     "output_type": "stream",
     "text": [
      "[I 2024-09-12 09:53:10,965] Trial 1 finished with value: 0.512396694214876 and parameters: {'out_channels': 126, 'kernel_size': 5, 'num_blocks': 5, 'l2_lambda': 0.008803285999304479, 'dropout_rate': 0.1558615496188805, 'epochs': 896, 'lr': 0.009388985225337862}. Best is trial 0 with value: 0.512396694214876.\n"
     ]
    },
    {
     "name": "stdout",
     "output_type": "stream",
     "text": [
      "Early stopping at epoch 10\n"
     ]
    },
    {
     "name": "stderr",
     "output_type": "stream",
     "text": [
      "[I 2024-09-12 09:53:11,834] Trial 2 finished with value: 0.512396694214876 and parameters: {'out_channels': 117, 'kernel_size': 3, 'num_blocks': 3, 'l2_lambda': 0.009625131440848799, 'dropout_rate': 0.48465743419500773, 'epochs': 219, 'lr': 0.002571319846568637}. Best is trial 0 with value: 0.512396694214876.\n"
     ]
    },
    {
     "name": "stdout",
     "output_type": "stream",
     "text": [
      "Early stopping at epoch 10\n"
     ]
    },
    {
     "name": "stderr",
     "output_type": "stream",
     "text": [
      "[I 2024-09-12 09:53:12,565] Trial 3 finished with value: 0.512396694214876 and parameters: {'out_channels': 74, 'kernel_size': 4, 'num_blocks': 1, 'l2_lambda': 0.00783090448212774, 'dropout_rate': 0.19658800467651893, 'epochs': 270, 'lr': 0.00023478589946138284}. Best is trial 0 with value: 0.512396694214876.\n"
     ]
    },
    {
     "name": "stdout",
     "output_type": "stream",
     "text": [
      "Early stopping at epoch 19\n"
     ]
    },
    {
     "name": "stderr",
     "output_type": "stream",
     "text": [
      "[I 2024-09-12 09:53:13,323] Trial 4 finished with value: 0.48760330578512395 and parameters: {'out_channels': 41, 'kernel_size': 7, 'num_blocks': 3, 'l2_lambda': 0.00535152378389475, 'dropout_rate': 0.33676574996346736, 'epochs': 631, 'lr': 0.0005431452966024689}. Best is trial 0 with value: 0.512396694214876.\n"
     ]
    },
    {
     "name": "stdout",
     "output_type": "stream",
     "text": [
      "Early stopping at epoch 10\n"
     ]
    },
    {
     "name": "stderr",
     "output_type": "stream",
     "text": [
      "[I 2024-09-12 09:53:14,214] Trial 5 finished with value: 0.512396694214876 and parameters: {'out_channels': 99, 'kernel_size': 3, 'num_blocks': 3, 'l2_lambda': 0.007830149991010579, 'dropout_rate': 0.10087255421891417, 'epochs': 742, 'lr': 0.001520400114742657}. Best is trial 0 with value: 0.512396694214876.\n"
     ]
    },
    {
     "name": "stdout",
     "output_type": "stream",
     "text": [
      "Early stopping at epoch 10\n"
     ]
    },
    {
     "name": "stderr",
     "output_type": "stream",
     "text": [
      "[I 2024-09-12 09:53:15,096] Trial 6 finished with value: 0.512396694214876 and parameters: {'out_channels': 106, 'kernel_size': 4, 'num_blocks': 2, 'l2_lambda': 0.0028682767130821436, 'dropout_rate': 0.23516788172437875, 'epochs': 205, 'lr': 0.0048565844588930535}. Best is trial 0 with value: 0.512396694214876.\n"
     ]
    },
    {
     "name": "stdout",
     "output_type": "stream",
     "text": [
      "Early stopping at epoch 13\n"
     ]
    },
    {
     "name": "stderr",
     "output_type": "stream",
     "text": [
      "[I 2024-09-12 09:53:16,178] Trial 7 finished with value: 0.512396694214876 and parameters: {'out_channels': 31, 'kernel_size': 5, 'num_blocks': 5, 'l2_lambda': 0.00913527532232765, 'dropout_rate': 0.2547586814009269, 'epochs': 167, 'lr': 0.0020683750074064265}. Best is trial 0 with value: 0.512396694214876.\n"
     ]
    },
    {
     "name": "stdout",
     "output_type": "stream",
     "text": [
      "Early stopping at epoch 10\n"
     ]
    },
    {
     "name": "stderr",
     "output_type": "stream",
     "text": [
      "[I 2024-09-12 09:53:17,240] Trial 8 finished with value: 0.512396694214876 and parameters: {'out_channels': 82, 'kernel_size': 5, 'num_blocks': 4, 'l2_lambda': 0.004741565611570436, 'dropout_rate': 0.24509109177941815, 'epochs': 361, 'lr': 0.002773093878237093}. Best is trial 0 with value: 0.512396694214876.\n"
     ]
    },
    {
     "name": "stdout",
     "output_type": "stream",
     "text": [
      "Early stopping at epoch 10\n"
     ]
    },
    {
     "name": "stderr",
     "output_type": "stream",
     "text": [
      "[I 2024-09-12 09:53:18,247] Trial 9 finished with value: 0.512396694214876 and parameters: {'out_channels': 112, 'kernel_size': 6, 'num_blocks': 3, 'l2_lambda': 0.004411172582074674, 'dropout_rate': 0.37101395910912827, 'epochs': 217, 'lr': 0.009508312349986702}. Best is trial 0 with value: 0.512396694214876.\n"
     ]
    },
    {
     "name": "stdout",
     "output_type": "stream",
     "text": [
      "Early stopping at epoch 10\n"
     ]
    },
    {
     "name": "stderr",
     "output_type": "stream",
     "text": [
      "[I 2024-09-12 09:53:18,778] Trial 10 finished with value: 0.512396694214876 and parameters: {'out_channels': 50, 'kernel_size': 7, 'num_blocks': 1, 'l2_lambda': 7.643175820164303e-05, 'dropout_rate': 0.49239335494828734, 'epochs': 483, 'lr': 0.005284070949183698}. Best is trial 0 with value: 0.512396694214876.\n"
     ]
    },
    {
     "name": "stdout",
     "output_type": "stream",
     "text": [
      "Early stopping at epoch 14\n"
     ]
    },
    {
     "name": "stderr",
     "output_type": "stream",
     "text": [
      "[I 2024-09-12 09:53:21,209] Trial 11 finished with value: 0.5537190082644629 and parameters: {'out_channels': 125, 'kernel_size': 6, 'num_blocks': 5, 'l2_lambda': 0.001266053766697055, 'dropout_rate': 0.39736815861868013, 'epochs': 927, 'lr': 0.009533468921507256}. Best is trial 11 with value: 0.5537190082644629.\n"
     ]
    },
    {
     "name": "stdout",
     "output_type": "stream",
     "text": [
      "Early stopping at epoch 15\n"
     ]
    },
    {
     "name": "stderr",
     "output_type": "stream",
     "text": [
      "[I 2024-09-12 09:53:22,140] Trial 12 finished with value: 0.512396694214876 and parameters: {'out_channels': 91, 'kernel_size': 6, 'num_blocks': 2, 'l2_lambda': 0.0007723164556074673, 'dropout_rate': 0.41352954173500395, 'epochs': 958, 'lr': 0.006748476378754247}. Best is trial 11 with value: 0.5537190082644629.\n"
     ]
    },
    {
     "name": "stdout",
     "output_type": "stream",
     "text": [
      "Early stopping at epoch 13\n"
     ]
    },
    {
     "name": "stderr",
     "output_type": "stream",
     "text": [
      "[I 2024-09-12 09:53:23,515] Trial 13 finished with value: 0.512396694214876 and parameters: {'out_channels': 128, 'kernel_size': 6, 'num_blocks': 4, 'l2_lambda': 0.0019368803470582912, 'dropout_rate': 0.42498411152180593, 'epochs': 454, 'lr': 0.007390623133570197}. Best is trial 11 with value: 0.5537190082644629.\n"
     ]
    },
    {
     "name": "stdout",
     "output_type": "stream",
     "text": [
      "Early stopping at epoch 10\n"
     ]
    },
    {
     "name": "stderr",
     "output_type": "stream",
     "text": [
      "[I 2024-09-12 09:53:24,293] Trial 14 finished with value: 0.512396694214876 and parameters: {'out_channels': 56, 'kernel_size': 6, 'num_blocks': 2, 'l2_lambda': 0.0026892822365240294, 'dropout_rate': 0.42873522765488986, 'epochs': 751, 'lr': 0.004257764393928611}. Best is trial 11 with value: 0.5537190082644629.\n"
     ]
    },
    {
     "name": "stdout",
     "output_type": "stream",
     "text": [
      "Early stopping at epoch 12\n"
     ]
    },
    {
     "name": "stderr",
     "output_type": "stream",
     "text": [
      "[I 2024-09-12 09:53:25,646] Trial 15 finished with value: 0.512396694214876 and parameters: {'out_channels': 97, 'kernel_size': 7, 'num_blocks': 4, 'l2_lambda': 0.0014954292361901616, 'dropout_rate': 0.31382471138785967, 'epochs': 646, 'lr': 0.00776936888910214}. Best is trial 11 with value: 0.5537190082644629.\n"
     ]
    },
    {
     "name": "stdout",
     "output_type": "stream",
     "text": [
      "Early stopping at epoch 11\n"
     ]
    },
    {
     "name": "stderr",
     "output_type": "stream",
     "text": [
      "[I 2024-09-12 09:53:27,303] Trial 16 finished with value: 0.512396694214876 and parameters: {'out_channels': 116, 'kernel_size': 6, 'num_blocks': 5, 'l2_lambda': 0.003512443048766174, 'dropout_rate': 0.37778436667734205, 'epochs': 846, 'lr': 0.004145026661961965}. Best is trial 11 with value: 0.5537190082644629.\n"
     ]
    },
    {
     "name": "stdout",
     "output_type": "stream",
     "text": [
      "Early stopping at epoch 10\n"
     ]
    },
    {
     "name": "stderr",
     "output_type": "stream",
     "text": [
      "[I 2024-09-12 09:53:28,205] Trial 17 finished with value: 0.5289256198347108 and parameters: {'out_channels': 67, 'kernel_size': 4, 'num_blocks': 2, 'l2_lambda': 0.006094729823070561, 'dropout_rate': 0.460402226475161, 'epochs': 399, 'lr': 0.005754174452257692}. Best is trial 11 with value: 0.5537190082644629.\n"
     ]
    },
    {
     "name": "stdout",
     "output_type": "stream",
     "text": [
      "Early stopping at epoch 14\n"
     ]
    },
    {
     "name": "stderr",
     "output_type": "stream",
     "text": [
      "[I 2024-09-12 09:53:28,679] Trial 18 finished with value: 0.512396694214876 and parameters: {'out_channels': 59, 'kernel_size': 4, 'num_blocks': 1, 'l2_lambda': 0.006297432750202487, 'dropout_rate': 0.35726520123162775, 'epochs': 587, 'lr': 0.00845773930204791}. Best is trial 11 with value: 0.5537190082644629.\n"
     ]
    },
    {
     "name": "stdout",
     "output_type": "stream",
     "text": [
      "Early stopping at epoch 12\n"
     ]
    },
    {
     "name": "stderr",
     "output_type": "stream",
     "text": [
      "[I 2024-09-12 09:53:29,803] Trial 19 finished with value: 0.512396694214876 and parameters: {'out_channels': 20, 'kernel_size': 5, 'num_blocks': 4, 'l2_lambda': 0.006398796760009479, 'dropout_rate': 0.40054372766310614, 'epochs': 734, 'lr': 0.006205356371812116}. Best is trial 11 with value: 0.5537190082644629.\n"
     ]
    },
    {
     "name": "stdout",
     "output_type": "stream",
     "text": [
      "Early stopping at epoch 13\n"
     ]
    },
    {
     "name": "stderr",
     "output_type": "stream",
     "text": [
      "[I 2024-09-12 09:53:30,541] Trial 20 finished with value: 0.512396694214876 and parameters: {'out_channels': 68, 'kernel_size': 4, 'num_blocks': 2, 'l2_lambda': 0.00642149163960978, 'dropout_rate': 0.45179352312022075, 'epochs': 327, 'lr': 0.009987581269161164}. Best is trial 11 with value: 0.5537190082644629.\n"
     ]
    },
    {
     "name": "stdout",
     "output_type": "stream",
     "text": [
      "Early stopping at epoch 11\n"
     ]
    },
    {
     "name": "stderr",
     "output_type": "stream",
     "text": [
      "[I 2024-09-12 09:53:31,271] Trial 21 finished with value: 0.512396694214876 and parameters: {'out_channels': 84, 'kernel_size': 5, 'num_blocks': 2, 'l2_lambda': 0.0038376140918242644, 'dropout_rate': 0.464422553357387, 'epochs': 437, 'lr': 0.0032162417875511084}. Best is trial 11 with value: 0.5537190082644629.\n"
     ]
    },
    {
     "name": "stdout",
     "output_type": "stream",
     "text": [
      "Early stopping at epoch 10\n"
     ]
    },
    {
     "name": "stderr",
     "output_type": "stream",
     "text": [
      "[I 2024-09-12 09:53:31,960] Trial 22 finished with value: 0.512396694214876 and parameters: {'out_channels': 71, 'kernel_size': 6, 'num_blocks': 2, 'l2_lambda': 0.0017272563439238553, 'dropout_rate': 0.4498919866782515, 'epochs': 107, 'lr': 0.0058813080476580425}. Best is trial 11 with value: 0.5537190082644629.\n"
     ]
    },
    {
     "name": "stdout",
     "output_type": "stream",
     "text": [
      "Early stopping at epoch 10\n"
     ]
    },
    {
     "name": "stderr",
     "output_type": "stream",
     "text": [
      "[I 2024-09-12 09:53:32,411] Trial 23 finished with value: 0.512396694214876 and parameters: {'out_channels': 106, 'kernel_size': 7, 'num_blocks': 1, 'l2_lambda': 0.00017746089873154074, 'dropout_rate': 0.4979637941473776, 'epochs': 507, 'lr': 0.0038119971859857786}. Best is trial 11 with value: 0.5537190082644629.\n"
     ]
    },
    {
     "name": "stdout",
     "output_type": "stream",
     "text": [
      "Early stopping at epoch 10\n"
     ]
    },
    {
     "name": "stderr",
     "output_type": "stream",
     "text": [
      "[I 2024-09-12 09:53:33,223] Trial 24 finished with value: 0.512396694214876 and parameters: {'out_channels': 123, 'kernel_size': 3, 'num_blocks': 2, 'l2_lambda': 0.005440260879009047, 'dropout_rate': 0.39896835480681636, 'epochs': 397, 'lr': 0.008392235523904081}. Best is trial 11 with value: 0.5537190082644629.\n"
     ]
    },
    {
     "name": "stdout",
     "output_type": "stream",
     "text": [
      "Early stopping at epoch 12\n"
     ]
    },
    {
     "name": "stderr",
     "output_type": "stream",
     "text": [
      "[I 2024-09-12 09:53:34,092] Trial 25 finished with value: 0.512396694214876 and parameters: {'out_channels': 83, 'kernel_size': 5, 'num_blocks': 3, 'l2_lambda': 0.003071370827552976, 'dropout_rate': 0.44971275761566604, 'epochs': 553, 'lr': 0.0014744501925372188}. Best is trial 11 with value: 0.5537190082644629.\n"
     ]
    },
    {
     "name": "stdout",
     "output_type": "stream",
     "text": [
      "Early stopping at epoch 10\n"
     ]
    },
    {
     "name": "stderr",
     "output_type": "stream",
     "text": [
      "[I 2024-09-12 09:53:34,586] Trial 26 finished with value: 0.512396694214876 and parameters: {'out_channels': 106, 'kernel_size': 4, 'num_blocks': 1, 'l2_lambda': 0.000951036001843725, 'dropout_rate': 0.3067576963690498, 'epochs': 306, 'lr': 0.005189386454907767}. Best is trial 11 with value: 0.5537190082644629.\n"
     ]
    },
    {
     "name": "stdout",
     "output_type": "stream",
     "text": [
      "Early stopping at epoch 11\n"
     ]
    },
    {
     "name": "stderr",
     "output_type": "stream",
     "text": [
      "[I 2024-09-12 09:53:35,810] Trial 27 finished with value: 0.512396694214876 and parameters: {'out_channels': 90, 'kernel_size': 6, 'num_blocks': 3, 'l2_lambda': 0.0022087423687412702, 'dropout_rate': 0.4678975183310353, 'epochs': 982, 'lr': 0.006673731171348329}. Best is trial 11 with value: 0.5537190082644629.\n"
     ]
    },
    {
     "name": "stdout",
     "output_type": "stream",
     "text": [
      "Early stopping at epoch 13\n"
     ]
    },
    {
     "name": "stderr",
     "output_type": "stream",
     "text": [
      "[I 2024-09-12 09:53:36,415] Trial 28 finished with value: 0.512396694214876 and parameters: {'out_channels': 61, 'kernel_size': 7, 'num_blocks': 2, 'l2_lambda': 0.004014632055290804, 'dropout_rate': 0.3427667081197784, 'epochs': 399, 'lr': 0.0010449396546244683}. Best is trial 11 with value: 0.5537190082644629.\n"
     ]
    },
    {
     "name": "stdout",
     "output_type": "stream",
     "text": [
      "Early stopping at epoch 10\n"
     ]
    },
    {
     "name": "stderr",
     "output_type": "stream",
     "text": [
      "[I 2024-09-12 09:53:38,060] Trial 29 finished with value: 0.512396694214876 and parameters: {'out_channels': 119, 'kernel_size': 5, 'num_blocks': 5, 'l2_lambda': 0.008120947440102881, 'dropout_rate': 0.429152640368871, 'epochs': 797, 'lr': 0.008633337269527076}. Best is trial 11 with value: 0.5537190082644629.\n"
     ]
    },
    {
     "name": "stdout",
     "output_type": "stream",
     "text": [
      "Early stopping at epoch 11\n"
     ]
    },
    {
     "name": "stderr",
     "output_type": "stream",
     "text": [
      "[I 2024-09-12 09:53:39,741] Trial 30 finished with value: 0.512396694214876 and parameters: {'out_channels': 128, 'kernel_size': 6, 'num_blocks': 5, 'l2_lambda': 0.0071689445409822035, 'dropout_rate': 0.38442253119424763, 'epochs': 907, 'lr': 0.0033162519390597086}. Best is trial 11 with value: 0.5537190082644629.\n"
     ]
    },
    {
     "name": "stdout",
     "output_type": "stream",
     "text": [
      "Early stopping at epoch 10\n"
     ]
    },
    {
     "name": "stderr",
     "output_type": "stream",
     "text": [
      "[I 2024-09-12 09:53:41,308] Trial 31 finished with value: 0.512396694214876 and parameters: {'out_channels': 120, 'kernel_size': 5, 'num_blocks': 5, 'l2_lambda': 0.009722769540022205, 'dropout_rate': 0.11342561974090876, 'epochs': 882, 'lr': 0.009034793987057716}. Best is trial 11 with value: 0.5537190082644629.\n"
     ]
    },
    {
     "name": "stdout",
     "output_type": "stream",
     "text": [
      "Early stopping at epoch 11\n"
     ]
    },
    {
     "name": "stderr",
     "output_type": "stream",
     "text": [
      "[I 2024-09-12 09:53:42,714] Trial 32 finished with value: 0.512396694214876 and parameters: {'out_channels': 111, 'kernel_size': 4, 'num_blocks': 4, 'l2_lambda': 0.008986918700255678, 'dropout_rate': 0.18449075074939972, 'epochs': 661, 'lr': 0.007793130166338452}. Best is trial 11 with value: 0.5537190082644629.\n"
     ]
    },
    {
     "name": "stdout",
     "output_type": "stream",
     "text": [
      "Early stopping at epoch 11\n"
     ]
    },
    {
     "name": "stderr",
     "output_type": "stream",
     "text": [
      "[I 2024-09-12 09:53:44,145] Trial 33 finished with value: 0.512396694214876 and parameters: {'out_channels': 125, 'kernel_size': 3, 'num_blocks': 5, 'l2_lambda': 0.00576347125671591, 'dropout_rate': 0.15243831290210533, 'epochs': 923, 'lr': 0.00992702438347378}. Best is trial 11 with value: 0.5537190082644629.\n"
     ]
    },
    {
     "name": "stdout",
     "output_type": "stream",
     "text": [
      "Early stopping at epoch 10\n"
     ]
    },
    {
     "name": "stderr",
     "output_type": "stream",
     "text": [
      "[I 2024-09-12 09:53:45,753] Trial 34 finished with value: 0.512396694214876 and parameters: {'out_channels': 114, 'kernel_size': 6, 'num_blocks': 4, 'l2_lambda': 0.007259033992403884, 'dropout_rate': 0.27577479095301827, 'epochs': 842, 'lr': 0.0089970908986139}. Best is trial 11 with value: 0.5537190082644629.\n"
     ]
    },
    {
     "name": "stdout",
     "output_type": "stream",
     "text": [
      "Early stopping at epoch 12\n"
     ]
    },
    {
     "name": "stderr",
     "output_type": "stream",
     "text": [
      "[I 2024-09-12 09:53:46,660] Trial 35 finished with value: 0.512396694214876 and parameters: {'out_channels': 103, 'kernel_size': 5, 'num_blocks': 3, 'l2_lambda': 0.0011024440460739697, 'dropout_rate': 0.2054371495760643, 'epochs': 272, 'lr': 0.007087657623090359}. Best is trial 11 with value: 0.5537190082644629.\n"
     ]
    },
    {
     "name": "stdout",
     "output_type": "stream",
     "text": [
      "Early stopping at epoch 10\n"
     ]
    },
    {
     "name": "stderr",
     "output_type": "stream",
     "text": [
      "[I 2024-09-12 09:53:48,093] Trial 36 finished with value: 0.512396694214876 and parameters: {'out_channels': 41, 'kernel_size': 4, 'num_blocks': 5, 'l2_lambda': 0.008844463695574116, 'dropout_rate': 0.47661999621686596, 'epochs': 700, 'lr': 0.007923533877832076}. Best is trial 11 with value: 0.5537190082644629.\n"
     ]
    },
    {
     "name": "stdout",
     "output_type": "stream",
     "text": [
      "Early stopping at epoch 11\n"
     ]
    },
    {
     "name": "stderr",
     "output_type": "stream",
     "text": [
      "[I 2024-09-12 09:53:49,060] Trial 37 finished with value: 0.512396694214876 and parameters: {'out_channels': 78, 'kernel_size': 5, 'num_blocks': 3, 'l2_lambda': 0.008204564064496166, 'dropout_rate': 0.32504909681546007, 'epochs': 526, 'lr': 0.0021277526481445846}. Best is trial 11 with value: 0.5537190082644629.\n"
     ]
    },
    {
     "name": "stdout",
     "output_type": "stream",
     "text": [
      "Early stopping at epoch 11\n"
     ]
    },
    {
     "name": "stderr",
     "output_type": "stream",
     "text": [
      "[I 2024-09-12 09:53:50,278] Trial 38 finished with value: 0.512396694214876 and parameters: {'out_channels': 97, 'kernel_size': 3, 'num_blocks': 4, 'l2_lambda': 0.0025563234991087267, 'dropout_rate': 0.13624516514842458, 'epochs': 576, 'lr': 0.00027700177857947934}. Best is trial 11 with value: 0.5537190082644629.\n"
     ]
    },
    {
     "name": "stdout",
     "output_type": "stream",
     "text": [
      "Early stopping at epoch 10\n"
     ]
    },
    {
     "name": "stderr",
     "output_type": "stream",
     "text": [
      "[I 2024-09-12 09:53:51,279] Trial 39 finished with value: 0.512396694214876 and parameters: {'out_channels': 120, 'kernel_size': 4, 'num_blocks': 3, 'l2_lambda': 0.004909317634907398, 'dropout_rate': 0.22205847304742196, 'epochs': 997, 'lr': 0.009346077351349064}. Best is trial 11 with value: 0.5537190082644629.\n"
     ]
    },
    {
     "name": "stdout",
     "output_type": "stream",
     "text": [
      "Early stopping at epoch 10\n"
     ]
    },
    {
     "name": "stderr",
     "output_type": "stream",
     "text": [
      "[I 2024-09-12 09:53:51,785] Trial 40 finished with value: 0.512396694214876 and parameters: {'out_channels': 67, 'kernel_size': 7, 'num_blocks': 1, 'l2_lambda': 0.009978470941623366, 'dropout_rate': 0.2683745639489858, 'epochs': 401, 'lr': 0.005698956362083471}. Best is trial 11 with value: 0.5537190082644629.\n"
     ]
    },
    {
     "name": "stdout",
     "output_type": "stream",
     "text": [
      "Early stopping at epoch 13\n"
     ]
    },
    {
     "name": "stderr",
     "output_type": "stream",
     "text": [
      "[I 2024-09-12 09:53:52,471] Trial 41 finished with value: 0.512396694214876 and parameters: {'out_channels': 111, 'kernel_size': 3, 'num_blocks': 2, 'l2_lambda': 0.009452691734495611, 'dropout_rate': 0.48028736815059564, 'epochs': 217, 'lr': 0.0018510762374104599}. Best is trial 11 with value: 0.5537190082644629.\n"
     ]
    },
    {
     "name": "stdout",
     "output_type": "stream",
     "text": [
      "Early stopping at epoch 10\n"
     ]
    },
    {
     "name": "stderr",
     "output_type": "stream",
     "text": [
      "[I 2024-09-12 09:53:53,833] Trial 42 finished with value: 0.512396694214876 and parameters: {'out_channels': 128, 'kernel_size': 3, 'num_blocks': 5, 'l2_lambda': 0.00860414789059095, 'dropout_rate': 0.43937195142774554, 'epochs': 145, 'lr': 0.001062386228349606}. Best is trial 11 with value: 0.5537190082644629.\n"
     ]
    },
    {
     "name": "stdout",
     "output_type": "stream",
     "text": [
      "Early stopping at epoch 10\n"
     ]
    },
    {
     "name": "stderr",
     "output_type": "stream",
     "text": [
      "[I 2024-09-12 09:53:54,754] Trial 43 finished with value: 0.512396694214876 and parameters: {'out_channels': 114, 'kernel_size': 3, 'num_blocks': 3, 'l2_lambda': 0.007500960101032353, 'dropout_rate': 0.4987634356650623, 'epochs': 352, 'lr': 0.00236630290705595}. Best is trial 11 with value: 0.5537190082644629.\n"
     ]
    },
    {
     "name": "stdout",
     "output_type": "stream",
     "text": [
      "Early stopping at epoch 10\n"
     ]
    },
    {
     "name": "stderr",
     "output_type": "stream",
     "text": [
      "[I 2024-09-12 09:53:55,991] Trial 44 finished with value: 0.512396694214876 and parameters: {'out_channels': 51, 'kernel_size': 4, 'num_blocks': 4, 'l2_lambda': 0.009459791855492032, 'dropout_rate': 0.4102358257288785, 'epochs': 246, 'lr': 0.0046767003816562056}. Best is trial 11 with value: 0.5537190082644629.\n"
     ]
    },
    {
     "name": "stdout",
     "output_type": "stream",
     "text": [
      "Early stopping at epoch 12\n"
     ]
    },
    {
     "name": "stderr",
     "output_type": "stream",
     "text": [
      "[I 2024-09-12 09:53:56,749] Trial 45 finished with value: 0.512396694214876 and parameters: {'out_channels': 103, 'kernel_size': 6, 'num_blocks': 2, 'l2_lambda': 0.008418969718604022, 'dropout_rate': 0.4736371567051099, 'epochs': 167, 'lr': 0.00297133833488313}. Best is trial 11 with value: 0.5537190082644629.\n"
     ]
    },
    {
     "name": "stdout",
     "output_type": "stream",
     "text": [
      "Early stopping at epoch 10\n"
     ]
    },
    {
     "name": "stderr",
     "output_type": "stream",
     "text": [
      "[I 2024-09-12 09:53:57,924] Trial 46 finished with value: 0.512396694214876 and parameters: {'out_channels': 93, 'kernel_size': 5, 'num_blocks': 3, 'l2_lambda': 0.003280323246163233, 'dropout_rate': 0.4228636719277436, 'epochs': 461, 'lr': 0.003653077339920211}. Best is trial 11 with value: 0.5537190082644629.\n"
     ]
    },
    {
     "name": "stdout",
     "output_type": "stream",
     "text": [
      "Early stopping at epoch 13\n"
     ]
    },
    {
     "name": "stderr",
     "output_type": "stream",
     "text": [
      "[I 2024-09-12 09:53:58,723] Trial 47 finished with value: 0.512396694214876 and parameters: {'out_channels': 123, 'kernel_size': 6, 'num_blocks': 2, 'l2_lambda': 0.00054585721179158, 'dropout_rate': 0.3571524924619456, 'epochs': 297, 'lr': 0.002627183438696214}. Best is trial 11 with value: 0.5537190082644629.\n"
     ]
    },
    {
     "name": "stdout",
     "output_type": "stream",
     "text": [
      "Early stopping at epoch 10\n"
     ]
    },
    {
     "name": "stderr",
     "output_type": "stream",
     "text": [
      "[I 2024-09-12 09:53:59,904] Trial 48 finished with value: 0.512396694214876 and parameters: {'out_channels': 111, 'kernel_size': 5, 'num_blocks': 4, 'l2_lambda': 0.0013487371247458224, 'dropout_rate': 0.2857219082274465, 'epochs': 605, 'lr': 0.0009331010160676166}. Best is trial 11 with value: 0.5537190082644629.\n"
     ]
    },
    {
     "name": "stdout",
     "output_type": "stream",
     "text": [
      "Early stopping at epoch 10\n"
     ]
    },
    {
     "name": "stderr",
     "output_type": "stream",
     "text": [
      "[I 2024-09-12 09:54:00,376] Trial 49 finished with value: 0.512396694214876 and parameters: {'out_channels': 118, 'kernel_size': 4, 'num_blocks': 1, 'l2_lambda': 0.0042894496426220605, 'dropout_rate': 0.3960128708761587, 'epochs': 941, 'lr': 3.8668304597729367e-05}. Best is trial 11 with value: 0.5537190082644629.\n"
     ]
    },
    {
     "name": "stdout",
     "output_type": "stream",
     "text": [
      "Early stopping at epoch 10\n"
     ]
    },
    {
     "name": "stderr",
     "output_type": "stream",
     "text": [
      "[I 2024-09-12 09:54:01,214] Trial 50 finished with value: 0.512396694214876 and parameters: {'out_channels': 40, 'kernel_size': 6, 'num_blocks': 3, 'l2_lambda': 0.006046202980439019, 'dropout_rate': 0.45735412378764473, 'epochs': 813, 'lr': 0.004587173878462218}. Best is trial 11 with value: 0.5537190082644629.\n"
     ]
    },
    {
     "name": "stdout",
     "output_type": "stream",
     "text": [
      "Early stopping at epoch 10\n"
     ]
    },
    {
     "name": "stderr",
     "output_type": "stream",
     "text": [
      "[I 2024-09-12 09:54:01,674] Trial 51 finished with value: 0.512396694214876 and parameters: {'out_channels': 64, 'kernel_size': 4, 'num_blocks': 1, 'l2_lambda': 0.006780723540807306, 'dropout_rate': 0.1707033066482103, 'epochs': 247, 'lr': 0.0014725257596771935}. Best is trial 11 with value: 0.5537190082644629.\n"
     ]
    },
    {
     "name": "stdout",
     "output_type": "stream",
     "text": [
      "Early stopping at epoch 10\n"
     ]
    },
    {
     "name": "stderr",
     "output_type": "stream",
     "text": [
      "[I 2024-09-12 09:54:02,418] Trial 52 finished with value: 0.5206611570247934 and parameters: {'out_channels': 78, 'kernel_size': 3, 'num_blocks': 1, 'l2_lambda': 0.0076694034296839655, 'dropout_rate': 0.18673905545740674, 'epochs': 358, 'lr': 0.0005151615119672404}. Best is trial 11 with value: 0.5537190082644629.\n"
     ]
    },
    {
     "name": "stdout",
     "output_type": "stream",
     "text": [
      "Early stopping at epoch 19\n"
     ]
    },
    {
     "name": "stderr",
     "output_type": "stream",
     "text": [
      "[I 2024-09-12 09:54:02,871] Trial 53 finished with value: 0.512396694214876 and parameters: {'out_channels': 77, 'kernel_size': 3, 'num_blocks': 1, 'l2_lambda': 0.009156873448459425, 'dropout_rate': 0.12811106747401485, 'epochs': 357, 'lr': 0.0017158315366798192}. Best is trial 11 with value: 0.5537190082644629.\n"
     ]
    },
    {
     "name": "stdout",
     "output_type": "stream",
     "text": [
      "Early stopping at epoch 10\n"
     ]
    },
    {
     "name": "stderr",
     "output_type": "stream",
     "text": [
      "[I 2024-09-12 09:54:03,764] Trial 54 finished with value: 0.512396694214876 and parameters: {'out_channels': 54, 'kernel_size': 3, 'num_blocks': 2, 'l2_lambda': 0.008032494454154208, 'dropout_rate': 0.2339829138982776, 'epochs': 427, 'lr': 0.0005154742045771477}. Best is trial 11 with value: 0.5537190082644629.\n"
     ]
    },
    {
     "name": "stdout",
     "output_type": "stream",
     "text": [
      "Early stopping at epoch 16\n"
     ]
    },
    {
     "name": "stderr",
     "output_type": "stream",
     "text": [
      "[I 2024-09-12 09:54:04,346] Trial 55 finished with value: 0.512396694214876 and parameters: {'out_channels': 89, 'kernel_size': 3, 'num_blocks': 1, 'l2_lambda': 0.007764485799052196, 'dropout_rate': 0.16009167157537435, 'epochs': 500, 'lr': 0.009675214463903088}. Best is trial 11 with value: 0.5537190082644629.\n"
     ]
    },
    {
     "name": "stdout",
     "output_type": "stream",
     "text": [
      "Early stopping at epoch 13\n"
     ]
    },
    {
     "name": "stderr",
     "output_type": "stream",
     "text": [
      "[I 2024-09-12 09:54:05,805] Trial 56 finished with value: 0.5289256198347108 and parameters: {'out_channels': 100, 'kernel_size': 3, 'num_blocks': 2, 'l2_lambda': 0.005314782474992821, 'dropout_rate': 0.2020058204183735, 'epochs': 174, 'lr': 0.0007440424521419329}. Best is trial 11 with value: 0.5537190082644629.\n"
     ]
    },
    {
     "name": "stdout",
     "output_type": "stream",
     "text": [
      "Early stopping at epoch 23\n"
     ]
    },
    {
     "name": "stderr",
     "output_type": "stream",
     "text": [
      "[I 2024-09-12 09:54:06,879] Trial 57 finished with value: 0.512396694214876 and parameters: {'out_channels': 73, 'kernel_size': 3, 'num_blocks': 2, 'l2_lambda': 0.004671570403122481, 'dropout_rate': 0.18744942293372524, 'epochs': 330, 'lr': 0.0007015082683131398}. Best is trial 11 with value: 0.5537190082644629.\n"
     ]
    },
    {
     "name": "stdout",
     "output_type": "stream",
     "text": [
      "Early stopping at epoch 18\n"
     ]
    },
    {
     "name": "stderr",
     "output_type": "stream",
     "text": [
      "[I 2024-09-12 09:54:07,607] Trial 58 finished with value: 0.48760330578512395 and parameters: {'out_channels': 87, 'kernel_size': 7, 'num_blocks': 2, 'l2_lambda': 0.005280373139265632, 'dropout_rate': 0.20695218853502467, 'epochs': 119, 'lr': 0.0005348507793126352}. Best is trial 11 with value: 0.5537190082644629.\n"
     ]
    },
    {
     "name": "stdout",
     "output_type": "stream",
     "text": [
      "Early stopping at epoch 10\n"
     ]
    },
    {
     "name": "stderr",
     "output_type": "stream",
     "text": [
      "[I 2024-09-12 09:54:08,633] Trial 59 finished with value: 0.512396694214876 and parameters: {'out_channels': 94, 'kernel_size': 4, 'num_blocks': 2, 'l2_lambda': 0.005744113415438703, 'dropout_rate': 0.24919349096283255, 'epochs': 380, 'lr': 0.0013863579232927313}. Best is trial 11 with value: 0.5537190082644629.\n"
     ]
    },
    {
     "name": "stdout",
     "output_type": "stream",
     "text": [
      "Early stopping at epoch 15\n"
     ]
    },
    {
     "name": "stderr",
     "output_type": "stream",
     "text": [
      "[I 2024-09-12 09:54:09,127] Trial 60 finished with value: 0.512396694214876 and parameters: {'out_channels': 101, 'kernel_size': 6, 'num_blocks': 1, 'l2_lambda': 0.006800361635814011, 'dropout_rate': 0.14454411405098938, 'epochs': 471, 'lr': 0.008646720742646921}. Best is trial 11 with value: 0.5537190082644629.\n"
     ]
    },
    {
     "name": "stdout",
     "output_type": "stream",
     "text": [
      "Early stopping at epoch 10\n"
     ]
    },
    {
     "name": "stderr",
     "output_type": "stream",
     "text": [
      "[I 2024-09-12 09:54:11,991] Trial 61 finished with value: 0.5289256198347108 and parameters: {'out_channels': 107, 'kernel_size': 3, 'num_blocks': 5, 'l2_lambda': 0.002085565232876038, 'dropout_rate': 0.1019701894764074, 'epochs': 173, 'lr': 0.0012206584110721064}. Best is trial 11 with value: 0.5537190082644629.\n"
     ]
    },
    {
     "name": "stdout",
     "output_type": "stream",
     "text": [
      "Early stopping at epoch 23\n"
     ]
    },
    {
     "name": "stderr",
     "output_type": "stream",
     "text": [
      "[I 2024-09-12 09:54:13,336] Trial 62 finished with value: 0.512396694214876 and parameters: {'out_channels': 107, 'kernel_size': 3, 'num_blocks': 5, 'l2_lambda': 0.0021595584361736144, 'dropout_rate': 0.12686980220431812, 'epochs': 182, 'lr': 1.7406804495964613e-05}. Best is trial 11 with value: 0.5537190082644629.\n"
     ]
    },
    {
     "name": "stdout",
     "output_type": "stream",
     "text": [
      "Early stopping at epoch 10\n"
     ]
    },
    {
     "name": "stderr",
     "output_type": "stream",
     "text": [
      "[I 2024-09-12 09:54:14,710] Trial 63 finished with value: 0.512396694214876 and parameters: {'out_channels': 107, 'kernel_size': 3, 'num_blocks': 5, 'l2_lambda': 0.001522265345111464, 'dropout_rate': 0.10711526284444531, 'epochs': 278, 'lr': 0.0011014862886020113}. Best is trial 11 with value: 0.5537190082644629.\n"
     ]
    },
    {
     "name": "stdout",
     "output_type": "stream",
     "text": [
      "Early stopping at epoch 10\n"
     ]
    },
    {
     "name": "stderr",
     "output_type": "stream",
     "text": [
      "[I 2024-09-12 09:54:16,391] Trial 64 finished with value: 0.512396694214876 and parameters: {'out_channels': 123, 'kernel_size': 3, 'num_blocks': 5, 'l2_lambda': 0.0005504599184182133, 'dropout_rate': 0.16751255869020498, 'epochs': 134, 'lr': 0.0021158022559921363}. Best is trial 11 with value: 0.5537190082644629.\n"
     ]
    },
    {
     "name": "stdout",
     "output_type": "stream",
     "text": [
      "Early stopping at epoch 12\n"
     ]
    },
    {
     "name": "stderr",
     "output_type": "stream",
     "text": [
      "[I 2024-09-12 09:54:18,712] Trial 65 finished with value: 0.5206611570247934 and parameters: {'out_channels': 79, 'kernel_size': 4, 'num_blocks': 5, 'l2_lambda': 0.0025715228397910597, 'dropout_rate': 0.11477459176214269, 'epochs': 202, 'lr': 0.006574680019759869}. Best is trial 11 with value: 0.5537190082644629.\n"
     ]
    },
    {
     "name": "stdout",
     "output_type": "stream",
     "text": [
      "Early stopping at epoch 17\n"
     ]
    },
    {
     "name": "stderr",
     "output_type": "stream",
     "text": [
      "[I 2024-09-12 09:54:20,106] Trial 66 finished with value: 0.512396694214876 and parameters: {'out_channels': 79, 'kernel_size': 3, 'num_blocks': 5, 'l2_lambda': 0.0024298258595769275, 'dropout_rate': 0.11403113014288871, 'epochs': 188, 'lr': 0.006266078810922562}. Best is trial 11 with value: 0.5537190082644629.\n"
     ]
    },
    {
     "name": "stdout",
     "output_type": "stream",
     "text": [
      "Early stopping at epoch 10\n"
     ]
    },
    {
     "name": "stderr",
     "output_type": "stream",
     "text": [
      "[I 2024-09-12 09:54:21,620] Trial 67 finished with value: 0.512396694214876 and parameters: {'out_channels': 85, 'kernel_size': 4, 'num_blocks': 5, 'l2_lambda': 0.0018324379639265403, 'dropout_rate': 0.12240084615648548, 'epochs': 233, 'lr': 0.00516981759899034}. Best is trial 11 with value: 0.5537190082644629.\n"
     ]
    },
    {
     "name": "stdout",
     "output_type": "stream",
     "text": [
      "Early stopping at epoch 10\n"
     ]
    },
    {
     "name": "stderr",
     "output_type": "stream",
     "text": [
      "[I 2024-09-12 09:54:22,250] Trial 68 finished with value: 0.512396694214876 and parameters: {'out_channels': 72, 'kernel_size': 3, 'num_blocks': 2, 'l2_lambda': 0.003587263886323768, 'dropout_rate': 0.10178188152174367, 'epochs': 153, 'lr': 0.005668818432888389}. Best is trial 11 with value: 0.5537190082644629.\n"
     ]
    },
    {
     "name": "stdout",
     "output_type": "stream",
     "text": [
      "Early stopping at epoch 10\n"
     ]
    },
    {
     "name": "stderr",
     "output_type": "stream",
     "text": [
      "[I 2024-09-12 09:54:23,663] Trial 69 finished with value: 0.512396694214876 and parameters: {'out_channels': 98, 'kernel_size': 3, 'num_blocks': 5, 'l2_lambda': 0.0027236065247513855, 'dropout_rate': 0.1473978460239312, 'epochs': 204, 'lr': 0.00652033131004481}. Best is trial 11 with value: 0.5537190082644629.\n"
     ]
    },
    {
     "name": "stdout",
     "output_type": "stream",
     "text": [
      "Early stopping at epoch 10\n"
     ]
    },
    {
     "name": "stderr",
     "output_type": "stream",
     "text": [
      "[I 2024-09-12 09:54:24,116] Trial 70 finished with value: 0.512396694214876 and parameters: {'out_channels': 60, 'kernel_size': 4, 'num_blocks': 1, 'l2_lambda': 0.0031422791351659015, 'dropout_rate': 0.443689630388103, 'epochs': 424, 'lr': 0.007161423726602764}. Best is trial 11 with value: 0.5537190082644629.\n"
     ]
    },
    {
     "name": "stdout",
     "output_type": "stream",
     "text": [
      "Early stopping at epoch 10\n"
     ]
    },
    {
     "name": "stderr",
     "output_type": "stream",
     "text": [
      "[I 2024-09-12 09:54:25,479] Trial 71 finished with value: 0.5206611570247934 and parameters: {'out_channels': 69, 'kernel_size': 5, 'num_blocks': 5, 'l2_lambda': 0.001966860005422072, 'dropout_rate': 0.17987855758706423, 'epochs': 102, 'lr': 0.008328730441951667}. Best is trial 11 with value: 0.5537190082644629.\n"
     ]
    },
    {
     "name": "stdout",
     "output_type": "stream",
     "text": [
      "Early stopping at epoch 11\n"
     ]
    },
    {
     "name": "stderr",
     "output_type": "stream",
     "text": [
      "[I 2024-09-12 09:54:26,745] Trial 72 finished with value: 0.512396694214876 and parameters: {'out_channels': 68, 'kernel_size': 5, 'num_blocks': 5, 'l2_lambda': 0.002211200482004743, 'dropout_rate': 0.18151166736446428, 'epochs': 119, 'lr': 0.0007853668680413645}. Best is trial 11 with value: 0.5537190082644629.\n"
     ]
    },
    {
     "name": "stdout",
     "output_type": "stream",
     "text": [
      "Early stopping at epoch 10\n"
     ]
    },
    {
     "name": "stderr",
     "output_type": "stream",
     "text": [
      "[I 2024-09-12 09:54:28,243] Trial 73 finished with value: 0.512396694214876 and parameters: {'out_channels': 80, 'kernel_size': 6, 'num_blocks': 5, 'l2_lambda': 0.0014448878385648416, 'dropout_rate': 0.21955946287807904, 'epochs': 100, 'lr': 0.008023208687937591}. Best is trial 11 with value: 0.5537190082644629.\n"
     ]
    },
    {
     "name": "stdout",
     "output_type": "stream",
     "text": [
      "Early stopping at epoch 10\n"
     ]
    },
    {
     "name": "stderr",
     "output_type": "stream",
     "text": [
      "[I 2024-09-12 09:54:29,555] Trial 74 finished with value: 0.512396694214876 and parameters: {'out_channels': 66, 'kernel_size': 5, 'num_blocks': 5, 'l2_lambda': 0.0010995389135697795, 'dropout_rate': 0.13736563753920164, 'epochs': 191, 'lr': 0.00749568289310001}. Best is trial 11 with value: 0.5537190082644629.\n"
     ]
    },
    {
     "name": "stdout",
     "output_type": "stream",
     "text": [
      "Early stopping at epoch 10\n"
     ]
    },
    {
     "name": "stderr",
     "output_type": "stream",
     "text": [
      "[I 2024-09-12 09:54:31,255] Trial 75 finished with value: 0.512396694214876 and parameters: {'out_channels': 74, 'kernel_size': 4, 'num_blocks': 5, 'l2_lambda': 0.0029318939486945336, 'dropout_rate': 0.1937924621085173, 'epochs': 316, 'lr': 0.009209309796147553}. Best is trial 11 with value: 0.5537190082644629.\n"
     ]
    },
    {
     "name": "stdout",
     "output_type": "stream",
     "text": [
      "Early stopping at epoch 13\n"
     ]
    },
    {
     "name": "stderr",
     "output_type": "stream",
     "text": [
      "[I 2024-09-12 09:54:32,489] Trial 76 finished with value: 0.512396694214876 and parameters: {'out_channels': 84, 'kernel_size': 4, 'num_blocks': 4, 'l2_lambda': 0.002106908994840607, 'dropout_rate': 0.17664989917256246, 'epochs': 168, 'lr': 0.008284716305525047}. Best is trial 11 with value: 0.5537190082644629.\n"
     ]
    },
    {
     "name": "stdout",
     "output_type": "stream",
     "text": [
      "Early stopping at epoch 10\n"
     ]
    },
    {
     "name": "stderr",
     "output_type": "stream",
     "text": [
      "[I 2024-09-12 09:54:33,128] Trial 77 finished with value: 0.512396694214876 and parameters: {'out_channels': 93, 'kernel_size': 3, 'num_blocks': 2, 'l2_lambda': 0.0017575843524884832, 'dropout_rate': 0.1598542155320281, 'epochs': 256, 'lr': 0.005514427841517851}. Best is trial 11 with value: 0.5537190082644629.\n"
     ]
    },
    {
     "name": "stdout",
     "output_type": "stream",
     "text": [
      "Early stopping at epoch 10\n"
     ]
    },
    {
     "name": "stderr",
     "output_type": "stream",
     "text": [
      "[I 2024-09-12 09:54:34,789] Trial 78 finished with value: 0.512396694214876 and parameters: {'out_channels': 76, 'kernel_size': 5, 'num_blocks': 5, 'l2_lambda': 0.00399632782284033, 'dropout_rate': 0.20464847019713503, 'epochs': 287, 'lr': 0.005897100386827328}. Best is trial 11 with value: 0.5537190082644629.\n"
     ]
    },
    {
     "name": "stdout",
     "output_type": "stream",
     "text": [
      "Early stopping at epoch 13\n"
     ]
    },
    {
     "name": "stderr",
     "output_type": "stream",
     "text": [
      "[I 2024-09-12 09:54:35,969] Trial 79 finished with value: 0.48760330578512395 and parameters: {'out_channels': 70, 'kernel_size': 6, 'num_blocks': 4, 'l2_lambda': 0.0008144567470778317, 'dropout_rate': 0.2601942348298265, 'epochs': 136, 'lr': 0.0003567014497099136}. Best is trial 11 with value: 0.5537190082644629.\n"
     ]
    },
    {
     "name": "stdout",
     "output_type": "stream",
     "text": [
      "Early stopping at epoch 10\n"
     ]
    },
    {
     "name": "stderr",
     "output_type": "stream",
     "text": [
      "[I 2024-09-12 09:54:37,037] Trial 80 finished with value: 0.512396694214876 and parameters: {'out_channels': 57, 'kernel_size': 7, 'num_blocks': 2, 'l2_lambda': 0.005204651923694516, 'dropout_rate': 0.4914476705027943, 'epochs': 332, 'lr': 0.0013486776717238813}. Best is trial 11 with value: 0.5537190082644629.\n"
     ]
    },
    {
     "name": "stdout",
     "output_type": "stream",
     "text": [
      "Early stopping at epoch 19\n"
     ]
    },
    {
     "name": "stderr",
     "output_type": "stream",
     "text": [
      "[I 2024-09-12 09:54:38,759] Trial 81 finished with value: 0.512396694214876 and parameters: {'out_channels': 63, 'kernel_size': 5, 'num_blocks': 5, 'l2_lambda': 0.0057015907492605385, 'dropout_rate': 0.11700667021877327, 'epochs': 892, 'lr': 0.009832674167337614}. Best is trial 11 with value: 0.5537190082644629.\n"
     ]
    },
    {
     "name": "stdout",
     "output_type": "stream",
     "text": [
      "Early stopping at epoch 15\n"
     ]
    },
    {
     "name": "stderr",
     "output_type": "stream",
     "text": [
      "[I 2024-09-12 09:54:40,294] Trial 82 finished with value: 0.512396694214876 and parameters: {'out_channels': 117, 'kernel_size': 5, 'num_blocks': 5, 'l2_lambda': 0.0024417629669110214, 'dropout_rate': 0.13945542148487472, 'epochs': 870, 'lr': 0.009611557532225142}. Best is trial 11 with value: 0.5537190082644629.\n"
     ]
    },
    {
     "name": "stdout",
     "output_type": "stream",
     "text": [
      "Early stopping at epoch 10\n"
     ]
    },
    {
     "name": "stderr",
     "output_type": "stream",
     "text": [
      "[I 2024-09-12 09:54:42,261] Trial 83 finished with value: 0.512396694214876 and parameters: {'out_channels': 114, 'kernel_size': 5, 'num_blocks': 5, 'l2_lambda': 0.006107997359301134, 'dropout_rate': 0.10046819037642776, 'epochs': 222, 'lr': 0.008833614670640226}. Best is trial 11 with value: 0.5537190082644629.\n"
     ]
    },
    {
     "name": "stdout",
     "output_type": "stream",
     "text": [
      "Early stopping at epoch 14\n"
     ]
    },
    {
     "name": "stderr",
     "output_type": "stream",
     "text": [
      "[I 2024-09-12 09:54:44,420] Trial 84 finished with value: 0.512396694214876 and parameters: {'out_channels': 126, 'kernel_size': 6, 'num_blocks': 5, 'l2_lambda': 0.0012709501638193009, 'dropout_rate': 0.15670877623322077, 'epochs': 966, 'lr': 0.009375579586868413}. Best is trial 11 with value: 0.5537190082644629.\n"
     ]
    },
    {
     "name": "stdout",
     "output_type": "stream",
     "text": [
      "Early stopping at epoch 13\n"
     ]
    },
    {
     "name": "stderr",
     "output_type": "stream",
     "text": [
      "[I 2024-09-12 09:54:46,314] Trial 85 finished with value: 0.512396694214876 and parameters: {'out_channels': 121, 'kernel_size': 5, 'num_blocks': 5, 'l2_lambda': 0.006810775201742687, 'dropout_rate': 0.22069345095588663, 'epochs': 770, 'lr': 0.001770256012279146}. Best is trial 11 with value: 0.5537190082644629.\n"
     ]
    },
    {
     "name": "stdout",
     "output_type": "stream",
     "text": [
      "Early stopping at epoch 12\n"
     ]
    },
    {
     "name": "stderr",
     "output_type": "stream",
     "text": [
      "[I 2024-09-12 09:54:47,322] Trial 86 finished with value: 0.512396694214876 and parameters: {'out_channels': 101, 'kernel_size': 4, 'num_blocks': 3, 'l2_lambda': 0.00035969133760992795, 'dropout_rate': 0.4345869190683049, 'epochs': 544, 'lr': 0.008178722998185568}. Best is trial 11 with value: 0.5537190082644629.\n"
     ]
    },
    {
     "name": "stdout",
     "output_type": "stream",
     "text": [
      "Early stopping at epoch 10\n"
     ]
    },
    {
     "name": "stderr",
     "output_type": "stream",
     "text": [
      "[I 2024-09-12 09:54:48,809] Trial 87 finished with value: 0.512396694214876 and parameters: {'out_channels': 70, 'kernel_size': 6, 'num_blocks': 5, 'l2_lambda': 0.004754879514387918, 'dropout_rate': 0.4624245496641877, 'epochs': 439, 'lr': 0.009053856441816237}. Best is trial 11 with value: 0.5537190082644629.\n"
     ]
    },
    {
     "name": "stdout",
     "output_type": "stream",
     "text": [
      "Early stopping at epoch 10\n"
     ]
    },
    {
     "name": "stderr",
     "output_type": "stream",
     "text": [
      "[I 2024-09-12 09:54:49,935] Trial 88 finished with value: 0.512396694214876 and parameters: {'out_channels': 110, 'kernel_size': 3, 'num_blocks': 4, 'l2_lambda': 0.0033940875472262834, 'dropout_rate': 0.35805941482335907, 'epochs': 387, 'lr': 0.006870175622554529}. Best is trial 11 with value: 0.5537190082644629.\n"
     ]
    },
    {
     "name": "stdout",
     "output_type": "stream",
     "text": [
      "Early stopping at epoch 10\n"
     ]
    },
    {
     "name": "stderr",
     "output_type": "stream",
     "text": [
      "[I 2024-09-12 09:54:50,455] Trial 89 finished with value: 0.512396694214876 and parameters: {'out_channels': 81, 'kernel_size': 3, 'num_blocks': 1, 'l2_lambda': 0.008603517724035507, 'dropout_rate': 0.41408020955920866, 'epochs': 488, 'lr': 0.004249470534171837}. Best is trial 11 with value: 0.5537190082644629.\n"
     ]
    },
    {
     "name": "stdout",
     "output_type": "stream",
     "text": [
      "Early stopping at epoch 12\n"
     ]
    },
    {
     "name": "stderr",
     "output_type": "stream",
     "text": [
      "[I 2024-09-12 09:54:51,154] Trial 90 finished with value: 0.512396694214876 and parameters: {'out_channels': 46, 'kernel_size': 5, 'num_blocks': 2, 'l2_lambda': 0.0016317639674132652, 'dropout_rate': 0.16838453990494956, 'epochs': 164, 'lr': 0.002360015245653553}. Best is trial 11 with value: 0.5537190082644629.\n"
     ]
    },
    {
     "name": "stdout",
     "output_type": "stream",
     "text": [
      "Early stopping at epoch 12\n"
     ]
    },
    {
     "name": "stderr",
     "output_type": "stream",
     "text": [
      "[I 2024-09-12 09:54:52,431] Trial 91 finished with value: 0.512396694214876 and parameters: {'out_channels': 116, 'kernel_size': 3, 'num_blocks': 3, 'l2_lambda': 0.009468992182629523, 'dropout_rate': 0.48354401691044835, 'epochs': 207, 'lr': 0.0011958168802322358}. Best is trial 11 with value: 0.5537190082644629.\n"
     ]
    },
    {
     "name": "stdout",
     "output_type": "stream",
     "text": [
      "Early stopping at epoch 15\n"
     ]
    },
    {
     "name": "stderr",
     "output_type": "stream",
     "text": [
      "[I 2024-09-12 09:54:53,597] Trial 92 finished with value: 0.512396694214876 and parameters: {'out_channels': 109, 'kernel_size': 3, 'num_blocks': 3, 'l2_lambda': 0.00985662115316935, 'dropout_rate': 0.48559919443957944, 'epochs': 701, 'lr': 0.0008819347001156402}. Best is trial 11 with value: 0.5537190082644629.\n"
     ]
    },
    {
     "name": "stdout",
     "output_type": "stream",
     "text": [
      "Early stopping at epoch 13\n"
     ]
    },
    {
     "name": "stderr",
     "output_type": "stream",
     "text": [
      "[I 2024-09-12 09:54:54,373] Trial 93 finished with value: 0.512396694214876 and parameters: {'out_channels': 121, 'kernel_size': 3, 'num_blocks': 2, 'l2_lambda': 0.009262537504485597, 'dropout_rate': 0.46682317329735185, 'epochs': 920, 'lr': 0.007595771084971285}. Best is trial 11 with value: 0.5537190082644629.\n"
     ]
    },
    {
     "name": "stdout",
     "output_type": "stream",
     "text": [
      "Early stopping at epoch 11\n"
     ]
    },
    {
     "name": "stderr",
     "output_type": "stream",
     "text": [
      "[I 2024-09-12 09:54:56,428] Trial 94 finished with value: 0.5206611570247934 and parameters: {'out_channels': 124, 'kernel_size': 4, 'num_blocks': 4, 'l2_lambda': 0.008898311654675492, 'dropout_rate': 0.13072196703858813, 'epochs': 261, 'lr': 0.0016502238240444762}. Best is trial 11 with value: 0.5537190082644629.\n"
     ]
    },
    {
     "name": "stdout",
     "output_type": "stream",
     "text": [
      "Early stopping at epoch 17\n"
     ]
    },
    {
     "name": "stderr",
     "output_type": "stream",
     "text": [
      "[I 2024-09-12 09:54:58,026] Trial 95 finished with value: 0.512396694214876 and parameters: {'out_channels': 125, 'kernel_size': 4, 'num_blocks': 4, 'l2_lambda': 0.008969955953850124, 'dropout_rate': 0.1269278875119994, 'epochs': 364, 'lr': 0.004850447359616634}. Best is trial 11 with value: 0.5537190082644629.\n"
     ]
    },
    {
     "name": "stdout",
     "output_type": "stream",
     "text": [
      "Early stopping at epoch 12\n"
     ]
    },
    {
     "name": "stderr",
     "output_type": "stream",
     "text": [
      "[I 2024-09-12 09:54:59,790] Trial 96 finished with value: 0.512396694214876 and parameters: {'out_channels': 127, 'kernel_size': 4, 'num_blocks': 5, 'l2_lambda': 0.007628629750435401, 'dropout_rate': 0.15142881773883185, 'epochs': 302, 'lr': 0.008664586908343461}. Best is trial 11 with value: 0.5537190082644629.\n"
     ]
    },
    {
     "name": "stdout",
     "output_type": "stream",
     "text": [
      "Early stopping at epoch 10\n"
     ]
    },
    {
     "name": "stderr",
     "output_type": "stream",
     "text": [
      "[I 2024-09-12 09:55:01,397] Trial 97 finished with value: 0.512396694214876 and parameters: {'out_channels': 103, 'kernel_size': 4, 'num_blocks': 5, 'l2_lambda': 0.0019562982765969333, 'dropout_rate': 0.13075506326983002, 'epochs': 228, 'lr': 0.00615136866054317}. Best is trial 11 with value: 0.5537190082644629.\n"
     ]
    },
    {
     "name": "stdout",
     "output_type": "stream",
     "text": [
      "Early stopping at epoch 10\n"
     ]
    },
    {
     "name": "stderr",
     "output_type": "stream",
     "text": [
      "[I 2024-09-12 09:55:03,219] Trial 98 finished with value: 0.512396694214876 and parameters: {'out_channels': 123, 'kernel_size': 4, 'num_blocks': 5, 'l2_lambda': 0.007099504021466918, 'dropout_rate': 0.19569049227831306, 'epochs': 258, 'lr': 0.0019611037874430887}. Best is trial 11 with value: 0.5537190082644629.\n"
     ]
    },
    {
     "name": "stdout",
     "output_type": "stream",
     "text": [
      "Early stopping at epoch 11\n"
     ]
    },
    {
     "name": "stderr",
     "output_type": "stream",
     "text": [
      "[I 2024-09-12 09:55:05,046] Trial 99 finished with value: 0.512396694214876 and parameters: {'out_channels': 118, 'kernel_size': 5, 'num_blocks': 4, 'l2_lambda': 0.00843444829308087, 'dropout_rate': 0.10989330291754475, 'epochs': 120, 'lr': 0.0011848621852743842}. Best is trial 11 with value: 0.5537190082644629.\n",
      "[I 2024-09-12 09:55:05,123] A new study created in memory with name: no-name-a76ff3fd-445d-4df2-aac5-db5d47fd19b8\n"
     ]
    },
    {
     "name": "stdout",
     "output_type": "stream",
     "text": [
      "Early stopping at epoch 16\n",
      "parameters for CL=F saved to ../models/best-hyperparameters/pytorch/conv1d-classification/CL=F.json\n",
      "Best model for CL=F saved with accuracy: 0.5537190082644629\n",
      "Deleted CL=F from ../models/hyperparameters-search-models/ticker-all-models-best-hyperparameters-list.csv\n"
     ]
    },
    {
     "name": "stderr",
     "output_type": "stream",
     "text": [
      "[I 2024-09-12 09:55:07,483] Trial 0 finished with value: 97.87689971923828 and parameters: {'out_channels': 52, 'kernel_size': 3, 'num_blocks': 3, 'l2_lambda': 0.005144635718857545, 'dropout_rate': 0.33079263669458064, 'epochs': 77, 'lr': 8.966794207988065e-05}. Best is trial 0 with value: 97.87689971923828.\n"
     ]
    },
    {
     "name": "stdout",
     "output_type": "stream",
     "text": [
      "Early stopping at epoch 39\n"
     ]
    },
    {
     "name": "stderr",
     "output_type": "stream",
     "text": [
      "[I 2024-09-12 09:55:08,487] Trial 1 finished with value: 1264.1109619140625 and parameters: {'out_channels': 42, 'kernel_size': 5, 'num_blocks': 4, 'l2_lambda': 0.0019059296864824976, 'dropout_rate': 0.46966823564835225, 'epochs': 12, 'lr': 0.008194358472662039}. Best is trial 0 with value: 97.87689971923828.\n",
      "[I 2024-09-12 09:55:13,783] Trial 2 finished with value: 509.5784606933594 and parameters: {'out_channels': 120, 'kernel_size': 3, 'num_blocks': 5, 'l2_lambda': 0.00010650571597190409, 'dropout_rate': 0.4095112994209621, 'epochs': 88, 'lr': 0.005230774041863856}. Best is trial 0 with value: 97.87689971923828.\n"
     ]
    },
    {
     "name": "stdout",
     "output_type": "stream",
     "text": [
      "Early stopping at epoch 46\n"
     ]
    },
    {
     "name": "stderr",
     "output_type": "stream",
     "text": [
      "[I 2024-09-12 09:55:14,999] Trial 3 finished with value: 1728.2015380859375 and parameters: {'out_channels': 62, 'kernel_size': 3, 'num_blocks': 4, 'l2_lambda': 0.008374953992426706, 'dropout_rate': 0.2992736991786594, 'epochs': 37, 'lr': 0.005282211223081335}. Best is trial 0 with value: 97.87689971923828.\n"
     ]
    },
    {
     "name": "stdout",
     "output_type": "stream",
     "text": [
      "Early stopping at epoch 14\n"
     ]
    },
    {
     "name": "stderr",
     "output_type": "stream",
     "text": [
      "[I 2024-09-12 09:55:16,127] Trial 4 finished with value: 139.3304443359375 and parameters: {'out_channels': 78, 'kernel_size': 4, 'num_blocks': 2, 'l2_lambda': 0.005808608028737896, 'dropout_rate': 0.3372474837153465, 'epochs': 50, 'lr': 0.007475799943073566}. Best is trial 0 with value: 97.87689971923828.\n"
     ]
    },
    {
     "name": "stdout",
     "output_type": "stream",
     "text": [
      "Early stopping at epoch 20\n"
     ]
    },
    {
     "name": "stderr",
     "output_type": "stream",
     "text": [
      "[I 2024-09-12 09:55:16,560] Trial 5 finished with value: 427.4400329589844 and parameters: {'out_channels': 33, 'kernel_size': 4, 'num_blocks': 1, 'l2_lambda': 0.008294816584072918, 'dropout_rate': 0.3121409348318887, 'epochs': 44, 'lr': 0.0093002808847806}. Best is trial 0 with value: 97.87689971923828.\n"
     ]
    },
    {
     "name": "stdout",
     "output_type": "stream",
     "text": [
      "Early stopping at epoch 13\n"
     ]
    },
    {
     "name": "stderr",
     "output_type": "stream",
     "text": [
      "[I 2024-09-12 09:55:22,558] Trial 6 finished with value: 284.3115539550781 and parameters: {'out_channels': 93, 'kernel_size': 6, 'num_blocks': 5, 'l2_lambda': 0.007000806096420642, 'dropout_rate': 0.4050508155440822, 'epochs': 46, 'lr': 0.0003552220866042389}. Best is trial 0 with value: 97.87689971923828.\n",
      "[I 2024-09-12 09:55:24,028] Trial 7 finished with value: 105.35322570800781 and parameters: {'out_channels': 31, 'kernel_size': 4, 'num_blocks': 4, 'l2_lambda': 0.00031275489610351864, 'dropout_rate': 0.15250486595497362, 'epochs': 68, 'lr': 0.004407171554911112}. Best is trial 0 with value: 97.87689971923828.\n"
     ]
    },
    {
     "name": "stdout",
     "output_type": "stream",
     "text": [
      "Early stopping at epoch 17\n"
     ]
    },
    {
     "name": "stderr",
     "output_type": "stream",
     "text": [
      "[I 2024-09-12 09:55:25,704] Trial 8 finished with value: 213.2666473388672 and parameters: {'out_channels': 54, 'kernel_size': 3, 'num_blocks': 4, 'l2_lambda': 0.002660782290082353, 'dropout_rate': 0.1276538552646707, 'epochs': 89, 'lr': 0.009907686862816439}. Best is trial 0 with value: 97.87689971923828.\n"
     ]
    },
    {
     "name": "stdout",
     "output_type": "stream",
     "text": [
      "Early stopping at epoch 21\n"
     ]
    },
    {
     "name": "stderr",
     "output_type": "stream",
     "text": [
      "[I 2024-09-12 09:55:26,007] Trial 9 finished with value: 2134.59423828125 and parameters: {'out_channels': 35, 'kernel_size': 5, 'num_blocks': 1, 'l2_lambda': 0.008486719993702303, 'dropout_rate': 0.3915421980676346, 'epochs': 10, 'lr': 0.004170623993255372}. Best is trial 0 with value: 97.87689971923828.\n",
      "[I 2024-09-12 09:55:29,155] Trial 10 finished with value: 4884.4033203125 and parameters: {'out_channels': 16, 'kernel_size': 7, 'num_blocks': 2, 'l2_lambda': 0.004023702680335337, 'dropout_rate': 0.22337110457012876, 'epochs': 74, 'lr': 0.00023781537521744636}. Best is trial 0 with value: 97.87689971923828.\n",
      "[I 2024-09-12 09:55:32,261] Trial 11 finished with value: 348.90869140625 and parameters: {'out_channels': 17, 'kernel_size': 4, 'num_blocks': 3, 'l2_lambda': 0.004911586417620572, 'dropout_rate': 0.10448159096538198, 'epochs': 69, 'lr': 0.0024718656836962287}. Best is trial 0 with value: 97.87689971923828.\n"
     ]
    },
    {
     "name": "stdout",
     "output_type": "stream",
     "text": [
      "Early stopping at epoch 42\n"
     ]
    },
    {
     "name": "stderr",
     "output_type": "stream",
     "text": [
      "[I 2024-09-12 09:55:33,583] Trial 12 finished with value: 3457.660400390625 and parameters: {'out_channels': 82, 'kernel_size': 4, 'num_blocks': 3, 'l2_lambda': 0.0004305836521829882, 'dropout_rate': 0.21157370331836173, 'epochs': 72, 'lr': 0.0029622302368913084}. Best is trial 0 with value: 97.87689971923828.\n"
     ]
    },
    {
     "name": "stdout",
     "output_type": "stream",
     "text": [
      "Early stopping at epoch 14\n"
     ]
    },
    {
     "name": "stderr",
     "output_type": "stream",
     "text": [
      "[I 2024-09-12 09:55:34,787] Trial 13 finished with value: 243.25155639648438 and parameters: {'out_channels': 51, 'kernel_size': 3, 'num_blocks': 3, 'l2_lambda': 0.003547338866907123, 'dropout_rate': 0.22688824682525993, 'epochs': 100, 'lr': 0.0017499000123563436}. Best is trial 0 with value: 97.87689971923828.\n"
     ]
    },
    {
     "name": "stdout",
     "output_type": "stream",
     "text": [
      "Early stopping at epoch 18\n"
     ]
    },
    {
     "name": "stderr",
     "output_type": "stream",
     "text": [
      "[I 2024-09-12 09:55:36,620] Trial 14 finished with value: 794.163818359375 and parameters: {'out_channels': 30, 'kernel_size': 4, 'num_blocks': 4, 'l2_lambda': 0.005747662279335954, 'dropout_rate': 0.16831674925819817, 'epochs': 67, 'lr': 0.003671393577373244}. Best is trial 0 with value: 97.87689971923828.\n"
     ]
    },
    {
     "name": "stdout",
     "output_type": "stream",
     "text": [
      "Early stopping at epoch 21\n"
     ]
    },
    {
     "name": "stderr",
     "output_type": "stream",
     "text": [
      "[I 2024-09-12 09:55:39,488] Trial 15 finished with value: 121.36354064941406 and parameters: {'out_channels': 65, 'kernel_size': 6, 'num_blocks': 2, 'l2_lambda': 0.0015378799437637878, 'dropout_rate': 0.26904310099367246, 'epochs': 62, 'lr': 0.006625663390944488}. Best is trial 0 with value: 97.87689971923828.\n"
     ]
    },
    {
     "name": "stdout",
     "output_type": "stream",
     "text": [
      "Early stopping at epoch 52\n"
     ]
    },
    {
     "name": "stderr",
     "output_type": "stream",
     "text": [
      "[I 2024-09-12 09:55:41,602] Trial 16 finished with value: 2142.1904296875 and parameters: {'out_channels': 101, 'kernel_size': 3, 'num_blocks': 5, 'l2_lambda': 0.006737773839046515, 'dropout_rate': 0.36346308606078853, 'epochs': 81, 'lr': 0.0013203788207201749}. Best is trial 0 with value: 97.87689971923828.\n"
     ]
    },
    {
     "name": "stdout",
     "output_type": "stream",
     "text": [
      "Early stopping at epoch 17\n"
     ]
    },
    {
     "name": "stderr",
     "output_type": "stream",
     "text": [
      "[I 2024-09-12 09:55:43,640] Trial 17 finished with value: 1320.489013671875 and parameters: {'out_channels': 54, 'kernel_size': 5, 'num_blocks': 4, 'l2_lambda': 0.0039350511580116205, 'dropout_rate': 0.16567940221526511, 'epochs': 57, 'lr': 0.006293717207999624}. Best is trial 0 with value: 97.87689971923828.\n"
     ]
    },
    {
     "name": "stdout",
     "output_type": "stream",
     "text": [
      "Early stopping at epoch 23\n"
     ]
    },
    {
     "name": "stderr",
     "output_type": "stream",
     "text": [
      "[I 2024-09-12 09:55:45,214] Trial 18 finished with value: 182.87452697753906 and parameters: {'out_channels': 42, 'kernel_size': 5, 'num_blocks': 3, 'l2_lambda': 0.0024000899383560255, 'dropout_rate': 0.4621396072548858, 'epochs': 30, 'lr': 0.004339433778906133}. Best is trial 0 with value: 97.87689971923828.\n"
     ]
    },
    {
     "name": "stdout",
     "output_type": "stream",
     "text": [
      "Early stopping at epoch 24\n"
     ]
    },
    {
     "name": "stderr",
     "output_type": "stream",
     "text": [
      "[I 2024-09-12 09:55:50,576] Trial 19 finished with value: 2678.627197265625 and parameters: {'out_channels': 23, 'kernel_size': 4, 'num_blocks': 3, 'l2_lambda': 0.009522347066885664, 'dropout_rate': 0.2729129193723729, 'epochs': 81, 'lr': 0.0013187521641273847}. Best is trial 0 with value: 97.87689971923828.\n",
      "[I 2024-09-12 09:55:52,765] Trial 20 finished with value: 132.8477325439453 and parameters: {'out_channels': 47, 'kernel_size': 6, 'num_blocks': 2, 'l2_lambda': 0.0010165511496852356, 'dropout_rate': 0.1786864134995009, 'epochs': 99, 'lr': 0.0027607983575962465}. Best is trial 0 with value: 97.87689971923828.\n"
     ]
    },
    {
     "name": "stdout",
     "output_type": "stream",
     "text": [
      "Early stopping at epoch 38\n"
     ]
    },
    {
     "name": "stderr",
     "output_type": "stream",
     "text": [
      "[I 2024-09-12 09:55:54,109] Trial 21 finished with value: 212.76654052734375 and parameters: {'out_channels': 68, 'kernel_size': 6, 'num_blocks': 2, 'l2_lambda': 0.001385666722629229, 'dropout_rate': 0.2708507328907307, 'epochs': 60, 'lr': 0.006500039249771607}. Best is trial 0 with value: 97.87689971923828.\n"
     ]
    },
    {
     "name": "stdout",
     "output_type": "stream",
     "text": [
      "Early stopping at epoch 21\n"
     ]
    },
    {
     "name": "stderr",
     "output_type": "stream",
     "text": [
      "[I 2024-09-12 09:55:55,066] Trial 22 finished with value: 794.4649047851562 and parameters: {'out_channels': 64, 'kernel_size': 7, 'num_blocks': 2, 'l2_lambda': 0.0028707587350435292, 'dropout_rate': 0.2803630351189476, 'epochs': 62, 'lr': 0.006367835984295828}. Best is trial 0 with value: 97.87689971923828.\n"
     ]
    },
    {
     "name": "stdout",
     "output_type": "stream",
     "text": [
      "Early stopping at epoch 18\n"
     ]
    },
    {
     "name": "stderr",
     "output_type": "stream",
     "text": [
      "[I 2024-09-12 09:55:56,016] Trial 23 finished with value: 323.03985595703125 and parameters: {'out_channels': 77, 'kernel_size': 6, 'num_blocks': 3, 'l2_lambda': 0.0011932476748447009, 'dropout_rate': 0.34053442649227883, 'epochs': 78, 'lr': 0.007617355881332569}. Best is trial 0 with value: 97.87689971923828.\n"
     ]
    },
    {
     "name": "stdout",
     "output_type": "stream",
     "text": [
      "Early stopping at epoch 10\n"
     ]
    },
    {
     "name": "stderr",
     "output_type": "stream",
     "text": [
      "[I 2024-09-12 09:55:56,684] Trial 24 finished with value: 213.1220703125 and parameters: {'out_channels': 59, 'kernel_size': 7, 'num_blocks': 1, 'l2_lambda': 0.00488263157910155, 'dropout_rate': 0.2415324634936452, 'epochs': 64, 'lr': 0.005849329571228705}. Best is trial 0 with value: 97.87689971923828.\n"
     ]
    },
    {
     "name": "stdout",
     "output_type": "stream",
     "text": [
      "Early stopping at epoch 20\n"
     ]
    },
    {
     "name": "stderr",
     "output_type": "stream",
     "text": [
      "[I 2024-09-12 09:55:58,203] Trial 25 finished with value: 219.969482421875 and parameters: {'out_channels': 89, 'kernel_size': 3, 'num_blocks': 2, 'l2_lambda': 0.0006904252452097593, 'dropout_rate': 0.1926595354526638, 'epochs': 88, 'lr': 0.008758290048622672}. Best is trial 0 with value: 97.87689971923828.\n"
     ]
    },
    {
     "name": "stdout",
     "output_type": "stream",
     "text": [
      "Early stopping at epoch 29\n"
     ]
    },
    {
     "name": "stderr",
     "output_type": "stream",
     "text": [
      "[I 2024-09-12 09:56:00,029] Trial 26 finished with value: 534.4585571289062 and parameters: {'out_channels': 44, 'kernel_size': 6, 'num_blocks': 4, 'l2_lambda': 0.0020320650726497833, 'dropout_rate': 0.13171363357036078, 'epochs': 52, 'lr': 0.004428877681288593}. Best is trial 0 with value: 97.87689971923828.\n"
     ]
    },
    {
     "name": "stdout",
     "output_type": "stream",
     "text": [
      "Early stopping at epoch 19\n"
     ]
    },
    {
     "name": "stderr",
     "output_type": "stream",
     "text": [
      "[I 2024-09-12 09:56:01,700] Trial 27 finished with value: 154.3982696533203 and parameters: {'out_channels': 70, 'kernel_size': 4, 'num_blocks': 3, 'l2_lambda': 0.003598933350565859, 'dropout_rate': 0.31979458215364687, 'epochs': 31, 'lr': 0.006989276172161424}. Best is trial 0 with value: 97.87689971923828.\n"
     ]
    },
    {
     "name": "stdout",
     "output_type": "stream",
     "text": [
      "Early stopping at epoch 21\n"
     ]
    },
    {
     "name": "stderr",
     "output_type": "stream",
     "text": [
      "[I 2024-09-12 09:56:03,340] Trial 28 finished with value: 1253.4886474609375 and parameters: {'out_channels': 109, 'kernel_size': 5, 'num_blocks': 4, 'l2_lambda': 0.0062663917507870745, 'dropout_rate': 0.43727072801233635, 'epochs': 77, 'lr': 0.0035219267067940095}. Best is trial 0 with value: 97.87689971923828.\n"
     ]
    },
    {
     "name": "stdout",
     "output_type": "stream",
     "text": [
      "Early stopping at epoch 15\n"
     ]
    },
    {
     "name": "stderr",
     "output_type": "stream",
     "text": [
      "[I 2024-09-12 09:56:04,139] Trial 29 finished with value: 98.033935546875 and parameters: {'out_channels': 40, 'kernel_size': 5, 'num_blocks': 2, 'l2_lambda': 0.0017478486508736182, 'dropout_rate': 0.2519957410321203, 'epochs': 55, 'lr': 0.00830247539967849}. Best is trial 0 with value: 97.87689971923828.\n"
     ]
    },
    {
     "name": "stdout",
     "output_type": "stream",
     "text": [
      "Early stopping at epoch 16\n"
     ]
    },
    {
     "name": "stderr",
     "output_type": "stream",
     "text": [
      "[I 2024-09-12 09:56:06,038] Trial 30 finished with value: 161.48007202148438 and parameters: {'out_channels': 38, 'kernel_size': 5, 'num_blocks': 5, 'l2_lambda': 0.004456828248886793, 'dropout_rate': 0.37523163607330823, 'epochs': 20, 'lr': 0.008074311722663707}. Best is trial 0 with value: 97.87689971923828.\n",
      "[I 2024-09-12 09:56:07,212] Trial 31 finished with value: 695.5816650390625 and parameters: {'out_channels': 30, 'kernel_size': 5, 'num_blocks': 2, 'l2_lambda': 0.0016550084969332206, 'dropout_rate': 0.25632562931513236, 'epochs': 56, 'lr': 0.00860362400110447}. Best is trial 0 with value: 97.87689971923828.\n"
     ]
    },
    {
     "name": "stdout",
     "output_type": "stream",
     "text": [
      "Early stopping at epoch 22\n"
     ]
    },
    {
     "name": "stderr",
     "output_type": "stream",
     "text": [
      "[I 2024-09-12 09:56:07,812] Trial 32 finished with value: 402.2862548828125 and parameters: {'out_channels': 48, 'kernel_size': 6, 'num_blocks': 1, 'l2_lambda': 0.00038669590370617613, 'dropout_rate': 0.2940388253396336, 'epochs': 68, 'lr': 0.007128684764022444}. Best is trial 0 with value: 97.87689971923828.\n"
     ]
    },
    {
     "name": "stdout",
     "output_type": "stream",
     "text": [
      "Early stopping at epoch 16\n"
     ]
    },
    {
     "name": "stderr",
     "output_type": "stream",
     "text": [
      "[I 2024-09-12 09:56:09,489] Trial 33 finished with value: 202.96865844726562 and parameters: {'out_channels': 24, 'kernel_size': 3, 'num_blocks': 2, 'l2_lambda': 7.86915464417782e-05, 'dropout_rate': 0.3493402379024123, 'epochs': 44, 'lr': 0.004968596818144178}. Best is trial 0 with value: 97.87689971923828.\n"
     ]
    },
    {
     "name": "stdout",
     "output_type": "stream",
     "text": [
      "Early stopping at epoch 38\n"
     ]
    },
    {
     "name": "stderr",
     "output_type": "stream",
     "text": [
      "[I 2024-09-12 09:56:11,272] Trial 34 finished with value: 1728.02734375 and parameters: {'out_channels': 59, 'kernel_size': 4, 'num_blocks': 3, 'l2_lambda': 0.0019934898250209905, 'dropout_rate': 0.24640708673539674, 'epochs': 88, 'lr': 0.005623820738825397}. Best is trial 0 with value: 97.87689971923828.\n"
     ]
    },
    {
     "name": "stdout",
     "output_type": "stream",
     "text": [
      "Early stopping at epoch 22\n"
     ]
    },
    {
     "name": "stderr",
     "output_type": "stream",
     "text": [
      "[I 2024-09-12 09:56:12,086] Trial 35 finished with value: 682.6466064453125 and parameters: {'out_channels': 37, 'kernel_size': 3, 'num_blocks': 2, 'l2_lambda': 0.003124982327228149, 'dropout_rate': 0.31527934941520325, 'epochs': 50, 'lr': 0.008371362550030514}. Best is trial 0 with value: 97.87689971923828.\n"
     ]
    },
    {
     "name": "stdout",
     "output_type": "stream",
     "text": [
      "Early stopping at epoch 15\n"
     ]
    },
    {
     "name": "stderr",
     "output_type": "stream",
     "text": [
      "[I 2024-09-12 09:56:12,667] Trial 36 finished with value: 1029.2076416015625 and parameters: {'out_channels': 64, 'kernel_size': 4, 'num_blocks': 1, 'l2_lambda': 0.0007561528886482025, 'dropout_rate': 0.20285300724433855, 'epochs': 63, 'lr': 0.009395769998087382}. Best is trial 0 with value: 97.87689971923828.\n"
     ]
    },
    {
     "name": "stdout",
     "output_type": "stream",
     "text": [
      "Early stopping at epoch 16\n"
     ]
    },
    {
     "name": "stderr",
     "output_type": "stream",
     "text": [
      "[I 2024-09-12 09:56:14,524] Trial 37 finished with value: 216.69264221191406 and parameters: {'out_channels': 41, 'kernel_size': 5, 'num_blocks': 3, 'l2_lambda': 0.002347568022444995, 'dropout_rate': 0.29172109819967723, 'epochs': 38, 'lr': 0.007784519465224221}. Best is trial 0 with value: 97.87689971923828.\n"
     ]
    },
    {
     "name": "stdout",
     "output_type": "stream",
     "text": [
      "Early stopping at epoch 26\n"
     ]
    },
    {
     "name": "stderr",
     "output_type": "stream",
     "text": [
      "[I 2024-09-12 09:56:15,662] Trial 38 finished with value: 265.3950500488281 and parameters: {'out_channels': 23, 'kernel_size': 5, 'num_blocks': 4, 'l2_lambda': 0.0057723923345580465, 'dropout_rate': 0.4905634672610303, 'epochs': 53, 'lr': 0.005142501905857151}. Best is trial 0 with value: 97.87689971923828.\n"
     ]
    },
    {
     "name": "stdout",
     "output_type": "stream",
     "text": [
      "Early stopping at epoch 12\n"
     ]
    },
    {
     "name": "stderr",
     "output_type": "stream",
     "text": [
      "[I 2024-09-12 09:56:18,168] Trial 39 finished with value: 177.24217224121094 and parameters: {'out_channels': 55, 'kernel_size': 6, 'num_blocks': 5, 'l2_lambda': 0.0017043608493411341, 'dropout_rate': 0.15158088821668303, 'epochs': 72, 'lr': 0.009164252496886507}. Best is trial 0 with value: 97.87689971923828.\n"
     ]
    },
    {
     "name": "stdout",
     "output_type": "stream",
     "text": [
      "Early stopping at epoch 20\n"
     ]
    },
    {
     "name": "stderr",
     "output_type": "stream",
     "text": [
      "[I 2024-09-12 09:56:19,027] Trial 40 finished with value: 199.14358520507812 and parameters: {'out_channels': 75, 'kernel_size': 4, 'num_blocks': 2, 'l2_lambda': 0.007918214855108002, 'dropout_rate': 0.3243750236935068, 'epochs': 83, 'lr': 0.0008182678597403003}. Best is trial 0 with value: 97.87689971923828.\n"
     ]
    },
    {
     "name": "stdout",
     "output_type": "stream",
     "text": [
      "Early stopping at epoch 13\n"
     ]
    },
    {
     "name": "stderr",
     "output_type": "stream",
     "text": [
      "[I 2024-09-12 09:56:20,066] Trial 41 finished with value: 1430.523681640625 and parameters: {'out_channels': 46, 'kernel_size': 6, 'num_blocks': 2, 'l2_lambda': 0.001024616023126814, 'dropout_rate': 0.19360512822877218, 'epochs': 94, 'lr': 0.002514059977007933}. Best is trial 0 with value: 97.87689971923828.\n"
     ]
    },
    {
     "name": "stdout",
     "output_type": "stream",
     "text": [
      "Early stopping at epoch 17\n"
     ]
    },
    {
     "name": "stderr",
     "output_type": "stream",
     "text": [
      "[I 2024-09-12 09:56:21,202] Trial 42 finished with value: 1505.8868408203125 and parameters: {'out_channels': 122, 'kernel_size': 7, 'num_blocks': 2, 'l2_lambda': 0.0011613808579017065, 'dropout_rate': 0.13292394982914854, 'epochs': 92, 'lr': 0.0021365428634825584}. Best is trial 0 with value: 97.87689971923828.\n"
     ]
    },
    {
     "name": "stdout",
     "output_type": "stream",
     "text": [
      "Early stopping at epoch 16\n"
     ]
    },
    {
     "name": "stderr",
     "output_type": "stream",
     "text": [
      "[I 2024-09-12 09:56:21,714] Trial 43 finished with value: 756.510498046875 and parameters: {'out_channels': 49, 'kernel_size': 6, 'num_blocks': 1, 'l2_lambda': 1.0275613752703519e-05, 'dropout_rate': 0.169297979969942, 'epochs': 98, 'lr': 0.00329313138507341}. Best is trial 0 with value: 97.87689971923828.\n"
     ]
    },
    {
     "name": "stdout",
     "output_type": "stream",
     "text": [
      "Early stopping at epoch 13\n"
     ]
    },
    {
     "name": "stderr",
     "output_type": "stream",
     "text": [
      "[I 2024-09-12 09:56:24,628] Trial 44 finished with value: 2600.257568359375 and parameters: {'out_channels': 33, 'kernel_size': 6, 'num_blocks': 2, 'l2_lambda': 0.000824691303618989, 'dropout_rate': 0.10845865704469024, 'epochs': 58, 'lr': 9.875814147570572e-05}. Best is trial 0 with value: 97.87689971923828.\n",
      "[I 2024-09-12 09:56:25,653] Trial 45 finished with value: 596.34033203125 and parameters: {'out_channels': 27, 'kernel_size': 3, 'num_blocks': 3, 'l2_lambda': 0.0015144813814191459, 'dropout_rate': 0.22485507730577425, 'epochs': 47, 'lr': 0.00475227603791538}. Best is trial 0 with value: 97.87689971923828.\n"
     ]
    },
    {
     "name": "stdout",
     "output_type": "stream",
     "text": [
      "Early stopping at epoch 15\n"
     ]
    },
    {
     "name": "stderr",
     "output_type": "stream",
     "text": [
      "[I 2024-09-12 09:56:26,440] Trial 46 finished with value: 376.43243408203125 and parameters: {'out_channels': 54, 'kernel_size': 7, 'num_blocks': 1, 'l2_lambda': 0.005280066825849085, 'dropout_rate': 0.1791868806623737, 'epochs': 74, 'lr': 0.005608880124330244}. Best is trial 0 with value: 97.87689971923828.\n"
     ]
    },
    {
     "name": "stdout",
     "output_type": "stream",
     "text": [
      "Early stopping at epoch 21\n"
     ]
    },
    {
     "name": "stderr",
     "output_type": "stream",
     "text": [
      "[I 2024-09-12 09:56:27,167] Trial 47 finished with value: 1558.13818359375 and parameters: {'out_channels': 40, 'kernel_size': 5, 'num_blocks': 2, 'l2_lambda': 0.0032813641707639344, 'dropout_rate': 0.1502920068243547, 'epochs': 84, 'lr': 0.003792596202397194}. Best is trial 0 with value: 97.87689971923828.\n"
     ]
    },
    {
     "name": "stdout",
     "output_type": "stream",
     "text": [
      "Early stopping at epoch 13\n"
     ]
    },
    {
     "name": "stderr",
     "output_type": "stream",
     "text": [
      "[I 2024-09-12 09:56:28,522] Trial 48 finished with value: 834.8427124023438 and parameters: {'out_channels': 85, 'kernel_size': 6, 'num_blocks': 3, 'l2_lambda': 0.0025619512828672173, 'dropout_rate': 0.254452731883948, 'epochs': 66, 'lr': 0.006920612779191237}. Best is trial 0 with value: 97.87689971923828.\n"
     ]
    },
    {
     "name": "stdout",
     "output_type": "stream",
     "text": [
      "Early stopping at epoch 14\n"
     ]
    },
    {
     "name": "stderr",
     "output_type": "stream",
     "text": [
      "[I 2024-09-12 09:56:30,193] Trial 49 finished with value: 1536.6783447265625 and parameters: {'out_channels': 61, 'kernel_size': 4, 'num_blocks': 4, 'l2_lambda': 0.004345505969899551, 'dropout_rate': 0.2346872843028643, 'epochs': 70, 'lr': 0.0029385662579185286}. Best is trial 0 with value: 97.87689971923828.\n"
     ]
    },
    {
     "name": "stdout",
     "output_type": "stream",
     "text": [
      "Early stopping at epoch 15\n"
     ]
    },
    {
     "name": "stderr",
     "output_type": "stream",
     "text": [
      "[I 2024-09-12 09:56:31,243] Trial 50 finished with value: 151.44984436035156 and parameters: {'out_channels': 51, 'kernel_size': 3, 'num_blocks': 2, 'l2_lambda': 0.00039403693755554124, 'dropout_rate': 0.20767548389919668, 'epochs': 40, 'lr': 0.0005176756216718964}. Best is trial 0 with value: 97.87689971923828.\n"
     ]
    },
    {
     "name": "stdout",
     "output_type": "stream",
     "text": [
      "Early stopping at epoch 22\n"
     ]
    },
    {
     "name": "stderr",
     "output_type": "stream",
     "text": [
      "[I 2024-09-12 09:56:33,947] Trial 51 finished with value: 49.570098876953125 and parameters: {'out_channels': 80, 'kernel_size': 4, 'num_blocks': 2, 'l2_lambda': 0.007508996170779174, 'dropout_rate': 0.40702425695680894, 'epochs': 49, 'lr': 0.007536755055261086}. Best is trial 51 with value: 49.570098876953125.\n",
      "[I 2024-09-12 09:56:35,477] Trial 52 finished with value: 403.441650390625 and parameters: {'out_channels': 70, 'kernel_size': 4, 'num_blocks': 2, 'l2_lambda': 0.009080608136436498, 'dropout_rate': 0.41708968637391536, 'epochs': 47, 'lr': 0.007246477954008205}. Best is trial 51 with value: 49.570098876953125.\n"
     ]
    },
    {
     "name": "stdout",
     "output_type": "stream",
     "text": [
      "Early stopping at epoch 27\n"
     ]
    },
    {
     "name": "stderr",
     "output_type": "stream",
     "text": [
      "[I 2024-09-12 09:56:36,749] Trial 53 finished with value: 2534.259033203125 and parameters: {'out_channels': 128, 'kernel_size': 5, 'num_blocks': 2, 'l2_lambda': 0.007420441535575008, 'dropout_rate': 0.38035920312694715, 'epochs': 55, 'lr': 0.007986816826936473}. Best is trial 51 with value: 49.570098876953125.\n"
     ]
    },
    {
     "name": "stdout",
     "output_type": "stream",
     "text": [
      "Early stopping at epoch 20\n"
     ]
    },
    {
     "name": "stderr",
     "output_type": "stream",
     "text": [
      "[I 2024-09-12 09:56:38,005] Trial 54 finished with value: 92.82538604736328 and parameters: {'out_channels': 97, 'kernel_size': 5, 'num_blocks': 1, 'l2_lambda': 0.006544540017075997, 'dropout_rate': 0.42349331061746737, 'epochs': 60, 'lr': 0.0015234224489068856}. Best is trial 51 with value: 49.570098876953125.\n"
     ]
    },
    {
     "name": "stdout",
     "output_type": "stream",
     "text": [
      "Early stopping at epoch 37\n"
     ]
    },
    {
     "name": "stderr",
     "output_type": "stream",
     "text": [
      "[I 2024-09-12 09:56:38,498] Trial 55 finished with value: 647.9560546875 and parameters: {'out_channels': 99, 'kernel_size': 5, 'num_blocks': 1, 'l2_lambda': 0.006703510572037428, 'dropout_rate': 0.44143127734555176, 'epochs': 61, 'lr': 0.0008485284310711363}. Best is trial 51 with value: 49.570098876953125.\n"
     ]
    },
    {
     "name": "stdout",
     "output_type": "stream",
     "text": [
      "Early stopping at epoch 13\n"
     ]
    },
    {
     "name": "stderr",
     "output_type": "stream",
     "text": [
      "[I 2024-09-12 09:56:40,206] Trial 56 finished with value: 104.74688720703125 and parameters: {'out_channels': 96, 'kernel_size': 4, 'num_blocks': 1, 'l2_lambda': 0.007725134906606543, 'dropout_rate': 0.4059259517427836, 'epochs': 50, 'lr': 0.0016688681345002003}. Best is trial 51 with value: 49.570098876953125.\n",
      "[I 2024-09-12 09:56:40,770] Trial 57 finished with value: 1099.29345703125 and parameters: {'out_channels': 108, 'kernel_size': 4, 'num_blocks': 1, 'l2_lambda': 0.007794546543338562, 'dropout_rate': 0.4025462498186684, 'epochs': 42, 'lr': 0.0016302648066495102}. Best is trial 51 with value: 49.570098876953125.\n"
     ]
    },
    {
     "name": "stdout",
     "output_type": "stream",
     "text": [
      "Early stopping at epoch 14\n"
     ]
    },
    {
     "name": "stderr",
     "output_type": "stream",
     "text": [
      "[I 2024-09-12 09:56:41,668] Trial 58 finished with value: 603.5846557617188 and parameters: {'out_channels': 95, 'kernel_size': 4, 'num_blocks': 1, 'l2_lambda': 0.008632532811440727, 'dropout_rate': 0.41720634014218966, 'epochs': 35, 'lr': 0.0018545968352863078}. Best is trial 51 with value: 49.570098876953125.\n"
     ]
    },
    {
     "name": "stdout",
     "output_type": "stream",
     "text": [
      "Early stopping at epoch 23\n"
     ]
    },
    {
     "name": "stderr",
     "output_type": "stream",
     "text": [
      "[I 2024-09-12 09:56:42,588] Trial 59 finished with value: 599.2875366210938 and parameters: {'out_channels': 106, 'kernel_size': 4, 'num_blocks': 1, 'l2_lambda': 0.007322672637523316, 'dropout_rate': 0.4519002084342395, 'epochs': 49, 'lr': 0.00996157218446532}. Best is trial 51 with value: 49.570098876953125.\n"
     ]
    },
    {
     "name": "stdout",
     "output_type": "stream",
     "text": [
      "Early stopping at epoch 25\n"
     ]
    },
    {
     "name": "stderr",
     "output_type": "stream",
     "text": [
      "[I 2024-09-12 09:56:43,239] Trial 60 finished with value: 658.5967407226562 and parameters: {'out_channels': 84, 'kernel_size': 3, 'num_blocks': 1, 'l2_lambda': 0.006309835852478768, 'dropout_rate': 0.4775575705769683, 'epochs': 59, 'lr': 0.0008793577750084733}. Best is trial 51 with value: 49.570098876953125.\n"
     ]
    },
    {
     "name": "stdout",
     "output_type": "stream",
     "text": [
      "Early stopping at epoch 19\n"
     ]
    },
    {
     "name": "stderr",
     "output_type": "stream",
     "text": [
      "[I 2024-09-12 09:56:43,943] Trial 61 finished with value: 1102.064208984375 and parameters: {'out_channels': 80, 'kernel_size': 4, 'num_blocks': 1, 'l2_lambda': 0.005328072582233003, 'dropout_rate': 0.36093008364940876, 'epochs': 54, 'lr': 0.001460676055155011}. Best is trial 51 with value: 49.570098876953125.\n"
     ]
    },
    {
     "name": "stdout",
     "output_type": "stream",
     "text": [
      "Early stopping at epoch 20\n"
     ]
    },
    {
     "name": "stderr",
     "output_type": "stream",
     "text": [
      "[I 2024-09-12 09:56:45,602] Trial 62 finished with value: 927.812744140625 and parameters: {'out_channels': 90, 'kernel_size': 5, 'num_blocks': 3, 'l2_lambda': 0.007013196173688132, 'dropout_rate': 0.38872174693021083, 'epochs': 76, 'lr': 0.006105094224510421}. Best is trial 51 with value: 49.570098876953125.\n"
     ]
    },
    {
     "name": "stdout",
     "output_type": "stream",
     "text": [
      "Early stopping at epoch 22\n"
     ]
    },
    {
     "name": "stderr",
     "output_type": "stream",
     "text": [
      "[I 2024-09-12 09:56:48,591] Trial 63 finished with value: 348.67059326171875 and parameters: {'out_channels': 115, 'kernel_size': 5, 'num_blocks': 3, 'l2_lambda': 0.006297678186424742, 'dropout_rate': 0.4225525583779198, 'epochs': 65, 'lr': 0.0067637054610524315}. Best is trial 51 with value: 49.570098876953125.\n"
     ]
    },
    {
     "name": "stdout",
     "output_type": "stream",
     "text": [
      "Early stopping at epoch 37\n"
     ]
    },
    {
     "name": "stderr",
     "output_type": "stream",
     "text": [
      "[I 2024-09-12 09:56:49,357] Trial 64 finished with value: 96.66683197021484 and parameters: {'out_channels': 98, 'kernel_size': 4, 'num_blocks': 1, 'l2_lambda': 0.008660022761512669, 'dropout_rate': 0.39919572354565735, 'epochs': 51, 'lr': 0.007478021306871907}. Best is trial 51 with value: 49.570098876953125.\n"
     ]
    },
    {
     "name": "stdout",
     "output_type": "stream",
     "text": [
      "Early stopping at epoch 20\n"
     ]
    },
    {
     "name": "stderr",
     "output_type": "stream",
     "text": [
      "[I 2024-09-12 09:56:50,510] Trial 65 finished with value: 619.50390625 and parameters: {'out_channels': 101, 'kernel_size': 4, 'num_blocks': 1, 'l2_lambda': 0.008760924407947892, 'dropout_rate': 0.39956925609001603, 'epochs': 51, 'lr': 0.0011510931794300428}. Best is trial 51 with value: 49.570098876953125.\n"
     ]
    },
    {
     "name": "stdout",
     "output_type": "stream",
     "text": [
      "Early stopping at epoch 33\n"
     ]
    },
    {
     "name": "stderr",
     "output_type": "stream",
     "text": [
      "[I 2024-09-12 09:56:51,088] Trial 66 finished with value: 1814.6875 and parameters: {'out_channels': 91, 'kernel_size': 4, 'num_blocks': 1, 'l2_lambda': 0.00994212332312477, 'dropout_rate': 0.4305152360522217, 'epochs': 43, 'lr': 0.0021987087427132643}. Best is trial 51 with value: 49.570098876953125.\n"
     ]
    },
    {
     "name": "stdout",
     "output_type": "stream",
     "text": [
      "Early stopping at epoch 13\n"
     ]
    },
    {
     "name": "stderr",
     "output_type": "stream",
     "text": [
      "[I 2024-09-12 09:56:51,843] Trial 67 finished with value: 207.06002807617188 and parameters: {'out_channels': 95, 'kernel_size': 4, 'num_blocks': 1, 'l2_lambda': 0.008018088751515062, 'dropout_rate': 0.3615579951185928, 'epochs': 56, 'lr': 0.007422546847123519}. Best is trial 51 with value: 49.570098876953125.\n"
     ]
    },
    {
     "name": "stdout",
     "output_type": "stream",
     "text": [
      "Early stopping at epoch 20\n"
     ]
    },
    {
     "name": "stderr",
     "output_type": "stream",
     "text": [
      "[I 2024-09-12 09:56:52,554] Trial 68 finished with value: 465.0542907714844 and parameters: {'out_channels': 100, 'kernel_size': 3, 'num_blocks': 1, 'l2_lambda': 0.007632199134820137, 'dropout_rate': 0.4551814500424994, 'epochs': 48, 'lr': 0.00953474287135659}. Best is trial 51 with value: 49.570098876953125.\n"
     ]
    },
    {
     "name": "stdout",
     "output_type": "stream",
     "text": [
      "Early stopping at epoch 20\n"
     ]
    },
    {
     "name": "stderr",
     "output_type": "stream",
     "text": [
      "[I 2024-09-12 09:56:59,294] Trial 69 finished with value: 21.12116813659668 and parameters: {'out_channels': 115, 'kernel_size': 4, 'num_blocks': 5, 'l2_lambda': 0.008256133228627368, 'dropout_rate': 0.3459734039226607, 'epochs': 59, 'lr': 0.00890647860751556}. Best is trial 69 with value: 21.12116813659668.\n"
     ]
    },
    {
     "name": "stdout",
     "output_type": "stream",
     "text": [
      "Early stopping at epoch 50\n"
     ]
    },
    {
     "name": "stderr",
     "output_type": "stream",
     "text": [
      "[I 2024-09-12 09:57:04,537] Trial 70 finished with value: 125.53682708740234 and parameters: {'out_channels': 115, 'kernel_size': 3, 'num_blocks': 5, 'l2_lambda': 0.008275625633337143, 'dropout_rate': 0.33486324164669073, 'epochs': 45, 'lr': 0.008835717969397494}. Best is trial 69 with value: 21.12116813659668.\n"
     ]
    },
    {
     "name": "stdout",
     "output_type": "stream",
     "text": [
      "Early stopping at epoch 43\n"
     ]
    },
    {
     "name": "stderr",
     "output_type": "stream",
     "text": [
      "[I 2024-09-12 09:57:07,102] Trial 71 finished with value: 1241.0567626953125 and parameters: {'out_channels': 104, 'kernel_size': 4, 'num_blocks': 5, 'l2_lambda': 0.00904295645642328, 'dropout_rate': 0.30580749998312196, 'epochs': 60, 'lr': 0.009097124869234613}. Best is trial 69 with value: 21.12116813659668.\n"
     ]
    },
    {
     "name": "stdout",
     "output_type": "stream",
     "text": [
      "Early stopping at epoch 16\n"
     ]
    },
    {
     "name": "stderr",
     "output_type": "stream",
     "text": [
      "[I 2024-09-12 09:57:09,739] Trial 72 finished with value: 306.28875732421875 and parameters: {'out_channels': 111, 'kernel_size': 4, 'num_blocks': 4, 'l2_lambda': 0.00821863633242872, 'dropout_rate': 0.3807791938325345, 'epochs': 52, 'lr': 0.008462846126032987}. Best is trial 69 with value: 21.12116813659668.\n"
     ]
    },
    {
     "name": "stdout",
     "output_type": "stream",
     "text": [
      "Early stopping at epoch 20\n"
     ]
    },
    {
     "name": "stderr",
     "output_type": "stream",
     "text": [
      "[I 2024-09-12 09:57:12,896] Trial 73 finished with value: 464.3777160644531 and parameters: {'out_channels': 87, 'kernel_size': 5, 'num_blocks': 5, 'l2_lambda': 0.007204819007928284, 'dropout_rate': 0.34408298660981923, 'epochs': 70, 'lr': 0.0077021707198419494}. Best is trial 69 with value: 21.12116813659668.\n"
     ]
    },
    {
     "name": "stdout",
     "output_type": "stream",
     "text": [
      "Early stopping at epoch 26\n"
     ]
    },
    {
     "name": "stderr",
     "output_type": "stream",
     "text": [
      "[I 2024-09-12 09:57:14,687] Trial 74 finished with value: 494.635986328125 and parameters: {'out_channels': 20, 'kernel_size': 4, 'num_blocks': 4, 'l2_lambda': 0.006667278254842557, 'dropout_rate': 0.36929410810474844, 'epochs': 63, 'lr': 0.003932239372838299}. Best is trial 69 with value: 21.12116813659668.\n"
     ]
    },
    {
     "name": "stdout",
     "output_type": "stream",
     "text": [
      "Early stopping at epoch 22\n"
     ]
    },
    {
     "name": "stderr",
     "output_type": "stream",
     "text": [
      "[I 2024-09-12 09:57:16,529] Trial 75 finished with value: 730.8258056640625 and parameters: {'out_channels': 97, 'kernel_size': 4, 'num_blocks': 4, 'l2_lambda': 0.007585216259811943, 'dropout_rate': 0.3951342266152865, 'epochs': 57, 'lr': 0.009658018077795268}. Best is trial 69 with value: 21.12116813659668.\n"
     ]
    },
    {
     "name": "stdout",
     "output_type": "stream",
     "text": [
      "Early stopping at epoch 16\n"
     ]
    },
    {
     "name": "stderr",
     "output_type": "stream",
     "text": [
      "[I 2024-09-12 09:57:17,727] Trial 76 finished with value: 214.80886840820312 and parameters: {'out_channels': 30, 'kernel_size': 4, 'num_blocks': 1, 'l2_lambda': 0.009061930221927113, 'dropout_rate': 0.3533864171953437, 'epochs': 67, 'lr': 0.00046541618681792963}. Best is trial 69 with value: 21.12116813659668.\n"
     ]
    },
    {
     "name": "stdout",
     "output_type": "stream",
     "text": [
      "Early stopping at epoch 41\n"
     ]
    },
    {
     "name": "stderr",
     "output_type": "stream",
     "text": [
      "[I 2024-09-12 09:57:19,855] Trial 77 finished with value: 578.6052856445312 and parameters: {'out_channels': 77, 'kernel_size': 5, 'num_blocks': 5, 'l2_lambda': 0.006096792858357324, 'dropout_rate': 0.3289802533084483, 'epochs': 55, 'lr': 0.008190479060902795}. Best is trial 69 with value: 21.12116813659668.\n"
     ]
    },
    {
     "name": "stdout",
     "output_type": "stream",
     "text": [
      "Early stopping at epoch 18\n"
     ]
    },
    {
     "name": "stderr",
     "output_type": "stream",
     "text": [
      "[I 2024-09-12 09:57:21,541] Trial 78 finished with value: 838.0020751953125 and parameters: {'out_channels': 74, 'kernel_size': 4, 'num_blocks': 3, 'l2_lambda': 0.008477627468565646, 'dropout_rate': 0.4076934924866868, 'epochs': 50, 'lr': 0.008901755664469616}. Best is trial 69 with value: 21.12116813659668.\n"
     ]
    },
    {
     "name": "stdout",
     "output_type": "stream",
     "text": [
      "Early stopping at epoch 21\n"
     ]
    },
    {
     "name": "stderr",
     "output_type": "stream",
     "text": [
      "[I 2024-09-12 09:57:22,201] Trial 79 finished with value: 752.1376953125 and parameters: {'out_channels': 118, 'kernel_size': 3, 'num_blocks': 1, 'l2_lambda': 0.009415333126780482, 'dropout_rate': 0.4319344612609334, 'epochs': 79, 'lr': 0.002100462383099331}. Best is trial 69 with value: 21.12116813659668.\n"
     ]
    },
    {
     "name": "stdout",
     "output_type": "stream",
     "text": [
      "Early stopping at epoch 18\n"
     ]
    },
    {
     "name": "stderr",
     "output_type": "stream",
     "text": [
      "[I 2024-09-12 09:57:26,777] Trial 80 finished with value: 4498.25830078125 and parameters: {'out_channels': 34, 'kernel_size': 5, 'num_blocks': 4, 'l2_lambda': 0.007008686238795345, 'dropout_rate': 0.47747029593517387, 'epochs': 59, 'lr': 9.826180910904258e-05}. Best is trial 69 with value: 21.12116813659668.\n",
      "[I 2024-09-12 09:57:28,008] Trial 81 finished with value: 28.154983520507812 and parameters: {'out_channels': 66, 'kernel_size': 4, 'num_blocks': 2, 'l2_lambda': 0.008055651640001184, 'dropout_rate': 0.2655642208277529, 'epochs': 62, 'lr': 0.007820040062488057}. Best is trial 69 with value: 21.12116813659668.\n"
     ]
    },
    {
     "name": "stdout",
     "output_type": "stream",
     "text": [
      "Early stopping at epoch 20\n"
     ]
    },
    {
     "name": "stderr",
     "output_type": "stream",
     "text": [
      "[I 2024-09-12 09:57:30,167] Trial 82 finished with value: 453.2073974609375 and parameters: {'out_channels': 57, 'kernel_size': 4, 'num_blocks': 2, 'l2_lambda': 0.008181119910165043, 'dropout_rate': 0.2896695222976742, 'epochs': 62, 'lr': 0.007974332835571864}. Best is trial 69 with value: 21.12116813659668.\n"
     ]
    },
    {
     "name": "stdout",
     "output_type": "stream",
     "text": [
      "Early stopping at epoch 41\n"
     ]
    },
    {
     "name": "stderr",
     "output_type": "stream",
     "text": [
      "[I 2024-09-12 09:57:31,653] Trial 83 finished with value: 218.26193237304688 and parameters: {'out_channels': 81, 'kernel_size': 4, 'num_blocks': 2, 'l2_lambda': 0.007770234632150397, 'dropout_rate': 0.26598831480871743, 'epochs': 53, 'lr': 0.0073755978246089855}. Best is trial 69 with value: 21.12116813659668.\n"
     ]
    },
    {
     "name": "stdout",
     "output_type": "stream",
     "text": [
      "Early stopping at epoch 25\n"
     ]
    },
    {
     "name": "stderr",
     "output_type": "stream",
     "text": [
      "[I 2024-09-12 09:57:33,015] Trial 84 finished with value: 603.3812866210938 and parameters: {'out_channels': 67, 'kernel_size': 4, 'num_blocks': 2, 'l2_lambda': 0.004594876322923675, 'dropout_rate': 0.3083161820090731, 'epochs': 71, 'lr': 0.008361214888378831}. Best is trial 69 with value: 21.12116813659668.\n"
     ]
    },
    {
     "name": "stdout",
     "output_type": "stream",
     "text": [
      "Early stopping at epoch 23\n"
     ]
    },
    {
     "name": "stderr",
     "output_type": "stream",
     "text": [
      "[I 2024-09-12 09:57:34,808] Trial 85 finished with value: 296.91571044921875 and parameters: {'out_channels': 104, 'kernel_size': 4, 'num_blocks': 3, 'l2_lambda': 0.008821317951774148, 'dropout_rate': 0.28396928631526525, 'epochs': 65, 'lr': 0.0086381538664812}. Best is trial 69 with value: 21.12116813659668.\n"
     ]
    },
    {
     "name": "stdout",
     "output_type": "stream",
     "text": [
      "Early stopping at epoch 19\n"
     ]
    },
    {
     "name": "stderr",
     "output_type": "stream",
     "text": [
      "[I 2024-09-12 09:57:35,431] Trial 86 finished with value: 45.791648864746094 and parameters: {'out_channels': 44, 'kernel_size': 3, 'num_blocks': 1, 'l2_lambda': 0.0038793955583390828, 'dropout_rate': 0.38453580756886435, 'epochs': 57, 'lr': 0.0032742330858302167}. Best is trial 69 with value: 21.12116813659668.\n"
     ]
    },
    {
     "name": "stdout",
     "output_type": "stream",
     "text": [
      "Early stopping at epoch 19\n"
     ]
    },
    {
     "name": "stderr",
     "output_type": "stream",
     "text": [
      "[I 2024-09-12 09:57:36,728] Trial 87 finished with value: 399.0155944824219 and parameters: {'out_channels': 44, 'kernel_size': 3, 'num_blocks': 1, 'l2_lambda': 0.003923492282217874, 'dropout_rate': 0.3846078348928195, 'epochs': 46, 'lr': 0.0011218236676977425}. Best is trial 69 with value: 21.12116813659668.\n",
      "[I 2024-09-12 09:57:37,238] Trial 88 finished with value: 315.420166015625 and parameters: {'out_channels': 38, 'kernel_size': 3, 'num_blocks': 1, 'l2_lambda': 0.005512589047704908, 'dropout_rate': 0.37384143521522434, 'epochs': 16, 'lr': 0.0033962278038672444}. Best is trial 69 with value: 21.12116813659668.\n",
      "[I 2024-09-12 09:57:38,010] Trial 89 finished with value: 145.4751739501953 and parameters: {'out_channels': 92, 'kernel_size': 3, 'num_blocks': 1, 'l2_lambda': 0.006585722888563499, 'dropout_rate': 0.41834717680052197, 'epochs': 41, 'lr': 0.0026230638335266207}. Best is trial 69 with value: 21.12116813659668.\n"
     ]
    },
    {
     "name": "stdout",
     "output_type": "stream",
     "text": [
      "Early stopping at epoch 19\n"
     ]
    },
    {
     "name": "stderr",
     "output_type": "stream",
     "text": [
      "[I 2024-09-12 09:57:38,797] Trial 90 finished with value: 2073.785400390625 and parameters: {'out_channels': 51, 'kernel_size': 3, 'num_blocks': 2, 'l2_lambda': 0.004810909078154898, 'dropout_rate': 0.4070527736732084, 'epochs': 57, 'lr': 0.003045375481683597}. Best is trial 69 with value: 21.12116813659668.\n"
     ]
    },
    {
     "name": "stdout",
     "output_type": "stream",
     "text": [
      "Early stopping at epoch 14\n"
     ]
    },
    {
     "name": "stderr",
     "output_type": "stream",
     "text": [
      "[I 2024-09-12 09:57:39,600] Trial 91 finished with value: 587.122802734375 and parameters: {'out_channels': 87, 'kernel_size': 4, 'num_blocks': 1, 'l2_lambda': 0.00803916144154006, 'dropout_rate': 0.3944006311047319, 'epochs': 75, 'lr': 0.004129580421972534}. Best is trial 69 with value: 21.12116813659668.\n"
     ]
    },
    {
     "name": "stdout",
     "output_type": "stream",
     "text": [
      "Early stopping at epoch 20\n"
     ]
    },
    {
     "name": "stderr",
     "output_type": "stream",
     "text": [
      "[I 2024-09-12 09:57:40,273] Trial 92 finished with value: 1195.866943359375 and parameters: {'out_channels': 72, 'kernel_size': 5, 'num_blocks': 1, 'l2_lambda': 0.0021809583554622623, 'dropout_rate': 0.3555453779560305, 'epochs': 73, 'lr': 0.007746818223234948}. Best is trial 69 with value: 21.12116813659668.\n"
     ]
    },
    {
     "name": "stdout",
     "output_type": "stream",
     "text": [
      "Early stopping at epoch 19\n"
     ]
    },
    {
     "name": "stderr",
     "output_type": "stream",
     "text": [
      "[I 2024-09-12 09:57:41,458] Trial 93 finished with value: 190.7382049560547 and parameters: {'out_channels': 42, 'kernel_size': 3, 'num_blocks': 2, 'l2_lambda': 0.0074438534711269875, 'dropout_rate': 0.4405642677763197, 'epochs': 68, 'lr': 0.0050037990588148555}. Best is trial 69 with value: 21.12116813659668.\n"
     ]
    },
    {
     "name": "stdout",
     "output_type": "stream",
     "text": [
      "Early stopping at epoch 24\n"
     ]
    },
    {
     "name": "stderr",
     "output_type": "stream",
     "text": [
      "[I 2024-09-12 09:57:42,432] Trial 94 finished with value: 93.30431365966797 and parameters: {'out_channels': 30, 'kernel_size': 4, 'num_blocks': 1, 'l2_lambda': 0.008579870043158494, 'dropout_rate': 0.3004433884636201, 'epochs': 61, 'lr': 0.004325235094735548}. Best is trial 69 with value: 21.12116813659668.\n"
     ]
    },
    {
     "name": "stdout",
     "output_type": "stream",
     "text": [
      "Early stopping at epoch 29\n"
     ]
    },
    {
     "name": "stderr",
     "output_type": "stream",
     "text": [
      "[I 2024-09-12 09:57:43,582] Trial 95 finished with value: 625.31787109375 and parameters: {'out_channels': 36, 'kernel_size': 4, 'num_blocks': 1, 'l2_lambda': 0.008661936926423216, 'dropout_rate': 0.25828553000914084, 'epochs': 52, 'lr': 0.0053619210323995106}. Best is trial 69 with value: 21.12116813659668.\n"
     ]
    },
    {
     "name": "stdout",
     "output_type": "stream",
     "text": [
      "Early stopping at epoch 33\n"
     ]
    },
    {
     "name": "stderr",
     "output_type": "stream",
     "text": [
      "[I 2024-09-12 09:57:44,108] Trial 96 finished with value: 278.4501037597656 and parameters: {'out_channels': 46, 'kernel_size': 4, 'num_blocks': 1, 'l2_lambda': 0.009434575191145891, 'dropout_rate': 0.3214496170051686, 'epochs': 61, 'lr': 0.004348103184868586}. Best is trial 69 with value: 21.12116813659668.\n"
     ]
    },
    {
     "name": "stdout",
     "output_type": "stream",
     "text": [
      "Early stopping at epoch 13\n"
     ]
    },
    {
     "name": "stderr",
     "output_type": "stream",
     "text": [
      "[I 2024-09-12 09:57:44,751] Trial 97 finished with value: 176.57057189941406 and parameters: {'out_channels': 94, 'kernel_size': 5, 'num_blocks': 1, 'l2_lambda': 0.008438407658553596, 'dropout_rate': 0.29976325775709095, 'epochs': 54, 'lr': 0.001846327960722138}. Best is trial 69 with value: 21.12116813659668.\n"
     ]
    },
    {
     "name": "stdout",
     "output_type": "stream",
     "text": [
      "Early stopping at epoch 15\n"
     ]
    },
    {
     "name": "stderr",
     "output_type": "stream",
     "text": [
      "[I 2024-09-12 09:57:45,369] Trial 98 finished with value: 772.2550659179688 and parameters: {'out_channels': 62, 'kernel_size': 4, 'num_blocks': 1, 'l2_lambda': 0.004143449217286194, 'dropout_rate': 0.3331162494989427, 'epochs': 49, 'lr': 0.003154521462574561}. Best is trial 69 with value: 21.12116813659668.\n"
     ]
    },
    {
     "name": "stdout",
     "output_type": "stream",
     "text": [
      "Early stopping at epoch 17\n"
     ]
    },
    {
     "name": "stderr",
     "output_type": "stream",
     "text": [
      "[I 2024-09-12 09:57:45,916] Trial 99 finished with value: 3800.60791015625 and parameters: {'out_channels': 97, 'kernel_size': 3, 'num_blocks': 1, 'l2_lambda': 0.007793764621460957, 'dropout_rate': 0.2794149356134299, 'epochs': 56, 'lr': 0.004683189023224846}. Best is trial 69 with value: 21.12116813659668.\n",
      "[I 2024-09-12 09:57:45,949] A new study created in memory with name: no-name-b2326b3f-1107-488b-9f07-f339869276a4\n"
     ]
    },
    {
     "name": "stdout",
     "output_type": "stream",
     "text": [
      "Early stopping at epoch 14\n",
      "Previous model RMSE: 1.6824214458465576 is better for CL=F than RMSE: 21.12116813659668\n",
      "Deleted ../models/hyperparameters-search-models/pytorch/lstm-classification/CL=F.pth\n",
      "Deleted ../models/best-hyperparameters/pytorch/lstm-classification/CL=F.json\n",
      "Deleted CL=F from ../models/hyperparameters-search-models/ticker-all-models-best-hyperparameters-list.csv\n"
     ]
    },
    {
     "name": "stderr",
     "output_type": "stream",
     "text": [
      "[I 2024-09-12 09:57:46,410] Trial 0 finished with value: 0.6 and parameters: {'sequence_length': 5, 'hidden_size': 105, 'num_layers': 3, 'num_blocks': 2, 'dropout_rate': 0.11822251154560388, 'epochs': 445, 'lr': 0.00914733780387005}. Best is trial 0 with value: 0.6.\n"
     ]
    },
    {
     "name": "stdout",
     "output_type": "stream",
     "text": [
      "Early stopping at epoch 10\n"
     ]
    },
    {
     "name": "stderr",
     "output_type": "stream",
     "text": [
      "[I 2024-09-12 09:57:47,184] Trial 1 finished with value: 0.5166666666666667 and parameters: {'sequence_length': 7, 'hidden_size': 110, 'num_layers': 3, 'num_blocks': 4, 'dropout_rate': 0.3564989369301419, 'epochs': 902, 'lr': 0.0030404691183009347}. Best is trial 0 with value: 0.6.\n"
     ]
    },
    {
     "name": "stdout",
     "output_type": "stream",
     "text": [
      "Early stopping at epoch 12\n"
     ]
    },
    {
     "name": "stderr",
     "output_type": "stream",
     "text": [
      "[I 2024-09-12 09:57:47,938] Trial 2 finished with value: 0.5166666666666667 and parameters: {'sequence_length': 7, 'hidden_size': 48, 'num_layers': 3, 'num_blocks': 5, 'dropout_rate': 0.46459286903404995, 'epochs': 325, 'lr': 0.004531795750824859}. Best is trial 0 with value: 0.6.\n"
     ]
    },
    {
     "name": "stdout",
     "output_type": "stream",
     "text": [
      "Early stopping at epoch 10\n"
     ]
    },
    {
     "name": "stderr",
     "output_type": "stream",
     "text": [
      "[I 2024-09-12 09:57:48,945] Trial 3 finished with value: 0.6140350877192983 and parameters: {'sequence_length': 30, 'hidden_size': 37, 'num_layers': 1, 'num_blocks': 5, 'dropout_rate': 0.17138185749671825, 'epochs': 195, 'lr': 0.002068353448930274}. Best is trial 3 with value: 0.6140350877192983.\n"
     ]
    },
    {
     "name": "stdout",
     "output_type": "stream",
     "text": [
      "Early stopping at epoch 21\n"
     ]
    },
    {
     "name": "stderr",
     "output_type": "stream",
     "text": [
      "[I 2024-09-12 09:57:49,263] Trial 4 finished with value: 0.5166666666666667 and parameters: {'sequence_length': 7, 'hidden_size': 18, 'num_layers': 2, 'num_blocks': 1, 'dropout_rate': 0.39187740517720404, 'epochs': 963, 'lr': 0.0029796323622163132}. Best is trial 3 with value: 0.6140350877192983.\n"
     ]
    },
    {
     "name": "stdout",
     "output_type": "stream",
     "text": [
      "Early stopping at epoch 12\n"
     ]
    },
    {
     "name": "stderr",
     "output_type": "stream",
     "text": [
      "[I 2024-09-12 09:57:50,242] Trial 5 finished with value: 0.5689655172413793 and parameters: {'sequence_length': 20, 'hidden_size': 103, 'num_layers': 2, 'num_blocks': 5, 'dropout_rate': 0.2650252982593856, 'epochs': 564, 'lr': 0.0013241360354102696}. Best is trial 3 with value: 0.6140350877192983.\n"
     ]
    },
    {
     "name": "stdout",
     "output_type": "stream",
     "text": [
      "Early stopping at epoch 13\n"
     ]
    },
    {
     "name": "stderr",
     "output_type": "stream",
     "text": [
      "[I 2024-09-12 09:57:50,554] Trial 6 finished with value: 0.6 and parameters: {'sequence_length': 5, 'hidden_size': 32, 'num_layers': 2, 'num_blocks': 1, 'dropout_rate': 0.4502989889652189, 'epochs': 318, 'lr': 0.008320703988421944}. Best is trial 3 with value: 0.6140350877192983.\n"
     ]
    },
    {
     "name": "stdout",
     "output_type": "stream",
     "text": [
      "Early stopping at epoch 12\n"
     ]
    },
    {
     "name": "stderr",
     "output_type": "stream",
     "text": [
      "[I 2024-09-12 09:57:50,959] Trial 7 finished with value: 0.5166666666666667 and parameters: {'sequence_length': 7, 'hidden_size': 93, 'num_layers': 1, 'num_blocks': 3, 'dropout_rate': 0.37377543015943526, 'epochs': 155, 'lr': 0.0066276557672209635}. Best is trial 3 with value: 0.6140350877192983.\n"
     ]
    },
    {
     "name": "stdout",
     "output_type": "stream",
     "text": [
      "Early stopping at epoch 10\n"
     ]
    },
    {
     "name": "stderr",
     "output_type": "stream",
     "text": [
      "[I 2024-09-12 09:57:51,311] Trial 8 finished with value: 0.5254237288135594 and parameters: {'sequence_length': 14, 'hidden_size': 103, 'num_layers': 2, 'num_blocks': 1, 'dropout_rate': 0.17876716469785137, 'epochs': 557, 'lr': 0.0008689157417457277}. Best is trial 3 with value: 0.6140350877192983.\n"
     ]
    },
    {
     "name": "stdout",
     "output_type": "stream",
     "text": [
      "Early stopping at epoch 13\n"
     ]
    },
    {
     "name": "stderr",
     "output_type": "stream",
     "text": [
      "[I 2024-09-12 09:57:51,938] Trial 9 finished with value: 0.6 and parameters: {'sequence_length': 5, 'hidden_size': 22, 'num_layers': 3, 'num_blocks': 4, 'dropout_rate': 0.36507727637860843, 'epochs': 714, 'lr': 0.0015651701016715426}. Best is trial 3 with value: 0.6140350877192983.\n"
     ]
    },
    {
     "name": "stdout",
     "output_type": "stream",
     "text": [
      "Early stopping at epoch 10\n"
     ]
    },
    {
     "name": "stderr",
     "output_type": "stream",
     "text": [
      "[I 2024-09-12 09:57:53,012] Trial 10 finished with value: 0.5789473684210527 and parameters: {'sequence_length': 30, 'hidden_size': 66, 'num_layers': 1, 'num_blocks': 4, 'dropout_rate': 0.23445259496284687, 'epochs': 105, 'lr': 0.005595309076986256}. Best is trial 3 with value: 0.6140350877192983.\n"
     ]
    },
    {
     "name": "stdout",
     "output_type": "stream",
     "text": [
      "Early stopping at epoch 21\n"
     ]
    },
    {
     "name": "stderr",
     "output_type": "stream",
     "text": [
      "[I 2024-09-12 09:57:53,608] Trial 11 finished with value: 0.5263157894736842 and parameters: {'sequence_length': 30, 'hidden_size': 80, 'num_layers': 1, 'num_blocks': 2, 'dropout_rate': 0.10001345905223097, 'epochs': 415, 'lr': 0.009708692812885274}. Best is trial 3 with value: 0.6140350877192983.\n"
     ]
    },
    {
     "name": "stdout",
     "output_type": "stream",
     "text": [
      "Early stopping at epoch 16\n"
     ]
    },
    {
     "name": "stderr",
     "output_type": "stream",
     "text": [
      "[I 2024-09-12 09:57:54,045] Trial 12 finished with value: 0.5087719298245614 and parameters: {'sequence_length': 30, 'hidden_size': 128, 'num_layers': 1, 'num_blocks': 2, 'dropout_rate': 0.10876979315842075, 'epochs': 233, 'lr': 0.007404736207479454}. Best is trial 3 with value: 0.6140350877192983.\n"
     ]
    },
    {
     "name": "stdout",
     "output_type": "stream",
     "text": [
      "Early stopping at epoch 10\n"
     ]
    },
    {
     "name": "stderr",
     "output_type": "stream",
     "text": [
      "[I 2024-09-12 09:57:54,606] Trial 13 finished with value: 0.6 and parameters: {'sequence_length': 5, 'hidden_size': 56, 'num_layers': 3, 'num_blocks': 3, 'dropout_rate': 0.17706165676630092, 'epochs': 425, 'lr': 0.009682000680122253}. Best is trial 3 with value: 0.6140350877192983.\n"
     ]
    },
    {
     "name": "stdout",
     "output_type": "stream",
     "text": [
      "Early stopping at epoch 10\n"
     ]
    },
    {
     "name": "stderr",
     "output_type": "stream",
     "text": [
      "[I 2024-09-12 09:57:55,074] Trial 14 finished with value: 0.576271186440678 and parameters: {'sequence_length': 14, 'hidden_size': 43, 'num_layers': 2, 'num_blocks': 2, 'dropout_rate': 0.17262722336621256, 'epochs': 703, 'lr': 0.003865348725280205}. Best is trial 3 with value: 0.6140350877192983.\n"
     ]
    },
    {
     "name": "stdout",
     "output_type": "stream",
     "text": [
      "Early stopping at epoch 12\n"
     ]
    },
    {
     "name": "stderr",
     "output_type": "stream",
     "text": [
      "[I 2024-09-12 09:57:55,533] Trial 15 finished with value: 0.5689655172413793 and parameters: {'sequence_length': 20, 'hidden_size': 84, 'num_layers': 1, 'num_blocks': 3, 'dropout_rate': 0.22381836139073985, 'epochs': 412, 'lr': 0.00023818367126997916}. Best is trial 3 with value: 0.6140350877192983.\n"
     ]
    },
    {
     "name": "stdout",
     "output_type": "stream",
     "text": [
      "Early stopping at epoch 10\n"
     ]
    },
    {
     "name": "stderr",
     "output_type": "stream",
     "text": [
      "[I 2024-09-12 09:57:56,611] Trial 16 finished with value: 0.5087719298245614 and parameters: {'sequence_length': 30, 'hidden_size': 126, 'num_layers': 3, 'num_blocks': 5, 'dropout_rate': 0.1373767831814912, 'epochs': 238, 'lr': 0.005707853316862803}. Best is trial 3 with value: 0.6140350877192983.\n"
     ]
    },
    {
     "name": "stdout",
     "output_type": "stream",
     "text": [
      "Early stopping at epoch 10\n"
     ]
    },
    {
     "name": "stderr",
     "output_type": "stream",
     "text": [
      "[I 2024-09-12 09:57:57,121] Trial 17 finished with value: 0.6 and parameters: {'sequence_length': 5, 'hidden_size': 66, 'num_layers': 2, 'num_blocks': 2, 'dropout_rate': 0.31631683493401486, 'epochs': 675, 'lr': 0.002816342482465388}. Best is trial 3 with value: 0.6140350877192983.\n"
     ]
    },
    {
     "name": "stdout",
     "output_type": "stream",
     "text": [
      "Early stopping at epoch 12\n"
     ]
    },
    {
     "name": "stderr",
     "output_type": "stream",
     "text": [
      "[I 2024-09-12 09:57:57,872] Trial 18 finished with value: 0.5087719298245614 and parameters: {'sequence_length': 30, 'hidden_size': 36, 'num_layers': 2, 'num_blocks': 4, 'dropout_rate': 0.21372384424840346, 'epochs': 498, 'lr': 0.007009644794535719}. Best is trial 3 with value: 0.6140350877192983.\n"
     ]
    },
    {
     "name": "stdout",
     "output_type": "stream",
     "text": [
      "Early stopping at epoch 13\n"
     ]
    },
    {
     "name": "stderr",
     "output_type": "stream",
     "text": [
      "[I 2024-09-12 09:57:58,547] Trial 19 finished with value: 0.6333333333333333 and parameters: {'sequence_length': 5, 'hidden_size': 117, 'num_layers': 1, 'num_blocks': 2, 'dropout_rate': 0.14675432203165079, 'epochs': 234, 'lr': 0.008185928818936192}. Best is trial 19 with value: 0.6333333333333333.\n"
     ]
    },
    {
     "name": "stdout",
     "output_type": "stream",
     "text": [
      "Early stopping at epoch 21\n"
     ]
    },
    {
     "name": "stderr",
     "output_type": "stream",
     "text": [
      "[I 2024-09-12 09:57:58,986] Trial 20 finished with value: 0.5689655172413793 and parameters: {'sequence_length': 20, 'hidden_size': 58, 'num_layers': 1, 'num_blocks': 3, 'dropout_rate': 0.2753058024296656, 'epochs': 206, 'lr': 0.008329525141112171}. Best is trial 19 with value: 0.6333333333333333.\n"
     ]
    },
    {
     "name": "stdout",
     "output_type": "stream",
     "text": [
      "Early stopping at epoch 10\n"
     ]
    },
    {
     "name": "stderr",
     "output_type": "stream",
     "text": [
      "[I 2024-09-12 09:57:59,352] Trial 21 finished with value: 0.6 and parameters: {'sequence_length': 5, 'hidden_size': 117, 'num_layers': 1, 'num_blocks': 2, 'dropout_rate': 0.14197197987123467, 'epochs': 310, 'lr': 0.008452045495537651}. Best is trial 19 with value: 0.6333333333333333.\n"
     ]
    },
    {
     "name": "stdout",
     "output_type": "stream",
     "text": [
      "Early stopping at epoch 10\n"
     ]
    },
    {
     "name": "stderr",
     "output_type": "stream",
     "text": [
      "[I 2024-09-12 09:57:59,789] Trial 22 finished with value: 0.6 and parameters: {'sequence_length': 5, 'hidden_size': 93, 'num_layers': 1, 'num_blocks': 2, 'dropout_rate': 0.14307511456009717, 'epochs': 118, 'lr': 0.009056131411916774}. Best is trial 19 with value: 0.6333333333333333.\n"
     ]
    },
    {
     "name": "stdout",
     "output_type": "stream",
     "text": [
      "Early stopping at epoch 12\n"
     ]
    },
    {
     "name": "stderr",
     "output_type": "stream",
     "text": [
      "[I 2024-09-12 09:58:00,090] Trial 23 finished with value: 0.6 and parameters: {'sequence_length': 5, 'hidden_size': 113, 'num_layers': 1, 'num_blocks': 1, 'dropout_rate': 0.20751639313385586, 'epochs': 274, 'lr': 0.007319650491782865}. Best is trial 19 with value: 0.6333333333333333.\n"
     ]
    },
    {
     "name": "stdout",
     "output_type": "stream",
     "text": [
      "Early stopping at epoch 10\n"
     ]
    },
    {
     "name": "stderr",
     "output_type": "stream",
     "text": [
      "[I 2024-09-12 09:58:00,583] Trial 24 finished with value: 0.6 and parameters: {'sequence_length': 5, 'hidden_size': 80, 'num_layers': 2, 'num_blocks': 3, 'dropout_rate': 0.12775941688276404, 'epochs': 377, 'lr': 0.005767166636718047}. Best is trial 19 with value: 0.6333333333333333.\n"
     ]
    },
    {
     "name": "stdout",
     "output_type": "stream",
     "text": [
      "Early stopping at epoch 10\n"
     ]
    },
    {
     "name": "stderr",
     "output_type": "stream",
     "text": [
      "[I 2024-09-12 09:58:01,546] Trial 25 finished with value: 0.5423728813559322 and parameters: {'sequence_length': 14, 'hidden_size': 95, 'num_layers': 3, 'num_blocks': 2, 'dropout_rate': 0.16915577445968658, 'epochs': 182, 'lr': 0.009985387163293316}. Best is trial 19 with value: 0.6333333333333333.\n"
     ]
    },
    {
     "name": "stdout",
     "output_type": "stream",
     "text": [
      "Early stopping at epoch 22\n"
     ]
    },
    {
     "name": "stderr",
     "output_type": "stream",
     "text": [
      "[I 2024-09-12 09:58:02,203] Trial 26 finished with value: 0.5087719298245614 and parameters: {'sequence_length': 30, 'hidden_size': 119, 'num_layers': 1, 'num_blocks': 3, 'dropout_rate': 0.2614899230981374, 'epochs': 516, 'lr': 0.002244143817514439}. Best is trial 19 with value: 0.6333333333333333.\n"
     ]
    },
    {
     "name": "stdout",
     "output_type": "stream",
     "text": [
      "Early stopping at epoch 13\n"
     ]
    },
    {
     "name": "stderr",
     "output_type": "stream",
     "text": [
      "[I 2024-09-12 09:58:02,617] Trial 27 finished with value: 0.6333333333333333 and parameters: {'sequence_length': 5, 'hidden_size': 107, 'num_layers': 2, 'num_blocks': 1, 'dropout_rate': 0.19674648978707454, 'epochs': 644, 'lr': 0.004382795586589893}. Best is trial 19 with value: 0.6333333333333333.\n"
     ]
    },
    {
     "name": "stdout",
     "output_type": "stream",
     "text": [
      "Early stopping at epoch 15\n"
     ]
    },
    {
     "name": "stderr",
     "output_type": "stream",
     "text": [
      "[I 2024-09-12 09:58:02,903] Trial 28 finished with value: 0.6 and parameters: {'sequence_length': 5, 'hidden_size': 71, 'num_layers': 1, 'num_blocks': 1, 'dropout_rate': 0.3167398008016594, 'epochs': 751, 'lr': 0.004294166059114534}. Best is trial 19 with value: 0.6333333333333333.\n"
     ]
    },
    {
     "name": "stdout",
     "output_type": "stream",
     "text": [
      "Early stopping at epoch 10\n"
     ]
    },
    {
     "name": "stderr",
     "output_type": "stream",
     "text": [
      "[I 2024-09-12 09:58:03,221] Trial 29 finished with value: 0.6 and parameters: {'sequence_length': 5, 'hidden_size': 121, 'num_layers': 2, 'num_blocks': 1, 'dropout_rate': 0.19837678046280208, 'epochs': 626, 'lr': 0.003667000254517687}. Best is trial 19 with value: 0.6333333333333333.\n"
     ]
    },
    {
     "name": "stdout",
     "output_type": "stream",
     "text": [
      "Early stopping at epoch 10\n"
     ]
    },
    {
     "name": "stderr",
     "output_type": "stream",
     "text": [
      "[I 2024-09-12 09:58:03,610] Trial 30 finished with value: 0.5087719298245614 and parameters: {'sequence_length': 30, 'hidden_size': 107, 'num_layers': 1, 'num_blocks': 1, 'dropout_rate': 0.23300151064848415, 'epochs': 839, 'lr': 0.004996458378325962}. Best is trial 19 with value: 0.6333333333333333.\n"
     ]
    },
    {
     "name": "stdout",
     "output_type": "stream",
     "text": [
      "Early stopping at epoch 13\n"
     ]
    },
    {
     "name": "stderr",
     "output_type": "stream",
     "text": [
      "[I 2024-09-12 09:58:04,059] Trial 31 finished with value: 0.6 and parameters: {'sequence_length': 5, 'hidden_size': 110, 'num_layers': 3, 'num_blocks': 2, 'dropout_rate': 0.12284518576331016, 'epochs': 841, 'lr': 0.008990807981537643}. Best is trial 19 with value: 0.6333333333333333.\n"
     ]
    },
    {
     "name": "stdout",
     "output_type": "stream",
     "text": [
      "Early stopping at epoch 10\n"
     ]
    },
    {
     "name": "stderr",
     "output_type": "stream",
     "text": [
      "[I 2024-09-12 09:58:04,920] Trial 32 finished with value: 0.6166666666666667 and parameters: {'sequence_length': 5, 'hidden_size': 98, 'num_layers': 2, 'num_blocks': 5, 'dropout_rate': 0.15760200352977702, 'epochs': 618, 'lr': 0.0024023705872786506}. Best is trial 19 with value: 0.6333333333333333.\n"
     ]
    },
    {
     "name": "stdout",
     "output_type": "stream",
     "text": [
      "Early stopping at epoch 13\n"
     ]
    },
    {
     "name": "stderr",
     "output_type": "stream",
     "text": [
      "[I 2024-09-12 09:58:05,607] Trial 33 finished with value: 0.6 and parameters: {'sequence_length': 5, 'hidden_size': 97, 'num_layers': 2, 'num_blocks': 5, 'dropout_rate': 0.1552576301186069, 'epochs': 609, 'lr': 0.002283514385782046}. Best is trial 19 with value: 0.6333333333333333.\n"
     ]
    },
    {
     "name": "stdout",
     "output_type": "stream",
     "text": [
      "Early stopping at epoch 10\n"
     ]
    },
    {
     "name": "stderr",
     "output_type": "stream",
     "text": [
      "[I 2024-09-12 09:58:06,285] Trial 34 finished with value: 0.5166666666666667 and parameters: {'sequence_length': 7, 'hidden_size': 85, 'num_layers': 2, 'num_blocks': 5, 'dropout_rate': 0.1924578812673917, 'epochs': 613, 'lr': 0.0035523393632964644}. Best is trial 19 with value: 0.6333333333333333.\n"
     ]
    },
    {
     "name": "stdout",
     "output_type": "stream",
     "text": [
      "Early stopping at epoch 10\n"
     ]
    },
    {
     "name": "stderr",
     "output_type": "stream",
     "text": [
      "[I 2024-09-12 09:58:07,493] Trial 35 finished with value: 0.6666666666666666 and parameters: {'sequence_length': 5, 'hidden_size': 102, 'num_layers': 2, 'num_blocks': 5, 'dropout_rate': 0.24193691843144288, 'epochs': 461, 'lr': 0.0020714194007224753}. Best is trial 35 with value: 0.6666666666666666.\n"
     ]
    },
    {
     "name": "stdout",
     "output_type": "stream",
     "text": [
      "Early stopping at epoch 19\n"
     ]
    },
    {
     "name": "stderr",
     "output_type": "stream",
     "text": [
      "[I 2024-09-12 09:58:08,126] Trial 36 finished with value: 0.6 and parameters: {'sequence_length': 5, 'hidden_size': 101, 'num_layers': 2, 'num_blocks': 4, 'dropout_rate': 0.2883571558335419, 'epochs': 779, 'lr': 0.0027425473587393166}. Best is trial 35 with value: 0.6666666666666666.\n"
     ]
    },
    {
     "name": "stdout",
     "output_type": "stream",
     "text": [
      "Early stopping at epoch 10\n"
     ]
    },
    {
     "name": "stderr",
     "output_type": "stream",
     "text": [
      "[I 2024-09-12 09:58:08,962] Trial 37 finished with value: 0.6 and parameters: {'sequence_length': 5, 'hidden_size': 113, 'num_layers': 2, 'num_blocks': 5, 'dropout_rate': 0.24738153830473736, 'epochs': 655, 'lr': 0.0015209638493599255}. Best is trial 35 with value: 0.6666666666666666.\n"
     ]
    },
    {
     "name": "stdout",
     "output_type": "stream",
     "text": [
      "Early stopping at epoch 12\n"
     ]
    },
    {
     "name": "stderr",
     "output_type": "stream",
     "text": [
      "[I 2024-09-12 09:58:09,562] Trial 38 finished with value: 0.6 and parameters: {'sequence_length': 5, 'hidden_size': 89, 'num_layers': 2, 'num_blocks': 4, 'dropout_rate': 0.1548620377528823, 'epochs': 495, 'lr': 0.00015019563737837935}. Best is trial 35 with value: 0.6666666666666666.\n"
     ]
    },
    {
     "name": "stdout",
     "output_type": "stream",
     "text": [
      "Early stopping at epoch 10\n"
     ]
    },
    {
     "name": "stderr",
     "output_type": "stream",
     "text": [
      "[I 2024-09-12 09:58:10,792] Trial 39 finished with value: 0.5862068965517241 and parameters: {'sequence_length': 20, 'hidden_size': 100, 'num_layers': 2, 'num_blocks': 5, 'dropout_rate': 0.1965511772463897, 'epochs': 367, 'lr': 0.004896774100767247}. Best is trial 35 with value: 0.6666666666666666.\n"
     ]
    },
    {
     "name": "stdout",
     "output_type": "stream",
     "text": [
      "Early stopping at epoch 17\n"
     ]
    },
    {
     "name": "stderr",
     "output_type": "stream",
     "text": [
      "[I 2024-09-12 09:58:11,468] Trial 40 finished with value: 0.5166666666666667 and parameters: {'sequence_length': 7, 'hidden_size': 107, 'num_layers': 2, 'num_blocks': 5, 'dropout_rate': 0.25159198985611514, 'epochs': 467, 'lr': 0.0007145558214336429}. Best is trial 35 with value: 0.6666666666666666.\n"
     ]
    },
    {
     "name": "stdout",
     "output_type": "stream",
     "text": [
      "Early stopping at epoch 10\n"
     ]
    },
    {
     "name": "stderr",
     "output_type": "stream",
     "text": [
      "[I 2024-09-12 09:58:12,273] Trial 41 finished with value: 0.6 and parameters: {'sequence_length': 5, 'hidden_size': 25, 'num_layers': 2, 'num_blocks': 5, 'dropout_rate': 0.1859922970981592, 'epochs': 574, 'lr': 0.0021616169310848987}. Best is trial 35 with value: 0.6666666666666666.\n"
     ]
    },
    {
     "name": "stdout",
     "output_type": "stream",
     "text": [
      "Early stopping at epoch 13\n"
     ]
    },
    {
     "name": "stderr",
     "output_type": "stream",
     "text": [
      "[I 2024-09-12 09:58:12,967] Trial 42 finished with value: 0.5254237288135594 and parameters: {'sequence_length': 14, 'hidden_size': 123, 'num_layers': 1, 'num_blocks': 4, 'dropout_rate': 0.16106307460279778, 'epochs': 154, 'lr': 0.003300954271777105}. Best is trial 35 with value: 0.6666666666666666.\n"
     ]
    },
    {
     "name": "stdout",
     "output_type": "stream",
     "text": [
      "Early stopping at epoch 13\n"
     ]
    },
    {
     "name": "stderr",
     "output_type": "stream",
     "text": [
      "[I 2024-09-12 09:58:13,940] Trial 43 finished with value: 0.6 and parameters: {'sequence_length': 5, 'hidden_size': 112, 'num_layers': 2, 'num_blocks': 5, 'dropout_rate': 0.496351878042059, 'epochs': 264, 'lr': 0.0018456547835564515}. Best is trial 35 with value: 0.6666666666666666.\n"
     ]
    },
    {
     "name": "stdout",
     "output_type": "stream",
     "text": [
      "Early stopping at epoch 13\n"
     ]
    },
    {
     "name": "stderr",
     "output_type": "stream",
     "text": [
      "[I 2024-09-12 09:58:14,543] Trial 44 finished with value: 0.6 and parameters: {'sequence_length': 5, 'hidden_size': 105, 'num_layers': 1, 'num_blocks': 5, 'dropout_rate': 0.2171168206051362, 'epochs': 561, 'lr': 0.0011331201774279695}. Best is trial 35 with value: 0.6666666666666666.\n"
     ]
    },
    {
     "name": "stdout",
     "output_type": "stream",
     "text": [
      "Early stopping at epoch 10\n"
     ]
    },
    {
     "name": "stderr",
     "output_type": "stream",
     "text": [
      "[I 2024-09-12 09:58:15,499] Trial 45 finished with value: 0.5087719298245614 and parameters: {'sequence_length': 30, 'hidden_size': 116, 'num_layers': 3, 'num_blocks': 4, 'dropout_rate': 0.11452485520785283, 'epochs': 305, 'lr': 0.006389604121717226}. Best is trial 35 with value: 0.6666666666666666.\n"
     ]
    },
    {
     "name": "stdout",
     "output_type": "stream",
     "text": [
      "Early stopping at epoch 10\n"
     ]
    },
    {
     "name": "stderr",
     "output_type": "stream",
     "text": [
      "[I 2024-09-12 09:58:16,066] Trial 46 finished with value: 0.55 and parameters: {'sequence_length': 7, 'hidden_size': 91, 'num_layers': 2, 'num_blocks': 1, 'dropout_rate': 0.1861524987308466, 'epochs': 370, 'lr': 0.004160976633545567}. Best is trial 35 with value: 0.6666666666666666.\n"
     ]
    },
    {
     "name": "stdout",
     "output_type": "stream",
     "text": [
      "Early stopping at epoch 22\n"
     ]
    },
    {
     "name": "stderr",
     "output_type": "stream",
     "text": [
      "[I 2024-09-12 09:58:16,917] Trial 47 finished with value: 0.6166666666666667 and parameters: {'sequence_length': 5, 'hidden_size': 44, 'num_layers': 1, 'num_blocks': 5, 'dropout_rate': 0.4171052566750732, 'epochs': 968, 'lr': 0.002596225850822145}. Best is trial 35 with value: 0.6666666666666666.\n"
     ]
    },
    {
     "name": "stdout",
     "output_type": "stream",
     "text": [
      "Early stopping at epoch 16\n"
     ]
    },
    {
     "name": "stderr",
     "output_type": "stream",
     "text": [
      "[I 2024-09-12 09:58:17,617] Trial 48 finished with value: 0.6 and parameters: {'sequence_length': 5, 'hidden_size': 99, 'num_layers': 1, 'num_blocks': 5, 'dropout_rate': 0.4173375743317928, 'epochs': 963, 'lr': 0.002591610064046444}. Best is trial 35 with value: 0.6666666666666666.\n"
     ]
    },
    {
     "name": "stdout",
     "output_type": "stream",
     "text": [
      "Early stopping at epoch 13\n"
     ]
    },
    {
     "name": "stderr",
     "output_type": "stream",
     "text": [
      "[I 2024-09-12 09:58:18,265] Trial 49 finished with value: 0.6 and parameters: {'sequence_length': 5, 'hidden_size': 44, 'num_layers': 2, 'num_blocks': 4, 'dropout_rate': 0.3481566794819173, 'epochs': 752, 'lr': 0.003348507656234642}. Best is trial 35 with value: 0.6666666666666666.\n"
     ]
    },
    {
     "name": "stdout",
     "output_type": "stream",
     "text": [
      "Early stopping at epoch 10\n"
     ]
    },
    {
     "name": "stderr",
     "output_type": "stream",
     "text": [
      "[I 2024-09-12 09:58:19,208] Trial 50 finished with value: 0.6333333333333333 and parameters: {'sequence_length': 5, 'hidden_size': 52, 'num_layers': 1, 'num_blocks': 5, 'dropout_rate': 0.40051559028557054, 'epochs': 913, 'lr': 0.0046413599066146855}. Best is trial 35 with value: 0.6666666666666666.\n"
     ]
    },
    {
     "name": "stdout",
     "output_type": "stream",
     "text": [
      "Early stopping at epoch 17\n"
     ]
    },
    {
     "name": "stderr",
     "output_type": "stream",
     "text": [
      "[I 2024-09-12 09:58:19,888] Trial 51 finished with value: 0.6666666666666666 and parameters: {'sequence_length': 5, 'hidden_size': 55, 'num_layers': 1, 'num_blocks': 5, 'dropout_rate': 0.4262701706944202, 'epochs': 909, 'lr': 0.0046682238434548095}. Best is trial 35 with value: 0.6666666666666666.\n"
     ]
    },
    {
     "name": "stdout",
     "output_type": "stream",
     "text": [
      "Early stopping at epoch 12\n"
     ]
    },
    {
     "name": "stderr",
     "output_type": "stream",
     "text": [
      "[I 2024-09-12 09:58:20,657] Trial 52 finished with value: 0.6 and parameters: {'sequence_length': 5, 'hidden_size': 50, 'num_layers': 1, 'num_blocks': 5, 'dropout_rate': 0.43541349973364873, 'epochs': 929, 'lr': 0.004650635660350511}. Best is trial 35 with value: 0.6666666666666666.\n"
     ]
    },
    {
     "name": "stdout",
     "output_type": "stream",
     "text": [
      "Early stopping at epoch 11\n"
     ]
    },
    {
     "name": "stderr",
     "output_type": "stream",
     "text": [
      "[I 2024-09-12 09:58:21,268] Trial 53 finished with value: 0.6 and parameters: {'sequence_length': 5, 'hidden_size': 56, 'num_layers': 1, 'num_blocks': 5, 'dropout_rate': 0.46992634383009846, 'epochs': 872, 'lr': 0.005239757477721865}. Best is trial 35 with value: 0.6666666666666666.\n"
     ]
    },
    {
     "name": "stdout",
     "output_type": "stream",
     "text": [
      "Early stopping at epoch 10\n"
     ]
    },
    {
     "name": "stderr",
     "output_type": "stream",
     "text": [
      "[I 2024-09-12 09:58:22,013] Trial 54 finished with value: 0.6 and parameters: {'sequence_length': 5, 'hidden_size': 71, 'num_layers': 1, 'num_blocks': 5, 'dropout_rate': 0.3855585110176478, 'epochs': 903, 'lr': 0.006383788729854513}. Best is trial 35 with value: 0.6666666666666666.\n"
     ]
    },
    {
     "name": "stdout",
     "output_type": "stream",
     "text": [
      "Early stopping at epoch 13\n"
     ]
    },
    {
     "name": "stderr",
     "output_type": "stream",
     "text": [
      "[I 2024-09-12 09:58:22,684] Trial 55 finished with value: 0.5689655172413793 and parameters: {'sequence_length': 20, 'hidden_size': 62, 'num_layers': 1, 'num_blocks': 4, 'dropout_rate': 0.4694413728174714, 'epochs': 992, 'lr': 0.0053427204574050206}. Best is trial 35 with value: 0.6666666666666666.\n"
     ]
    },
    {
     "name": "stdout",
     "output_type": "stream",
     "text": [
      "Early stopping at epoch 11\n"
     ]
    },
    {
     "name": "stderr",
     "output_type": "stream",
     "text": [
      "[I 2024-09-12 09:58:23,266] Trial 56 finished with value: 0.65 and parameters: {'sequence_length': 5, 'hidden_size': 51, 'num_layers': 1, 'num_blocks': 5, 'dropout_rate': 0.4195482411808552, 'epochs': 814, 'lr': 0.003944306886244753}. Best is trial 35 with value: 0.6666666666666666.\n"
     ]
    },
    {
     "name": "stdout",
     "output_type": "stream",
     "text": [
      "Early stopping at epoch 10\n"
     ]
    },
    {
     "name": "stderr",
     "output_type": "stream",
     "text": [
      "[I 2024-09-12 09:58:23,641] Trial 57 finished with value: 0.5423728813559322 and parameters: {'sequence_length': 14, 'hidden_size': 50, 'num_layers': 1, 'num_blocks': 1, 'dropout_rate': 0.4083868086008832, 'epochs': 820, 'lr': 0.004221049511395385}. Best is trial 35 with value: 0.6666666666666666.\n"
     ]
    },
    {
     "name": "stdout",
     "output_type": "stream",
     "text": [
      "Early stopping at epoch 14\n"
     ]
    },
    {
     "name": "stderr",
     "output_type": "stream",
     "text": [
      "[I 2024-09-12 09:58:24,021] Trial 58 finished with value: 0.6333333333333333 and parameters: {'sequence_length': 5, 'hidden_size': 33, 'num_layers': 1, 'num_blocks': 2, 'dropout_rate': 0.4490007684759279, 'epochs': 925, 'lr': 0.004586324428382089}. Best is trial 35 with value: 0.6666666666666666.\n"
     ]
    },
    {
     "name": "stdout",
     "output_type": "stream",
     "text": [
      "Early stopping at epoch 10\n"
     ]
    },
    {
     "name": "stderr",
     "output_type": "stream",
     "text": [
      "[I 2024-09-12 09:58:24,650] Trial 59 finished with value: 0.6166666666666667 and parameters: {'sequence_length': 5, 'hidden_size': 53, 'num_layers': 1, 'num_blocks': 4, 'dropout_rate': 0.3406476817513867, 'epochs': 807, 'lr': 0.006142876235488407}. Best is trial 35 with value: 0.6666666666666666.\n"
     ]
    },
    {
     "name": "stdout",
     "output_type": "stream",
     "text": [
      "Early stopping at epoch 12\n"
     ]
    },
    {
     "name": "stderr",
     "output_type": "stream",
     "text": [
      "[I 2024-09-12 09:58:25,229] Trial 60 finished with value: 0.6 and parameters: {'sequence_length': 5, 'hidden_size': 40, 'num_layers': 1, 'num_blocks': 3, 'dropout_rate': 0.3753251607385364, 'epochs': 707, 'lr': 0.004006098428135751}. Best is trial 35 with value: 0.6666666666666666.\n"
     ]
    },
    {
     "name": "stdout",
     "output_type": "stream",
     "text": [
      "Early stopping at epoch 13\n"
     ]
    },
    {
     "name": "stderr",
     "output_type": "stream",
     "text": [
      "[I 2024-09-12 09:58:25,680] Trial 61 finished with value: 0.6666666666666666 and parameters: {'sequence_length': 5, 'hidden_size': 27, 'num_layers': 1, 'num_blocks': 2, 'dropout_rate': 0.43804869295472987, 'epochs': 924, 'lr': 0.004545618055234059}. Best is trial 35 with value: 0.6666666666666666.\n"
     ]
    },
    {
     "name": "stdout",
     "output_type": "stream",
     "text": [
      "Early stopping at epoch 13\n"
     ]
    },
    {
     "name": "stderr",
     "output_type": "stream",
     "text": [
      "[I 2024-09-12 09:58:26,332] Trial 62 finished with value: 0.6166666666666667 and parameters: {'sequence_length': 5, 'hidden_size': 16, 'num_layers': 1, 'num_blocks': 2, 'dropout_rate': 0.3987583706303742, 'epochs': 899, 'lr': 0.004723376774907794}. Best is trial 35 with value: 0.6666666666666666.\n"
     ]
    },
    {
     "name": "stdout",
     "output_type": "stream",
     "text": [
      "Early stopping at epoch 18\n"
     ]
    },
    {
     "name": "stderr",
     "output_type": "stream",
     "text": [
      "[I 2024-09-12 09:58:27,057] Trial 63 finished with value: 0.6666666666666666 and parameters: {'sequence_length': 5, 'hidden_size': 25, 'num_layers': 1, 'num_blocks': 3, 'dropout_rate': 0.4323626119109434, 'epochs': 882, 'lr': 0.0030781739862202106}. Best is trial 35 with value: 0.6666666666666666.\n"
     ]
    },
    {
     "name": "stdout",
     "output_type": "stream",
     "text": [
      "Early stopping at epoch 17\n"
     ]
    },
    {
     "name": "stderr",
     "output_type": "stream",
     "text": [
      "[I 2024-09-12 09:58:27,563] Trial 64 finished with value: 0.6 and parameters: {'sequence_length': 5, 'hidden_size': 28, 'num_layers': 1, 'num_blocks': 3, 'dropout_rate': 0.4309559631488225, 'epochs': 870, 'lr': 0.0031765155134264064}. Best is trial 35 with value: 0.6666666666666666.\n"
     ]
    },
    {
     "name": "stdout",
     "output_type": "stream",
     "text": [
      "Early stopping at epoch 10\n"
     ]
    },
    {
     "name": "stderr",
     "output_type": "stream",
     "text": [
      "[I 2024-09-12 09:58:28,223] Trial 65 finished with value: 0.6 and parameters: {'sequence_length': 5, 'hidden_size': 19, 'num_layers': 1, 'num_blocks': 3, 'dropout_rate': 0.4885610785141203, 'epochs': 778, 'lr': 0.0038604483453348257}. Best is trial 35 with value: 0.6666666666666666.\n"
     ]
    },
    {
     "name": "stdout",
     "output_type": "stream",
     "text": [
      "Early stopping at epoch 14\n"
     ]
    },
    {
     "name": "stderr",
     "output_type": "stream",
     "text": [
      "[I 2024-09-12 09:58:28,728] Trial 66 finished with value: 0.5689655172413793 and parameters: {'sequence_length': 20, 'hidden_size': 29, 'num_layers': 1, 'num_blocks': 2, 'dropout_rate': 0.45341675663615255, 'epochs': 983, 'lr': 0.007798810520080199}. Best is trial 35 with value: 0.6666666666666666.\n"
     ]
    },
    {
     "name": "stdout",
     "output_type": "stream",
     "text": [
      "Early stopping at epoch 11\n"
     ]
    },
    {
     "name": "stderr",
     "output_type": "stream",
     "text": [
      "[I 2024-09-12 09:58:29,282] Trial 67 finished with value: 0.6666666666666666 and parameters: {'sequence_length': 5, 'hidden_size': 22, 'num_layers': 1, 'num_blocks': 1, 'dropout_rate': 0.43193471530539945, 'epochs': 883, 'lr': 0.0037222767489971105}. Best is trial 35 with value: 0.6666666666666666.\n"
     ]
    },
    {
     "name": "stdout",
     "output_type": "stream",
     "text": [
      "Early stopping at epoch 20\n"
     ]
    },
    {
     "name": "stderr",
     "output_type": "stream",
     "text": [
      "[I 2024-09-12 09:58:29,806] Trial 68 finished with value: 0.6 and parameters: {'sequence_length': 5, 'hidden_size': 21, 'num_layers': 1, 'num_blocks': 2, 'dropout_rate': 0.4355034864521008, 'epochs': 869, 'lr': 0.0030270730597749627}. Best is trial 35 with value: 0.6666666666666666.\n"
     ]
    },
    {
     "name": "stdout",
     "output_type": "stream",
     "text": [
      "Early stopping at epoch 13\n"
     ]
    },
    {
     "name": "stderr",
     "output_type": "stream",
     "text": [
      "[I 2024-09-12 09:58:30,377] Trial 69 finished with value: 0.5254237288135594 and parameters: {'sequence_length': 14, 'hidden_size': 36, 'num_layers': 1, 'num_blocks': 3, 'dropout_rate': 0.48103702899391443, 'epochs': 956, 'lr': 0.003612619244201507}. Best is trial 35 with value: 0.6666666666666666.\n"
     ]
    },
    {
     "name": "stdout",
     "output_type": "stream",
     "text": [
      "Early stopping at epoch 11\n"
     ]
    },
    {
     "name": "stderr",
     "output_type": "stream",
     "text": [
      "[I 2024-09-12 09:58:30,872] Trial 70 finished with value: 0.5666666666666667 and parameters: {'sequence_length': 7, 'hidden_size': 75, 'num_layers': 1, 'num_blocks': 1, 'dropout_rate': 0.4535335105056695, 'epochs': 944, 'lr': 0.001825228443208862}. Best is trial 35 with value: 0.6666666666666666.\n"
     ]
    },
    {
     "name": "stdout",
     "output_type": "stream",
     "text": [
      "Early stopping at epoch 18\n"
     ]
    },
    {
     "name": "stderr",
     "output_type": "stream",
     "text": [
      "[I 2024-09-12 09:58:31,270] Trial 71 finished with value: 0.6 and parameters: {'sequence_length': 5, 'hidden_size': 24, 'num_layers': 1, 'num_blocks': 1, 'dropout_rate': 0.42769256785670967, 'epochs': 883, 'lr': 0.0053337528096618885}. Best is trial 35 with value: 0.6666666666666666.\n"
     ]
    },
    {
     "name": "stdout",
     "output_type": "stream",
     "text": [
      "Early stopping at epoch 14\n"
     ]
    },
    {
     "name": "stderr",
     "output_type": "stream",
     "text": [
      "[I 2024-09-12 09:58:31,608] Trial 72 finished with value: 0.6 and parameters: {'sequence_length': 5, 'hidden_size': 29, 'num_layers': 1, 'num_blocks': 1, 'dropout_rate': 0.44450926595713836, 'epochs': 844, 'lr': 0.003745886483243693}. Best is trial 35 with value: 0.6666666666666666.\n"
     ]
    },
    {
     "name": "stdout",
     "output_type": "stream",
     "text": [
      "Early stopping at epoch 11\n"
     ]
    },
    {
     "name": "stderr",
     "output_type": "stream",
     "text": [
      "[I 2024-09-12 09:58:31,955] Trial 73 finished with value: 0.6 and parameters: {'sequence_length': 5, 'hidden_size': 39, 'num_layers': 1, 'num_blocks': 1, 'dropout_rate': 0.4224369441237127, 'epochs': 676, 'lr': 0.005899174800640168}. Best is trial 35 with value: 0.6666666666666666.\n"
     ]
    },
    {
     "name": "stdout",
     "output_type": "stream",
     "text": [
      "Early stopping at epoch 11\n"
     ]
    },
    {
     "name": "stderr",
     "output_type": "stream",
     "text": [
      "[I 2024-09-12 09:58:32,423] Trial 74 finished with value: 0.65 and parameters: {'sequence_length': 5, 'hidden_size': 33, 'num_layers': 1, 'num_blocks': 2, 'dropout_rate': 0.462576338050104, 'epochs': 801, 'lr': 0.0040707981201668336}. Best is trial 35 with value: 0.6666666666666666.\n"
     ]
    },
    {
     "name": "stdout",
     "output_type": "stream",
     "text": [
      "Early stopping at epoch 13\n"
     ]
    },
    {
     "name": "stderr",
     "output_type": "stream",
     "text": [
      "[I 2024-09-12 09:58:32,849] Trial 75 finished with value: 0.6 and parameters: {'sequence_length': 5, 'hidden_size': 32, 'num_layers': 1, 'num_blocks': 2, 'dropout_rate': 0.46413376458700095, 'epochs': 810, 'lr': 0.004148275598981012}. Best is trial 35 with value: 0.6666666666666666.\n"
     ]
    },
    {
     "name": "stdout",
     "output_type": "stream",
     "text": [
      "Early stopping at epoch 11\n"
     ]
    },
    {
     "name": "stderr",
     "output_type": "stream",
     "text": [
      "[I 2024-09-12 09:58:33,306] Trial 76 finished with value: 0.6 and parameters: {'sequence_length': 5, 'hidden_size': 26, 'num_layers': 1, 'num_blocks': 2, 'dropout_rate': 0.3789120501584453, 'epochs': 735, 'lr': 0.002926698467476744}. Best is trial 35 with value: 0.6666666666666666.\n"
     ]
    },
    {
     "name": "stdout",
     "output_type": "stream",
     "text": [
      "Early stopping at epoch 11\n"
     ]
    },
    {
     "name": "stderr",
     "output_type": "stream",
     "text": [
      "[I 2024-09-12 09:58:33,967] Trial 77 finished with value: 0.6666666666666666 and parameters: {'sequence_length': 5, 'hidden_size': 21, 'num_layers': 1, 'num_blocks': 2, 'dropout_rate': 0.32115567273791823, 'epochs': 781, 'lr': 0.0034593933819125344}. Best is trial 35 with value: 0.6666666666666666.\n"
     ]
    },
    {
     "name": "stdout",
     "output_type": "stream",
     "text": [
      "Early stopping at epoch 18\n"
     ]
    },
    {
     "name": "stderr",
     "output_type": "stream",
     "text": [
      "[I 2024-09-12 09:58:34,354] Trial 78 finished with value: 0.6 and parameters: {'sequence_length': 5, 'hidden_size': 22, 'num_layers': 1, 'num_blocks': 2, 'dropout_rate': 0.33282155083137865, 'epochs': 783, 'lr': 0.003450889309003126}. Best is trial 35 with value: 0.6666666666666666.\n"
     ]
    },
    {
     "name": "stdout",
     "output_type": "stream",
     "text": [
      "Early stopping at epoch 10\n"
     ]
    },
    {
     "name": "stderr",
     "output_type": "stream",
     "text": [
      "[I 2024-09-12 09:58:34,885] Trial 79 finished with value: 0.6 and parameters: {'sequence_length': 5, 'hidden_size': 16, 'num_layers': 1, 'num_blocks': 3, 'dropout_rate': 0.29602470385642976, 'epochs': 844, 'lr': 0.004436219876139152}. Best is trial 35 with value: 0.6666666666666666.\n"
     ]
    },
    {
     "name": "stdout",
     "output_type": "stream",
     "text": [
      "Early stopping at epoch 11\n"
     ]
    },
    {
     "name": "stderr",
     "output_type": "stream",
     "text": [
      "[I 2024-09-12 09:58:35,417] Trial 80 finished with value: 0.6 and parameters: {'sequence_length': 5, 'hidden_size': 33, 'num_layers': 1, 'num_blocks': 2, 'dropout_rate': 0.4090102237150149, 'epochs': 889, 'lr': 0.003950051152088003}. Best is trial 35 with value: 0.6666666666666666.\n"
     ]
    },
    {
     "name": "stdout",
     "output_type": "stream",
     "text": [
      "Early stopping at epoch 13\n"
     ]
    },
    {
     "name": "stderr",
     "output_type": "stream",
     "text": [
      "[I 2024-09-12 09:58:35,952] Trial 81 finished with value: 0.65 and parameters: {'sequence_length': 5, 'hidden_size': 19, 'num_layers': 1, 'num_blocks': 2, 'dropout_rate': 0.44253257039223204, 'epochs': 855, 'lr': 0.0029709218465281935}. Best is trial 35 with value: 0.6666666666666666.\n"
     ]
    },
    {
     "name": "stdout",
     "output_type": "stream",
     "text": [
      "Early stopping at epoch 16\n"
     ]
    },
    {
     "name": "stderr",
     "output_type": "stream",
     "text": [
      "[I 2024-09-12 09:58:36,416] Trial 82 finished with value: 0.6 and parameters: {'sequence_length': 5, 'hidden_size': 20, 'num_layers': 1, 'num_blocks': 2, 'dropout_rate': 0.46084881378107245, 'epochs': 851, 'lr': 0.003150538224412606}. Best is trial 35 with value: 0.6666666666666666.\n"
     ]
    },
    {
     "name": "stdout",
     "output_type": "stream",
     "text": [
      "Early stopping at epoch 13\n"
     ]
    },
    {
     "name": "stderr",
     "output_type": "stream",
     "text": [
      "[I 2024-09-12 09:58:37,029] Trial 83 finished with value: 0.6666666666666666 and parameters: {'sequence_length': 5, 'hidden_size': 23, 'num_layers': 1, 'num_blocks': 2, 'dropout_rate': 0.44367775299547346, 'epochs': 815, 'lr': 0.0025729165927841895}. Best is trial 35 with value: 0.6666666666666666.\n"
     ]
    },
    {
     "name": "stdout",
     "output_type": "stream",
     "text": [
      "Early stopping at epoch 16\n"
     ]
    },
    {
     "name": "stderr",
     "output_type": "stream",
     "text": [
      "[I 2024-09-12 09:58:37,543] Trial 84 finished with value: 0.6 and parameters: {'sequence_length': 5, 'hidden_size': 27, 'num_layers': 1, 'num_blocks': 3, 'dropout_rate': 0.365428761671983, 'epochs': 819, 'lr': 0.0018309866159125754}. Best is trial 35 with value: 0.6666666666666666.\n"
     ]
    },
    {
     "name": "stdout",
     "output_type": "stream",
     "text": [
      "Early stopping at epoch 10\n"
     ]
    },
    {
     "name": "stderr",
     "output_type": "stream",
     "text": [
      "[I 2024-09-12 09:58:38,070] Trial 85 finished with value: 0.5087719298245614 and parameters: {'sequence_length': 30, 'hidden_size': 24, 'num_layers': 1, 'num_blocks': 2, 'dropout_rate': 0.3890504400012713, 'epochs': 792, 'lr': 0.0024576010370318878}. Best is trial 35 with value: 0.6666666666666666.\n"
     ]
    },
    {
     "name": "stdout",
     "output_type": "stream",
     "text": [
      "Early stopping at epoch 12\n"
     ]
    },
    {
     "name": "stderr",
     "output_type": "stream",
     "text": [
      "[I 2024-09-12 09:58:38,665] Trial 86 finished with value: 0.6 and parameters: {'sequence_length': 5, 'hidden_size': 31, 'num_layers': 1, 'num_blocks': 3, 'dropout_rate': 0.31630369967146865, 'epochs': 748, 'lr': 0.004949161501907097}. Best is trial 35 with value: 0.6666666666666666.\n"
     ]
    },
    {
     "name": "stdout",
     "output_type": "stream",
     "text": [
      "Early stopping at epoch 13\n"
     ]
    },
    {
     "name": "stderr",
     "output_type": "stream",
     "text": [
      "[I 2024-09-12 09:58:39,129] Trial 87 finished with value: 0.65 and parameters: {'sequence_length': 5, 'hidden_size': 41, 'num_layers': 1, 'num_blocks': 2, 'dropout_rate': 0.27345112503038826, 'epochs': 451, 'lr': 0.0035576901836251586}. Best is trial 35 with value: 0.6666666666666666.\n"
     ]
    },
    {
     "name": "stdout",
     "output_type": "stream",
     "text": [
      "Early stopping at epoch 12\n"
     ]
    },
    {
     "name": "stderr",
     "output_type": "stream",
     "text": [
      "[I 2024-09-12 09:58:39,606] Trial 88 finished with value: 0.5689655172413793 and parameters: {'sequence_length': 20, 'hidden_size': 64, 'num_layers': 1, 'num_blocks': 2, 'dropout_rate': 0.48226356056681474, 'epochs': 935, 'lr': 0.0028386027612669913}. Best is trial 35 with value: 0.6666666666666666.\n"
     ]
    },
    {
     "name": "stdout",
     "output_type": "stream",
     "text": [
      "Early stopping at epoch 11\n"
     ]
    },
    {
     "name": "stderr",
     "output_type": "stream",
     "text": [
      "[I 2024-09-12 09:58:40,114] Trial 89 finished with value: 0.5166666666666667 and parameters: {'sequence_length': 7, 'hidden_size': 46, 'num_layers': 3, 'num_blocks': 2, 'dropout_rate': 0.4119574319697602, 'epochs': 917, 'lr': 0.0038070161568761786}. Best is trial 35 with value: 0.6666666666666666.\n"
     ]
    },
    {
     "name": "stdout",
     "output_type": "stream",
     "text": [
      "Early stopping at epoch 10\n"
     ]
    },
    {
     "name": "stderr",
     "output_type": "stream",
     "text": [
      "[I 2024-09-12 09:58:40,968] Trial 90 finished with value: 0.6333333333333333 and parameters: {'sequence_length': 5, 'hidden_size': 24, 'num_layers': 1, 'num_blocks': 3, 'dropout_rate': 0.44114187034433605, 'epochs': 828, 'lr': 0.004402458443630002}. Best is trial 35 with value: 0.6666666666666666.\n"
     ]
    },
    {
     "name": "stdout",
     "output_type": "stream",
     "text": [
      "Early stopping at epoch 20\n"
     ]
    },
    {
     "name": "stderr",
     "output_type": "stream",
     "text": [
      "[I 2024-09-12 09:58:41,435] Trial 91 finished with value: 0.6666666666666666 and parameters: {'sequence_length': 5, 'hidden_size': 18, 'num_layers': 1, 'num_blocks': 2, 'dropout_rate': 0.42571286299411926, 'epochs': 793, 'lr': 0.0027025558646137154}. Best is trial 35 with value: 0.6666666666666666.\n"
     ]
    },
    {
     "name": "stdout",
     "output_type": "stream",
     "text": [
      "Early stopping at epoch 12\n"
     ]
    },
    {
     "name": "stderr",
     "output_type": "stream",
     "text": [
      "[I 2024-09-12 09:58:41,989] Trial 92 finished with value: 0.6333333333333333 and parameters: {'sequence_length': 5, 'hidden_size': 37, 'num_layers': 1, 'num_blocks': 2, 'dropout_rate': 0.428651005470255, 'epochs': 760, 'lr': 0.0026344946528881644}. Best is trial 35 with value: 0.6666666666666666.\n"
     ]
    },
    {
     "name": "stdout",
     "output_type": "stream",
     "text": [
      "Early stopping at epoch 16\n"
     ]
    },
    {
     "name": "stderr",
     "output_type": "stream",
     "text": [
      "[I 2024-09-12 09:58:42,747] Trial 93 finished with value: 0.6666666666666666 and parameters: {'sequence_length': 5, 'hidden_size': 17, 'num_layers': 1, 'num_blocks': 2, 'dropout_rate': 0.40028331635144415, 'epochs': 716, 'lr': 0.002086996689090396}. Best is trial 35 with value: 0.6666666666666666.\n"
     ]
    },
    {
     "name": "stdout",
     "output_type": "stream",
     "text": [
      "Early stopping at epoch 21\n"
     ]
    },
    {
     "name": "stderr",
     "output_type": "stream",
     "text": [
      "[I 2024-09-12 09:58:43,206] Trial 94 finished with value: 0.6333333333333333 and parameters: {'sequence_length': 5, 'hidden_size': 17, 'num_layers': 1, 'num_blocks': 2, 'dropout_rate': 0.40203415894019273, 'epochs': 731, 'lr': 0.0012501258466239558}. Best is trial 35 with value: 0.6666666666666666.\n"
     ]
    },
    {
     "name": "stdout",
     "output_type": "stream",
     "text": [
      "Early stopping at epoch 13\n"
     ]
    },
    {
     "name": "stderr",
     "output_type": "stream",
     "text": [
      "[I 2024-09-12 09:58:43,707] Trial 95 finished with value: 0.5254237288135594 and parameters: {'sequence_length': 14, 'hidden_size': 22, 'num_layers': 1, 'num_blocks': 2, 'dropout_rate': 0.41767583321011315, 'epochs': 531, 'lr': 0.0020276848725219957}. Best is trial 35 with value: 0.6666666666666666.\n"
     ]
    },
    {
     "name": "stdout",
     "output_type": "stream",
     "text": [
      "Early stopping at epoch 13\n"
     ]
    },
    {
     "name": "stderr",
     "output_type": "stream",
     "text": [
      "[I 2024-09-12 09:58:44,430] Trial 96 finished with value: 0.6666666666666666 and parameters: {'sequence_length': 5, 'hidden_size': 19, 'num_layers': 1, 'num_blocks': 5, 'dropout_rate': 0.39608576784577726, 'epochs': 770, 'lr': 0.002310209493705224}. Best is trial 35 with value: 0.6666666666666666.\n"
     ]
    },
    {
     "name": "stdout",
     "output_type": "stream",
     "text": [
      "Early stopping at epoch 12\n"
     ]
    },
    {
     "name": "stderr",
     "output_type": "stream",
     "text": [
      "[I 2024-09-12 09:58:44,938] Trial 97 finished with value: 0.6666666666666666 and parameters: {'sequence_length': 5, 'hidden_size': 19, 'num_layers': 1, 'num_blocks': 1, 'dropout_rate': 0.39529334124423365, 'epochs': 774, 'lr': 0.0008904940310273954}. Best is trial 35 with value: 0.6666666666666666.\n"
     ]
    },
    {
     "name": "stdout",
     "output_type": "stream",
     "text": [
      "Early stopping at epoch 17\n"
     ]
    },
    {
     "name": "stderr",
     "output_type": "stream",
     "text": [
      "[I 2024-09-12 09:58:45,457] Trial 98 finished with value: 0.6 and parameters: {'sequence_length': 5, 'hidden_size': 23, 'num_layers': 1, 'num_blocks': 2, 'dropout_rate': 0.38379783364845227, 'epochs': 671, 'lr': 0.001655458480456539}. Best is trial 35 with value: 0.6666666666666666.\n"
     ]
    },
    {
     "name": "stdout",
     "output_type": "stream",
     "text": [
      "Early stopping at epoch 13\n"
     ]
    },
    {
     "name": "stderr",
     "output_type": "stream",
     "text": [
      "[I 2024-09-12 09:58:46,058] Trial 99 finished with value: 0.6 and parameters: {'sequence_length': 5, 'hidden_size': 18, 'num_layers': 1, 'num_blocks': 4, 'dropout_rate': 0.40540313706598274, 'epochs': 698, 'lr': 0.0023464041796546686}. Best is trial 35 with value: 0.6666666666666666.\n",
      "C:\\Users\\ng_mi\\AppData\\Local\\Temp\\ipykernel_18800\\3382172078.py:102: FutureWarning: Setting an item of incompatible dtype is deprecated and will raise an error in a future version of pandas. Value '../models/hyperparameters-search-models/pytorch/lstm-classification/CL=F.pth' has dtype incompatible with float64, please explicitly cast to a compatible dtype first.\n",
      "  ticker_df.loc[ticker_df['Ticker_Symbol'] == ticker_symbol, [metric_col, path_col]] = [study.best_value, model_path]\n",
      "[I 2024-09-12 09:58:46,125] A new study created in memory with name: no-name-82dd37e6-3d79-48d4-92c5-2f5174e00f09\n"
     ]
    },
    {
     "name": "stdout",
     "output_type": "stream",
     "text": [
      "Early stopping at epoch 11\n",
      "parameters for CL=F saved to ../models/best-hyperparameters/pytorch/lstm-classification/CL=F.json\n",
      "Best model for CL=F saved with accuracy: 0.6666666666666666\n",
      "Deleted CL=F from ../models/hyperparameters-search-models/ticker-all-models-best-hyperparameters-list.csv\n"
     ]
    },
    {
     "name": "stderr",
     "output_type": "stream",
     "text": [
      "[I 2024-09-12 09:58:46,422] Trial 0 finished with value: 117671.859375 and parameters: {'sequence_length': 5, 'hidden_size': 87, 'num_layers': 2, 'num_blocks': 1, 'dropout_rate': 0.4774406033794555, 'epochs': 11, 'lr': 0.007838285847584253}. Best is trial 0 with value: 117671.859375.\n",
      "[I 2024-09-12 09:58:46,792] Trial 1 finished with value: 13644.4521484375 and parameters: {'sequence_length': 7, 'hidden_size': 77, 'num_layers': 2, 'num_blocks': 1, 'dropout_rate': 0.2431958351123266, 'epochs': 22, 'lr': 0.001039829158593817}. Best is trial 1 with value: 13644.4521484375.\n"
     ]
    },
    {
     "name": "stdout",
     "output_type": "stream",
     "text": [
      "Early stopping at epoch 13\n"
     ]
    },
    {
     "name": "stderr",
     "output_type": "stream",
     "text": [
      "[I 2024-09-12 09:58:48,385] Trial 2 finished with value: 4940.46337890625 and parameters: {'sequence_length': 7, 'hidden_size': 68, 'num_layers': 3, 'num_blocks': 1, 'dropout_rate': 0.28504232789408235, 'epochs': 66, 'lr': 0.00036775340037148777}. Best is trial 2 with value: 4940.46337890625.\n",
      "[I 2024-09-12 09:58:50,159] Trial 3 finished with value: 30700.99609375 and parameters: {'sequence_length': 7, 'hidden_size': 106, 'num_layers': 2, 'num_blocks': 5, 'dropout_rate': 0.12840601944939534, 'epochs': 97, 'lr': 0.003905947269043411}. Best is trial 2 with value: 4940.46337890625.\n"
     ]
    },
    {
     "name": "stdout",
     "output_type": "stream",
     "text": [
      "Early stopping at epoch 31\n"
     ]
    },
    {
     "name": "stderr",
     "output_type": "stream",
     "text": [
      "[I 2024-09-12 09:58:51,170] Trial 4 finished with value: 4101.6748046875 and parameters: {'sequence_length': 7, 'hidden_size': 20, 'num_layers': 3, 'num_blocks': 1, 'dropout_rate': 0.4258760651424508, 'epochs': 84, 'lr': 0.008860498699408956}. Best is trial 4 with value: 4101.6748046875.\n"
     ]
    },
    {
     "name": "stdout",
     "output_type": "stream",
     "text": [
      "Early stopping at epoch 48\n"
     ]
    },
    {
     "name": "stderr",
     "output_type": "stream",
     "text": [
      "[I 2024-09-12 09:58:52,107] Trial 5 finished with value: 26419.58203125 and parameters: {'sequence_length': 20, 'hidden_size': 96, 'num_layers': 2, 'num_blocks': 5, 'dropout_rate': 0.4275480825857666, 'epochs': 93, 'lr': 0.007626461130879457}. Best is trial 4 with value: 4101.6748046875.\n"
     ]
    },
    {
     "name": "stdout",
     "output_type": "stream",
     "text": [
      "Early stopping at epoch 16\n"
     ]
    },
    {
     "name": "stderr",
     "output_type": "stream",
     "text": [
      "[I 2024-09-12 09:58:53,007] Trial 6 finished with value: 7820.21728515625 and parameters: {'sequence_length': 7, 'hidden_size': 44, 'num_layers': 1, 'num_blocks': 2, 'dropout_rate': 0.2700570737064346, 'epochs': 39, 'lr': 0.009542991935614352}. Best is trial 4 with value: 4101.6748046875.\n"
     ]
    },
    {
     "name": "stdout",
     "output_type": "stream",
     "text": [
      "Early stopping at epoch 35\n"
     ]
    },
    {
     "name": "stderr",
     "output_type": "stream",
     "text": [
      "[I 2024-09-12 09:58:53,348] Trial 7 finished with value: 13051.8935546875 and parameters: {'sequence_length': 7, 'hidden_size': 118, 'num_layers': 2, 'num_blocks': 1, 'dropout_rate': 0.3012454731525558, 'epochs': 89, 'lr': 0.0017304050349119082}. Best is trial 4 with value: 4101.6748046875.\n"
     ]
    },
    {
     "name": "stdout",
     "output_type": "stream",
     "text": [
      "Early stopping at epoch 14\n"
     ]
    },
    {
     "name": "stderr",
     "output_type": "stream",
     "text": [
      "[I 2024-09-12 09:58:54,172] Trial 8 finished with value: 24529.146484375 and parameters: {'sequence_length': 20, 'hidden_size': 117, 'num_layers': 2, 'num_blocks': 2, 'dropout_rate': 0.45224957939955146, 'epochs': 54, 'lr': 0.001603634292085362}. Best is trial 4 with value: 4101.6748046875.\n"
     ]
    },
    {
     "name": "stdout",
     "output_type": "stream",
     "text": [
      "Early stopping at epoch 24\n"
     ]
    },
    {
     "name": "stderr",
     "output_type": "stream",
     "text": [
      "[I 2024-09-12 09:58:55,001] Trial 9 finished with value: 11803.0400390625 and parameters: {'sequence_length': 7, 'hidden_size': 122, 'num_layers': 2, 'num_blocks': 1, 'dropout_rate': 0.19161868111081481, 'epochs': 44, 'lr': 0.008845639331815426}. Best is trial 4 with value: 4101.6748046875.\n"
     ]
    },
    {
     "name": "stdout",
     "output_type": "stream",
     "text": [
      "Early stopping at epoch 40\n"
     ]
    },
    {
     "name": "stderr",
     "output_type": "stream",
     "text": [
      "[I 2024-09-12 09:58:56,030] Trial 10 finished with value: 6995.814453125 and parameters: {'sequence_length': 14, 'hidden_size': 16, 'num_layers': 3, 'num_blocks': 3, 'dropout_rate': 0.359073640911623, 'epochs': 69, 'lr': 0.005655534312169967}. Best is trial 4 with value: 4101.6748046875.\n"
     ]
    },
    {
     "name": "stdout",
     "output_type": "stream",
     "text": [
      "Early stopping at epoch 24\n"
     ]
    },
    {
     "name": "stderr",
     "output_type": "stream",
     "text": [
      "[I 2024-09-12 09:58:56,912] Trial 11 finished with value: 35618.51953125 and parameters: {'sequence_length': 30, 'hidden_size': 55, 'num_layers': 3, 'num_blocks': 3, 'dropout_rate': 0.3718543175916938, 'epochs': 73, 'lr': 0.004417355189612176}. Best is trial 4 with value: 4101.6748046875.\n"
     ]
    },
    {
     "name": "stdout",
     "output_type": "stream",
     "text": [
      "Early stopping at epoch 16\n"
     ]
    },
    {
     "name": "stderr",
     "output_type": "stream",
     "text": [
      "[I 2024-09-12 09:58:59,142] Trial 12 finished with value: 1479.8773193359375 and parameters: {'sequence_length': 5, 'hidden_size': 23, 'num_layers': 3, 'num_blocks': 2, 'dropout_rate': 0.34444579278662, 'epochs': 74, 'lr': 0.0029295136615066224}. Best is trial 12 with value: 1479.8773193359375.\n",
      "[I 2024-09-12 09:59:01,790] Trial 13 finished with value: 9416.10546875 and parameters: {'sequence_length': 5, 'hidden_size': 19, 'num_layers': 3, 'num_blocks': 2, 'dropout_rate': 0.39498700951444976, 'epochs': 80, 'lr': 0.005864834859804636}. Best is trial 12 with value: 1479.8773193359375.\n",
      "[I 2024-09-12 09:59:03,459] Trial 14 finished with value: 13975.974609375 and parameters: {'sequence_length': 5, 'hidden_size': 35, 'num_layers': 3, 'num_blocks': 4, 'dropout_rate': 0.36774296381732047, 'epochs': 83, 'lr': 0.00294645829197527}. Best is trial 12 with value: 1479.8773193359375.\n"
     ]
    },
    {
     "name": "stdout",
     "output_type": "stream",
     "text": [
      "Early stopping at epoch 28\n"
     ]
    },
    {
     "name": "stderr",
     "output_type": "stream",
     "text": [
      "[I 2024-09-12 09:59:04,344] Trial 15 finished with value: 20001.892578125 and parameters: {'sequence_length': 30, 'hidden_size': 30, 'num_layers': 1, 'num_blocks': 2, 'dropout_rate': 0.4993465324024692, 'epochs': 60, 'lr': 0.006781692714852372}. Best is trial 12 with value: 1479.8773193359375.\n"
     ]
    },
    {
     "name": "stdout",
     "output_type": "stream",
     "text": [
      "Early stopping at epoch 26\n"
     ]
    },
    {
     "name": "stderr",
     "output_type": "stream",
     "text": [
      "[I 2024-09-12 09:59:05,102] Trial 16 finished with value: 5644.07763671875 and parameters: {'sequence_length': 14, 'hidden_size': 51, 'num_layers': 3, 'num_blocks': 2, 'dropout_rate': 0.33898215411735994, 'epochs': 78, 'lr': 0.0028649362965126467}. Best is trial 12 with value: 1479.8773193359375.\n"
     ]
    },
    {
     "name": "stdout",
     "output_type": "stream",
     "text": [
      "Early stopping at epoch 21\n"
     ]
    },
    {
     "name": "stderr",
     "output_type": "stream",
     "text": [
      "[I 2024-09-12 09:59:05,927] Trial 17 finished with value: 25051.123046875 and parameters: {'sequence_length': 5, 'hidden_size': 32, 'num_layers': 3, 'num_blocks': 4, 'dropout_rate': 0.4275643687436212, 'epochs': 47, 'lr': 0.0028227496025427542}. Best is trial 12 with value: 1479.8773193359375.\n"
     ]
    },
    {
     "name": "stdout",
     "output_type": "stream",
     "text": [
      "Early stopping at epoch 13\n"
     ]
    },
    {
     "name": "stderr",
     "output_type": "stream",
     "text": [
      "[I 2024-09-12 09:59:07,215] Trial 18 finished with value: 4664.17626953125 and parameters: {'sequence_length': 5, 'hidden_size': 68, 'num_layers': 3, 'num_blocks': 3, 'dropout_rate': 0.21751931819295792, 'epochs': 86, 'lr': 0.009972118249779283}. Best is trial 12 with value: 1479.8773193359375.\n"
     ]
    },
    {
     "name": "stdout",
     "output_type": "stream",
     "text": [
      "Early stopping at epoch 29\n"
     ]
    },
    {
     "name": "stderr",
     "output_type": "stream",
     "text": [
      "[I 2024-09-12 09:59:07,816] Trial 19 finished with value: 4198.29443359375 and parameters: {'sequence_length': 14, 'hidden_size': 25, 'num_layers': 1, 'num_blocks': 2, 'dropout_rate': 0.31079353620001193, 'epochs': 31, 'lr': 0.004991595063742953}. Best is trial 12 with value: 1479.8773193359375.\n"
     ]
    },
    {
     "name": "stdout",
     "output_type": "stream",
     "text": [
      "Early stopping at epoch 21\n"
     ]
    },
    {
     "name": "stderr",
     "output_type": "stream",
     "text": [
      "[I 2024-09-12 09:59:08,419] Trial 20 finished with value: 21531.85546875 and parameters: {'sequence_length': 30, 'hidden_size': 46, 'num_layers': 3, 'num_blocks': 1, 'dropout_rate': 0.40851685047506703, 'epochs': 56, 'lr': 0.006417583427542617}. Best is trial 12 with value: 1479.8773193359375.\n"
     ]
    },
    {
     "name": "stdout",
     "output_type": "stream",
     "text": [
      "Early stopping at epoch 22\n"
     ]
    },
    {
     "name": "stderr",
     "output_type": "stream",
     "text": [
      "[I 2024-09-12 09:59:08,937] Trial 21 finished with value: 18398.68359375 and parameters: {'sequence_length': 14, 'hidden_size': 25, 'num_layers': 1, 'num_blocks': 2, 'dropout_rate': 0.3198562548824548, 'epochs': 31, 'lr': 0.0046756827086860565}. Best is trial 12 with value: 1479.8773193359375.\n"
     ]
    },
    {
     "name": "stdout",
     "output_type": "stream",
     "text": [
      "Early stopping at epoch 16\n"
     ]
    },
    {
     "name": "stderr",
     "output_type": "stream",
     "text": [
      "[I 2024-09-12 09:59:09,678] Trial 22 finished with value: 6907.23681640625 and parameters: {'sequence_length': 14, 'hidden_size': 40, 'num_layers': 1, 'num_blocks': 2, 'dropout_rate': 0.33256866614962644, 'epochs': 28, 'lr': 0.003843379485751916}. Best is trial 12 with value: 1479.8773193359375.\n"
     ]
    },
    {
     "name": "stdout",
     "output_type": "stream",
     "text": [
      "Early stopping at epoch 25\n"
     ]
    },
    {
     "name": "stderr",
     "output_type": "stream",
     "text": [
      "[I 2024-09-12 09:59:10,106] Trial 23 finished with value: 18535.93359375 and parameters: {'sequence_length': 14, 'hidden_size': 25, 'num_layers': 1, 'num_blocks': 3, 'dropout_rate': 0.26450846407014683, 'epochs': 11, 'lr': 0.0053305506039713745}. Best is trial 12 with value: 1479.8773193359375.\n",
      "[I 2024-09-12 09:59:11,050] Trial 24 finished with value: 24399.96875 and parameters: {'sequence_length': 20, 'hidden_size': 59, 'num_layers': 2, 'num_blocks': 2, 'dropout_rate': 0.38354381108625013, 'epochs': 64, 'lr': 0.007163996100933399}. Best is trial 12 with value: 1479.8773193359375.\n"
     ]
    },
    {
     "name": "stdout",
     "output_type": "stream",
     "text": [
      "Early stopping at epoch 27\n"
     ]
    },
    {
     "name": "stderr",
     "output_type": "stream",
     "text": [
      "[I 2024-09-12 09:59:11,462] Trial 25 finished with value: 32613.572265625 and parameters: {'sequence_length': 14, 'hidden_size': 16, 'num_layers': 3, 'num_blocks': 1, 'dropout_rate': 0.16898978653848243, 'epochs': 99, 'lr': 0.008669973264170754}. Best is trial 12 with value: 1479.8773193359375.\n"
     ]
    },
    {
     "name": "stdout",
     "output_type": "stream",
     "text": [
      "Early stopping at epoch 14\n"
     ]
    },
    {
     "name": "stderr",
     "output_type": "stream",
     "text": [
      "[I 2024-09-12 09:59:13,172] Trial 26 finished with value: 3744.269287109375 and parameters: {'sequence_length': 5, 'hidden_size': 37, 'num_layers': 1, 'num_blocks': 4, 'dropout_rate': 0.3079732912766226, 'epochs': 75, 'lr': 0.003963283788556069}. Best is trial 12 with value: 1479.8773193359375.\n"
     ]
    },
    {
     "name": "stdout",
     "output_type": "stream",
     "text": [
      "Early stopping at epoch 44\n"
     ]
    },
    {
     "name": "stderr",
     "output_type": "stream",
     "text": [
      "[I 2024-09-12 09:59:14,430] Trial 27 finished with value: 1272.0418701171875 and parameters: {'sequence_length': 5, 'hidden_size': 37, 'num_layers': 2, 'num_blocks': 4, 'dropout_rate': 0.4371612845683483, 'epochs': 71, 'lr': 0.003548916368902506}. Best is trial 27 with value: 1272.0418701171875.\n"
     ]
    },
    {
     "name": "stdout",
     "output_type": "stream",
     "text": [
      "Early stopping at epoch 24\n"
     ]
    },
    {
     "name": "stderr",
     "output_type": "stream",
     "text": [
      "[I 2024-09-12 09:59:15,455] Trial 28 finished with value: 13759.365234375 and parameters: {'sequence_length': 5, 'hidden_size': 35, 'num_layers': 1, 'num_blocks': 4, 'dropout_rate': 0.45902684295144475, 'epochs': 73, 'lr': 0.00211168017945449}. Best is trial 27 with value: 1272.0418701171875.\n"
     ]
    },
    {
     "name": "stdout",
     "output_type": "stream",
     "text": [
      "Early stopping at epoch 22\n"
     ]
    },
    {
     "name": "stderr",
     "output_type": "stream",
     "text": [
      "[I 2024-09-12 09:59:16,740] Trial 29 finished with value: 15677.978515625 and parameters: {'sequence_length': 5, 'hidden_size': 60, 'num_layers': 2, 'num_blocks': 4, 'dropout_rate': 0.47432122864945425, 'epochs': 75, 'lr': 0.003600652174587657}. Best is trial 27 with value: 1272.0418701171875.\n"
     ]
    },
    {
     "name": "stdout",
     "output_type": "stream",
     "text": [
      "Early stopping at epoch 24\n"
     ]
    },
    {
     "name": "stderr",
     "output_type": "stream",
     "text": [
      "[I 2024-09-12 09:59:17,460] Trial 30 finished with value: 14586.080078125 and parameters: {'sequence_length': 5, 'hidden_size': 40, 'num_layers': 2, 'num_blocks': 5, 'dropout_rate': 0.23585055087938228, 'epochs': 60, 'lr': 0.0033165742635306522}. Best is trial 27 with value: 1272.0418701171875.\n"
     ]
    },
    {
     "name": "stdout",
     "output_type": "stream",
     "text": [
      "Early stopping at epoch 10\n"
     ]
    },
    {
     "name": "stderr",
     "output_type": "stream",
     "text": [
      "[I 2024-09-12 09:59:18,166] Trial 31 finished with value: 5472.005859375 and parameters: {'sequence_length': 5, 'hidden_size': 24, 'num_layers': 3, 'num_blocks': 4, 'dropout_rate': 0.43011009177335285, 'epochs': 89, 'lr': 0.0023060781570283166}. Best is trial 27 with value: 1272.0418701171875.\n"
     ]
    },
    {
     "name": "stdout",
     "output_type": "stream",
     "text": [
      "Early stopping at epoch 11\n"
     ]
    },
    {
     "name": "stderr",
     "output_type": "stream",
     "text": [
      "[I 2024-09-12 09:59:19,298] Trial 32 finished with value: 14883.0859375 and parameters: {'sequence_length': 5, 'hidden_size': 82, 'num_layers': 2, 'num_blocks': 4, 'dropout_rate': 0.403494245014785, 'epochs': 82, 'lr': 0.004642747342735778}. Best is trial 27 with value: 1272.0418701171875.\n"
     ]
    },
    {
     "name": "stdout",
     "output_type": "stream",
     "text": [
      "Early stopping at epoch 22\n"
     ]
    },
    {
     "name": "stderr",
     "output_type": "stream",
     "text": [
      "[I 2024-09-12 09:59:20,122] Trial 33 finished with value: 5959.74755859375 and parameters: {'sequence_length': 5, 'hidden_size': 30, 'num_layers': 3, 'num_blocks': 3, 'dropout_rate': 0.3540204053985102, 'epochs': 68, 'lr': 0.000996828256733593}. Best is trial 27 with value: 1272.0418701171875.\n"
     ]
    },
    {
     "name": "stdout",
     "output_type": "stream",
     "text": [
      "Early stopping at epoch 17\n"
     ]
    },
    {
     "name": "stderr",
     "output_type": "stream",
     "text": [
      "[I 2024-09-12 09:59:21,109] Trial 34 finished with value: 14320.2314453125 and parameters: {'sequence_length': 7, 'hidden_size': 50, 'num_layers': 2, 'num_blocks': 5, 'dropout_rate': 0.4880860763061078, 'epochs': 71, 'lr': 0.004030600287398306}. Best is trial 27 with value: 1272.0418701171875.\n"
     ]
    },
    {
     "name": "stdout",
     "output_type": "stream",
     "text": [
      "Early stopping at epoch 15\n"
     ]
    },
    {
     "name": "stderr",
     "output_type": "stream",
     "text": [
      "[I 2024-09-12 09:59:21,867] Trial 35 finished with value: 12290.626953125 and parameters: {'sequence_length': 5, 'hidden_size': 39, 'num_layers': 3, 'num_blocks': 3, 'dropout_rate': 0.4523697538522315, 'epochs': 94, 'lr': 0.0004036869006505753}. Best is trial 27 with value: 1272.0418701171875.\n"
     ]
    },
    {
     "name": "stdout",
     "output_type": "stream",
     "text": [
      "Early stopping at epoch 15\n"
     ]
    },
    {
     "name": "stderr",
     "output_type": "stream",
     "text": [
      "[I 2024-09-12 09:59:22,552] Trial 36 finished with value: 24129.099609375 and parameters: {'sequence_length': 7, 'hidden_size': 21, 'num_layers': 1, 'num_blocks': 4, 'dropout_rate': 0.41615896128974156, 'epochs': 76, 'lr': 0.008066204439622632}. Best is trial 27 with value: 1272.0418701171875.\n"
     ]
    },
    {
     "name": "stdout",
     "output_type": "stream",
     "text": [
      "Early stopping at epoch 15\n"
     ]
    },
    {
     "name": "stderr",
     "output_type": "stream",
     "text": [
      "[I 2024-09-12 09:59:23,226] Trial 37 finished with value: 6405.3046875 and parameters: {'sequence_length': 5, 'hidden_size': 92, 'num_layers': 2, 'num_blocks': 1, 'dropout_rate': 0.2855363338683074, 'epochs': 62, 'lr': 0.0041861988162072514}. Best is trial 27 with value: 1272.0418701171875.\n"
     ]
    },
    {
     "name": "stdout",
     "output_type": "stream",
     "text": [
      "Early stopping at epoch 26\n"
     ]
    },
    {
     "name": "stderr",
     "output_type": "stream",
     "text": [
      "[I 2024-09-12 09:59:24,339] Trial 38 finished with value: 44627.25 and parameters: {'sequence_length': 7, 'hidden_size': 72, 'num_layers': 3, 'num_blocks': 5, 'dropout_rate': 0.11598068110415266, 'epochs': 88, 'lr': 0.003359949470254305}. Best is trial 27 with value: 1272.0418701171875.\n"
     ]
    },
    {
     "name": "stdout",
     "output_type": "stream",
     "text": [
      "Early stopping at epoch 16\n"
     ]
    },
    {
     "name": "stderr",
     "output_type": "stream",
     "text": [
      "[I 2024-09-12 09:59:24,970] Trial 39 finished with value: 8202.70703125 and parameters: {'sequence_length': 20, 'hidden_size': 45, 'num_layers': 2, 'num_blocks': 1, 'dropout_rate': 0.3397558535102609, 'epochs': 54, 'lr': 0.0023854938658176474}. Best is trial 27 with value: 1272.0418701171875.\n"
     ]
    },
    {
     "name": "stdout",
     "output_type": "stream",
     "text": [
      "Early stopping at epoch 26\n"
     ]
    },
    {
     "name": "stderr",
     "output_type": "stream",
     "text": [
      "[I 2024-09-12 09:59:25,647] Trial 40 finished with value: 19025.30078125 and parameters: {'sequence_length': 7, 'hidden_size': 102, 'num_layers': 1, 'num_blocks': 5, 'dropout_rate': 0.27328149184532713, 'epochs': 93, 'lr': 0.0008750342654361629}. Best is trial 27 with value: 1272.0418701171875.\n"
     ]
    },
    {
     "name": "stdout",
     "output_type": "stream",
     "text": [
      "Early stopping at epoch 12\n"
     ]
    },
    {
     "name": "stderr",
     "output_type": "stream",
     "text": [
      "[I 2024-09-12 09:59:26,261] Trial 41 finished with value: 28665.6015625 and parameters: {'sequence_length': 5, 'hidden_size': 29, 'num_layers': 1, 'num_blocks': 3, 'dropout_rate': 0.3157615838497806, 'epochs': 35, 'lr': 0.005315763423878512}. Best is trial 27 with value: 1272.0418701171875.\n"
     ]
    },
    {
     "name": "stdout",
     "output_type": "stream",
     "text": [
      "Early stopping at epoch 16\n"
     ]
    },
    {
     "name": "stderr",
     "output_type": "stream",
     "text": [
      "[I 2024-09-12 09:59:27,221] Trial 42 finished with value: 12437.8662109375 and parameters: {'sequence_length': 14, 'hidden_size': 22, 'num_layers': 1, 'num_blocks': 1, 'dropout_rate': 0.2954223574925329, 'epochs': 49, 'lr': 0.005027428091393034}. Best is trial 27 with value: 1272.0418701171875.\n",
      "[I 2024-09-12 09:59:27,772] Trial 43 finished with value: 14405.95703125 and parameters: {'sequence_length': 30, 'hidden_size': 37, 'num_layers': 1, 'num_blocks': 2, 'dropout_rate': 0.2529255011238677, 'epochs': 18, 'lr': 0.0062340307995742555}. Best is trial 27 with value: 1272.0418701171875.\n"
     ]
    },
    {
     "name": "stdout",
     "output_type": "stream",
     "text": [
      "Early stopping at epoch 16\n"
     ]
    },
    {
     "name": "stderr",
     "output_type": "stream",
     "text": [
      "[I 2024-09-12 09:59:28,243] Trial 44 finished with value: 48388.50390625 and parameters: {'sequence_length': 7, 'hidden_size': 27, 'num_layers': 1, 'num_blocks': 2, 'dropout_rate': 0.31076835457487434, 'epochs': 66, 'lr': 0.0015871241650633416}. Best is trial 27 with value: 1272.0418701171875.\n"
     ]
    },
    {
     "name": "stdout",
     "output_type": "stream",
     "text": [
      "Early stopping at epoch 14\n"
     ]
    },
    {
     "name": "stderr",
     "output_type": "stream",
     "text": [
      "[I 2024-09-12 09:59:29,101] Trial 45 finished with value: 7166.89990234375 and parameters: {'sequence_length': 20, 'hidden_size': 16, 'num_layers': 2, 'num_blocks': 3, 'dropout_rate': 0.3716496767366816, 'epochs': 84, 'lr': 0.004421772134921839}. Best is trial 27 with value: 1272.0418701171875.\n"
     ]
    },
    {
     "name": "stdout",
     "output_type": "stream",
     "text": [
      "Early stopping at epoch 17\n"
     ]
    },
    {
     "name": "stderr",
     "output_type": "stream",
     "text": [
      "[I 2024-09-12 09:59:29,481] Trial 46 finished with value: 20055.931640625 and parameters: {'sequence_length': 5, 'hidden_size': 20, 'num_layers': 1, 'num_blocks': 1, 'dropout_rate': 0.3863538155455694, 'epochs': 78, 'lr': 0.0049999023688971295}. Best is trial 27 with value: 1272.0418701171875.\n"
     ]
    },
    {
     "name": "stdout",
     "output_type": "stream",
     "text": [
      "Early stopping at epoch 16\n"
     ]
    },
    {
     "name": "stderr",
     "output_type": "stream",
     "text": [
      "[I 2024-09-12 09:59:30,674] Trial 47 finished with value: 2891.299560546875 and parameters: {'sequence_length': 14, 'hidden_size': 35, 'num_layers': 2, 'num_blocks': 4, 'dropout_rate': 0.4457187997717482, 'epochs': 41, 'lr': 0.0032532542330051184}. Best is trial 27 with value: 1272.0418701171875.\n"
     ]
    },
    {
     "name": "stdout",
     "output_type": "stream",
     "text": [
      "Early stopping at epoch 23\n"
     ]
    },
    {
     "name": "stderr",
     "output_type": "stream",
     "text": [
      "[I 2024-09-12 09:59:31,447] Trial 48 finished with value: 12146.1259765625 and parameters: {'sequence_length': 5, 'hidden_size': 33, 'num_layers': 2, 'num_blocks': 4, 'dropout_rate': 0.4347787670608009, 'epochs': 40, 'lr': 0.0031939010856111665}. Best is trial 27 with value: 1272.0418701171875.\n"
     ]
    },
    {
     "name": "stdout",
     "output_type": "stream",
     "text": [
      "Early stopping at epoch 13\n"
     ]
    },
    {
     "name": "stderr",
     "output_type": "stream",
     "text": [
      "[I 2024-09-12 09:59:32,750] Trial 49 finished with value: 9288.1259765625 and parameters: {'sequence_length': 7, 'hidden_size': 44, 'num_layers': 2, 'num_blocks': 4, 'dropout_rate': 0.4652058362704385, 'epochs': 80, 'lr': 0.002675579238015432}. Best is trial 27 with value: 1272.0418701171875.\n"
     ]
    },
    {
     "name": "stdout",
     "output_type": "stream",
     "text": [
      "Early stopping at epoch 26\n"
     ]
    },
    {
     "name": "stderr",
     "output_type": "stream",
     "text": [
      "[I 2024-09-12 09:59:34,081] Trial 50 finished with value: 19489.54296875 and parameters: {'sequence_length': 30, 'hidden_size': 52, 'num_layers': 3, 'num_blocks': 4, 'dropout_rate': 0.4398807308896714, 'epochs': 71, 'lr': 0.0016183753986415328}. Best is trial 27 with value: 1272.0418701171875.\n"
     ]
    },
    {
     "name": "stdout",
     "output_type": "stream",
     "text": [
      "Early stopping at epoch 22\n"
     ]
    },
    {
     "name": "stderr",
     "output_type": "stream",
     "text": [
      "[I 2024-09-12 09:59:34,798] Trial 51 finished with value: 53410.76171875 and parameters: {'sequence_length': 14, 'hidden_size': 128, 'num_layers': 2, 'num_blocks': 3, 'dropout_rate': 0.3576298764412269, 'epochs': 27, 'lr': 0.0038162119249066095}. Best is trial 27 with value: 1272.0418701171875.\n"
     ]
    },
    {
     "name": "stdout",
     "output_type": "stream",
     "text": [
      "Early stopping at epoch 16\n"
     ]
    },
    {
     "name": "stderr",
     "output_type": "stream",
     "text": [
      "[I 2024-09-12 09:59:36,379] Trial 52 finished with value: 25596.64453125 and parameters: {'sequence_length': 14, 'hidden_size': 27, 'num_layers': 2, 'num_blocks': 4, 'dropout_rate': 0.4866913340195378, 'epochs': 37, 'lr': 0.005778699658059869}. Best is trial 27 with value: 1272.0418701171875.\n",
      "[I 2024-09-12 09:59:37,774] Trial 53 finished with value: 12153.62109375 and parameters: {'sequence_length': 14, 'hidden_size': 34, 'num_layers': 3, 'num_blocks': 2, 'dropout_rate': 0.41457399879197976, 'epochs': 45, 'lr': 0.0035466366201778177}. Best is trial 27 with value: 1272.0418701171875.\n"
     ]
    },
    {
     "name": "stdout",
     "output_type": "stream",
     "text": [
      "Early stopping at epoch 42\n"
     ]
    },
    {
     "name": "stderr",
     "output_type": "stream",
     "text": [
      "[I 2024-09-12 09:59:38,347] Trial 54 finished with value: 7652.17724609375 and parameters: {'sequence_length': 14, 'hidden_size': 42, 'num_layers': 1, 'num_blocks': 3, 'dropout_rate': 0.3276155927920104, 'epochs': 21, 'lr': 0.0030220616766466423}. Best is trial 27 with value: 1272.0418701171875.\n"
     ]
    },
    {
     "name": "stdout",
     "output_type": "stream",
     "text": [
      "Early stopping at epoch 14\n"
     ]
    },
    {
     "name": "stderr",
     "output_type": "stream",
     "text": [
      "[I 2024-09-12 09:59:39,144] Trial 55 finished with value: 53089.8046875 and parameters: {'sequence_length': 14, 'hidden_size': 21, 'num_layers': 3, 'num_blocks': 4, 'dropout_rate': 0.30041727036468363, 'epochs': 40, 'lr': 0.0020730331314115355}. Best is trial 27 with value: 1272.0418701171875.\n"
     ]
    },
    {
     "name": "stdout",
     "output_type": "stream",
     "text": [
      "Early stopping at epoch 13\n"
     ]
    },
    {
     "name": "stderr",
     "output_type": "stream",
     "text": [
      "[I 2024-09-12 09:59:39,811] Trial 56 finished with value: 20187.83984375 and parameters: {'sequence_length': 5, 'hidden_size': 31, 'num_layers': 2, 'num_blocks': 2, 'dropout_rate': 0.390714651907021, 'epochs': 58, 'lr': 0.004150615380802598}. Best is trial 27 with value: 1272.0418701171875.\n"
     ]
    },
    {
     "name": "stdout",
     "output_type": "stream",
     "text": [
      "Early stopping at epoch 21\n"
     ]
    },
    {
     "name": "stderr",
     "output_type": "stream",
     "text": [
      "[I 2024-09-12 09:59:40,303] Trial 57 finished with value: 5697.7587890625 and parameters: {'sequence_length': 14, 'hidden_size': 47, 'num_layers': 1, 'num_blocks': 1, 'dropout_rate': 0.44707122216610434, 'epochs': 32, 'lr': 0.00256849159797288}. Best is trial 27 with value: 1272.0418701171875.\n"
     ]
    },
    {
     "name": "stdout",
     "output_type": "stream",
     "text": [
      "Early stopping at epoch 20\n"
     ]
    },
    {
     "name": "stderr",
     "output_type": "stream",
     "text": [
      "[I 2024-09-12 09:59:42,211] Trial 58 finished with value: 3654.481201171875 and parameters: {'sequence_length': 20, 'hidden_size': 27, 'num_layers': 2, 'num_blocks': 5, 'dropout_rate': 0.34049636433789326, 'epochs': 49, 'lr': 0.007328223016739567}. Best is trial 27 with value: 1272.0418701171875.\n"
     ]
    },
    {
     "name": "stdout",
     "output_type": "stream",
     "text": [
      "Early stopping at epoch 32\n"
     ]
    },
    {
     "name": "stderr",
     "output_type": "stream",
     "text": [
      "[I 2024-09-12 09:59:43,566] Trial 59 finished with value: 2280.10791015625 and parameters: {'sequence_length': 20, 'hidden_size': 57, 'num_layers': 2, 'num_blocks': 5, 'dropout_rate': 0.378538479699935, 'epochs': 43, 'lr': 0.009151740116848854}. Best is trial 27 with value: 1272.0418701171875.\n"
     ]
    },
    {
     "name": "stdout",
     "output_type": "stream",
     "text": [
      "Early stopping at epoch 23\n"
     ]
    },
    {
     "name": "stderr",
     "output_type": "stream",
     "text": [
      "[I 2024-09-12 09:59:44,581] Trial 60 finished with value: 40738.50390625 and parameters: {'sequence_length': 20, 'hidden_size': 58, 'num_layers': 2, 'num_blocks': 5, 'dropout_rate': 0.34275800412005614, 'epochs': 51, 'lr': 0.009377184449663381}. Best is trial 27 with value: 1272.0418701171875.\n"
     ]
    },
    {
     "name": "stdout",
     "output_type": "stream",
     "text": [
      "Early stopping at epoch 16\n"
     ]
    },
    {
     "name": "stderr",
     "output_type": "stream",
     "text": [
      "[I 2024-09-12 09:59:46,233] Trial 61 finished with value: 19420.609375 and parameters: {'sequence_length': 20, 'hidden_size': 64, 'num_layers': 2, 'num_blocks': 5, 'dropout_rate': 0.3812394681348028, 'epochs': 44, 'lr': 0.008664471714490874}. Best is trial 27 with value: 1272.0418701171875.\n"
     ]
    },
    {
     "name": "stdout",
     "output_type": "stream",
     "text": [
      "Early stopping at epoch 28\n"
     ]
    },
    {
     "name": "stderr",
     "output_type": "stream",
     "text": [
      "[I 2024-09-12 09:59:47,252] Trial 62 finished with value: 24114.380859375 and parameters: {'sequence_length': 20, 'hidden_size': 36, 'num_layers': 2, 'num_blocks': 5, 'dropout_rate': 0.4039460973584124, 'epochs': 53, 'lr': 0.009220302761378751}. Best is trial 27 with value: 1272.0418701171875.\n"
     ]
    },
    {
     "name": "stdout",
     "output_type": "stream",
     "text": [
      "Early stopping at epoch 16\n"
     ]
    },
    {
     "name": "stderr",
     "output_type": "stream",
     "text": [
      "[I 2024-09-12 09:59:48,417] Trial 63 finished with value: 11367.8232421875 and parameters: {'sequence_length': 20, 'hidden_size': 49, 'num_layers': 2, 'num_blocks': 5, 'dropout_rate': 0.3510039649433504, 'epochs': 47, 'lr': 0.007491593079895092}. Best is trial 27 with value: 1272.0418701171875.\n"
     ]
    },
    {
     "name": "stdout",
     "output_type": "stream",
     "text": [
      "Early stopping at epoch 18\n"
     ]
    },
    {
     "name": "stderr",
     "output_type": "stream",
     "text": [
      "[I 2024-09-12 09:59:50,448] Trial 64 finished with value: 19270.84765625 and parameters: {'sequence_length': 20, 'hidden_size': 54, 'num_layers': 2, 'num_blocks': 5, 'dropout_rate': 0.4226146007918253, 'epochs': 74, 'lr': 0.00821805539585786}. Best is trial 27 with value: 1272.0418701171875.\n"
     ]
    },
    {
     "name": "stdout",
     "output_type": "stream",
     "text": [
      "Early stopping at epoch 34\n"
     ]
    },
    {
     "name": "stderr",
     "output_type": "stream",
     "text": [
      "[I 2024-09-12 09:59:51,568] Trial 65 finished with value: 7135.5771484375 and parameters: {'sequence_length': 20, 'hidden_size': 18, 'num_layers': 2, 'num_blocks': 5, 'dropout_rate': 0.36567750598759247, 'epochs': 43, 'lr': 0.007071543685314908}. Best is trial 27 with value: 1272.0418701171875.\n"
     ]
    },
    {
     "name": "stdout",
     "output_type": "stream",
     "text": [
      "Early stopping at epoch 16\n"
     ]
    },
    {
     "name": "stderr",
     "output_type": "stream",
     "text": [
      "[I 2024-09-12 09:59:54,081] Trial 66 finished with value: 8133.38134765625 and parameters: {'sequence_length': 20, 'hidden_size': 28, 'num_layers': 2, 'num_blocks': 4, 'dropout_rate': 0.39910800543757763, 'epochs': 66, 'lr': 0.009757967371195183}. Best is trial 27 with value: 1272.0418701171875.\n"
     ]
    },
    {
     "name": "stdout",
     "output_type": "stream",
     "text": [
      "Early stopping at epoch 51\n"
     ]
    },
    {
     "name": "stderr",
     "output_type": "stream",
     "text": [
      "[I 2024-09-12 09:59:55,350] Trial 67 finished with value: 14083.2744140625 and parameters: {'sequence_length': 5, 'hidden_size': 38, 'num_layers': 3, 'num_blocks': 5, 'dropout_rate': 0.3285342178563124, 'epochs': 85, 'lr': 0.009183295556295648}. Best is trial 27 with value: 1272.0418701171875.\n"
     ]
    },
    {
     "name": "stdout",
     "output_type": "stream",
     "text": [
      "Early stopping at epoch 19\n"
     ]
    },
    {
     "name": "stderr",
     "output_type": "stream",
     "text": [
      "[I 2024-09-12 09:59:56,463] Trial 68 finished with value: 2009.2158203125 and parameters: {'sequence_length': 5, 'hidden_size': 24, 'num_layers': 2, 'num_blocks': 4, 'dropout_rate': 0.37713262821806454, 'epochs': 57, 'lr': 0.008250688427541186}. Best is trial 27 with value: 1272.0418701171875.\n"
     ]
    },
    {
     "name": "stdout",
     "output_type": "stream",
     "text": [
      "Early stopping at epoch 22\n"
     ]
    },
    {
     "name": "stderr",
     "output_type": "stream",
     "text": [
      "[I 2024-09-12 09:59:58,200] Trial 69 finished with value: 4197.38525390625 and parameters: {'sequence_length': 5, 'hidden_size': 32, 'num_layers': 2, 'num_blocks': 4, 'dropout_rate': 0.37433200806757316, 'epochs': 57, 'lr': 0.007802325118689413}. Best is trial 27 with value: 1272.0418701171875.\n"
     ]
    },
    {
     "name": "stdout",
     "output_type": "stream",
     "text": [
      "Early stopping at epoch 32\n"
     ]
    },
    {
     "name": "stderr",
     "output_type": "stream",
     "text": [
      "[I 2024-09-12 09:59:59,409] Trial 70 finished with value: 31429.953125 and parameters: {'sequence_length': 5, 'hidden_size': 42, 'num_layers': 2, 'num_blocks': 4, 'dropout_rate': 0.3521242511896031, 'epochs': 49, 'lr': 0.008374751053884648}. Best is trial 27 with value: 1272.0418701171875.\n"
     ]
    },
    {
     "name": "stdout",
     "output_type": "stream",
     "text": [
      "Early stopping at epoch 22\n"
     ]
    },
    {
     "name": "stderr",
     "output_type": "stream",
     "text": [
      "[I 2024-09-12 10:00:00,337] Trial 71 finished with value: 9439.08203125 and parameters: {'sequence_length': 5, 'hidden_size': 24, 'num_layers': 2, 'num_blocks': 4, 'dropout_rate': 0.45946817181176763, 'epochs': 70, 'lr': 0.00849169555115786}. Best is trial 27 with value: 1272.0418701171875.\n"
     ]
    },
    {
     "name": "stdout",
     "output_type": "stream",
     "text": [
      "Early stopping at epoch 18\n"
     ]
    },
    {
     "name": "stderr",
     "output_type": "stream",
     "text": [
      "[I 2024-09-12 10:00:02,084] Trial 72 finished with value: 8229.5673828125 and parameters: {'sequence_length': 5, 'hidden_size': 76, 'num_layers': 2, 'num_blocks': 4, 'dropout_rate': 0.4247099431489632, 'epochs': 63, 'lr': 0.008903825132716701}. Best is trial 27 with value: 1272.0418701171875.\n"
     ]
    },
    {
     "name": "stdout",
     "output_type": "stream",
     "text": [
      "Early stopping at epoch 36\n"
     ]
    },
    {
     "name": "stderr",
     "output_type": "stream",
     "text": [
      "[I 2024-09-12 10:00:03,476] Trial 73 finished with value: 12340.3154296875 and parameters: {'sequence_length': 7, 'hidden_size': 25, 'num_layers': 2, 'num_blocks': 5, 'dropout_rate': 0.4722342710176198, 'epochs': 79, 'lr': 0.009727894923311347}. Best is trial 27 with value: 1272.0418701171875.\n"
     ]
    },
    {
     "name": "stdout",
     "output_type": "stream",
     "text": [
      "Early stopping at epoch 24\n"
     ]
    },
    {
     "name": "stderr",
     "output_type": "stream",
     "text": [
      "[I 2024-09-12 10:00:05,060] Trial 74 finished with value: 18010.2734375 and parameters: {'sequence_length': 5, 'hidden_size': 22, 'num_layers': 3, 'num_blocks': 4, 'dropout_rate': 0.3932343783448929, 'epochs': 77, 'lr': 0.009008108147812903}. Best is trial 27 with value: 1272.0418701171875.\n"
     ]
    },
    {
     "name": "stdout",
     "output_type": "stream",
     "text": [
      "Early stopping at epoch 27\n"
     ]
    },
    {
     "name": "stderr",
     "output_type": "stream",
     "text": [
      "[I 2024-09-12 10:00:06,071] Trial 75 finished with value: 11840.591796875 and parameters: {'sequence_length': 30, 'hidden_size': 29, 'num_layers': 2, 'num_blocks': 5, 'dropout_rate': 0.41581547073400454, 'epochs': 42, 'lr': 0.008004682102005103}. Best is trial 27 with value: 1272.0418701171875.\n"
     ]
    },
    {
     "name": "stdout",
     "output_type": "stream",
     "text": [
      "Early stopping at epoch 13\n"
     ]
    },
    {
     "name": "stderr",
     "output_type": "stream",
     "text": [
      "[I 2024-09-12 10:00:06,804] Trial 76 finished with value: 23792.212890625 and parameters: {'sequence_length': 20, 'hidden_size': 18, 'num_layers': 2, 'num_blocks': 3, 'dropout_rate': 0.44117983363512636, 'epochs': 81, 'lr': 0.0035218606218388893}. Best is trial 27 with value: 1272.0418701171875.\n"
     ]
    },
    {
     "name": "stdout",
     "output_type": "stream",
     "text": [
      "Early stopping at epoch 18\n"
     ]
    },
    {
     "name": "stderr",
     "output_type": "stream",
     "text": [
      "[I 2024-09-12 10:00:08,211] Trial 77 finished with value: 9989.513671875 and parameters: {'sequence_length': 5, 'hidden_size': 35, 'num_layers': 2, 'num_blocks': 4, 'dropout_rate': 0.3433172251203344, 'epochs': 52, 'lr': 0.006509792190201006}. Best is trial 27 with value: 1272.0418701171875.\n"
     ]
    },
    {
     "name": "stdout",
     "output_type": "stream",
     "text": [
      "Early stopping at epoch 31\n"
     ]
    },
    {
     "name": "stderr",
     "output_type": "stream",
     "text": [
      "[I 2024-09-12 10:00:09,613] Trial 78 finished with value: 14908.783203125 and parameters: {'sequence_length': 7, 'hidden_size': 41, 'num_layers': 3, 'num_blocks': 3, 'dropout_rate': 0.3211882974472191, 'epochs': 36, 'lr': 0.00296222764440111}. Best is trial 27 with value: 1272.0418701171875.\n"
     ]
    },
    {
     "name": "stdout",
     "output_type": "stream",
     "text": [
      "Early stopping at epoch 31\n"
     ]
    },
    {
     "name": "stderr",
     "output_type": "stream",
     "text": [
      "[I 2024-09-12 10:00:10,487] Trial 79 finished with value: 7767.0703125 and parameters: {'sequence_length': 5, 'hidden_size': 25, 'num_layers': 2, 'num_blocks': 4, 'dropout_rate': 0.28893055461571293, 'epochs': 60, 'lr': 0.007749490295310907}. Best is trial 27 with value: 1272.0418701171875.\n"
     ]
    },
    {
     "name": "stdout",
     "output_type": "stream",
     "text": [
      "Early stopping at epoch 16\n"
     ]
    },
    {
     "name": "stderr",
     "output_type": "stream",
     "text": [
      "[I 2024-09-12 10:00:11,394] Trial 80 finished with value: 25102.56640625 and parameters: {'sequence_length': 20, 'hidden_size': 32, 'num_layers': 3, 'num_blocks': 5, 'dropout_rate': 0.148909674212611, 'epochs': 87, 'lr': 0.004612800068621976}. Best is trial 27 with value: 1272.0418701171875.\n"
     ]
    },
    {
     "name": "stdout",
     "output_type": "stream",
     "text": [
      "Early stopping at epoch 11\n"
     ]
    },
    {
     "name": "stderr",
     "output_type": "stream",
     "text": [
      "[I 2024-09-12 10:00:12,347] Trial 81 finished with value: 23229.197265625 and parameters: {'sequence_length': 5, 'hidden_size': 32, 'num_layers': 2, 'num_blocks': 4, 'dropout_rate': 0.37233458977213346, 'epochs': 56, 'lr': 0.007292845176307686}. Best is trial 27 with value: 1272.0418701171875.\n"
     ]
    },
    {
     "name": "stdout",
     "output_type": "stream",
     "text": [
      "Early stopping at epoch 20\n"
     ]
    },
    {
     "name": "stderr",
     "output_type": "stream",
     "text": [
      "[I 2024-09-12 10:00:12,988] Trial 82 finished with value: 14607.9619140625 and parameters: {'sequence_length': 5, 'hidden_size': 37, 'num_layers': 2, 'num_blocks': 4, 'dropout_rate': 0.3769104771227804, 'epochs': 49, 'lr': 0.007831852339426279}. Best is trial 27 with value: 1272.0418701171875.\n"
     ]
    },
    {
     "name": "stdout",
     "output_type": "stream",
     "text": [
      "Early stopping at epoch 12\n"
     ]
    },
    {
     "name": "stderr",
     "output_type": "stream",
     "text": [
      "[I 2024-09-12 10:00:13,837] Trial 83 finished with value: 16782.40625 and parameters: {'sequence_length': 5, 'hidden_size': 27, 'num_layers': 2, 'num_blocks': 4, 'dropout_rate': 0.35999877150148535, 'epochs': 58, 'lr': 0.008573824538465748}. Best is trial 27 with value: 1272.0418701171875.\n"
     ]
    },
    {
     "name": "stdout",
     "output_type": "stream",
     "text": [
      "Early stopping at epoch 16\n"
     ]
    },
    {
     "name": "stderr",
     "output_type": "stream",
     "text": [
      "[I 2024-09-12 10:00:15,144] Trial 84 finished with value: 22466.517578125 and parameters: {'sequence_length': 5, 'hidden_size': 19, 'num_layers': 2, 'num_blocks': 4, 'dropout_rate': 0.40863414115312463, 'epochs': 90, 'lr': 0.0038122545094900684}. Best is trial 27 with value: 1272.0418701171875.\n"
     ]
    },
    {
     "name": "stdout",
     "output_type": "stream",
     "text": [
      "Early stopping at epoch 28\n"
     ]
    },
    {
     "name": "stderr",
     "output_type": "stream",
     "text": [
      "[I 2024-09-12 10:00:16,309] Trial 85 finished with value: 15475.1669921875 and parameters: {'sequence_length': 5, 'hidden_size': 22, 'num_layers': 2, 'num_blocks': 4, 'dropout_rate': 0.3332240630943469, 'epochs': 46, 'lr': 0.007617442857157446}. Best is trial 27 with value: 1272.0418701171875.\n"
     ]
    },
    {
     "name": "stdout",
     "output_type": "stream",
     "text": [
      "Early stopping at epoch 21\n"
     ]
    },
    {
     "name": "stderr",
     "output_type": "stream",
     "text": [
      "[I 2024-09-12 10:00:16,845] Trial 86 finished with value: 38937.51953125 and parameters: {'sequence_length': 7, 'hidden_size': 31, 'num_layers': 2, 'num_blocks': 3, 'dropout_rate': 0.3832755664306244, 'epochs': 68, 'lr': 0.009569601112346254}. Best is trial 27 with value: 1272.0418701171875.\n"
     ]
    },
    {
     "name": "stdout",
     "output_type": "stream",
     "text": [
      "Early stopping at epoch 10\n"
     ]
    },
    {
     "name": "stderr",
     "output_type": "stream",
     "text": [
      "[I 2024-09-12 10:00:18,384] Trial 87 finished with value: 11373.6796875 and parameters: {'sequence_length': 5, 'hidden_size': 39, 'num_layers': 2, 'num_blocks': 4, 'dropout_rate': 0.3937641139261753, 'epochs': 73, 'lr': 0.008081023797363467}. Best is trial 27 with value: 1272.0418701171875.\n"
     ]
    },
    {
     "name": "stdout",
     "output_type": "stream",
     "text": [
      "Early stopping at epoch 26\n"
     ]
    },
    {
     "name": "stderr",
     "output_type": "stream",
     "text": [
      "[I 2024-09-12 10:00:19,647] Trial 88 finished with value: 7134.06884765625 and parameters: {'sequence_length': 30, 'hidden_size': 16, 'num_layers': 2, 'num_blocks': 5, 'dropout_rate': 0.312634565593649, 'epochs': 42, 'lr': 0.009979159769489938}. Best is trial 27 with value: 1272.0418701171875.\n"
     ]
    },
    {
     "name": "stdout",
     "output_type": "stream",
     "text": [
      "Early stopping at epoch 19\n"
     ]
    },
    {
     "name": "stderr",
     "output_type": "stream",
     "text": [
      "[I 2024-09-12 10:00:20,481] Trial 89 finished with value: 5322.3662109375 and parameters: {'sequence_length': 5, 'hidden_size': 47, 'num_layers': 3, 'num_blocks': 1, 'dropout_rate': 0.36241252911519944, 'epochs': 38, 'lr': 0.006844045585312275}. Best is trial 27 with value: 1272.0418701171875.\n",
      "[I 2024-09-12 10:00:22,483] Trial 90 finished with value: 16241.1044921875 and parameters: {'sequence_length': 20, 'hidden_size': 34, 'num_layers': 2, 'num_blocks': 2, 'dropout_rate': 0.43246815329151406, 'epochs': 65, 'lr': 0.001953235965087898}. Best is trial 27 with value: 1272.0418701171875.\n",
      "[I 2024-09-12 10:00:23,335] Trial 91 finished with value: 14902.6533203125 and parameters: {'sequence_length': 14, 'hidden_size': 26, 'num_layers': 1, 'num_blocks': 2, 'dropout_rate': 0.3017390162770951, 'epochs': 31, 'lr': 0.006118312077837659}. Best is trial 27 with value: 1272.0418701171875.\n",
      "[I 2024-09-12 10:00:24,065] Trial 92 finished with value: 20024.779296875 and parameters: {'sequence_length': 14, 'hidden_size': 29, 'num_layers': 1, 'num_blocks': 2, 'dropout_rate': 0.34515782970739706, 'epochs': 25, 'lr': 0.005440206594799388}. Best is trial 27 with value: 1272.0418701171875.\n",
      "[I 2024-09-12 10:00:24,777] Trial 93 finished with value: 14807.92578125 and parameters: {'sequence_length': 14, 'hidden_size': 85, 'num_layers': 1, 'num_blocks': 3, 'dropout_rate': 0.32237559178893366, 'epochs': 34, 'lr': 0.003196814421827969}. Best is trial 27 with value: 1272.0418701171875.\n"
     ]
    },
    {
     "name": "stdout",
     "output_type": "stream",
     "text": [
      "Early stopping at epoch 16\n"
     ]
    },
    {
     "name": "stderr",
     "output_type": "stream",
     "text": [
      "[I 2024-09-12 10:00:25,764] Trial 94 finished with value: 12583.4052734375 and parameters: {'sequence_length': 14, 'hidden_size': 23, 'num_layers': 1, 'num_blocks': 1, 'dropout_rate': 0.2711861168129329, 'epochs': 58, 'lr': 0.004302108993029914}. Best is trial 27 with value: 1272.0418701171875.\n"
     ]
    },
    {
     "name": "stdout",
     "output_type": "stream",
     "text": [
      "Early stopping at epoch 51\n"
     ]
    },
    {
     "name": "stderr",
     "output_type": "stream",
     "text": [
      "[I 2024-09-12 10:00:28,429] Trial 95 finished with value: 26298.287109375 and parameters: {'sequence_length': 7, 'hidden_size': 44, 'num_layers': 3, 'num_blocks': 4, 'dropout_rate': 0.4494721327512704, 'epochs': 55, 'lr': 0.002595609846347809}. Best is trial 27 with value: 1272.0418701171875.\n",
      "[I 2024-09-12 10:00:29,119] Trial 96 finished with value: 18601.04296875 and parameters: {'sequence_length': 5, 'hidden_size': 65, 'num_layers': 2, 'num_blocks': 1, 'dropout_rate': 0.48755444393497516, 'epochs': 61, 'lr': 0.008790717575213526}. Best is trial 27 with value: 1272.0418701171875.\n"
     ]
    },
    {
     "name": "stdout",
     "output_type": "stream",
     "text": [
      "Early stopping at epoch 29\n"
     ]
    },
    {
     "name": "stderr",
     "output_type": "stream",
     "text": [
      "[I 2024-09-12 10:00:30,595] Trial 97 finished with value: 2652.622314453125 and parameters: {'sequence_length': 14, 'hidden_size': 19, 'num_layers': 1, 'num_blocks': 3, 'dropout_rate': 0.27812638611532664, 'epochs': 50, 'lr': 0.005091805796298754}. Best is trial 27 with value: 1272.0418701171875.\n"
     ]
    },
    {
     "name": "stdout",
     "output_type": "stream",
     "text": [
      "Early stopping at epoch 40\n"
     ]
    },
    {
     "name": "stderr",
     "output_type": "stream",
     "text": [
      "[I 2024-09-12 10:00:31,540] Trial 98 finished with value: 22885.888671875 and parameters: {'sequence_length': 5, 'hidden_size': 110, 'num_layers': 2, 'num_blocks': 3, 'dropout_rate': 0.2554314880488611, 'epochs': 50, 'lr': 0.003710738914582171}. Best is trial 27 with value: 1272.0418701171875.\n"
     ]
    },
    {
     "name": "stdout",
     "output_type": "stream",
     "text": [
      "Early stopping at epoch 21\n"
     ]
    },
    {
     "name": "stderr",
     "output_type": "stream",
     "text": [
      "[I 2024-09-12 10:00:32,455] Trial 99 finished with value: 15875.5615234375 and parameters: {'sequence_length': 20, 'hidden_size': 20, 'num_layers': 1, 'num_blocks': 4, 'dropout_rate': 0.3068389841720144, 'epochs': 48, 'lr': 0.008367609576073326}. Best is trial 27 with value: 1272.0418701171875.\n",
      "[I 2024-09-12 10:00:32,519] A new study created in memory with name: no-name-6b263d2a-ebce-424a-8cdb-e3b66c1eb5d8\n"
     ]
    },
    {
     "name": "stdout",
     "output_type": "stream",
     "text": [
      "Early stopping at epoch 22\n",
      "Previous model RMSE: 3.504371404647827 is better for CL=F than RMSE: 1272.0418701171875\n",
      "Deleted ../models/hyperparameters-search-models/pytorch/conv1d-classification/NVDA.pth\n",
      "Deleted ../models/best-hyperparameters/pytorch/conv1d-classification/NVDA.json\n",
      "Deleted NVDA from ../models/hyperparameters-search-models/ticker-all-models-best-hyperparameters-list.csv\n"
     ]
    },
    {
     "name": "stderr",
     "output_type": "stream",
     "text": [
      "[I 2024-09-12 10:00:34,265] Trial 0 finished with value: 0.5371900826446281 and parameters: {'out_channels': 58, 'kernel_size': 7, 'num_blocks': 3, 'l2_lambda': 0.009603122131545282, 'dropout_rate': 0.2992772903717032, 'epochs': 943, 'lr': 0.009662785653754188}. Best is trial 0 with value: 0.5371900826446281.\n"
     ]
    },
    {
     "name": "stdout",
     "output_type": "stream",
     "text": [
      "Early stopping at epoch 23\n"
     ]
    },
    {
     "name": "stderr",
     "output_type": "stream",
     "text": [
      "[I 2024-09-12 10:00:35,352] Trial 1 finished with value: 0.5041322314049587 and parameters: {'out_channels': 25, 'kernel_size': 5, 'num_blocks': 5, 'l2_lambda': 0.0052934313389782885, 'dropout_rate': 0.4943865714284207, 'epochs': 387, 'lr': 0.00018928061173923845}. Best is trial 0 with value: 0.5371900826446281.\n"
     ]
    },
    {
     "name": "stdout",
     "output_type": "stream",
     "text": [
      "Early stopping at epoch 10\n"
     ]
    },
    {
     "name": "stderr",
     "output_type": "stream",
     "text": [
      "[I 2024-09-12 10:00:36,449] Trial 2 finished with value: 0.5041322314049587 and parameters: {'out_channels': 64, 'kernel_size': 4, 'num_blocks': 4, 'l2_lambda': 0.008505388213627294, 'dropout_rate': 0.4182498923999449, 'epochs': 703, 'lr': 0.0002864193867853038}. Best is trial 0 with value: 0.5371900826446281.\n"
     ]
    },
    {
     "name": "stdout",
     "output_type": "stream",
     "text": [
      "Early stopping at epoch 10\n"
     ]
    },
    {
     "name": "stderr",
     "output_type": "stream",
     "text": [
      "[I 2024-09-12 10:00:38,079] Trial 3 finished with value: 0.5454545454545454 and parameters: {'out_channels': 82, 'kernel_size': 7, 'num_blocks': 4, 'l2_lambda': 0.00016795116609829536, 'dropout_rate': 0.2121511477760914, 'epochs': 987, 'lr': 0.004158752882360662}. Best is trial 3 with value: 0.5454545454545454.\n"
     ]
    },
    {
     "name": "stdout",
     "output_type": "stream",
     "text": [
      "Early stopping at epoch 15\n"
     ]
    },
    {
     "name": "stderr",
     "output_type": "stream",
     "text": [
      "[I 2024-09-12 10:00:40,077] Trial 4 finished with value: 0.5454545454545454 and parameters: {'out_channels': 98, 'kernel_size': 5, 'num_blocks': 4, 'l2_lambda': 0.003609767896450151, 'dropout_rate': 0.26518887773478406, 'epochs': 537, 'lr': 0.0038754299260908825}. Best is trial 3 with value: 0.5454545454545454.\n"
     ]
    },
    {
     "name": "stdout",
     "output_type": "stream",
     "text": [
      "Early stopping at epoch 19\n"
     ]
    },
    {
     "name": "stderr",
     "output_type": "stream",
     "text": [
      "[I 2024-09-12 10:00:41,869] Trial 5 finished with value: 0.5619834710743802 and parameters: {'out_channels': 113, 'kernel_size': 4, 'num_blocks': 2, 'l2_lambda': 0.007000991881905253, 'dropout_rate': 0.11401598897611441, 'epochs': 480, 'lr': 0.0007872520414826536}. Best is trial 5 with value: 0.5619834710743802.\n"
     ]
    },
    {
     "name": "stdout",
     "output_type": "stream",
     "text": [
      "Early stopping at epoch 29\n"
     ]
    },
    {
     "name": "stderr",
     "output_type": "stream",
     "text": [
      "[I 2024-09-12 10:00:42,406] Trial 6 finished with value: 0.5454545454545454 and parameters: {'out_channels': 49, 'kernel_size': 7, 'num_blocks': 2, 'l2_lambda': 0.00015892706915649014, 'dropout_rate': 0.44756100694600465, 'epochs': 724, 'lr': 0.005587790612829242}. Best is trial 5 with value: 0.5619834710743802.\n"
     ]
    },
    {
     "name": "stdout",
     "output_type": "stream",
     "text": [
      "Early stopping at epoch 10\n"
     ]
    },
    {
     "name": "stderr",
     "output_type": "stream",
     "text": [
      "[I 2024-09-12 10:00:43,745] Trial 7 finished with value: 0.5371900826446281 and parameters: {'out_channels': 98, 'kernel_size': 5, 'num_blocks': 5, 'l2_lambda': 0.008790848576256276, 'dropout_rate': 0.3737390849811352, 'epochs': 893, 'lr': 1.3583739286447322e-05}. Best is trial 5 with value: 0.5619834710743802.\n"
     ]
    },
    {
     "name": "stdout",
     "output_type": "stream",
     "text": [
      "Early stopping at epoch 10\n"
     ]
    },
    {
     "name": "stderr",
     "output_type": "stream",
     "text": [
      "[I 2024-09-12 10:00:45,309] Trial 8 finished with value: 0.5371900826446281 and parameters: {'out_channels': 99, 'kernel_size': 3, 'num_blocks': 3, 'l2_lambda': 0.0006430664466019937, 'dropout_rate': 0.46588015565589413, 'epochs': 270, 'lr': 0.003600419213414532}. Best is trial 5 with value: 0.5619834710743802.\n"
     ]
    },
    {
     "name": "stdout",
     "output_type": "stream",
     "text": [
      "Early stopping at epoch 19\n"
     ]
    },
    {
     "name": "stderr",
     "output_type": "stream",
     "text": [
      "[I 2024-09-12 10:00:46,623] Trial 9 finished with value: 0.5619834710743802 and parameters: {'out_channels': 44, 'kernel_size': 3, 'num_blocks': 5, 'l2_lambda': 0.007231853511723982, 'dropout_rate': 0.24342090295614432, 'epochs': 265, 'lr': 0.005951357605739169}. Best is trial 5 with value: 0.5619834710743802.\n"
     ]
    },
    {
     "name": "stdout",
     "output_type": "stream",
     "text": [
      "Early stopping at epoch 13\n"
     ]
    },
    {
     "name": "stderr",
     "output_type": "stream",
     "text": [
      "[I 2024-09-12 10:00:47,301] Trial 10 finished with value: 0.5454545454545454 and parameters: {'out_channels': 125, 'kernel_size': 4, 'num_blocks': 1, 'l2_lambda': 0.005855572859114945, 'dropout_rate': 0.1077185532879335, 'epochs': 433, 'lr': 0.0021283316408469426}. Best is trial 5 with value: 0.5619834710743802.\n"
     ]
    },
    {
     "name": "stdout",
     "output_type": "stream",
     "text": [
      "Early stopping at epoch 16\n"
     ]
    },
    {
     "name": "stderr",
     "output_type": "stream",
     "text": [
      "[I 2024-09-12 10:00:47,882] Trial 11 finished with value: 0.5619834710743802 and parameters: {'out_channels': 28, 'kernel_size': 3, 'num_blocks': 1, 'l2_lambda': 0.006785826853191588, 'dropout_rate': 0.1039992668189074, 'epochs': 130, 'lr': 0.007549747995543427}. Best is trial 5 with value: 0.5619834710743802.\n"
     ]
    },
    {
     "name": "stdout",
     "output_type": "stream",
     "text": [
      "Early stopping at epoch 17\n"
     ]
    },
    {
     "name": "stderr",
     "output_type": "stream",
     "text": [
      "[I 2024-09-12 10:00:49,049] Trial 12 finished with value: 0.5454545454545454 and parameters: {'out_channels': 122, 'kernel_size': 4, 'num_blocks': 2, 'l2_lambda': 0.0074081133385272245, 'dropout_rate': 0.18715691377944496, 'epochs': 220, 'lr': 0.006339434424497423}. Best is trial 5 with value: 0.5619834710743802.\n"
     ]
    },
    {
     "name": "stdout",
     "output_type": "stream",
     "text": [
      "Early stopping at epoch 16\n"
     ]
    },
    {
     "name": "stderr",
     "output_type": "stream",
     "text": [
      "[I 2024-09-12 10:00:49,914] Trial 13 finished with value: 0.5537190082644629 and parameters: {'out_channels': 40, 'kernel_size': 3, 'num_blocks': 2, 'l2_lambda': 0.0034524594071331446, 'dropout_rate': 0.17431456219981403, 'epochs': 348, 'lr': 0.008164824109319027}. Best is trial 5 with value: 0.5619834710743802.\n"
     ]
    },
    {
     "name": "stdout",
     "output_type": "stream",
     "text": [
      "Early stopping at epoch 17\n"
     ]
    },
    {
     "name": "stderr",
     "output_type": "stream",
     "text": [
      "[I 2024-09-12 10:00:50,627] Trial 14 finished with value: 0.5454545454545454 and parameters: {'out_channels': 76, 'kernel_size': 4, 'num_blocks': 2, 'l2_lambda': 0.0073912973170617196, 'dropout_rate': 0.3644565450593094, 'epochs': 512, 'lr': 0.0021910245383579743}. Best is trial 5 with value: 0.5619834710743802.\n"
     ]
    },
    {
     "name": "stdout",
     "output_type": "stream",
     "text": [
      "Early stopping at epoch 11\n"
     ]
    },
    {
     "name": "stderr",
     "output_type": "stream",
     "text": [
      "[I 2024-09-12 10:00:52,092] Trial 15 finished with value: 0.5454545454545454 and parameters: {'out_channels': 39, 'kernel_size': 6, 'num_blocks': 5, 'l2_lambda': 0.00437378577882826, 'dropout_rate': 0.23828875169559452, 'epochs': 104, 'lr': 0.00657516571510731}. Best is trial 5 with value: 0.5619834710743802.\n"
     ]
    },
    {
     "name": "stdout",
     "output_type": "stream",
     "text": [
      "Early stopping at epoch 12\n"
     ]
    },
    {
     "name": "stderr",
     "output_type": "stream",
     "text": [
      "[I 2024-09-12 10:00:53,644] Trial 16 finished with value: 0.5454545454545454 and parameters: {'out_channels': 112, 'kernel_size': 3, 'num_blocks': 3, 'l2_lambda': 0.006330026114806035, 'dropout_rate': 0.15781644290093286, 'epochs': 637, 'lr': 0.002472105109019522}. Best is trial 5 with value: 0.5619834710743802.\n"
     ]
    },
    {
     "name": "stdout",
     "output_type": "stream",
     "text": [
      "Early stopping at epoch 19\n"
     ]
    },
    {
     "name": "stderr",
     "output_type": "stream",
     "text": [
      "[I 2024-09-12 10:00:54,821] Trial 17 finished with value: 0.5371900826446281 and parameters: {'out_channels': 84, 'kernel_size': 4, 'num_blocks': 4, 'l2_lambda': 0.002120087827731831, 'dropout_rate': 0.3297674255118853, 'epochs': 263, 'lr': 0.00475794130624925}. Best is trial 5 with value: 0.5619834710743802.\n"
     ]
    },
    {
     "name": "stdout",
     "output_type": "stream",
     "text": [
      "Early stopping at epoch 10\n"
     ]
    },
    {
     "name": "stderr",
     "output_type": "stream",
     "text": [
      "[I 2024-09-12 10:00:55,711] Trial 18 finished with value: 0.5454545454545454 and parameters: {'out_channels': 62, 'kernel_size': 6, 'num_blocks': 1, 'l2_lambda': 0.009979278211058769, 'dropout_rate': 0.14049581640885514, 'epochs': 471, 'lr': 0.009149347772017678}. Best is trial 5 with value: 0.5619834710743802.\n"
     ]
    },
    {
     "name": "stdout",
     "output_type": "stream",
     "text": [
      "Early stopping at epoch 25\n"
     ]
    },
    {
     "name": "stderr",
     "output_type": "stream",
     "text": [
      "[I 2024-09-12 10:00:56,253] Trial 19 finished with value: 0.49586776859504134 and parameters: {'out_channels': 45, 'kernel_size': 3, 'num_blocks': 2, 'l2_lambda': 0.007674990383632236, 'dropout_rate': 0.2735709080031954, 'epochs': 630, 'lr': 0.0011370992731105835}. Best is trial 5 with value: 0.5619834710743802.\n"
     ]
    },
    {
     "name": "stdout",
     "output_type": "stream",
     "text": [
      "Early stopping at epoch 10\n"
     ]
    },
    {
     "name": "stderr",
     "output_type": "stream",
     "text": [
      "[I 2024-09-12 10:00:57,022] Trial 20 finished with value: 0.5206611570247934 and parameters: {'out_channels': 20, 'kernel_size': 4, 'num_blocks': 3, 'l2_lambda': 0.004931371870990377, 'dropout_rate': 0.21883628334263494, 'epochs': 354, 'lr': 0.005532754635664733}. Best is trial 5 with value: 0.5619834710743802.\n"
     ]
    },
    {
     "name": "stdout",
     "output_type": "stream",
     "text": [
      "Early stopping at epoch 10\n"
     ]
    },
    {
     "name": "stderr",
     "output_type": "stream",
     "text": [
      "[I 2024-09-12 10:00:57,783] Trial 21 finished with value: 0.5619834710743802 and parameters: {'out_channels': 31, 'kernel_size': 3, 'num_blocks': 1, 'l2_lambda': 0.006605810391129735, 'dropout_rate': 0.10820335765352102, 'epochs': 109, 'lr': 0.00765613980526969}. Best is trial 5 with value: 0.5619834710743802.\n"
     ]
    },
    {
     "name": "stdout",
     "output_type": "stream",
     "text": [
      "Early stopping at epoch 23\n"
     ]
    },
    {
     "name": "stderr",
     "output_type": "stream",
     "text": [
      "[I 2024-09-12 10:00:58,457] Trial 22 finished with value: 0.5619834710743802 and parameters: {'out_channels': 17, 'kernel_size': 3, 'num_blocks': 1, 'l2_lambda': 0.008309889350350996, 'dropout_rate': 0.12948169277154653, 'epochs': 182, 'lr': 0.007330043300168362}. Best is trial 5 with value: 0.5619834710743802.\n"
     ]
    },
    {
     "name": "stdout",
     "output_type": "stream",
     "text": [
      "Early stopping at epoch 20\n"
     ]
    },
    {
     "name": "stderr",
     "output_type": "stream",
     "text": [
      "[I 2024-09-12 10:00:59,146] Trial 23 finished with value: 0.5619834710743802 and parameters: {'out_channels': 30, 'kernel_size': 3, 'num_blocks': 1, 'l2_lambda': 0.006772628407169544, 'dropout_rate': 0.18891471674951155, 'epochs': 306, 'lr': 0.006670301628542608}. Best is trial 5 with value: 0.5619834710743802.\n"
     ]
    },
    {
     "name": "stdout",
     "output_type": "stream",
     "text": [
      "Early stopping at epoch 19\n"
     ]
    },
    {
     "name": "stderr",
     "output_type": "stream",
     "text": [
      "[I 2024-09-12 10:01:00,023] Trial 24 finished with value: 0.5619834710743802 and parameters: {'out_channels': 52, 'kernel_size': 4, 'num_blocks': 2, 'l2_lambda': 0.005354762743078863, 'dropout_rate': 0.10548326321154941, 'epochs': 177, 'lr': 0.008699352189726294}. Best is trial 5 with value: 0.5619834710743802.\n"
     ]
    },
    {
     "name": "stdout",
     "output_type": "stream",
     "text": [
      "Early stopping at epoch 13\n"
     ]
    },
    {
     "name": "stderr",
     "output_type": "stream",
     "text": [
      "[I 2024-09-12 10:01:00,446] Trial 25 finished with value: 0.5041322314049587 and parameters: {'out_channels': 36, 'kernel_size': 3, 'num_blocks': 1, 'l2_lambda': 0.007636922734116223, 'dropout_rate': 0.14449339917414755, 'epochs': 176, 'lr': 0.0031540201281235764}. Best is trial 5 with value: 0.5619834710743802.\n"
     ]
    },
    {
     "name": "stdout",
     "output_type": "stream",
     "text": [
      "Early stopping at epoch 10\n"
     ]
    },
    {
     "name": "stderr",
     "output_type": "stream",
     "text": [
      "[I 2024-09-12 10:01:01,917] Trial 26 finished with value: 0.5371900826446281 and parameters: {'out_channels': 111, 'kernel_size': 4, 'num_blocks': 2, 'l2_lambda': 0.0061366923890003216, 'dropout_rate': 0.2445748678673541, 'epochs': 393, 'lr': 0.005305142493220851}. Best is trial 5 with value: 0.5619834710743802.\n"
     ]
    },
    {
     "name": "stdout",
     "output_type": "stream",
     "text": [
      "Early stopping at epoch 21\n"
     ]
    },
    {
     "name": "stderr",
     "output_type": "stream",
     "text": [
      "[I 2024-09-12 10:01:04,079] Trial 27 finished with value: 0.5537190082644629 and parameters: {'out_channels': 71, 'kernel_size': 3, 'num_blocks': 3, 'l2_lambda': 0.008936330086845315, 'dropout_rate': 0.20636512088598885, 'epochs': 293, 'lr': 0.007073448655534328}. Best is trial 5 with value: 0.5619834710743802.\n"
     ]
    },
    {
     "name": "stdout",
     "output_type": "stream",
     "text": [
      "Early stopping at epoch 31\n"
     ]
    },
    {
     "name": "stderr",
     "output_type": "stream",
     "text": [
      "[I 2024-09-12 10:01:04,792] Trial 28 finished with value: 0.5619834710743802 and parameters: {'out_channels': 89, 'kernel_size': 4, 'num_blocks': 1, 'l2_lambda': 0.00680639588886651, 'dropout_rate': 0.1626467655724347, 'epochs': 218, 'lr': 0.008157463213552344}. Best is trial 5 with value: 0.5619834710743802.\n"
     ]
    },
    {
     "name": "stdout",
     "output_type": "stream",
     "text": [
      "Early stopping at epoch 18\n"
     ]
    },
    {
     "name": "stderr",
     "output_type": "stream",
     "text": [
      "[I 2024-09-12 10:01:07,222] Trial 29 finished with value: 0.5454545454545454 and parameters: {'out_channels': 52, 'kernel_size': 5, 'num_blocks': 5, 'l2_lambda': 0.004257674730749948, 'dropout_rate': 0.3084154883711512, 'epochs': 813, 'lr': 0.006057201045869677}. Best is trial 5 with value: 0.5619834710743802.\n"
     ]
    },
    {
     "name": "stdout",
     "output_type": "stream",
     "text": [
      "Early stopping at epoch 24\n"
     ]
    },
    {
     "name": "stderr",
     "output_type": "stream",
     "text": [
      "[I 2024-09-12 10:01:07,895] Trial 30 finished with value: 0.5371900826446281 and parameters: {'out_channels': 58, 'kernel_size': 3, 'num_blocks': 2, 'l2_lambda': 0.009078816742911113, 'dropout_rate': 0.1279947698717965, 'epochs': 583, 'lr': 0.009898558606609638}. Best is trial 5 with value: 0.5619834710743802.\n"
     ]
    },
    {
     "name": "stdout",
     "output_type": "stream",
     "text": [
      "Early stopping at epoch 12\n"
     ]
    },
    {
     "name": "stderr",
     "output_type": "stream",
     "text": [
      "[I 2024-09-12 10:01:08,346] Trial 31 finished with value: 0.5454545454545454 and parameters: {'out_channels': 30, 'kernel_size': 3, 'num_blocks': 1, 'l2_lambda': 0.0068084599818421946, 'dropout_rate': 0.12222465777745763, 'epochs': 124, 'lr': 0.007741356396374164}. Best is trial 5 with value: 0.5619834710743802.\n"
     ]
    },
    {
     "name": "stdout",
     "output_type": "stream",
     "text": [
      "Early stopping at epoch 12\n"
     ]
    },
    {
     "name": "stderr",
     "output_type": "stream",
     "text": [
      "[I 2024-09-12 10:01:08,950] Trial 32 finished with value: 0.5619834710743802 and parameters: {'out_channels': 25, 'kernel_size': 3, 'num_blocks': 1, 'l2_lambda': 0.008059844568915196, 'dropout_rate': 0.10889769489617249, 'epochs': 106, 'lr': 0.00898716769770828}. Best is trial 5 with value: 0.5619834710743802.\n"
     ]
    },
    {
     "name": "stdout",
     "output_type": "stream",
     "text": [
      "Early stopping at epoch 16\n"
     ]
    },
    {
     "name": "stderr",
     "output_type": "stream",
     "text": [
      "[I 2024-09-12 10:01:09,359] Trial 33 finished with value: 0.5537190082644629 and parameters: {'out_channels': 30, 'kernel_size': 3, 'num_blocks': 1, 'l2_lambda': 0.005537636832918193, 'dropout_rate': 0.15209686920527868, 'epochs': 152, 'lr': 0.007266764187763605}. Best is trial 5 with value: 0.5619834710743802.\n"
     ]
    },
    {
     "name": "stdout",
     "output_type": "stream",
     "text": [
      "Early stopping at epoch 10\n"
     ]
    },
    {
     "name": "stderr",
     "output_type": "stream",
     "text": [
      "[I 2024-09-12 10:01:10,302] Trial 34 finished with value: 0.5454545454545454 and parameters: {'out_channels': 23, 'kernel_size': 4, 'num_blocks': 2, 'l2_lambda': 0.006513619788430651, 'dropout_rate': 0.10416467324772576, 'epochs': 238, 'lr': 0.004774923413807708}. Best is trial 5 with value: 0.5619834710743802.\n"
     ]
    },
    {
     "name": "stdout",
     "output_type": "stream",
     "text": [
      "Early stopping at epoch 16\n"
     ]
    },
    {
     "name": "stderr",
     "output_type": "stream",
     "text": [
      "[I 2024-09-12 10:01:11,274] Trial 35 finished with value: 0.5454545454545454 and parameters: {'out_channels': 36, 'kernel_size': 3, 'num_blocks': 4, 'l2_lambda': 0.0072299935017204695, 'dropout_rate': 0.18829658184536505, 'epochs': 329, 'lr': 0.008413361572469675}. Best is trial 5 with value: 0.5619834710743802.\n"
     ]
    },
    {
     "name": "stdout",
     "output_type": "stream",
     "text": [
      "Early stopping at epoch 10\n"
     ]
    },
    {
     "name": "stderr",
     "output_type": "stream",
     "text": [
      "[I 2024-09-12 10:01:11,727] Trial 36 finished with value: 0.5206611570247934 and parameters: {'out_channels': 46, 'kernel_size': 5, 'num_blocks': 1, 'l2_lambda': 0.007969566117430672, 'dropout_rate': 0.29010828291311025, 'epochs': 204, 'lr': 0.006047039757709137}. Best is trial 5 with value: 0.5619834710743802.\n"
     ]
    },
    {
     "name": "stdout",
     "output_type": "stream",
     "text": [
      "Early stopping at epoch 11\n"
     ]
    },
    {
     "name": "stderr",
     "output_type": "stream",
     "text": [
      "[I 2024-09-12 10:01:13,136] Trial 37 finished with value: 0.5454545454545454 and parameters: {'out_channels': 71, 'kernel_size': 4, 'num_blocks': 3, 'l2_lambda': 0.0047879620733422305, 'dropout_rate': 0.23309910574631793, 'epochs': 434, 'lr': 0.004368054613394185}. Best is trial 5 with value: 0.5619834710743802.\n"
     ]
    },
    {
     "name": "stdout",
     "output_type": "stream",
     "text": [
      "Early stopping at epoch 16\n"
     ]
    },
    {
     "name": "stderr",
     "output_type": "stream",
     "text": [
      "[I 2024-09-12 10:01:14,024] Trial 38 finished with value: 0.5619834710743802 and parameters: {'out_channels': 58, 'kernel_size': 5, 'num_blocks': 2, 'l2_lambda': 0.005865328802373642, 'dropout_rate': 0.38873515110438206, 'epochs': 150, 'lr': 0.0011239812000071276}. Best is trial 5 with value: 0.5619834710743802.\n"
     ]
    },
    {
     "name": "stdout",
     "output_type": "stream",
     "text": [
      "Early stopping at epoch 16\n"
     ]
    },
    {
     "name": "stderr",
     "output_type": "stream",
     "text": [
      "[I 2024-09-12 10:01:14,987] Trial 39 finished with value: 0.5454545454545454 and parameters: {'out_channels': 31, 'kernel_size': 3, 'num_blocks': 4, 'l2_lambda': 0.009375553160874607, 'dropout_rate': 0.33981118100647406, 'epochs': 793, 'lr': 0.007641071054029545}. Best is trial 5 with value: 0.5619834710743802.\n"
     ]
    },
    {
     "name": "stdout",
     "output_type": "stream",
     "text": [
      "Early stopping at epoch 12\n"
     ]
    },
    {
     "name": "stderr",
     "output_type": "stream",
     "text": [
      "[I 2024-09-12 10:01:17,292] Trial 40 finished with value: 0.5619834710743802 and parameters: {'out_channels': 42, 'kernel_size': 4, 'num_blocks': 5, 'l2_lambda': 0.008445792066454492, 'dropout_rate': 0.13031684560831502, 'epochs': 250, 'lr': 0.009481882202360715}. Best is trial 5 with value: 0.5619834710743802.\n"
     ]
    },
    {
     "name": "stdout",
     "output_type": "stream",
     "text": [
      "Early stopping at epoch 19\n"
     ]
    },
    {
     "name": "stderr",
     "output_type": "stream",
     "text": [
      "[I 2024-09-12 10:01:17,936] Trial 41 finished with value: 0.5537190082644629 and parameters: {'out_channels': 17, 'kernel_size': 3, 'num_blocks': 1, 'l2_lambda': 0.008419802495257402, 'dropout_rate': 0.12722929115370987, 'epochs': 184, 'lr': 0.007310631681685474}. Best is trial 5 with value: 0.5619834710743802.\n"
     ]
    },
    {
     "name": "stdout",
     "output_type": "stream",
     "text": [
      "Early stopping at epoch 19\n"
     ]
    },
    {
     "name": "stderr",
     "output_type": "stream",
     "text": [
      "[I 2024-09-12 10:01:18,451] Trial 42 finished with value: 0.5619834710743802 and parameters: {'out_channels': 16, 'kernel_size': 3, 'num_blocks': 1, 'l2_lambda': 0.007112947602560561, 'dropout_rate': 0.1678891199329547, 'epochs': 144, 'lr': 0.0067723577940751924}. Best is trial 5 with value: 0.5619834710743802.\n"
     ]
    },
    {
     "name": "stdout",
     "output_type": "stream",
     "text": [
      "Early stopping at epoch 12\n"
     ]
    },
    {
     "name": "stderr",
     "output_type": "stream",
     "text": [
      "[I 2024-09-12 10:01:19,222] Trial 43 finished with value: 0.5537190082644629 and parameters: {'out_channels': 25, 'kernel_size': 3, 'num_blocks': 1, 'l2_lambda': 0.008099380128560627, 'dropout_rate': 0.10269741946267669, 'epochs': 104, 'lr': 0.006010432878354752}. Best is trial 5 with value: 0.5619834710743802.\n"
     ]
    },
    {
     "name": "stdout",
     "output_type": "stream",
     "text": [
      "Early stopping at epoch 22\n"
     ]
    },
    {
     "name": "stderr",
     "output_type": "stream",
     "text": [
      "[I 2024-09-12 10:01:19,638] Trial 44 finished with value: 0.5041322314049587 and parameters: {'out_channels': 34, 'kernel_size': 3, 'num_blocks': 1, 'l2_lambda': 0.005973342648790397, 'dropout_rate': 0.1468833278834687, 'epochs': 392, 'lr': 0.007806374265165922}. Best is trial 5 with value: 0.5619834710743802.\n"
     ]
    },
    {
     "name": "stdout",
     "output_type": "stream",
     "text": [
      "Early stopping at epoch 10\n"
     ]
    },
    {
     "name": "stderr",
     "output_type": "stream",
     "text": [
      "[I 2024-09-12 10:01:20,359] Trial 45 finished with value: 0.5454545454545454 and parameters: {'out_channels': 24, 'kernel_size': 3, 'num_blocks': 2, 'l2_lambda': 0.006510045184090419, 'dropout_rate': 0.2046913143366397, 'epochs': 269, 'lr': 0.007179698016661897}. Best is trial 5 with value: 0.5619834710743802.\n"
     ]
    },
    {
     "name": "stdout",
     "output_type": "stream",
     "text": [
      "Early stopping at epoch 13\n"
     ]
    },
    {
     "name": "stderr",
     "output_type": "stream",
     "text": [
      "[I 2024-09-12 10:01:20,982] Trial 46 finished with value: 0.5454545454545454 and parameters: {'out_channels': 114, 'kernel_size': 3, 'num_blocks': 1, 'l2_lambda': 0.007130293977653206, 'dropout_rate': 0.12227635449415797, 'epochs': 197, 'lr': 0.005271605347962888}. Best is trial 5 with value: 0.5619834710743802.\n"
     ]
    },
    {
     "name": "stdout",
     "output_type": "stream",
     "text": [
      "Early stopping at epoch 12\n"
     ]
    },
    {
     "name": "stderr",
     "output_type": "stream",
     "text": [
      "[I 2024-09-12 10:01:22,042] Trial 47 finished with value: 0.49586776859504134 and parameters: {'out_channels': 103, 'kernel_size': 4, 'num_blocks': 2, 'l2_lambda': 0.007740587069601058, 'dropout_rate': 0.4957238476256915, 'epochs': 515, 'lr': 0.0004850900152420363}. Best is trial 5 with value: 0.5619834710743802.\n"
     ]
    },
    {
     "name": "stdout",
     "output_type": "stream",
     "text": [
      "Early stopping at epoch 15\n"
     ]
    },
    {
     "name": "stderr",
     "output_type": "stream",
     "text": [
      "[I 2024-09-12 10:01:23,203] Trial 48 finished with value: 0.5537190082644629 and parameters: {'out_channels': 91, 'kernel_size': 7, 'num_blocks': 1, 'l2_lambda': 0.008619919034637288, 'dropout_rate': 0.17068465753051704, 'epochs': 305, 'lr': 0.00822570472971429}. Best is trial 5 with value: 0.5619834710743802.\n"
     ]
    },
    {
     "name": "stdout",
     "output_type": "stream",
     "text": [
      "Early stopping at epoch 31\n"
     ]
    },
    {
     "name": "stderr",
     "output_type": "stream",
     "text": [
      "[I 2024-09-12 10:01:23,799] Trial 49 finished with value: 0.5041322314049587 and parameters: {'out_channels': 19, 'kernel_size': 4, 'num_blocks': 2, 'l2_lambda': 0.009507328728911534, 'dropout_rate': 0.41649107367165716, 'epochs': 967, 'lr': 0.0035394983578744274}. Best is trial 5 with value: 0.5619834710743802.\n"
     ]
    },
    {
     "name": "stdout",
     "output_type": "stream",
     "text": [
      "Early stopping at epoch 10\n"
     ]
    },
    {
     "name": "stderr",
     "output_type": "stream",
     "text": [
      "[I 2024-09-12 10:01:25,076] Trial 50 finished with value: 0.5454545454545454 and parameters: {'out_channels': 42, 'kernel_size': 6, 'num_blocks': 4, 'l2_lambda': 0.0027328196970780685, 'dropout_rate': 0.2605005400373141, 'epochs': 700, 'lr': 0.006547615677480647}. Best is trial 5 with value: 0.5619834710743802.\n"
     ]
    },
    {
     "name": "stdout",
     "output_type": "stream",
     "text": [
      "Early stopping at epoch 12\n"
     ]
    },
    {
     "name": "stderr",
     "output_type": "stream",
     "text": [
      "[I 2024-09-12 10:01:25,896] Trial 51 finished with value: 0.5454545454545454 and parameters: {'out_channels': 29, 'kernel_size': 3, 'num_blocks': 1, 'l2_lambda': 0.006696609288474546, 'dropout_rate': 0.18333248667864338, 'epochs': 306, 'lr': 0.006733300797087085}. Best is trial 5 with value: 0.5619834710743802.\n"
     ]
    },
    {
     "name": "stdout",
     "output_type": "stream",
     "text": [
      "Early stopping at epoch 24\n"
     ]
    },
    {
     "name": "stderr",
     "output_type": "stream",
     "text": [
      "[I 2024-09-12 10:01:26,328] Trial 52 finished with value: 0.5454545454545454 and parameters: {'out_channels': 27, 'kernel_size': 3, 'num_blocks': 1, 'l2_lambda': 0.005519655612586532, 'dropout_rate': 0.1393063130977119, 'epochs': 457, 'lr': 0.005953098815689001}. Best is trial 5 with value: 0.5619834710743802.\n"
     ]
    },
    {
     "name": "stdout",
     "output_type": "stream",
     "text": [
      "Early stopping at epoch 11\n"
     ]
    },
    {
     "name": "stderr",
     "output_type": "stream",
     "text": [
      "[I 2024-09-12 10:01:26,800] Trial 53 finished with value: 0.5454545454545454 and parameters: {'out_channels': 21, 'kernel_size': 3, 'num_blocks': 1, 'l2_lambda': 0.007366975763595068, 'dropout_rate': 0.222290462059396, 'epochs': 226, 'lr': 0.007681904978376397}. Best is trial 5 with value: 0.5619834710743802.\n"
     ]
    },
    {
     "name": "stdout",
     "output_type": "stream",
     "text": [
      "Early stopping at epoch 12\n"
     ]
    },
    {
     "name": "stderr",
     "output_type": "stream",
     "text": [
      "[I 2024-09-12 10:01:27,688] Trial 54 finished with value: 0.5454545454545454 and parameters: {'out_channels': 35, 'kernel_size': 3, 'num_blocks': 3, 'l2_lambda': 0.006294251633492832, 'dropout_rate': 0.18343628122764008, 'epochs': 358, 'lr': 0.0070283715289628885}. Best is trial 5 with value: 0.5619834710743802.\n"
     ]
    },
    {
     "name": "stdout",
     "output_type": "stream",
     "text": [
      "Early stopping at epoch 11\n"
     ]
    },
    {
     "name": "stderr",
     "output_type": "stream",
     "text": [
      "[I 2024-09-12 10:01:28,224] Trial 55 finished with value: 0.5454545454545454 and parameters: {'out_channels': 39, 'kernel_size': 3, 'num_blocks': 1, 'l2_lambda': 0.00709143836483139, 'dropout_rate': 0.1195213829414933, 'epochs': 154, 'lr': 0.006503594058021263}. Best is trial 5 with value: 0.5619834710743802.\n"
     ]
    },
    {
     "name": "stdout",
     "output_type": "stream",
     "text": [
      "Early stopping at epoch 13\n"
     ]
    },
    {
     "name": "stderr",
     "output_type": "stream",
     "text": [
      "[I 2024-09-12 10:01:28,979] Trial 56 finished with value: 0.5454545454545454 and parameters: {'out_channels': 127, 'kernel_size': 4, 'num_blocks': 1, 'l2_lambda': 0.008220731227672933, 'dropout_rate': 0.1577189312150299, 'epochs': 282, 'lr': 0.005683092027524256}. Best is trial 5 with value: 0.5619834710743802.\n"
     ]
    },
    {
     "name": "stdout",
     "output_type": "stream",
     "text": [
      "Early stopping at epoch 16\n"
     ]
    },
    {
     "name": "stderr",
     "output_type": "stream",
     "text": [
      "[I 2024-09-12 10:01:29,840] Trial 57 finished with value: 0.5537190082644629 and parameters: {'out_channels': 48, 'kernel_size': 3, 'num_blocks': 2, 'l2_lambda': 0.00764588029957304, 'dropout_rate': 0.1386593901628015, 'epochs': 239, 'lr': 0.008731724011288392}. Best is trial 5 with value: 0.5619834710743802.\n"
     ]
    },
    {
     "name": "stdout",
     "output_type": "stream",
     "text": [
      "Early stopping at epoch 16\n"
     ]
    },
    {
     "name": "stderr",
     "output_type": "stream",
     "text": [
      "[I 2024-09-12 10:01:32,443] Trial 58 finished with value: 0.5454545454545454 and parameters: {'out_channels': 32, 'kernel_size': 4, 'num_blocks': 5, 'l2_lambda': 0.006923337340664243, 'dropout_rate': 0.20378465960009984, 'epochs': 561, 'lr': 0.006290732589148906}. Best is trial 5 with value: 0.5619834710743802.\n"
     ]
    },
    {
     "name": "stdout",
     "output_type": "stream",
     "text": [
      "Early stopping at epoch 23\n"
     ]
    },
    {
     "name": "stderr",
     "output_type": "stream",
     "text": [
      "[I 2024-09-12 10:01:33,086] Trial 59 finished with value: 0.5371900826446281 and parameters: {'out_channels': 75, 'kernel_size': 3, 'num_blocks': 1, 'l2_lambda': 0.0062189584572071134, 'dropout_rate': 0.11218984109689203, 'epochs': 335, 'lr': 0.007945687765283167}. Best is trial 5 with value: 0.5619834710743802.\n"
     ]
    },
    {
     "name": "stdout",
     "output_type": "stream",
     "text": [
      "Early stopping at epoch 15\n"
     ]
    },
    {
     "name": "stderr",
     "output_type": "stream",
     "text": [
      "[I 2024-09-12 10:01:33,959] Trial 60 finished with value: 0.5454545454545454 and parameters: {'out_channels': 121, 'kernel_size': 3, 'num_blocks': 2, 'l2_lambda': 0.004564617598252065, 'dropout_rate': 0.2571098767361873, 'epochs': 129, 'lr': 0.007521986641483923}. Best is trial 5 with value: 0.5619834710743802.\n"
     ]
    },
    {
     "name": "stdout",
     "output_type": "stream",
     "text": [
      "Early stopping at epoch 12\n"
     ]
    },
    {
     "name": "stderr",
     "output_type": "stream",
     "text": [
      "[I 2024-09-12 10:01:34,981] Trial 61 finished with value: 0.5454545454545454 and parameters: {'out_channels': 52, 'kernel_size': 4, 'num_blocks': 3, 'l2_lambda': 0.005454470539673558, 'dropout_rate': 0.10548149277575652, 'epochs': 181, 'lr': 0.008506354704938967}. Best is trial 5 with value: 0.5619834710743802.\n"
     ]
    },
    {
     "name": "stdout",
     "output_type": "stream",
     "text": [
      "Early stopping at epoch 13\n"
     ]
    },
    {
     "name": "stderr",
     "output_type": "stream",
     "text": [
      "[I 2024-09-12 10:01:35,973] Trial 62 finished with value: 0.5454545454545454 and parameters: {'out_channels': 64, 'kernel_size': 6, 'num_blocks': 2, 'l2_lambda': 0.005757809606296335, 'dropout_rate': 0.1017960432932083, 'epochs': 170, 'lr': 0.0087998844859314}. Best is trial 5 with value: 0.5619834710743802.\n"
     ]
    },
    {
     "name": "stdout",
     "output_type": "stream",
     "text": [
      "Early stopping at epoch 16\n"
     ]
    },
    {
     "name": "stderr",
     "output_type": "stream",
     "text": [
      "[I 2024-09-12 10:01:36,454] Trial 63 finished with value: 0.5454545454545454 and parameters: {'out_channels': 52, 'kernel_size': 4, 'num_blocks': 1, 'l2_lambda': 0.0037924014176634346, 'dropout_rate': 0.13434888767970615, 'epochs': 205, 'lr': 0.009313089419571308}. Best is trial 5 with value: 0.5619834710743802.\n"
     ]
    },
    {
     "name": "stdout",
     "output_type": "stream",
     "text": [
      "Early stopping at epoch 11\n"
     ]
    },
    {
     "name": "stderr",
     "output_type": "stream",
     "text": [
      "[I 2024-09-12 10:01:37,551] Trial 64 finished with value: 0.5041322314049587 and parameters: {'out_channels': 38, 'kernel_size': 4, 'num_blocks': 4, 'l2_lambda': 0.005279326783495908, 'dropout_rate': 0.1172875624237721, 'epochs': 106, 'lr': 0.0070148854133158375}. Best is trial 5 with value: 0.5619834710743802.\n"
     ]
    },
    {
     "name": "stdout",
     "output_type": "stream",
     "text": [
      "Early stopping at epoch 10\n"
     ]
    },
    {
     "name": "stderr",
     "output_type": "stream",
     "text": [
      "[I 2024-09-12 10:01:38,430] Trial 65 finished with value: 0.5454545454545454 and parameters: {'out_channels': 44, 'kernel_size': 5, 'num_blocks': 3, 'l2_lambda': 0.0066402614990245384, 'dropout_rate': 0.15861221875998344, 'epochs': 165, 'lr': 0.0026741253095977926}. Best is trial 5 with value: 0.5619834710743802.\n"
     ]
    },
    {
     "name": "stdout",
     "output_type": "stream",
     "text": [
      "Early stopping at epoch 10\n"
     ]
    },
    {
     "name": "stderr",
     "output_type": "stream",
     "text": [
      "[I 2024-09-12 10:01:38,892] Trial 66 finished with value: 0.5537190082644629 and parameters: {'out_channels': 20, 'kernel_size': 3, 'num_blocks': 1, 'l2_lambda': 0.005066799487221205, 'dropout_rate': 0.1481142408356408, 'epochs': 261, 'lr': 0.008074462813551111}. Best is trial 5 with value: 0.5619834710743802.\n"
     ]
    },
    {
     "name": "stdout",
     "output_type": "stream",
     "text": [
      "Early stopping at epoch 12\n"
     ]
    },
    {
     "name": "stderr",
     "output_type": "stream",
     "text": [
      "[I 2024-09-12 10:01:39,865] Trial 67 finished with value: 0.5537190082644629 and parameters: {'out_channels': 27, 'kernel_size': 5, 'num_blocks': 2, 'l2_lambda': 0.00765999608740972, 'dropout_rate': 0.11475531242000253, 'epochs': 219, 'lr': 0.007384291551291999}. Best is trial 5 with value: 0.5619834710743802.\n"
     ]
    },
    {
     "name": "stdout",
     "output_type": "stream",
     "text": [
      "Early stopping at epoch 18\n"
     ]
    },
    {
     "name": "stderr",
     "output_type": "stream",
     "text": [
      "[I 2024-09-12 10:01:40,665] Trial 68 finished with value: 0.5454545454545454 and parameters: {'out_channels': 54, 'kernel_size': 3, 'num_blocks': 2, 'l2_lambda': 0.007421889149706421, 'dropout_rate': 0.1788869693963756, 'epochs': 374, 'lr': 0.005019086560360912}. Best is trial 5 with value: 0.5619834710743802.\n"
     ]
    },
    {
     "name": "stdout",
     "output_type": "stream",
     "text": [
      "Early stopping at epoch 13\n"
     ]
    },
    {
     "name": "stderr",
     "output_type": "stream",
     "text": [
      "[I 2024-09-12 10:01:41,173] Trial 69 finished with value: 0.5371900826446281 and parameters: {'out_channels': 63, 'kernel_size': 3, 'num_blocks': 1, 'l2_lambda': 0.006084188572864543, 'dropout_rate': 0.13191295813750425, 'epochs': 414, 'lr': 0.00846042410684835}. Best is trial 5 with value: 0.5619834710743802.\n"
     ]
    },
    {
     "name": "stdout",
     "output_type": "stream",
     "text": [
      "Early stopping at epoch 12\n"
     ]
    },
    {
     "name": "stderr",
     "output_type": "stream",
     "text": [
      "[I 2024-09-12 10:01:42,831] Trial 70 finished with value: 0.5537190082644629 and parameters: {'out_channels': 33, 'kernel_size': 4, 'num_blocks': 3, 'l2_lambda': 0.00897913862198241, 'dropout_rate': 0.28642004354478434, 'epochs': 297, 'lr': 0.0014324040974792807}. Best is trial 5 with value: 0.5619834710743802.\n"
     ]
    },
    {
     "name": "stdout",
     "output_type": "stream",
     "text": [
      "Early stopping at epoch 19\n"
     ]
    },
    {
     "name": "stderr",
     "output_type": "stream",
     "text": [
      "[I 2024-09-12 10:01:43,476] Trial 71 finished with value: 0.5619834710743802 and parameters: {'out_channels': 105, 'kernel_size': 4, 'num_blocks': 1, 'l2_lambda': 0.006908333611818331, 'dropout_rate': 0.16205512598230365, 'epochs': 211, 'lr': 0.0089968946597157}. Best is trial 5 with value: 0.5619834710743802.\n"
     ]
    },
    {
     "name": "stdout",
     "output_type": "stream",
     "text": [
      "Early stopping at epoch 13\n"
     ]
    },
    {
     "name": "stderr",
     "output_type": "stream",
     "text": [
      "[I 2024-09-12 10:01:44,150] Trial 72 finished with value: 0.5537190082644629 and parameters: {'out_channels': 89, 'kernel_size': 4, 'num_blocks': 1, 'l2_lambda': 0.006576039750801916, 'dropout_rate': 0.14748150771236468, 'epochs': 132, 'lr': 0.009713170695732532}. Best is trial 5 with value: 0.5619834710743802.\n"
     ]
    },
    {
     "name": "stdout",
     "output_type": "stream",
     "text": [
      "Early stopping at epoch 16\n"
     ]
    },
    {
     "name": "stderr",
     "output_type": "stream",
     "text": [
      "[I 2024-09-12 10:01:44,694] Trial 73 finished with value: 0.5537190082644629 and parameters: {'out_channels': 86, 'kernel_size': 3, 'num_blocks': 1, 'l2_lambda': 0.008003071938579753, 'dropout_rate': 0.47289824830566346, 'epochs': 244, 'lr': 0.008244346093885307}. Best is trial 5 with value: 0.5619834710743802.\n"
     ]
    },
    {
     "name": "stdout",
     "output_type": "stream",
     "text": [
      "Early stopping at epoch 12\n"
     ]
    },
    {
     "name": "stderr",
     "output_type": "stream",
     "text": [
      "[I 2024-09-12 10:01:45,255] Trial 74 finished with value: 0.5537190082644629 and parameters: {'out_channels': 95, 'kernel_size': 4, 'num_blocks': 1, 'l2_lambda': 0.005806140457146429, 'dropout_rate': 0.1946129387124865, 'epochs': 181, 'lr': 0.006848941195206317}. Best is trial 5 with value: 0.5619834710743802.\n"
     ]
    },
    {
     "name": "stdout",
     "output_type": "stream",
     "text": [
      "Early stopping at epoch 13\n"
     ]
    },
    {
     "name": "stderr",
     "output_type": "stream",
     "text": [
      "[I 2024-09-12 10:01:45,806] Trial 75 finished with value: 0.5454545454545454 and parameters: {'out_channels': 67, 'kernel_size': 3, 'num_blocks': 1, 'l2_lambda': 0.006405325648065224, 'dropout_rate': 0.10056725101659005, 'epochs': 614, 'lr': 0.0063254010649511725}. Best is trial 5 with value: 0.5619834710743802.\n"
     ]
    },
    {
     "name": "stdout",
     "output_type": "stream",
     "text": [
      "Early stopping at epoch 13\n"
     ]
    },
    {
     "name": "stderr",
     "output_type": "stream",
     "text": [
      "[I 2024-09-12 10:01:46,846] Trial 76 finished with value: 0.5537190082644629 and parameters: {'out_channels': 16, 'kernel_size': 5, 'num_blocks': 2, 'l2_lambda': 0.0004601476656239129, 'dropout_rate': 0.12529818934505763, 'epochs': 131, 'lr': 0.007404125061711233}. Best is trial 5 with value: 0.5619834710743802.\n"
     ]
    },
    {
     "name": "stdout",
     "output_type": "stream",
     "text": [
      "Early stopping at epoch 21\n"
     ]
    },
    {
     "name": "stderr",
     "output_type": "stream",
     "text": [
      "[I 2024-09-12 10:01:47,641] Trial 77 finished with value: 0.5537190082644629 and parameters: {'out_channels': 77, 'kernel_size': 3, 'num_blocks': 1, 'l2_lambda': 0.00732718574810233, 'dropout_rate': 0.1715310826801631, 'epochs': 884, 'lr': 0.007734608841235081}. Best is trial 5 with value: 0.5619834710743802.\n"
     ]
    },
    {
     "name": "stdout",
     "output_type": "stream",
     "text": [
      "Early stopping at epoch 19\n"
     ]
    },
    {
     "name": "stderr",
     "output_type": "stream",
     "text": [
      "[I 2024-09-12 10:01:48,434] Trial 78 finished with value: 0.5454545454545454 and parameters: {'out_channels': 79, 'kernel_size': 4, 'num_blocks': 1, 'l2_lambda': 0.006865470738999447, 'dropout_rate': 0.2266839430642402, 'epochs': 328, 'lr': 0.004125804816960464}. Best is trial 5 with value: 0.5619834710743802.\n"
     ]
    },
    {
     "name": "stdout",
     "output_type": "stream",
     "text": [
      "Early stopping at epoch 18\n"
     ]
    },
    {
     "name": "stderr",
     "output_type": "stream",
     "text": [
      "[I 2024-09-12 10:01:48,941] Trial 79 finished with value: 0.5371900826446281 and parameters: {'out_channels': 23, 'kernel_size': 3, 'num_blocks': 1, 'l2_lambda': 0.009820961180108915, 'dropout_rate': 0.1146643721311483, 'epochs': 191, 'lr': 0.005662964275750726}. Best is trial 5 with value: 0.5619834710743802.\n"
     ]
    },
    {
     "name": "stdout",
     "output_type": "stream",
     "text": [
      "Early stopping at epoch 13\n"
     ]
    },
    {
     "name": "stderr",
     "output_type": "stream",
     "text": [
      "[I 2024-09-12 10:01:49,605] Trial 80 finished with value: 0.5454545454545454 and parameters: {'out_channels': 115, 'kernel_size': 5, 'num_blocks': 1, 'l2_lambda': 0.007889696469026283, 'dropout_rate': 0.13385495657758784, 'epochs': 100, 'lr': 0.008003515829418694}. Best is trial 5 with value: 0.5619834710743802.\n"
     ]
    },
    {
     "name": "stdout",
     "output_type": "stream",
     "text": [
      "Early stopping at epoch 14\n"
     ]
    },
    {
     "name": "stderr",
     "output_type": "stream",
     "text": [
      "[I 2024-09-12 10:01:50,149] Trial 81 finished with value: 0.5619834710743802 and parameters: {'out_channels': 27, 'kernel_size': 3, 'num_blocks': 1, 'l2_lambda': 0.007541058571837001, 'dropout_rate': 0.11415314209743294, 'epochs': 165, 'lr': 0.00897807203530227}. Best is trial 5 with value: 0.5619834710743802.\n"
     ]
    },
    {
     "name": "stdout",
     "output_type": "stream",
     "text": [
      "Early stopping at epoch 15\n"
     ]
    },
    {
     "name": "stderr",
     "output_type": "stream",
     "text": [
      "[I 2024-09-12 10:01:50,827] Trial 82 finished with value: 0.5537190082644629 and parameters: {'out_channels': 24, 'kernel_size': 3, 'num_blocks': 1, 'l2_lambda': 0.008689312159112778, 'dropout_rate': 0.15235627038469673, 'epochs': 118, 'lr': 0.008592770152154094}. Best is trial 5 with value: 0.5619834710743802.\n"
     ]
    },
    {
     "name": "stdout",
     "output_type": "stream",
     "text": [
      "Early stopping at epoch 21\n"
     ]
    },
    {
     "name": "stderr",
     "output_type": "stream",
     "text": [
      "[I 2024-09-12 10:01:51,424] Trial 83 finished with value: 0.5454545454545454 and parameters: {'out_channels': 29, 'kernel_size': 3, 'num_blocks': 1, 'l2_lambda': 0.008330635489331387, 'dropout_rate': 0.12707175252281747, 'epochs': 221, 'lr': 0.009293199610874409}. Best is trial 5 with value: 0.5619834710743802.\n"
     ]
    },
    {
     "name": "stdout",
     "output_type": "stream",
     "text": [
      "Early stopping at epoch 17\n"
     ]
    },
    {
     "name": "stderr",
     "output_type": "stream",
     "text": [
      "[I 2024-09-12 10:01:51,907] Trial 84 finished with value: 0.5537190082644629 and parameters: {'out_channels': 37, 'kernel_size': 3, 'num_blocks': 1, 'l2_lambda': 0.009200929982673318, 'dropout_rate': 0.1110097044788109, 'epochs': 149, 'lr': 0.008273836790609949}. Best is trial 5 with value: 0.5619834710743802.\n"
     ]
    },
    {
     "name": "stdout",
     "output_type": "stream",
     "text": [
      "Early stopping at epoch 12\n"
     ]
    },
    {
     "name": "stderr",
     "output_type": "stream",
     "text": [
      "[I 2024-09-12 10:01:52,679] Trial 85 finished with value: 0.5619834710743802 and parameters: {'out_channels': 21, 'kernel_size': 3, 'num_blocks': 2, 'l2_lambda': 0.0071463460047388435, 'dropout_rate': 0.16791935728203194, 'epochs': 274, 'lr': 0.008866442785603305}. Best is trial 5 with value: 0.5619834710743802.\n"
     ]
    },
    {
     "name": "stdout",
     "output_type": "stream",
     "text": [
      "Early stopping at epoch 14\n"
     ]
    },
    {
     "name": "stderr",
     "output_type": "stream",
     "text": [
      "[I 2024-09-12 10:01:53,246] Trial 86 finished with value: 0.5619834710743802 and parameters: {'out_channels': 41, 'kernel_size': 3, 'num_blocks': 1, 'l2_lambda': 0.007967565198073926, 'dropout_rate': 0.10102749389764779, 'epochs': 488, 'lr': 0.009641786612614152}. Best is trial 5 with value: 0.5619834710743802.\n"
     ]
    },
    {
     "name": "stdout",
     "output_type": "stream",
     "text": [
      "Early stopping at epoch 14\n"
     ]
    },
    {
     "name": "stderr",
     "output_type": "stream",
     "text": [
      "[I 2024-09-12 10:01:55,650] Trial 87 finished with value: 0.5619834710743802 and parameters: {'out_channels': 107, 'kernel_size': 4, 'num_blocks': 5, 'l2_lambda': 0.006965802712940812, 'dropout_rate': 0.31458999073799504, 'epochs': 137, 'lr': 0.007899342419748321}. Best is trial 5 with value: 0.5619834710743802.\n"
     ]
    },
    {
     "name": "stdout",
     "output_type": "stream",
     "text": [
      "Early stopping at epoch 16\n"
     ]
    },
    {
     "name": "stderr",
     "output_type": "stream",
     "text": [
      "[I 2024-09-12 10:01:56,241] Trial 88 finished with value: 0.5537190082644629 and parameters: {'out_channels': 60, 'kernel_size': 3, 'num_blocks': 2, 'l2_lambda': 0.0064499785878968435, 'dropout_rate': 0.14110083431955633, 'epochs': 680, 'lr': 0.0071608220021268125}. Best is trial 5 with value: 0.5619834710743802.\n"
     ]
    },
    {
     "name": "stdout",
     "output_type": "stream",
     "text": [
      "Early stopping at epoch 10\n"
     ]
    },
    {
     "name": "stderr",
     "output_type": "stream",
     "text": [
      "[I 2024-09-12 10:01:57,026] Trial 89 finished with value: 0.5454545454545454 and parameters: {'out_channels': 33, 'kernel_size': 3, 'num_blocks': 3, 'l2_lambda': 0.007817223663623907, 'dropout_rate': 0.24868714811531292, 'epochs': 248, 'lr': 0.006737339597298716}. Best is trial 5 with value: 0.5619834710743802.\n"
     ]
    },
    {
     "name": "stdout",
     "output_type": "stream",
     "text": [
      "Early stopping at epoch 11\n"
     ]
    },
    {
     "name": "stderr",
     "output_type": "stream",
     "text": [
      "[I 2024-09-12 10:01:57,627] Trial 90 finished with value: 0.5537190082644629 and parameters: {'out_channels': 19, 'kernel_size': 4, 'num_blocks': 1, 'l2_lambda': 0.006696573100183766, 'dropout_rate': 0.19079460840283705, 'epochs': 157, 'lr': 0.009929847793608958}. Best is trial 5 with value: 0.5619834710743802.\n"
     ]
    },
    {
     "name": "stdout",
     "output_type": "stream",
     "text": [
      "Early stopping at epoch 16\n"
     ]
    },
    {
     "name": "stderr",
     "output_type": "stream",
     "text": [
      "[I 2024-09-12 10:01:58,404] Trial 91 finished with value: 0.5537190082644629 and parameters: {'out_channels': 46, 'kernel_size': 5, 'num_blocks': 2, 'l2_lambda': 0.001390149051746518, 'dropout_rate': 0.40402006764126847, 'epochs': 199, 'lr': 0.0004882842725483462}. Best is trial 5 with value: 0.5619834710743802.\n"
     ]
    },
    {
     "name": "stdout",
     "output_type": "stream",
     "text": [
      "Early stopping at epoch 13\n"
     ]
    },
    {
     "name": "stderr",
     "output_type": "stream",
     "text": [
      "[I 2024-09-12 10:01:59,236] Trial 92 finished with value: 0.5619834710743802 and parameters: {'out_channels': 49, 'kernel_size': 6, 'num_blocks': 2, 'l2_lambda': 0.0060566517421400765, 'dropout_rate': 0.37193840573919723, 'epochs': 101, 'lr': 0.0016565102349015508}. Best is trial 5 with value: 0.5619834710743802.\n"
     ]
    },
    {
     "name": "stdout",
     "output_type": "stream",
     "text": [
      "Early stopping at epoch 12\n"
     ]
    },
    {
     "name": "stderr",
     "output_type": "stream",
     "text": [
      "[I 2024-09-12 10:01:59,901] Trial 93 finished with value: 0.4793388429752066 and parameters: {'out_channels': 57, 'kernel_size': 5, 'num_blocks': 2, 'l2_lambda': 0.005730116182986299, 'dropout_rate': 0.44583464503709497, 'epochs': 122, 'lr': 0.0009083201661950601}. Best is trial 5 with value: 0.5619834710743802.\n"
     ]
    },
    {
     "name": "stdout",
     "output_type": "stream",
     "text": [
      "Early stopping at epoch 10\n"
     ]
    },
    {
     "name": "stderr",
     "output_type": "stream",
     "text": [
      "[I 2024-09-12 10:02:00,871] Trial 94 finished with value: 0.5537190082644629 and parameters: {'out_channels': 55, 'kernel_size': 3, 'num_blocks': 1, 'l2_lambda': 0.00521385826674099, 'dropout_rate': 0.12190787303277277, 'epochs': 228, 'lr': 0.0010018156961191578}. Best is trial 5 with value: 0.5619834710743802.\n"
     ]
    },
    {
     "name": "stdout",
     "output_type": "stream",
     "text": [
      "Early stopping at epoch 27\n"
     ]
    },
    {
     "name": "stderr",
     "output_type": "stream",
     "text": [
      "[I 2024-09-12 10:02:02,045] Trial 95 finished with value: 0.5619834710743802 and parameters: {'out_channels': 68, 'kernel_size': 3, 'num_blocks': 3, 'l2_lambda': 0.006239479746004998, 'dropout_rate': 0.21178180086634738, 'epochs': 177, 'lr': 0.00034082316249261547}. Best is trial 5 with value: 0.5619834710743802.\n"
     ]
    },
    {
     "name": "stdout",
     "output_type": "stream",
     "text": [
      "Early stopping at epoch 14\n"
     ]
    },
    {
     "name": "stderr",
     "output_type": "stream",
     "text": [
      "[I 2024-09-12 10:02:02,915] Trial 96 finished with value: 0.5619834710743802 and parameters: {'out_channels': 120, 'kernel_size': 5, 'num_blocks': 2, 'l2_lambda': 0.004706858156739918, 'dropout_rate': 0.138608820626921, 'epochs': 152, 'lr': 0.001968646736358178}. Best is trial 5 with value: 0.5619834710743802.\n"
     ]
    },
    {
     "name": "stdout",
     "output_type": "stream",
     "text": [
      "Early stopping at epoch 12\n"
     ]
    },
    {
     "name": "stderr",
     "output_type": "stream",
     "text": [
      "[I 2024-09-12 10:02:03,976] Trial 97 finished with value: 0.5041322314049587 and parameters: {'out_channels': 27, 'kernel_size': 6, 'num_blocks': 4, 'l2_lambda': 0.007493711658733493, 'dropout_rate': 0.35562110834003297, 'epochs': 196, 'lr': 0.0006635308308594256}. Best is trial 5 with value: 0.5619834710743802.\n"
     ]
    },
    {
     "name": "stdout",
     "output_type": "stream",
     "text": [
      "Early stopping at epoch 10\n"
     ]
    },
    {
     "name": "stderr",
     "output_type": "stream",
     "text": [
      "[I 2024-09-12 10:02:04,665] Trial 98 finished with value: 0.5537190082644629 and parameters: {'out_channels': 48, 'kernel_size': 4, 'num_blocks': 1, 'l2_lambda': 0.008143643184304706, 'dropout_rate': 0.1100416689576694, 'epochs': 316, 'lr': 0.007524417498477857}. Best is trial 5 with value: 0.5619834710743802.\n"
     ]
    },
    {
     "name": "stdout",
     "output_type": "stream",
     "text": [
      "Early stopping at epoch 19\n"
     ]
    },
    {
     "name": "stderr",
     "output_type": "stream",
     "text": [
      "[I 2024-09-12 10:02:05,138] Trial 99 finished with value: 0.47107438016528924 and parameters: {'out_channels': 101, 'kernel_size': 3, 'num_blocks': 1, 'l2_lambda': 0.004137606379342822, 'dropout_rate': 0.15433171037090385, 'epochs': 260, 'lr': 7.951809535247222e-05}. Best is trial 5 with value: 0.5619834710743802.\n",
      "[I 2024-09-12 10:02:05,185] A new study created in memory with name: no-name-8f5174cc-e166-415d-8e74-64dc31438e73\n"
     ]
    },
    {
     "name": "stdout",
     "output_type": "stream",
     "text": [
      "Early stopping at epoch 10\n",
      "parameters for NVDA saved to ../models/best-hyperparameters/pytorch/conv1d-classification/NVDA.json\n",
      "Best model for NVDA saved with accuracy: 0.5619834710743802\n",
      "Deleted NVDA from ../models/hyperparameters-search-models/ticker-all-models-best-hyperparameters-list.csv\n"
     ]
    },
    {
     "name": "stderr",
     "output_type": "stream",
     "text": [
      "[I 2024-09-12 10:02:08,704] Trial 0 finished with value: 80431.1171875 and parameters: {'out_channels': 116, 'kernel_size': 5, 'num_blocks': 3, 'l2_lambda': 0.0037001088259848718, 'dropout_rate': 0.35303577599143465, 'epochs': 47, 'lr': 0.004829164419322755}. Best is trial 0 with value: 80431.1171875.\n",
      "[I 2024-09-12 10:02:09,816] Trial 1 finished with value: 1418706.125 and parameters: {'out_channels': 95, 'kernel_size': 3, 'num_blocks': 2, 'l2_lambda': 0.008495796287695345, 'dropout_rate': 0.1003809263808198, 'epochs': 65, 'lr': 0.005228341740117105}. Best is trial 0 with value: 80431.1171875.\n"
     ]
    },
    {
     "name": "stdout",
     "output_type": "stream",
     "text": [
      "Early stopping at epoch 21\n"
     ]
    },
    {
     "name": "stderr",
     "output_type": "stream",
     "text": [
      "[I 2024-09-12 10:02:12,899] Trial 2 finished with value: 209813.96875 and parameters: {'out_channels': 72, 'kernel_size': 5, 'num_blocks': 4, 'l2_lambda': 0.005195475765659169, 'dropout_rate': 0.19821347740908957, 'epochs': 95, 'lr': 0.00766402681208064}. Best is trial 0 with value: 80431.1171875.\n"
     ]
    },
    {
     "name": "stdout",
     "output_type": "stream",
     "text": [
      "Early stopping at epoch 36\n"
     ]
    },
    {
     "name": "stderr",
     "output_type": "stream",
     "text": [
      "[I 2024-09-12 10:02:14,202] Trial 3 finished with value: 1027709.5 and parameters: {'out_channels': 41, 'kernel_size': 5, 'num_blocks': 5, 'l2_lambda': 0.006727230384254072, 'dropout_rate': 0.15674161950007043, 'epochs': 19, 'lr': 0.0020657083643926934}. Best is trial 0 with value: 80431.1171875.\n"
     ]
    },
    {
     "name": "stdout",
     "output_type": "stream",
     "text": [
      "Early stopping at epoch 13\n"
     ]
    },
    {
     "name": "stderr",
     "output_type": "stream",
     "text": [
      "[I 2024-09-12 10:02:17,735] Trial 4 finished with value: 2887775.5 and parameters: {'out_channels': 94, 'kernel_size': 3, 'num_blocks': 5, 'l2_lambda': 0.004553185968921591, 'dropout_rate': 0.14284510514036355, 'epochs': 33, 'lr': 0.0002995526535331221}. Best is trial 0 with value: 80431.1171875.\n",
      "[I 2024-09-12 10:02:18,804] Trial 5 finished with value: 1039797.3125 and parameters: {'out_channels': 123, 'kernel_size': 4, 'num_blocks': 2, 'l2_lambda': 0.00199521229387557, 'dropout_rate': 0.49646651447108636, 'epochs': 18, 'lr': 0.0031698886803516258}. Best is trial 0 with value: 80431.1171875.\n",
      "[I 2024-09-12 10:02:19,518] Trial 6 finished with value: 1251074.75 and parameters: {'out_channels': 122, 'kernel_size': 3, 'num_blocks': 2, 'l2_lambda': 0.009759665160921444, 'dropout_rate': 0.11904246079812966, 'epochs': 72, 'lr': 0.002541065261685632}. Best is trial 0 with value: 80431.1171875.\n"
     ]
    },
    {
     "name": "stdout",
     "output_type": "stream",
     "text": [
      "Early stopping at epoch 11\n"
     ]
    },
    {
     "name": "stderr",
     "output_type": "stream",
     "text": [
      "[I 2024-09-12 10:02:22,442] Trial 7 finished with value: 267451.4375 and parameters: {'out_channels': 107, 'kernel_size': 4, 'num_blocks': 3, 'l2_lambda': 0.008064779048531453, 'dropout_rate': 0.3698294685336001, 'epochs': 83, 'lr': 0.0031211124966022694}. Best is trial 0 with value: 80431.1171875.\n"
     ]
    },
    {
     "name": "stdout",
     "output_type": "stream",
     "text": [
      "Early stopping at epoch 35\n"
     ]
    },
    {
     "name": "stderr",
     "output_type": "stream",
     "text": [
      "[I 2024-09-12 10:02:23,862] Trial 8 finished with value: 575756.625 and parameters: {'out_channels': 114, 'kernel_size': 7, 'num_blocks': 3, 'l2_lambda': 0.004652835432148657, 'dropout_rate': 0.214739566821841, 'epochs': 66, 'lr': 0.001117690469268415}. Best is trial 0 with value: 80431.1171875.\n"
     ]
    },
    {
     "name": "stdout",
     "output_type": "stream",
     "text": [
      "Early stopping at epoch 16\n"
     ]
    },
    {
     "name": "stderr",
     "output_type": "stream",
     "text": [
      "[I 2024-09-12 10:02:24,245] Trial 9 finished with value: 1997733.625 and parameters: {'out_channels': 85, 'kernel_size': 6, 'num_blocks': 1, 'l2_lambda': 9.273674384882306e-05, 'dropout_rate': 0.39555800585315526, 'epochs': 77, 'lr': 0.006750939316904172}. Best is trial 0 with value: 80431.1171875.\n"
     ]
    },
    {
     "name": "stdout",
     "output_type": "stream",
     "text": [
      "Early stopping at epoch 10\n"
     ]
    },
    {
     "name": "stderr",
     "output_type": "stream",
     "text": [
      "[I 2024-09-12 10:02:25,306] Trial 10 finished with value: 3930723.75 and parameters: {'out_channels': 57, 'kernel_size': 7, 'num_blocks': 4, 'l2_lambda': 0.002050860516515803, 'dropout_rate': 0.3079517507163293, 'epochs': 44, 'lr': 0.009878189381645665}. Best is trial 0 with value: 80431.1171875.\n"
     ]
    },
    {
     "name": "stdout",
     "output_type": "stream",
     "text": [
      "Early stopping at epoch 11\n"
     ]
    },
    {
     "name": "stderr",
     "output_type": "stream",
     "text": [
      "[I 2024-09-12 10:02:27,438] Trial 11 finished with value: 541590.875 and parameters: {'out_channels': 67, 'kernel_size': 5, 'num_blocks': 4, 'l2_lambda': 0.005878364652891358, 'dropout_rate': 0.25012734192744507, 'epochs': 96, 'lr': 0.007866808720703968}. Best is trial 0 with value: 80431.1171875.\n"
     ]
    },
    {
     "name": "stdout",
     "output_type": "stream",
     "text": [
      "Early stopping at epoch 23\n"
     ]
    },
    {
     "name": "stderr",
     "output_type": "stream",
     "text": [
      "[I 2024-09-12 10:02:29,088] Trial 12 finished with value: 759059.125 and parameters: {'out_channels': 16, 'kernel_size': 6, 'num_blocks': 4, 'l2_lambda': 0.0035078552250067765, 'dropout_rate': 0.3285237212454288, 'epochs': 49, 'lr': 0.005244799572730792}. Best is trial 0 with value: 80431.1171875.\n"
     ]
    },
    {
     "name": "stdout",
     "output_type": "stream",
     "text": [
      "Early stopping at epoch 20\n"
     ]
    },
    {
     "name": "stderr",
     "output_type": "stream",
     "text": [
      "[I 2024-09-12 10:02:30,559] Trial 13 finished with value: 3526164.0 and parameters: {'out_channels': 48, 'kernel_size': 6, 'num_blocks': 4, 'l2_lambda': 0.0030211498346143627, 'dropout_rate': 0.21160695915525557, 'epochs': 99, 'lr': 0.007383281335079185}. Best is trial 0 with value: 80431.1171875.\n"
     ]
    },
    {
     "name": "stdout",
     "output_type": "stream",
     "text": [
      "Early stopping at epoch 14\n"
     ]
    },
    {
     "name": "stderr",
     "output_type": "stream",
     "text": [
      "[I 2024-09-12 10:02:33,341] Trial 14 finished with value: 111691.4140625 and parameters: {'out_channels': 77, 'kernel_size': 4, 'num_blocks': 3, 'l2_lambda': 0.007031234794914402, 'dropout_rate': 0.43523111992461916, 'epochs': 36, 'lr': 0.009271055718137227}. Best is trial 0 with value: 80431.1171875.\n",
      "[I 2024-09-12 10:02:36,005] Trial 15 finished with value: 623709.0 and parameters: {'out_channels': 83, 'kernel_size': 4, 'num_blocks': 3, 'l2_lambda': 0.007242903958340432, 'dropout_rate': 0.4536139908479117, 'epochs': 35, 'lr': 0.0043257280211801115}. Best is trial 0 with value: 80431.1171875.\n",
      "[I 2024-09-12 10:02:36,754] Trial 16 finished with value: 2789513.25 and parameters: {'out_channels': 105, 'kernel_size': 4, 'num_blocks': 1, 'l2_lambda': 0.006436845431207459, 'dropout_rate': 0.41218748868416233, 'epochs': 30, 'lr': 0.00988756665535239}. Best is trial 0 with value: 80431.1171875.\n"
     ]
    },
    {
     "name": "stdout",
     "output_type": "stream",
     "text": [
      "Early stopping at epoch 20\n"
     ]
    },
    {
     "name": "stderr",
     "output_type": "stream",
     "text": [
      "[I 2024-09-12 10:02:37,510] Trial 17 finished with value: 1244842.75 and parameters: {'out_channels': 29, 'kernel_size': 4, 'num_blocks': 2, 'l2_lambda': 0.003522150547822539, 'dropout_rate': 0.35510843465677877, 'epochs': 58, 'lr': 0.006331077741140354}. Best is trial 0 with value: 80431.1171875.\n"
     ]
    },
    {
     "name": "stdout",
     "output_type": "stream",
     "text": [
      "Early stopping at epoch 14\n"
     ]
    },
    {
     "name": "stderr",
     "output_type": "stream",
     "text": [
      "[I 2024-09-12 10:02:39,249] Trial 18 finished with value: 601118.625 and parameters: {'out_channels': 128, 'kernel_size': 5, 'num_blocks': 3, 'l2_lambda': 0.009928892091563807, 'dropout_rate': 0.44868816212686613, 'epochs': 45, 'lr': 0.004591493865641799}. Best is trial 0 with value: 80431.1171875.\n"
     ]
    },
    {
     "name": "stdout",
     "output_type": "stream",
     "text": [
      "Early stopping at epoch 20\n"
     ]
    },
    {
     "name": "stderr",
     "output_type": "stream",
     "text": [
      "[I 2024-09-12 10:02:39,809] Trial 19 finished with value: 317689.21875 and parameters: {'out_channels': 66, 'kernel_size': 5, 'num_blocks': 2, 'l2_lambda': 0.00039663296214209826, 'dropout_rate': 0.26481325753569745, 'epochs': 10, 'lr': 0.00892589583193339}. Best is trial 0 with value: 80431.1171875.\n",
      "[I 2024-09-12 10:02:43,905] Trial 20 finished with value: 474696.625 and parameters: {'out_channels': 81, 'kernel_size': 6, 'num_blocks': 3, 'l2_lambda': 0.007854148718784908, 'dropout_rate': 0.4259853141964811, 'epochs': 54, 'lr': 0.006038279203504418}. Best is trial 0 with value: 80431.1171875.\n"
     ]
    },
    {
     "name": "stdout",
     "output_type": "stream",
     "text": [
      "Early stopping at epoch 52\n"
     ]
    },
    {
     "name": "stderr",
     "output_type": "stream",
     "text": [
      "[I 2024-09-12 10:02:45,420] Trial 21 finished with value: 2255203.25 and parameters: {'out_channels': 71, 'kernel_size': 5, 'num_blocks': 4, 'l2_lambda': 0.005462653261894499, 'dropout_rate': 0.4941529933425248, 'epochs': 86, 'lr': 0.008447624935677389}. Best is trial 0 with value: 80431.1171875.\n"
     ]
    },
    {
     "name": "stdout",
     "output_type": "stream",
     "text": [
      "Early stopping at epoch 16\n"
     ]
    },
    {
     "name": "stderr",
     "output_type": "stream",
     "text": [
      "[I 2024-09-12 10:02:46,425] Trial 22 finished with value: 2193280.0 and parameters: {'out_channels': 55, 'kernel_size': 4, 'num_blocks': 3, 'l2_lambda': 0.004567168252426602, 'dropout_rate': 0.2836685187599346, 'epochs': 36, 'lr': 0.008557474144980058}. Best is trial 0 with value: 80431.1171875.\n"
     ]
    },
    {
     "name": "stdout",
     "output_type": "stream",
     "text": [
      "Early stopping at epoch 12\n"
     ]
    },
    {
     "name": "stderr",
     "output_type": "stream",
     "text": [
      "[I 2024-09-12 10:02:49,037] Trial 23 finished with value: 1537622.5 and parameters: {'out_channels': 99, 'kernel_size': 5, 'num_blocks': 5, 'l2_lambda': 0.005508753156248061, 'dropout_rate': 0.3604347941002662, 'epochs': 26, 'lr': 0.007163746851432243}. Best is trial 0 with value: 80431.1171875.\n"
     ]
    },
    {
     "name": "stdout",
     "output_type": "stream",
     "text": [
      "Early stopping at epoch 21\n"
     ]
    },
    {
     "name": "stderr",
     "output_type": "stream",
     "text": [
      "[I 2024-09-12 10:02:50,976] Trial 24 finished with value: 227943.71875 and parameters: {'out_channels': 77, 'kernel_size': 5, 'num_blocks': 4, 'l2_lambda': 0.0024567521271679207, 'dropout_rate': 0.20782064534255207, 'epochs': 41, 'lr': 0.009296722051004527}. Best is trial 0 with value: 80431.1171875.\n"
     ]
    },
    {
     "name": "stdout",
     "output_type": "stream",
     "text": [
      "Early stopping at epoch 20\n"
     ]
    },
    {
     "name": "stderr",
     "output_type": "stream",
     "text": [
      "[I 2024-09-12 10:02:52,604] Trial 25 finished with value: 1325792.5 and parameters: {'out_channels': 60, 'kernel_size': 6, 'num_blocks': 3, 'l2_lambda': 0.003993694179727158, 'dropout_rate': 0.3262982953825218, 'epochs': 56, 'lr': 0.00800777977823776}. Best is trial 0 with value: 80431.1171875.\n"
     ]
    },
    {
     "name": "stdout",
     "output_type": "stream",
     "text": [
      "Early stopping at epoch 22\n"
     ]
    },
    {
     "name": "stderr",
     "output_type": "stream",
     "text": [
      "[I 2024-09-12 10:02:54,809] Trial 26 finished with value: 1130039.375 and parameters: {'out_channels': 91, 'kernel_size': 4, 'num_blocks': 4, 'l2_lambda': 0.00880993971083986, 'dropout_rate': 0.38149189160902863, 'epochs': 61, 'lr': 0.005872856376371311}. Best is trial 0 with value: 80431.1171875.\n"
     ]
    },
    {
     "name": "stdout",
     "output_type": "stream",
     "text": [
      "Early stopping at epoch 21\n"
     ]
    },
    {
     "name": "stderr",
     "output_type": "stream",
     "text": [
      "[I 2024-09-12 10:02:59,266] Trial 27 finished with value: 89777.75 and parameters: {'out_channels': 38, 'kernel_size': 5, 'num_blocks': 5, 'l2_lambda': 0.006539843116451722, 'dropout_rate': 0.4571108012517773, 'epochs': 49, 'lr': 0.004151651414957209}. Best is trial 0 with value: 80431.1171875.\n",
      "[I 2024-09-12 10:03:00,766] Trial 28 finished with value: 2114569.75 and parameters: {'out_channels': 33, 'kernel_size': 3, 'num_blocks': 5, 'l2_lambda': 0.006520199235130742, 'dropout_rate': 0.4455433552707711, 'epochs': 50, 'lr': 0.004174901473798133}. Best is trial 0 with value: 80431.1171875.\n"
     ]
    },
    {
     "name": "stdout",
     "output_type": "stream",
     "text": [
      "Early stopping at epoch 15\n"
     ]
    },
    {
     "name": "stderr",
     "output_type": "stream",
     "text": [
      "[I 2024-09-12 10:03:01,753] Trial 29 finished with value: 1103177.125 and parameters: {'out_channels': 19, 'kernel_size': 3, 'num_blocks': 2, 'l2_lambda': 0.008790506882095445, 'dropout_rate': 0.4745758749946127, 'epochs': 65, 'lr': 0.0036816470806762514}. Best is trial 0 with value: 80431.1171875.\n"
     ]
    },
    {
     "name": "stdout",
     "output_type": "stream",
     "text": [
      "Early stopping at epoch 21\n"
     ]
    },
    {
     "name": "stderr",
     "output_type": "stream",
     "text": [
      "[I 2024-09-12 10:03:02,357] Trial 30 finished with value: 2646770.5 and parameters: {'out_channels': 44, 'kernel_size': 4, 'num_blocks': 1, 'l2_lambda': 0.007355087139375119, 'dropout_rate': 0.42721821709554486, 'epochs': 39, 'lr': 0.005284240572561176}. Best is trial 0 with value: 80431.1171875.\n"
     ]
    },
    {
     "name": "stdout",
     "output_type": "stream",
     "text": [
      "Early stopping at epoch 16\n"
     ]
    },
    {
     "name": "stderr",
     "output_type": "stream",
     "text": [
      "[I 2024-09-12 10:03:06,219] Trial 31 finished with value: 1532705.375 and parameters: {'out_channels': 113, 'kernel_size': 5, 'num_blocks': 5, 'l2_lambda': 0.005908467347648412, 'dropout_rate': 0.4017079012144867, 'epochs': 49, 'lr': 0.005323154084115378}. Best is trial 0 with value: 80431.1171875.\n"
     ]
    },
    {
     "name": "stdout",
     "output_type": "stream",
     "text": [
      "Early stopping at epoch 30\n"
     ]
    },
    {
     "name": "stderr",
     "output_type": "stream",
     "text": [
      "[I 2024-09-12 10:03:08,333] Trial 32 finished with value: 683550.875 and parameters: {'out_channels': 30, 'kernel_size': 5, 'num_blocks': 5, 'l2_lambda': 0.005097433289932741, 'dropout_rate': 0.18590713811856177, 'epochs': 27, 'lr': 0.0037150612085930504}. Best is trial 0 with value: 80431.1171875.\n"
     ]
    },
    {
     "name": "stdout",
     "output_type": "stream",
     "text": [
      "Early stopping at epoch 22\n"
     ]
    },
    {
     "name": "stderr",
     "output_type": "stream",
     "text": [
      "[I 2024-09-12 10:03:09,772] Trial 33 finished with value: 122905.15625 and parameters: {'out_channels': 38, 'kernel_size': 5, 'num_blocks': 3, 'l2_lambda': 0.0070072772806961505, 'dropout_rate': 0.46400777061539644, 'epochs': 22, 'lr': 0.002040252248701439}. Best is trial 0 with value: 80431.1171875.\n",
      "[I 2024-09-12 10:03:11,326] Trial 34 finished with value: 573692.6875 and parameters: {'out_channels': 39, 'kernel_size': 6, 'num_blocks': 3, 'l2_lambda': 0.007063928673851461, 'dropout_rate': 0.46863821768400904, 'epochs': 21, 'lr': 0.0013464731515584845}. Best is trial 0 with value: 80431.1171875.\n",
      "[I 2024-09-12 10:03:12,673] Trial 35 finished with value: 13815851.0 and parameters: {'out_channels': 50, 'kernel_size': 5, 'num_blocks': 3, 'l2_lambda': 0.007958121497730819, 'dropout_rate': 0.4738434044854185, 'epochs': 19, 'lr': 0.0015361406361227396}. Best is trial 0 with value: 80431.1171875.\n",
      "[I 2024-09-12 10:03:13,243] Trial 36 finished with value: 4855619.0 and parameters: {'out_channels': 26, 'kernel_size': 4, 'num_blocks': 2, 'l2_lambda': 0.006452070074389356, 'dropout_rate': 0.43561924510428524, 'epochs': 11, 'lr': 0.0022079398671050634}. Best is trial 0 with value: 80431.1171875.\n",
      "[I 2024-09-12 10:03:14,902] Trial 37 finished with value: 7618343.0 and parameters: {'out_channels': 38, 'kernel_size': 5, 'num_blocks': 3, 'l2_lambda': 0.005880639367581843, 'dropout_rate': 0.4951459619585432, 'epochs': 24, 'lr': 0.00033040583904220613}. Best is trial 0 with value: 80431.1171875.\n",
      "[I 2024-09-12 10:03:16,725] Trial 38 finished with value: 2601728.75 and parameters: {'out_channels': 47, 'kernel_size': 6, 'num_blocks': 3, 'l2_lambda': 0.0011391217755924066, 'dropout_rate': 0.34776643744277, 'epochs': 33, 'lr': 0.003245926584665623}. Best is trial 0 with value: 80431.1171875.\n"
     ]
    },
    {
     "name": "stdout",
     "output_type": "stream",
     "text": [
      "Early stopping at epoch 23\n"
     ]
    },
    {
     "name": "stderr",
     "output_type": "stream",
     "text": [
      "[I 2024-09-12 10:03:18,061] Trial 39 finished with value: 1440115.375 and parameters: {'out_channels': 62, 'kernel_size': 3, 'num_blocks': 4, 'l2_lambda': 0.009288665452623452, 'dropout_rate': 0.38423832056753465, 'epochs': 15, 'lr': 0.0025749596744363756}. Best is trial 0 with value: 80431.1171875.\n",
      "[I 2024-09-12 10:03:19,784] Trial 40 finished with value: 3273557.75 and parameters: {'out_channels': 22, 'kernel_size': 5, 'num_blocks': 2, 'l2_lambda': 0.0076004388591842924, 'dropout_rate': 0.41325900404791915, 'epochs': 39, 'lr': 0.0006015109897373134}. Best is trial 0 with value: 80431.1171875.\n",
      "[I 2024-09-12 10:03:22,612] Trial 41 finished with value: 1353385.5 and parameters: {'out_channels': 92, 'kernel_size': 5, 'num_blocks': 5, 'l2_lambda': 0.006902642943807424, 'dropout_rate': 0.24504561226152072, 'epochs': 72, 'lr': 0.00913124751021173}. Best is trial 0 with value: 80431.1171875.\n"
     ]
    },
    {
     "name": "stdout",
     "output_type": "stream",
     "text": [
      "Early stopping at epoch 24\n"
     ]
    },
    {
     "name": "stderr",
     "output_type": "stream",
     "text": [
      "[I 2024-09-12 10:03:23,922] Trial 42 finished with value: 596903.375 and parameters: {'out_channels': 54, 'kernel_size': 4, 'num_blocks': 4, 'l2_lambda': 0.0042662184448764, 'dropout_rate': 0.10809232234380255, 'epochs': 46, 'lr': 0.00658859420383205}. Best is trial 0 with value: 80431.1171875.\n"
     ]
    },
    {
     "name": "stdout",
     "output_type": "stream",
     "text": [
      "Early stopping at epoch 13\n"
     ]
    },
    {
     "name": "stderr",
     "output_type": "stream",
     "text": [
      "[I 2024-09-12 10:03:25,243] Trial 43 finished with value: 3178762.0 and parameters: {'out_channels': 117, 'kernel_size': 6, 'num_blocks': 3, 'l2_lambda': 0.004989746825698372, 'dropout_rate': 0.13852870883084706, 'epochs': 91, 'lr': 0.0025903441669766895}. Best is trial 0 with value: 80431.1171875.\n"
     ]
    },
    {
     "name": "stdout",
     "output_type": "stream",
     "text": [
      "Early stopping at epoch 13\n"
     ]
    },
    {
     "name": "stderr",
     "output_type": "stream",
     "text": [
      "[I 2024-09-12 10:03:28,187] Trial 44 finished with value: 642934.4375 and parameters: {'out_channels': 98, 'kernel_size': 5, 'num_blocks': 4, 'l2_lambda': 0.006056624012252156, 'dropout_rate': 0.4619076866164832, 'epochs': 30, 'lr': 0.005694999969494154}. Best is trial 0 with value: 80431.1171875.\n",
      "[I 2024-09-12 10:03:29,283] Trial 45 finished with value: 3906884.75 and parameters: {'out_channels': 74, 'kernel_size': 7, 'num_blocks': 3, 'l2_lambda': 0.008287692863856298, 'dropout_rate': 0.31313228465418136, 'epochs': 52, 'lr': 0.00474714009400676}. Best is trial 0 with value: 80431.1171875.\n"
     ]
    },
    {
     "name": "stdout",
     "output_type": "stream",
     "text": [
      "Early stopping at epoch 13\n"
     ]
    },
    {
     "name": "stderr",
     "output_type": "stream",
     "text": [
      "[I 2024-09-12 10:03:31,554] Trial 46 finished with value: 1096906.625 and parameters: {'out_channels': 108, 'kernel_size': 5, 'num_blocks': 5, 'l2_lambda': 0.0037324865897528626, 'dropout_rate': 0.18180494960119403, 'epochs': 76, 'lr': 0.007374318872783499}. Best is trial 0 with value: 80431.1171875.\n"
     ]
    },
    {
     "name": "stdout",
     "output_type": "stream",
     "text": [
      "Early stopping at epoch 18\n"
     ]
    },
    {
     "name": "stderr",
     "output_type": "stream",
     "text": [
      "[I 2024-09-12 10:03:36,125] Trial 47 finished with value: 70261.984375 and parameters: {'out_channels': 86, 'kernel_size': 4, 'num_blocks': 4, 'l2_lambda': 0.0030602626479946937, 'dropout_rate': 0.4826746114449701, 'epochs': 63, 'lr': 0.0041519501197347635}. Best is trial 47 with value: 70261.984375.\n"
     ]
    },
    {
     "name": "stdout",
     "output_type": "stream",
     "text": [
      "Early stopping at epoch 44\n"
     ]
    },
    {
     "name": "stderr",
     "output_type": "stream",
     "text": [
      "[I 2024-09-12 10:03:38,351] Trial 48 finished with value: 318950.90625 and parameters: {'out_channels': 89, 'kernel_size': 4, 'num_blocks': 3, 'l2_lambda': 0.0028552203442882866, 'dropout_rate': 0.48266121168013687, 'epochs': 62, 'lr': 0.003676643940319957}. Best is trial 47 with value: 70261.984375.\n"
     ]
    },
    {
     "name": "stdout",
     "output_type": "stream",
     "text": [
      "Early stopping at epoch 27\n"
     ]
    },
    {
     "name": "stderr",
     "output_type": "stream",
     "text": [
      "[I 2024-09-12 10:03:40,610] Trial 49 finished with value: 398033.5 and parameters: {'out_channels': 78, 'kernel_size': 4, 'num_blocks': 4, 'l2_lambda': 0.0015452841238216683, 'dropout_rate': 0.44208996398063, 'epochs': 70, 'lr': 0.00407468181071758}. Best is trial 47 with value: 70261.984375.\n"
     ]
    },
    {
     "name": "stdout",
     "output_type": "stream",
     "text": [
      "Early stopping at epoch 20\n"
     ]
    },
    {
     "name": "stderr",
     "output_type": "stream",
     "text": [
      "[I 2024-09-12 10:03:41,791] Trial 50 finished with value: 4432894.0 and parameters: {'out_channels': 70, 'kernel_size': 4, 'num_blocks': 3, 'l2_lambda': 0.003182515798231672, 'dropout_rate': 0.45816241273123315, 'epochs': 42, 'lr': 0.004736106675889496}. Best is trial 47 with value: 70261.984375.\n"
     ]
    },
    {
     "name": "stdout",
     "output_type": "stream",
     "text": [
      "Early stopping at epoch 14\n"
     ]
    },
    {
     "name": "stderr",
     "output_type": "stream",
     "text": [
      "[I 2024-09-12 10:03:43,837] Trial 51 finished with value: 951537.375 and parameters: {'out_channels': 87, 'kernel_size': 5, 'num_blocks': 4, 'l2_lambda': 0.0024862897256756333, 'dropout_rate': 0.4180236595809928, 'epochs': 83, 'lr': 0.0018433262352255402}. Best is trial 47 with value: 70261.984375.\n"
     ]
    },
    {
     "name": "stdout",
     "output_type": "stream",
     "text": [
      "Early stopping at epoch 21\n"
     ]
    },
    {
     "name": "stderr",
     "output_type": "stream",
     "text": [
      "[I 2024-09-12 10:03:46,678] Trial 52 finished with value: 829216.5 and parameters: {'out_channels': 101, 'kernel_size': 3, 'num_blocks': 4, 'l2_lambda': 0.005200705831966283, 'dropout_rate': 0.4862128589422997, 'epochs': 47, 'lr': 0.0069139298315661485}. Best is trial 47 with value: 70261.984375.\n"
     ]
    },
    {
     "name": "stdout",
     "output_type": "stream",
     "text": [
      "Early stopping at epoch 29\n"
     ]
    },
    {
     "name": "stderr",
     "output_type": "stream",
     "text": [
      "[I 2024-09-12 10:03:48,991] Trial 53 finished with value: 362010.375 and parameters: {'out_channels': 128, 'kernel_size': 4, 'num_blocks': 3, 'l2_lambda': 0.004306045328880194, 'dropout_rate': 0.40053967118448286, 'epochs': 100, 'lr': 0.0030204293445922925}. Best is trial 47 with value: 70261.984375.\n"
     ]
    },
    {
     "name": "stdout",
     "output_type": "stream",
     "text": [
      "Early stopping at epoch 26\n"
     ]
    },
    {
     "name": "stderr",
     "output_type": "stream",
     "text": [
      "[I 2024-09-12 10:03:51,338] Trial 54 finished with value: 2629225.0 and parameters: {'out_channels': 34, 'kernel_size': 5, 'num_blocks': 5, 'l2_lambda': 0.007592469244935934, 'dropout_rate': 0.3388356057443864, 'epochs': 36, 'lr': 0.009551292939565316}. Best is trial 47 with value: 70261.984375.\n"
     ]
    },
    {
     "name": "stdout",
     "output_type": "stream",
     "text": [
      "Early stopping at epoch 23\n"
     ]
    },
    {
     "name": "stderr",
     "output_type": "stream",
     "text": [
      "[I 2024-09-12 10:03:53,858] Trial 55 finished with value: 420852.0625 and parameters: {'out_channels': 83, 'kernel_size': 4, 'num_blocks': 4, 'l2_lambda': 0.004867394277481558, 'dropout_rate': 0.3714234871927938, 'epochs': 58, 'lr': 0.007997442643853728}. Best is trial 47 with value: 70261.984375.\n"
     ]
    },
    {
     "name": "stdout",
     "output_type": "stream",
     "text": [
      "Early stopping at epoch 24\n"
     ]
    },
    {
     "name": "stderr",
     "output_type": "stream",
     "text": [
      "[I 2024-09-12 10:03:54,982] Trial 56 finished with value: 4689038.5 and parameters: {'out_channels': 63, 'kernel_size': 5, 'num_blocks': 3, 'l2_lambda': 0.006205430073176345, 'dropout_rate': 0.28234421200253906, 'epochs': 91, 'lr': 0.004457726985057279}. Best is trial 47 with value: 70261.984375.\n"
     ]
    },
    {
     "name": "stdout",
     "output_type": "stream",
     "text": [
      "Early stopping at epoch 16\n"
     ]
    },
    {
     "name": "stderr",
     "output_type": "stream",
     "text": [
      "[I 2024-09-12 10:03:56,959] Trial 57 finished with value: 553885.5625 and parameters: {'out_channels': 119, 'kernel_size': 6, 'num_blocks': 2, 'l2_lambda': 0.003886560844354031, 'dropout_rate': 0.4997313385826298, 'epochs': 31, 'lr': 0.005027587647220369}. Best is trial 47 with value: 70261.984375.\n",
      "[I 2024-09-12 10:03:59,627] Trial 58 finished with value: 450548.28125 and parameters: {'out_channels': 67, 'kernel_size': 5, 'num_blocks': 4, 'l2_lambda': 0.005542606071869501, 'dropout_rate': 0.43571564771027643, 'epochs': 44, 'lr': 0.006272130570646541}. Best is trial 47 with value: 70261.984375.\n"
     ]
    },
    {
     "name": "stdout",
     "output_type": "stream",
     "text": [
      "Early stopping at epoch 29\n"
     ]
    },
    {
     "name": "stderr",
     "output_type": "stream",
     "text": [
      "[I 2024-09-12 10:04:01,075] Trial 59 finished with value: 449817.78125 and parameters: {'out_channels': 95, 'kernel_size': 5, 'num_blocks': 3, 'l2_lambda': 0.006771200572779935, 'dropout_rate': 0.23092183530886795, 'epochs': 53, 'lr': 0.005565955289196133}. Best is trial 47 with value: 70261.984375.\n"
     ]
    },
    {
     "name": "stdout",
     "output_type": "stream",
     "text": [
      "Early stopping at epoch 18\n"
     ]
    },
    {
     "name": "stderr",
     "output_type": "stream",
     "text": [
      "[I 2024-09-12 10:04:03,034] Trial 60 finished with value: 1685596.0 and parameters: {'out_channels': 79, 'kernel_size': 4, 'num_blocks': 5, 'l2_lambda': 0.0019964921935744524, 'dropout_rate': 0.46418612113498203, 'epochs': 78, 'lr': 0.0032126301973887154}. Best is trial 47 with value: 70261.984375.\n"
     ]
    },
    {
     "name": "stdout",
     "output_type": "stream",
     "text": [
      "Early stopping at epoch 14\n"
     ]
    },
    {
     "name": "stderr",
     "output_type": "stream",
     "text": [
      "[I 2024-09-12 10:04:06,359] Trial 61 finished with value: 696640.0 and parameters: {'out_channels': 75, 'kernel_size': 5, 'num_blocks': 4, 'l2_lambda': 0.0024084918617133964, 'dropout_rate': 0.1882844603818648, 'epochs': 38, 'lr': 0.009079372933937435}. Best is trial 47 with value: 70261.984375.\n",
      "[I 2024-09-12 10:04:10,157] Trial 62 finished with value: 225054.828125 and parameters: {'out_channels': 77, 'kernel_size': 5, 'num_blocks': 4, 'l2_lambda': 0.0032350897729669847, 'dropout_rate': 0.1682923187525684, 'epochs': 43, 'lr': 0.009614576688591739}. Best is trial 47 with value: 70261.984375.\n"
     ]
    },
    {
     "name": "stdout",
     "output_type": "stream",
     "text": [
      "Early stopping at epoch 41\n"
     ]
    },
    {
     "name": "stderr",
     "output_type": "stream",
     "text": [
      "[I 2024-09-12 10:04:11,796] Trial 63 finished with value: 772518.25 and parameters: {'out_channels': 71, 'kernel_size': 5, 'num_blocks': 4, 'l2_lambda': 0.0033454354650690205, 'dropout_rate': 0.1621490032402935, 'epochs': 50, 'lr': 0.00849562926574334}. Best is trial 47 with value: 70261.984375.\n"
     ]
    },
    {
     "name": "stdout",
     "output_type": "stream",
     "text": [
      "Early stopping at epoch 17\n"
     ]
    },
    {
     "name": "stderr",
     "output_type": "stream",
     "text": [
      "[I 2024-09-12 10:04:13,595] Trial 64 finished with value: 847625.625 and parameters: {'out_channels': 85, 'kernel_size': 5, 'num_blocks': 3, 'l2_lambda': 0.0029666937666263625, 'dropout_rate': 0.15455701411718525, 'epochs': 42, 'lr': 0.009950512417652772}. Best is trial 47 with value: 70261.984375.\n"
     ]
    },
    {
     "name": "stdout",
     "output_type": "stream",
     "text": [
      "Early stopping at epoch 24\n"
     ]
    },
    {
     "name": "stderr",
     "output_type": "stream",
     "text": [
      "[I 2024-09-12 10:04:15,601] Trial 65 finished with value: 2301505.25 and parameters: {'out_channels': 44, 'kernel_size': 6, 'num_blocks': 4, 'l2_lambda': 0.004207162156559987, 'dropout_rate': 0.13312219115835386, 'epochs': 57, 'lr': 0.009515439586185575}. Best is trial 47 with value: 70261.984375.\n"
     ]
    },
    {
     "name": "stdout",
     "output_type": "stream",
     "text": [
      "Early stopping at epoch 22\n"
     ]
    },
    {
     "name": "stderr",
     "output_type": "stream",
     "text": [
      "[I 2024-09-12 10:04:17,246] Trial 66 finished with value: 4217388.0 and parameters: {'out_channels': 57, 'kernel_size': 4, 'num_blocks': 3, 'l2_lambda': 0.004723724879522157, 'dropout_rate': 0.4534244076268475, 'epochs': 23, 'lr': 0.00870932352548117}. Best is trial 47 with value: 70261.984375.\n"
     ]
    },
    {
     "name": "stdout",
     "output_type": "stream",
     "text": [
      "Early stopping at epoch 22\n"
     ]
    },
    {
     "name": "stderr",
     "output_type": "stream",
     "text": [
      "[I 2024-09-12 10:04:19,063] Trial 67 finished with value: 758043.8125 and parameters: {'out_channels': 112, 'kernel_size': 5, 'num_blocks': 5, 'l2_lambda': 0.007203244601130801, 'dropout_rate': 0.22319461431152612, 'epochs': 62, 'lr': 0.007620397651231575}. Best is trial 47 with value: 70261.984375.\n"
     ]
    },
    {
     "name": "stdout",
     "output_type": "stream",
     "text": [
      "Early stopping at epoch 14\n"
     ]
    },
    {
     "name": "stderr",
     "output_type": "stream",
     "text": [
      "[I 2024-09-12 10:04:21,214] Trial 68 finished with value: 1048159.375 and parameters: {'out_channels': 51, 'kernel_size': 6, 'num_blocks': 4, 'l2_lambda': 0.003532139758960672, 'dropout_rate': 0.42768725438617866, 'epochs': 28, 'lr': 0.009598844638193802}. Best is trial 47 with value: 70261.984375.\n"
     ]
    },
    {
     "name": "stdout",
     "output_type": "stream",
     "text": [
      "Early stopping at epoch 21\n"
     ]
    },
    {
     "name": "stderr",
     "output_type": "stream",
     "text": [
      "[I 2024-09-12 10:04:22,900] Trial 69 finished with value: 1349820.125 and parameters: {'out_channels': 124, 'kernel_size': 3, 'num_blocks': 3, 'l2_lambda': 0.002685678369341483, 'dropout_rate': 0.47443074646714317, 'epochs': 68, 'lr': 0.008195538320065275}. Best is trial 47 with value: 70261.984375.\n"
     ]
    },
    {
     "name": "stdout",
     "output_type": "stream",
     "text": [
      "Early stopping at epoch 21\n"
     ]
    },
    {
     "name": "stderr",
     "output_type": "stream",
     "text": [
      "[I 2024-09-12 10:04:24,012] Trial 70 finished with value: 883897.6875 and parameters: {'out_channels': 103, 'kernel_size': 5, 'num_blocks': 3, 'l2_lambda': 0.0016418578176035674, 'dropout_rate': 0.16558020173037832, 'epochs': 14, 'lr': 0.003920539839024423}. Best is trial 47 with value: 70261.984375.\n",
      "[I 2024-09-12 10:04:26,407] Trial 71 finished with value: 468113.375 and parameters: {'out_channels': 76, 'kernel_size': 5, 'num_blocks': 4, 'l2_lambda': 0.003192207559341667, 'dropout_rate': 0.21148926691609685, 'epochs': 41, 'lr': 0.009734759036751318}. Best is trial 47 with value: 70261.984375.\n"
     ]
    },
    {
     "name": "stdout",
     "output_type": "stream",
     "text": [
      "Early stopping at epoch 27\n"
     ]
    },
    {
     "name": "stderr",
     "output_type": "stream",
     "text": [
      "[I 2024-09-12 10:04:28,231] Trial 72 finished with value: 1900477.0 and parameters: {'out_channels': 67, 'kernel_size': 5, 'num_blocks': 4, 'l2_lambda': 0.0023920799804081037, 'dropout_rate': 0.1726545389193178, 'epochs': 48, 'lr': 0.008692044081402532}. Best is trial 47 with value: 70261.984375.\n"
     ]
    },
    {
     "name": "stdout",
     "output_type": "stream",
     "text": [
      "Early stopping at epoch 20\n"
     ]
    },
    {
     "name": "stderr",
     "output_type": "stream",
     "text": [
      "[I 2024-09-12 10:04:31,791] Trial 73 finished with value: 1291029.125 and parameters: {'out_channels': 81, 'kernel_size': 5, 'num_blocks': 5, 'l2_lambda': 0.006607373379948188, 'dropout_rate': 0.19424777219457737, 'epochs': 33, 'lr': 0.009339315632965181}. Best is trial 47 with value: 70261.984375.\n",
      "[I 2024-09-12 10:04:34,951] Trial 74 finished with value: 570421.4375 and parameters: {'out_channels': 37, 'kernel_size': 5, 'num_blocks': 4, 'l2_lambda': 0.006287312934987834, 'dropout_rate': 0.19713699113140823, 'epochs': 44, 'lr': 0.008870073428837052}. Best is trial 47 with value: 70261.984375.\n",
      "[I 2024-09-12 10:04:38,375] Trial 75 finished with value: 201360.640625 and parameters: {'out_channels': 42, 'kernel_size': 4, 'num_blocks': 4, 'l2_lambda': 0.005625503921080414, 'dropout_rate': 0.26499063052936445, 'epochs': 39, 'lr': 0.009247865727801204}. Best is trial 47 with value: 70261.984375.\n",
      "[I 2024-09-12 10:04:40,273] Trial 76 finished with value: 1110848.75 and parameters: {'out_channels': 43, 'kernel_size': 4, 'num_blocks': 4, 'l2_lambda': 0.005625829043770723, 'dropout_rate': 0.27120077212574917, 'epochs': 52, 'lr': 0.0034229738835532967}. Best is trial 47 with value: 70261.984375.\n"
     ]
    },
    {
     "name": "stdout",
     "output_type": "stream",
     "text": [
      "Early stopping at epoch 20\n"
     ]
    },
    {
     "name": "stderr",
     "output_type": "stream",
     "text": [
      "[I 2024-09-12 10:04:42,859] Trial 77 finished with value: 227423.703125 and parameters: {'out_channels': 26, 'kernel_size': 4, 'num_blocks': 3, 'l2_lambda': 0.005235786162490871, 'dropout_rate': 0.2981134610317594, 'epochs': 38, 'lr': 0.008343457103409372}. Best is trial 47 with value: 70261.984375.\n",
      "[I 2024-09-12 10:04:46,400] Trial 78 finished with value: 237571.65625 and parameters: {'out_channels': 33, 'kernel_size': 4, 'num_blocks': 3, 'l2_lambda': 0.005791083568926167, 'dropout_rate': 0.25934102731737485, 'epochs': 55, 'lr': 0.0010425362311629763}. Best is trial 47 with value: 70261.984375.\n"
     ]
    },
    {
     "name": "stdout",
     "output_type": "stream",
     "text": [
      "Early stopping at epoch 49\n"
     ]
    },
    {
     "name": "stderr",
     "output_type": "stream",
     "text": [
      "[I 2024-09-12 10:04:48,778] Trial 79 finished with value: 1815235.75 and parameters: {'out_channels': 109, 'kernel_size': 4, 'num_blocks': 5, 'l2_lambda': 0.006892690279020728, 'dropout_rate': 0.4854015939398973, 'epochs': 35, 'lr': 0.0028581163211540525}. Best is trial 47 with value: 70261.984375.\n"
     ]
    },
    {
     "name": "stdout",
     "output_type": "stream",
     "text": [
      "Early stopping at epoch 16\n"
     ]
    },
    {
     "name": "stderr",
     "output_type": "stream",
     "text": [
      "[I 2024-09-12 10:04:49,632] Trial 80 finished with value: 4891098.5 and parameters: {'out_channels': 40, 'kernel_size': 4, 'num_blocks': 2, 'l2_lambda': 0.007595153814879721, 'dropout_rate': 0.12217543712030617, 'epochs': 97, 'lr': 0.007785620022668227}. Best is trial 47 with value: 70261.984375.\n"
     ]
    },
    {
     "name": "stdout",
     "output_type": "stream",
     "text": [
      "Early stopping at epoch 16\n"
     ]
    },
    {
     "name": "stderr",
     "output_type": "stream",
     "text": [
      "[I 2024-09-12 10:04:52,044] Trial 81 finished with value: 371156.375 and parameters: {'out_channels': 22, 'kernel_size': 4, 'num_blocks': 3, 'l2_lambda': 0.004519758862810551, 'dropout_rate': 0.30971022809565146, 'epochs': 38, 'lr': 0.008148378214729806}. Best is trial 47 with value: 70261.984375.\n",
      "[I 2024-09-12 10:04:54,487] Trial 82 finished with value: 35193.08203125 and parameters: {'out_channels': 16, 'kernel_size': 4, 'num_blocks': 3, 'l2_lambda': 0.005137938149107001, 'dropout_rate': 0.2977504181049092, 'epochs': 41, 'lr': 0.008958759152058045}. Best is trial 82 with value: 35193.08203125.\n"
     ]
    },
    {
     "name": "stdout",
     "output_type": "stream",
     "text": [
      "Early stopping at epoch 35\n"
     ]
    },
    {
     "name": "stderr",
     "output_type": "stream",
     "text": [
      "[I 2024-09-12 10:04:56,286] Trial 83 finished with value: 167988.796875 and parameters: {'out_channels': 17, 'kernel_size': 4, 'num_blocks': 3, 'l2_lambda': 0.005326178518623721, 'dropout_rate': 0.24259489556984268, 'epochs': 46, 'lr': 0.009311439982597057}. Best is trial 82 with value: 35193.08203125.\n"
     ]
    },
    {
     "name": "stdout",
     "output_type": "stream",
     "text": [
      "Early stopping at epoch 23\n"
     ]
    },
    {
     "name": "stderr",
     "output_type": "stream",
     "text": [
      "[I 2024-09-12 10:04:57,481] Trial 84 finished with value: 1770683.75 and parameters: {'out_channels': 16, 'kernel_size': 4, 'num_blocks': 3, 'l2_lambda': 0.005297213985967446, 'dropout_rate': 0.24520327548968918, 'epochs': 45, 'lr': 0.009258313706874969}. Best is trial 82 with value: 35193.08203125.\n"
     ]
    },
    {
     "name": "stdout",
     "output_type": "stream",
     "text": [
      "Early stopping at epoch 16\n"
     ]
    },
    {
     "name": "stderr",
     "output_type": "stream",
     "text": [
      "[I 2024-09-12 10:05:00,940] Trial 85 finished with value: 76940.5859375 and parameters: {'out_channels': 29, 'kernel_size': 4, 'num_blocks': 3, 'l2_lambda': 0.006190796085776103, 'dropout_rate': 0.2913771509307732, 'epochs': 48, 'lr': 0.00893345895031055}. Best is trial 82 with value: 35193.08203125.\n"
     ]
    },
    {
     "name": "stdout",
     "output_type": "stream",
     "text": [
      "Early stopping at epoch 46\n"
     ]
    },
    {
     "name": "stderr",
     "output_type": "stream",
     "text": [
      "[I 2024-09-12 10:05:04,119] Trial 86 finished with value: 242880.34375 and parameters: {'out_channels': 25, 'kernel_size': 4, 'num_blocks': 3, 'l2_lambda': 0.006148462872508333, 'dropout_rate': 0.2895525265141338, 'epochs': 47, 'lr': 0.008838319785065095}. Best is trial 82 with value: 35193.08203125.\n"
     ]
    },
    {
     "name": "stdout",
     "output_type": "stream",
     "text": [
      "Early stopping at epoch 43\n"
     ]
    },
    {
     "name": "stderr",
     "output_type": "stream",
     "text": [
      "[I 2024-09-12 10:05:05,218] Trial 87 finished with value: 1291515.375 and parameters: {'out_channels': 19, 'kernel_size': 3, 'num_blocks': 3, 'l2_lambda': 0.006383684521248191, 'dropout_rate': 0.321831953240292, 'epochs': 51, 'lr': 0.004884257294302863}. Best is trial 82 with value: 35193.08203125.\n"
     ]
    },
    {
     "name": "stdout",
     "output_type": "stream",
     "text": [
      "Early stopping at epoch 16\n"
     ]
    },
    {
     "name": "stderr",
     "output_type": "stream",
     "text": [
      "[I 2024-09-12 10:05:07,026] Trial 88 finished with value: 381742.0 and parameters: {'out_channels': 36, 'kernel_size': 4, 'num_blocks': 3, 'l2_lambda': 0.005947330243330549, 'dropout_rate': 0.26557092488773826, 'epochs': 59, 'lr': 0.0044371793564343225}. Best is trial 82 with value: 35193.08203125.\n"
     ]
    },
    {
     "name": "stdout",
     "output_type": "stream",
     "text": [
      "Early stopping at epoch 23\n"
     ]
    },
    {
     "name": "stderr",
     "output_type": "stream",
     "text": [
      "[I 2024-09-12 10:05:08,300] Trial 89 finished with value: 421089.96875 and parameters: {'out_channels': 29, 'kernel_size': 4, 'num_blocks': 3, 'l2_lambda': 0.005699187839664699, 'dropout_rate': 0.23487203742167112, 'epochs': 54, 'lr': 0.009006542793111909}. Best is trial 82 with value: 35193.08203125.\n"
     ]
    },
    {
     "name": "stdout",
     "output_type": "stream",
     "text": [
      "Early stopping at epoch 16\n"
     ]
    },
    {
     "name": "stderr",
     "output_type": "stream",
     "text": [
      "[I 2024-09-12 10:05:09,699] Trial 90 finished with value: 69815.3671875 and parameters: {'out_channels': 19, 'kernel_size': 4, 'num_blocks': 3, 'l2_lambda': 0.0070257181139554235, 'dropout_rate': 0.27967203488395476, 'epochs': 49, 'lr': 0.0099919638298811}. Best is trial 82 with value: 35193.08203125.\n"
     ]
    },
    {
     "name": "stdout",
     "output_type": "stream",
     "text": [
      "Early stopping at epoch 18\n"
     ]
    },
    {
     "name": "stderr",
     "output_type": "stream",
     "text": [
      "[I 2024-09-12 10:05:11,099] Trial 91 finished with value: 513958.03125 and parameters: {'out_channels': 19, 'kernel_size': 4, 'num_blocks': 3, 'l2_lambda': 0.007079178258680731, 'dropout_rate': 0.27741980767456514, 'epochs': 40, 'lr': 0.009870069016222801}. Best is trial 82 with value: 35193.08203125.\n"
     ]
    },
    {
     "name": "stdout",
     "output_type": "stream",
     "text": [
      "Early stopping at epoch 17\n"
     ]
    },
    {
     "name": "stderr",
     "output_type": "stream",
     "text": [
      "[I 2024-09-12 10:05:12,455] Trial 92 finished with value: 4498159.5 and parameters: {'out_channels': 23, 'kernel_size': 4, 'num_blocks': 3, 'l2_lambda': 0.0074583903740215955, 'dropout_rate': 0.25566479737439635, 'epochs': 49, 'lr': 0.009344138571655497}. Best is trial 82 with value: 35193.08203125.\n"
     ]
    },
    {
     "name": "stdout",
     "output_type": "stream",
     "text": [
      "Early stopping at epoch 16\n"
     ]
    },
    {
     "name": "stderr",
     "output_type": "stream",
     "text": [
      "[I 2024-09-12 10:05:14,041] Trial 93 finished with value: 3109067.5 and parameters: {'out_channels': 31, 'kernel_size': 4, 'num_blocks': 3, 'l2_lambda': 0.006531931014316566, 'dropout_rate': 0.2934252568117512, 'epochs': 65, 'lr': 0.0050773138020381876}. Best is trial 82 with value: 35193.08203125.\n"
     ]
    },
    {
     "name": "stdout",
     "output_type": "stream",
     "text": [
      "Early stopping at epoch 20\n"
     ]
    },
    {
     "name": "stderr",
     "output_type": "stream",
     "text": [
      "[I 2024-09-12 10:05:15,178] Trial 94 finished with value: 2057887.5 and parameters: {'out_channels': 29, 'kernel_size': 4, 'num_blocks': 3, 'l2_lambda': 0.00681286746192969, 'dropout_rate': 0.31551416126769, 'epochs': 45, 'lr': 0.0041864474667228325}. Best is trial 82 with value: 35193.08203125.\n"
     ]
    },
    {
     "name": "stdout",
     "output_type": "stream",
     "text": [
      "Early stopping at epoch 14\n"
     ]
    },
    {
     "name": "stderr",
     "output_type": "stream",
     "text": [
      "[I 2024-09-12 10:05:16,411] Trial 95 finished with value: 1411325.75 and parameters: {'out_channels': 19, 'kernel_size': 4, 'num_blocks': 3, 'l2_lambda': 0.00822408895905388, 'dropout_rate': 0.3053134026442034, 'epochs': 60, 'lr': 0.009996796539314422}. Best is trial 82 with value: 35193.08203125.\n"
     ]
    },
    {
     "name": "stdout",
     "output_type": "stream",
     "text": [
      "Early stopping at epoch 15\n"
     ]
    },
    {
     "name": "stderr",
     "output_type": "stream",
     "text": [
      "[I 2024-09-12 10:05:17,249] Trial 96 finished with value: 2084105.25 and parameters: {'out_channels': 26, 'kernel_size': 3, 'num_blocks': 2, 'l2_lambda': 0.00785571882502483, 'dropout_rate': 0.33310371732344307, 'epochs': 47, 'lr': 0.0054833902183159}. Best is trial 82 with value: 35193.08203125.\n"
     ]
    },
    {
     "name": "stdout",
     "output_type": "stream",
     "text": [
      "Early stopping at epoch 16\n"
     ]
    },
    {
     "name": "stderr",
     "output_type": "stream",
     "text": [
      "[I 2024-09-12 10:05:19,670] Trial 97 finished with value: 133549.609375 and parameters: {'out_channels': 17, 'kernel_size': 4, 'num_blocks': 3, 'l2_lambda': 0.005408889820296777, 'dropout_rate': 0.270722849696737, 'epochs': 55, 'lr': 0.00902478777630803}. Best is trial 82 with value: 35193.08203125.\n"
     ]
    },
    {
     "name": "stdout",
     "output_type": "stream",
     "text": [
      "Early stopping at epoch 32\n"
     ]
    },
    {
     "name": "stderr",
     "output_type": "stream",
     "text": [
      "[I 2024-09-12 10:05:20,711] Trial 98 finished with value: 697687.75 and parameters: {'out_channels': 16, 'kernel_size': 4, 'num_blocks': 3, 'l2_lambda': 0.0053501913092773665, 'dropout_rate': 0.27827299669664385, 'epochs': 55, 'lr': 0.003458993653984315}. Best is trial 82 with value: 35193.08203125.\n"
     ]
    },
    {
     "name": "stdout",
     "output_type": "stream",
     "text": [
      "Early stopping at epoch 13\n"
     ]
    },
    {
     "name": "stderr",
     "output_type": "stream",
     "text": [
      "[I 2024-09-12 10:05:22,367] Trial 99 finished with value: 601774.375 and parameters: {'out_channels': 21, 'kernel_size': 4, 'num_blocks': 3, 'l2_lambda': 0.00482267210354585, 'dropout_rate': 0.34767767245442094, 'epochs': 64, 'lr': 0.002185020687311501}. Best is trial 82 with value: 35193.08203125.\n",
      "[I 2024-09-12 10:05:22,407] A new study created in memory with name: no-name-45aca85e-cfee-4b82-b358-355283f65026\n"
     ]
    },
    {
     "name": "stdout",
     "output_type": "stream",
     "text": [
      "Early stopping at epoch 21\n",
      "parameters for NVDA saved to ../models/best-hyperparameters/pytorch/conv1d-regression/NVDA.json\n",
      "Best model for NVDA saved with RMSE: 35193.08203125\n",
      "Deleted NVDA from ../models/hyperparameters-search-models/ticker-all-models-best-hyperparameters-list.csv\n"
     ]
    },
    {
     "name": "stderr",
     "output_type": "stream",
     "text": [
      "[I 2024-09-12 10:05:23,005] Trial 0 finished with value: 0.6551724137931034 and parameters: {'sequence_length': 20, 'hidden_size': 46, 'num_layers': 1, 'num_blocks': 3, 'dropout_rate': 0.272419801112293, 'epochs': 875, 'lr': 0.002692560572352866}. Best is trial 0 with value: 0.6551724137931034.\n"
     ]
    },
    {
     "name": "stdout",
     "output_type": "stream",
     "text": [
      "Early stopping at epoch 14\n"
     ]
    },
    {
     "name": "stderr",
     "output_type": "stream",
     "text": [
      "[I 2024-09-12 10:05:23,523] Trial 1 finished with value: 0.55 and parameters: {'sequence_length': 7, 'hidden_size': 73, 'num_layers': 2, 'num_blocks': 1, 'dropout_rate': 0.3604095730500979, 'epochs': 187, 'lr': 0.005976773639918201}. Best is trial 0 with value: 0.6551724137931034.\n"
     ]
    },
    {
     "name": "stdout",
     "output_type": "stream",
     "text": [
      "Early stopping at epoch 19\n"
     ]
    },
    {
     "name": "stderr",
     "output_type": "stream",
     "text": [
      "[I 2024-09-12 10:05:24,154] Trial 2 finished with value: 0.6724137931034483 and parameters: {'sequence_length': 20, 'hidden_size': 30, 'num_layers': 1, 'num_blocks': 5, 'dropout_rate': 0.42959431891168287, 'epochs': 992, 'lr': 0.007467474369302968}. Best is trial 2 with value: 0.6724137931034483.\n"
     ]
    },
    {
     "name": "stdout",
     "output_type": "stream",
     "text": [
      "Early stopping at epoch 11\n"
     ]
    },
    {
     "name": "stderr",
     "output_type": "stream",
     "text": [
      "[I 2024-09-12 10:05:25,234] Trial 3 finished with value: 0.6206896551724138 and parameters: {'sequence_length': 20, 'hidden_size': 35, 'num_layers': 2, 'num_blocks': 3, 'dropout_rate': 0.35108472725424467, 'epochs': 888, 'lr': 0.0009806425315023286}. Best is trial 2 with value: 0.6724137931034483.\n"
     ]
    },
    {
     "name": "stdout",
     "output_type": "stream",
     "text": [
      "Early stopping at epoch 21\n"
     ]
    },
    {
     "name": "stderr",
     "output_type": "stream",
     "text": [
      "[I 2024-09-12 10:05:25,746] Trial 4 finished with value: 0.6949152542372882 and parameters: {'sequence_length': 14, 'hidden_size': 62, 'num_layers': 1, 'num_blocks': 1, 'dropout_rate': 0.11395792227022726, 'epochs': 712, 'lr': 0.0005992692879546617}. Best is trial 4 with value: 0.6949152542372882.\n"
     ]
    },
    {
     "name": "stdout",
     "output_type": "stream",
     "text": [
      "Early stopping at epoch 20\n"
     ]
    },
    {
     "name": "stderr",
     "output_type": "stream",
     "text": [
      "[I 2024-09-12 10:05:27,206] Trial 5 finished with value: 0.65 and parameters: {'sequence_length': 5, 'hidden_size': 51, 'num_layers': 3, 'num_blocks': 3, 'dropout_rate': 0.156499926221177, 'epochs': 733, 'lr': 0.006415740273303752}. Best is trial 4 with value: 0.6949152542372882.\n"
     ]
    },
    {
     "name": "stdout",
     "output_type": "stream",
     "text": [
      "Early stopping at epoch 29\n"
     ]
    },
    {
     "name": "stderr",
     "output_type": "stream",
     "text": [
      "[I 2024-09-12 10:05:27,739] Trial 6 finished with value: 0.6206896551724138 and parameters: {'sequence_length': 20, 'hidden_size': 18, 'num_layers': 2, 'num_blocks': 2, 'dropout_rate': 0.4824062698691556, 'epochs': 662, 'lr': 0.0016565109821619428}. Best is trial 4 with value: 0.6949152542372882.\n"
     ]
    },
    {
     "name": "stdout",
     "output_type": "stream",
     "text": [
      "Early stopping at epoch 13\n"
     ]
    },
    {
     "name": "stderr",
     "output_type": "stream",
     "text": [
      "[I 2024-09-12 10:05:29,097] Trial 7 finished with value: 0.6333333333333333 and parameters: {'sequence_length': 5, 'hidden_size': 24, 'num_layers': 2, 'num_blocks': 4, 'dropout_rate': 0.33083427271139987, 'epochs': 516, 'lr': 0.007061475333076883}. Best is trial 4 with value: 0.6949152542372882.\n"
     ]
    },
    {
     "name": "stdout",
     "output_type": "stream",
     "text": [
      "Early stopping at epoch 28\n"
     ]
    },
    {
     "name": "stderr",
     "output_type": "stream",
     "text": [
      "[I 2024-09-12 10:05:30,130] Trial 8 finished with value: 0.55 and parameters: {'sequence_length': 7, 'hidden_size': 40, 'num_layers': 3, 'num_blocks': 4, 'dropout_rate': 0.3050405121796505, 'epochs': 936, 'lr': 0.007807616947122039}. Best is trial 4 with value: 0.6949152542372882.\n"
     ]
    },
    {
     "name": "stdout",
     "output_type": "stream",
     "text": [
      "Early stopping at epoch 17\n"
     ]
    },
    {
     "name": "stderr",
     "output_type": "stream",
     "text": [
      "[I 2024-09-12 10:05:30,706] Trial 9 finished with value: 0.65 and parameters: {'sequence_length': 5, 'hidden_size': 124, 'num_layers': 2, 'num_blocks': 2, 'dropout_rate': 0.4584561629955224, 'epochs': 129, 'lr': 0.0014287011319046822}. Best is trial 4 with value: 0.6949152542372882.\n"
     ]
    },
    {
     "name": "stdout",
     "output_type": "stream",
     "text": [
      "Early stopping at epoch 16\n"
     ]
    },
    {
     "name": "stderr",
     "output_type": "stream",
     "text": [
      "[I 2024-09-12 10:05:31,151] Trial 10 finished with value: 0.6440677966101694 and parameters: {'sequence_length': 14, 'hidden_size': 88, 'num_layers': 1, 'num_blocks': 1, 'dropout_rate': 0.13986191500013234, 'epochs': 405, 'lr': 0.003701373328344374}. Best is trial 4 with value: 0.6949152542372882.\n"
     ]
    },
    {
     "name": "stdout",
     "output_type": "stream",
     "text": [
      "Early stopping at epoch 18\n"
     ]
    },
    {
     "name": "stderr",
     "output_type": "stream",
     "text": [
      "[I 2024-09-12 10:05:31,795] Trial 11 finished with value: 0.6666666666666666 and parameters: {'sequence_length': 30, 'hidden_size': 65, 'num_layers': 1, 'num_blocks': 5, 'dropout_rate': 0.22755077060341514, 'epochs': 997, 'lr': 0.00892970538301248}. Best is trial 4 with value: 0.6949152542372882.\n"
     ]
    },
    {
     "name": "stdout",
     "output_type": "stream",
     "text": [
      "Early stopping at epoch 10\n"
     ]
    },
    {
     "name": "stderr",
     "output_type": "stream",
     "text": [
      "[I 2024-09-12 10:05:32,582] Trial 12 finished with value: 0.6271186440677966 and parameters: {'sequence_length': 14, 'hidden_size': 94, 'num_layers': 1, 'num_blocks': 5, 'dropout_rate': 0.41661131149860037, 'epochs': 717, 'lr': 0.004245318824696746}. Best is trial 4 with value: 0.6949152542372882.\n"
     ]
    },
    {
     "name": "stdout",
     "output_type": "stream",
     "text": [
      "Early stopping at epoch 14\n"
     ]
    },
    {
     "name": "stderr",
     "output_type": "stream",
     "text": [
      "[I 2024-09-12 10:05:33,780] Trial 13 finished with value: 0.6610169491525424 and parameters: {'sequence_length': 14, 'hidden_size': 68, 'num_layers': 1, 'num_blocks': 4, 'dropout_rate': 0.20507551785560074, 'epochs': 394, 'lr': 0.009587008641055512}. Best is trial 4 with value: 0.6949152542372882.\n"
     ]
    },
    {
     "name": "stdout",
     "output_type": "stream",
     "text": [
      "Early stopping at epoch 26\n"
     ]
    },
    {
     "name": "stderr",
     "output_type": "stream",
     "text": [
      "[I 2024-09-12 10:05:34,179] Trial 14 finished with value: 0.5614035087719298 and parameters: {'sequence_length': 30, 'hidden_size': 57, 'num_layers': 1, 'num_blocks': 2, 'dropout_rate': 0.10148373911556341, 'epochs': 783, 'lr': 6.990622107718163e-05}. Best is trial 4 with value: 0.6949152542372882.\n"
     ]
    },
    {
     "name": "stdout",
     "output_type": "stream",
     "text": [
      "Early stopping at epoch 10\n"
     ]
    },
    {
     "name": "stderr",
     "output_type": "stream",
     "text": [
      "[I 2024-09-12 10:05:35,060] Trial 15 finished with value: 0.6101694915254238 and parameters: {'sequence_length': 14, 'hidden_size': 83, 'num_layers': 1, 'num_blocks': 5, 'dropout_rate': 0.41298654998877515, 'epochs': 541, 'lr': 0.00519750099192357}. Best is trial 4 with value: 0.6949152542372882.\n"
     ]
    },
    {
     "name": "stdout",
     "output_type": "stream",
     "text": [
      "Early stopping at epoch 15\n"
     ]
    },
    {
     "name": "stderr",
     "output_type": "stream",
     "text": [
      "[I 2024-09-12 10:05:35,413] Trial 16 finished with value: 0.6896551724137931 and parameters: {'sequence_length': 20, 'hidden_size': 104, 'num_layers': 1, 'num_blocks': 1, 'dropout_rate': 0.2496492198984912, 'epochs': 627, 'lr': 0.008414672262036758}. Best is trial 4 with value: 0.6949152542372882.\n"
     ]
    },
    {
     "name": "stdout",
     "output_type": "stream",
     "text": [
      "Early stopping at epoch 10\n"
     ]
    },
    {
     "name": "stderr",
     "output_type": "stream",
     "text": [
      "[I 2024-09-12 10:05:35,896] Trial 17 finished with value: 0.6440677966101694 and parameters: {'sequence_length': 14, 'hidden_size': 108, 'num_layers': 3, 'num_blocks': 1, 'dropout_rate': 0.24500130915152743, 'epochs': 635, 'lr': 0.0034016560191682827}. Best is trial 4 with value: 0.6949152542372882.\n"
     ]
    },
    {
     "name": "stdout",
     "output_type": "stream",
     "text": [
      "Early stopping at epoch 13\n"
     ]
    },
    {
     "name": "stderr",
     "output_type": "stream",
     "text": [
      "[I 2024-09-12 10:05:36,368] Trial 18 finished with value: 0.6551724137931034 and parameters: {'sequence_length': 20, 'hidden_size': 113, 'num_layers': 1, 'num_blocks': 1, 'dropout_rate': 0.17954616212866925, 'epochs': 436, 'lr': 0.008447369581764973}. Best is trial 4 with value: 0.6949152542372882.\n"
     ]
    },
    {
     "name": "stdout",
     "output_type": "stream",
     "text": [
      "Early stopping at epoch 17\n"
     ]
    },
    {
     "name": "stderr",
     "output_type": "stream",
     "text": [
      "[I 2024-09-12 10:05:36,915] Trial 19 finished with value: 0.5333333333333333 and parameters: {'sequence_length': 7, 'hidden_size': 105, 'num_layers': 2, 'num_blocks': 2, 'dropout_rate': 0.10265809885365856, 'epochs': 810, 'lr': 0.005084353038997874}. Best is trial 4 with value: 0.6949152542372882.\n"
     ]
    },
    {
     "name": "stdout",
     "output_type": "stream",
     "text": [
      "Early stopping at epoch 12\n"
     ]
    },
    {
     "name": "stderr",
     "output_type": "stream",
     "text": [
      "[I 2024-09-12 10:05:37,252] Trial 20 finished with value: 0.40350877192982454 and parameters: {'sequence_length': 30, 'hidden_size': 127, 'num_layers': 1, 'num_blocks': 1, 'dropout_rate': 0.27382744047392044, 'epochs': 307, 'lr': 3.2036725611180126e-05}. Best is trial 4 with value: 0.6949152542372882.\n"
     ]
    },
    {
     "name": "stdout",
     "output_type": "stream",
     "text": [
      "Early stopping at epoch 10\n"
     ]
    },
    {
     "name": "stderr",
     "output_type": "stream",
     "text": [
      "[I 2024-09-12 10:05:37,679] Trial 21 finished with value: 0.6724137931034483 and parameters: {'sequence_length': 20, 'hidden_size': 31, 'num_layers': 1, 'num_blocks': 2, 'dropout_rate': 0.3900919895032565, 'epochs': 618, 'lr': 0.007517884314786714}. Best is trial 4 with value: 0.6949152542372882.\n"
     ]
    },
    {
     "name": "stdout",
     "output_type": "stream",
     "text": [
      "Early stopping at epoch 12\n"
     ]
    },
    {
     "name": "stderr",
     "output_type": "stream",
     "text": [
      "[I 2024-09-12 10:05:38,132] Trial 22 finished with value: 0.6206896551724138 and parameters: {'sequence_length': 20, 'hidden_size': 75, 'num_layers': 1, 'num_blocks': 3, 'dropout_rate': 0.49996762816018187, 'epochs': 1000, 'lr': 0.00973937585486399}. Best is trial 4 with value: 0.6949152542372882.\n"
     ]
    },
    {
     "name": "stdout",
     "output_type": "stream",
     "text": [
      "Early stopping at epoch 10\n"
     ]
    },
    {
     "name": "stderr",
     "output_type": "stream",
     "text": [
      "[I 2024-09-12 10:05:38,726] Trial 23 finished with value: 0.6551724137931034 and parameters: {'sequence_length': 20, 'hidden_size': 97, 'num_layers': 1, 'num_blocks': 1, 'dropout_rate': 0.20230549361868005, 'epochs': 815, 'lr': 0.006307547531953084}. Best is trial 4 with value: 0.6949152542372882.\n"
     ]
    },
    {
     "name": "stdout",
     "output_type": "stream",
     "text": [
      "Early stopping at epoch 22\n"
     ]
    },
    {
     "name": "stderr",
     "output_type": "stream",
     "text": [
      "[I 2024-09-12 10:05:39,289] Trial 24 finished with value: 0.6379310344827587 and parameters: {'sequence_length': 20, 'hidden_size': 60, 'num_layers': 1, 'num_blocks': 4, 'dropout_rate': 0.44670633847700203, 'epochs': 576, 'lr': 0.008571530910061432}. Best is trial 4 with value: 0.6949152542372882.\n"
     ]
    },
    {
     "name": "stdout",
     "output_type": "stream",
     "text": [
      "Early stopping at epoch 10\n"
     ]
    },
    {
     "name": "stderr",
     "output_type": "stream",
     "text": [
      "[I 2024-09-12 10:05:40,069] Trial 25 finished with value: 0.6610169491525424 and parameters: {'sequence_length': 14, 'hidden_size': 81, 'num_layers': 2, 'num_blocks': 2, 'dropout_rate': 0.30522826437204914, 'epochs': 704, 'lr': 0.007740234817418803}. Best is trial 4 with value: 0.6949152542372882.\n"
     ]
    },
    {
     "name": "stdout",
     "output_type": "stream",
     "text": [
      "Early stopping at epoch 20\n"
     ]
    },
    {
     "name": "stderr",
     "output_type": "stream",
     "text": [
      "[I 2024-09-12 10:05:40,619] Trial 26 finished with value: 0.6551724137931034 and parameters: {'sequence_length': 20, 'hidden_size': 50, 'num_layers': 1, 'num_blocks': 1, 'dropout_rate': 0.2640156298298233, 'epochs': 489, 'lr': 0.006902769336077314}. Best is trial 4 with value: 0.6949152542372882.\n"
     ]
    },
    {
     "name": "stdout",
     "output_type": "stream",
     "text": [
      "Early stopping at epoch 22\n"
     ]
    },
    {
     "name": "stderr",
     "output_type": "stream",
     "text": [
      "[I 2024-09-12 10:05:42,425] Trial 27 finished with value: 0.6551724137931034 and parameters: {'sequence_length': 20, 'hidden_size': 118, 'num_layers': 1, 'num_blocks': 5, 'dropout_rate': 0.3788025050218224, 'epochs': 320, 'lr': 0.008955902526676865}. Best is trial 4 with value: 0.6949152542372882.\n"
     ]
    },
    {
     "name": "stdout",
     "output_type": "stream",
     "text": [
      "Early stopping at epoch 31\n"
     ]
    },
    {
     "name": "stderr",
     "output_type": "stream",
     "text": [
      "[I 2024-09-12 10:05:42,854] Trial 28 finished with value: 0.6440677966101694 and parameters: {'sequence_length': 14, 'hidden_size': 17, 'num_layers': 2, 'num_blocks': 2, 'dropout_rate': 0.12637258353186004, 'epochs': 765, 'lr': 0.005757050680000824}. Best is trial 4 with value: 0.6949152542372882.\n"
     ]
    },
    {
     "name": "stdout",
     "output_type": "stream",
     "text": [
      "Early stopping at epoch 11\n"
     ]
    },
    {
     "name": "stderr",
     "output_type": "stream",
     "text": [
      "[I 2024-09-12 10:05:43,452] Trial 29 finished with value: 0.6206896551724138 and parameters: {'sequence_length': 20, 'hidden_size': 100, 'num_layers': 1, 'num_blocks': 3, 'dropout_rate': 0.169357766454861, 'epochs': 865, 'lr': 0.002740150570073119}. Best is trial 4 with value: 0.6949152542372882.\n"
     ]
    },
    {
     "name": "stdout",
     "output_type": "stream",
     "text": [
      "Early stopping at epoch 13\n"
     ]
    },
    {
     "name": "stderr",
     "output_type": "stream",
     "text": [
      "[I 2024-09-12 10:05:44,383] Trial 30 finished with value: 0.65 and parameters: {'sequence_length': 5, 'hidden_size': 42, 'num_layers': 1, 'num_blocks': 4, 'dropout_rate': 0.2174913920106731, 'epochs': 911, 'lr': 0.004584726815249155}. Best is trial 4 with value: 0.6949152542372882.\n"
     ]
    },
    {
     "name": "stdout",
     "output_type": "stream",
     "text": [
      "Early stopping at epoch 20\n"
     ]
    },
    {
     "name": "stderr",
     "output_type": "stream",
     "text": [
      "[I 2024-09-12 10:05:44,763] Trial 31 finished with value: 0.6206896551724138 and parameters: {'sequence_length': 20, 'hidden_size': 30, 'num_layers': 1, 'num_blocks': 2, 'dropout_rate': 0.4015095170512654, 'epochs': 606, 'lr': 0.007736592038569534}. Best is trial 4 with value: 0.6949152542372882.\n"
     ]
    },
    {
     "name": "stdout",
     "output_type": "stream",
     "text": [
      "Early stopping at epoch 10\n"
     ]
    },
    {
     "name": "stderr",
     "output_type": "stream",
     "text": [
      "[I 2024-09-12 10:05:45,144] Trial 32 finished with value: 0.6724137931034483 and parameters: {'sequence_length': 20, 'hidden_size': 30, 'num_layers': 1, 'num_blocks': 1, 'dropout_rate': 0.3790532646417905, 'epochs': 639, 'lr': 0.008118668377675201}. Best is trial 4 with value: 0.6949152542372882.\n"
     ]
    },
    {
     "name": "stdout",
     "output_type": "stream",
     "text": [
      "Early stopping at epoch 13\n"
     ]
    },
    {
     "name": "stderr",
     "output_type": "stream",
     "text": [
      "[I 2024-09-12 10:05:45,675] Trial 33 finished with value: 0.6724137931034483 and parameters: {'sequence_length': 20, 'hidden_size': 38, 'num_layers': 1, 'num_blocks': 2, 'dropout_rate': 0.33656879303290255, 'epochs': 472, 'lr': 0.007124301846950869}. Best is trial 4 with value: 0.6949152542372882.\n"
     ]
    },
    {
     "name": "stdout",
     "output_type": "stream",
     "text": [
      "Early stopping at epoch 15\n"
     ]
    },
    {
     "name": "stderr",
     "output_type": "stream",
     "text": [
      "[I 2024-09-12 10:05:46,189] Trial 34 finished with value: 0.5666666666666667 and parameters: {'sequence_length': 7, 'hidden_size': 30, 'num_layers': 1, 'num_blocks': 1, 'dropout_rate': 0.43692753558919983, 'epochs': 672, 'lr': 0.00578276205364337}. Best is trial 4 with value: 0.6949152542372882.\n"
     ]
    },
    {
     "name": "stdout",
     "output_type": "stream",
     "text": [
      "Early stopping at epoch 21\n"
     ]
    },
    {
     "name": "stderr",
     "output_type": "stream",
     "text": [
      "[I 2024-09-12 10:05:46,966] Trial 35 finished with value: 0.6724137931034483 and parameters: {'sequence_length': 20, 'hidden_size': 52, 'num_layers': 2, 'num_blocks': 3, 'dropout_rate': 0.3863839307953308, 'epochs': 576, 'lr': 0.009303789756146645}. Best is trial 4 with value: 0.6949152542372882.\n"
     ]
    },
    {
     "name": "stdout",
     "output_type": "stream",
     "text": [
      "Early stopping at epoch 14\n"
     ]
    },
    {
     "name": "stderr",
     "output_type": "stream",
     "text": [
      "[I 2024-09-12 10:05:47,274] Trial 36 finished with value: 0.6379310344827587 and parameters: {'sequence_length': 20, 'hidden_size': 24, 'num_layers': 1, 'num_blocks': 1, 'dropout_rate': 0.35606436708245137, 'epochs': 743, 'lr': 0.007240325667377739}. Best is trial 4 with value: 0.6949152542372882.\n"
     ]
    },
    {
     "name": "stdout",
     "output_type": "stream",
     "text": [
      "Early stopping at epoch 10\n"
     ]
    },
    {
     "name": "stderr",
     "output_type": "stream",
     "text": [
      "[I 2024-09-12 10:05:47,875] Trial 37 finished with value: 0.6551724137931034 and parameters: {'sequence_length': 20, 'hidden_size': 74, 'num_layers': 2, 'num_blocks': 2, 'dropout_rate': 0.47040381019016986, 'epochs': 684, 'lr': 0.009991233883032748}. Best is trial 4 with value: 0.6949152542372882.\n"
     ]
    },
    {
     "name": "stdout",
     "output_type": "stream",
     "text": [
      "Early stopping at epoch 14\n"
     ]
    },
    {
     "name": "stderr",
     "output_type": "stream",
     "text": [
      "[I 2024-09-12 10:05:48,827] Trial 38 finished with value: 0.6666666666666666 and parameters: {'sequence_length': 5, 'hidden_size': 46, 'num_layers': 3, 'num_blocks': 3, 'dropout_rate': 0.43505090111666395, 'epochs': 940, 'lr': 0.006559019773163731}. Best is trial 4 with value: 0.6949152542372882.\n"
     ]
    },
    {
     "name": "stdout",
     "output_type": "stream",
     "text": [
      "Early stopping at epoch 20\n"
     ]
    },
    {
     "name": "stderr",
     "output_type": "stream",
     "text": [
      "[I 2024-09-12 10:05:49,218] Trial 39 finished with value: 0.55 and parameters: {'sequence_length': 7, 'hidden_size': 34, 'num_layers': 2, 'num_blocks': 1, 'dropout_rate': 0.32222638399944353, 'epochs': 842, 'lr': 0.0025486307977035643}. Best is trial 4 with value: 0.6949152542372882.\n"
     ]
    },
    {
     "name": "stdout",
     "output_type": "stream",
     "text": [
      "Early stopping at epoch 12\n"
     ]
    },
    {
     "name": "stderr",
     "output_type": "stream",
     "text": [
      "[I 2024-09-12 10:05:49,819] Trial 40 finished with value: 0.5964912280701754 and parameters: {'sequence_length': 30, 'hidden_size': 23, 'num_layers': 1, 'num_blocks': 2, 'dropout_rate': 0.27615167418295206, 'epochs': 613, 'lr': 0.0008814412293019986}. Best is trial 4 with value: 0.6949152542372882.\n"
     ]
    },
    {
     "name": "stdout",
     "output_type": "stream",
     "text": [
      "Early stopping at epoch 15\n"
     ]
    },
    {
     "name": "stderr",
     "output_type": "stream",
     "text": [
      "[I 2024-09-12 10:05:50,357] Trial 41 finished with value: 0.6379310344827587 and parameters: {'sequence_length': 20, 'hidden_size': 30, 'num_layers': 1, 'num_blocks': 1, 'dropout_rate': 0.3805997324204551, 'epochs': 525, 'lr': 0.008506580162226442}. Best is trial 4 with value: 0.6949152542372882.\n"
     ]
    },
    {
     "name": "stdout",
     "output_type": "stream",
     "text": [
      "Early stopping at epoch 18\n"
     ]
    },
    {
     "name": "stderr",
     "output_type": "stream",
     "text": [
      "[I 2024-09-12 10:05:50,793] Trial 42 finished with value: 0.6206896551724138 and parameters: {'sequence_length': 20, 'hidden_size': 42, 'num_layers': 1, 'num_blocks': 1, 'dropout_rate': 0.3626089539918914, 'epochs': 647, 'lr': 0.007957026586158687}. Best is trial 4 with value: 0.6949152542372882.\n"
     ]
    },
    {
     "name": "stdout",
     "output_type": "stream",
     "text": [
      "Early stopping at epoch 14\n"
     ]
    },
    {
     "name": "stderr",
     "output_type": "stream",
     "text": [
      "[I 2024-09-12 10:05:51,116] Trial 43 finished with value: 0.6724137931034483 and parameters: {'sequence_length': 20, 'hidden_size': 21, 'num_layers': 1, 'num_blocks': 1, 'dropout_rate': 0.40360665075041763, 'epochs': 583, 'lr': 0.00805987325679278}. Best is trial 4 with value: 0.6949152542372882.\n"
     ]
    },
    {
     "name": "stdout",
     "output_type": "stream",
     "text": [
      "Early stopping at epoch 10\n"
     ]
    },
    {
     "name": "stderr",
     "output_type": "stream",
     "text": [
      "[I 2024-09-12 10:05:51,532] Trial 44 finished with value: 0.6379310344827587 and parameters: {'sequence_length': 20, 'hidden_size': 36, 'num_layers': 1, 'num_blocks': 1, 'dropout_rate': 0.42635204591056336, 'epochs': 721, 'lr': 0.007410196492292175}. Best is trial 4 with value: 0.6949152542372882.\n"
     ]
    },
    {
     "name": "stdout",
     "output_type": "stream",
     "text": [
      "Early stopping at epoch 13\n"
     ]
    },
    {
     "name": "stderr",
     "output_type": "stream",
     "text": [
      "[I 2024-09-12 10:05:52,031] Trial 45 finished with value: 0.6440677966101694 and parameters: {'sequence_length': 14, 'hidden_size': 58, 'num_layers': 1, 'num_blocks': 2, 'dropout_rate': 0.46335098163316546, 'epochs': 666, 'lr': 0.009098372009667685}. Best is trial 4 with value: 0.6949152542372882.\n"
     ]
    },
    {
     "name": "stdout",
     "output_type": "stream",
     "text": [
      "Early stopping at epoch 13\n"
     ]
    },
    {
     "name": "stderr",
     "output_type": "stream",
     "text": [
      "[I 2024-09-12 10:05:52,850] Trial 46 finished with value: 0.6724137931034483 and parameters: {'sequence_length': 20, 'hidden_size': 90, 'num_layers': 1, 'num_blocks': 2, 'dropout_rate': 0.3364204473072351, 'epochs': 765, 'lr': 0.006525041189443081}. Best is trial 4 with value: 0.6949152542372882.\n"
     ]
    },
    {
     "name": "stdout",
     "output_type": "stream",
     "text": [
      "Early stopping at epoch 23\n"
     ]
    },
    {
     "name": "stderr",
     "output_type": "stream",
     "text": [
      "[I 2024-09-12 10:05:53,150] Trial 47 finished with value: 0.6166666666666667 and parameters: {'sequence_length': 5, 'hidden_size': 28, 'num_layers': 1, 'num_blocks': 1, 'dropout_rate': 0.2967534785135194, 'epochs': 539, 'lr': 0.008433354482571102}. Best is trial 4 with value: 0.6949152542372882.\n"
     ]
    },
    {
     "name": "stdout",
     "output_type": "stream",
     "text": [
      "Early stopping at epoch 10\n"
     ]
    },
    {
     "name": "stderr",
     "output_type": "stream",
     "text": [
      "[I 2024-09-12 10:05:53,715] Trial 48 finished with value: 0.6101694915254238 and parameters: {'sequence_length': 14, 'hidden_size': 16, 'num_layers': 1, 'num_blocks': 4, 'dropout_rate': 0.3685818292417607, 'epochs': 337, 'lr': 0.005505225426027801}. Best is trial 4 with value: 0.6949152542372882.\n"
     ]
    },
    {
     "name": "stdout",
     "output_type": "stream",
     "text": [
      "Early stopping at epoch 10\n"
     ]
    },
    {
     "name": "stderr",
     "output_type": "stream",
     "text": [
      "[I 2024-09-12 10:05:54,316] Trial 49 finished with value: 0.6491228070175439 and parameters: {'sequence_length': 30, 'hidden_size': 46, 'num_layers': 3, 'num_blocks': 1, 'dropout_rate': 0.24322198740087947, 'epochs': 625, 'lr': 0.007494817287643503}. Best is trial 4 with value: 0.6949152542372882.\n"
     ]
    },
    {
     "name": "stdout",
     "output_type": "stream",
     "text": [
      "Early stopping at epoch 19\n"
     ]
    },
    {
     "name": "stderr",
     "output_type": "stream",
     "text": [
      "[I 2024-09-12 10:05:55,107] Trial 50 finished with value: 0.6724137931034483 and parameters: {'sequence_length': 20, 'hidden_size': 66, 'num_layers': 1, 'num_blocks': 5, 'dropout_rate': 0.39311035226587454, 'epochs': 485, 'lr': 0.0067235355259550895}. Best is trial 4 with value: 0.6949152542372882.\n"
     ]
    },
    {
     "name": "stdout",
     "output_type": "stream",
     "text": [
      "Early stopping at epoch 13\n"
     ]
    },
    {
     "name": "stderr",
     "output_type": "stream",
     "text": [
      "[I 2024-09-12 10:05:55,571] Trial 51 finished with value: 0.6206896551724138 and parameters: {'sequence_length': 20, 'hidden_size': 37, 'num_layers': 1, 'num_blocks': 2, 'dropout_rate': 0.342703392257831, 'epochs': 428, 'lr': 0.008147640067085491}. Best is trial 4 with value: 0.6949152542372882.\n"
     ]
    },
    {
     "name": "stdout",
     "output_type": "stream",
     "text": [
      "Early stopping at epoch 13\n"
     ]
    },
    {
     "name": "stderr",
     "output_type": "stream",
     "text": [
      "[I 2024-09-12 10:05:56,058] Trial 52 finished with value: 0.6206896551724138 and parameters: {'sequence_length': 20, 'hidden_size': 39, 'num_layers': 1, 'num_blocks': 3, 'dropout_rate': 0.31896042290241244, 'epochs': 251, 'lr': 0.006984794146362288}. Best is trial 4 with value: 0.6949152542372882.\n"
     ]
    },
    {
     "name": "stdout",
     "output_type": "stream",
     "text": [
      "Early stopping at epoch 11\n"
     ]
    },
    {
     "name": "stderr",
     "output_type": "stream",
     "text": [
      "[I 2024-09-12 10:05:56,470] Trial 53 finished with value: 0.6896551724137931 and parameters: {'sequence_length': 20, 'hidden_size': 33, 'num_layers': 1, 'num_blocks': 2, 'dropout_rate': 0.4165975099105097, 'epochs': 461, 'lr': 0.007399654427210974}. Best is trial 4 with value: 0.6949152542372882.\n"
     ]
    },
    {
     "name": "stdout",
     "output_type": "stream",
     "text": [
      "Early stopping at epoch 11\n"
     ]
    },
    {
     "name": "stderr",
     "output_type": "stream",
     "text": [
      "[I 2024-09-12 10:05:56,797] Trial 54 finished with value: 0.6206896551724138 and parameters: {'sequence_length': 20, 'hidden_size': 26, 'num_layers': 1, 'num_blocks': 1, 'dropout_rate': 0.4164889788064392, 'epochs': 374, 'lr': 0.006180300152823042}. Best is trial 4 with value: 0.6949152542372882.\n"
     ]
    },
    {
     "name": "stdout",
     "output_type": "stream",
     "text": [
      "Early stopping at epoch 10\n"
     ]
    },
    {
     "name": "stderr",
     "output_type": "stream",
     "text": [
      "[I 2024-09-12 10:05:57,515] Trial 55 finished with value: 0.5333333333333333 and parameters: {'sequence_length': 7, 'hidden_size': 33, 'num_layers': 1, 'num_blocks': 3, 'dropout_rate': 0.4868857530099022, 'epochs': 461, 'lr': 0.008741557100997947}. Best is trial 4 with value: 0.6949152542372882.\n"
     ]
    },
    {
     "name": "stdout",
     "output_type": "stream",
     "text": [
      "Early stopping at epoch 17\n"
     ]
    },
    {
     "name": "stderr",
     "output_type": "stream",
     "text": [
      "[I 2024-09-12 10:05:58,030] Trial 56 finished with value: 0.6440677966101694 and parameters: {'sequence_length': 14, 'hidden_size': 53, 'num_layers': 1, 'num_blocks': 1, 'dropout_rate': 0.4466746921911978, 'epochs': 544, 'lr': 0.007521185512051005}. Best is trial 4 with value: 0.6949152542372882.\n"
     ]
    },
    {
     "name": "stdout",
     "output_type": "stream",
     "text": [
      "Early stopping at epoch 18\n"
     ]
    },
    {
     "name": "stderr",
     "output_type": "stream",
     "text": [
      "[I 2024-09-12 10:05:58,544] Trial 57 finished with value: 0.6551724137931034 and parameters: {'sequence_length': 20, 'hidden_size': 20, 'num_layers': 1, 'num_blocks': 2, 'dropout_rate': 0.4504347211552828, 'epochs': 505, 'lr': 0.009396698736603783}. Best is trial 4 with value: 0.6949152542372882.\n"
     ]
    },
    {
     "name": "stdout",
     "output_type": "stream",
     "text": [
      "Early stopping at epoch 12\n"
     ]
    },
    {
     "name": "stderr",
     "output_type": "stream",
     "text": [
      "[I 2024-09-12 10:05:59,259] Trial 58 finished with value: 0.6896551724137931 and parameters: {'sequence_length': 20, 'hidden_size': 62, 'num_layers': 1, 'num_blocks': 1, 'dropout_rate': 0.421453794612975, 'epochs': 946, 'lr': 0.008194780164901546}. Best is trial 4 with value: 0.6949152542372882.\n"
     ]
    },
    {
     "name": "stdout",
     "output_type": "stream",
     "text": [
      "Early stopping at epoch 25\n"
     ]
    },
    {
     "name": "stderr",
     "output_type": "stream",
     "text": [
      "[I 2024-09-12 10:06:00,000] Trial 59 finished with value: 0.6440677966101694 and parameters: {'sequence_length': 14, 'hidden_size': 81, 'num_layers': 1, 'num_blocks': 3, 'dropout_rate': 0.1349234625596147, 'epochs': 954, 'lr': 0.0036420299461743747}. Best is trial 4 with value: 0.6949152542372882.\n"
     ]
    },
    {
     "name": "stdout",
     "output_type": "stream",
     "text": [
      "Early stopping at epoch 17\n"
     ]
    },
    {
     "name": "stderr",
     "output_type": "stream",
     "text": [
      "[I 2024-09-12 10:06:00,667] Trial 60 finished with value: 0.6551724137931034 and parameters: {'sequence_length': 20, 'hidden_size': 61, 'num_layers': 2, 'num_blocks': 2, 'dropout_rate': 0.42727279197791845, 'epochs': 914, 'lr': 0.004253455707256005}. Best is trial 4 with value: 0.6949152542372882.\n"
     ]
    },
    {
     "name": "stdout",
     "output_type": "stream",
     "text": [
      "Early stopping at epoch 17\n"
     ]
    },
    {
     "name": "stderr",
     "output_type": "stream",
     "text": [
      "[I 2024-09-12 10:06:01,021] Trial 61 finished with value: 0.6896551724137931 and parameters: {'sequence_length': 20, 'hidden_size': 63, 'num_layers': 1, 'num_blocks': 1, 'dropout_rate': 0.40610297681592356, 'epochs': 978, 'lr': 0.00828446829019501}. Best is trial 4 with value: 0.6949152542372882.\n"
     ]
    },
    {
     "name": "stdout",
     "output_type": "stream",
     "text": [
      "Early stopping at epoch 12\n"
     ]
    },
    {
     "name": "stderr",
     "output_type": "stream",
     "text": [
      "[I 2024-09-12 10:06:01,458] Trial 62 finished with value: 0.6896551724137931 and parameters: {'sequence_length': 20, 'hidden_size': 72, 'num_layers': 1, 'num_blocks': 1, 'dropout_rate': 0.40858520050696023, 'epochs': 964, 'lr': 0.008251762811757723}. Best is trial 4 with value: 0.6949152542372882.\n"
     ]
    },
    {
     "name": "stdout",
     "output_type": "stream",
     "text": [
      "Early stopping at epoch 15\n"
     ]
    },
    {
     "name": "stderr",
     "output_type": "stream",
     "text": [
      "[I 2024-09-12 10:06:01,929] Trial 63 finished with value: 0.6551724137931034 and parameters: {'sequence_length': 20, 'hidden_size': 69, 'num_layers': 1, 'num_blocks': 1, 'dropout_rate': 0.40436318183428954, 'epochs': 975, 'lr': 0.0083037335510918}. Best is trial 4 with value: 0.6949152542372882.\n"
     ]
    },
    {
     "name": "stdout",
     "output_type": "stream",
     "text": [
      "Early stopping at epoch 17\n"
     ]
    },
    {
     "name": "stderr",
     "output_type": "stream",
     "text": [
      "[I 2024-09-12 10:06:02,392] Trial 64 finished with value: 0.6896551724137931 and parameters: {'sequence_length': 20, 'hidden_size': 78, 'num_layers': 1, 'num_blocks': 1, 'dropout_rate': 0.4174081168796807, 'epochs': 893, 'lr': 0.008740859124412413}. Best is trial 4 with value: 0.6949152542372882.\n"
     ]
    },
    {
     "name": "stdout",
     "output_type": "stream",
     "text": [
      "Early stopping at epoch 16\n"
     ]
    },
    {
     "name": "stderr",
     "output_type": "stream",
     "text": [
      "[I 2024-09-12 10:06:02,996] Trial 65 finished with value: 0.6896551724137931 and parameters: {'sequence_length': 20, 'hidden_size': 71, 'num_layers': 1, 'num_blocks': 1, 'dropout_rate': 0.19610819708775395, 'epochs': 882, 'lr': 0.008791419619913334}. Best is trial 4 with value: 0.6949152542372882.\n"
     ]
    },
    {
     "name": "stdout",
     "output_type": "stream",
     "text": [
      "Early stopping at epoch 23\n"
     ]
    },
    {
     "name": "stderr",
     "output_type": "stream",
     "text": [
      "[I 2024-09-12 10:06:03,760] Trial 66 finished with value: 0.6842105263157895 and parameters: {'sequence_length': 30, 'hidden_size': 87, 'num_layers': 1, 'num_blocks': 1, 'dropout_rate': 0.15690278575942918, 'epochs': 844, 'lr': 0.009094236377580127}. Best is trial 4 with value: 0.6949152542372882.\n"
     ]
    },
    {
     "name": "stdout",
     "output_type": "stream",
     "text": [
      "Early stopping at epoch 27\n"
     ]
    },
    {
     "name": "stderr",
     "output_type": "stream",
     "text": [
      "[I 2024-09-12 10:06:04,085] Trial 67 finished with value: 0.6724137931034483 and parameters: {'sequence_length': 20, 'hidden_size': 78, 'num_layers': 1, 'num_blocks': 1, 'dropout_rate': 0.4210462166623756, 'epochs': 971, 'lr': 0.00971308220800244}. Best is trial 4 with value: 0.6949152542372882.\n"
     ]
    },
    {
     "name": "stdout",
     "output_type": "stream",
     "text": [
      "Early stopping at epoch 10\n"
     ]
    },
    {
     "name": "stderr",
     "output_type": "stream",
     "text": [
      "[I 2024-09-12 10:06:04,441] Trial 68 finished with value: 0.6166666666666667 and parameters: {'sequence_length': 5, 'hidden_size': 64, 'num_layers': 1, 'num_blocks': 1, 'dropout_rate': 0.4769047388129102, 'epochs': 907, 'lr': 0.00779139443515949}. Best is trial 4 with value: 0.6949152542372882.\n"
     ]
    },
    {
     "name": "stdout",
     "output_type": "stream",
     "text": [
      "Early stopping at epoch 13\n"
     ]
    },
    {
     "name": "stderr",
     "output_type": "stream",
     "text": [
      "[I 2024-09-12 10:06:04,880] Trial 69 finished with value: 0.6379310344827587 and parameters: {'sequence_length': 20, 'hidden_size': 55, 'num_layers': 1, 'num_blocks': 1, 'dropout_rate': 0.4534973687454043, 'epochs': 815, 'lr': 0.0005689098302986226}. Best is trial 4 with value: 0.6949152542372882.\n"
     ]
    },
    {
     "name": "stdout",
     "output_type": "stream",
     "text": [
      "Early stopping at epoch 16\n"
     ]
    },
    {
     "name": "stderr",
     "output_type": "stream",
     "text": [
      "[I 2024-09-12 10:06:05,216] Trial 70 finished with value: 0.6440677966101694 and parameters: {'sequence_length': 14, 'hidden_size': 76, 'num_layers': 1, 'num_blocks': 1, 'dropout_rate': 0.11152735706747233, 'epochs': 997, 'lr': 0.0020415644045861654}. Best is trial 4 with value: 0.6949152542372882.\n"
     ]
    },
    {
     "name": "stdout",
     "output_type": "stream",
     "text": [
      "Early stopping at epoch 11\n"
     ]
    },
    {
     "name": "stderr",
     "output_type": "stream",
     "text": [
      "[I 2024-09-12 10:06:05,781] Trial 71 finished with value: 0.6379310344827587 and parameters: {'sequence_length': 20, 'hidden_size': 72, 'num_layers': 1, 'num_blocks': 1, 'dropout_rate': 0.17733807886766376, 'epochs': 895, 'lr': 0.008797127821414289}. Best is trial 4 with value: 0.6949152542372882.\n"
     ]
    },
    {
     "name": "stdout",
     "output_type": "stream",
     "text": [
      "Early stopping at epoch 18\n"
     ]
    },
    {
     "name": "stderr",
     "output_type": "stream",
     "text": [
      "[I 2024-09-12 10:06:06,149] Trial 72 finished with value: 0.6724137931034483 and parameters: {'sequence_length': 20, 'hidden_size': 69, 'num_layers': 1, 'num_blocks': 1, 'dropout_rate': 0.2643890649087202, 'epochs': 870, 'lr': 0.009336720973412836}. Best is trial 4 with value: 0.6949152542372882.\n"
     ]
    },
    {
     "name": "stdout",
     "output_type": "stream",
     "text": [
      "Early stopping at epoch 10\n"
     ]
    },
    {
     "name": "stderr",
     "output_type": "stream",
     "text": [
      "[I 2024-09-12 10:06:06,803] Trial 73 finished with value: 0.6724137931034483 and parameters: {'sequence_length': 20, 'hidden_size': 62, 'num_layers': 1, 'num_blocks': 1, 'dropout_rate': 0.19395433177759513, 'epochs': 942, 'lr': 0.00865261079021666}. Best is trial 4 with value: 0.6949152542372882.\n"
     ]
    },
    {
     "name": "stdout",
     "output_type": "stream",
     "text": [
      "Early stopping at epoch 22\n"
     ]
    },
    {
     "name": "stderr",
     "output_type": "stream",
     "text": [
      "[I 2024-09-12 10:06:07,187] Trial 74 finished with value: 0.6896551724137931 and parameters: {'sequence_length': 20, 'hidden_size': 85, 'num_layers': 1, 'num_blocks': 1, 'dropout_rate': 0.241598954771964, 'epochs': 969, 'lr': 0.008918367519342408}. Best is trial 4 with value: 0.6949152542372882.\n"
     ]
    },
    {
     "name": "stdout",
     "output_type": "stream",
     "text": [
      "Early stopping at epoch 10\n"
     ]
    },
    {
     "name": "stderr",
     "output_type": "stream",
     "text": [
      "[I 2024-09-12 10:06:07,572] Trial 75 finished with value: 0.6551724137931034 and parameters: {'sequence_length': 20, 'hidden_size': 105, 'num_layers': 1, 'num_blocks': 1, 'dropout_rate': 0.29165222515966005, 'epochs': 927, 'lr': 0.008294882423669913}. Best is trial 4 with value: 0.6949152542372882.\n"
     ]
    },
    {
     "name": "stdout",
     "output_type": "stream",
     "text": [
      "Early stopping at epoch 12\n"
     ]
    },
    {
     "name": "stderr",
     "output_type": "stream",
     "text": [
      "[I 2024-09-12 10:06:07,908] Trial 76 finished with value: 0.5166666666666667 and parameters: {'sequence_length': 7, 'hidden_size': 93, 'num_layers': 1, 'num_blocks': 1, 'dropout_rate': 0.22651391752890931, 'epochs': 886, 'lr': 0.007763920304340732}. Best is trial 4 with value: 0.6949152542372882.\n"
     ]
    },
    {
     "name": "stdout",
     "output_type": "stream",
     "text": [
      "Early stopping at epoch 11\n"
     ]
    },
    {
     "name": "stderr",
     "output_type": "stream",
     "text": [
      "[I 2024-09-12 10:06:08,516] Trial 77 finished with value: 0.6896551724137931 and parameters: {'sequence_length': 20, 'hidden_size': 71, 'num_layers': 1, 'num_blocks': 1, 'dropout_rate': 0.15292015857409302, 'epochs': 790, 'lr': 0.009934918437037608}. Best is trial 4 with value: 0.6949152542372882.\n"
     ]
    },
    {
     "name": "stdout",
     "output_type": "stream",
     "text": [
      "Early stopping at epoch 23\n"
     ]
    },
    {
     "name": "stderr",
     "output_type": "stream",
     "text": [
      "[I 2024-09-12 10:06:08,836] Trial 78 finished with value: 0.6379310344827587 and parameters: {'sequence_length': 20, 'hidden_size': 49, 'num_layers': 1, 'num_blocks': 1, 'dropout_rate': 0.4111927476557367, 'epochs': 836, 'lr': 0.00851600406853502}. Best is trial 4 with value: 0.6949152542372882.\n"
     ]
    },
    {
     "name": "stdout",
     "output_type": "stream",
     "text": [
      "Early stopping at epoch 10\n"
     ]
    },
    {
     "name": "stderr",
     "output_type": "stream",
     "text": [
      "[I 2024-09-12 10:06:09,519] Trial 79 finished with value: 0.6724137931034483 and parameters: {'sequence_length': 20, 'hidden_size': 118, 'num_layers': 1, 'num_blocks': 1, 'dropout_rate': 0.19247728689221807, 'epochs': 864, 'lr': 0.009479363920933386}. Best is trial 4 with value: 0.6949152542372882.\n"
     ]
    },
    {
     "name": "stdout",
     "output_type": "stream",
     "text": [
      "Early stopping at epoch 24\n"
     ]
    },
    {
     "name": "stderr",
     "output_type": "stream",
     "text": [
      "[I 2024-09-12 10:06:09,891] Trial 80 finished with value: 0.6896551724137931 and parameters: {'sequence_length': 20, 'hidden_size': 79, 'num_layers': 2, 'num_blocks': 1, 'dropout_rate': 0.39441569419883316, 'epochs': 958, 'lr': 0.00918307924838812}. Best is trial 4 with value: 0.6949152542372882.\n"
     ]
    },
    {
     "name": "stdout",
     "output_type": "stream",
     "text": [
      "Early stopping at epoch 11\n"
     ]
    },
    {
     "name": "stderr",
     "output_type": "stream",
     "text": [
      "[I 2024-09-12 10:06:10,298] Trial 81 finished with value: 0.6379310344827587 and parameters: {'sequence_length': 20, 'hidden_size': 85, 'num_layers': 1, 'num_blocks': 1, 'dropout_rate': 0.25057444904028214, 'epochs': 977, 'lr': 0.008898275579092747}. Best is trial 4 with value: 0.6949152542372882.\n"
     ]
    },
    {
     "name": "stdout",
     "output_type": "stream",
     "text": [
      "Early stopping at epoch 13\n"
     ]
    },
    {
     "name": "stderr",
     "output_type": "stream",
     "text": [
      "[I 2024-09-12 10:06:10,933] Trial 82 finished with value: 0.6379310344827587 and parameters: {'sequence_length': 20, 'hidden_size': 99, 'num_layers': 1, 'num_blocks': 1, 'dropout_rate': 0.24595451570873952, 'epochs': 922, 'lr': 0.00870652544942267}. Best is trial 4 with value: 0.6949152542372882.\n"
     ]
    },
    {
     "name": "stdout",
     "output_type": "stream",
     "text": [
      "Early stopping at epoch 22\n"
     ]
    },
    {
     "name": "stderr",
     "output_type": "stream",
     "text": [
      "[I 2024-09-12 10:06:11,589] Trial 83 finished with value: 0.6724137931034483 and parameters: {'sequence_length': 20, 'hidden_size': 67, 'num_layers': 1, 'num_blocks': 1, 'dropout_rate': 0.21286814610210592, 'epochs': 947, 'lr': 0.008125819907789154}. Best is trial 4 with value: 0.6949152542372882.\n"
     ]
    },
    {
     "name": "stdout",
     "output_type": "stream",
     "text": [
      "Early stopping at epoch 25\n"
     ]
    },
    {
     "name": "stderr",
     "output_type": "stream",
     "text": [
      "[I 2024-09-12 10:06:12,586] Trial 84 finished with value: 0.6896551724137931 and parameters: {'sequence_length': 20, 'hidden_size': 58, 'num_layers': 1, 'num_blocks': 1, 'dropout_rate': 0.43923103935136104, 'epochs': 100, 'lr': 0.007894990557078523}. Best is trial 4 with value: 0.6949152542372882.\n"
     ]
    },
    {
     "name": "stdout",
     "output_type": "stream",
     "text": [
      "Early stopping at epoch 40\n"
     ]
    },
    {
     "name": "stderr",
     "output_type": "stream",
     "text": [
      "[I 2024-09-12 10:06:12,917] Trial 85 finished with value: 0.6440677966101694 and parameters: {'sequence_length': 14, 'hidden_size': 73, 'num_layers': 1, 'num_blocks': 1, 'dropout_rate': 0.2873728753474285, 'epochs': 695, 'lr': 0.007346197818316008}. Best is trial 4 with value: 0.6949152542372882.\n"
     ]
    },
    {
     "name": "stdout",
     "output_type": "stream",
     "text": [
      "Early stopping at epoch 10\n"
     ]
    },
    {
     "name": "stderr",
     "output_type": "stream",
     "text": [
      "[I 2024-09-12 10:06:13,350] Trial 86 finished with value: 0.6896551724137931 and parameters: {'sequence_length': 20, 'hidden_size': 82, 'num_layers': 1, 'num_blocks': 2, 'dropout_rate': 0.2307374636408958, 'epochs': 982, 'lr': 0.009005475882913774}. Best is trial 4 with value: 0.6949152542372882.\n"
     ]
    },
    {
     "name": "stdout",
     "output_type": "stream",
     "text": [
      "Early stopping at epoch 10\n"
     ]
    },
    {
     "name": "stderr",
     "output_type": "stream",
     "text": [
      "[I 2024-09-12 10:06:13,711] Trial 87 finished with value: 0.65 and parameters: {'sequence_length': 5, 'hidden_size': 77, 'num_layers': 1, 'num_blocks': 1, 'dropout_rate': 0.3753479262257349, 'epochs': 896, 'lr': 0.008390919141862753}. Best is trial 4 with value: 0.6949152542372882.\n"
     ]
    },
    {
     "name": "stdout",
     "output_type": "stream",
     "text": [
      "Early stopping at epoch 12\n"
     ]
    },
    {
     "name": "stderr",
     "output_type": "stream",
     "text": [
      "[I 2024-09-12 10:06:14,601] Trial 88 finished with value: 0.6666666666666666 and parameters: {'sequence_length': 30, 'hidden_size': 64, 'num_layers': 1, 'num_blocks': 2, 'dropout_rate': 0.2336846111385375, 'epochs': 999, 'lr': 0.0031127873821522774}. Best is trial 4 with value: 0.6949152542372882.\n"
     ]
    },
    {
     "name": "stdout",
     "output_type": "stream",
     "text": [
      "Early stopping at epoch 24\n"
     ]
    },
    {
     "name": "stderr",
     "output_type": "stream",
     "text": [
      "[I 2024-09-12 10:06:15,169] Trial 89 finished with value: 0.6379310344827587 and parameters: {'sequence_length': 20, 'hidden_size': 94, 'num_layers': 1, 'num_blocks': 1, 'dropout_rate': 0.4094921712495693, 'epochs': 935, 'lr': 0.0076578966240109505}. Best is trial 4 with value: 0.6949152542372882.\n"
     ]
    },
    {
     "name": "stdout",
     "output_type": "stream",
     "text": [
      "Early stopping at epoch 20\n"
     ]
    },
    {
     "name": "stderr",
     "output_type": "stream",
     "text": [
      "[I 2024-09-12 10:06:15,620] Trial 90 finished with value: 0.6379310344827587 and parameters: {'sequence_length': 20, 'hidden_size': 90, 'num_layers': 1, 'num_blocks': 1, 'dropout_rate': 0.2599189243695378, 'epochs': 850, 'lr': 0.008175374580289642}. Best is trial 4 with value: 0.6949152542372882.\n"
     ]
    },
    {
     "name": "stdout",
     "output_type": "stream",
     "text": [
      "Early stopping at epoch 15\n"
     ]
    },
    {
     "name": "stderr",
     "output_type": "stream",
     "text": [
      "[I 2024-09-12 10:06:16,041] Trial 91 finished with value: 0.6896551724137931 and parameters: {'sequence_length': 20, 'hidden_size': 72, 'num_layers': 1, 'num_blocks': 1, 'dropout_rate': 0.15489311420005764, 'epochs': 790, 'lr': 0.009740218043600965}. Best is trial 4 with value: 0.6949152542372882.\n"
     ]
    },
    {
     "name": "stdout",
     "output_type": "stream",
     "text": [
      "Early stopping at epoch 13\n"
     ]
    },
    {
     "name": "stderr",
     "output_type": "stream",
     "text": [
      "[I 2024-09-12 10:06:16,439] Trial 92 finished with value: 0.6896551724137931 and parameters: {'sequence_length': 20, 'hidden_size': 72, 'num_layers': 1, 'num_blocks': 1, 'dropout_rate': 0.12668046575449032, 'epochs': 804, 'lr': 0.009867099519471961}. Best is trial 4 with value: 0.6949152542372882.\n"
     ]
    },
    {
     "name": "stdout",
     "output_type": "stream",
     "text": [
      "Early stopping at epoch 12\n"
     ]
    },
    {
     "name": "stderr",
     "output_type": "stream",
     "text": [
      "[I 2024-09-12 10:06:16,938] Trial 93 finished with value: 0.6896551724137931 and parameters: {'sequence_length': 20, 'hidden_size': 70, 'num_layers': 1, 'num_blocks': 1, 'dropout_rate': 0.15350605830973363, 'epochs': 751, 'lr': 0.009484108704733533}. Best is trial 4 with value: 0.6949152542372882.\n"
     ]
    },
    {
     "name": "stdout",
     "output_type": "stream",
     "text": [
      "Early stopping at epoch 16\n"
     ]
    },
    {
     "name": "stderr",
     "output_type": "stream",
     "text": [
      "[I 2024-09-12 10:06:17,423] Trial 94 finished with value: 0.6551724137931034 and parameters: {'sequence_length': 20, 'hidden_size': 84, 'num_layers': 3, 'num_blocks': 1, 'dropout_rate': 0.1384776928540818, 'epochs': 878, 'lr': 0.008813611774323464}. Best is trial 4 with value: 0.6949152542372882.\n"
     ]
    },
    {
     "name": "stdout",
     "output_type": "stream",
     "text": [
      "Early stopping at epoch 10\n"
     ]
    },
    {
     "name": "stderr",
     "output_type": "stream",
     "text": [
      "[I 2024-09-12 10:06:17,921] Trial 95 finished with value: 0.6724137931034483 and parameters: {'sequence_length': 20, 'hidden_size': 63, 'num_layers': 1, 'num_blocks': 1, 'dropout_rate': 0.17960744166145937, 'epochs': 957, 'lr': 0.009217648768378453}. Best is trial 4 with value: 0.6949152542372882.\n"
     ]
    },
    {
     "name": "stdout",
     "output_type": "stream",
     "text": [
      "Early stopping at epoch 20\n"
     ]
    },
    {
     "name": "stderr",
     "output_type": "stream",
     "text": [
      "[I 2024-09-12 10:06:18,250] Trial 96 finished with value: 0.5333333333333333 and parameters: {'sequence_length': 7, 'hidden_size': 59, 'num_layers': 1, 'num_blocks': 1, 'dropout_rate': 0.14803123151852737, 'epochs': 712, 'lr': 0.00858505518833481}. Best is trial 4 with value: 0.6949152542372882.\n"
     ]
    },
    {
     "name": "stdout",
     "output_type": "stream",
     "text": [
      "Early stopping at epoch 11\n"
     ]
    },
    {
     "name": "stderr",
     "output_type": "stream",
     "text": [
      "[I 2024-09-12 10:06:18,769] Trial 97 finished with value: 0.6440677966101694 and parameters: {'sequence_length': 14, 'hidden_size': 55, 'num_layers': 1, 'num_blocks': 1, 'dropout_rate': 0.10050040408256385, 'epochs': 904, 'lr': 0.009647220917763757}. Best is trial 4 with value: 0.6949152542372882.\n"
     ]
    },
    {
     "name": "stdout",
     "output_type": "stream",
     "text": [
      "Early stopping at epoch 21\n"
     ]
    },
    {
     "name": "stderr",
     "output_type": "stream",
     "text": [
      "[I 2024-09-12 10:06:19,080] Trial 98 finished with value: 0.6896551724137931 and parameters: {'sequence_length': 20, 'hidden_size': 79, 'num_layers': 1, 'num_blocks': 1, 'dropout_rate': 0.11502438953457912, 'epochs': 729, 'lr': 0.007161156130229349}. Best is trial 4 with value: 0.6949152542372882.\n"
     ]
    },
    {
     "name": "stdout",
     "output_type": "stream",
     "text": [
      "Early stopping at epoch 10\n"
     ]
    },
    {
     "name": "stderr",
     "output_type": "stream",
     "text": [
      "[I 2024-09-12 10:06:19,674] Trial 99 finished with value: 0.6896551724137931 and parameters: {'sequence_length': 20, 'hidden_size': 67, 'num_layers': 1, 'num_blocks': 2, 'dropout_rate': 0.4305826127998056, 'epochs': 764, 'lr': 0.00897736774573973}. Best is trial 4 with value: 0.6949152542372882.\n",
      "[I 2024-09-12 10:06:19,710] A new study created in memory with name: no-name-9fd6fd38-86b2-47b3-89fe-fb81c078671e\n"
     ]
    },
    {
     "name": "stdout",
     "output_type": "stream",
     "text": [
      "Early stopping at epoch 14\n",
      "parameters for NVDA saved to ../models/best-hyperparameters/pytorch/lstm-classification/NVDA.json\n",
      "Best model for NVDA saved with accuracy: 0.6949152542372882\n",
      "Deleted NVDA from ../models/hyperparameters-search-models/ticker-all-models-best-hyperparameters-list.csv\n"
     ]
    },
    {
     "name": "stderr",
     "output_type": "stream",
     "text": [
      "[I 2024-09-12 10:06:20,282] Trial 0 finished with value: 40432528.0 and parameters: {'sequence_length': 5, 'hidden_size': 84, 'num_layers': 2, 'num_blocks': 2, 'dropout_rate': 0.15063625082749454, 'epochs': 56, 'lr': 0.0038612994910693027}. Best is trial 0 with value: 40432528.0.\n"
     ]
    },
    {
     "name": "stdout",
     "output_type": "stream",
     "text": [
      "Early stopping at epoch 19\n"
     ]
    },
    {
     "name": "stderr",
     "output_type": "stream",
     "text": [
      "[I 2024-09-12 10:06:21,253] Trial 1 finished with value: 23301168.0 and parameters: {'sequence_length': 14, 'hidden_size': 71, 'num_layers': 3, 'num_blocks': 3, 'dropout_rate': 0.103840952230088, 'epochs': 94, 'lr': 0.00850862403809412}. Best is trial 1 with value: 23301168.0.\n"
     ]
    },
    {
     "name": "stdout",
     "output_type": "stream",
     "text": [
      "Early stopping at epoch 21\n"
     ]
    },
    {
     "name": "stderr",
     "output_type": "stream",
     "text": [
      "[I 2024-09-12 10:06:22,174] Trial 2 finished with value: 19967852.0 and parameters: {'sequence_length': 20, 'hidden_size': 75, 'num_layers': 2, 'num_blocks': 2, 'dropout_rate': 0.3592056769510875, 'epochs': 81, 'lr': 0.009032576707616834}. Best is trial 2 with value: 19967852.0.\n"
     ]
    },
    {
     "name": "stdout",
     "output_type": "stream",
     "text": [
      "Early stopping at epoch 29\n"
     ]
    },
    {
     "name": "stderr",
     "output_type": "stream",
     "text": [
      "[I 2024-09-12 10:06:22,760] Trial 3 finished with value: 12290660.0 and parameters: {'sequence_length': 14, 'hidden_size': 33, 'num_layers': 2, 'num_blocks': 1, 'dropout_rate': 0.4788969917398279, 'epochs': 74, 'lr': 0.005462231257868617}. Best is trial 3 with value: 12290660.0.\n"
     ]
    },
    {
     "name": "stdout",
     "output_type": "stream",
     "text": [
      "Early stopping at epoch 26\n"
     ]
    },
    {
     "name": "stderr",
     "output_type": "stream",
     "text": [
      "[I 2024-09-12 10:06:23,758] Trial 4 finished with value: 9815382.0 and parameters: {'sequence_length': 5, 'hidden_size': 81, 'num_layers': 2, 'num_blocks': 4, 'dropout_rate': 0.18888436775041773, 'epochs': 33, 'lr': 0.0019006685327245774}. Best is trial 4 with value: 9815382.0.\n"
     ]
    },
    {
     "name": "stdout",
     "output_type": "stream",
     "text": [
      "Early stopping at epoch 21\n"
     ]
    },
    {
     "name": "stderr",
     "output_type": "stream",
     "text": [
      "[I 2024-09-12 10:06:24,932] Trial 5 finished with value: 11547283.0 and parameters: {'sequence_length': 20, 'hidden_size': 27, 'num_layers': 3, 'num_blocks': 4, 'dropout_rate': 0.45274240036611657, 'epochs': 42, 'lr': 0.00953990695562794}. Best is trial 4 with value: 9815382.0.\n"
     ]
    },
    {
     "name": "stdout",
     "output_type": "stream",
     "text": [
      "Early stopping at epoch 21\n"
     ]
    },
    {
     "name": "stderr",
     "output_type": "stream",
     "text": [
      "[I 2024-09-12 10:06:25,357] Trial 6 finished with value: 54502268.0 and parameters: {'sequence_length': 20, 'hidden_size': 101, 'num_layers': 2, 'num_blocks': 1, 'dropout_rate': 0.4567448627730122, 'epochs': 15, 'lr': 0.0006884271130901472}. Best is trial 4 with value: 9815382.0.\n",
      "[I 2024-09-12 10:06:26,520] Trial 7 finished with value: 24194770.0 and parameters: {'sequence_length': 20, 'hidden_size': 54, 'num_layers': 3, 'num_blocks': 4, 'dropout_rate': 0.441484426922614, 'epochs': 60, 'lr': 0.006379628290273569}. Best is trial 4 with value: 9815382.0.\n"
     ]
    },
    {
     "name": "stdout",
     "output_type": "stream",
     "text": [
      "Early stopping at epoch 21\n"
     ]
    },
    {
     "name": "stderr",
     "output_type": "stream",
     "text": [
      "[I 2024-09-12 10:06:27,755] Trial 8 finished with value: 4531188.5 and parameters: {'sequence_length': 30, 'hidden_size': 97, 'num_layers': 1, 'num_blocks': 1, 'dropout_rate': 0.467519580008399, 'epochs': 89, 'lr': 0.009044021912442265}. Best is trial 8 with value: 4531188.5.\n"
     ]
    },
    {
     "name": "stdout",
     "output_type": "stream",
     "text": [
      "Early stopping at epoch 56\n"
     ]
    },
    {
     "name": "stderr",
     "output_type": "stream",
     "text": [
      "[I 2024-09-12 10:06:28,165] Trial 9 finished with value: 15995267.0 and parameters: {'sequence_length': 20, 'hidden_size': 57, 'num_layers': 2, 'num_blocks': 1, 'dropout_rate': 0.4022545455905542, 'epochs': 23, 'lr': 0.003661713169808394}. Best is trial 8 with value: 4531188.5.\n"
     ]
    },
    {
     "name": "stdout",
     "output_type": "stream",
     "text": [
      "Early stopping at epoch 18\n"
     ]
    },
    {
     "name": "stderr",
     "output_type": "stream",
     "text": [
      "[I 2024-09-12 10:06:29,415] Trial 10 finished with value: 40761176.0 and parameters: {'sequence_length': 30, 'hidden_size': 119, 'num_layers': 1, 'num_blocks': 5, 'dropout_rate': 0.2754471260885126, 'epochs': 99, 'lr': 0.007294317512465249}. Best is trial 8 with value: 4531188.5.\n"
     ]
    },
    {
     "name": "stdout",
     "output_type": "stream",
     "text": [
      "Early stopping at epoch 22\n"
     ]
    },
    {
     "name": "stderr",
     "output_type": "stream",
     "text": [
      "[I 2024-09-12 10:06:30,765] Trial 11 finished with value: 11524929.0 and parameters: {'sequence_length': 7, 'hidden_size': 99, 'num_layers': 1, 'num_blocks': 4, 'dropout_rate': 0.2418685622237039, 'epochs': 37, 'lr': 0.0009853375363386707}. Best is trial 8 with value: 4531188.5.\n"
     ]
    },
    {
     "name": "stdout",
     "output_type": "stream",
     "text": [
      "Early stopping at epoch 33\n"
     ]
    },
    {
     "name": "stderr",
     "output_type": "stream",
     "text": [
      "[I 2024-09-12 10:06:32,077] Trial 12 finished with value: 7831359.5 and parameters: {'sequence_length': 30, 'hidden_size': 124, 'num_layers': 1, 'num_blocks': 3, 'dropout_rate': 0.21598369227745437, 'epochs': 36, 'lr': 0.0022845369067984902}. Best is trial 8 with value: 4531188.5.\n",
      "[I 2024-09-12 10:06:32,567] Trial 13 finished with value: 23362758.0 and parameters: {'sequence_length': 30, 'hidden_size': 125, 'num_layers': 1, 'num_blocks': 2, 'dropout_rate': 0.3361254324163155, 'epochs': 70, 'lr': 0.003375196752891775}. Best is trial 8 with value: 4531188.5.\n"
     ]
    },
    {
     "name": "stdout",
     "output_type": "stream",
     "text": [
      "Early stopping at epoch 14\n"
     ]
    },
    {
     "name": "stderr",
     "output_type": "stream",
     "text": [
      "[I 2024-09-12 10:06:33,312] Trial 14 finished with value: 20290248.0 and parameters: {'sequence_length': 30, 'hidden_size': 109, 'num_layers': 1, 'num_blocks': 3, 'dropout_rate': 0.22613236112206447, 'epochs': 45, 'lr': 0.002193753765505245}. Best is trial 8 with value: 4531188.5.\n"
     ]
    },
    {
     "name": "stdout",
     "output_type": "stream",
     "text": [
      "Early stopping at epoch 18\n"
     ]
    },
    {
     "name": "stderr",
     "output_type": "stream",
     "text": [
      "[I 2024-09-12 10:06:35,232] Trial 15 finished with value: 11059033.0 and parameters: {'sequence_length': 30, 'hidden_size': 128, 'num_layers': 1, 'num_blocks': 5, 'dropout_rate': 0.3221582234775461, 'epochs': 89, 'lr': 0.007288237439591178}. Best is trial 8 with value: 4531188.5.\n"
     ]
    },
    {
     "name": "stdout",
     "output_type": "stream",
     "text": [
      "Early stopping at epoch 40\n"
     ]
    },
    {
     "name": "stderr",
     "output_type": "stream",
     "text": [
      "[I 2024-09-12 10:06:35,583] Trial 16 finished with value: 43111136.0 and parameters: {'sequence_length': 30, 'hidden_size': 109, 'num_layers': 1, 'num_blocks': 2, 'dropout_rate': 0.3750512128813094, 'epochs': 10, 'lr': 0.004845677734300647}. Best is trial 8 with value: 4531188.5.\n",
      "[I 2024-09-12 10:06:36,340] Trial 17 finished with value: 23041242.0 and parameters: {'sequence_length': 7, 'hidden_size': 89, 'num_layers': 1, 'num_blocks': 3, 'dropout_rate': 0.28443625499036923, 'epochs': 65, 'lr': 0.0022700206736243336}. Best is trial 8 with value: 4531188.5.\n"
     ]
    },
    {
     "name": "stdout",
     "output_type": "stream",
     "text": [
      "Early stopping at epoch 23\n"
     ]
    },
    {
     "name": "stderr",
     "output_type": "stream",
     "text": [
      "[I 2024-09-12 10:06:36,939] Trial 18 finished with value: 49252088.0 and parameters: {'sequence_length': 30, 'hidden_size': 113, 'num_layers': 1, 'num_blocks': 1, 'dropout_rate': 0.18096342081668804, 'epochs': 48, 'lr': 0.00012664368615747466}. Best is trial 8 with value: 4531188.5.\n"
     ]
    },
    {
     "name": "stdout",
     "output_type": "stream",
     "text": [
      "Early stopping at epoch 25\n"
     ]
    },
    {
     "name": "stderr",
     "output_type": "stream",
     "text": [
      "[I 2024-09-12 10:06:37,814] Trial 19 finished with value: 17169420.0 and parameters: {'sequence_length': 30, 'hidden_size': 97, 'num_layers': 1, 'num_blocks': 2, 'dropout_rate': 0.400195567860391, 'epochs': 29, 'lr': 0.00810610274838722}. Best is trial 8 with value: 4531188.5.\n",
      "[I 2024-09-12 10:06:38,791] Trial 20 finished with value: 9241104.0 and parameters: {'sequence_length': 30, 'hidden_size': 60, 'num_layers': 1, 'num_blocks': 3, 'dropout_rate': 0.24178104899670116, 'epochs': 82, 'lr': 0.005081218424742638}. Best is trial 8 with value: 4531188.5.\n"
     ]
    },
    {
     "name": "stdout",
     "output_type": "stream",
     "text": [
      "Early stopping at epoch 28\n"
     ]
    },
    {
     "name": "stderr",
     "output_type": "stream",
     "text": [
      "[I 2024-09-12 10:06:40,236] Trial 21 finished with value: 9792427.0 and parameters: {'sequence_length': 30, 'hidden_size': 56, 'num_layers': 1, 'num_blocks': 3, 'dropout_rate': 0.25290352947394157, 'epochs': 83, 'lr': 0.005237543538948106}. Best is trial 8 with value: 4531188.5.\n"
     ]
    },
    {
     "name": "stdout",
     "output_type": "stream",
     "text": [
      "Early stopping at epoch 43\n"
     ]
    },
    {
     "name": "stderr",
     "output_type": "stream",
     "text": [
      "[I 2024-09-12 10:06:41,042] Trial 22 finished with value: 24278442.0 and parameters: {'sequence_length': 30, 'hidden_size': 43, 'num_layers': 1, 'num_blocks': 3, 'dropout_rate': 0.20623717334383113, 'epochs': 79, 'lr': 0.0062019982568162655}. Best is trial 8 with value: 4531188.5.\n"
     ]
    },
    {
     "name": "stdout",
     "output_type": "stream",
     "text": [
      "Early stopping at epoch 21\n"
     ]
    },
    {
     "name": "stderr",
     "output_type": "stream",
     "text": [
      "[I 2024-09-12 10:06:41,874] Trial 23 finished with value: 37884296.0 and parameters: {'sequence_length': 30, 'hidden_size': 64, 'num_layers': 1, 'num_blocks': 3, 'dropout_rate': 0.13938010468597783, 'epochs': 100, 'lr': 0.009928813295922463}. Best is trial 8 with value: 4531188.5.\n"
     ]
    },
    {
     "name": "stdout",
     "output_type": "stream",
     "text": [
      "Early stopping at epoch 21\n"
     ]
    },
    {
     "name": "stderr",
     "output_type": "stream",
     "text": [
      "[I 2024-09-12 10:06:42,869] Trial 24 finished with value: 34592788.0 and parameters: {'sequence_length': 30, 'hidden_size': 93, 'num_layers': 1, 'num_blocks': 4, 'dropout_rate': 0.49740291816658294, 'epochs': 89, 'lr': 0.004278399554161797}. Best is trial 8 with value: 4531188.5.\n"
     ]
    },
    {
     "name": "stdout",
     "output_type": "stream",
     "text": [
      "Early stopping at epoch 20\n"
     ]
    },
    {
     "name": "stderr",
     "output_type": "stream",
     "text": [
      "[I 2024-09-12 10:06:43,502] Trial 25 finished with value: 6300017.0 and parameters: {'sequence_length': 5, 'hidden_size': 17, 'num_layers': 2, 'num_blocks': 2, 'dropout_rate': 0.2910143080960587, 'epochs': 51, 'lr': 0.002751111671017982}. Best is trial 8 with value: 4531188.5.\n"
     ]
    },
    {
     "name": "stdout",
     "output_type": "stream",
     "text": [
      "Early stopping at epoch 20\n"
     ]
    },
    {
     "name": "stderr",
     "output_type": "stream",
     "text": [
      "[I 2024-09-12 10:06:45,100] Trial 26 finished with value: 24004864.0 and parameters: {'sequence_length': 5, 'hidden_size': 16, 'num_layers': 3, 'num_blocks': 2, 'dropout_rate': 0.32104451961496916, 'epochs': 51, 'lr': 0.003035247596307777}. Best is trial 8 with value: 4531188.5.\n",
      "[I 2024-09-12 10:06:45,892] Trial 27 finished with value: 15578331.0 and parameters: {'sequence_length': 5, 'hidden_size': 118, 'num_layers': 2, 'num_blocks': 1, 'dropout_rate': 0.2966746878888773, 'epochs': 39, 'lr': 0.0013774474718678115}. Best is trial 8 with value: 4531188.5.\n"
     ]
    },
    {
     "name": "stdout",
     "output_type": "stream",
     "text": [
      "Early stopping at epoch 30\n"
     ]
    },
    {
     "name": "stderr",
     "output_type": "stream",
     "text": [
      "[I 2024-09-12 10:06:46,702] Trial 28 finished with value: 7366787.5 and parameters: {'sequence_length': 5, 'hidden_size': 105, 'num_layers': 2, 'num_blocks': 2, 'dropout_rate': 0.2730434499925432, 'epochs': 24, 'lr': 0.0031697526324552926}. Best is trial 8 with value: 4531188.5.\n",
      "[I 2024-09-12 10:06:47,270] Trial 29 finished with value: 25800158.0 and parameters: {'sequence_length': 5, 'hidden_size': 83, 'num_layers': 2, 'num_blocks': 2, 'dropout_rate': 0.3545171024664535, 'epochs': 57, 'lr': 0.004288423190808822}. Best is trial 8 with value: 4531188.5.\n"
     ]
    },
    {
     "name": "stdout",
     "output_type": "stream",
     "text": [
      "Early stopping at epoch 18\n"
     ]
    },
    {
     "name": "stderr",
     "output_type": "stream",
     "text": [
      "[I 2024-09-12 10:06:47,823] Trial 30 finished with value: 29890124.0 and parameters: {'sequence_length': 5, 'hidden_size': 47, 'num_layers': 2, 'num_blocks': 1, 'dropout_rate': 0.26056344793410025, 'epochs': 24, 'lr': 0.0027618702631983265}. Best is trial 8 with value: 4531188.5.\n",
      "[I 2024-09-12 10:06:48,363] Trial 31 finished with value: 39344052.0 and parameters: {'sequence_length': 5, 'hidden_size': 104, 'num_layers': 2, 'num_blocks': 2, 'dropout_rate': 0.15718138755659994, 'epochs': 22, 'lr': 0.002599431500423656}. Best is trial 8 with value: 4531188.5.\n"
     ]
    },
    {
     "name": "stdout",
     "output_type": "stream",
     "text": [
      "Early stopping at epoch 14\n"
     ]
    },
    {
     "name": "stderr",
     "output_type": "stream",
     "text": [
      "[I 2024-09-12 10:06:49,208] Trial 32 finished with value: 4133149.5 and parameters: {'sequence_length': 14, 'hidden_size': 114, 'num_layers': 3, 'num_blocks': 2, 'dropout_rate': 0.21516731178880438, 'epochs': 52, 'lr': 0.0014734418342914131}. Best is trial 32 with value: 4133149.5.\n"
     ]
    },
    {
     "name": "stdout",
     "output_type": "stream",
     "text": [
      "Early stopping at epoch 19\n"
     ]
    },
    {
     "name": "stderr",
     "output_type": "stream",
     "text": [
      "[I 2024-09-12 10:06:49,954] Trial 33 finished with value: 16642083.0 and parameters: {'sequence_length': 14, 'hidden_size': 74, 'num_layers': 3, 'num_blocks': 2, 'dropout_rate': 0.3068531030287217, 'epochs': 53, 'lr': 0.00170551955333295}. Best is trial 32 with value: 4133149.5.\n"
     ]
    },
    {
     "name": "stdout",
     "output_type": "stream",
     "text": [
      "Early stopping at epoch 21\n"
     ]
    },
    {
     "name": "stderr",
     "output_type": "stream",
     "text": [
      "[I 2024-09-12 10:06:51,289] Trial 34 finished with value: 25533550.0 and parameters: {'sequence_length': 14, 'hidden_size': 91, 'num_layers': 3, 'num_blocks': 1, 'dropout_rate': 0.12101083365725168, 'epochs': 62, 'lr': 0.0001399544997940168}. Best is trial 32 with value: 4133149.5.\n",
      "[I 2024-09-12 10:06:52,080] Trial 35 finished with value: 12617290.0 and parameters: {'sequence_length': 14, 'hidden_size': 107, 'num_layers': 2, 'num_blocks': 1, 'dropout_rate': 0.17451080921473838, 'epochs': 68, 'lr': 0.0041855406744683715}. Best is trial 32 with value: 4133149.5.\n"
     ]
    },
    {
     "name": "stdout",
     "output_type": "stream",
     "text": [
      "Early stopping at epoch 32\n"
     ]
    },
    {
     "name": "stderr",
     "output_type": "stream",
     "text": [
      "[I 2024-09-12 10:06:53,005] Trial 36 finished with value: 14100069.0 and parameters: {'sequence_length': 5, 'hidden_size': 116, 'num_layers': 3, 'num_blocks': 2, 'dropout_rate': 0.2812411621373132, 'epochs': 30, 'lr': 0.003151986828942606}. Best is trial 32 with value: 4133149.5.\n"
     ]
    },
    {
     "name": "stdout",
     "output_type": "stream",
     "text": [
      "Early stopping at epoch 26\n"
     ]
    },
    {
     "name": "stderr",
     "output_type": "stream",
     "text": [
      "[I 2024-09-12 10:06:53,586] Trial 37 finished with value: 81584704.0 and parameters: {'sequence_length': 14, 'hidden_size': 16, 'num_layers': 2, 'num_blocks': 2, 'dropout_rate': 0.20433452326360224, 'epochs': 73, 'lr': 0.0013290437347404896}. Best is trial 32 with value: 4133149.5.\n"
     ]
    },
    {
     "name": "stdout",
     "output_type": "stream",
     "text": [
      "Early stopping at epoch 18\n"
     ]
    },
    {
     "name": "stderr",
     "output_type": "stream",
     "text": [
      "[I 2024-09-12 10:06:54,755] Trial 38 finished with value: 9732616.0 and parameters: {'sequence_length': 5, 'hidden_size': 68, 'num_layers': 3, 'num_blocks': 2, 'dropout_rate': 0.4074773134917037, 'epochs': 44, 'lr': 0.00893060608269242}. Best is trial 32 with value: 4133149.5.\n"
     ]
    },
    {
     "name": "stdout",
     "output_type": "stream",
     "text": [
      "Early stopping at epoch 36\n"
     ]
    },
    {
     "name": "stderr",
     "output_type": "stream",
     "text": [
      "[I 2024-09-12 10:06:55,328] Trial 39 finished with value: 3714388.25 and parameters: {'sequence_length': 14, 'hidden_size': 80, 'num_layers': 2, 'num_blocks': 1, 'dropout_rate': 0.3521527639983844, 'epochs': 57, 'lr': 0.00587884257075578}. Best is trial 39 with value: 3714388.25.\n"
     ]
    },
    {
     "name": "stdout",
     "output_type": "stream",
     "text": [
      "Early stopping at epoch 22\n"
     ]
    },
    {
     "name": "stderr",
     "output_type": "stream",
     "text": [
      "[I 2024-09-12 10:06:56,236] Trial 40 finished with value: 7711564.0 and parameters: {'sequence_length': 14, 'hidden_size': 80, 'num_layers': 2, 'num_blocks': 1, 'dropout_rate': 0.4301833864380783, 'epochs': 57, 'lr': 0.005875173946123262}. Best is trial 39 with value: 3714388.25.\n"
     ]
    },
    {
     "name": "stdout",
     "output_type": "stream",
     "text": [
      "Early stopping at epoch 38\n"
     ]
    },
    {
     "name": "stderr",
     "output_type": "stream",
     "text": [
      "[I 2024-09-12 10:06:56,729] Trial 41 finished with value: 24788974.0 and parameters: {'sequence_length': 14, 'hidden_size': 86, 'num_layers': 2, 'num_blocks': 1, 'dropout_rate': 0.3647194859624666, 'epochs': 49, 'lr': 0.008031028590821485}. Best is trial 39 with value: 3714388.25.\n"
     ]
    },
    {
     "name": "stdout",
     "output_type": "stream",
     "text": [
      "Early stopping at epoch 17\n"
     ]
    },
    {
     "name": "stderr",
     "output_type": "stream",
     "text": [
      "[I 2024-09-12 10:06:57,175] Trial 42 finished with value: 35028772.0 and parameters: {'sequence_length': 14, 'hidden_size': 33, 'num_layers': 2, 'num_blocks': 1, 'dropout_rate': 0.2658050289322094, 'epochs': 17, 'lr': 0.0070085030334136825}. Best is trial 39 with value: 3714388.25.\n",
      "[I 2024-09-12 10:06:57,968] Trial 43 finished with value: 25239394.0 and parameters: {'sequence_length': 7, 'hidden_size': 97, 'num_layers': 2, 'num_blocks': 1, 'dropout_rate': 0.474252459600454, 'epochs': 77, 'lr': 0.003578120073315118}. Best is trial 39 with value: 3714388.25.\n"
     ]
    },
    {
     "name": "stdout",
     "output_type": "stream",
     "text": [
      "Early stopping at epoch 31\n"
     ]
    },
    {
     "name": "stderr",
     "output_type": "stream",
     "text": [
      "[I 2024-09-12 10:06:59,534] Trial 44 finished with value: 10708952.0 and parameters: {'sequence_length': 14, 'hidden_size': 79, 'num_layers': 2, 'num_blocks': 2, 'dropout_rate': 0.34421229209506055, 'epochs': 63, 'lr': 0.0006894984179666224}. Best is trial 39 with value: 3714388.25.\n"
     ]
    },
    {
     "name": "stdout",
     "output_type": "stream",
     "text": [
      "Early stopping at epoch 50\n"
     ]
    },
    {
     "name": "stderr",
     "output_type": "stream",
     "text": [
      "[I 2024-09-12 10:07:00,722] Trial 45 finished with value: 22948994.0 and parameters: {'sequence_length': 20, 'hidden_size': 102, 'num_layers': 3, 'num_blocks': 2, 'dropout_rate': 0.2294962773912918, 'epochs': 41, 'lr': 0.0017012941691554894}. Best is trial 39 with value: 3714388.25.\n"
     ]
    },
    {
     "name": "stdout",
     "output_type": "stream",
     "text": [
      "Early stopping at epoch 30\n"
     ]
    },
    {
     "name": "stderr",
     "output_type": "stream",
     "text": [
      "[I 2024-09-12 10:07:01,133] Trial 46 finished with value: 11726915.0 and parameters: {'sequence_length': 5, 'hidden_size': 69, 'num_layers': 2, 'num_blocks': 1, 'dropout_rate': 0.38605727481222574, 'epochs': 94, 'lr': 0.006587847254100593}. Best is trial 39 with value: 3714388.25.\n"
     ]
    },
    {
     "name": "stdout",
     "output_type": "stream",
     "text": [
      "Early stopping at epoch 16\n"
     ]
    },
    {
     "name": "stderr",
     "output_type": "stream",
     "text": [
      "[I 2024-09-12 10:07:01,797] Trial 47 finished with value: 6842635.5 and parameters: {'sequence_length': 14, 'hidden_size': 112, 'num_layers': 2, 'num_blocks': 1, 'dropout_rate': 0.30352572058849947, 'epochs': 33, 'lr': 0.004006103439038164}. Best is trial 39 with value: 3714388.25.\n"
     ]
    },
    {
     "name": "stdout",
     "output_type": "stream",
     "text": [
      "Early stopping at epoch 27\n"
     ]
    },
    {
     "name": "stderr",
     "output_type": "stream",
     "text": [
      "[I 2024-09-12 10:07:02,597] Trial 48 finished with value: 5299542.5 and parameters: {'sequence_length': 14, 'hidden_size': 113, 'num_layers': 3, 'num_blocks': 1, 'dropout_rate': 0.4262930662391936, 'epochs': 34, 'lr': 0.004590215126724462}. Best is trial 39 with value: 3714388.25.\n",
      "[I 2024-09-12 10:07:03,074] Trial 49 finished with value: 13660299.0 and parameters: {'sequence_length': 14, 'hidden_size': 124, 'num_layers': 3, 'num_blocks': 1, 'dropout_rate': 0.432640604345776, 'epochs': 46, 'lr': 0.005509497098792801}. Best is trial 39 with value: 3714388.25.\n"
     ]
    },
    {
     "name": "stdout",
     "output_type": "stream",
     "text": [
      "Early stopping at epoch 16\n"
     ]
    },
    {
     "name": "stderr",
     "output_type": "stream",
     "text": [
      "[I 2024-09-12 10:07:03,536] Trial 50 finished with value: 52142116.0 and parameters: {'sequence_length': 14, 'hidden_size': 95, 'num_layers': 3, 'num_blocks': 1, 'dropout_rate': 0.46413575683144764, 'epochs': 57, 'lr': 0.009100698293215428}. Best is trial 39 with value: 3714388.25.\n"
     ]
    },
    {
     "name": "stdout",
     "output_type": "stream",
     "text": [
      "Early stopping at epoch 16\n"
     ]
    },
    {
     "name": "stderr",
     "output_type": "stream",
     "text": [
      "[I 2024-09-12 10:07:03,995] Trial 51 finished with value: 39364476.0 and parameters: {'sequence_length': 14, 'hidden_size': 111, 'num_layers': 3, 'num_blocks': 1, 'dropout_rate': 0.49871426893946147, 'epochs': 34, 'lr': 0.004654957791753369}. Best is trial 39 with value: 3714388.25.\n"
     ]
    },
    {
     "name": "stdout",
     "output_type": "stream",
     "text": [
      "Early stopping at epoch 16\n"
     ]
    },
    {
     "name": "stderr",
     "output_type": "stream",
     "text": [
      "[I 2024-09-12 10:07:04,754] Trial 52 finished with value: 26086194.0 and parameters: {'sequence_length': 14, 'hidden_size': 122, 'num_layers': 3, 'num_blocks': 1, 'dropout_rate': 0.42232451544722016, 'epochs': 31, 'lr': 0.004015607209016387}. Best is trial 39 with value: 3714388.25.\n"
     ]
    },
    {
     "name": "stdout",
     "output_type": "stream",
     "text": [
      "Early stopping at epoch 28\n"
     ]
    },
    {
     "name": "stderr",
     "output_type": "stream",
     "text": [
      "[I 2024-09-12 10:07:05,204] Trial 53 finished with value: 58919548.0 and parameters: {'sequence_length': 14, 'hidden_size': 114, 'num_layers': 2, 'num_blocks': 1, 'dropout_rate': 0.44700535376954087, 'epochs': 37, 'lr': 0.004684548437228331}. Best is trial 39 with value: 3714388.25.\n"
     ]
    },
    {
     "name": "stdout",
     "output_type": "stream",
     "text": [
      "Early stopping at epoch 16\n"
     ]
    },
    {
     "name": "stderr",
     "output_type": "stream",
     "text": [
      "[I 2024-09-12 10:07:05,860] Trial 54 finished with value: 15654265.0 and parameters: {'sequence_length': 7, 'hidden_size': 119, 'num_layers': 2, 'num_blocks': 1, 'dropout_rate': 0.3301505025236543, 'epochs': 53, 'lr': 0.0038000118391388425}. Best is trial 39 with value: 3714388.25.\n"
     ]
    },
    {
     "name": "stdout",
     "output_type": "stream",
     "text": [
      "Early stopping at epoch 27\n"
     ]
    },
    {
     "name": "stderr",
     "output_type": "stream",
     "text": [
      "[I 2024-09-12 10:07:06,403] Trial 55 finished with value: 29191080.0 and parameters: {'sequence_length': 20, 'hidden_size': 110, 'num_layers': 3, 'num_blocks': 1, 'dropout_rate': 0.2999887505844677, 'epochs': 28, 'lr': 0.0026764234059976086}. Best is trial 39 with value: 3714388.25.\n"
     ]
    },
    {
     "name": "stdout",
     "output_type": "stream",
     "text": [
      "Early stopping at epoch 17\n"
     ]
    },
    {
     "name": "stderr",
     "output_type": "stream",
     "text": [
      "[I 2024-09-12 10:07:06,955] Trial 56 finished with value: 23649094.0 and parameters: {'sequence_length': 14, 'hidden_size': 99, 'num_layers': 2, 'num_blocks': 1, 'dropout_rate': 0.3838488812845062, 'epochs': 41, 'lr': 0.00809035237102648}. Best is trial 39 with value: 3714388.25.\n"
     ]
    },
    {
     "name": "stdout",
     "output_type": "stream",
     "text": [
      "Early stopping at epoch 22\n"
     ]
    },
    {
     "name": "stderr",
     "output_type": "stream",
     "text": [
      "[I 2024-09-12 10:07:07,739] Trial 57 finished with value: 7330760.0 and parameters: {'sequence_length': 14, 'hidden_size': 90, 'num_layers': 3, 'num_blocks': 4, 'dropout_rate': 0.41872385714795884, 'epochs': 67, 'lr': 0.0019474741110923543}. Best is trial 39 with value: 3714388.25.\n"
     ]
    },
    {
     "name": "stdout",
     "output_type": "stream",
     "text": [
      "Early stopping at epoch 13\n"
     ]
    },
    {
     "name": "stderr",
     "output_type": "stream",
     "text": [
      "[I 2024-09-12 10:07:08,488] Trial 58 finished with value: 8671772.0 and parameters: {'sequence_length': 14, 'hidden_size': 127, 'num_layers': 2, 'num_blocks': 1, 'dropout_rate': 0.31123499318375814, 'epochs': 60, 'lr': 0.005671444640863465}. Best is trial 39 with value: 3714388.25.\n"
     ]
    },
    {
     "name": "stdout",
     "output_type": "stream",
     "text": [
      "Early stopping at epoch 32\n"
     ]
    },
    {
     "name": "stderr",
     "output_type": "stream",
     "text": [
      "[I 2024-09-12 10:07:08,998] Trial 59 finished with value: 19561732.0 and parameters: {'sequence_length': 7, 'hidden_size': 87, 'num_layers': 2, 'num_blocks': 1, 'dropout_rate': 0.46301009900786866, 'epochs': 19, 'lr': 0.004604032250586352}. Best is trial 39 with value: 3714388.25.\n",
      "[I 2024-09-12 10:07:09,499] Trial 60 finished with value: 48190368.0 and parameters: {'sequence_length': 14, 'hidden_size': 121, 'num_layers': 2, 'num_blocks': 2, 'dropout_rate': 0.35393007570171153, 'epochs': 12, 'lr': 0.003467258405251354}. Best is trial 39 with value: 3714388.25.\n",
      "[I 2024-09-12 10:07:11,485] Trial 61 finished with value: 7999860.5 and parameters: {'sequence_length': 14, 'hidden_size': 93, 'num_layers': 3, 'num_blocks': 4, 'dropout_rate': 0.4114411508094277, 'epochs': 68, 'lr': 0.0023201636746090176}. Best is trial 39 with value: 3714388.25.\n"
     ]
    },
    {
     "name": "stdout",
     "output_type": "stream",
     "text": [
      "Early stopping at epoch 36\n"
     ]
    },
    {
     "name": "stderr",
     "output_type": "stream",
     "text": [
      "[I 2024-09-12 10:07:12,779] Trial 62 finished with value: 3877031.0 and parameters: {'sequence_length': 14, 'hidden_size': 77, 'num_layers': 3, 'num_blocks': 5, 'dropout_rate': 0.4859192653032951, 'epochs': 49, 'lr': 0.002033452104285127}. Best is trial 39 with value: 3714388.25.\n"
     ]
    },
    {
     "name": "stdout",
     "output_type": "stream",
     "text": [
      "Early stopping at epoch 21\n"
     ]
    },
    {
     "name": "stderr",
     "output_type": "stream",
     "text": [
      "[I 2024-09-12 10:07:14,387] Trial 63 finished with value: 3001454.0 and parameters: {'sequence_length': 14, 'hidden_size': 63, 'num_layers': 3, 'num_blocks': 5, 'dropout_rate': 0.4681781740672967, 'epochs': 49, 'lr': 0.0011991572847637301}. Best is trial 63 with value: 3001454.0.\n"
     ]
    },
    {
     "name": "stdout",
     "output_type": "stream",
     "text": [
      "Early stopping at epoch 26\n"
     ]
    },
    {
     "name": "stderr",
     "output_type": "stream",
     "text": [
      "[I 2024-09-12 10:07:15,300] Trial 64 finished with value: 45229952.0 and parameters: {'sequence_length': 14, 'hidden_size': 32, 'num_layers': 3, 'num_blocks': 5, 'dropout_rate': 0.47644734378266296, 'epochs': 47, 'lr': 0.0007894380739903286}. Best is trial 63 with value: 3001454.0.\n"
     ]
    },
    {
     "name": "stdout",
     "output_type": "stream",
     "text": [
      "Early stopping at epoch 13\n"
     ]
    },
    {
     "name": "stderr",
     "output_type": "stream",
     "text": [
      "[I 2024-09-12 10:07:18,233] Trial 65 finished with value: 7811770.5 and parameters: {'sequence_length': 20, 'hidden_size': 61, 'num_layers': 3, 'num_blocks': 5, 'dropout_rate': 0.48693495281281085, 'epochs': 51, 'lr': 0.001192689317750038}. Best is trial 63 with value: 3001454.0.\n"
     ]
    },
    {
     "name": "stdout",
     "output_type": "stream",
     "text": [
      "Early stopping at epoch 45\n"
     ]
    },
    {
     "name": "stderr",
     "output_type": "stream",
     "text": [
      "[I 2024-09-12 10:07:19,444] Trial 66 finished with value: 49508340.0 and parameters: {'sequence_length': 14, 'hidden_size': 76, 'num_layers': 3, 'num_blocks': 5, 'dropout_rate': 0.4449152241132599, 'epochs': 43, 'lr': 0.00043956911688813947}. Best is trial 63 with value: 3001454.0.\n"
     ]
    },
    {
     "name": "stdout",
     "output_type": "stream",
     "text": [
      "Early stopping at epoch 17\n"
     ]
    },
    {
     "name": "stderr",
     "output_type": "stream",
     "text": [
      "[I 2024-09-12 10:07:21,769] Trial 67 finished with value: 9087017.0 and parameters: {'sequence_length': 30, 'hidden_size': 46, 'num_layers': 3, 'num_blocks': 5, 'dropout_rate': 0.4552099571139167, 'epochs': 54, 'lr': 0.0016656389507955093}. Best is trial 63 with value: 3001454.0.\n"
     ]
    },
    {
     "name": "stdout",
     "output_type": "stream",
     "text": [
      "Early stopping at epoch 34\n"
     ]
    },
    {
     "name": "stderr",
     "output_type": "stream",
     "text": [
      "[I 2024-09-12 10:07:23,354] Trial 68 finished with value: 12386685.0 and parameters: {'sequence_length': 14, 'hidden_size': 51, 'num_layers': 3, 'num_blocks': 3, 'dropout_rate': 0.48422866502915496, 'epochs': 86, 'lr': 0.007537832860847278}. Best is trial 63 with value: 3001454.0.\n"
     ]
    },
    {
     "name": "stdout",
     "output_type": "stream",
     "text": [
      "Early stopping at epoch 38\n"
     ]
    },
    {
     "name": "stderr",
     "output_type": "stream",
     "text": [
      "[I 2024-09-12 10:07:24,994] Trial 69 finished with value: 14413205.0 and parameters: {'sequence_length': 30, 'hidden_size': 65, 'num_layers': 3, 'num_blocks': 4, 'dropout_rate': 0.4731977972985499, 'epochs': 50, 'lr': 0.001169097784240104}. Best is trial 63 with value: 3001454.0.\n"
     ]
    },
    {
     "name": "stdout",
     "output_type": "stream",
     "text": [
      "Early stopping at epoch 28\n"
     ]
    },
    {
     "name": "stderr",
     "output_type": "stream",
     "text": [
      "[I 2024-09-12 10:07:26,080] Trial 70 finished with value: 20158474.0 and parameters: {'sequence_length': 14, 'hidden_size': 72, 'num_layers': 3, 'num_blocks': 5, 'dropout_rate': 0.43484508826406654, 'epochs': 59, 'lr': 0.002147618435076374}. Best is trial 63 with value: 3001454.0.\n"
     ]
    },
    {
     "name": "stdout",
     "output_type": "stream",
     "text": [
      "Early stopping at epoch 14\n"
     ]
    },
    {
     "name": "stderr",
     "output_type": "stream",
     "text": [
      "[I 2024-09-12 10:07:27,880] Trial 71 finished with value: 10138261.0 and parameters: {'sequence_length': 14, 'hidden_size': 107, 'num_layers': 3, 'num_blocks': 4, 'dropout_rate': 0.3924361628824729, 'epochs': 35, 'lr': 0.0028931222753409386}. Best is trial 63 with value: 3001454.0.\n",
      "[I 2024-09-12 10:07:29,055] Trial 72 finished with value: 12763210.0 and parameters: {'sequence_length': 14, 'hidden_size': 24, 'num_layers': 3, 'num_blocks': 3, 'dropout_rate': 0.24989279203751538, 'epochs': 27, 'lr': 0.005160000084913399}. Best is trial 63 with value: 3001454.0.\n",
      "[I 2024-09-12 10:07:30,698] Trial 73 finished with value: 20569778.0 and parameters: {'sequence_length': 14, 'hidden_size': 114, 'num_layers': 2, 'num_blocks': 5, 'dropout_rate': 0.48734434444322916, 'epochs': 39, 'lr': 0.0009559494965055567}. Best is trial 63 with value: 3001454.0.\n"
     ]
    },
    {
     "name": "stdout",
     "output_type": "stream",
     "text": [
      "Early stopping at epoch 28\n"
     ]
    },
    {
     "name": "stderr",
     "output_type": "stream",
     "text": [
      "[I 2024-09-12 10:07:31,663] Trial 74 finished with value: 8722961.0 and parameters: {'sequence_length': 14, 'hidden_size': 104, 'num_layers': 1, 'num_blocks': 3, 'dropout_rate': 0.4636404974786713, 'epochs': 45, 'lr': 0.0024173383403364324}. Best is trial 63 with value: 3001454.0.\n"
     ]
    },
    {
     "name": "stdout",
     "output_type": "stream",
     "text": [
      "Early stopping at epoch 26\n"
     ]
    },
    {
     "name": "stderr",
     "output_type": "stream",
     "text": [
      "[I 2024-09-12 10:07:32,304] Trial 75 finished with value: 13025944.0 and parameters: {'sequence_length': 14, 'hidden_size': 37, 'num_layers': 3, 'num_blocks': 1, 'dropout_rate': 0.3195604097366887, 'epochs': 32, 'lr': 0.0032957605924299116}. Best is trial 63 with value: 3001454.0.\n"
     ]
    },
    {
     "name": "stdout",
     "output_type": "stream",
     "text": [
      "Early stopping at epoch 26\n"
     ]
    },
    {
     "name": "stderr",
     "output_type": "stream",
     "text": [
      "[I 2024-09-12 10:07:33,074] Trial 76 finished with value: 10449194.0 and parameters: {'sequence_length': 5, 'hidden_size': 84, 'num_layers': 2, 'num_blocks': 2, 'dropout_rate': 0.3740104344234621, 'epochs': 38, 'lr': 0.0014887587351127116}. Best is trial 63 with value: 3001454.0.\n"
     ]
    },
    {
     "name": "stdout",
     "output_type": "stream",
     "text": [
      "Early stopping at epoch 24\n"
     ]
    },
    {
     "name": "stderr",
     "output_type": "stream",
     "text": [
      "[I 2024-09-12 10:07:34,361] Trial 77 finished with value: 88329704.0 and parameters: {'sequence_length': 30, 'hidden_size': 76, 'num_layers': 3, 'num_blocks': 5, 'dropout_rate': 0.1950338732374368, 'epochs': 97, 'lr': 0.00043532986757688526}. Best is trial 63 with value: 3001454.0.\n"
     ]
    },
    {
     "name": "stdout",
     "output_type": "stream",
     "text": [
      "Early stopping at epoch 17\n"
     ]
    },
    {
     "name": "stderr",
     "output_type": "stream",
     "text": [
      "[I 2024-09-12 10:07:34,878] Trial 78 finished with value: 13430979.0 and parameters: {'sequence_length': 7, 'hidden_size': 100, 'num_layers': 1, 'num_blocks': 1, 'dropout_rate': 0.29381522357728573, 'epochs': 74, 'lr': 0.001982338839668202}. Best is trial 63 with value: 3001454.0.\n"
     ]
    },
    {
     "name": "stdout",
     "output_type": "stream",
     "text": [
      "Early stopping at epoch 24\n"
     ]
    },
    {
     "name": "stderr",
     "output_type": "stream",
     "text": [
      "[I 2024-09-12 10:07:35,549] Trial 79 finished with value: 19921396.0 and parameters: {'sequence_length': 14, 'hidden_size': 117, 'num_layers': 2, 'num_blocks': 2, 'dropout_rate': 0.237101027548399, 'epochs': 55, 'lr': 0.006026489308826408}. Best is trial 63 with value: 3001454.0.\n"
     ]
    },
    {
     "name": "stdout",
     "output_type": "stream",
     "text": [
      "Early stopping at epoch 21\n"
     ]
    },
    {
     "name": "stderr",
     "output_type": "stream",
     "text": [
      "[I 2024-09-12 10:07:36,031] Trial 80 finished with value: 25959870.0 and parameters: {'sequence_length': 5, 'hidden_size': 112, 'num_layers': 3, 'num_blocks': 1, 'dropout_rate': 0.3356964899082123, 'epochs': 48, 'lr': 0.0066671119877036895}. Best is trial 63 with value: 3001454.0.\n"
     ]
    },
    {
     "name": "stdout",
     "output_type": "stream",
     "text": [
      "Early stopping at epoch 17\n"
     ]
    },
    {
     "name": "stderr",
     "output_type": "stream",
     "text": [
      "[I 2024-09-12 10:07:37,250] Trial 81 finished with value: 13054307.0 and parameters: {'sequence_length': 14, 'hidden_size': 91, 'num_layers': 3, 'num_blocks': 4, 'dropout_rate': 0.45013218320020904, 'epochs': 66, 'lr': 0.001971917340841951}. Best is trial 63 with value: 3001454.0.\n"
     ]
    },
    {
     "name": "stdout",
     "output_type": "stream",
     "text": [
      "Early stopping at epoch 20\n"
     ]
    },
    {
     "name": "stderr",
     "output_type": "stream",
     "text": [
      "[I 2024-09-12 10:07:39,152] Trial 82 finished with value: 4987348.0 and parameters: {'sequence_length': 14, 'hidden_size': 80, 'num_layers': 3, 'num_blocks': 5, 'dropout_rate': 0.42750142093402543, 'epochs': 62, 'lr': 0.0024953209734041794}. Best is trial 63 with value: 3001454.0.\n"
     ]
    },
    {
     "name": "stdout",
     "output_type": "stream",
     "text": [
      "Early stopping at epoch 30\n"
     ]
    },
    {
     "name": "stderr",
     "output_type": "stream",
     "text": [
      "[I 2024-09-12 10:07:40,597] Trial 83 finished with value: 11607246.0 and parameters: {'sequence_length': 14, 'hidden_size': 79, 'num_layers': 3, 'num_blocks': 5, 'dropout_rate': 0.3967899288453599, 'epochs': 52, 'lr': 0.0025718268915752153}. Best is trial 63 with value: 3001454.0.\n"
     ]
    },
    {
     "name": "stdout",
     "output_type": "stream",
     "text": [
      "Early stopping at epoch 22\n"
     ]
    },
    {
     "name": "stderr",
     "output_type": "stream",
     "text": [
      "[I 2024-09-12 10:07:41,890] Trial 84 finished with value: 16121517.0 and parameters: {'sequence_length': 14, 'hidden_size': 83, 'num_layers': 3, 'num_blocks': 5, 'dropout_rate': 0.10492942638017305, 'epochs': 59, 'lr': 0.0038960595919847}. Best is trial 63 with value: 3001454.0.\n"
     ]
    },
    {
     "name": "stdout",
     "output_type": "stream",
     "text": [
      "Early stopping at epoch 18\n"
     ]
    },
    {
     "name": "stderr",
     "output_type": "stream",
     "text": [
      "[I 2024-09-12 10:07:43,303] Trial 85 finished with value: 32804604.0 and parameters: {'sequence_length': 14, 'hidden_size': 21, 'num_layers': 3, 'num_blocks': 5, 'dropout_rate': 0.4377155189416795, 'epochs': 71, 'lr': 0.002888524200525959}. Best is trial 63 with value: 3001454.0.\n"
     ]
    },
    {
     "name": "stdout",
     "output_type": "stream",
     "text": [
      "Early stopping at epoch 22\n"
     ]
    },
    {
     "name": "stderr",
     "output_type": "stream",
     "text": [
      "[I 2024-09-12 10:07:44,347] Trial 86 finished with value: 35349844.0 and parameters: {'sequence_length': 20, 'hidden_size': 69, 'num_layers': 2, 'num_blocks': 5, 'dropout_rate': 0.4218506461344086, 'epochs': 63, 'lr': 0.004412714480991474}. Best is trial 63 with value: 3001454.0.\n"
     ]
    },
    {
     "name": "stdout",
     "output_type": "stream",
     "text": [
      "Early stopping at epoch 16\n"
     ]
    },
    {
     "name": "stderr",
     "output_type": "stream",
     "text": [
      "[I 2024-09-12 10:07:44,803] Trial 87 finished with value: 23022052.0 and parameters: {'sequence_length': 14, 'hidden_size': 65, 'num_layers': 3, 'num_blocks': 1, 'dropout_rate': 0.47007910552389165, 'epochs': 42, 'lr': 0.009957064433681155}. Best is trial 63 with value: 3001454.0.\n"
     ]
    },
    {
     "name": "stdout",
     "output_type": "stream",
     "text": [
      "Early stopping at epoch 16\n"
     ]
    },
    {
     "name": "stderr",
     "output_type": "stream",
     "text": [
      "[I 2024-09-12 10:07:46,659] Trial 88 finished with value: 7526242.0 and parameters: {'sequence_length': 30, 'hidden_size': 107, 'num_layers': 2, 'num_blocks': 5, 'dropout_rate': 0.49646298126561006, 'epochs': 56, 'lr': 0.0015231906635907787}. Best is trial 63 with value: 3001454.0.\n"
     ]
    },
    {
     "name": "stdout",
     "output_type": "stream",
     "text": [
      "Early stopping at epoch 27\n"
     ]
    },
    {
     "name": "stderr",
     "output_type": "stream",
     "text": [
      "[I 2024-09-12 10:07:47,427] Trial 89 finished with value: 10923282.0 and parameters: {'sequence_length': 5, 'hidden_size': 73, 'num_layers': 3, 'num_blocks': 1, 'dropout_rate': 0.16683568633555454, 'epochs': 49, 'lr': 0.005354265981334635}. Best is trial 63 with value: 3001454.0.\n"
     ]
    },
    {
     "name": "stdout",
     "output_type": "stream",
     "text": [
      "Early stopping at epoch 34\n"
     ]
    },
    {
     "name": "stderr",
     "output_type": "stream",
     "text": [
      "[I 2024-09-12 10:07:47,955] Trial 90 finished with value: 19042858.0 and parameters: {'sequence_length': 14, 'hidden_size': 87, 'num_layers': 1, 'num_blocks': 1, 'dropout_rate': 0.36513044243399234, 'epochs': 26, 'lr': 0.004928071293386845}. Best is trial 63 with value: 3001454.0.\n",
      "[I 2024-09-12 10:07:49,448] Trial 91 finished with value: 10480830.0 and parameters: {'sequence_length': 14, 'hidden_size': 82, 'num_layers': 3, 'num_blocks': 4, 'dropout_rate': 0.4184520110447017, 'epochs': 64, 'lr': 0.001995373910931747}. Best is trial 63 with value: 3001454.0.\n"
     ]
    },
    {
     "name": "stdout",
     "output_type": "stream",
     "text": [
      "Early stopping at epoch 27\n"
     ]
    },
    {
     "name": "stderr",
     "output_type": "stream",
     "text": [
      "[I 2024-09-12 10:07:50,396] Trial 92 finished with value: 21738012.0 and parameters: {'sequence_length': 14, 'hidden_size': 78, 'num_layers': 3, 'num_blocks': 4, 'dropout_rate': 0.4113115690209466, 'epochs': 60, 'lr': 0.0018350345891642173}. Best is trial 63 with value: 3001454.0.\n"
     ]
    },
    {
     "name": "stdout",
     "output_type": "stream",
     "text": [
      "Early stopping at epoch 16\n"
     ]
    },
    {
     "name": "stderr",
     "output_type": "stream",
     "text": [
      "[I 2024-09-12 10:07:51,409] Trial 93 finished with value: 43054016.0 and parameters: {'sequence_length': 14, 'hidden_size': 90, 'num_layers': 3, 'num_blocks': 5, 'dropout_rate': 0.21544847369693937, 'epochs': 66, 'lr': 0.008622118437134159}. Best is trial 63 with value: 3001454.0.\n"
     ]
    },
    {
     "name": "stdout",
     "output_type": "stream",
     "text": [
      "Early stopping at epoch 12\n"
     ]
    },
    {
     "name": "stderr",
     "output_type": "stream",
     "text": [
      "[I 2024-09-12 10:07:53,398] Trial 94 finished with value: 13940473.0 and parameters: {'sequence_length': 14, 'hidden_size': 96, 'num_layers': 3, 'num_blocks': 5, 'dropout_rate': 0.45836273309345427, 'epochs': 91, 'lr': 0.0024578062517995342}. Best is trial 63 with value: 3001454.0.\n"
     ]
    },
    {
     "name": "stdout",
     "output_type": "stream",
     "text": [
      "Early stopping at epoch 30\n"
     ]
    },
    {
     "name": "stderr",
     "output_type": "stream",
     "text": [
      "[I 2024-09-12 10:07:54,900] Trial 95 finished with value: 11233806.0 and parameters: {'sequence_length': 14, 'hidden_size': 121, 'num_layers': 3, 'num_blocks': 4, 'dropout_rate': 0.428716534637136, 'epochs': 78, 'lr': 0.0010643822885625291}. Best is trial 63 with value: 3001454.0.\n"
     ]
    },
    {
     "name": "stdout",
     "output_type": "stream",
     "text": [
      "Early stopping at epoch 26\n"
     ]
    },
    {
     "name": "stderr",
     "output_type": "stream",
     "text": [
      "[I 2024-09-12 10:07:55,736] Trial 96 finished with value: 15407788.0 and parameters: {'sequence_length': 14, 'hidden_size': 86, 'num_layers': 3, 'num_blocks': 3, 'dropout_rate': 0.2901440856032722, 'epochs': 54, 'lr': 0.009371286454829444}. Best is trial 63 with value: 3001454.0.\n"
     ]
    },
    {
     "name": "stdout",
     "output_type": "stream",
     "text": [
      "Early stopping at epoch 16\n"
     ]
    },
    {
     "name": "stderr",
     "output_type": "stream",
     "text": [
      "[I 2024-09-12 10:07:56,385] Trial 97 finished with value: 18813824.0 and parameters: {'sequence_length': 14, 'hidden_size': 102, 'num_layers': 2, 'num_blocks': 2, 'dropout_rate': 0.2733478536074736, 'epochs': 61, 'lr': 0.0021684936053889487}. Best is trial 63 with value: 3001454.0.\n"
     ]
    },
    {
     "name": "stdout",
     "output_type": "stream",
     "text": [
      "Early stopping at epoch 20\n"
     ]
    },
    {
     "name": "stderr",
     "output_type": "stream",
     "text": [
      "[I 2024-09-12 10:07:57,082] Trial 98 finished with value: 34028940.0 and parameters: {'sequence_length': 30, 'hidden_size': 93, 'num_layers': 3, 'num_blocks': 1, 'dropout_rate': 0.44305201017787466, 'epochs': 46, 'lr': 0.003094114040071757}. Best is trial 63 with value: 3001454.0.\n"
     ]
    },
    {
     "name": "stdout",
     "output_type": "stream",
     "text": [
      "Early stopping at epoch 26\n"
     ]
    },
    {
     "name": "stderr",
     "output_type": "stream",
     "text": [
      "[I 2024-09-12 10:07:58,269] Trial 99 finished with value: 11592107.0 and parameters: {'sequence_length': 7, 'hidden_size': 77, 'num_layers': 2, 'num_blocks': 5, 'dropout_rate': 0.3487356654894317, 'epochs': 51, 'lr': 0.0037388073254314173}. Best is trial 63 with value: 3001454.0.\n",
      "[I 2024-09-12 10:07:58,369] A new study created in memory with name: no-name-d49afa71-a8fd-4b54-8bc0-c02df56ced34\n"
     ]
    },
    {
     "name": "stdout",
     "output_type": "stream",
     "text": [
      "Early stopping at epoch 21\n",
      "parameters for NVDA saved to ../models/best-hyperparameters/pytorch/lstm-regression/NVDA.json\n",
      "Best model for NVDA saved with RMSE: 3001454.0\n",
      "Deleted ../models/hyperparameters-search-models/pytorch/conv1d-classification/SGDUSD=X.pth\n",
      "Deleted SGDUSD=X from ../models/hyperparameters-search-models/ticker-all-models-best-hyperparameters-list.csv\n"
     ]
    },
    {
     "name": "stderr",
     "output_type": "stream",
     "text": [
      "[I 2024-09-12 10:07:58,957] Trial 0 finished with value: 0.5158730158730159 and parameters: {'out_channels': 102, 'kernel_size': 5, 'num_blocks': 1, 'l2_lambda': 0.006372050007019925, 'dropout_rate': 0.22420592929380379, 'epochs': 473, 'lr': 0.008561769191224151}. Best is trial 0 with value: 0.5158730158730159.\n"
     ]
    },
    {
     "name": "stdout",
     "output_type": "stream",
     "text": [
      "Early stopping at epoch 14\n"
     ]
    },
    {
     "name": "stderr",
     "output_type": "stream",
     "text": [
      "[I 2024-09-12 10:08:01,553] Trial 1 finished with value: 0.5238095238095238 and parameters: {'out_channels': 46, 'kernel_size': 4, 'num_blocks': 5, 'l2_lambda': 0.006108755071940488, 'dropout_rate': 0.42421127149264604, 'epochs': 844, 'lr': 0.009960368907360257}. Best is trial 1 with value: 0.5238095238095238.\n"
     ]
    },
    {
     "name": "stdout",
     "output_type": "stream",
     "text": [
      "Early stopping at epoch 22\n"
     ]
    },
    {
     "name": "stderr",
     "output_type": "stream",
     "text": [
      "[I 2024-09-12 10:08:02,474] Trial 2 finished with value: 0.5238095238095238 and parameters: {'out_channels': 83, 'kernel_size': 7, 'num_blocks': 2, 'l2_lambda': 0.0006273679957949209, 'dropout_rate': 0.27703461827808634, 'epochs': 949, 'lr': 0.005075085059469797}. Best is trial 1 with value: 0.5238095238095238.\n"
     ]
    },
    {
     "name": "stdout",
     "output_type": "stream",
     "text": [
      "Early stopping at epoch 15\n"
     ]
    },
    {
     "name": "stderr",
     "output_type": "stream",
     "text": [
      "[I 2024-09-12 10:08:03,995] Trial 3 finished with value: 0.5158730158730159 and parameters: {'out_channels': 108, 'kernel_size': 3, 'num_blocks': 5, 'l2_lambda': 0.00849621454171486, 'dropout_rate': 0.46227051633931004, 'epochs': 196, 'lr': 0.008305266449532384}. Best is trial 1 with value: 0.5238095238095238.\n"
     ]
    },
    {
     "name": "stdout",
     "output_type": "stream",
     "text": [
      "Early stopping at epoch 12\n"
     ]
    },
    {
     "name": "stderr",
     "output_type": "stream",
     "text": [
      "[I 2024-09-12 10:08:05,058] Trial 4 finished with value: 0.5158730158730159 and parameters: {'out_channels': 118, 'kernel_size': 7, 'num_blocks': 3, 'l2_lambda': 0.002215168814427563, 'dropout_rate': 0.43029669865337994, 'epochs': 608, 'lr': 0.005244180402282538}. Best is trial 1 with value: 0.5238095238095238.\n"
     ]
    },
    {
     "name": "stdout",
     "output_type": "stream",
     "text": [
      "Early stopping at epoch 11\n"
     ]
    },
    {
     "name": "stderr",
     "output_type": "stream",
     "text": [
      "[I 2024-09-12 10:08:05,527] Trial 5 finished with value: 0.5158730158730159 and parameters: {'out_channels': 67, 'kernel_size': 7, 'num_blocks': 1, 'l2_lambda': 0.005098142780789547, 'dropout_rate': 0.1648765144027943, 'epochs': 403, 'lr': 0.0047725837209342025}. Best is trial 1 with value: 0.5238095238095238.\n"
     ]
    },
    {
     "name": "stdout",
     "output_type": "stream",
     "text": [
      "Early stopping at epoch 12\n"
     ]
    },
    {
     "name": "stderr",
     "output_type": "stream",
     "text": [
      "[I 2024-09-12 10:08:08,795] Trial 6 finished with value: 0.5317460317460317 and parameters: {'out_channels': 77, 'kernel_size': 6, 'num_blocks': 5, 'l2_lambda': 0.005825222358254418, 'dropout_rate': 0.4518111388249447, 'epochs': 625, 'lr': 0.0005406836882146449}. Best is trial 6 with value: 0.5317460317460317.\n"
     ]
    },
    {
     "name": "stdout",
     "output_type": "stream",
     "text": [
      "Early stopping at epoch 24\n"
     ]
    },
    {
     "name": "stderr",
     "output_type": "stream",
     "text": [
      "[I 2024-09-12 10:08:09,177] Trial 7 finished with value: 0.5158730158730159 and parameters: {'out_channels': 28, 'kernel_size': 5, 'num_blocks': 1, 'l2_lambda': 0.00012282605072550922, 'dropout_rate': 0.4253527690508587, 'epochs': 284, 'lr': 0.005479146205793344}. Best is trial 6 with value: 0.5317460317460317.\n"
     ]
    },
    {
     "name": "stdout",
     "output_type": "stream",
     "text": [
      "Early stopping at epoch 10\n"
     ]
    },
    {
     "name": "stderr",
     "output_type": "stream",
     "text": [
      "[I 2024-09-12 10:08:10,125] Trial 8 finished with value: 0.5158730158730159 and parameters: {'out_channels': 62, 'kernel_size': 3, 'num_blocks': 4, 'l2_lambda': 0.0037842066953244604, 'dropout_rate': 0.15290324057689128, 'epochs': 372, 'lr': 0.001864006434770406}. Best is trial 6 with value: 0.5317460317460317.\n"
     ]
    },
    {
     "name": "stdout",
     "output_type": "stream",
     "text": [
      "Early stopping at epoch 10\n"
     ]
    },
    {
     "name": "stderr",
     "output_type": "stream",
     "text": [
      "[I 2024-09-12 10:08:10,741] Trial 9 finished with value: 0.5158730158730159 and parameters: {'out_channels': 80, 'kernel_size': 7, 'num_blocks': 2, 'l2_lambda': 0.005180308232487853, 'dropout_rate': 0.2956306995525978, 'epochs': 136, 'lr': 0.009201277334599975}. Best is trial 6 with value: 0.5317460317460317.\n"
     ]
    },
    {
     "name": "stdout",
     "output_type": "stream",
     "text": [
      "Early stopping at epoch 10\n"
     ]
    },
    {
     "name": "stderr",
     "output_type": "stream",
     "text": [
      "[I 2024-09-12 10:08:11,717] Trial 10 finished with value: 0.48412698412698413 and parameters: {'out_channels': 21, 'kernel_size': 6, 'num_blocks': 4, 'l2_lambda': 0.009668856896224197, 'dropout_rate': 0.359004761298779, 'epochs': 683, 'lr': 0.0005784996760688621}. Best is trial 6 with value: 0.5317460317460317.\n"
     ]
    },
    {
     "name": "stdout",
     "output_type": "stream",
     "text": [
      "Early stopping at epoch 10\n"
     ]
    },
    {
     "name": "stderr",
     "output_type": "stream",
     "text": [
      "[I 2024-09-12 10:08:13,072] Trial 11 finished with value: 0.5158730158730159 and parameters: {'out_channels': 46, 'kernel_size': 4, 'num_blocks': 5, 'l2_lambda': 0.007382569430670552, 'dropout_rate': 0.48892316163473987, 'epochs': 812, 'lr': 0.0024818528208937827}. Best is trial 6 with value: 0.5317460317460317.\n"
     ]
    },
    {
     "name": "stdout",
     "output_type": "stream",
     "text": [
      "Early stopping at epoch 10\n"
     ]
    },
    {
     "name": "stderr",
     "output_type": "stream",
     "text": [
      "[I 2024-09-12 10:08:14,318] Trial 12 finished with value: 0.5158730158730159 and parameters: {'out_channels': 46, 'kernel_size': 4, 'num_blocks': 5, 'l2_lambda': 0.006680134047798088, 'dropout_rate': 0.38154451465181666, 'epochs': 763, 'lr': 0.007046173251997762}. Best is trial 6 with value: 0.5317460317460317.\n"
     ]
    },
    {
     "name": "stdout",
     "output_type": "stream",
     "text": [
      "Early stopping at epoch 10\n"
     ]
    },
    {
     "name": "stderr",
     "output_type": "stream",
     "text": [
      "[I 2024-09-12 10:08:15,507] Trial 13 finished with value: 0.5158730158730159 and parameters: {'out_channels': 54, 'kernel_size': 6, 'num_blocks': 4, 'l2_lambda': 0.004218305918174596, 'dropout_rate': 0.3698970897111229, 'epochs': 969, 'lr': 0.0033770026066680114}. Best is trial 6 with value: 0.5317460317460317.\n"
     ]
    },
    {
     "name": "stdout",
     "output_type": "stream",
     "text": [
      "Early stopping at epoch 10\n"
     ]
    },
    {
     "name": "stderr",
     "output_type": "stream",
     "text": [
      "[I 2024-09-12 10:08:17,005] Trial 14 finished with value: 0.48412698412698413 and parameters: {'out_channels': 92, 'kernel_size': 4, 'num_blocks': 5, 'l2_lambda': 0.0025320003925821477, 'dropout_rate': 0.4992570778772739, 'epochs': 823, 'lr': 0.000327534540871528}. Best is trial 6 with value: 0.5317460317460317.\n"
     ]
    },
    {
     "name": "stdout",
     "output_type": "stream",
     "text": [
      "Early stopping at epoch 10\n"
     ]
    },
    {
     "name": "stderr",
     "output_type": "stream",
     "text": [
      "[I 2024-09-12 10:08:19,023] Trial 15 finished with value: 0.5238095238095238 and parameters: {'out_channels': 40, 'kernel_size': 6, 'num_blocks': 4, 'l2_lambda': 0.007671870828040745, 'dropout_rate': 0.4105142240139749, 'epochs': 574, 'lr': 0.009899996055355968}. Best is trial 6 with value: 0.5317460317460317.\n"
     ]
    },
    {
     "name": "stdout",
     "output_type": "stream",
     "text": [
      "Early stopping at epoch 21\n"
     ]
    },
    {
     "name": "stderr",
     "output_type": "stream",
     "text": [
      "[I 2024-09-12 10:08:20,193] Trial 16 finished with value: 0.5476190476190477 and parameters: {'out_channels': 75, 'kernel_size': 5, 'num_blocks': 3, 'l2_lambda': 0.005972497563838444, 'dropout_rate': 0.34440401080803434, 'epochs': 720, 'lr': 0.0069481250223129365}. Best is trial 16 with value: 0.5476190476190477.\n"
     ]
    },
    {
     "name": "stdout",
     "output_type": "stream",
     "text": [
      "Early stopping at epoch 14\n"
     ]
    },
    {
     "name": "stderr",
     "output_type": "stream",
     "text": [
      "[I 2024-09-12 10:08:21,135] Trial 17 finished with value: 0.5158730158730159 and parameters: {'out_channels': 72, 'kernel_size': 6, 'num_blocks': 3, 'l2_lambda': 0.0038147310306124345, 'dropout_rate': 0.3298738755730826, 'epochs': 696, 'lr': 0.007222511665126385}. Best is trial 16 with value: 0.5476190476190477.\n"
     ]
    },
    {
     "name": "stdout",
     "output_type": "stream",
     "text": [
      "Early stopping at epoch 10\n"
     ]
    },
    {
     "name": "stderr",
     "output_type": "stream",
     "text": [
      "[I 2024-09-12 10:08:21,850] Trial 18 finished with value: 0.5158730158730159 and parameters: {'out_channels': 94, 'kernel_size': 5, 'num_blocks': 2, 'l2_lambda': 0.008900447422968855, 'dropout_rate': 0.2159027636903086, 'epochs': 504, 'lr': 0.006678295290597509}. Best is trial 16 with value: 0.5476190476190477.\n"
     ]
    },
    {
     "name": "stdout",
     "output_type": "stream",
     "text": [
      "Early stopping at epoch 10\n"
     ]
    },
    {
     "name": "stderr",
     "output_type": "stream",
     "text": [
      "[I 2024-09-12 10:08:22,810] Trial 19 finished with value: 0.5158730158730159 and parameters: {'out_channels': 79, 'kernel_size': 5, 'num_blocks': 3, 'l2_lambda': 0.005603760504144384, 'dropout_rate': 0.10435430795550371, 'epochs': 650, 'lr': 0.003638138055892099}. Best is trial 16 with value: 0.5476190476190477.\n"
     ]
    },
    {
     "name": "stdout",
     "output_type": "stream",
     "text": [
      "Early stopping at epoch 11\n"
     ]
    },
    {
     "name": "stderr",
     "output_type": "stream",
     "text": [
      "[I 2024-09-12 10:08:24,908] Trial 20 finished with value: 0.5238095238095238 and parameters: {'out_channels': 127, 'kernel_size': 6, 'num_blocks': 3, 'l2_lambda': 0.0029012007162003512, 'dropout_rate': 0.32677349907432934, 'epochs': 899, 'lr': 0.0015132181598784301}. Best is trial 16 with value: 0.5476190476190477.\n"
     ]
    },
    {
     "name": "stdout",
     "output_type": "stream",
     "text": [
      "Early stopping at epoch 21\n"
     ]
    },
    {
     "name": "stderr",
     "output_type": "stream",
     "text": [
      "[I 2024-09-12 10:08:25,991] Trial 21 finished with value: 0.5158730158730159 and parameters: {'out_channels': 57, 'kernel_size': 4, 'num_blocks': 4, 'l2_lambda': 0.006203413273659488, 'dropout_rate': 0.4529375537033644, 'epochs': 747, 'lr': 0.00782879942034821}. Best is trial 16 with value: 0.5476190476190477.\n"
     ]
    },
    {
     "name": "stdout",
     "output_type": "stream",
     "text": [
      "Early stopping at epoch 10\n"
     ]
    },
    {
     "name": "stderr",
     "output_type": "stream",
     "text": [
      "[I 2024-09-12 10:08:27,650] Trial 22 finished with value: 0.5317460317460317 and parameters: {'out_channels': 36, 'kernel_size': 4, 'num_blocks': 5, 'l2_lambda': 0.0071929624701308125, 'dropout_rate': 0.4019755561346956, 'epochs': 863, 'lr': 0.006134233908561597}. Best is trial 16 with value: 0.5476190476190477.\n"
     ]
    },
    {
     "name": "stdout",
     "output_type": "stream",
     "text": [
      "Early stopping at epoch 14\n"
     ]
    },
    {
     "name": "stderr",
     "output_type": "stream",
     "text": [
      "[I 2024-09-12 10:08:28,870] Trial 23 finished with value: 0.5317460317460317 and parameters: {'out_channels': 30, 'kernel_size': 5, 'num_blocks': 4, 'l2_lambda': 0.007577643394139669, 'dropout_rate': 0.40130405123349666, 'epochs': 886, 'lr': 0.006156108280162825}. Best is trial 16 with value: 0.5476190476190477.\n"
     ]
    },
    {
     "name": "stdout",
     "output_type": "stream",
     "text": [
      "Early stopping at epoch 14\n"
     ]
    },
    {
     "name": "stderr",
     "output_type": "stream",
     "text": [
      "[I 2024-09-12 10:08:32,210] Trial 24 finished with value: 0.5396825396825397 and parameters: {'out_channels': 88, 'kernel_size': 3, 'num_blocks': 5, 'l2_lambda': 0.004455437261468588, 'dropout_rate': 0.32978021872065394, 'epochs': 736, 'lr': 0.00620740958209175}. Best is trial 16 with value: 0.5476190476190477.\n"
     ]
    },
    {
     "name": "stdout",
     "output_type": "stream",
     "text": [
      "Early stopping at epoch 28\n"
     ]
    },
    {
     "name": "stderr",
     "output_type": "stream",
     "text": [
      "[I 2024-09-12 10:08:33,572] Trial 25 finished with value: 0.5158730158730159 and parameters: {'out_channels': 87, 'kernel_size': 3, 'num_blocks': 3, 'l2_lambda': 0.004516485287296539, 'dropout_rate': 0.3300986754471525, 'epochs': 544, 'lr': 0.0040173394396933355}. Best is trial 16 with value: 0.5476190476190477.\n"
     ]
    },
    {
     "name": "stdout",
     "output_type": "stream",
     "text": [
      "Early stopping at epoch 17\n"
     ]
    },
    {
     "name": "stderr",
     "output_type": "stream",
     "text": [
      "[I 2024-09-12 10:08:34,558] Trial 26 finished with value: 0.5158730158730159 and parameters: {'out_channels': 104, 'kernel_size': 6, 'num_blocks': 2, 'l2_lambda': 0.0031830842447668913, 'dropout_rate': 0.2601189198937826, 'epochs': 725, 'lr': 0.004464322084831187}. Best is trial 16 with value: 0.5476190476190477.\n"
     ]
    },
    {
     "name": "stdout",
     "output_type": "stream",
     "text": [
      "Early stopping at epoch 14\n"
     ]
    },
    {
     "name": "stderr",
     "output_type": "stream",
     "text": [
      "[I 2024-09-12 10:08:35,600] Trial 27 finished with value: 0.5158730158730159 and parameters: {'out_channels': 73, 'kernel_size': 3, 'num_blocks': 4, 'l2_lambda': 0.0018989429019541587, 'dropout_rate': 0.2518166261160352, 'epochs': 619, 'lr': 0.005961073631820894}. Best is trial 16 with value: 0.5476190476190477.\n"
     ]
    },
    {
     "name": "stdout",
     "output_type": "stream",
     "text": [
      "Early stopping at epoch 10\n"
     ]
    },
    {
     "name": "stderr",
     "output_type": "stream",
     "text": [
      "[I 2024-09-12 10:08:38,100] Trial 28 finished with value: 0.5317460317460317 and parameters: {'out_channels': 96, 'kernel_size': 5, 'num_blocks': 5, 'l2_lambda': 0.005518403072940823, 'dropout_rate': 0.35492849272438065, 'epochs': 761, 'lr': 0.007654818735163289}. Best is trial 16 with value: 0.5476190476190477.\n"
     ]
    },
    {
     "name": "stdout",
     "output_type": "stream",
     "text": [
      "Early stopping at epoch 20\n"
     ]
    },
    {
     "name": "stderr",
     "output_type": "stream",
     "text": [
      "[I 2024-09-12 10:08:39,221] Trial 29 finished with value: 0.5476190476190477 and parameters: {'out_channels': 111, 'kernel_size': 6, 'num_blocks': 3, 'l2_lambda': 0.004615251004927524, 'dropout_rate': 0.30010895549233496, 'epochs': 464, 'lr': 0.00283949867086115}. Best is trial 16 with value: 0.5476190476190477.\n"
     ]
    },
    {
     "name": "stdout",
     "output_type": "stream",
     "text": [
      "Early stopping at epoch 10\n"
     ]
    },
    {
     "name": "stderr",
     "output_type": "stream",
     "text": [
      "[I 2024-09-12 10:08:40,187] Trial 30 finished with value: 0.5158730158730159 and parameters: {'out_channels': 111, 'kernel_size': 5, 'num_blocks': 3, 'l2_lambda': 0.004775465352501225, 'dropout_rate': 0.2202605018000774, 'epochs': 420, 'lr': 0.0028698383405993343}. Best is trial 16 with value: 0.5476190476190477.\n"
     ]
    },
    {
     "name": "stdout",
     "output_type": "stream",
     "text": [
      "Early stopping at epoch 10\n"
     ]
    },
    {
     "name": "stderr",
     "output_type": "stream",
     "text": [
      "[I 2024-09-12 10:08:41,507] Trial 31 finished with value: 0.5158730158730159 and parameters: {'out_channels': 99, 'kernel_size': 6, 'num_blocks': 3, 'l2_lambda': 0.005782357330124943, 'dropout_rate': 0.30178875204286437, 'epochs': 522, 'lr': 0.0008706480799144743}. Best is trial 16 with value: 0.5476190476190477.\n"
     ]
    },
    {
     "name": "stdout",
     "output_type": "stream",
     "text": [
      "Early stopping at epoch 13\n"
     ]
    },
    {
     "name": "stderr",
     "output_type": "stream",
     "text": [
      "[I 2024-09-12 10:08:42,928] Trial 32 finished with value: 0.5555555555555556 and parameters: {'out_channels': 118, 'kernel_size': 6, 'num_blocks': 2, 'l2_lambda': 0.006638303493677267, 'dropout_rate': 0.30827237423311205, 'epochs': 454, 'lr': 0.0021341189949103294}. Best is trial 32 with value: 0.5555555555555556.\n"
     ]
    },
    {
     "name": "stdout",
     "output_type": "stream",
     "text": [
      "Early stopping at epoch 20\n"
     ]
    },
    {
     "name": "stderr",
     "output_type": "stream",
     "text": [
      "[I 2024-09-12 10:08:43,897] Trial 33 finished with value: 0.5158730158730159 and parameters: {'out_channels': 121, 'kernel_size': 7, 'num_blocks': 2, 'l2_lambda': 0.0066840132097787126, 'dropout_rate': 0.2989116270402164, 'epochs': 451, 'lr': 0.004353438349741862}. Best is trial 32 with value: 0.5555555555555556.\n"
     ]
    },
    {
     "name": "stdout",
     "output_type": "stream",
     "text": [
      "Early stopping at epoch 14\n"
     ]
    },
    {
     "name": "stderr",
     "output_type": "stream",
     "text": [
      "[I 2024-09-12 10:08:44,385] Trial 34 finished with value: 0.5158730158730159 and parameters: {'out_channels': 116, 'kernel_size': 7, 'num_blocks': 1, 'l2_lambda': 0.0038239902676351183, 'dropout_rate': 0.24949966000942506, 'epochs': 337, 'lr': 0.0022704380554892756}. Best is trial 32 with value: 0.5555555555555556.\n"
     ]
    },
    {
     "name": "stdout",
     "output_type": "stream",
     "text": [
      "Early stopping at epoch 11\n"
     ]
    },
    {
     "name": "stderr",
     "output_type": "stream",
     "text": [
      "[I 2024-09-12 10:08:45,371] Trial 35 finished with value: 0.5158730158730159 and parameters: {'out_channels': 127, 'kernel_size': 3, 'num_blocks': 2, 'l2_lambda': 0.0012246885571658992, 'dropout_rate': 0.3163130394804593, 'epochs': 317, 'lr': 0.003166188010179507}. Best is trial 32 with value: 0.5555555555555556.\n"
     ]
    },
    {
     "name": "stdout",
     "output_type": "stream",
     "text": [
      "Early stopping at epoch 15\n"
     ]
    },
    {
     "name": "stderr",
     "output_type": "stream",
     "text": [
      "[I 2024-09-12 10:08:46,520] Trial 36 finished with value: 0.5158730158730159 and parameters: {'out_channels': 87, 'kernel_size': 5, 'num_blocks': 3, 'l2_lambda': 0.00822154854769151, 'dropout_rate': 0.2741597132125916, 'epochs': 469, 'lr': 0.005290425300069558}. Best is trial 32 with value: 0.5555555555555556.\n"
     ]
    },
    {
     "name": "stdout",
     "output_type": "stream",
     "text": [
      "Early stopping at epoch 12\n"
     ]
    },
    {
     "name": "stderr",
     "output_type": "stream",
     "text": [
      "[I 2024-09-12 10:08:47,279] Trial 37 finished with value: 0.5158730158730159 and parameters: {'out_channels': 106, 'kernel_size': 6, 'num_blocks': 2, 'l2_lambda': 0.006646629956307411, 'dropout_rate': 0.3500393936880678, 'epochs': 259, 'lr': 0.0012933800490399121}. Best is trial 32 with value: 0.5555555555555556.\n"
     ]
    },
    {
     "name": "stdout",
     "output_type": "stream",
     "text": [
      "Early stopping at epoch 10\n"
     ]
    },
    {
     "name": "stderr",
     "output_type": "stream",
     "text": [
      "[I 2024-09-12 10:08:47,821] Trial 38 finished with value: 0.5158730158730159 and parameters: {'out_channels': 114, 'kernel_size': 7, 'num_blocks': 1, 'l2_lambda': 0.005044066395892801, 'dropout_rate': 0.19698620268881784, 'epochs': 587, 'lr': 0.008501200912766894}. Best is trial 32 with value: 0.5555555555555556.\n"
     ]
    },
    {
     "name": "stdout",
     "output_type": "stream",
     "text": [
      "Early stopping at epoch 12\n"
     ]
    },
    {
     "name": "stderr",
     "output_type": "stream",
     "text": [
      "[I 2024-09-12 10:08:48,620] Trial 39 finished with value: 0.5555555555555556 and parameters: {'out_channels': 122, 'kernel_size': 6, 'num_blocks': 2, 'l2_lambda': 0.004357530419112455, 'dropout_rate': 0.28312059162359643, 'epochs': 648, 'lr': 0.006695141082449908}. Best is trial 32 with value: 0.5555555555555556.\n"
     ]
    },
    {
     "name": "stdout",
     "output_type": "stream",
     "text": [
      "Early stopping at epoch 10\n"
     ]
    },
    {
     "name": "stderr",
     "output_type": "stream",
     "text": [
      "[I 2024-09-12 10:08:49,466] Trial 40 finished with value: 0.5158730158730159 and parameters: {'out_channels': 122, 'kernel_size': 6, 'num_blocks': 2, 'l2_lambda': 0.0033503156981918186, 'dropout_rate': 0.27675435895080547, 'epochs': 383, 'lr': 0.00804541228712619}. Best is trial 32 with value: 0.5555555555555556.\n"
     ]
    },
    {
     "name": "stdout",
     "output_type": "stream",
     "text": [
      "Early stopping at epoch 11\n"
     ]
    },
    {
     "name": "stderr",
     "output_type": "stream",
     "text": [
      "[I 2024-09-12 10:08:50,681] Trial 41 finished with value: 0.5158730158730159 and parameters: {'out_channels': 108, 'kernel_size': 6, 'num_blocks': 3, 'l2_lambda': 0.004364559256346687, 'dropout_rate': 0.3134254143630284, 'epochs': 659, 'lr': 0.006634756372752992}. Best is trial 32 with value: 0.5555555555555556.\n"
     ]
    },
    {
     "name": "stdout",
     "output_type": "stream",
     "text": [
      "Early stopping at epoch 12\n"
     ]
    },
    {
     "name": "stderr",
     "output_type": "stream",
     "text": [
      "[I 2024-09-12 10:08:51,397] Trial 42 finished with value: 0.5158730158730159 and parameters: {'out_channels': 101, 'kernel_size': 7, 'num_blocks': 2, 'l2_lambda': 0.006221405969717836, 'dropout_rate': 0.28896824129723053, 'epochs': 796, 'lr': 0.005528782929252899}. Best is trial 32 with value: 0.5555555555555556.\n"
     ]
    },
    {
     "name": "stdout",
     "output_type": "stream",
     "text": [
      "Early stopping at epoch 10\n"
     ]
    },
    {
     "name": "stderr",
     "output_type": "stream",
     "text": [
      "[I 2024-09-12 10:08:51,875] Trial 43 finished with value: 0.5158730158730159 and parameters: {'out_channels': 121, 'kernel_size': 6, 'num_blocks': 1, 'l2_lambda': 0.0052115381099137265, 'dropout_rate': 0.34217881310548703, 'epochs': 492, 'lr': 0.007340436227673465}. Best is trial 32 with value: 0.5555555555555556.\n"
     ]
    },
    {
     "name": "stdout",
     "output_type": "stream",
     "text": [
      "Early stopping at epoch 10\n"
     ]
    },
    {
     "name": "stderr",
     "output_type": "stream",
     "text": [
      "[I 2024-09-12 10:08:53,181] Trial 44 finished with value: 0.5238095238095238 and parameters: {'out_channels': 112, 'kernel_size': 5, 'num_blocks': 3, 'l2_lambda': 0.0040954615322535545, 'dropout_rate': 0.3863437704884832, 'epochs': 554, 'lr': 0.0067033176735455495}. Best is trial 32 with value: 0.5555555555555556.\n"
     ]
    },
    {
     "name": "stdout",
     "output_type": "stream",
     "text": [
      "Early stopping at epoch 14\n"
     ]
    },
    {
     "name": "stderr",
     "output_type": "stream",
     "text": [
      "[I 2024-09-12 10:08:54,271] Trial 45 finished with value: 0.5317460317460317 and parameters: {'out_channels': 68, 'kernel_size': 7, 'num_blocks': 2, 'l2_lambda': 0.006987481990538577, 'dropout_rate': 0.24776260291736446, 'epochs': 709, 'lr': 0.0023398199228411164}. Best is trial 32 with value: 0.5555555555555556.\n"
     ]
    },
    {
     "name": "stdout",
     "output_type": "stream",
     "text": [
      "Early stopping at epoch 19\n"
     ]
    },
    {
     "name": "stderr",
     "output_type": "stream",
     "text": [
      "[I 2024-09-12 10:08:54,992] Trial 46 finished with value: 0.5158730158730159 and parameters: {'out_channels': 88, 'kernel_size': 6, 'num_blocks': 2, 'l2_lambda': 0.004664378283072997, 'dropout_rate': 0.37167641529396095, 'epochs': 436, 'lr': 0.00905212876872431}. Best is trial 32 with value: 0.5555555555555556.\n"
     ]
    },
    {
     "name": "stdout",
     "output_type": "stream",
     "text": [
      "Early stopping at epoch 10\n"
     ]
    },
    {
     "name": "stderr",
     "output_type": "stream",
     "text": [
      "[I 2024-09-12 10:08:55,710] Trial 47 finished with value: 0.5555555555555556 and parameters: {'out_channels': 128, 'kernel_size': 4, 'num_blocks': 1, 'l2_lambda': 0.0059912802853360845, 'dropout_rate': 0.2692614490802668, 'epochs': 659, 'lr': 0.004826138310178741}. Best is trial 32 with value: 0.5555555555555556.\n"
     ]
    },
    {
     "name": "stdout",
     "output_type": "stream",
     "text": [
      "Early stopping at epoch 17\n"
     ]
    },
    {
     "name": "stderr",
     "output_type": "stream",
     "text": [
      "[I 2024-09-12 10:08:56,192] Trial 48 finished with value: 0.5158730158730159 and parameters: {'out_channels': 127, 'kernel_size': 4, 'num_blocks': 1, 'l2_lambda': 0.005927536731980377, 'dropout_rate': 0.26914309938679454, 'epochs': 646, 'lr': 0.004699654044801044}. Best is trial 32 with value: 0.5555555555555556.\n"
     ]
    },
    {
     "name": "stdout",
     "output_type": "stream",
     "text": [
      "Early stopping at epoch 10\n"
     ]
    },
    {
     "name": "stderr",
     "output_type": "stream",
     "text": [
      "[I 2024-09-12 10:08:56,903] Trial 49 finished with value: 0.5158730158730159 and parameters: {'out_channels': 119, 'kernel_size': 5, 'num_blocks': 1, 'l2_lambda': 0.008174968246466822, 'dropout_rate': 0.2324696815952213, 'epochs': 590, 'lr': 0.0038828319197655044}. Best is trial 32 with value: 0.5555555555555556.\n"
     ]
    },
    {
     "name": "stdout",
     "output_type": "stream",
     "text": [
      "Early stopping at epoch 17\n"
     ]
    },
    {
     "name": "stderr",
     "output_type": "stream",
     "text": [
      "[I 2024-09-12 10:08:57,521] Trial 50 finished with value: 0.5317460317460317 and parameters: {'out_channels': 16, 'kernel_size': 5, 'num_blocks': 1, 'l2_lambda': 0.00542640692020234, 'dropout_rate': 0.2031488890775043, 'epochs': 208, 'lr': 0.002774169193787218}. Best is trial 32 with value: 0.5555555555555556.\n"
     ]
    },
    {
     "name": "stdout",
     "output_type": "stream",
     "text": [
      "Early stopping at epoch 18\n"
     ]
    },
    {
     "name": "stderr",
     "output_type": "stream",
     "text": [
      "[I 2024-09-12 10:08:58,528] Trial 51 finished with value: 0.5158730158730159 and parameters: {'out_channels': 124, 'kernel_size': 3, 'num_blocks': 3, 'l2_lambda': 0.004820892736975361, 'dropout_rate': 0.2908215297886513, 'epochs': 779, 'lr': 0.005889363546942455}. Best is trial 32 with value: 0.5555555555555556.\n"
     ]
    },
    {
     "name": "stdout",
     "output_type": "stream",
     "text": [
      "Early stopping at epoch 11\n"
     ]
    },
    {
     "name": "stderr",
     "output_type": "stream",
     "text": [
      "[I 2024-09-12 10:08:59,605] Trial 52 finished with value: 0.5158730158730159 and parameters: {'out_channels': 117, 'kernel_size': 4, 'num_blocks': 2, 'l2_lambda': 0.003455573177822825, 'dropout_rate': 0.3074517701265872, 'epochs': 691, 'lr': 0.0019179228300447407}. Best is trial 32 with value: 0.5555555555555556.\n"
     ]
    },
    {
     "name": "stdout",
     "output_type": "stream",
     "text": [
      "Early stopping at epoch 15\n"
     ]
    },
    {
     "name": "stderr",
     "output_type": "stream",
     "text": [
      "[I 2024-09-12 10:09:00,775] Trial 53 finished with value: 0.5317460317460317 and parameters: {'out_channels': 108, 'kernel_size': 4, 'num_blocks': 3, 'l2_lambda': 0.006336724064413873, 'dropout_rate': 0.3361691502175917, 'epochs': 734, 'lr': 0.006514053828829637}. Best is trial 32 with value: 0.5555555555555556.\n"
     ]
    },
    {
     "name": "stdout",
     "output_type": "stream",
     "text": [
      "Early stopping at epoch 12\n"
     ]
    },
    {
     "name": "stderr",
     "output_type": "stream",
     "text": [
      "[I 2024-09-12 10:09:01,771] Trial 54 finished with value: 0.5158730158730159 and parameters: {'out_channels': 62, 'kernel_size': 3, 'num_blocks': 4, 'l2_lambda': 0.004088113533013971, 'dropout_rate': 0.2841431457572908, 'epochs': 669, 'lr': 0.005042113961538286}. Best is trial 32 with value: 0.5555555555555556.\n"
     ]
    },
    {
     "name": "stdout",
     "output_type": "stream",
     "text": [
      "Early stopping at epoch 10\n"
     ]
    },
    {
     "name": "stderr",
     "output_type": "stream",
     "text": [
      "[I 2024-09-12 10:09:02,255] Trial 55 finished with value: 0.5158730158730159 and parameters: {'out_channels': 112, 'kernel_size': 6, 'num_blocks': 1, 'l2_lambda': 0.005337045451699624, 'dropout_rate': 0.3191499156150538, 'epochs': 616, 'lr': 0.00558109414188461}. Best is trial 32 with value: 0.5555555555555556.\n"
     ]
    },
    {
     "name": "stdout",
     "output_type": "stream",
     "text": [
      "Early stopping at epoch 10\n"
     ]
    },
    {
     "name": "stderr",
     "output_type": "stream",
     "text": [
      "[I 2024-09-12 10:09:03,979] Trial 56 finished with value: 0.5555555555555556 and parameters: {'out_channels': 82, 'kernel_size': 4, 'num_blocks': 3, 'l2_lambda': 0.005965423868234283, 'dropout_rate': 0.23436496125148054, 'epochs': 827, 'lr': 8.757593028805395e-05}. Best is trial 32 with value: 0.5555555555555556.\n"
     ]
    },
    {
     "name": "stdout",
     "output_type": "stream",
     "text": [
      "Early stopping at epoch 20\n"
     ]
    },
    {
     "name": "stderr",
     "output_type": "stream",
     "text": [
      "[I 2024-09-12 10:09:05,306] Trial 57 finished with value: 0.5158730158730159 and parameters: {'out_channels': 81, 'kernel_size': 4, 'num_blocks': 3, 'l2_lambda': 0.006873851384916852, 'dropout_rate': 0.1745774033703141, 'epochs': 907, 'lr': 0.0009604427021214943}. Best is trial 32 with value: 0.5555555555555556.\n"
     ]
    },
    {
     "name": "stdout",
     "output_type": "stream",
     "text": [
      "Early stopping at epoch 15\n"
     ]
    },
    {
     "name": "stderr",
     "output_type": "stream",
     "text": [
      "[I 2024-09-12 10:09:06,262] Trial 58 finished with value: 0.5158730158730159 and parameters: {'out_channels': 76, 'kernel_size': 4, 'num_blocks': 3, 'l2_lambda': 0.005940289483297607, 'dropout_rate': 0.23262528485361855, 'epochs': 842, 'lr': 6.226651950297458e-05}. Best is trial 32 with value: 0.5555555555555556.\n"
     ]
    },
    {
     "name": "stdout",
     "output_type": "stream",
     "text": [
      "Early stopping at epoch 10\n"
     ]
    },
    {
     "name": "stderr",
     "output_type": "stream",
     "text": [
      "[I 2024-09-12 10:09:07,488] Trial 59 finished with value: 0.5476190476190477 and parameters: {'out_channels': 125, 'kernel_size': 5, 'num_blocks': 3, 'l2_lambda': 0.00788416901830592, 'dropout_rate': 0.26126977074613894, 'epochs': 528, 'lr': 0.0016954154422461703}. Best is trial 32 with value: 0.5555555555555556.\n"
     ]
    },
    {
     "name": "stdout",
     "output_type": "stream",
     "text": [
      "Early stopping at epoch 13\n"
     ]
    },
    {
     "name": "stderr",
     "output_type": "stream",
     "text": [
      "[I 2024-09-12 10:09:08,127] Trial 60 finished with value: 0.5158730158730159 and parameters: {'out_channels': 52, 'kernel_size': 6, 'num_blocks': 2, 'l2_lambda': 0.008938720817852876, 'dropout_rate': 0.24160838678038113, 'epochs': 997, 'lr': 0.0033167798589507766}. Best is trial 32 with value: 0.5555555555555556.\n"
     ]
    },
    {
     "name": "stdout",
     "output_type": "stream",
     "text": [
      "Early stopping at epoch 10\n"
     ]
    },
    {
     "name": "stderr",
     "output_type": "stream",
     "text": [
      "[I 2024-09-12 10:09:09,270] Trial 61 finished with value: 0.5476190476190477 and parameters: {'out_channels': 124, 'kernel_size': 5, 'num_blocks': 3, 'l2_lambda': 0.00759307359477565, 'dropout_rate': 0.2697757733144015, 'epochs': 523, 'lr': 0.0006110319823905105}. Best is trial 32 with value: 0.5555555555555556.\n"
     ]
    },
    {
     "name": "stdout",
     "output_type": "stream",
     "text": [
      "Early stopping at epoch 12\n"
     ]
    },
    {
     "name": "stderr",
     "output_type": "stream",
     "text": [
      "[I 2024-09-12 10:09:11,537] Trial 62 finished with value: 0.5714285714285714 and parameters: {'out_channels': 128, 'kernel_size': 5, 'num_blocks': 3, 'l2_lambda': 0.009790679780372149, 'dropout_rate': 0.18640011647397478, 'epochs': 565, 'lr': 0.0015973361147795153}. Best is trial 62 with value: 0.5714285714285714.\n"
     ]
    },
    {
     "name": "stdout",
     "output_type": "stream",
     "text": [
      "Early stopping at epoch 25\n"
     ]
    },
    {
     "name": "stderr",
     "output_type": "stream",
     "text": [
      "[I 2024-09-12 10:09:13,393] Trial 63 finished with value: 0.5238095238095238 and parameters: {'out_channels': 118, 'kernel_size': 4, 'num_blocks': 3, 'l2_lambda': 0.008966572253987486, 'dropout_rate': 0.16467628577868396, 'epochs': 569, 'lr': 0.0014584058554219}. Best is trial 62 with value: 0.5714285714285714.\n"
     ]
    },
    {
     "name": "stdout",
     "output_type": "stream",
     "text": [
      "Early stopping at epoch 19\n"
     ]
    },
    {
     "name": "stderr",
     "output_type": "stream",
     "text": [
      "[I 2024-09-12 10:09:14,521] Trial 64 finished with value: 0.5158730158730159 and parameters: {'out_channels': 67, 'kernel_size': 5, 'num_blocks': 4, 'l2_lambda': 0.009429516284692659, 'dropout_rate': 0.118706121849862, 'epochs': 478, 'lr': 0.0010107052493267571}. Best is trial 62 with value: 0.5714285714285714.\n"
     ]
    },
    {
     "name": "stdout",
     "output_type": "stream",
     "text": [
      "Early stopping at epoch 10\n"
     ]
    },
    {
     "name": "stderr",
     "output_type": "stream",
     "text": [
      "[I 2024-09-12 10:09:15,834] Trial 65 finished with value: 0.5238095238095238 and parameters: {'out_channels': 116, 'kernel_size': 6, 'num_blocks': 3, 'l2_lambda': 0.00651217928944702, 'dropout_rate': 0.21188074332702184, 'epochs': 634, 'lr': 0.0018878804780893973}. Best is trial 62 with value: 0.5714285714285714.\n"
     ]
    },
    {
     "name": "stdout",
     "output_type": "stream",
     "text": [
      "Early stopping at epoch 13\n"
     ]
    },
    {
     "name": "stderr",
     "output_type": "stream",
     "text": [
      "[I 2024-09-12 10:09:16,845] Trial 66 finished with value: 0.5158730158730159 and parameters: {'out_channels': 128, 'kernel_size': 5, 'num_blocks': 3, 'l2_lambda': 0.007207113982983874, 'dropout_rate': 0.1826289698083492, 'epochs': 694, 'lr': 0.00265122612764527}. Best is trial 62 with value: 0.5714285714285714.\n"
     ]
    },
    {
     "name": "stdout",
     "output_type": "stream",
     "text": [
      "Early stopping at epoch 10\n"
     ]
    },
    {
     "name": "stderr",
     "output_type": "stream",
     "text": [
      "[I 2024-09-12 10:09:18,269] Trial 67 finished with value: 0.5158730158730159 and parameters: {'out_channels': 121, 'kernel_size': 6, 'num_blocks': 4, 'l2_lambda': 0.005643371960509417, 'dropout_rate': 0.2302272173056908, 'epochs': 389, 'lr': 2.3641507705381384e-05}. Best is trial 62 with value: 0.5714285714285714.\n"
     ]
    },
    {
     "name": "stdout",
     "output_type": "stream",
     "text": [
      "Early stopping at epoch 10\n"
     ]
    },
    {
     "name": "stderr",
     "output_type": "stream",
     "text": [
      "[I 2024-09-12 10:09:18,998] Trial 68 finished with value: 0.5158730158730159 and parameters: {'out_channels': 98, 'kernel_size': 4, 'num_blocks': 2, 'l2_lambda': 0.0099905103429603, 'dropout_rate': 0.15268875794545506, 'epochs': 348, 'lr': 0.0021844071757031063}. Best is trial 62 with value: 0.5714285714285714.\n"
     ]
    },
    {
     "name": "stdout",
     "output_type": "stream",
     "text": [
      "Early stopping at epoch 10\n"
     ]
    },
    {
     "name": "stderr",
     "output_type": "stream",
     "text": [
      "[I 2024-09-12 10:09:19,672] Trial 69 finished with value: 0.5158730158730159 and parameters: {'out_channels': 83, 'kernel_size': 5, 'num_blocks': 2, 'l2_lambda': 0.006079235109408441, 'dropout_rate': 0.139983181985683, 'epochs': 832, 'lr': 0.0004353057953115145}. Best is trial 62 with value: 0.5714285714285714.\n"
     ]
    },
    {
     "name": "stdout",
     "output_type": "stream",
     "text": [
      "Early stopping at epoch 10\n"
     ]
    },
    {
     "name": "stderr",
     "output_type": "stream",
     "text": [
      "[I 2024-09-12 10:09:20,731] Trial 70 finished with value: 0.5476190476190477 and parameters: {'out_channels': 105, 'kernel_size': 6, 'num_blocks': 3, 'l2_lambda': 0.004889736174501333, 'dropout_rate': 0.2992737795638945, 'epochs': 411, 'lr': 0.0029713049127675145}. Best is trial 62 with value: 0.5714285714285714.\n"
     ]
    },
    {
     "name": "stdout",
     "output_type": "stream",
     "text": [
      "Early stopping at epoch 10\n"
     ]
    },
    {
     "name": "stderr",
     "output_type": "stream",
     "text": [
      "[I 2024-09-12 10:09:21,716] Trial 71 finished with value: 0.5158730158730159 and parameters: {'out_channels': 125, 'kernel_size': 5, 'num_blocks': 3, 'l2_lambda': 0.009346657214059643, 'dropout_rate': 0.2842361567453324, 'epochs': 605, 'lr': 0.0016628097708343448}. Best is trial 62 with value: 0.5714285714285714.\n"
     ]
    },
    {
     "name": "stdout",
     "output_type": "stream",
     "text": [
      "Early stopping at epoch 10\n"
     ]
    },
    {
     "name": "stderr",
     "output_type": "stream",
     "text": [
      "[I 2024-09-12 10:09:22,780] Trial 72 finished with value: 0.5238095238095238 and parameters: {'out_channels': 128, 'kernel_size': 5, 'num_blocks': 3, 'l2_lambda': 0.007987509815287739, 'dropout_rate': 0.2605510599995472, 'epochs': 527, 'lr': 0.001354589313359467}. Best is trial 62 with value: 0.5714285714285714.\n"
     ]
    },
    {
     "name": "stdout",
     "output_type": "stream",
     "text": [
      "Early stopping at epoch 11\n"
     ]
    },
    {
     "name": "stderr",
     "output_type": "stream",
     "text": [
      "[I 2024-09-12 10:09:23,859] Trial 73 finished with value: 0.5158730158730159 and parameters: {'out_channels': 123, 'kernel_size': 4, 'num_blocks': 3, 'l2_lambda': 0.00844825039347789, 'dropout_rate': 0.2607587819557635, 'epochs': 552, 'lr': 0.001950582135666718}. Best is trial 62 with value: 0.5714285714285714.\n"
     ]
    },
    {
     "name": "stdout",
     "output_type": "stream",
     "text": [
      "Early stopping at epoch 10\n"
     ]
    },
    {
     "name": "stderr",
     "output_type": "stream",
     "text": [
      "[I 2024-09-12 10:09:25,046] Trial 74 finished with value: 0.5158730158730159 and parameters: {'out_channels': 111, 'kernel_size': 5, 'num_blocks': 3, 'l2_lambda': 0.007273726944136657, 'dropout_rate': 0.3085056593627234, 'epochs': 464, 'lr': 0.007114946172037066}. Best is trial 62 with value: 0.5714285714285714.\n"
     ]
    },
    {
     "name": "stdout",
     "output_type": "stream",
     "text": [
      "Early stopping at epoch 13\n"
     ]
    },
    {
     "name": "stderr",
     "output_type": "stream",
     "text": [
      "[I 2024-09-12 10:09:26,067] Trial 75 finished with value: 0.5158730158730159 and parameters: {'out_channels': 114, 'kernel_size': 5, 'num_blocks': 3, 'l2_lambda': 0.005089339181132335, 'dropout_rate': 0.1898040673380888, 'epochs': 519, 'lr': 0.0012156604171881073}. Best is trial 62 with value: 0.5714285714285714.\n"
     ]
    },
    {
     "name": "stdout",
     "output_type": "stream",
     "text": [
      "Early stopping at epoch 10\n"
     ]
    },
    {
     "name": "stderr",
     "output_type": "stream",
     "text": [
      "[I 2024-09-12 10:09:27,485] Trial 76 finished with value: 0.5158730158730159 and parameters: {'out_channels': 120, 'kernel_size': 5, 'num_blocks': 4, 'l2_lambda': 0.007891411752475817, 'dropout_rate': 0.20750465616632557, 'epochs': 439, 'lr': 0.0025913768705950607}. Best is trial 62 with value: 0.5714285714285714.\n"
     ]
    },
    {
     "name": "stdout",
     "output_type": "stream",
     "text": [
      "Early stopping at epoch 12\n"
     ]
    },
    {
     "name": "stderr",
     "output_type": "stream",
     "text": [
      "[I 2024-09-12 10:09:28,484] Trial 77 finished with value: 0.5396825396825397 and parameters: {'out_channels': 91, 'kernel_size': 6, 'num_blocks': 1, 'l2_lambda': 0.006940107896667798, 'dropout_rate': 0.22214958116203065, 'epochs': 488, 'lr': 0.0036420357223490266}. Best is trial 62 with value: 0.5714285714285714.\n"
     ]
    },
    {
     "name": "stdout",
     "output_type": "stream",
     "text": [
      "Early stopping at epoch 26\n"
     ]
    },
    {
     "name": "stderr",
     "output_type": "stream",
     "text": [
      "[I 2024-09-12 10:09:29,769] Trial 78 finished with value: 0.5317460317460317 and parameters: {'out_channels': 125, 'kernel_size': 6, 'num_blocks': 2, 'l2_lambda': 0.005720804938432471, 'dropout_rate': 0.32425443158607026, 'epochs': 801, 'lr': 0.000740992336974109}. Best is trial 62 with value: 0.5714285714285714.\n"
     ]
    },
    {
     "name": "stdout",
     "output_type": "stream",
     "text": [
      "Early stopping at epoch 18\n"
     ]
    },
    {
     "name": "stderr",
     "output_type": "stream",
     "text": [
      "[I 2024-09-12 10:09:31,401] Trial 79 finished with value: 0.5158730158730159 and parameters: {'out_channels': 115, 'kernel_size': 5, 'num_blocks': 3, 'l2_lambda': 0.006407670569499603, 'dropout_rate': 0.36654443047279905, 'epochs': 566, 'lr': 0.001638747634255912}. Best is trial 62 with value: 0.5714285714285714.\n"
     ]
    },
    {
     "name": "stdout",
     "output_type": "stream",
     "text": [
      "Early stopping at epoch 18\n"
     ]
    },
    {
     "name": "stderr",
     "output_type": "stream",
     "text": [
      "[I 2024-09-12 10:09:32,324] Trial 80 finished with value: 0.5158730158730159 and parameters: {'out_channels': 75, 'kernel_size': 4, 'num_blocks': 2, 'l2_lambda': 0.008628592113521207, 'dropout_rate': 0.35076447463894145, 'epochs': 667, 'lr': 0.002146749187147901}. Best is trial 62 with value: 0.5714285714285714.\n"
     ]
    },
    {
     "name": "stdout",
     "output_type": "stream",
     "text": [
      "Early stopping at epoch 14\n"
     ]
    },
    {
     "name": "stderr",
     "output_type": "stream",
     "text": [
      "[I 2024-09-12 10:09:33,268] Trial 81 finished with value: 0.5 and parameters: {'out_channels': 124, 'kernel_size': 5, 'num_blocks': 3, 'l2_lambda': 0.007479794945757662, 'dropout_rate': 0.27073965448336956, 'epochs': 497, 'lr': 0.0005794871695690928}. Best is trial 62 with value: 0.5714285714285714.\n"
     ]
    },
    {
     "name": "stdout",
     "output_type": "stream",
     "text": [
      "Early stopping at epoch 10\n"
     ]
    },
    {
     "name": "stderr",
     "output_type": "stream",
     "text": [
      "[I 2024-09-12 10:09:34,265] Trial 82 finished with value: 0.48412698412698413 and parameters: {'out_channels': 119, 'kernel_size': 5, 'num_blocks': 3, 'l2_lambda': 0.006632893934144455, 'dropout_rate': 0.2534993970733356, 'epochs': 586, 'lr': 0.0002377344476748763}. Best is trial 62 with value: 0.5714285714285714.\n"
     ]
    },
    {
     "name": "stdout",
     "output_type": "stream",
     "text": [
      "Early stopping at epoch 10\n"
     ]
    },
    {
     "name": "stderr",
     "output_type": "stream",
     "text": [
      "[I 2024-09-12 10:09:35,252] Trial 83 finished with value: 0.5158730158730159 and parameters: {'out_channels': 125, 'kernel_size': 5, 'num_blocks': 3, 'l2_lambda': 0.007809053074514296, 'dropout_rate': 0.27837829823747834, 'epochs': 717, 'lr': 0.007485949826429761}. Best is trial 62 with value: 0.5714285714285714.\n"
     ]
    },
    {
     "name": "stdout",
     "output_type": "stream",
     "text": [
      "Early stopping at epoch 10\n"
     ]
    },
    {
     "name": "stderr",
     "output_type": "stream",
     "text": [
      "[I 2024-09-12 10:09:36,246] Trial 84 finished with value: 0.5158730158730159 and parameters: {'out_channels': 109, 'kernel_size': 5, 'num_blocks': 3, 'l2_lambda': 0.00605374460928617, 'dropout_rate': 0.298872079499856, 'epochs': 527, 'lr': 0.0011045997889349264}. Best is trial 62 with value: 0.5714285714285714.\n"
     ]
    },
    {
     "name": "stdout",
     "output_type": "stream",
     "text": [
      "Early stopping at epoch 10\n"
     ]
    },
    {
     "name": "stderr",
     "output_type": "stream",
     "text": [
      "[I 2024-09-12 10:09:38,317] Trial 85 finished with value: 0.5476190476190477 and parameters: {'out_channels': 122, 'kernel_size': 6, 'num_blocks': 3, 'l2_lambda': 0.007640784683493486, 'dropout_rate': 0.26723472800778275, 'epochs': 865, 'lr': 0.0004373912659770522}. Best is trial 62 with value: 0.5714285714285714.\n"
     ]
    },
    {
     "name": "stdout",
     "output_type": "stream",
     "text": [
      "Early stopping at epoch 20\n"
     ]
    },
    {
     "name": "stderr",
     "output_type": "stream",
     "text": [
      "[I 2024-09-12 10:09:39,781] Trial 86 finished with value: 0.5158730158730159 and parameters: {'out_channels': 62, 'kernel_size': 4, 'num_blocks': 3, 'l2_lambda': 0.004571282515379975, 'dropout_rate': 0.24192769546900758, 'epochs': 631, 'lr': 0.0007389408374617944}. Best is trial 62 with value: 0.5714285714285714.\n"
     ]
    },
    {
     "name": "stdout",
     "output_type": "stream",
     "text": [
      "Early stopping at epoch 18\n"
     ]
    },
    {
     "name": "stderr",
     "output_type": "stream",
     "text": [
      "[I 2024-09-12 10:09:41,079] Trial 87 finished with value: 0.5158730158730159 and parameters: {'out_channels': 70, 'kernel_size': 6, 'num_blocks': 4, 'l2_lambda': 0.006917867309697874, 'dropout_rate': 0.29136341210642636, 'epochs': 755, 'lr': 0.007991435911569741}. Best is trial 62 with value: 0.5714285714285714.\n"
     ]
    },
    {
     "name": "stdout",
     "output_type": "stream",
     "text": [
      "Early stopping at epoch 11\n"
     ]
    },
    {
     "name": "stderr",
     "output_type": "stream",
     "text": [
      "[I 2024-09-12 10:09:42,071] Trial 88 finished with value: 0.5158730158730159 and parameters: {'out_channels': 118, 'kernel_size': 5, 'num_blocks': 3, 'l2_lambda': 0.005393957180224686, 'dropout_rate': 0.3370233542748885, 'epochs': 540, 'lr': 0.0069615603388626275}. Best is trial 62 with value: 0.5714285714285714.\n"
     ]
    },
    {
     "name": "stdout",
     "output_type": "stream",
     "text": [
      "Early stopping at epoch 10\n"
     ]
    },
    {
     "name": "stderr",
     "output_type": "stream",
     "text": [
      "[I 2024-09-12 10:09:42,598] Trial 89 finished with value: 0.5396825396825397 and parameters: {'out_channels': 102, 'kernel_size': 7, 'num_blocks': 1, 'l2_lambda': 0.003890065446566544, 'dropout_rate': 0.2408201066193461, 'epochs': 927, 'lr': 0.002424202464386276}. Best is trial 62 with value: 0.5714285714285714.\n"
     ]
    },
    {
     "name": "stdout",
     "output_type": "stream",
     "text": [
      "Early stopping at epoch 12\n"
     ]
    },
    {
     "name": "stderr",
     "output_type": "stream",
     "text": [
      "[I 2024-09-12 10:09:44,134] Trial 90 finished with value: 0.5158730158730159 and parameters: {'out_channels': 125, 'kernel_size': 4, 'num_blocks': 2, 'l2_lambda': 0.006310066044797341, 'dropout_rate': 0.3110968578298393, 'epochs': 508, 'lr': 0.00415439454941618}. Best is trial 62 with value: 0.5714285714285714.\n"
     ]
    },
    {
     "name": "stdout",
     "output_type": "stream",
     "text": [
      "Early stopping at epoch 21\n"
     ]
    },
    {
     "name": "stderr",
     "output_type": "stream",
     "text": [
      "[I 2024-09-12 10:09:45,230] Trial 91 finished with value: 0.5158730158730159 and parameters: {'out_channels': 114, 'kernel_size': 6, 'num_blocks': 3, 'l2_lambda': 0.004885841765985576, 'dropout_rate': 0.30118067633854473, 'epochs': 426, 'lr': 0.0016988099320870362}. Best is trial 62 with value: 0.5714285714285714.\n"
     ]
    },
    {
     "name": "stdout",
     "output_type": "stream",
     "text": [
      "Early stopping at epoch 10\n"
     ]
    },
    {
     "name": "stderr",
     "output_type": "stream",
     "text": [
      "[I 2024-09-12 10:09:46,284] Trial 92 finished with value: 0.5634920634920635 and parameters: {'out_channels': 106, 'kernel_size': 6, 'num_blocks': 3, 'l2_lambda': 0.00500196818135704, 'dropout_rate': 0.2808681291115859, 'epochs': 402, 'lr': 0.003030985532446205}. Best is trial 62 with value: 0.5714285714285714.\n"
     ]
    },
    {
     "name": "stdout",
     "output_type": "stream",
     "text": [
      "Early stopping at epoch 10\n"
     ]
    },
    {
     "name": "stderr",
     "output_type": "stream",
     "text": [
      "[I 2024-09-12 10:09:47,526] Trial 93 finished with value: 0.5158730158730159 and parameters: {'out_channels': 128, 'kernel_size': 6, 'num_blocks': 3, 'l2_lambda': 0.004346483509029889, 'dropout_rate': 0.2622119010382019, 'epochs': 450, 'lr': 0.00365489489796525}. Best is trial 62 with value: 0.5714285714285714.\n"
     ]
    },
    {
     "name": "stdout",
     "output_type": "stream",
     "text": [
      "Early stopping at epoch 11\n"
     ]
    },
    {
     "name": "stderr",
     "output_type": "stream",
     "text": [
      "[I 2024-09-12 10:09:48,832] Trial 94 finished with value: 0.5158730158730159 and parameters: {'out_channels': 122, 'kernel_size': 6, 'num_blocks': 3, 'l2_lambda': 0.005836106324176977, 'dropout_rate': 0.27889428987738324, 'epochs': 348, 'lr': 0.0029761109657619285}. Best is trial 62 with value: 0.5714285714285714.\n"
     ]
    },
    {
     "name": "stdout",
     "output_type": "stream",
     "text": [
      "Early stopping at epoch 12\n"
     ]
    },
    {
     "name": "stderr",
     "output_type": "stream",
     "text": [
      "[I 2024-09-12 10:09:49,824] Trial 95 finished with value: 0.5158730158730159 and parameters: {'out_channels': 110, 'kernel_size': 5, 'num_blocks': 3, 'l2_lambda': 0.0052061183456433725, 'dropout_rate': 0.2538897708172305, 'epochs': 400, 'lr': 0.004558269309905711}. Best is trial 62 with value: 0.5714285714285714.\n"
     ]
    },
    {
     "name": "stdout",
     "output_type": "stream",
     "text": [
      "Early stopping at epoch 10\n"
     ]
    },
    {
     "name": "stderr",
     "output_type": "stream",
     "text": [
      "[I 2024-09-12 10:09:51,143] Trial 96 finished with value: 0.5158730158730159 and parameters: {'out_channels': 106, 'kernel_size': 6, 'num_blocks': 3, 'l2_lambda': 0.00557656557023741, 'dropout_rate': 0.2853235514810736, 'epochs': 370, 'lr': 0.0032785132515539338}. Best is trial 62 with value: 0.5714285714285714.\n"
     ]
    },
    {
     "name": "stdout",
     "output_type": "stream",
     "text": [
      "Early stopping at epoch 12\n"
     ]
    },
    {
     "name": "stderr",
     "output_type": "stream",
     "text": [
      "[I 2024-09-12 10:09:52,088] Trial 97 finished with value: 0.5158730158730159 and parameters: {'out_channels': 79, 'kernel_size': 5, 'num_blocks': 3, 'l2_lambda': 0.004135500414838625, 'dropout_rate': 0.3235738331330328, 'epochs': 605, 'lr': 0.0021748744503777054}. Best is trial 62 with value: 0.5714285714285714.\n"
     ]
    },
    {
     "name": "stdout",
     "output_type": "stream",
     "text": [
      "Early stopping at epoch 10\n"
     ]
    },
    {
     "name": "stderr",
     "output_type": "stream",
     "text": [
      "[I 2024-09-12 10:09:53,204] Trial 98 finished with value: 0.5158730158730159 and parameters: {'out_channels': 119, 'kernel_size': 6, 'num_blocks': 3, 'l2_lambda': 0.0035866994560859455, 'dropout_rate': 0.27151852391688186, 'epochs': 457, 'lr': 0.005790122947023384}. Best is trial 62 with value: 0.5714285714285714.\n"
     ]
    },
    {
     "name": "stdout",
     "output_type": "stream",
     "text": [
      "Early stopping at epoch 10\n"
     ]
    },
    {
     "name": "stderr",
     "output_type": "stream",
     "text": [
      "[I 2024-09-12 10:09:54,006] Trial 99 finished with value: 0.5158730158730159 and parameters: {'out_channels': 95, 'kernel_size': 4, 'num_blocks': 2, 'l2_lambda': 0.0030507041807038117, 'dropout_rate': 0.29103853868962903, 'epochs': 289, 'lr': 0.006416422422715614}. Best is trial 62 with value: 0.5714285714285714.\n",
      "[I 2024-09-12 10:09:54,063] A new study created in memory with name: no-name-4817425c-a8a7-48a0-b7c8-a7da889ad3e8\n"
     ]
    },
    {
     "name": "stdout",
     "output_type": "stream",
     "text": [
      "Early stopping at epoch 10\n",
      "parameters for SGDUSD=X saved to ../models/best-hyperparameters/pytorch/conv1d-classification/SGDUSD=X.json\n",
      "Best model for SGDUSD=X saved with accuracy: 0.5714285714285714\n",
      "Deleted SGDUSD=X from ../models/hyperparameters-search-models/ticker-all-models-best-hyperparameters-list.csv\n"
     ]
    },
    {
     "name": "stderr",
     "output_type": "stream",
     "text": [
      "[I 2024-09-12 10:09:56,707] Trial 0 finished with value: 0.07150045037269592 and parameters: {'out_channels': 74, 'kernel_size': 6, 'num_blocks': 3, 'l2_lambda': 0.008764204468156983, 'dropout_rate': 0.43498490014313906, 'epochs': 36, 'lr': 0.00903606238024875}. Best is trial 0 with value: 0.07150045037269592.\n"
     ]
    },
    {
     "name": "stdout",
     "output_type": "stream",
     "text": [
      "Early stopping at epoch 33\n"
     ]
    },
    {
     "name": "stderr",
     "output_type": "stream",
     "text": [
      "[I 2024-09-12 10:09:57,758] Trial 1 finished with value: 0.04842107370495796 and parameters: {'out_channels': 97, 'kernel_size': 3, 'num_blocks': 1, 'l2_lambda': 0.001877101344661454, 'dropout_rate': 0.20395946655294914, 'epochs': 32, 'lr': 0.0088664988917022}. Best is trial 1 with value: 0.04842107370495796.\n",
      "[I 2024-09-12 10:09:58,276] Trial 2 finished with value: 0.051726214587688446 and parameters: {'out_channels': 77, 'kernel_size': 3, 'num_blocks': 1, 'l2_lambda': 0.006322492907319044, 'dropout_rate': 0.10542377304228792, 'epochs': 84, 'lr': 0.0015461765820248045}. Best is trial 1 with value: 0.04842107370495796.\n"
     ]
    },
    {
     "name": "stdout",
     "output_type": "stream",
     "text": [
      "Early stopping at epoch 16\n"
     ]
    },
    {
     "name": "stderr",
     "output_type": "stream",
     "text": [
      "[I 2024-09-12 10:10:00,948] Trial 3 finished with value: 0.03439062461256981 and parameters: {'out_channels': 59, 'kernel_size': 4, 'num_blocks': 3, 'l2_lambda': 0.0036370220639979785, 'dropout_rate': 0.12344237560699534, 'epochs': 35, 'lr': 0.007245909921991435}. Best is trial 3 with value: 0.03439062461256981.\n",
      "[I 2024-09-12 10:10:02,036] Trial 4 finished with value: 0.05606039986014366 and parameters: {'out_channels': 16, 'kernel_size': 7, 'num_blocks': 2, 'l2_lambda': 0.00765412776045196, 'dropout_rate': 0.21312146480225735, 'epochs': 60, 'lr': 0.004960245584672484}. Best is trial 3 with value: 0.03439062461256981.\n"
     ]
    },
    {
     "name": "stdout",
     "output_type": "stream",
     "text": [
      "Early stopping at epoch 24\n"
     ]
    },
    {
     "name": "stderr",
     "output_type": "stream",
     "text": [
      "[I 2024-09-12 10:10:05,934] Trial 5 finished with value: 0.02329970709979534 and parameters: {'out_channels': 78, 'kernel_size': 5, 'num_blocks': 4, 'l2_lambda': 0.009069986195517663, 'dropout_rate': 0.2736614223915247, 'epochs': 80, 'lr': 0.005288116799651174}. Best is trial 5 with value: 0.02329970709979534.\n"
     ]
    },
    {
     "name": "stdout",
     "output_type": "stream",
     "text": [
      "Early stopping at epoch 39\n"
     ]
    },
    {
     "name": "stderr",
     "output_type": "stream",
     "text": [
      "[I 2024-09-12 10:10:07,945] Trial 6 finished with value: 0.17428149282932281 and parameters: {'out_channels': 36, 'kernel_size': 6, 'num_blocks': 4, 'l2_lambda': 0.0007009102452268411, 'dropout_rate': 0.47877677361262305, 'epochs': 76, 'lr': 0.007557153050100633}. Best is trial 5 with value: 0.02329970709979534.\n"
     ]
    },
    {
     "name": "stdout",
     "output_type": "stream",
     "text": [
      "Early stopping at epoch 23\n"
     ]
    },
    {
     "name": "stderr",
     "output_type": "stream",
     "text": [
      "[I 2024-09-12 10:10:10,430] Trial 7 finished with value: 0.03917532041668892 and parameters: {'out_channels': 117, 'kernel_size': 3, 'num_blocks': 2, 'l2_lambda': 0.004677404331791831, 'dropout_rate': 0.3893116401993659, 'epochs': 78, 'lr': 0.004133002532482447}. Best is trial 5 with value: 0.02329970709979534.\n"
     ]
    },
    {
     "name": "stdout",
     "output_type": "stream",
     "text": [
      "Early stopping at epoch 45\n"
     ]
    },
    {
     "name": "stderr",
     "output_type": "stream",
     "text": [
      "[I 2024-09-12 10:10:11,059] Trial 8 finished with value: 0.08690527081489563 and parameters: {'out_channels': 34, 'kernel_size': 3, 'num_blocks': 3, 'l2_lambda': 0.0029957205690720676, 'dropout_rate': 0.1053070780596817, 'epochs': 30, 'lr': 0.001509433042577234}. Best is trial 5 with value: 0.02329970709979534.\n"
     ]
    },
    {
     "name": "stdout",
     "output_type": "stream",
     "text": [
      "Early stopping at epoch 10\n"
     ]
    },
    {
     "name": "stderr",
     "output_type": "stream",
     "text": [
      "[I 2024-09-12 10:10:14,908] Trial 9 finished with value: 0.03914732113480568 and parameters: {'out_channels': 91, 'kernel_size': 6, 'num_blocks': 5, 'l2_lambda': 0.0038076087405354204, 'dropout_rate': 0.4134533967442783, 'epochs': 68, 'lr': 0.007667635939992903}. Best is trial 5 with value: 0.02329970709979534.\n"
     ]
    },
    {
     "name": "stdout",
     "output_type": "stream",
     "text": [
      "Early stopping at epoch 29\n"
     ]
    },
    {
     "name": "stderr",
     "output_type": "stream",
     "text": [
      "[I 2024-09-12 10:10:19,485] Trial 10 finished with value: 0.04465837776660919 and parameters: {'out_channels': 123, 'kernel_size': 5, 'num_blocks': 5, 'l2_lambda': 0.009974402253361384, 'dropout_rate': 0.31793018904757436, 'epochs': 94, 'lr': 0.003077280598849166}. Best is trial 5 with value: 0.02329970709979534.\n"
     ]
    },
    {
     "name": "stdout",
     "output_type": "stream",
     "text": [
      "Early stopping at epoch 34\n"
     ]
    },
    {
     "name": "stderr",
     "output_type": "stream",
     "text": [
      "[I 2024-09-12 10:10:22,905] Trial 11 finished with value: 0.020418399944901466 and parameters: {'out_channels': 51, 'kernel_size': 4, 'num_blocks': 4, 'l2_lambda': 0.006404570062653508, 'dropout_rate': 0.2241981962365869, 'epochs': 50, 'lr': 0.00641165422658711}. Best is trial 11 with value: 0.020418399944901466.\n"
     ]
    },
    {
     "name": "stdout",
     "output_type": "stream",
     "text": [
      "Early stopping at epoch 37\n"
     ]
    },
    {
     "name": "stderr",
     "output_type": "stream",
     "text": [
      "[I 2024-09-12 10:10:23,840] Trial 12 finished with value: 0.5256568193435669 and parameters: {'out_channels': 54, 'kernel_size': 5, 'num_blocks': 4, 'l2_lambda': 0.0065698633427766035, 'dropout_rate': 0.2665042913862476, 'epochs': 10, 'lr': 0.0060623750945282655}. Best is trial 11 with value: 0.020418399944901466.\n",
      "[I 2024-09-12 10:10:26,670] Trial 13 finished with value: 0.044300541281700134 and parameters: {'out_channels': 51, 'kernel_size': 4, 'num_blocks': 4, 'l2_lambda': 0.006298697165633816, 'dropout_rate': 0.32360494171528853, 'epochs': 52, 'lr': 0.006308795101587987}. Best is trial 11 with value: 0.020418399944901466.\n"
     ]
    },
    {
     "name": "stdout",
     "output_type": "stream",
     "text": [
      "Early stopping at epoch 29\n"
     ]
    },
    {
     "name": "stderr",
     "output_type": "stream",
     "text": [
      "[I 2024-09-12 10:10:31,605] Trial 14 finished with value: 0.009658624418079853 and parameters: {'out_channels': 89, 'kernel_size': 4, 'num_blocks': 4, 'l2_lambda': 0.008530357444492438, 'dropout_rate': 0.24372628541520175, 'epochs': 51, 'lr': 0.003832463238233801}. Best is trial 14 with value: 0.009658624418079853.\n"
     ]
    },
    {
     "name": "stdout",
     "output_type": "stream",
     "text": [
      "Early stopping at epoch 47\n"
     ]
    },
    {
     "name": "stderr",
     "output_type": "stream",
     "text": [
      "[I 2024-09-12 10:10:33,180] Trial 15 finished with value: 0.45133331418037415 and parameters: {'out_channels': 102, 'kernel_size': 4, 'num_blocks': 5, 'l2_lambda': 0.008098390221300161, 'dropout_rate': 0.18430161376104598, 'epochs': 50, 'lr': 0.0033673922624836866}. Best is trial 14 with value: 0.009658624418079853.\n"
     ]
    },
    {
     "name": "stdout",
     "output_type": "stream",
     "text": [
      "Early stopping at epoch 10\n"
     ]
    },
    {
     "name": "stderr",
     "output_type": "stream",
     "text": [
      "[I 2024-09-12 10:10:34,640] Trial 16 finished with value: 0.4563791751861572 and parameters: {'out_channels': 65, 'kernel_size': 4, 'num_blocks': 4, 'l2_lambda': 0.007266761133485931, 'dropout_rate': 0.16491909986293743, 'epochs': 48, 'lr': 0.00023683700417790644}. Best is trial 14 with value: 0.009658624418079853.\n"
     ]
    },
    {
     "name": "stdout",
     "output_type": "stream",
     "text": [
      "Early stopping at epoch 13\n"
     ]
    },
    {
     "name": "stderr",
     "output_type": "stream",
     "text": [
      "[I 2024-09-12 10:10:35,349] Trial 17 finished with value: 0.10388589650392532 and parameters: {'out_channels': 39, 'kernel_size': 4, 'num_blocks': 2, 'l2_lambda': 0.005006946709406938, 'dropout_rate': 0.23341527928883665, 'epochs': 63, 'lr': 0.0027933513959340762}. Best is trial 14 with value: 0.009658624418079853.\n"
     ]
    },
    {
     "name": "stdout",
     "output_type": "stream",
     "text": [
      "Early stopping at epoch 13\n"
     ]
    },
    {
     "name": "stderr",
     "output_type": "stream",
     "text": [
      "[I 2024-09-12 10:10:36,742] Trial 18 finished with value: 0.10956662893295288 and parameters: {'out_channels': 17, 'kernel_size': 5, 'num_blocks': 5, 'l2_lambda': 0.005680563167212533, 'dropout_rate': 0.35528648441926675, 'epochs': 18, 'lr': 0.004648428938714663}. Best is trial 14 with value: 0.009658624418079853.\n"
     ]
    },
    {
     "name": "stdout",
     "output_type": "stream",
     "text": [
      "Early stopping at epoch 13\n"
     ]
    },
    {
     "name": "stderr",
     "output_type": "stream",
     "text": [
      "[I 2024-09-12 10:10:40,072] Trial 19 finished with value: 0.14753380417823792 and parameters: {'out_channels': 86, 'kernel_size': 4, 'num_blocks': 4, 'l2_lambda': 0.009659604371074895, 'dropout_rate': 0.2754165030181039, 'epochs': 45, 'lr': 0.009989434644684703}. Best is trial 14 with value: 0.009658624418079853.\n"
     ]
    },
    {
     "name": "stdout",
     "output_type": "stream",
     "text": [
      "Early stopping at epoch 30\n"
     ]
    },
    {
     "name": "stderr",
     "output_type": "stream",
     "text": [
      "[I 2024-09-12 10:10:42,008] Trial 20 finished with value: 0.03252153471112251 and parameters: {'out_channels': 105, 'kernel_size': 7, 'num_blocks': 3, 'l2_lambda': 0.007282943093923657, 'dropout_rate': 0.16248476548153007, 'epochs': 43, 'lr': 0.006144996579837616}. Best is trial 14 with value: 0.009658624418079853.\n"
     ]
    },
    {
     "name": "stdout",
     "output_type": "stream",
     "text": [
      "Early stopping at epoch 23\n"
     ]
    },
    {
     "name": "stderr",
     "output_type": "stream",
     "text": [
      "[I 2024-09-12 10:10:45,001] Trial 21 finished with value: 0.04343922808766365 and parameters: {'out_channels': 79, 'kernel_size': 5, 'num_blocks': 4, 'l2_lambda': 0.00885042042061839, 'dropout_rate': 0.25281077234024374, 'epochs': 92, 'lr': 0.0055724565968303065}. Best is trial 14 with value: 0.009658624418079853.\n"
     ]
    },
    {
     "name": "stdout",
     "output_type": "stream",
     "text": [
      "Early stopping at epoch 31\n"
     ]
    },
    {
     "name": "stderr",
     "output_type": "stream",
     "text": [
      "[I 2024-09-12 10:10:47,999] Trial 22 finished with value: 0.015171381644904613 and parameters: {'out_channels': 68, 'kernel_size': 5, 'num_blocks': 4, 'l2_lambda': 0.00890740181786137, 'dropout_rate': 0.2847953390742898, 'epochs': 70, 'lr': 0.004053761517816121}. Best is trial 14 with value: 0.009658624418079853.\n"
     ]
    },
    {
     "name": "stdout",
     "output_type": "stream",
     "text": [
      "Early stopping at epoch 34\n"
     ]
    },
    {
     "name": "stderr",
     "output_type": "stream",
     "text": [
      "[I 2024-09-12 10:10:50,014] Trial 23 finished with value: 0.02181791514158249 and parameters: {'out_channels': 64, 'kernel_size': 5, 'num_blocks': 3, 'l2_lambda': 0.008118902824830585, 'dropout_rate': 0.3115009442232345, 'epochs': 69, 'lr': 0.004113489037800226}. Best is trial 14 with value: 0.009658624418079853.\n"
     ]
    },
    {
     "name": "stdout",
     "output_type": "stream",
     "text": [
      "Early stopping at epoch 31\n"
     ]
    },
    {
     "name": "stderr",
     "output_type": "stream",
     "text": [
      "[I 2024-09-12 10:10:52,907] Trial 24 finished with value: 0.012545500881969929 and parameters: {'out_channels': 43, 'kernel_size': 4, 'num_blocks': 5, 'l2_lambda': 0.008536287579955757, 'dropout_rate': 0.35190514959549546, 'epochs': 57, 'lr': 0.002161714286918287}. Best is trial 14 with value: 0.009658624418079853.\n"
     ]
    },
    {
     "name": "stdout",
     "output_type": "stream",
     "text": [
      "Early stopping at epoch 26\n"
     ]
    },
    {
     "name": "stderr",
     "output_type": "stream",
     "text": [
      "[I 2024-09-12 10:10:54,213] Trial 25 finished with value: 0.6232166886329651 and parameters: {'out_channels': 43, 'kernel_size': 6, 'num_blocks': 5, 'l2_lambda': 0.009268145827153601, 'dropout_rate': 0.34745352179031364, 'epochs': 59, 'lr': 0.0020422389810647507}. Best is trial 14 with value: 0.009658624418079853.\n"
     ]
    },
    {
     "name": "stdout",
     "output_type": "stream",
     "text": [
      "Early stopping at epoch 10\n"
     ]
    },
    {
     "name": "stderr",
     "output_type": "stream",
     "text": [
      "[I 2024-09-12 10:11:01,455] Trial 26 finished with value: 0.19895532727241516 and parameters: {'out_channels': 27, 'kernel_size': 4, 'num_blocks': 5, 'l2_lambda': 0.008195309534266301, 'dropout_rate': 0.37916686819884543, 'epochs': 69, 'lr': 0.0003653581741602822}. Best is trial 14 with value: 0.009658624418079853.\n",
      "[I 2024-09-12 10:11:03,998] Trial 27 finished with value: 0.20303022861480713 and parameters: {'out_channels': 109, 'kernel_size': 5, 'num_blocks': 5, 'l2_lambda': 0.008573804347108445, 'dropout_rate': 0.2889464441520618, 'epochs': 57, 'lr': 0.0023038458807811794}. Best is trial 14 with value: 0.009658624418079853.\n"
     ]
    },
    {
     "name": "stdout",
     "output_type": "stream",
     "text": [
      "Early stopping at epoch 18\n"
     ]
    },
    {
     "name": "stderr",
     "output_type": "stream",
     "text": [
      "[I 2024-09-12 10:11:06,154] Trial 28 finished with value: 0.028732722625136375 and parameters: {'out_channels': 87, 'kernel_size': 3, 'num_blocks': 4, 'l2_lambda': 0.007242684606048768, 'dropout_rate': 0.36015079483213935, 'epochs': 88, 'lr': 0.003907346463152765}. Best is trial 14 with value: 0.009658624418079853.\n"
     ]
    },
    {
     "name": "stdout",
     "output_type": "stream",
     "text": [
      "Early stopping at epoch 22\n"
     ]
    },
    {
     "name": "stderr",
     "output_type": "stream",
     "text": [
      "[I 2024-09-12 10:11:10,397] Trial 29 finished with value: 0.009134545922279358 and parameters: {'out_channels': 65, 'kernel_size': 5, 'num_blocks': 5, 'l2_lambda': 0.009991302475860098, 'dropout_rate': 0.4396237711720137, 'epochs': 41, 'lr': 0.0009865078548661585}. Best is trial 29 with value: 0.009134545922279358.\n",
      "[I 2024-09-12 10:11:14,637] Trial 30 finished with value: 0.02435537986457348 and parameters: {'out_channels': 46, 'kernel_size': 6, 'num_blocks': 5, 'l2_lambda': 0.009906745742764034, 'dropout_rate': 0.4602859107885764, 'epochs': 40, 'lr': 0.001217137019103423}. Best is trial 29 with value: 0.009134545922279358.\n",
      "[I 2024-09-12 10:11:16,099] Trial 31 finished with value: 0.2370196282863617 and parameters: {'out_channels': 66, 'kernel_size': 5, 'num_blocks': 5, 'l2_lambda': 0.00938644187971055, 'dropout_rate': 0.4399320630450558, 'epochs': 25, 'lr': 0.0008522840601286263}. Best is trial 29 with value: 0.009134545922279358.\n"
     ]
    },
    {
     "name": "stdout",
     "output_type": "stream",
     "text": [
      "Early stopping at epoch 12\n"
     ]
    },
    {
     "name": "stderr",
     "output_type": "stream",
     "text": [
      "[I 2024-09-12 10:11:19,903] Trial 32 finished with value: 0.02394099161028862 and parameters: {'out_channels': 70, 'kernel_size': 4, 'num_blocks': 5, 'l2_lambda': 0.008775102023269647, 'dropout_rate': 0.4344559711072748, 'epochs': 39, 'lr': 0.0025180872649275604}. Best is trial 29 with value: 0.009134545922279358.\n"
     ]
    },
    {
     "name": "stdout",
     "output_type": "stream",
     "text": [
      "Early stopping at epoch 32\n"
     ]
    },
    {
     "name": "stderr",
     "output_type": "stream",
     "text": [
      "[I 2024-09-12 10:11:23,151] Trial 33 finished with value: 0.024780284613370895 and parameters: {'out_channels': 93, 'kernel_size': 5, 'num_blocks': 4, 'l2_lambda': 0.008486678376292378, 'dropout_rate': 0.4972598805993447, 'epochs': 66, 'lr': 0.0035035886152500898}. Best is trial 29 with value: 0.009134545922279358.\n"
     ]
    },
    {
     "name": "stdout",
     "output_type": "stream",
     "text": [
      "Early stopping at epoch 34\n"
     ]
    },
    {
     "name": "stderr",
     "output_type": "stream",
     "text": [
      "[I 2024-09-12 10:11:25,141] Trial 34 finished with value: 0.026181017979979515 and parameters: {'out_channels': 73, 'kernel_size': 3, 'num_blocks': 3, 'l2_lambda': 0.009288666067428251, 'dropout_rate': 0.24703892120316, 'epochs': 73, 'lr': 0.0020110580258381524}. Best is trial 29 with value: 0.009134545922279358.\n"
     ]
    },
    {
     "name": "stdout",
     "output_type": "stream",
     "text": [
      "Early stopping at epoch 29\n"
     ]
    },
    {
     "name": "stderr",
     "output_type": "stream",
     "text": [
      "[I 2024-09-12 10:11:26,830] Trial 35 finished with value: 0.07198494672775269 and parameters: {'out_channels': 58, 'kernel_size': 4, 'num_blocks': 5, 'l2_lambda': 0.007558434602360889, 'dropout_rate': 0.4066256942831183, 'epochs': 57, 'lr': 0.0009362653211756789}. Best is trial 29 with value: 0.009134545922279358.\n"
     ]
    },
    {
     "name": "stdout",
     "output_type": "stream",
     "text": [
      "Early stopping at epoch 14\n"
     ]
    },
    {
     "name": "stderr",
     "output_type": "stream",
     "text": [
      "[I 2024-09-12 10:11:29,150] Trial 36 finished with value: 0.048630040138959885 and parameters: {'out_channels': 82, 'kernel_size': 5, 'num_blocks': 3, 'l2_lambda': 0.007976196153050692, 'dropout_rate': 0.29478994215129417, 'epochs': 34, 'lr': 0.004526300009443245}. Best is trial 29 with value: 0.009134545922279358.\n"
     ]
    },
    {
     "name": "stdout",
     "output_type": "stream",
     "text": [
      "Early stopping at epoch 32\n"
     ]
    },
    {
     "name": "stderr",
     "output_type": "stream",
     "text": [
      "[I 2024-09-12 10:11:30,542] Trial 37 finished with value: 0.25832611322402954 and parameters: {'out_channels': 28, 'kernel_size': 6, 'num_blocks': 4, 'l2_lambda': 0.0015285217177997933, 'dropout_rate': 0.3384913045195871, 'epochs': 55, 'lr': 0.003528126136726202}. Best is trial 29 with value: 0.009134545922279358.\n"
     ]
    },
    {
     "name": "stdout",
     "output_type": "stream",
     "text": [
      "Early stopping at epoch 14\n"
     ]
    },
    {
     "name": "stderr",
     "output_type": "stream",
     "text": [
      "[I 2024-09-12 10:11:31,710] Trial 38 finished with value: 0.45939862728118896 and parameters: {'out_channels': 60, 'kernel_size': 7, 'num_blocks': 4, 'l2_lambda': 0.008967645144524338, 'dropout_rate': 0.1929694321372064, 'epochs': 63, 'lr': 0.001859885367908916}. Best is trial 29 with value: 0.009134545922279358.\n"
     ]
    },
    {
     "name": "stdout",
     "output_type": "stream",
     "text": [
      "Early stopping at epoch 12\n"
     ]
    },
    {
     "name": "stderr",
     "output_type": "stream",
     "text": [
      "[I 2024-09-12 10:11:32,431] Trial 39 finished with value: 0.058535296469926834 and parameters: {'out_channels': 73, 'kernel_size': 3, 'num_blocks': 1, 'l2_lambda': 0.00679775625823901, 'dropout_rate': 0.3791310295727928, 'epochs': 28, 'lr': 0.002792201546873758}. Best is trial 29 with value: 0.009134545922279358.\n"
     ]
    },
    {
     "name": "stdout",
     "output_type": "stream",
     "text": [
      "Early stopping at epoch 22\n"
     ]
    },
    {
     "name": "stderr",
     "output_type": "stream",
     "text": [
      "[I 2024-09-12 10:11:35,201] Trial 40 finished with value: 0.0866192877292633 and parameters: {'out_channels': 46, 'kernel_size': 4, 'num_blocks': 5, 'l2_lambda': 0.005469303734925441, 'dropout_rate': 0.4130028819206618, 'epochs': 81, 'lr': 0.0015292037311718997}. Best is trial 29 with value: 0.009134545922279358.\n"
     ]
    },
    {
     "name": "stdout",
     "output_type": "stream",
     "text": [
      "Early stopping at epoch 23\n"
     ]
    },
    {
     "name": "stderr",
     "output_type": "stream",
     "text": [
      "[I 2024-09-12 10:11:38,345] Trial 41 finished with value: 0.04430495947599411 and parameters: {'out_channels': 51, 'kernel_size': 4, 'num_blocks': 4, 'l2_lambda': 0.009545210214518764, 'dropout_rate': 0.23808331409689618, 'epochs': 52, 'lr': 0.007134537900499421}. Best is trial 29 with value: 0.009134545922279358.\n"
     ]
    },
    {
     "name": "stdout",
     "output_type": "stream",
     "text": [
      "Early stopping at epoch 33\n"
     ]
    },
    {
     "name": "stderr",
     "output_type": "stream",
     "text": [
      "[I 2024-09-12 10:11:41,557] Trial 42 finished with value: 0.016486195847392082 and parameters: {'out_channels': 56, 'kernel_size': 4, 'num_blocks': 4, 'l2_lambda': 0.00765637313086477, 'dropout_rate': 0.21667468706483134, 'epochs': 46, 'lr': 0.005349940832441197}. Best is trial 29 with value: 0.009134545922279358.\n"
     ]
    },
    {
     "name": "stdout",
     "output_type": "stream",
     "text": [
      "Early stopping at epoch 35\n"
     ]
    },
    {
     "name": "stderr",
     "output_type": "stream",
     "text": [
      "[I 2024-09-12 10:11:43,197] Trial 43 finished with value: 0.2635484039783478 and parameters: {'out_channels': 69, 'kernel_size': 4, 'num_blocks': 4, 'l2_lambda': 0.0077786097812512734, 'dropout_rate': 0.21540783776624736, 'epochs': 45, 'lr': 0.005424537494318453}. Best is trial 29 with value: 0.009134545922279358.\n"
     ]
    },
    {
     "name": "stdout",
     "output_type": "stream",
     "text": [
      "Early stopping at epoch 15\n"
     ]
    },
    {
     "name": "stderr",
     "output_type": "stream",
     "text": [
      "[I 2024-09-12 10:11:43,762] Trial 44 finished with value: 0.2696899473667145 and parameters: {'out_channels': 57, 'kernel_size': 3, 'num_blocks': 2, 'l2_lambda': 0.008654382530622763, 'dropout_rate': 0.26967434644904875, 'epochs': 39, 'lr': 0.004935068513598537}. Best is trial 29 with value: 0.009134545922279358.\n"
     ]
    },
    {
     "name": "stdout",
     "output_type": "stream",
     "text": [
      "Early stopping at epoch 10\n"
     ]
    },
    {
     "name": "stderr",
     "output_type": "stream",
     "text": [
      "[I 2024-09-12 10:11:45,937] Trial 45 finished with value: 0.03378791734576225 and parameters: {'out_channels': 79, 'kernel_size': 5, 'num_blocks': 3, 'l2_lambda': 0.009999604105528973, 'dropout_rate': 0.2035499892874647, 'epochs': 74, 'lr': 0.0044967482150589195}. Best is trial 29 with value: 0.009134545922279358.\n"
     ]
    },
    {
     "name": "stdout",
     "output_type": "stream",
     "text": [
      "Early stopping at epoch 30\n"
     ]
    },
    {
     "name": "stderr",
     "output_type": "stream",
     "text": [
      "[I 2024-09-12 10:11:49,724] Trial 46 finished with value: 0.07079353928565979 and parameters: {'out_channels': 97, 'kernel_size': 5, 'num_blocks': 5, 'l2_lambda': 0.006910653647375255, 'dropout_rate': 0.3063356013965443, 'epochs': 61, 'lr': 0.003957744276418733}. Best is trial 29 with value: 0.009134545922279358.\n"
     ]
    },
    {
     "name": "stdout",
     "output_type": "stream",
     "text": [
      "Early stopping at epoch 31\n"
     ]
    },
    {
     "name": "stderr",
     "output_type": "stream",
     "text": [
      "[I 2024-09-12 10:11:51,331] Trial 47 finished with value: 0.13923247158527374 and parameters: {'out_channels': 63, 'kernel_size': 4, 'num_blocks': 4, 'l2_lambda': 0.0038035773005222996, 'dropout_rate': 0.12825923862175176, 'epochs': 54, 'lr': 0.006866224077340758}. Best is trial 29 with value: 0.009134545922279358.\n"
     ]
    },
    {
     "name": "stdout",
     "output_type": "stream",
     "text": [
      "Early stopping at epoch 15\n"
     ]
    },
    {
     "name": "stderr",
     "output_type": "stream",
     "text": [
      "[I 2024-09-12 10:11:55,335] Trial 48 finished with value: 1.9276642799377441 and parameters: {'out_channels': 32, 'kernel_size': 3, 'num_blocks': 5, 'l2_lambda': 0.005991235940041837, 'dropout_rate': 0.2862072171269383, 'epochs': 47, 'lr': 2.9577107100954548e-05}. Best is trial 29 with value: 0.009134545922279358.\n",
      "[I 2024-09-12 10:11:57,246] Trial 49 finished with value: 0.03388985991477966 and parameters: {'out_channels': 40, 'kernel_size': 4, 'num_blocks': 4, 'l2_lambda': 0.0028996389101902213, 'dropout_rate': 0.25663460007829086, 'epochs': 42, 'lr': 0.005043796769845112}. Best is trial 29 with value: 0.009134545922279358.\n"
     ]
    },
    {
     "name": "stdout",
     "output_type": "stream",
     "text": [
      "Early stopping at epoch 19\n"
     ]
    },
    {
     "name": "stderr",
     "output_type": "stream",
     "text": [
      "[I 2024-09-12 10:12:00,683] Trial 50 finished with value: 0.011733315885066986 and parameters: {'out_channels': 48, 'kernel_size': 6, 'num_blocks': 5, 'l2_lambda': 0.000109076171575068, 'dropout_rate': 0.1802030344706769, 'epochs': 36, 'lr': 0.0007014645199178598}. Best is trial 29 with value: 0.009134545922279358.\n"
     ]
    },
    {
     "name": "stdout",
     "output_type": "stream",
     "text": [
      "Early stopping at epoch 29\n"
     ]
    },
    {
     "name": "stderr",
     "output_type": "stream",
     "text": [
      "[I 2024-09-12 10:12:03,557] Trial 51 finished with value: 0.1149309054017067 and parameters: {'out_channels': 54, 'kernel_size': 6, 'num_blocks': 5, 'l2_lambda': 0.0008933000519086801, 'dropout_rate': 0.16346639731322823, 'epochs': 100, 'lr': 0.0006343816971002967}. Best is trial 29 with value: 0.009134545922279358.\n"
     ]
    },
    {
     "name": "stdout",
     "output_type": "stream",
     "text": [
      "Early stopping at epoch 23\n"
     ]
    },
    {
     "name": "stderr",
     "output_type": "stream",
     "text": [
      "[I 2024-09-12 10:12:07,446] Trial 52 finished with value: 0.012076963670551777 and parameters: {'out_channels': 45, 'kernel_size': 6, 'num_blocks': 5, 'l2_lambda': 0.004579227437081635, 'dropout_rate': 0.17939904931122902, 'epochs': 35, 'lr': 0.0015144363817490803}. Best is trial 29 with value: 0.009134545922279358.\n",
      "[I 2024-09-12 10:12:08,822] Trial 53 finished with value: 0.18780209124088287 and parameters: {'out_channels': 47, 'kernel_size': 6, 'num_blocks': 5, 'l2_lambda': 0.0023755707670554084, 'dropout_rate': 0.13926503701470117, 'epochs': 21, 'lr': 0.0012736415018243718}. Best is trial 29 with value: 0.009134545922279358.\n"
     ]
    },
    {
     "name": "stdout",
     "output_type": "stream",
     "text": [
      "Early stopping at epoch 10\n"
     ]
    },
    {
     "name": "stderr",
     "output_type": "stream",
     "text": [
      "[I 2024-09-12 10:12:10,402] Trial 54 finished with value: 0.049387503415346146 and parameters: {'out_channels': 37, 'kernel_size': 7, 'num_blocks': 5, 'l2_lambda': 0.0001389580502370192, 'dropout_rate': 0.1812968639121425, 'epochs': 36, 'lr': 0.0017534824617063314}. Best is trial 29 with value: 0.009134545922279358.\n"
     ]
    },
    {
     "name": "stdout",
     "output_type": "stream",
     "text": [
      "Early stopping at epoch 15\n"
     ]
    },
    {
     "name": "stderr",
     "output_type": "stream",
     "text": [
      "[I 2024-09-12 10:12:13,843] Trial 55 finished with value: 0.02022722363471985 and parameters: {'out_channels': 32, 'kernel_size': 6, 'num_blocks': 5, 'l2_lambda': 0.0045174986374347, 'dropout_rate': 0.14656289371145262, 'epochs': 32, 'lr': 0.0030284632069603953}. Best is trial 29 with value: 0.009134545922279358.\n",
      "[I 2024-09-12 10:12:15,998] Trial 56 finished with value: 0.053964994847774506 and parameters: {'out_channels': 25, 'kernel_size': 6, 'num_blocks': 5, 'l2_lambda': 0.004574550862909854, 'dropout_rate': 0.32626176852788136, 'epochs': 29, 'lr': 0.0005215884093692268}. Best is trial 29 with value: 0.009134545922279358.\n"
     ]
    },
    {
     "name": "stdout",
     "output_type": "stream",
     "text": [
      "Early stopping at epoch 18\n"
     ]
    },
    {
     "name": "stderr",
     "output_type": "stream",
     "text": [
      "[I 2024-09-12 10:12:17,637] Trial 57 finished with value: 0.3310810625553131 and parameters: {'out_channels': 43, 'kernel_size': 7, 'num_blocks': 5, 'l2_lambda': 0.0019382376072425607, 'dropout_rate': 0.11302008019685288, 'epochs': 37, 'lr': 0.0010658082129636466}. Best is trial 29 with value: 0.009134545922279358.\n"
     ]
    },
    {
     "name": "stdout",
     "output_type": "stream",
     "text": [
      "Early stopping at epoch 15\n"
     ]
    },
    {
     "name": "stderr",
     "output_type": "stream",
     "text": [
      "[I 2024-09-12 10:12:20,277] Trial 58 finished with value: 0.07975610345602036 and parameters: {'out_channels': 50, 'kernel_size': 6, 'num_blocks': 5, 'l2_lambda': 0.003067122358835077, 'dropout_rate': 0.23100669591759249, 'epochs': 23, 'lr': 0.0025271568497880685}. Best is trial 29 with value: 0.009134545922279358.\n",
      "[I 2024-09-12 10:12:24,936] Trial 59 finished with value: 0.03335181623697281 and parameters: {'out_channels': 87, 'kernel_size': 5, 'num_blocks': 5, 'l2_lambda': 0.008462518539286552, 'dropout_rate': 0.19988145082420666, 'epochs': 50, 'lr': 0.001444613145566848}. Best is trial 29 with value: 0.009134545922279358.\n"
     ]
    },
    {
     "name": "stdout",
     "output_type": "stream",
     "text": [
      "Early stopping at epoch 39\n"
     ]
    },
    {
     "name": "stderr",
     "output_type": "stream",
     "text": [
      "[I 2024-09-12 10:12:27,204] Trial 60 finished with value: 0.023141423240303993 and parameters: {'out_channels': 21, 'kernel_size': 5, 'num_blocks': 5, 'l2_lambda': 0.00909298267113914, 'dropout_rate': 0.17842300391770327, 'epochs': 32, 'lr': 0.008706797422362389}. Best is trial 29 with value: 0.009134545922279358.\n"
     ]
    },
    {
     "name": "stdout",
     "output_type": "stream",
     "text": [
      "Early stopping at epoch 25\n"
     ]
    },
    {
     "name": "stderr",
     "output_type": "stream",
     "text": [
      "[I 2024-09-12 10:12:29,832] Trial 61 finished with value: 0.025129763409495354 and parameters: {'out_channels': 62, 'kernel_size': 4, 'num_blocks': 4, 'l2_lambda': 0.007673119565490498, 'dropout_rate': 0.20818134534631158, 'epochs': 44, 'lr': 0.003167979957345188}. Best is trial 29 with value: 0.009134545922279358.\n"
     ]
    },
    {
     "name": "stdout",
     "output_type": "stream",
     "text": [
      "Early stopping at epoch 28\n"
     ]
    },
    {
     "name": "stderr",
     "output_type": "stream",
     "text": [
      "[I 2024-09-12 10:12:31,825] Trial 62 finished with value: 0.019541917368769646 and parameters: {'out_channels': 56, 'kernel_size': 5, 'num_blocks': 4, 'l2_lambda': 0.009675746234365852, 'dropout_rate': 0.2595844726691597, 'epochs': 48, 'lr': 0.0056171378890172135}. Best is trial 29 with value: 0.009134545922279358.\n"
     ]
    },
    {
     "name": "stdout",
     "output_type": "stream",
     "text": [
      "Early stopping at epoch 24\n"
     ]
    },
    {
     "name": "stderr",
     "output_type": "stream",
     "text": [
      "[I 2024-09-12 10:12:33,254] Trial 63 finished with value: 0.10076963156461716 and parameters: {'out_channels': 68, 'kernel_size': 6, 'num_blocks': 4, 'l2_lambda': 0.008260659254780027, 'dropout_rate': 0.2199836004175015, 'epochs': 14, 'lr': 0.0022319615118365378}. Best is trial 29 with value: 0.009134545922279358.\n",
      "[I 2024-09-12 10:12:35,142] Trial 64 finished with value: 0.09741713106632233 and parameters: {'out_channels': 41, 'kernel_size': 5, 'num_blocks': 5, 'l2_lambda': 0.004165620767421939, 'dropout_rate': 0.23908997401746002, 'epochs': 41, 'lr': 0.0037558782525031155}. Best is trial 29 with value: 0.009134545922279358.\n"
     ]
    },
    {
     "name": "stdout",
     "output_type": "stream",
     "text": [
      "Early stopping at epoch 18\n"
     ]
    },
    {
     "name": "stderr",
     "output_type": "stream",
     "text": [
      "[I 2024-09-12 10:12:36,376] Trial 65 finished with value: 0.1675112098455429 and parameters: {'out_channels': 75, 'kernel_size': 4, 'num_blocks': 4, 'l2_lambda': 0.005042662239640515, 'dropout_rate': 0.28079217199095224, 'epochs': 46, 'lr': 0.0006821937573605523}. Best is trial 29 with value: 0.009134545922279358.\n"
     ]
    },
    {
     "name": "stdout",
     "output_type": "stream",
     "text": [
      "Early stopping at epoch 11\n"
     ]
    },
    {
     "name": "stderr",
     "output_type": "stream",
     "text": [
      "[I 2024-09-12 10:12:36,974] Trial 66 finished with value: 0.20312300324440002 and parameters: {'out_channels': 50, 'kernel_size': 6, 'num_blocks': 1, 'l2_lambda': 0.009063581814152724, 'dropout_rate': 0.1705974426423883, 'epochs': 37, 'lr': 0.0059044786727783195}. Best is trial 29 with value: 0.009134545922279358.\n"
     ]
    },
    {
     "name": "stdout",
     "output_type": "stream",
     "text": [
      "Early stopping at epoch 17\n"
     ]
    },
    {
     "name": "stderr",
     "output_type": "stream",
     "text": [
      "[I 2024-09-12 10:12:39,695] Trial 67 finished with value: 0.049575503915548325 and parameters: {'out_channels': 128, 'kernel_size': 4, 'num_blocks': 3, 'l2_lambda': 0.007377317427243679, 'dropout_rate': 0.19101329098853426, 'epochs': 53, 'lr': 0.0002746383460943444}. Best is trial 29 with value: 0.009134545922279358.\n"
     ]
    },
    {
     "name": "stdout",
     "output_type": "stream",
     "text": [
      "Early stopping at epoch 30\n"
     ]
    },
    {
     "name": "stderr",
     "output_type": "stream",
     "text": [
      "[I 2024-09-12 10:12:43,114] Trial 68 finished with value: 0.044215116649866104 and parameters: {'out_channels': 83, 'kernel_size': 5, 'num_blocks': 4, 'l2_lambda': 0.00969222018464375, 'dropout_rate': 0.14966704552757853, 'epochs': 66, 'lr': 0.00425942761689998}. Best is trial 29 with value: 0.009134545922279358.\n"
     ]
    },
    {
     "name": "stdout",
     "output_type": "stream",
     "text": [
      "Early stopping at epoch 37\n"
     ]
    },
    {
     "name": "stderr",
     "output_type": "stream",
     "text": [
      "[I 2024-09-12 10:12:45,908] Trial 69 finished with value: 0.03187679126858711 and parameters: {'out_channels': 61, 'kernel_size': 4, 'num_blocks': 5, 'l2_lambda': 0.008359059138644615, 'dropout_rate': 0.44980389850217395, 'epochs': 57, 'lr': 0.006607404472406557}. Best is trial 29 with value: 0.009134545922279358.\n"
     ]
    },
    {
     "name": "stdout",
     "output_type": "stream",
     "text": [
      "Early stopping at epoch 24\n"
     ]
    },
    {
     "name": "stderr",
     "output_type": "stream",
     "text": [
      "[I 2024-09-12 10:12:49,606] Trial 70 finished with value: 0.06361892819404602 and parameters: {'out_channels': 114, 'kernel_size': 5, 'num_blocks': 5, 'l2_lambda': 0.008816658540545872, 'dropout_rate': 0.4873043918774445, 'epochs': 34, 'lr': 0.0048810948648439125}. Best is trial 29 with value: 0.009134545922279358.\n"
     ]
    },
    {
     "name": "stdout",
     "output_type": "stream",
     "text": [
      "Early stopping at epoch 28\n"
     ]
    },
    {
     "name": "stderr",
     "output_type": "stream",
     "text": [
      "[I 2024-09-12 10:12:52,099] Trial 71 finished with value: 0.029854923486709595 and parameters: {'out_channels': 55, 'kernel_size': 5, 'num_blocks': 4, 'l2_lambda': 0.009636996228847935, 'dropout_rate': 0.25181176805249444, 'epochs': 48, 'lr': 0.0057929324133726545}. Best is trial 29 with value: 0.009134545922279358.\n"
     ]
    },
    {
     "name": "stdout",
     "output_type": "stream",
     "text": [
      "Early stopping at epoch 29\n"
     ]
    },
    {
     "name": "stderr",
     "output_type": "stream",
     "text": [
      "[I 2024-09-12 10:12:56,289] Trial 72 finished with value: 0.00959272962063551 and parameters: {'out_channels': 55, 'kernel_size': 5, 'num_blocks': 4, 'l2_lambda': 0.00930369870936118, 'dropout_rate': 0.26671319354984313, 'epochs': 50, 'lr': 0.0051863563336275705}. Best is trial 29 with value: 0.009134545922279358.\n",
      "[I 2024-09-12 10:12:58,437] Trial 73 finished with value: 0.0643373355269432 and parameters: {'out_channels': 48, 'kernel_size': 5, 'num_blocks': 4, 'l2_lambda': 0.009314520331504912, 'dropout_rate': 0.22815910651003135, 'epochs': 26, 'lr': 0.00513639441352185}. Best is trial 29 with value: 0.009134545922279358.\n",
      "[I 2024-09-12 10:12:59,462] Trial 74 finished with value: 0.15044032037258148 and parameters: {'out_channels': 43, 'kernel_size': 4, 'num_blocks': 4, 'l2_lambda': 0.007970246189529448, 'dropout_rate': 0.298401170265632, 'epochs': 43, 'lr': 0.004700690103112904}. Best is trial 29 with value: 0.009134545922279358.\n"
     ]
    },
    {
     "name": "stdout",
     "output_type": "stream",
     "text": [
      "Early stopping at epoch 10\n"
     ]
    },
    {
     "name": "stderr",
     "output_type": "stream",
     "text": [
      "[I 2024-09-12 10:13:02,108] Trial 75 finished with value: 0.046107396483421326 and parameters: {'out_channels': 66, 'kernel_size': 6, 'num_blocks': 3, 'l2_lambda': 0.009176633807707068, 'dropout_rate': 0.46638565325379505, 'epochs': 50, 'lr': 0.004282905601324469}. Best is trial 29 with value: 0.009134545922279358.\n"
     ]
    },
    {
     "name": "stdout",
     "output_type": "stream",
     "text": [
      "Early stopping at epoch 33\n"
     ]
    },
    {
     "name": "stderr",
     "output_type": "stream",
     "text": [
      "[I 2024-09-12 10:13:04,520] Trial 76 finished with value: 0.040668945759534836 and parameters: {'out_channels': 53, 'kernel_size': 5, 'num_blocks': 4, 'l2_lambda': 0.003379465061437427, 'dropout_rate': 0.2705837763267475, 'epochs': 39, 'lr': 0.005287799550063376}. Best is trial 29 with value: 0.009134545922279358.\n"
     ]
    },
    {
     "name": "stdout",
     "output_type": "stream",
     "text": [
      "Early stopping at epoch 29\n"
     ]
    },
    {
     "name": "stderr",
     "output_type": "stream",
     "text": [
      "[I 2024-09-12 10:13:07,884] Trial 77 finished with value: 0.022134913131594658 and parameters: {'out_channels': 35, 'kernel_size': 4, 'num_blocks': 5, 'l2_lambda': 0.00872041754997748, 'dropout_rate': 0.3924186961834629, 'epochs': 60, 'lr': 0.0011025533983286143}. Best is trial 29 with value: 0.009134545922279358.\n"
     ]
    },
    {
     "name": "stdout",
     "output_type": "stream",
     "text": [
      "Early stopping at epoch 32\n"
     ]
    },
    {
     "name": "stderr",
     "output_type": "stream",
     "text": [
      "[I 2024-09-12 10:13:09,277] Trial 78 finished with value: 0.10700035840272903 and parameters: {'out_channels': 44, 'kernel_size': 5, 'num_blocks': 3, 'l2_lambda': 0.006930476034606176, 'dropout_rate': 0.33546750911561024, 'epochs': 56, 'lr': 0.0016994081906158975}. Best is trial 29 with value: 0.009134545922279358.\n"
     ]
    },
    {
     "name": "stdout",
     "output_type": "stream",
     "text": [
      "Early stopping at epoch 19\n"
     ]
    },
    {
     "name": "stderr",
     "output_type": "stream",
     "text": [
      "[I 2024-09-12 10:13:10,823] Trial 79 finished with value: 0.08285431563854218 and parameters: {'out_channels': 71, 'kernel_size': 7, 'num_blocks': 5, 'l2_lambda': 0.009877778098404363, 'dropout_rate': 0.2465338706124346, 'epochs': 52, 'lr': 0.0008356315312760087}. Best is trial 29 with value: 0.009134545922279358.\n"
     ]
    },
    {
     "name": "stdout",
     "output_type": "stream",
     "text": [
      "Early stopping at epoch 12\n"
     ]
    },
    {
     "name": "stderr",
     "output_type": "stream",
     "text": [
      "[I 2024-09-12 10:13:12,505] Trial 80 finished with value: 0.020365189760923386 and parameters: {'out_channels': 59, 'kernel_size': 3, 'num_blocks': 2, 'l2_lambda': 0.008001570677879453, 'dropout_rate': 0.31094437820049065, 'epochs': 64, 'lr': 0.0026453146589966317}. Best is trial 29 with value: 0.009134545922279358.\n"
     ]
    },
    {
     "name": "stdout",
     "output_type": "stream",
     "text": [
      "Early stopping at epoch 33\n"
     ]
    },
    {
     "name": "stderr",
     "output_type": "stream",
     "text": [
      "[I 2024-09-12 10:13:14,848] Trial 81 finished with value: 0.10068162530660629 and parameters: {'out_channels': 56, 'kernel_size': 5, 'num_blocks': 4, 'l2_lambda': 0.009623288369642113, 'dropout_rate': 0.2619043222006517, 'epochs': 47, 'lr': 0.0062009656701824305}. Best is trial 29 with value: 0.009134545922279358.\n"
     ]
    },
    {
     "name": "stdout",
     "output_type": "stream",
     "text": [
      "Early stopping at epoch 28\n"
     ]
    },
    {
     "name": "stderr",
     "output_type": "stream",
     "text": [
      "[I 2024-09-12 10:13:17,591] Trial 82 finished with value: 0.019767863675951958 and parameters: {'out_channels': 52, 'kernel_size': 5, 'num_blocks': 4, 'l2_lambda': 0.009473093245976488, 'dropout_rate': 0.36216560468635983, 'epochs': 72, 'lr': 0.005518552535089132}. Best is trial 29 with value: 0.009134545922279358.\n"
     ]
    },
    {
     "name": "stdout",
     "output_type": "stream",
     "text": [
      "Early stopping at epoch 33\n"
     ]
    },
    {
     "name": "stderr",
     "output_type": "stream",
     "text": [
      "[I 2024-09-12 10:13:19,997] Trial 83 finished with value: 0.02261633798480034 and parameters: {'out_channels': 76, 'kernel_size': 5, 'num_blocks': 4, 'l2_lambda': 0.008944264061866061, 'dropout_rate': 0.2137859895627871, 'epochs': 49, 'lr': 0.005825521434672332}. Best is trial 29 with value: 0.009134545922279358.\n"
     ]
    },
    {
     "name": "stdout",
     "output_type": "stream",
     "text": [
      "Early stopping at epoch 27\n"
     ]
    },
    {
     "name": "stderr",
     "output_type": "stream",
     "text": [
      "[I 2024-09-12 10:13:22,337] Trial 84 finished with value: 0.10326474905014038 and parameters: {'out_channels': 58, 'kernel_size': 5, 'num_blocks': 4, 'l2_lambda': 0.009845865336852713, 'dropout_rate': 0.2755434577182315, 'epochs': 41, 'lr': 0.006525465557248068}. Best is trial 29 with value: 0.009134545922279358.\n"
     ]
    },
    {
     "name": "stdout",
     "output_type": "stream",
     "text": [
      "Early stopping at epoch 28\n"
     ]
    },
    {
     "name": "stderr",
     "output_type": "stream",
     "text": [
      "[I 2024-09-12 10:13:25,783] Trial 85 finished with value: 0.0325574092566967 and parameters: {'out_channels': 66, 'kernel_size': 4, 'num_blocks': 4, 'l2_lambda': 0.009339281506309315, 'dropout_rate': 0.2616021612848929, 'epochs': 44, 'lr': 0.0014042305682123962}. Best is trial 29 with value: 0.009134545922279358.\n"
     ]
    },
    {
     "name": "stdout",
     "output_type": "stream",
     "text": [
      "Early stopping at epoch 34\n"
     ]
    },
    {
     "name": "stderr",
     "output_type": "stream",
     "text": [
      "[I 2024-09-12 10:13:26,958] Trial 86 finished with value: 0.9143194556236267 and parameters: {'out_channels': 48, 'kernel_size': 5, 'num_blocks': 5, 'l2_lambda': 0.0010020705100748525, 'dropout_rate': 0.29036421192088474, 'epochs': 54, 'lr': 0.003708340750813807}. Best is trial 29 with value: 0.009134545922279358.\n"
     ]
    },
    {
     "name": "stdout",
     "output_type": "stream",
     "text": [
      "Early stopping at epoch 11\n"
     ]
    },
    {
     "name": "stderr",
     "output_type": "stream",
     "text": [
      "[I 2024-09-12 10:13:28,883] Trial 87 finished with value: 0.059853557497262955 and parameters: {'out_channels': 63, 'kernel_size': 6, 'num_blocks': 4, 'l2_lambda': 0.00854510174726933, 'dropout_rate': 0.42639486580797736, 'epochs': 59, 'lr': 0.002130450517245934}. Best is trial 29 with value: 0.009134545922279358.\n"
     ]
    },
    {
     "name": "stdout",
     "output_type": "stream",
     "text": [
      "Early stopping at epoch 19\n"
     ]
    },
    {
     "name": "stderr",
     "output_type": "stream",
     "text": [
      "[I 2024-09-12 10:13:31,257] Trial 88 finished with value: 0.06549568474292755 and parameters: {'out_channels': 37, 'kernel_size': 5, 'num_blocks': 5, 'l2_lambda': 0.0060187827228516, 'dropout_rate': 0.22117193539037133, 'epochs': 38, 'lr': 0.004747709575637703}. Best is trial 29 with value: 0.009134545922279358.\n"
     ]
    },
    {
     "name": "stdout",
     "output_type": "stream",
     "text": [
      "Early stopping at epoch 25\n"
     ]
    },
    {
     "name": "stderr",
     "output_type": "stream",
     "text": [
      "[I 2024-09-12 10:13:33,500] Trial 89 finished with value: 0.0438360869884491 and parameters: {'out_channels': 56, 'kernel_size': 4, 'num_blocks': 4, 'l2_lambda': 0.009001529360582343, 'dropout_rate': 0.24285550221220104, 'epochs': 82, 'lr': 0.00778817739268735}. Best is trial 29 with value: 0.009134545922279358.\n"
     ]
    },
    {
     "name": "stdout",
     "output_type": "stream",
     "text": [
      "Early stopping at epoch 24\n"
     ]
    },
    {
     "name": "stderr",
     "output_type": "stream",
     "text": [
      "[I 2024-09-12 10:13:34,920] Trial 90 finished with value: 0.68868088722229 and parameters: {'out_channels': 59, 'kernel_size': 6, 'num_blocks': 5, 'l2_lambda': 0.008213252179257639, 'dropout_rate': 0.2008430751465363, 'epochs': 78, 'lr': 0.0052521231217358974}. Best is trial 29 with value: 0.009134545922279358.\n"
     ]
    },
    {
     "name": "stdout",
     "output_type": "stream",
     "text": [
      "Early stopping at epoch 11\n"
     ]
    },
    {
     "name": "stderr",
     "output_type": "stream",
     "text": [
      "[I 2024-09-12 10:13:37,159] Trial 91 finished with value: 0.06792444735765457 and parameters: {'out_channels': 53, 'kernel_size': 5, 'num_blocks': 4, 'l2_lambda': 0.00944330857774976, 'dropout_rate': 0.35333500060544687, 'epochs': 74, 'lr': 0.0054314610734533565}. Best is trial 29 with value: 0.009134545922279358.\n"
     ]
    },
    {
     "name": "stdout",
     "output_type": "stream",
     "text": [
      "Early stopping at epoch 27\n"
     ]
    },
    {
     "name": "stderr",
     "output_type": "stream",
     "text": [
      "[I 2024-09-12 10:13:39,612] Trial 92 finished with value: 0.03150748834013939 and parameters: {'out_channels': 51, 'kernel_size': 5, 'num_blocks': 4, 'l2_lambda': 0.00950940612567213, 'dropout_rate': 0.3737200006176206, 'epochs': 85, 'lr': 0.005632360711851877}. Best is trial 29 with value: 0.009134545922279358.\n"
     ]
    },
    {
     "name": "stdout",
     "output_type": "stream",
     "text": [
      "Early stopping at epoch 29\n"
     ]
    },
    {
     "name": "stderr",
     "output_type": "stream",
     "text": [
      "[I 2024-09-12 10:13:40,553] Trial 93 finished with value: 0.5723558664321899 and parameters: {'out_channels': 46, 'kernel_size': 5, 'num_blocks': 4, 'l2_lambda': 0.009780379438805633, 'dropout_rate': 0.2840653902432014, 'epochs': 71, 'lr': 4.0701363770119904e-05}. Best is trial 29 with value: 0.009134545922279358.\n"
     ]
    },
    {
     "name": "stdout",
     "output_type": "stream",
     "text": [
      "Early stopping at epoch 10\n"
     ]
    },
    {
     "name": "stderr",
     "output_type": "stream",
     "text": [
      "[I 2024-09-12 10:13:42,412] Trial 94 finished with value: 0.03853838890790939 and parameters: {'out_channels': 40, 'kernel_size': 5, 'num_blocks': 4, 'l2_lambda': 0.008809518412595632, 'dropout_rate': 0.3670674351022366, 'epochs': 33, 'lr': 0.006088028901409184}. Best is trial 29 with value: 0.009134545922279358.\n"
     ]
    },
    {
     "name": "stdout",
     "output_type": "stream",
     "text": [
      "Early stopping at epoch 22\n"
     ]
    },
    {
     "name": "stderr",
     "output_type": "stream",
     "text": [
      "[I 2024-09-12 10:13:43,027] Trial 95 finished with value: 0.24171754717826843 and parameters: {'out_channels': 53, 'kernel_size': 5, 'num_blocks': 2, 'l2_lambda': 0.009219697362115385, 'dropout_rate': 0.30697105873128416, 'epochs': 68, 'lr': 0.004454744999714892}. Best is trial 29 with value: 0.009134545922279358.\n"
     ]
    },
    {
     "name": "stdout",
     "output_type": "stream",
     "text": [
      "Early stopping at epoch 10\n"
     ]
    },
    {
     "name": "stderr",
     "output_type": "stream",
     "text": [
      "[I 2024-09-12 10:13:46,613] Trial 96 finished with value: 0.0822555273771286 and parameters: {'out_channels': 68, 'kernel_size': 4, 'num_blocks': 5, 'l2_lambda': 0.009986689298626745, 'dropout_rate': 0.3976233901569481, 'epochs': 46, 'lr': 0.005502988497540726}. Best is trial 29 with value: 0.009134545922279358.\n"
     ]
    },
    {
     "name": "stdout",
     "output_type": "stream",
     "text": [
      "Early stopping at epoch 30\n"
     ]
    },
    {
     "name": "stderr",
     "output_type": "stream",
     "text": [
      "[I 2024-09-12 10:13:49,123] Trial 97 finished with value: 0.07239259779453278 and parameters: {'out_channels': 49, 'kernel_size': 6, 'num_blocks': 4, 'l2_lambda': 0.007867951115229907, 'dropout_rate': 0.2543564720490486, 'epochs': 51, 'lr': 0.003203265056859212}. Best is trial 29 with value: 0.009134545922279358.\n"
     ]
    },
    {
     "name": "stdout",
     "output_type": "stream",
     "text": [
      "Early stopping at epoch 26\n"
     ]
    },
    {
     "name": "stderr",
     "output_type": "stream",
     "text": [
      "[I 2024-09-12 10:13:51,375] Trial 98 finished with value: 0.19196823239326477 and parameters: {'out_channels': 61, 'kernel_size': 5, 'num_blocks': 5, 'l2_lambda': 0.00037134985839399086, 'dropout_rate': 0.32212056042391113, 'epochs': 35, 'lr': 0.004941894186326359}. Best is trial 29 with value: 0.009134545922279358.\n"
     ]
    },
    {
     "name": "stdout",
     "output_type": "stream",
     "text": [
      "Early stopping at epoch 20\n"
     ]
    },
    {
     "name": "stderr",
     "output_type": "stream",
     "text": [
      "[I 2024-09-12 10:13:53,928] Trial 99 finished with value: 0.0347491055727005 and parameters: {'out_channels': 104, 'kernel_size': 4, 'num_blocks': 3, 'l2_lambda': 0.008633274517601614, 'dropout_rate': 0.18873584705507457, 'epochs': 77, 'lr': 0.0019230645699666814}. Best is trial 29 with value: 0.009134545922279358.\n",
      "[I 2024-09-12 10:13:53,985] A new study created in memory with name: no-name-e3315694-609c-47fa-9338-2a76e21bb86e\n"
     ]
    },
    {
     "name": "stdout",
     "output_type": "stream",
     "text": [
      "Early stopping at epoch 29\n",
      "parameters for SGDUSD=X saved to ../models/best-hyperparameters/pytorch/conv1d-regression/SGDUSD=X.json\n",
      "Best model for SGDUSD=X saved with RMSE: 0.009134545922279358\n",
      "Deleted SGDUSD=X from ../models/hyperparameters-search-models/ticker-all-models-best-hyperparameters-list.csv\n"
     ]
    },
    {
     "name": "stderr",
     "output_type": "stream",
     "text": [
      "[I 2024-09-12 10:13:54,527] Trial 0 finished with value: 0.55 and parameters: {'sequence_length': 30, 'hidden_size': 128, 'num_layers': 1, 'num_blocks': 4, 'dropout_rate': 0.13833524684374057, 'epochs': 696, 'lr': 0.0026920942082128995}. Best is trial 0 with value: 0.55.\n"
     ]
    },
    {
     "name": "stdout",
     "output_type": "stream",
     "text": [
      "Early stopping at epoch 10\n"
     ]
    },
    {
     "name": "stderr",
     "output_type": "stream",
     "text": [
      "[I 2024-09-12 10:13:55,083] Trial 1 finished with value: 0.5806451612903226 and parameters: {'sequence_length': 5, 'hidden_size': 123, 'num_layers': 3, 'num_blocks': 2, 'dropout_rate': 0.26851599552710737, 'epochs': 330, 'lr': 0.008017378882861786}. Best is trial 1 with value: 0.5806451612903226.\n"
     ]
    },
    {
     "name": "stdout",
     "output_type": "stream",
     "text": [
      "Early stopping at epoch 16\n"
     ]
    },
    {
     "name": "stderr",
     "output_type": "stream",
     "text": [
      "[I 2024-09-12 10:13:55,503] Trial 2 finished with value: 0.532258064516129 and parameters: {'sequence_length': 5, 'hidden_size': 23, 'num_layers': 3, 'num_blocks': 2, 'dropout_rate': 0.19612748355865672, 'epochs': 702, 'lr': 0.0035559522739936587}. Best is trial 1 with value: 0.5806451612903226.\n"
     ]
    },
    {
     "name": "stdout",
     "output_type": "stream",
     "text": [
      "Early stopping at epoch 11\n"
     ]
    },
    {
     "name": "stderr",
     "output_type": "stream",
     "text": [
      "[I 2024-09-12 10:13:56,107] Trial 3 finished with value: 0.5645161290322581 and parameters: {'sequence_length': 7, 'hidden_size': 81, 'num_layers': 1, 'num_blocks': 4, 'dropout_rate': 0.1833036877780498, 'epochs': 124, 'lr': 0.003941283247534078}. Best is trial 1 with value: 0.5806451612903226.\n"
     ]
    },
    {
     "name": "stdout",
     "output_type": "stream",
     "text": [
      "Early stopping at epoch 13\n"
     ]
    },
    {
     "name": "stderr",
     "output_type": "stream",
     "text": [
      "[I 2024-09-12 10:13:56,685] Trial 4 finished with value: 0.5737704918032787 and parameters: {'sequence_length': 20, 'hidden_size': 75, 'num_layers': 1, 'num_blocks': 4, 'dropout_rate': 0.46188110241196745, 'epochs': 985, 'lr': 0.0036794744411792033}. Best is trial 1 with value: 0.5806451612903226.\n"
     ]
    },
    {
     "name": "stdout",
     "output_type": "stream",
     "text": [
      "Early stopping at epoch 12\n"
     ]
    },
    {
     "name": "stderr",
     "output_type": "stream",
     "text": [
      "[I 2024-09-12 10:13:57,278] Trial 5 finished with value: 0.532258064516129 and parameters: {'sequence_length': 14, 'hidden_size': 101, 'num_layers': 1, 'num_blocks': 5, 'dropout_rate': 0.168516931323219, 'epochs': 575, 'lr': 0.005712345350090246}. Best is trial 1 with value: 0.5806451612903226.\n"
     ]
    },
    {
     "name": "stdout",
     "output_type": "stream",
     "text": [
      "Early stopping at epoch 10\n"
     ]
    },
    {
     "name": "stderr",
     "output_type": "stream",
     "text": [
      "[I 2024-09-12 10:13:57,636] Trial 6 finished with value: 0.5967741935483871 and parameters: {'sequence_length': 7, 'hidden_size': 81, 'num_layers': 1, 'num_blocks': 1, 'dropout_rate': 0.3820280021305825, 'epochs': 152, 'lr': 0.0025336172363686375}. Best is trial 6 with value: 0.5967741935483871.\n"
     ]
    },
    {
     "name": "stdout",
     "output_type": "stream",
     "text": [
      "Early stopping at epoch 14\n"
     ]
    },
    {
     "name": "stderr",
     "output_type": "stream",
     "text": [
      "[I 2024-09-12 10:13:58,165] Trial 7 finished with value: 0.5483870967741935 and parameters: {'sequence_length': 14, 'hidden_size': 83, 'num_layers': 2, 'num_blocks': 1, 'dropout_rate': 0.13111638901407244, 'epochs': 821, 'lr': 0.00371506682569554}. Best is trial 6 with value: 0.5967741935483871.\n"
     ]
    },
    {
     "name": "stdout",
     "output_type": "stream",
     "text": [
      "Early stopping at epoch 19\n"
     ]
    },
    {
     "name": "stderr",
     "output_type": "stream",
     "text": [
      "[I 2024-09-12 10:13:58,844] Trial 8 finished with value: 0.5645161290322581 and parameters: {'sequence_length': 5, 'hidden_size': 60, 'num_layers': 2, 'num_blocks': 4, 'dropout_rate': 0.13096809646255436, 'epochs': 407, 'lr': 0.006643690879565515}. Best is trial 6 with value: 0.5967741935483871.\n"
     ]
    },
    {
     "name": "stdout",
     "output_type": "stream",
     "text": [
      "Early stopping at epoch 13\n"
     ]
    },
    {
     "name": "stderr",
     "output_type": "stream",
     "text": [
      "[I 2024-09-12 10:13:59,146] Trial 9 finished with value: 0.5806451612903226 and parameters: {'sequence_length': 7, 'hidden_size': 109, 'num_layers': 2, 'num_blocks': 1, 'dropout_rate': 0.4751907635201622, 'epochs': 819, 'lr': 0.0008896141653347581}. Best is trial 6 with value: 0.5967741935483871.\n"
     ]
    },
    {
     "name": "stdout",
     "output_type": "stream",
     "text": [
      "Early stopping at epoch 10\n"
     ]
    },
    {
     "name": "stderr",
     "output_type": "stream",
     "text": [
      "[I 2024-09-12 10:13:59,504] Trial 10 finished with value: 0.43548387096774194 and parameters: {'sequence_length': 7, 'hidden_size': 50, 'num_layers': 1, 'num_blocks': 2, 'dropout_rate': 0.37761393874633264, 'epochs': 145, 'lr': 2.122183469242811e-05}. Best is trial 6 with value: 0.5967741935483871.\n"
     ]
    },
    {
     "name": "stdout",
     "output_type": "stream",
     "text": [
      "Early stopping at epoch 10\n"
     ]
    },
    {
     "name": "stderr",
     "output_type": "stream",
     "text": [
      "[I 2024-09-12 10:14:00,158] Trial 11 finished with value: 0.5806451612903226 and parameters: {'sequence_length': 5, 'hidden_size': 128, 'num_layers': 3, 'num_blocks': 2, 'dropout_rate': 0.2963236442057022, 'epochs': 316, 'lr': 0.009958135950282509}. Best is trial 6 with value: 0.5967741935483871.\n"
     ]
    },
    {
     "name": "stdout",
     "output_type": "stream",
     "text": [
      "Early stopping at epoch 14\n"
     ]
    },
    {
     "name": "stderr",
     "output_type": "stream",
     "text": [
      "[I 2024-09-12 10:14:00,566] Trial 12 finished with value: 0.55 and parameters: {'sequence_length': 30, 'hidden_size': 103, 'num_layers': 3, 'num_blocks': 1, 'dropout_rate': 0.28613164211119124, 'epochs': 311, 'lr': 0.00857080227220903}. Best is trial 6 with value: 0.5967741935483871.\n"
     ]
    },
    {
     "name": "stdout",
     "output_type": "stream",
     "text": [
      "Early stopping at epoch 10\n"
     ]
    },
    {
     "name": "stderr",
     "output_type": "stream",
     "text": [
      "[I 2024-09-12 10:14:00,987] Trial 13 finished with value: 0.5737704918032787 and parameters: {'sequence_length': 20, 'hidden_size': 40, 'num_layers': 3, 'num_blocks': 2, 'dropout_rate': 0.3656561198878602, 'epochs': 247, 'lr': 0.00700679744225401}. Best is trial 6 with value: 0.5967741935483871.\n"
     ]
    },
    {
     "name": "stdout",
     "output_type": "stream",
     "text": [
      "Early stopping at epoch 10\n"
     ]
    },
    {
     "name": "stderr",
     "output_type": "stream",
     "text": [
      "[I 2024-09-12 10:14:01,831] Trial 14 finished with value: 0.5645161290322581 and parameters: {'sequence_length': 5, 'hidden_size': 93, 'num_layers': 2, 'num_blocks': 3, 'dropout_rate': 0.3756403980316717, 'epochs': 450, 'lr': 0.0018706991080900603}. Best is trial 6 with value: 0.5967741935483871.\n"
     ]
    },
    {
     "name": "stdout",
     "output_type": "stream",
     "text": [
      "Early stopping at epoch 20\n"
     ]
    },
    {
     "name": "stderr",
     "output_type": "stream",
     "text": [
      "[I 2024-09-12 10:14:02,347] Trial 15 finished with value: 0.5645161290322581 and parameters: {'sequence_length': 7, 'hidden_size': 114, 'num_layers': 2, 'num_blocks': 3, 'dropout_rate': 0.24203527761559243, 'epochs': 213, 'lr': 0.008563041154886587}. Best is trial 6 with value: 0.5967741935483871.\n"
     ]
    },
    {
     "name": "stdout",
     "output_type": "stream",
     "text": [
      "Early stopping at epoch 10\n"
     ]
    },
    {
     "name": "stderr",
     "output_type": "stream",
     "text": [
      "[I 2024-09-12 10:14:02,832] Trial 16 finished with value: 0.6451612903225806 and parameters: {'sequence_length': 7, 'hidden_size': 67, 'num_layers': 3, 'num_blocks': 1, 'dropout_rate': 0.41436692763765903, 'epochs': 443, 'lr': 0.005624682706285295}. Best is trial 16 with value: 0.6451612903225806.\n"
     ]
    },
    {
     "name": "stdout",
     "output_type": "stream",
     "text": [
      "Early stopping at epoch 17\n"
     ]
    },
    {
     "name": "stderr",
     "output_type": "stream",
     "text": [
      "[I 2024-09-12 10:14:03,486] Trial 17 finished with value: 0.6451612903225806 and parameters: {'sequence_length': 7, 'hidden_size': 65, 'num_layers': 2, 'num_blocks': 1, 'dropout_rate': 0.4238406023853762, 'epochs': 518, 'lr': 0.0052167805258123805}. Best is trial 16 with value: 0.6451612903225806.\n"
     ]
    },
    {
     "name": "stdout",
     "output_type": "stream",
     "text": [
      "Early stopping at epoch 25\n"
     ]
    },
    {
     "name": "stderr",
     "output_type": "stream",
     "text": [
      "[I 2024-09-12 10:14:04,027] Trial 18 finished with value: 0.6129032258064516 and parameters: {'sequence_length': 7, 'hidden_size': 62, 'num_layers': 2, 'num_blocks': 1, 'dropout_rate': 0.43337595354704456, 'epochs': 534, 'lr': 0.005245892601969122}. Best is trial 16 with value: 0.6451612903225806.\n"
     ]
    },
    {
     "name": "stdout",
     "output_type": "stream",
     "text": [
      "Early stopping at epoch 21\n"
     ]
    },
    {
     "name": "stderr",
     "output_type": "stream",
     "text": [
      "[I 2024-09-12 10:14:04,802] Trial 19 finished with value: 0.5645161290322581 and parameters: {'sequence_length': 7, 'hidden_size': 36, 'num_layers': 3, 'num_blocks': 3, 'dropout_rate': 0.42961323886104785, 'epochs': 577, 'lr': 0.006082849217649221}. Best is trial 16 with value: 0.6451612903225806.\n"
     ]
    },
    {
     "name": "stdout",
     "output_type": "stream",
     "text": [
      "Early stopping at epoch 13\n"
     ]
    },
    {
     "name": "stderr",
     "output_type": "stream",
     "text": [
      "[I 2024-09-12 10:14:05,158] Trial 20 finished with value: 0.6451612903225806 and parameters: {'sequence_length': 7, 'hidden_size': 65, 'num_layers': 2, 'num_blocks': 1, 'dropout_rate': 0.33577172660092897, 'epochs': 455, 'lr': 0.004580584543191754}. Best is trial 16 with value: 0.6451612903225806.\n"
     ]
    },
    {
     "name": "stdout",
     "output_type": "stream",
     "text": [
      "Early stopping at epoch 10\n"
     ]
    },
    {
     "name": "stderr",
     "output_type": "stream",
     "text": [
      "[I 2024-09-12 10:14:05,731] Trial 21 finished with value: 0.6612903225806451 and parameters: {'sequence_length': 7, 'hidden_size': 63, 'num_layers': 2, 'num_blocks': 1, 'dropout_rate': 0.3411493621921418, 'epochs': 468, 'lr': 0.00464260301210408}. Best is trial 21 with value: 0.6612903225806451.\n"
     ]
    },
    {
     "name": "stdout",
     "output_type": "stream",
     "text": [
      "Early stopping at epoch 20\n"
     ]
    },
    {
     "name": "stderr",
     "output_type": "stream",
     "text": [
      "[I 2024-09-12 10:14:06,265] Trial 22 finished with value: 0.6129032258064516 and parameters: {'sequence_length': 7, 'hidden_size': 49, 'num_layers': 2, 'num_blocks': 1, 'dropout_rate': 0.4180258975535286, 'epochs': 669, 'lr': 0.004678171803981602}. Best is trial 21 with value: 0.6612903225806451.\n"
     ]
    },
    {
     "name": "stdout",
     "output_type": "stream",
     "text": [
      "Early stopping at epoch 18\n"
     ]
    },
    {
     "name": "stderr",
     "output_type": "stream",
     "text": [
      "[I 2024-09-12 10:14:07,017] Trial 23 finished with value: 0.6451612903225806 and parameters: {'sequence_length': 7, 'hidden_size': 70, 'num_layers': 2, 'num_blocks': 2, 'dropout_rate': 0.32827499670781574, 'epochs': 496, 'lr': 0.007332023990781807}. Best is trial 21 with value: 0.6612903225806451.\n"
     ]
    },
    {
     "name": "stdout",
     "output_type": "stream",
     "text": [
      "Early stopping at epoch 20\n"
     ]
    },
    {
     "name": "stderr",
     "output_type": "stream",
     "text": [
      "[I 2024-09-12 10:14:07,693] Trial 24 finished with value: 0.5833333333333334 and parameters: {'sequence_length': 30, 'hidden_size': 54, 'num_layers': 3, 'num_blocks': 1, 'dropout_rate': 0.40649237541520655, 'epochs': 398, 'lr': 0.005887631440943615}. Best is trial 21 with value: 0.6612903225806451.\n"
     ]
    },
    {
     "name": "stdout",
     "output_type": "stream",
     "text": [
      "Early stopping at epoch 20\n"
     ]
    },
    {
     "name": "stderr",
     "output_type": "stream",
     "text": [
      "[I 2024-09-12 10:14:08,202] Trial 25 finished with value: 0.532258064516129 and parameters: {'sequence_length': 14, 'hidden_size': 41, 'num_layers': 2, 'num_blocks': 2, 'dropout_rate': 0.4914259164590715, 'epochs': 610, 'lr': 0.004996620645082282}. Best is trial 21 with value: 0.6612903225806451.\n"
     ]
    },
    {
     "name": "stdout",
     "output_type": "stream",
     "text": [
      "Early stopping at epoch 13\n"
     ]
    },
    {
     "name": "stderr",
     "output_type": "stream",
     "text": [
      "[I 2024-09-12 10:14:08,556] Trial 26 finished with value: 0.6290322580645161 and parameters: {'sequence_length': 7, 'hidden_size': 90, 'num_layers': 2, 'num_blocks': 1, 'dropout_rate': 0.33715237643395624, 'epochs': 377, 'lr': 0.006447738058181146}. Best is trial 21 with value: 0.6612903225806451.\n"
     ]
    },
    {
     "name": "stdout",
     "output_type": "stream",
     "text": [
      "Early stopping at epoch 11\n"
     ]
    },
    {
     "name": "stderr",
     "output_type": "stream",
     "text": [
      "[I 2024-09-12 10:14:09,234] Trial 27 finished with value: 0.5737704918032787 and parameters: {'sequence_length': 20, 'hidden_size': 27, 'num_layers': 2, 'num_blocks': 3, 'dropout_rate': 0.4501683354724903, 'epochs': 522, 'lr': 0.005415326134394035}. Best is trial 21 with value: 0.6612903225806451.\n"
     ]
    },
    {
     "name": "stdout",
     "output_type": "stream",
     "text": [
      "Early stopping at epoch 13\n"
     ]
    },
    {
     "name": "stderr",
     "output_type": "stream",
     "text": [
      "[I 2024-09-12 10:14:09,913] Trial 28 finished with value: 0.6451612903225806 and parameters: {'sequence_length': 7, 'hidden_size': 72, 'num_layers': 3, 'num_blocks': 1, 'dropout_rate': 0.4040754865356204, 'epochs': 627, 'lr': 0.004331503162735587}. Best is trial 21 with value: 0.6612903225806451.\n"
     ]
    },
    {
     "name": "stdout",
     "output_type": "stream",
     "text": [
      "Early stopping at epoch 24\n"
     ]
    },
    {
     "name": "stderr",
     "output_type": "stream",
     "text": [
      "[I 2024-09-12 10:14:10,770] Trial 29 finished with value: 0.55 and parameters: {'sequence_length': 30, 'hidden_size': 56, 'num_layers': 2, 'num_blocks': 5, 'dropout_rate': 0.3486296020975632, 'epochs': 471, 'lr': 0.0029044806342084306}. Best is trial 21 with value: 0.6612903225806451.\n"
     ]
    },
    {
     "name": "stdout",
     "output_type": "stream",
     "text": [
      "Early stopping at epoch 11\n"
     ]
    },
    {
     "name": "stderr",
     "output_type": "stream",
     "text": [
      "[I 2024-09-12 10:14:11,400] Trial 30 finished with value: 0.6290322580645161 and parameters: {'sequence_length': 7, 'hidden_size': 16, 'num_layers': 3, 'num_blocks': 2, 'dropout_rate': 0.3140654854661009, 'epochs': 723, 'lr': 0.0028470302133290055}. Best is trial 21 with value: 0.6612903225806451.\n"
     ]
    },
    {
     "name": "stdout",
     "output_type": "stream",
     "text": [
      "Early stopping at epoch 15\n"
     ]
    },
    {
     "name": "stderr",
     "output_type": "stream",
     "text": [
      "[I 2024-09-12 10:14:11,764] Trial 31 finished with value: 0.5967741935483871 and parameters: {'sequence_length': 7, 'hidden_size': 66, 'num_layers': 2, 'num_blocks': 1, 'dropout_rate': 0.24137907563375527, 'epochs': 457, 'lr': 0.004404724625821094}. Best is trial 21 with value: 0.6612903225806451.\n"
     ]
    },
    {
     "name": "stdout",
     "output_type": "stream",
     "text": [
      "Early stopping at epoch 12\n"
     ]
    },
    {
     "name": "stderr",
     "output_type": "stream",
     "text": [
      "[I 2024-09-12 10:14:12,313] Trial 32 finished with value: 0.6290322580645161 and parameters: {'sequence_length': 7, 'hidden_size': 66, 'num_layers': 2, 'num_blocks': 1, 'dropout_rate': 0.353657288658938, 'epochs': 367, 'lr': 0.005057968837387624}. Best is trial 21 with value: 0.6612903225806451.\n"
     ]
    },
    {
     "name": "stdout",
     "output_type": "stream",
     "text": [
      "Early stopping at epoch 21\n"
     ]
    },
    {
     "name": "stderr",
     "output_type": "stream",
     "text": [
      "[I 2024-09-12 10:14:12,732] Trial 33 finished with value: 0.5645161290322581 and parameters: {'sequence_length': 7, 'hidden_size': 76, 'num_layers': 2, 'num_blocks': 2, 'dropout_rate': 0.3950221950454943, 'epochs': 432, 'lr': 0.007395902740035587}. Best is trial 21 with value: 0.6612903225806451.\n"
     ]
    },
    {
     "name": "stdout",
     "output_type": "stream",
     "text": [
      "Early stopping at epoch 10\n"
     ]
    },
    {
     "name": "stderr",
     "output_type": "stream",
     "text": [
      "[I 2024-09-12 10:14:13,211] Trial 34 finished with value: 0.6290322580645161 and parameters: {'sequence_length': 7, 'hidden_size': 45, 'num_layers': 2, 'num_blocks': 1, 'dropout_rate': 0.26221578335831, 'epochs': 280, 'lr': 0.004469815647756507}. Best is trial 21 with value: 0.6612903225806451.\n"
     ]
    },
    {
     "name": "stdout",
     "output_type": "stream",
     "text": [
      "Early stopping at epoch 16\n"
     ]
    },
    {
     "name": "stderr",
     "output_type": "stream",
     "text": [
      "[I 2024-09-12 10:14:13,871] Trial 35 finished with value: 0.6290322580645161 and parameters: {'sequence_length': 7, 'hidden_size': 59, 'num_layers': 1, 'num_blocks': 2, 'dropout_rate': 0.4470270931985658, 'epochs': 505, 'lr': 0.0032607434130311843}. Best is trial 21 with value: 0.6612903225806451.\n"
     ]
    },
    {
     "name": "stdout",
     "output_type": "stream",
     "text": [
      "Early stopping at epoch 19\n"
     ]
    },
    {
     "name": "stderr",
     "output_type": "stream",
     "text": [
      "[I 2024-09-12 10:14:14,470] Trial 36 finished with value: 0.6885245901639344 and parameters: {'sequence_length': 20, 'hidden_size': 67, 'num_layers': 3, 'num_blocks': 1, 'dropout_rate': 0.32883661152663995, 'epochs': 357, 'lr': 0.0019367757269006004}. Best is trial 36 with value: 0.6885245901639344.\n"
     ]
    },
    {
     "name": "stdout",
     "output_type": "stream",
     "text": [
      "Early stopping at epoch 15\n"
     ]
    },
    {
     "name": "stderr",
     "output_type": "stream",
     "text": [
      "[I 2024-09-12 10:14:14,944] Trial 37 finished with value: 0.5737704918032787 and parameters: {'sequence_length': 20, 'hidden_size': 87, 'num_layers': 3, 'num_blocks': 1, 'dropout_rate': 0.31508783072007446, 'epochs': 352, 'lr': 0.0012365215070744796}. Best is trial 36 with value: 0.6885245901639344.\n"
     ]
    },
    {
     "name": "stdout",
     "output_type": "stream",
     "text": [
      "Early stopping at epoch 13\n"
     ]
    },
    {
     "name": "stderr",
     "output_type": "stream",
     "text": [
      "[I 2024-09-12 10:14:15,666] Trial 38 finished with value: 0.639344262295082 and parameters: {'sequence_length': 20, 'hidden_size': 77, 'num_layers': 3, 'num_blocks': 2, 'dropout_rate': 0.2732604703836609, 'epochs': 230, 'lr': 0.0021538947036679524}. Best is trial 36 with value: 0.6885245901639344.\n"
     ]
    },
    {
     "name": "stdout",
     "output_type": "stream",
     "text": [
      "Early stopping at epoch 16\n"
     ]
    },
    {
     "name": "stderr",
     "output_type": "stream",
     "text": [
      "[I 2024-09-12 10:14:16,072] Trial 39 finished with value: 0.6065573770491803 and parameters: {'sequence_length': 20, 'hidden_size': 70, 'num_layers': 3, 'num_blocks': 1, 'dropout_rate': 0.47653788770946426, 'epochs': 551, 'lr': 0.0037475041346685025}. Best is trial 36 with value: 0.6885245901639344.\n"
     ]
    },
    {
     "name": "stdout",
     "output_type": "stream",
     "text": [
      "Early stopping at epoch 12\n"
     ]
    },
    {
     "name": "stderr",
     "output_type": "stream",
     "text": [
      "[I 2024-09-12 10:14:16,435] Trial 40 finished with value: 0.5161290322580645 and parameters: {'sequence_length': 14, 'hidden_size': 81, 'num_layers': 3, 'num_blocks': 1, 'dropout_rate': 0.23115219760862526, 'epochs': 753, 'lr': 7.333485911063288e-05}. Best is trial 36 with value: 0.6885245901639344.\n"
     ]
    },
    {
     "name": "stdout",
     "output_type": "stream",
     "text": [
      "Early stopping at epoch 10\n"
     ]
    },
    {
     "name": "stderr",
     "output_type": "stream",
     "text": [
      "[I 2024-09-12 10:14:16,866] Trial 41 finished with value: 0.5901639344262295 and parameters: {'sequence_length': 20, 'hidden_size': 64, 'num_layers': 2, 'num_blocks': 1, 'dropout_rate': 0.32344330570113466, 'epochs': 424, 'lr': 0.005651704753871258}. Best is trial 36 with value: 0.6885245901639344.\n"
     ]
    },
    {
     "name": "stdout",
     "output_type": "stream",
     "text": [
      "Early stopping at epoch 15\n"
     ]
    },
    {
     "name": "stderr",
     "output_type": "stream",
     "text": [
      "[I 2024-09-12 10:14:17,451] Trial 42 finished with value: 0.6290322580645161 and parameters: {'sequence_length': 7, 'hidden_size': 56, 'num_layers': 1, 'num_blocks': 1, 'dropout_rate': 0.3507775060814653, 'epochs': 992, 'lr': 0.003948956789155711}. Best is trial 36 with value: 0.6885245901639344.\n"
     ]
    },
    {
     "name": "stdout",
     "output_type": "stream",
     "text": [
      "Early stopping at epoch 23\n"
     ]
    },
    {
     "name": "stderr",
     "output_type": "stream",
     "text": [
      "[I 2024-09-12 10:14:18,268] Trial 43 finished with value: 0.6129032258064516 and parameters: {'sequence_length': 5, 'hidden_size': 66, 'num_layers': 2, 'num_blocks': 1, 'dropout_rate': 0.38674343031995984, 'epochs': 491, 'lr': 0.0033302206535809195}. Best is trial 36 with value: 0.6885245901639344.\n"
     ]
    },
    {
     "name": "stdout",
     "output_type": "stream",
     "text": [
      "Early stopping at epoch 32\n"
     ]
    },
    {
     "name": "stderr",
     "output_type": "stream",
     "text": [
      "[I 2024-09-12 10:14:18,992] Trial 44 finished with value: 0.6290322580645161 and parameters: {'sequence_length': 7, 'hidden_size': 53, 'num_layers': 2, 'num_blocks': 2, 'dropout_rate': 0.3029131529111954, 'epochs': 605, 'lr': 0.006326482121484749}. Best is trial 36 with value: 0.6885245901639344.\n"
     ]
    },
    {
     "name": "stdout",
     "output_type": "stream",
     "text": [
      "Early stopping at epoch 19\n"
     ]
    },
    {
     "name": "stderr",
     "output_type": "stream",
     "text": [
      "[I 2024-09-12 10:14:19,980] Trial 45 finished with value: 0.55 and parameters: {'sequence_length': 30, 'hidden_size': 74, 'num_layers': 3, 'num_blocks': 4, 'dropout_rate': 0.10559720873059492, 'epochs': 339, 'lr': 0.004854348322397517}. Best is trial 36 with value: 0.6885245901639344.\n"
     ]
    },
    {
     "name": "stdout",
     "output_type": "stream",
     "text": [
      "Early stopping at epoch 13\n"
     ]
    },
    {
     "name": "stderr",
     "output_type": "stream",
     "text": [
      "[I 2024-09-12 10:14:20,355] Trial 46 finished with value: 0.5483870967741935 and parameters: {'sequence_length': 14, 'hidden_size': 60, 'num_layers': 2, 'num_blocks': 1, 'dropout_rate': 0.3637476448964709, 'epochs': 409, 'lr': 0.005544759802846994}. Best is trial 36 with value: 0.6885245901639344.\n"
     ]
    },
    {
     "name": "stdout",
     "output_type": "stream",
     "text": [
      "Early stopping at epoch 11\n"
     ]
    },
    {
     "name": "stderr",
     "output_type": "stream",
     "text": [
      "[I 2024-09-12 10:14:20,761] Trial 47 finished with value: 0.5737704918032787 and parameters: {'sequence_length': 20, 'hidden_size': 84, 'num_layers': 3, 'num_blocks': 1, 'dropout_rate': 0.34071945755431127, 'epochs': 314, 'lr': 0.0014769193910984732}. Best is trial 36 with value: 0.6885245901639344.\n"
     ]
    },
    {
     "name": "stdout",
     "output_type": "stream",
     "text": [
      "Early stopping at epoch 13\n"
     ]
    },
    {
     "name": "stderr",
     "output_type": "stream",
     "text": [
      "[I 2024-09-12 10:14:21,288] Trial 48 finished with value: 0.6290322580645161 and parameters: {'sequence_length': 7, 'hidden_size': 95, 'num_layers': 1, 'num_blocks': 2, 'dropout_rate': 0.4187695919068423, 'epochs': 195, 'lr': 0.004078720838511632}. Best is trial 36 with value: 0.6885245901639344.\n"
     ]
    },
    {
     "name": "stdout",
     "output_type": "stream",
     "text": [
      "Early stopping at epoch 16\n"
     ]
    },
    {
     "name": "stderr",
     "output_type": "stream",
     "text": [
      "[I 2024-09-12 10:14:21,776] Trial 49 finished with value: 0.5806451612903226 and parameters: {'sequence_length': 5, 'hidden_size': 49, 'num_layers': 2, 'num_blocks': 1, 'dropout_rate': 0.29581043376985344, 'epochs': 563, 'lr': 0.006930145689459665}. Best is trial 36 with value: 0.6885245901639344.\n"
     ]
    },
    {
     "name": "stdout",
     "output_type": "stream",
     "text": [
      "Early stopping at epoch 19\n"
     ]
    },
    {
     "name": "stderr",
     "output_type": "stream",
     "text": [
      "[I 2024-09-12 10:14:22,270] Trial 50 finished with value: 0.5806451612903226 and parameters: {'sequence_length': 7, 'hidden_size': 70, 'num_layers': 3, 'num_blocks': 2, 'dropout_rate': 0.37837843283496464, 'epochs': 916, 'lr': 0.007912394569397697}. Best is trial 36 with value: 0.6885245901639344.\n"
     ]
    },
    {
     "name": "stdout",
     "output_type": "stream",
     "text": [
      "Early stopping at epoch 12\n"
     ]
    },
    {
     "name": "stderr",
     "output_type": "stream",
     "text": [
      "[I 2024-09-12 10:14:22,622] Trial 51 finished with value: 0.6129032258064516 and parameters: {'sequence_length': 7, 'hidden_size': 70, 'num_layers': 2, 'num_blocks': 1, 'dropout_rate': 0.3335722560620582, 'epochs': 492, 'lr': 0.00910893528834442}. Best is trial 36 with value: 0.6885245901639344.\n"
     ]
    },
    {
     "name": "stdout",
     "output_type": "stream",
     "text": [
      "Early stopping at epoch 11\n"
     ]
    },
    {
     "name": "stderr",
     "output_type": "stream",
     "text": [
      "[I 2024-09-12 10:14:23,145] Trial 52 finished with value: 0.5645161290322581 and parameters: {'sequence_length': 7, 'hidden_size': 76, 'num_layers': 2, 'num_blocks': 2, 'dropout_rate': 0.2751325198194418, 'epochs': 455, 'lr': 0.00737261600220316}. Best is trial 36 with value: 0.6885245901639344.\n"
     ]
    },
    {
     "name": "stdout",
     "output_type": "stream",
     "text": [
      "Early stopping at epoch 13\n"
     ]
    },
    {
     "name": "stderr",
     "output_type": "stream",
     "text": [
      "[I 2024-09-12 10:14:23,644] Trial 53 finished with value: 0.6774193548387096 and parameters: {'sequence_length': 7, 'hidden_size': 61, 'num_layers': 2, 'num_blocks': 1, 'dropout_rate': 0.3593761345641332, 'epochs': 648, 'lr': 0.006126532952175658}. Best is trial 36 with value: 0.6885245901639344.\n"
     ]
    },
    {
     "name": "stdout",
     "output_type": "stream",
     "text": [
      "Early stopping at epoch 18\n"
     ]
    },
    {
     "name": "stderr",
     "output_type": "stream",
     "text": [
      "[I 2024-09-12 10:14:23,992] Trial 54 finished with value: 0.6290322580645161 and parameters: {'sequence_length': 7, 'hidden_size': 61, 'num_layers': 2, 'num_blocks': 1, 'dropout_rate': 0.36261709677461146, 'epochs': 637, 'lr': 0.006027242067390208}. Best is trial 36 with value: 0.6885245901639344.\n"
     ]
    },
    {
     "name": "stdout",
     "output_type": "stream",
     "text": [
      "Early stopping at epoch 11\n"
     ]
    },
    {
     "name": "stderr",
     "output_type": "stream",
     "text": [
      "[I 2024-09-12 10:14:24,393] Trial 55 finished with value: 0.5645161290322581 and parameters: {'sequence_length': 7, 'hidden_size': 57, 'num_layers': 2, 'num_blocks': 1, 'dropout_rate': 0.4014360301493708, 'epochs': 672, 'lr': 0.006629827374632805}. Best is trial 36 with value: 0.6885245901639344.\n"
     ]
    },
    {
     "name": "stdout",
     "output_type": "stream",
     "text": [
      "Early stopping at epoch 13\n"
     ]
    },
    {
     "name": "stderr",
     "output_type": "stream",
     "text": [
      "[I 2024-09-12 10:14:24,790] Trial 56 finished with value: 0.639344262295082 and parameters: {'sequence_length': 20, 'hidden_size': 51, 'num_layers': 2, 'num_blocks': 1, 'dropout_rate': 0.43498066438597277, 'epochs': 288, 'lr': 0.005201719131151546}. Best is trial 36 with value: 0.6885245901639344.\n"
     ]
    },
    {
     "name": "stdout",
     "output_type": "stream",
     "text": [
      "Early stopping at epoch 12\n"
     ]
    },
    {
     "name": "stderr",
     "output_type": "stream",
     "text": [
      "[I 2024-09-12 10:14:25,333] Trial 57 finished with value: 0.5967741935483871 and parameters: {'sequence_length': 7, 'hidden_size': 44, 'num_layers': 2, 'num_blocks': 1, 'dropout_rate': 0.417054063621012, 'epochs': 577, 'lr': 0.0004782903959156344}. Best is trial 36 with value: 0.6885245901639344.\n"
     ]
    },
    {
     "name": "stdout",
     "output_type": "stream",
     "text": [
      "Early stopping at epoch 20\n"
     ]
    },
    {
     "name": "stderr",
     "output_type": "stream",
     "text": [
      "[I 2024-09-12 10:14:26,103] Trial 58 finished with value: 0.5666666666666667 and parameters: {'sequence_length': 30, 'hidden_size': 80, 'num_layers': 2, 'num_blocks': 1, 'dropout_rate': 0.4624909884078456, 'epochs': 782, 'lr': 0.0024322089836547175}. Best is trial 36 with value: 0.6885245901639344.\n"
     ]
    },
    {
     "name": "stdout",
     "output_type": "stream",
     "text": [
      "Early stopping at epoch 23\n"
     ]
    },
    {
     "name": "stderr",
     "output_type": "stream",
     "text": [
      "[I 2024-09-12 10:14:27,097] Trial 59 finished with value: 0.5645161290322581 and parameters: {'sequence_length': 14, 'hidden_size': 64, 'num_layers': 2, 'num_blocks': 5, 'dropout_rate': 0.3886277371216035, 'epochs': 389, 'lr': 0.004724912886761084}. Best is trial 36 with value: 0.6885245901639344.\n"
     ]
    },
    {
     "name": "stdout",
     "output_type": "stream",
     "text": [
      "Early stopping at epoch 16\n"
     ]
    },
    {
     "name": "stderr",
     "output_type": "stream",
     "text": [
      "[I 2024-09-12 10:14:27,520] Trial 60 finished with value: 0.6612903225806451 and parameters: {'sequence_length': 7, 'hidden_size': 32, 'num_layers': 3, 'num_blocks': 1, 'dropout_rate': 0.3710245655135055, 'epochs': 665, 'lr': 0.006227711430473579}. Best is trial 36 with value: 0.6885245901639344.\n"
     ]
    },
    {
     "name": "stdout",
     "output_type": "stream",
     "text": [
      "Early stopping at epoch 13\n"
     ]
    },
    {
     "name": "stderr",
     "output_type": "stream",
     "text": [
      "[I 2024-09-12 10:14:27,939] Trial 61 finished with value: 0.6129032258064516 and parameters: {'sequence_length': 7, 'hidden_size': 23, 'num_layers': 3, 'num_blocks': 1, 'dropout_rate': 0.3648439860079507, 'epochs': 657, 'lr': 0.006266875062864402}. Best is trial 36 with value: 0.6885245901639344.\n"
     ]
    },
    {
     "name": "stdout",
     "output_type": "stream",
     "text": [
      "Early stopping at epoch 14\n"
     ]
    },
    {
     "name": "stderr",
     "output_type": "stream",
     "text": [
      "[I 2024-09-12 10:14:28,532] Trial 62 finished with value: 0.5967741935483871 and parameters: {'sequence_length': 7, 'hidden_size': 33, 'num_layers': 3, 'num_blocks': 1, 'dropout_rate': 0.3102816574461151, 'epochs': 705, 'lr': 0.005926034159929154}. Best is trial 36 with value: 0.6885245901639344.\n"
     ]
    },
    {
     "name": "stdout",
     "output_type": "stream",
     "text": [
      "Early stopping at epoch 20\n"
     ]
    },
    {
     "name": "stderr",
     "output_type": "stream",
     "text": [
      "[I 2024-09-12 10:14:28,967] Trial 63 finished with value: 0.5645161290322581 and parameters: {'sequence_length': 7, 'hidden_size': 46, 'num_layers': 3, 'num_blocks': 1, 'dropout_rate': 0.37610793747415133, 'epochs': 604, 'lr': 0.006941176443653673}. Best is trial 36 with value: 0.6885245901639344.\n"
     ]
    },
    {
     "name": "stdout",
     "output_type": "stream",
     "text": [
      "Early stopping at epoch 13\n"
     ]
    },
    {
     "name": "stderr",
     "output_type": "stream",
     "text": [
      "[I 2024-09-12 10:14:29,413] Trial 64 finished with value: 0.5806451612903226 and parameters: {'sequence_length': 7, 'hidden_size': 34, 'num_layers': 3, 'num_blocks': 1, 'dropout_rate': 0.34398281696356525, 'epochs': 528, 'lr': 0.005408880508778632}. Best is trial 36 with value: 0.6885245901639344.\n"
     ]
    },
    {
     "name": "stdout",
     "output_type": "stream",
     "text": [
      "Early stopping at epoch 13\n"
     ]
    },
    {
     "name": "stderr",
     "output_type": "stream",
     "text": [
      "[I 2024-09-12 10:14:29,779] Trial 65 finished with value: 0.5645161290322581 and parameters: {'sequence_length': 7, 'hidden_size': 67, 'num_layers': 2, 'num_blocks': 1, 'dropout_rate': 0.32851269514525244, 'epochs': 431, 'lr': 0.0057337166829109516}. Best is trial 36 with value: 0.6885245901639344.\n"
     ]
    },
    {
     "name": "stdout",
     "output_type": "stream",
     "text": [
      "Early stopping at epoch 10\n"
     ]
    },
    {
     "name": "stderr",
     "output_type": "stream",
     "text": [
      "[I 2024-09-12 10:14:30,367] Trial 66 finished with value: 0.6129032258064516 and parameters: {'sequence_length': 5, 'hidden_size': 61, 'num_layers': 3, 'num_blocks': 2, 'dropout_rate': 0.4156807850780867, 'epochs': 468, 'lr': 0.007919627402075146}. Best is trial 36 with value: 0.6885245901639344.\n"
     ]
    },
    {
     "name": "stdout",
     "output_type": "stream",
     "text": [
      "Early stopping at epoch 12\n"
     ]
    },
    {
     "name": "stderr",
     "output_type": "stream",
     "text": [
      "[I 2024-09-12 10:14:30,726] Trial 67 finished with value: 0.6290322580645161 and parameters: {'sequence_length': 7, 'hidden_size': 38, 'num_layers': 2, 'num_blocks': 1, 'dropout_rate': 0.28733681297838776, 'epochs': 859, 'lr': 0.0041715886233776025}. Best is trial 36 with value: 0.6885245901639344.\n"
     ]
    },
    {
     "name": "stdout",
     "output_type": "stream",
     "text": [
      "Early stopping at epoch 11\n"
     ]
    },
    {
     "name": "stderr",
     "output_type": "stream",
     "text": [
      "[I 2024-09-12 10:14:32,180] Trial 68 finished with value: 0.6290322580645161 and parameters: {'sequence_length': 7, 'hidden_size': 29, 'num_layers': 3, 'num_blocks': 3, 'dropout_rate': 0.3550472069461801, 'epochs': 512, 'lr': 0.004615146255025347}. Best is trial 36 with value: 0.6885245901639344.\n"
     ]
    },
    {
     "name": "stdout",
     "output_type": "stream",
     "text": [
      "Early stopping at epoch 30\n"
     ]
    },
    {
     "name": "stderr",
     "output_type": "stream",
     "text": [
      "[I 2024-09-12 10:14:32,784] Trial 69 finished with value: 0.639344262295082 and parameters: {'sequence_length': 20, 'hidden_size': 72, 'num_layers': 2, 'num_blocks': 1, 'dropout_rate': 0.39508912131057156, 'epochs': 546, 'lr': 0.005082658865166717}. Best is trial 36 with value: 0.6885245901639344.\n"
     ]
    },
    {
     "name": "stdout",
     "output_type": "stream",
     "text": [
      "Early stopping at epoch 19\n"
     ]
    },
    {
     "name": "stderr",
     "output_type": "stream",
     "text": [
      "[I 2024-09-12 10:14:33,199] Trial 70 finished with value: 0.5967741935483871 and parameters: {'sequence_length': 7, 'hidden_size': 79, 'num_layers': 3, 'num_blocks': 1, 'dropout_rate': 0.44296901350034557, 'epochs': 742, 'lr': 0.006581303783032957}. Best is trial 36 with value: 0.6885245901639344.\n"
     ]
    },
    {
     "name": "stdout",
     "output_type": "stream",
     "text": [
      "Early stopping at epoch 13\n"
     ]
    },
    {
     "name": "stderr",
     "output_type": "stream",
     "text": [
      "[I 2024-09-12 10:14:33,940] Trial 71 finished with value: 0.5967741935483871 and parameters: {'sequence_length': 7, 'hidden_size': 68, 'num_layers': 2, 'num_blocks': 2, 'dropout_rate': 0.32560768574588855, 'epochs': 485, 'lr': 0.007479937270215664}. Best is trial 36 with value: 0.6885245901639344.\n"
     ]
    },
    {
     "name": "stdout",
     "output_type": "stream",
     "text": [
      "Early stopping at epoch 20\n"
     ]
    },
    {
     "name": "stderr",
     "output_type": "stream",
     "text": [
      "[I 2024-09-12 10:14:34,499] Trial 72 finished with value: 0.6612903225806451 and parameters: {'sequence_length': 7, 'hidden_size': 74, 'num_layers': 2, 'num_blocks': 1, 'dropout_rate': 0.37269084614050596, 'epochs': 368, 'lr': 0.008676177166940816}. Best is trial 36 with value: 0.6885245901639344.\n"
     ]
    },
    {
     "name": "stdout",
     "output_type": "stream",
     "text": [
      "Early stopping at epoch 21\n"
     ]
    },
    {
     "name": "stderr",
     "output_type": "stream",
     "text": [
      "[I 2024-09-12 10:14:34,850] Trial 73 finished with value: 0.5645161290322581 and parameters: {'sequence_length': 7, 'hidden_size': 85, 'num_layers': 2, 'num_blocks': 1, 'dropout_rate': 0.3692137825599884, 'epochs': 366, 'lr': 0.009756575479430369}. Best is trial 36 with value: 0.6885245901639344.\n"
     ]
    },
    {
     "name": "stdout",
     "output_type": "stream",
     "text": [
      "Early stopping at epoch 10\n"
     ]
    },
    {
     "name": "stderr",
     "output_type": "stream",
     "text": [
      "[I 2024-09-12 10:14:35,257] Trial 74 finished with value: 0.5645161290322581 and parameters: {'sequence_length': 7, 'hidden_size': 63, 'num_layers': 2, 'num_blocks': 1, 'dropout_rate': 0.3794827491728179, 'epochs': 271, 'lr': 0.008540480460271935}. Best is trial 36 with value: 0.6885245901639344.\n"
     ]
    },
    {
     "name": "stdout",
     "output_type": "stream",
     "text": [
      "Early stopping at epoch 14\n"
     ]
    },
    {
     "name": "stderr",
     "output_type": "stream",
     "text": [
      "[I 2024-09-12 10:14:35,741] Trial 75 finished with value: 0.6451612903225806 and parameters: {'sequence_length': 7, 'hidden_size': 74, 'num_layers': 2, 'num_blocks': 1, 'dropout_rate': 0.35325837226586243, 'epochs': 396, 'lr': 0.003363670252523625}. Best is trial 36 with value: 0.6885245901639344.\n"
     ]
    },
    {
     "name": "stdout",
     "output_type": "stream",
     "text": [
      "Early stopping at epoch 16\n"
     ]
    },
    {
     "name": "stderr",
     "output_type": "stream",
     "text": [
      "[I 2024-09-12 10:14:36,179] Trial 76 finished with value: 0.55 and parameters: {'sequence_length': 30, 'hidden_size': 119, 'num_layers': 2, 'num_blocks': 1, 'dropout_rate': 0.40274002978937085, 'epochs': 440, 'lr': 0.009090991947089828}. Best is trial 36 with value: 0.6885245901639344.\n"
     ]
    },
    {
     "name": "stdout",
     "output_type": "stream",
     "text": [
      "Early stopping at epoch 10\n"
     ]
    },
    {
     "name": "stderr",
     "output_type": "stream",
     "text": [
      "[I 2024-09-12 10:14:36,983] Trial 77 finished with value: 0.6451612903225806 and parameters: {'sequence_length': 7, 'hidden_size': 58, 'num_layers': 2, 'num_blocks': 4, 'dropout_rate': 0.42536350396405165, 'epochs': 339, 'lr': 0.005333126689876713}. Best is trial 36 with value: 0.6885245901639344.\n"
     ]
    },
    {
     "name": "stdout",
     "output_type": "stream",
     "text": [
      "Early stopping at epoch 16\n"
     ]
    },
    {
     "name": "stderr",
     "output_type": "stream",
     "text": [
      "[I 2024-09-12 10:14:37,412] Trial 78 finished with value: 0.5737704918032787 and parameters: {'sequence_length': 20, 'hidden_size': 18, 'num_layers': 3, 'num_blocks': 1, 'dropout_rate': 0.3166457631527973, 'epochs': 423, 'lr': 0.0038085508213251637}. Best is trial 36 with value: 0.6885245901639344.\n"
     ]
    },
    {
     "name": "stdout",
     "output_type": "stream",
     "text": [
      "Early stopping at epoch 14\n"
     ]
    },
    {
     "name": "stderr",
     "output_type": "stream",
     "text": [
      "[I 2024-09-12 10:14:37,738] Trial 79 finished with value: 0.532258064516129 and parameters: {'sequence_length': 14, 'hidden_size': 106, 'num_layers': 2, 'num_blocks': 1, 'dropout_rate': 0.33604758554788017, 'epochs': 577, 'lr': 0.006212585793336935}. Best is trial 36 with value: 0.6885245901639344.\n"
     ]
    },
    {
     "name": "stdout",
     "output_type": "stream",
     "text": [
      "Early stopping at epoch 10\n"
     ]
    },
    {
     "name": "stderr",
     "output_type": "stream",
     "text": [
      "[I 2024-09-12 10:14:38,101] Trial 80 finished with value: 0.6290322580645161 and parameters: {'sequence_length': 7, 'hidden_size': 89, 'num_layers': 2, 'num_blocks': 1, 'dropout_rate': 0.45753114505710746, 'epochs': 370, 'lr': 0.005813377688854465}. Best is trial 36 with value: 0.6885245901639344.\n"
     ]
    },
    {
     "name": "stdout",
     "output_type": "stream",
     "text": [
      "Early stopping at epoch 11\n"
     ]
    },
    {
     "name": "stderr",
     "output_type": "stream",
     "text": [
      "[I 2024-09-12 10:14:38,863] Trial 81 finished with value: 0.6290322580645161 and parameters: {'sequence_length': 7, 'hidden_size': 71, 'num_layers': 2, 'num_blocks': 2, 'dropout_rate': 0.3467707575235669, 'epochs': 510, 'lr': 0.0072267011222930085}. Best is trial 36 with value: 0.6885245901639344.\n"
     ]
    },
    {
     "name": "stdout",
     "output_type": "stream",
     "text": [
      "Early stopping at epoch 20\n"
     ]
    },
    {
     "name": "stderr",
     "output_type": "stream",
     "text": [
      "[I 2024-09-12 10:14:39,396] Trial 82 finished with value: 0.5967741935483871 and parameters: {'sequence_length': 7, 'hidden_size': 53, 'num_layers': 2, 'num_blocks': 3, 'dropout_rate': 0.3201764100200978, 'epochs': 478, 'lr': 0.008133474523067894}. Best is trial 36 with value: 0.6885245901639344.\n"
     ]
    },
    {
     "name": "stdout",
     "output_type": "stream",
     "text": [
      "Early stopping at epoch 11\n"
     ]
    },
    {
     "name": "stderr",
     "output_type": "stream",
     "text": [
      "[I 2024-09-12 10:14:39,889] Trial 83 finished with value: 0.6129032258064516 and parameters: {'sequence_length': 7, 'hidden_size': 65, 'num_layers': 2, 'num_blocks': 1, 'dropout_rate': 0.2998203220730154, 'epochs': 410, 'lr': 0.007650630325919037}. Best is trial 36 with value: 0.6885245901639344.\n"
     ]
    },
    {
     "name": "stdout",
     "output_type": "stream",
     "text": [
      "Early stopping at epoch 16\n"
     ]
    },
    {
     "name": "stderr",
     "output_type": "stream",
     "text": [
      "[I 2024-09-12 10:14:40,529] Trial 84 finished with value: 0.6129032258064516 and parameters: {'sequence_length': 7, 'hidden_size': 78, 'num_layers': 2, 'num_blocks': 1, 'dropout_rate': 0.16607298126489287, 'epochs': 540, 'lr': 0.004941210333475697}. Best is trial 36 with value: 0.6885245901639344.\n"
     ]
    },
    {
     "name": "stdout",
     "output_type": "stream",
     "text": [
      "Early stopping at epoch 21\n"
     ]
    },
    {
     "name": "stderr",
     "output_type": "stream",
     "text": [
      "[I 2024-09-12 10:14:41,032] Trial 85 finished with value: 0.5806451612903226 and parameters: {'sequence_length': 5, 'hidden_size': 74, 'num_layers': 2, 'num_blocks': 2, 'dropout_rate': 0.3904259368627573, 'epochs': 452, 'lr': 0.0069341946510309135}. Best is trial 36 with value: 0.6885245901639344.\n"
     ]
    },
    {
     "name": "stdout",
     "output_type": "stream",
     "text": [
      "Early stopping at epoch 12\n"
     ]
    },
    {
     "name": "stderr",
     "output_type": "stream",
     "text": [
      "[I 2024-09-12 10:14:41,396] Trial 86 finished with value: 0.6290322580645161 and parameters: {'sequence_length': 7, 'hidden_size': 68, 'num_layers': 2, 'num_blocks': 1, 'dropout_rate': 0.33527499948542994, 'epochs': 686, 'lr': 0.00826982153872187}. Best is trial 36 with value: 0.6885245901639344.\n"
     ]
    },
    {
     "name": "stdout",
     "output_type": "stream",
     "text": [
      "Early stopping at epoch 11\n"
     ]
    },
    {
     "name": "stderr",
     "output_type": "stream",
     "text": [
      "[I 2024-09-12 10:14:41,911] Trial 87 finished with value: 0.5737704918032787 and parameters: {'sequence_length': 20, 'hidden_size': 55, 'num_layers': 2, 'num_blocks': 2, 'dropout_rate': 0.3705006205616786, 'epochs': 621, 'lr': 0.005536961642213829}. Best is trial 36 with value: 0.6885245901639344.\n"
     ]
    },
    {
     "name": "stdout",
     "output_type": "stream",
     "text": [
      "Early stopping at epoch 10\n"
     ]
    },
    {
     "name": "stderr",
     "output_type": "stream",
     "text": [
      "[I 2024-09-12 10:14:42,277] Trial 88 finished with value: 0.6290322580645161 and parameters: {'sequence_length': 7, 'hidden_size': 62, 'num_layers': 3, 'num_blocks': 1, 'dropout_rate': 0.3074061371263667, 'epochs': 588, 'lr': 0.008952383182765693}. Best is trial 36 with value: 0.6885245901639344.\n"
     ]
    },
    {
     "name": "stdout",
     "output_type": "stream",
     "text": [
      "Early stopping at epoch 11\n"
     ]
    },
    {
     "name": "stderr",
     "output_type": "stream",
     "text": [
      "[I 2024-09-12 10:14:42,922] Trial 89 finished with value: 0.5645161290322581 and parameters: {'sequence_length': 7, 'hidden_size': 82, 'num_layers': 2, 'num_blocks': 3, 'dropout_rate': 0.3595272794693276, 'epochs': 641, 'lr': 0.00945881232173213}. Best is trial 36 with value: 0.6885245901639344.\n"
     ]
    },
    {
     "name": "stdout",
     "output_type": "stream",
     "text": [
      "Early stopping at epoch 14\n"
     ]
    },
    {
     "name": "stderr",
     "output_type": "stream",
     "text": [
      "[I 2024-09-12 10:14:43,244] Trial 90 finished with value: 0.5806451612903226 and parameters: {'sequence_length': 7, 'hidden_size': 68, 'num_layers': 1, 'num_blocks': 1, 'dropout_rate': 0.34665920481840373, 'epochs': 324, 'lr': 0.001819524620134481}. Best is trial 36 with value: 0.6885245901639344.\n"
     ]
    },
    {
     "name": "stdout",
     "output_type": "stream",
     "text": [
      "Early stopping at epoch 11\n"
     ]
    },
    {
     "name": "stderr",
     "output_type": "stream",
     "text": [
      "[I 2024-09-12 10:14:43,650] Trial 91 finished with value: 0.5645161290322581 and parameters: {'sequence_length': 7, 'hidden_size': 72, 'num_layers': 3, 'num_blocks': 1, 'dropout_rate': 0.4042466091044618, 'epochs': 638, 'lr': 0.004478112914824135}. Best is trial 36 with value: 0.6885245901639344.\n"
     ]
    },
    {
     "name": "stdout",
     "output_type": "stream",
     "text": [
      "Early stopping at epoch 13\n"
     ]
    },
    {
     "name": "stderr",
     "output_type": "stream",
     "text": [
      "[I 2024-09-12 10:14:44,045] Trial 92 finished with value: 0.5967741935483871 and parameters: {'sequence_length': 7, 'hidden_size': 59, 'num_layers': 3, 'num_blocks': 1, 'dropout_rate': 0.385348843396101, 'epochs': 706, 'lr': 0.006022297796770699}. Best is trial 36 with value: 0.6885245901639344.\n"
     ]
    },
    {
     "name": "stdout",
     "output_type": "stream",
     "text": [
      "Early stopping at epoch 11\n"
     ]
    },
    {
     "name": "stderr",
     "output_type": "stream",
     "text": [
      "[I 2024-09-12 10:14:44,458] Trial 93 finished with value: 0.5967741935483871 and parameters: {'sequence_length': 7, 'hidden_size': 75, 'num_layers': 3, 'num_blocks': 1, 'dropout_rate': 0.4106745840882558, 'epochs': 555, 'lr': 0.0030186460396232134}. Best is trial 36 with value: 0.6885245901639344.\n"
     ]
    },
    {
     "name": "stdout",
     "output_type": "stream",
     "text": [
      "Early stopping at epoch 12\n"
     ]
    },
    {
     "name": "stderr",
     "output_type": "stream",
     "text": [
      "[I 2024-09-12 10:14:45,090] Trial 94 finished with value: 0.5833333333333334 and parameters: {'sequence_length': 30, 'hidden_size': 64, 'num_layers': 3, 'num_blocks': 1, 'dropout_rate': 0.43654797490896685, 'epochs': 499, 'lr': 0.004361611124392243}. Best is trial 36 with value: 0.6885245901639344.\n"
     ]
    },
    {
     "name": "stdout",
     "output_type": "stream",
     "text": [
      "Early stopping at epoch 19\n"
     ]
    },
    {
     "name": "stderr",
     "output_type": "stream",
     "text": [
      "[I 2024-09-12 10:14:45,482] Trial 95 finished with value: 0.5967741935483871 and parameters: {'sequence_length': 7, 'hidden_size': 69, 'num_layers': 3, 'num_blocks': 1, 'dropout_rate': 0.42703442835092387, 'epochs': 467, 'lr': 0.004192516107482917}. Best is trial 36 with value: 0.6885245901639344.\n"
     ]
    },
    {
     "name": "stdout",
     "output_type": "stream",
     "text": [
      "Early stopping at epoch 11\n"
     ]
    },
    {
     "name": "stderr",
     "output_type": "stream",
     "text": [
      "[I 2024-09-12 10:14:46,031] Trial 96 finished with value: 0.6129032258064516 and parameters: {'sequence_length': 7, 'hidden_size': 77, 'num_layers': 3, 'num_blocks': 1, 'dropout_rate': 0.3994152039665473, 'epochs': 523, 'lr': 0.006428388936227829}. Best is trial 36 with value: 0.6885245901639344.\n"
     ]
    },
    {
     "name": "stdout",
     "output_type": "stream",
     "text": [
      "Early stopping at epoch 17\n"
     ]
    },
    {
     "name": "stderr",
     "output_type": "stream",
     "text": [
      "[I 2024-09-12 10:14:46,625] Trial 97 finished with value: 0.5737704918032787 and parameters: {'sequence_length': 20, 'hidden_size': 73, 'num_layers': 2, 'num_blocks': 1, 'dropout_rate': 0.3276011194736262, 'epochs': 295, 'lr': 0.004865340381421378}. Best is trial 36 with value: 0.6885245901639344.\n"
     ]
    },
    {
     "name": "stdout",
     "output_type": "stream",
     "text": [
      "Early stopping at epoch 19\n"
     ]
    },
    {
     "name": "stderr",
     "output_type": "stream",
     "text": [
      "[I 2024-09-12 10:14:46,997] Trial 98 finished with value: 0.532258064516129 and parameters: {'sequence_length': 14, 'hidden_size': 66, 'num_layers': 3, 'num_blocks': 1, 'dropout_rate': 0.3697676587243392, 'epochs': 417, 'lr': 0.00517716361249549}. Best is trial 36 with value: 0.6885245901639344.\n"
     ]
    },
    {
     "name": "stdout",
     "output_type": "stream",
     "text": [
      "Early stopping at epoch 10\n"
     ]
    },
    {
     "name": "stderr",
     "output_type": "stream",
     "text": [
      "[I 2024-09-12 10:14:47,412] Trial 99 finished with value: 0.5645161290322581 and parameters: {'sequence_length': 7, 'hidden_size': 52, 'num_layers': 2, 'num_blocks': 1, 'dropout_rate': 0.3560452223740638, 'epochs': 597, 'lr': 0.0036043404334721463}. Best is trial 36 with value: 0.6885245901639344.\n",
      "[I 2024-09-12 10:14:47,460] A new study created in memory with name: no-name-07fdf88b-daa1-4674-b030-af6086a6a456\n"
     ]
    },
    {
     "name": "stdout",
     "output_type": "stream",
     "text": [
      "Early stopping at epoch 13\n",
      "parameters for SGDUSD=X saved to ../models/best-hyperparameters/pytorch/lstm-classification/SGDUSD=X.json\n",
      "Best model for SGDUSD=X saved with accuracy: 0.6885245901639344\n",
      "Deleted SGDUSD=X from ../models/hyperparameters-search-models/ticker-all-models-best-hyperparameters-list.csv\n"
     ]
    },
    {
     "name": "stderr",
     "output_type": "stream",
     "text": [
      "[I 2024-09-12 10:14:48,082] Trial 0 finished with value: 1.246699571609497 and parameters: {'sequence_length': 30, 'hidden_size': 40, 'num_layers': 1, 'num_blocks': 3, 'dropout_rate': 0.2511884767289424, 'epochs': 39, 'lr': 0.0001725205058068089}. Best is trial 0 with value: 1.246699571609497.\n"
     ]
    },
    {
     "name": "stdout",
     "output_type": "stream",
     "text": [
      "Early stopping at epoch 16\n"
     ]
    },
    {
     "name": "stderr",
     "output_type": "stream",
     "text": [
      "[I 2024-09-12 10:14:48,452] Trial 1 finished with value: 0.8053956627845764 and parameters: {'sequence_length': 5, 'hidden_size': 102, 'num_layers': 1, 'num_blocks': 1, 'dropout_rate': 0.21955747331604739, 'epochs': 85, 'lr': 0.007591708543320051}. Best is trial 1 with value: 0.8053956627845764.\n"
     ]
    },
    {
     "name": "stdout",
     "output_type": "stream",
     "text": [
      "Early stopping at epoch 16\n"
     ]
    },
    {
     "name": "stderr",
     "output_type": "stream",
     "text": [
      "[I 2024-09-12 10:14:51,340] Trial 2 finished with value: 0.19032695889472961 and parameters: {'sequence_length': 30, 'hidden_size': 39, 'num_layers': 1, 'num_blocks': 5, 'dropout_rate': 0.2189492716644452, 'epochs': 59, 'lr': 0.009153892893324557}. Best is trial 2 with value: 0.19032695889472961.\n",
      "[I 2024-09-12 10:14:52,875] Trial 3 finished with value: 0.45063960552215576 and parameters: {'sequence_length': 14, 'hidden_size': 93, 'num_layers': 1, 'num_blocks': 2, 'dropout_rate': 0.30520192614904107, 'epochs': 57, 'lr': 0.006766874759019454}. Best is trial 2 with value: 0.19032695889472961.\n"
     ]
    },
    {
     "name": "stdout",
     "output_type": "stream",
     "text": [
      "Early stopping at epoch 54\n"
     ]
    },
    {
     "name": "stderr",
     "output_type": "stream",
     "text": [
      "[I 2024-09-12 10:14:53,999] Trial 4 finished with value: 0.4678087830543518 and parameters: {'sequence_length': 5, 'hidden_size': 36, 'num_layers': 1, 'num_blocks': 1, 'dropout_rate': 0.4192438970756611, 'epochs': 89, 'lr': 0.008618990910750053}. Best is trial 2 with value: 0.19032695889472961.\n"
     ]
    },
    {
     "name": "stdout",
     "output_type": "stream",
     "text": [
      "Early stopping at epoch 60\n"
     ]
    },
    {
     "name": "stderr",
     "output_type": "stream",
     "text": [
      "[I 2024-09-12 10:14:56,108] Trial 5 finished with value: 0.2296506017446518 and parameters: {'sequence_length': 14, 'hidden_size': 85, 'num_layers': 1, 'num_blocks': 4, 'dropout_rate': 0.3541297716854165, 'epochs': 52, 'lr': 0.0010994345121544272}. Best is trial 2 with value: 0.19032695889472961.\n",
      "[I 2024-09-12 10:15:00,945] Trial 6 finished with value: 0.1725781410932541 and parameters: {'sequence_length': 30, 'hidden_size': 19, 'num_layers': 3, 'num_blocks': 4, 'dropout_rate': 0.28608781822452645, 'epochs': 87, 'lr': 0.0020665769170946295}. Best is trial 6 with value: 0.1725781410932541.\n",
      "[I 2024-09-12 10:15:01,571] Trial 7 finished with value: 2.185483694076538 and parameters: {'sequence_length': 14, 'hidden_size': 84, 'num_layers': 3, 'num_blocks': 2, 'dropout_rate': 0.4913458911870784, 'epochs': 29, 'lr': 0.005193830696559091}. Best is trial 6 with value: 0.1725781410932541.\n"
     ]
    },
    {
     "name": "stdout",
     "output_type": "stream",
     "text": [
      "Early stopping at epoch 16\n"
     ]
    },
    {
     "name": "stderr",
     "output_type": "stream",
     "text": [
      "[I 2024-09-12 10:15:03,338] Trial 8 finished with value: 0.7428463697433472 and parameters: {'sequence_length': 5, 'hidden_size': 122, 'num_layers': 2, 'num_blocks': 5, 'dropout_rate': 0.2553767898138274, 'epochs': 33, 'lr': 0.009213854601491484}. Best is trial 6 with value: 0.1725781410932541.\n",
      "[I 2024-09-12 10:15:04,985] Trial 9 finished with value: 0.26222261786460876 and parameters: {'sequence_length': 20, 'hidden_size': 104, 'num_layers': 2, 'num_blocks': 2, 'dropout_rate': 0.47180697156190865, 'epochs': 56, 'lr': 0.005471062458441668}. Best is trial 6 with value: 0.1725781410932541.\n"
     ]
    },
    {
     "name": "stdout",
     "output_type": "stream",
     "text": [
      "Early stopping at epoch 55\n"
     ]
    },
    {
     "name": "stderr",
     "output_type": "stream",
     "text": [
      "[I 2024-09-12 10:15:06,501] Trial 10 finished with value: 0.6696733832359314 and parameters: {'sequence_length': 7, 'hidden_size': 18, 'num_layers': 3, 'num_blocks': 4, 'dropout_rate': 0.11709254535757202, 'epochs': 99, 'lr': 0.0026616539699646255}. Best is trial 6 with value: 0.1725781410932541.\n"
     ]
    },
    {
     "name": "stdout",
     "output_type": "stream",
     "text": [
      "Early stopping at epoch 31\n"
     ]
    },
    {
     "name": "stderr",
     "output_type": "stream",
     "text": [
      "[I 2024-09-12 10:15:10,829] Trial 11 finished with value: 0.09867627173662186 and parameters: {'sequence_length': 30, 'hidden_size': 55, 'num_layers': 3, 'num_blocks': 5, 'dropout_rate': 0.1582379007815694, 'epochs': 72, 'lr': 0.0030286261657577486}. Best is trial 11 with value: 0.09867627173662186.\n",
      "[I 2024-09-12 10:15:14,583] Trial 12 finished with value: 0.11609695851802826 and parameters: {'sequence_length': 30, 'hidden_size': 62, 'num_layers': 3, 'num_blocks': 4, 'dropout_rate': 0.10638588690697273, 'epochs': 76, 'lr': 0.0028473277025124625}. Best is trial 11 with value: 0.09867627173662186.\n",
      "[I 2024-09-12 10:15:15,284] Trial 13 finished with value: 1.9505211114883423 and parameters: {'sequence_length': 30, 'hidden_size': 64, 'num_layers': 3, 'num_blocks': 5, 'dropout_rate': 0.11407183401072435, 'epochs': 10, 'lr': 0.003447219810778286}. Best is trial 11 with value: 0.09867627173662186.\n",
      "[I 2024-09-12 10:15:18,432] Trial 14 finished with value: 0.28164801001548767 and parameters: {'sequence_length': 30, 'hidden_size': 60, 'num_layers': 2, 'num_blocks': 4, 'dropout_rate': 0.17018908647108333, 'epochs': 72, 'lr': 0.003944826065427558}. Best is trial 11 with value: 0.09867627173662186.\n",
      "[I 2024-09-12 10:15:19,636] Trial 15 finished with value: 0.8938660025596619 and parameters: {'sequence_length': 7, 'hidden_size': 54, 'num_layers': 3, 'num_blocks': 3, 'dropout_rate': 0.1580731703369098, 'epochs': 74, 'lr': 0.003966861192305912}. Best is trial 11 with value: 0.09867627173662186.\n"
     ]
    },
    {
     "name": "stdout",
     "output_type": "stream",
     "text": [
      "Early stopping at epoch 27\n"
     ]
    },
    {
     "name": "stderr",
     "output_type": "stream",
     "text": [
      "[I 2024-09-12 10:15:20,848] Trial 16 finished with value: 0.7361336350440979 and parameters: {'sequence_length': 20, 'hidden_size': 74, 'num_layers': 3, 'num_blocks': 5, 'dropout_rate': 0.16826555501566076, 'epochs': 71, 'lr': 0.0019047302931229555}. Best is trial 11 with value: 0.09867627173662186.\n"
     ]
    },
    {
     "name": "stdout",
     "output_type": "stream",
     "text": [
      "Early stopping at epoch 17\n"
     ]
    },
    {
     "name": "stderr",
     "output_type": "stream",
     "text": [
      "[I 2024-09-12 10:15:22,157] Trial 17 finished with value: 0.5616521239280701 and parameters: {'sequence_length': 30, 'hidden_size': 51, 'num_layers': 2, 'num_blocks': 4, 'dropout_rate': 0.10751668154824486, 'epochs': 100, 'lr': 0.006157108517938146}. Best is trial 11 with value: 0.09867627173662186.\n"
     ]
    },
    {
     "name": "stdout",
     "output_type": "stream",
     "text": [
      "Early stopping at epoch 28\n"
     ]
    },
    {
     "name": "stderr",
     "output_type": "stream",
     "text": [
      "[I 2024-09-12 10:15:26,036] Trial 18 finished with value: 0.26648464798927307 and parameters: {'sequence_length': 30, 'hidden_size': 68, 'num_layers': 3, 'num_blocks': 5, 'dropout_rate': 0.19451642326043334, 'epochs': 78, 'lr': 0.0031383323064305916}. Best is trial 11 with value: 0.09867627173662186.\n"
     ]
    },
    {
     "name": "stdout",
     "output_type": "stream",
     "text": [
      "Early stopping at epoch 64\n"
     ]
    },
    {
     "name": "stderr",
     "output_type": "stream",
     "text": [
      "[I 2024-09-12 10:15:26,752] Trial 19 finished with value: 1.1087919473648071 and parameters: {'sequence_length': 30, 'hidden_size': 78, 'num_layers': 2, 'num_blocks': 3, 'dropout_rate': 0.35578785953672076, 'epochs': 64, 'lr': 0.0044957881308634404}. Best is trial 11 with value: 0.09867627173662186.\n"
     ]
    },
    {
     "name": "stdout",
     "output_type": "stream",
     "text": [
      "Early stopping at epoch 16\n"
     ]
    },
    {
     "name": "stderr",
     "output_type": "stream",
     "text": [
      "[I 2024-09-12 10:15:27,833] Trial 20 finished with value: 1.2598812580108643 and parameters: {'sequence_length': 20, 'hidden_size': 29, 'num_layers': 3, 'num_blocks': 4, 'dropout_rate': 0.15151873363134247, 'epochs': 48, 'lr': 0.0008815639385801755}. Best is trial 11 with value: 0.09867627173662186.\n"
     ]
    },
    {
     "name": "stdout",
     "output_type": "stream",
     "text": [
      "Early stopping at epoch 19\n"
     ]
    },
    {
     "name": "stderr",
     "output_type": "stream",
     "text": [
      "[I 2024-09-12 10:15:32,168] Trial 21 finished with value: 0.18782365322113037 and parameters: {'sequence_length': 30, 'hidden_size': 21, 'num_layers': 3, 'num_blocks': 4, 'dropout_rate': 0.30277903462403866, 'epochs': 87, 'lr': 0.0022108231518279254}. Best is trial 11 with value: 0.09867627173662186.\n",
      "[I 2024-09-12 10:15:36,444] Trial 22 finished with value: 0.43069708347320557 and parameters: {'sequence_length': 30, 'hidden_size': 49, 'num_layers': 3, 'num_blocks': 4, 'dropout_rate': 0.36121680041756044, 'epochs': 81, 'lr': 0.0015235492441114597}. Best is trial 11 with value: 0.09867627173662186.\n",
      "[I 2024-09-12 10:15:39,934] Trial 23 finished with value: 0.2771981954574585 and parameters: {'sequence_length': 30, 'hidden_size': 27, 'num_layers': 3, 'num_blocks': 5, 'dropout_rate': 0.25934322394200626, 'epochs': 68, 'lr': 0.0025218277587843478}. Best is trial 11 with value: 0.09867627173662186.\n"
     ]
    },
    {
     "name": "stdout",
     "output_type": "stream",
     "text": [
      "Early stopping at epoch 57\n"
     ]
    },
    {
     "name": "stderr",
     "output_type": "stream",
     "text": [
      "[I 2024-09-12 10:15:41,045] Trial 24 finished with value: 0.4734921455383301 and parameters: {'sequence_length': 7, 'hidden_size': 45, 'num_layers': 2, 'num_blocks': 3, 'dropout_rate': 0.13987380596845353, 'epochs': 93, 'lr': 0.003071329918078387}. Best is trial 11 with value: 0.09867627173662186.\n"
     ]
    },
    {
     "name": "stdout",
     "output_type": "stream",
     "text": [
      "Early stopping at epoch 29\n"
     ]
    },
    {
     "name": "stderr",
     "output_type": "stream",
     "text": [
      "[I 2024-09-12 10:15:45,459] Trial 25 finished with value: 0.06942489743232727 and parameters: {'sequence_length': 30, 'hidden_size': 55, 'num_layers': 3, 'num_blocks': 4, 'dropout_rate': 0.40803983340651756, 'epochs': 80, 'lr': 0.000615065056438868}. Best is trial 25 with value: 0.06942489743232727.\n",
      "[I 2024-09-12 10:15:49,231] Trial 26 finished with value: 0.2574003338813782 and parameters: {'sequence_length': 30, 'hidden_size': 60, 'num_layers': 3, 'num_blocks': 5, 'dropout_rate': 0.4259983177560033, 'epochs': 64, 'lr': 0.0005402709358772914}. Best is trial 25 with value: 0.06942489743232727.\n",
      "[I 2024-09-12 10:15:53,351] Trial 27 finished with value: 0.7222273349761963 and parameters: {'sequence_length': 30, 'hidden_size': 55, 'num_layers': 3, 'num_blocks': 4, 'dropout_rate': 0.3970873523015328, 'epochs': 79, 'lr': 5.005646725791783e-05}. Best is trial 25 with value: 0.06942489743232727.\n",
      "[I 2024-09-12 10:15:55,514] Trial 28 finished with value: 0.2863503098487854 and parameters: {'sequence_length': 30, 'hidden_size': 71, 'num_layers': 2, 'num_blocks': 5, 'dropout_rate': 0.20496477474543517, 'epochs': 46, 'lr': 0.001410278759615262}. Best is trial 25 with value: 0.06942489743232727.\n"
     ]
    },
    {
     "name": "stdout",
     "output_type": "stream",
     "text": [
      "Early stopping at epoch 36\n"
     ]
    },
    {
     "name": "stderr",
     "output_type": "stream",
     "text": [
      "[I 2024-09-12 10:15:56,467] Trial 29 finished with value: 0.4048478305339813 and parameters: {'sequence_length': 30, 'hidden_size': 42, 'num_layers': 3, 'num_blocks': 3, 'dropout_rate': 0.324063906100423, 'epochs': 64, 'lr': 0.0044772692354420095}. Best is trial 25 with value: 0.06942489743232727.\n"
     ]
    },
    {
     "name": "stdout",
     "output_type": "stream",
     "text": [
      "Early stopping at epoch 21\n"
     ]
    },
    {
     "name": "stderr",
     "output_type": "stream",
     "text": [
      "[I 2024-09-12 10:15:57,176] Trial 30 finished with value: 0.48259538412094116 and parameters: {'sequence_length': 20, 'hidden_size': 33, 'num_layers': 2, 'num_blocks': 4, 'dropout_rate': 0.19021515506230038, 'epochs': 93, 'lr': 0.0005855921105756784}. Best is trial 25 with value: 0.06942489743232727.\n"
     ]
    },
    {
     "name": "stdout",
     "output_type": "stream",
     "text": [
      "Early stopping at epoch 14\n"
     ]
    },
    {
     "name": "stderr",
     "output_type": "stream",
     "text": [
      "[I 2024-09-12 10:15:59,795] Trial 31 finished with value: 0.16699782013893127 and parameters: {'sequence_length': 30, 'hidden_size': 62, 'num_layers': 3, 'num_blocks': 4, 'dropout_rate': 0.26942775620352816, 'epochs': 82, 'lr': 0.0018712312605715408}. Best is trial 25 with value: 0.06942489743232727.\n"
     ]
    },
    {
     "name": "stdout",
     "output_type": "stream",
     "text": [
      "Early stopping at epoch 49\n"
     ]
    },
    {
     "name": "stderr",
     "output_type": "stream",
     "text": [
      "[I 2024-09-12 10:16:01,290] Trial 32 finished with value: 0.5175791382789612 and parameters: {'sequence_length': 30, 'hidden_size': 63, 'num_layers': 3, 'num_blocks': 3, 'dropout_rate': 0.23998894967993248, 'epochs': 80, 'lr': 0.0014558888998774618}. Best is trial 25 with value: 0.06942489743232727.\n"
     ]
    },
    {
     "name": "stdout",
     "output_type": "stream",
     "text": [
      "Early stopping at epoch 33\n"
     ]
    },
    {
     "name": "stderr",
     "output_type": "stream",
     "text": [
      "[I 2024-09-12 10:16:05,492] Trial 33 finished with value: 0.15291692316532135 and parameters: {'sequence_length': 5, 'hidden_size': 56, 'num_layers': 3, 'num_blocks': 4, 'dropout_rate': 0.1019947354822082, 'epochs': 83, 'lr': 0.0025782218848161087}. Best is trial 25 with value: 0.06942489743232727.\n",
      "[I 2024-09-12 10:16:09,854] Trial 34 finished with value: 0.18628834187984467 and parameters: {'sequence_length': 5, 'hidden_size': 44, 'num_layers': 3, 'num_blocks': 5, 'dropout_rate': 0.10111924612041222, 'epochs': 75, 'lr': 0.0035382648899460415}. Best is trial 25 with value: 0.06942489743232727.\n",
      "[I 2024-09-12 10:16:11,003] Trial 35 finished with value: 0.410876601934433 and parameters: {'sequence_length': 5, 'hidden_size': 55, 'num_layers': 3, 'num_blocks': 4, 'dropout_rate': 0.13388030856470606, 'epochs': 69, 'lr': 0.0026705537684195936}. Best is trial 25 with value: 0.06942489743232727.\n"
     ]
    },
    {
     "name": "stdout",
     "output_type": "stream",
     "text": [
      "Early stopping at epoch 20\n"
     ]
    },
    {
     "name": "stderr",
     "output_type": "stream",
     "text": [
      "[I 2024-09-12 10:16:16,381] Trial 36 finished with value: 0.11961754411458969 and parameters: {'sequence_length': 5, 'hidden_size': 78, 'num_layers': 3, 'num_blocks': 5, 'dropout_rate': 0.1273020084159062, 'epochs': 92, 'lr': 0.007341520739129411}. Best is trial 25 with value: 0.06942489743232727.\n",
      "[I 2024-09-12 10:16:18,390] Trial 37 finished with value: 0.6890738606452942 and parameters: {'sequence_length': 5, 'hidden_size': 90, 'num_layers': 3, 'num_blocks': 5, 'dropout_rate': 0.12994543011858414, 'epochs': 94, 'lr': 0.007835242325134497}. Best is trial 25 with value: 0.06942489743232727.\n"
     ]
    },
    {
     "name": "stdout",
     "output_type": "stream",
     "text": [
      "Early stopping at epoch 29\n"
     ]
    },
    {
     "name": "stderr",
     "output_type": "stream",
     "text": [
      "[I 2024-09-12 10:16:20,542] Trial 38 finished with value: 0.12455470860004425 and parameters: {'sequence_length': 14, 'hidden_size': 80, 'num_layers': 3, 'num_blocks': 1, 'dropout_rate': 0.22662235942959214, 'epochs': 88, 'lr': 0.007639885642336149}. Best is trial 25 with value: 0.06942489743232727.\n",
      "[I 2024-09-12 10:16:22,343] Trial 39 finished with value: 0.8393999934196472 and parameters: {'sequence_length': 5, 'hidden_size': 105, 'num_layers': 1, 'num_blocks': 5, 'dropout_rate': 0.18140221410173588, 'epochs': 60, 'lr': 0.006528490555976452}. Best is trial 25 with value: 0.06942489743232727.\n"
     ]
    },
    {
     "name": "stdout",
     "output_type": "stream",
     "text": [
      "Early stopping at epoch 36\n"
     ]
    },
    {
     "name": "stderr",
     "output_type": "stream",
     "text": [
      "[I 2024-09-12 10:16:23,318] Trial 40 finished with value: 1.4669362306594849 and parameters: {'sequence_length': 14, 'hidden_size': 97, 'num_layers': 2, 'num_blocks': 2, 'dropout_rate': 0.4432041983459722, 'epochs': 91, 'lr': 0.00981419107677259}. Best is trial 25 with value: 0.06942489743232727.\n"
     ]
    },
    {
     "name": "stdout",
     "output_type": "stream",
     "text": [
      "Early stopping at epoch 28\n"
     ]
    },
    {
     "name": "stderr",
     "output_type": "stream",
     "text": [
      "[I 2024-09-12 10:16:25,122] Trial 41 finished with value: 0.24464957416057587 and parameters: {'sequence_length': 14, 'hidden_size': 81, 'num_layers': 3, 'num_blocks': 2, 'dropout_rate': 0.2278928759316295, 'epochs': 87, 'lr': 0.00807361913098216}. Best is trial 25 with value: 0.06942489743232727.\n"
     ]
    },
    {
     "name": "stdout",
     "output_type": "stream",
     "text": [
      "Early stopping at epoch 52\n"
     ]
    },
    {
     "name": "stderr",
     "output_type": "stream",
     "text": [
      "[I 2024-09-12 10:16:26,004] Trial 42 finished with value: 0.8027676343917847 and parameters: {'sequence_length': 14, 'hidden_size': 76, 'num_layers': 3, 'num_blocks': 1, 'dropout_rate': 0.21578689016353578, 'epochs': 95, 'lr': 0.0068666524760552326}. Best is trial 25 with value: 0.06942489743232727.\n"
     ]
    },
    {
     "name": "stdout",
     "output_type": "stream",
     "text": [
      "Early stopping at epoch 37\n"
     ]
    },
    {
     "name": "stderr",
     "output_type": "stream",
     "text": [
      "[I 2024-09-12 10:16:27,304] Trial 43 finished with value: 0.3003905415534973 and parameters: {'sequence_length': 14, 'hidden_size': 69, 'num_layers': 3, 'num_blocks': 1, 'dropout_rate': 0.14835719582731888, 'epochs': 85, 'lr': 0.007267967325360457}. Best is trial 25 with value: 0.06942489743232727.\n"
     ]
    },
    {
     "name": "stdout",
     "output_type": "stream",
     "text": [
      "Early stopping at epoch 57\n"
     ]
    },
    {
     "name": "stderr",
     "output_type": "stream",
     "text": [
      "[I 2024-09-12 10:16:28,064] Trial 44 finished with value: 0.5795222520828247 and parameters: {'sequence_length': 14, 'hidden_size': 86, 'num_layers': 3, 'num_blocks': 1, 'dropout_rate': 0.12592715899981674, 'epochs': 77, 'lr': 0.005920061236650759}. Best is trial 25 with value: 0.06942489743232727.\n"
     ]
    },
    {
     "name": "stdout",
     "output_type": "stream",
     "text": [
      "Early stopping at epoch 28\n"
     ]
    },
    {
     "name": "stderr",
     "output_type": "stream",
     "text": [
      "[I 2024-09-12 10:16:29,157] Trial 45 finished with value: 1.2749015092849731 and parameters: {'sequence_length': 7, 'hidden_size': 67, 'num_layers': 3, 'num_blocks': 5, 'dropout_rate': 0.3860511017752568, 'epochs': 89, 'lr': 0.008820509195391877}. Best is trial 25 with value: 0.06942489743232727.\n"
     ]
    },
    {
     "name": "stdout",
     "output_type": "stream",
     "text": [
      "Early stopping at epoch 16\n"
     ]
    },
    {
     "name": "stderr",
     "output_type": "stream",
     "text": [
      "[I 2024-09-12 10:16:29,942] Trial 46 finished with value: 2.6176533699035645 and parameters: {'sequence_length': 5, 'hidden_size': 112, 'num_layers': 3, 'num_blocks': 3, 'dropout_rate': 0.3283717375273905, 'epochs': 97, 'lr': 0.008364560171498349}. Best is trial 25 with value: 0.06942489743232727.\n"
     ]
    },
    {
     "name": "stdout",
     "output_type": "stream",
     "text": [
      "Early stopping at epoch 15\n"
     ]
    },
    {
     "name": "stderr",
     "output_type": "stream",
     "text": [
      "[I 2024-09-12 10:16:30,551] Trial 47 finished with value: 0.7269972562789917 and parameters: {'sequence_length': 14, 'hidden_size': 80, 'num_layers': 3, 'num_blocks': 2, 'dropout_rate': 0.27951280256374705, 'epochs': 74, 'lr': 0.00746458496886281}. Best is trial 25 with value: 0.06942489743232727.\n"
     ]
    },
    {
     "name": "stdout",
     "output_type": "stream",
     "text": [
      "Early stopping at epoch 16\n"
     ]
    },
    {
     "name": "stderr",
     "output_type": "stream",
     "text": [
      "[I 2024-09-12 10:16:31,129] Trial 48 finished with value: 2.610241413116455 and parameters: {'sequence_length': 30, 'hidden_size': 91, 'num_layers': 1, 'num_blocks': 5, 'dropout_rate': 0.1608442598553682, 'epochs': 10, 'lr': 0.005452497464541798}. Best is trial 25 with value: 0.06942489743232727.\n",
      "[I 2024-09-12 10:16:32,535] Trial 49 finished with value: 1.3199039697647095 and parameters: {'sequence_length': 5, 'hidden_size': 49, 'num_layers': 3, 'num_blocks': 5, 'dropout_rate': 0.17633382426989422, 'epochs': 23, 'lr': 0.004932371065091227}. Best is trial 25 with value: 0.06942489743232727.\n",
      "[I 2024-09-12 10:16:34,860] Trial 50 finished with value: 0.2060737907886505 and parameters: {'sequence_length': 20, 'hidden_size': 38, 'num_layers': 2, 'num_blocks': 2, 'dropout_rate': 0.48063618563444954, 'epochs': 84, 'lr': 0.005926223144139691}. Best is trial 25 with value: 0.06942489743232727.\n"
     ]
    },
    {
     "name": "stdout",
     "output_type": "stream",
     "text": [
      "Early stopping at epoch 75\n"
     ]
    },
    {
     "name": "stderr",
     "output_type": "stream",
     "text": [
      "[I 2024-09-12 10:16:35,875] Trial 51 finished with value: 1.5975619554519653 and parameters: {'sequence_length': 5, 'hidden_size': 56, 'num_layers': 3, 'num_blocks': 4, 'dropout_rate': 0.10023079394510019, 'epochs': 83, 'lr': 0.004169931442229921}. Best is trial 25 with value: 0.06942489743232727.\n"
     ]
    },
    {
     "name": "stdout",
     "output_type": "stream",
     "text": [
      "Early stopping at epoch 16\n"
     ]
    },
    {
     "name": "stderr",
     "output_type": "stream",
     "text": [
      "[I 2024-09-12 10:16:37,249] Trial 52 finished with value: 1.0322495698928833 and parameters: {'sequence_length': 5, 'hidden_size': 75, 'num_layers': 3, 'num_blocks': 4, 'dropout_rate': 0.14236208591236327, 'epochs': 88, 'lr': 0.0032773466765790753}. Best is trial 25 with value: 0.06942489743232727.\n"
     ]
    },
    {
     "name": "stdout",
     "output_type": "stream",
     "text": [
      "Early stopping at epoch 25\n"
     ]
    },
    {
     "name": "stderr",
     "output_type": "stream",
     "text": [
      "[I 2024-09-12 10:16:39,052] Trial 53 finished with value: 0.4070296883583069 and parameters: {'sequence_length': 5, 'hidden_size': 59, 'num_layers': 3, 'num_blocks': 3, 'dropout_rate': 0.10923194309407894, 'epochs': 77, 'lr': 0.0036694592243954344}. Best is trial 25 with value: 0.06942489743232727.\n"
     ]
    },
    {
     "name": "stdout",
     "output_type": "stream",
     "text": [
      "Early stopping at epoch 41\n"
     ]
    },
    {
     "name": "stderr",
     "output_type": "stream",
     "text": [
      "[I 2024-09-12 10:16:41,068] Trial 54 finished with value: 0.5286399722099304 and parameters: {'sequence_length': 5, 'hidden_size': 65, 'num_layers': 3, 'num_blocks': 4, 'dropout_rate': 0.11938569685401347, 'epochs': 69, 'lr': 0.0027903497931469888}. Best is trial 25 with value: 0.06942489743232727.\n"
     ]
    },
    {
     "name": "stdout",
     "output_type": "stream",
     "text": [
      "Early stopping at epoch 39\n"
     ]
    },
    {
     "name": "stderr",
     "output_type": "stream",
     "text": [
      "[I 2024-09-12 10:16:44,420] Trial 55 finished with value: 0.21697574853897095 and parameters: {'sequence_length': 7, 'hidden_size': 71, 'num_layers': 3, 'num_blocks': 4, 'dropout_rate': 0.1206474386725291, 'epochs': 100, 'lr': 0.0010462853739772807}. Best is trial 25 with value: 0.06942489743232727.\n"
     ]
    },
    {
     "name": "stdout",
     "output_type": "stream",
     "text": [
      "Early stopping at epoch 66\n"
     ]
    },
    {
     "name": "stderr",
     "output_type": "stream",
     "text": [
      "[I 2024-09-12 10:16:46,556] Trial 56 finished with value: 0.307870090007782 and parameters: {'sequence_length': 30, 'hidden_size': 51, 'num_layers': 3, 'num_blocks': 5, 'dropout_rate': 0.1530546802352734, 'epochs': 73, 'lr': 0.0024456820856374887}. Best is trial 25 with value: 0.06942489743232727.\n"
     ]
    },
    {
     "name": "stdout",
     "output_type": "stream",
     "text": [
      "Early stopping at epoch 32\n"
     ]
    },
    {
     "name": "stderr",
     "output_type": "stream",
     "text": [
      "[I 2024-09-12 10:16:47,619] Trial 57 finished with value: 0.6767532229423523 and parameters: {'sequence_length': 30, 'hidden_size': 85, 'num_layers': 3, 'num_blocks': 4, 'dropout_rate': 0.19118360264726736, 'epochs': 84, 'lr': 0.005084601761842857}. Best is trial 25 with value: 0.06942489743232727.\n"
     ]
    },
    {
     "name": "stdout",
     "output_type": "stream",
     "text": [
      "Early stopping at epoch 16\n"
     ]
    },
    {
     "name": "stderr",
     "output_type": "stream",
     "text": [
      "[I 2024-09-12 10:16:48,660] Trial 58 finished with value: 1.2126061916351318 and parameters: {'sequence_length': 14, 'hidden_size': 48, 'num_layers': 3, 'num_blocks': 5, 'dropout_rate': 0.1663432236583238, 'epochs': 92, 'lr': 0.007141492305407473}. Best is trial 25 with value: 0.06942489743232727.\n"
     ]
    },
    {
     "name": "stdout",
     "output_type": "stream",
     "text": [
      "Early stopping at epoch 16\n"
     ]
    },
    {
     "name": "stderr",
     "output_type": "stream",
     "text": [
      "[I 2024-09-12 10:16:50,364] Trial 59 finished with value: 0.49739643931388855 and parameters: {'sequence_length': 30, 'hidden_size': 58, 'num_layers': 3, 'num_blocks': 4, 'dropout_rate': 0.45171159976980585, 'epochs': 52, 'lr': 0.009386744828283545}. Best is trial 25 with value: 0.06942489743232727.\n"
     ]
    },
    {
     "name": "stdout",
     "output_type": "stream",
     "text": [
      "Early stopping at epoch 31\n"
     ]
    },
    {
     "name": "stderr",
     "output_type": "stream",
     "text": [
      "[I 2024-09-12 10:16:51,254] Trial 60 finished with value: 0.8364297151565552 and parameters: {'sequence_length': 5, 'hidden_size': 127, 'num_layers': 3, 'num_blocks': 3, 'dropout_rate': 0.20786226880796244, 'epochs': 89, 'lr': 0.0019962072512944365}. Best is trial 25 with value: 0.06942489743232727.\n"
     ]
    },
    {
     "name": "stdout",
     "output_type": "stream",
     "text": [
      "Early stopping at epoch 20\n"
     ]
    },
    {
     "name": "stderr",
     "output_type": "stream",
     "text": [
      "[I 2024-09-12 10:16:55,399] Trial 61 finished with value: 0.5000865459442139 and parameters: {'sequence_length': 30, 'hidden_size': 63, 'num_layers': 3, 'num_blocks': 4, 'dropout_rate': 0.2727698678794003, 'epochs': 81, 'lr': 0.0017356098855525557}. Best is trial 25 with value: 0.06942489743232727.\n",
      "[I 2024-09-12 10:16:56,305] Trial 62 finished with value: 1.984483242034912 and parameters: {'sequence_length': 30, 'hidden_size': 61, 'num_layers': 3, 'num_blocks': 4, 'dropout_rate': 0.23555631904380828, 'epochs': 82, 'lr': 0.000489989243126013}. Best is trial 25 with value: 0.06942489743232727.\n"
     ]
    },
    {
     "name": "stdout",
     "output_type": "stream",
     "text": [
      "Early stopping at epoch 15\n"
     ]
    },
    {
     "name": "stderr",
     "output_type": "stream",
     "text": [
      "[I 2024-09-12 10:16:57,973] Trial 63 finished with value: 0.5055420994758606 and parameters: {'sequence_length': 30, 'hidden_size': 72, 'num_layers': 3, 'num_blocks': 4, 'dropout_rate': 0.26256039653031615, 'epochs': 78, 'lr': 0.0021362374546210873}. Best is trial 25 with value: 0.06942489743232727.\n"
     ]
    },
    {
     "name": "stdout",
     "output_type": "stream",
     "text": [
      "Early stopping at epoch 29\n"
     ]
    },
    {
     "name": "stderr",
     "output_type": "stream",
     "text": [
      "[I 2024-09-12 10:17:02,124] Trial 64 finished with value: 0.12029856443405151 and parameters: {'sequence_length': 30, 'hidden_size': 53, 'num_layers': 3, 'num_blocks': 4, 'dropout_rate': 0.29212506673607547, 'epochs': 86, 'lr': 0.0028566103088639677}. Best is trial 25 with value: 0.06942489743232727.\n",
      "[I 2024-09-12 10:17:03,233] Trial 65 finished with value: 0.8709233403205872 and parameters: {'sequence_length': 30, 'hidden_size': 35, 'num_layers': 3, 'num_blocks': 5, 'dropout_rate': 0.29812917006481393, 'epochs': 96, 'lr': 0.003059259952337099}. Best is trial 25 with value: 0.06942489743232727.\n"
     ]
    },
    {
     "name": "stdout",
     "output_type": "stream",
     "text": [
      "Early stopping at epoch 16\n"
     ]
    },
    {
     "name": "stderr",
     "output_type": "stream",
     "text": [
      "[I 2024-09-12 10:17:04,718] Trial 66 finished with value: 0.3289925754070282 and parameters: {'sequence_length': 20, 'hidden_size': 46, 'num_layers': 3, 'num_blocks': 4, 'dropout_rate': 0.33984179705014556, 'epochs': 61, 'lr': 0.0038264945391232492}. Best is trial 25 with value: 0.06942489743232727.\n"
     ]
    },
    {
     "name": "stdout",
     "output_type": "stream",
     "text": [
      "Early stopping at epoch 28\n"
     ]
    },
    {
     "name": "stderr",
     "output_type": "stream",
     "text": [
      "[I 2024-09-12 10:17:05,570] Trial 67 finished with value: 0.6258891224861145 and parameters: {'sequence_length': 30, 'hidden_size': 53, 'num_layers': 3, 'num_blocks': 3, 'dropout_rate': 0.13083432191803723, 'epochs': 90, 'lr': 0.0044259139467780866}. Best is trial 25 with value: 0.06942489743232727.\n"
     ]
    },
    {
     "name": "stdout",
     "output_type": "stream",
     "text": [
      "Early stopping at epoch 16\n"
     ]
    },
    {
     "name": "stderr",
     "output_type": "stream",
     "text": [
      "[I 2024-09-12 10:17:06,809] Trial 68 finished with value: 0.7413137555122375 and parameters: {'sequence_length': 7, 'hidden_size': 41, 'num_layers': 2, 'num_blocks': 5, 'dropout_rate': 0.3703885555999455, 'epochs': 67, 'lr': 0.004768856802848459}. Best is trial 25 with value: 0.06942489743232727.\n"
     ]
    },
    {
     "name": "stdout",
     "output_type": "stream",
     "text": [
      "Early stopping at epoch 22\n"
     ]
    },
    {
     "name": "stderr",
     "output_type": "stream",
     "text": [
      "[I 2024-09-12 10:17:08,090] Trial 69 finished with value: 0.8256015181541443 and parameters: {'sequence_length': 30, 'hidden_size': 67, 'num_layers': 3, 'num_blocks': 4, 'dropout_rate': 0.24546281560635594, 'epochs': 86, 'lr': 0.002810910310089764}. Best is trial 25 with value: 0.06942489743232727.\n"
     ]
    },
    {
     "name": "stdout",
     "output_type": "stream",
     "text": [
      "Early stopping at epoch 21\n"
     ]
    },
    {
     "name": "stderr",
     "output_type": "stream",
     "text": [
      "[I 2024-09-12 10:17:08,933] Trial 70 finished with value: 0.6927080750465393 and parameters: {'sequence_length': 30, 'hidden_size': 52, 'num_layers': 3, 'num_blocks': 3, 'dropout_rate': 0.11292562308669364, 'epochs': 76, 'lr': 0.003363913482352089}. Best is trial 25 with value: 0.06942489743232727.\n"
     ]
    },
    {
     "name": "stdout",
     "output_type": "stream",
     "text": [
      "Early stopping at epoch 18\n"
     ]
    },
    {
     "name": "stderr",
     "output_type": "stream",
     "text": [
      "[I 2024-09-12 10:17:10,868] Trial 71 finished with value: 0.48358240723609924 and parameters: {'sequence_length': 30, 'hidden_size': 57, 'num_layers': 3, 'num_blocks': 4, 'dropout_rate': 0.30913235717927956, 'epochs': 72, 'lr': 0.001744114383364457}. Best is trial 25 with value: 0.06942489743232727.\n"
     ]
    },
    {
     "name": "stdout",
     "output_type": "stream",
     "text": [
      "Early stopping at epoch 35\n"
     ]
    },
    {
     "name": "stderr",
     "output_type": "stream",
     "text": [
      "[I 2024-09-12 10:17:12,104] Trial 72 finished with value: 0.5714496374130249 and parameters: {'sequence_length': 30, 'hidden_size': 62, 'num_layers': 3, 'num_blocks': 4, 'dropout_rate': 0.26894203288526125, 'epochs': 80, 'lr': 0.0008145499730711626}. Best is trial 25 with value: 0.06942489743232727.\n"
     ]
    },
    {
     "name": "stdout",
     "output_type": "stream",
     "text": [
      "Early stopping at epoch 21\n"
     ]
    },
    {
     "name": "stderr",
     "output_type": "stream",
     "text": [
      "[I 2024-09-12 10:17:16,609] Trial 73 finished with value: 0.20709790289402008 and parameters: {'sequence_length': 30, 'hidden_size': 65, 'num_layers': 3, 'num_blocks': 4, 'dropout_rate': 0.2851364320239305, 'epochs': 86, 'lr': 0.002407732396649582}. Best is trial 25 with value: 0.06942489743232727.\n",
      "[I 2024-09-12 10:17:18,067] Trial 74 finished with value: 0.5313858985900879 and parameters: {'sequence_length': 30, 'hidden_size': 81, 'num_layers': 3, 'num_blocks': 5, 'dropout_rate': 0.14212470520233444, 'epochs': 83, 'lr': 0.0014370918002188297}. Best is trial 25 with value: 0.06942489743232727.\n"
     ]
    },
    {
     "name": "stdout",
     "output_type": "stream",
     "text": [
      "Early stopping at epoch 20\n"
     ]
    },
    {
     "name": "stderr",
     "output_type": "stream",
     "text": [
      "[I 2024-09-12 10:17:18,789] Trial 75 finished with value: 1.011619210243225 and parameters: {'sequence_length': 14, 'hidden_size': 69, 'num_layers': 3, 'num_blocks': 4, 'dropout_rate': 0.2929864108658462, 'epochs': 91, 'lr': 0.0030029997695838286}. Best is trial 25 with value: 0.06942489743232727.\n"
     ]
    },
    {
     "name": "stdout",
     "output_type": "stream",
     "text": [
      "Early stopping at epoch 11\n"
     ]
    },
    {
     "name": "stderr",
     "output_type": "stream",
     "text": [
      "[I 2024-09-12 10:17:20,274] Trial 76 finished with value: 0.590273916721344 and parameters: {'sequence_length': 5, 'hidden_size': 75, 'num_layers': 3, 'num_blocks': 5, 'dropout_rate': 0.25329836465835875, 'epochs': 98, 'lr': 0.0023524028770839415}. Best is trial 25 with value: 0.06942489743232727.\n"
     ]
    },
    {
     "name": "stdout",
     "output_type": "stream",
     "text": [
      "Early stopping at epoch 25\n"
     ]
    },
    {
     "name": "stderr",
     "output_type": "stream",
     "text": [
      "[I 2024-09-12 10:17:23,387] Trial 77 finished with value: 0.22032895684242249 and parameters: {'sequence_length': 30, 'hidden_size': 47, 'num_layers': 3, 'num_blocks': 3, 'dropout_rate': 0.3161849122249305, 'epochs': 71, 'lr': 0.00026507499687615055}. Best is trial 25 with value: 0.06942489743232727.\n",
      "[I 2024-09-12 10:17:23,958] Trial 78 finished with value: 1.4118995666503906 and parameters: {'sequence_length': 5, 'hidden_size': 78, 'num_layers': 3, 'num_blocks': 1, 'dropout_rate': 0.49783295500109354, 'epochs': 94, 'lr': 0.006465756669357386}. Best is trial 25 with value: 0.06942489743232727.\n"
     ]
    },
    {
     "name": "stdout",
     "output_type": "stream",
     "text": [
      "Early stopping at epoch 23\n"
     ]
    },
    {
     "name": "stderr",
     "output_type": "stream",
     "text": [
      "[I 2024-09-12 10:17:27,000] Trial 79 finished with value: 0.5768555998802185 and parameters: {'sequence_length': 20, 'hidden_size': 43, 'num_layers': 3, 'num_blocks': 5, 'dropout_rate': 0.18117986337620934, 'epochs': 81, 'lr': 0.0012668293397691335}. Best is trial 25 with value: 0.06942489743232727.\n"
     ]
    },
    {
     "name": "stdout",
     "output_type": "stream",
     "text": [
      "Early stopping at epoch 48\n"
     ]
    },
    {
     "name": "stderr",
     "output_type": "stream",
     "text": [
      "[I 2024-09-12 10:17:28,885] Trial 80 finished with value: 0.5199004411697388 and parameters: {'sequence_length': 14, 'hidden_size': 97, 'num_layers': 2, 'num_blocks': 4, 'dropout_rate': 0.22012405594185044, 'epochs': 40, 'lr': 0.0017791273763196286}. Best is trial 25 with value: 0.06942489743232727.\n",
      "[I 2024-09-12 10:17:29,901] Trial 81 finished with value: 1.065163016319275 and parameters: {'sequence_length': 30, 'hidden_size': 16, 'num_layers': 3, 'num_blocks': 4, 'dropout_rate': 0.2799177583464027, 'epochs': 87, 'lr': 0.002111328873144535}. Best is trial 25 with value: 0.06942489743232727.\n"
     ]
    },
    {
     "name": "stdout",
     "output_type": "stream",
     "text": [
      "Early stopping at epoch 19\n"
     ]
    },
    {
     "name": "stderr",
     "output_type": "stream",
     "text": [
      "[I 2024-09-12 10:17:33,999] Trial 82 finished with value: 0.14402787387371063 and parameters: {'sequence_length': 30, 'hidden_size': 55, 'num_layers': 3, 'num_blocks': 4, 'dropout_rate': 0.3420489924524808, 'epochs': 79, 'lr': 0.002736864548503265}. Best is trial 25 with value: 0.06942489743232727.\n",
      "[I 2024-09-12 10:17:35,811] Trial 83 finished with value: 0.3446241319179535 and parameters: {'sequence_length': 30, 'hidden_size': 55, 'num_layers': 3, 'num_blocks': 4, 'dropout_rate': 0.39600067652201737, 'epochs': 79, 'lr': 0.00784089209238905}. Best is trial 25 with value: 0.06942489743232727.\n"
     ]
    },
    {
     "name": "stdout",
     "output_type": "stream",
     "text": [
      "Early stopping at epoch 33\n"
     ]
    },
    {
     "name": "stderr",
     "output_type": "stream",
     "text": [
      "[I 2024-09-12 10:17:40,046] Trial 84 finished with value: 0.16483666002750397 and parameters: {'sequence_length': 30, 'hidden_size': 59, 'num_layers': 3, 'num_blocks': 4, 'dropout_rate': 0.3470602479263952, 'epochs': 85, 'lr': 0.0027440860545008402}. Best is trial 25 with value: 0.06942489743232727.\n",
      "[I 2024-09-12 10:17:41,878] Trial 85 finished with value: 0.6092866659164429 and parameters: {'sequence_length': 30, 'hidden_size': 50, 'num_layers': 3, 'num_blocks': 4, 'dropout_rate': 0.36995240506749805, 'epochs': 76, 'lr': 0.002846867678009337}. Best is trial 25 with value: 0.06942489743232727.\n"
     ]
    },
    {
     "name": "stdout",
     "output_type": "stream",
     "text": [
      "Early stopping at epoch 32\n"
     ]
    },
    {
     "name": "stderr",
     "output_type": "stream",
     "text": [
      "[I 2024-09-12 10:17:43,923] Trial 86 finished with value: 0.39420774579048157 and parameters: {'sequence_length': 30, 'hidden_size': 59, 'num_layers': 3, 'num_blocks': 5, 'dropout_rate': 0.3472074622475859, 'epochs': 85, 'lr': 0.003598328123591498}. Best is trial 25 with value: 0.06942489743232727.\n"
     ]
    },
    {
     "name": "stdout",
     "output_type": "stream",
     "text": [
      "Early stopping at epoch 31\n"
     ]
    },
    {
     "name": "stderr",
     "output_type": "stream",
     "text": [
      "[I 2024-09-12 10:17:45,143] Trial 87 finished with value: 0.7443247437477112 and parameters: {'sequence_length': 30, 'hidden_size': 55, 'num_layers': 3, 'num_blocks': 4, 'dropout_rate': 0.42305092127420724, 'epochs': 78, 'lr': 0.003948113358671979}. Best is trial 25 with value: 0.06942489743232727.\n"
     ]
    },
    {
     "name": "stdout",
     "output_type": "stream",
     "text": [
      "Early stopping at epoch 21\n"
     ]
    },
    {
     "name": "stderr",
     "output_type": "stream",
     "text": [
      "[I 2024-09-12 10:17:48,356] Trial 88 finished with value: 0.18613046407699585 and parameters: {'sequence_length': 5, 'hidden_size': 53, 'num_layers': 3, 'num_blocks': 4, 'dropout_rate': 0.3350845108757864, 'epochs': 66, 'lr': 0.002589072594127562}. Best is trial 25 with value: 0.06942489743232727.\n"
     ]
    },
    {
     "name": "stdout",
     "output_type": "stream",
     "text": [
      "Early stopping at epoch 64\n"
     ]
    },
    {
     "name": "stderr",
     "output_type": "stream",
     "text": [
      "[I 2024-09-12 10:17:50,847] Trial 89 finished with value: 0.2633134424686432 and parameters: {'sequence_length': 7, 'hidden_size': 64, 'num_layers': 3, 'num_blocks': 4, 'dropout_rate': 0.40369846340823445, 'epochs': 75, 'lr': 0.004207107604950417}. Best is trial 25 with value: 0.06942489743232727.\n"
     ]
    },
    {
     "name": "stdout",
     "output_type": "stream",
     "text": [
      "Early stopping at epoch 50\n"
     ]
    },
    {
     "name": "stderr",
     "output_type": "stream",
     "text": [
      "[I 2024-09-12 10:17:53,364] Trial 90 finished with value: 0.37548813223838806 and parameters: {'sequence_length': 14, 'hidden_size': 58, 'num_layers': 3, 'num_blocks': 5, 'dropout_rate': 0.3607948783230644, 'epochs': 90, 'lr': 0.0032462170836027276}. Best is trial 25 with value: 0.06942489743232727.\n"
     ]
    },
    {
     "name": "stdout",
     "output_type": "stream",
     "text": [
      "Early stopping at epoch 37\n"
     ]
    },
    {
     "name": "stderr",
     "output_type": "stream",
     "text": [
      "[I 2024-09-12 10:17:54,510] Trial 91 finished with value: 0.7579296827316284 and parameters: {'sequence_length': 30, 'hidden_size': 61, 'num_layers': 3, 'num_blocks': 4, 'dropout_rate': 0.10486458725058515, 'epochs': 82, 'lr': 0.0029124135591108006}. Best is trial 25 with value: 0.06942489743232727.\n"
     ]
    },
    {
     "name": "stdout",
     "output_type": "stream",
     "text": [
      "Early stopping at epoch 18\n"
     ]
    },
    {
     "name": "stderr",
     "output_type": "stream",
     "text": [
      "[I 2024-09-12 10:17:56,039] Trial 92 finished with value: 0.6669149994850159 and parameters: {'sequence_length': 30, 'hidden_size': 72, 'num_layers': 3, 'num_blocks': 4, 'dropout_rate': 0.31480852280455474, 'epochs': 88, 'lr': 0.0022535360884008357}. Best is trial 25 with value: 0.06942489743232727.\n"
     ]
    },
    {
     "name": "stdout",
     "output_type": "stream",
     "text": [
      "Early stopping at epoch 26\n"
     ]
    },
    {
     "name": "stderr",
     "output_type": "stream",
     "text": [
      "[I 2024-09-12 10:17:57,485] Trial 93 finished with value: 0.5056653618812561 and parameters: {'sequence_length': 30, 'hidden_size': 66, 'num_layers': 3, 'num_blocks': 4, 'dropout_rate': 0.12178917455231109, 'epochs': 83, 'lr': 0.0026510962439663887}. Best is trial 25 with value: 0.06942489743232727.\n"
     ]
    },
    {
     "name": "stdout",
     "output_type": "stream",
     "text": [
      "Early stopping at epoch 26\n"
     ]
    },
    {
     "name": "stderr",
     "output_type": "stream",
     "text": [
      "[I 2024-09-12 10:17:59,796] Trial 94 finished with value: 0.22464619576931 and parameters: {'sequence_length': 30, 'hidden_size': 49, 'num_layers': 3, 'num_blocks': 4, 'dropout_rate': 0.3226283120219164, 'epochs': 92, 'lr': 0.008207126368859424}. Best is trial 25 with value: 0.06942489743232727.\n"
     ]
    },
    {
     "name": "stdout",
     "output_type": "stream",
     "text": [
      "Early stopping at epoch 46\n"
     ]
    },
    {
     "name": "stderr",
     "output_type": "stream",
     "text": [
      "[I 2024-09-12 10:18:00,695] Trial 95 finished with value: 0.27932602167129517 and parameters: {'sequence_length': 30, 'hidden_size': 57, 'num_layers': 1, 'num_blocks': 2, 'dropout_rate': 0.13467384850865394, 'epochs': 70, 'lr': 0.003462201382505227}. Best is trial 25 with value: 0.06942489743232727.\n"
     ]
    },
    {
     "name": "stdout",
     "output_type": "stream",
     "text": [
      "Early stopping at epoch 32\n"
     ]
    },
    {
     "name": "stderr",
     "output_type": "stream",
     "text": [
      "[I 2024-09-12 10:18:04,126] Trial 96 finished with value: 0.27133816480636597 and parameters: {'sequence_length': 5, 'hidden_size': 61, 'num_layers': 3, 'num_blocks': 3, 'dropout_rate': 0.44613879539417367, 'epochs': 85, 'lr': 0.0019166516040515528}. Best is trial 25 with value: 0.06942489743232727.\n",
      "[I 2024-09-12 10:18:05,410] Trial 97 finished with value: 0.8989526033401489 and parameters: {'sequence_length': 30, 'hidden_size': 88, 'num_layers': 3, 'num_blocks': 4, 'dropout_rate': 0.10998529650081512, 'epochs': 74, 'lr': 0.0011498806260639707}. Best is trial 25 with value: 0.06942489743232727.\n"
     ]
    },
    {
     "name": "stdout",
     "output_type": "stream",
     "text": [
      "Early stopping at epoch 19\n"
     ]
    },
    {
     "name": "stderr",
     "output_type": "stream",
     "text": [
      "[I 2024-09-12 10:18:06,404] Trial 98 finished with value: 0.7741044163703918 and parameters: {'sequence_length': 30, 'hidden_size': 70, 'num_layers': 3, 'num_blocks': 4, 'dropout_rate': 0.37955759670911376, 'epochs': 79, 'lr': 0.008953556741564443}. Best is trial 25 with value: 0.06942489743232727.\n"
     ]
    },
    {
     "name": "stdout",
     "output_type": "stream",
     "text": [
      "Early stopping at epoch 16\n"
     ]
    },
    {
     "name": "stderr",
     "output_type": "stream",
     "text": [
      "[I 2024-09-12 10:18:10,411] Trial 99 finished with value: 0.1867174506187439 and parameters: {'sequence_length': 5, 'hidden_size': 83, 'num_layers': 3, 'num_blocks': 5, 'dropout_rate': 0.349235228040099, 'epochs': 96, 'lr': 0.0015731579952313374}. Best is trial 25 with value: 0.06942489743232727.\n",
      "[I 2024-09-12 10:18:10,524] A new study created in memory with name: no-name-945b3932-c897-4588-aa13-62aa20dfca14\n"
     ]
    },
    {
     "name": "stdout",
     "output_type": "stream",
     "text": [
      "Early stopping at epoch 67\n",
      "parameters for SGDUSD=X saved to ../models/best-hyperparameters/pytorch/lstm-regression/SGDUSD=X.json\n",
      "Best model for SGDUSD=X saved with RMSE: 0.06942489743232727\n",
      "Deleted USDSGD=X from ../models/hyperparameters-search-models/ticker-all-models-best-hyperparameters-list.csv\n"
     ]
    },
    {
     "name": "stderr",
     "output_type": "stream",
     "text": [
      "[I 2024-09-12 10:18:11,130] Trial 0 finished with value: 0.5555555555555556 and parameters: {'out_channels': 47, 'kernel_size': 7, 'num_blocks': 2, 'l2_lambda': 0.0013863695523079205, 'dropout_rate': 0.3491359412377622, 'epochs': 529, 'lr': 0.00724007600071729}. Best is trial 0 with value: 0.5555555555555556.\n"
     ]
    },
    {
     "name": "stdout",
     "output_type": "stream",
     "text": [
      "Early stopping at epoch 10\n"
     ]
    },
    {
     "name": "stderr",
     "output_type": "stream",
     "text": [
      "[I 2024-09-12 10:18:12,887] Trial 1 finished with value: 0.5238095238095238 and parameters: {'out_channels': 44, 'kernel_size': 7, 'num_blocks': 3, 'l2_lambda': 0.008269221050107758, 'dropout_rate': 0.29314847344100614, 'epochs': 959, 'lr': 0.004441522102547667}. Best is trial 0 with value: 0.5555555555555556.\n"
     ]
    },
    {
     "name": "stdout",
     "output_type": "stream",
     "text": [
      "Early stopping at epoch 24\n"
     ]
    },
    {
     "name": "stderr",
     "output_type": "stream",
     "text": [
      "[I 2024-09-12 10:18:13,828] Trial 2 finished with value: 0.5396825396825397 and parameters: {'out_channels': 70, 'kernel_size': 3, 'num_blocks': 1, 'l2_lambda': 0.0016291600267892942, 'dropout_rate': 0.3431510668930039, 'epochs': 845, 'lr': 0.0020640433059621946}. Best is trial 0 with value: 0.5555555555555556.\n"
     ]
    },
    {
     "name": "stdout",
     "output_type": "stream",
     "text": [
      "Early stopping at epoch 26\n"
     ]
    },
    {
     "name": "stderr",
     "output_type": "stream",
     "text": [
      "[I 2024-09-12 10:18:14,674] Trial 3 finished with value: 0.5158730158730159 and parameters: {'out_channels': 118, 'kernel_size': 3, 'num_blocks': 2, 'l2_lambda': 0.0023072932065780153, 'dropout_rate': 0.29567894477593804, 'epochs': 869, 'lr': 0.007651955329755994}. Best is trial 0 with value: 0.5555555555555556.\n"
     ]
    },
    {
     "name": "stdout",
     "output_type": "stream",
     "text": [
      "Early stopping at epoch 12\n"
     ]
    },
    {
     "name": "stderr",
     "output_type": "stream",
     "text": [
      "[I 2024-09-12 10:18:15,118] Trial 4 finished with value: 0.49206349206349204 and parameters: {'out_channels': 111, 'kernel_size': 6, 'num_blocks': 1, 'l2_lambda': 0.0016191675577570475, 'dropout_rate': 0.38846516050930646, 'epochs': 996, 'lr': 0.00023889862112781406}. Best is trial 0 with value: 0.5555555555555556.\n"
     ]
    },
    {
     "name": "stdout",
     "output_type": "stream",
     "text": [
      "Early stopping at epoch 10\n"
     ]
    },
    {
     "name": "stderr",
     "output_type": "stream",
     "text": [
      "[I 2024-09-12 10:18:16,879] Trial 5 finished with value: 0.5238095238095238 and parameters: {'out_channels': 109, 'kernel_size': 7, 'num_blocks': 3, 'l2_lambda': 0.002604207393899375, 'dropout_rate': 0.4208531736164234, 'epochs': 317, 'lr': 0.004551263827465573}. Best is trial 0 with value: 0.5555555555555556.\n"
     ]
    },
    {
     "name": "stdout",
     "output_type": "stream",
     "text": [
      "Early stopping at epoch 20\n"
     ]
    },
    {
     "name": "stderr",
     "output_type": "stream",
     "text": [
      "[I 2024-09-12 10:18:18,513] Trial 6 finished with value: 0.5238095238095238 and parameters: {'out_channels': 84, 'kernel_size': 4, 'num_blocks': 3, 'l2_lambda': 0.006974065866689306, 'dropout_rate': 0.19785840135792473, 'epochs': 737, 'lr': 0.0022294353859778075}. Best is trial 0 with value: 0.5555555555555556.\n"
     ]
    },
    {
     "name": "stdout",
     "output_type": "stream",
     "text": [
      "Early stopping at epoch 19\n"
     ]
    },
    {
     "name": "stderr",
     "output_type": "stream",
     "text": [
      "[I 2024-09-12 10:18:19,064] Trial 7 finished with value: 0.5317460317460317 and parameters: {'out_channels': 62, 'kernel_size': 7, 'num_blocks': 1, 'l2_lambda': 0.001347171965595143, 'dropout_rate': 0.3036424608806809, 'epochs': 555, 'lr': 0.0012267479479881763}. Best is trial 0 with value: 0.5555555555555556.\n"
     ]
    },
    {
     "name": "stdout",
     "output_type": "stream",
     "text": [
      "Early stopping at epoch 16\n"
     ]
    },
    {
     "name": "stderr",
     "output_type": "stream",
     "text": [
      "[I 2024-09-12 10:18:19,697] Trial 8 finished with value: 0.5476190476190477 and parameters: {'out_channels': 23, 'kernel_size': 6, 'num_blocks': 1, 'l2_lambda': 0.007882425245869374, 'dropout_rate': 0.24723819198573482, 'epochs': 919, 'lr': 0.008696487371499726}. Best is trial 0 with value: 0.5555555555555556.\n"
     ]
    },
    {
     "name": "stdout",
     "output_type": "stream",
     "text": [
      "Early stopping at epoch 19\n"
     ]
    },
    {
     "name": "stderr",
     "output_type": "stream",
     "text": [
      "[I 2024-09-12 10:18:21,023] Trial 9 finished with value: 0.5317460317460317 and parameters: {'out_channels': 29, 'kernel_size': 7, 'num_blocks': 5, 'l2_lambda': 0.00647528069259692, 'dropout_rate': 0.3915085470214378, 'epochs': 371, 'lr': 0.0020852897175433413}. Best is trial 0 with value: 0.5555555555555556.\n"
     ]
    },
    {
     "name": "stdout",
     "output_type": "stream",
     "text": [
      "Early stopping at epoch 13\n"
     ]
    },
    {
     "name": "stderr",
     "output_type": "stream",
     "text": [
      "[I 2024-09-12 10:18:22,306] Trial 10 finished with value: 0.5158730158730159 and parameters: {'out_channels': 42, 'kernel_size': 5, 'num_blocks': 5, 'l2_lambda': 0.004335915244474972, 'dropout_rate': 0.11392319315918631, 'epochs': 106, 'lr': 0.006657847779507503}. Best is trial 0 with value: 0.5555555555555556.\n"
     ]
    },
    {
     "name": "stdout",
     "output_type": "stream",
     "text": [
      "Early stopping at epoch 11\n"
     ]
    },
    {
     "name": "stderr",
     "output_type": "stream",
     "text": [
      "[I 2024-09-12 10:18:22,938] Trial 11 finished with value: 0.5158730158730159 and parameters: {'out_channels': 25, 'kernel_size': 6, 'num_blocks': 2, 'l2_lambda': 0.00969273649927822, 'dropout_rate': 0.2229953528818006, 'epochs': 607, 'lr': 0.009691370700852917}. Best is trial 0 with value: 0.5555555555555556.\n"
     ]
    },
    {
     "name": "stdout",
     "output_type": "stream",
     "text": [
      "Early stopping at epoch 10\n"
     ]
    },
    {
     "name": "stderr",
     "output_type": "stream",
     "text": [
      "[I 2024-09-12 10:18:24,347] Trial 12 finished with value: 0.5396825396825397 and parameters: {'out_channels': 50, 'kernel_size': 6, 'num_blocks': 2, 'l2_lambda': 0.0045047283678604794, 'dropout_rate': 0.23095265882007646, 'epochs': 380, 'lr': 0.00964122419605751}. Best is trial 0 with value: 0.5555555555555556.\n"
     ]
    },
    {
     "name": "stdout",
     "output_type": "stream",
     "text": [
      "Early stopping at epoch 24\n"
     ]
    },
    {
     "name": "stderr",
     "output_type": "stream",
     "text": [
      "[I 2024-09-12 10:18:25,189] Trial 13 finished with value: 0.5396825396825397 and parameters: {'out_channels': 21, 'kernel_size': 5, 'num_blocks': 2, 'l2_lambda': 0.006067370754892236, 'dropout_rate': 0.4878092095870016, 'epochs': 699, 'lr': 0.007629950347284828}. Best is trial 0 with value: 0.5555555555555556.\n"
     ]
    },
    {
     "name": "stdout",
     "output_type": "stream",
     "text": [
      "Early stopping at epoch 15\n"
     ]
    },
    {
     "name": "stderr",
     "output_type": "stream",
     "text": [
      "[I 2024-09-12 10:18:26,510] Trial 14 finished with value: 0.5158730158730159 and parameters: {'out_channels': 88, 'kernel_size': 6, 'num_blocks': 4, 'l2_lambda': 0.003438877523796821, 'dropout_rate': 0.16107246193408795, 'epochs': 453, 'lr': 0.006691895152870922}. Best is trial 0 with value: 0.5555555555555556.\n"
     ]
    },
    {
     "name": "stdout",
     "output_type": "stream",
     "text": [
      "Early stopping at epoch 10\n"
     ]
    },
    {
     "name": "stderr",
     "output_type": "stream",
     "text": [
      "[I 2024-09-12 10:18:27,042] Trial 15 finished with value: 0.5396825396825397 and parameters: {'out_channels': 37, 'kernel_size': 6, 'num_blocks': 1, 'l2_lambda': 2.7516838486383406e-05, 'dropout_rate': 0.26319148640485224, 'epochs': 236, 'lr': 0.008268095918274166}. Best is trial 0 with value: 0.5555555555555556.\n"
     ]
    },
    {
     "name": "stdout",
     "output_type": "stream",
     "text": [
      "Early stopping at epoch 14\n"
     ]
    },
    {
     "name": "stderr",
     "output_type": "stream",
     "text": [
      "[I 2024-09-12 10:18:28,006] Trial 16 finished with value: 0.5317460317460317 and parameters: {'out_channels': 16, 'kernel_size': 5, 'num_blocks': 2, 'l2_lambda': 0.008345106872160123, 'dropout_rate': 0.34521851451305524, 'epochs': 660, 'lr': 0.005858405517965134}. Best is trial 0 with value: 0.5555555555555556.\n"
     ]
    },
    {
     "name": "stdout",
     "output_type": "stream",
     "text": [
      "Early stopping at epoch 21\n"
     ]
    },
    {
     "name": "stderr",
     "output_type": "stream",
     "text": [
      "[I 2024-09-12 10:18:30,307] Trial 17 finished with value: 0.5317460317460317 and parameters: {'out_channels': 49, 'kernel_size': 4, 'num_blocks': 4, 'l2_lambda': 0.009987805720658629, 'dropout_rate': 0.47118023369358336, 'epochs': 484, 'lr': 0.008564146930880773}. Best is trial 0 with value: 0.5555555555555556.\n"
     ]
    },
    {
     "name": "stdout",
     "output_type": "stream",
     "text": [
      "Early stopping at epoch 22\n"
     ]
    },
    {
     "name": "stderr",
     "output_type": "stream",
     "text": [
      "[I 2024-09-12 10:18:30,776] Trial 18 finished with value: 0.5158730158730159 and parameters: {'out_channels': 58, 'kernel_size': 7, 'num_blocks': 1, 'l2_lambda': 7.007545511930461e-05, 'dropout_rate': 0.34999883106343266, 'epochs': 842, 'lr': 0.005738149607472111}. Best is trial 0 with value: 0.5555555555555556.\n"
     ]
    },
    {
     "name": "stdout",
     "output_type": "stream",
     "text": [
      "Early stopping at epoch 11\n"
     ]
    },
    {
     "name": "stderr",
     "output_type": "stream",
     "text": [
      "[I 2024-09-12 10:18:33,460] Trial 19 finished with value: 0.5317460317460317 and parameters: {'out_channels': 31, 'kernel_size': 6, 'num_blocks': 3, 'l2_lambda': 0.005381450935743142, 'dropout_rate': 0.1668797951848821, 'epochs': 763, 'lr': 0.0036680110368687464}. Best is trial 0 with value: 0.5555555555555556.\n"
     ]
    },
    {
     "name": "stdout",
     "output_type": "stream",
     "text": [
      "Early stopping at epoch 36\n"
     ]
    },
    {
     "name": "stderr",
     "output_type": "stream",
     "text": [
      "[I 2024-09-12 10:18:34,233] Trial 20 finished with value: 0.5158730158730159 and parameters: {'out_channels': 83, 'kernel_size': 4, 'num_blocks': 2, 'l2_lambda': 0.007683259814945638, 'dropout_rate': 0.25918123172710245, 'epochs': 501, 'lr': 0.008887322035941928}. Best is trial 0 with value: 0.5555555555555556.\n"
     ]
    },
    {
     "name": "stdout",
     "output_type": "stream",
     "text": [
      "Early stopping at epoch 10\n"
     ]
    },
    {
     "name": "stderr",
     "output_type": "stream",
     "text": [
      "[I 2024-09-12 10:18:34,955] Trial 21 finished with value: 0.5476190476190477 and parameters: {'out_channels': 70, 'kernel_size': 3, 'num_blocks': 1, 'l2_lambda': 0.003376825308009435, 'dropout_rate': 0.33785816482967745, 'epochs': 884, 'lr': 0.0030420661010415575}. Best is trial 0 with value: 0.5555555555555556.\n"
     ]
    },
    {
     "name": "stdout",
     "output_type": "stream",
     "text": [
      "Early stopping at epoch 20\n"
     ]
    },
    {
     "name": "stderr",
     "output_type": "stream",
     "text": [
      "[I 2024-09-12 10:18:35,369] Trial 22 finished with value: 0.5317460317460317 and parameters: {'out_channels': 68, 'kernel_size': 3, 'num_blocks': 1, 'l2_lambda': 0.0036184625313526887, 'dropout_rate': 0.4385512760512682, 'epochs': 922, 'lr': 0.0034387563936704012}. Best is trial 0 with value: 0.5555555555555556.\n"
     ]
    },
    {
     "name": "stdout",
     "output_type": "stream",
     "text": [
      "Early stopping at epoch 10\n"
     ]
    },
    {
     "name": "stderr",
     "output_type": "stream",
     "text": [
      "[I 2024-09-12 10:18:35,781] Trial 23 finished with value: 0.5158730158730159 and parameters: {'out_channels': 58, 'kernel_size': 4, 'num_blocks': 1, 'l2_lambda': 0.0030415774934843785, 'dropout_rate': 0.31566427897181315, 'epochs': 604, 'lr': 0.0070988758587483625}. Best is trial 0 with value: 0.5555555555555556.\n"
     ]
    },
    {
     "name": "stdout",
     "output_type": "stream",
     "text": [
      "Early stopping at epoch 10\n"
     ]
    },
    {
     "name": "stderr",
     "output_type": "stream",
     "text": [
      "[I 2024-09-12 10:18:36,380] Trial 24 finished with value: 0.5158730158730159 and parameters: {'out_channels': 35, 'kernel_size': 5, 'num_blocks': 2, 'l2_lambda': 0.0009136421414473388, 'dropout_rate': 0.37745586178743146, 'epochs': 778, 'lr': 0.0057664327447904595}. Best is trial 0 with value: 0.5555555555555556.\n"
     ]
    },
    {
     "name": "stdout",
     "output_type": "stream",
     "text": [
      "Early stopping at epoch 10\n"
     ]
    },
    {
     "name": "stderr",
     "output_type": "stream",
     "text": [
      "[I 2024-09-12 10:18:37,017] Trial 25 finished with value: 0.5158730158730159 and parameters: {'out_channels': 77, 'kernel_size': 7, 'num_blocks': 1, 'l2_lambda': 0.005454139935088677, 'dropout_rate': 0.26684247525824056, 'epochs': 907, 'lr': 0.0038877850038095095}. Best is trial 0 with value: 0.5555555555555556.\n"
     ]
    },
    {
     "name": "stdout",
     "output_type": "stream",
     "text": [
      "Early stopping at epoch 15\n"
     ]
    },
    {
     "name": "stderr",
     "output_type": "stream",
     "text": [
      "[I 2024-09-12 10:18:38,041] Trial 26 finished with value: 0.5476190476190477 and parameters: {'out_channels': 95, 'kernel_size': 5, 'num_blocks': 2, 'l2_lambda': 0.0041558025108069906, 'dropout_rate': 0.32553491615640806, 'epochs': 652, 'lr': 0.002889252535669505}. Best is trial 0 with value: 0.5555555555555556.\n"
     ]
    },
    {
     "name": "stdout",
     "output_type": "stream",
     "text": [
      "Early stopping at epoch 16\n"
     ]
    },
    {
     "name": "stderr",
     "output_type": "stream",
     "text": [
      "[I 2024-09-12 10:18:38,806] Trial 27 finished with value: 0.5238095238095238 and parameters: {'out_channels': 52, 'kernel_size': 6, 'num_blocks': 1, 'l2_lambda': 0.002216330850433791, 'dropout_rate': 0.4179174498129578, 'epochs': 772, 'lr': 0.009036224782079098}. Best is trial 0 with value: 0.5555555555555556.\n"
     ]
    },
    {
     "name": "stdout",
     "output_type": "stream",
     "text": [
      "Early stopping at epoch 21\n"
     ]
    },
    {
     "name": "stderr",
     "output_type": "stream",
     "text": [
      "[I 2024-09-12 10:18:39,339] Trial 28 finished with value: 0.5158730158730159 and parameters: {'out_channels': 16, 'kernel_size': 7, 'num_blocks': 1, 'l2_lambda': 0.009002503844190261, 'dropout_rate': 0.35972589985110576, 'epochs': 807, 'lr': 0.007845480836718002}. Best is trial 0 with value: 0.5555555555555556.\n"
     ]
    },
    {
     "name": "stdout",
     "output_type": "stream",
     "text": [
      "Early stopping at epoch 15\n"
     ]
    },
    {
     "name": "stderr",
     "output_type": "stream",
     "text": [
      "[I 2024-09-12 10:18:39,900] Trial 29 finished with value: 0.5317460317460317 and parameters: {'out_channels': 40, 'kernel_size': 7, 'num_blocks': 2, 'l2_lambda': 0.0007017187704634097, 'dropout_rate': 0.28685110389815444, 'epochs': 968, 'lr': 0.00500830539401303}. Best is trial 0 with value: 0.5555555555555556.\n"
     ]
    },
    {
     "name": "stdout",
     "output_type": "stream",
     "text": [
      "Early stopping at epoch 10\n"
     ]
    },
    {
     "name": "stderr",
     "output_type": "stream",
     "text": [
      "[I 2024-09-12 10:18:40,915] Trial 30 finished with value: 0.5238095238095238 and parameters: {'out_channels': 64, 'kernel_size': 3, 'num_blocks': 2, 'l2_lambda': 0.0050049039948295015, 'dropout_rate': 0.23321862033980476, 'epochs': 910, 'lr': 0.005044380963960244}. Best is trial 0 with value: 0.5555555555555556.\n"
     ]
    },
    {
     "name": "stdout",
     "output_type": "stream",
     "text": [
      "Early stopping at epoch 18\n"
     ]
    },
    {
     "name": "stderr",
     "output_type": "stream",
     "text": [
      "[I 2024-09-12 10:18:42,565] Trial 31 finished with value: 0.5396825396825397 and parameters: {'out_channels': 96, 'kernel_size': 4, 'num_blocks': 4, 'l2_lambda': 0.0039939017590280715, 'dropout_rate': 0.3221585240119812, 'epochs': 672, 'lr': 0.0028958886304271078}. Best is trial 0 with value: 0.5555555555555556.\n"
     ]
    },
    {
     "name": "stdout",
     "output_type": "stream",
     "text": [
      "Early stopping at epoch 14\n"
     ]
    },
    {
     "name": "stderr",
     "output_type": "stream",
     "text": [
      "[I 2024-09-12 10:18:43,785] Trial 32 finished with value: 0.5238095238095238 and parameters: {'out_channels': 93, 'kernel_size': 5, 'num_blocks': 2, 'l2_lambda': 0.0030358266823620494, 'dropout_rate': 0.3276839744246708, 'epochs': 542, 'lr': 0.0027504386378379196}. Best is trial 0 with value: 0.5555555555555556.\n"
     ]
    },
    {
     "name": "stdout",
     "output_type": "stream",
     "text": [
      "Early stopping at epoch 20\n"
     ]
    },
    {
     "name": "stderr",
     "output_type": "stream",
     "text": [
      "[I 2024-09-12 10:18:44,463] Trial 33 finished with value: 0.5238095238095238 and parameters: {'out_channels': 74, 'kernel_size': 3, 'num_blocks': 1, 'l2_lambda': 0.004841951104496768, 'dropout_rate': 0.2858107637918377, 'epochs': 632, 'lr': 0.0009693156438180862}. Best is trial 0 with value: 0.5555555555555556.\n"
     ]
    },
    {
     "name": "stdout",
     "output_type": "stream",
     "text": [
      "Early stopping at epoch 18\n"
     ]
    },
    {
     "name": "stderr",
     "output_type": "stream",
     "text": [
      "[I 2024-09-12 10:18:45,925] Trial 34 finished with value: 0.5317460317460317 and parameters: {'out_channels': 101, 'kernel_size': 5, 'num_blocks': 3, 'l2_lambda': 0.0020989711695429177, 'dropout_rate': 0.36073431758078556, 'epochs': 842, 'lr': 0.0012852641006668487}. Best is trial 0 with value: 0.5555555555555556.\n"
     ]
    },
    {
     "name": "stdout",
     "output_type": "stream",
     "text": [
      "Early stopping at epoch 17\n"
     ]
    },
    {
     "name": "stderr",
     "output_type": "stream",
     "text": [
      "[I 2024-09-12 10:18:47,535] Trial 35 finished with value: 0.5238095238095238 and parameters: {'out_channels': 107, 'kernel_size': 6, 'num_blocks': 3, 'l2_lambda': 0.005812372573143447, 'dropout_rate': 0.3310652104907021, 'epochs': 715, 'lr': 0.004155258129318222}. Best is trial 0 with value: 0.5555555555555556.\n"
     ]
    },
    {
     "name": "stdout",
     "output_type": "stream",
     "text": [
      "Early stopping at epoch 16\n"
     ]
    },
    {
     "name": "stderr",
     "output_type": "stream",
     "text": [
      "[I 2024-09-12 10:18:48,138] Trial 36 finished with value: 0.5396825396825397 and parameters: {'out_channels': 128, 'kernel_size': 6, 'num_blocks': 1, 'l2_lambda': 0.007048059334940456, 'dropout_rate': 0.3965531312174359, 'epochs': 989, 'lr': 0.0026904035811788577}. Best is trial 0 with value: 0.5555555555555556.\n"
     ]
    },
    {
     "name": "stdout",
     "output_type": "stream",
     "text": [
      "Early stopping at epoch 14\n"
     ]
    },
    {
     "name": "stderr",
     "output_type": "stream",
     "text": [
      "[I 2024-09-12 10:18:48,793] Trial 37 finished with value: 0.48412698412698413 and parameters: {'out_channels': 78, 'kernel_size': 3, 'num_blocks': 2, 'l2_lambda': 0.0025621351871384646, 'dropout_rate': 0.305119271365302, 'epochs': 870, 'lr': 7.803956995119455e-05}. Best is trial 0 with value: 0.5555555555555556.\n"
     ]
    },
    {
     "name": "stdout",
     "output_type": "stream",
     "text": [
      "Early stopping at epoch 10\n"
     ]
    },
    {
     "name": "stderr",
     "output_type": "stream",
     "text": [
      "[I 2024-09-12 10:18:49,442] Trial 38 finished with value: 0.5555555555555556 and parameters: {'out_channels': 115, 'kernel_size': 7, 'num_blocks': 1, 'l2_lambda': 0.0038867118395451016, 'dropout_rate': 0.2054536880092641, 'epochs': 422, 'lr': 0.003287893350608228}. Best is trial 0 with value: 0.5555555555555556.\n"
     ]
    },
    {
     "name": "stdout",
     "output_type": "stream",
     "text": [
      "Early stopping at epoch 15\n"
     ]
    },
    {
     "name": "stderr",
     "output_type": "stream",
     "text": [
      "[I 2024-09-12 10:18:50,044] Trial 39 finished with value: 0.5238095238095238 and parameters: {'out_channels': 116, 'kernel_size': 7, 'num_blocks': 1, 'l2_lambda': 0.001974051612471053, 'dropout_rate': 0.18770363944762858, 'epochs': 409, 'lr': 0.004645883537548435}. Best is trial 0 with value: 0.5555555555555556.\n"
     ]
    },
    {
     "name": "stdout",
     "output_type": "stream",
     "text": [
      "Early stopping at epoch 15\n"
     ]
    },
    {
     "name": "stderr",
     "output_type": "stream",
     "text": [
      "[I 2024-09-12 10:18:50,853] Trial 40 finished with value: 0.5317460317460317 and parameters: {'out_channels': 127, 'kernel_size': 7, 'num_blocks': 1, 'l2_lambda': 0.0012456273842877392, 'dropout_rate': 0.20698157545064053, 'epochs': 285, 'lr': 0.007182440965679134}. Best is trial 0 with value: 0.5555555555555556.\n"
     ]
    },
    {
     "name": "stdout",
     "output_type": "stream",
     "text": [
      "Early stopping at epoch 20\n"
     ]
    },
    {
     "name": "stderr",
     "output_type": "stream",
     "text": [
      "[I 2024-09-12 10:18:51,542] Trial 41 finished with value: 0.5158730158730159 and parameters: {'out_channels': 104, 'kernel_size': 7, 'num_blocks': 1, 'l2_lambda': 0.0037794614020364606, 'dropout_rate': 0.24652229737093617, 'epochs': 566, 'lr': 0.0032311705149216594}. Best is trial 0 with value: 0.5555555555555556.\n"
     ]
    },
    {
     "name": "stdout",
     "output_type": "stream",
     "text": [
      "Early stopping at epoch 17\n"
     ]
    },
    {
     "name": "stderr",
     "output_type": "stream",
     "text": [
      "[I 2024-09-12 10:18:53,054] Trial 42 finished with value: 0.5476190476190477 and parameters: {'out_channels': 116, 'kernel_size': 7, 'num_blocks': 2, 'l2_lambda': 0.004224865430809863, 'dropout_rate': 0.12944360404366304, 'epochs': 459, 'lr': 0.002024262880291443}. Best is trial 0 with value: 0.5555555555555556.\n"
     ]
    },
    {
     "name": "stdout",
     "output_type": "stream",
     "text": [
      "Early stopping at epoch 24\n"
     ]
    },
    {
     "name": "stderr",
     "output_type": "stream",
     "text": [
      "[I 2024-09-12 10:18:54,138] Trial 43 finished with value: 0.5476190476190477 and parameters: {'out_channels': 123, 'kernel_size': 6, 'num_blocks': 2, 'l2_lambda': 0.0030505918969156542, 'dropout_rate': 0.28114052148527374, 'epochs': 343, 'lr': 0.0017753815761583824}. Best is trial 0 with value: 0.5555555555555556.\n"
     ]
    },
    {
     "name": "stdout",
     "output_type": "stream",
     "text": [
      "Early stopping at epoch 15\n"
     ]
    },
    {
     "name": "stderr",
     "output_type": "stream",
     "text": [
      "[I 2024-09-12 10:18:54,661] Trial 44 finished with value: 0.5634920634920635 and parameters: {'out_channels': 97, 'kernel_size': 7, 'num_blocks': 1, 'l2_lambda': 0.004616556732149019, 'dropout_rate': 0.3731706548259465, 'epochs': 521, 'lr': 0.009979271670139171}. Best is trial 44 with value: 0.5634920634920635.\n"
     ]
    },
    {
     "name": "stdout",
     "output_type": "stream",
     "text": [
      "Early stopping at epoch 12\n"
     ]
    },
    {
     "name": "stderr",
     "output_type": "stream",
     "text": [
      "[I 2024-09-12 10:18:55,326] Trial 45 finished with value: 0.5238095238095238 and parameters: {'out_channels': 47, 'kernel_size': 7, 'num_blocks': 1, 'l2_lambda': 0.006506272950433711, 'dropout_rate': 0.36931618257617194, 'epochs': 415, 'lr': 0.009949281117339453}. Best is trial 44 with value: 0.5634920634920635.\n"
     ]
    },
    {
     "name": "stdout",
     "output_type": "stream",
     "text": [
      "Early stopping at epoch 20\n"
     ]
    },
    {
     "name": "stderr",
     "output_type": "stream",
     "text": [
      "[I 2024-09-12 10:18:55,865] Trial 46 finished with value: 0.5317460317460317 and parameters: {'out_channels': 112, 'kernel_size': 7, 'num_blocks': 1, 'l2_lambda': 0.004852902665050656, 'dropout_rate': 0.41593620411510557, 'epochs': 544, 'lr': 0.008827582540432775}. Best is trial 44 with value: 0.5634920634920635.\n"
     ]
    },
    {
     "name": "stdout",
     "output_type": "stream",
     "text": [
      "Early stopping at epoch 12\n"
     ]
    },
    {
     "name": "stderr",
     "output_type": "stream",
     "text": [
      "[I 2024-09-12 10:18:56,580] Trial 47 finished with value: 0.5555555555555556 and parameters: {'out_channels': 26, 'kernel_size': 7, 'num_blocks': 1, 'l2_lambda': 0.004509930930371097, 'dropout_rate': 0.39855224051110477, 'epochs': 277, 'lr': 0.0093476913940876}. Best is trial 44 with value: 0.5634920634920635.\n"
     ]
    },
    {
     "name": "stdout",
     "output_type": "stream",
     "text": [
      "Early stopping at epoch 21\n"
     ]
    },
    {
     "name": "stderr",
     "output_type": "stream",
     "text": [
      "[I 2024-09-12 10:18:56,994] Trial 48 finished with value: 0.5158730158730159 and parameters: {'out_channels': 24, 'kernel_size': 7, 'num_blocks': 1, 'l2_lambda': 0.007260395723757215, 'dropout_rate': 0.4478487080146777, 'epochs': 197, 'lr': 0.00941352658537671}. Best is trial 44 with value: 0.5634920634920635.\n"
     ]
    },
    {
     "name": "stdout",
     "output_type": "stream",
     "text": [
      "Early stopping at epoch 10\n"
     ]
    },
    {
     "name": "stderr",
     "output_type": "stream",
     "text": [
      "[I 2024-09-12 10:18:57,537] Trial 49 finished with value: 0.5317460317460317 and parameters: {'out_channels': 32, 'kernel_size': 7, 'num_blocks': 1, 'l2_lambda': 0.005478941437404914, 'dropout_rate': 0.4000279880117894, 'epochs': 156, 'lr': 0.008213416318113684}. Best is trial 44 with value: 0.5634920634920635.\n"
     ]
    },
    {
     "name": "stdout",
     "output_type": "stream",
     "text": [
      "Early stopping at epoch 15\n"
     ]
    },
    {
     "name": "stderr",
     "output_type": "stream",
     "text": [
      "[I 2024-09-12 10:18:58,012] Trial 50 finished with value: 0.5396825396825397 and parameters: {'out_channels': 22, 'kernel_size': 6, 'num_blocks': 1, 'l2_lambda': 0.0061788039014706525, 'dropout_rate': 0.21322672879154433, 'epochs': 264, 'lr': 0.009235734354122971}. Best is trial 44 with value: 0.5634920634920635.\n"
     ]
    },
    {
     "name": "stdout",
     "output_type": "stream",
     "text": [
      "Early stopping at epoch 11\n"
     ]
    },
    {
     "name": "stderr",
     "output_type": "stream",
     "text": [
      "[I 2024-09-12 10:18:58,446] Trial 51 finished with value: 0.5158730158730159 and parameters: {'out_channels': 27, 'kernel_size': 7, 'num_blocks': 1, 'l2_lambda': 0.0033382830201207905, 'dropout_rate': 0.3794667305716338, 'epochs': 489, 'lr': 0.009750956095206651}. Best is trial 44 with value: 0.5634920634920635.\n"
     ]
    },
    {
     "name": "stdout",
     "output_type": "stream",
     "text": [
      "Early stopping at epoch 10\n"
     ]
    },
    {
     "name": "stderr",
     "output_type": "stream",
     "text": [
      "[I 2024-09-12 10:18:58,982] Trial 52 finished with value: 0.5238095238095238 and parameters: {'out_channels': 40, 'kernel_size': 7, 'num_blocks': 1, 'l2_lambda': 0.004342940350737426, 'dropout_rate': 0.3540367642245888, 'epochs': 349, 'lr': 0.008478943080716679}. Best is trial 44 with value: 0.5634920634920635.\n"
     ]
    },
    {
     "name": "stdout",
     "output_type": "stream",
     "text": [
      "Early stopping at epoch 14\n"
     ]
    },
    {
     "name": "stderr",
     "output_type": "stream",
     "text": [
      "[I 2024-09-12 10:18:59,491] Trial 53 finished with value: 0.5158730158730159 and parameters: {'out_channels': 85, 'kernel_size': 6, 'num_blocks': 1, 'l2_lambda': 0.0045934047857808585, 'dropout_rate': 0.18868571375816554, 'epochs': 517, 'lr': 0.007920003518163958}. Best is trial 44 with value: 0.5634920634920635.\n"
     ]
    },
    {
     "name": "stdout",
     "output_type": "stream",
     "text": [
      "Early stopping at epoch 10\n"
     ]
    },
    {
     "name": "stderr",
     "output_type": "stream",
     "text": [
      "[I 2024-09-12 10:19:00,036] Trial 54 finished with value: 0.5158730158730159 and parameters: {'out_channels': 46, 'kernel_size': 7, 'num_blocks': 1, 'l2_lambda': 0.008179586511717959, 'dropout_rate': 0.3384037815427182, 'epochs': 439, 'lr': 0.009401671669500285}. Best is trial 44 with value: 0.5634920634920635.\n"
     ]
    },
    {
     "name": "stdout",
     "output_type": "stream",
     "text": [
      "Early stopping at epoch 14\n"
     ]
    },
    {
     "name": "stderr",
     "output_type": "stream",
     "text": [
      "[I 2024-09-12 10:19:00,944] Trial 55 finished with value: 0.5396825396825397 and parameters: {'out_channels': 53, 'kernel_size': 7, 'num_blocks': 2, 'l2_lambda': 0.0026465782011672262, 'dropout_rate': 0.1679470920759479, 'epochs': 572, 'lr': 0.006117844016841269}. Best is trial 44 with value: 0.5634920634920635.\n"
     ]
    },
    {
     "name": "stdout",
     "output_type": "stream",
     "text": [
      "Early stopping at epoch 14\n"
     ]
    },
    {
     "name": "stderr",
     "output_type": "stream",
     "text": [
      "[I 2024-09-12 10:19:01,369] Trial 56 finished with value: 0.5158730158730159 and parameters: {'out_channels': 33, 'kernel_size': 6, 'num_blocks': 1, 'l2_lambda': 0.003872394510592474, 'dropout_rate': 0.3037415431830725, 'epochs': 602, 'lr': 0.007397183012411903}. Best is trial 44 with value: 0.5634920634920635.\n"
     ]
    },
    {
     "name": "stdout",
     "output_type": "stream",
     "text": [
      "Early stopping at epoch 10\n"
     ]
    },
    {
     "name": "stderr",
     "output_type": "stream",
     "text": [
      "[I 2024-09-12 10:19:03,147] Trial 57 finished with value: 0.5238095238095238 and parameters: {'out_channels': 19, 'kernel_size': 7, 'num_blocks': 5, 'l2_lambda': 0.003452236976952632, 'dropout_rate': 0.43945859775886137, 'epochs': 318, 'lr': 0.006720205936662187}. Best is trial 44 with value: 0.5634920634920635.\n"
     ]
    },
    {
     "name": "stdout",
     "output_type": "stream",
     "text": [
      "Early stopping at epoch 17\n"
     ]
    },
    {
     "name": "stderr",
     "output_type": "stream",
     "text": [
      "[I 2024-09-12 10:19:03,993] Trial 58 finished with value: 0.5476190476190477 and parameters: {'out_channels': 58, 'kernel_size': 6, 'num_blocks': 2, 'l2_lambda': 0.0015891644535701182, 'dropout_rate': 0.40503230672549057, 'epochs': 401, 'lr': 0.008739355106819429}. Best is trial 44 with value: 0.5634920634920635.\n"
     ]
    },
    {
     "name": "stdout",
     "output_type": "stream",
     "text": [
      "Early stopping at epoch 12\n"
     ]
    },
    {
     "name": "stderr",
     "output_type": "stream",
     "text": [
      "[I 2024-09-12 10:19:04,404] Trial 59 finished with value: 0.5158730158730159 and parameters: {'out_channels': 28, 'kernel_size': 7, 'num_blocks': 1, 'l2_lambda': 0.0051785509535209615, 'dropout_rate': 0.3449632675286064, 'epochs': 108, 'lr': 0.009134172020216592}. Best is trial 44 with value: 0.5634920634920635.\n"
     ]
    },
    {
     "name": "stdout",
     "output_type": "stream",
     "text": [
      "Early stopping at epoch 10\n"
     ]
    },
    {
     "name": "stderr",
     "output_type": "stream",
     "text": [
      "[I 2024-09-12 10:19:05,093] Trial 60 finished with value: 0.5158730158730159 and parameters: {'out_channels': 64, 'kernel_size': 6, 'num_blocks': 2, 'l2_lambda': 0.008998631203378946, 'dropout_rate': 0.3831745924871838, 'epochs': 521, 'lr': 0.009998889242022952}. Best is trial 44 with value: 0.5634920634920635.\n"
     ]
    },
    {
     "name": "stdout",
     "output_type": "stream",
     "text": [
      "Early stopping at epoch 10\n"
     ]
    },
    {
     "name": "stderr",
     "output_type": "stream",
     "text": [
      "[I 2024-09-12 10:19:05,769] Trial 61 finished with value: 0.5317460317460317 and parameters: {'out_channels': 96, 'kernel_size': 4, 'num_blocks': 1, 'l2_lambda': 0.004596883526558257, 'dropout_rate': 0.36911385634905863, 'epochs': 879, 'lr': 0.0022892247034637324}. Best is trial 44 with value: 0.5634920634920635.\n"
     ]
    },
    {
     "name": "stdout",
     "output_type": "stream",
     "text": [
      "Early stopping at epoch 15\n"
     ]
    },
    {
     "name": "stderr",
     "output_type": "stream",
     "text": [
      "[I 2024-09-12 10:19:06,831] Trial 62 finished with value: 0.5158730158730159 and parameters: {'out_channels': 93, 'kernel_size': 5, 'num_blocks': 3, 'l2_lambda': 0.004172352128138642, 'dropout_rate': 0.31521180931542203, 'epochs': 956, 'lr': 0.0033600922235462053}. Best is trial 44 with value: 0.5634920634920635.\n"
     ]
    },
    {
     "name": "stdout",
     "output_type": "stream",
     "text": [
      "Early stopping at epoch 11\n"
     ]
    },
    {
     "name": "stderr",
     "output_type": "stream",
     "text": [
      "[I 2024-09-12 10:19:07,880] Trial 63 finished with value: 0.5238095238095238 and parameters: {'out_channels': 71, 'kernel_size': 4, 'num_blocks': 2, 'l2_lambda': 0.005837425067698248, 'dropout_rate': 0.2711417565178866, 'epochs': 651, 'lr': 0.00393866561297806}. Best is trial 44 with value: 0.5634920634920635.\n"
     ]
    },
    {
     "name": "stdout",
     "output_type": "stream",
     "text": [
      "Early stopping at epoch 17\n"
     ]
    },
    {
     "name": "stderr",
     "output_type": "stream",
     "text": [
      "[I 2024-09-12 10:19:08,375] Trial 64 finished with value: 0.5158730158730159 and parameters: {'out_channels': 81, 'kernel_size': 5, 'num_blocks': 1, 'l2_lambda': 0.00269434947564998, 'dropout_rate': 0.2470896413194612, 'epochs': 810, 'lr': 0.002532582040716458}. Best is trial 44 with value: 0.5634920634920635.\n"
     ]
    },
    {
     "name": "stdout",
     "output_type": "stream",
     "text": [
      "Early stopping at epoch 11\n"
     ]
    },
    {
     "name": "stderr",
     "output_type": "stream",
     "text": [
      "[I 2024-09-12 10:19:09,358] Trial 65 finished with value: 0.5158730158730159 and parameters: {'out_channels': 99, 'kernel_size': 7, 'num_blocks': 3, 'l2_lambda': 0.003884284297882446, 'dropout_rate': 0.33498660113236467, 'epochs': 474, 'lr': 0.008249945981397557}. Best is trial 44 with value: 0.5634920634920635.\n"
     ]
    },
    {
     "name": "stdout",
     "output_type": "stream",
     "text": [
      "Early stopping at epoch 10\n"
     ]
    },
    {
     "name": "stderr",
     "output_type": "stream",
     "text": [
      "[I 2024-09-12 10:19:09,771] Trial 66 finished with value: 0.5238095238095238 and parameters: {'out_channels': 38, 'kernel_size': 7, 'num_blocks': 1, 'l2_lambda': 0.0005736892468401296, 'dropout_rate': 0.3131464197581258, 'epochs': 735, 'lr': 0.003009157218518648}. Best is trial 44 with value: 0.5634920634920635.\n"
     ]
    },
    {
     "name": "stdout",
     "output_type": "stream",
     "text": [
      "Early stopping at epoch 10\n"
     ]
    },
    {
     "name": "stderr",
     "output_type": "stream",
     "text": [
      "[I 2024-09-12 10:19:10,538] Trial 67 finished with value: 0.5555555555555556 and parameters: {'out_channels': 111, 'kernel_size': 6, 'num_blocks': 2, 'l2_lambda': 0.0031926807163761973, 'dropout_rate': 0.45919006139142754, 'epochs': 946, 'lr': 0.001564861490704528}. Best is trial 44 with value: 0.5634920634920635.\n"
     ]
    },
    {
     "name": "stdout",
     "output_type": "stream",
     "text": [
      "Early stopping at epoch 10\n"
     ]
    },
    {
     "name": "stderr",
     "output_type": "stream",
     "text": [
      "[I 2024-09-12 10:19:11,506] Trial 68 finished with value: 0.5555555555555556 and parameters: {'out_channels': 121, 'kernel_size': 6, 'num_blocks': 2, 'l2_lambda': 0.0032608075713283563, 'dropout_rate': 0.4622461018483026, 'epochs': 924, 'lr': 0.0006977454565401933}. Best is trial 44 with value: 0.5634920634920635.\n"
     ]
    },
    {
     "name": "stdout",
     "output_type": "stream",
     "text": [
      "Early stopping at epoch 12\n"
     ]
    },
    {
     "name": "stderr",
     "output_type": "stream",
     "text": [
      "[I 2024-09-12 10:19:12,431] Trial 69 finished with value: 0.5317460317460317 and parameters: {'out_channels': 121, 'kernel_size': 6, 'num_blocks': 2, 'l2_lambda': 0.0017903877456392906, 'dropout_rate': 0.46511705341498377, 'epochs': 978, 'lr': 0.0005951514366688638}. Best is trial 44 with value: 0.5634920634920635.\n"
     ]
    },
    {
     "name": "stdout",
     "output_type": "stream",
     "text": [
      "Early stopping at epoch 12\n"
     ]
    },
    {
     "name": "stderr",
     "output_type": "stream",
     "text": [
      "[I 2024-09-12 10:19:14,076] Trial 70 finished with value: 0.5396825396825397 and parameters: {'out_channels': 109, 'kernel_size': 6, 'num_blocks': 3, 'l2_lambda': 0.002417866108325885, 'dropout_rate': 0.4528884419041647, 'epochs': 916, 'lr': 0.0005234058420523491}. Best is trial 44 with value: 0.5634920634920635.\n"
     ]
    },
    {
     "name": "stdout",
     "output_type": "stream",
     "text": [
      "Early stopping at epoch 17\n"
     ]
    },
    {
     "name": "stderr",
     "output_type": "stream",
     "text": [
      "[I 2024-09-12 10:19:15,867] Trial 71 finished with value: 0.5555555555555556 and parameters: {'out_channels': 112, 'kernel_size': 6, 'num_blocks': 2, 'l2_lambda': 0.0032293054472739774, 'dropout_rate': 0.49633422900789564, 'epochs': 932, 'lr': 0.001617032442557224}. Best is trial 44 with value: 0.5634920634920635.\n"
     ]
    },
    {
     "name": "stdout",
     "output_type": "stream",
     "text": [
      "Early stopping at epoch 27\n"
     ]
    },
    {
     "name": "stderr",
     "output_type": "stream",
     "text": [
      "[I 2024-09-12 10:19:17,681] Trial 72 finished with value: 0.5396825396825397 and parameters: {'out_channels': 119, 'kernel_size': 6, 'num_blocks': 2, 'l2_lambda': 0.0029242423789230605, 'dropout_rate': 0.47298435928579213, 'epochs': 935, 'lr': 0.0014488459172417032}. Best is trial 44 with value: 0.5634920634920635.\n"
     ]
    },
    {
     "name": "stdout",
     "output_type": "stream",
     "text": [
      "Early stopping at epoch 26\n"
     ]
    },
    {
     "name": "stderr",
     "output_type": "stream",
     "text": [
      "[I 2024-09-12 10:19:18,427] Trial 73 finished with value: 0.5158730158730159 and parameters: {'out_channels': 112, 'kernel_size': 6, 'num_blocks': 2, 'l2_lambda': 0.0036051392277732285, 'dropout_rate': 0.491143412761392, 'epochs': 952, 'lr': 0.0008849959578661064}. Best is trial 44 with value: 0.5634920634920635.\n"
     ]
    },
    {
     "name": "stdout",
     "output_type": "stream",
     "text": [
      "Early stopping at epoch 10\n"
     ]
    },
    {
     "name": "stderr",
     "output_type": "stream",
     "text": [
      "[I 2024-09-12 10:19:20,899] Trial 74 finished with value: 0.5396825396825397 and parameters: {'out_channels': 105, 'kernel_size': 6, 'num_blocks': 4, 'l2_lambda': 0.003366781154951372, 'dropout_rate': 0.48008786057915454, 'epochs': 811, 'lr': 0.0009661407682794272}. Best is trial 44 with value: 0.5634920634920635.\n"
     ]
    },
    {
     "name": "stdout",
     "output_type": "stream",
     "text": [
      "Early stopping at epoch 20\n"
     ]
    },
    {
     "name": "stderr",
     "output_type": "stream",
     "text": [
      "[I 2024-09-12 10:19:22,064] Trial 75 finished with value: 0.5317460317460317 and parameters: {'out_channels': 124, 'kernel_size': 6, 'num_blocks': 2, 'l2_lambda': 0.004752792628026591, 'dropout_rate': 0.4960538809135763, 'epochs': 841, 'lr': 0.0017895725084356626}. Best is trial 44 with value: 0.5634920634920635.\n"
     ]
    },
    {
     "name": "stdout",
     "output_type": "stream",
     "text": [
      "Early stopping at epoch 16\n"
     ]
    },
    {
     "name": "stderr",
     "output_type": "stream",
     "text": [
      "[I 2024-09-12 10:19:23,293] Trial 76 finished with value: 0.5238095238095238 and parameters: {'out_channels': 116, 'kernel_size': 7, 'num_blocks': 2, 'l2_lambda': 0.005220846038262856, 'dropout_rate': 0.45689123871681925, 'epochs': 993, 'lr': 0.0015288125713509987}. Best is trial 44 with value: 0.5634920634920635.\n"
     ]
    },
    {
     "name": "stdout",
     "output_type": "stream",
     "text": [
      "Early stopping at epoch 19\n"
     ]
    },
    {
     "name": "stderr",
     "output_type": "stream",
     "text": [
      "[I 2024-09-12 10:19:24,064] Trial 77 finished with value: 0.5158730158730159 and parameters: {'out_channels': 113, 'kernel_size': 6, 'num_blocks': 2, 'l2_lambda': 0.003195114198211139, 'dropout_rate': 0.43360521336103974, 'epochs': 895, 'lr': 0.00036786869399272845}. Best is trial 44 with value: 0.5634920634920635.\n"
     ]
    },
    {
     "name": "stdout",
     "output_type": "stream",
     "text": [
      "Early stopping at epoch 10\n"
     ]
    },
    {
     "name": "stderr",
     "output_type": "stream",
     "text": [
      "[I 2024-09-12 10:19:25,122] Trial 78 finished with value: 0.5158730158730159 and parameters: {'out_channels': 102, 'kernel_size': 7, 'num_blocks': 3, 'l2_lambda': 0.0036458026362266895, 'dropout_rate': 0.42939303972360054, 'epochs': 935, 'lr': 0.005342624171193026}. Best is trial 44 with value: 0.5634920634920635.\n"
     ]
    },
    {
     "name": "stdout",
     "output_type": "stream",
     "text": [
      "Early stopping at epoch 11\n"
     ]
    },
    {
     "name": "stderr",
     "output_type": "stream",
     "text": [
      "[I 2024-09-12 10:19:25,823] Trial 79 finished with value: 0.5158730158730159 and parameters: {'out_channels': 109, 'kernel_size': 5, 'num_blocks': 2, 'l2_lambda': 0.004360314414803665, 'dropout_rate': 0.48497687165056325, 'epochs': 862, 'lr': 0.00973231254700388}. Best is trial 44 with value: 0.5634920634920635.\n"
     ]
    },
    {
     "name": "stdout",
     "output_type": "stream",
     "text": [
      "Early stopping at epoch 10\n"
     ]
    },
    {
     "name": "stderr",
     "output_type": "stream",
     "text": [
      "[I 2024-09-12 10:19:26,397] Trial 80 finished with value: 0.5158730158730159 and parameters: {'out_channels': 124, 'kernel_size': 6, 'num_blocks': 1, 'l2_lambda': 0.002872331776451701, 'dropout_rate': 0.49993385462084783, 'epochs': 438, 'lr': 0.009425245349924782}. Best is trial 44 with value: 0.5634920634920635.\n"
     ]
    },
    {
     "name": "stdout",
     "output_type": "stream",
     "text": [
      "Early stopping at epoch 13\n"
     ]
    },
    {
     "name": "stderr",
     "output_type": "stream",
     "text": [
      "[I 2024-09-12 10:19:27,154] Trial 81 finished with value: 0.5238095238095238 and parameters: {'out_channels': 88, 'kernel_size': 7, 'num_blocks': 1, 'l2_lambda': 0.004118132615864058, 'dropout_rate': 0.4709753786888859, 'epochs': 891, 'lr': 0.004323340954020174}. Best is trial 44 with value: 0.5634920634920635.\n"
     ]
    },
    {
     "name": "stdout",
     "output_type": "stream",
     "text": [
      "Early stopping at epoch 20\n"
     ]
    },
    {
     "name": "stderr",
     "output_type": "stream",
     "text": [
      "[I 2024-09-12 10:19:27,978] Trial 82 finished with value: 0.5238095238095238 and parameters: {'out_channels': 120, 'kernel_size': 6, 'num_blocks': 1, 'l2_lambda': 0.0012719910990350324, 'dropout_rate': 0.41434228557539005, 'epochs': 1000, 'lr': 0.0012348534697722926}. Best is trial 44 with value: 0.5634920634920635.\n"
     ]
    },
    {
     "name": "stdout",
     "output_type": "stream",
     "text": [
      "Early stopping at epoch 20\n"
     ]
    },
    {
     "name": "stderr",
     "output_type": "stream",
     "text": [
      "[I 2024-09-12 10:19:28,565] Trial 83 finished with value: 0.5476190476190477 and parameters: {'out_channels': 116, 'kernel_size': 5, 'num_blocks': 1, 'l2_lambda': 0.003156595010210145, 'dropout_rate': 0.36968548140566615, 'epochs': 585, 'lr': 0.0024544806772779145}. Best is trial 44 with value: 0.5634920634920635.\n"
     ]
    },
    {
     "name": "stdout",
     "output_type": "stream",
     "text": [
      "Early stopping at epoch 14\n"
     ]
    },
    {
     "name": "stderr",
     "output_type": "stream",
     "text": [
      "[I 2024-09-12 10:19:29,204] Trial 84 finished with value: 0.48412698412698413 and parameters: {'out_channels': 44, 'kernel_size': 7, 'num_blocks': 2, 'l2_lambda': 0.003631943975773189, 'dropout_rate': 0.3936043937491665, 'epochs': 212, 'lr': 0.002136614669440736}. Best is trial 44 with value: 0.5634920634920635.\n"
     ]
    },
    {
     "name": "stdout",
     "output_type": "stream",
     "text": [
      "Early stopping at epoch 11\n"
     ]
    },
    {
     "name": "stderr",
     "output_type": "stream",
     "text": [
      "[I 2024-09-12 10:19:29,699] Trial 85 finished with value: 0.5158730158730159 and parameters: {'out_channels': 67, 'kernel_size': 3, 'num_blocks': 1, 'l2_lambda': 0.0044698304822750595, 'dropout_rate': 0.4618115637621247, 'epochs': 957, 'lr': 0.004725834604154603}. Best is trial 44 with value: 0.5634920634920635.\n"
     ]
    },
    {
     "name": "stdout",
     "output_type": "stream",
     "text": [
      "Early stopping at epoch 12\n"
     ]
    },
    {
     "name": "stderr",
     "output_type": "stream",
     "text": [
      "[I 2024-09-12 10:19:30,412] Trial 86 finished with value: 0.5317460317460317 and parameters: {'out_channels': 55, 'kernel_size': 7, 'num_blocks': 1, 'l2_lambda': 0.002350173161253367, 'dropout_rate': 0.4440950842306366, 'epochs': 374, 'lr': 0.001727348544555082}. Best is trial 44 with value: 0.5634920634920635.\n"
     ]
    },
    {
     "name": "stdout",
     "output_type": "stream",
     "text": [
      "Early stopping at epoch 20\n"
     ]
    },
    {
     "name": "stderr",
     "output_type": "stream",
     "text": [
      "[I 2024-09-12 10:19:31,156] Trial 87 finished with value: 0.5158730158730159 and parameters: {'out_channels': 114, 'kernel_size': 7, 'num_blocks': 2, 'l2_lambda': 0.0056275899062108, 'dropout_rate': 0.42859663802768644, 'epochs': 938, 'lr': 0.0036215199941443442}. Best is trial 44 with value: 0.5634920634920635.\n"
     ]
    },
    {
     "name": "stdout",
     "output_type": "stream",
     "text": [
      "Early stopping at epoch 10\n"
     ]
    },
    {
     "name": "stderr",
     "output_type": "stream",
     "text": [
      "[I 2024-09-12 10:19:31,576] Trial 88 finished with value: 0.48412698412698413 and parameters: {'out_channels': 19, 'kernel_size': 6, 'num_blocks': 1, 'l2_lambda': 0.003983016744669022, 'dropout_rate': 0.23274895207953036, 'epochs': 858, 'lr': 0.0006863547727275904}. Best is trial 44 with value: 0.5634920634920635.\n"
     ]
    },
    {
     "name": "stdout",
     "output_type": "stream",
     "text": [
      "Early stopping at epoch 10\n"
     ]
    },
    {
     "name": "stderr",
     "output_type": "stream",
     "text": [
      "[I 2024-09-12 10:19:32,147] Trial 89 finished with value: 0.5158730158730159 and parameters: {'out_channels': 30, 'kernel_size': 7, 'num_blocks': 2, 'l2_lambda': 0.0049701736149543405, 'dropout_rate': 0.29369022292213665, 'epochs': 901, 'lr': 0.00017232910809016977}. Best is trial 44 with value: 0.5634920634920635.\n"
     ]
    },
    {
     "name": "stdout",
     "output_type": "stream",
     "text": [
      "Early stopping at epoch 10\n"
     ]
    },
    {
     "name": "stderr",
     "output_type": "stream",
     "text": [
      "[I 2024-09-12 10:19:32,631] Trial 90 finished with value: 0.5317460317460317 and parameters: {'out_channels': 105, 'kernel_size': 4, 'num_blocks': 1, 'l2_lambda': 0.002818425342956123, 'dropout_rate': 0.3573878502112111, 'epochs': 694, 'lr': 0.0064186814269253266}. Best is trial 44 with value: 0.5634920634920635.\n"
     ]
    },
    {
     "name": "stdout",
     "output_type": "stream",
     "text": [
      "Early stopping at epoch 10\n"
     ]
    },
    {
     "name": "stderr",
     "output_type": "stream",
     "text": [
      "[I 2024-09-12 10:19:33,289] Trial 91 finished with value: 0.5158730158730159 and parameters: {'out_channels': 75, 'kernel_size': 5, 'num_blocks': 2, 'l2_lambda': 0.0032873225880996277, 'dropout_rate': 0.3235978495508454, 'epochs': 836, 'lr': 0.008574907365430264}. Best is trial 44 with value: 0.5634920634920635.\n"
     ]
    },
    {
     "name": "stdout",
     "output_type": "stream",
     "text": [
      "Early stopping at epoch 10\n"
     ]
    },
    {
     "name": "stderr",
     "output_type": "stream",
     "text": [
      "[I 2024-09-12 10:19:34,388] Trial 92 finished with value: 0.5238095238095238 and parameters: {'out_channels': 90, 'kernel_size': 5, 'num_blocks': 2, 'l2_lambda': 0.00464390651621342, 'dropout_rate': 0.34158614834297263, 'epochs': 519, 'lr': 0.003084292398095488}. Best is trial 44 with value: 0.5634920634920635.\n"
     ]
    },
    {
     "name": "stdout",
     "output_type": "stream",
     "text": [
      "Early stopping at epoch 17\n"
     ]
    },
    {
     "name": "stderr",
     "output_type": "stream",
     "text": [
      "[I 2024-09-12 10:19:35,197] Trial 93 finished with value: 0.5555555555555556 and parameters: {'out_channels': 25, 'kernel_size': 6, 'num_blocks': 2, 'l2_lambda': 0.004100973524495224, 'dropout_rate': 0.4806141216357137, 'epochs': 973, 'lr': 0.002730856268974807}. Best is trial 44 with value: 0.5634920634920635.\n"
     ]
    },
    {
     "name": "stdout",
     "output_type": "stream",
     "text": [
      "Early stopping at epoch 14\n"
     ]
    },
    {
     "name": "stderr",
     "output_type": "stream",
     "text": [
      "[I 2024-09-12 10:19:36,483] Trial 94 finished with value: 0.5634920634920635 and parameters: {'out_channels': 36, 'kernel_size': 6, 'num_blocks': 2, 'l2_lambda': 0.003471887843978684, 'dropout_rate': 0.4800263166824327, 'epochs': 976, 'lr': 0.0019920166328521124}. Best is trial 44 with value: 0.5634920634920635.\n"
     ]
    },
    {
     "name": "stdout",
     "output_type": "stream",
     "text": [
      "Early stopping at epoch 21\n"
     ]
    },
    {
     "name": "stderr",
     "output_type": "stream",
     "text": [
      "[I 2024-09-12 10:19:37,114] Trial 95 finished with value: 0.5158730158730159 and parameters: {'out_channels': 23, 'kernel_size': 6, 'num_blocks': 2, 'l2_lambda': 0.0037059739129880072, 'dropout_rate': 0.4787821550975284, 'epochs': 977, 'lr': 0.0020407714460593026}. Best is trial 44 with value: 0.5634920634920635.\n"
     ]
    },
    {
     "name": "stdout",
     "output_type": "stream",
     "text": [
      "Early stopping at epoch 10\n"
     ]
    },
    {
     "name": "stderr",
     "output_type": "stream",
     "text": [
      "[I 2024-09-12 10:19:37,761] Trial 96 finished with value: 0.48412698412698413 and parameters: {'out_channels': 27, 'kernel_size': 6, 'num_blocks': 2, 'l2_lambda': 0.003987672285634573, 'dropout_rate': 0.46784783296743415, 'epochs': 929, 'lr': 0.001565432123775613}. Best is trial 44 with value: 0.5634920634920635.\n"
     ]
    },
    {
     "name": "stdout",
     "output_type": "stream",
     "text": [
      "Early stopping at epoch 10\n"
     ]
    },
    {
     "name": "stderr",
     "output_type": "stream",
     "text": [
      "[I 2024-09-12 10:19:38,792] Trial 97 finished with value: 0.5476190476190477 and parameters: {'out_channels': 19, 'kernel_size': 6, 'num_blocks': 2, 'l2_lambda': 0.004336841087534817, 'dropout_rate': 0.4565959530583724, 'epochs': 962, 'lr': 0.009575653743400556}. Best is trial 44 with value: 0.5634920634920635.\n"
     ]
    },
    {
     "name": "stdout",
     "output_type": "stream",
     "text": [
      "Early stopping at epoch 18\n"
     ]
    },
    {
     "name": "stderr",
     "output_type": "stream",
     "text": [
      "[I 2024-09-12 10:19:39,477] Trial 98 finished with value: 0.5158730158730159 and parameters: {'out_channels': 34, 'kernel_size': 6, 'num_blocks': 2, 'l2_lambda': 0.005122956563630614, 'dropout_rate': 0.48441916282092046, 'epochs': 975, 'lr': 0.0023614412879571028}. Best is trial 44 with value: 0.5634920634920635.\n"
     ]
    },
    {
     "name": "stdout",
     "output_type": "stream",
     "text": [
      "Early stopping at epoch 10\n"
     ]
    },
    {
     "name": "stderr",
     "output_type": "stream",
     "text": [
      "[I 2024-09-12 10:19:41,242] Trial 99 finished with value: 0.5158730158730159 and parameters: {'out_channels': 26, 'kernel_size': 6, 'num_blocks': 3, 'l2_lambda': 0.009618919763792241, 'dropout_rate': 0.22363584371835604, 'epochs': 271, 'lr': 0.0011164262159456832}. Best is trial 44 with value: 0.5634920634920635.\n",
      "[I 2024-09-12 10:19:41,281] A new study created in memory with name: no-name-13455a48-4952-48f4-b0d5-3a9db5be15ff\n"
     ]
    },
    {
     "name": "stdout",
     "output_type": "stream",
     "text": [
      "Early stopping at epoch 20\n",
      "parameters for USDSGD=X saved to ../models/best-hyperparameters/pytorch/conv1d-classification/USDSGD=X.json\n",
      "Best model for USDSGD=X saved with accuracy: 0.5634920634920635\n",
      "Deleted USDSGD=X from ../models/hyperparameters-search-models/ticker-all-models-best-hyperparameters-list.csv\n"
     ]
    },
    {
     "name": "stderr",
     "output_type": "stream",
     "text": [
      "[I 2024-09-12 10:19:42,440] Trial 0 finished with value: 0.08833673596382141 and parameters: {'out_channels': 125, 'kernel_size': 4, 'num_blocks': 1, 'l2_lambda': 0.0020500376779856427, 'dropout_rate': 0.33200982383244915, 'epochs': 41, 'lr': 0.0004625388796490245}. Best is trial 0 with value: 0.08833673596382141.\n"
     ]
    },
    {
     "name": "stdout",
     "output_type": "stream",
     "text": [
      "Early stopping at epoch 30\n"
     ]
    },
    {
     "name": "stderr",
     "output_type": "stream",
     "text": [
      "[I 2024-09-12 10:19:43,612] Trial 1 finished with value: 0.16993893682956696 and parameters: {'out_channels': 22, 'kernel_size': 7, 'num_blocks': 4, 'l2_lambda': 0.007702115283569382, 'dropout_rate': 0.23540654106295644, 'epochs': 66, 'lr': 0.003502357804845364}. Best is trial 0 with value: 0.08833673596382141.\n"
     ]
    },
    {
     "name": "stdout",
     "output_type": "stream",
     "text": [
      "Early stopping at epoch 15\n"
     ]
    },
    {
     "name": "stderr",
     "output_type": "stream",
     "text": [
      "[I 2024-09-12 10:19:45,616] Trial 2 finished with value: 0.043558135628700256 and parameters: {'out_channels': 21, 'kernel_size': 6, 'num_blocks': 1, 'l2_lambda': 0.009922692123278875, 'dropout_rate': 0.24348246926217826, 'epochs': 68, 'lr': 0.00015339594858849735}. Best is trial 2 with value: 0.043558135628700256.\n",
      "[I 2024-09-12 10:19:48,285] Trial 3 finished with value: 0.11502332240343094 and parameters: {'out_channels': 112, 'kernel_size': 6, 'num_blocks': 2, 'l2_lambda': 0.009599237166363137, 'dropout_rate': 0.1896482423880883, 'epochs': 89, 'lr': 0.0003040200712442293}. Best is trial 2 with value: 0.043558135628700256.\n"
     ]
    },
    {
     "name": "stdout",
     "output_type": "stream",
     "text": [
      "Early stopping at epoch 44\n"
     ]
    },
    {
     "name": "stderr",
     "output_type": "stream",
     "text": [
      "[I 2024-09-12 10:19:51,048] Trial 4 finished with value: 0.07067347317934036 and parameters: {'out_channels': 56, 'kernel_size': 5, 'num_blocks': 5, 'l2_lambda': 0.0046684933082624825, 'dropout_rate': 0.350782096013583, 'epochs': 79, 'lr': 0.009140276958214259}. Best is trial 2 with value: 0.043558135628700256.\n"
     ]
    },
    {
     "name": "stdout",
     "output_type": "stream",
     "text": [
      "Early stopping at epoch 27\n"
     ]
    },
    {
     "name": "stderr",
     "output_type": "stream",
     "text": [
      "[I 2024-09-12 10:19:52,046] Trial 5 finished with value: 0.03087373822927475 and parameters: {'out_channels': 74, 'kernel_size': 4, 'num_blocks': 1, 'l2_lambda': 0.009632315366439749, 'dropout_rate': 0.362973163010876, 'epochs': 52, 'lr': 0.0007336519427459338}. Best is trial 5 with value: 0.03087373822927475.\n"
     ]
    },
    {
     "name": "stdout",
     "output_type": "stream",
     "text": [
      "Early stopping at epoch 30\n"
     ]
    },
    {
     "name": "stderr",
     "output_type": "stream",
     "text": [
      "[I 2024-09-12 10:19:52,891] Trial 6 finished with value: 0.04516230896115303 and parameters: {'out_channels': 118, 'kernel_size': 7, 'num_blocks': 1, 'l2_lambda': 0.0021584231820805607, 'dropout_rate': 0.47539936329237154, 'epochs': 61, 'lr': 0.0023004657869500405}. Best is trial 5 with value: 0.03087373822927475.\n"
     ]
    },
    {
     "name": "stdout",
     "output_type": "stream",
     "text": [
      "Early stopping at epoch 23\n"
     ]
    },
    {
     "name": "stderr",
     "output_type": "stream",
     "text": [
      "[I 2024-09-12 10:19:54,822] Trial 7 finished with value: 0.22364816069602966 and parameters: {'out_channels': 82, 'kernel_size': 4, 'num_blocks': 5, 'l2_lambda': 0.0006876750312276059, 'dropout_rate': 0.33037890436646467, 'epochs': 16, 'lr': 0.008099016483933949}. Best is trial 5 with value: 0.03087373822927475.\n",
      "[I 2024-09-12 10:19:55,697] Trial 8 finished with value: 0.09956086426973343 and parameters: {'out_channels': 17, 'kernel_size': 3, 'num_blocks': 4, 'l2_lambda': 0.006192115804548882, 'dropout_rate': 0.23438867548639603, 'epochs': 49, 'lr': 0.00946780553733093}. Best is trial 5 with value: 0.03087373822927475.\n"
     ]
    },
    {
     "name": "stdout",
     "output_type": "stream",
     "text": [
      "Early stopping at epoch 11\n"
     ]
    },
    {
     "name": "stderr",
     "output_type": "stream",
     "text": [
      "[I 2024-09-12 10:19:56,916] Trial 9 finished with value: 0.48913657665252686 and parameters: {'out_channels': 89, 'kernel_size': 6, 'num_blocks': 4, 'l2_lambda': 0.0014564822568974064, 'dropout_rate': 0.11514528018877082, 'epochs': 95, 'lr': 0.0025691862627405977}. Best is trial 5 with value: 0.03087373822927475.\n"
     ]
    },
    {
     "name": "stdout",
     "output_type": "stream",
     "text": [
      "Early stopping at epoch 10\n"
     ]
    },
    {
     "name": "stderr",
     "output_type": "stream",
     "text": [
      "[I 2024-09-12 10:19:57,891] Trial 10 finished with value: 0.10860434919595718 and parameters: {'out_channels': 58, 'kernel_size': 3, 'num_blocks': 2, 'l2_lambda': 0.004475178248865027, 'dropout_rate': 0.43947939151760657, 'epochs': 34, 'lr': 0.0064508036225673065}. Best is trial 5 with value: 0.03087373822927475.\n"
     ]
    },
    {
     "name": "stdout",
     "output_type": "stream",
     "text": [
      "Early stopping at epoch 20\n"
     ]
    },
    {
     "name": "stderr",
     "output_type": "stream",
     "text": [
      "[I 2024-09-12 10:19:58,424] Trial 11 finished with value: 0.9590510129928589 and parameters: {'out_channels': 41, 'kernel_size': 5, 'num_blocks': 2, 'l2_lambda': 0.009929434396728287, 'dropout_rate': 0.4294720683499556, 'epochs': 73, 'lr': 5.6890370475769616e-05}. Best is trial 5 with value: 0.03087373822927475.\n"
     ]
    },
    {
     "name": "stdout",
     "output_type": "stream",
     "text": [
      "Early stopping at epoch 10\n"
     ]
    },
    {
     "name": "stderr",
     "output_type": "stream",
     "text": [
      "[I 2024-09-12 10:19:59,621] Trial 12 finished with value: 0.025568686425685883 and parameters: {'out_channels': 94, 'kernel_size': 6, 'num_blocks': 1, 'l2_lambda': 0.008355942684372534, 'dropout_rate': 0.2717531210550839, 'epochs': 55, 'lr': 0.0046230926231573405}. Best is trial 12 with value: 0.025568686425685883.\n"
     ]
    },
    {
     "name": "stdout",
     "output_type": "stream",
     "text": [
      "Early stopping at epoch 34\n"
     ]
    },
    {
     "name": "stderr",
     "output_type": "stream",
     "text": [
      "[I 2024-09-12 10:20:02,274] Trial 13 finished with value: 0.0397990420460701 and parameters: {'out_channels': 97, 'kernel_size': 4, 'num_blocks': 3, 'l2_lambda': 0.007821617653528956, 'dropout_rate': 0.3869141143458349, 'epochs': 32, 'lr': 0.005312633267923372}. Best is trial 12 with value: 0.025568686425685883.\n",
      "[I 2024-09-12 10:20:03,268] Trial 14 finished with value: 0.019635668024420738 and parameters: {'out_channels': 73, 'kernel_size': 5, 'num_blocks': 1, 'l2_lambda': 0.007951554722402108, 'dropout_rate': 0.28060178613513487, 'epochs': 49, 'lr': 0.004277387689880273}. Best is trial 14 with value: 0.019635668024420738.\n"
     ]
    },
    {
     "name": "stdout",
     "output_type": "stream",
     "text": [
      "Early stopping at epoch 31\n"
     ]
    },
    {
     "name": "stderr",
     "output_type": "stream",
     "text": [
      "[I 2024-09-12 10:20:03,991] Trial 15 finished with value: 0.778041422367096 and parameters: {'out_channels': 104, 'kernel_size': 6, 'num_blocks': 2, 'l2_lambda': 0.0075768812604495635, 'dropout_rate': 0.2776598823759894, 'epochs': 21, 'lr': 0.004772373793505973}. Best is trial 14 with value: 0.019635668024420738.\n"
     ]
    },
    {
     "name": "stdout",
     "output_type": "stream",
     "text": [
      "Early stopping at epoch 10\n"
     ]
    },
    {
     "name": "stderr",
     "output_type": "stream",
     "text": [
      "[I 2024-09-12 10:20:06,317] Trial 16 finished with value: 0.02998429164290428 and parameters: {'out_channels': 64, 'kernel_size': 5, 'num_blocks': 3, 'l2_lambda': 0.006035089233953946, 'dropout_rate': 0.16003855869034217, 'epochs': 46, 'lr': 0.0067860879039036105}. Best is trial 14 with value: 0.019635668024420738.\n"
     ]
    },
    {
     "name": "stdout",
     "output_type": "stream",
     "text": [
      "Early stopping at epoch 35\n"
     ]
    },
    {
     "name": "stderr",
     "output_type": "stream",
     "text": [
      "[I 2024-09-12 10:20:06,732] Trial 17 finished with value: 0.22537676990032196 and parameters: {'out_channels': 42, 'kernel_size': 7, 'num_blocks': 1, 'l2_lambda': 0.003483150065771572, 'dropout_rate': 0.29334698067217974, 'epochs': 59, 'lr': 0.003837102631322897}. Best is trial 14 with value: 0.019635668024420738.\n"
     ]
    },
    {
     "name": "stdout",
     "output_type": "stream",
     "text": [
      "Early stopping at epoch 11\n"
     ]
    },
    {
     "name": "stderr",
     "output_type": "stream",
     "text": [
      "[I 2024-09-12 10:20:08,328] Trial 18 finished with value: 0.02724081464111805 and parameters: {'out_channels': 82, 'kernel_size': 6, 'num_blocks': 2, 'l2_lambda': 0.008270662154435433, 'dropout_rate': 0.18399306055319947, 'epochs': 28, 'lr': 0.005861616075405169}. Best is trial 14 with value: 0.019635668024420738.\n",
      "[I 2024-09-12 10:20:09,884] Trial 19 finished with value: 0.04506615176796913 and parameters: {'out_channels': 99, 'kernel_size': 5, 'num_blocks': 3, 'l2_lambda': 0.00640461277670063, 'dropout_rate': 0.28780644279269535, 'epochs': 40, 'lr': 0.00429873339727274}. Best is trial 14 with value: 0.019635668024420738.\n"
     ]
    },
    {
     "name": "stdout",
     "output_type": "stream",
     "text": [
      "Early stopping at epoch 19\n"
     ]
    },
    {
     "name": "stderr",
     "output_type": "stream",
     "text": [
      "[I 2024-09-12 10:20:10,277] Trial 20 finished with value: 0.2254089117050171 and parameters: {'out_channels': 78, 'kernel_size': 5, 'num_blocks': 1, 'l2_lambda': 0.008173209381696276, 'dropout_rate': 0.10591456386325798, 'epochs': 10, 'lr': 0.002443562146628052}. Best is trial 14 with value: 0.019635668024420738.\n",
      "[I 2024-09-12 10:20:11,950] Trial 21 finished with value: 0.052515383809804916 and parameters: {'out_channels': 87, 'kernel_size': 6, 'num_blocks': 2, 'l2_lambda': 0.00869754068268203, 'dropout_rate': 0.18561955535473157, 'epochs': 27, 'lr': 0.005851791940601844}. Best is trial 14 with value: 0.019635668024420738.\n",
      "[I 2024-09-12 10:20:13,424] Trial 22 finished with value: 0.039011456072330475 and parameters: {'out_channels': 73, 'kernel_size': 6, 'num_blocks': 2, 'l2_lambda': 0.006912396351301964, 'dropout_rate': 0.20587137402797762, 'epochs': 54, 'lr': 0.007402298334901401}. Best is trial 14 with value: 0.019635668024420738.\n"
     ]
    },
    {
     "name": "stdout",
     "output_type": "stream",
     "text": [
      "Early stopping at epoch 25\n"
     ]
    },
    {
     "name": "stderr",
     "output_type": "stream",
     "text": [
      "[I 2024-09-12 10:20:14,626] Trial 23 finished with value: 0.04626059532165527 and parameters: {'out_channels': 90, 'kernel_size': 7, 'num_blocks': 1, 'l2_lambda': 0.008852331412787653, 'dropout_rate': 0.1528235508607524, 'epochs': 42, 'lr': 0.006039382920419037}. Best is trial 14 with value: 0.019635668024420738.\n"
     ]
    },
    {
     "name": "stdout",
     "output_type": "stream",
     "text": [
      "Early stopping at epoch 36\n"
     ]
    },
    {
     "name": "stderr",
     "output_type": "stream",
     "text": [
      "[I 2024-09-12 10:20:15,606] Trial 24 finished with value: 0.2610456049442291 and parameters: {'out_channels': 65, 'kernel_size': 6, 'num_blocks': 2, 'l2_lambda': 0.00882421951580402, 'dropout_rate': 0.2639564675749676, 'epochs': 26, 'lr': 0.005203684155519774}. Best is trial 14 with value: 0.019635668024420738.\n"
     ]
    },
    {
     "name": "stdout",
     "output_type": "stream",
     "text": [
      "Early stopping at epoch 16\n"
     ]
    },
    {
     "name": "stderr",
     "output_type": "stream",
     "text": [
      "[I 2024-09-12 10:20:16,227] Trial 25 finished with value: 0.04143768921494484 and parameters: {'out_channels': 108, 'kernel_size': 5, 'num_blocks': 1, 'l2_lambda': 0.007276790921868123, 'dropout_rate': 0.3201235647279537, 'epochs': 33, 'lr': 0.0032628471773237452}. Best is trial 14 with value: 0.019635668024420738.\n"
     ]
    },
    {
     "name": "stdout",
     "output_type": "stream",
     "text": [
      "Early stopping at epoch 16\n"
     ]
    },
    {
     "name": "stderr",
     "output_type": "stream",
     "text": [
      "[I 2024-09-12 10:20:17,928] Trial 26 finished with value: 0.036469340324401855 and parameters: {'out_channels': 48, 'kernel_size': 6, 'num_blocks': 2, 'l2_lambda': 0.005481029672594939, 'dropout_rate': 0.14795830377581362, 'epochs': 57, 'lr': 0.004392021470025298}. Best is trial 14 with value: 0.019635668024420738.\n"
     ]
    },
    {
     "name": "stdout",
     "output_type": "stream",
     "text": [
      "Early stopping at epoch 33\n"
     ]
    },
    {
     "name": "stderr",
     "output_type": "stream",
     "text": [
      "[I 2024-09-12 10:20:18,519] Trial 27 finished with value: 0.13143271207809448 and parameters: {'out_channels': 97, 'kernel_size': 7, 'num_blocks': 1, 'l2_lambda': 0.008463349685214812, 'dropout_rate': 0.2070855199354303, 'epochs': 81, 'lr': 0.0015445287987712456}. Best is trial 14 with value: 0.019635668024420738.\n"
     ]
    },
    {
     "name": "stdout",
     "output_type": "stream",
     "text": [
      "Early stopping at epoch 14\n"
     ]
    },
    {
     "name": "stderr",
     "output_type": "stream",
     "text": [
      "[I 2024-09-12 10:20:20,807] Trial 28 finished with value: 0.015680737793445587 and parameters: {'out_channels': 66, 'kernel_size': 6, 'num_blocks': 2, 'l2_lambda': 0.006705207422097783, 'dropout_rate': 0.2570695185908637, 'epochs': 46, 'lr': 0.007928723499861155}. Best is trial 28 with value: 0.015680737793445587.\n"
     ]
    },
    {
     "name": "stdout",
     "output_type": "stream",
     "text": [
      "Early stopping at epoch 40\n"
     ]
    },
    {
     "name": "stderr",
     "output_type": "stream",
     "text": [
      "[I 2024-09-12 10:20:21,993] Trial 29 finished with value: 0.08759571611881256 and parameters: {'out_channels': 121, 'kernel_size': 5, 'num_blocks': 1, 'l2_lambda': 0.0068068036122223155, 'dropout_rate': 0.31041367259601577, 'epochs': 41, 'lr': 0.008406852789153391}. Best is trial 28 with value: 0.015680737793445587.\n"
     ]
    },
    {
     "name": "stdout",
     "output_type": "stream",
     "text": [
      "Early stopping at epoch 33\n"
     ]
    },
    {
     "name": "stderr",
     "output_type": "stream",
     "text": [
      "[I 2024-09-12 10:20:24,837] Trial 30 finished with value: 0.08052250742912292 and parameters: {'out_channels': 128, 'kernel_size': 5, 'num_blocks': 3, 'l2_lambda': 0.005332834526836184, 'dropout_rate': 0.2603608534741488, 'epochs': 65, 'lr': 0.007742797319133865}. Best is trial 28 with value: 0.015680737793445587.\n"
     ]
    },
    {
     "name": "stdout",
     "output_type": "stream",
     "text": [
      "Early stopping at epoch 34\n"
     ]
    },
    {
     "name": "stderr",
     "output_type": "stream",
     "text": [
      "[I 2024-09-12 10:20:25,478] Trial 31 finished with value: 0.3687017858028412 and parameters: {'out_channels': 68, 'kernel_size': 6, 'num_blocks': 2, 'l2_lambda': 0.009093608949291447, 'dropout_rate': 0.23965883529777876, 'epochs': 48, 'lr': 0.0067608447017579185}. Best is trial 28 with value: 0.015680737793445587.\n"
     ]
    },
    {
     "name": "stdout",
     "output_type": "stream",
     "text": [
      "Early stopping at epoch 10\n"
     ]
    },
    {
     "name": "stderr",
     "output_type": "stream",
     "text": [
      "[I 2024-09-12 10:20:26,553] Trial 32 finished with value: 0.027005555108189583 and parameters: {'out_channels': 81, 'kernel_size': 6, 'num_blocks': 1, 'l2_lambda': 0.008020812421040755, 'dropout_rate': 0.2217254390879933, 'epochs': 37, 'lr': 0.005788134198041262}. Best is trial 28 with value: 0.015680737793445587.\n"
     ]
    },
    {
     "name": "stdout",
     "output_type": "stream",
     "text": [
      "Early stopping at epoch 31\n"
     ]
    },
    {
     "name": "stderr",
     "output_type": "stream",
     "text": [
      "[I 2024-09-12 10:20:27,686] Trial 33 finished with value: 0.04920138791203499 and parameters: {'out_channels': 58, 'kernel_size': 7, 'num_blocks': 1, 'l2_lambda': 0.0071957198019706025, 'dropout_rate': 0.2306529052467946, 'epochs': 38, 'lr': 0.0032552087543290713}. Best is trial 28 with value: 0.015680737793445587.\n",
      "[I 2024-09-12 10:20:28,167] Trial 34 finished with value: 0.15012788772583008 and parameters: {'out_channels': 30, 'kernel_size': 6, 'num_blocks': 1, 'l2_lambda': 0.008066159495237965, 'dropout_rate': 0.26210847116833424, 'epochs': 48, 'lr': 0.0039284677110628585}. Best is trial 28 with value: 0.015680737793445587.\n"
     ]
    },
    {
     "name": "stdout",
     "output_type": "stream",
     "text": [
      "Early stopping at epoch 14\n"
     ]
    },
    {
     "name": "stderr",
     "output_type": "stream",
     "text": [
      "[I 2024-09-12 10:20:29,474] Trial 35 finished with value: 0.03722809627652168 and parameters: {'out_channels': 81, 'kernel_size': 5, 'num_blocks': 1, 'l2_lambda': 0.009331156706436665, 'dropout_rate': 0.2987991033970978, 'epochs': 65, 'lr': 0.007250553943688523}. Best is trial 28 with value: 0.015680737793445587.\n"
     ]
    },
    {
     "name": "stdout",
     "output_type": "stream",
     "text": [
      "Early stopping at epoch 40\n"
     ]
    },
    {
     "name": "stderr",
     "output_type": "stream",
     "text": [
      "[I 2024-09-12 10:20:31,016] Trial 36 finished with value: 0.02243628539144993 and parameters: {'out_channels': 52, 'kernel_size': 6, 'num_blocks': 1, 'l2_lambda': 0.006602490182957223, 'dropout_rate': 0.35224464370066944, 'epochs': 71, 'lr': 0.0050668103011643675}. Best is trial 28 with value: 0.015680737793445587.\n"
     ]
    },
    {
     "name": "stdout",
     "output_type": "stream",
     "text": [
      "Early stopping at epoch 49\n"
     ]
    },
    {
     "name": "stderr",
     "output_type": "stream",
     "text": [
      "[I 2024-09-12 10:20:31,967] Trial 37 finished with value: 0.056860629469156265 and parameters: {'out_channels': 48, 'kernel_size': 7, 'num_blocks': 1, 'l2_lambda': 0.004279571685820854, 'dropout_rate': 0.35658985719915737, 'epochs': 72, 'lr': 0.00872626598105564}. Best is trial 28 with value: 0.015680737793445587.\n"
     ]
    },
    {
     "name": "stdout",
     "output_type": "stream",
     "text": [
      "Early stopping at epoch 29\n"
     ]
    },
    {
     "name": "stderr",
     "output_type": "stream",
     "text": [
      "[I 2024-09-12 10:20:32,867] Trial 38 finished with value: 0.15304256975650787 and parameters: {'out_channels': 29, 'kernel_size': 4, 'num_blocks': 1, 'l2_lambda': 0.005721958209860023, 'dropout_rate': 0.38087481015724645, 'epochs': 77, 'lr': 0.004784576362816074}. Best is trial 28 with value: 0.015680737793445587.\n"
     ]
    },
    {
     "name": "stdout",
     "output_type": "stream",
     "text": [
      "Early stopping at epoch 28\n"
     ]
    },
    {
     "name": "stderr",
     "output_type": "stream",
     "text": [
      "[I 2024-09-12 10:20:34,532] Trial 39 finished with value: 0.023190096020698547 and parameters: {'out_channels': 51, 'kernel_size': 6, 'num_blocks': 2, 'l2_lambda': 0.006705693492673388, 'dropout_rate': 0.3338120507215789, 'epochs': 85, 'lr': 0.003578384507119826}. Best is trial 28 with value: 0.015680737793445587.\n"
     ]
    },
    {
     "name": "stdout",
     "output_type": "stream",
     "text": [
      "Early stopping at epoch 29\n"
     ]
    },
    {
     "name": "stderr",
     "output_type": "stream",
     "text": [
      "[I 2024-09-12 10:20:37,029] Trial 40 finished with value: 0.041831012815237045 and parameters: {'out_channels': 51, 'kernel_size': 5, 'num_blocks': 3, 'l2_lambda': 0.004975450357094674, 'dropout_rate': 0.34063074831196033, 'epochs': 85, 'lr': 0.0029032963322323723}. Best is trial 28 with value: 0.015680737793445587.\n"
     ]
    },
    {
     "name": "stdout",
     "output_type": "stream",
     "text": [
      "Early stopping at epoch 36\n"
     ]
    },
    {
     "name": "stderr",
     "output_type": "stream",
     "text": [
      "[I 2024-09-12 10:20:38,532] Trial 41 finished with value: 0.11458785086870193 and parameters: {'out_channels': 38, 'kernel_size': 6, 'num_blocks': 2, 'l2_lambda': 0.0066427137664593185, 'dropout_rate': 0.37726193068339436, 'epochs': 93, 'lr': 0.001118020482580028}. Best is trial 28 with value: 0.015680737793445587.\n"
     ]
    },
    {
     "name": "stdout",
     "output_type": "stream",
     "text": [
      "Early stopping at epoch 27\n"
     ]
    },
    {
     "name": "stderr",
     "output_type": "stream",
     "text": [
      "[I 2024-09-12 10:20:39,330] Trial 42 finished with value: 0.16815398633480072 and parameters: {'out_channels': 53, 'kernel_size': 6, 'num_blocks': 2, 'l2_lambda': 0.007404141655801913, 'dropout_rate': 0.3226370208157723, 'epochs': 99, 'lr': 0.00195339617116623}. Best is trial 28 with value: 0.015680737793445587.\n"
     ]
    },
    {
     "name": "stdout",
     "output_type": "stream",
     "text": [
      "Early stopping at epoch 12\n"
     ]
    },
    {
     "name": "stderr",
     "output_type": "stream",
     "text": [
      "[I 2024-09-12 10:20:40,038] Trial 43 finished with value: 0.38591933250427246 and parameters: {'out_channels': 66, 'kernel_size': 6, 'num_blocks': 1, 'l2_lambda': 0.006118899786940619, 'dropout_rate': 0.40710138013160707, 'epochs': 61, 'lr': 0.0038287416038095285}. Best is trial 28 with value: 0.015680737793445587.\n"
     ]
    },
    {
     "name": "stdout",
     "output_type": "stream",
     "text": [
      "Early stopping at epoch 19\n"
     ]
    },
    {
     "name": "stderr",
     "output_type": "stream",
     "text": [
      "[I 2024-09-12 10:20:41,448] Trial 44 finished with value: 0.04880869388580322 and parameters: {'out_channels': 73, 'kernel_size': 6, 'num_blocks': 1, 'l2_lambda': 0.007149368186430875, 'dropout_rate': 0.33843917731683015, 'epochs': 53, 'lr': 0.005303642288615612}. Best is trial 28 with value: 0.015680737793445587.\n"
     ]
    },
    {
     "name": "stdout",
     "output_type": "stream",
     "text": [
      "Early stopping at epoch 41\n"
     ]
    },
    {
     "name": "stderr",
     "output_type": "stream",
     "text": [
      "[I 2024-09-12 10:20:45,841] Trial 45 finished with value: 0.04098476842045784 and parameters: {'out_channels': 59, 'kernel_size': 7, 'num_blocks': 4, 'l2_lambda': 0.003964800963006455, 'dropout_rate': 0.2701794874254075, 'epochs': 70, 'lr': 0.004382835871681905}. Best is trial 28 with value: 0.015680737793445587.\n"
     ]
    },
    {
     "name": "stdout",
     "output_type": "stream",
     "text": [
      "Early stopping at epoch 52\n"
     ]
    },
    {
     "name": "stderr",
     "output_type": "stream",
     "text": [
      "[I 2024-09-12 10:20:46,732] Trial 46 finished with value: 0.03682057559490204 and parameters: {'out_channels': 34, 'kernel_size': 5, 'num_blocks': 2, 'l2_lambda': 0.00651710249355637, 'dropout_rate': 0.30836758155525235, 'epochs': 87, 'lr': 0.00959108372494038}. Best is trial 28 with value: 0.015680737793445587.\n"
     ]
    },
    {
     "name": "stdout",
     "output_type": "stream",
     "text": [
      "Early stopping at epoch 19\n"
     ]
    },
    {
     "name": "stderr",
     "output_type": "stream",
     "text": [
      "[I 2024-09-12 10:20:47,727] Trial 47 finished with value: 0.30582359433174133 and parameters: {'out_channels': 46, 'kernel_size': 6, 'num_blocks': 3, 'l2_lambda': 0.007689170125562154, 'dropout_rate': 0.49553662862419046, 'epochs': 45, 'lr': 0.00303944896872677}. Best is trial 28 with value: 0.015680737793445587.\n"
     ]
    },
    {
     "name": "stdout",
     "output_type": "stream",
     "text": [
      "Early stopping at epoch 13\n"
     ]
    },
    {
     "name": "stderr",
     "output_type": "stream",
     "text": [
      "[I 2024-09-12 10:20:51,824] Trial 48 finished with value: 0.05662860721349716 and parameters: {'out_channels': 61, 'kernel_size': 7, 'num_blocks': 5, 'l2_lambda': 0.0057354893707852175, 'dropout_rate': 0.24900096689968088, 'epochs': 75, 'lr': 0.0037522339843288083}. Best is trial 28 with value: 0.015680737793445587.\n"
     ]
    },
    {
     "name": "stdout",
     "output_type": "stream",
     "text": [
      "Early stopping at epoch 39\n"
     ]
    },
    {
     "name": "stderr",
     "output_type": "stream",
     "text": [
      "[I 2024-09-12 10:20:52,471] Trial 49 finished with value: 0.43292102217674255 and parameters: {'out_channels': 53, 'kernel_size': 3, 'num_blocks': 2, 'l2_lambda': 0.0025322158411208357, 'dropout_rate': 0.2864517830678035, 'epochs': 51, 'lr': 0.0049365805736690934}. Best is trial 28 with value: 0.015680737793445587.\n"
     ]
    },
    {
     "name": "stdout",
     "output_type": "stream",
     "text": [
      "Early stopping at epoch 12\n"
     ]
    },
    {
     "name": "stderr",
     "output_type": "stream",
     "text": [
      "[I 2024-09-12 10:20:53,453] Trial 50 finished with value: 0.050943829119205475 and parameters: {'out_channels': 70, 'kernel_size': 4, 'num_blocks': 1, 'l2_lambda': 0.009531804692146997, 'dropout_rate': 0.40200372086037467, 'epochs': 62, 'lr': 0.006291564763443496}. Best is trial 28 with value: 0.015680737793445587.\n"
     ]
    },
    {
     "name": "stdout",
     "output_type": "stream",
     "text": [
      "Early stopping at epoch 28\n"
     ]
    },
    {
     "name": "stderr",
     "output_type": "stream",
     "text": [
      "[I 2024-09-12 10:20:54,835] Trial 51 finished with value: 0.0600748173892498 and parameters: {'out_channels': 77, 'kernel_size': 6, 'num_blocks': 1, 'l2_lambda': 0.007890551134709128, 'dropout_rate': 0.21381063319088747, 'epochs': 82, 'lr': 0.005484164693685902}. Best is trial 28 with value: 0.015680737793445587.\n"
     ]
    },
    {
     "name": "stdout",
     "output_type": "stream",
     "text": [
      "Early stopping at epoch 38\n"
     ]
    },
    {
     "name": "stderr",
     "output_type": "stream",
     "text": [
      "[I 2024-09-12 10:20:56,272] Trial 52 finished with value: 0.03506264090538025 and parameters: {'out_channels': 87, 'kernel_size': 6, 'num_blocks': 1, 'l2_lambda': 0.008390883645759321, 'dropout_rate': 0.22987287959025268, 'epochs': 56, 'lr': 0.009984345775983344}. Best is trial 28 with value: 0.015680737793445587.\n"
     ]
    },
    {
     "name": "stdout",
     "output_type": "stream",
     "text": [
      "Early stopping at epoch 38\n"
     ]
    },
    {
     "name": "stderr",
     "output_type": "stream",
     "text": [
      "[I 2024-09-12 10:20:57,511] Trial 53 finished with value: 0.023745108395814896 and parameters: {'out_channels': 62, 'kernel_size': 6, 'num_blocks': 1, 'l2_lambda': 0.007612689342073047, 'dropout_rate': 0.36076710875109946, 'epochs': 38, 'lr': 0.004593699837480724}. Best is trial 28 with value: 0.015680737793445587.\n",
      "[I 2024-09-12 10:20:58,039] Trial 54 finished with value: 0.38922274112701416 and parameters: {'out_channels': 63, 'kernel_size': 5, 'num_blocks': 1, 'l2_lambda': 0.0069887837611918475, 'dropout_rate': 0.35675772490978885, 'epochs': 44, 'lr': 0.004244137541004821}. Best is trial 28 with value: 0.015680737793445587.\n"
     ]
    },
    {
     "name": "stdout",
     "output_type": "stream",
     "text": [
      "Early stopping at epoch 14\n"
     ]
    },
    {
     "name": "stderr",
     "output_type": "stream",
     "text": [
      "[I 2024-09-12 10:21:00,128] Trial 55 finished with value: 0.030014926567673683 and parameters: {'out_channels': 55, 'kernel_size': 6, 'num_blocks': 2, 'l2_lambda': 0.006331334448038281, 'dropout_rate': 0.44607480342808925, 'epochs': 93, 'lr': 0.004628039734875325}. Best is trial 28 with value: 0.015680737793445587.\n"
     ]
    },
    {
     "name": "stdout",
     "output_type": "stream",
     "text": [
      "Early stopping at epoch 34\n"
     ]
    },
    {
     "name": "stderr",
     "output_type": "stream",
     "text": [
      "[I 2024-09-12 10:21:00,585] Trial 56 finished with value: 0.21064493060112 and parameters: {'out_channels': 43, 'kernel_size': 6, 'num_blocks': 1, 'l2_lambda': 0.007480259744429923, 'dropout_rate': 0.3692907105484748, 'epochs': 36, 'lr': 0.003502058157213717}. Best is trial 28 with value: 0.015680737793445587.\n"
     ]
    },
    {
     "name": "stdout",
     "output_type": "stream",
     "text": [
      "Early stopping at epoch 12\n"
     ]
    },
    {
     "name": "stderr",
     "output_type": "stream",
     "text": [
      "[I 2024-09-12 10:21:01,353] Trial 57 finished with value: 0.38450944423675537 and parameters: {'out_channels': 62, 'kernel_size': 5, 'num_blocks': 2, 'l2_lambda': 0.007634146123690045, 'dropout_rate': 0.33376607086708676, 'epochs': 31, 'lr': 0.002122188022734726}. Best is trial 28 with value: 0.015680737793445587.\n"
     ]
    },
    {
     "name": "stdout",
     "output_type": "stream",
     "text": [
      "Early stopping at epoch 13\n"
     ]
    },
    {
     "name": "stderr",
     "output_type": "stream",
     "text": [
      "[I 2024-09-12 10:21:05,339] Trial 58 finished with value: 0.020357204601168633 and parameters: {'out_channels': 92, 'kernel_size': 6, 'num_blocks': 4, 'l2_lambda': 0.008580411474498947, 'dropout_rate': 0.3944465287186117, 'epochs': 52, 'lr': 0.0027719724592209687}. Best is trial 28 with value: 0.015680737793445587.\n"
     ]
    },
    {
     "name": "stdout",
     "output_type": "stream",
     "text": [
      "Early stopping at epoch 35\n"
     ]
    },
    {
     "name": "stderr",
     "output_type": "stream",
     "text": [
      "[I 2024-09-12 10:21:09,461] Trial 59 finished with value: 0.040972813963890076 and parameters: {'out_channels': 112, 'kernel_size': 7, 'num_blocks': 4, 'l2_lambda': 0.005968871888917278, 'dropout_rate': 0.41316565578699566, 'epochs': 51, 'lr': 0.002756602967134477}. Best is trial 28 with value: 0.015680737793445587.\n"
     ]
    },
    {
     "name": "stdout",
     "output_type": "stream",
     "text": [
      "Early stopping at epoch 38\n"
     ]
    },
    {
     "name": "stderr",
     "output_type": "stream",
     "text": [
      "[I 2024-09-12 10:21:11,590] Trial 60 finished with value: 0.13672304153442383 and parameters: {'out_channels': 76, 'kernel_size': 6, 'num_blocks': 4, 'l2_lambda': 0.008655236277524939, 'dropout_rate': 0.39651063673022585, 'epochs': 44, 'lr': 0.0024994353236332343}. Best is trial 28 with value: 0.015680737793445587.\n"
     ]
    },
    {
     "name": "stdout",
     "output_type": "stream",
     "text": [
      "Early stopping at epoch 19\n"
     ]
    },
    {
     "name": "stderr",
     "output_type": "stream",
     "text": [
      "[I 2024-09-12 10:21:16,462] Trial 61 finished with value: 0.09735371172428131 and parameters: {'out_channels': 93, 'kernel_size': 6, 'num_blocks': 5, 'l2_lambda': 0.00913736007996591, 'dropout_rate': 0.27655130832845437, 'epochs': 68, 'lr': 0.004108934442268678}. Best is trial 28 with value: 0.015680737793445587.\n"
     ]
    },
    {
     "name": "stdout",
     "output_type": "stream",
     "text": [
      "Early stopping at epoch 35\n"
     ]
    },
    {
     "name": "stderr",
     "output_type": "stream",
     "text": [
      "[I 2024-09-12 10:21:17,915] Trial 62 finished with value: 0.1907198280096054 and parameters: {'out_channels': 101, 'kernel_size': 6, 'num_blocks': 3, 'l2_lambda': 0.009879460547244683, 'dropout_rate': 0.34632234707840603, 'epochs': 56, 'lr': 0.0034248574953917674}. Best is trial 28 with value: 0.015680737793445587.\n"
     ]
    },
    {
     "name": "stdout",
     "output_type": "stream",
     "text": [
      "Early stopping at epoch 14\n"
     ]
    },
    {
     "name": "stderr",
     "output_type": "stream",
     "text": [
      "[I 2024-09-12 10:21:21,180] Trial 63 finished with value: 0.042365461587905884 and parameters: {'out_channels': 68, 'kernel_size': 6, 'num_blocks': 4, 'l2_lambda': 0.006642038422218767, 'dropout_rate': 0.4286250275085139, 'epochs': 59, 'lr': 0.0055888257727012055}. Best is trial 28 with value: 0.015680737793445587.\n"
     ]
    },
    {
     "name": "stdout",
     "output_type": "stream",
     "text": [
      "Early stopping at epoch 33\n"
     ]
    },
    {
     "name": "stderr",
     "output_type": "stream",
     "text": [
      "[I 2024-09-12 10:21:21,959] Trial 64 finished with value: 0.029115909710526466 and parameters: {'out_channels': 94, 'kernel_size': 5, 'num_blocks': 1, 'l2_lambda': 0.007827832960759909, 'dropout_rate': 0.36240845034799846, 'epochs': 50, 'lr': 0.004740108403190116}. Best is trial 28 with value: 0.015680737793445587.\n"
     ]
    },
    {
     "name": "stdout",
     "output_type": "stream",
     "text": [
      "Early stopping at epoch 23\n"
     ]
    },
    {
     "name": "stderr",
     "output_type": "stream",
     "text": [
      "[I 2024-09-12 10:21:25,379] Trial 65 finished with value: 0.029411273077130318 and parameters: {'out_channels': 106, 'kernel_size': 6, 'num_blocks': 3, 'l2_lambda': 0.008284997537037757, 'dropout_rate': 0.3123127756432553, 'epochs': 47, 'lr': 0.0036322200680980396}. Best is trial 28 with value: 0.015680737793445587.\n"
     ]
    },
    {
     "name": "stdout",
     "output_type": "stream",
     "text": [
      "Early stopping at epoch 38\n"
     ]
    },
    {
     "name": "stderr",
     "output_type": "stream",
     "text": [
      "[I 2024-09-12 10:21:26,736] Trial 66 finished with value: 0.02530575357377529 and parameters: {'out_channels': 85, 'kernel_size': 5, 'num_blocks': 2, 'l2_lambda': 0.008622396442988586, 'dropout_rate': 0.2512357822004478, 'epochs': 40, 'lr': 0.005098412000417501}. Best is trial 28 with value: 0.015680737793445587.\n"
     ]
    },
    {
     "name": "stdout",
     "output_type": "stream",
     "text": [
      "Early stopping at epoch 24\n"
     ]
    },
    {
     "name": "stderr",
     "output_type": "stream",
     "text": [
      "[I 2024-09-12 10:21:27,919] Trial 67 finished with value: 0.05376041308045387 and parameters: {'out_channels': 84, 'kernel_size': 5, 'num_blocks': 2, 'l2_lambda': 0.009033705812167931, 'dropout_rate': 0.2521825629207979, 'epochs': 22, 'lr': 0.0015678242264370924}. Best is trial 28 with value: 0.015680737793445587.\n",
      "[I 2024-09-12 10:21:29,435] Trial 68 finished with value: 0.01977640390396118 and parameters: {'out_channels': 71, 'kernel_size': 5, 'num_blocks': 2, 'l2_lambda': 0.007067262546973782, 'dropout_rate': 0.2846402205919368, 'epochs': 39, 'lr': 0.0052160869121176305}. Best is trial 28 with value: 0.015680737793445587.\n"
     ]
    },
    {
     "name": "stdout",
     "output_type": "stream",
     "text": [
      "Early stopping at epoch 28\n"
     ]
    },
    {
     "name": "stderr",
     "output_type": "stream",
     "text": [
      "[I 2024-09-12 10:21:31,082] Trial 69 finished with value: 0.04415223374962807 and parameters: {'out_channels': 71, 'kernel_size': 4, 'num_blocks': 2, 'l2_lambda': 1.2597003981873467e-05, 'dropout_rate': 0.3268919637869729, 'epochs': 30, 'lr': 0.006929321366053208}. Best is trial 28 with value: 0.015680737793445587.\n",
      "[I 2024-09-12 10:21:32,741] Trial 70 finished with value: 0.012460164725780487 and parameters: {'out_channels': 56, 'kernel_size': 5, 'num_blocks': 3, 'l2_lambda': 0.007014951628829497, 'dropout_rate': 0.29154355752063654, 'epochs': 24, 'lr': 0.0005926796809024031}. Best is trial 70 with value: 0.012460164725780487.\n",
      "[I 2024-09-12 10:21:33,620] Trial 71 finished with value: 0.25602999329566956 and parameters: {'out_channels': 56, 'kernel_size': 5, 'num_blocks': 3, 'l2_lambda': 0.007010039144233985, 'dropout_rate': 0.2938249206051188, 'epochs': 13, 'lr': 0.0008587197208969268}. Best is trial 70 with value: 0.012460164725780487.\n",
      "[I 2024-09-12 10:21:36,884] Trial 72 finished with value: 0.12027820944786072 and parameters: {'out_channels': 60, 'kernel_size': 5, 'num_blocks': 5, 'l2_lambda': 0.007395085864039784, 'dropout_rate': 0.28514969664316425, 'epochs': 35, 'lr': 0.004014673755900358}. Best is trial 70 with value: 0.012460164725780487.\n"
     ]
    },
    {
     "name": "stdout",
     "output_type": "stream",
     "text": [
      "Early stopping at epoch 32\n"
     ]
    },
    {
     "name": "stderr",
     "output_type": "stream",
     "text": [
      "[I 2024-09-12 10:21:38,401] Trial 73 finished with value: 1.0503349304199219 and parameters: {'out_channels': 50, 'kernel_size': 5, 'num_blocks': 3, 'l2_lambda': 0.005152898411641289, 'dropout_rate': 0.30350611339466077, 'epochs': 23, 'lr': 0.0002754863787096102}. Best is trial 70 with value: 0.012460164725780487.\n",
      "[I 2024-09-12 10:21:41,836] Trial 74 finished with value: 0.01610315963625908 and parameters: {'out_channels': 66, 'kernel_size': 5, 'num_blocks': 4, 'l2_lambda': 0.006905015901511042, 'dropout_rate': 0.3170637616816759, 'epochs': 39, 'lr': 0.004464233164631349}. Best is trial 70 with value: 0.012460164725780487.\n",
      "[I 2024-09-12 10:21:44,700] Trial 75 finished with value: 0.07636011391878128 and parameters: {'out_channels': 67, 'kernel_size': 5, 'num_blocks': 4, 'l2_lambda': 0.006808926548403186, 'dropout_rate': 0.31439939617478513, 'epochs': 42, 'lr': 0.006140408270429009}. Best is trial 70 with value: 0.012460164725780487.\n"
     ]
    },
    {
     "name": "stdout",
     "output_type": "stream",
     "text": [
      "Early stopping at epoch 30\n"
     ]
    },
    {
     "name": "stderr",
     "output_type": "stream",
     "text": [
      "[I 2024-09-12 10:21:46,645] Trial 76 finished with value: 0.22811812162399292 and parameters: {'out_channels': 45, 'kernel_size': 5, 'num_blocks': 4, 'l2_lambda': 0.005801887636926871, 'dropout_rate': 0.29991620416847503, 'epochs': 25, 'lr': 0.0005902288719427653}. Best is trial 70 with value: 0.012460164725780487.\n",
      "[I 2024-09-12 10:21:48,226] Trial 77 finished with value: 0.04204575717449188 and parameters: {'out_channels': 76, 'kernel_size': 5, 'num_blocks': 4, 'l2_lambda': 0.006405523529232559, 'dropout_rate': 0.27828766442766273, 'epochs': 18, 'lr': 0.0031288280112738136}. Best is trial 70 with value: 0.012460164725780487.\n",
      "[I 2024-09-12 10:21:50,873] Trial 78 finished with value: 0.020994702354073524 and parameters: {'out_channels': 57, 'kernel_size': 4, 'num_blocks': 3, 'l2_lambda': 0.006657711625928025, 'dropout_rate': 0.33047498616771775, 'epochs': 53, 'lr': 0.0015563759186994716}. Best is trial 70 with value: 0.012460164725780487.\n"
     ]
    },
    {
     "name": "stdout",
     "output_type": "stream",
     "text": [
      "Early stopping at epoch 37\n"
     ]
    },
    {
     "name": "stderr",
     "output_type": "stream",
     "text": [
      "[I 2024-09-12 10:21:52,369] Trial 79 finished with value: 0.027184899896383286 and parameters: {'out_channels': 56, 'kernel_size': 4, 'num_blocks': 3, 'l2_lambda': 0.0071730788551699195, 'dropout_rate': 0.26212011988130063, 'epochs': 53, 'lr': 0.0011197816994005661}. Best is trial 70 with value: 0.012460164725780487.\n"
     ]
    },
    {
     "name": "stdout",
     "output_type": "stream",
     "text": [
      "Early stopping at epoch 18\n"
     ]
    },
    {
     "name": "stderr",
     "output_type": "stream",
     "text": [
      "[I 2024-09-12 10:21:55,266] Trial 80 finished with value: 0.06217365339398384 and parameters: {'out_channels': 39, 'kernel_size': 3, 'num_blocks': 3, 'l2_lambda': 0.0061643940311754755, 'dropout_rate': 0.38915793444319496, 'epochs': 49, 'lr': 0.00010240818583787288}. Best is trial 70 with value: 0.012460164725780487.\n",
      "[I 2024-09-12 10:21:57,496] Trial 81 finished with value: 0.026938606053590775 and parameters: {'out_channels': 51, 'kernel_size': 4, 'num_blocks': 3, 'l2_lambda': 0.00674957681647025, 'dropout_rate': 0.34934074934899034, 'epochs': 58, 'lr': 0.0014386915685116923}. Best is trial 70 with value: 0.012460164725780487.\n"
     ]
    },
    {
     "name": "stdout",
     "output_type": "stream",
     "text": [
      "Early stopping at epoch 28\n"
     ]
    },
    {
     "name": "stderr",
     "output_type": "stream",
     "text": [
      "[I 2024-09-12 10:22:00,465] Trial 82 finished with value: 0.052569519728422165 and parameters: {'out_channels': 65, 'kernel_size': 4, 'num_blocks': 4, 'l2_lambda': 0.008101621044814681, 'dropout_rate': 0.3271198100842713, 'epochs': 63, 'lr': 0.002807315697184544}. Best is trial 70 with value: 0.012460164725780487.\n"
     ]
    },
    {
     "name": "stdout",
     "output_type": "stream",
     "text": [
      "Early stopping at epoch 29\n"
     ]
    },
    {
     "name": "stderr",
     "output_type": "stream",
     "text": [
      "[I 2024-09-12 10:22:04,021] Trial 83 finished with value: 0.02201263979077339 and parameters: {'out_channels': 69, 'kernel_size': 5, 'num_blocks': 3, 'l2_lambda': 0.005499346484629723, 'dropout_rate': 0.3721835146954807, 'epochs': 54, 'lr': 0.0019491557809630375}. Best is trial 70 with value: 0.012460164725780487.\n",
      "[I 2024-09-12 10:22:04,920] Trial 84 finished with value: 0.15138308703899384 and parameters: {'out_channels': 72, 'kernel_size': 5, 'num_blocks': 3, 'l2_lambda': 0.004800607782907207, 'dropout_rate': 0.3713127132939993, 'epochs': 53, 'lr': 0.0018947809773370598}. Best is trial 70 with value: 0.012460164725780487.\n"
     ]
    },
    {
     "name": "stdout",
     "output_type": "stream",
     "text": [
      "Early stopping at epoch 12\n"
     ]
    },
    {
     "name": "stderr",
     "output_type": "stream",
     "text": [
      "[I 2024-09-12 10:22:05,987] Trial 85 finished with value: 0.062313079833984375 and parameters: {'out_channels': 70, 'kernel_size': 5, 'num_blocks': 3, 'l2_lambda': 0.005306692412494664, 'dropout_rate': 0.317874396091938, 'epochs': 47, 'lr': 0.001262782973073905}. Best is trial 70 with value: 0.012460164725780487.\n"
     ]
    },
    {
     "name": "stdout",
     "output_type": "stream",
     "text": [
      "Early stopping at epoch 14\n"
     ]
    },
    {
     "name": "stderr",
     "output_type": "stream",
     "text": [
      "[I 2024-09-12 10:22:07,332] Trial 86 finished with value: 0.021874908357858658 and parameters: {'out_channels': 58, 'kernel_size': 5, 'num_blocks': 3, 'l2_lambda': 0.005546725169202838, 'dropout_rate': 0.42198648925679544, 'epochs': 43, 'lr': 0.0016697109582746832}. Best is trial 70 with value: 0.012460164725780487.\n"
     ]
    },
    {
     "name": "stdout",
     "output_type": "stream",
     "text": [
      "Early stopping at epoch 19\n"
     ]
    },
    {
     "name": "stderr",
     "output_type": "stream",
     "text": [
      "[I 2024-09-12 10:22:08,201] Trial 87 finished with value: 0.25152087211608887 and parameters: {'out_channels': 58, 'kernel_size': 5, 'num_blocks': 3, 'l2_lambda': 0.005925383391202983, 'dropout_rate': 0.28803427541112475, 'epochs': 42, 'lr': 0.001833398270816469}. Best is trial 70 with value: 0.012460164725780487.\n"
     ]
    },
    {
     "name": "stdout",
     "output_type": "stream",
     "text": [
      "Early stopping at epoch 11\n"
     ]
    },
    {
     "name": "stderr",
     "output_type": "stream",
     "text": [
      "[I 2024-09-12 10:22:10,752] Trial 88 finished with value: 0.026512695476412773 and parameters: {'out_channels': 78, 'kernel_size': 5, 'num_blocks': 3, 'l2_lambda': 0.0055680778940850485, 'dropout_rate': 0.4667703756969426, 'epochs': 45, 'lr': 0.0008191522054146473}. Best is trial 70 with value: 0.012460164725780487.\n"
     ]
    },
    {
     "name": "stdout",
     "output_type": "stream",
     "text": [
      "Early stopping at epoch 36\n"
     ]
    },
    {
     "name": "stderr",
     "output_type": "stream",
     "text": [
      "[I 2024-09-12 10:22:13,228] Trial 89 finished with value: 0.03029523231089115 and parameters: {'out_channels': 74, 'kernel_size': 4, 'num_blocks': 4, 'l2_lambda': 0.0044009174687620126, 'dropout_rate': 0.425193416274238, 'epochs': 40, 'lr': 0.0021438784456859123}. Best is trial 70 with value: 0.012460164725780487.\n"
     ]
    },
    {
     "name": "stdout",
     "output_type": "stream",
     "text": [
      "Early stopping at epoch 23\n"
     ]
    },
    {
     "name": "stderr",
     "output_type": "stream",
     "text": [
      "[I 2024-09-12 10:22:14,376] Trial 90 finished with value: 0.05036977678537369 and parameters: {'out_channels': 65, 'kernel_size': 5, 'num_blocks': 3, 'l2_lambda': 0.0063320469741184725, 'dropout_rate': 0.45391269045695065, 'epochs': 34, 'lr': 0.0003731331927145365}. Best is trial 70 with value: 0.012460164725780487.\n"
     ]
    },
    {
     "name": "stdout",
     "output_type": "stream",
     "text": [
      "Early stopping at epoch 14\n"
     ]
    },
    {
     "name": "stderr",
     "output_type": "stream",
     "text": [
      "[I 2024-09-12 10:22:16,047] Trial 91 finished with value: 0.125712588429451 and parameters: {'out_channels': 68, 'kernel_size': 5, 'num_blocks': 3, 'l2_lambda': 0.006977583637936049, 'dropout_rate': 0.3876008567779267, 'epochs': 55, 'lr': 0.0017287772079299256}. Best is trial 70 with value: 0.012460164725780487.\n"
     ]
    },
    {
     "name": "stdout",
     "output_type": "stream",
     "text": [
      "Early stopping at epoch 24\n"
     ]
    },
    {
     "name": "stderr",
     "output_type": "stream",
     "text": [
      "[I 2024-09-12 10:22:18,315] Trial 92 finished with value: 0.0315643846988678 and parameters: {'out_channels': 59, 'kernel_size': 5, 'num_blocks': 3, 'l2_lambda': 0.005546365142324841, 'dropout_rate': 0.3807747975581435, 'epochs': 50, 'lr': 0.0023016000137767332}. Best is trial 70 with value: 0.012460164725780487.\n"
     ]
    },
    {
     "name": "stdout",
     "output_type": "stream",
     "text": [
      "Early stopping at epoch 34\n"
     ]
    },
    {
     "name": "stderr",
     "output_type": "stream",
     "text": [
      "[I 2024-09-12 10:22:20,507] Trial 93 finished with value: 0.034636422991752625 and parameters: {'out_channels': 54, 'kernel_size': 5, 'num_blocks': 4, 'l2_lambda': 0.0065419866034005635, 'dropout_rate': 0.3446730726243636, 'epochs': 43, 'lr': 0.008909913624821693}. Best is trial 70 with value: 0.012460164725780487.\n"
     ]
    },
    {
     "name": "stdout",
     "output_type": "stream",
     "text": [
      "Early stopping at epoch 24\n"
     ]
    },
    {
     "name": "stderr",
     "output_type": "stream",
     "text": [
      "[I 2024-09-12 10:22:22,960] Trial 94 finished with value: 0.03322390094399452 and parameters: {'out_channels': 63, 'kernel_size': 5, 'num_blocks': 3, 'l2_lambda': 0.00717568926509362, 'dropout_rate': 0.2732326634041685, 'epochs': 38, 'lr': 0.0009350427432231563}. Best is trial 70 with value: 0.012460164725780487.\n",
      "[I 2024-09-12 10:22:24,925] Trial 95 finished with value: 0.05429420620203018 and parameters: {'out_channels': 49, 'kernel_size': 5, 'num_blocks': 3, 'l2_lambda': 0.006108096188098295, 'dropout_rate': 0.4170592345187417, 'epochs': 59, 'lr': 0.008152110797405505}. Best is trial 70 with value: 0.012460164725780487.\n"
     ]
    },
    {
     "name": "stdout",
     "output_type": "stream",
     "text": [
      "Early stopping at epoch 30\n"
     ]
    },
    {
     "name": "stderr",
     "output_type": "stream",
     "text": [
      "[I 2024-09-12 10:22:28,060] Trial 96 finished with value: 0.05074254423379898 and parameters: {'out_channels': 57, 'kernel_size': 4, 'num_blocks': 4, 'l2_lambda': 0.003907268805926331, 'dropout_rate': 0.39536962189165287, 'epochs': 46, 'lr': 0.001495624660936111}. Best is trial 70 with value: 0.012460164725780487.\n"
     ]
    },
    {
     "name": "stdout",
     "output_type": "stream",
     "text": [
      "Early stopping at epoch 33\n"
     ]
    },
    {
     "name": "stderr",
     "output_type": "stream",
     "text": [
      "[I 2024-09-12 10:22:29,018] Trial 97 finished with value: 0.09512709826231003 and parameters: {'out_channels': 46, 'kernel_size': 5, 'num_blocks': 3, 'l2_lambda': 0.007861889170963096, 'dropout_rate': 0.37406297800405713, 'epochs': 48, 'lr': 0.0006184231213911326}. Best is trial 70 with value: 0.012460164725780487.\n"
     ]
    },
    {
     "name": "stdout",
     "output_type": "stream",
     "text": [
      "Early stopping at epoch 13\n"
     ]
    },
    {
     "name": "stderr",
     "output_type": "stream",
     "text": [
      "[I 2024-09-12 10:22:30,616] Trial 98 finished with value: 0.013939108699560165 and parameters: {'out_channels': 81, 'kernel_size': 5, 'num_blocks': 2, 'l2_lambda': 0.007323225706556335, 'dropout_rate': 0.3029903263053886, 'epochs': 29, 'lr': 0.005614051314707255}. Best is trial 70 with value: 0.012460164725780487.\n",
      "[I 2024-09-12 10:22:31,345] Trial 99 finished with value: 0.30920228362083435 and parameters: {'out_channels': 81, 'kernel_size': 5, 'num_blocks': 2, 'l2_lambda': 0.007533171165100842, 'dropout_rate': 0.2416480390899309, 'epochs': 29, 'lr': 0.006449723272383341}. Best is trial 70 with value: 0.012460164725780487.\n",
      "[I 2024-09-12 10:22:31,394] A new study created in memory with name: no-name-8bfc546e-4fdd-4538-93f5-45b30853ca9f\n"
     ]
    },
    {
     "name": "stdout",
     "output_type": "stream",
     "text": [
      "Early stopping at epoch 12\n",
      "parameters for USDSGD=X saved to ../models/best-hyperparameters/pytorch/conv1d-regression/USDSGD=X.json\n",
      "Best model for USDSGD=X saved with RMSE: 0.012460164725780487\n",
      "Deleted USDSGD=X from ../models/hyperparameters-search-models/ticker-all-models-best-hyperparameters-list.csv\n"
     ]
    },
    {
     "name": "stderr",
     "output_type": "stream",
     "text": [
      "[I 2024-09-12 10:22:31,712] Trial 0 finished with value: 0.55 and parameters: {'sequence_length': 30, 'hidden_size': 121, 'num_layers': 2, 'num_blocks': 1, 'dropout_rate': 0.48225759043083183, 'epochs': 187, 'lr': 0.005421720052675766}. Best is trial 0 with value: 0.55.\n"
     ]
    },
    {
     "name": "stdout",
     "output_type": "stream",
     "text": [
      "Early stopping at epoch 10\n"
     ]
    },
    {
     "name": "stderr",
     "output_type": "stream",
     "text": [
      "[I 2024-09-12 10:22:32,279] Trial 1 finished with value: 0.5737704918032787 and parameters: {'sequence_length': 20, 'hidden_size': 70, 'num_layers': 1, 'num_blocks': 5, 'dropout_rate': 0.4942014238648461, 'epochs': 667, 'lr': 0.001534561576979211}. Best is trial 1 with value: 0.5737704918032787.\n"
     ]
    },
    {
     "name": "stdout",
     "output_type": "stream",
     "text": [
      "Early stopping at epoch 10\n"
     ]
    },
    {
     "name": "stderr",
     "output_type": "stream",
     "text": [
      "[I 2024-09-12 10:22:32,965] Trial 2 finished with value: 0.532258064516129 and parameters: {'sequence_length': 7, 'hidden_size': 80, 'num_layers': 2, 'num_blocks': 4, 'dropout_rate': 0.14770092853939054, 'epochs': 788, 'lr': 0.0024805550376369567}. Best is trial 1 with value: 0.5737704918032787.\n"
     ]
    },
    {
     "name": "stdout",
     "output_type": "stream",
     "text": [
      "Early stopping at epoch 13\n"
     ]
    },
    {
     "name": "stderr",
     "output_type": "stream",
     "text": [
      "[I 2024-09-12 10:22:34,042] Trial 3 finished with value: 0.5806451612903226 and parameters: {'sequence_length': 7, 'hidden_size': 75, 'num_layers': 3, 'num_blocks': 5, 'dropout_rate': 0.26611347700800914, 'epochs': 172, 'lr': 0.009993036020446827}. Best is trial 3 with value: 0.5806451612903226.\n"
     ]
    },
    {
     "name": "stdout",
     "output_type": "stream",
     "text": [
      "Early stopping at epoch 16\n"
     ]
    },
    {
     "name": "stderr",
     "output_type": "stream",
     "text": [
      "[I 2024-09-12 10:22:34,654] Trial 4 finished with value: 0.639344262295082 and parameters: {'sequence_length': 20, 'hidden_size': 105, 'num_layers': 3, 'num_blocks': 2, 'dropout_rate': 0.3437672735416693, 'epochs': 104, 'lr': 0.0033599955926597695}. Best is trial 4 with value: 0.639344262295082.\n"
     ]
    },
    {
     "name": "stdout",
     "output_type": "stream",
     "text": [
      "Early stopping at epoch 13\n"
     ]
    },
    {
     "name": "stderr",
     "output_type": "stream",
     "text": [
      "[I 2024-09-12 10:22:35,218] Trial 5 finished with value: 0.532258064516129 and parameters: {'sequence_length': 14, 'hidden_size': 78, 'num_layers': 1, 'num_blocks': 5, 'dropout_rate': 0.15156066109980998, 'epochs': 858, 'lr': 0.006423938146355318}. Best is trial 4 with value: 0.639344262295082.\n"
     ]
    },
    {
     "name": "stdout",
     "output_type": "stream",
     "text": [
      "Early stopping at epoch 10\n"
     ]
    },
    {
     "name": "stderr",
     "output_type": "stream",
     "text": [
      "[I 2024-09-12 10:22:36,068] Trial 6 finished with value: 0.5967741935483871 and parameters: {'sequence_length': 5, 'hidden_size': 85, 'num_layers': 2, 'num_blocks': 3, 'dropout_rate': 0.15046963984774384, 'epochs': 869, 'lr': 0.004112999931917089}. Best is trial 4 with value: 0.639344262295082.\n"
     ]
    },
    {
     "name": "stdout",
     "output_type": "stream",
     "text": [
      "Early stopping at epoch 22\n"
     ]
    },
    {
     "name": "stderr",
     "output_type": "stream",
     "text": [
      "[I 2024-09-12 10:22:36,919] Trial 7 finished with value: 0.5645161290322581 and parameters: {'sequence_length': 7, 'hidden_size': 50, 'num_layers': 2, 'num_blocks': 5, 'dropout_rate': 0.21596365190821099, 'epochs': 191, 'lr': 0.007801497615181849}. Best is trial 4 with value: 0.639344262295082.\n"
     ]
    },
    {
     "name": "stdout",
     "output_type": "stream",
     "text": [
      "Early stopping at epoch 13\n"
     ]
    },
    {
     "name": "stderr",
     "output_type": "stream",
     "text": [
      "[I 2024-09-12 10:22:37,588] Trial 8 finished with value: 0.55 and parameters: {'sequence_length': 30, 'hidden_size': 26, 'num_layers': 1, 'num_blocks': 4, 'dropout_rate': 0.4818549369824612, 'epochs': 335, 'lr': 0.009718970491917315}. Best is trial 4 with value: 0.639344262295082.\n"
     ]
    },
    {
     "name": "stdout",
     "output_type": "stream",
     "text": [
      "Early stopping at epoch 13\n"
     ]
    },
    {
     "name": "stderr",
     "output_type": "stream",
     "text": [
      "[I 2024-09-12 10:22:38,318] Trial 9 finished with value: 0.55 and parameters: {'sequence_length': 30, 'hidden_size': 32, 'num_layers': 3, 'num_blocks': 4, 'dropout_rate': 0.22591144586521783, 'epochs': 704, 'lr': 0.009755590029572164}. Best is trial 4 with value: 0.639344262295082.\n"
     ]
    },
    {
     "name": "stdout",
     "output_type": "stream",
     "text": [
      "Early stopping at epoch 10\n"
     ]
    },
    {
     "name": "stderr",
     "output_type": "stream",
     "text": [
      "[I 2024-09-12 10:22:38,909] Trial 10 finished with value: 0.6721311475409836 and parameters: {'sequence_length': 20, 'hidden_size': 108, 'num_layers': 3, 'num_blocks': 1, 'dropout_rate': 0.37628823874501105, 'epochs': 463, 'lr': 0.0033837688109345297}. Best is trial 10 with value: 0.6721311475409836.\n"
     ]
    },
    {
     "name": "stdout",
     "output_type": "stream",
     "text": [
      "Early stopping at epoch 16\n"
     ]
    },
    {
     "name": "stderr",
     "output_type": "stream",
     "text": [
      "[I 2024-09-12 10:22:39,325] Trial 11 finished with value: 0.6557377049180327 and parameters: {'sequence_length': 20, 'hidden_size': 118, 'num_layers': 3, 'num_blocks': 1, 'dropout_rate': 0.367982579193606, 'epochs': 442, 'lr': 0.0033710504639569293}. Best is trial 10 with value: 0.6721311475409836.\n"
     ]
    },
    {
     "name": "stdout",
     "output_type": "stream",
     "text": [
      "Early stopping at epoch 12\n"
     ]
    },
    {
     "name": "stderr",
     "output_type": "stream",
     "text": [
      "[I 2024-09-12 10:22:39,797] Trial 12 finished with value: 0.7049180327868853 and parameters: {'sequence_length': 20, 'hidden_size': 128, 'num_layers': 3, 'num_blocks': 1, 'dropout_rate': 0.37614935425219326, 'epochs': 463, 'lr': 0.0005376205428292589}. Best is trial 12 with value: 0.7049180327868853.\n"
     ]
    },
    {
     "name": "stdout",
     "output_type": "stream",
     "text": [
      "Early stopping at epoch 14\n"
     ]
    },
    {
     "name": "stderr",
     "output_type": "stream",
     "text": [
      "[I 2024-09-12 10:22:40,542] Trial 13 finished with value: 0.6065573770491803 and parameters: {'sequence_length': 20, 'hidden_size': 128, 'num_layers': 3, 'num_blocks': 2, 'dropout_rate': 0.39705848286357004, 'epochs': 519, 'lr': 1.4080948713240428e-05}. Best is trial 12 with value: 0.7049180327868853.\n"
     ]
    },
    {
     "name": "stdout",
     "output_type": "stream",
     "text": [
      "Early stopping at epoch 17\n"
     ]
    },
    {
     "name": "stderr",
     "output_type": "stream",
     "text": [
      "[I 2024-09-12 10:22:41,207] Trial 14 finished with value: 0.7213114754098361 and parameters: {'sequence_length': 20, 'hidden_size': 101, 'num_layers': 3, 'num_blocks': 2, 'dropout_rate': 0.42023325073037104, 'epochs': 373, 'lr': 0.0004859619238518076}. Best is trial 14 with value: 0.7213114754098361.\n"
     ]
    },
    {
     "name": "stdout",
     "output_type": "stream",
     "text": [
      "Early stopping at epoch 16\n"
     ]
    },
    {
     "name": "stderr",
     "output_type": "stream",
     "text": [
      "[I 2024-09-12 10:22:41,693] Trial 15 finished with value: 0.5161290322580645 and parameters: {'sequence_length': 14, 'hidden_size': 98, 'num_layers': 3, 'num_blocks': 2, 'dropout_rate': 0.427639068853772, 'epochs': 365, 'lr': 1.5756180881688225e-05}. Best is trial 14 with value: 0.7213114754098361.\n"
     ]
    },
    {
     "name": "stdout",
     "output_type": "stream",
     "text": [
      "Early stopping at epoch 10\n"
     ]
    },
    {
     "name": "stderr",
     "output_type": "stream",
     "text": [
      "[I 2024-09-12 10:22:42,150] Trial 16 finished with value: 0.5967741935483871 and parameters: {'sequence_length': 5, 'hidden_size': 93, 'num_layers': 2, 'num_blocks': 2, 'dropout_rate': 0.3169575916262922, 'epochs': 600, 'lr': 0.0013155750620324886}. Best is trial 14 with value: 0.7213114754098361.\n"
     ]
    },
    {
     "name": "stdout",
     "output_type": "stream",
     "text": [
      "Early stopping at epoch 12\n"
     ]
    },
    {
     "name": "stderr",
     "output_type": "stream",
     "text": [
      "[I 2024-09-12 10:22:43,062] Trial 17 finished with value: 0.639344262295082 and parameters: {'sequence_length': 20, 'hidden_size': 113, 'num_layers': 3, 'num_blocks': 3, 'dropout_rate': 0.4151718690393322, 'epochs': 327, 'lr': 0.0014034929910563482}. Best is trial 14 with value: 0.7213114754098361.\n"
     ]
    },
    {
     "name": "stdout",
     "output_type": "stream",
     "text": [
      "Early stopping at epoch 16\n"
     ]
    },
    {
     "name": "stderr",
     "output_type": "stream",
     "text": [
      "[I 2024-09-12 10:22:43,509] Trial 18 finished with value: 0.6065573770491803 and parameters: {'sequence_length': 20, 'hidden_size': 62, 'num_layers': 3, 'num_blocks': 1, 'dropout_rate': 0.4390240691518694, 'epochs': 995, 'lr': 0.0021018643321488047}. Best is trial 14 with value: 0.7213114754098361.\n"
     ]
    },
    {
     "name": "stdout",
     "output_type": "stream",
     "text": [
      "Early stopping at epoch 15\n"
     ]
    },
    {
     "name": "stderr",
     "output_type": "stream",
     "text": [
      "[I 2024-09-12 10:22:44,264] Trial 19 finished with value: 0.6065573770491803 and parameters: {'sequence_length': 20, 'hidden_size': 128, 'num_layers': 2, 'num_blocks': 3, 'dropout_rate': 0.3129248382554526, 'epochs': 274, 'lr': 0.0009111944643426977}. Best is trial 14 with value: 0.7213114754098361.\n"
     ]
    },
    {
     "name": "stdout",
     "output_type": "stream",
     "text": [
      "Early stopping at epoch 16\n"
     ]
    },
    {
     "name": "stderr",
     "output_type": "stream",
     "text": [
      "[I 2024-09-12 10:22:44,878] Trial 20 finished with value: 0.5806451612903226 and parameters: {'sequence_length': 5, 'hidden_size': 98, 'num_layers': 2, 'num_blocks': 2, 'dropout_rate': 0.2646141317223293, 'epochs': 558, 'lr': 0.004632105233162036}. Best is trial 14 with value: 0.7213114754098361.\n"
     ]
    },
    {
     "name": "stdout",
     "output_type": "stream",
     "text": [
      "Early stopping at epoch 17\n"
     ]
    },
    {
     "name": "stderr",
     "output_type": "stream",
     "text": [
      "[I 2024-09-12 10:22:45,483] Trial 21 finished with value: 0.6721311475409836 and parameters: {'sequence_length': 20, 'hidden_size': 108, 'num_layers': 3, 'num_blocks': 1, 'dropout_rate': 0.371947228370769, 'epochs': 470, 'lr': 0.002736228478354424}. Best is trial 14 with value: 0.7213114754098361.\n"
     ]
    },
    {
     "name": "stdout",
     "output_type": "stream",
     "text": [
      "Early stopping at epoch 21\n"
     ]
    },
    {
     "name": "stderr",
     "output_type": "stream",
     "text": [
      "[I 2024-09-12 10:22:46,238] Trial 22 finished with value: 0.6721311475409836 and parameters: {'sequence_length': 20, 'hidden_size': 109, 'num_layers': 3, 'num_blocks': 1, 'dropout_rate': 0.4536338963163777, 'epochs': 425, 'lr': 0.005897323303435326}. Best is trial 14 with value: 0.7213114754098361.\n"
     ]
    },
    {
     "name": "stdout",
     "output_type": "stream",
     "text": [
      "Early stopping at epoch 26\n"
     ]
    },
    {
     "name": "stderr",
     "output_type": "stream",
     "text": [
      "[I 2024-09-12 10:22:46,846] Trial 23 finished with value: 0.5901639344262295 and parameters: {'sequence_length': 20, 'hidden_size': 92, 'num_layers': 3, 'num_blocks': 1, 'dropout_rate': 0.3871711496993471, 'epochs': 397, 'lr': 0.0007528515312772349}. Best is trial 14 with value: 0.7213114754098361.\n"
     ]
    },
    {
     "name": "stdout",
     "output_type": "stream",
     "text": [
      "Early stopping at epoch 20\n"
     ]
    },
    {
     "name": "stderr",
     "output_type": "stream",
     "text": [
      "[I 2024-09-12 10:22:47,448] Trial 24 finished with value: 0.5483870967741935 and parameters: {'sequence_length': 14, 'hidden_size': 119, 'num_layers': 3, 'num_blocks': 2, 'dropout_rate': 0.35632794048451744, 'epochs': 261, 'lr': 0.003584786664305369}. Best is trial 14 with value: 0.7213114754098361.\n"
     ]
    },
    {
     "name": "stdout",
     "output_type": "stream",
     "text": [
      "Early stopping at epoch 13\n"
     ]
    },
    {
     "name": "stderr",
     "output_type": "stream",
     "text": [
      "[I 2024-09-12 10:22:47,832] Trial 25 finished with value: 0.639344262295082 and parameters: {'sequence_length': 20, 'hidden_size': 128, 'num_layers': 3, 'num_blocks': 1, 'dropout_rate': 0.4096931519506369, 'epochs': 505, 'lr': 0.0021111955392344277}. Best is trial 14 with value: 0.7213114754098361.\n"
     ]
    },
    {
     "name": "stdout",
     "output_type": "stream",
     "text": [
      "Early stopping at epoch 10\n"
     ]
    },
    {
     "name": "stderr",
     "output_type": "stream",
     "text": [
      "[I 2024-09-12 10:22:48,651] Trial 26 finished with value: 0.6557377049180327 and parameters: {'sequence_length': 20, 'hidden_size': 105, 'num_layers': 3, 'num_blocks': 2, 'dropout_rate': 0.33551317985316975, 'epochs': 586, 'lr': 0.007380132981559432}. Best is trial 14 with value: 0.7213114754098361.\n"
     ]
    },
    {
     "name": "stdout",
     "output_type": "stream",
     "text": [
      "Early stopping at epoch 20\n"
     ]
    },
    {
     "name": "stderr",
     "output_type": "stream",
     "text": [
      "[I 2024-09-12 10:22:49,049] Trial 27 finished with value: 0.6065573770491803 and parameters: {'sequence_length': 20, 'hidden_size': 115, 'num_layers': 2, 'num_blocks': 1, 'dropout_rate': 0.2753027561179646, 'epochs': 279, 'lr': 0.000427489306907489}. Best is trial 14 with value: 0.7213114754098361.\n"
     ]
    },
    {
     "name": "stdout",
     "output_type": "stream",
     "text": [
      "Early stopping at epoch 13\n"
     ]
    },
    {
     "name": "stderr",
     "output_type": "stream",
     "text": [
      "[I 2024-09-12 10:22:49,659] Trial 28 finished with value: 0.6229508196721312 and parameters: {'sequence_length': 20, 'hidden_size': 88, 'num_layers': 3, 'num_blocks': 2, 'dropout_rate': 0.4593657389861445, 'epochs': 473, 'lr': 0.0028484775618409586}. Best is trial 14 with value: 0.7213114754098361.\n"
     ]
    },
    {
     "name": "stdout",
     "output_type": "stream",
     "text": [
      "Early stopping at epoch 15\n"
     ]
    },
    {
     "name": "stderr",
     "output_type": "stream",
     "text": [
      "[I 2024-09-12 10:22:50,032] Trial 29 finished with value: 0.55 and parameters: {'sequence_length': 30, 'hidden_size': 101, 'num_layers': 3, 'num_blocks': 1, 'dropout_rate': 0.3880248681776961, 'epochs': 621, 'lr': 0.005350657592453517}. Best is trial 14 with value: 0.7213114754098361.\n"
     ]
    },
    {
     "name": "stdout",
     "output_type": "stream",
     "text": [
      "Early stopping at epoch 10\n"
     ]
    },
    {
     "name": "stderr",
     "output_type": "stream",
     "text": [
      "[I 2024-09-12 10:22:50,615] Trial 30 finished with value: 0.5806451612903226 and parameters: {'sequence_length': 5, 'hidden_size': 120, 'num_layers': 3, 'num_blocks': 1, 'dropout_rate': 0.4714368947191029, 'epochs': 392, 'lr': 0.00439994445596725}. Best is trial 14 with value: 0.7213114754098361.\n"
     ]
    },
    {
     "name": "stdout",
     "output_type": "stream",
     "text": [
      "Early stopping at epoch 21\n"
     ]
    },
    {
     "name": "stderr",
     "output_type": "stream",
     "text": [
      "[I 2024-09-12 10:22:51,747] Trial 31 finished with value: 0.7213114754098361 and parameters: {'sequence_length': 20, 'hidden_size': 107, 'num_layers': 3, 'num_blocks': 1, 'dropout_rate': 0.3719566182134792, 'epochs': 489, 'lr': 0.0019604925109335996}. Best is trial 14 with value: 0.7213114754098361.\n"
     ]
    },
    {
     "name": "stdout",
     "output_type": "stream",
     "text": [
      "Early stopping at epoch 41\n"
     ]
    },
    {
     "name": "stderr",
     "output_type": "stream",
     "text": [
      "[I 2024-09-12 10:22:52,198] Trial 32 finished with value: 0.5737704918032787 and parameters: {'sequence_length': 20, 'hidden_size': 112, 'num_layers': 3, 'num_blocks': 1, 'dropout_rate': 0.3292285918703205, 'epochs': 655, 'lr': 0.0018291913714115593}. Best is trial 14 with value: 0.7213114754098361.\n"
     ]
    },
    {
     "name": "stdout",
     "output_type": "stream",
     "text": [
      "Early stopping at epoch 14\n"
     ]
    },
    {
     "name": "stderr",
     "output_type": "stream",
     "text": [
      "[I 2024-09-12 10:22:52,574] Trial 33 finished with value: 0.6229508196721312 and parameters: {'sequence_length': 20, 'hidden_size': 64, 'num_layers': 3, 'num_blocks': 1, 'dropout_rate': 0.298380374660981, 'epochs': 502, 'lr': 0.0012016645040445022}. Best is trial 14 with value: 0.7213114754098361.\n"
     ]
    },
    {
     "name": "stdout",
     "output_type": "stream",
     "text": [
      "Early stopping at epoch 11\n"
     ]
    },
    {
     "name": "stderr",
     "output_type": "stream",
     "text": [
      "[I 2024-09-12 10:22:53,178] Trial 34 finished with value: 0.6451612903225806 and parameters: {'sequence_length': 7, 'hidden_size': 121, 'num_layers': 2, 'num_blocks': 2, 'dropout_rate': 0.4371964469567163, 'epochs': 725, 'lr': 0.0005996298987356841}. Best is trial 14 with value: 0.7213114754098361.\n"
     ]
    },
    {
     "name": "stdout",
     "output_type": "stream",
     "text": [
      "Early stopping at epoch 15\n"
     ]
    },
    {
     "name": "stderr",
     "output_type": "stream",
     "text": [
      "[I 2024-09-12 10:22:53,746] Trial 35 finished with value: 0.6229508196721312 and parameters: {'sequence_length': 20, 'hidden_size': 103, 'num_layers': 1, 'num_blocks': 1, 'dropout_rate': 0.4986264300190524, 'epochs': 532, 'lr': 0.0025769203397853044}. Best is trial 14 with value: 0.7213114754098361.\n"
     ]
    },
    {
     "name": "stdout",
     "output_type": "stream",
     "text": [
      "Early stopping at epoch 23\n"
     ]
    },
    {
     "name": "stderr",
     "output_type": "stream",
     "text": [
      "[I 2024-09-12 10:22:54,618] Trial 36 finished with value: 0.6229508196721312 and parameters: {'sequence_length': 20, 'hidden_size': 84, 'num_layers': 3, 'num_blocks': 2, 'dropout_rate': 0.3578042734867722, 'epochs': 446, 'lr': 0.0018603986882262094}. Best is trial 14 with value: 0.7213114754098361.\n"
     ]
    },
    {
     "name": "stdout",
     "output_type": "stream",
     "text": [
      "Early stopping at epoch 18\n"
     ]
    },
    {
     "name": "stderr",
     "output_type": "stream",
     "text": [
      "[I 2024-09-12 10:22:55,311] Trial 37 finished with value: 0.5645161290322581 and parameters: {'sequence_length': 14, 'hidden_size': 95, 'num_layers': 3, 'num_blocks': 3, 'dropout_rate': 0.40041458623798826, 'epochs': 221, 'lr': 0.00364152121711371}. Best is trial 14 with value: 0.7213114754098361.\n"
     ]
    },
    {
     "name": "stdout",
     "output_type": "stream",
     "text": [
      "Early stopping at epoch 12\n"
     ]
    },
    {
     "name": "stderr",
     "output_type": "stream",
     "text": [
      "[I 2024-09-12 10:22:55,713] Trial 38 finished with value: 0.5806451612903226 and parameters: {'sequence_length': 7, 'hidden_size': 70, 'num_layers': 2, 'num_blocks': 1, 'dropout_rate': 0.37811519355191625, 'epochs': 342, 'lr': 0.0030528354681459945}. Best is trial 14 with value: 0.7213114754098361.\n"
     ]
    },
    {
     "name": "stdout",
     "output_type": "stream",
     "text": [
      "Early stopping at epoch 14\n"
     ]
    },
    {
     "name": "stderr",
     "output_type": "stream",
     "text": [
      "[I 2024-09-12 10:22:56,337] Trial 39 finished with value: 0.55 and parameters: {'sequence_length': 30, 'hidden_size': 123, 'num_layers': 3, 'num_blocks': 2, 'dropout_rate': 0.4189351624393756, 'epochs': 118, 'lr': 0.0023407971929714816}. Best is trial 14 with value: 0.7213114754098361.\n"
     ]
    },
    {
     "name": "stdout",
     "output_type": "stream",
     "text": [
      "Early stopping at epoch 11\n"
     ]
    },
    {
     "name": "stderr",
     "output_type": "stream",
     "text": [
      "[I 2024-09-12 10:22:57,400] Trial 40 finished with value: 0.5901639344262295 and parameters: {'sequence_length': 20, 'hidden_size': 50, 'num_layers': 3, 'num_blocks': 3, 'dropout_rate': 0.35224695936868705, 'epochs': 564, 'lr': 0.0016103630039434604}. Best is trial 14 with value: 0.7213114754098361.\n"
     ]
    },
    {
     "name": "stdout",
     "output_type": "stream",
     "text": [
      "Early stopping at epoch 22\n"
     ]
    },
    {
     "name": "stderr",
     "output_type": "stream",
     "text": [
      "[I 2024-09-12 10:22:57,853] Trial 41 finished with value: 0.639344262295082 and parameters: {'sequence_length': 20, 'hidden_size': 109, 'num_layers': 3, 'num_blocks': 1, 'dropout_rate': 0.10081571616444138, 'epochs': 463, 'lr': 0.0040037485056371065}. Best is trial 14 with value: 0.7213114754098361.\n"
     ]
    },
    {
     "name": "stdout",
     "output_type": "stream",
     "text": [
      "Early stopping at epoch 14\n"
     ]
    },
    {
     "name": "stderr",
     "output_type": "stream",
     "text": [
      "[I 2024-09-12 10:22:58,497] Trial 42 finished with value: 0.5901639344262295 and parameters: {'sequence_length': 20, 'hidden_size': 107, 'num_layers': 3, 'num_blocks': 1, 'dropout_rate': 0.3732215072752536, 'epochs': 402, 'lr': 0.0029051343738025937}. Best is trial 14 with value: 0.7213114754098361.\n"
     ]
    },
    {
     "name": "stdout",
     "output_type": "stream",
     "text": [
      "Early stopping at epoch 21\n"
     ]
    },
    {
     "name": "stderr",
     "output_type": "stream",
     "text": [
      "[I 2024-09-12 10:22:58,964] Trial 43 finished with value: 0.6885245901639344 and parameters: {'sequence_length': 20, 'hidden_size': 78, 'num_layers': 3, 'num_blocks': 1, 'dropout_rate': 0.2990254438067433, 'epochs': 489, 'lr': 0.001076940764145265}. Best is trial 14 with value: 0.7213114754098361.\n"
     ]
    },
    {
     "name": "stdout",
     "output_type": "stream",
     "text": [
      "Early stopping at epoch 14\n"
     ]
    },
    {
     "name": "stderr",
     "output_type": "stream",
     "text": [
      "[I 2024-09-12 10:22:59,658] Trial 44 finished with value: 0.5737704918032787 and parameters: {'sequence_length': 20, 'hidden_size': 78, 'num_layers': 3, 'num_blocks': 4, 'dropout_rate': 0.2932864980095548, 'epochs': 323, 'lr': 0.00036953494701512623}. Best is trial 14 with value: 0.7213114754098361.\n"
     ]
    },
    {
     "name": "stdout",
     "output_type": "stream",
     "text": [
      "Early stopping at epoch 10\n"
     ]
    },
    {
     "name": "stderr",
     "output_type": "stream",
     "text": [
      "[I 2024-09-12 10:22:59,980] Trial 45 finished with value: 0.5806451612903226 and parameters: {'sequence_length': 7, 'hidden_size': 86, 'num_layers': 3, 'num_blocks': 1, 'dropout_rate': 0.23710372371370758, 'epochs': 376, 'lr': 0.0010380573096326197}. Best is trial 14 with value: 0.7213114754098361.\n"
     ]
    },
    {
     "name": "stdout",
     "output_type": "stream",
     "text": [
      "Early stopping at epoch 10\n"
     ]
    },
    {
     "name": "stderr",
     "output_type": "stream",
     "text": [
      "[I 2024-09-12 10:23:00,365] Trial 46 finished with value: 0.5737704918032787 and parameters: {'sequence_length': 20, 'hidden_size': 43, 'num_layers': 1, 'num_blocks': 2, 'dropout_rate': 0.3363720126291135, 'epochs': 494, 'lr': 0.00029506012763518246}. Best is trial 14 with value: 0.7213114754098361.\n"
     ]
    },
    {
     "name": "stdout",
     "output_type": "stream",
     "text": [
      "Early stopping at epoch 10\n"
     ]
    },
    {
     "name": "stderr",
     "output_type": "stream",
     "text": [
      "[I 2024-09-12 10:23:00,732] Trial 47 finished with value: 0.5806451612903226 and parameters: {'sequence_length': 14, 'hidden_size': 74, 'num_layers': 3, 'num_blocks': 1, 'dropout_rate': 0.1988282391091765, 'epochs': 653, 'lr': 0.001558939009361882}. Best is trial 14 with value: 0.7213114754098361.\n"
     ]
    },
    {
     "name": "stdout",
     "output_type": "stream",
     "text": [
      "Early stopping at epoch 11\n"
     ]
    },
    {
     "name": "stderr",
     "output_type": "stream",
     "text": [
      "[I 2024-09-12 10:23:01,687] Trial 48 finished with value: 0.5833333333333334 and parameters: {'sequence_length': 30, 'hidden_size': 115, 'num_layers': 3, 'num_blocks': 2, 'dropout_rate': 0.2780182369064829, 'epochs': 428, 'lr': 0.0010283578376704952}. Best is trial 14 with value: 0.7213114754098361.\n"
     ]
    },
    {
     "name": "stdout",
     "output_type": "stream",
     "text": [
      "Early stopping at epoch 20\n"
     ]
    },
    {
     "name": "stderr",
     "output_type": "stream",
     "text": [
      "[I 2024-09-12 10:23:02,164] Trial 49 finished with value: 0.5645161290322581 and parameters: {'sequence_length': 5, 'hidden_size': 17, 'num_layers': 2, 'num_blocks': 1, 'dropout_rate': 0.31389841630785426, 'epochs': 549, 'lr': 0.009091545562402412}. Best is trial 14 with value: 0.7213114754098361.\n"
     ]
    },
    {
     "name": "stdout",
     "output_type": "stream",
     "text": [
      "Early stopping at epoch 17\n"
     ]
    },
    {
     "name": "stderr",
     "output_type": "stream",
     "text": [
      "[I 2024-09-12 10:23:03,082] Trial 50 finished with value: 0.6065573770491803 and parameters: {'sequence_length': 20, 'hidden_size': 80, 'num_layers': 3, 'num_blocks': 2, 'dropout_rate': 0.4019348456903713, 'epochs': 304, 'lr': 0.0023211119585096664}. Best is trial 14 with value: 0.7213114754098361.\n"
     ]
    },
    {
     "name": "stdout",
     "output_type": "stream",
     "text": [
      "Early stopping at epoch 22\n"
     ]
    },
    {
     "name": "stderr",
     "output_type": "stream",
     "text": [
      "[I 2024-09-12 10:23:03,599] Trial 51 finished with value: 0.6065573770491803 and parameters: {'sequence_length': 20, 'hidden_size': 100, 'num_layers': 3, 'num_blocks': 1, 'dropout_rate': 0.3739138648041456, 'epochs': 459, 'lr': 0.0018134954729003769}. Best is trial 14 with value: 0.7213114754098361.\n"
     ]
    },
    {
     "name": "stdout",
     "output_type": "stream",
     "text": [
      "Early stopping at epoch 17\n"
     ]
    },
    {
     "name": "stderr",
     "output_type": "stream",
     "text": [
      "[I 2024-09-12 10:23:04,209] Trial 52 finished with value: 0.639344262295082 and parameters: {'sequence_length': 20, 'hidden_size': 91, 'num_layers': 3, 'num_blocks': 1, 'dropout_rate': 0.4366627019512462, 'epochs': 481, 'lr': 0.0026109279688475693}. Best is trial 14 with value: 0.7213114754098361.\n"
     ]
    },
    {
     "name": "stdout",
     "output_type": "stream",
     "text": [
      "Early stopping at epoch 20\n"
     ]
    },
    {
     "name": "stderr",
     "output_type": "stream",
     "text": [
      "[I 2024-09-12 10:23:04,831] Trial 53 finished with value: 0.7213114754098361 and parameters: {'sequence_length': 20, 'hidden_size': 124, 'num_layers': 3, 'num_blocks': 1, 'dropout_rate': 0.24990479837020577, 'epochs': 362, 'lr': 7.856863059159923e-05}. Best is trial 14 with value: 0.7213114754098361.\n"
     ]
    },
    {
     "name": "stdout",
     "output_type": "stream",
     "text": [
      "Early stopping at epoch 20\n"
     ]
    },
    {
     "name": "stderr",
     "output_type": "stream",
     "text": [
      "[I 2024-09-12 10:23:05,338] Trial 54 finished with value: 0.639344262295082 and parameters: {'sequence_length': 20, 'hidden_size': 125, 'num_layers': 3, 'num_blocks': 1, 'dropout_rate': 0.2585157146297387, 'epochs': 346, 'lr': 0.00066100743440149}. Best is trial 14 with value: 0.7213114754098361.\n"
     ]
    },
    {
     "name": "stdout",
     "output_type": "stream",
     "text": [
      "Early stopping at epoch 14\n"
     ]
    },
    {
     "name": "stderr",
     "output_type": "stream",
     "text": [
      "[I 2024-09-12 10:23:05,715] Trial 55 finished with value: 0.6229508196721312 and parameters: {'sequence_length': 20, 'hidden_size': 116, 'num_layers': 3, 'num_blocks': 1, 'dropout_rate': 0.19505490394303654, 'epochs': 415, 'lr': 0.00021338489833902595}. Best is trial 14 with value: 0.7213114754098361.\n"
     ]
    },
    {
     "name": "stdout",
     "output_type": "stream",
     "text": [
      "Early stopping at epoch 10\n"
     ]
    },
    {
     "name": "stderr",
     "output_type": "stream",
     "text": [
      "[I 2024-09-12 10:23:06,084] Trial 56 finished with value: 0.4426229508196721 and parameters: {'sequence_length': 20, 'hidden_size': 124, 'num_layers': 3, 'num_blocks': 1, 'dropout_rate': 0.233553696331722, 'epochs': 361, 'lr': 3.46040278904491e-05}. Best is trial 14 with value: 0.7213114754098361.\n"
     ]
    },
    {
     "name": "stdout",
     "output_type": "stream",
     "text": [
      "Early stopping at epoch 10\n"
     ]
    },
    {
     "name": "stderr",
     "output_type": "stream",
     "text": [
      "[I 2024-09-12 10:23:07,281] Trial 57 finished with value: 0.6721311475409836 and parameters: {'sequence_length': 20, 'hidden_size': 63, 'num_layers': 3, 'num_blocks': 5, 'dropout_rate': 0.28362916814689537, 'epochs': 523, 'lr': 0.001205840537095871}. Best is trial 14 with value: 0.7213114754098361.\n"
     ]
    },
    {
     "name": "stdout",
     "output_type": "stream",
     "text": [
      "Early stopping at epoch 18\n"
     ]
    },
    {
     "name": "stderr",
     "output_type": "stream",
     "text": [
      "[I 2024-09-12 10:23:07,797] Trial 58 finished with value: 0.6557377049180327 and parameters: {'sequence_length': 20, 'hidden_size': 110, 'num_layers': 3, 'num_blocks': 2, 'dropout_rate': 0.2503027483500671, 'epochs': 226, 'lr': 0.0007684376453043134}. Best is trial 14 with value: 0.7213114754098361.\n"
     ]
    },
    {
     "name": "stdout",
     "output_type": "stream",
     "text": [
      "Early stopping at epoch 10\n"
     ]
    },
    {
     "name": "stderr",
     "output_type": "stream",
     "text": [
      "[I 2024-09-12 10:23:08,177] Trial 59 finished with value: 0.5645161290322581 and parameters: {'sequence_length': 5, 'hidden_size': 98, 'num_layers': 2, 'num_blocks': 1, 'dropout_rate': 0.3191948490243942, 'epochs': 577, 'lr': 0.0014492123479999757}. Best is trial 14 with value: 0.7213114754098361.\n"
     ]
    },
    {
     "name": "stdout",
     "output_type": "stream",
     "text": [
      "Early stopping at epoch 13\n"
     ]
    },
    {
     "name": "stderr",
     "output_type": "stream",
     "text": [
      "[I 2024-09-12 10:23:08,854] Trial 60 finished with value: 0.6129032258064516 and parameters: {'sequence_length': 14, 'hidden_size': 118, 'num_layers': 3, 'num_blocks': 2, 'dropout_rate': 0.21401276777491782, 'epochs': 621, 'lr': 0.0008735883607187786}. Best is trial 14 with value: 0.7213114754098361.\n"
     ]
    },
    {
     "name": "stdout",
     "output_type": "stream",
     "text": [
      "Early stopping at epoch 16\n"
     ]
    },
    {
     "name": "stderr",
     "output_type": "stream",
     "text": [
      "[I 2024-09-12 10:23:09,384] Trial 61 finished with value: 0.6065573770491803 and parameters: {'sequence_length': 20, 'hidden_size': 111, 'num_layers': 3, 'num_blocks': 1, 'dropout_rate': 0.3604489772887074, 'epochs': 445, 'lr': 0.003264459637874938}. Best is trial 14 with value: 0.7213114754098361.\n"
     ]
    },
    {
     "name": "stdout",
     "output_type": "stream",
     "text": [
      "Early stopping at epoch 17\n"
     ]
    },
    {
     "name": "stderr",
     "output_type": "stream",
     "text": [
      "[I 2024-09-12 10:23:09,744] Trial 62 finished with value: 0.5737704918032787 and parameters: {'sequence_length': 20, 'hidden_size': 104, 'num_layers': 3, 'num_blocks': 1, 'dropout_rate': 0.3480505957737759, 'epochs': 395, 'lr': 0.0018358020035184788}. Best is trial 14 with value: 0.7213114754098361.\n"
     ]
    },
    {
     "name": "stdout",
     "output_type": "stream",
     "text": [
      "Early stopping at epoch 10\n"
     ]
    },
    {
     "name": "stderr",
     "output_type": "stream",
     "text": [
      "[I 2024-09-12 10:23:10,229] Trial 63 finished with value: 0.6557377049180327 and parameters: {'sequence_length': 20, 'hidden_size': 106, 'num_layers': 3, 'num_blocks': 1, 'dropout_rate': 0.4167944672404536, 'epochs': 482, 'lr': 0.0004226635298051031}. Best is trial 14 with value: 0.7213114754098361.\n"
     ]
    },
    {
     "name": "stdout",
     "output_type": "stream",
     "text": [
      "Early stopping at epoch 14\n"
     ]
    },
    {
     "name": "stderr",
     "output_type": "stream",
     "text": [
      "[I 2024-09-12 10:23:10,737] Trial 64 finished with value: 0.6557377049180327 and parameters: {'sequence_length': 20, 'hidden_size': 125, 'num_layers': 3, 'num_blocks': 1, 'dropout_rate': 0.3922384769578549, 'epochs': 294, 'lr': 0.0021548832045385075}. Best is trial 14 with value: 0.7213114754098361.\n"
     ]
    },
    {
     "name": "stdout",
     "output_type": "stream",
     "text": [
      "Early stopping at epoch 16\n"
     ]
    },
    {
     "name": "stderr",
     "output_type": "stream",
     "text": [
      "[I 2024-09-12 10:23:11,168] Trial 65 finished with value: 0.6229508196721312 and parameters: {'sequence_length': 20, 'hidden_size': 95, 'num_layers': 3, 'num_blocks': 1, 'dropout_rate': 0.3308113456473292, 'epochs': 535, 'lr': 0.0011243312822236937}. Best is trial 14 with value: 0.7213114754098361.\n"
     ]
    },
    {
     "name": "stdout",
     "output_type": "stream",
     "text": [
      "Early stopping at epoch 12\n"
     ]
    },
    {
     "name": "stderr",
     "output_type": "stream",
     "text": [
      "[I 2024-09-12 10:23:12,034] Trial 66 finished with value: 0.6557377049180327 and parameters: {'sequence_length': 20, 'hidden_size': 113, 'num_layers': 3, 'num_blocks': 1, 'dropout_rate': 0.3642164987492145, 'epochs': 420, 'lr': 0.003949597587637706}. Best is trial 14 with value: 0.7213114754098361.\n"
     ]
    },
    {
     "name": "stdout",
     "output_type": "stream",
     "text": [
      "Early stopping at epoch 29\n"
     ]
    },
    {
     "name": "stderr",
     "output_type": "stream",
     "text": [
      "[I 2024-09-12 10:23:12,615] Trial 67 finished with value: 0.6129032258064516 and parameters: {'sequence_length': 7, 'hidden_size': 120, 'num_layers': 3, 'num_blocks': 1, 'dropout_rate': 0.38199533788050677, 'epochs': 373, 'lr': 0.006165165533199701}. Best is trial 14 with value: 0.7213114754098361.\n"
     ]
    },
    {
     "name": "stdout",
     "output_type": "stream",
     "text": [
      "Early stopping at epoch 21\n"
     ]
    },
    {
     "name": "stderr",
     "output_type": "stream",
     "text": [
      "[I 2024-09-12 10:23:13,154] Trial 68 finished with value: 0.55 and parameters: {'sequence_length': 30, 'hidden_size': 101, 'num_layers': 3, 'num_blocks': 2, 'dropout_rate': 0.45393323328346413, 'epochs': 509, 'lr': 0.004902810421028365}. Best is trial 14 with value: 0.7213114754098361.\n"
     ]
    },
    {
     "name": "stdout",
     "output_type": "stream",
     "text": [
      "Early stopping at epoch 10\n"
     ]
    },
    {
     "name": "stderr",
     "output_type": "stream",
     "text": [
      "[I 2024-09-12 10:23:13,810] Trial 69 finished with value: 0.6721311475409836 and parameters: {'sequence_length': 20, 'hidden_size': 117, 'num_layers': 3, 'num_blocks': 1, 'dropout_rate': 0.30173418452363227, 'epochs': 883, 'lr': 0.0006173326976732891}. Best is trial 14 with value: 0.7213114754098361.\n"
     ]
    },
    {
     "name": "stdout",
     "output_type": "stream",
     "text": [
      "Early stopping at epoch 23\n"
     ]
    },
    {
     "name": "stderr",
     "output_type": "stream",
     "text": [
      "[I 2024-09-12 10:23:15,331] Trial 70 finished with value: 0.7377049180327869 and parameters: {'sequence_length': 20, 'hidden_size': 56, 'num_layers': 3, 'num_blocks': 4, 'dropout_rate': 0.4081804558137708, 'epochs': 453, 'lr': 0.002610923895882379}. Best is trial 70 with value: 0.7377049180327869.\n"
     ]
    },
    {
     "name": "stdout",
     "output_type": "stream",
     "text": [
      "Early stopping at epoch 29\n"
     ]
    },
    {
     "name": "stderr",
     "output_type": "stream",
     "text": [
      "[I 2024-09-12 10:23:16,203] Trial 71 finished with value: 0.5901639344262295 and parameters: {'sequence_length': 20, 'hidden_size': 51, 'num_layers': 3, 'num_blocks': 4, 'dropout_rate': 0.4277929346666087, 'epochs': 467, 'lr': 0.0026410585704998517}. Best is trial 70 with value: 0.7377049180327869.\n"
     ]
    },
    {
     "name": "stdout",
     "output_type": "stream",
     "text": [
      "Early stopping at epoch 14\n"
     ]
    },
    {
     "name": "stderr",
     "output_type": "stream",
     "text": [
      "[I 2024-09-12 10:23:17,045] Trial 72 finished with value: 0.5901639344262295 and parameters: {'sequence_length': 20, 'hidden_size': 37, 'num_layers': 3, 'num_blocks': 4, 'dropout_rate': 0.40395343669120076, 'epochs': 447, 'lr': 0.003277641094371883}. Best is trial 70 with value: 0.7377049180327869.\n"
     ]
    },
    {
     "name": "stdout",
     "output_type": "stream",
     "text": [
      "Early stopping at epoch 13\n"
     ]
    },
    {
     "name": "stderr",
     "output_type": "stream",
     "text": [
      "[I 2024-09-12 10:23:17,917] Trial 73 finished with value: 0.6229508196721312 and parameters: {'sequence_length': 20, 'hidden_size': 51, 'num_layers': 3, 'num_blocks': 5, 'dropout_rate': 0.38864479491901044, 'epochs': 427, 'lr': 0.0013979250836814526}. Best is trial 70 with value: 0.7377049180327869.\n"
     ]
    },
    {
     "name": "stdout",
     "output_type": "stream",
     "text": [
      "Early stopping at epoch 10\n"
     ]
    },
    {
     "name": "stderr",
     "output_type": "stream",
     "text": [
      "[I 2024-09-12 10:23:19,005] Trial 74 finished with value: 0.5901639344262295 and parameters: {'sequence_length': 20, 'hidden_size': 56, 'num_layers': 3, 'num_blocks': 5, 'dropout_rate': 0.47876859002230904, 'epochs': 600, 'lr': 0.0020249496044239803}. Best is trial 70 with value: 0.7377049180327869.\n"
     ]
    },
    {
     "name": "stdout",
     "output_type": "stream",
     "text": [
      "Early stopping at epoch 13\n"
     ]
    },
    {
     "name": "stderr",
     "output_type": "stream",
     "text": [
      "[I 2024-09-12 10:23:19,765] Trial 75 finished with value: 0.5901639344262295 and parameters: {'sequence_length': 20, 'hidden_size': 67, 'num_layers': 3, 'num_blocks': 3, 'dropout_rate': 0.41086430188005624, 'epochs': 379, 'lr': 0.0038101555441969175}. Best is trial 70 with value: 0.7377049180327869.\n"
     ]
    },
    {
     "name": "stdout",
     "output_type": "stream",
     "text": [
      "Early stopping at epoch 13\n"
     ]
    },
    {
     "name": "stderr",
     "output_type": "stream",
     "text": [
      "[I 2024-09-12 10:23:21,135] Trial 76 finished with value: 0.6229508196721312 and parameters: {'sequence_length': 20, 'hidden_size': 109, 'num_layers': 3, 'num_blocks': 4, 'dropout_rate': 0.3419702921666503, 'epochs': 319, 'lr': 0.007021995657244319}. Best is trial 70 with value: 0.7377049180327869.\n"
     ]
    },
    {
     "name": "stdout",
     "output_type": "stream",
     "text": [
      "Early stopping at epoch 19\n"
     ]
    },
    {
     "name": "stderr",
     "output_type": "stream",
     "text": [
      "[I 2024-09-12 10:23:21,816] Trial 77 finished with value: 0.5483870967741935 and parameters: {'sequence_length': 5, 'hidden_size': 57, 'num_layers': 3, 'num_blocks': 3, 'dropout_rate': 0.4291338645894841, 'epochs': 515, 'lr': 0.0029718422598167594}. Best is trial 70 with value: 0.7377049180327869.\n"
     ]
    },
    {
     "name": "stdout",
     "output_type": "stream",
     "text": [
      "Early stopping at epoch 14\n"
     ]
    },
    {
     "name": "stderr",
     "output_type": "stream",
     "text": [
      "[I 2024-09-12 10:23:22,434] Trial 78 finished with value: 0.6885245901639344 and parameters: {'sequence_length': 20, 'hidden_size': 127, 'num_layers': 3, 'num_blocks': 1, 'dropout_rate': 0.3696139307538136, 'epochs': 250, 'lr': 0.004428528042534531}. Best is trial 70 with value: 0.7377049180327869.\n"
     ]
    },
    {
     "name": "stdout",
     "output_type": "stream",
     "text": [
      "Early stopping at epoch 21\n"
     ]
    },
    {
     "name": "stderr",
     "output_type": "stream",
     "text": [
      "[I 2024-09-12 10:23:22,979] Trial 79 finished with value: 0.6229508196721312 and parameters: {'sequence_length': 20, 'hidden_size': 121, 'num_layers': 2, 'num_blocks': 1, 'dropout_rate': 0.16809767050078991, 'epochs': 254, 'lr': 0.005657602883952657}. Best is trial 70 with value: 0.7377049180327869.\n"
     ]
    },
    {
     "name": "stdout",
     "output_type": "stream",
     "text": [
      "Early stopping at epoch 20\n"
     ]
    },
    {
     "name": "stderr",
     "output_type": "stream",
     "text": [
      "[I 2024-09-12 10:23:23,477] Trial 80 finished with value: 0.5645161290322581 and parameters: {'sequence_length': 14, 'hidden_size': 128, 'num_layers': 3, 'num_blocks': 1, 'dropout_rate': 0.4455205809648452, 'epochs': 188, 'lr': 0.004477247422383565}. Best is trial 70 with value: 0.7377049180327869.\n"
     ]
    },
    {
     "name": "stdout",
     "output_type": "stream",
     "text": [
      "Early stopping at epoch 16\n"
     ]
    },
    {
     "name": "stderr",
     "output_type": "stream",
     "text": [
      "[I 2024-09-12 10:23:24,156] Trial 81 finished with value: 0.6229508196721312 and parameters: {'sequence_length': 20, 'hidden_size': 125, 'num_layers': 3, 'num_blocks': 1, 'dropout_rate': 0.37113487054088995, 'epochs': 497, 'lr': 0.0035585378107975494}. Best is trial 70 with value: 0.7377049180327869.\n"
     ]
    },
    {
     "name": "stdout",
     "output_type": "stream",
     "text": [
      "Early stopping at epoch 22\n"
     ]
    },
    {
     "name": "stderr",
     "output_type": "stream",
     "text": [
      "[I 2024-09-12 10:23:24,596] Trial 82 finished with value: 0.6229508196721312 and parameters: {'sequence_length': 20, 'hidden_size': 114, 'num_layers': 3, 'num_blocks': 1, 'dropout_rate': 0.38239805422579193, 'epochs': 552, 'lr': 0.004964025373261977}. Best is trial 70 with value: 0.7377049180327869.\n"
     ]
    },
    {
     "name": "stdout",
     "output_type": "stream",
     "text": [
      "Early stopping at epoch 13\n"
     ]
    },
    {
     "name": "stderr",
     "output_type": "stream",
     "text": [
      "[I 2024-09-12 10:23:25,078] Trial 83 finished with value: 0.6557377049180327 and parameters: {'sequence_length': 20, 'hidden_size': 90, 'num_layers': 3, 'num_blocks': 1, 'dropout_rate': 0.3970953512775997, 'epochs': 407, 'lr': 0.004290962735094722}. Best is trial 70 with value: 0.7377049180327869.\n"
     ]
    },
    {
     "name": "stdout",
     "output_type": "stream",
     "text": [
      "Early stopping at epoch 16\n"
     ]
    },
    {
     "name": "stderr",
     "output_type": "stream",
     "text": [
      "[I 2024-09-12 10:23:25,777] Trial 84 finished with value: 0.639344262295082 and parameters: {'sequence_length': 20, 'hidden_size': 82, 'num_layers': 3, 'num_blocks': 1, 'dropout_rate': 0.35406358827132994, 'epochs': 352, 'lr': 0.0016483362271522005}. Best is trial 70 with value: 0.7377049180327869.\n"
     ]
    },
    {
     "name": "stdout",
     "output_type": "stream",
     "text": [
      "Early stopping at epoch 25\n"
     ]
    },
    {
     "name": "stderr",
     "output_type": "stream",
     "text": [
      "[I 2024-09-12 10:23:26,189] Trial 85 finished with value: 0.5645161290322581 and parameters: {'sequence_length': 7, 'hidden_size': 123, 'num_layers': 3, 'num_blocks': 1, 'dropout_rate': 0.32644730952379164, 'epochs': 479, 'lr': 0.002802558659996133}. Best is trial 70 with value: 0.7377049180327869.\n"
     ]
    },
    {
     "name": "stdout",
     "output_type": "stream",
     "text": [
      "Early stopping at epoch 13\n"
     ]
    },
    {
     "name": "stderr",
     "output_type": "stream",
     "text": [
      "[I 2024-09-12 10:23:26,667] Trial 86 finished with value: 0.5333333333333333 and parameters: {'sequence_length': 30, 'hidden_size': 107, 'num_layers': 1, 'num_blocks': 2, 'dropout_rate': 0.3644587258254761, 'epochs': 445, 'lr': 1.8335580300169645e-05}. Best is trial 70 with value: 0.7377049180327869.\n"
     ]
    },
    {
     "name": "stdout",
     "output_type": "stream",
     "text": [
      "Early stopping at epoch 10\n"
     ]
    },
    {
     "name": "stderr",
     "output_type": "stream",
     "text": [
      "[I 2024-09-12 10:23:27,109] Trial 87 finished with value: 0.6229508196721312 and parameters: {'sequence_length': 20, 'hidden_size': 73, 'num_layers': 3, 'num_blocks': 1, 'dropout_rate': 0.4187365792262588, 'epochs': 242, 'lr': 0.002359795978745805}. Best is trial 70 with value: 0.7377049180327869.\n"
     ]
    },
    {
     "name": "stdout",
     "output_type": "stream",
     "text": [
      "Early stopping at epoch 13\n"
     ]
    },
    {
     "name": "stderr",
     "output_type": "stream",
     "text": [
      "[I 2024-09-12 10:23:27,753] Trial 88 finished with value: 0.6065573770491803 and parameters: {'sequence_length': 20, 'hidden_size': 94, 'num_layers': 3, 'num_blocks': 1, 'dropout_rate': 0.3042506269774193, 'epochs': 164, 'lr': 0.0031532482435486257}. Best is trial 70 with value: 0.7377049180327869.\n"
     ]
    },
    {
     "name": "stdout",
     "output_type": "stream",
     "text": [
      "Early stopping at epoch 20\n"
     ]
    },
    {
     "name": "stderr",
     "output_type": "stream",
     "text": [
      "[I 2024-09-12 10:23:28,502] Trial 89 finished with value: 0.6721311475409836 and parameters: {'sequence_length': 20, 'hidden_size': 103, 'num_layers': 3, 'num_blocks': 1, 'dropout_rate': 0.4070520377350133, 'epochs': 132, 'lr': 0.0052286223084968535}. Best is trial 70 with value: 0.7377049180327869.\n"
     ]
    },
    {
     "name": "stdout",
     "output_type": "stream",
     "text": [
      "Early stopping at epoch 23\n"
     ]
    },
    {
     "name": "stderr",
     "output_type": "stream",
     "text": [
      "[I 2024-09-12 10:23:29,319] Trial 90 finished with value: 0.5573770491803278 and parameters: {'sequence_length': 20, 'hidden_size': 128, 'num_layers': 3, 'num_blocks': 2, 'dropout_rate': 0.34349485568552657, 'epochs': 531, 'lr': 0.0004945935716926177}. Best is trial 70 with value: 0.7377049180327869.\n"
     ]
    },
    {
     "name": "stdout",
     "output_type": "stream",
     "text": [
      "Early stopping at epoch 16\n"
     ]
    },
    {
     "name": "stderr",
     "output_type": "stream",
     "text": [
      "[I 2024-09-12 10:23:29,727] Trial 91 finished with value: 0.6885245901639344 and parameters: {'sequence_length': 20, 'hidden_size': 97, 'num_layers': 3, 'num_blocks': 1, 'dropout_rate': 0.44503026620515374, 'epochs': 433, 'lr': 0.005607721785268635}. Best is trial 70 with value: 0.7377049180327869.\n"
     ]
    },
    {
     "name": "stdout",
     "output_type": "stream",
     "text": [
      "Early stopping at epoch 12\n"
     ]
    },
    {
     "name": "stderr",
     "output_type": "stream",
     "text": [
      "[I 2024-09-12 10:23:30,155] Trial 92 finished with value: 0.5737704918032787 and parameters: {'sequence_length': 20, 'hidden_size': 97, 'num_layers': 3, 'num_blocks': 1, 'dropout_rate': 0.37414285437016664, 'epochs': 460, 'lr': 0.005665816214763303}. Best is trial 70 with value: 0.7377049180327869.\n"
     ]
    },
    {
     "name": "stdout",
     "output_type": "stream",
     "text": [
      "Early stopping at epoch 13\n"
     ]
    },
    {
     "name": "stderr",
     "output_type": "stream",
     "text": [
      "[I 2024-09-12 10:23:30,548] Trial 93 finished with value: 0.639344262295082 and parameters: {'sequence_length': 20, 'hidden_size': 89, 'num_layers': 3, 'num_blocks': 1, 'dropout_rate': 0.46291909712250207, 'epochs': 392, 'lr': 0.0008019565182583077}. Best is trial 70 with value: 0.7377049180327869.\n"
     ]
    },
    {
     "name": "stdout",
     "output_type": "stream",
     "text": [
      "Early stopping at epoch 11\n"
     ]
    },
    {
     "name": "stderr",
     "output_type": "stream",
     "text": [
      "[I 2024-09-12 10:23:30,981] Trial 94 finished with value: 0.5901639344262295 and parameters: {'sequence_length': 20, 'hidden_size': 100, 'num_layers': 3, 'num_blocks': 1, 'dropout_rate': 0.44892996097914384, 'epochs': 493, 'lr': 0.00023257726165218606}. Best is trial 70 with value: 0.7377049180327869.\n"
     ]
    },
    {
     "name": "stdout",
     "output_type": "stream",
     "text": [
      "Early stopping at epoch 12\n"
     ]
    },
    {
     "name": "stderr",
     "output_type": "stream",
     "text": [
      "[I 2024-09-12 10:23:31,408] Trial 95 finished with value: 0.5737704918032787 and parameters: {'sequence_length': 20, 'hidden_size': 118, 'num_layers': 3, 'num_blocks': 1, 'dropout_rate': 0.3936611595951226, 'epochs': 431, 'lr': 0.004801807629918796}. Best is trial 70 with value: 0.7377049180327869.\n"
     ]
    },
    {
     "name": "stdout",
     "output_type": "stream",
     "text": [
      "Early stopping at epoch 12\n"
     ]
    },
    {
     "name": "stderr",
     "output_type": "stream",
     "text": [
      "[I 2024-09-12 10:23:32,040] Trial 96 finished with value: 0.6557377049180327 and parameters: {'sequence_length': 20, 'hidden_size': 107, 'num_layers': 3, 'num_blocks': 1, 'dropout_rate': 0.43452124776605816, 'epochs': 322, 'lr': 0.00649830650979472}. Best is trial 70 with value: 0.7377049180327869.\n"
     ]
    },
    {
     "name": "stdout",
     "output_type": "stream",
     "text": [
      "Early stopping at epoch 20\n"
     ]
    },
    {
     "name": "stderr",
     "output_type": "stream",
     "text": [
      "[I 2024-09-12 10:23:32,484] Trial 97 finished with value: 0.5645161290322581 and parameters: {'sequence_length': 5, 'hidden_size': 112, 'num_layers': 3, 'num_blocks': 1, 'dropout_rate': 0.4693685982341306, 'epochs': 295, 'lr': 0.003598083412294395}. Best is trial 70 with value: 0.7377049180327869.\n"
     ]
    },
    {
     "name": "stdout",
     "output_type": "stream",
     "text": [
      "Early stopping at epoch 15\n"
     ]
    },
    {
     "name": "stderr",
     "output_type": "stream",
     "text": [
      "[I 2024-09-12 10:23:33,011] Trial 98 finished with value: 0.6557377049180327 and parameters: {'sequence_length': 20, 'hidden_size': 122, 'num_layers': 3, 'num_blocks': 1, 'dropout_rate': 0.42271277682983555, 'epochs': 412, 'lr': 0.0009311965242426885}. Best is trial 70 with value: 0.7377049180327869.\n"
     ]
    },
    {
     "name": "stdout",
     "output_type": "stream",
     "text": [
      "Early stopping at epoch 14\n"
     ]
    },
    {
     "name": "stderr",
     "output_type": "stream",
     "text": [
      "[I 2024-09-12 10:23:33,509] Trial 99 finished with value: 0.532258064516129 and parameters: {'sequence_length': 14, 'hidden_size': 116, 'num_layers': 3, 'num_blocks': 1, 'dropout_rate': 0.266906549408893, 'epochs': 573, 'lr': 0.0012710640459118283}. Best is trial 70 with value: 0.7377049180327869.\n",
      "[I 2024-09-12 10:23:33,585] A new study created in memory with name: no-name-0503e6f9-f9ec-410c-8366-52f7fd59716f\n"
     ]
    },
    {
     "name": "stdout",
     "output_type": "stream",
     "text": [
      "Early stopping at epoch 15\n",
      "parameters for USDSGD=X saved to ../models/best-hyperparameters/pytorch/lstm-classification/USDSGD=X.json\n",
      "Best model for USDSGD=X saved with accuracy: 0.7377049180327869\n",
      "Deleted USDSGD=X from ../models/hyperparameters-search-models/ticker-all-models-best-hyperparameters-list.csv\n"
     ]
    },
    {
     "name": "stderr",
     "output_type": "stream",
     "text": [
      "[I 2024-09-12 10:23:35,248] Trial 0 finished with value: 0.1822747439146042 and parameters: {'sequence_length': 14, 'hidden_size': 110, 'num_layers': 2, 'num_blocks': 1, 'dropout_rate': 0.2932004089998316, 'epochs': 77, 'lr': 0.0023001845239519177}. Best is trial 0 with value: 0.1822747439146042.\n",
      "[I 2024-09-12 10:23:35,763] Trial 1 finished with value: 0.7973938584327698 and parameters: {'sequence_length': 14, 'hidden_size': 126, 'num_layers': 2, 'num_blocks': 1, 'dropout_rate': 0.10784207448666377, 'epochs': 62, 'lr': 0.007233137579732934}. Best is trial 0 with value: 0.1822747439146042.\n"
     ]
    },
    {
     "name": "stdout",
     "output_type": "stream",
     "text": [
      "Early stopping at epoch 21\n"
     ]
    },
    {
     "name": "stderr",
     "output_type": "stream",
     "text": [
      "[I 2024-09-12 10:23:37,187] Trial 2 finished with value: 0.2720217704772949 and parameters: {'sequence_length': 30, 'hidden_size': 109, 'num_layers': 2, 'num_blocks': 2, 'dropout_rate': 0.31727711022631355, 'epochs': 92, 'lr': 0.009706551334272395}. Best is trial 0 with value: 0.1822747439146042.\n"
     ]
    },
    {
     "name": "stdout",
     "output_type": "stream",
     "text": [
      "Early stopping at epoch 40\n"
     ]
    },
    {
     "name": "stderr",
     "output_type": "stream",
     "text": [
      "[I 2024-09-12 10:23:39,985] Trial 3 finished with value: 0.27222150564193726 and parameters: {'sequence_length': 7, 'hidden_size': 120, 'num_layers': 3, 'num_blocks': 4, 'dropout_rate': 0.40063082677025197, 'epochs': 56, 'lr': 0.006606048411045941}. Best is trial 0 with value: 0.1822747439146042.\n",
      "[I 2024-09-12 10:23:42,464] Trial 4 finished with value: 0.2852262258529663 and parameters: {'sequence_length': 5, 'hidden_size': 94, 'num_layers': 2, 'num_blocks': 5, 'dropout_rate': 0.2026098471728467, 'epochs': 82, 'lr': 0.003159092678315848}. Best is trial 0 with value: 0.1822747439146042.\n"
     ]
    },
    {
     "name": "stdout",
     "output_type": "stream",
     "text": [
      "Early stopping at epoch 45\n"
     ]
    },
    {
     "name": "stderr",
     "output_type": "stream",
     "text": [
      "[I 2024-09-12 10:23:43,362] Trial 5 finished with value: 0.41334736347198486 and parameters: {'sequence_length': 30, 'hidden_size': 116, 'num_layers': 1, 'num_blocks': 2, 'dropout_rate': 0.35880130867898286, 'epochs': 81, 'lr': 0.006474774496868619}. Best is trial 0 with value: 0.1822747439146042.\n"
     ]
    },
    {
     "name": "stdout",
     "output_type": "stream",
     "text": [
      "Early stopping at epoch 30\n"
     ]
    },
    {
     "name": "stderr",
     "output_type": "stream",
     "text": [
      "[I 2024-09-12 10:23:44,401] Trial 6 finished with value: 0.44739219546318054 and parameters: {'sequence_length': 20, 'hidden_size': 79, 'num_layers': 3, 'num_blocks': 4, 'dropout_rate': 0.44087182951085047, 'epochs': 50, 'lr': 0.0013460844600205251}. Best is trial 0 with value: 0.1822747439146042.\n"
     ]
    },
    {
     "name": "stdout",
     "output_type": "stream",
     "text": [
      "Early stopping at epoch 18\n"
     ]
    },
    {
     "name": "stderr",
     "output_type": "stream",
     "text": [
      "[I 2024-09-12 10:23:47,676] Trial 7 finished with value: 0.16889113187789917 and parameters: {'sequence_length': 5, 'hidden_size': 86, 'num_layers': 1, 'num_blocks': 4, 'dropout_rate': 0.4585454278417339, 'epochs': 88, 'lr': 0.006192698195749212}. Best is trial 7 with value: 0.16889113187789917.\n"
     ]
    },
    {
     "name": "stdout",
     "output_type": "stream",
     "text": [
      "Early stopping at epoch 87\n"
     ]
    },
    {
     "name": "stderr",
     "output_type": "stream",
     "text": [
      "[I 2024-09-12 10:23:51,227] Trial 8 finished with value: 0.16017764806747437 and parameters: {'sequence_length': 14, 'hidden_size': 35, 'num_layers': 3, 'num_blocks': 3, 'dropout_rate': 0.37686823741113795, 'epochs': 79, 'lr': 0.008931838062797322}. Best is trial 8 with value: 0.16017764806747437.\n",
      "[I 2024-09-12 10:23:52,047] Trial 9 finished with value: 0.5926281809806824 and parameters: {'sequence_length': 5, 'hidden_size': 106, 'num_layers': 1, 'num_blocks': 5, 'dropout_rate': 0.11688830029999707, 'epochs': 84, 'lr': 0.0010655892119237937}. Best is trial 8 with value: 0.16017764806747437.\n"
     ]
    },
    {
     "name": "stdout",
     "output_type": "stream",
     "text": [
      "Early stopping at epoch 16\n"
     ]
    },
    {
     "name": "stderr",
     "output_type": "stream",
     "text": [
      "[I 2024-09-12 10:23:52,810] Trial 10 finished with value: 0.9536236524581909 and parameters: {'sequence_length': 14, 'hidden_size': 31, 'num_layers': 3, 'num_blocks': 3, 'dropout_rate': 0.4994155258421752, 'epochs': 17, 'lr': 0.00999794995291179}. Best is trial 8 with value: 0.16017764806747437.\n",
      "[I 2024-09-12 10:23:53,449] Trial 11 finished with value: 1.0243242979049683 and parameters: {'sequence_length': 5, 'hidden_size': 43, 'num_layers': 1, 'num_blocks': 3, 'dropout_rate': 0.47393522297926016, 'epochs': 95, 'lr': 0.004718563785739835}. Best is trial 8 with value: 0.16017764806747437.\n"
     ]
    },
    {
     "name": "stdout",
     "output_type": "stream",
     "text": [
      "Early stopping at epoch 16\n"
     ]
    },
    {
     "name": "stderr",
     "output_type": "stream",
     "text": [
      "[I 2024-09-12 10:23:54,233] Trial 12 finished with value: 0.9158682227134705 and parameters: {'sequence_length': 20, 'hidden_size': 57, 'num_layers': 1, 'num_blocks': 4, 'dropout_rate': 0.40366269071307675, 'epochs': 67, 'lr': 0.00820600487659605}. Best is trial 8 with value: 0.16017764806747437.\n"
     ]
    },
    {
     "name": "stdout",
     "output_type": "stream",
     "text": [
      "Early stopping at epoch 16\n"
     ]
    },
    {
     "name": "stderr",
     "output_type": "stream",
     "text": [
      "[I 2024-09-12 10:23:56,058] Trial 13 finished with value: 0.46592894196510315 and parameters: {'sequence_length': 7, 'hidden_size': 21, 'num_layers': 3, 'num_blocks': 3, 'dropout_rate': 0.2737107271125875, 'epochs': 40, 'lr': 0.005559796674703638}. Best is trial 8 with value: 0.16017764806747437.\n"
     ]
    },
    {
     "name": "stdout",
     "output_type": "stream",
     "text": [
      "Early stopping at epoch 38\n"
     ]
    },
    {
     "name": "stderr",
     "output_type": "stream",
     "text": [
      "[I 2024-09-12 10:23:58,743] Trial 14 finished with value: 0.2761203944683075 and parameters: {'sequence_length': 14, 'hidden_size': 72, 'num_layers': 2, 'num_blocks': 4, 'dropout_rate': 0.3652444633233801, 'epochs': 100, 'lr': 0.008537539743985762}. Best is trial 8 with value: 0.16017764806747437.\n"
     ]
    },
    {
     "name": "stdout",
     "output_type": "stream",
     "text": [
      "Early stopping at epoch 52\n"
     ]
    },
    {
     "name": "stderr",
     "output_type": "stream",
     "text": [
      "[I 2024-09-12 10:23:59,519] Trial 15 finished with value: 1.0430927276611328 and parameters: {'sequence_length': 5, 'hidden_size': 59, 'num_layers': 3, 'num_blocks': 2, 'dropout_rate': 0.4365573962873246, 'epochs': 71, 'lr': 0.005003135840642487}. Best is trial 8 with value: 0.16017764806747437.\n"
     ]
    },
    {
     "name": "stdout",
     "output_type": "stream",
     "text": [
      "Early stopping at epoch 21\n"
     ]
    },
    {
     "name": "stderr",
     "output_type": "stream",
     "text": [
      "[I 2024-09-12 10:24:00,843] Trial 16 finished with value: 0.5536604523658752 and parameters: {'sequence_length': 14, 'hidden_size': 85, 'num_layers': 1, 'num_blocks': 5, 'dropout_rate': 0.21860405919606996, 'epochs': 33, 'lr': 0.0038305865118126664}. Best is trial 8 with value: 0.16017764806747437.\n"
     ]
    },
    {
     "name": "stdout",
     "output_type": "stream",
     "text": [
      "Early stopping at epoch 24\n"
     ]
    },
    {
     "name": "stderr",
     "output_type": "stream",
     "text": [
      "[I 2024-09-12 10:24:03,296] Trial 17 finished with value: 0.43289247155189514 and parameters: {'sequence_length': 5, 'hidden_size': 61, 'num_layers': 2, 'num_blocks': 4, 'dropout_rate': 0.34092187931419826, 'epochs': 88, 'lr': 0.008231552709574038}. Best is trial 8 with value: 0.16017764806747437.\n"
     ]
    },
    {
     "name": "stdout",
     "output_type": "stream",
     "text": [
      "Early stopping at epoch 51\n"
     ]
    },
    {
     "name": "stderr",
     "output_type": "stream",
     "text": [
      "[I 2024-09-12 10:24:04,915] Trial 18 finished with value: 0.3389003872871399 and parameters: {'sequence_length': 30, 'hidden_size': 43, 'num_layers': 2, 'num_blocks': 3, 'dropout_rate': 0.417079891262036, 'epochs': 73, 'lr': 0.007348186674717033}. Best is trial 8 with value: 0.16017764806747437.\n"
     ]
    },
    {
     "name": "stdout",
     "output_type": "stream",
     "text": [
      "Early stopping at epoch 38\n"
     ]
    },
    {
     "name": "stderr",
     "output_type": "stream",
     "text": [
      "[I 2024-09-12 10:24:06,027] Trial 19 finished with value: 0.6888633966445923 and parameters: {'sequence_length': 7, 'hidden_size': 20, 'num_layers': 3, 'num_blocks': 2, 'dropout_rate': 0.4666262311690875, 'epochs': 61, 'lr': 0.008933070221288386}. Best is trial 8 with value: 0.16017764806747437.\n"
     ]
    },
    {
     "name": "stdout",
     "output_type": "stream",
     "text": [
      "Early stopping at epoch 31\n"
     ]
    },
    {
     "name": "stderr",
     "output_type": "stream",
     "text": [
      "[I 2024-09-12 10:24:08,140] Trial 20 finished with value: 2.2518656253814697 and parameters: {'sequence_length': 20, 'hidden_size': 92, 'num_layers': 1, 'num_blocks': 4, 'dropout_rate': 0.2609664094338151, 'epochs': 49, 'lr': 4.41769881889759e-05}. Best is trial 8 with value: 0.16017764806747437.\n",
      "[I 2024-09-12 10:24:08,710] Trial 21 finished with value: 0.8248341679573059 and parameters: {'sequence_length': 14, 'hidden_size': 100, 'num_layers': 2, 'num_blocks': 1, 'dropout_rate': 0.2901015481978328, 'epochs': 76, 'lr': 0.002928064499659987}. Best is trial 8 with value: 0.16017764806747437.\n"
     ]
    },
    {
     "name": "stdout",
     "output_type": "stream",
     "text": [
      "Early stopping at epoch 21\n"
     ]
    },
    {
     "name": "stderr",
     "output_type": "stream",
     "text": [
      "[I 2024-09-12 10:24:09,363] Trial 22 finished with value: 0.3458602726459503 and parameters: {'sequence_length': 14, 'hidden_size': 74, 'num_layers': 1, 'num_blocks': 1, 'dropout_rate': 0.3868153429520678, 'epochs': 76, 'lr': 0.0026281153575528457}. Best is trial 8 with value: 0.16017764806747437.\n"
     ]
    },
    {
     "name": "stdout",
     "output_type": "stream",
     "text": [
      "Early stopping at epoch 31\n"
     ]
    },
    {
     "name": "stderr",
     "output_type": "stream",
     "text": [
      "[I 2024-09-12 10:24:10,007] Trial 23 finished with value: 2.1176095008850098 and parameters: {'sequence_length': 14, 'hidden_size': 89, 'num_layers': 2, 'num_blocks': 2, 'dropout_rate': 0.3243644900934675, 'epochs': 99, 'lr': 0.006072395347608026}. Best is trial 8 with value: 0.16017764806747437.\n"
     ]
    },
    {
     "name": "stdout",
     "output_type": "stream",
     "text": [
      "Early stopping at epoch 16\n"
     ]
    },
    {
     "name": "stderr",
     "output_type": "stream",
     "text": [
      "[I 2024-09-12 10:24:10,686] Trial 24 finished with value: 0.5028527975082397 and parameters: {'sequence_length': 14, 'hidden_size': 45, 'num_layers': 3, 'num_blocks': 1, 'dropout_rate': 0.22780044227512947, 'epochs': 89, 'lr': 0.003990548190760569}. Best is trial 8 with value: 0.16017764806747437.\n"
     ]
    },
    {
     "name": "stdout",
     "output_type": "stream",
     "text": [
      "Early stopping at epoch 27\n"
     ]
    },
    {
     "name": "stderr",
     "output_type": "stream",
     "text": [
      "[I 2024-09-12 10:24:13,026] Trial 25 finished with value: 0.2332341969013214 and parameters: {'sequence_length': 5, 'hidden_size': 103, 'num_layers': 2, 'num_blocks': 3, 'dropout_rate': 0.3656556978218951, 'epochs': 64, 'lr': 0.002210702561541861}. Best is trial 8 with value: 0.16017764806747437.\n"
     ]
    },
    {
     "name": "stdout",
     "output_type": "stream",
     "text": [
      "Early stopping at epoch 59\n"
     ]
    },
    {
     "name": "stderr",
     "output_type": "stream",
     "text": [
      "[I 2024-09-12 10:24:16,454] Trial 26 finished with value: 0.1810852438211441 and parameters: {'sequence_length': 14, 'hidden_size': 67, 'num_layers': 1, 'num_blocks': 5, 'dropout_rate': 0.18769602753093712, 'epochs': 80, 'lr': 0.007277297496880573}. Best is trial 8 with value: 0.16017764806747437.\n"
     ]
    },
    {
     "name": "stdout",
     "output_type": "stream",
     "text": [
      "Early stopping at epoch 70\n"
     ]
    },
    {
     "name": "stderr",
     "output_type": "stream",
     "text": [
      "[I 2024-09-12 10:24:20,685] Trial 27 finished with value: 0.13239754736423492 and parameters: {'sequence_length': 14, 'hidden_size': 67, 'num_layers': 1, 'num_blocks': 5, 'dropout_rate': 0.13748068554770027, 'epochs': 87, 'lr': 0.007263309967248363}. Best is trial 27 with value: 0.13239754736423492.\n",
      "[I 2024-09-12 10:24:21,726] Trial 28 finished with value: 1.1128140687942505 and parameters: {'sequence_length': 5, 'hidden_size': 49, 'num_layers': 1, 'num_blocks': 5, 'dropout_rate': 0.152560366162863, 'epochs': 88, 'lr': 0.008967904141430606}. Best is trial 27 with value: 0.13239754736423492.\n"
     ]
    },
    {
     "name": "stdout",
     "output_type": "stream",
     "text": [
      "Early stopping at epoch 20\n"
     ]
    },
    {
     "name": "stderr",
     "output_type": "stream",
     "text": [
      "[I 2024-09-12 10:24:22,570] Trial 29 finished with value: 0.5908064842224121 and parameters: {'sequence_length': 14, 'hidden_size': 33, 'num_layers': 1, 'num_blocks': 4, 'dropout_rate': 0.1654520645866324, 'epochs': 94, 'lr': 0.007826312184109731}. Best is trial 27 with value: 0.13239754736423492.\n"
     ]
    },
    {
     "name": "stdout",
     "output_type": "stream",
     "text": [
      "Early stopping at epoch 16\n"
     ]
    },
    {
     "name": "stderr",
     "output_type": "stream",
     "text": [
      "[I 2024-09-12 10:24:24,971] Trial 30 finished with value: 0.2902993857860565 and parameters: {'sequence_length': 7, 'hidden_size': 81, 'num_layers': 1, 'num_blocks': 5, 'dropout_rate': 0.443915075981227, 'epochs': 72, 'lr': 0.005914698837721324}. Best is trial 27 with value: 0.13239754736423492.\n"
     ]
    },
    {
     "name": "stdout",
     "output_type": "stream",
     "text": [
      "Early stopping at epoch 45\n"
     ]
    },
    {
     "name": "stderr",
     "output_type": "stream",
     "text": [
      "[I 2024-09-12 10:24:25,810] Trial 31 finished with value: 1.3888508081436157 and parameters: {'sequence_length': 14, 'hidden_size': 66, 'num_layers': 1, 'num_blocks': 5, 'dropout_rate': 0.15380794046469004, 'epochs': 81, 'lr': 0.007186237437135619}. Best is trial 27 with value: 0.13239754736423492.\n"
     ]
    },
    {
     "name": "stdout",
     "output_type": "stream",
     "text": [
      "Early stopping at epoch 16\n"
     ]
    },
    {
     "name": "stderr",
     "output_type": "stream",
     "text": [
      "[I 2024-09-12 10:24:26,845] Trial 32 finished with value: 1.865317940711975 and parameters: {'sequence_length': 14, 'hidden_size': 70, 'num_layers': 1, 'num_blocks': 5, 'dropout_rate': 0.12695905246620126, 'epochs': 85, 'lr': 0.006964394970387886}. Best is trial 27 with value: 0.13239754736423492.\n"
     ]
    },
    {
     "name": "stdout",
     "output_type": "stream",
     "text": [
      "Early stopping at epoch 20\n"
     ]
    },
    {
     "name": "stderr",
     "output_type": "stream",
     "text": [
      "[I 2024-09-12 10:24:28,603] Trial 33 finished with value: 0.3745669722557068 and parameters: {'sequence_length': 14, 'hidden_size': 52, 'num_layers': 1, 'num_blocks': 5, 'dropout_rate': 0.18475372354157593, 'epochs': 79, 'lr': 0.007733444302357888}. Best is trial 27 with value: 0.13239754736423492.\n"
     ]
    },
    {
     "name": "stdout",
     "output_type": "stream",
     "text": [
      "Early stopping at epoch 36\n"
     ]
    },
    {
     "name": "stderr",
     "output_type": "stream",
     "text": [
      "[I 2024-09-12 10:24:32,641] Trial 34 finished with value: 0.10062485933303833 and parameters: {'sequence_length': 14, 'hidden_size': 36, 'num_layers': 1, 'num_blocks': 4, 'dropout_rate': 0.23924539660943256, 'epochs': 93, 'lr': 0.009582110014596327}. Best is trial 34 with value: 0.10062485933303833.\n",
      "[I 2024-09-12 10:24:33,345] Trial 35 finished with value: 2.558462142944336 and parameters: {'sequence_length': 30, 'hidden_size': 33, 'num_layers': 1, 'num_blocks': 3, 'dropout_rate': 0.24545054748362152, 'epochs': 95, 'lr': 0.009370280735992267}. Best is trial 34 with value: 0.10062485933303833.\n"
     ]
    },
    {
     "name": "stdout",
     "output_type": "stream",
     "text": [
      "Early stopping at epoch 15\n"
     ]
    },
    {
     "name": "stderr",
     "output_type": "stream",
     "text": [
      "[I 2024-09-12 10:24:34,423] Trial 36 finished with value: 0.9242829084396362 and parameters: {'sequence_length': 14, 'hidden_size': 37, 'num_layers': 2, 'num_blocks': 4, 'dropout_rate': 0.31715380358428, 'epochs': 90, 'lr': 0.009375603912746777}. Best is trial 34 with value: 0.10062485933303833.\n"
     ]
    },
    {
     "name": "stdout",
     "output_type": "stream",
     "text": [
      "Early stopping at epoch 21\n"
     ]
    },
    {
     "name": "stderr",
     "output_type": "stream",
     "text": [
      "[I 2024-09-12 10:24:38,550] Trial 37 finished with value: 0.2479133903980255 and parameters: {'sequence_length': 20, 'hidden_size': 25, 'num_layers': 1, 'num_blocks': 4, 'dropout_rate': 0.1030325842949851, 'epochs': 100, 'lr': 0.008735852530825336}. Best is trial 34 with value: 0.10062485933303833.\n",
      "[I 2024-09-12 10:24:41,308] Trial 38 finished with value: 0.11838261783123016 and parameters: {'sequence_length': 30, 'hidden_size': 26, 'num_layers': 2, 'num_blocks': 3, 'dropout_rate': 0.29747898949311385, 'epochs': 85, 'lr': 0.009576289398491599}. Best is trial 34 with value: 0.10062485933303833.\n"
     ]
    },
    {
     "name": "stdout",
     "output_type": "stream",
     "text": [
      "Early stopping at epoch 67\n"
     ]
    },
    {
     "name": "stderr",
     "output_type": "stream",
     "text": [
      "[I 2024-09-12 10:24:42,830] Trial 39 finished with value: 0.390987366437912 and parameters: {'sequence_length': 30, 'hidden_size': 25, 'num_layers': 2, 'num_blocks': 3, 'dropout_rate': 0.24629355880269466, 'epochs': 56, 'lr': 0.009433802416812903}. Best is trial 34 with value: 0.10062485933303833.\n"
     ]
    },
    {
     "name": "stdout",
     "output_type": "stream",
     "text": [
      "Early stopping at epoch 33\n"
     ]
    },
    {
     "name": "stderr",
     "output_type": "stream",
     "text": [
      "[I 2024-09-12 10:24:43,295] Trial 40 finished with value: 0.9708229303359985 and parameters: {'sequence_length': 30, 'hidden_size': 17, 'num_layers': 3, 'num_blocks': 2, 'dropout_rate': 0.29560141311250326, 'epochs': 10, 'lr': 0.009813149909694448}. Best is trial 34 with value: 0.10062485933303833.\n",
      "[I 2024-09-12 10:24:44,655] Trial 41 finished with value: 0.37850871682167053 and parameters: {'sequence_length': 30, 'hidden_size': 39, 'num_layers': 1, 'num_blocks': 3, 'dropout_rate': 0.33306007435889556, 'epochs': 85, 'lr': 0.006388847378592652}. Best is trial 34 with value: 0.10062485933303833.\n"
     ]
    },
    {
     "name": "stdout",
     "output_type": "stream",
     "text": [
      "Early stopping at epoch 38\n"
     ]
    },
    {
     "name": "stderr",
     "output_type": "stream",
     "text": [
      "[I 2024-09-12 10:24:45,949] Trial 42 finished with value: 0.5069323778152466 and parameters: {'sequence_length': 30, 'hidden_size': 26, 'num_layers': 2, 'num_blocks': 3, 'dropout_rate': 0.38477464639764103, 'epochs': 93, 'lr': 0.008032796998461093}. Best is trial 34 with value: 0.10062485933303833.\n"
     ]
    },
    {
     "name": "stdout",
     "output_type": "stream",
     "text": [
      "Early stopping at epoch 29\n"
     ]
    },
    {
     "name": "stderr",
     "output_type": "stream",
     "text": [
      "[I 2024-09-12 10:24:47,010] Trial 43 finished with value: 1.327097773551941 and parameters: {'sequence_length': 5, 'hidden_size': 116, 'num_layers': 3, 'num_blocks': 4, 'dropout_rate': 0.2802591116555379, 'epochs': 85, 'lr': 0.009913309057507803}. Best is trial 34 with value: 0.10062485933303833.\n"
     ]
    },
    {
     "name": "stdout",
     "output_type": "stream",
     "text": [
      "Early stopping at epoch 16\n"
     ]
    },
    {
     "name": "stderr",
     "output_type": "stream",
     "text": [
      "[I 2024-09-12 10:24:48,058] Trial 44 finished with value: 0.6536978483200073 and parameters: {'sequence_length': 14, 'hidden_size': 29, 'num_layers': 1, 'num_blocks': 3, 'dropout_rate': 0.49011862621849756, 'epochs': 95, 'lr': 0.008494749381520986}. Best is trial 34 with value: 0.10062485933303833.\n"
     ]
    },
    {
     "name": "stdout",
     "output_type": "stream",
     "text": [
      "Early stopping at epoch 30\n"
     ]
    },
    {
     "name": "stderr",
     "output_type": "stream",
     "text": [
      "[I 2024-09-12 10:24:49,829] Trial 45 finished with value: 0.8154057264328003 and parameters: {'sequence_length': 7, 'hidden_size': 126, 'num_layers': 2, 'num_blocks': 4, 'dropout_rate': 0.3496815308642708, 'epochs': 91, 'lr': 0.009146588036244017}. Best is trial 34 with value: 0.10062485933303833.\n"
     ]
    },
    {
     "name": "stdout",
     "output_type": "stream",
     "text": [
      "Early stopping at epoch 36\n"
     ]
    },
    {
     "name": "stderr",
     "output_type": "stream",
     "text": [
      "[I 2024-09-12 10:24:50,726] Trial 46 finished with value: 2.458806037902832 and parameters: {'sequence_length': 5, 'hidden_size': 98, 'num_layers': 1, 'num_blocks': 4, 'dropout_rate': 0.31555933975149486, 'epochs': 69, 'lr': 0.007638184130022182}. Best is trial 34 with value: 0.10062485933303833.\n"
     ]
    },
    {
     "name": "stdout",
     "output_type": "stream",
     "text": [
      "Early stopping at epoch 21\n"
     ]
    },
    {
     "name": "stderr",
     "output_type": "stream",
     "text": [
      "[I 2024-09-12 10:24:52,053] Trial 47 finished with value: 0.6101009845733643 and parameters: {'sequence_length': 20, 'hidden_size': 54, 'num_layers': 3, 'num_blocks': 3, 'dropout_rate': 0.42210157279609567, 'epochs': 83, 'lr': 0.005311870007290409}. Best is trial 34 with value: 0.10062485933303833.\n"
     ]
    },
    {
     "name": "stdout",
     "output_type": "stream",
     "text": [
      "Early stopping at epoch 29\n"
     ]
    },
    {
     "name": "stderr",
     "output_type": "stream",
     "text": [
      "[I 2024-09-12 10:24:55,877] Trial 48 finished with value: 0.23820529878139496 and parameters: {'sequence_length': 30, 'hidden_size': 37, 'num_layers': 2, 'num_blocks': 4, 'dropout_rate': 0.45666418254177965, 'epochs': 76, 'lr': 0.008487240285962734}. Best is trial 34 with value: 0.10062485933303833.\n",
      "[I 2024-09-12 10:24:56,500] Trial 49 finished with value: 1.4571523666381836 and parameters: {'sequence_length': 14, 'hidden_size': 78, 'num_layers': 1, 'num_blocks': 3, 'dropout_rate': 0.13151820355028096, 'epochs': 32, 'lr': 0.006744268031575461}. Best is trial 34 with value: 0.10062485933303833.\n"
     ]
    },
    {
     "name": "stdout",
     "output_type": "stream",
     "text": [
      "Early stopping at epoch 16\n"
     ]
    },
    {
     "name": "stderr",
     "output_type": "stream",
     "text": [
      "[I 2024-09-12 10:24:57,485] Trial 50 finished with value: 1.683789610862732 and parameters: {'sequence_length': 5, 'hidden_size': 46, 'num_layers': 3, 'num_blocks': 2, 'dropout_rate': 0.38597582754154575, 'epochs': 98, 'lr': 0.0096249000548254}. Best is trial 34 with value: 0.10062485933303833.\n"
     ]
    },
    {
     "name": "stdout",
     "output_type": "stream",
     "text": [
      "Early stopping at epoch 29\n"
     ]
    },
    {
     "name": "stderr",
     "output_type": "stream",
     "text": [
      "[I 2024-09-12 10:24:58,673] Trial 51 finished with value: 0.826249361038208 and parameters: {'sequence_length': 14, 'hidden_size': 64, 'num_layers': 1, 'num_blocks': 5, 'dropout_rate': 0.19719053192856895, 'epochs': 79, 'lr': 0.007315370164458891}. Best is trial 34 with value: 0.10062485933303833.\n"
     ]
    },
    {
     "name": "stdout",
     "output_type": "stream",
     "text": [
      "Early stopping at epoch 23\n"
     ]
    },
    {
     "name": "stderr",
     "output_type": "stream",
     "text": [
      "[I 2024-09-12 10:25:02,882] Trial 52 finished with value: 0.11315745115280151 and parameters: {'sequence_length': 14, 'hidden_size': 85, 'num_layers': 1, 'num_blocks': 5, 'dropout_rate': 0.1778304580685056, 'epochs': 82, 'lr': 0.006360814491761432}. Best is trial 34 with value: 0.10062485933303833.\n",
      "[I 2024-09-12 10:25:04,125] Trial 53 finished with value: 0.5842586755752563 and parameters: {'sequence_length': 14, 'hidden_size': 84, 'num_layers': 1, 'num_blocks': 5, 'dropout_rate': 0.2146220476654702, 'epochs': 87, 'lr': 0.004719319728123488}. Best is trial 34 with value: 0.10062485933303833.\n"
     ]
    },
    {
     "name": "stdout",
     "output_type": "stream",
     "text": [
      "Early stopping at epoch 23\n"
     ]
    },
    {
     "name": "stderr",
     "output_type": "stream",
     "text": [
      "[I 2024-09-12 10:25:06,034] Trial 54 finished with value: 0.4132777750492096 and parameters: {'sequence_length': 14, 'hidden_size': 88, 'num_layers': 1, 'num_blocks': 5, 'dropout_rate': 0.1721915133735554, 'epochs': 74, 'lr': 0.006133712664354074}. Best is trial 34 with value: 0.10062485933303833.\n"
     ]
    },
    {
     "name": "stdout",
     "output_type": "stream",
     "text": [
      "Early stopping at epoch 37\n"
     ]
    },
    {
     "name": "stderr",
     "output_type": "stream",
     "text": [
      "[I 2024-09-12 10:25:06,887] Trial 55 finished with value: 1.703881025314331 and parameters: {'sequence_length': 14, 'hidden_size': 93, 'num_layers': 1, 'num_blocks': 4, 'dropout_rate': 0.2345316000545008, 'epochs': 92, 'lr': 0.005726849725038973}. Best is trial 34 with value: 0.10062485933303833.\n"
     ]
    },
    {
     "name": "stdout",
     "output_type": "stream",
     "text": [
      "Early stopping at epoch 16\n"
     ]
    },
    {
     "name": "stderr",
     "output_type": "stream",
     "text": [
      "[I 2024-09-12 10:25:07,739] Trial 56 finished with value: 1.1256815195083618 and parameters: {'sequence_length': 14, 'hidden_size': 76, 'num_layers': 1, 'num_blocks': 3, 'dropout_rate': 0.14550146064064087, 'epochs': 67, 'lr': 0.0066044437993970995}. Best is trial 34 with value: 0.10062485933303833.\n"
     ]
    },
    {
     "name": "stdout",
     "output_type": "stream",
     "text": [
      "Early stopping at epoch 21\n"
     ]
    },
    {
     "name": "stderr",
     "output_type": "stream",
     "text": [
      "[I 2024-09-12 10:25:12,388] Trial 57 finished with value: 0.10669396817684174 and parameters: {'sequence_length': 7, 'hidden_size': 16, 'num_layers': 2, 'num_blocks': 5, 'dropout_rate': 0.26168351452868605, 'epochs': 81, 'lr': 0.0053479916888573556}. Best is trial 34 with value: 0.10062485933303833.\n",
      "[I 2024-09-12 10:25:13,365] Trial 58 finished with value: 1.1726891994476318 and parameters: {'sequence_length': 7, 'hidden_size': 18, 'num_layers': 2, 'num_blocks': 5, 'dropout_rate': 0.2677014804847569, 'epochs': 81, 'lr': 0.004363080218865818}. Best is trial 34 with value: 0.10062485933303833.\n"
     ]
    },
    {
     "name": "stdout",
     "output_type": "stream",
     "text": [
      "Early stopping at epoch 16\n"
     ]
    },
    {
     "name": "stderr",
     "output_type": "stream",
     "text": [
      "[I 2024-09-12 10:25:14,468] Trial 59 finished with value: 0.8166490197181702 and parameters: {'sequence_length': 7, 'hidden_size': 22, 'num_layers': 2, 'num_blocks': 5, 'dropout_rate': 0.3061096261510652, 'epochs': 83, 'lr': 0.005373976790117006}. Best is trial 34 with value: 0.10062485933303833.\n"
     ]
    },
    {
     "name": "stdout",
     "output_type": "stream",
     "text": [
      "Early stopping at epoch 18\n"
     ]
    },
    {
     "name": "stderr",
     "output_type": "stream",
     "text": [
      "[I 2024-09-12 10:25:16,282] Trial 60 finished with value: 0.6119298934936523 and parameters: {'sequence_length': 7, 'hidden_size': 32, 'num_layers': 2, 'num_blocks': 5, 'dropout_rate': 0.2574484887758028, 'epochs': 60, 'lr': 0.00824162847636496}. Best is trial 34 with value: 0.10062485933303833.\n"
     ]
    },
    {
     "name": "stdout",
     "output_type": "stream",
     "text": [
      "Early stopping at epoch 29\n"
     ]
    },
    {
     "name": "stderr",
     "output_type": "stream",
     "text": [
      "[I 2024-09-12 10:25:18,051] Trial 61 finished with value: 0.7452813386917114 and parameters: {'sequence_length': 7, 'hidden_size': 29, 'num_layers': 2, 'num_blocks': 5, 'dropout_rate': 0.2812498928086883, 'epochs': 88, 'lr': 0.006203353871798687}. Best is trial 34 with value: 0.10062485933303833.\n"
     ]
    },
    {
     "name": "stdout",
     "output_type": "stream",
     "text": [
      "Early stopping at epoch 29\n"
     ]
    },
    {
     "name": "stderr",
     "output_type": "stream",
     "text": [
      "[I 2024-09-12 10:25:21,038] Trial 62 finished with value: 0.2822442352771759 and parameters: {'sequence_length': 5, 'hidden_size': 16, 'num_layers': 2, 'num_blocks': 5, 'dropout_rate': 0.2083692773611527, 'epochs': 78, 'lr': 0.00523721020599815}. Best is trial 34 with value: 0.10062485933303833.\n"
     ]
    },
    {
     "name": "stdout",
     "output_type": "stream",
     "text": [
      "Early stopping at epoch 56\n"
     ]
    },
    {
     "name": "stderr",
     "output_type": "stream",
     "text": [
      "[I 2024-09-12 10:25:22,061] Trial 63 finished with value: 0.9764713048934937 and parameters: {'sequence_length': 14, 'hidden_size': 83, 'num_layers': 1, 'num_blocks': 4, 'dropout_rate': 0.12016355774461326, 'epochs': 87, 'lr': 0.004931281217741571}. Best is trial 34 with value: 0.10062485933303833.\n"
     ]
    },
    {
     "name": "stdout",
     "output_type": "stream",
     "text": [
      "Early stopping at epoch 22\n"
     ]
    },
    {
     "name": "stderr",
     "output_type": "stream",
     "text": [
      "[I 2024-09-12 10:25:24,131] Trial 64 finished with value: 0.18782757222652435 and parameters: {'sequence_length': 20, 'hidden_size': 108, 'num_layers': 1, 'num_blocks': 4, 'dropout_rate': 0.22877949666050484, 'epochs': 96, 'lr': 0.00683970266706539}. Best is trial 34 with value: 0.10062485933303833.\n"
     ]
    },
    {
     "name": "stdout",
     "output_type": "stream",
     "text": [
      "Early stopping at epoch 47\n"
     ]
    },
    {
     "name": "stderr",
     "output_type": "stream",
     "text": [
      "[I 2024-09-12 10:25:27,055] Trial 65 finished with value: 0.11962183564901352 and parameters: {'sequence_length': 14, 'hidden_size': 41, 'num_layers': 1, 'num_blocks': 5, 'dropout_rate': 0.1388542343320332, 'epochs': 91, 'lr': 0.008942925245234285}. Best is trial 34 with value: 0.10062485933303833.\n"
     ]
    },
    {
     "name": "stdout",
     "output_type": "stream",
     "text": [
      "Early stopping at epoch 64\n"
     ]
    },
    {
     "name": "stderr",
     "output_type": "stream",
     "text": [
      "[I 2024-09-12 10:25:28,479] Trial 66 finished with value: 1.6729159355163574 and parameters: {'sequence_length': 14, 'hidden_size': 40, 'num_layers': 3, 'num_blocks': 5, 'dropout_rate': 0.16803811546515673, 'epochs': 91, 'lr': 0.008564755543967078}. Best is trial 34 with value: 0.10062485933303833.\n"
     ]
    },
    {
     "name": "stdout",
     "output_type": "stream",
     "text": [
      "Early stopping at epoch 21\n"
     ]
    },
    {
     "name": "stderr",
     "output_type": "stream",
     "text": [
      "[I 2024-09-12 10:25:30,284] Trial 67 finished with value: 0.4247286915779114 and parameters: {'sequence_length': 14, 'hidden_size': 24, 'num_layers': 1, 'num_blocks': 5, 'dropout_rate': 0.14488933212459804, 'epochs': 75, 'lr': 0.009055471824278136}. Best is trial 34 with value: 0.10062485933303833.\n"
     ]
    },
    {
     "name": "stdout",
     "output_type": "stream",
     "text": [
      "Early stopping at epoch 38\n"
     ]
    },
    {
     "name": "stderr",
     "output_type": "stream",
     "text": [
      "[I 2024-09-12 10:25:32,157] Trial 68 finished with value: 0.3793169856071472 and parameters: {'sequence_length': 14, 'hidden_size': 48, 'num_layers': 2, 'num_blocks': 5, 'dropout_rate': 0.1336147058311781, 'epochs': 45, 'lr': 0.00959797509062354}. Best is trial 34 with value: 0.10062485933303833.\n"
     ]
    },
    {
     "name": "stdout",
     "output_type": "stream",
     "text": [
      "Early stopping at epoch 33\n"
     ]
    },
    {
     "name": "stderr",
     "output_type": "stream",
     "text": [
      "[I 2024-09-12 10:25:33,272] Trial 69 finished with value: 0.4964127838611603 and parameters: {'sequence_length': 14, 'hidden_size': 36, 'num_layers': 1, 'num_blocks': 5, 'dropout_rate': 0.1143919658611352, 'epochs': 97, 'lr': 0.008889449079282836}. Best is trial 34 with value: 0.10062485933303833.\n"
     ]
    },
    {
     "name": "stdout",
     "output_type": "stream",
     "text": [
      "Early stopping at epoch 23\n"
     ]
    },
    {
     "name": "stderr",
     "output_type": "stream",
     "text": [
      "[I 2024-09-12 10:25:36,374] Trial 70 finished with value: 0.1384451985359192 and parameters: {'sequence_length': 30, 'hidden_size': 42, 'num_layers': 2, 'num_blocks': 5, 'dropout_rate': 0.1926241318836261, 'epochs': 69, 'lr': 0.00919025503757399}. Best is trial 34 with value: 0.10062485933303833.\n"
     ]
    },
    {
     "name": "stdout",
     "output_type": "stream",
     "text": [
      "Early stopping at epoch 52\n"
     ]
    },
    {
     "name": "stderr",
     "output_type": "stream",
     "text": [
      "[I 2024-09-12 10:25:37,785] Trial 71 finished with value: 0.9821855425834656 and parameters: {'sequence_length': 30, 'hidden_size': 42, 'num_layers': 2, 'num_blocks': 5, 'dropout_rate': 0.1831491780633399, 'epochs': 71, 'lr': 0.009243863893360706}. Best is trial 34 with value: 0.10062485933303833.\n"
     ]
    },
    {
     "name": "stdout",
     "output_type": "stream",
     "text": [
      "Early stopping at epoch 23\n"
     ]
    },
    {
     "name": "stderr",
     "output_type": "stream",
     "text": [
      "[I 2024-09-12 10:25:40,035] Trial 72 finished with value: 0.36758309602737427 and parameters: {'sequence_length': 30, 'hidden_size': 29, 'num_layers': 2, 'num_blocks': 5, 'dropout_rate': 0.19675641047587425, 'epochs': 82, 'lr': 0.00991451641144259}. Best is trial 34 with value: 0.10062485933303833.\n"
     ]
    },
    {
     "name": "stdout",
     "output_type": "stream",
     "text": [
      "Early stopping at epoch 38\n"
     ]
    },
    {
     "name": "stderr",
     "output_type": "stream",
     "text": [
      "[I 2024-09-12 10:25:42,884] Trial 73 finished with value: 0.33704882860183716 and parameters: {'sequence_length': 30, 'hidden_size': 21, 'num_layers': 2, 'num_blocks': 5, 'dropout_rate': 0.2538588185526749, 'epochs': 65, 'lr': 0.007980197494824039}. Best is trial 34 with value: 0.10062485933303833.\n"
     ]
    },
    {
     "name": "stdout",
     "output_type": "stream",
     "text": [
      "Early stopping at epoch 46\n"
     ]
    },
    {
     "name": "stderr",
     "output_type": "stream",
     "text": [
      "[I 2024-09-12 10:25:47,610] Trial 74 finished with value: 0.21686048805713654 and parameters: {'sequence_length': 30, 'hidden_size': 51, 'num_layers': 2, 'num_blocks': 5, 'dropout_rate': 0.17724582832344557, 'epochs': 85, 'lr': 0.008853074187161901}. Best is trial 34 with value: 0.10062485933303833.\n",
      "[I 2024-09-12 10:25:48,835] Trial 75 finished with value: 0.5828006267547607 and parameters: {'sequence_length': 14, 'hidden_size': 56, 'num_layers': 2, 'num_blocks': 5, 'dropout_rate': 0.15361088190856706, 'epochs': 78, 'lr': 0.00953398902476511}. Best is trial 34 with value: 0.10062485933303833.\n"
     ]
    },
    {
     "name": "stdout",
     "output_type": "stream",
     "text": [
      "Early stopping at epoch 22\n"
     ]
    },
    {
     "name": "stderr",
     "output_type": "stream",
     "text": [
      "[I 2024-09-12 10:25:49,687] Trial 76 finished with value: 1.1127163171768188 and parameters: {'sequence_length': 7, 'hidden_size': 35, 'num_layers': 2, 'num_blocks': 3, 'dropout_rate': 0.23736044157844546, 'epochs': 89, 'lr': 0.00838204789048688}. Best is trial 34 with value: 0.10062485933303833.\n"
     ]
    },
    {
     "name": "stdout",
     "output_type": "stream",
     "text": [
      "Early stopping at epoch 21\n"
     ]
    },
    {
     "name": "stderr",
     "output_type": "stream",
     "text": [
      "[I 2024-09-12 10:25:51,822] Trial 77 finished with value: 0.33128035068511963 and parameters: {'sequence_length': 30, 'hidden_size': 43, 'num_layers': 1, 'num_blocks': 5, 'dropout_rate': 0.2170959134833402, 'epochs': 86, 'lr': 0.009170613459246371}. Best is trial 34 with value: 0.10062485933303833.\n"
     ]
    },
    {
     "name": "stdout",
     "output_type": "stream",
     "text": [
      "Early stopping at epoch 43\n"
     ]
    },
    {
     "name": "stderr",
     "output_type": "stream",
     "text": [
      "[I 2024-09-12 10:25:52,924] Trial 78 finished with value: 0.4524480998516083 and parameters: {'sequence_length': 14, 'hidden_size': 27, 'num_layers': 2, 'num_blocks': 2, 'dropout_rate': 0.26842437939610647, 'epochs': 92, 'lr': 0.007696488883623526}. Best is trial 34 with value: 0.10062485933303833.\n"
     ]
    },
    {
     "name": "stdout",
     "output_type": "stream",
     "text": [
      "Early stopping at epoch 35\n"
     ]
    },
    {
     "name": "stderr",
     "output_type": "stream",
     "text": [
      "[I 2024-09-12 10:25:55,028] Trial 79 finished with value: 0.655142068862915 and parameters: {'sequence_length': 14, 'hidden_size': 59, 'num_layers': 3, 'num_blocks': 5, 'dropout_rate': 0.3033841622487646, 'epochs': 52, 'lr': 0.00876293642080207}. Best is trial 34 with value: 0.10062485933303833.\n"
     ]
    },
    {
     "name": "stdout",
     "output_type": "stream",
     "text": [
      "Early stopping at epoch 32\n"
     ]
    },
    {
     "name": "stderr",
     "output_type": "stream",
     "text": [
      "[I 2024-09-12 10:25:56,008] Trial 80 finished with value: 0.7760249972343445 and parameters: {'sequence_length': 30, 'hidden_size': 33, 'num_layers': 1, 'num_blocks': 3, 'dropout_rate': 0.1628304533756214, 'epochs': 82, 'lr': 0.00703236324009433}. Best is trial 34 with value: 0.10062485933303833.\n"
     ]
    },
    {
     "name": "stdout",
     "output_type": "stream",
     "text": [
      "Early stopping at epoch 28\n"
     ]
    },
    {
     "name": "stderr",
     "output_type": "stream",
     "text": [
      "[I 2024-09-12 10:25:57,013] Trial 81 finished with value: 1.0352623462677002 and parameters: {'sequence_length': 5, 'hidden_size': 97, 'num_layers': 1, 'num_blocks': 4, 'dropout_rate': 0.4034432730923493, 'epochs': 94, 'lr': 0.006408545389196018}. Best is trial 34 with value: 0.10062485933303833.\n"
     ]
    },
    {
     "name": "stdout",
     "output_type": "stream",
     "text": [
      "Early stopping at epoch 23\n"
     ]
    },
    {
     "name": "stderr",
     "output_type": "stream",
     "text": [
      "[I 2024-09-12 10:25:58,083] Trial 82 finished with value: 0.4042655825614929 and parameters: {'sequence_length': 5, 'hidden_size': 88, 'num_layers': 1, 'num_blocks': 3, 'dropout_rate': 0.2849254862563709, 'epochs': 90, 'lr': 0.005620454357885201}. Best is trial 34 with value: 0.10062485933303833.\n"
     ]
    },
    {
     "name": "stdout",
     "output_type": "stream",
     "text": [
      "Early stopping at epoch 29\n"
     ]
    },
    {
     "name": "stderr",
     "output_type": "stream",
     "text": [
      "[I 2024-09-12 10:25:59,981] Trial 83 finished with value: 0.4136306941509247 and parameters: {'sequence_length': 20, 'hidden_size': 40, 'num_layers': 1, 'num_blocks': 4, 'dropout_rate': 0.4205842736173542, 'epochs': 73, 'lr': 0.005855237540705068}. Best is trial 34 with value: 0.10062485933303833.\n"
     ]
    },
    {
     "name": "stdout",
     "output_type": "stream",
     "text": [
      "Early stopping at epoch 46\n"
     ]
    },
    {
     "name": "stderr",
     "output_type": "stream",
     "text": [
      "[I 2024-09-12 10:26:02,055] Trial 84 finished with value: 0.1291443258523941 and parameters: {'sequence_length': 14, 'hidden_size': 73, 'num_layers': 1, 'num_blocks': 3, 'dropout_rate': 0.48513718179214516, 'epochs': 84, 'lr': 0.009652184039754977}. Best is trial 34 with value: 0.10062485933303833.\n"
     ]
    },
    {
     "name": "stdout",
     "output_type": "stream",
     "text": [
      "Early stopping at epoch 60\n"
     ]
    },
    {
     "name": "stderr",
     "output_type": "stream",
     "text": [
      "[I 2024-09-12 10:26:02,890] Trial 85 finished with value: 1.3423829078674316 and parameters: {'sequence_length': 14, 'hidden_size': 62, 'num_layers': 1, 'num_blocks': 3, 'dropout_rate': 0.20311756324713584, 'epochs': 59, 'lr': 0.009958848521076067}. Best is trial 34 with value: 0.10062485933303833.\n"
     ]
    },
    {
     "name": "stdout",
     "output_type": "stream",
     "text": [
      "Early stopping at epoch 22\n"
     ]
    },
    {
     "name": "stderr",
     "output_type": "stream",
     "text": [
      "[I 2024-09-12 10:26:04,148] Trial 86 finished with value: 0.5064916014671326 and parameters: {'sequence_length': 14, 'hidden_size': 70, 'num_layers': 1, 'num_blocks': 3, 'dropout_rate': 0.14285238584075088, 'epochs': 80, 'lr': 0.009709328507234764}. Best is trial 34 with value: 0.10062485933303833.\n"
     ]
    },
    {
     "name": "stdout",
     "output_type": "stream",
     "text": [
      "Early stopping at epoch 34\n"
     ]
    },
    {
     "name": "stderr",
     "output_type": "stream",
     "text": [
      "[I 2024-09-12 10:26:05,471] Trial 87 finished with value: 0.6169303059577942 and parameters: {'sequence_length': 14, 'hidden_size': 75, 'num_layers': 1, 'num_blocks': 3, 'dropout_rate': 0.48063032443787174, 'epochs': 84, 'lr': 0.009399244996799765}. Best is trial 34 with value: 0.10062485933303833.\n"
     ]
    },
    {
     "name": "stdout",
     "output_type": "stream",
     "text": [
      "Early stopping at epoch 39\n"
     ]
    },
    {
     "name": "stderr",
     "output_type": "stream",
     "text": [
      "[I 2024-09-12 10:26:07,539] Trial 88 finished with value: 0.17538700997829437 and parameters: {'sequence_length': 14, 'hidden_size': 79, 'num_layers': 1, 'num_blocks': 3, 'dropout_rate': 0.32724175224411045, 'epochs': 77, 'lr': 0.008718409408215545}. Best is trial 34 with value: 0.10062485933303833.\n"
     ]
    },
    {
     "name": "stdout",
     "output_type": "stream",
     "text": [
      "Early stopping at epoch 59\n"
     ]
    },
    {
     "name": "stderr",
     "output_type": "stream",
     "text": [
      "[I 2024-09-12 10:26:08,987] Trial 89 finished with value: 1.080794095993042 and parameters: {'sequence_length': 14, 'hidden_size': 19, 'num_layers': 2, 'num_blocks': 5, 'dropout_rate': 0.10924809756506622, 'epochs': 69, 'lr': 0.009217829680418774}. Best is trial 34 with value: 0.10062485933303833.\n"
     ]
    },
    {
     "name": "stdout",
     "output_type": "stream",
     "text": [
      "Early stopping at epoch 23\n"
     ]
    },
    {
     "name": "stderr",
     "output_type": "stream",
     "text": [
      "[I 2024-09-12 10:26:09,796] Trial 90 finished with value: 0.5245015025138855 and parameters: {'sequence_length': 7, 'hidden_size': 45, 'num_layers': 1, 'num_blocks': 3, 'dropout_rate': 0.19272070876740277, 'epochs': 87, 'lr': 0.0037024353276925983}. Best is trial 34 with value: 0.10062485933303833.\n"
     ]
    },
    {
     "name": "stdout",
     "output_type": "stream",
     "text": [
      "Early stopping at epoch 21\n"
     ]
    },
    {
     "name": "stderr",
     "output_type": "stream",
     "text": [
      "[I 2024-09-12 10:26:11,233] Trial 91 finished with value: 0.3475664258003235 and parameters: {'sequence_length': 14, 'hidden_size': 81, 'num_layers': 1, 'num_blocks': 3, 'dropout_rate': 0.44907671462433696, 'epochs': 89, 'lr': 0.0074731895470051095}. Best is trial 34 with value: 0.10062485933303833.\n"
     ]
    },
    {
     "name": "stdout",
     "output_type": "stream",
     "text": [
      "Early stopping at epoch 40\n"
     ]
    },
    {
     "name": "stderr",
     "output_type": "stream",
     "text": [
      "[I 2024-09-12 10:26:12,909] Trial 92 finished with value: 0.24667032063007355 and parameters: {'sequence_length': 30, 'hidden_size': 23, 'num_layers': 1, 'num_blocks': 4, 'dropout_rate': 0.47342140380407466, 'epochs': 93, 'lr': 0.009712018084613982}. Best is trial 34 with value: 0.10062485933303833.\n"
     ]
    },
    {
     "name": "stdout",
     "output_type": "stream",
     "text": [
      "Early stopping at epoch 41\n"
     ]
    },
    {
     "name": "stderr",
     "output_type": "stream",
     "text": [
      "[I 2024-09-12 10:26:16,918] Trial 93 finished with value: 0.13732202351093292 and parameters: {'sequence_length': 5, 'hidden_size': 90, 'num_layers': 1, 'num_blocks': 5, 'dropout_rate': 0.4971993931056261, 'epochs': 84, 'lr': 0.00905568812158829}. Best is trial 34 with value: 0.10062485933303833.\n",
      "[I 2024-09-12 10:26:20,689] Trial 94 finished with value: 0.25154444575309753 and parameters: {'sequence_length': 14, 'hidden_size': 102, 'num_layers': 1, 'num_blocks': 5, 'dropout_rate': 0.4799678906433282, 'epochs': 80, 'lr': 0.00808961196755337}. Best is trial 34 with value: 0.10062485933303833.\n",
      "[I 2024-09-12 10:26:24,238] Trial 95 finished with value: 0.18937622010707855 and parameters: {'sequence_length': 5, 'hidden_size': 91, 'num_layers': 1, 'num_blocks': 5, 'dropout_rate': 0.43387467920861456, 'epochs': 83, 'lr': 0.008972650277912253}. Best is trial 34 with value: 0.10062485933303833.\n"
     ]
    },
    {
     "name": "stdout",
     "output_type": "stream",
     "text": [
      "Early stopping at epoch 78\n"
     ]
    },
    {
     "name": "stderr",
     "output_type": "stream",
     "text": [
      "[I 2024-09-12 10:26:25,389] Trial 96 finished with value: 1.0306652784347534 and parameters: {'sequence_length': 14, 'hidden_size': 96, 'num_layers': 1, 'num_blocks': 5, 'dropout_rate': 0.3741139664443408, 'epochs': 85, 'lr': 0.009408140383746136}. Best is trial 34 with value: 0.10062485933303833.\n"
     ]
    },
    {
     "name": "stdout",
     "output_type": "stream",
     "text": [
      "Early stopping at epoch 21\n"
     ]
    },
    {
     "name": "stderr",
     "output_type": "stream",
     "text": [
      "[I 2024-09-12 10:26:27,377] Trial 97 finished with value: 0.9110344648361206 and parameters: {'sequence_length': 7, 'hidden_size': 68, 'num_layers': 3, 'num_blocks': 5, 'dropout_rate': 0.49550941422466227, 'epochs': 75, 'lr': 0.008316552956588565}. Best is trial 34 with value: 0.10062485933303833.\n"
     ]
    },
    {
     "name": "stdout",
     "output_type": "stream",
     "text": [
      "Early stopping at epoch 32\n"
     ]
    },
    {
     "name": "stderr",
     "output_type": "stream",
     "text": [
      "[I 2024-09-12 10:26:28,685] Trial 98 finished with value: 0.27600589394569397 and parameters: {'sequence_length': 30, 'hidden_size': 34, 'num_layers': 1, 'num_blocks': 5, 'dropout_rate': 0.4600665510569343, 'epochs': 27, 'lr': 0.008542558335427705}. Best is trial 34 with value: 0.10062485933303833.\n",
      "[I 2024-09-12 10:26:33,845] Trial 99 finished with value: 0.14449404180049896 and parameters: {'sequence_length': 14, 'hidden_size': 30, 'num_layers': 2, 'num_blocks': 5, 'dropout_rate': 0.10015385046739314, 'epochs': 97, 'lr': 0.009033650709195741}. Best is trial 34 with value: 0.10062485933303833.\n"
     ]
    },
    {
     "name": "stdout",
     "output_type": "stream",
     "text": [
      "parameters for USDSGD=X saved to ../models/best-hyperparameters/pytorch/lstm-regression/USDSGD=X.json\n",
      "Best model for USDSGD=X saved with RMSE: 0.10062485933303833\n"
     ]
    }
   ],
   "source": [
    "for ticker_symbol in ticker_list:\n",
    "    dataframe = pd.read_csv(f\"../data/train/{ticker_symbol}.csv\")\n",
    "    X, y_classifier, y_regressor = training_preprocess_data(dataframe)\n",
    "    ticker_df = conv1d_classification_hyperparameters_search(X, y_classifier, gpu_available, ticker_symbol, True)\n",
    "    ticker_df = conv1d_regression_hyperparameters_search(X, y_regressor, gpu_available,ticker_symbol, True)\n",
    "    ticker_df = lstm_classification_hyperparameters_search(X, y_classifier, gpu_available, ticker_symbol, True)\n",
    "    ticker_df = lstm_regression_hyperparameters_search(X, y_regressor, gpu_available, ticker_symbol, True)\n",
    "    #process_transformer_classification(X, y_classifier, gpu_available)\n",
    "    #break"
   ]
  },
  {
   "cell_type": "code",
   "execution_count": null,
   "id": "0cf355ec-470c-41b8-a691-ec8ab9b6f12a",
   "metadata": {},
   "outputs": [],
   "source": []
  },
  {
   "cell_type": "code",
   "execution_count": null,
   "id": "ce4965a0-4648-407d-baa9-732b5aff53c0",
   "metadata": {},
   "outputs": [],
   "source": []
  },
  {
   "cell_type": "code",
   "execution_count": null,
   "id": "98279f90-f630-4d16-931f-e243deff7512",
   "metadata": {},
   "outputs": [],
   "source": []
  }
 ],
 "metadata": {
  "kernelspec": {
   "display_name": "Python 3 (ipykernel)",
   "language": "python",
   "name": "python3"
  },
  "language_info": {
   "codemirror_mode": {
    "name": "ipython",
    "version": 3
   },
   "file_extension": ".py",
   "mimetype": "text/x-python",
   "name": "python",
   "nbconvert_exporter": "python",
   "pygments_lexer": "ipython3",
   "version": "3.11.0"
  }
 },
 "nbformat": 4,
 "nbformat_minor": 5
}
